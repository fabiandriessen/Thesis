{
 "cells": [
  {
   "cell_type": "code",
   "execution_count": null,
   "metadata": {
    "collapsed": true,
    "pycharm": {
     "name": "#%%\n"
    }
   },
   "outputs": [],
   "source": [
    "import networkx as nx\n",
    "import pickle\n",
    "import matplotlib.pyplot as plt\n",
    "from sklearn import cluster\n",
    "import networkx as nx\n",
    "from collections import defaultdict\n",
    "import matplotlib.pyplot as plt\n",
    "from matplotlib import cm\n",
    "import seaborn as sns\n",
    "import pandas as pd\n",
    "import numpy as np\n",
    "from sklearn.metrics.cluster import normalized_mutual_info_score\n",
    "from sklearn.metrics.cluster import adjusted_rand_score"
   ]
  },
  {
   "cell_type": "code",
   "execution_count": null,
   "outputs": [],
   "source": [
    "## import network\n"
   ],
   "metadata": {
    "collapsed": false,
    "pycharm": {
     "name": "#%%\n"
    }
   }
  },
  {
   "cell_type": "code",
   "execution_count": null,
   "outputs": [],
   "source": [
    "df = graph_to_edge_matrix(G)\n",
    "df = pd.DataFrame.from_dict(df)\n",
    "df.set_index('nodes', inplace=True)\n",
    "pickle.dump(df, open( \"data/edge_matrix.p\", \"wb\" ) )\n",
    "\n",
    "edge_mat = df_matrix.to_numpy()"
   ],
   "metadata": {
    "collapsed": false,
    "pycharm": {
     "name": "#%%\n"
    }
   }
  },
  {
   "cell_type": "code",
   "execution_count": null,
   "outputs": [],
   "source": [
    "def graph_to_edge_matrix(G):\n",
    "    \"\"\"Convert a networkx graph into an edge matrix.\n",
    "    See https://www.wikiwand.com/en/Incidence_matrix for a good explanation on edge matrices\n",
    "\n",
    "    Parameters\n",
    "    ----------\n",
    "    G : networkx graph\n",
    "    \"\"\"\n",
    "    # Initialize edge matrix with zeros\n",
    "    graph_dict = dict()\n",
    "    graph_dict['nodes'] = G.nodes\n",
    "    for node in G.nodes:\n",
    "        graph_dict[node] = []\n",
    "\n",
    "    # Loop to set 0 or 1 (diagonal elements are set to 1)\n",
    "    for node_1 in graph_dict['nodes']:\n",
    "        for node_2 in graph_dict['nodes']:\n",
    "            if (node_2 in G.neighbors(node_1)) or (node_1 == node_2):\n",
    "                graph_dict[node_1].append(1)\n",
    "            else:\n",
    "                graph_dict[node_1].append(0)\n",
    "\n",
    "    return graph_dict"
   ],
   "metadata": {
    "collapsed": false,
    "pycharm": {
     "name": "#%%\n"
    }
   }
  },
  {
   "cell_type": "code",
   "execution_count": null,
   "outputs": [],
   "source": [
    "k_clusters = 1400\n",
    "results = []\n",
    "algorithms = {}\n",
    "\n",
    "algorithms['kmeans'] = cluster.KMeans(n_clusters=k_clusters, n_init=1)"
   ],
   "metadata": {
    "collapsed": false,
    "pycharm": {
     "name": "#%%\n"
    }
   }
  },
  {
   "cell_type": "code",
   "execution_count": null,
   "outputs": [],
   "source": [
    "# fit model\n",
    "for model in algorithms.values():\n",
    "    model.fit(edge_mat)\n",
    "    results.append(list(model.labels_))"
   ],
   "metadata": {
    "collapsed": false,
    "pycharm": {
     "name": "#%%\n"
    }
   }
  }
 ],
 "metadata": {
  "kernelspec": {
   "display_name": "Python 3",
   "language": "python",
   "name": "python3"
  },
  "language_info": {
   "codemirror_mode": {
    "name": "ipython",
    "version": 2
   },
   "file_extension": ".py",
   "mimetype": "text/x-python",
   "name": "python",
   "nbconvert_exporter": "python",
   "pygments_lexer": "ipython2",
   "version": "2.7.6"
  }
 },
 "nbformat": 4,
 "nbformat_minor": 0
}