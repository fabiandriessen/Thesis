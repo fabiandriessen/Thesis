{
 "cells": [
  {
   "cell_type": "code",
   "execution_count": 1,
   "metadata": {
    "pycharm": {
     "name": "#%%\n"
    }
   },
   "outputs": [],
   "source": [
    "import mesa\n",
    "import numpy as np\n",
    "import pandas as pd\n",
    "from geopandas import GeoDataFrame\n",
    "from shapely.geometry import Point\n",
    "import matplotlib.pyplot as plt\n",
    "import os\n",
    "import contextily as ctx\n",
    "from collections import deque\n",
    "\n",
    "import mesa\n",
    "from mesa import Agent, Model\n",
    "from mesa.time import RandomActivation, BaseScheduler\n",
    "from mesa.space import SingleGrid\n",
    "from mesa.datacollection import DataCollector\n",
    "\n",
    "import networkx as nx\n",
    "import re"
   ]
  },
  {
   "cell_type": "code",
   "execution_count": 2,
   "metadata": {
    "pycharm": {
     "name": "#%%\n"
    }
   },
   "outputs": [],
   "source": [
    "def intersections(road):\n",
    "    df = pd.read_csv('_roads3.csv')\n",
    "    lijst = df['road'].unique()\n",
    "\n",
    "    matchers = ['N']\n",
    "    matching = [s for s in lijst if any(xs in s for xs in matchers)]\n",
    "\n",
    "    df2 = df[df['name'].str.contains('|'.join(matching))].reset_index().drop('index', axis=1)\n",
    "    side = df2[df2['road'].str.contains('|'.join(matching))].reset_index().drop('index', axis=1)\n",
    "\n",
    "    side = side.rename(columns={'chainage':'km'})\n",
    "    side['model_type'] = 'intersection'\n",
    "\n",
    "    side['intersection'] = \"\"\n",
    "    side['length'] = 4\n",
    "    side = side[side.road == road].reset_index().drop(\"index\", axis=1)\n",
    "    n = 0\n",
    "\n",
    "    for i in side.name:\n",
    "        wordlist = re.sub(\"[^\\w]\", \" \",  i).split()\n",
    "        for j in matching:\n",
    "            if any(j in s for s in wordlist):\n",
    "                match = [s for s in wordlist if j in s]\n",
    "                if len(match) == 2:\n",
    "                    side.loc[n,'intersection'] = str(match[0] + ', ' + match[1])\n",
    "                elif len(match) == 3:\n",
    "                    side.loc[n,'intersection'] = str(match[0] + match[1] + match[2])\n",
    "                elif len(match)==1:\n",
    "                    side.loc[n,'intersection'] = match[0]\n",
    "        n += 1\n",
    "\n",
    "    side = side[['road','km','length','lat','lon','model_type','intersection',]]\n",
    "        \n",
    "    return side"
   ]
  },
  {
   "cell_type": "code",
   "execution_count": 3,
   "metadata": {
    "pycharm": {
     "name": "#%%\n"
    }
   },
   "outputs": [],
   "source": [
    "def model_structure(road):\n",
    "    df= pd.read_csv('CandV_Bridges.csv')\n",
    "    df['model_type'] = 'bridge'\n",
    "    side = intersections(road)\n",
    "    df = pd.concat([df,side])\n",
    "    df_road = df.loc[df.road==road,:].sort_values('km')\n",
    "    df_road = df_road[['km','length','condition','lat','lon','intersection','model_type']].reset_index().drop('index',axis=1)\n",
    "    \n",
    "    df2 = pd.read_csv('_roads3.csv')\n",
    "    df_start_end = df2.loc[df2.road==road,:]\n",
    "    df_start_end = df_start_end.iloc[[0, -1]].reset_index().drop('index', axis=1)\n",
    "    df_start_end = df_start_end.rename(columns={'chainage':'km'})\n",
    "    df_start_end = df_start_end[['km','lat','lon']]\n",
    "    df_start_end['id'] = 0\n",
    "    df_start_end['model_type'] = 0\n",
    "    df_start_end['length'] = 4\n",
    "    df_start_end.loc[0,'id'] = 10000\n",
    "    df_start_end.loc[0,'model_type'] = 'source'\n",
    "    \n",
    "    #make this so big that it will definetly end up at the end of the road, will be changed later\n",
    "    df_start_end.loc[1,'id'] = 100000000\n",
    "    df_start_end.loc[1,'model_type'] = 'sink'\n",
    "    \n",
    "    links = pd.DataFrame(columns=['km','length','condition','lat','lon','intersection'])\n",
    "    \n",
    "    for i in range(len(df_road)):\n",
    "        links = links.append(df_road.iloc[i,:])\n",
    "        if i == 0:\n",
    "            links.loc[i,'km'] = df_road.loc[i,'km']\n",
    "            links.loc[i,'lat'] = (df_road.loc[i,'lat'] + df_start_end.loc[0,'lat'])/2\n",
    "            links.loc[i,'lon'] = (df_road.loc[i,'lon'] + df_start_end.loc[0,'lon'])/2\n",
    "        elif i != 0:\n",
    "            links.loc[i,'km'] = df_road.loc[i,'km'] - df_road.loc[i-1,'km']\n",
    "            links.loc[i,'lat'] = (df_road.loc[i,'lat'] + df_road.loc[i-1,'lat'])/2\n",
    "            links.loc[i,'lon'] = (df_road.loc[i,'lon'] + df_road.loc[i-1,'lon'])/2\n",
    "        if i == len(df_road)-1 and len(df_road) > 1:\n",
    "            links = links.append(df_start_end.iloc[1,:]).reset_index().drop('index',axis=1)\n",
    "            links.loc[i+1,'km'] = df_start_end.loc[1,'km'] - df_road.loc[i-1,'km']\n",
    "            links.loc[i+1,'lat'] = (df_road.loc[i,'lat'] + df_start_end.loc[1,'lat'])/2\n",
    "            links.loc[i+1,'lon'] = (df_road.loc[i,'lon'] + df_start_end.loc[1,'lon'])/2\n",
    "        if i == len(df_road)-1 and len(df_road) <= 1:\n",
    "            links = links.append(df_start_end.iloc[1,:]).reset_index().drop('index',axis=1)\n",
    "            links.loc[i+1,'km'] = df_start_end.loc[1,'km'] - df_road.loc[0,'km']\n",
    "            links.loc[i+1,'lat'] = (df_road.loc[i,'lat'] + df_start_end.loc[1,'lat'])/2\n",
    "            links.loc[i+1,'lon'] = (df_road.loc[i,'lon'] + df_start_end.loc[1,'lon'])/2\n",
    "    \n",
    "    links['id'] = (links.index * 2) + 10001\n",
    "    links['length'] = links['km']*1000\n",
    "    links['model_type'] = 'link'\n",
    "    links['condition'] = 'NaN'\n",
    "    links = links.drop('km',axis=1)\n",
    "    df_road['id'] = (df_road.index * 2) + 10002\n",
    "    df_road = pd.concat([df_road,links,df_start_end]).sort_values(['id']).reset_index().drop(['km','index'],axis=1)\n",
    "    df_road.loc[len(df_road)-1,'id'] = 10000+len(df_road)-1\n",
    "    df_road['road'] = road\n",
    "    \n",
    "    \n",
    "    return df_road"
   ]
  },
  {
   "cell_type": "code",
   "execution_count": 189,
   "metadata": {
    "pycharm": {
     "name": "#%%\n"
    }
   },
   "outputs": [],
   "source": [
    "def combine(road):\n",
    "    df_road = model_structure(road)\n",
    "    main_road = intersections(road)\n",
    "    n = 10\n",
    "\n",
    "    for i in main_road.intersection:\n",
    "        if i != road:\n",
    "            a = model_structure(i)\n",
    "            df_road = pd.concat([df_road, a])\n",
    "\n",
    "    df_road = df_road.reset_index().drop('index',axis=1)\n",
    "    df_road['id'] = df_road.index + 10000\n",
    "\n",
    "    df_road.loc[df_road['model_type'] == 'link', 'intersection'] = 0\n",
    "\n",
    "    for i in range(len(df_road[df_road.road == road])):\n",
    "        if df_road.loc[i,'intersection'] in list(main_road.intersection):\n",
    "            if df_road.loc[i,'road'] == road:\n",
    "                intersect = df_road.loc[i,'intersection']\n",
    "                a = df_road[df_road.road == intersect]\n",
    "                b = a[a.intersection == road]\n",
    "                c = df_road.loc[i,:]\n",
    "                if len(b) > 0:\n",
    "                    q = list(b.index)[0]\n",
    "                    df_road.loc[q] = c\n",
    "                    df_road.loc[q,'road'] = intersect\n",
    "                    df_road.loc[q,'intersection'] = road\n",
    "                else:\n",
    "                    r = df_road[df_road.road == 'N104']\n",
    "                    s = list(r.index)\n",
    "                    r = r.reset_index()\n",
    "                    dist = {}\n",
    "                    for j in range(len(r)):\n",
    "                        if abs(r.loc[j,'lat'] - df_road.loc[i,'lat'] + r.loc[j,'lon'] - df_road.loc[i,'lon']) < n:\n",
    "                            n = abs(r.loc[j,'lat'] - df_road.loc[i,'lat'] + r.loc[j,'lon'] - df_road.loc[i,'lon'])\n",
    "                            m = j\n",
    "                    df_road.loc[s[m]] = c\n",
    "                    df_road.loc[s[m],'road'] = intersect\n",
    "                    df_road.loc[s[m],'intersection'] = road\n",
    "    return df_road"
   ]
  },
  {
   "cell_type": "code",
   "execution_count": 193,
   "metadata": {
    "pycharm": {
     "name": "#%%\n"
    }
   },
   "outputs": [],
   "source": [
    "df_road = combine('N1')\n",
    "df_road.to_csv('df_road.csv')"
   ]
  }
 ],
 "metadata": {
  "kernelspec": {
   "display_name": "Python 3",
   "language": "python",
   "name": "python3"
  },
  "language_info": {
   "codemirror_mode": {
    "name": "ipython",
    "version": 3
   },
   "file_extension": ".py",
   "mimetype": "text/x-python",
   "name": "python",
   "nbconvert_exporter": "python",
   "pygments_lexer": "ipython3",
   "version": "3.8.5"
  }
 },
 "nbformat": 4,
 "nbformat_minor": 4
}