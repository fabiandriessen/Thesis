{
 "cells": [
  {
   "cell_type": "code",
   "execution_count": 1,
   "metadata": {
    "pycharm": {
     "name": "#%%\n"
    }
   },
   "outputs": [],
   "source": [
    "import pandas as pd\n",
    "import pickle\n",
    "import numpy as np\n",
    "import networkx as nx\n",
    "import re\n",
    "import time"
   ]
  },
  {
   "cell_type": "code",
   "execution_count": 2,
   "outputs": [],
   "source": [
    "df_ivs = pickle.load(open('data/ivs_exploded_100.p', 'rb'))\n",
    "agent_data = pickle.load(open('data/agent_data.p', 'rb'))\n",
    "model_data = pickle.load(open('data/model_data.p', 'rb'))\n",
    "batch_data = pickle.load(open('data/batch_run_result.p', 'rb'))"
   ],
   "metadata": {
    "collapsed": false,
    "pycharm": {
     "name": "#%%\n"
    }
   }
  },
  {
   "cell_type": "code",
   "execution_count": 22,
   "outputs": [
    {
     "data": {
      "text/plain": "     origin destination  trip_count  hour  M12  M8  BII-6b  M10  BIIa-1  M9  \\\n0     NLRTM       NLAMS           0     0    0   0       0    0       0   0   \n1     NLRTM       NLAMS           0     1    0   0       0    0       0   0   \n2     NLRTM       NLAMS           0     2    0   0       0    0       0   0   \n3     NLRTM       NLAMS           1     3    0   0       0    0       0   0   \n4     NLRTM       NLAMS           6     4    0   0       0    0       0   0   \n...     ...         ...         ...   ...  ...  ..     ...  ...     ...  ..   \n3907  NLAMS       NLZWI           1    19    0   0       0    0       0   0   \n3908  NLAMS       NLZWI           0    20    0   0       0    0       0   0   \n3909  NLAMS       NLZWI           0    21    0   0       0    0       0   0   \n3910  NLAMS       NLZWI           1    22    0   0       0    0       0   0   \n3911  NLAMS       NLZWI           0    23    0   0       0    0       0   0   \n\n      ...  B04  M0  C2l  BII-2L  B02  C1b  C2b  B01  C1l  route_v  \n0     ...    0   0    0       0    0    0    0    0    0        0  \n1     ...    0   0    0       0    0    0    0    0    0        0  \n2     ...    0   0    0       0    0    0    0    0    0        0  \n3     ...    0   0    0       0    0    0    0    0    0        0  \n4     ...    2   0    0       0    0    0    0    0    0        0  \n...   ...  ...  ..  ...     ...  ...  ...  ...  ...  ...      ...  \n3907  ...    0   0    0       0    0    0    0    0    0        4  \n3908  ...    0   0    0       0    0    0    0    0    0        4  \n3909  ...    0   0    0       0    0    0    0    0    0        4  \n3910  ...    0   0    0       0    0    0    0    0    0        4  \n3911  ...    0   0    0       0    0    0    0    0    0        4  \n\n[3912 rows x 38 columns]",
      "text/html": "<div>\n<style scoped>\n    .dataframe tbody tr th:only-of-type {\n        vertical-align: middle;\n    }\n\n    .dataframe tbody tr th {\n        vertical-align: top;\n    }\n\n    .dataframe thead th {\n        text-align: right;\n    }\n</style>\n<table border=\"1\" class=\"dataframe\">\n  <thead>\n    <tr style=\"text-align: right;\">\n      <th></th>\n      <th>origin</th>\n      <th>destination</th>\n      <th>trip_count</th>\n      <th>hour</th>\n      <th>M12</th>\n      <th>M8</th>\n      <th>BII-6b</th>\n      <th>M10</th>\n      <th>BIIa-1</th>\n      <th>M9</th>\n      <th>...</th>\n      <th>B04</th>\n      <th>M0</th>\n      <th>C2l</th>\n      <th>BII-2L</th>\n      <th>B02</th>\n      <th>C1b</th>\n      <th>C2b</th>\n      <th>B01</th>\n      <th>C1l</th>\n      <th>route_v</th>\n    </tr>\n  </thead>\n  <tbody>\n    <tr>\n      <th>0</th>\n      <td>NLRTM</td>\n      <td>NLAMS</td>\n      <td>0</td>\n      <td>0</td>\n      <td>0</td>\n      <td>0</td>\n      <td>0</td>\n      <td>0</td>\n      <td>0</td>\n      <td>0</td>\n      <td>...</td>\n      <td>0</td>\n      <td>0</td>\n      <td>0</td>\n      <td>0</td>\n      <td>0</td>\n      <td>0</td>\n      <td>0</td>\n      <td>0</td>\n      <td>0</td>\n      <td>0</td>\n    </tr>\n    <tr>\n      <th>1</th>\n      <td>NLRTM</td>\n      <td>NLAMS</td>\n      <td>0</td>\n      <td>1</td>\n      <td>0</td>\n      <td>0</td>\n      <td>0</td>\n      <td>0</td>\n      <td>0</td>\n      <td>0</td>\n      <td>...</td>\n      <td>0</td>\n      <td>0</td>\n      <td>0</td>\n      <td>0</td>\n      <td>0</td>\n      <td>0</td>\n      <td>0</td>\n      <td>0</td>\n      <td>0</td>\n      <td>0</td>\n    </tr>\n    <tr>\n      <th>2</th>\n      <td>NLRTM</td>\n      <td>NLAMS</td>\n      <td>0</td>\n      <td>2</td>\n      <td>0</td>\n      <td>0</td>\n      <td>0</td>\n      <td>0</td>\n      <td>0</td>\n      <td>0</td>\n      <td>...</td>\n      <td>0</td>\n      <td>0</td>\n      <td>0</td>\n      <td>0</td>\n      <td>0</td>\n      <td>0</td>\n      <td>0</td>\n      <td>0</td>\n      <td>0</td>\n      <td>0</td>\n    </tr>\n    <tr>\n      <th>3</th>\n      <td>NLRTM</td>\n      <td>NLAMS</td>\n      <td>1</td>\n      <td>3</td>\n      <td>0</td>\n      <td>0</td>\n      <td>0</td>\n      <td>0</td>\n      <td>0</td>\n      <td>0</td>\n      <td>...</td>\n      <td>0</td>\n      <td>0</td>\n      <td>0</td>\n      <td>0</td>\n      <td>0</td>\n      <td>0</td>\n      <td>0</td>\n      <td>0</td>\n      <td>0</td>\n      <td>0</td>\n    </tr>\n    <tr>\n      <th>4</th>\n      <td>NLRTM</td>\n      <td>NLAMS</td>\n      <td>6</td>\n      <td>4</td>\n      <td>0</td>\n      <td>0</td>\n      <td>0</td>\n      <td>0</td>\n      <td>0</td>\n      <td>0</td>\n      <td>...</td>\n      <td>2</td>\n      <td>0</td>\n      <td>0</td>\n      <td>0</td>\n      <td>0</td>\n      <td>0</td>\n      <td>0</td>\n      <td>0</td>\n      <td>0</td>\n      <td>0</td>\n    </tr>\n    <tr>\n      <th>...</th>\n      <td>...</td>\n      <td>...</td>\n      <td>...</td>\n      <td>...</td>\n      <td>...</td>\n      <td>...</td>\n      <td>...</td>\n      <td>...</td>\n      <td>...</td>\n      <td>...</td>\n      <td>...</td>\n      <td>...</td>\n      <td>...</td>\n      <td>...</td>\n      <td>...</td>\n      <td>...</td>\n      <td>...</td>\n      <td>...</td>\n      <td>...</td>\n      <td>...</td>\n      <td>...</td>\n    </tr>\n    <tr>\n      <th>3907</th>\n      <td>NLAMS</td>\n      <td>NLZWI</td>\n      <td>1</td>\n      <td>19</td>\n      <td>0</td>\n      <td>0</td>\n      <td>0</td>\n      <td>0</td>\n      <td>0</td>\n      <td>0</td>\n      <td>...</td>\n      <td>0</td>\n      <td>0</td>\n      <td>0</td>\n      <td>0</td>\n      <td>0</td>\n      <td>0</td>\n      <td>0</td>\n      <td>0</td>\n      <td>0</td>\n      <td>4</td>\n    </tr>\n    <tr>\n      <th>3908</th>\n      <td>NLAMS</td>\n      <td>NLZWI</td>\n      <td>0</td>\n      <td>20</td>\n      <td>0</td>\n      <td>0</td>\n      <td>0</td>\n      <td>0</td>\n      <td>0</td>\n      <td>0</td>\n      <td>...</td>\n      <td>0</td>\n      <td>0</td>\n      <td>0</td>\n      <td>0</td>\n      <td>0</td>\n      <td>0</td>\n      <td>0</td>\n      <td>0</td>\n      <td>0</td>\n      <td>4</td>\n    </tr>\n    <tr>\n      <th>3909</th>\n      <td>NLAMS</td>\n      <td>NLZWI</td>\n      <td>0</td>\n      <td>21</td>\n      <td>0</td>\n      <td>0</td>\n      <td>0</td>\n      <td>0</td>\n      <td>0</td>\n      <td>0</td>\n      <td>...</td>\n      <td>0</td>\n      <td>0</td>\n      <td>0</td>\n      <td>0</td>\n      <td>0</td>\n      <td>0</td>\n      <td>0</td>\n      <td>0</td>\n      <td>0</td>\n      <td>4</td>\n    </tr>\n    <tr>\n      <th>3910</th>\n      <td>NLAMS</td>\n      <td>NLZWI</td>\n      <td>1</td>\n      <td>22</td>\n      <td>0</td>\n      <td>0</td>\n      <td>0</td>\n      <td>0</td>\n      <td>0</td>\n      <td>0</td>\n      <td>...</td>\n      <td>0</td>\n      <td>0</td>\n      <td>0</td>\n      <td>0</td>\n      <td>0</td>\n      <td>0</td>\n      <td>0</td>\n      <td>0</td>\n      <td>0</td>\n      <td>4</td>\n    </tr>\n    <tr>\n      <th>3911</th>\n      <td>NLAMS</td>\n      <td>NLZWI</td>\n      <td>0</td>\n      <td>23</td>\n      <td>0</td>\n      <td>0</td>\n      <td>0</td>\n      <td>0</td>\n      <td>0</td>\n      <td>0</td>\n      <td>...</td>\n      <td>0</td>\n      <td>0</td>\n      <td>0</td>\n      <td>0</td>\n      <td>0</td>\n      <td>0</td>\n      <td>0</td>\n      <td>0</td>\n      <td>0</td>\n      <td>4</td>\n    </tr>\n  </tbody>\n</table>\n<p>3912 rows × 38 columns</p>\n</div>"
     },
     "execution_count": 22,
     "metadata": {},
     "output_type": "execute_result"
    }
   ],
   "source": [
    "df_ivs"
   ],
   "metadata": {
    "collapsed": false,
    "pycharm": {
     "name": "#%%\n"
    }
   }
  },
  {
   "cell_type": "markdown",
   "source": [
    "## Functions to process data single run"
   ],
   "metadata": {
    "collapsed": false,
    "pycharm": {
     "name": "#%% md\n"
    }
   }
  },
  {
   "cell_type": "code",
   "execution_count": 3,
   "outputs": [],
   "source": [
    "def process_cs_data(df_cs=agent_data):\n",
    "    df_cs = df_cs.reset_index()\n",
    "    df_cs = df_cs.loc[df_cs.Step == (8*24*60)]\n",
    "    df_cs = df_cs.dropna(subset=['charging_stations'])\n",
    "    return df_cs\n",
    "\n",
    "def process_vessel_data(df_vessel=model_data):\n",
    "    df_vessel = pd.DataFrame(df_vessel.iloc[(60*24*8)]['data_completed_trips'])\n",
    "    df_vessel = df_vessel.loc[df_vessel.time_departed > (60*24)]\n",
    "    return df_vessel"
   ],
   "metadata": {
    "collapsed": false,
    "pycharm": {
     "name": "#%%\n"
    }
   }
  },
  {
   "cell_type": "code",
   "execution_count": 4,
   "outputs": [],
   "source": [
    "df_charging_stations_single_run = process_cs_data()"
   ],
   "metadata": {
    "collapsed": false,
    "pycharm": {
     "name": "#%%\n"
    }
   }
  },
  {
   "cell_type": "code",
   "execution_count": 5,
   "outputs": [
    {
     "data": {
      "text/plain": "          Step   AgentID  occupation  max_occupation  avg_line  max_line  \\\n2632219  11520   8866889    0.083929             1.0  0.013095       1.0   \n2632220  11520  30984595    0.397718             2.0  0.007242       1.0   \n2632223  11520   8863818    0.308433             2.0  0.000397       1.0   \n2632225  11520   8864005    0.313095             2.0  0.000198       1.0   \n2632232  11520   8862663    0.344147             2.0  0.001488       1.0   \n2632235  11520   8866775    0.062500             1.0  0.000000       0.0   \n2632244  11520   8864566    0.055952             1.0  0.000000       0.0   \n2632246  11520   8865003    0.342857             2.0  0.003869       1.0   \n2632247  11520   8867240    0.093155             1.0  0.000000       0.0   \n2632251  11520   8863709    0.025298             1.0  0.000000       0.0   \n2632254  11520  22638146    0.042659             1.0  0.000000       0.0   \n2632262  11520   8863306    0.225595             2.0  0.004762       1.0   \n2632266  11520   8866686    0.274504             2.0  0.000794       1.0   \n2632277  11520   8863360    0.137897             1.0  0.012897       1.0   \n2632280  11520   8867538    0.265873             2.0  0.017956       2.0   \n2632290  11520   8866893    0.225198             1.0  0.009325       1.0   \n2632296  11520   8865412    0.012103             1.0  0.000000       0.0   \n2632300  11520   8866763    0.352381             2.0  0.012798       3.0   \n2632301  11520  22638327    0.139385             1.0  0.027976       2.0   \n2632302  11520   8863019    0.057738             1.0  0.000000       0.0   \n2632303  11520   8862801    0.087401             1.0  0.007143       1.0   \n2632304  11520   8863469    0.056548             1.0  0.002083       1.0   \n2632315  11520   8864837    0.396032             2.0  0.014683       2.0   \n2632316  11520       104    0.497817             2.0  0.023710       1.0   \n2632317  11520       107    0.241865             2.0  0.002579       1.0   \n2632319  11520       113    0.226587             2.0  0.000000       0.0   \n2632320  11520       122    0.092956             1.0  0.009524       1.0   \n\n         charging_stations  \n2632219                1.0  \n2632220                2.0  \n2632223                2.0  \n2632225                2.0  \n2632232                2.0  \n2632235                1.0  \n2632244                1.0  \n2632246                2.0  \n2632247                1.0  \n2632251                1.0  \n2632254                1.0  \n2632262                2.0  \n2632266                2.0  \n2632277                1.0  \n2632280                2.0  \n2632290                1.0  \n2632296                1.0  \n2632300                2.0  \n2632301                1.0  \n2632302                1.0  \n2632303                1.0  \n2632304                1.0  \n2632315                2.0  \n2632316                2.0  \n2632317                2.0  \n2632319                2.0  \n2632320                1.0  ",
      "text/html": "<div>\n<style scoped>\n    .dataframe tbody tr th:only-of-type {\n        vertical-align: middle;\n    }\n\n    .dataframe tbody tr th {\n        vertical-align: top;\n    }\n\n    .dataframe thead th {\n        text-align: right;\n    }\n</style>\n<table border=\"1\" class=\"dataframe\">\n  <thead>\n    <tr style=\"text-align: right;\">\n      <th></th>\n      <th>Step</th>\n      <th>AgentID</th>\n      <th>occupation</th>\n      <th>max_occupation</th>\n      <th>avg_line</th>\n      <th>max_line</th>\n      <th>charging_stations</th>\n    </tr>\n  </thead>\n  <tbody>\n    <tr>\n      <th>2632219</th>\n      <td>11520</td>\n      <td>8866889</td>\n      <td>0.083929</td>\n      <td>1.0</td>\n      <td>0.013095</td>\n      <td>1.0</td>\n      <td>1.0</td>\n    </tr>\n    <tr>\n      <th>2632220</th>\n      <td>11520</td>\n      <td>30984595</td>\n      <td>0.397718</td>\n      <td>2.0</td>\n      <td>0.007242</td>\n      <td>1.0</td>\n      <td>2.0</td>\n    </tr>\n    <tr>\n      <th>2632223</th>\n      <td>11520</td>\n      <td>8863818</td>\n      <td>0.308433</td>\n      <td>2.0</td>\n      <td>0.000397</td>\n      <td>1.0</td>\n      <td>2.0</td>\n    </tr>\n    <tr>\n      <th>2632225</th>\n      <td>11520</td>\n      <td>8864005</td>\n      <td>0.313095</td>\n      <td>2.0</td>\n      <td>0.000198</td>\n      <td>1.0</td>\n      <td>2.0</td>\n    </tr>\n    <tr>\n      <th>2632232</th>\n      <td>11520</td>\n      <td>8862663</td>\n      <td>0.344147</td>\n      <td>2.0</td>\n      <td>0.001488</td>\n      <td>1.0</td>\n      <td>2.0</td>\n    </tr>\n    <tr>\n      <th>2632235</th>\n      <td>11520</td>\n      <td>8866775</td>\n      <td>0.062500</td>\n      <td>1.0</td>\n      <td>0.000000</td>\n      <td>0.0</td>\n      <td>1.0</td>\n    </tr>\n    <tr>\n      <th>2632244</th>\n      <td>11520</td>\n      <td>8864566</td>\n      <td>0.055952</td>\n      <td>1.0</td>\n      <td>0.000000</td>\n      <td>0.0</td>\n      <td>1.0</td>\n    </tr>\n    <tr>\n      <th>2632246</th>\n      <td>11520</td>\n      <td>8865003</td>\n      <td>0.342857</td>\n      <td>2.0</td>\n      <td>0.003869</td>\n      <td>1.0</td>\n      <td>2.0</td>\n    </tr>\n    <tr>\n      <th>2632247</th>\n      <td>11520</td>\n      <td>8867240</td>\n      <td>0.093155</td>\n      <td>1.0</td>\n      <td>0.000000</td>\n      <td>0.0</td>\n      <td>1.0</td>\n    </tr>\n    <tr>\n      <th>2632251</th>\n      <td>11520</td>\n      <td>8863709</td>\n      <td>0.025298</td>\n      <td>1.0</td>\n      <td>0.000000</td>\n      <td>0.0</td>\n      <td>1.0</td>\n    </tr>\n    <tr>\n      <th>2632254</th>\n      <td>11520</td>\n      <td>22638146</td>\n      <td>0.042659</td>\n      <td>1.0</td>\n      <td>0.000000</td>\n      <td>0.0</td>\n      <td>1.0</td>\n    </tr>\n    <tr>\n      <th>2632262</th>\n      <td>11520</td>\n      <td>8863306</td>\n      <td>0.225595</td>\n      <td>2.0</td>\n      <td>0.004762</td>\n      <td>1.0</td>\n      <td>2.0</td>\n    </tr>\n    <tr>\n      <th>2632266</th>\n      <td>11520</td>\n      <td>8866686</td>\n      <td>0.274504</td>\n      <td>2.0</td>\n      <td>0.000794</td>\n      <td>1.0</td>\n      <td>2.0</td>\n    </tr>\n    <tr>\n      <th>2632277</th>\n      <td>11520</td>\n      <td>8863360</td>\n      <td>0.137897</td>\n      <td>1.0</td>\n      <td>0.012897</td>\n      <td>1.0</td>\n      <td>1.0</td>\n    </tr>\n    <tr>\n      <th>2632280</th>\n      <td>11520</td>\n      <td>8867538</td>\n      <td>0.265873</td>\n      <td>2.0</td>\n      <td>0.017956</td>\n      <td>2.0</td>\n      <td>2.0</td>\n    </tr>\n    <tr>\n      <th>2632290</th>\n      <td>11520</td>\n      <td>8866893</td>\n      <td>0.225198</td>\n      <td>1.0</td>\n      <td>0.009325</td>\n      <td>1.0</td>\n      <td>1.0</td>\n    </tr>\n    <tr>\n      <th>2632296</th>\n      <td>11520</td>\n      <td>8865412</td>\n      <td>0.012103</td>\n      <td>1.0</td>\n      <td>0.000000</td>\n      <td>0.0</td>\n      <td>1.0</td>\n    </tr>\n    <tr>\n      <th>2632300</th>\n      <td>11520</td>\n      <td>8866763</td>\n      <td>0.352381</td>\n      <td>2.0</td>\n      <td>0.012798</td>\n      <td>3.0</td>\n      <td>2.0</td>\n    </tr>\n    <tr>\n      <th>2632301</th>\n      <td>11520</td>\n      <td>22638327</td>\n      <td>0.139385</td>\n      <td>1.0</td>\n      <td>0.027976</td>\n      <td>2.0</td>\n      <td>1.0</td>\n    </tr>\n    <tr>\n      <th>2632302</th>\n      <td>11520</td>\n      <td>8863019</td>\n      <td>0.057738</td>\n      <td>1.0</td>\n      <td>0.000000</td>\n      <td>0.0</td>\n      <td>1.0</td>\n    </tr>\n    <tr>\n      <th>2632303</th>\n      <td>11520</td>\n      <td>8862801</td>\n      <td>0.087401</td>\n      <td>1.0</td>\n      <td>0.007143</td>\n      <td>1.0</td>\n      <td>1.0</td>\n    </tr>\n    <tr>\n      <th>2632304</th>\n      <td>11520</td>\n      <td>8863469</td>\n      <td>0.056548</td>\n      <td>1.0</td>\n      <td>0.002083</td>\n      <td>1.0</td>\n      <td>1.0</td>\n    </tr>\n    <tr>\n      <th>2632315</th>\n      <td>11520</td>\n      <td>8864837</td>\n      <td>0.396032</td>\n      <td>2.0</td>\n      <td>0.014683</td>\n      <td>2.0</td>\n      <td>2.0</td>\n    </tr>\n    <tr>\n      <th>2632316</th>\n      <td>11520</td>\n      <td>104</td>\n      <td>0.497817</td>\n      <td>2.0</td>\n      <td>0.023710</td>\n      <td>1.0</td>\n      <td>2.0</td>\n    </tr>\n    <tr>\n      <th>2632317</th>\n      <td>11520</td>\n      <td>107</td>\n      <td>0.241865</td>\n      <td>2.0</td>\n      <td>0.002579</td>\n      <td>1.0</td>\n      <td>2.0</td>\n    </tr>\n    <tr>\n      <th>2632319</th>\n      <td>11520</td>\n      <td>113</td>\n      <td>0.226587</td>\n      <td>2.0</td>\n      <td>0.000000</td>\n      <td>0.0</td>\n      <td>2.0</td>\n    </tr>\n    <tr>\n      <th>2632320</th>\n      <td>11520</td>\n      <td>122</td>\n      <td>0.092956</td>\n      <td>1.0</td>\n      <td>0.009524</td>\n      <td>1.0</td>\n      <td>1.0</td>\n    </tr>\n  </tbody>\n</table>\n</div>"
     },
     "execution_count": 5,
     "metadata": {},
     "output_type": "execute_result"
    }
   ],
   "source": [
    "df_charging_stations_single_run"
   ],
   "metadata": {
    "collapsed": false,
    "pycharm": {
     "name": "#%%\n"
    }
   }
  },
  {
   "cell_type": "code",
   "execution_count": 6,
   "outputs": [],
   "source": [
    "df_vessels_single_run = process_vessel_data()"
   ],
   "metadata": {
    "collapsed": false,
    "pycharm": {
     "name": "#%%\n"
    }
   }
  },
  {
   "cell_type": "code",
   "execution_count": null,
   "outputs": [],
   "source": [],
   "metadata": {
    "collapsed": false,
    "pycharm": {
     "name": "#%%\n"
    }
   }
  },
  {
   "cell_type": "code",
   "execution_count": 7,
   "outputs": [
    {
     "data": {
      "text/plain": "      id              route                combi  time_departed  travel_time  \\\n53    68  (NLAMS, NLZAA, 0)            [8866889]           1472           30   \n62    71  (NLUTC, NLTIE, 0)  [8867240, 22638146]           1527          195   \n63    83  (NLKGZ, NLZAA, 0)            [8866889]           1740           22   \n64    80  (NLAMS, NLWMO, 0)            [8866889]           1722           30   \n66    67  (NLDOR, NLRTM, 1)            [8862663]           1457          130   \n..   ...                ...                  ...            ...          ...   \n506  510  (NLRTM, NLMOE, 0)            [8866686]          11189          188   \n507  508  (NLOOS, NLTLB, 0)            [8863818]          11164          127   \n508  501  (NLHAR, NLWTE, 0)                [113]          11026          208   \n509  506  (NLRTM, NLMOE, 0)            [8865003]          11119          188   \n510  521  (NLKGZ, NLZAA, 0)            [8866889]          11394           22   \n\n     time_in_line  time_charging  battery_size  \n53              0             48          3220  \n62              0             35          2031  \n63              0              0          6650  \n64              0             21          1400  \n66              0            219          9404  \n..            ...            ...           ...  \n506             0             57          3220  \n507             0            153          6650  \n508             0            214          9404  \n509             0            148          6650  \n510             0             93          6650  \n\n[444 rows x 8 columns]",
      "text/html": "<div>\n<style scoped>\n    .dataframe tbody tr th:only-of-type {\n        vertical-align: middle;\n    }\n\n    .dataframe tbody tr th {\n        vertical-align: top;\n    }\n\n    .dataframe thead th {\n        text-align: right;\n    }\n</style>\n<table border=\"1\" class=\"dataframe\">\n  <thead>\n    <tr style=\"text-align: right;\">\n      <th></th>\n      <th>id</th>\n      <th>route</th>\n      <th>combi</th>\n      <th>time_departed</th>\n      <th>travel_time</th>\n      <th>time_in_line</th>\n      <th>time_charging</th>\n      <th>battery_size</th>\n    </tr>\n  </thead>\n  <tbody>\n    <tr>\n      <th>53</th>\n      <td>68</td>\n      <td>(NLAMS, NLZAA, 0)</td>\n      <td>[8866889]</td>\n      <td>1472</td>\n      <td>30</td>\n      <td>0</td>\n      <td>48</td>\n      <td>3220</td>\n    </tr>\n    <tr>\n      <th>62</th>\n      <td>71</td>\n      <td>(NLUTC, NLTIE, 0)</td>\n      <td>[8867240, 22638146]</td>\n      <td>1527</td>\n      <td>195</td>\n      <td>0</td>\n      <td>35</td>\n      <td>2031</td>\n    </tr>\n    <tr>\n      <th>63</th>\n      <td>83</td>\n      <td>(NLKGZ, NLZAA, 0)</td>\n      <td>[8866889]</td>\n      <td>1740</td>\n      <td>22</td>\n      <td>0</td>\n      <td>0</td>\n      <td>6650</td>\n    </tr>\n    <tr>\n      <th>64</th>\n      <td>80</td>\n      <td>(NLAMS, NLWMO, 0)</td>\n      <td>[8866889]</td>\n      <td>1722</td>\n      <td>30</td>\n      <td>0</td>\n      <td>21</td>\n      <td>1400</td>\n    </tr>\n    <tr>\n      <th>66</th>\n      <td>67</td>\n      <td>(NLDOR, NLRTM, 1)</td>\n      <td>[8862663]</td>\n      <td>1457</td>\n      <td>130</td>\n      <td>0</td>\n      <td>219</td>\n      <td>9404</td>\n    </tr>\n    <tr>\n      <th>...</th>\n      <td>...</td>\n      <td>...</td>\n      <td>...</td>\n      <td>...</td>\n      <td>...</td>\n      <td>...</td>\n      <td>...</td>\n      <td>...</td>\n    </tr>\n    <tr>\n      <th>506</th>\n      <td>510</td>\n      <td>(NLRTM, NLMOE, 0)</td>\n      <td>[8866686]</td>\n      <td>11189</td>\n      <td>188</td>\n      <td>0</td>\n      <td>57</td>\n      <td>3220</td>\n    </tr>\n    <tr>\n      <th>507</th>\n      <td>508</td>\n      <td>(NLOOS, NLTLB, 0)</td>\n      <td>[8863818]</td>\n      <td>11164</td>\n      <td>127</td>\n      <td>0</td>\n      <td>153</td>\n      <td>6650</td>\n    </tr>\n    <tr>\n      <th>508</th>\n      <td>501</td>\n      <td>(NLHAR, NLWTE, 0)</td>\n      <td>[113]</td>\n      <td>11026</td>\n      <td>208</td>\n      <td>0</td>\n      <td>214</td>\n      <td>9404</td>\n    </tr>\n    <tr>\n      <th>509</th>\n      <td>506</td>\n      <td>(NLRTM, NLMOE, 0)</td>\n      <td>[8865003]</td>\n      <td>11119</td>\n      <td>188</td>\n      <td>0</td>\n      <td>148</td>\n      <td>6650</td>\n    </tr>\n    <tr>\n      <th>510</th>\n      <td>521</td>\n      <td>(NLKGZ, NLZAA, 0)</td>\n      <td>[8866889]</td>\n      <td>11394</td>\n      <td>22</td>\n      <td>0</td>\n      <td>93</td>\n      <td>6650</td>\n    </tr>\n  </tbody>\n</table>\n<p>444 rows × 8 columns</p>\n</div>"
     },
     "execution_count": 7,
     "metadata": {},
     "output_type": "execute_result"
    }
   ],
   "source": [
    "df_vessels_single_run"
   ],
   "metadata": {
    "collapsed": false,
    "pycharm": {
     "name": "#%%\n"
    }
   }
  },
  {
   "cell_type": "markdown",
   "source": [
    "## Process batch data"
   ],
   "metadata": {
    "collapsed": false,
    "pycharm": {
     "name": "#%% md\n"
    }
   }
  },
  {
   "cell_type": "markdown",
   "source": [
    "### Vessel data"
   ],
   "metadata": {
    "collapsed": false,
    "pycharm": {
     "name": "#%% md\n"
    }
   }
  },
  {
   "cell_type": "code",
   "execution_count": 8,
   "outputs": [],
   "source": [
    "def get_vessel_data_batch(df_batch):\n",
    "    df_batch = pd.DataFrame(df_batch)\n",
    "    df_batch = df_batch.loc[df_batch.Step>0]\n",
    "    df_vessels = df_batch.groupby('RunId').first()\n",
    "    vessel_df = pd.DataFrame(df_vessels['data_completed_trips'][0])\n",
    "    for i in range(2, len(df_vessels['data_completed_trips'])):\n",
    "        df_temp = pd.DataFrame(df_vessels['data_completed_trips'][0])\n",
    "        vessel_df = pd.concat([vessel_df, df_temp])\n",
    "    return vessel_df"
   ],
   "metadata": {
    "collapsed": false,
    "pycharm": {
     "name": "#%%\n"
    }
   }
  },
  {
   "cell_type": "code",
   "execution_count": 9,
   "outputs": [],
   "source": [
    "vessel_df = get_vessel_data_batch(batch_data)"
   ],
   "metadata": {
    "collapsed": false,
    "pycharm": {
     "name": "#%%\n"
    }
   }
  },
  {
   "cell_type": "code",
   "execution_count": 10,
   "outputs": [],
   "source": [
    "vessel_df = vessel_df.groupby(['route']).mean()"
   ],
   "metadata": {
    "collapsed": false,
    "pycharm": {
     "name": "#%%\n"
    }
   }
  },
  {
   "cell_type": "code",
   "execution_count": 11,
   "outputs": [
    {
     "data": {
      "text/plain": "                           id  time_departed  travel_time  time_in_line  \\\nroute                                                                     \n(NLTNZ, NLBRS, 0)  337.571429    7458.000000   121.000000     20.285714   \n(NLAMS, NLMOE, 3)  185.700000    4116.500000   654.000000     17.500000   \n(NLBZM, NLRTM, 0)  304.000000    6816.000000   414.000000     17.250000   \n(NLAMS, NLZWI, 1)  379.500000    8371.000000   501.000000     15.500000   \n(NLRTM, NLWLK, 1)  281.142857    6201.285714   361.000000     11.571429   \n(NLRTM, NLMOE, 1)  301.300000    6671.900000   188.000000     11.500000   \n(NLMOE, NLAPN, 1)  233.083333    5138.750000   317.000000      9.916667   \n(NLAER, NLNIE, 0)  265.727273    5871.545455   474.454545      9.363636   \n(NLHTB, NLBZM, 0)  222.750000    4945.916667   553.000000      8.583333   \n(NLNIJ, NLDRU, 0)  270.833333    5990.333333   143.000000      7.416667   \n(NLRTM, NLMOE, 0)  242.255814    5392.837209   187.837209      5.093023   \n(NLUTC, NLRTM, 0)  117.500000    2597.000000   322.000000      2.166667   \n(NLWSP, NLAER, 0)  314.166667    6945.388889   183.000000      1.611111   \n(NLAER, NLLEY, 0)  347.000000    7583.714286   158.000000      1.428571   \n(NLALK, NLIJM, 0)  337.222222    7473.666667   258.000000      0.888889   \n(NLRTM, NLAPN, 0)  229.523810    5057.285714   184.000000      0.857143   \n(NLDOR, NLRTM, 0)  264.058824    5849.764706   130.000000      0.823529   \n(NLKGZ, NLZAA, 0)  260.750000    5795.250000    22.000000      0.750000   \n(NLTNZ, NLVLI, 0)  330.157895    7238.894737   110.000000      0.368421   \n(NLAMS, NLAER, 0)  268.083333    5941.333333   228.000000      0.354167   \n(NLRTM, NLOOS, 1)  272.333333    6050.533333   286.000000      0.000000   \n(NLRTM, NLAMS, 0)  341.800000    7564.800000   438.000000      0.000000   \n(NLTLB, NLMOE, 0)  240.500000    5359.875000   277.000000      0.000000   \n(NLRTM, NLGTB, 1)  224.454545    5067.818182   262.000000      0.000000   \n(NLUTC, NLTIE, 0)  292.222222    6448.555556   195.000000      0.000000   \n(NLSWI, NLLEY, 0)  200.625000    4436.625000    99.000000      0.000000   \n(NLABL, NLRTM, 0)  240.933333    5338.933333    65.000000      0.000000   \n(NLOOS, NLTLB, 0)  268.095238    5959.523810   127.000000      0.000000   \n(NLNIJ, NLWAS, 0)  212.500000    4737.416667   228.000000      0.000000   \n(NLMOE, NLOOS, 0)  230.111111    5088.666667   148.000000      0.000000   \n(NLHAR, NLWTE, 0)  282.250000    6201.333333   208.000000      0.000000   \n(NLGOR, NLRTM, 0)  217.285714    4795.714286   237.000000      0.000000   \n(NLFAR, NLEEM, 0)  351.500000    7661.166667   157.000000      0.000000   \n(NLDOR, NLRTM, 1)  398.333333    8658.333333   130.000000      0.000000   \n(NLDOR, NLAMS, 3)  170.100000    3817.600000   597.000000      0.000000   \n(NLAMS, NLZAA, 0)  262.250000    5847.125000    30.000000      0.000000   \n(NLAMS, NLWMO, 0)  255.307692    5672.461538    30.000000      0.000000   \n(NLAMS, NLUTC, 1)  334.833333    7447.500000   279.000000      0.000000   \n(NLAMS, NLMOE, 4)  339.666667    7366.000000   656.000000      0.000000   \n(NLAER, NLRTM, 0)  258.166667    5720.000000   563.000000      0.000000   \n(NLKGZ, NLAMS, 0)  204.312500    4542.187500    13.000000      0.000000   \n\n                   time_charging  battery_size  \nroute                                           \n(NLTNZ, NLBRS, 0)      65.142857   4743.714286  \n(NLAMS, NLMOE, 3)     390.500000   6650.000000  \n(NLBZM, NLRTM, 0)     255.500000   5792.500000  \n(NLAMS, NLZWI, 1)     104.500000   2031.000000  \n(NLRTM, NLWLK, 1)      87.571429   2031.000000  \n(NLRTM, NLMOE, 1)     196.500000   9404.000000  \n(NLMOE, NLAPN, 1)     173.083333   6078.333333  \n(NLAER, NLNIE, 0)     194.272727   4467.272727  \n(NLHTB, NLBZM, 0)     315.666667   6212.500000  \n(NLNIJ, NLDRU, 0)      71.916667   5220.833333  \n(NLRTM, NLMOE, 0)     122.697674   5984.209302  \n(NLUTC, NLRTM, 0)     198.833333   7109.000000  \n(NLWSP, NLAER, 0)      59.500000   3659.555556  \n(NLAER, NLLEY, 0)      29.642857   2050.571429  \n(NLALK, NLIJM, 0)      47.888889   2031.000000  \n(NLRTM, NLAPN, 0)      53.714286   3297.142857  \n(NLDOR, NLRTM, 0)     100.529412   5439.411765  \n(NLKGZ, NLZAA, 0)      28.833333   4620.250000  \n(NLTNZ, NLVLI, 0)      36.736842   3734.631579  \n(NLAMS, NLAER, 0)      55.104167   2788.625000  \n(NLRTM, NLOOS, 1)     173.200000   6650.000000  \n(NLRTM, NLAMS, 0)      78.000000   2031.000000  \n(NLTLB, NLMOE, 0)      67.187500   2897.062500  \n(NLRTM, NLGTB, 1)      94.454545   4174.545455  \n(NLUTC, NLTIE, 0)     103.444444   6136.777778  \n(NLSWI, NLLEY, 0)      10.500000   2757.000000  \n(NLABL, NLRTM, 0)      53.666667   6757.466667  \n(NLOOS, NLTLB, 0)      74.428571   6150.000000  \n(NLNIJ, NLWAS, 0)     131.000000   6650.000000  \n(NLMOE, NLOOS, 0)      85.000000   6650.000000  \n(NLHAR, NLWTE, 0)     188.416667   8789.583333  \n(NLGOR, NLRTM, 0)      96.714286   4726.857143  \n(NLFAR, NLEEM, 0)      80.500000   4328.333333  \n(NLDOR, NLRTM, 1)       0.333333   6269.333333  \n(NLDOR, NLAMS, 3)     340.000000   6650.000000  \n(NLAMS, NLZAA, 0)      12.500000   2144.125000  \n(NLAMS, NLWMO, 0)       8.769231   1448.538462  \n(NLAMS, NLUTC, 1)     141.000000   5853.000000  \n(NLAMS, NLMOE, 4)     178.000000   3134.666667  \n(NLAER, NLRTM, 0)     303.277778   5965.666667  \n(NLKGZ, NLAMS, 0)       5.250000   1885.875000  ",
      "text/html": "<div>\n<style scoped>\n    .dataframe tbody tr th:only-of-type {\n        vertical-align: middle;\n    }\n\n    .dataframe tbody tr th {\n        vertical-align: top;\n    }\n\n    .dataframe thead th {\n        text-align: right;\n    }\n</style>\n<table border=\"1\" class=\"dataframe\">\n  <thead>\n    <tr style=\"text-align: right;\">\n      <th></th>\n      <th>id</th>\n      <th>time_departed</th>\n      <th>travel_time</th>\n      <th>time_in_line</th>\n      <th>time_charging</th>\n      <th>battery_size</th>\n    </tr>\n    <tr>\n      <th>route</th>\n      <th></th>\n      <th></th>\n      <th></th>\n      <th></th>\n      <th></th>\n      <th></th>\n    </tr>\n  </thead>\n  <tbody>\n    <tr>\n      <th>(NLTNZ, NLBRS, 0)</th>\n      <td>337.571429</td>\n      <td>7458.000000</td>\n      <td>121.000000</td>\n      <td>20.285714</td>\n      <td>65.142857</td>\n      <td>4743.714286</td>\n    </tr>\n    <tr>\n      <th>(NLAMS, NLMOE, 3)</th>\n      <td>185.700000</td>\n      <td>4116.500000</td>\n      <td>654.000000</td>\n      <td>17.500000</td>\n      <td>390.500000</td>\n      <td>6650.000000</td>\n    </tr>\n    <tr>\n      <th>(NLBZM, NLRTM, 0)</th>\n      <td>304.000000</td>\n      <td>6816.000000</td>\n      <td>414.000000</td>\n      <td>17.250000</td>\n      <td>255.500000</td>\n      <td>5792.500000</td>\n    </tr>\n    <tr>\n      <th>(NLAMS, NLZWI, 1)</th>\n      <td>379.500000</td>\n      <td>8371.000000</td>\n      <td>501.000000</td>\n      <td>15.500000</td>\n      <td>104.500000</td>\n      <td>2031.000000</td>\n    </tr>\n    <tr>\n      <th>(NLRTM, NLWLK, 1)</th>\n      <td>281.142857</td>\n      <td>6201.285714</td>\n      <td>361.000000</td>\n      <td>11.571429</td>\n      <td>87.571429</td>\n      <td>2031.000000</td>\n    </tr>\n    <tr>\n      <th>(NLRTM, NLMOE, 1)</th>\n      <td>301.300000</td>\n      <td>6671.900000</td>\n      <td>188.000000</td>\n      <td>11.500000</td>\n      <td>196.500000</td>\n      <td>9404.000000</td>\n    </tr>\n    <tr>\n      <th>(NLMOE, NLAPN, 1)</th>\n      <td>233.083333</td>\n      <td>5138.750000</td>\n      <td>317.000000</td>\n      <td>9.916667</td>\n      <td>173.083333</td>\n      <td>6078.333333</td>\n    </tr>\n    <tr>\n      <th>(NLAER, NLNIE, 0)</th>\n      <td>265.727273</td>\n      <td>5871.545455</td>\n      <td>474.454545</td>\n      <td>9.363636</td>\n      <td>194.272727</td>\n      <td>4467.272727</td>\n    </tr>\n    <tr>\n      <th>(NLHTB, NLBZM, 0)</th>\n      <td>222.750000</td>\n      <td>4945.916667</td>\n      <td>553.000000</td>\n      <td>8.583333</td>\n      <td>315.666667</td>\n      <td>6212.500000</td>\n    </tr>\n    <tr>\n      <th>(NLNIJ, NLDRU, 0)</th>\n      <td>270.833333</td>\n      <td>5990.333333</td>\n      <td>143.000000</td>\n      <td>7.416667</td>\n      <td>71.916667</td>\n      <td>5220.833333</td>\n    </tr>\n    <tr>\n      <th>(NLRTM, NLMOE, 0)</th>\n      <td>242.255814</td>\n      <td>5392.837209</td>\n      <td>187.837209</td>\n      <td>5.093023</td>\n      <td>122.697674</td>\n      <td>5984.209302</td>\n    </tr>\n    <tr>\n      <th>(NLUTC, NLRTM, 0)</th>\n      <td>117.500000</td>\n      <td>2597.000000</td>\n      <td>322.000000</td>\n      <td>2.166667</td>\n      <td>198.833333</td>\n      <td>7109.000000</td>\n    </tr>\n    <tr>\n      <th>(NLWSP, NLAER, 0)</th>\n      <td>314.166667</td>\n      <td>6945.388889</td>\n      <td>183.000000</td>\n      <td>1.611111</td>\n      <td>59.500000</td>\n      <td>3659.555556</td>\n    </tr>\n    <tr>\n      <th>(NLAER, NLLEY, 0)</th>\n      <td>347.000000</td>\n      <td>7583.714286</td>\n      <td>158.000000</td>\n      <td>1.428571</td>\n      <td>29.642857</td>\n      <td>2050.571429</td>\n    </tr>\n    <tr>\n      <th>(NLALK, NLIJM, 0)</th>\n      <td>337.222222</td>\n      <td>7473.666667</td>\n      <td>258.000000</td>\n      <td>0.888889</td>\n      <td>47.888889</td>\n      <td>2031.000000</td>\n    </tr>\n    <tr>\n      <th>(NLRTM, NLAPN, 0)</th>\n      <td>229.523810</td>\n      <td>5057.285714</td>\n      <td>184.000000</td>\n      <td>0.857143</td>\n      <td>53.714286</td>\n      <td>3297.142857</td>\n    </tr>\n    <tr>\n      <th>(NLDOR, NLRTM, 0)</th>\n      <td>264.058824</td>\n      <td>5849.764706</td>\n      <td>130.000000</td>\n      <td>0.823529</td>\n      <td>100.529412</td>\n      <td>5439.411765</td>\n    </tr>\n    <tr>\n      <th>(NLKGZ, NLZAA, 0)</th>\n      <td>260.750000</td>\n      <td>5795.250000</td>\n      <td>22.000000</td>\n      <td>0.750000</td>\n      <td>28.833333</td>\n      <td>4620.250000</td>\n    </tr>\n    <tr>\n      <th>(NLTNZ, NLVLI, 0)</th>\n      <td>330.157895</td>\n      <td>7238.894737</td>\n      <td>110.000000</td>\n      <td>0.368421</td>\n      <td>36.736842</td>\n      <td>3734.631579</td>\n    </tr>\n    <tr>\n      <th>(NLAMS, NLAER, 0)</th>\n      <td>268.083333</td>\n      <td>5941.333333</td>\n      <td>228.000000</td>\n      <td>0.354167</td>\n      <td>55.104167</td>\n      <td>2788.625000</td>\n    </tr>\n    <tr>\n      <th>(NLRTM, NLOOS, 1)</th>\n      <td>272.333333</td>\n      <td>6050.533333</td>\n      <td>286.000000</td>\n      <td>0.000000</td>\n      <td>173.200000</td>\n      <td>6650.000000</td>\n    </tr>\n    <tr>\n      <th>(NLRTM, NLAMS, 0)</th>\n      <td>341.800000</td>\n      <td>7564.800000</td>\n      <td>438.000000</td>\n      <td>0.000000</td>\n      <td>78.000000</td>\n      <td>2031.000000</td>\n    </tr>\n    <tr>\n      <th>(NLTLB, NLMOE, 0)</th>\n      <td>240.500000</td>\n      <td>5359.875000</td>\n      <td>277.000000</td>\n      <td>0.000000</td>\n      <td>67.187500</td>\n      <td>2897.062500</td>\n    </tr>\n    <tr>\n      <th>(NLRTM, NLGTB, 1)</th>\n      <td>224.454545</td>\n      <td>5067.818182</td>\n      <td>262.000000</td>\n      <td>0.000000</td>\n      <td>94.454545</td>\n      <td>4174.545455</td>\n    </tr>\n    <tr>\n      <th>(NLUTC, NLTIE, 0)</th>\n      <td>292.222222</td>\n      <td>6448.555556</td>\n      <td>195.000000</td>\n      <td>0.000000</td>\n      <td>103.444444</td>\n      <td>6136.777778</td>\n    </tr>\n    <tr>\n      <th>(NLSWI, NLLEY, 0)</th>\n      <td>200.625000</td>\n      <td>4436.625000</td>\n      <td>99.000000</td>\n      <td>0.000000</td>\n      <td>10.500000</td>\n      <td>2757.000000</td>\n    </tr>\n    <tr>\n      <th>(NLABL, NLRTM, 0)</th>\n      <td>240.933333</td>\n      <td>5338.933333</td>\n      <td>65.000000</td>\n      <td>0.000000</td>\n      <td>53.666667</td>\n      <td>6757.466667</td>\n    </tr>\n    <tr>\n      <th>(NLOOS, NLTLB, 0)</th>\n      <td>268.095238</td>\n      <td>5959.523810</td>\n      <td>127.000000</td>\n      <td>0.000000</td>\n      <td>74.428571</td>\n      <td>6150.000000</td>\n    </tr>\n    <tr>\n      <th>(NLNIJ, NLWAS, 0)</th>\n      <td>212.500000</td>\n      <td>4737.416667</td>\n      <td>228.000000</td>\n      <td>0.000000</td>\n      <td>131.000000</td>\n      <td>6650.000000</td>\n    </tr>\n    <tr>\n      <th>(NLMOE, NLOOS, 0)</th>\n      <td>230.111111</td>\n      <td>5088.666667</td>\n      <td>148.000000</td>\n      <td>0.000000</td>\n      <td>85.000000</td>\n      <td>6650.000000</td>\n    </tr>\n    <tr>\n      <th>(NLHAR, NLWTE, 0)</th>\n      <td>282.250000</td>\n      <td>6201.333333</td>\n      <td>208.000000</td>\n      <td>0.000000</td>\n      <td>188.416667</td>\n      <td>8789.583333</td>\n    </tr>\n    <tr>\n      <th>(NLGOR, NLRTM, 0)</th>\n      <td>217.285714</td>\n      <td>4795.714286</td>\n      <td>237.000000</td>\n      <td>0.000000</td>\n      <td>96.714286</td>\n      <td>4726.857143</td>\n    </tr>\n    <tr>\n      <th>(NLFAR, NLEEM, 0)</th>\n      <td>351.500000</td>\n      <td>7661.166667</td>\n      <td>157.000000</td>\n      <td>0.000000</td>\n      <td>80.500000</td>\n      <td>4328.333333</td>\n    </tr>\n    <tr>\n      <th>(NLDOR, NLRTM, 1)</th>\n      <td>398.333333</td>\n      <td>8658.333333</td>\n      <td>130.000000</td>\n      <td>0.000000</td>\n      <td>0.333333</td>\n      <td>6269.333333</td>\n    </tr>\n    <tr>\n      <th>(NLDOR, NLAMS, 3)</th>\n      <td>170.100000</td>\n      <td>3817.600000</td>\n      <td>597.000000</td>\n      <td>0.000000</td>\n      <td>340.000000</td>\n      <td>6650.000000</td>\n    </tr>\n    <tr>\n      <th>(NLAMS, NLZAA, 0)</th>\n      <td>262.250000</td>\n      <td>5847.125000</td>\n      <td>30.000000</td>\n      <td>0.000000</td>\n      <td>12.500000</td>\n      <td>2144.125000</td>\n    </tr>\n    <tr>\n      <th>(NLAMS, NLWMO, 0)</th>\n      <td>255.307692</td>\n      <td>5672.461538</td>\n      <td>30.000000</td>\n      <td>0.000000</td>\n      <td>8.769231</td>\n      <td>1448.538462</td>\n    </tr>\n    <tr>\n      <th>(NLAMS, NLUTC, 1)</th>\n      <td>334.833333</td>\n      <td>7447.500000</td>\n      <td>279.000000</td>\n      <td>0.000000</td>\n      <td>141.000000</td>\n      <td>5853.000000</td>\n    </tr>\n    <tr>\n      <th>(NLAMS, NLMOE, 4)</th>\n      <td>339.666667</td>\n      <td>7366.000000</td>\n      <td>656.000000</td>\n      <td>0.000000</td>\n      <td>178.000000</td>\n      <td>3134.666667</td>\n    </tr>\n    <tr>\n      <th>(NLAER, NLRTM, 0)</th>\n      <td>258.166667</td>\n      <td>5720.000000</td>\n      <td>563.000000</td>\n      <td>0.000000</td>\n      <td>303.277778</td>\n      <td>5965.666667</td>\n    </tr>\n    <tr>\n      <th>(NLKGZ, NLAMS, 0)</th>\n      <td>204.312500</td>\n      <td>4542.187500</td>\n      <td>13.000000</td>\n      <td>0.000000</td>\n      <td>5.250000</td>\n      <td>1885.875000</td>\n    </tr>\n  </tbody>\n</table>\n</div>"
     },
     "execution_count": 11,
     "metadata": {},
     "output_type": "execute_result"
    }
   ],
   "source": [
    "vessel_df.sort_values('time_in_line', ascending=False)"
   ],
   "metadata": {
    "collapsed": false,
    "pycharm": {
     "name": "#%%\n"
    }
   }
  },
  {
   "cell_type": "markdown",
   "source": [
    "## Charging station data"
   ],
   "metadata": {
    "collapsed": false,
    "pycharm": {
     "name": "#%% md\n"
    }
   }
  },
  {
   "cell_type": "code",
   "execution_count": 14,
   "outputs": [],
   "source": [
    "def get_cs_data_batch(df_batch):\n",
    "    df_batch = pd.DataFrame(df_batch)\n",
    "    df_batch = df_batch.loc[df_batch.Step>0]\n",
    "    df_charging_stations = df_batch.groupby(['AgentID']).mean()\n",
    "    df_charging_stations = df_charging_stations.loc[df_charging_stations.charging_stations>0].sort_values('occupation')\n",
    "    df_charging_stations = df_charging_stations.drop(columns=['RunId', 'iteration', 'Step', 'seed'])\n",
    "    return df_charging_stations"
   ],
   "metadata": {
    "collapsed": false,
    "pycharm": {
     "name": "#%%\n"
    }
   }
  },
  {
   "cell_type": "code",
   "execution_count": 15,
   "outputs": [
    {
     "data": {
      "text/plain": "          occupation  max_occupation  avg_line  max_line  charging_stations\nAgentID                                                                    \n8865412     0.026300             1.0  0.000159       0.1                1.0\n8863709     0.030129             1.0  0.000645       0.2                1.0\n22638146    0.036161             1.0  0.000635       0.1                1.0\n8866775     0.048512             1.0  0.000000       0.0                1.0\n122         0.071052             1.0  0.001786       0.3                1.0\n8867240     0.087480             1.0  0.005149       0.6                1.0\n8864566     0.088373             1.0  0.010456       0.8                1.0\n8866889     0.092232             1.0  0.005040       1.1                1.0\n8863019     0.096379             1.0  0.012669       0.6                1.0\n22638327    0.101349             1.0  0.005149       0.8                1.0\n8863360     0.121310             1.0  0.007778       1.1                1.0\n8863469     0.127817             1.0  0.009077       0.6                1.0\n8866893     0.164831             1.0  0.013750       1.0                1.0\n8862801     0.169901             1.0  0.014206       0.9                1.0\n30984595    0.242024             2.0  0.003234       0.5                2.0\n113         0.245526             1.9  0.000000       0.0                2.0\n107         0.251964             2.0  0.000992       0.4                2.0\n8864837     0.265228             2.0  0.005188       0.7                2.0\n8866763     0.282639             2.0  0.002887       0.7                2.0\n8867538     0.306518             2.0  0.003988       0.6                2.0\n8863818     0.312183             2.0  0.001329       0.4                2.0\n104         0.314861             2.0  0.007460       0.9                2.0\n8863306     0.332093             2.0  0.006071       1.1                2.0\n8864005     0.332133             2.0  0.007897       1.0                2.0\n8862663     0.349127             2.0  0.007530       0.8                2.0\n8865003     0.361637             2.0  0.005605       0.5                2.0\n8866686     0.363710             2.0  0.004276       0.5                2.0",
      "text/html": "<div>\n<style scoped>\n    .dataframe tbody tr th:only-of-type {\n        vertical-align: middle;\n    }\n\n    .dataframe tbody tr th {\n        vertical-align: top;\n    }\n\n    .dataframe thead th {\n        text-align: right;\n    }\n</style>\n<table border=\"1\" class=\"dataframe\">\n  <thead>\n    <tr style=\"text-align: right;\">\n      <th></th>\n      <th>occupation</th>\n      <th>max_occupation</th>\n      <th>avg_line</th>\n      <th>max_line</th>\n      <th>charging_stations</th>\n    </tr>\n    <tr>\n      <th>AgentID</th>\n      <th></th>\n      <th></th>\n      <th></th>\n      <th></th>\n      <th></th>\n    </tr>\n  </thead>\n  <tbody>\n    <tr>\n      <th>8865412</th>\n      <td>0.026300</td>\n      <td>1.0</td>\n      <td>0.000159</td>\n      <td>0.1</td>\n      <td>1.0</td>\n    </tr>\n    <tr>\n      <th>8863709</th>\n      <td>0.030129</td>\n      <td>1.0</td>\n      <td>0.000645</td>\n      <td>0.2</td>\n      <td>1.0</td>\n    </tr>\n    <tr>\n      <th>22638146</th>\n      <td>0.036161</td>\n      <td>1.0</td>\n      <td>0.000635</td>\n      <td>0.1</td>\n      <td>1.0</td>\n    </tr>\n    <tr>\n      <th>8866775</th>\n      <td>0.048512</td>\n      <td>1.0</td>\n      <td>0.000000</td>\n      <td>0.0</td>\n      <td>1.0</td>\n    </tr>\n    <tr>\n      <th>122</th>\n      <td>0.071052</td>\n      <td>1.0</td>\n      <td>0.001786</td>\n      <td>0.3</td>\n      <td>1.0</td>\n    </tr>\n    <tr>\n      <th>8867240</th>\n      <td>0.087480</td>\n      <td>1.0</td>\n      <td>0.005149</td>\n      <td>0.6</td>\n      <td>1.0</td>\n    </tr>\n    <tr>\n      <th>8864566</th>\n      <td>0.088373</td>\n      <td>1.0</td>\n      <td>0.010456</td>\n      <td>0.8</td>\n      <td>1.0</td>\n    </tr>\n    <tr>\n      <th>8866889</th>\n      <td>0.092232</td>\n      <td>1.0</td>\n      <td>0.005040</td>\n      <td>1.1</td>\n      <td>1.0</td>\n    </tr>\n    <tr>\n      <th>8863019</th>\n      <td>0.096379</td>\n      <td>1.0</td>\n      <td>0.012669</td>\n      <td>0.6</td>\n      <td>1.0</td>\n    </tr>\n    <tr>\n      <th>22638327</th>\n      <td>0.101349</td>\n      <td>1.0</td>\n      <td>0.005149</td>\n      <td>0.8</td>\n      <td>1.0</td>\n    </tr>\n    <tr>\n      <th>8863360</th>\n      <td>0.121310</td>\n      <td>1.0</td>\n      <td>0.007778</td>\n      <td>1.1</td>\n      <td>1.0</td>\n    </tr>\n    <tr>\n      <th>8863469</th>\n      <td>0.127817</td>\n      <td>1.0</td>\n      <td>0.009077</td>\n      <td>0.6</td>\n      <td>1.0</td>\n    </tr>\n    <tr>\n      <th>8866893</th>\n      <td>0.164831</td>\n      <td>1.0</td>\n      <td>0.013750</td>\n      <td>1.0</td>\n      <td>1.0</td>\n    </tr>\n    <tr>\n      <th>8862801</th>\n      <td>0.169901</td>\n      <td>1.0</td>\n      <td>0.014206</td>\n      <td>0.9</td>\n      <td>1.0</td>\n    </tr>\n    <tr>\n      <th>30984595</th>\n      <td>0.242024</td>\n      <td>2.0</td>\n      <td>0.003234</td>\n      <td>0.5</td>\n      <td>2.0</td>\n    </tr>\n    <tr>\n      <th>113</th>\n      <td>0.245526</td>\n      <td>1.9</td>\n      <td>0.000000</td>\n      <td>0.0</td>\n      <td>2.0</td>\n    </tr>\n    <tr>\n      <th>107</th>\n      <td>0.251964</td>\n      <td>2.0</td>\n      <td>0.000992</td>\n      <td>0.4</td>\n      <td>2.0</td>\n    </tr>\n    <tr>\n      <th>8864837</th>\n      <td>0.265228</td>\n      <td>2.0</td>\n      <td>0.005188</td>\n      <td>0.7</td>\n      <td>2.0</td>\n    </tr>\n    <tr>\n      <th>8866763</th>\n      <td>0.282639</td>\n      <td>2.0</td>\n      <td>0.002887</td>\n      <td>0.7</td>\n      <td>2.0</td>\n    </tr>\n    <tr>\n      <th>8867538</th>\n      <td>0.306518</td>\n      <td>2.0</td>\n      <td>0.003988</td>\n      <td>0.6</td>\n      <td>2.0</td>\n    </tr>\n    <tr>\n      <th>8863818</th>\n      <td>0.312183</td>\n      <td>2.0</td>\n      <td>0.001329</td>\n      <td>0.4</td>\n      <td>2.0</td>\n    </tr>\n    <tr>\n      <th>104</th>\n      <td>0.314861</td>\n      <td>2.0</td>\n      <td>0.007460</td>\n      <td>0.9</td>\n      <td>2.0</td>\n    </tr>\n    <tr>\n      <th>8863306</th>\n      <td>0.332093</td>\n      <td>2.0</td>\n      <td>0.006071</td>\n      <td>1.1</td>\n      <td>2.0</td>\n    </tr>\n    <tr>\n      <th>8864005</th>\n      <td>0.332133</td>\n      <td>2.0</td>\n      <td>0.007897</td>\n      <td>1.0</td>\n      <td>2.0</td>\n    </tr>\n    <tr>\n      <th>8862663</th>\n      <td>0.349127</td>\n      <td>2.0</td>\n      <td>0.007530</td>\n      <td>0.8</td>\n      <td>2.0</td>\n    </tr>\n    <tr>\n      <th>8865003</th>\n      <td>0.361637</td>\n      <td>2.0</td>\n      <td>0.005605</td>\n      <td>0.5</td>\n      <td>2.0</td>\n    </tr>\n    <tr>\n      <th>8866686</th>\n      <td>0.363710</td>\n      <td>2.0</td>\n      <td>0.004276</td>\n      <td>0.5</td>\n      <td>2.0</td>\n    </tr>\n  </tbody>\n</table>\n</div>"
     },
     "execution_count": 15,
     "metadata": {},
     "output_type": "execute_result"
    }
   ],
   "source": [
    "get_cs_data_batch(batch_data)"
   ],
   "metadata": {
    "collapsed": false,
    "pycharm": {
     "name": "#%%\n"
    }
   }
  },
  {
   "cell_type": "markdown",
   "source": [
    "# OLD"
   ],
   "metadata": {
    "collapsed": false,
    "pycharm": {
     "name": "#%% md\n"
    }
   }
  },
  {
   "cell_type": "code",
   "execution_count": null,
   "outputs": [],
   "source": [
    "# df_ivs_old = pickle.load(open('data/ivs_exploded_100_old.p', 'rb'))\n",
    "# routes_dests = pickle.load(open('data/users_ship_specific_routes.p', 'rb'))\n",
    "# df_ships = pd.read_excel('data/ship_types.xlsx')\n",
    "\n",
    "# G = pickle.load(open(\"data/network.p\", \"rb\"))\n",
    "# paths = pickle.load(open(\"data/paths.p\", \"rb\"))\n",
    "# df_random = pickle.load(open(\"data/df_random.p\", \"rb\"))\n",
    "# df_abm = pickle.load(open(\"data/df_abm.p\", \"rb\"))\n",
    "# non_zero_flows = pickle.load(open(\"data/non_zero_flows.p\", \"rb\"))\n",
    "# feasible_combinations = pickle.load(open('data/feasible_comb.p', 'rb'))\n",
    "# optimal_flows = pickle.load(open('data/optimal_flows.p', 'rb'))\n",
    "# path_lengths = pickle.load(open('data/path_lengths_ship_specific_routes.p', 'rb'))"
   ],
   "metadata": {
    "collapsed": false,
    "pycharm": {
     "name": "#%%\n"
    }
   }
  },
  {
   "cell_type": "code",
   "execution_count": null,
   "outputs": [],
   "source": [],
   "metadata": {
    "collapsed": false,
    "pycharm": {
     "name": "#%%\n"
    }
   }
  },
  {
   "cell_type": "markdown",
   "source": [
    "## Process agent data"
   ],
   "metadata": {
    "collapsed": false,
    "pycharm": {
     "name": "#%% md\n"
    }
   }
  },
  {
   "cell_type": "markdown",
   "source": [
    "### Vessel data"
   ],
   "metadata": {
    "collapsed": false,
    "pycharm": {
     "name": "#%% md\n"
    }
   }
  },
  {
   "cell_type": "code",
   "execution_count": 43,
   "outputs": [],
   "source": [
    "agent_data = agent_data.reset_index()"
   ],
   "metadata": {
    "collapsed": false,
    "pycharm": {
     "name": "#%%\n"
    }
   }
  },
  {
   "cell_type": "code",
   "execution_count": 44,
   "outputs": [],
   "source": [
    "agent_data = agent_data.loc[agent_data.Step>(24*60)]"
   ],
   "metadata": {
    "collapsed": false,
    "pycharm": {
     "name": "#%%\n"
    }
   }
  },
  {
   "cell_type": "code",
   "execution_count": 45,
   "outputs": [],
   "source": [
    "vessel_data = agent_data.loc[agent_data.vessel_status.notnull()]\n",
    "vessel_data = vessel_data.drop(columns=['removed_at'])\n",
    "vessel_data['status'] = 0\n",
    "vessel_data['at_station'] = 0\n",
    "vessel_data.status = vessel_data.vessel_status.apply(lambda x: x[0] if type(x) == list else x)\n",
    "vessel_data.at_station = vessel_data.vessel_status.apply(lambda x: x[1] if type(x) == list else x)"
   ],
   "metadata": {
    "collapsed": false,
    "pycharm": {
     "name": "#%%\n"
    }
   }
  },
  {
   "cell_type": "code",
   "execution_count": 46,
   "outputs": [],
   "source": [
    "vessel_data_dict = {}\n",
    "def process_vessel_data(x):\n",
    "    if not x.AgentID in vessel_data_dict.keys():\n",
    "        vessel_data_dict[x.AgentID] = {\"charging\":{}, \"inline\":{}, \"driving\":0}\n",
    "    if x.status == 'driving':\n",
    "        vessel_data_dict[x.AgentID]['driving'] += 1\n",
    "    else:\n",
    "        if not x.at_station in vessel_data_dict[x.AgentID][x.status].keys():\n",
    "            vessel_data_dict[x.AgentID][x.status][x.at_station] = 1\n",
    "        else:\n",
    "            vessel_data_dict[x.AgentID][x.status][x.at_station] += 1"
   ],
   "metadata": {
    "collapsed": false,
    "pycharm": {
     "name": "#%%\n"
    }
   }
  },
  {
   "cell_type": "code",
   "execution_count": 48,
   "outputs": [
    {
     "data": {
      "text/plain": "328196     None\n328197     None\n328198     None\n328199     None\n328200     None\n           ... \n2622303    None\n2622304    None\n2622305    None\n2622306    None\n2622307    None\nLength: 157364, dtype: object"
     },
     "execution_count": 48,
     "metadata": {},
     "output_type": "execute_result"
    }
   ],
   "source": [
    "vessel_data.apply(lambda x: process_vessel_data(x), axis=1)"
   ],
   "metadata": {
    "collapsed": false,
    "pycharm": {
     "name": "#%%\n"
    }
   }
  },
  {
   "cell_type": "code",
   "execution_count": 49,
   "outputs": [],
   "source": [
    "df = pd.DataFrame(vessel_data_dict)\n",
    "df = df.transpose()"
   ],
   "metadata": {
    "collapsed": false,
    "pycharm": {
     "name": "#%%\n"
    }
   }
  },
  {
   "cell_type": "code",
   "execution_count": 50,
   "outputs": [],
   "source": [
    "df['total_charging'] = 0\n",
    "df.total_charging = df.charging.apply(lambda x: sum(x.values()))\n",
    "df['total_inline'] = 0\n",
    "df.total_inline = df.inline.apply(lambda x: sum(x.values()))"
   ],
   "metadata": {
    "collapsed": false,
    "pycharm": {
     "name": "#%%\n"
    }
   }
  },
  {
   "cell_type": "code",
   "execution_count": 51,
   "outputs": [],
   "source": [
    "df1 = vessel_data.loc[vessel_data.status != 0].loc[:,['AgentID','Step','vessel_route','departed_from', 'combi','battery_size', 'generated_at']].groupby('AgentID').first()\n",
    "vessel_data = pd.merge(df1, df, left_index=True, right_index=True)"
   ],
   "metadata": {
    "collapsed": false,
    "pycharm": {
     "name": "#%%\n"
    }
   }
  },
  {
   "cell_type": "code",
   "execution_count": 52,
   "outputs": [
    {
     "data": {
      "text/plain": "1440"
     },
     "execution_count": 52,
     "metadata": {},
     "output_type": "execute_result"
    }
   ],
   "source": [
    "60*24"
   ],
   "metadata": {
    "collapsed": false,
    "pycharm": {
     "name": "#%%\n"
    }
   }
  },
  {
   "cell_type": "code",
   "execution_count": 53,
   "outputs": [
    {
     "data": {
      "text/plain": "          Step       vessel_route departed_from                    combi  \\\nAgentID                                                                    \n74        1450  (NLRTM, NLGTB, 1)       8866893       [8866893, 8863306]   \n75        1509  (NLRTM, NLAPN, 0)       8863306       [8863306, 8863360]   \n76        1512  (NLOOS, NLTLB, 0)       8867740                [8863818]   \n77        1522  (NLRTM, NLMOE, 0)       8863306                [8862663]   \n78        1543  (NLOOS, NLTLB, 0)       8863818                [8863818]   \n...        ...                ...           ...                      ...   \n523      11394  (NLNIJ, NLWAS, 0)       8864566      [8864566, 22638327]   \n524      11396  (NLNIJ, NLDRU, 0)      22638327      [22638327, 8865412]   \n525      11416  (NLWSP, NLAER, 0)       8864005       [8864837, 8864005]   \n526      11443  (NLRTM, NLMOE, 0)       8863306      [8863306, 30984595]   \n527      11495  (NLAER, NLRTM, 0)       8863306  [8864005, 8867538, 107]   \n\n         battery_size  generated_at          charging inline driving  \\\nAgentID                                                                \n74             6650.0        1449.0  {'8863306': 150}     {}     262   \n75             3220.0        1508.0   {'8863360': 51}     {}     184   \n76             6650.0        1511.0  {'8863818': 153}     {}     127   \n77             3220.0        1521.0   {'8862663': 75}     {}     186   \n78             6650.0        1542.0                {}     {}     127   \n...               ...           ...               ...    ...     ...   \n523            6650.0       11393.0                {}     {}     127   \n524            6650.0       11395.0                {}     {}     125   \n525            3220.0       11415.0                {}     {}     105   \n526            3220.0       11442.0                {}     {}      78   \n527            6650.0       11494.0                {}     {}      26   \n\n         total_charging  total_inline  \nAgentID                                \n74                  150             0  \n75                   51             0  \n76                  153             0  \n77                   75             0  \n78                    0             0  \n...                 ...           ...  \n523                   0             0  \n524                   0             0  \n525                   0             0  \n526                   0             0  \n527                   0             0  \n\n[454 rows x 11 columns]",
      "text/html": "<div>\n<style scoped>\n    .dataframe tbody tr th:only-of-type {\n        vertical-align: middle;\n    }\n\n    .dataframe tbody tr th {\n        vertical-align: top;\n    }\n\n    .dataframe thead th {\n        text-align: right;\n    }\n</style>\n<table border=\"1\" class=\"dataframe\">\n  <thead>\n    <tr style=\"text-align: right;\">\n      <th></th>\n      <th>Step</th>\n      <th>vessel_route</th>\n      <th>departed_from</th>\n      <th>combi</th>\n      <th>battery_size</th>\n      <th>generated_at</th>\n      <th>charging</th>\n      <th>inline</th>\n      <th>driving</th>\n      <th>total_charging</th>\n      <th>total_inline</th>\n    </tr>\n    <tr>\n      <th>AgentID</th>\n      <th></th>\n      <th></th>\n      <th></th>\n      <th></th>\n      <th></th>\n      <th></th>\n      <th></th>\n      <th></th>\n      <th></th>\n      <th></th>\n      <th></th>\n    </tr>\n  </thead>\n  <tbody>\n    <tr>\n      <th>74</th>\n      <td>1450</td>\n      <td>(NLRTM, NLGTB, 1)</td>\n      <td>8866893</td>\n      <td>[8866893, 8863306]</td>\n      <td>6650.0</td>\n      <td>1449.0</td>\n      <td>{'8863306': 150}</td>\n      <td>{}</td>\n      <td>262</td>\n      <td>150</td>\n      <td>0</td>\n    </tr>\n    <tr>\n      <th>75</th>\n      <td>1509</td>\n      <td>(NLRTM, NLAPN, 0)</td>\n      <td>8863306</td>\n      <td>[8863306, 8863360]</td>\n      <td>3220.0</td>\n      <td>1508.0</td>\n      <td>{'8863360': 51}</td>\n      <td>{}</td>\n      <td>184</td>\n      <td>51</td>\n      <td>0</td>\n    </tr>\n    <tr>\n      <th>76</th>\n      <td>1512</td>\n      <td>(NLOOS, NLTLB, 0)</td>\n      <td>8867740</td>\n      <td>[8863818]</td>\n      <td>6650.0</td>\n      <td>1511.0</td>\n      <td>{'8863818': 153}</td>\n      <td>{}</td>\n      <td>127</td>\n      <td>153</td>\n      <td>0</td>\n    </tr>\n    <tr>\n      <th>77</th>\n      <td>1522</td>\n      <td>(NLRTM, NLMOE, 0)</td>\n      <td>8863306</td>\n      <td>[8862663]</td>\n      <td>3220.0</td>\n      <td>1521.0</td>\n      <td>{'8862663': 75}</td>\n      <td>{}</td>\n      <td>186</td>\n      <td>75</td>\n      <td>0</td>\n    </tr>\n    <tr>\n      <th>78</th>\n      <td>1543</td>\n      <td>(NLOOS, NLTLB, 0)</td>\n      <td>8863818</td>\n      <td>[8863818]</td>\n      <td>6650.0</td>\n      <td>1542.0</td>\n      <td>{}</td>\n      <td>{}</td>\n      <td>127</td>\n      <td>0</td>\n      <td>0</td>\n    </tr>\n    <tr>\n      <th>...</th>\n      <td>...</td>\n      <td>...</td>\n      <td>...</td>\n      <td>...</td>\n      <td>...</td>\n      <td>...</td>\n      <td>...</td>\n      <td>...</td>\n      <td>...</td>\n      <td>...</td>\n      <td>...</td>\n    </tr>\n    <tr>\n      <th>523</th>\n      <td>11394</td>\n      <td>(NLNIJ, NLWAS, 0)</td>\n      <td>8864566</td>\n      <td>[8864566, 22638327]</td>\n      <td>6650.0</td>\n      <td>11393.0</td>\n      <td>{}</td>\n      <td>{}</td>\n      <td>127</td>\n      <td>0</td>\n      <td>0</td>\n    </tr>\n    <tr>\n      <th>524</th>\n      <td>11396</td>\n      <td>(NLNIJ, NLDRU, 0)</td>\n      <td>22638327</td>\n      <td>[22638327, 8865412]</td>\n      <td>6650.0</td>\n      <td>11395.0</td>\n      <td>{}</td>\n      <td>{}</td>\n      <td>125</td>\n      <td>0</td>\n      <td>0</td>\n    </tr>\n    <tr>\n      <th>525</th>\n      <td>11416</td>\n      <td>(NLWSP, NLAER, 0)</td>\n      <td>8864005</td>\n      <td>[8864837, 8864005]</td>\n      <td>3220.0</td>\n      <td>11415.0</td>\n      <td>{}</td>\n      <td>{}</td>\n      <td>105</td>\n      <td>0</td>\n      <td>0</td>\n    </tr>\n    <tr>\n      <th>526</th>\n      <td>11443</td>\n      <td>(NLRTM, NLMOE, 0)</td>\n      <td>8863306</td>\n      <td>[8863306, 30984595]</td>\n      <td>3220.0</td>\n      <td>11442.0</td>\n      <td>{}</td>\n      <td>{}</td>\n      <td>78</td>\n      <td>0</td>\n      <td>0</td>\n    </tr>\n    <tr>\n      <th>527</th>\n      <td>11495</td>\n      <td>(NLAER, NLRTM, 0)</td>\n      <td>8863306</td>\n      <td>[8864005, 8867538, 107]</td>\n      <td>6650.0</td>\n      <td>11494.0</td>\n      <td>{}</td>\n      <td>{}</td>\n      <td>26</td>\n      <td>0</td>\n      <td>0</td>\n    </tr>\n  </tbody>\n</table>\n<p>454 rows × 11 columns</p>\n</div>"
     },
     "execution_count": 53,
     "metadata": {},
     "output_type": "execute_result"
    }
   ],
   "source": [
    "vessel_data = vessel_data.loc[vessel_data.generated_at > (24*60)]\n",
    "vessel_data\n",
    "# looks okay! Final check with pycharm later"
   ],
   "metadata": {
    "collapsed": false,
    "pycharm": {
     "name": "#%%\n"
    }
   }
  },
  {
   "cell_type": "code",
   "execution_count": 28,
   "outputs": [
    {
     "data": {
      "text/plain": "                           Step  battery_size  generated_at  total_charging  \\\nvessel_route                                                                  \n(NLABL, NLRTM, 0)   5266.375000   6994.250000   5265.375000       73.750000   \n(NLAER, NLLEY, 0)   5933.400000   2142.600000   5932.400000       29.400000   \n(NLAER, NLNIE, 0)   4346.000000   5363.750000   4345.000000      231.250000   \n(NLAER, NLRTM, 0)   6919.714286   5376.714286   6918.714286      273.000000   \n(NLALK, NLIJM, 0)   6180.538462   1933.923077   6179.538462       44.769231   \n(NLAMS, NLAER, 0)   6780.807692   3324.230769   6779.807692       63.576923   \n(NLAMS, NLMOE, 3)   6692.583333   6650.000000   6691.583333      344.333333   \n(NLAMS, NLMOE, 4)   6076.500000   9404.000000   6075.500000      528.000000   \n(NLAMS, NLUTC, 1)   5871.400000   5278.000000   5870.400000      127.200000   \n(NLAMS, NLWMO, 0)   6317.600000   1463.100000   6316.600000        6.200000   \n(NLAMS, NLZAA, 0)   3502.285714   2360.285714   3501.285714       13.571429   \n(NLBZM, NLRTM, 0)   6519.571429   3940.000000   6518.571429      163.142857   \n(NLDOR, NLAMS, 0)  10726.000000    817.000000  10725.000000       36.000000   \n(NLDOR, NLAMS, 1)   9139.000000   2031.000000   9138.000000       91.000000   \n(NLDOR, NLAMS, 3)   6919.571429   6650.000000   6918.571429      258.000000   \n(NLDOR, NLRTM, 0)   7104.416667   5209.416667   7103.416667       89.500000   \n(NLDOR, NLRTM, 1)   8777.000000   9404.000000   8776.000000       87.600000   \n(NLFAR, NLEEM, 0)   6378.454545   5379.545455   6377.454545      101.454545   \n(NLGOR, NLRTM, 0)   5723.500000   6033.500000   5722.500000      123.375000   \n(NLHAR, NLWTE, 0)   5170.444444   8584.777778   5169.444444      183.777778   \n(NLHTB, NLBZM, 0)   6108.714286   5990.142857   6107.714286      240.285714   \n(NLKGZ, NLAMS, 0)   5292.250000   1715.500000   5291.250000       20.625000   \n(NLKGZ, NLZAA, 0)   7771.857143   5330.285714   7770.857143       30.714286   \n(NLMOE, NLAPN, 1)   5821.111111   6268.888889   5820.111111      178.666667   \n(NLMOE, NLOOS, 0)   6734.454545   6650.000000   6733.454545       84.909091   \n(NLNIJ, NLDRU, 0)   6183.125000   5792.500000   6182.125000       71.500000   \n(NLNIJ, NLWAS, 0)   7041.181818   6338.181818   7040.181818      124.909091   \n(NLOOS, NLTLB, 0)   5563.727273   6650.000000   5562.727273       27.818182   \n(NLRTM, NLAMS, 0)   7652.800000   1904.800000   7651.800000       58.000000   \n(NLRTM, NLAPN, 0)   6287.928571   3530.357143   6286.928571       55.571429   \n(NLRTM, NLGTB, 1)   8054.000000   4690.000000   8053.000000       84.571429   \n(NLRTM, NLMOE, 0)   6780.170732   6257.365854   6779.170732      116.195122   \n(NLRTM, NLMOE, 1)   7438.500000   9404.000000   7437.500000      195.666667   \n(NLRTM, NLOOS, 1)   6762.470588   5904.823529   6761.470588      171.705882   \n(NLRTM, NLWLK, 1)   6763.000000   2031.000000   6762.000000       56.500000   \n(NLSWI, NLLEY, 0)   7734.750000   2031.000000   7733.750000       21.000000   \n(NLTLB, NLMOE, 0)   6444.500000   3763.125000   6443.500000       98.125000   \n(NLTNZ, NLBRS, 0)   7135.000000   5130.625000   7134.000000       44.625000   \n(NLTNZ, NLVLI, 0)   7795.583333   5273.583333   7794.583333       46.500000   \n(NLUTC, NLRTM, 0)   6259.250000   5495.250000   6258.250000      152.250000   \n(NLUTC, NLTIE, 0)   5951.222222   4861.333333   5950.222222       82.000000   \n(NLWSP, NLAER, 0)   5835.222222   3659.555556   5834.222222       57.888889   \n\n                   total_inline  \nvessel_route                     \n(NLABL, NLRTM, 0)      0.000000  \n(NLAER, NLLEY, 0)      0.000000  \n(NLAER, NLNIE, 0)      0.000000  \n(NLAER, NLRTM, 0)      0.000000  \n(NLALK, NLIJM, 0)      1.615385  \n(NLAMS, NLAER, 0)      0.807692  \n(NLAMS, NLMOE, 3)      0.000000  \n(NLAMS, NLMOE, 4)      0.000000  \n(NLAMS, NLUTC, 1)      0.000000  \n(NLAMS, NLWMO, 0)      0.600000  \n(NLAMS, NLZAA, 0)      2.714286  \n(NLBZM, NLRTM, 0)      3.285714  \n(NLDOR, NLAMS, 0)      0.000000  \n(NLDOR, NLAMS, 1)      0.000000  \n(NLDOR, NLAMS, 3)      0.000000  \n(NLDOR, NLRTM, 0)      0.000000  \n(NLDOR, NLRTM, 1)      0.000000  \n(NLFAR, NLEEM, 0)      9.727273  \n(NLGOR, NLRTM, 0)      0.000000  \n(NLHAR, NLWTE, 0)      0.000000  \n(NLHTB, NLBZM, 0)     34.000000  \n(NLKGZ, NLAMS, 0)      0.000000  \n(NLKGZ, NLZAA, 0)      0.000000  \n(NLMOE, NLAPN, 1)      2.444444  \n(NLMOE, NLOOS, 0)      0.000000  \n(NLNIJ, NLDRU, 0)      0.000000  \n(NLNIJ, NLWAS, 0)      0.000000  \n(NLOOS, NLTLB, 0)      0.000000  \n(NLRTM, NLAMS, 0)      0.000000  \n(NLRTM, NLAPN, 0)      0.000000  \n(NLRTM, NLGTB, 1)      0.000000  \n(NLRTM, NLMOE, 0)      5.951220  \n(NLRTM, NLMOE, 1)      0.000000  \n(NLRTM, NLOOS, 1)      0.000000  \n(NLRTM, NLWLK, 1)      0.000000  \n(NLSWI, NLLEY, 0)      0.000000  \n(NLTLB, NLMOE, 0)      0.000000  \n(NLTNZ, NLBRS, 0)      0.000000  \n(NLTNZ, NLVLI, 0)      0.000000  \n(NLUTC, NLRTM, 0)      0.000000  \n(NLUTC, NLTIE, 0)     18.444444  \n(NLWSP, NLAER, 0)      0.000000  ",
      "text/html": "<div>\n<style scoped>\n    .dataframe tbody tr th:only-of-type {\n        vertical-align: middle;\n    }\n\n    .dataframe tbody tr th {\n        vertical-align: top;\n    }\n\n    .dataframe thead th {\n        text-align: right;\n    }\n</style>\n<table border=\"1\" class=\"dataframe\">\n  <thead>\n    <tr style=\"text-align: right;\">\n      <th></th>\n      <th>Step</th>\n      <th>battery_size</th>\n      <th>generated_at</th>\n      <th>total_charging</th>\n      <th>total_inline</th>\n    </tr>\n    <tr>\n      <th>vessel_route</th>\n      <th></th>\n      <th></th>\n      <th></th>\n      <th></th>\n      <th></th>\n    </tr>\n  </thead>\n  <tbody>\n    <tr>\n      <th>(NLABL, NLRTM, 0)</th>\n      <td>5266.375000</td>\n      <td>6994.250000</td>\n      <td>5265.375000</td>\n      <td>73.750000</td>\n      <td>0.000000</td>\n    </tr>\n    <tr>\n      <th>(NLAER, NLLEY, 0)</th>\n      <td>5933.400000</td>\n      <td>2142.600000</td>\n      <td>5932.400000</td>\n      <td>29.400000</td>\n      <td>0.000000</td>\n    </tr>\n    <tr>\n      <th>(NLAER, NLNIE, 0)</th>\n      <td>4346.000000</td>\n      <td>5363.750000</td>\n      <td>4345.000000</td>\n      <td>231.250000</td>\n      <td>0.000000</td>\n    </tr>\n    <tr>\n      <th>(NLAER, NLRTM, 0)</th>\n      <td>6919.714286</td>\n      <td>5376.714286</td>\n      <td>6918.714286</td>\n      <td>273.000000</td>\n      <td>0.000000</td>\n    </tr>\n    <tr>\n      <th>(NLALK, NLIJM, 0)</th>\n      <td>6180.538462</td>\n      <td>1933.923077</td>\n      <td>6179.538462</td>\n      <td>44.769231</td>\n      <td>1.615385</td>\n    </tr>\n    <tr>\n      <th>(NLAMS, NLAER, 0)</th>\n      <td>6780.807692</td>\n      <td>3324.230769</td>\n      <td>6779.807692</td>\n      <td>63.576923</td>\n      <td>0.807692</td>\n    </tr>\n    <tr>\n      <th>(NLAMS, NLMOE, 3)</th>\n      <td>6692.583333</td>\n      <td>6650.000000</td>\n      <td>6691.583333</td>\n      <td>344.333333</td>\n      <td>0.000000</td>\n    </tr>\n    <tr>\n      <th>(NLAMS, NLMOE, 4)</th>\n      <td>6076.500000</td>\n      <td>9404.000000</td>\n      <td>6075.500000</td>\n      <td>528.000000</td>\n      <td>0.000000</td>\n    </tr>\n    <tr>\n      <th>(NLAMS, NLUTC, 1)</th>\n      <td>5871.400000</td>\n      <td>5278.000000</td>\n      <td>5870.400000</td>\n      <td>127.200000</td>\n      <td>0.000000</td>\n    </tr>\n    <tr>\n      <th>(NLAMS, NLWMO, 0)</th>\n      <td>6317.600000</td>\n      <td>1463.100000</td>\n      <td>6316.600000</td>\n      <td>6.200000</td>\n      <td>0.600000</td>\n    </tr>\n    <tr>\n      <th>(NLAMS, NLZAA, 0)</th>\n      <td>3502.285714</td>\n      <td>2360.285714</td>\n      <td>3501.285714</td>\n      <td>13.571429</td>\n      <td>2.714286</td>\n    </tr>\n    <tr>\n      <th>(NLBZM, NLRTM, 0)</th>\n      <td>6519.571429</td>\n      <td>3940.000000</td>\n      <td>6518.571429</td>\n      <td>163.142857</td>\n      <td>3.285714</td>\n    </tr>\n    <tr>\n      <th>(NLDOR, NLAMS, 0)</th>\n      <td>10726.000000</td>\n      <td>817.000000</td>\n      <td>10725.000000</td>\n      <td>36.000000</td>\n      <td>0.000000</td>\n    </tr>\n    <tr>\n      <th>(NLDOR, NLAMS, 1)</th>\n      <td>9139.000000</td>\n      <td>2031.000000</td>\n      <td>9138.000000</td>\n      <td>91.000000</td>\n      <td>0.000000</td>\n    </tr>\n    <tr>\n      <th>(NLDOR, NLAMS, 3)</th>\n      <td>6919.571429</td>\n      <td>6650.000000</td>\n      <td>6918.571429</td>\n      <td>258.000000</td>\n      <td>0.000000</td>\n    </tr>\n    <tr>\n      <th>(NLDOR, NLRTM, 0)</th>\n      <td>7104.416667</td>\n      <td>5209.416667</td>\n      <td>7103.416667</td>\n      <td>89.500000</td>\n      <td>0.000000</td>\n    </tr>\n    <tr>\n      <th>(NLDOR, NLRTM, 1)</th>\n      <td>8777.000000</td>\n      <td>9404.000000</td>\n      <td>8776.000000</td>\n      <td>87.600000</td>\n      <td>0.000000</td>\n    </tr>\n    <tr>\n      <th>(NLFAR, NLEEM, 0)</th>\n      <td>6378.454545</td>\n      <td>5379.545455</td>\n      <td>6377.454545</td>\n      <td>101.454545</td>\n      <td>9.727273</td>\n    </tr>\n    <tr>\n      <th>(NLGOR, NLRTM, 0)</th>\n      <td>5723.500000</td>\n      <td>6033.500000</td>\n      <td>5722.500000</td>\n      <td>123.375000</td>\n      <td>0.000000</td>\n    </tr>\n    <tr>\n      <th>(NLHAR, NLWTE, 0)</th>\n      <td>5170.444444</td>\n      <td>8584.777778</td>\n      <td>5169.444444</td>\n      <td>183.777778</td>\n      <td>0.000000</td>\n    </tr>\n    <tr>\n      <th>(NLHTB, NLBZM, 0)</th>\n      <td>6108.714286</td>\n      <td>5990.142857</td>\n      <td>6107.714286</td>\n      <td>240.285714</td>\n      <td>34.000000</td>\n    </tr>\n    <tr>\n      <th>(NLKGZ, NLAMS, 0)</th>\n      <td>5292.250000</td>\n      <td>1715.500000</td>\n      <td>5291.250000</td>\n      <td>20.625000</td>\n      <td>0.000000</td>\n    </tr>\n    <tr>\n      <th>(NLKGZ, NLZAA, 0)</th>\n      <td>7771.857143</td>\n      <td>5330.285714</td>\n      <td>7770.857143</td>\n      <td>30.714286</td>\n      <td>0.000000</td>\n    </tr>\n    <tr>\n      <th>(NLMOE, NLAPN, 1)</th>\n      <td>5821.111111</td>\n      <td>6268.888889</td>\n      <td>5820.111111</td>\n      <td>178.666667</td>\n      <td>2.444444</td>\n    </tr>\n    <tr>\n      <th>(NLMOE, NLOOS, 0)</th>\n      <td>6734.454545</td>\n      <td>6650.000000</td>\n      <td>6733.454545</td>\n      <td>84.909091</td>\n      <td>0.000000</td>\n    </tr>\n    <tr>\n      <th>(NLNIJ, NLDRU, 0)</th>\n      <td>6183.125000</td>\n      <td>5792.500000</td>\n      <td>6182.125000</td>\n      <td>71.500000</td>\n      <td>0.000000</td>\n    </tr>\n    <tr>\n      <th>(NLNIJ, NLWAS, 0)</th>\n      <td>7041.181818</td>\n      <td>6338.181818</td>\n      <td>7040.181818</td>\n      <td>124.909091</td>\n      <td>0.000000</td>\n    </tr>\n    <tr>\n      <th>(NLOOS, NLTLB, 0)</th>\n      <td>5563.727273</td>\n      <td>6650.000000</td>\n      <td>5562.727273</td>\n      <td>27.818182</td>\n      <td>0.000000</td>\n    </tr>\n    <tr>\n      <th>(NLRTM, NLAMS, 0)</th>\n      <td>7652.800000</td>\n      <td>1904.800000</td>\n      <td>7651.800000</td>\n      <td>58.000000</td>\n      <td>0.000000</td>\n    </tr>\n    <tr>\n      <th>(NLRTM, NLAPN, 0)</th>\n      <td>6287.928571</td>\n      <td>3530.357143</td>\n      <td>6286.928571</td>\n      <td>55.571429</td>\n      <td>0.000000</td>\n    </tr>\n    <tr>\n      <th>(NLRTM, NLGTB, 1)</th>\n      <td>8054.000000</td>\n      <td>4690.000000</td>\n      <td>8053.000000</td>\n      <td>84.571429</td>\n      <td>0.000000</td>\n    </tr>\n    <tr>\n      <th>(NLRTM, NLMOE, 0)</th>\n      <td>6780.170732</td>\n      <td>6257.365854</td>\n      <td>6779.170732</td>\n      <td>116.195122</td>\n      <td>5.951220</td>\n    </tr>\n    <tr>\n      <th>(NLRTM, NLMOE, 1)</th>\n      <td>7438.500000</td>\n      <td>9404.000000</td>\n      <td>7437.500000</td>\n      <td>195.666667</td>\n      <td>0.000000</td>\n    </tr>\n    <tr>\n      <th>(NLRTM, NLOOS, 1)</th>\n      <td>6762.470588</td>\n      <td>5904.823529</td>\n      <td>6761.470588</td>\n      <td>171.705882</td>\n      <td>0.000000</td>\n    </tr>\n    <tr>\n      <th>(NLRTM, NLWLK, 1)</th>\n      <td>6763.000000</td>\n      <td>2031.000000</td>\n      <td>6762.000000</td>\n      <td>56.500000</td>\n      <td>0.000000</td>\n    </tr>\n    <tr>\n      <th>(NLSWI, NLLEY, 0)</th>\n      <td>7734.750000</td>\n      <td>2031.000000</td>\n      <td>7733.750000</td>\n      <td>21.000000</td>\n      <td>0.000000</td>\n    </tr>\n    <tr>\n      <th>(NLTLB, NLMOE, 0)</th>\n      <td>6444.500000</td>\n      <td>3763.125000</td>\n      <td>6443.500000</td>\n      <td>98.125000</td>\n      <td>0.000000</td>\n    </tr>\n    <tr>\n      <th>(NLTNZ, NLBRS, 0)</th>\n      <td>7135.000000</td>\n      <td>5130.625000</td>\n      <td>7134.000000</td>\n      <td>44.625000</td>\n      <td>0.000000</td>\n    </tr>\n    <tr>\n      <th>(NLTNZ, NLVLI, 0)</th>\n      <td>7795.583333</td>\n      <td>5273.583333</td>\n      <td>7794.583333</td>\n      <td>46.500000</td>\n      <td>0.000000</td>\n    </tr>\n    <tr>\n      <th>(NLUTC, NLRTM, 0)</th>\n      <td>6259.250000</td>\n      <td>5495.250000</td>\n      <td>6258.250000</td>\n      <td>152.250000</td>\n      <td>0.000000</td>\n    </tr>\n    <tr>\n      <th>(NLUTC, NLTIE, 0)</th>\n      <td>5951.222222</td>\n      <td>4861.333333</td>\n      <td>5950.222222</td>\n      <td>82.000000</td>\n      <td>18.444444</td>\n    </tr>\n    <tr>\n      <th>(NLWSP, NLAER, 0)</th>\n      <td>5835.222222</td>\n      <td>3659.555556</td>\n      <td>5834.222222</td>\n      <td>57.888889</td>\n      <td>0.000000</td>\n    </tr>\n  </tbody>\n</table>\n</div>"
     },
     "execution_count": 28,
     "metadata": {},
     "output_type": "execute_result"
    }
   ],
   "source": [
    "vessel_data.groupby(\"vessel_route\").mean()"
   ],
   "metadata": {
    "collapsed": false,
    "pycharm": {
     "name": "#%%\n"
    }
   }
  },
  {
   "cell_type": "markdown",
   "source": [
    "### Charging station data"
   ],
   "metadata": {
    "collapsed": false,
    "pycharm": {
     "name": "#%% md\n"
    }
   }
  },
  {
   "cell_type": "code",
   "execution_count": 68,
   "outputs": [],
   "source": [
    "df1 = pd.DataFrame(agent_data.loc[(agent_data.charging_stations>0)].groupby('AgentID').first().loc[:,'charging_stations'])"
   ],
   "metadata": {
    "collapsed": false,
    "pycharm": {
     "name": "#%%\n"
    }
   }
  },
  {
   "cell_type": "code",
   "execution_count": 69,
   "outputs": [],
   "source": [
    "df2 = pd.DataFrame(agent_data.loc[(agent_data.charging_stations>0)].groupby('AgentID').station_status.mean())"
   ],
   "metadata": {
    "collapsed": false,
    "pycharm": {
     "name": "#%%\n"
    }
   }
  },
  {
   "cell_type": "code",
   "execution_count": 70,
   "outputs": [],
   "source": [
    "cs_data = pd.merge(df1, df2, left_index=True, right_index=True)"
   ],
   "metadata": {
    "collapsed": false,
    "pycharm": {
     "name": "#%%\n"
    }
   }
  },
  {
   "cell_type": "code",
   "execution_count": 71,
   "outputs": [
    {
     "data": {
      "text/plain": "          charging_stations  station_status\nAgentID                                    \n104                     2.0        0.172173\n107                     2.0        0.159573\n113                     2.0        0.069097\n122                     1.0        0.073611\n22638146                1.0        0.057837\n22638327                1.0        0.113889\n30984595                2.0        0.118353\n8862663                 2.0        0.170536\n8862801                 1.0        0.266369\n8863019                 1.0        0.120337\n8863306                 2.0        0.179315\n8863360                 1.0        0.117163\n8863469                 1.0        0.181349\n8863709                 1.0        0.048710\n8863818                 2.0        0.156498\n8864005                 2.0        0.115377\n8864566                 1.0        0.051984\n8864837                 2.0        0.148264\n8865003                 2.0        0.173214\n8865412                 1.0        0.028373\n8866686                 2.0        0.183780\n8866763                 2.0        0.182192\n8866775                 1.0        0.059127\n8866889                 1.0        0.072718\n8866893                 1.0        0.266270\n8867240                 1.0        0.076885\n8867538                 2.0        0.120833",
      "text/html": "<div>\n<style scoped>\n    .dataframe tbody tr th:only-of-type {\n        vertical-align: middle;\n    }\n\n    .dataframe tbody tr th {\n        vertical-align: top;\n    }\n\n    .dataframe thead th {\n        text-align: right;\n    }\n</style>\n<table border=\"1\" class=\"dataframe\">\n  <thead>\n    <tr style=\"text-align: right;\">\n      <th></th>\n      <th>charging_stations</th>\n      <th>station_status</th>\n    </tr>\n    <tr>\n      <th>AgentID</th>\n      <th></th>\n      <th></th>\n    </tr>\n  </thead>\n  <tbody>\n    <tr>\n      <th>104</th>\n      <td>2.0</td>\n      <td>0.172173</td>\n    </tr>\n    <tr>\n      <th>107</th>\n      <td>2.0</td>\n      <td>0.159573</td>\n    </tr>\n    <tr>\n      <th>113</th>\n      <td>2.0</td>\n      <td>0.069097</td>\n    </tr>\n    <tr>\n      <th>122</th>\n      <td>1.0</td>\n      <td>0.073611</td>\n    </tr>\n    <tr>\n      <th>22638146</th>\n      <td>1.0</td>\n      <td>0.057837</td>\n    </tr>\n    <tr>\n      <th>22638327</th>\n      <td>1.0</td>\n      <td>0.113889</td>\n    </tr>\n    <tr>\n      <th>30984595</th>\n      <td>2.0</td>\n      <td>0.118353</td>\n    </tr>\n    <tr>\n      <th>8862663</th>\n      <td>2.0</td>\n      <td>0.170536</td>\n    </tr>\n    <tr>\n      <th>8862801</th>\n      <td>1.0</td>\n      <td>0.266369</td>\n    </tr>\n    <tr>\n      <th>8863019</th>\n      <td>1.0</td>\n      <td>0.120337</td>\n    </tr>\n    <tr>\n      <th>8863306</th>\n      <td>2.0</td>\n      <td>0.179315</td>\n    </tr>\n    <tr>\n      <th>8863360</th>\n      <td>1.0</td>\n      <td>0.117163</td>\n    </tr>\n    <tr>\n      <th>8863469</th>\n      <td>1.0</td>\n      <td>0.181349</td>\n    </tr>\n    <tr>\n      <th>8863709</th>\n      <td>1.0</td>\n      <td>0.048710</td>\n    </tr>\n    <tr>\n      <th>8863818</th>\n      <td>2.0</td>\n      <td>0.156498</td>\n    </tr>\n    <tr>\n      <th>8864005</th>\n      <td>2.0</td>\n      <td>0.115377</td>\n    </tr>\n    <tr>\n      <th>8864566</th>\n      <td>1.0</td>\n      <td>0.051984</td>\n    </tr>\n    <tr>\n      <th>8864837</th>\n      <td>2.0</td>\n      <td>0.148264</td>\n    </tr>\n    <tr>\n      <th>8865003</th>\n      <td>2.0</td>\n      <td>0.173214</td>\n    </tr>\n    <tr>\n      <th>8865412</th>\n      <td>1.0</td>\n      <td>0.028373</td>\n    </tr>\n    <tr>\n      <th>8866686</th>\n      <td>2.0</td>\n      <td>0.183780</td>\n    </tr>\n    <tr>\n      <th>8866763</th>\n      <td>2.0</td>\n      <td>0.182192</td>\n    </tr>\n    <tr>\n      <th>8866775</th>\n      <td>1.0</td>\n      <td>0.059127</td>\n    </tr>\n    <tr>\n      <th>8866889</th>\n      <td>1.0</td>\n      <td>0.072718</td>\n    </tr>\n    <tr>\n      <th>8866893</th>\n      <td>1.0</td>\n      <td>0.266270</td>\n    </tr>\n    <tr>\n      <th>8867240</th>\n      <td>1.0</td>\n      <td>0.076885</td>\n    </tr>\n    <tr>\n      <th>8867538</th>\n      <td>2.0</td>\n      <td>0.120833</td>\n    </tr>\n  </tbody>\n</table>\n</div>"
     },
     "execution_count": 71,
     "metadata": {},
     "output_type": "execute_result"
    }
   ],
   "source": [
    "cs_data\n",
    "# TODO check why some are not visited at all within 7 days, seems off"
   ],
   "metadata": {
    "collapsed": false,
    "pycharm": {
     "name": "#%%\n"
    }
   }
  },
  {
   "cell_type": "markdown",
   "source": [
    "### Remark\n",
    "Something seems off, a lot of stations are not used at all\n",
    "Way forward:\n",
    "1. Check whether this may be clarified based on input data\n",
    "2. Recheck logic behind generation\n",
    "3. Check whether the generation is going well and as expected"
   ],
   "metadata": {
    "collapsed": false,
    "pycharm": {
     "name": "#%% md\n"
    }
   }
  },
  {
   "cell_type": "code",
   "execution_count": null,
   "outputs": [],
   "source": [],
   "metadata": {
    "collapsed": false,
    "pycharm": {
     "name": "#%%\n"
    }
   }
  }
 ],
 "metadata": {
  "kernelspec": {
   "display_name": "Python 3 (ipykernel)",
   "language": "python",
   "name": "python3"
  },
  "language_info": {
   "codemirror_mode": {
    "name": "ipython",
    "version": 3
   },
   "file_extension": ".py",
   "mimetype": "text/x-python",
   "name": "python",
   "nbconvert_exporter": "python",
   "pygments_lexer": "ipython3",
   "version": "3.10.4"
  }
 },
 "nbformat": 4,
 "nbformat_minor": 4
}