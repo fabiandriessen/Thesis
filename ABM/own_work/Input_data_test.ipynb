{
 "cells": [
  {
   "cell_type": "code",
   "execution_count": 5,
   "outputs": [],
   "source": [
    "import pandas as pd\n",
    "import pickle\n",
    "import numpy as np\n",
    "import networkx as nx\n",
    "import time"
   ],
   "metadata": {
    "collapsed": false,
    "pycharm": {
     "name": "#%%\n"
    }
   }
  },
  {
   "cell_type": "code",
   "execution_count": 6,
   "outputs": [],
   "source": [
    "df_ivs = pickle.load(open('data/ivs_exploded_100.p', 'rb'))\n",
    "df_ivs_old = pickle.load(open('data/ivs_exploded_100_old.p', 'rb'))\n",
    "routes_dests = pickle.load(open('data/users_ship_specific_routes.p', 'rb'))\n",
    "df_ships = pd.read_excel('data/ship_types.xlsx')\n",
    "\n",
    "G = pickle.load(open(\"data/network.p\", \"rb\"))\n",
    "paths = pickle.load(open(\"data/paths.p\", \"rb\"))\n",
    "df_random = pickle.load(open(\"data/df_random.p\", \"rb\"))\n",
    "df_abm = pickle.load(open(\"data/df_abm.p\", \"rb\"))\n",
    "non_zero_flows = pickle.load(open(\"data/non_zero_flows.p\", \"rb\"))"
   ],
   "metadata": {
    "collapsed": false,
    "pycharm": {
     "name": "#%%\n"
    }
   }
  },
  {
   "cell_type": "code",
   "execution_count": 21,
   "outputs": [],
   "source": [
    "schedule = pickle.load(open(\"data/schedule.p\", \"rb\"))"
   ],
   "metadata": {
    "collapsed": false,
    "pycharm": {
     "name": "#%%\n"
    }
   }
  },
  {
   "cell_type": "code",
   "execution_count": 28,
   "outputs": [
    {
     "data": {
      "text/plain": "1"
     },
     "execution_count": 28,
     "metadata": {},
     "output_type": "execute_result"
    }
   ],
   "source": [
    "a = [1]\n",
    "a[0]"
   ],
   "metadata": {
    "collapsed": false,
    "pycharm": {
     "name": "#%%\n"
    }
   }
  },
  {
   "cell_type": "code",
   "execution_count": 4,
   "outputs": [],
   "source": [
    "# extract data\n",
    "df_links = nx.to_pandas_edgelist(G)\n",
    "df_nodes = pd.DataFrame.from_dict(dict(G.nodes(data=True)), orient='index')"
   ],
   "metadata": {
    "collapsed": false,
    "pycharm": {
     "name": "#%%\n"
    }
   }
  },
  {
   "cell_type": "code",
   "execution_count": 7,
   "outputs": [],
   "source": [
    "for _, row in df_abm.iterrows():  # index, row in ...\n",
    "    # create agents according to model_type\n",
    "\n",
    "    model_type = row['model_type']\n",
    "    agent = None\n",
    "\n",
    "    name = row['name']\n",
    "    if pd.isna(name):\n",
    "        name = \"\"\n",
    "        print(\"error, nameless entry\")\n",
    "    else:\n",
    "        name = name\n",
    "    break"
   ],
   "metadata": {
    "collapsed": false,
    "pycharm": {
     "name": "#%%\n"
    }
   }
  },
  {
   "cell_type": "code",
   "execution_count": 10,
   "outputs": [
    {
     "data": {
      "text/plain": "[6, 34, 3, 1]"
     },
     "execution_count": 10,
     "metadata": {},
     "output_type": "execute_result"
    }
   ],
   "source": [
    "a =[1,3,34,6]\n",
    "a[::-1]"
   ],
   "metadata": {
    "collapsed": false,
    "pycharm": {
     "name": "#%%\n"
    }
   }
  },
  {
   "cell_type": "code",
   "execution_count": 11,
   "outputs": [
    {
     "data": {
      "text/plain": "     origin destination  trip_count  hour  M12  M8  BII-6b  M10  BIIa-1  M9  \\\n2     NLRTM       NLMOE          52     0    0  37       0    0       0   8   \n3     NLRTM       NLMOE          27     0    3   0       0    1       0   0   \n7     NLLEY       NLAMS           1     0    0   0       0    0       0   0   \n10    NLUTC       NLRTM          23     0    0  15       0    6       0   2   \n19    NLRTM       NLAPN           7     0    0   6       0    0       0   0   \n...     ...         ...         ...   ...  ...  ..     ...  ...     ...  ..   \n2842  NLRTM       NLGTB          21    23    0  17       0    0       0   0   \n2846  NLAMS       NLUTC           1    23    0   1       0    0       0   0   \n2848  NLVEN       NLBON           7    23    0   6       0    0       0   0   \n2852  NLNIJ       NLAMS           6    23    0   3       0    0       0   0   \n2858  NLHTB       NLBON           2    23    0   0       0    0       0   0   \n\n      ...  M0  C2l  BII-2L  B02  C1b  C2b  B01  C1l  route_v  \\\n2     ...   0    0       0    0    0    0    0    0        0   \n3     ...   0    0       0    0    0    0    0    0        1   \n7     ...   0    0       0    0    0    0    0    0        0   \n10    ...   0    0       0    0    0    0    0    0        0   \n19    ...   0    0       0    0    0    0    0    0        0   \n...   ...  ..  ...     ...  ...  ...  ...  ...  ...      ...   \n2842  ...   0    0       0    0    0    0    0    0        1   \n2846  ...   0    0       0    0    0    0    0    0        1   \n2848  ...   0    0       0    0    0    0    0    0        0   \n2852  ...   0    0       1    0    0    0    0    0        0   \n2858  ...   0    0       0    0    0    0    0    0        0   \n\n                    key  \n2     (NLRTM, NLMOE, 0)  \n3     (NLRTM, NLMOE, 1)  \n7     (NLLEY, NLAMS, 0)  \n10    (NLUTC, NLRTM, 0)  \n19    (NLRTM, NLAPN, 0)  \n...                 ...  \n2842  (NLRTM, NLGTB, 1)  \n2846  (NLAMS, NLUTC, 1)  \n2848  (NLVEN, NLBON, 0)  \n2852  (NLNIJ, NLAMS, 0)  \n2858  (NLHTB, NLBON, 0)  \n\n[885 rows x 39 columns]",
      "text/html": "<div>\n<style scoped>\n    .dataframe tbody tr th:only-of-type {\n        vertical-align: middle;\n    }\n\n    .dataframe tbody tr th {\n        vertical-align: top;\n    }\n\n    .dataframe thead th {\n        text-align: right;\n    }\n</style>\n<table border=\"1\" class=\"dataframe\">\n  <thead>\n    <tr style=\"text-align: right;\">\n      <th></th>\n      <th>origin</th>\n      <th>destination</th>\n      <th>trip_count</th>\n      <th>hour</th>\n      <th>M12</th>\n      <th>M8</th>\n      <th>BII-6b</th>\n      <th>M10</th>\n      <th>BIIa-1</th>\n      <th>M9</th>\n      <th>...</th>\n      <th>M0</th>\n      <th>C2l</th>\n      <th>BII-2L</th>\n      <th>B02</th>\n      <th>C1b</th>\n      <th>C2b</th>\n      <th>B01</th>\n      <th>C1l</th>\n      <th>route_v</th>\n      <th>key</th>\n    </tr>\n  </thead>\n  <tbody>\n    <tr>\n      <th>2</th>\n      <td>NLRTM</td>\n      <td>NLMOE</td>\n      <td>52</td>\n      <td>0</td>\n      <td>0</td>\n      <td>37</td>\n      <td>0</td>\n      <td>0</td>\n      <td>0</td>\n      <td>8</td>\n      <td>...</td>\n      <td>0</td>\n      <td>0</td>\n      <td>0</td>\n      <td>0</td>\n      <td>0</td>\n      <td>0</td>\n      <td>0</td>\n      <td>0</td>\n      <td>0</td>\n      <td>(NLRTM, NLMOE, 0)</td>\n    </tr>\n    <tr>\n      <th>3</th>\n      <td>NLRTM</td>\n      <td>NLMOE</td>\n      <td>27</td>\n      <td>0</td>\n      <td>3</td>\n      <td>0</td>\n      <td>0</td>\n      <td>1</td>\n      <td>0</td>\n      <td>0</td>\n      <td>...</td>\n      <td>0</td>\n      <td>0</td>\n      <td>0</td>\n      <td>0</td>\n      <td>0</td>\n      <td>0</td>\n      <td>0</td>\n      <td>0</td>\n      <td>1</td>\n      <td>(NLRTM, NLMOE, 1)</td>\n    </tr>\n    <tr>\n      <th>7</th>\n      <td>NLLEY</td>\n      <td>NLAMS</td>\n      <td>1</td>\n      <td>0</td>\n      <td>0</td>\n      <td>0</td>\n      <td>0</td>\n      <td>0</td>\n      <td>0</td>\n      <td>0</td>\n      <td>...</td>\n      <td>0</td>\n      <td>0</td>\n      <td>0</td>\n      <td>0</td>\n      <td>0</td>\n      <td>0</td>\n      <td>0</td>\n      <td>0</td>\n      <td>0</td>\n      <td>(NLLEY, NLAMS, 0)</td>\n    </tr>\n    <tr>\n      <th>10</th>\n      <td>NLUTC</td>\n      <td>NLRTM</td>\n      <td>23</td>\n      <td>0</td>\n      <td>0</td>\n      <td>15</td>\n      <td>0</td>\n      <td>6</td>\n      <td>0</td>\n      <td>2</td>\n      <td>...</td>\n      <td>0</td>\n      <td>0</td>\n      <td>0</td>\n      <td>0</td>\n      <td>0</td>\n      <td>0</td>\n      <td>0</td>\n      <td>0</td>\n      <td>0</td>\n      <td>(NLUTC, NLRTM, 0)</td>\n    </tr>\n    <tr>\n      <th>19</th>\n      <td>NLRTM</td>\n      <td>NLAPN</td>\n      <td>7</td>\n      <td>0</td>\n      <td>0</td>\n      <td>6</td>\n      <td>0</td>\n      <td>0</td>\n      <td>0</td>\n      <td>0</td>\n      <td>...</td>\n      <td>0</td>\n      <td>0</td>\n      <td>0</td>\n      <td>0</td>\n      <td>0</td>\n      <td>0</td>\n      <td>0</td>\n      <td>0</td>\n      <td>0</td>\n      <td>(NLRTM, NLAPN, 0)</td>\n    </tr>\n    <tr>\n      <th>...</th>\n      <td>...</td>\n      <td>...</td>\n      <td>...</td>\n      <td>...</td>\n      <td>...</td>\n      <td>...</td>\n      <td>...</td>\n      <td>...</td>\n      <td>...</td>\n      <td>...</td>\n      <td>...</td>\n      <td>...</td>\n      <td>...</td>\n      <td>...</td>\n      <td>...</td>\n      <td>...</td>\n      <td>...</td>\n      <td>...</td>\n      <td>...</td>\n      <td>...</td>\n      <td>...</td>\n    </tr>\n    <tr>\n      <th>2842</th>\n      <td>NLRTM</td>\n      <td>NLGTB</td>\n      <td>21</td>\n      <td>23</td>\n      <td>0</td>\n      <td>17</td>\n      <td>0</td>\n      <td>0</td>\n      <td>0</td>\n      <td>0</td>\n      <td>...</td>\n      <td>0</td>\n      <td>0</td>\n      <td>0</td>\n      <td>0</td>\n      <td>0</td>\n      <td>0</td>\n      <td>0</td>\n      <td>0</td>\n      <td>1</td>\n      <td>(NLRTM, NLGTB, 1)</td>\n    </tr>\n    <tr>\n      <th>2846</th>\n      <td>NLAMS</td>\n      <td>NLUTC</td>\n      <td>1</td>\n      <td>23</td>\n      <td>0</td>\n      <td>1</td>\n      <td>0</td>\n      <td>0</td>\n      <td>0</td>\n      <td>0</td>\n      <td>...</td>\n      <td>0</td>\n      <td>0</td>\n      <td>0</td>\n      <td>0</td>\n      <td>0</td>\n      <td>0</td>\n      <td>0</td>\n      <td>0</td>\n      <td>1</td>\n      <td>(NLAMS, NLUTC, 1)</td>\n    </tr>\n    <tr>\n      <th>2848</th>\n      <td>NLVEN</td>\n      <td>NLBON</td>\n      <td>7</td>\n      <td>23</td>\n      <td>0</td>\n      <td>6</td>\n      <td>0</td>\n      <td>0</td>\n      <td>0</td>\n      <td>0</td>\n      <td>...</td>\n      <td>0</td>\n      <td>0</td>\n      <td>0</td>\n      <td>0</td>\n      <td>0</td>\n      <td>0</td>\n      <td>0</td>\n      <td>0</td>\n      <td>0</td>\n      <td>(NLVEN, NLBON, 0)</td>\n    </tr>\n    <tr>\n      <th>2852</th>\n      <td>NLNIJ</td>\n      <td>NLAMS</td>\n      <td>6</td>\n      <td>23</td>\n      <td>0</td>\n      <td>3</td>\n      <td>0</td>\n      <td>0</td>\n      <td>0</td>\n      <td>0</td>\n      <td>...</td>\n      <td>0</td>\n      <td>0</td>\n      <td>1</td>\n      <td>0</td>\n      <td>0</td>\n      <td>0</td>\n      <td>0</td>\n      <td>0</td>\n      <td>0</td>\n      <td>(NLNIJ, NLAMS, 0)</td>\n    </tr>\n    <tr>\n      <th>2858</th>\n      <td>NLHTB</td>\n      <td>NLBON</td>\n      <td>2</td>\n      <td>23</td>\n      <td>0</td>\n      <td>0</td>\n      <td>0</td>\n      <td>0</td>\n      <td>0</td>\n      <td>0</td>\n      <td>...</td>\n      <td>0</td>\n      <td>0</td>\n      <td>0</td>\n      <td>0</td>\n      <td>0</td>\n      <td>0</td>\n      <td>0</td>\n      <td>0</td>\n      <td>0</td>\n      <td>(NLHTB, NLBON, 0)</td>\n    </tr>\n  </tbody>\n</table>\n<p>885 rows × 39 columns</p>\n</div>"
     },
     "execution_count": 11,
     "metadata": {},
     "output_type": "execute_result"
    }
   ],
   "source": [
    "df_random"
   ],
   "metadata": {
    "collapsed": false,
    "pycharm": {
     "name": "#%%\n"
    }
   }
  },
  {
   "cell_type": "code",
   "execution_count": 3,
   "outputs": [
    {
     "name": "stdout",
     "output_type": "stream",
     "text": [
      "['M10'] Vessel departed at NLTNZ 3 : 14 heading to NLVLI via route ('NLTNZ', 'NLVLI', 0)\n",
      "['M8'] Vessel departed at NLOOS 3 : 44 heading to NLTLB via route ('NLOOS', 'NLTLB', 0)\n",
      "['M11'] Vessel departed at NLGOR 4 : 37 heading to NLRTM via route ('NLGOR', 'NLRTM', 0)\n",
      "['M11'] Vessel departed at NLGOR 4 : 43 heading to NLRTM via route ('NLGOR', 'NLRTM', 0)\n",
      "['M2'] Vessel departed at NLLEY 5 : 4 heading to NLAMS via route ('NLLEY', 'NLAMS', 0)\n",
      "['M9'] Vessel departed at NLNIJ 5 : 43 heading to NLWAS via route ('NLNIJ', 'NLWAS', 0)\n",
      "['M8'] Vessel departed at NLOOS 6 : 4 heading to NLTLB via route ('NLOOS', 'NLTLB', 0)\n",
      "['M8'] Vessel departed at NLUTC 6 : 47 heading to NLRTM via route ('NLUTC', 'NLRTM', 0)\n",
      "['M12'] Vessel departed at NLHAR 7 : 3 heading to NLWTE via route ('NLHAR', 'NLWTE', 0)\n",
      "['M8'] Vessel departed at NLDOR 7 : 28 heading to NLRTM via route ('NLDOR', 'NLRTM', 0)\n",
      "['M0'] Vessel departed at NLTNZ 7 : 37 heading to NLVLI via route ('NLTNZ', 'NLVLI', 0)\n",
      "['M3'] Vessel departed at NLTLB 7 : 50 heading to NLMOE via route ('NLTLB', 'NLMOE', 0)\n",
      "['M2'] Vessel departed at NLAMS 8 : 0 heading to NLTIE via route ('NLAMS', 'NLTIE', 0)\n",
      "['BIIL-1'] Vessel departed at NLKGZ 8 : 5 heading to NLZAA via route ('NLKGZ', 'NLZAA', 0)\n",
      "['M3'] Vessel departed at NLAER 8 : 42 heading to NLSWI via route ('NLAER', 'NLSWI', 0)\n",
      "['M8'] Vessel departed at NLRTM 8 : 42 heading to NLMOE via route ('NLRTM', 'NLMOE', 0)\n",
      "['M2'] Vessel departed at NLNRW 8 : 57 heading to NLBON via route ('NLNRW', 'NLBON', 0)\n",
      "['M2'] Vessel departed at NLKGZ 9 : 6 heading to NLAMS via route ('NLKGZ', 'NLAMS', 0)\n",
      "['M3'] Vessel departed at NLOOS 9 : 21 heading to NLTLB via route ('NLOOS', 'NLTLB', 0)\n",
      "['M2'] Vessel departed at NLAMS 9 : 34 heading to NLWMO via route ('NLAMS', 'NLWMO', 0)\n",
      "['M6'] Vessel departed at NLNIJ 9 : 41 heading to NLDRU via route ('NLNIJ', 'NLDRU', 0)\n",
      "['M4'] Vessel departed at NLAMS 10 : 12 heading to NLAER via route ('NLAMS', 'NLAER', 0)\n",
      "['M0'] Vessel departed at NLKGZ 10 : 20 heading to NLZAA via route ('NLKGZ', 'NLZAA', 0)\n",
      "['M2'] Vessel departed at NLALK 10 : 30 heading to NLIJM via route ('NLALK', 'NLIJM', 0)\n",
      "['M4'] Vessel departed at NLAMS 10 : 44 heading to NLAER via route ('NLAMS', 'NLAER', 0)\n",
      "['M10'] Vessel departed at NLLEY 10 : 51 heading to NLAMS via route ('NLLEY', 'NLAMS', 0)\n",
      "['BIIa-1'] Vessel departed at NLKGZ 10 : 57 heading to NLZAA via route ('NLKGZ', 'NLZAA', 0)\n",
      "['M5'] Vessel departed at NLRTM 11 : 0 heading to NLMOE via route ('NLRTM', 'NLMOE', 0)\n",
      "['M6'] Vessel departed at NLRTM 12 : 14 heading to NLMOE via route ('NLRTM', 'NLMOE', 0)\n",
      "['M8'] Vessel departed at NLDOR 12 : 17 heading to NLRTM via route ('NLDOR', 'NLRTM', 0)\n",
      "['M5'] Vessel departed at NLAMS 12 : 22 heading to NLTIE via route ('NLAMS', 'NLTIE', 0)\n",
      "['M2'] Vessel departed at NLAMS 12 : 30 heading to NLAER via route ('NLAMS', 'NLAER', 0)\n",
      "['M2'] Vessel departed at NLAMS 13 : 46 heading to NLAER via route ('NLAMS', 'NLAER', 0)\n",
      "['M2'] Vessel departed at NLAMS 14 : 0 heading to NLAER via route ('NLAMS', 'NLAER', 0)\n",
      "['M10'] Vessel departed at NLTNZ 14 : 0 heading to NLVLI via route ('NLTNZ', 'NLVLI', 0)\n",
      "['M2'] Vessel departed at NLKGZ 14 : 1 heading to NLAMS via route ('NLKGZ', 'NLAMS', 0)\n",
      "['M2'] Vessel departed at NLHAR 14 : 11 heading to NLWTE via route ('NLHAR', 'NLWTE', 0)\n",
      "['BIIa-1'] Vessel departed at NLKGZ 14 : 12 heading to NLZAA via route ('NLKGZ', 'NLZAA', 0)\n",
      "['M4'] Vessel departed at NLAER 14 : 20 heading to NLLEY via route ('NLAER', 'NLLEY', 0)\n",
      "['M5'] Vessel departed at NLAMS 14 : 39 heading to NLTIE via route ('NLAMS', 'NLTIE', 0)\n",
      "['M8'] Vessel departed at NLTNZ 14 : 52 heading to NLBRS via route ('NLTNZ', 'NLBRS', 0)\n",
      "['M8'] Vessel departed at NLKGZ 15 : 21 heading to NLAMS via route ('NLKGZ', 'NLAMS', 0)\n",
      "['M8'] Vessel departed at NLGOR 15 : 25 heading to NLRTM via route ('NLGOR', 'NLRTM', 0)\n",
      "['M9'] Vessel departed at NLDOR 15 : 30 heading to NLRTM via route ('NLDOR', 'NLRTM', 0)\n",
      "['M2'] Vessel departed at NLKGZ 15 : 34 heading to NLAMS via route ('NLKGZ', 'NLAMS', 0)\n",
      "['M8'] Vessel departed at NLRTM 16 : 0 heading to NLMOE via route ('NLRTM', 'NLMOE', 0)\n",
      "['M8'] Vessel departed at NLOOS 16 : 15 heading to NLTLB via route ('NLOOS', 'NLTLB', 0)\n",
      "['M3'] Vessel departed at NLSWI 16 : 38 heading to NLLEY via route ('NLSWI', 'NLLEY', 0)\n",
      "['M6'] Vessel departed at NLFAR 16 : 45 heading to NLEEM via route ('NLFAR', 'NLEEM', 0)\n",
      "['M8'] Vessel departed at NLAER 16 : 58 heading to NLNIE via route ('NLAER', 'NLNIE', 0)\n",
      "['M8'] Vessel departed at NLRTM 17 : 5 heading to NLMOE via route ('NLRTM', 'NLMOE', 0)\n",
      "['M8'] Vessel departed at NLMOE 17 : 8 heading to NLOOS via route ('NLMOE', 'NLOOS', 0)\n",
      "['BIIa-1'] Vessel departed at NLAMS 17 : 14 heading to NLTIE via route ('NLAMS', 'NLTIE', 0)\n",
      "['M2'] Vessel departed at NLHTB 17 : 50 heading to NLBON via route ('NLHTB', 'NLBON', 0)\n",
      "['M8'] Vessel departed at NLNIJ 18 : 20 heading to NLAMS via route ('NLNIJ', 'NLAMS', 0)\n",
      "['M2'] Vessel departed at NLAMS 18 : 39 heading to NLTIE via route ('NLAMS', 'NLTIE', 0)\n",
      "['BI'] Vessel departed at NLAMS 19 : 23 heading to NLAER via route ('NLAMS', 'NLAER', 0)\n",
      "['M8'] Vessel departed at NLOOS 19 : 31 heading to NLTLB via route ('NLOOS', 'NLTLB', 0)\n",
      "['BII-1'] Vessel departed at NLUTC 19 : 52 heading to NLRTM via route ('NLUTC', 'NLRTM', 0)\n",
      "['M4'] Vessel departed at NLAMS 20 : 19 heading to NLTIE via route ('NLAMS', 'NLTIE', 0)\n",
      "['M8'] Vessel departed at NLRTM 20 : 20 heading to NLOOS via route ('NLRTM', 'NLOOS', 1)\n",
      "['M9'] Vessel departed at NLABL 20 : 35 heading to NLRTM via route ('NLABL', 'NLRTM', 0)\n",
      "['M8'] Vessel departed at NLRTM 21 : 31 heading to NLGTB via route ('NLRTM', 'NLGTB', 1)\n",
      "['M4'] Vessel departed at NLLEY 21 : 35 heading to NLAMS via route ('NLLEY', 'NLAMS', 0)\n",
      "['BIIL-1'] Vessel departed at NLTNZ 22 : 3 heading to NLVLI via route ('NLTNZ', 'NLVLI', 0)\n",
      "['C3b'] Vessel departed at NLRTM 23 : 29 heading to NLMOE via route ('NLRTM', 'NLMOE', 1)\n",
      "CPU times: total: 26.4 s\n",
      "Wall time: 26.3 s\n"
     ]
    }
   ],
   "source": [
    "%%time\n",
    "type_list = list(df_random.iloc[:, 4:-2])\n",
    "for hour in range(24):\n",
    "    df_1 = df_random.loc[(df_random.hour == hour)]\n",
    "    for timestep in range(60):\n",
    "        for harbour in list(set(list(df_1.origin.unique()) + list(df_1.destination.unique()))):\n",
    "            a = df_1.loc[(df_1.origin==harbour)|(df_1.destination == harbour)]\n",
    "            for i,j in enumerate(a.index):\n",
    "                # chance that a vessel is generated is equal to 1/2 (either spawn at origin or dest) * trip_count/365\n",
    "                # (because trip_count is yearly) *(time_step/hours)\n",
    "                if 0.5 * (df_1.trip_count[j]/365) * (1/60) >= np.random.random():\n",
    "                    # determine vessel type\n",
    "                    prob = list(a.iloc[i, 4:-2].values / a.iloc[i, 4:-2].sum())\n",
    "                    to_pick = type_list\n",
    "                    ship_type = np.random.choice(a=to_pick, size=1, replace=True, p=prob)\n",
    "                    # randomly draw ship types for each OD pair\n",
    "                    print(ship_type, \"Vessel departed at\", df_1.origin[j], hour, ':', timestep, \"heading to\", df_1.destination[j], \"via route\", df_1.key[j])\n"
   ],
   "metadata": {
    "collapsed": false,
    "pycharm": {
     "name": "#%%\n"
    }
   }
  },
  {
   "cell_type": "code",
   "execution_count": 18,
   "outputs": [
    {
     "data": {
      "text/plain": "['M12',\n 'M8',\n 'BII-6b',\n 'M10',\n 'BIIa-1',\n 'M9',\n 'BII-6l',\n 'C3b',\n 'BII-4',\n 'M7',\n 'M6',\n 'BIIL-1',\n 'C3l',\n 'M5',\n 'M11',\n 'BI',\n 'M3',\n 'M2',\n 'M1',\n 'BII-1',\n 'BII-2b',\n 'M4',\n 'B03',\n 'C4',\n 'B04',\n 'M0',\n 'C2l',\n 'BII-2L',\n 'B02',\n 'C1b',\n 'C2b',\n 'B01',\n 'C1l']"
     },
     "execution_count": 18,
     "metadata": {},
     "output_type": "execute_result"
    }
   ],
   "source": [
    "type_list"
   ],
   "metadata": {
    "collapsed": false,
    "pycharm": {
     "name": "#%%\n"
    }
   }
  },
  {
   "cell_type": "code",
   "execution_count": 19,
   "outputs": [],
   "source": [
    "def random_vessel_generator(df_prob, load=1):\n",
    "    \"\"\" Function to generate random vessel data.\n",
    "    Parameters\n",
    "    ----------\n",
    "    df_prob: pd.DataFrame\n",
    "    This dataframe must contain historical travel data\n",
    "    load: float\n",
    "    This float is equal to the simulated occupation of the network and may be read as the part of the traffic that is\n",
    "    electric.\n",
    "    \"\"\"\n",
    "    df_prob = df_prob.loc[df_prob.trip_count != 0]\n",
    "    df_prob.reset_index(inplace=True, drop=True)\n",
    "    df_prob = df_prob.fillna(0)\n",
    "\n",
    "    # create dict to store random prob based values later on\n",
    "    main_dict = {i: [] for i in df_prob.columns}\n",
    "\n",
    "    # copy origin and destination from original df\n",
    "    main_dict['origin'] = []\n",
    "    main_dict['destination'] = []\n",
    "    main_dict['route_v'] = []\n",
    "    main_dict['hour'] = []\n",
    "    main_dict['trip_count'] = []\n",
    "\n",
    "    # fill nan values and create type list\n",
    "    type_list = list(df_prob.iloc[:, 4:-1])\n",
    "    for i in range(24):\n",
    "        df_temp = df_prob.loc[df_prob.hour == i]\n",
    "        df_temp = df_temp.reset_index(drop=True)\n",
    "        total = df_temp.trip_count.sum()\n",
    "        prob_r = [i / total for i in df_temp.trip_count]\n",
    "        to_pick_r = list(np.arange(0, len(df_temp)))\n",
    "        count_r = total * 1\n",
    "        # randomly draw ODs\n",
    "        rand_routes = np.random.choice(a=to_pick_r, size=round(count_r), replace=True, p=prob_r)\n",
    "        unique_r, counts_r = np.unique(rand_routes, return_counts=True)\n",
    "        temp_type_dict_r = dict(zip(unique_r, counts_r))\n",
    "\n",
    "        for pair in df_temp.index:\n",
    "            # store trip count data previous draw\n",
    "            if pair in temp_type_dict_r.keys():\n",
    "                main_dict['trip_count'].append(temp_type_dict_r[pair])\n",
    "                main_dict['origin'].append(df_temp.origin[pair])\n",
    "                main_dict['destination'].append(df_temp.destination[pair])\n",
    "                main_dict['route_v'].append(df_temp.route_v[pair])\n",
    "                main_dict['hour'].append(i)\n",
    "                # print(main_dict['trip_count'])\n",
    "                # determine parameters to randomly draw ship types for each OD pair\n",
    "                prob = list(df_temp.iloc[pair, 4:-1].values / df_temp.iloc[pair, 4:-1].sum())\n",
    "                to_pick = type_list\n",
    "                # goes wrong now because may be zero ...\n",
    "                count = temp_type_dict_r[pair]\n",
    "\n",
    "                # randomly draw ship types for each OD pair\n",
    "                rand_vessels = np.random.choice(a=to_pick, size=round(count), replace=True, p=prob)\n",
    "                unique, counts = np.unique(rand_vessels, return_counts=True)\n",
    "                temp_type_dict = dict(zip(unique, counts))\n",
    "                for key in type_list:\n",
    "                    if key in temp_type_dict.keys():\n",
    "                        main_dict[key].append(temp_type_dict[key])\n",
    "                    else:\n",
    "                        main_dict[key].append(0)\n",
    "    break\n",
    "\n",
    "    df_return = pd.DataFrame.from_dict(main_dict)\n",
    "\n",
    "    return df_return"
   ],
   "metadata": {
    "collapsed": false,
    "pycharm": {
     "name": "#%%\n"
    }
   }
  },
  {
   "cell_type": "code",
   "execution_count": 4,
   "outputs": [],
   "source": [
    "a1 = random_vessel_generator(df_ivs, 1)"
   ],
   "metadata": {
    "collapsed": false,
    "pycharm": {
     "name": "#%%\n"
    }
   }
  },
  {
   "cell_type": "code",
   "execution_count": 93,
   "outputs": [
    {
     "data": {
      "text/plain": "     origin destination  trip_count  actual  hour  M12  M8  BII-6b  M10  \\\n0     NLRTM       NLAMS         155     155     0    0  94       0    0   \n1     NLRTM       NLAMS         161     161     0   98   0       0   14   \n2     NLRTM       NLAMS          55      55     0    0  39       0    0   \n3     NLRTM       NLAMS          25      25     0    1   0       0    0   \n4     NLRTM       NLAMS          80      80     0    9  20       0    3   \n...     ...         ...         ...     ...   ...  ...  ..     ...  ...   \n2850  NLTNZ       NLVLI           5       5    23    0   5       0    0   \n2851  NLTNZ       NLVLI           3       3    23    0   0       0    0   \n2852  NLTNZ       NLVLI          19      19    23    0  16       0    0   \n2853  NLTNZ       NLVLI           3       3    23    0   0       0    3   \n2854  NLTNZ       NLVLI           4       4    23    0   3       0    0   \n\n      BIIa-1  ...  B04  M0  C2l  BII-2L  B02  C1b  C2b  B01  C1l  route_v  \n0          2  ...    0   0    0       0    0    0    0    0    0        1  \n1          0  ...    0   0    0       3    0    0    0    0    0        1  \n2          0  ...    0   0    0       0    0    0    0    0    0        1  \n3          0  ...    0   0    0       0    0    0    0    0    0        1  \n4          1  ...    0   0    0       0    0    0    0    0    0        1  \n...      ...  ...  ...  ..  ...     ...  ...  ...  ...  ...  ...      ...  \n2850       0  ...    0   0    0       0    0    0    0    0    0        0  \n2851       0  ...    0   0    0       0    0    0    0    0    0        0  \n2852       0  ...    0   0    0       0    0    0    0    0    0        0  \n2853       0  ...    0   0    0       0    0    0    0    0    0        0  \n2854       0  ...    0   0    0       0    0    0    0    0    0        0  \n\n[2855 rows x 39 columns]",
      "text/html": "<div>\n<style scoped>\n    .dataframe tbody tr th:only-of-type {\n        vertical-align: middle;\n    }\n\n    .dataframe tbody tr th {\n        vertical-align: top;\n    }\n\n    .dataframe thead th {\n        text-align: right;\n    }\n</style>\n<table border=\"1\" class=\"dataframe\">\n  <thead>\n    <tr style=\"text-align: right;\">\n      <th></th>\n      <th>origin</th>\n      <th>destination</th>\n      <th>trip_count</th>\n      <th>actual</th>\n      <th>hour</th>\n      <th>M12</th>\n      <th>M8</th>\n      <th>BII-6b</th>\n      <th>M10</th>\n      <th>BIIa-1</th>\n      <th>...</th>\n      <th>B04</th>\n      <th>M0</th>\n      <th>C2l</th>\n      <th>BII-2L</th>\n      <th>B02</th>\n      <th>C1b</th>\n      <th>C2b</th>\n      <th>B01</th>\n      <th>C1l</th>\n      <th>route_v</th>\n    </tr>\n  </thead>\n  <tbody>\n    <tr>\n      <th>0</th>\n      <td>NLRTM</td>\n      <td>NLAMS</td>\n      <td>155</td>\n      <td>155</td>\n      <td>0</td>\n      <td>0</td>\n      <td>94</td>\n      <td>0</td>\n      <td>0</td>\n      <td>2</td>\n      <td>...</td>\n      <td>0</td>\n      <td>0</td>\n      <td>0</td>\n      <td>0</td>\n      <td>0</td>\n      <td>0</td>\n      <td>0</td>\n      <td>0</td>\n      <td>0</td>\n      <td>1</td>\n    </tr>\n    <tr>\n      <th>1</th>\n      <td>NLRTM</td>\n      <td>NLAMS</td>\n      <td>161</td>\n      <td>161</td>\n      <td>0</td>\n      <td>98</td>\n      <td>0</td>\n      <td>0</td>\n      <td>14</td>\n      <td>0</td>\n      <td>...</td>\n      <td>0</td>\n      <td>0</td>\n      <td>0</td>\n      <td>3</td>\n      <td>0</td>\n      <td>0</td>\n      <td>0</td>\n      <td>0</td>\n      <td>0</td>\n      <td>1</td>\n    </tr>\n    <tr>\n      <th>2</th>\n      <td>NLRTM</td>\n      <td>NLAMS</td>\n      <td>55</td>\n      <td>55</td>\n      <td>0</td>\n      <td>0</td>\n      <td>39</td>\n      <td>0</td>\n      <td>0</td>\n      <td>0</td>\n      <td>...</td>\n      <td>0</td>\n      <td>0</td>\n      <td>0</td>\n      <td>0</td>\n      <td>0</td>\n      <td>0</td>\n      <td>0</td>\n      <td>0</td>\n      <td>0</td>\n      <td>1</td>\n    </tr>\n    <tr>\n      <th>3</th>\n      <td>NLRTM</td>\n      <td>NLAMS</td>\n      <td>25</td>\n      <td>25</td>\n      <td>0</td>\n      <td>1</td>\n      <td>0</td>\n      <td>0</td>\n      <td>0</td>\n      <td>0</td>\n      <td>...</td>\n      <td>0</td>\n      <td>0</td>\n      <td>0</td>\n      <td>0</td>\n      <td>0</td>\n      <td>0</td>\n      <td>0</td>\n      <td>0</td>\n      <td>0</td>\n      <td>1</td>\n    </tr>\n    <tr>\n      <th>4</th>\n      <td>NLRTM</td>\n      <td>NLAMS</td>\n      <td>80</td>\n      <td>80</td>\n      <td>0</td>\n      <td>9</td>\n      <td>20</td>\n      <td>0</td>\n      <td>3</td>\n      <td>1</td>\n      <td>...</td>\n      <td>0</td>\n      <td>0</td>\n      <td>0</td>\n      <td>0</td>\n      <td>0</td>\n      <td>0</td>\n      <td>0</td>\n      <td>0</td>\n      <td>0</td>\n      <td>1</td>\n    </tr>\n    <tr>\n      <th>...</th>\n      <td>...</td>\n      <td>...</td>\n      <td>...</td>\n      <td>...</td>\n      <td>...</td>\n      <td>...</td>\n      <td>...</td>\n      <td>...</td>\n      <td>...</td>\n      <td>...</td>\n      <td>...</td>\n      <td>...</td>\n      <td>...</td>\n      <td>...</td>\n      <td>...</td>\n      <td>...</td>\n      <td>...</td>\n      <td>...</td>\n      <td>...</td>\n      <td>...</td>\n      <td>...</td>\n    </tr>\n    <tr>\n      <th>2850</th>\n      <td>NLTNZ</td>\n      <td>NLVLI</td>\n      <td>5</td>\n      <td>5</td>\n      <td>23</td>\n      <td>0</td>\n      <td>5</td>\n      <td>0</td>\n      <td>0</td>\n      <td>0</td>\n      <td>...</td>\n      <td>0</td>\n      <td>0</td>\n      <td>0</td>\n      <td>0</td>\n      <td>0</td>\n      <td>0</td>\n      <td>0</td>\n      <td>0</td>\n      <td>0</td>\n      <td>0</td>\n    </tr>\n    <tr>\n      <th>2851</th>\n      <td>NLTNZ</td>\n      <td>NLVLI</td>\n      <td>3</td>\n      <td>3</td>\n      <td>23</td>\n      <td>0</td>\n      <td>0</td>\n      <td>0</td>\n      <td>0</td>\n      <td>0</td>\n      <td>...</td>\n      <td>0</td>\n      <td>0</td>\n      <td>0</td>\n      <td>0</td>\n      <td>0</td>\n      <td>0</td>\n      <td>0</td>\n      <td>0</td>\n      <td>0</td>\n      <td>0</td>\n    </tr>\n    <tr>\n      <th>2852</th>\n      <td>NLTNZ</td>\n      <td>NLVLI</td>\n      <td>19</td>\n      <td>19</td>\n      <td>23</td>\n      <td>0</td>\n      <td>16</td>\n      <td>0</td>\n      <td>0</td>\n      <td>0</td>\n      <td>...</td>\n      <td>0</td>\n      <td>0</td>\n      <td>0</td>\n      <td>0</td>\n      <td>0</td>\n      <td>0</td>\n      <td>0</td>\n      <td>0</td>\n      <td>0</td>\n      <td>0</td>\n    </tr>\n    <tr>\n      <th>2853</th>\n      <td>NLTNZ</td>\n      <td>NLVLI</td>\n      <td>3</td>\n      <td>3</td>\n      <td>23</td>\n      <td>0</td>\n      <td>0</td>\n      <td>0</td>\n      <td>3</td>\n      <td>0</td>\n      <td>...</td>\n      <td>0</td>\n      <td>0</td>\n      <td>0</td>\n      <td>0</td>\n      <td>0</td>\n      <td>0</td>\n      <td>0</td>\n      <td>0</td>\n      <td>0</td>\n      <td>0</td>\n    </tr>\n    <tr>\n      <th>2854</th>\n      <td>NLTNZ</td>\n      <td>NLVLI</td>\n      <td>4</td>\n      <td>4</td>\n      <td>23</td>\n      <td>0</td>\n      <td>3</td>\n      <td>0</td>\n      <td>0</td>\n      <td>0</td>\n      <td>...</td>\n      <td>0</td>\n      <td>0</td>\n      <td>0</td>\n      <td>0</td>\n      <td>0</td>\n      <td>0</td>\n      <td>0</td>\n      <td>0</td>\n      <td>0</td>\n      <td>0</td>\n    </tr>\n  </tbody>\n</table>\n<p>2855 rows × 39 columns</p>\n</div>"
     },
     "execution_count": 93,
     "metadata": {},
     "output_type": "execute_result"
    }
   ],
   "source": [
    "a1"
   ],
   "metadata": {
    "collapsed": false,
    "pycharm": {
     "name": "#%%\n"
    }
   }
  },
  {
   "cell_type": "code",
   "execution_count": null,
   "outputs": [],
   "source": [],
   "metadata": {
    "collapsed": false,
    "pycharm": {
     "name": "#%%\n"
    }
   }
  }
 ],
 "metadata": {
  "kernelspec": {
   "display_name": "Python 3",
   "language": "python",
   "name": "python3"
  },
  "language_info": {
   "codemirror_mode": {
    "name": "ipython",
    "version": 2
   },
   "file_extension": ".py",
   "mimetype": "text/x-python",
   "name": "python",
   "nbconvert_exporter": "python",
   "pygments_lexer": "ipython2",
   "version": "2.7.6"
  }
 },
 "nbformat": 4,
 "nbformat_minor": 0
}