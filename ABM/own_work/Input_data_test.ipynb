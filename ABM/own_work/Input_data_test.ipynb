{
 "cells": [
  {
   "cell_type": "code",
   "execution_count": 3,
   "outputs": [],
   "source": [
    "import pandas as pd\n",
    "import pickle\n",
    "import numpy as np\n",
    "import networkx as nx\n",
    "import re\n",
    "import time"
   ],
   "metadata": {
    "collapsed": false,
    "pycharm": {
     "name": "#%%\n"
    }
   }
  },
  {
   "cell_type": "code",
   "execution_count": 4,
   "outputs": [],
   "source": [
    "df_ivs = pickle.load(open('data/ivs_exploded_100.p', 'rb'))\n",
    "df_ivs_old = pickle.load(open('data/ivs_exploded_100_old.p', 'rb'))\n",
    "routes_dests = pickle.load(open('data/users_ship_specific_routes.p', 'rb'))\n",
    "df_ships = pd.read_excel('data/ship_types.xlsx')\n",
    "\n",
    "G = pickle.load(open(\"data/network.p\", \"rb\"))\n",
    "paths = pickle.load(open(\"data/paths.p\", \"rb\"))\n",
    "df_random = pickle.load(open(\"data/df_random.p\", \"rb\"))\n",
    "df_abm = pickle.load(open(\"data/df_abm.p\", \"rb\"))\n",
    "non_zero_flows = pickle.load(open(\"data/non_zero_flows.p\", \"rb\"))\n",
    "feasible_combinations = pickle.load(open('data/feasible_comb.p', 'rb'))\n",
    "optimal_flows = pickle.load(open('data/optimal_flows.p', 'rb'))"
   ],
   "metadata": {
    "collapsed": false,
    "pycharm": {
     "name": "#%%\n"
    }
   }
  },
  {
   "cell_type": "code",
   "execution_count": 5,
   "outputs": [
    {
     "data": {
      "text/plain": "       id   source    target      length_m         X          Y  \\\n0    1000      113   8867600  20435.805397  5.269204  53.215456   \n1    1001      113   8865605  20435.805397  5.151546  53.267585   \n2    1002  8865756  30986055   2481.139176  5.412350  53.178500   \n3    1003  8863630   8863818   7765.172161  4.835893  51.681540   \n4    1004  8863630   8868359   1034.856186  4.830372  51.711997   \n..    ...      ...       ...           ...       ...        ...   \n211  1211      NaN       NaN           NaN  5.536470  51.816354   \n212  1212      NaN       NaN           NaN  4.846061  51.651560   \n213  1213      NaN       NaN           NaN  3.705824  51.451397   \n214  1214      NaN       NaN           NaN  4.961690  51.824861   \n215  1215      NaN       NaN           NaN  5.239614  52.403333   \n\n                    name  charging_stations             model_type   range  \\\n0         (113, 8867600)                NaN                   link  100000   \n1         (113, 8865605)                NaN                   link  100000   \n2    (8865756, 30986055)                NaN                   link  100000   \n3     (8863630, 8863818)                NaN                   link  100000   \n4     (8863630, 8868359)                NaN                   link  100000   \n..                   ...                ...                    ...     ...   \n211              8860920                0.0      intermediate_node  100000   \n212              8863818                1.0  harbour_with_charging  100000   \n213              8864111                0.0                harbour  100000   \n214              8864151                0.0      intermediate_node  100000   \n215              8864005                1.0  harbour_with_charging  100000   \n\n     capacity  \n0        2500  \n1        2500  \n2        2500  \n3        2500  \n4        2500  \n..        ...  \n211      2500  \n212      2500  \n213      2500  \n214      2500  \n215      2500  \n\n[216 rows x 11 columns]",
      "text/html": "<div>\n<style scoped>\n    .dataframe tbody tr th:only-of-type {\n        vertical-align: middle;\n    }\n\n    .dataframe tbody tr th {\n        vertical-align: top;\n    }\n\n    .dataframe thead th {\n        text-align: right;\n    }\n</style>\n<table border=\"1\" class=\"dataframe\">\n  <thead>\n    <tr style=\"text-align: right;\">\n      <th></th>\n      <th>id</th>\n      <th>source</th>\n      <th>target</th>\n      <th>length_m</th>\n      <th>X</th>\n      <th>Y</th>\n      <th>name</th>\n      <th>charging_stations</th>\n      <th>model_type</th>\n      <th>range</th>\n      <th>capacity</th>\n    </tr>\n  </thead>\n  <tbody>\n    <tr>\n      <th>0</th>\n      <td>1000</td>\n      <td>113</td>\n      <td>8867600</td>\n      <td>20435.805397</td>\n      <td>5.269204</td>\n      <td>53.215456</td>\n      <td>(113, 8867600)</td>\n      <td>NaN</td>\n      <td>link</td>\n      <td>100000</td>\n      <td>2500</td>\n    </tr>\n    <tr>\n      <th>1</th>\n      <td>1001</td>\n      <td>113</td>\n      <td>8865605</td>\n      <td>20435.805397</td>\n      <td>5.151546</td>\n      <td>53.267585</td>\n      <td>(113, 8865605)</td>\n      <td>NaN</td>\n      <td>link</td>\n      <td>100000</td>\n      <td>2500</td>\n    </tr>\n    <tr>\n      <th>2</th>\n      <td>1002</td>\n      <td>8865756</td>\n      <td>30986055</td>\n      <td>2481.139176</td>\n      <td>5.412350</td>\n      <td>53.178500</td>\n      <td>(8865756, 30986055)</td>\n      <td>NaN</td>\n      <td>link</td>\n      <td>100000</td>\n      <td>2500</td>\n    </tr>\n    <tr>\n      <th>3</th>\n      <td>1003</td>\n      <td>8863630</td>\n      <td>8863818</td>\n      <td>7765.172161</td>\n      <td>4.835893</td>\n      <td>51.681540</td>\n      <td>(8863630, 8863818)</td>\n      <td>NaN</td>\n      <td>link</td>\n      <td>100000</td>\n      <td>2500</td>\n    </tr>\n    <tr>\n      <th>4</th>\n      <td>1004</td>\n      <td>8863630</td>\n      <td>8868359</td>\n      <td>1034.856186</td>\n      <td>4.830372</td>\n      <td>51.711997</td>\n      <td>(8863630, 8868359)</td>\n      <td>NaN</td>\n      <td>link</td>\n      <td>100000</td>\n      <td>2500</td>\n    </tr>\n    <tr>\n      <th>...</th>\n      <td>...</td>\n      <td>...</td>\n      <td>...</td>\n      <td>...</td>\n      <td>...</td>\n      <td>...</td>\n      <td>...</td>\n      <td>...</td>\n      <td>...</td>\n      <td>...</td>\n      <td>...</td>\n    </tr>\n    <tr>\n      <th>211</th>\n      <td>1211</td>\n      <td>NaN</td>\n      <td>NaN</td>\n      <td>NaN</td>\n      <td>5.536470</td>\n      <td>51.816354</td>\n      <td>8860920</td>\n      <td>0.0</td>\n      <td>intermediate_node</td>\n      <td>100000</td>\n      <td>2500</td>\n    </tr>\n    <tr>\n      <th>212</th>\n      <td>1212</td>\n      <td>NaN</td>\n      <td>NaN</td>\n      <td>NaN</td>\n      <td>4.846061</td>\n      <td>51.651560</td>\n      <td>8863818</td>\n      <td>1.0</td>\n      <td>harbour_with_charging</td>\n      <td>100000</td>\n      <td>2500</td>\n    </tr>\n    <tr>\n      <th>213</th>\n      <td>1213</td>\n      <td>NaN</td>\n      <td>NaN</td>\n      <td>NaN</td>\n      <td>3.705824</td>\n      <td>51.451397</td>\n      <td>8864111</td>\n      <td>0.0</td>\n      <td>harbour</td>\n      <td>100000</td>\n      <td>2500</td>\n    </tr>\n    <tr>\n      <th>214</th>\n      <td>1214</td>\n      <td>NaN</td>\n      <td>NaN</td>\n      <td>NaN</td>\n      <td>4.961690</td>\n      <td>51.824861</td>\n      <td>8864151</td>\n      <td>0.0</td>\n      <td>intermediate_node</td>\n      <td>100000</td>\n      <td>2500</td>\n    </tr>\n    <tr>\n      <th>215</th>\n      <td>1215</td>\n      <td>NaN</td>\n      <td>NaN</td>\n      <td>NaN</td>\n      <td>5.239614</td>\n      <td>52.403333</td>\n      <td>8864005</td>\n      <td>1.0</td>\n      <td>harbour_with_charging</td>\n      <td>100000</td>\n      <td>2500</td>\n    </tr>\n  </tbody>\n</table>\n<p>216 rows × 11 columns</p>\n</div>"
     },
     "execution_count": 5,
     "metadata": {},
     "output_type": "execute_result"
    }
   ],
   "source": [
    "df_abm.loc[df_abm.name]"
   ],
   "metadata": {
    "collapsed": false,
    "pycharm": {
     "name": "#%%\n"
    }
   }
  },
  {
   "cell_type": "code",
   "execution_count": 8,
   "outputs": [
    {
     "name": "stdout",
     "output_type": "stream",
     "text": [
      "('NLABL', 'NLRTM', 0)\n",
      "['8866686']\n",
      "('NLAER', 'NLLEY', 0)\n",
      "['8863709']\n",
      "('NLAER', 'NLLEY', 0)\n",
      "['8864005']\n",
      "('NLAER', 'NLRTM', 0)\n",
      "['8863360', '886400']\n",
      "('NLAER', 'NLSWI', 0)\n",
      "['8864005', '886826']\n",
      "('NLALK', 'NLIJM', 0)\n",
      "['8863260']\n",
      "('NLALK', 'NLIJM', 0)\n",
      "['8866889']\n",
      "('NLAMS', 'NLAER', 0)\n",
      "['8866763', '886400']\n",
      "('NLAMS', 'NLTIE', 0)\n",
      "['8864837', '2263814']\n",
      "('NLAMS', 'NLUTC', 1)\n",
      "['8864837']\n",
      "('NLAMS', 'NLUTC', 1)\n",
      "['8867240', '886676']\n",
      "('NLAMS', 'NLWMO', 0)\n",
      "['8866889']\n",
      "('NLAMS', 'NLZAA', 0)\n",
      "['8866889']\n",
      "('NLDOR', 'NLRTM', 0)\n",
      "['8862663']\n",
      "('NLDOR', 'NLRTM', 1)\n",
      "['8862663']\n",
      "('NLDRO', 'NLKAM', 0)\n",
      "['8868191']\n",
      "('NLFAR', 'NLEEM', 0)\n",
      "['8863614']\n",
      "('NLGOR', 'NLRTM', 0)\n",
      "['8866686']\n",
      "('NLHAR', 'NLWTE', 0)\n",
      "['113']\n",
      "('NLHAR', 'NLWTE', 0)\n",
      "['8865756', '886560']\n",
      "('NLHTB', 'NLBON', 0)\n",
      "['8865990', '886820']\n",
      "('NLHTB', 'NLBZM', 0)\n",
      "['112', '886677']\n",
      "('NLIJM', 'NLRTM', 1)\n",
      "['8863360', '886326']\n",
      "('NLKGZ', 'NLAMS', 0)\n",
      "['8863260']\n",
      "('NLKGZ', 'NLZAA', 0)\n",
      "['8866889']\n",
      "('NLLEY', 'NLAMS', 0)\n",
      "['8863709', '886676']\n",
      "('NLMOE', 'NLOOS', 0)\n",
      "['8863818']\n",
      "('NLNIJ', 'NLAMS', 0)\n",
      "['8865412', '886483']\n",
      "('NLNIJ', 'NLDRU', 0)\n",
      "['8865412']\n",
      "('NLNIJ', 'NLWAS', 0)\n",
      "['22638327', '886456']\n",
      "('NLNIJ', 'NLWAS', 0)\n",
      "['8865600']\n",
      "('NLNRW', 'NLBON', 0)\n",
      "['8868208']\n",
      "('NLOOS', 'NLTLB', 0)\n",
      "['8863818']\n",
      "('NLOOS', 'NLTLB', 0)\n",
      "['8867740']\n",
      "('NLRTM', 'NLAPN', 0)\n",
      "['8863360']\n",
      "('NLRTM', 'NLGTB', 1)\n",
      "['8865003']\n",
      "('NLRTM', 'NLLID', 0)\n",
      "['105']\n",
      "('NLRTM', 'NLMOE', 0)\n",
      "['30984595']\n",
      "('NLRTM', 'NLMOE', 0)\n",
      "['8863306']\n",
      "('NLRTM', 'NLMOE', 1)\n",
      "['30984595']\n",
      "('NLRTM', 'NLMOE', 1)\n",
      "['8865003']\n",
      "('NLRTM', 'NLOOS', 1)\n",
      "['8862663']\n",
      "('NLSWI', 'NLLEY', 0)\n",
      "['8868266']\n",
      "('NLTLB', 'NLMOE', 0)\n",
      "['8863818']\n",
      "('NLTNZ', 'NLBRS', 0)\n",
      "['8861528']\n",
      "('NLTNZ', 'NLBRS', 0)\n",
      "['8863469']\n",
      "('NLTNZ', 'NLVLI', 0)\n",
      "['8863469']\n",
      "('NLTNZ', 'NLVLI', 0)\n",
      "['8864111']\n",
      "('NLUTC', 'NLRTM', 0)\n",
      "['104']\n",
      "('NLUTC', 'NLTIE', 0)\n",
      "['22638146']\n",
      "('NLUTC', 'NLTIE', 0)\n",
      "['8867240']\n",
      "('NLVEG', 'NLHEJ', 0)\n",
      "['8865990', '886560']\n",
      "('NLVEN', 'NLBON', 0)\n",
      "['22637863', '886820']\n",
      "('NLWSP', 'NLAER', 0)\n",
      "['8864005']\n",
      "('NLWSP', 'NLAER', 0)\n",
      "['8864837']\n"
     ]
    }
   ],
   "source": [
    "o = {}\n",
    "for key, item in optimal_flows.items():\n",
    "    if item != 0:\n",
    "        a = (re.sub('''[\"'_']''', \"\", key[16:35]).split(','))\n",
    "        a = tuple([a[0], a[1], int(a[2])])\n",
    "        o[a] = {'combinations':[], 'flows':[]}\n",
    "\n",
    "for key, item in optimal_flows.items():\n",
    "    if item != 0:\n",
    "        a = (re.sub('''[\"'_']''', \"\", key[16:35]).split(','))\n",
    "        a = tuple([a[0], a[1], int(a[2])])\n",
    "        o[a]['combinations'].append(key[40:-4].split(\"',_'\"))\n",
    "        o[a]['flows'].append(item)\n",
    "        print(a)\n",
    "        print(key[40:-4].split(\"',_'\"))\n"
   ],
   "metadata": {
    "collapsed": false,
    "pycharm": {
     "name": "#%%\n"
    }
   }
  },
  {
   "cell_type": "code",
   "execution_count": 9,
   "outputs": [
    {
     "data": {
      "text/plain": "{('NLABL', 'NLRTM', 0): {'combinations': [['8866686']], 'flows': [1.0]},\n ('NLAER', 'NLLEY', 0): {'combinations': [['8863709'], ['8864005']],\n  'flows': [0.40542137, 0.59457863]},\n ('NLAER', 'NLRTM', 0): {'combinations': [['8863360', '886400']],\n  'flows': [0.21725455]},\n ('NLAER', 'NLSWI', 0): {'combinations': [['8864005', '886826']],\n  'flows': [1.0]},\n ('NLALK', 'NLIJM', 0): {'combinations': [['8863260'], ['8866889']],\n  'flows': [0.56482298, 0.43517702]},\n ('NLAMS', 'NLAER', 0): {'combinations': [['8866763', '886400']],\n  'flows': [0.5437747]},\n ('NLAMS', 'NLTIE', 0): {'combinations': [['8864837', '2263814']],\n  'flows': [0.21140541]},\n ('NLAMS', 'NLUTC', 1): {'combinations': [['8864837'], ['8867240', '886676']],\n  'flows': [0.96552342, 0.034476582]},\n ('NLAMS', 'NLWMO', 0): {'combinations': [['8866889']], 'flows': [1.0]},\n ('NLAMS', 'NLZAA', 0): {'combinations': [['8866889']], 'flows': [1.0]},\n ('NLDOR', 'NLRTM', 0): {'combinations': [['8862663']], 'flows': [1.0]},\n ('NLDOR', 'NLRTM', 1): {'combinations': [['8862663']], 'flows': [1.0]},\n ('NLDRO', 'NLKAM', 0): {'combinations': [['8868191']], 'flows': [1.0]},\n ('NLFAR', 'NLEEM', 0): {'combinations': [['8863614']], 'flows': [1.0]},\n ('NLGOR', 'NLRTM', 0): {'combinations': [['8866686']], 'flows': [0.60469325]},\n ('NLHAR', 'NLWTE', 0): {'combinations': [['113'], ['8865756', '886560']],\n  'flows': [0.54177269, 0.43341815]},\n ('NLHTB', 'NLBON', 0): {'combinations': [['8865990', '886820']],\n  'flows': [1.0]},\n ('NLHTB', 'NLBZM', 0): {'combinations': [['112', '886677']],\n  'flows': [0.60835071]},\n ('NLIJM', 'NLRTM', 1): {'combinations': [['8863360', '886326']],\n  'flows': [0.78052072]},\n ('NLKGZ', 'NLAMS', 0): {'combinations': [['8863260']], 'flows': [1.0]},\n ('NLKGZ', 'NLZAA', 0): {'combinations': [['8866889']], 'flows': [1.0]},\n ('NLLEY', 'NLAMS', 0): {'combinations': [['8863709', '886676']],\n  'flows': [1.0]},\n ('NLMOE', 'NLOOS', 0): {'combinations': [['8863818']], 'flows': [1.0]},\n ('NLNIJ', 'NLAMS', 0): {'combinations': [['8865412', '886483']],\n  'flows': [0.25477039]},\n ('NLNIJ', 'NLDRU', 0): {'combinations': [['8865412']], 'flows': [1.0]},\n ('NLNIJ', 'NLWAS', 0): {'combinations': [['22638327', '886456'], ['8865600']],\n  'flows': [0.316878, 0.683122]},\n ('NLNRW', 'NLBON', 0): {'combinations': [['8868208']], 'flows': [0.67207657]},\n ('NLOOS', 'NLTLB', 0): {'combinations': [['8863818'], ['8867740']],\n  'flows': [0.052299703, 0.9477003]},\n ('NLRTM', 'NLAPN', 0): {'combinations': [['8863360']], 'flows': [1.0]},\n ('NLRTM', 'NLGTB', 1): {'combinations': [['8865003']], 'flows': [0.55303197]},\n ('NLRTM', 'NLLID', 0): {'combinations': [['105']], 'flows': [1.0]},\n ('NLRTM', 'NLMOE', 0): {'combinations': [['30984595'], ['8863306']],\n  'flows': [0.41361748, 0.58638252]},\n ('NLRTM', 'NLMOE', 1): {'combinations': [['30984595'], ['8865003']],\n  'flows': [0.46235904, 0.53764096]},\n ('NLRTM', 'NLOOS', 1): {'combinations': [['8862663']], 'flows': [0.16791769]},\n ('NLSWI', 'NLLEY', 0): {'combinations': [['8868266']], 'flows': [1.0]},\n ('NLTLB', 'NLMOE', 0): {'combinations': [['8863818']], 'flows': [0.93958958]},\n ('NLTNZ', 'NLBRS', 0): {'combinations': [['8861528'], ['8863469']],\n  'flows': [0.70712941, 0.19945754]},\n ('NLTNZ', 'NLVLI', 0): {'combinations': [['8863469'], ['8864111']],\n  'flows': [0.46206676, 0.53793324]},\n ('NLUTC', 'NLRTM', 0): {'combinations': [['104']], 'flows': [0.58966401]},\n ('NLUTC', 'NLTIE', 0): {'combinations': [['22638146'], ['8867240']],\n  'flows': [0.46566828, 0.53433172]},\n ('NLVEG', 'NLHEJ', 0): {'combinations': [['8865990', '886560']],\n  'flows': [0.62698548]},\n ('NLVEN', 'NLBON', 0): {'combinations': [['22637863', '886820']],\n  'flows': [1.0]},\n ('NLWSP', 'NLAER', 0): {'combinations': [['8864005'], ['8864837']],\n  'flows': [0.37966186, 0.62033814]}}"
     },
     "execution_count": 9,
     "metadata": {},
     "output_type": "execute_result"
    }
   ],
   "source": [
    "o"
   ],
   "metadata": {
    "collapsed": false,
    "pycharm": {
     "name": "#%%\n"
    }
   }
  },
  {
   "cell_type": "code",
   "execution_count": 55,
   "outputs": [],
   "source": [
    "a = o[('NLAMS', 'NLUTC', 1)]\n",
    "combi = np.random.choice(a=np.arange(len(a)), size=1, replace=False, p=[0.5,0.5])"
   ],
   "metadata": {
    "collapsed": false,
    "pycharm": {
     "name": "#%%\n"
    }
   }
  },
  {
   "cell_type": "code",
   "execution_count": 61,
   "outputs": [],
   "source": [
    "a = [1,2,3]\n",
    "a = [i/sum(a) for i in a]"
   ],
   "metadata": {
    "collapsed": false,
    "pycharm": {
     "name": "#%%\n"
    }
   }
  },
  {
   "cell_type": "code",
   "execution_count": 62,
   "outputs": [
    {
     "data": {
      "text/plain": "[0.16666666666666666, 0.3333333333333333, 0.5]"
     },
     "execution_count": 62,
     "metadata": {},
     "output_type": "execute_result"
    }
   ],
   "source": [
    "a"
   ],
   "metadata": {
    "collapsed": false,
    "pycharm": {
     "name": "#%%\n"
    }
   }
  },
  {
   "cell_type": "code",
   "execution_count": 98,
   "outputs": [
    {
     "data": {
      "text/plain": "       id source target  length_m         X          Y     name  \\\n143  1143    NaN    NaN       NaN  5.239614  52.403333  8864005   \n\n     charging_stations             model_type   range  capacity  \n143                5.0  harbour_with_charging  100000         5  ",
      "text/html": "<div>\n<style scoped>\n    .dataframe tbody tr th:only-of-type {\n        vertical-align: middle;\n    }\n\n    .dataframe tbody tr th {\n        vertical-align: top;\n    }\n\n    .dataframe thead th {\n        text-align: right;\n    }\n</style>\n<table border=\"1\" class=\"dataframe\">\n  <thead>\n    <tr style=\"text-align: right;\">\n      <th></th>\n      <th>id</th>\n      <th>source</th>\n      <th>target</th>\n      <th>length_m</th>\n      <th>X</th>\n      <th>Y</th>\n      <th>name</th>\n      <th>charging_stations</th>\n      <th>model_type</th>\n      <th>range</th>\n      <th>capacity</th>\n    </tr>\n  </thead>\n  <tbody>\n    <tr>\n      <th>143</th>\n      <td>1143</td>\n      <td>NaN</td>\n      <td>NaN</td>\n      <td>NaN</td>\n      <td>5.239614</td>\n      <td>52.403333</td>\n      <td>8864005</td>\n      <td>5.0</td>\n      <td>harbour_with_charging</td>\n      <td>100000</td>\n      <td>5</td>\n    </tr>\n  </tbody>\n</table>\n</div>"
     },
     "execution_count": 98,
     "metadata": {},
     "output_type": "execute_result"
    }
   ],
   "source": [
    "df_abm.loc[df_abm.name == '8864005']"
   ],
   "metadata": {
    "collapsed": false,
    "pycharm": {
     "name": "#%%\n"
    }
   }
  },
  {
   "cell_type": "code",
   "execution_count": 81,
   "outputs": [],
   "source": [
    "updated_feasible_combinations = {}\n",
    "for key, combinations in feasible_combinations.items():\n",
    "    updated_feasible_combinations[key] = []\n",
    "    if len(combinations) > 1:\n",
    "        for combi in combinations:\n",
    "            # print(combi)\n",
    "            feasible = True\n",
    "            for node in combi:\n",
    "                if not node in charging_points:\n",
    "                    feasible = False\n",
    "                    break\n",
    "            if feasible:\n",
    "                updated_feasible_combinations[key].append(combi)\n",
    "    else:\n",
    "        feasible = True\n",
    "        for node in combinations:\n",
    "            if not node in charging_points:\n",
    "                feasible = False\n",
    "                break\n",
    "        if feasible:\n",
    "            updated_feasible_combinations[key].append(combinations)\n",
    "\n"
   ],
   "metadata": {
    "collapsed": false,
    "pycharm": {
     "name": "#%%\n"
    }
   }
  },
  {
   "cell_type": "code",
   "execution_count": 28,
   "outputs": [
    {
     "data": {
      "text/plain": "1"
     },
     "execution_count": 28,
     "metadata": {},
     "output_type": "execute_result"
    }
   ],
   "source": [
    "a = [1]\n",
    "a[0]"
   ],
   "metadata": {
    "collapsed": false,
    "pycharm": {
     "name": "#%%\n"
    }
   }
  },
  {
   "cell_type": "code",
   "execution_count": 4,
   "outputs": [],
   "source": [
    "# extract data\n",
    "df_links = nx.to_pandas_edgelist(G)\n",
    "df_nodes = pd.DataFrame.from_dict(dict(G.nodes(data=True)), orient='index')"
   ],
   "metadata": {
    "collapsed": false,
    "pycharm": {
     "name": "#%%\n"
    }
   }
  },
  {
   "cell_type": "code",
   "execution_count": 7,
   "outputs": [],
   "source": [
    "for _, row in df_abm.iterrows():  # index, row in ...\n",
    "    # create agents according to model_type\n",
    "\n",
    "    model_type = row['model_type']\n",
    "    agent = None\n",
    "\n",
    "    name = row['name']\n",
    "    if pd.isna(name):\n",
    "        name = \"\"\n",
    "        print(\"error, nameless entry\")\n",
    "    else:\n",
    "        name = name\n",
    "    break"
   ],
   "metadata": {
    "collapsed": false,
    "pycharm": {
     "name": "#%%\n"
    }
   }
  },
  {
   "cell_type": "code",
   "execution_count": 10,
   "outputs": [
    {
     "data": {
      "text/plain": "[6, 34, 3, 1]"
     },
     "execution_count": 10,
     "metadata": {},
     "output_type": "execute_result"
    }
   ],
   "source": [
    "a =[1,3,34,6]\n",
    "a[::-1]"
   ],
   "metadata": {
    "collapsed": false,
    "pycharm": {
     "name": "#%%\n"
    }
   }
  },
  {
   "cell_type": "code",
   "execution_count": 36,
   "outputs": [
    {
     "data": {
      "text/plain": "54"
     },
     "execution_count": 36,
     "metadata": {},
     "output_type": "execute_result"
    }
   ],
   "source": [
    "df_random.trip_count.iloc[0]"
   ],
   "metadata": {
    "collapsed": false,
    "pycharm": {
     "name": "#%%\n"
    }
   }
  },
  {
   "cell_type": "code",
   "execution_count": 3,
   "outputs": [
    {
     "name": "stdout",
     "output_type": "stream",
     "text": [
      "['M10'] Vessel departed at NLTNZ 3 : 14 heading to NLVLI via route ('NLTNZ', 'NLVLI', 0)\n",
      "['M8'] Vessel departed at NLOOS 3 : 44 heading to NLTLB via route ('NLOOS', 'NLTLB', 0)\n",
      "['M11'] Vessel departed at NLGOR 4 : 37 heading to NLRTM via route ('NLGOR', 'NLRTM', 0)\n",
      "['M11'] Vessel departed at NLGOR 4 : 43 heading to NLRTM via route ('NLGOR', 'NLRTM', 0)\n",
      "['M2'] Vessel departed at NLLEY 5 : 4 heading to NLAMS via route ('NLLEY', 'NLAMS', 0)\n",
      "['M9'] Vessel departed at NLNIJ 5 : 43 heading to NLWAS via route ('NLNIJ', 'NLWAS', 0)\n",
      "['M8'] Vessel departed at NLOOS 6 : 4 heading to NLTLB via route ('NLOOS', 'NLTLB', 0)\n",
      "['M8'] Vessel departed at NLUTC 6 : 47 heading to NLRTM via route ('NLUTC', 'NLRTM', 0)\n",
      "['M12'] Vessel departed at NLHAR 7 : 3 heading to NLWTE via route ('NLHAR', 'NLWTE', 0)\n",
      "['M8'] Vessel departed at NLDOR 7 : 28 heading to NLRTM via route ('NLDOR', 'NLRTM', 0)\n",
      "['M0'] Vessel departed at NLTNZ 7 : 37 heading to NLVLI via route ('NLTNZ', 'NLVLI', 0)\n",
      "['M3'] Vessel departed at NLTLB 7 : 50 heading to NLMOE via route ('NLTLB', 'NLMOE', 0)\n",
      "['M2'] Vessel departed at NLAMS 8 : 0 heading to NLTIE via route ('NLAMS', 'NLTIE', 0)\n",
      "['BIIL-1'] Vessel departed at NLKGZ 8 : 5 heading to NLZAA via route ('NLKGZ', 'NLZAA', 0)\n",
      "['M3'] Vessel departed at NLAER 8 : 42 heading to NLSWI via route ('NLAER', 'NLSWI', 0)\n",
      "['M8'] Vessel departed at NLRTM 8 : 42 heading to NLMOE via route ('NLRTM', 'NLMOE', 0)\n",
      "['M2'] Vessel departed at NLNRW 8 : 57 heading to NLBON via route ('NLNRW', 'NLBON', 0)\n",
      "['M2'] Vessel departed at NLKGZ 9 : 6 heading to NLAMS via route ('NLKGZ', 'NLAMS', 0)\n",
      "['M3'] Vessel departed at NLOOS 9 : 21 heading to NLTLB via route ('NLOOS', 'NLTLB', 0)\n",
      "['M2'] Vessel departed at NLAMS 9 : 34 heading to NLWMO via route ('NLAMS', 'NLWMO', 0)\n",
      "['M6'] Vessel departed at NLNIJ 9 : 41 heading to NLDRU via route ('NLNIJ', 'NLDRU', 0)\n",
      "['M4'] Vessel departed at NLAMS 10 : 12 heading to NLAER via route ('NLAMS', 'NLAER', 0)\n",
      "['M0'] Vessel departed at NLKGZ 10 : 20 heading to NLZAA via route ('NLKGZ', 'NLZAA', 0)\n",
      "['M2'] Vessel departed at NLALK 10 : 30 heading to NLIJM via route ('NLALK', 'NLIJM', 0)\n",
      "['M4'] Vessel departed at NLAMS 10 : 44 heading to NLAER via route ('NLAMS', 'NLAER', 0)\n",
      "['M10'] Vessel departed at NLLEY 10 : 51 heading to NLAMS via route ('NLLEY', 'NLAMS', 0)\n",
      "['BIIa-1'] Vessel departed at NLKGZ 10 : 57 heading to NLZAA via route ('NLKGZ', 'NLZAA', 0)\n",
      "['M5'] Vessel departed at NLRTM 11 : 0 heading to NLMOE via route ('NLRTM', 'NLMOE', 0)\n",
      "['M6'] Vessel departed at NLRTM 12 : 14 heading to NLMOE via route ('NLRTM', 'NLMOE', 0)\n",
      "['M8'] Vessel departed at NLDOR 12 : 17 heading to NLRTM via route ('NLDOR', 'NLRTM', 0)\n",
      "['M5'] Vessel departed at NLAMS 12 : 22 heading to NLTIE via route ('NLAMS', 'NLTIE', 0)\n",
      "['M2'] Vessel departed at NLAMS 12 : 30 heading to NLAER via route ('NLAMS', 'NLAER', 0)\n",
      "['M2'] Vessel departed at NLAMS 13 : 46 heading to NLAER via route ('NLAMS', 'NLAER', 0)\n",
      "['M2'] Vessel departed at NLAMS 14 : 0 heading to NLAER via route ('NLAMS', 'NLAER', 0)\n",
      "['M10'] Vessel departed at NLTNZ 14 : 0 heading to NLVLI via route ('NLTNZ', 'NLVLI', 0)\n",
      "['M2'] Vessel departed at NLKGZ 14 : 1 heading to NLAMS via route ('NLKGZ', 'NLAMS', 0)\n",
      "['M2'] Vessel departed at NLHAR 14 : 11 heading to NLWTE via route ('NLHAR', 'NLWTE', 0)\n",
      "['BIIa-1'] Vessel departed at NLKGZ 14 : 12 heading to NLZAA via route ('NLKGZ', 'NLZAA', 0)\n",
      "['M4'] Vessel departed at NLAER 14 : 20 heading to NLLEY via route ('NLAER', 'NLLEY', 0)\n",
      "['M5'] Vessel departed at NLAMS 14 : 39 heading to NLTIE via route ('NLAMS', 'NLTIE', 0)\n",
      "['M8'] Vessel departed at NLTNZ 14 : 52 heading to NLBRS via route ('NLTNZ', 'NLBRS', 0)\n",
      "['M8'] Vessel departed at NLKGZ 15 : 21 heading to NLAMS via route ('NLKGZ', 'NLAMS', 0)\n",
      "['M8'] Vessel departed at NLGOR 15 : 25 heading to NLRTM via route ('NLGOR', 'NLRTM', 0)\n",
      "['M9'] Vessel departed at NLDOR 15 : 30 heading to NLRTM via route ('NLDOR', 'NLRTM', 0)\n",
      "['M2'] Vessel departed at NLKGZ 15 : 34 heading to NLAMS via route ('NLKGZ', 'NLAMS', 0)\n",
      "['M8'] Vessel departed at NLRTM 16 : 0 heading to NLMOE via route ('NLRTM', 'NLMOE', 0)\n",
      "['M8'] Vessel departed at NLOOS 16 : 15 heading to NLTLB via route ('NLOOS', 'NLTLB', 0)\n",
      "['M3'] Vessel departed at NLSWI 16 : 38 heading to NLLEY via route ('NLSWI', 'NLLEY', 0)\n",
      "['M6'] Vessel departed at NLFAR 16 : 45 heading to NLEEM via route ('NLFAR', 'NLEEM', 0)\n",
      "['M8'] Vessel departed at NLAER 16 : 58 heading to NLNIE via route ('NLAER', 'NLNIE', 0)\n",
      "['M8'] Vessel departed at NLRTM 17 : 5 heading to NLMOE via route ('NLRTM', 'NLMOE', 0)\n",
      "['M8'] Vessel departed at NLMOE 17 : 8 heading to NLOOS via route ('NLMOE', 'NLOOS', 0)\n",
      "['BIIa-1'] Vessel departed at NLAMS 17 : 14 heading to NLTIE via route ('NLAMS', 'NLTIE', 0)\n",
      "['M2'] Vessel departed at NLHTB 17 : 50 heading to NLBON via route ('NLHTB', 'NLBON', 0)\n",
      "['M8'] Vessel departed at NLNIJ 18 : 20 heading to NLAMS via route ('NLNIJ', 'NLAMS', 0)\n",
      "['M2'] Vessel departed at NLAMS 18 : 39 heading to NLTIE via route ('NLAMS', 'NLTIE', 0)\n",
      "['BI'] Vessel departed at NLAMS 19 : 23 heading to NLAER via route ('NLAMS', 'NLAER', 0)\n",
      "['M8'] Vessel departed at NLOOS 19 : 31 heading to NLTLB via route ('NLOOS', 'NLTLB', 0)\n",
      "['BII-1'] Vessel departed at NLUTC 19 : 52 heading to NLRTM via route ('NLUTC', 'NLRTM', 0)\n",
      "['M4'] Vessel departed at NLAMS 20 : 19 heading to NLTIE via route ('NLAMS', 'NLTIE', 0)\n",
      "['M8'] Vessel departed at NLRTM 20 : 20 heading to NLOOS via route ('NLRTM', 'NLOOS', 1)\n",
      "['M9'] Vessel departed at NLABL 20 : 35 heading to NLRTM via route ('NLABL', 'NLRTM', 0)\n",
      "['M8'] Vessel departed at NLRTM 21 : 31 heading to NLGTB via route ('NLRTM', 'NLGTB', 1)\n",
      "['M4'] Vessel departed at NLLEY 21 : 35 heading to NLAMS via route ('NLLEY', 'NLAMS', 0)\n",
      "['BIIL-1'] Vessel departed at NLTNZ 22 : 3 heading to NLVLI via route ('NLTNZ', 'NLVLI', 0)\n",
      "['C3b'] Vessel departed at NLRTM 23 : 29 heading to NLMOE via route ('NLRTM', 'NLMOE', 1)\n",
      "CPU times: total: 26.4 s\n",
      "Wall time: 26.3 s\n"
     ]
    }
   ],
   "source": [
    "%%time\n",
    "type_list = list(df_random.iloc[:, 4:-2])\n",
    "for hour in range(24):\n",
    "    df_1 = df_random.loc[(df_random.hour == hour)]\n",
    "    for timestep in range(60):\n",
    "        for harbour in list(set(list(df_1.origin.unique()) + list(df_1.destination.unique()))):\n",
    "            a = df_1.loc[(df_1.origin==harbour)|(df_1.destination == harbour)]\n",
    "            for i,j in enumerate(a.index):\n",
    "                # chance that a vessel is generated is equal to 1/2 (either spawn at origin or dest) * trip_count/365\n",
    "                # (because trip_count is yearly) *(time_step/hours)\n",
    "                if 0.5 * (df_1.trip_count[j]/365) * (1/60) >= np.random.random():\n",
    "                    # determine vessel type\n",
    "                    prob = list(a.iloc[i, 4:-2].values / a.iloc[i, 4:-2].sum())\n",
    "                    to_pick = type_list\n",
    "                    ship_type = np.random.choice(a=to_pick, size=1, replace=True, p=prob)\n",
    "                    # randomly draw ship types for each OD pair\n",
    "                    print(ship_type, \"Vessel departed at\", df_1.origin[j], hour, ':', timestep, \"heading to\", df_1.destination[j], \"via route\", df_1.key[j])\n"
   ],
   "metadata": {
    "collapsed": false,
    "pycharm": {
     "name": "#%%\n"
    }
   }
  },
  {
   "cell_type": "code",
   "execution_count": 18,
   "outputs": [
    {
     "data": {
      "text/plain": "['M12',\n 'M8',\n 'BII-6b',\n 'M10',\n 'BIIa-1',\n 'M9',\n 'BII-6l',\n 'C3b',\n 'BII-4',\n 'M7',\n 'M6',\n 'BIIL-1',\n 'C3l',\n 'M5',\n 'M11',\n 'BI',\n 'M3',\n 'M2',\n 'M1',\n 'BII-1',\n 'BII-2b',\n 'M4',\n 'B03',\n 'C4',\n 'B04',\n 'M0',\n 'C2l',\n 'BII-2L',\n 'B02',\n 'C1b',\n 'C2b',\n 'B01',\n 'C1l']"
     },
     "execution_count": 18,
     "metadata": {},
     "output_type": "execute_result"
    }
   ],
   "source": [
    "type_list"
   ],
   "metadata": {
    "collapsed": false,
    "pycharm": {
     "name": "#%%\n"
    }
   }
  },
  {
   "cell_type": "code",
   "execution_count": 19,
   "outputs": [],
   "source": [
    "def random_vessel_generator(df_prob, load=1):\n",
    "    \"\"\" Function to generate random vessel data.\n",
    "    Parameters\n",
    "    ----------\n",
    "    df_prob: pd.DataFrame\n",
    "    This dataframe must contain historical travel data\n",
    "    load: float\n",
    "    This float is equal to the simulated occupation of the network and may be read as the part of the traffic that is\n",
    "    electric.\n",
    "    \"\"\"\n",
    "    df_prob = df_prob.loc[df_prob.trip_count != 0]\n",
    "    df_prob.reset_index(inplace=True, drop=True)\n",
    "    df_prob = df_prob.fillna(0)\n",
    "\n",
    "    # create dict to store random prob based values later on\n",
    "    main_dict = {i: [] for i in df_prob.columns}\n",
    "\n",
    "    # copy origin and destination from original df\n",
    "    main_dict['origin'] = []\n",
    "    main_dict['destination'] = []\n",
    "    main_dict['route_v'] = []\n",
    "    main_dict['hour'] = []\n",
    "    main_dict['trip_count'] = []\n",
    "\n",
    "    # fill nan values and create type list\n",
    "    type_list = list(df_prob.iloc[:, 4:-1])\n",
    "    for i in range(24):\n",
    "        df_temp = df_prob.loc[df_prob.hour == i]\n",
    "        df_temp = df_temp.reset_index(drop=True)\n",
    "        total = df_temp.trip_count.sum()\n",
    "        prob_r = [i / total for i in df_temp.trip_count]\n",
    "        to_pick_r = list(np.arange(0, len(df_temp)))\n",
    "        count_r = total * 1\n",
    "        # randomly draw ODs\n",
    "        rand_routes = np.random.choice(a=to_pick_r, size=round(count_r), replace=True, p=prob_r)\n",
    "        unique_r, counts_r = np.unique(rand_routes, return_counts=True)\n",
    "        temp_type_dict_r = dict(zip(unique_r, counts_r))\n",
    "\n",
    "        for pair in df_temp.index:\n",
    "            # store trip count data previous draw\n",
    "            if pair in temp_type_dict_r.keys():\n",
    "                main_dict['trip_count'].append(temp_type_dict_r[pair])\n",
    "                main_dict['origin'].append(df_temp.origin[pair])\n",
    "                main_dict['destination'].append(df_temp.destination[pair])\n",
    "                main_dict['route_v'].append(df_temp.route_v[pair])\n",
    "                main_dict['hour'].append(i)\n",
    "                # print(main_dict['trip_count'])\n",
    "                # determine parameters to randomly draw ship types for each OD pair\n",
    "                prob = list(df_temp.iloc[pair, 4:-1].values / df_temp.iloc[pair, 4:-1].sum())\n",
    "                to_pick = type_list\n",
    "                # goes wrong now because may be zero ...\n",
    "                count = temp_type_dict_r[pair]\n",
    "\n",
    "                # randomly draw ship types for each OD pair\n",
    "                rand_vessels = np.random.choice(a=to_pick, size=round(count), replace=True, p=prob)\n",
    "                unique, counts = np.unique(rand_vessels, return_counts=True)\n",
    "                temp_type_dict = dict(zip(unique, counts))\n",
    "                for key in type_list:\n",
    "                    if key in temp_type_dict.keys():\n",
    "                        main_dict[key].append(temp_type_dict[key])\n",
    "                    else:\n",
    "                        main_dict[key].append(0)\n",
    "    break\n",
    "\n",
    "    df_return = pd.DataFrame.from_dict(main_dict)\n",
    "\n",
    "    return df_return"
   ],
   "metadata": {
    "collapsed": false,
    "pycharm": {
     "name": "#%%\n"
    }
   }
  },
  {
   "cell_type": "code",
   "execution_count": 4,
   "outputs": [],
   "source": [
    "a1 = random_vessel_generator(df_ivs, 1)"
   ],
   "metadata": {
    "collapsed": false,
    "pycharm": {
     "name": "#%%\n"
    }
   }
  },
  {
   "cell_type": "code",
   "execution_count": 93,
   "outputs": [
    {
     "data": {
      "text/plain": "     origin destination  trip_count  actual  hour  M12  M8  BII-6b  M10  \\\n0     NLRTM       NLAMS         155     155     0    0  94       0    0   \n1     NLRTM       NLAMS         161     161     0   98   0       0   14   \n2     NLRTM       NLAMS          55      55     0    0  39       0    0   \n3     NLRTM       NLAMS          25      25     0    1   0       0    0   \n4     NLRTM       NLAMS          80      80     0    9  20       0    3   \n...     ...         ...         ...     ...   ...  ...  ..     ...  ...   \n2850  NLTNZ       NLVLI           5       5    23    0   5       0    0   \n2851  NLTNZ       NLVLI           3       3    23    0   0       0    0   \n2852  NLTNZ       NLVLI          19      19    23    0  16       0    0   \n2853  NLTNZ       NLVLI           3       3    23    0   0       0    3   \n2854  NLTNZ       NLVLI           4       4    23    0   3       0    0   \n\n      BIIa-1  ...  B04  M0  C2l  BII-2L  B02  C1b  C2b  B01  C1l  route_v  \n0          2  ...    0   0    0       0    0    0    0    0    0        1  \n1          0  ...    0   0    0       3    0    0    0    0    0        1  \n2          0  ...    0   0    0       0    0    0    0    0    0        1  \n3          0  ...    0   0    0       0    0    0    0    0    0        1  \n4          1  ...    0   0    0       0    0    0    0    0    0        1  \n...      ...  ...  ...  ..  ...     ...  ...  ...  ...  ...  ...      ...  \n2850       0  ...    0   0    0       0    0    0    0    0    0        0  \n2851       0  ...    0   0    0       0    0    0    0    0    0        0  \n2852       0  ...    0   0    0       0    0    0    0    0    0        0  \n2853       0  ...    0   0    0       0    0    0    0    0    0        0  \n2854       0  ...    0   0    0       0    0    0    0    0    0        0  \n\n[2855 rows x 39 columns]",
      "text/html": "<div>\n<style scoped>\n    .dataframe tbody tr th:only-of-type {\n        vertical-align: middle;\n    }\n\n    .dataframe tbody tr th {\n        vertical-align: top;\n    }\n\n    .dataframe thead th {\n        text-align: right;\n    }\n</style>\n<table border=\"1\" class=\"dataframe\">\n  <thead>\n    <tr style=\"text-align: right;\">\n      <th></th>\n      <th>origin</th>\n      <th>destination</th>\n      <th>trip_count</th>\n      <th>actual</th>\n      <th>hour</th>\n      <th>M12</th>\n      <th>M8</th>\n      <th>BII-6b</th>\n      <th>M10</th>\n      <th>BIIa-1</th>\n      <th>...</th>\n      <th>B04</th>\n      <th>M0</th>\n      <th>C2l</th>\n      <th>BII-2L</th>\n      <th>B02</th>\n      <th>C1b</th>\n      <th>C2b</th>\n      <th>B01</th>\n      <th>C1l</th>\n      <th>route_v</th>\n    </tr>\n  </thead>\n  <tbody>\n    <tr>\n      <th>0</th>\n      <td>NLRTM</td>\n      <td>NLAMS</td>\n      <td>155</td>\n      <td>155</td>\n      <td>0</td>\n      <td>0</td>\n      <td>94</td>\n      <td>0</td>\n      <td>0</td>\n      <td>2</td>\n      <td>...</td>\n      <td>0</td>\n      <td>0</td>\n      <td>0</td>\n      <td>0</td>\n      <td>0</td>\n      <td>0</td>\n      <td>0</td>\n      <td>0</td>\n      <td>0</td>\n      <td>1</td>\n    </tr>\n    <tr>\n      <th>1</th>\n      <td>NLRTM</td>\n      <td>NLAMS</td>\n      <td>161</td>\n      <td>161</td>\n      <td>0</td>\n      <td>98</td>\n      <td>0</td>\n      <td>0</td>\n      <td>14</td>\n      <td>0</td>\n      <td>...</td>\n      <td>0</td>\n      <td>0</td>\n      <td>0</td>\n      <td>3</td>\n      <td>0</td>\n      <td>0</td>\n      <td>0</td>\n      <td>0</td>\n      <td>0</td>\n      <td>1</td>\n    </tr>\n    <tr>\n      <th>2</th>\n      <td>NLRTM</td>\n      <td>NLAMS</td>\n      <td>55</td>\n      <td>55</td>\n      <td>0</td>\n      <td>0</td>\n      <td>39</td>\n      <td>0</td>\n      <td>0</td>\n      <td>0</td>\n      <td>...</td>\n      <td>0</td>\n      <td>0</td>\n      <td>0</td>\n      <td>0</td>\n      <td>0</td>\n      <td>0</td>\n      <td>0</td>\n      <td>0</td>\n      <td>0</td>\n      <td>1</td>\n    </tr>\n    <tr>\n      <th>3</th>\n      <td>NLRTM</td>\n      <td>NLAMS</td>\n      <td>25</td>\n      <td>25</td>\n      <td>0</td>\n      <td>1</td>\n      <td>0</td>\n      <td>0</td>\n      <td>0</td>\n      <td>0</td>\n      <td>...</td>\n      <td>0</td>\n      <td>0</td>\n      <td>0</td>\n      <td>0</td>\n      <td>0</td>\n      <td>0</td>\n      <td>0</td>\n      <td>0</td>\n      <td>0</td>\n      <td>1</td>\n    </tr>\n    <tr>\n      <th>4</th>\n      <td>NLRTM</td>\n      <td>NLAMS</td>\n      <td>80</td>\n      <td>80</td>\n      <td>0</td>\n      <td>9</td>\n      <td>20</td>\n      <td>0</td>\n      <td>3</td>\n      <td>1</td>\n      <td>...</td>\n      <td>0</td>\n      <td>0</td>\n      <td>0</td>\n      <td>0</td>\n      <td>0</td>\n      <td>0</td>\n      <td>0</td>\n      <td>0</td>\n      <td>0</td>\n      <td>1</td>\n    </tr>\n    <tr>\n      <th>...</th>\n      <td>...</td>\n      <td>...</td>\n      <td>...</td>\n      <td>...</td>\n      <td>...</td>\n      <td>...</td>\n      <td>...</td>\n      <td>...</td>\n      <td>...</td>\n      <td>...</td>\n      <td>...</td>\n      <td>...</td>\n      <td>...</td>\n      <td>...</td>\n      <td>...</td>\n      <td>...</td>\n      <td>...</td>\n      <td>...</td>\n      <td>...</td>\n      <td>...</td>\n      <td>...</td>\n    </tr>\n    <tr>\n      <th>2850</th>\n      <td>NLTNZ</td>\n      <td>NLVLI</td>\n      <td>5</td>\n      <td>5</td>\n      <td>23</td>\n      <td>0</td>\n      <td>5</td>\n      <td>0</td>\n      <td>0</td>\n      <td>0</td>\n      <td>...</td>\n      <td>0</td>\n      <td>0</td>\n      <td>0</td>\n      <td>0</td>\n      <td>0</td>\n      <td>0</td>\n      <td>0</td>\n      <td>0</td>\n      <td>0</td>\n      <td>0</td>\n    </tr>\n    <tr>\n      <th>2851</th>\n      <td>NLTNZ</td>\n      <td>NLVLI</td>\n      <td>3</td>\n      <td>3</td>\n      <td>23</td>\n      <td>0</td>\n      <td>0</td>\n      <td>0</td>\n      <td>0</td>\n      <td>0</td>\n      <td>...</td>\n      <td>0</td>\n      <td>0</td>\n      <td>0</td>\n      <td>0</td>\n      <td>0</td>\n      <td>0</td>\n      <td>0</td>\n      <td>0</td>\n      <td>0</td>\n      <td>0</td>\n    </tr>\n    <tr>\n      <th>2852</th>\n      <td>NLTNZ</td>\n      <td>NLVLI</td>\n      <td>19</td>\n      <td>19</td>\n      <td>23</td>\n      <td>0</td>\n      <td>16</td>\n      <td>0</td>\n      <td>0</td>\n      <td>0</td>\n      <td>...</td>\n      <td>0</td>\n      <td>0</td>\n      <td>0</td>\n      <td>0</td>\n      <td>0</td>\n      <td>0</td>\n      <td>0</td>\n      <td>0</td>\n      <td>0</td>\n      <td>0</td>\n    </tr>\n    <tr>\n      <th>2853</th>\n      <td>NLTNZ</td>\n      <td>NLVLI</td>\n      <td>3</td>\n      <td>3</td>\n      <td>23</td>\n      <td>0</td>\n      <td>0</td>\n      <td>0</td>\n      <td>3</td>\n      <td>0</td>\n      <td>...</td>\n      <td>0</td>\n      <td>0</td>\n      <td>0</td>\n      <td>0</td>\n      <td>0</td>\n      <td>0</td>\n      <td>0</td>\n      <td>0</td>\n      <td>0</td>\n      <td>0</td>\n    </tr>\n    <tr>\n      <th>2854</th>\n      <td>NLTNZ</td>\n      <td>NLVLI</td>\n      <td>4</td>\n      <td>4</td>\n      <td>23</td>\n      <td>0</td>\n      <td>3</td>\n      <td>0</td>\n      <td>0</td>\n      <td>0</td>\n      <td>...</td>\n      <td>0</td>\n      <td>0</td>\n      <td>0</td>\n      <td>0</td>\n      <td>0</td>\n      <td>0</td>\n      <td>0</td>\n      <td>0</td>\n      <td>0</td>\n      <td>0</td>\n    </tr>\n  </tbody>\n</table>\n<p>2855 rows × 39 columns</p>\n</div>"
     },
     "execution_count": 93,
     "metadata": {},
     "output_type": "execute_result"
    }
   ],
   "source": [
    "a1"
   ],
   "metadata": {
    "collapsed": false,
    "pycharm": {
     "name": "#%%\n"
    }
   }
  },
  {
   "cell_type": "code",
   "execution_count": null,
   "outputs": [],
   "source": [],
   "metadata": {
    "collapsed": false,
    "pycharm": {
     "name": "#%%\n"
    }
   }
  }
 ],
 "metadata": {
  "kernelspec": {
   "display_name": "Python 3",
   "language": "python",
   "name": "python3"
  },
  "language_info": {
   "codemirror_mode": {
    "name": "ipython",
    "version": 2
   },
   "file_extension": ".py",
   "mimetype": "text/x-python",
   "name": "python",
   "nbconvert_exporter": "python",
   "pygments_lexer": "ipython2",
   "version": "2.7.6"
  }
 },
 "nbformat": 4,
 "nbformat_minor": 0
}