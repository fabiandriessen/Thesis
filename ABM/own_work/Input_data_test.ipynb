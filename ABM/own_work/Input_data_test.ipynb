{
 "cells": [
  {
   "cell_type": "code",
   "execution_count": 1,
   "metadata": {
    "pycharm": {
     "name": "#%%\n"
    }
   },
   "outputs": [],
   "source": [
    "import pandas as pd\n",
    "import pickle\n",
    "import numpy as np\n",
    "import networkx as nx\n",
    "import re\n",
    "import time"
   ]
  },
  {
   "cell_type": "code",
   "execution_count": 15,
   "outputs": [],
   "source": [
    "# df_ivs = pickle.load(open('data/ivs_exploded_100.p', 'rb'))\n",
    "# df_ivs_old = pickle.load(open('data/ivs_exploded_100_old.p', 'rb'))\n",
    "# routes_dests = pickle.load(open('data/users_ship_specific_routes.p', 'rb'))\n",
    "# df_ships = pd.read_excel('data/ship_types.xlsx')\n",
    "\n",
    "# G = pickle.load(open(\"data/network.p\", \"rb\"))\n",
    "# paths = pickle.load(open(\"data/paths.p\", \"rb\"))\n",
    "# df_random = pickle.load(open(\"data/df_random.p\", \"rb\"))\n",
    "# df_abm = pickle.load(open(\"data/df_abm.p\", \"rb\"))\n",
    "# non_zero_flows = pickle.load(open(\"data/non_zero_flows.p\", \"rb\"))\n",
    "# feasible_combinations = pickle.load(open('data/feasible_comb.p', 'rb'))\n",
    "# optimal_flows = pickle.load(open('data/optimal_flows.p', 'rb'))\n",
    "# path_lengths = pickle.load(open('data/path_lengths_ship_specific_routes.p', 'rb'))\n",
    "agent_data = pickle.load(open('data/agent_data.p', 'rb'))\n",
    "model_data = pickle.load(open('data/model_data.p', 'rb'))"
   ],
   "metadata": {
    "collapsed": false,
    "pycharm": {
     "name": "#%%\n"
    }
   }
  },
  {
   "cell_type": "markdown",
   "source": [
    "## Process agent data"
   ],
   "metadata": {
    "collapsed": false,
    "pycharm": {
     "name": "#%% md\n"
    }
   }
  },
  {
   "cell_type": "markdown",
   "source": [
    "### Vessel data"
   ],
   "metadata": {
    "collapsed": false,
    "pycharm": {
     "name": "#%% md\n"
    }
   }
  },
  {
   "cell_type": "code",
   "execution_count": 16,
   "outputs": [],
   "source": [
    "agent_data = agent_data.reset_index()"
   ],
   "metadata": {
    "collapsed": false,
    "pycharm": {
     "name": "#%%\n"
    }
   }
  },
  {
   "cell_type": "code",
   "execution_count": 17,
   "outputs": [],
   "source": [
    "agent_data = agent_data.loc[agent_data.Step>(24*60)]"
   ],
   "metadata": {
    "collapsed": false,
    "pycharm": {
     "name": "#%%\n"
    }
   }
  },
  {
   "cell_type": "code",
   "execution_count": 18,
   "outputs": [],
   "source": [
    "vessel_data = agent_data.loc[agent_data.vessel_status.notnull()]\n",
    "vessel_data = vessel_data.drop(columns=['removed_at'])\n",
    "vessel_data['status'] = 0\n",
    "vessel_data['at_station'] = 0\n",
    "vessel_data.status = vessel_data.vessel_status.apply(lambda x: x[0] if type(x) == list else x)\n",
    "vessel_data.at_station = vessel_data.vessel_status.apply(lambda x: x[1] if type(x) == list else x)"
   ],
   "metadata": {
    "collapsed": false,
    "pycharm": {
     "name": "#%%\n"
    }
   }
  },
  {
   "cell_type": "code",
   "execution_count": 19,
   "outputs": [],
   "source": [
    "vessel_data_dict = {}\n",
    "def process_vessel_data(x):\n",
    "    if not x.AgentID in vessel_data_dict.keys():\n",
    "        vessel_data_dict[x.AgentID] = {\"charging\":{}, \"inline\":{}, \"driving\":0}\n",
    "    if x.status == 'driving':\n",
    "        vessel_data_dict[x.AgentID]['driving'] += 1\n",
    "    else:\n",
    "        if not x.at_station in vessel_data_dict[x.AgentID][x.status].keys():\n",
    "            vessel_data_dict[x.AgentID][x.status][x.at_station] = 1\n",
    "        else:\n",
    "            vessel_data_dict[x.AgentID][x.status][x.at_station] += 1"
   ],
   "metadata": {
    "collapsed": false,
    "pycharm": {
     "name": "#%%\n"
    }
   }
  },
  {
   "cell_type": "code",
   "execution_count": 20,
   "outputs": [
    {
     "data": {
      "text/plain": "372349     None\n372350     None\n372351     None\n372352     None\n372353     None\n           ... \n3058376    None\n3058377    None\n3058378    None\n3058379    None\n3058380    None\nLength: 236835, dtype: object"
     },
     "execution_count": 20,
     "metadata": {},
     "output_type": "execute_result"
    }
   ],
   "source": [
    "vessel_data.apply(lambda x: process_vessel_data(x), axis=1)"
   ],
   "metadata": {
    "collapsed": false,
    "pycharm": {
     "name": "#%%\n"
    }
   }
  },
  {
   "cell_type": "code",
   "execution_count": 21,
   "outputs": [],
   "source": [
    "df = pd.DataFrame(vessel_data_dict)\n",
    "df = df.transpose()"
   ],
   "metadata": {
    "collapsed": false,
    "pycharm": {
     "name": "#%%\n"
    }
   }
  },
  {
   "cell_type": "code",
   "execution_count": 22,
   "outputs": [],
   "source": [
    "df['total_charging'] = 0\n",
    "df.total_charging = df.charging.apply(lambda x: sum(x.values()))\n",
    "df['total_inline'] = 0\n",
    "df.total_inline = df.inline.apply(lambda x: sum(x.values()))"
   ],
   "metadata": {
    "collapsed": false,
    "pycharm": {
     "name": "#%%\n"
    }
   }
  },
  {
   "cell_type": "code",
   "execution_count": 23,
   "outputs": [],
   "source": [
    "df1 = vessel_data.loc[vessel_data.status != 0].loc[:,['AgentID','Step','vessel_route','battery_size', 'generated_at']].groupby('AgentID').first()\n",
    "vessel_data = pd.merge(df1, df, left_index=True, right_index=True)"
   ],
   "metadata": {
    "collapsed": false,
    "pycharm": {
     "name": "#%%\n"
    }
   }
  },
  {
   "cell_type": "code",
   "execution_count": 25,
   "outputs": [
    {
     "data": {
      "text/plain": "          Step       vessel_route  battery_size  generated_at  \\\nAgentID                                                         \n44        1441  (NLAMS, NLHEJ, 0)        1000.0         648.0   \n45        1441  (NLIJM, NLMOE, 1)        1450.0         673.0   \n46        1441  (NLAMS, NLHEJ, 0)        1000.0         714.0   \n63        1441  (NLNIJ, NLABL, 0)        4750.0         918.0   \n72        1441  (NLRTM, NLTNZ, 0)        4750.0        1067.0   \n...        ...                ...           ...           ...   \n882      11506  (NLRTM, NLAPN, 0)        2300.0       11505.0   \n883      11508  (NLSWI, NLLEY, 0)        1450.0       11507.0   \n884      11508  (NLUTC, NLTIE, 0)        4750.0       11507.0   \n885      11511  (NLALK, NLIJM, 0)        1450.0       11510.0   \n886      11511  (NLWSP, NLAER, 0)        2300.0       11510.0   \n\n                                       charging inline driving  \\\nAgentID                                                          \n44                                           {}     {}     100   \n45                                           {}     {}       1   \n46                              {'8864837': 23}     {}     202   \n63                      {'116': 65, '160': 101}     {}     258   \n72       {'138': 31, '112': 93, '8866686': 104}     {}     407   \n...                                         ...    ...     ...   \n882                                          {}     {}      15   \n883                                          {}     {}      13   \n884                                          {}     {}      13   \n885                                          {}     {}      10   \n886                                          {}     {}      10   \n\n         total_charging  total_inline  \nAgentID                                \n44                    0             0  \n45                    0             0  \n46                   23             0  \n63                  166             0  \n72                  228             0  \n...                 ...           ...  \n882                   0             0  \n883                   0             0  \n884                   0             0  \n885                   0             0  \n886                   0             0  \n\n[803 rows x 9 columns]",
      "text/html": "<div>\n<style scoped>\n    .dataframe tbody tr th:only-of-type {\n        vertical-align: middle;\n    }\n\n    .dataframe tbody tr th {\n        vertical-align: top;\n    }\n\n    .dataframe thead th {\n        text-align: right;\n    }\n</style>\n<table border=\"1\" class=\"dataframe\">\n  <thead>\n    <tr style=\"text-align: right;\">\n      <th></th>\n      <th>Step</th>\n      <th>vessel_route</th>\n      <th>battery_size</th>\n      <th>generated_at</th>\n      <th>charging</th>\n      <th>inline</th>\n      <th>driving</th>\n      <th>total_charging</th>\n      <th>total_inline</th>\n    </tr>\n    <tr>\n      <th>AgentID</th>\n      <th></th>\n      <th></th>\n      <th></th>\n      <th></th>\n      <th></th>\n      <th></th>\n      <th></th>\n      <th></th>\n      <th></th>\n    </tr>\n  </thead>\n  <tbody>\n    <tr>\n      <th>44</th>\n      <td>1441</td>\n      <td>(NLAMS, NLHEJ, 0)</td>\n      <td>1000.0</td>\n      <td>648.0</td>\n      <td>{}</td>\n      <td>{}</td>\n      <td>100</td>\n      <td>0</td>\n      <td>0</td>\n    </tr>\n    <tr>\n      <th>45</th>\n      <td>1441</td>\n      <td>(NLIJM, NLMOE, 1)</td>\n      <td>1450.0</td>\n      <td>673.0</td>\n      <td>{}</td>\n      <td>{}</td>\n      <td>1</td>\n      <td>0</td>\n      <td>0</td>\n    </tr>\n    <tr>\n      <th>46</th>\n      <td>1441</td>\n      <td>(NLAMS, NLHEJ, 0)</td>\n      <td>1000.0</td>\n      <td>714.0</td>\n      <td>{'8864837': 23}</td>\n      <td>{}</td>\n      <td>202</td>\n      <td>23</td>\n      <td>0</td>\n    </tr>\n    <tr>\n      <th>63</th>\n      <td>1441</td>\n      <td>(NLNIJ, NLABL, 0)</td>\n      <td>4750.0</td>\n      <td>918.0</td>\n      <td>{'116': 65, '160': 101}</td>\n      <td>{}</td>\n      <td>258</td>\n      <td>166</td>\n      <td>0</td>\n    </tr>\n    <tr>\n      <th>72</th>\n      <td>1441</td>\n      <td>(NLRTM, NLTNZ, 0)</td>\n      <td>4750.0</td>\n      <td>1067.0</td>\n      <td>{'138': 31, '112': 93, '8866686': 104}</td>\n      <td>{}</td>\n      <td>407</td>\n      <td>228</td>\n      <td>0</td>\n    </tr>\n    <tr>\n      <th>...</th>\n      <td>...</td>\n      <td>...</td>\n      <td>...</td>\n      <td>...</td>\n      <td>...</td>\n      <td>...</td>\n      <td>...</td>\n      <td>...</td>\n      <td>...</td>\n    </tr>\n    <tr>\n      <th>882</th>\n      <td>11506</td>\n      <td>(NLRTM, NLAPN, 0)</td>\n      <td>2300.0</td>\n      <td>11505.0</td>\n      <td>{}</td>\n      <td>{}</td>\n      <td>15</td>\n      <td>0</td>\n      <td>0</td>\n    </tr>\n    <tr>\n      <th>883</th>\n      <td>11508</td>\n      <td>(NLSWI, NLLEY, 0)</td>\n      <td>1450.0</td>\n      <td>11507.0</td>\n      <td>{}</td>\n      <td>{}</td>\n      <td>13</td>\n      <td>0</td>\n      <td>0</td>\n    </tr>\n    <tr>\n      <th>884</th>\n      <td>11508</td>\n      <td>(NLUTC, NLTIE, 0)</td>\n      <td>4750.0</td>\n      <td>11507.0</td>\n      <td>{}</td>\n      <td>{}</td>\n      <td>13</td>\n      <td>0</td>\n      <td>0</td>\n    </tr>\n    <tr>\n      <th>885</th>\n      <td>11511</td>\n      <td>(NLALK, NLIJM, 0)</td>\n      <td>1450.0</td>\n      <td>11510.0</td>\n      <td>{}</td>\n      <td>{}</td>\n      <td>10</td>\n      <td>0</td>\n      <td>0</td>\n    </tr>\n    <tr>\n      <th>886</th>\n      <td>11511</td>\n      <td>(NLWSP, NLAER, 0)</td>\n      <td>2300.0</td>\n      <td>11510.0</td>\n      <td>{}</td>\n      <td>{}</td>\n      <td>10</td>\n      <td>0</td>\n      <td>0</td>\n    </tr>\n  </tbody>\n</table>\n<p>803 rows × 9 columns</p>\n</div>"
     },
     "execution_count": 25,
     "metadata": {},
     "output_type": "execute_result"
    }
   ],
   "source": [
    "vessel_data.loc[vessel_data.generated_at > (24*60)]\n",
    "vessel_data\n",
    "# looks okay! Final check with pycharm later"
   ],
   "metadata": {
    "collapsed": false,
    "pycharm": {
     "name": "#%%\n"
    }
   }
  },
  {
   "cell_type": "markdown",
   "source": [
    "### Charging station data"
   ],
   "metadata": {
    "collapsed": false,
    "pycharm": {
     "name": "#%% md\n"
    }
   }
  },
  {
   "cell_type": "code",
   "execution_count": 26,
   "outputs": [],
   "source": [
    "df1 = pd.DataFrame(agent_data.loc[(agent_data.charging_stations>0)].groupby('AgentID').first().loc[:,'charging_stations'])"
   ],
   "metadata": {
    "collapsed": false,
    "pycharm": {
     "name": "#%%\n"
    }
   }
  },
  {
   "cell_type": "code",
   "execution_count": 27,
   "outputs": [],
   "source": [
    "df2 = pd.DataFrame(agent_data.loc[(agent_data.charging_stations>0)].groupby('AgentID').station_status.mean())"
   ],
   "metadata": {
    "collapsed": false,
    "pycharm": {
     "name": "#%%\n"
    }
   }
  },
  {
   "cell_type": "code",
   "execution_count": 28,
   "outputs": [],
   "source": [
    "cs_data = pd.merge(df1, df2, left_index=True, right_index=True)"
   ],
   "metadata": {
    "collapsed": false,
    "pycharm": {
     "name": "#%%\n"
    }
   }
  },
  {
   "cell_type": "code",
   "execution_count": 29,
   "outputs": [
    {
     "data": {
      "text/plain": "          charging_stations  station_status\nAgentID                                    \n112                     1.0        0.363393\n113                     1.0        0.475992\n116                     1.0        0.236508\n122                     1.0        0.189385\n124                     1.0        0.009821\n125                     1.0        0.065278\n132                     1.0        0.085714\n134                     1.0        0.117560\n137                     1.0        0.326885\n138                     1.0        0.287897\n144                     1.0        0.321726\n159                     1.0        0.274107\n160                     1.0        0.305159\n22638146                1.0        0.000000\n22638327                1.0        0.000000\n30984595                1.0        0.000000\n8861528                 1.0        0.000000\n8861625                 1.0        0.000000\n8862497                 1.0        0.000000\n8862663                 1.0        0.193750\n8863260                 1.0        0.051389\n8863306                 1.0        0.000000\n8863469                 1.0        0.000000\n8863709                 1.0        0.000000\n8863818                 1.0        0.068948\n8864005                 1.0        0.000000\n8864111                 1.0        0.000000\n8864566                 1.0        0.000000\n8864837                 1.0        0.268651\n8865003                 1.0        0.287897\n8865412                 1.0        0.256845\n8865600                 1.0        0.297222\n8865756                 1.0        0.000000\n8866686                 1.0        0.204663\n8866763                 1.0        0.000000\n8867538                 1.0        0.219048\n8867740                 1.0        0.000000\n8868191                 1.0        0.000000\n8868208                 1.0        0.000000\n8868423                 1.0        0.000000",
      "text/html": "<div>\n<style scoped>\n    .dataframe tbody tr th:only-of-type {\n        vertical-align: middle;\n    }\n\n    .dataframe tbody tr th {\n        vertical-align: top;\n    }\n\n    .dataframe thead th {\n        text-align: right;\n    }\n</style>\n<table border=\"1\" class=\"dataframe\">\n  <thead>\n    <tr style=\"text-align: right;\">\n      <th></th>\n      <th>charging_stations</th>\n      <th>station_status</th>\n    </tr>\n    <tr>\n      <th>AgentID</th>\n      <th></th>\n      <th></th>\n    </tr>\n  </thead>\n  <tbody>\n    <tr>\n      <th>112</th>\n      <td>1.0</td>\n      <td>0.363393</td>\n    </tr>\n    <tr>\n      <th>113</th>\n      <td>1.0</td>\n      <td>0.475992</td>\n    </tr>\n    <tr>\n      <th>116</th>\n      <td>1.0</td>\n      <td>0.236508</td>\n    </tr>\n    <tr>\n      <th>122</th>\n      <td>1.0</td>\n      <td>0.189385</td>\n    </tr>\n    <tr>\n      <th>124</th>\n      <td>1.0</td>\n      <td>0.009821</td>\n    </tr>\n    <tr>\n      <th>125</th>\n      <td>1.0</td>\n      <td>0.065278</td>\n    </tr>\n    <tr>\n      <th>132</th>\n      <td>1.0</td>\n      <td>0.085714</td>\n    </tr>\n    <tr>\n      <th>134</th>\n      <td>1.0</td>\n      <td>0.117560</td>\n    </tr>\n    <tr>\n      <th>137</th>\n      <td>1.0</td>\n      <td>0.326885</td>\n    </tr>\n    <tr>\n      <th>138</th>\n      <td>1.0</td>\n      <td>0.287897</td>\n    </tr>\n    <tr>\n      <th>144</th>\n      <td>1.0</td>\n      <td>0.321726</td>\n    </tr>\n    <tr>\n      <th>159</th>\n      <td>1.0</td>\n      <td>0.274107</td>\n    </tr>\n    <tr>\n      <th>160</th>\n      <td>1.0</td>\n      <td>0.305159</td>\n    </tr>\n    <tr>\n      <th>22638146</th>\n      <td>1.0</td>\n      <td>0.000000</td>\n    </tr>\n    <tr>\n      <th>22638327</th>\n      <td>1.0</td>\n      <td>0.000000</td>\n    </tr>\n    <tr>\n      <th>30984595</th>\n      <td>1.0</td>\n      <td>0.000000</td>\n    </tr>\n    <tr>\n      <th>8861528</th>\n      <td>1.0</td>\n      <td>0.000000</td>\n    </tr>\n    <tr>\n      <th>8861625</th>\n      <td>1.0</td>\n      <td>0.000000</td>\n    </tr>\n    <tr>\n      <th>8862497</th>\n      <td>1.0</td>\n      <td>0.000000</td>\n    </tr>\n    <tr>\n      <th>8862663</th>\n      <td>1.0</td>\n      <td>0.193750</td>\n    </tr>\n    <tr>\n      <th>8863260</th>\n      <td>1.0</td>\n      <td>0.051389</td>\n    </tr>\n    <tr>\n      <th>8863306</th>\n      <td>1.0</td>\n      <td>0.000000</td>\n    </tr>\n    <tr>\n      <th>8863469</th>\n      <td>1.0</td>\n      <td>0.000000</td>\n    </tr>\n    <tr>\n      <th>8863709</th>\n      <td>1.0</td>\n      <td>0.000000</td>\n    </tr>\n    <tr>\n      <th>8863818</th>\n      <td>1.0</td>\n      <td>0.068948</td>\n    </tr>\n    <tr>\n      <th>8864005</th>\n      <td>1.0</td>\n      <td>0.000000</td>\n    </tr>\n    <tr>\n      <th>8864111</th>\n      <td>1.0</td>\n      <td>0.000000</td>\n    </tr>\n    <tr>\n      <th>8864566</th>\n      <td>1.0</td>\n      <td>0.000000</td>\n    </tr>\n    <tr>\n      <th>8864837</th>\n      <td>1.0</td>\n      <td>0.268651</td>\n    </tr>\n    <tr>\n      <th>8865003</th>\n      <td>1.0</td>\n      <td>0.287897</td>\n    </tr>\n    <tr>\n      <th>8865412</th>\n      <td>1.0</td>\n      <td>0.256845</td>\n    </tr>\n    <tr>\n      <th>8865600</th>\n      <td>1.0</td>\n      <td>0.297222</td>\n    </tr>\n    <tr>\n      <th>8865756</th>\n      <td>1.0</td>\n      <td>0.000000</td>\n    </tr>\n    <tr>\n      <th>8866686</th>\n      <td>1.0</td>\n      <td>0.204663</td>\n    </tr>\n    <tr>\n      <th>8866763</th>\n      <td>1.0</td>\n      <td>0.000000</td>\n    </tr>\n    <tr>\n      <th>8867538</th>\n      <td>1.0</td>\n      <td>0.219048</td>\n    </tr>\n    <tr>\n      <th>8867740</th>\n      <td>1.0</td>\n      <td>0.000000</td>\n    </tr>\n    <tr>\n      <th>8868191</th>\n      <td>1.0</td>\n      <td>0.000000</td>\n    </tr>\n    <tr>\n      <th>8868208</th>\n      <td>1.0</td>\n      <td>0.000000</td>\n    </tr>\n    <tr>\n      <th>8868423</th>\n      <td>1.0</td>\n      <td>0.000000</td>\n    </tr>\n  </tbody>\n</table>\n</div>"
     },
     "execution_count": 29,
     "metadata": {},
     "output_type": "execute_result"
    }
   ],
   "source": [
    "cs_data\n",
    "# TODO check why some are not visited at all within 7 days, seems off"
   ],
   "metadata": {
    "collapsed": false,
    "pycharm": {
     "name": "#%%\n"
    }
   }
  },
  {
   "cell_type": "markdown",
   "source": [
    "### Remark\n",
    "Something seems off, a lot of stations are not used at all\n",
    "Way forward:\n",
    "1. Check whether this may be clarified based on input data\n",
    "2. Recheck logic behind generation\n",
    "3. Check whether the generation is going well and as expected"
   ],
   "metadata": {
    "collapsed": false,
    "pycharm": {
     "name": "#%% md\n"
    }
   }
  },
  {
   "cell_type": "code",
   "execution_count": null,
   "outputs": [],
   "source": [],
   "metadata": {
    "collapsed": false,
    "pycharm": {
     "name": "#%%\n"
    }
   }
  }
 ],
 "metadata": {
  "kernelspec": {
   "display_name": "Python 3 (ipykernel)",
   "language": "python",
   "name": "python3"
  },
  "language_info": {
   "codemirror_mode": {
    "name": "ipython",
    "version": 3
   },
   "file_extension": ".py",
   "mimetype": "text/x-python",
   "name": "python",
   "nbconvert_exporter": "python",
   "pygments_lexer": "ipython3",
   "version": "3.10.4"
  }
 },
 "nbformat": 4,
 "nbformat_minor": 4
}