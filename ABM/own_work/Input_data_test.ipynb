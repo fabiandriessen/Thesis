{
 "cells": [
  {
   "cell_type": "code",
   "execution_count": 53,
   "metadata": {
    "pycharm": {
     "name": "#%%\n"
    }
   },
   "outputs": [],
   "source": [
    "import pandas as pd\n",
    "import pickle\n",
    "import numpy as np\n",
    "import networkx as nx\n",
    "import re\n",
    "import time"
   ]
  },
  {
   "cell_type": "code",
   "execution_count": 73,
   "outputs": [],
   "source": [
    "df_ivs = pickle.load(open('data/ivs_exploded_100.p', 'rb'))\n",
    "# df_ivs_old = pickle.load(open('data/ivs_exploded_100_old.p', 'rb'))\n",
    "# routes_dests = pickle.load(open('data/users_ship_specific_routes.p', 'rb'))\n",
    "# df_ships = pd.read_excel('data/ship_types.xlsx')\n",
    "\n",
    "# G = pickle.load(open(\"data/network.p\", \"rb\"))\n",
    "# paths = pickle.load(open(\"data/paths.p\", \"rb\"))\n",
    "# df_random = pickle.load(open(\"data/df_random.p\", \"rb\"))\n",
    "# df_abm = pickle.load(open(\"data/df_abm.p\", \"rb\"))\n",
    "# non_zero_flows = pickle.load(open(\"data/non_zero_flows.p\", \"rb\"))\n",
    "# feasible_combinations = pickle.load(open('data/feasible_comb.p', 'rb'))\n",
    "# optimal_flows = pickle.load(open('data/optimal_flows.p', 'rb'))\n",
    "# path_lengths = pickle.load(open('data/path_lengths_ship_specific_routes.p', 'rb'))\n",
    "agent_data = pickle.load(open('data/agent_data.p', 'rb'))\n",
    "model_data = pickle.load(open('data/model_data.p', 'rb'))"
   ],
   "metadata": {
    "collapsed": false,
    "pycharm": {
     "name": "#%%\n"
    }
   }
  },
  {
   "cell_type": "code",
   "execution_count": 78,
   "outputs": [
    {
     "data": {
      "text/plain": "26756"
     },
     "execution_count": 78,
     "metadata": {},
     "output_type": "execute_result"
    }
   ],
   "source": [
    "df_random.trip_count.sum()"
   ],
   "metadata": {
    "collapsed": false,
    "pycharm": {
     "name": "#%%\n"
    }
   }
  },
  {
   "cell_type": "code",
   "execution_count": 81,
   "outputs": [
    {
     "data": {
      "text/plain": "513.1287671232876"
     },
     "execution_count": 81,
     "metadata": {},
     "output_type": "execute_result"
    }
   ],
   "source": [
    "(26756/365)*7"
   ],
   "metadata": {
    "collapsed": false,
    "pycharm": {
     "name": "#%%\n"
    }
   }
  },
  {
   "cell_type": "code",
   "execution_count": null,
   "outputs": [],
   "source": [],
   "metadata": {
    "collapsed": false,
    "pycharm": {
     "name": "#%%\n"
    }
   }
  },
  {
   "cell_type": "markdown",
   "source": [
    "## Process agent data"
   ],
   "metadata": {
    "collapsed": false,
    "pycharm": {
     "name": "#%% md\n"
    }
   }
  },
  {
   "cell_type": "markdown",
   "source": [
    "### Vessel data"
   ],
   "metadata": {
    "collapsed": false,
    "pycharm": {
     "name": "#%% md\n"
    }
   }
  },
  {
   "cell_type": "code",
   "execution_count": 55,
   "outputs": [],
   "source": [
    "agent_data = agent_data.reset_index()"
   ],
   "metadata": {
    "collapsed": false,
    "pycharm": {
     "name": "#%%\n"
    }
   }
  },
  {
   "cell_type": "code",
   "execution_count": 56,
   "outputs": [],
   "source": [
    "agent_data = agent_data.loc[agent_data.Step>(24*60)]"
   ],
   "metadata": {
    "collapsed": false,
    "pycharm": {
     "name": "#%%\n"
    }
   }
  },
  {
   "cell_type": "code",
   "execution_count": 57,
   "outputs": [],
   "source": [
    "vessel_data = agent_data.loc[agent_data.vessel_status.notnull()]\n",
    "vessel_data = vessel_data.drop(columns=['removed_at'])\n",
    "vessel_data['status'] = 0\n",
    "vessel_data['at_station'] = 0\n",
    "vessel_data.status = vessel_data.vessel_status.apply(lambda x: x[0] if type(x) == list else x)\n",
    "vessel_data.at_station = vessel_data.vessel_status.apply(lambda x: x[1] if type(x) == list else x)"
   ],
   "metadata": {
    "collapsed": false,
    "pycharm": {
     "name": "#%%\n"
    }
   }
  },
  {
   "cell_type": "code",
   "execution_count": 58,
   "outputs": [],
   "source": [
    "vessel_data_dict = {}\n",
    "def process_vessel_data(x):\n",
    "    if not x.AgentID in vessel_data_dict.keys():\n",
    "        vessel_data_dict[x.AgentID] = {\"charging\":{}, \"inline\":{}, \"driving\":0}\n",
    "    if x.status == 'driving':\n",
    "        vessel_data_dict[x.AgentID]['driving'] += 1\n",
    "    else:\n",
    "        if not x.at_station in vessel_data_dict[x.AgentID][x.status].keys():\n",
    "            vessel_data_dict[x.AgentID][x.status][x.at_station] = 1\n",
    "        else:\n",
    "            vessel_data_dict[x.AgentID][x.status][x.at_station] += 1"
   ],
   "metadata": {
    "collapsed": false,
    "pycharm": {
     "name": "#%%\n"
    }
   }
  },
  {
   "cell_type": "code",
   "execution_count": 59,
   "outputs": [
    {
     "data": {
      "text/plain": "326148     None\n326149     None\n326150     None\n326151     None\n326152     None\n           ... \n2631387    None\n2631388    None\n2631389    None\n2631390    None\n2631391    None\nLength: 168496, dtype: object"
     },
     "execution_count": 59,
     "metadata": {},
     "output_type": "execute_result"
    }
   ],
   "source": [
    "vessel_data.apply(lambda x: process_vessel_data(x), axis=1)"
   ],
   "metadata": {
    "collapsed": false,
    "pycharm": {
     "name": "#%%\n"
    }
   }
  },
  {
   "cell_type": "code",
   "execution_count": 60,
   "outputs": [],
   "source": [
    "df = pd.DataFrame(vessel_data_dict)\n",
    "df = df.transpose()"
   ],
   "metadata": {
    "collapsed": false,
    "pycharm": {
     "name": "#%%\n"
    }
   }
  },
  {
   "cell_type": "code",
   "execution_count": 61,
   "outputs": [],
   "source": [
    "df['total_charging'] = 0\n",
    "df.total_charging = df.charging.apply(lambda x: sum(x.values()))\n",
    "df['total_inline'] = 0\n",
    "df.total_inline = df.inline.apply(lambda x: sum(x.values()))"
   ],
   "metadata": {
    "collapsed": false,
    "pycharm": {
     "name": "#%%\n"
    }
   }
  },
  {
   "cell_type": "code",
   "execution_count": 62,
   "outputs": [],
   "source": [
    "df1 = vessel_data.loc[vessel_data.status != 0].loc[:,['AgentID','Step','vessel_route','departed_from', 'combi','battery_size', 'generated_at']].groupby('AgentID').first()\n",
    "vessel_data = pd.merge(df1, df, left_index=True, right_index=True)"
   ],
   "metadata": {
    "collapsed": false,
    "pycharm": {
     "name": "#%%\n"
    }
   }
  },
  {
   "cell_type": "code",
   "execution_count": 63,
   "outputs": [
    {
     "data": {
      "text/plain": "          Step       vessel_route departed_from                        combi  \\\nAgentID                                                                        \n73        1444  (NLHTB, NLBZM, 0)       8866775  [8866893, 8862801, 8866775]   \n74        1475  (NLGOR, NLRTM, 0)       8863306           [8863019, 8863306]   \n75        1482  (NLAER, NLNIE, 0)       8867538      [8864005, 8863360, 107]   \n76        1484  (NLTNZ, NLVLI, 0)       8864111                    [8863469]   \n77        1484  (NLGOR, NLRTM, 0)       8863019           [8863019, 8863306]   \n...        ...                ...           ...                          ...   \n530      11431  (NLRTM, NLAPN, 0)       8863360           [8863306, 8863360]   \n531      11456  (NLOOS, NLTLB, 0)       8863818                    [8863818]   \n532      11464  (NLAMS, NLZAA, 0)       8866889                    [8866889]   \n533      11486  (NLKGZ, NLAMS, 0)       8863260                    [8866763]   \n534      11487  (NLNIJ, NLDRU, 0)       8865412          [22638327, 8865412]   \n\n         battery_size  generated_at  \\\nAgentID                               \n73             6650.0        1443.0   \n74             3220.0        1474.0   \n75             6650.0        1481.0   \n76             6650.0        1483.0   \n77             9404.0        1483.0   \n...               ...           ...   \n530            2031.0       11430.0   \n531            6650.0       11455.0   \n532            3220.0       11463.0   \n533            6650.0       11485.0   \n534            6650.0       11486.0   \n\n                                            charging inline driving  \\\nAgentID                                                               \n73                  {'8866893': 115, '8862801': 155}     {}     549   \n74                                   {'8863019': 66}     {}     237   \n75       {'8863360': 135, '107': 60, '8864005': 155}     {}     471   \n76                                  {'8863469': 143}     {}     110   \n77                                  {'8863306': 192}     {}     237   \n...                                              ...    ...     ...   \n530                                               {}     {}      90   \n531                                               {}     {}      65   \n532                                               {}     {}      30   \n533                                  {'8866763': 22}     {}      13   \n534                                               {}     {}      34   \n\n         total_charging  total_inline  \nAgentID                                \n73                  270             0  \n74                   66             0  \n75                  350             0  \n76                  143             0  \n77                  192             0  \n...                 ...           ...  \n530                   0             0  \n531                   0             0  \n532                   0             0  \n533                  22             0  \n534                   0             0  \n\n[462 rows x 11 columns]",
      "text/html": "<div>\n<style scoped>\n    .dataframe tbody tr th:only-of-type {\n        vertical-align: middle;\n    }\n\n    .dataframe tbody tr th {\n        vertical-align: top;\n    }\n\n    .dataframe thead th {\n        text-align: right;\n    }\n</style>\n<table border=\"1\" class=\"dataframe\">\n  <thead>\n    <tr style=\"text-align: right;\">\n      <th></th>\n      <th>Step</th>\n      <th>vessel_route</th>\n      <th>departed_from</th>\n      <th>combi</th>\n      <th>battery_size</th>\n      <th>generated_at</th>\n      <th>charging</th>\n      <th>inline</th>\n      <th>driving</th>\n      <th>total_charging</th>\n      <th>total_inline</th>\n    </tr>\n    <tr>\n      <th>AgentID</th>\n      <th></th>\n      <th></th>\n      <th></th>\n      <th></th>\n      <th></th>\n      <th></th>\n      <th></th>\n      <th></th>\n      <th></th>\n      <th></th>\n      <th></th>\n    </tr>\n  </thead>\n  <tbody>\n    <tr>\n      <th>73</th>\n      <td>1444</td>\n      <td>(NLHTB, NLBZM, 0)</td>\n      <td>8866775</td>\n      <td>[8866893, 8862801, 8866775]</td>\n      <td>6650.0</td>\n      <td>1443.0</td>\n      <td>{'8866893': 115, '8862801': 155}</td>\n      <td>{}</td>\n      <td>549</td>\n      <td>270</td>\n      <td>0</td>\n    </tr>\n    <tr>\n      <th>74</th>\n      <td>1475</td>\n      <td>(NLGOR, NLRTM, 0)</td>\n      <td>8863306</td>\n      <td>[8863019, 8863306]</td>\n      <td>3220.0</td>\n      <td>1474.0</td>\n      <td>{'8863019': 66}</td>\n      <td>{}</td>\n      <td>237</td>\n      <td>66</td>\n      <td>0</td>\n    </tr>\n    <tr>\n      <th>75</th>\n      <td>1482</td>\n      <td>(NLAER, NLNIE, 0)</td>\n      <td>8867538</td>\n      <td>[8864005, 8863360, 107]</td>\n      <td>6650.0</td>\n      <td>1481.0</td>\n      <td>{'8863360': 135, '107': 60, '8864005': 155}</td>\n      <td>{}</td>\n      <td>471</td>\n      <td>350</td>\n      <td>0</td>\n    </tr>\n    <tr>\n      <th>76</th>\n      <td>1484</td>\n      <td>(NLTNZ, NLVLI, 0)</td>\n      <td>8864111</td>\n      <td>[8863469]</td>\n      <td>6650.0</td>\n      <td>1483.0</td>\n      <td>{'8863469': 143}</td>\n      <td>{}</td>\n      <td>110</td>\n      <td>143</td>\n      <td>0</td>\n    </tr>\n    <tr>\n      <th>77</th>\n      <td>1484</td>\n      <td>(NLGOR, NLRTM, 0)</td>\n      <td>8863019</td>\n      <td>[8863019, 8863306]</td>\n      <td>9404.0</td>\n      <td>1483.0</td>\n      <td>{'8863306': 192}</td>\n      <td>{}</td>\n      <td>237</td>\n      <td>192</td>\n      <td>0</td>\n    </tr>\n    <tr>\n      <th>...</th>\n      <td>...</td>\n      <td>...</td>\n      <td>...</td>\n      <td>...</td>\n      <td>...</td>\n      <td>...</td>\n      <td>...</td>\n      <td>...</td>\n      <td>...</td>\n      <td>...</td>\n      <td>...</td>\n    </tr>\n    <tr>\n      <th>530</th>\n      <td>11431</td>\n      <td>(NLRTM, NLAPN, 0)</td>\n      <td>8863360</td>\n      <td>[8863306, 8863360]</td>\n      <td>2031.0</td>\n      <td>11430.0</td>\n      <td>{}</td>\n      <td>{}</td>\n      <td>90</td>\n      <td>0</td>\n      <td>0</td>\n    </tr>\n    <tr>\n      <th>531</th>\n      <td>11456</td>\n      <td>(NLOOS, NLTLB, 0)</td>\n      <td>8863818</td>\n      <td>[8863818]</td>\n      <td>6650.0</td>\n      <td>11455.0</td>\n      <td>{}</td>\n      <td>{}</td>\n      <td>65</td>\n      <td>0</td>\n      <td>0</td>\n    </tr>\n    <tr>\n      <th>532</th>\n      <td>11464</td>\n      <td>(NLAMS, NLZAA, 0)</td>\n      <td>8866889</td>\n      <td>[8866889]</td>\n      <td>3220.0</td>\n      <td>11463.0</td>\n      <td>{}</td>\n      <td>{}</td>\n      <td>30</td>\n      <td>0</td>\n      <td>0</td>\n    </tr>\n    <tr>\n      <th>533</th>\n      <td>11486</td>\n      <td>(NLKGZ, NLAMS, 0)</td>\n      <td>8863260</td>\n      <td>[8866763]</td>\n      <td>6650.0</td>\n      <td>11485.0</td>\n      <td>{'8866763': 22}</td>\n      <td>{}</td>\n      <td>13</td>\n      <td>22</td>\n      <td>0</td>\n    </tr>\n    <tr>\n      <th>534</th>\n      <td>11487</td>\n      <td>(NLNIJ, NLDRU, 0)</td>\n      <td>8865412</td>\n      <td>[22638327, 8865412]</td>\n      <td>6650.0</td>\n      <td>11486.0</td>\n      <td>{}</td>\n      <td>{}</td>\n      <td>34</td>\n      <td>0</td>\n      <td>0</td>\n    </tr>\n  </tbody>\n</table>\n<p>462 rows × 11 columns</p>\n</div>"
     },
     "execution_count": 63,
     "metadata": {},
     "output_type": "execute_result"
    }
   ],
   "source": [
    "vessel_data = vessel_data.loc[vessel_data.generated_at > (24*60)]\n",
    "vessel_data\n",
    "# looks okay! Final check with pycharm later"
   ],
   "metadata": {
    "collapsed": false,
    "pycharm": {
     "name": "#%%\n"
    }
   }
  },
  {
   "cell_type": "code",
   "execution_count": 72,
   "outputs": [
    {
     "data": {
      "text/plain": "                          Step  battery_size  generated_at  total_charging  \\\nvessel_route                                                                 \n(NLABL, NLRTM, 0)  5921.375000   6565.500000   5920.375000       29.500000   \n(NLAER, NLLEY, 0)  6955.500000   2149.900000   6954.500000       29.600000   \n(NLAER, NLNIE, 0)  5021.000000   5159.100000   5020.000000      196.900000   \n(NLAER, NLRTM, 0)  6544.466667   6514.800000   6543.466667      298.600000   \n(NLALK, NLIJM, 0)  5921.000000   3106.875000   5920.000000       71.875000   \n(NLAMS, NLAER, 0)  6627.560976   2551.682927   6626.560976       49.146341   \n(NLAMS, NLMOE, 3)  5067.500000   6650.000000   5066.500000      372.916667   \n(NLAMS, NLUTC, 1)  5921.600000   6239.400000   5920.600000      150.200000   \n(NLAMS, NLWMO, 0)  4089.000000   1400.000000   4088.000000        5.250000   \n(NLAMS, NLZAA, 0)  5184.000000   2198.400000   5183.000000       10.800000   \n(NLAMS, NLZWI, 1)  9638.000000   2031.000000   9637.000000       88.000000   \n(NLBZM, NLRTM, 0)  7886.750000   4935.000000   7885.750000      186.750000   \n(NLDOR, NLAMS, 3)  6202.333333   6650.000000   6201.333333      340.000000   \n(NLDOR, NLRTM, 0)  6592.000000   5506.666667   6591.000000       96.166667   \n(NLDOR, NLRTM, 1)  7120.000000      0.000000   7119.000000        1.000000   \n(NLFAR, NLEEM, 0)  7894.500000   6650.000000   7893.500000      123.666667   \n(NLGOR, NLRTM, 0)  6239.304348   6543.869565   6238.304348      122.869565   \n(NLHAR, NLWTE, 0)  6815.428571   9404.000000   6814.428571      199.000000   \n(NLHTB, NLBZM, 0)  6004.400000   6650.000000   6003.400000      313.733333   \n(NLKGZ, NLAMS, 0)  6753.500000   2170.100000   6752.500000       16.800000   \n(NLKGZ, NLZAA, 0)  5670.333333   4340.500000   5669.333333        4.833333   \n(NLMOE, NLAPN, 1)  6828.500000   5792.500000   6827.500000      194.000000   \n(NLMOE, NLOOS, 0)  7783.625000   6650.000000   7782.625000       84.937500   \n(NLNIJ, NLDRU, 0)  6906.636364   5402.727273   6905.636364       59.000000   \n(NLNIJ, NLWAS, 0)  7239.700000   6650.000000   7238.700000      130.900000   \n(NLOOS, NLTLB, 0)  7752.000000   5775.000000   7751.000000       64.833333   \n(NLRTM, NLAMS, 0)  5370.666667   1676.666667   5369.666667       64.333333   \n(NLRTM, NLAPN, 0)  7800.785714   2995.285714   7799.785714       45.357143   \n(NLRTM, NLGTB, 1)  7600.500000   4935.000000   7599.500000      111.333333   \n(NLRTM, NLMOE, 0)  5734.705882   5615.176471   5733.705882      105.450980   \n(NLRTM, NLMOE, 1)  6304.500000   8228.500000   6303.500000      162.875000   \n(NLRTM, NLOOS, 1)  6605.777778   6546.388889   6604.777778      189.555556   \n(NLRTM, NLWLK, 1)  6669.555556   2031.000000   6668.555556       64.444444   \n(NLSWI, NLLEY, 0)  7345.111111   1952.777778   7344.111111       37.222222   \n(NLTLB, NLMOE, 0)  5038.000000   2031.000000   5037.000000       73.000000   \n(NLTNZ, NLBRS, 0)  5803.857143   4120.285714   5802.857143       52.428571   \n(NLTNZ, NLVLI, 0)  6320.850000   5472.900000   6319.850000       54.700000   \n(NLUTC, NLRTM, 0)  8755.000000   7751.600000   8754.000000      214.400000   \n(NLUTC, NLTIE, 0)  5023.428571   5990.142857   5022.428571      100.857143   \n(NLWSP, NLAER, 0)  6470.200000   4055.400000   6469.200000       57.066667   \n\n                   total_inline  \nvessel_route                     \n(NLABL, NLRTM, 0)      0.000000  \n(NLAER, NLLEY, 0)      0.000000  \n(NLAER, NLNIE, 0)      1.700000  \n(NLAER, NLRTM, 0)      4.200000  \n(NLALK, NLIJM, 0)      0.000000  \n(NLAMS, NLAER, 0)      2.121951  \n(NLAMS, NLMOE, 3)      0.666667  \n(NLAMS, NLUTC, 1)      0.000000  \n(NLAMS, NLWMO, 0)      0.000000  \n(NLAMS, NLZAA, 0)      0.000000  \n(NLAMS, NLZWI, 1)      4.000000  \n(NLBZM, NLRTM, 0)     10.500000  \n(NLDOR, NLAMS, 3)      0.000000  \n(NLDOR, NLRTM, 0)      1.416667  \n(NLDOR, NLRTM, 1)      0.000000  \n(NLFAR, NLEEM, 0)      0.000000  \n(NLGOR, NLRTM, 0)      0.739130  \n(NLHAR, NLWTE, 0)      0.000000  \n(NLHTB, NLBZM, 0)     35.000000  \n(NLKGZ, NLAMS, 0)      0.000000  \n(NLKGZ, NLZAA, 0)      0.000000  \n(NLMOE, NLAPN, 1)      1.500000  \n(NLMOE, NLOOS, 0)      1.000000  \n(NLNIJ, NLDRU, 0)     14.545455  \n(NLNIJ, NLWAS, 0)      6.300000  \n(NLOOS, NLTLB, 0)      0.000000  \n(NLRTM, NLAMS, 0)      3.166667  \n(NLRTM, NLAPN, 0)      4.285714  \n(NLRTM, NLGTB, 1)     20.500000  \n(NLRTM, NLMOE, 0)      1.000000  \n(NLRTM, NLMOE, 1)      3.125000  \n(NLRTM, NLOOS, 1)      3.611111  \n(NLRTM, NLWLK, 1)      6.333333  \n(NLSWI, NLLEY, 0)      0.000000  \n(NLTLB, NLMOE, 0)      0.000000  \n(NLTNZ, NLBRS, 0)      0.000000  \n(NLTNZ, NLVLI, 0)      0.000000  \n(NLUTC, NLRTM, 0)      0.000000  \n(NLUTC, NLTIE, 0)      8.714286  \n(NLWSP, NLAER, 0)      0.933333  ",
      "text/html": "<div>\n<style scoped>\n    .dataframe tbody tr th:only-of-type {\n        vertical-align: middle;\n    }\n\n    .dataframe tbody tr th {\n        vertical-align: top;\n    }\n\n    .dataframe thead th {\n        text-align: right;\n    }\n</style>\n<table border=\"1\" class=\"dataframe\">\n  <thead>\n    <tr style=\"text-align: right;\">\n      <th></th>\n      <th>Step</th>\n      <th>battery_size</th>\n      <th>generated_at</th>\n      <th>total_charging</th>\n      <th>total_inline</th>\n    </tr>\n    <tr>\n      <th>vessel_route</th>\n      <th></th>\n      <th></th>\n      <th></th>\n      <th></th>\n      <th></th>\n    </tr>\n  </thead>\n  <tbody>\n    <tr>\n      <th>(NLABL, NLRTM, 0)</th>\n      <td>5921.375000</td>\n      <td>6565.500000</td>\n      <td>5920.375000</td>\n      <td>29.500000</td>\n      <td>0.000000</td>\n    </tr>\n    <tr>\n      <th>(NLAER, NLLEY, 0)</th>\n      <td>6955.500000</td>\n      <td>2149.900000</td>\n      <td>6954.500000</td>\n      <td>29.600000</td>\n      <td>0.000000</td>\n    </tr>\n    <tr>\n      <th>(NLAER, NLNIE, 0)</th>\n      <td>5021.000000</td>\n      <td>5159.100000</td>\n      <td>5020.000000</td>\n      <td>196.900000</td>\n      <td>1.700000</td>\n    </tr>\n    <tr>\n      <th>(NLAER, NLRTM, 0)</th>\n      <td>6544.466667</td>\n      <td>6514.800000</td>\n      <td>6543.466667</td>\n      <td>298.600000</td>\n      <td>4.200000</td>\n    </tr>\n    <tr>\n      <th>(NLALK, NLIJM, 0)</th>\n      <td>5921.000000</td>\n      <td>3106.875000</td>\n      <td>5920.000000</td>\n      <td>71.875000</td>\n      <td>0.000000</td>\n    </tr>\n    <tr>\n      <th>(NLAMS, NLAER, 0)</th>\n      <td>6627.560976</td>\n      <td>2551.682927</td>\n      <td>6626.560976</td>\n      <td>49.146341</td>\n      <td>2.121951</td>\n    </tr>\n    <tr>\n      <th>(NLAMS, NLMOE, 3)</th>\n      <td>5067.500000</td>\n      <td>6650.000000</td>\n      <td>5066.500000</td>\n      <td>372.916667</td>\n      <td>0.666667</td>\n    </tr>\n    <tr>\n      <th>(NLAMS, NLUTC, 1)</th>\n      <td>5921.600000</td>\n      <td>6239.400000</td>\n      <td>5920.600000</td>\n      <td>150.200000</td>\n      <td>0.000000</td>\n    </tr>\n    <tr>\n      <th>(NLAMS, NLWMO, 0)</th>\n      <td>4089.000000</td>\n      <td>1400.000000</td>\n      <td>4088.000000</td>\n      <td>5.250000</td>\n      <td>0.000000</td>\n    </tr>\n    <tr>\n      <th>(NLAMS, NLZAA, 0)</th>\n      <td>5184.000000</td>\n      <td>2198.400000</td>\n      <td>5183.000000</td>\n      <td>10.800000</td>\n      <td>0.000000</td>\n    </tr>\n    <tr>\n      <th>(NLAMS, NLZWI, 1)</th>\n      <td>9638.000000</td>\n      <td>2031.000000</td>\n      <td>9637.000000</td>\n      <td>88.000000</td>\n      <td>4.000000</td>\n    </tr>\n    <tr>\n      <th>(NLBZM, NLRTM, 0)</th>\n      <td>7886.750000</td>\n      <td>4935.000000</td>\n      <td>7885.750000</td>\n      <td>186.750000</td>\n      <td>10.500000</td>\n    </tr>\n    <tr>\n      <th>(NLDOR, NLAMS, 3)</th>\n      <td>6202.333333</td>\n      <td>6650.000000</td>\n      <td>6201.333333</td>\n      <td>340.000000</td>\n      <td>0.000000</td>\n    </tr>\n    <tr>\n      <th>(NLDOR, NLRTM, 0)</th>\n      <td>6592.000000</td>\n      <td>5506.666667</td>\n      <td>6591.000000</td>\n      <td>96.166667</td>\n      <td>1.416667</td>\n    </tr>\n    <tr>\n      <th>(NLDOR, NLRTM, 1)</th>\n      <td>7120.000000</td>\n      <td>0.000000</td>\n      <td>7119.000000</td>\n      <td>1.000000</td>\n      <td>0.000000</td>\n    </tr>\n    <tr>\n      <th>(NLFAR, NLEEM, 0)</th>\n      <td>7894.500000</td>\n      <td>6650.000000</td>\n      <td>7893.500000</td>\n      <td>123.666667</td>\n      <td>0.000000</td>\n    </tr>\n    <tr>\n      <th>(NLGOR, NLRTM, 0)</th>\n      <td>6239.304348</td>\n      <td>6543.869565</td>\n      <td>6238.304348</td>\n      <td>122.869565</td>\n      <td>0.739130</td>\n    </tr>\n    <tr>\n      <th>(NLHAR, NLWTE, 0)</th>\n      <td>6815.428571</td>\n      <td>9404.000000</td>\n      <td>6814.428571</td>\n      <td>199.000000</td>\n      <td>0.000000</td>\n    </tr>\n    <tr>\n      <th>(NLHTB, NLBZM, 0)</th>\n      <td>6004.400000</td>\n      <td>6650.000000</td>\n      <td>6003.400000</td>\n      <td>313.733333</td>\n      <td>35.000000</td>\n    </tr>\n    <tr>\n      <th>(NLKGZ, NLAMS, 0)</th>\n      <td>6753.500000</td>\n      <td>2170.100000</td>\n      <td>6752.500000</td>\n      <td>16.800000</td>\n      <td>0.000000</td>\n    </tr>\n    <tr>\n      <th>(NLKGZ, NLZAA, 0)</th>\n      <td>5670.333333</td>\n      <td>4340.500000</td>\n      <td>5669.333333</td>\n      <td>4.833333</td>\n      <td>0.000000</td>\n    </tr>\n    <tr>\n      <th>(NLMOE, NLAPN, 1)</th>\n      <td>6828.500000</td>\n      <td>5792.500000</td>\n      <td>6827.500000</td>\n      <td>194.000000</td>\n      <td>1.500000</td>\n    </tr>\n    <tr>\n      <th>(NLMOE, NLOOS, 0)</th>\n      <td>7783.625000</td>\n      <td>6650.000000</td>\n      <td>7782.625000</td>\n      <td>84.937500</td>\n      <td>1.000000</td>\n    </tr>\n    <tr>\n      <th>(NLNIJ, NLDRU, 0)</th>\n      <td>6906.636364</td>\n      <td>5402.727273</td>\n      <td>6905.636364</td>\n      <td>59.000000</td>\n      <td>14.545455</td>\n    </tr>\n    <tr>\n      <th>(NLNIJ, NLWAS, 0)</th>\n      <td>7239.700000</td>\n      <td>6650.000000</td>\n      <td>7238.700000</td>\n      <td>130.900000</td>\n      <td>6.300000</td>\n    </tr>\n    <tr>\n      <th>(NLOOS, NLTLB, 0)</th>\n      <td>7752.000000</td>\n      <td>5775.000000</td>\n      <td>7751.000000</td>\n      <td>64.833333</td>\n      <td>0.000000</td>\n    </tr>\n    <tr>\n      <th>(NLRTM, NLAMS, 0)</th>\n      <td>5370.666667</td>\n      <td>1676.666667</td>\n      <td>5369.666667</td>\n      <td>64.333333</td>\n      <td>3.166667</td>\n    </tr>\n    <tr>\n      <th>(NLRTM, NLAPN, 0)</th>\n      <td>7800.785714</td>\n      <td>2995.285714</td>\n      <td>7799.785714</td>\n      <td>45.357143</td>\n      <td>4.285714</td>\n    </tr>\n    <tr>\n      <th>(NLRTM, NLGTB, 1)</th>\n      <td>7600.500000</td>\n      <td>4935.000000</td>\n      <td>7599.500000</td>\n      <td>111.333333</td>\n      <td>20.500000</td>\n    </tr>\n    <tr>\n      <th>(NLRTM, NLMOE, 0)</th>\n      <td>5734.705882</td>\n      <td>5615.176471</td>\n      <td>5733.705882</td>\n      <td>105.450980</td>\n      <td>1.000000</td>\n    </tr>\n    <tr>\n      <th>(NLRTM, NLMOE, 1)</th>\n      <td>6304.500000</td>\n      <td>8228.500000</td>\n      <td>6303.500000</td>\n      <td>162.875000</td>\n      <td>3.125000</td>\n    </tr>\n    <tr>\n      <th>(NLRTM, NLOOS, 1)</th>\n      <td>6605.777778</td>\n      <td>6546.388889</td>\n      <td>6604.777778</td>\n      <td>189.555556</td>\n      <td>3.611111</td>\n    </tr>\n    <tr>\n      <th>(NLRTM, NLWLK, 1)</th>\n      <td>6669.555556</td>\n      <td>2031.000000</td>\n      <td>6668.555556</td>\n      <td>64.444444</td>\n      <td>6.333333</td>\n    </tr>\n    <tr>\n      <th>(NLSWI, NLLEY, 0)</th>\n      <td>7345.111111</td>\n      <td>1952.777778</td>\n      <td>7344.111111</td>\n      <td>37.222222</td>\n      <td>0.000000</td>\n    </tr>\n    <tr>\n      <th>(NLTLB, NLMOE, 0)</th>\n      <td>5038.000000</td>\n      <td>2031.000000</td>\n      <td>5037.000000</td>\n      <td>73.000000</td>\n      <td>0.000000</td>\n    </tr>\n    <tr>\n      <th>(NLTNZ, NLBRS, 0)</th>\n      <td>5803.857143</td>\n      <td>4120.285714</td>\n      <td>5802.857143</td>\n      <td>52.428571</td>\n      <td>0.000000</td>\n    </tr>\n    <tr>\n      <th>(NLTNZ, NLVLI, 0)</th>\n      <td>6320.850000</td>\n      <td>5472.900000</td>\n      <td>6319.850000</td>\n      <td>54.700000</td>\n      <td>0.000000</td>\n    </tr>\n    <tr>\n      <th>(NLUTC, NLRTM, 0)</th>\n      <td>8755.000000</td>\n      <td>7751.600000</td>\n      <td>8754.000000</td>\n      <td>214.400000</td>\n      <td>0.000000</td>\n    </tr>\n    <tr>\n      <th>(NLUTC, NLTIE, 0)</th>\n      <td>5023.428571</td>\n      <td>5990.142857</td>\n      <td>5022.428571</td>\n      <td>100.857143</td>\n      <td>8.714286</td>\n    </tr>\n    <tr>\n      <th>(NLWSP, NLAER, 0)</th>\n      <td>6470.200000</td>\n      <td>4055.400000</td>\n      <td>6469.200000</td>\n      <td>57.066667</td>\n      <td>0.933333</td>\n    </tr>\n  </tbody>\n</table>\n</div>"
     },
     "execution_count": 72,
     "metadata": {},
     "output_type": "execute_result"
    }
   ],
   "source": [
    "vessel_data.groupby(\"vessel_route\").mean()"
   ],
   "metadata": {
    "collapsed": false,
    "pycharm": {
     "name": "#%%\n"
    }
   }
  },
  {
   "cell_type": "markdown",
   "source": [
    "### Charging station data"
   ],
   "metadata": {
    "collapsed": false,
    "pycharm": {
     "name": "#%% md\n"
    }
   }
  },
  {
   "cell_type": "code",
   "execution_count": 68,
   "outputs": [],
   "source": [
    "df1 = pd.DataFrame(agent_data.loc[(agent_data.charging_stations>0)].groupby('AgentID').first().loc[:,'charging_stations'])"
   ],
   "metadata": {
    "collapsed": false,
    "pycharm": {
     "name": "#%%\n"
    }
   }
  },
  {
   "cell_type": "code",
   "execution_count": 69,
   "outputs": [],
   "source": [
    "df2 = pd.DataFrame(agent_data.loc[(agent_data.charging_stations>0)].groupby('AgentID').station_status.mean())"
   ],
   "metadata": {
    "collapsed": false,
    "pycharm": {
     "name": "#%%\n"
    }
   }
  },
  {
   "cell_type": "code",
   "execution_count": 70,
   "outputs": [],
   "source": [
    "cs_data = pd.merge(df1, df2, left_index=True, right_index=True)"
   ],
   "metadata": {
    "collapsed": false,
    "pycharm": {
     "name": "#%%\n"
    }
   }
  },
  {
   "cell_type": "code",
   "execution_count": 71,
   "outputs": [
    {
     "data": {
      "text/plain": "          charging_stations  station_status\nAgentID                                    \n104                     2.0        0.172173\n107                     2.0        0.159573\n113                     2.0        0.069097\n122                     1.0        0.073611\n22638146                1.0        0.057837\n22638327                1.0        0.113889\n30984595                2.0        0.118353\n8862663                 2.0        0.170536\n8862801                 1.0        0.266369\n8863019                 1.0        0.120337\n8863306                 2.0        0.179315\n8863360                 1.0        0.117163\n8863469                 1.0        0.181349\n8863709                 1.0        0.048710\n8863818                 2.0        0.156498\n8864005                 2.0        0.115377\n8864566                 1.0        0.051984\n8864837                 2.0        0.148264\n8865003                 2.0        0.173214\n8865412                 1.0        0.028373\n8866686                 2.0        0.183780\n8866763                 2.0        0.182192\n8866775                 1.0        0.059127\n8866889                 1.0        0.072718\n8866893                 1.0        0.266270\n8867240                 1.0        0.076885\n8867538                 2.0        0.120833",
      "text/html": "<div>\n<style scoped>\n    .dataframe tbody tr th:only-of-type {\n        vertical-align: middle;\n    }\n\n    .dataframe tbody tr th {\n        vertical-align: top;\n    }\n\n    .dataframe thead th {\n        text-align: right;\n    }\n</style>\n<table border=\"1\" class=\"dataframe\">\n  <thead>\n    <tr style=\"text-align: right;\">\n      <th></th>\n      <th>charging_stations</th>\n      <th>station_status</th>\n    </tr>\n    <tr>\n      <th>AgentID</th>\n      <th></th>\n      <th></th>\n    </tr>\n  </thead>\n  <tbody>\n    <tr>\n      <th>104</th>\n      <td>2.0</td>\n      <td>0.172173</td>\n    </tr>\n    <tr>\n      <th>107</th>\n      <td>2.0</td>\n      <td>0.159573</td>\n    </tr>\n    <tr>\n      <th>113</th>\n      <td>2.0</td>\n      <td>0.069097</td>\n    </tr>\n    <tr>\n      <th>122</th>\n      <td>1.0</td>\n      <td>0.073611</td>\n    </tr>\n    <tr>\n      <th>22638146</th>\n      <td>1.0</td>\n      <td>0.057837</td>\n    </tr>\n    <tr>\n      <th>22638327</th>\n      <td>1.0</td>\n      <td>0.113889</td>\n    </tr>\n    <tr>\n      <th>30984595</th>\n      <td>2.0</td>\n      <td>0.118353</td>\n    </tr>\n    <tr>\n      <th>8862663</th>\n      <td>2.0</td>\n      <td>0.170536</td>\n    </tr>\n    <tr>\n      <th>8862801</th>\n      <td>1.0</td>\n      <td>0.266369</td>\n    </tr>\n    <tr>\n      <th>8863019</th>\n      <td>1.0</td>\n      <td>0.120337</td>\n    </tr>\n    <tr>\n      <th>8863306</th>\n      <td>2.0</td>\n      <td>0.179315</td>\n    </tr>\n    <tr>\n      <th>8863360</th>\n      <td>1.0</td>\n      <td>0.117163</td>\n    </tr>\n    <tr>\n      <th>8863469</th>\n      <td>1.0</td>\n      <td>0.181349</td>\n    </tr>\n    <tr>\n      <th>8863709</th>\n      <td>1.0</td>\n      <td>0.048710</td>\n    </tr>\n    <tr>\n      <th>8863818</th>\n      <td>2.0</td>\n      <td>0.156498</td>\n    </tr>\n    <tr>\n      <th>8864005</th>\n      <td>2.0</td>\n      <td>0.115377</td>\n    </tr>\n    <tr>\n      <th>8864566</th>\n      <td>1.0</td>\n      <td>0.051984</td>\n    </tr>\n    <tr>\n      <th>8864837</th>\n      <td>2.0</td>\n      <td>0.148264</td>\n    </tr>\n    <tr>\n      <th>8865003</th>\n      <td>2.0</td>\n      <td>0.173214</td>\n    </tr>\n    <tr>\n      <th>8865412</th>\n      <td>1.0</td>\n      <td>0.028373</td>\n    </tr>\n    <tr>\n      <th>8866686</th>\n      <td>2.0</td>\n      <td>0.183780</td>\n    </tr>\n    <tr>\n      <th>8866763</th>\n      <td>2.0</td>\n      <td>0.182192</td>\n    </tr>\n    <tr>\n      <th>8866775</th>\n      <td>1.0</td>\n      <td>0.059127</td>\n    </tr>\n    <tr>\n      <th>8866889</th>\n      <td>1.0</td>\n      <td>0.072718</td>\n    </tr>\n    <tr>\n      <th>8866893</th>\n      <td>1.0</td>\n      <td>0.266270</td>\n    </tr>\n    <tr>\n      <th>8867240</th>\n      <td>1.0</td>\n      <td>0.076885</td>\n    </tr>\n    <tr>\n      <th>8867538</th>\n      <td>2.0</td>\n      <td>0.120833</td>\n    </tr>\n  </tbody>\n</table>\n</div>"
     },
     "execution_count": 71,
     "metadata": {},
     "output_type": "execute_result"
    }
   ],
   "source": [
    "cs_data\n",
    "# TODO check why some are not visited at all within 7 days, seems off"
   ],
   "metadata": {
    "collapsed": false,
    "pycharm": {
     "name": "#%%\n"
    }
   }
  },
  {
   "cell_type": "markdown",
   "source": [
    "### Remark\n",
    "Something seems off, a lot of stations are not used at all\n",
    "Way forward:\n",
    "1. Check whether this may be clarified based on input data\n",
    "2. Recheck logic behind generation\n",
    "3. Check whether the generation is going well and as expected"
   ],
   "metadata": {
    "collapsed": false,
    "pycharm": {
     "name": "#%% md\n"
    }
   }
  },
  {
   "cell_type": "code",
   "execution_count": null,
   "outputs": [],
   "source": [],
   "metadata": {
    "collapsed": false,
    "pycharm": {
     "name": "#%%\n"
    }
   }
  }
 ],
 "metadata": {
  "kernelspec": {
   "display_name": "Python 3 (ipykernel)",
   "language": "python",
   "name": "python3"
  },
  "language_info": {
   "codemirror_mode": {
    "name": "ipython",
    "version": 3
   },
   "file_extension": ".py",
   "mimetype": "text/x-python",
   "name": "python",
   "nbconvert_exporter": "python",
   "pygments_lexer": "ipython3",
   "version": "3.10.4"
  }
 },
 "nbformat": 4,
 "nbformat_minor": 4
}