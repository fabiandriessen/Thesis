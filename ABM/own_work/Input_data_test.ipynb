{
 "cells": [
  {
   "cell_type": "code",
   "execution_count": 1,
   "outputs": [],
   "source": [
    "import pandas as pd\n",
    "import pickle\n",
    "import numpy as np\n",
    "import networkx as nx\n",
    "import re\n",
    "import time"
   ],
   "metadata": {
    "collapsed": false,
    "pycharm": {
     "name": "#%%\n"
    }
   }
  },
  {
   "cell_type": "code",
   "execution_count": 23,
   "outputs": [],
   "source": [
    "df_ivs = pickle.load(open('data/ivs_exploded_100.p', 'rb'))\n",
    "df_ivs_old = pickle.load(open('data/ivs_exploded_100_old.p', 'rb'))\n",
    "routes_dests = pickle.load(open('data/users_ship_specific_routes.p', 'rb'))\n",
    "df_ships = pd.read_excel('data/ship_types.xlsx')\n",
    "\n",
    "G = pickle.load(open(\"data/network.p\", \"rb\"))\n",
    "paths = pickle.load(open(\"data/paths.p\", \"rb\"))\n",
    "df_random = pickle.load(open(\"data/df_random.p\", \"rb\"))\n",
    "df_abm = pickle.load(open(\"data/df_abm.p\", \"rb\"))\n",
    "non_zero_flows = pickle.load(open(\"data/non_zero_flows.p\", \"rb\"))\n",
    "feasible_combinations = pickle.load(open('data/feasible_comb.p', 'rb'))\n",
    "optimal_flows = pickle.load(open('data/optimal_flows.p', 'rb'))\n",
    "agent_data = pickle.load(open('data/agent_data.p', 'rb'))\n",
    "model_data = pickle.load(open('data/model_data.p', 'rb'))\n",
    "path_lengths = pickle.load(open('data/path_lengths_ship_specific_routes.p', 'rb'))"
   ],
   "metadata": {
    "collapsed": false,
    "pycharm": {
     "name": "#%%\n"
    }
   }
  },
  {
   "cell_type": "code",
   "execution_count": 24,
   "outputs": [],
   "source": [
    "a = pd.DataFrame.from_dict(model_data.loc[1440].item()).sort_values(by='id')\n",
    "# b = a.loc[a.time_departed>(24*60)]\n",
    "a['pure_travel_time'] = a['travel_time'] - a['time_in_line'] - a['time_charging']\n",
    "b = a.loc[a.route==('NLGOR', 'NLRTM', 0)]"
   ],
   "metadata": {
    "collapsed": false,
    "pycharm": {
     "name": "#%%\n"
    }
   }
  },
  {
   "cell_type": "code",
   "execution_count": 25,
   "outputs": [
    {
     "data": {
      "text/plain": "      id              route  time_departed  travel_time  time_in_line  \\\n1      0  (NLMOE, NLOOS, 0)              4          148             0   \n2      1  (NLMOE, NLOOS, 0)             22          148             0   \n7      2  (NLNRW, NLBON, 0)             40          188             0   \n32     3  (NLTLB, NLRTM, 1)             41          574             0   \n15     4  (NLTLB, NLMOE, 0)             42          375            51   \n..   ...                ...            ...          ...           ...   \n103  112  (NLNIJ, NLDRU, 0)           1261          143             0   \n105  113  (NLMOE, NLOOS, 0)           1266          148             0   \n102  115  (NLTNZ, NLBRS, 0)           1277          121             0   \n108  116  (NLMOE, NLOOS, 0)           1283          148             0   \n101  128  (NLAMS, NLWMO, 0)           1359           30             0   \n\n     time_charging  time_charging_dest              full_charging_info  \\\n1                0                   0                              {}   \n2                0                   0                              {}   \n7                0                   0                              {}   \n32             162                   0  {'8863818': 73, '8862663': 89}   \n15              23                  23                 {'8863818': 23}   \n..             ...                 ...                             ...   \n103              0                   0                              {}   \n105              0                   0                              {}   \n102              0                   0                              {}   \n108              0                   0                              {}   \n101              0                   0                              {}   \n\n     distance_travelled  battery_size  pure_travel_time  \n1          37094.757687          1450               148  \n2          37094.757687             0               148  \n7          47022.905287          1000               188  \n32        103223.178110          4750               412  \n15         68889.728473          1450               301  \n..                  ...           ...               ...  \n103        35931.820139          4750               143  \n105        37094.757687          4750               148  \n102        30324.711900          4750               121  \n108        37094.757687          4750               148  \n101         7738.613189          1000                30  \n\n[110 rows x 11 columns]",
      "text/html": "<div>\n<style scoped>\n    .dataframe tbody tr th:only-of-type {\n        vertical-align: middle;\n    }\n\n    .dataframe tbody tr th {\n        vertical-align: top;\n    }\n\n    .dataframe thead th {\n        text-align: right;\n    }\n</style>\n<table border=\"1\" class=\"dataframe\">\n  <thead>\n    <tr style=\"text-align: right;\">\n      <th></th>\n      <th>id</th>\n      <th>route</th>\n      <th>time_departed</th>\n      <th>travel_time</th>\n      <th>time_in_line</th>\n      <th>time_charging</th>\n      <th>time_charging_dest</th>\n      <th>full_charging_info</th>\n      <th>distance_travelled</th>\n      <th>battery_size</th>\n      <th>pure_travel_time</th>\n    </tr>\n  </thead>\n  <tbody>\n    <tr>\n      <th>1</th>\n      <td>0</td>\n      <td>(NLMOE, NLOOS, 0)</td>\n      <td>4</td>\n      <td>148</td>\n      <td>0</td>\n      <td>0</td>\n      <td>0</td>\n      <td>{}</td>\n      <td>37094.757687</td>\n      <td>1450</td>\n      <td>148</td>\n    </tr>\n    <tr>\n      <th>2</th>\n      <td>1</td>\n      <td>(NLMOE, NLOOS, 0)</td>\n      <td>22</td>\n      <td>148</td>\n      <td>0</td>\n      <td>0</td>\n      <td>0</td>\n      <td>{}</td>\n      <td>37094.757687</td>\n      <td>0</td>\n      <td>148</td>\n    </tr>\n    <tr>\n      <th>7</th>\n      <td>2</td>\n      <td>(NLNRW, NLBON, 0)</td>\n      <td>40</td>\n      <td>188</td>\n      <td>0</td>\n      <td>0</td>\n      <td>0</td>\n      <td>{}</td>\n      <td>47022.905287</td>\n      <td>1000</td>\n      <td>188</td>\n    </tr>\n    <tr>\n      <th>32</th>\n      <td>3</td>\n      <td>(NLTLB, NLRTM, 1)</td>\n      <td>41</td>\n      <td>574</td>\n      <td>0</td>\n      <td>162</td>\n      <td>0</td>\n      <td>{'8863818': 73, '8862663': 89}</td>\n      <td>103223.178110</td>\n      <td>4750</td>\n      <td>412</td>\n    </tr>\n    <tr>\n      <th>15</th>\n      <td>4</td>\n      <td>(NLTLB, NLMOE, 0)</td>\n      <td>42</td>\n      <td>375</td>\n      <td>51</td>\n      <td>23</td>\n      <td>23</td>\n      <td>{'8863818': 23}</td>\n      <td>68889.728473</td>\n      <td>1450</td>\n      <td>301</td>\n    </tr>\n    <tr>\n      <th>...</th>\n      <td>...</td>\n      <td>...</td>\n      <td>...</td>\n      <td>...</td>\n      <td>...</td>\n      <td>...</td>\n      <td>...</td>\n      <td>...</td>\n      <td>...</td>\n      <td>...</td>\n      <td>...</td>\n    </tr>\n    <tr>\n      <th>103</th>\n      <td>112</td>\n      <td>(NLNIJ, NLDRU, 0)</td>\n      <td>1261</td>\n      <td>143</td>\n      <td>0</td>\n      <td>0</td>\n      <td>0</td>\n      <td>{}</td>\n      <td>35931.820139</td>\n      <td>4750</td>\n      <td>143</td>\n    </tr>\n    <tr>\n      <th>105</th>\n      <td>113</td>\n      <td>(NLMOE, NLOOS, 0)</td>\n      <td>1266</td>\n      <td>148</td>\n      <td>0</td>\n      <td>0</td>\n      <td>0</td>\n      <td>{}</td>\n      <td>37094.757687</td>\n      <td>4750</td>\n      <td>148</td>\n    </tr>\n    <tr>\n      <th>102</th>\n      <td>115</td>\n      <td>(NLTNZ, NLBRS, 0)</td>\n      <td>1277</td>\n      <td>121</td>\n      <td>0</td>\n      <td>0</td>\n      <td>0</td>\n      <td>{}</td>\n      <td>30324.711900</td>\n      <td>4750</td>\n      <td>121</td>\n    </tr>\n    <tr>\n      <th>108</th>\n      <td>116</td>\n      <td>(NLMOE, NLOOS, 0)</td>\n      <td>1283</td>\n      <td>148</td>\n      <td>0</td>\n      <td>0</td>\n      <td>0</td>\n      <td>{}</td>\n      <td>37094.757687</td>\n      <td>4750</td>\n      <td>148</td>\n    </tr>\n    <tr>\n      <th>101</th>\n      <td>128</td>\n      <td>(NLAMS, NLWMO, 0)</td>\n      <td>1359</td>\n      <td>30</td>\n      <td>0</td>\n      <td>0</td>\n      <td>0</td>\n      <td>{}</td>\n      <td>7738.613189</td>\n      <td>1000</td>\n      <td>30</td>\n    </tr>\n  </tbody>\n</table>\n<p>110 rows × 11 columns</p>\n</div>"
     },
     "execution_count": 25,
     "metadata": {},
     "output_type": "execute_result"
    }
   ],
   "source": [
    "a"
   ],
   "metadata": {
    "collapsed": false,
    "pycharm": {
     "name": "#%%\n"
    }
   }
  },
  {
   "cell_type": "markdown",
   "source": [
    "## Try with agent_data"
   ],
   "metadata": {
    "collapsed": false,
    "pycharm": {
     "name": "#%% md\n"
    }
   }
  },
  {
   "cell_type": "code",
   "execution_count": 26,
   "outputs": [],
   "source": [
    "c = agent_data.reset_index()"
   ],
   "metadata": {
    "collapsed": false,
    "pycharm": {
     "name": "#%%\n"
    }
   }
  },
  {
   "cell_type": "code",
   "execution_count": 28,
   "outputs": [
    {
     "data": {
      "text/plain": "               Step  AgentID   id  vessel_route  battery_size  battery_level  \\\nvessel_status                                                                  \ncharging        236      236  236           236           236            236   \ndriving         314      314  314           314           314            314   \ninline          265      265  265           265           265            265   \n\n               generated_at  removed_at  station_status  \nvessel_status                                            \ncharging                236           0               0  \ndriving                 314           0               0  \ninline                  265           0               0  ",
      "text/html": "<div>\n<style scoped>\n    .dataframe tbody tr th:only-of-type {\n        vertical-align: middle;\n    }\n\n    .dataframe tbody tr th {\n        vertical-align: top;\n    }\n\n    .dataframe thead th {\n        text-align: right;\n    }\n</style>\n<table border=\"1\" class=\"dataframe\">\n  <thead>\n    <tr style=\"text-align: right;\">\n      <th></th>\n      <th>Step</th>\n      <th>AgentID</th>\n      <th>id</th>\n      <th>vessel_route</th>\n      <th>battery_size</th>\n      <th>battery_level</th>\n      <th>generated_at</th>\n      <th>removed_at</th>\n      <th>station_status</th>\n    </tr>\n    <tr>\n      <th>vessel_status</th>\n      <th></th>\n      <th></th>\n      <th></th>\n      <th></th>\n      <th></th>\n      <th></th>\n      <th></th>\n      <th></th>\n      <th></th>\n    </tr>\n  </thead>\n  <tbody>\n    <tr>\n      <th>charging</th>\n      <td>236</td>\n      <td>236</td>\n      <td>236</td>\n      <td>236</td>\n      <td>236</td>\n      <td>236</td>\n      <td>236</td>\n      <td>0</td>\n      <td>0</td>\n    </tr>\n    <tr>\n      <th>driving</th>\n      <td>314</td>\n      <td>314</td>\n      <td>314</td>\n      <td>314</td>\n      <td>314</td>\n      <td>314</td>\n      <td>314</td>\n      <td>0</td>\n      <td>0</td>\n    </tr>\n    <tr>\n      <th>inline</th>\n      <td>265</td>\n      <td>265</td>\n      <td>265</td>\n      <td>265</td>\n      <td>265</td>\n      <td>265</td>\n      <td>265</td>\n      <td>0</td>\n      <td>0</td>\n    </tr>\n  </tbody>\n</table>\n</div>"
     },
     "execution_count": 28,
     "metadata": {},
     "output_type": "execute_result"
    }
   ],
   "source": [
    "c.loc[c.AgentID==49].groupby('vessel_status').count()"
   ],
   "metadata": {
    "collapsed": false,
    "pycharm": {
     "name": "#%%\n"
    }
   }
  },
  {
   "cell_type": "code",
   "execution_count": null,
   "outputs": [],
   "source": [
    "c.loc[c.AgentID == 13].groupby('vessel_status').count()"
   ],
   "metadata": {
    "collapsed": false,
    "pycharm": {
     "name": "#%%\n"
    }
   }
  },
  {
   "cell_type": "code",
   "execution_count": null,
   "outputs": [],
   "source": [
    "c.loc[c.AgentID == 77].groupby('vessel_status').count()"
   ],
   "metadata": {
    "collapsed": false,
    "pycharm": {
     "name": "#%%\n"
    }
   }
  },
  {
   "cell_type": "code",
   "execution_count": null,
   "outputs": [],
   "source": [
    "c.loc[c.AgentID == 1]"
   ],
   "metadata": {
    "collapsed": false,
    "pycharm": {
     "name": "#%%\n"
    }
   }
  },
  {
   "cell_type": "code",
   "execution_count": null,
   "outputs": [],
   "source": [
    "a = agent_data.loc[agent_data.station_status==1].reset_index().sort_values(by='Step')\n",
    "a.groupby(['AgentID']).count()"
   ],
   "metadata": {
    "collapsed": false,
    "pycharm": {
     "name": "#%%\n"
    }
   }
  },
  {
   "cell_type": "code",
   "execution_count": null,
   "outputs": [],
   "source": [
    "non_zero_flows[('NLRTM', 'NLMOE', 0)]"
   ],
   "metadata": {
    "collapsed": false,
    "pycharm": {
     "name": "#%%\n"
    }
   }
  },
  {
   "cell_type": "code",
   "execution_count": 7,
   "outputs": [
    {
     "data": {
      "text/plain": "['8863306',\n '8864009',\n '8863742',\n '8867500',\n '8865140',\n '8866686',\n '8863048',\n '8866570',\n '8863131',\n '8865003',\n '8863665',\n '8862663',\n '8860725',\n '30984595']"
     },
     "execution_count": 7,
     "metadata": {},
     "output_type": "execute_result"
    }
   ],
   "source": [
    "paths[('NLRTM', 'NLMOE', 0)]"
   ],
   "metadata": {
    "collapsed": false,
    "pycharm": {
     "name": "#%%\n"
    }
   }
  },
  {
   "cell_type": "code",
   "execution_count": 14,
   "outputs": [],
   "source": [
    "b = paths[('NLGOR', 'NLRTM', 0)]"
   ],
   "metadata": {
    "collapsed": false,
    "pycharm": {
     "name": "#%%\n"
    }
   }
  },
  {
   "cell_type": "code",
   "execution_count": 15,
   "outputs": [],
   "source": [
    "b = b[::-1]"
   ],
   "metadata": {
    "collapsed": false,
    "pycharm": {
     "name": "#%%\n"
    }
   }
  },
  {
   "cell_type": "code",
   "execution_count": 16,
   "outputs": [
    {
     "name": "stdout",
     "output_type": "stream",
     "text": [
      "0\n"
     ]
    }
   ],
   "source": [
    "for i in range(1):\n",
    "    print(i)"
   ],
   "metadata": {
    "collapsed": false,
    "pycharm": {
     "name": "#%%\n"
    }
   }
  },
  {
   "cell_type": "code",
   "execution_count": 17,
   "outputs": [
    {
     "name": "stdout",
     "output_type": "stream",
     "text": [
      "651.3288639667403 651.3288639667403\n",
      "6345.434042802258 6996.762906768998\n",
      "3010.574501261619 10007.337408030617\n",
      "4548.7114559023 14556.048863932916\n",
      "1910.6073697711045 16466.65623370402\n",
      "4354.183792219703 20820.840025923724\n",
      "2859.5103864259836 23680.350412349708\n",
      "831.6178353275283 24511.968247677236\n",
      "584.9264533641734 25096.89470104141\n",
      "24037.539243228617 49134.43394427003\n",
      "7912.849145725791 57047.28308999582\n",
      "1655.7769099938282 58703.05999998965\n",
      "690.3248762319221 59393.38487622157\n"
     ]
    }
   ],
   "source": [
    "a1 =0\n",
    "for i in range(len(b)-1):\n",
    "    a = nx.dijkstra_path_length(G, b[i], b[i+1], weight='length_m')\n",
    "    a1 += a\n",
    "    print(a, a1)"
   ],
   "metadata": {
    "collapsed": false,
    "pycharm": {
     "name": "#%%\n"
    }
   }
  },
  {
   "cell_type": "code",
   "execution_count": null,
   "outputs": [],
   "source": [
    "a1"
   ],
   "metadata": {
    "collapsed": false,
    "pycharm": {
     "name": "#%%\n"
    }
   }
  },
  {
   "cell_type": "code",
   "execution_count": 18,
   "outputs": [
    {
     "data": {
      "text/plain": "46113.84265717132"
     },
     "execution_count": 18,
     "metadata": {},
     "output_type": "execute_result"
    }
   ],
   "source": [
    "path_lengths[('NLRTM', 'NLAPN', 0)]"
   ],
   "metadata": {
    "collapsed": false,
    "pycharm": {
     "name": "#%%\n"
    }
   }
  },
  {
   "cell_type": "code",
   "execution_count": 19,
   "outputs": [
    {
     "data": {
      "text/plain": "27535.141001402484"
     },
     "execution_count": 19,
     "metadata": {},
     "output_type": "execute_result"
    }
   ],
   "source": [
    "path_lengths[('NLTNZ', 'NLVLI', 0)]"
   ],
   "metadata": {
    "collapsed": false,
    "pycharm": {
     "name": "#%%\n"
    }
   }
  },
  {
   "cell_type": "code",
   "execution_count": null,
   "outputs": [],
   "source": [
    "paths[('NLKGZ', 'NLAMS', 0)]"
   ],
   "metadata": {
    "collapsed": false,
    "pycharm": {
     "name": "#%%\n"
    }
   }
  },
  {
   "cell_type": "code",
   "execution_count": null,
   "outputs": [],
   "source": [
    "agent_data.reset_index().loc[agent_data.reset_index().AgentID.str.len()<4]"
   ],
   "metadata": {
    "collapsed": false,
    "pycharm": {
     "name": "#%%\n"
    }
   }
  },
  {
   "cell_type": "code",
   "execution_count": null,
   "outputs": [],
   "source": [
    "agent_data.reset_index(inplace=True)"
   ],
   "metadata": {
    "collapsed": false,
    "pycharm": {
     "name": "#%%\n"
    }
   }
  },
  {
   "cell_type": "code",
   "execution_count": null,
   "outputs": [],
   "source": [
    "\n",
    "agent_data.loc[agent_data.station_status == 1]"
   ],
   "metadata": {
    "collapsed": false,
    "pycharm": {
     "name": "#%%\n"
    }
   }
  },
  {
   "cell_type": "code",
   "execution_count": 69,
   "outputs": [
    {
     "ename": "AttributeError",
     "evalue": "'DataFrame' object has no attribute 'Vessel_status'",
     "output_type": "error",
     "traceback": [
      "\u001B[1;31m---------------------------------------------------------------------------\u001B[0m",
      "\u001B[1;31mAttributeError\u001B[0m                            Traceback (most recent call last)",
      "Input \u001B[1;32mIn [69]\u001B[0m, in \u001B[0;36m<cell line: 1>\u001B[1;34m()\u001B[0m\n\u001B[1;32m----> 1\u001B[0m agent_data\u001B[38;5;241m.\u001B[39mloc[\u001B[43magent_data\u001B[49m\u001B[38;5;241;43m.\u001B[39;49m\u001B[43mVessel_status\u001B[49m\u001B[38;5;241m!=\u001B[39m\u001B[38;5;241m0\u001B[39m]\n",
      "File \u001B[1;32m~\\Anaconda3\\envs\\ox\\lib\\site-packages\\pandas\\core\\generic.py:5575\u001B[0m, in \u001B[0;36mNDFrame.__getattr__\u001B[1;34m(self, name)\u001B[0m\n\u001B[0;32m   5568\u001B[0m \u001B[38;5;28;01mif\u001B[39;00m (\n\u001B[0;32m   5569\u001B[0m     name \u001B[38;5;129;01mnot\u001B[39;00m \u001B[38;5;129;01min\u001B[39;00m \u001B[38;5;28mself\u001B[39m\u001B[38;5;241m.\u001B[39m_internal_names_set\n\u001B[0;32m   5570\u001B[0m     \u001B[38;5;129;01mand\u001B[39;00m name \u001B[38;5;129;01mnot\u001B[39;00m \u001B[38;5;129;01min\u001B[39;00m \u001B[38;5;28mself\u001B[39m\u001B[38;5;241m.\u001B[39m_metadata\n\u001B[0;32m   5571\u001B[0m     \u001B[38;5;129;01mand\u001B[39;00m name \u001B[38;5;129;01mnot\u001B[39;00m \u001B[38;5;129;01min\u001B[39;00m \u001B[38;5;28mself\u001B[39m\u001B[38;5;241m.\u001B[39m_accessors\n\u001B[0;32m   5572\u001B[0m     \u001B[38;5;129;01mand\u001B[39;00m \u001B[38;5;28mself\u001B[39m\u001B[38;5;241m.\u001B[39m_info_axis\u001B[38;5;241m.\u001B[39m_can_hold_identifiers_and_holds_name(name)\n\u001B[0;32m   5573\u001B[0m ):\n\u001B[0;32m   5574\u001B[0m     \u001B[38;5;28;01mreturn\u001B[39;00m \u001B[38;5;28mself\u001B[39m[name]\n\u001B[1;32m-> 5575\u001B[0m \u001B[38;5;28;01mreturn\u001B[39;00m \u001B[38;5;28;43mobject\u001B[39;49m\u001B[38;5;241;43m.\u001B[39;49m\u001B[38;5;21;43m__getattribute__\u001B[39;49m\u001B[43m(\u001B[49m\u001B[38;5;28;43mself\u001B[39;49m\u001B[43m,\u001B[49m\u001B[43m \u001B[49m\u001B[43mname\u001B[49m\u001B[43m)\u001B[49m\n",
      "\u001B[1;31mAttributeError\u001B[0m: 'DataFrame' object has no attribute 'Vessel_status'"
     ]
    }
   ],
   "source": [
    "agent_data.loc[agent_data.Vessel_status!=0]"
   ],
   "metadata": {
    "collapsed": false,
    "pycharm": {
     "name": "#%%\n"
    }
   }
  },
  {
   "cell_type": "code",
   "execution_count": null,
   "outputs": [],
   "source": [
    "df_abm.loc[df_abm.name]"
   ],
   "metadata": {
    "collapsed": false,
    "pycharm": {
     "name": "#%%\n"
    }
   }
  },
  {
   "cell_type": "code",
   "execution_count": null,
   "outputs": [],
   "source": [
    "o = {}\n",
    "for key, item in optimal_flows.items():\n",
    "    if item != 0:\n",
    "        a = (re.sub('''[\"'_']''', \"\", key[16:35]).split(','))\n",
    "        a = tuple([a[0], a[1], int(a[2])])\n",
    "        o[a] = {'combinations':[], 'flows':[]}\n",
    "\n",
    "for key, item in optimal_flows.items():\n",
    "    if item != 0:\n",
    "        a = (re.sub('''[\"'_']''', \"\", key[16:35]).split(','))\n",
    "        a = tuple([a[0], a[1], int(a[2])])\n",
    "        o[a]['combinations'].append(key[40:-4].split(\"',_'\"))\n",
    "        o[a]['flows'].append(item)\n",
    "        print(a)\n",
    "        print(key[40:-4].split(\"',_'\"))\n"
   ],
   "metadata": {
    "collapsed": false,
    "pycharm": {
     "name": "#%%\n"
    }
   }
  },
  {
   "cell_type": "code",
   "execution_count": null,
   "outputs": [],
   "source": [
    "o"
   ],
   "metadata": {
    "collapsed": false,
    "pycharm": {
     "name": "#%%\n"
    }
   }
  },
  {
   "cell_type": "code",
   "execution_count": null,
   "outputs": [],
   "source": [
    "a = o[('NLAMS', 'NLUTC', 1)]\n",
    "combi = np.random.choice(a=np.arange(len(a)), size=1, replace=False, p=[0.5,0.5])"
   ],
   "metadata": {
    "collapsed": false,
    "pycharm": {
     "name": "#%%\n"
    }
   }
  },
  {
   "cell_type": "code",
   "execution_count": null,
   "outputs": [],
   "source": [
    "a = [1,2,3]\n",
    "a = [i/sum(a) for i in a]"
   ],
   "metadata": {
    "collapsed": false,
    "pycharm": {
     "name": "#%%\n"
    }
   }
  },
  {
   "cell_type": "code",
   "execution_count": null,
   "outputs": [],
   "source": [
    "a"
   ],
   "metadata": {
    "collapsed": false,
    "pycharm": {
     "name": "#%%\n"
    }
   }
  },
  {
   "cell_type": "code",
   "execution_count": null,
   "outputs": [],
   "source": [
    "df_abm.loc[df_abm.name == '8864005']"
   ],
   "metadata": {
    "collapsed": false,
    "pycharm": {
     "name": "#%%\n"
    }
   }
  },
  {
   "cell_type": "code",
   "execution_count": null,
   "outputs": [],
   "source": [
    "updated_feasible_combinations = {}\n",
    "for key, combinations in feasible_combinations.items():\n",
    "    updated_feasible_combinations[key] = []\n",
    "    if len(combinations) > 1:\n",
    "        for combi in combinations:\n",
    "            # print(combi)\n",
    "            feasible = True\n",
    "            for node in combi:\n",
    "                if not node in charging_points:\n",
    "                    feasible = False\n",
    "                    break\n",
    "            if feasible:\n",
    "                updated_feasible_combinations[key].append(combi)\n",
    "    else:\n",
    "        feasible = True\n",
    "        for node in combinations:\n",
    "            if not node in charging_points:\n",
    "                feasible = False\n",
    "                break\n",
    "        if feasible:\n",
    "            updated_feasible_combinations[key].append(combinations)\n",
    "\n"
   ],
   "metadata": {
    "collapsed": false,
    "pycharm": {
     "name": "#%%\n"
    }
   }
  },
  {
   "cell_type": "code",
   "execution_count": null,
   "outputs": [],
   "source": [
    "a = [1]\n",
    "a[0]"
   ],
   "metadata": {
    "collapsed": false,
    "pycharm": {
     "name": "#%%\n"
    }
   }
  },
  {
   "cell_type": "code",
   "execution_count": null,
   "outputs": [],
   "source": [
    "# extract data\n",
    "df_links = nx.to_pandas_edgelist(G)\n",
    "df_nodes = pd.DataFrame.from_dict(dict(G.nodes(data=True)), orient='index')"
   ],
   "metadata": {
    "collapsed": false,
    "pycharm": {
     "name": "#%%\n"
    }
   }
  },
  {
   "cell_type": "code",
   "execution_count": null,
   "outputs": [],
   "source": [
    "for _, row in df_abm.iterrows():  # index, row in ...\n",
    "    # create agents according to model_type\n",
    "\n",
    "    model_type = row['model_type']\n",
    "    agent = None\n",
    "\n",
    "    name = row['name']\n",
    "    if pd.isna(name):\n",
    "        name = \"\"\n",
    "        print(\"error, nameless entry\")\n",
    "    else:\n",
    "        name = name\n",
    "    break"
   ],
   "metadata": {
    "collapsed": false,
    "pycharm": {
     "name": "#%%\n"
    }
   }
  },
  {
   "cell_type": "code",
   "execution_count": null,
   "outputs": [],
   "source": [
    "a =[1,3,34,6]\n",
    "a[::-1]"
   ],
   "metadata": {
    "collapsed": false,
    "pycharm": {
     "name": "#%%\n"
    }
   }
  },
  {
   "cell_type": "code",
   "execution_count": null,
   "outputs": [],
   "source": [
    "df_random.trip_count.iloc[0]"
   ],
   "metadata": {
    "collapsed": false,
    "pycharm": {
     "name": "#%%\n"
    }
   }
  },
  {
   "cell_type": "code",
   "execution_count": null,
   "outputs": [],
   "source": [
    "%%time\n",
    "type_list = list(df_random.iloc[:, 4:-2])\n",
    "for hour in range(24):\n",
    "    df_1 = df_random.loc[(df_random.hour == hour)]\n",
    "    for timestep in range(60):\n",
    "        for harbour in list(set(list(df_1.origin.unique()) + list(df_1.destination.unique()))):\n",
    "            a = df_1.loc[(df_1.origin==harbour)|(df_1.destination == harbour)]\n",
    "            for i,j in enumerate(a.index):\n",
    "                # chance that a vessel is generated is equal to 1/2 (either spawn at origin or dest) * trip_count/365\n",
    "                # (because trip_count is yearly) *(time_step/hours)\n",
    "                if 0.5 * (df_1.trip_count[j]/365) * (1/60) >= np.random.random():\n",
    "                    # determine vessel type\n",
    "                    prob = list(a.iloc[i, 4:-2].values / a.iloc[i, 4:-2].sum())\n",
    "                    to_pick = type_list\n",
    "                    ship_type = np.random.choice(a=to_pick, size=1, replace=True, p=prob)\n",
    "                    # randomly draw ship types for each OD pair\n",
    "                    print(ship_type, \"Vessel departed at\", df_1.origin[j], hour, ':', timestep, \"heading to\", df_1.destination[j], \"via route\", df_1.key[j])\n"
   ],
   "metadata": {
    "collapsed": false,
    "pycharm": {
     "name": "#%%\n"
    }
   }
  },
  {
   "cell_type": "code",
   "execution_count": null,
   "outputs": [],
   "source": [
    "type_list"
   ],
   "metadata": {
    "collapsed": false,
    "pycharm": {
     "name": "#%%\n"
    }
   }
  },
  {
   "cell_type": "code",
   "execution_count": null,
   "outputs": [],
   "source": [
    "def random_vessel_generator(df_prob, load=1):\n",
    "    \"\"\" Function to generate random vessel data.\n",
    "    Parameters\n",
    "    ----------\n",
    "    df_prob: pd.DataFrame\n",
    "    This dataframe must contain historical travel data\n",
    "    load: float\n",
    "    This float is equal to the simulated occupation of the network and may be read as the part of the traffic that is\n",
    "    electric.\n",
    "    \"\"\"\n",
    "    df_prob = df_prob.loc[df_prob.trip_count != 0]\n",
    "    df_prob.reset_index(inplace=True, drop=True)\n",
    "    df_prob = df_prob.fillna(0)\n",
    "\n",
    "    # create dict to store random prob based values later on\n",
    "    main_dict = {i: [] for i in df_prob.columns}\n",
    "\n",
    "    # copy origin and destination from original df\n",
    "    main_dict['origin'] = []\n",
    "    main_dict['destination'] = []\n",
    "    main_dict['route_v'] = []\n",
    "    main_dict['hour'] = []\n",
    "    main_dict['trip_count'] = []\n",
    "\n",
    "    # fill nan values and create type list\n",
    "    type_list = list(df_prob.iloc[:, 4:-1])\n",
    "    for i in range(24):\n",
    "        df_temp = df_prob.loc[df_prob.hour == i]\n",
    "        df_temp = df_temp.reset_index(drop=True)\n",
    "        total = df_temp.trip_count.sum()\n",
    "        prob_r = [i / total for i in df_temp.trip_count]\n",
    "        to_pick_r = list(np.arange(0, len(df_temp)))\n",
    "        count_r = total * 1\n",
    "        # randomly draw ODs\n",
    "        rand_routes = np.random.choice(a=to_pick_r, size=round(count_r), replace=True, p=prob_r)\n",
    "        unique_r, counts_r = np.unique(rand_routes, return_counts=True)\n",
    "        temp_type_dict_r = dict(zip(unique_r, counts_r))\n",
    "\n",
    "        for pair in df_temp.index:\n",
    "            # store trip count data previous draw\n",
    "            if pair in temp_type_dict_r.keys():\n",
    "                main_dict['trip_count'].append(temp_type_dict_r[pair])\n",
    "                main_dict['origin'].append(df_temp.origin[pair])\n",
    "                main_dict['destination'].append(df_temp.destination[pair])\n",
    "                main_dict['route_v'].append(df_temp.route_v[pair])\n",
    "                main_dict['hour'].append(i)\n",
    "                # print(main_dict['trip_count'])\n",
    "                # determine parameters to randomly draw ship types for each OD pair\n",
    "                prob = list(df_temp.iloc[pair, 4:-1].values / df_temp.iloc[pair, 4:-1].sum())\n",
    "                to_pick = type_list\n",
    "                # goes wrong now because may be zero ...\n",
    "                count = temp_type_dict_r[pair]\n",
    "\n",
    "                # randomly draw ship types for each OD pair\n",
    "                rand_vessels = np.random.choice(a=to_pick, size=round(count), replace=True, p=prob)\n",
    "                unique, counts = np.unique(rand_vessels, return_counts=True)\n",
    "                temp_type_dict = dict(zip(unique, counts))\n",
    "                for key in type_list:\n",
    "                    if key in temp_type_dict.keys():\n",
    "                        main_dict[key].append(temp_type_dict[key])\n",
    "                    else:\n",
    "                        main_dict[key].append(0)\n",
    "    break\n",
    "\n",
    "    df_return = pd.DataFrame.from_dict(main_dict)\n",
    "\n",
    "    return df_return"
   ],
   "metadata": {
    "collapsed": false,
    "pycharm": {
     "name": "#%%\n"
    }
   }
  },
  {
   "cell_type": "code",
   "execution_count": null,
   "outputs": [],
   "source": [
    "a1 = random_vessel_generator(df_ivs, 1)"
   ],
   "metadata": {
    "collapsed": false,
    "pycharm": {
     "name": "#%%\n"
    }
   }
  },
  {
   "cell_type": "code",
   "execution_count": null,
   "outputs": [],
   "source": [
    "a1"
   ],
   "metadata": {
    "collapsed": false,
    "pycharm": {
     "name": "#%%\n"
    }
   }
  },
  {
   "cell_type": "code",
   "execution_count": null,
   "outputs": [],
   "source": [],
   "metadata": {
    "collapsed": false,
    "pycharm": {
     "name": "#%%\n"
    }
   }
  }
 ],
 "metadata": {
  "kernelspec": {
   "display_name": "Python 3",
   "language": "python",
   "name": "python3"
  },
  "language_info": {
   "codemirror_mode": {
    "name": "ipython",
    "version": 2
   },
   "file_extension": ".py",
   "mimetype": "text/x-python",
   "name": "python",
   "nbconvert_exporter": "python",
   "pygments_lexer": "ipython2",
   "version": "2.7.6"
  }
 },
 "nbformat": 4,
 "nbformat_minor": 0
}