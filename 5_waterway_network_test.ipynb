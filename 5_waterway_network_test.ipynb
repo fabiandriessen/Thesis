{
 "cells": [
  {
   "cell_type": "code",
   "execution_count": 1,
   "metadata": {
    "collapsed": false,
    "jupyter": {
     "outputs_hidden": false
    },
    "pycharm": {
     "name": "#%%\n"
    }
   },
   "outputs": [],
   "source": [
    "import networkx as nx\n",
    "import matplotlib.pyplot as plt\n",
    "from fullfrlm import flow_refueling_location_model\n",
    "from generate_network import generate_network\n",
    "from flow_computation import flow_computation\n",
    "from random_vessel_generator import random_vessel_generator\n",
    "from first_stage_frlm import first_stage_frlm\n",
    "from second_stage_frlm import second_stage_frlm\n",
    "from create_input_data_abm import create_input_data_abm\n",
    "from visualize_placement import visualize_placement\n",
    "from get_abm_data import get_vessel_data_batch, get_cs_data_batch\n",
    "import pickle\n",
    "from determine_additional_nodes import determine_additional_nodes\n",
    "import pandas as pd\n",
    "pd.options.mode.chained_assignment = None  # default='warn'\n",
    "import time"
   ]
  },
  {
   "cell_type": "code",
   "execution_count": 2,
   "outputs": [],
   "source": [
    "G = pickle.load(open('data/network_cleaned_final.p', 'rb'))\n",
    "df_h = pickle.load(open(\"data/revised_cleaning_results/harbour_data_100.p\", \"rb\"))\n",
    "df_ivs = pickle.load(open(\"data/revised_cleaning_results/ivs_exploded_100.p\", \"rb\"))\n",
    "path_lengths = pickle.load(open(\"data/revised_cleaning_results/path_lengths_ship_specific_routes.p\", \"rb\"))\n",
    "paths = pickle.load(open('data/final_paths.p', \"rb\"))"
   ],
   "metadata": {
    "collapsed": false,
    "pycharm": {
     "name": "#%%\n"
    }
   }
  },
  {
   "cell_type": "code",
   "execution_count": 3,
   "outputs": [
    {
     "data": {
      "text/plain": "    origin destination  trip_count  hour   M12    M8  BII-6b  M10  BIIa-1  \\\n120  NLRTM       NLAMS        9932   825  2076  3510       0  427     102   \n136  NLRTM       NLMOE        2685   552    70  1584       0   56       2   \n145  NLRTM       NLVLI        2151   276   190   658       0  140      10   \n8    NLAMS       NLAER        2114   275     6   132       0    7       2   \n174  NLVEG       NLRTM        1467   276     0     1       0    0       0   \n..     ...         ...         ...   ...   ...   ...     ...  ...     ...   \n117  NLPER       NLVLI          92   365     1    20       0    1       0   \n133  NLRTM       NLLAV          90   269     0    40       0   46       0   \n103  NLNIJ       NLOMD          87   271     0    23       0    0      30   \n161  NLTIE       NLVLI          81   269     0    43       0   29       0   \n177  NLVLI       NLABL          77   259     0     8       0    0       0   \n\n       M9  ...  C4  B04  C2l  BII-2L  B02  C1b  C2b  B01  C1l  route_v  \n120  1316  ...   5    5    7      39    4    0    0    0    0       72  \n136   144  ...   2    0    0       1    0    0    0    0    0       24  \n145   414  ...   0    1    2       0    0    0    1    0    0        0  \n8       0  ...   0   37    1       0    3    0    1    1    0        0  \n174     0  ...   0    0    0       0    0    0    0    0    0        0  \n..    ...  ...  ..  ...  ...     ...  ...  ...  ...  ...  ...      ...  \n117    36  ...   0    0    0       0    0    0    0    0    0       23  \n133     0  ...   0    0    0       0    0    0    0    0    0        0  \n103     9  ...   0    0    0      20    0    0    0    0    0        0  \n161     5  ...   0    0    0       0    0    0    0    0    0        0  \n177    30  ...   0    0    0       0    0    0    0    0    0        0  \n\n[194 rows x 37 columns]",
      "text/html": "<div>\n<style scoped>\n    .dataframe tbody tr th:only-of-type {\n        vertical-align: middle;\n    }\n\n    .dataframe tbody tr th {\n        vertical-align: top;\n    }\n\n    .dataframe thead th {\n        text-align: right;\n    }\n</style>\n<table border=\"1\" class=\"dataframe\">\n  <thead>\n    <tr style=\"text-align: right;\">\n      <th></th>\n      <th>origin</th>\n      <th>destination</th>\n      <th>trip_count</th>\n      <th>hour</th>\n      <th>M12</th>\n      <th>M8</th>\n      <th>BII-6b</th>\n      <th>M10</th>\n      <th>BIIa-1</th>\n      <th>M9</th>\n      <th>...</th>\n      <th>C4</th>\n      <th>B04</th>\n      <th>C2l</th>\n      <th>BII-2L</th>\n      <th>B02</th>\n      <th>C1b</th>\n      <th>C2b</th>\n      <th>B01</th>\n      <th>C1l</th>\n      <th>route_v</th>\n    </tr>\n  </thead>\n  <tbody>\n    <tr>\n      <th>120</th>\n      <td>NLRTM</td>\n      <td>NLAMS</td>\n      <td>9932</td>\n      <td>825</td>\n      <td>2076</td>\n      <td>3510</td>\n      <td>0</td>\n      <td>427</td>\n      <td>102</td>\n      <td>1316</td>\n      <td>...</td>\n      <td>5</td>\n      <td>5</td>\n      <td>7</td>\n      <td>39</td>\n      <td>4</td>\n      <td>0</td>\n      <td>0</td>\n      <td>0</td>\n      <td>0</td>\n      <td>72</td>\n    </tr>\n    <tr>\n      <th>136</th>\n      <td>NLRTM</td>\n      <td>NLMOE</td>\n      <td>2685</td>\n      <td>552</td>\n      <td>70</td>\n      <td>1584</td>\n      <td>0</td>\n      <td>56</td>\n      <td>2</td>\n      <td>144</td>\n      <td>...</td>\n      <td>2</td>\n      <td>0</td>\n      <td>0</td>\n      <td>1</td>\n      <td>0</td>\n      <td>0</td>\n      <td>0</td>\n      <td>0</td>\n      <td>0</td>\n      <td>24</td>\n    </tr>\n    <tr>\n      <th>145</th>\n      <td>NLRTM</td>\n      <td>NLVLI</td>\n      <td>2151</td>\n      <td>276</td>\n      <td>190</td>\n      <td>658</td>\n      <td>0</td>\n      <td>140</td>\n      <td>10</td>\n      <td>414</td>\n      <td>...</td>\n      <td>0</td>\n      <td>1</td>\n      <td>2</td>\n      <td>0</td>\n      <td>0</td>\n      <td>0</td>\n      <td>1</td>\n      <td>0</td>\n      <td>0</td>\n      <td>0</td>\n    </tr>\n    <tr>\n      <th>8</th>\n      <td>NLAMS</td>\n      <td>NLAER</td>\n      <td>2114</td>\n      <td>275</td>\n      <td>6</td>\n      <td>132</td>\n      <td>0</td>\n      <td>7</td>\n      <td>2</td>\n      <td>0</td>\n      <td>...</td>\n      <td>0</td>\n      <td>37</td>\n      <td>1</td>\n      <td>0</td>\n      <td>3</td>\n      <td>0</td>\n      <td>1</td>\n      <td>1</td>\n      <td>0</td>\n      <td>0</td>\n    </tr>\n    <tr>\n      <th>174</th>\n      <td>NLVEG</td>\n      <td>NLRTM</td>\n      <td>1467</td>\n      <td>276</td>\n      <td>0</td>\n      <td>1</td>\n      <td>0</td>\n      <td>0</td>\n      <td>0</td>\n      <td>0</td>\n      <td>...</td>\n      <td>0</td>\n      <td>0</td>\n      <td>0</td>\n      <td>0</td>\n      <td>0</td>\n      <td>0</td>\n      <td>0</td>\n      <td>0</td>\n      <td>0</td>\n      <td>0</td>\n    </tr>\n    <tr>\n      <th>...</th>\n      <td>...</td>\n      <td>...</td>\n      <td>...</td>\n      <td>...</td>\n      <td>...</td>\n      <td>...</td>\n      <td>...</td>\n      <td>...</td>\n      <td>...</td>\n      <td>...</td>\n      <td>...</td>\n      <td>...</td>\n      <td>...</td>\n      <td>...</td>\n      <td>...</td>\n      <td>...</td>\n      <td>...</td>\n      <td>...</td>\n      <td>...</td>\n      <td>...</td>\n      <td>...</td>\n    </tr>\n    <tr>\n      <th>117</th>\n      <td>NLPER</td>\n      <td>NLVLI</td>\n      <td>92</td>\n      <td>365</td>\n      <td>1</td>\n      <td>20</td>\n      <td>0</td>\n      <td>1</td>\n      <td>0</td>\n      <td>36</td>\n      <td>...</td>\n      <td>0</td>\n      <td>0</td>\n      <td>0</td>\n      <td>0</td>\n      <td>0</td>\n      <td>0</td>\n      <td>0</td>\n      <td>0</td>\n      <td>0</td>\n      <td>23</td>\n    </tr>\n    <tr>\n      <th>133</th>\n      <td>NLRTM</td>\n      <td>NLLAV</td>\n      <td>90</td>\n      <td>269</td>\n      <td>0</td>\n      <td>40</td>\n      <td>0</td>\n      <td>46</td>\n      <td>0</td>\n      <td>0</td>\n      <td>...</td>\n      <td>0</td>\n      <td>0</td>\n      <td>0</td>\n      <td>0</td>\n      <td>0</td>\n      <td>0</td>\n      <td>0</td>\n      <td>0</td>\n      <td>0</td>\n      <td>0</td>\n    </tr>\n    <tr>\n      <th>103</th>\n      <td>NLNIJ</td>\n      <td>NLOMD</td>\n      <td>87</td>\n      <td>271</td>\n      <td>0</td>\n      <td>23</td>\n      <td>0</td>\n      <td>0</td>\n      <td>30</td>\n      <td>9</td>\n      <td>...</td>\n      <td>0</td>\n      <td>0</td>\n      <td>0</td>\n      <td>20</td>\n      <td>0</td>\n      <td>0</td>\n      <td>0</td>\n      <td>0</td>\n      <td>0</td>\n      <td>0</td>\n    </tr>\n    <tr>\n      <th>161</th>\n      <td>NLTIE</td>\n      <td>NLVLI</td>\n      <td>81</td>\n      <td>269</td>\n      <td>0</td>\n      <td>43</td>\n      <td>0</td>\n      <td>29</td>\n      <td>0</td>\n      <td>5</td>\n      <td>...</td>\n      <td>0</td>\n      <td>0</td>\n      <td>0</td>\n      <td>0</td>\n      <td>0</td>\n      <td>0</td>\n      <td>0</td>\n      <td>0</td>\n      <td>0</td>\n      <td>0</td>\n    </tr>\n    <tr>\n      <th>177</th>\n      <td>NLVLI</td>\n      <td>NLABL</td>\n      <td>77</td>\n      <td>259</td>\n      <td>0</td>\n      <td>8</td>\n      <td>0</td>\n      <td>0</td>\n      <td>0</td>\n      <td>30</td>\n      <td>...</td>\n      <td>0</td>\n      <td>0</td>\n      <td>0</td>\n      <td>0</td>\n      <td>0</td>\n      <td>0</td>\n      <td>0</td>\n      <td>0</td>\n      <td>0</td>\n      <td>0</td>\n    </tr>\n  </tbody>\n</table>\n<p>194 rows × 37 columns</p>\n</div>"
     },
     "execution_count": 3,
     "metadata": {},
     "output_type": "execute_result"
    }
   ],
   "source": [
    "df_ivs.groupby(['origin','destination']).sum().reset_index().sort_values('trip_count', ascending=False)"
   ],
   "metadata": {
    "collapsed": false,
    "pycharm": {
     "name": "#%%\n"
    }
   }
  },
  {
   "cell_type": "code",
   "execution_count": 4,
   "outputs": [],
   "source": [
    "# pick seeds\n",
    "import numpy as np\n",
    "pick_from = np.linspace(0, 1000000, 1000001)\n",
    "seeds = np.random.choice(a=pick_from, size=100, replace=False)\n",
    "seeds = list(seeds)\n",
    "seeds = [round(i) for i in seeds]"
   ],
   "metadata": {
    "collapsed": false,
    "pycharm": {
     "name": "#%%\n"
    }
   }
  },
  {
   "cell_type": "code",
   "execution_count": 5,
   "outputs": [
    {
     "data": {
      "text/plain": "[192851,\n 371193,\n 156320,\n 42774,\n 564023,\n 386760,\n 780624,\n 426344,\n 874076,\n 98930,\n 277793,\n 508119,\n 505579,\n 374666,\n 11992,\n 314837,\n 661554,\n 68156,\n 405904,\n 501475,\n 123614,\n 636170,\n 284327,\n 589233,\n 336965,\n 10364,\n 145042,\n 565816,\n 233029,\n 945701,\n 349380,\n 711944,\n 206118,\n 47019,\n 452477,\n 384818,\n 683699,\n 500264,\n 555018,\n 590007,\n 602409,\n 635303,\n 337621,\n 327822,\n 482862,\n 458723,\n 275710,\n 115423,\n 19682,\n 387205,\n 374496,\n 909574,\n 560151,\n 307041,\n 825225,\n 406556,\n 260588,\n 498575,\n 54380,\n 864866,\n 270439,\n 568011,\n 288159,\n 620269,\n 69488,\n 848783,\n 423745,\n 230617,\n 354074,\n 865052,\n 619527,\n 963402,\n 611107,\n 812032,\n 47616,\n 910883,\n 366632,\n 8970,\n 747140,\n 482276,\n 41869,\n 46033,\n 22259,\n 303654,\n 316429,\n 508825,\n 658250,\n 675389,\n 130248,\n 676693,\n 234640,\n 81926,\n 342218,\n 968753,\n 563040,\n 587633,\n 814902,\n 196538,\n 446545,\n 563796]"
     },
     "execution_count": 5,
     "metadata": {},
     "output_type": "execute_result"
    }
   ],
   "source": [
    "seeds"
   ],
   "metadata": {
    "collapsed": false,
    "pycharm": {
     "name": "#%%\n"
    }
   }
  },
  {
   "cell_type": "code",
   "execution_count": 6,
   "outputs": [],
   "source": [
    "seeds = [259572, 7542, 864199, 11540, 188813, 411862, 546078, 420812, 304196, 814030]"
   ],
   "metadata": {
    "collapsed": false,
    "pycharm": {
     "name": "#%%\n"
    }
   }
  },
  {
   "cell_type": "code",
   "execution_count": 7,
   "outputs": [
    {
     "ename": "KeyboardInterrupt",
     "evalue": "",
     "output_type": "error",
     "traceback": [
      "\u001B[1;31m---------------------------------------------------------------------------\u001B[0m",
      "\u001B[1;31mKeyboardInterrupt\u001B[0m                         Traceback (most recent call last)",
      "File \u001B[1;32m<timed exec>:2\u001B[0m, in \u001B[0;36m<module>\u001B[1;34m\u001B[0m\n",
      "File \u001B[1;32m~\\Documents\\GitHub\\Thesis\\fullfrlm.py:90\u001B[0m, in \u001B[0;36mflow_refueling_location_model\u001B[1;34m(load, seed, r, v, p_b, stations_to_place, station_cap, max_per_loc, o, random_data, additional_nodes, include_intersections, vis)\u001B[0m\n\u001B[0;32m     85\u001B[0m df_b, df_g, df_eq_fq, feasible_combinations \u001B[38;5;241m=\u001B[39m first_stage_frlm(r, G, OD\u001B[38;5;241m=\u001B[39mflows, paths\u001B[38;5;241m=\u001B[39mpaths,\n\u001B[0;32m     86\u001B[0m                                                                path_lengths\u001B[38;5;241m=\u001B[39mpath_lengths, df_h\u001B[38;5;241m=\u001B[39mdf_h,\n\u001B[0;32m     87\u001B[0m                                                                additional_nodes\u001B[38;5;241m=\u001B[39minserted)\n\u001B[0;32m     89\u001B[0m \u001B[38;5;66;03m# execute second stage\u001B[39;00m\n\u001B[1;32m---> 90\u001B[0m optimal_facilities, optimal_flows, non_zero_flows, supported_flow, routes_supported \u001B[38;5;241m=\u001B[39m \u001B[43msecond_stage_frlm\u001B[49m\u001B[43m(\u001B[49m\n\u001B[0;32m     91\u001B[0m \u001B[43m    \u001B[49m\u001B[43mr\u001B[49m\u001B[43m,\u001B[49m\u001B[43m \u001B[49m\u001B[43mv\u001B[49m\u001B[43m,\u001B[49m\u001B[43m \u001B[49m\u001B[43mp_b\u001B[49m\u001B[43m,\u001B[49m\u001B[43m \u001B[49m\u001B[43mstations_to_place\u001B[49m\u001B[43m,\u001B[49m\u001B[43m \u001B[49m\u001B[43mstation_cap\u001B[49m\u001B[43m,\u001B[49m\u001B[43m \u001B[49m\u001B[43mmax_per_loc\u001B[49m\u001B[43m,\u001B[49m\u001B[43m \u001B[49m\u001B[43mo\u001B[49m\u001B[43m,\u001B[49m\u001B[43m \u001B[49m\u001B[43mdf_g\u001B[49m\u001B[43m,\u001B[49m\u001B[43m \u001B[49m\u001B[43mdf_b\u001B[49m\u001B[43m,\u001B[49m\u001B[43m \u001B[49m\u001B[43mdf_eq_fq\u001B[49m\u001B[43m)\u001B[49m\n\u001B[0;32m     93\u001B[0m \u001B[38;5;66;03m# collect data\u001B[39;00m\n\u001B[0;32m     94\u001B[0m total_flow \u001B[38;5;241m=\u001B[39m \u001B[38;5;28msum\u001B[39m(flows\u001B[38;5;241m.\u001B[39mvalues())\n",
      "File \u001B[1;32m~\\Documents\\GitHub\\Thesis\\second_stage_frlm.py:80\u001B[0m, in \u001B[0;36msecond_stage_frlm\u001B[1;34m(r, v, b, p, c, max_per_loc, o, df_g, df_b, df_eq_fq)\u001B[0m\n\u001B[0;32m     76\u001B[0m \u001B[38;5;66;03m# ###############################################constraints##################################################\u001B[39;00m\n\u001B[0;32m     77\u001B[0m \u001B[38;5;66;03m# first constraint\u001B[39;00m\n\u001B[0;32m     78\u001B[0m \u001B[38;5;66;03m# for each facility\u001B[39;00m\n\u001B[0;32m     79\u001B[0m \u001B[38;5;28;01mfor\u001B[39;00m key, facility \u001B[38;5;129;01min\u001B[39;00m facilities_to_build\u001B[38;5;241m.\u001B[39mitems():\n\u001B[1;32m---> 80\u001B[0m     model \u001B[38;5;241m+\u001B[39m\u001B[38;5;241m=\u001B[39m \u001B[43mpulp\u001B[49m\u001B[38;5;241;43m.\u001B[39;49m\u001B[43mlpSum\u001B[49m\u001B[43m(\u001B[49m\u001B[43mdf_eq_fq\u001B[49m\u001B[43m[\u001B[49m\u001B[38;5;124;43m'\u001B[39;49m\u001B[38;5;124;43me_q\u001B[39;49m\u001B[38;5;124;43m'\u001B[39;49m\u001B[43m]\u001B[49m\u001B[43m[\u001B[49m\u001B[43mq\u001B[49m\u001B[43m]\u001B[49m\u001B[43m \u001B[49m\u001B[38;5;241;43m*\u001B[39;49m\u001B[43m \u001B[49m\u001B[43mdf_g\u001B[49m\u001B[43m[\u001B[49m\u001B[43mkey\u001B[49m\u001B[43m]\u001B[49m\u001B[38;5;241;43m.\u001B[39;49m\u001B[43mloc\u001B[49m\u001B[43m[\u001B[49m\u001B[43mdf_g\u001B[49m\u001B[38;5;241;43m.\u001B[39;49m\u001B[43mindex\u001B[49m\u001B[43m \u001B[49m\u001B[38;5;241;43m==\u001B[39;49m\u001B[43m \u001B[49m\u001B[43m(\u001B[49m\u001B[43mq\u001B[49m\u001B[43m,\u001B[49m\u001B[43m \u001B[49m\u001B[43mh\u001B[49m\u001B[43m)\u001B[49m\u001B[43m]\u001B[49m\u001B[43m \u001B[49m\u001B[38;5;241;43m*\u001B[39;49m\u001B[43m \u001B[49m\u001B[43mdf_eq_fq\u001B[49m\u001B[43m[\u001B[49m\u001B[38;5;124;43m'\u001B[39;49m\u001B[38;5;124;43mf_q\u001B[39;49m\u001B[38;5;124;43m'\u001B[39;49m\u001B[43m]\u001B[49m\u001B[43m[\u001B[49m\u001B[43mq\u001B[49m\u001B[43m]\u001B[49m\u001B[43m \u001B[49m\u001B[38;5;241;43m*\u001B[39;49m\n\u001B[0;32m     81\u001B[0m \u001B[43m                        \u001B[49m\u001B[43mflow_allocation\u001B[49m\u001B[43m[\u001B[49m\u001B[43mq\u001B[49m\u001B[43m,\u001B[49m\u001B[43m \u001B[49m\u001B[43mh\u001B[49m\u001B[43m]\u001B[49m\u001B[43m \u001B[49m\u001B[38;5;28;43;01mfor\u001B[39;49;00m\u001B[43m \u001B[49m\u001B[43mq\u001B[49m\u001B[43m,\u001B[49m\u001B[43m \u001B[49m\u001B[43mh\u001B[49m\u001B[43m \u001B[49m\u001B[38;5;129;43;01min\u001B[39;49;00m\u001B[43m \u001B[49m\u001B[43mdf_g\u001B[49m\u001B[38;5;241;43m.\u001B[39;49m\u001B[43mindex\u001B[49m\u001B[43m)\u001B[49m \u001B[38;5;241m<\u001B[39m\u001B[38;5;241m=\u001B[39m pulp\u001B[38;5;241m.\u001B[39mlpSum(daily_cap \u001B[38;5;241m*\u001B[39m facility)\n\u001B[0;32m     83\u001B[0m \u001B[38;5;66;03m# second constraint\u001B[39;00m\n\u001B[0;32m     84\u001B[0m model \u001B[38;5;241m+\u001B[39m\u001B[38;5;241m=\u001B[39m pulp\u001B[38;5;241m.\u001B[39mlpSum(facilities_to_build[i] \u001B[38;5;28;01mfor\u001B[39;00m i \u001B[38;5;129;01min\u001B[39;00m facilities_to_build\u001B[38;5;241m.\u001B[39mkeys()) \u001B[38;5;241m<\u001B[39m\u001B[38;5;241m=\u001B[39m p\n",
      "File \u001B[1;32m~\\miniconda3\\envs\\ox\\lib\\site-packages\\pulp\\pulp.py:2281\u001B[0m, in \u001B[0;36mlpSum\u001B[1;34m(vector)\u001B[0m\n\u001B[0;32m   2275\u001B[0m \u001B[38;5;28;01mdef\u001B[39;00m \u001B[38;5;21mlpSum\u001B[39m(vector):\n\u001B[0;32m   2276\u001B[0m     \u001B[38;5;124;03m\"\"\"\u001B[39;00m\n\u001B[0;32m   2277\u001B[0m \u001B[38;5;124;03m    Calculate the sum of a list of linear expressions\u001B[39;00m\n\u001B[0;32m   2278\u001B[0m \n\u001B[0;32m   2279\u001B[0m \u001B[38;5;124;03m    :param vector: A list of linear expressions\u001B[39;00m\n\u001B[0;32m   2280\u001B[0m \u001B[38;5;124;03m    \"\"\"\u001B[39;00m\n\u001B[1;32m-> 2281\u001B[0m     \u001B[38;5;28;01mreturn\u001B[39;00m \u001B[43mLpAffineExpression\u001B[49m\u001B[43m(\u001B[49m\u001B[43m)\u001B[49m\u001B[38;5;241;43m.\u001B[39;49m\u001B[43maddInPlace\u001B[49m\u001B[43m(\u001B[49m\u001B[43mvector\u001B[49m\u001B[43m)\u001B[49m\n",
      "File \u001B[1;32m~\\miniconda3\\envs\\ox\\lib\\site-packages\\pulp\\pulp.py:896\u001B[0m, in \u001B[0;36mLpAffineExpression.addInPlace\u001B[1;34m(self, other)\u001B[0m\n\u001B[0;32m    894\u001B[0m         \u001B[38;5;28mself\u001B[39m\u001B[38;5;241m.\u001B[39maddInPlace(e)\n\u001B[0;32m    895\u001B[0m \u001B[38;5;28;01melif\u001B[39;00m \u001B[38;5;28misinstance\u001B[39m(other, \u001B[38;5;28mlist\u001B[39m) \u001B[38;5;129;01mor\u001B[39;00m \u001B[38;5;28misinstance\u001B[39m(other, Iterable):\n\u001B[1;32m--> 896\u001B[0m     \u001B[38;5;28;01mfor\u001B[39;00m e \u001B[38;5;129;01min\u001B[39;00m other:\n\u001B[0;32m    897\u001B[0m         \u001B[38;5;28mself\u001B[39m\u001B[38;5;241m.\u001B[39maddInPlace(e)\n\u001B[0;32m    898\u001B[0m \u001B[38;5;28;01melse\u001B[39;00m:\n",
      "File \u001B[1;32m~\\Documents\\GitHub\\Thesis\\second_stage_frlm.py:80\u001B[0m, in \u001B[0;36m<genexpr>\u001B[1;34m(.0)\u001B[0m\n\u001B[0;32m     76\u001B[0m \u001B[38;5;66;03m# ###############################################constraints##################################################\u001B[39;00m\n\u001B[0;32m     77\u001B[0m \u001B[38;5;66;03m# first constraint\u001B[39;00m\n\u001B[0;32m     78\u001B[0m \u001B[38;5;66;03m# for each facility\u001B[39;00m\n\u001B[0;32m     79\u001B[0m \u001B[38;5;28;01mfor\u001B[39;00m key, facility \u001B[38;5;129;01min\u001B[39;00m facilities_to_build\u001B[38;5;241m.\u001B[39mitems():\n\u001B[1;32m---> 80\u001B[0m     model \u001B[38;5;241m+\u001B[39m\u001B[38;5;241m=\u001B[39m pulp\u001B[38;5;241m.\u001B[39mlpSum(\u001B[43mdf_eq_fq\u001B[49m\u001B[43m[\u001B[49m\u001B[38;5;124;43m'\u001B[39;49m\u001B[38;5;124;43me_q\u001B[39;49m\u001B[38;5;124;43m'\u001B[39;49m\u001B[43m]\u001B[49m\u001B[43m[\u001B[49m\u001B[43mq\u001B[49m\u001B[43m]\u001B[49m\u001B[43m \u001B[49m\u001B[38;5;241;43m*\u001B[39;49m\u001B[43m \u001B[49m\u001B[43mdf_g\u001B[49m\u001B[43m[\u001B[49m\u001B[43mkey\u001B[49m\u001B[43m]\u001B[49m\u001B[38;5;241;43m.\u001B[39;49m\u001B[43mloc\u001B[49m\u001B[43m[\u001B[49m\u001B[43mdf_g\u001B[49m\u001B[38;5;241;43m.\u001B[39;49m\u001B[43mindex\u001B[49m\u001B[43m \u001B[49m\u001B[38;5;241;43m==\u001B[39;49m\u001B[43m \u001B[49m\u001B[43m(\u001B[49m\u001B[43mq\u001B[49m\u001B[43m,\u001B[49m\u001B[43m \u001B[49m\u001B[43mh\u001B[49m\u001B[43m)\u001B[49m\u001B[43m]\u001B[49m\u001B[43m \u001B[49m\u001B[38;5;241;43m*\u001B[39;49m\u001B[43m \u001B[49m\u001B[43mdf_eq_fq\u001B[49m\u001B[43m[\u001B[49m\u001B[38;5;124;43m'\u001B[39;49m\u001B[38;5;124;43mf_q\u001B[39;49m\u001B[38;5;124;43m'\u001B[39;49m\u001B[43m]\u001B[49m\u001B[43m[\u001B[49m\u001B[43mq\u001B[49m\u001B[43m]\u001B[49m \u001B[38;5;241m*\u001B[39m\n\u001B[0;32m     81\u001B[0m                         flow_allocation[q, h] \u001B[38;5;28;01mfor\u001B[39;00m q, h \u001B[38;5;129;01min\u001B[39;00m df_g\u001B[38;5;241m.\u001B[39mindex) \u001B[38;5;241m<\u001B[39m\u001B[38;5;241m=\u001B[39m pulp\u001B[38;5;241m.\u001B[39mlpSum(daily_cap \u001B[38;5;241m*\u001B[39m facility)\n\u001B[0;32m     83\u001B[0m \u001B[38;5;66;03m# second constraint\u001B[39;00m\n\u001B[0;32m     84\u001B[0m model \u001B[38;5;241m+\u001B[39m\u001B[38;5;241m=\u001B[39m pulp\u001B[38;5;241m.\u001B[39mlpSum(facilities_to_build[i] \u001B[38;5;28;01mfor\u001B[39;00m i \u001B[38;5;129;01min\u001B[39;00m facilities_to_build\u001B[38;5;241m.\u001B[39mkeys()) \u001B[38;5;241m<\u001B[39m\u001B[38;5;241m=\u001B[39m p\n",
      "File \u001B[1;32m~\\miniconda3\\envs\\ox\\lib\\site-packages\\pandas\\core\\ops\\common.py:70\u001B[0m, in \u001B[0;36m_unpack_zerodim_and_defer.<locals>.new_method\u001B[1;34m(self, other)\u001B[0m\n\u001B[0;32m     66\u001B[0m             \u001B[38;5;28;01mreturn\u001B[39;00m \u001B[38;5;28mNotImplemented\u001B[39m\n\u001B[0;32m     68\u001B[0m other \u001B[38;5;241m=\u001B[39m item_from_zerodim(other)\n\u001B[1;32m---> 70\u001B[0m \u001B[38;5;28;01mreturn\u001B[39;00m \u001B[43mmethod\u001B[49m\u001B[43m(\u001B[49m\u001B[38;5;28;43mself\u001B[39;49m\u001B[43m,\u001B[49m\u001B[43m \u001B[49m\u001B[43mother\u001B[49m\u001B[43m)\u001B[49m\n",
      "File \u001B[1;32m~\\miniconda3\\envs\\ox\\lib\\site-packages\\pandas\\core\\arraylike.py:116\u001B[0m, in \u001B[0;36mOpsMixin.__mul__\u001B[1;34m(self, other)\u001B[0m\n\u001B[0;32m    114\u001B[0m \u001B[38;5;129m@unpack_zerodim_and_defer\u001B[39m(\u001B[38;5;124m\"\u001B[39m\u001B[38;5;124m__mul__\u001B[39m\u001B[38;5;124m\"\u001B[39m)\n\u001B[0;32m    115\u001B[0m \u001B[38;5;28;01mdef\u001B[39;00m \u001B[38;5;21m__mul__\u001B[39m(\u001B[38;5;28mself\u001B[39m, other):\n\u001B[1;32m--> 116\u001B[0m     \u001B[38;5;28;01mreturn\u001B[39;00m \u001B[38;5;28;43mself\u001B[39;49m\u001B[38;5;241;43m.\u001B[39;49m\u001B[43m_arith_method\u001B[49m\u001B[43m(\u001B[49m\u001B[43mother\u001B[49m\u001B[43m,\u001B[49m\u001B[43m \u001B[49m\u001B[43moperator\u001B[49m\u001B[38;5;241;43m.\u001B[39;49m\u001B[43mmul\u001B[49m\u001B[43m)\u001B[49m\n",
      "File \u001B[1;32m~\\miniconda3\\envs\\ox\\lib\\site-packages\\pandas\\core\\series.py:5639\u001B[0m, in \u001B[0;36mSeries._arith_method\u001B[1;34m(self, other, op)\u001B[0m\n\u001B[0;32m   5637\u001B[0m \u001B[38;5;28;01mdef\u001B[39;00m \u001B[38;5;21m_arith_method\u001B[39m(\u001B[38;5;28mself\u001B[39m, other, op):\n\u001B[0;32m   5638\u001B[0m     \u001B[38;5;28mself\u001B[39m, other \u001B[38;5;241m=\u001B[39m ops\u001B[38;5;241m.\u001B[39malign_method_SERIES(\u001B[38;5;28mself\u001B[39m, other)\n\u001B[1;32m-> 5639\u001B[0m     \u001B[38;5;28;01mreturn\u001B[39;00m \u001B[43mbase\u001B[49m\u001B[38;5;241;43m.\u001B[39;49m\u001B[43mIndexOpsMixin\u001B[49m\u001B[38;5;241;43m.\u001B[39;49m\u001B[43m_arith_method\u001B[49m\u001B[43m(\u001B[49m\u001B[38;5;28;43mself\u001B[39;49m\u001B[43m,\u001B[49m\u001B[43m \u001B[49m\u001B[43mother\u001B[49m\u001B[43m,\u001B[49m\u001B[43m \u001B[49m\u001B[43mop\u001B[49m\u001B[43m)\u001B[49m\n",
      "File \u001B[1;32m~\\miniconda3\\envs\\ox\\lib\\site-packages\\pandas\\core\\base.py:1291\u001B[0m, in \u001B[0;36mIndexOpsMixin._arith_method\u001B[1;34m(self, other, op)\u001B[0m\n\u001B[0;32m   1289\u001B[0m lvalues \u001B[38;5;241m=\u001B[39m \u001B[38;5;28mself\u001B[39m\u001B[38;5;241m.\u001B[39m_values\n\u001B[0;32m   1290\u001B[0m rvalues \u001B[38;5;241m=\u001B[39m extract_array(other, extract_numpy\u001B[38;5;241m=\u001B[39m\u001B[38;5;28;01mTrue\u001B[39;00m, extract_range\u001B[38;5;241m=\u001B[39m\u001B[38;5;28;01mTrue\u001B[39;00m)\n\u001B[1;32m-> 1291\u001B[0m rvalues \u001B[38;5;241m=\u001B[39m \u001B[43mops\u001B[49m\u001B[38;5;241;43m.\u001B[39;49m\u001B[43mmaybe_prepare_scalar_for_op\u001B[49m\u001B[43m(\u001B[49m\u001B[43mrvalues\u001B[49m\u001B[43m,\u001B[49m\u001B[43m \u001B[49m\u001B[43mlvalues\u001B[49m\u001B[38;5;241;43m.\u001B[39;49m\u001B[43mshape\u001B[49m\u001B[43m)\u001B[49m\n\u001B[0;32m   1292\u001B[0m rvalues \u001B[38;5;241m=\u001B[39m ensure_wrapped_if_datetimelike(rvalues)\n\u001B[0;32m   1294\u001B[0m \u001B[38;5;28;01mwith\u001B[39;00m np\u001B[38;5;241m.\u001B[39merrstate(\u001B[38;5;28mall\u001B[39m\u001B[38;5;241m=\u001B[39m\u001B[38;5;124m\"\u001B[39m\u001B[38;5;124mignore\u001B[39m\u001B[38;5;124m\"\u001B[39m):\n",
      "File \u001B[1;32m~\\miniconda3\\envs\\ox\\lib\\site-packages\\pandas\\core\\ops\\array_ops.py:468\u001B[0m, in \u001B[0;36mmaybe_prepare_scalar_for_op\u001B[1;34m(obj, shape)\u001B[0m\n\u001B[0;32m    465\u001B[0m \u001B[38;5;28;01melif\u001B[39;00m \u001B[38;5;28mtype\u001B[39m(obj) \u001B[38;5;129;01mis\u001B[39;00m datetime\u001B[38;5;241m.\u001B[39mdatetime:\n\u001B[0;32m    466\u001B[0m     \u001B[38;5;66;03m# cast up to Timestamp to rely on Timestamp implementation, see Timedelta above\u001B[39;00m\n\u001B[0;32m    467\u001B[0m     \u001B[38;5;28;01mreturn\u001B[39;00m Timestamp(obj)\n\u001B[1;32m--> 468\u001B[0m \u001B[38;5;28;01melif\u001B[39;00m \u001B[38;5;28misinstance\u001B[39m(obj, np\u001B[38;5;241m.\u001B[39mdatetime64):\n\u001B[0;32m    469\u001B[0m     \u001B[38;5;66;03m# GH#28080 numpy casts integer-dtype to datetime64 when doing\u001B[39;00m\n\u001B[0;32m    470\u001B[0m     \u001B[38;5;66;03m#  array[int] + datetime64, which we do not allow\u001B[39;00m\n\u001B[0;32m    471\u001B[0m     \u001B[38;5;28;01mif\u001B[39;00m isna(obj):\n\u001B[0;32m    472\u001B[0m         \u001B[38;5;28;01mfrom\u001B[39;00m \u001B[38;5;21;01mpandas\u001B[39;00m\u001B[38;5;21;01m.\u001B[39;00m\u001B[38;5;21;01mcore\u001B[39;00m\u001B[38;5;21;01m.\u001B[39;00m\u001B[38;5;21;01marrays\u001B[39;00m \u001B[38;5;28;01mimport\u001B[39;00m DatetimeArray\n",
      "\u001B[1;31mKeyboardInterrupt\u001B[0m: "
     ]
    }
   ],
   "source": [
    "%%time\n",
    "total_flow, fraction_captured_total, serviceable_fraction, served_fraction, optimal_facilities, \\\n",
    "    non_zero_flows, routes_supported, paths, G, df_abm, df_random_out, max_flow = flow_refueling_location_model(1, seeds[0], 150000, 15000, 175, 100, 600, 2, 24, False, False, False, True)"
   ],
   "metadata": {
    "collapsed": false,
    "pycharm": {
     "name": "#%%\n"
    }
   }
  },
  {
   "cell_type": "code",
   "execution_count": 8,
   "outputs": [
    {
     "ename": "NameError",
     "evalue": "name 'serviceable_fraction' is not defined",
     "output_type": "error",
     "traceback": [
      "\u001B[1;31m---------------------------------------------------------------------------\u001B[0m",
      "\u001B[1;31mNameError\u001B[0m                                 Traceback (most recent call last)",
      "Input \u001B[1;32mIn [8]\u001B[0m, in \u001B[0;36m<cell line: 1>\u001B[1;34m()\u001B[0m\n\u001B[1;32m----> 1\u001B[0m \u001B[43mserviceable_fraction\u001B[49m\n",
      "\u001B[1;31mNameError\u001B[0m: name 'serviceable_fraction' is not defined"
     ]
    }
   ],
   "source": [
    "serviceable_fraction"
   ],
   "metadata": {
    "collapsed": false,
    "pycharm": {
     "name": "#%%\n"
    }
   }
  },
  {
   "cell_type": "code",
   "execution_count": null,
   "outputs": [],
   "source": [
    "non_zero_flows"
   ],
   "metadata": {
    "collapsed": false,
    "pycharm": {
     "name": "#%%\n"
    }
   }
  },
  {
   "cell_type": "code",
   "execution_count": null,
   "outputs": [],
   "source": [
    "df_h = pickle.load(open(\"data/revised_cleaning_results/harbour_data_100.p\", \"rb\"))\n",
    "facilities = [i for i in optimal_facilities.keys() if optimal_facilities[i] > 0]\n",
    "\n",
    "extra_nodes_used = list(set(facilities)-set(list(df_h.harbour_node)))"
   ],
   "metadata": {
    "collapsed": false,
    "pycharm": {
     "name": "#%%\n"
    }
   }
  },
  {
   "cell_type": "code",
   "execution_count": null,
   "outputs": [],
   "source": [
    "print(total_flow, fraction_captured_total, serviceable_fraction, served_fraction, routes_supported)"
   ],
   "metadata": {
    "collapsed": false,
    "pycharm": {
     "name": "#%%\n"
    }
   }
  },
  {
   "cell_type": "markdown",
   "source": [
    "# Complete batch run first before continuing\n",
    "Run file batchrun.py in ABM/ownwork"
   ],
   "metadata": {
    "collapsed": false,
    "pycharm": {
     "name": "#%% md\n"
    }
   }
  },
  {
   "cell_type": "markdown",
   "source": [
    "## Rerun using feedback from ABM"
   ],
   "metadata": {
    "collapsed": false,
    "pycharm": {
     "name": "#%% md\n"
    }
   }
  },
  {
   "cell_type": "code",
   "execution_count": null,
   "outputs": [],
   "source": [],
   "metadata": {
    "collapsed": false,
    "pycharm": {
     "name": "#%%\n"
    }
   }
  },
  {
   "cell_type": "code",
   "execution_count": null,
   "outputs": [],
   "source": [
    "vessel_data_abm = get_vessel_data_batch()"
   ],
   "metadata": {
    "collapsed": false,
    "pycharm": {
     "name": "#%%\n"
    }
   }
  },
  {
   "cell_type": "code",
   "execution_count": null,
   "outputs": [],
   "source": [
    "station_data_abm = get_cs_data_batch()"
   ],
   "metadata": {
    "collapsed": false,
    "pycharm": {
     "name": "#%%\n"
    }
   }
  },
  {
   "cell_type": "code",
   "execution_count": null,
   "outputs": [],
   "source": [
    "station_data_abm"
   ],
   "metadata": {
    "collapsed": false,
    "pycharm": {
     "name": "#%%\n"
    }
   }
  },
  {
   "cell_type": "code",
   "execution_count": null,
   "outputs": [],
   "source": [
    "top5_least_used = list(station_data_abm.sort_values(by='occupation').head(5).index)"
   ],
   "metadata": {
    "collapsed": false,
    "pycharm": {
     "name": "#%%\n"
    }
   }
  },
  {
   "cell_type": "code",
   "execution_count": null,
   "outputs": [],
   "source": [
    "top5_least_used"
   ],
   "metadata": {
    "collapsed": false,
    "pycharm": {
     "name": "#%%\n"
    }
   }
  },
  {
   "cell_type": "code",
   "execution_count": null,
   "outputs": [],
   "source": [
    "%%time\n",
    "total_flow, fraction_captured_total, serveable_fraction, served_fraction, optimal_facilities, \\\n",
    "non_zero_flows, routes_supported, paths, G, df_abm, df_random_out = flow_refueling_location_model(load, 70000, 40, 1000, 2, df_random, False, False, True, top5_least_used)"
   ],
   "metadata": {
    "collapsed": false,
    "pycharm": {
     "name": "#%%\n"
    }
   }
  },
  {
   "cell_type": "code",
   "execution_count": null,
   "outputs": [],
   "source": [
    "facilities = [i for i in optimal_facilities.keys() if optimal_facilities[i] > 0]\n",
    "extra_nodes_used = list(set(facilities) - set(list(df_h.harbour_node)))\n",
    "extra_nodes_used"
   ],
   "metadata": {
    "collapsed": false,
    "pycharm": {
     "name": "#%%\n"
    }
   }
  },
  {
   "cell_type": "code",
   "execution_count": null,
   "outputs": [],
   "source": [
    "\n",
    "print(total_flow, fraction_captured_total, serveable_fraction, served_fraction, routes_supported)"
   ],
   "metadata": {
    "collapsed": false,
    "pycharm": {
     "name": "#%%\n"
    }
   }
  },
  {
   "cell_type": "markdown",
   "source": [
    "## Now simulate again"
   ],
   "metadata": {
    "collapsed": false,
    "pycharm": {
     "name": "#%% md\n"
    }
   }
  },
  {
   "cell_type": "code",
   "execution_count": null,
   "outputs": [],
   "source": [],
   "metadata": {
    "collapsed": false,
    "pycharm": {
     "name": "#%%\n"
    }
   }
  },
  {
   "cell_type": "code",
   "execution_count": null,
   "outputs": [],
   "source": [],
   "metadata": {
    "collapsed": false,
    "pycharm": {
     "name": "#%%\n"
    }
   }
  },
  {
   "cell_type": "markdown",
   "source": [
    "## Stepwise run of all components of frlm"
   ],
   "metadata": {
    "collapsed": false,
    "pycharm": {
     "name": "#%% md\n"
    }
   }
  },
  {
   "cell_type": "markdown",
   "metadata": {
    "pycharm": {
     "name": "#%% md\n"
    }
   },
   "source": [
    "### Load necessary data"
   ]
  },
  {
   "cell_type": "code",
   "execution_count": 3,
   "metadata": {
    "collapsed": false,
    "jupyter": {
     "outputs_hidden": false
    },
    "pycharm": {
     "name": "#%%\n"
    }
   },
   "outputs": [],
   "source": [
    "df_h = pickle.load(open(\"data/revised_cleaning_results/harbour_data_100.p\", \"rb\"))\n",
    "df_ivs = pickle.load(open(\"data/revised_cleaning_results/ivs_exploded_100.p\", \"rb\"))\n",
    "path_lengths = pickle.load(open(\"data/revised_cleaning_results/path_lengths_ship_specific_routes.p\", \"rb\"))"
   ]
  },
  {
   "cell_type": "code",
   "execution_count": 4,
   "outputs": [
    {
     "data": {
      "text/plain": "     origin destination  trip_count  hour  M12   M8  BII-6b  M10  BIIa-1  M9  \\\n1     NLRTM       NLAMS         171     0    0  109       0    0       2  45   \n2     NLRTM       NLAMS         152     0   91    0       0   18       0   0   \n4     NLRTM       NLAMS         178     1    0  110       0    0       3  55   \n5     NLRTM       NLAMS         124     1   78    0       0   17       0   0   \n7     NLRTM       NLAMS         179     2    0  122       0    0       3  46   \n...     ...         ...         ...   ...  ...  ...     ...  ...     ...  ..   \n7746  NLVLI       NLVLA           1    21    0    0       0    0       0   0   \n7747  NLVLI       NLVLA           3    21    0    0       0    1       0   1   \n7749  NLVLI       NLVLA           5    22    0    5       0    0       0   0   \n7750  NLVLI       NLVLA           1    23    0    0       0    0       0   0   \n7751  NLVLI       NLVLA           6    23    0    5       0    1       0   0   \n\n      ...  C4  B04  C2l  BII-2L  B02  C1b  C2b  B01  C1l  route_v  \n1     ...   0    0    0       0    0    0    0    0    0        1  \n2     ...   0    0    0       1    0    0    0    0    0        2  \n4     ...   0    0    0       0    0    0    0    0    0        1  \n5     ...   0    0    0       0    0    0    0    0    0        2  \n7     ...   0    0    0       0    0    0    0    0    0        1  \n...   ...  ..  ...  ...     ...  ...  ...  ...  ...  ...      ...  \n7746  ...   0    0    0       0    0    0    0    0    0        0  \n7747  ...   0    0    0       0    0    0    0    0    0        1  \n7749  ...   0    0    0       0    0    0    0    0    0        1  \n7750  ...   0    0    0       0    0    0    0    0    0        0  \n7751  ...   0    0    0       0    0    0    0    0    0        1  \n\n[5448 rows x 37 columns]",
      "text/html": "<div>\n<style scoped>\n    .dataframe tbody tr th:only-of-type {\n        vertical-align: middle;\n    }\n\n    .dataframe tbody tr th {\n        vertical-align: top;\n    }\n\n    .dataframe thead th {\n        text-align: right;\n    }\n</style>\n<table border=\"1\" class=\"dataframe\">\n  <thead>\n    <tr style=\"text-align: right;\">\n      <th></th>\n      <th>origin</th>\n      <th>destination</th>\n      <th>trip_count</th>\n      <th>hour</th>\n      <th>M12</th>\n      <th>M8</th>\n      <th>BII-6b</th>\n      <th>M10</th>\n      <th>BIIa-1</th>\n      <th>M9</th>\n      <th>...</th>\n      <th>C4</th>\n      <th>B04</th>\n      <th>C2l</th>\n      <th>BII-2L</th>\n      <th>B02</th>\n      <th>C1b</th>\n      <th>C2b</th>\n      <th>B01</th>\n      <th>C1l</th>\n      <th>route_v</th>\n    </tr>\n  </thead>\n  <tbody>\n    <tr>\n      <th>1</th>\n      <td>NLRTM</td>\n      <td>NLAMS</td>\n      <td>171</td>\n      <td>0</td>\n      <td>0</td>\n      <td>109</td>\n      <td>0</td>\n      <td>0</td>\n      <td>2</td>\n      <td>45</td>\n      <td>...</td>\n      <td>0</td>\n      <td>0</td>\n      <td>0</td>\n      <td>0</td>\n      <td>0</td>\n      <td>0</td>\n      <td>0</td>\n      <td>0</td>\n      <td>0</td>\n      <td>1</td>\n    </tr>\n    <tr>\n      <th>2</th>\n      <td>NLRTM</td>\n      <td>NLAMS</td>\n      <td>152</td>\n      <td>0</td>\n      <td>91</td>\n      <td>0</td>\n      <td>0</td>\n      <td>18</td>\n      <td>0</td>\n      <td>0</td>\n      <td>...</td>\n      <td>0</td>\n      <td>0</td>\n      <td>0</td>\n      <td>1</td>\n      <td>0</td>\n      <td>0</td>\n      <td>0</td>\n      <td>0</td>\n      <td>0</td>\n      <td>2</td>\n    </tr>\n    <tr>\n      <th>4</th>\n      <td>NLRTM</td>\n      <td>NLAMS</td>\n      <td>178</td>\n      <td>1</td>\n      <td>0</td>\n      <td>110</td>\n      <td>0</td>\n      <td>0</td>\n      <td>3</td>\n      <td>55</td>\n      <td>...</td>\n      <td>0</td>\n      <td>0</td>\n      <td>0</td>\n      <td>0</td>\n      <td>0</td>\n      <td>0</td>\n      <td>0</td>\n      <td>0</td>\n      <td>0</td>\n      <td>1</td>\n    </tr>\n    <tr>\n      <th>5</th>\n      <td>NLRTM</td>\n      <td>NLAMS</td>\n      <td>124</td>\n      <td>1</td>\n      <td>78</td>\n      <td>0</td>\n      <td>0</td>\n      <td>17</td>\n      <td>0</td>\n      <td>0</td>\n      <td>...</td>\n      <td>0</td>\n      <td>0</td>\n      <td>0</td>\n      <td>0</td>\n      <td>0</td>\n      <td>0</td>\n      <td>0</td>\n      <td>0</td>\n      <td>0</td>\n      <td>2</td>\n    </tr>\n    <tr>\n      <th>7</th>\n      <td>NLRTM</td>\n      <td>NLAMS</td>\n      <td>179</td>\n      <td>2</td>\n      <td>0</td>\n      <td>122</td>\n      <td>0</td>\n      <td>0</td>\n      <td>3</td>\n      <td>46</td>\n      <td>...</td>\n      <td>0</td>\n      <td>0</td>\n      <td>0</td>\n      <td>0</td>\n      <td>0</td>\n      <td>0</td>\n      <td>0</td>\n      <td>0</td>\n      <td>0</td>\n      <td>1</td>\n    </tr>\n    <tr>\n      <th>...</th>\n      <td>...</td>\n      <td>...</td>\n      <td>...</td>\n      <td>...</td>\n      <td>...</td>\n      <td>...</td>\n      <td>...</td>\n      <td>...</td>\n      <td>...</td>\n      <td>...</td>\n      <td>...</td>\n      <td>...</td>\n      <td>...</td>\n      <td>...</td>\n      <td>...</td>\n      <td>...</td>\n      <td>...</td>\n      <td>...</td>\n      <td>...</td>\n      <td>...</td>\n      <td>...</td>\n    </tr>\n    <tr>\n      <th>7746</th>\n      <td>NLVLI</td>\n      <td>NLVLA</td>\n      <td>1</td>\n      <td>21</td>\n      <td>0</td>\n      <td>0</td>\n      <td>0</td>\n      <td>0</td>\n      <td>0</td>\n      <td>0</td>\n      <td>...</td>\n      <td>0</td>\n      <td>0</td>\n      <td>0</td>\n      <td>0</td>\n      <td>0</td>\n      <td>0</td>\n      <td>0</td>\n      <td>0</td>\n      <td>0</td>\n      <td>0</td>\n    </tr>\n    <tr>\n      <th>7747</th>\n      <td>NLVLI</td>\n      <td>NLVLA</td>\n      <td>3</td>\n      <td>21</td>\n      <td>0</td>\n      <td>0</td>\n      <td>0</td>\n      <td>1</td>\n      <td>0</td>\n      <td>1</td>\n      <td>...</td>\n      <td>0</td>\n      <td>0</td>\n      <td>0</td>\n      <td>0</td>\n      <td>0</td>\n      <td>0</td>\n      <td>0</td>\n      <td>0</td>\n      <td>0</td>\n      <td>1</td>\n    </tr>\n    <tr>\n      <th>7749</th>\n      <td>NLVLI</td>\n      <td>NLVLA</td>\n      <td>5</td>\n      <td>22</td>\n      <td>0</td>\n      <td>5</td>\n      <td>0</td>\n      <td>0</td>\n      <td>0</td>\n      <td>0</td>\n      <td>...</td>\n      <td>0</td>\n      <td>0</td>\n      <td>0</td>\n      <td>0</td>\n      <td>0</td>\n      <td>0</td>\n      <td>0</td>\n      <td>0</td>\n      <td>0</td>\n      <td>1</td>\n    </tr>\n    <tr>\n      <th>7750</th>\n      <td>NLVLI</td>\n      <td>NLVLA</td>\n      <td>1</td>\n      <td>23</td>\n      <td>0</td>\n      <td>0</td>\n      <td>0</td>\n      <td>0</td>\n      <td>0</td>\n      <td>0</td>\n      <td>...</td>\n      <td>0</td>\n      <td>0</td>\n      <td>0</td>\n      <td>0</td>\n      <td>0</td>\n      <td>0</td>\n      <td>0</td>\n      <td>0</td>\n      <td>0</td>\n      <td>0</td>\n    </tr>\n    <tr>\n      <th>7751</th>\n      <td>NLVLI</td>\n      <td>NLVLA</td>\n      <td>6</td>\n      <td>23</td>\n      <td>0</td>\n      <td>5</td>\n      <td>0</td>\n      <td>1</td>\n      <td>0</td>\n      <td>0</td>\n      <td>...</td>\n      <td>0</td>\n      <td>0</td>\n      <td>0</td>\n      <td>0</td>\n      <td>0</td>\n      <td>0</td>\n      <td>0</td>\n      <td>0</td>\n      <td>0</td>\n      <td>1</td>\n    </tr>\n  </tbody>\n</table>\n<p>5448 rows × 37 columns</p>\n</div>"
     },
     "execution_count": 4,
     "metadata": {},
     "output_type": "execute_result"
    }
   ],
   "source": [
    "df_ivs"
   ],
   "metadata": {
    "collapsed": false,
    "pycharm": {
     "name": "#%%\n"
    }
   }
  },
  {
   "cell_type": "markdown",
   "metadata": {
    "pycharm": {
     "name": "#%% md\n"
    }
   },
   "source": [
    "## Generate random df"
   ]
  },
  {
   "cell_type": "code",
   "execution_count": 5,
   "metadata": {
    "collapsed": false,
    "jupyter": {
     "outputs_hidden": false
    },
    "pycharm": {
     "name": "#%%\n"
    }
   },
   "outputs": [
    {
     "name": "stdout",
     "output_type": "stream",
     "text": [
      "CPU times: total: 1.48 s\n",
      "Wall time: 1.56 s\n"
     ]
    }
   ],
   "source": [
    "%%time\n",
    "df_chance = df_ivs.copy()\n",
    "df_random1 = random_vessel_generator(df_chance, 1)"
   ]
  },
  {
   "cell_type": "code",
   "execution_count": 6,
   "outputs": [
    {
     "data": {
      "text/plain": "     origin destination  trip_count  hour  M12   M8  BII-6b  M10  BIIa-1  M9  \\\n0     NLRTM       NLAMS         171     0    0  100       0    0       2  44   \n1     NLRTM       NLAMS         158     0   84    0       0   22       0   0   \n2     NLRTM       NLMOE          58     0    0   44       0    0       0  10   \n3     NLRTM       NLMOE          35     0    0    0       0    1       0   0   \n4     NLRTM       NLVLI          70     0    6   27       0    7       0  18   \n...     ...         ...         ...   ...  ...  ...     ...  ...     ...  ..   \n5117  NLRTM       NLLID           1    23    0    0       0    0       0   0   \n5118  NLWKD       NLAMS           2    23    0    1       0    0       0   0   \n5119  NLAMS       NLRAS           2    23    0    0       0    0       0   0   \n5120  NLVLI       NLVLA           2    23    0    0       0    0       0   0   \n5121  NLVLI       NLVLA           7    23    0    6       0    1       0   0   \n\n      ...  C4  B04  C2l  BII-2L  B02  C1b  C2b  B01  C1l  route_v  \n0     ...   0    0    0       0    0    0    0    0    0        1  \n1     ...   0    0    0       1    0    0    0    0    0        2  \n2     ...   0    0    0       0    0    0    0    0    0        0  \n3     ...   0    0    0       0    0    0    0    0    0        1  \n4     ...   0    0    0       0    0    0    0    0    0        0  \n...   ...  ..  ...  ...     ...  ...  ...  ...  ...  ...      ...  \n5117  ...   0    0    0       0    0    0    0    0    0        0  \n5118  ...   0    0    0       0    0    0    0    0    0        1  \n5119  ...   0    0    0       0    0    0    0    0    0        0  \n5120  ...   0    0    0       0    0    0    0    0    0        0  \n5121  ...   0    0    0       0    0    0    0    0    0        1  \n\n[5122 rows x 37 columns]",
      "text/html": "<div>\n<style scoped>\n    .dataframe tbody tr th:only-of-type {\n        vertical-align: middle;\n    }\n\n    .dataframe tbody tr th {\n        vertical-align: top;\n    }\n\n    .dataframe thead th {\n        text-align: right;\n    }\n</style>\n<table border=\"1\" class=\"dataframe\">\n  <thead>\n    <tr style=\"text-align: right;\">\n      <th></th>\n      <th>origin</th>\n      <th>destination</th>\n      <th>trip_count</th>\n      <th>hour</th>\n      <th>M12</th>\n      <th>M8</th>\n      <th>BII-6b</th>\n      <th>M10</th>\n      <th>BIIa-1</th>\n      <th>M9</th>\n      <th>...</th>\n      <th>C4</th>\n      <th>B04</th>\n      <th>C2l</th>\n      <th>BII-2L</th>\n      <th>B02</th>\n      <th>C1b</th>\n      <th>C2b</th>\n      <th>B01</th>\n      <th>C1l</th>\n      <th>route_v</th>\n    </tr>\n  </thead>\n  <tbody>\n    <tr>\n      <th>0</th>\n      <td>NLRTM</td>\n      <td>NLAMS</td>\n      <td>171</td>\n      <td>0</td>\n      <td>0</td>\n      <td>100</td>\n      <td>0</td>\n      <td>0</td>\n      <td>2</td>\n      <td>44</td>\n      <td>...</td>\n      <td>0</td>\n      <td>0</td>\n      <td>0</td>\n      <td>0</td>\n      <td>0</td>\n      <td>0</td>\n      <td>0</td>\n      <td>0</td>\n      <td>0</td>\n      <td>1</td>\n    </tr>\n    <tr>\n      <th>1</th>\n      <td>NLRTM</td>\n      <td>NLAMS</td>\n      <td>158</td>\n      <td>0</td>\n      <td>84</td>\n      <td>0</td>\n      <td>0</td>\n      <td>22</td>\n      <td>0</td>\n      <td>0</td>\n      <td>...</td>\n      <td>0</td>\n      <td>0</td>\n      <td>0</td>\n      <td>1</td>\n      <td>0</td>\n      <td>0</td>\n      <td>0</td>\n      <td>0</td>\n      <td>0</td>\n      <td>2</td>\n    </tr>\n    <tr>\n      <th>2</th>\n      <td>NLRTM</td>\n      <td>NLMOE</td>\n      <td>58</td>\n      <td>0</td>\n      <td>0</td>\n      <td>44</td>\n      <td>0</td>\n      <td>0</td>\n      <td>0</td>\n      <td>10</td>\n      <td>...</td>\n      <td>0</td>\n      <td>0</td>\n      <td>0</td>\n      <td>0</td>\n      <td>0</td>\n      <td>0</td>\n      <td>0</td>\n      <td>0</td>\n      <td>0</td>\n      <td>0</td>\n    </tr>\n    <tr>\n      <th>3</th>\n      <td>NLRTM</td>\n      <td>NLMOE</td>\n      <td>35</td>\n      <td>0</td>\n      <td>0</td>\n      <td>0</td>\n      <td>0</td>\n      <td>1</td>\n      <td>0</td>\n      <td>0</td>\n      <td>...</td>\n      <td>0</td>\n      <td>0</td>\n      <td>0</td>\n      <td>0</td>\n      <td>0</td>\n      <td>0</td>\n      <td>0</td>\n      <td>0</td>\n      <td>0</td>\n      <td>1</td>\n    </tr>\n    <tr>\n      <th>4</th>\n      <td>NLRTM</td>\n      <td>NLVLI</td>\n      <td>70</td>\n      <td>0</td>\n      <td>6</td>\n      <td>27</td>\n      <td>0</td>\n      <td>7</td>\n      <td>0</td>\n      <td>18</td>\n      <td>...</td>\n      <td>0</td>\n      <td>0</td>\n      <td>0</td>\n      <td>0</td>\n      <td>0</td>\n      <td>0</td>\n      <td>0</td>\n      <td>0</td>\n      <td>0</td>\n      <td>0</td>\n    </tr>\n    <tr>\n      <th>...</th>\n      <td>...</td>\n      <td>...</td>\n      <td>...</td>\n      <td>...</td>\n      <td>...</td>\n      <td>...</td>\n      <td>...</td>\n      <td>...</td>\n      <td>...</td>\n      <td>...</td>\n      <td>...</td>\n      <td>...</td>\n      <td>...</td>\n      <td>...</td>\n      <td>...</td>\n      <td>...</td>\n      <td>...</td>\n      <td>...</td>\n      <td>...</td>\n      <td>...</td>\n      <td>...</td>\n    </tr>\n    <tr>\n      <th>5117</th>\n      <td>NLRTM</td>\n      <td>NLLID</td>\n      <td>1</td>\n      <td>23</td>\n      <td>0</td>\n      <td>0</td>\n      <td>0</td>\n      <td>0</td>\n      <td>0</td>\n      <td>0</td>\n      <td>...</td>\n      <td>0</td>\n      <td>0</td>\n      <td>0</td>\n      <td>0</td>\n      <td>0</td>\n      <td>0</td>\n      <td>0</td>\n      <td>0</td>\n      <td>0</td>\n      <td>0</td>\n    </tr>\n    <tr>\n      <th>5118</th>\n      <td>NLWKD</td>\n      <td>NLAMS</td>\n      <td>2</td>\n      <td>23</td>\n      <td>0</td>\n      <td>1</td>\n      <td>0</td>\n      <td>0</td>\n      <td>0</td>\n      <td>0</td>\n      <td>...</td>\n      <td>0</td>\n      <td>0</td>\n      <td>0</td>\n      <td>0</td>\n      <td>0</td>\n      <td>0</td>\n      <td>0</td>\n      <td>0</td>\n      <td>0</td>\n      <td>1</td>\n    </tr>\n    <tr>\n      <th>5119</th>\n      <td>NLAMS</td>\n      <td>NLRAS</td>\n      <td>2</td>\n      <td>23</td>\n      <td>0</td>\n      <td>0</td>\n      <td>0</td>\n      <td>0</td>\n      <td>0</td>\n      <td>0</td>\n      <td>...</td>\n      <td>0</td>\n      <td>0</td>\n      <td>0</td>\n      <td>0</td>\n      <td>0</td>\n      <td>0</td>\n      <td>0</td>\n      <td>0</td>\n      <td>0</td>\n      <td>0</td>\n    </tr>\n    <tr>\n      <th>5120</th>\n      <td>NLVLI</td>\n      <td>NLVLA</td>\n      <td>2</td>\n      <td>23</td>\n      <td>0</td>\n      <td>0</td>\n      <td>0</td>\n      <td>0</td>\n      <td>0</td>\n      <td>0</td>\n      <td>...</td>\n      <td>0</td>\n      <td>0</td>\n      <td>0</td>\n      <td>0</td>\n      <td>0</td>\n      <td>0</td>\n      <td>0</td>\n      <td>0</td>\n      <td>0</td>\n      <td>0</td>\n    </tr>\n    <tr>\n      <th>5121</th>\n      <td>NLVLI</td>\n      <td>NLVLA</td>\n      <td>7</td>\n      <td>23</td>\n      <td>0</td>\n      <td>6</td>\n      <td>0</td>\n      <td>1</td>\n      <td>0</td>\n      <td>0</td>\n      <td>...</td>\n      <td>0</td>\n      <td>0</td>\n      <td>0</td>\n      <td>0</td>\n      <td>0</td>\n      <td>0</td>\n      <td>0</td>\n      <td>0</td>\n      <td>0</td>\n      <td>1</td>\n    </tr>\n  </tbody>\n</table>\n<p>5122 rows × 37 columns</p>\n</div>"
     },
     "execution_count": 6,
     "metadata": {},
     "output_type": "execute_result"
    }
   ],
   "source": [
    "df_random1"
   ],
   "metadata": {
    "collapsed": false,
    "pycharm": {
     "name": "#%%\n"
    }
   }
  },
  {
   "cell_type": "markdown",
   "metadata": {
    "pycharm": {
     "name": "#%% md\n"
    }
   },
   "source": [
    "\n",
    "## Compute path flows"
   ]
  },
  {
   "cell_type": "code",
   "execution_count": 9,
   "metadata": {
    "collapsed": false,
    "jupyter": {
     "outputs_hidden": false
    },
    "pycharm": {
     "name": "#%%\n"
    }
   },
   "outputs": [
    {
     "name": "stdout",
     "output_type": "stream",
     "text": [
      "CPU times: total: 156 ms\n",
      "Wall time: 159 ms\n"
     ]
    }
   ],
   "source": [
    "%%time\n",
    "flows = flow_computation(df_random1, 60000)"
   ]
  },
  {
   "cell_type": "code",
   "execution_count": 10,
   "outputs": [
    {
     "data": {
      "text/plain": "1258.4111770665215"
     },
     "execution_count": 10,
     "metadata": {},
     "output_type": "execute_result"
    }
   ],
   "source": [
    "sum(flows.values())"
   ],
   "metadata": {
    "collapsed": false,
    "pycharm": {
     "name": "#%%\n"
    }
   }
  },
  {
   "cell_type": "markdown",
   "metadata": {
    "pycharm": {
     "name": "#%% md\n"
    }
   },
   "source": [
    "## Generate network"
   ]
  },
  {
   "cell_type": "code",
   "execution_count": 11,
   "outputs": [
    {
     "name": "stdout",
     "output_type": "stream",
     "text": [
      "CPU times: total: 0 ns\n",
      "Wall time: 0 ns\n"
     ]
    }
   ],
   "source": [
    "%%time\n",
    "G = pickle.load(open('data/network_cleaned_final.p', 'rb'))\n",
    "paths = pickle.load(open(\"data/final_paths.p\", \"rb\"))\n",
    "# G, paths, inserted_nodes = generate_network(G, paths, 60000)"
   ],
   "metadata": {
    "collapsed": false,
    "pycharm": {
     "name": "#%%\n"
    }
   }
  },
  {
   "cell_type": "code",
   "execution_count": 12,
   "outputs": [
    {
     "ename": "NameError",
     "evalue": "name 'inserted_nodes' is not defined",
     "output_type": "error",
     "traceback": [
      "\u001B[1;31m---------------------------------------------------------------------------\u001B[0m",
      "\u001B[1;31mNameError\u001B[0m                                 Traceback (most recent call last)",
      "Input \u001B[1;32mIn [12]\u001B[0m, in \u001B[0;36m<cell line: 1>\u001B[1;34m()\u001B[0m\n\u001B[1;32m----> 1\u001B[0m inserted_nodes \u001B[38;5;241m+\u001B[39m\u001B[38;5;241m=\u001B[39m determine_additional_nodes(G, df_h, \u001B[38;5;241m60000\u001B[39m)\n",
      "\u001B[1;31mNameError\u001B[0m: name 'inserted_nodes' is not defined"
     ]
    }
   ],
   "source": [
    "inserted_nodes += determine_additional_nodes(G, df_h, 60000)"
   ],
   "metadata": {
    "collapsed": false,
    "pycharm": {
     "name": "#%%\n"
    }
   }
  },
  {
   "cell_type": "code",
   "execution_count": 13,
   "outputs": [],
   "source": [
    "# now inserts 1000 nodes, goes quite wrong..."
   ],
   "metadata": {
    "collapsed": false,
    "pycharm": {
     "name": "#%%\n"
    }
   }
  },
  {
   "cell_type": "code",
   "execution_count": 14,
   "outputs": [
    {
     "ename": "NameError",
     "evalue": "name 'inserted_nodes' is not defined",
     "output_type": "error",
     "traceback": [
      "\u001B[1;31m---------------------------------------------------------------------------\u001B[0m",
      "\u001B[1;31mNameError\u001B[0m                                 Traceback (most recent call last)",
      "Input \u001B[1;32mIn [14]\u001B[0m, in \u001B[0;36m<cell line: 1>\u001B[1;34m()\u001B[0m\n\u001B[1;32m----> 1\u001B[0m \u001B[43minserted_nodes\u001B[49m\n",
      "\u001B[1;31mNameError\u001B[0m: name 'inserted_nodes' is not defined"
     ]
    }
   ],
   "source": [
    "inserted_nodes"
   ],
   "metadata": {
    "collapsed": false,
    "pycharm": {
     "name": "#%%\n"
    }
   }
  },
  {
   "cell_type": "code",
   "execution_count": 15,
   "outputs": [
    {
     "name": "stdout",
     "output_type": "stream",
     "text": [
      "CPU times: total: 266 ms\n",
      "Wall time: 281 ms\n"
     ]
    }
   ],
   "source": [
    "%%time\n",
    "# range r in meters\n",
    "df_b, df_g, df_eq_fq, feasible_combinations = first_stage_frlm(70000, G, OD=flows, paths=paths, path_lengths=path_lengths, df_h=df_h)"
   ],
   "metadata": {
    "collapsed": false,
    "pycharm": {
     "name": "#%%\n"
    }
   }
  },
  {
   "cell_type": "code",
   "execution_count": 18,
   "outputs": [
    {
     "data": {
      "text/plain": "16466.656233704023"
     },
     "execution_count": 18,
     "metadata": {},
     "output_type": "execute_result"
    }
   ],
   "source": [
    "path_lengths[('NLABL', 'NLRTM', 0)]"
   ],
   "metadata": {
    "collapsed": false,
    "pycharm": {
     "name": "#%%\n"
    }
   }
  },
  {
   "cell_type": "code",
   "execution_count": 17,
   "outputs": [
    {
     "data": {
      "text/plain": "                                               8866686  8861625  8866512  \\\nq                 h                                                        \n(NLABL, NLRTM, 0) (8866686,)                         1        0        0   \n                  (8863306,)                         0        0        0   \n(NLAER, NLLEY, 0) (8864005, 8863709)                 0        0        0   \n(NLAER, NLSWI, 0) (8864005, 8867258)                 0        0        0   \n(NLALK, NLIJM, 0) (8861625, 8862497)                 0        1        0   \n...                                                ...      ...      ...   \n(NLWSM, NLBON, 0) (8863599,)                         0        0        0   \n                  (8868208,)                         0        0        0   \n(NLWSP, NLAER, 0) (8864020, 8864005)                 0        0        0   \n(NLZAA, NLRTM, 0) (8866429, 8867538, 8863360)        0        0        0   \n                  (8863306, 8866429, 8863360)        0        0        0   \n\n                                               8864005  8863360  8866429  \\\nq                 h                                                        \n(NLABL, NLRTM, 0) (8866686,)                         0        0        0   \n                  (8863306,)                         0        0        0   \n(NLAER, NLLEY, 0) (8864005, 8863709)                 1        0        0   \n(NLAER, NLSWI, 0) (8864005, 8867258)                 1        0        0   \n(NLALK, NLIJM, 0) (8861625, 8862497)                 0        0        0   \n...                                                ...      ...      ...   \n(NLWSM, NLBON, 0) (8863599,)                         0        0        0   \n                  (8868208,)                         0        0        0   \n(NLWSP, NLAER, 0) (8864020, 8864005)                 1        0        0   \n(NLZAA, NLRTM, 0) (8866429, 8867538, 8863360)        0        2        1   \n                  (8863306, 8866429, 8863360)        0        2        1   \n\n                                               8863207  8867083  8868208  \\\nq                 h                                                        \n(NLABL, NLRTM, 0) (8866686,)                         0        0        0   \n                  (8863306,)                         0        0        0   \n(NLAER, NLLEY, 0) (8864005, 8863709)                 0        0        0   \n(NLAER, NLSWI, 0) (8864005, 8867258)                 0        0        0   \n(NLALK, NLIJM, 0) (8861625, 8862497)                 0        0        0   \n...                                                ...      ...      ...   \n(NLWSM, NLBON, 0) (8863599,)                         0        0        0   \n                  (8868208,)                         0        0        1   \n(NLWSP, NLAER, 0) (8864020, 8864005)                 0        0        0   \n(NLZAA, NLRTM, 0) (8866429, 8867538, 8863360)        0        0        0   \n                  (8863306, 8866429, 8863360)        0        0        0   \n\n                                               8863475  ...  22637863  \\\nq                 h                                     ...             \n(NLABL, NLRTM, 0) (8866686,)                         0  ...         0   \n                  (8863306,)                         0  ...         0   \n(NLAER, NLLEY, 0) (8864005, 8863709)                 0  ...         0   \n(NLAER, NLSWI, 0) (8864005, 8867258)                 0  ...         0   \n(NLALK, NLIJM, 0) (8861625, 8862497)                 0  ...         0   \n...                                                ...  ...       ...   \n(NLWSM, NLBON, 0) (8863599,)                         0  ...         0   \n                  (8868208,)                         0  ...         0   \n(NLWSP, NLAER, 0) (8864020, 8864005)                 0  ...         0   \n(NLZAA, NLRTM, 0) (8866429, 8867538, 8863360)        0  ...         0   \n                  (8863306, 8866429, 8863360)        0  ...         0   \n\n                                               8865605  8864111  8866627  \\\nq                 h                                                        \n(NLABL, NLRTM, 0) (8866686,)                         0        0        0   \n                  (8863306,)                         0        0        0   \n(NLAER, NLLEY, 0) (8864005, 8863709)                 0        0        0   \n(NLAER, NLSWI, 0) (8864005, 8867258)                 0        0        0   \n(NLALK, NLIJM, 0) (8861625, 8862497)                 0        0        0   \n...                                                ...      ...      ...   \n(NLWSM, NLBON, 0) (8863599,)                         0        0        0   \n                  (8868208,)                         0        0        0   \n(NLWSP, NLAER, 0) (8864020, 8864005)                 0        0        0   \n(NLZAA, NLRTM, 0) (8866429, 8867538, 8863360)        0        0        0   \n                  (8863306, 8866429, 8863360)        0        0        0   \n\n                                               8862992  8865920  8863966  \\\nq                 h                                                        \n(NLABL, NLRTM, 0) (8866686,)                         0        0        0   \n                  (8863306,)                         0        0        0   \n(NLAER, NLLEY, 0) (8864005, 8863709)                 0        0        0   \n(NLAER, NLSWI, 0) (8864005, 8867258)                 0        0        0   \n(NLALK, NLIJM, 0) (8861625, 8862497)                 0        0        0   \n...                                                ...      ...      ...   \n(NLWSM, NLBON, 0) (8863599,)                         0        0        0   \n                  (8868208,)                         0        0        0   \n(NLWSP, NLAER, 0) (8864020, 8864005)                 0        0        0   \n(NLZAA, NLRTM, 0) (8866429, 8867538, 8863360)        0        0        0   \n                  (8863306, 8866429, 8863360)        0        0        0   \n\n                                               8864260  8866465  8862506  \nq                 h                                                       \n(NLABL, NLRTM, 0) (8866686,)                         0        0        0  \n                  (8863306,)                         0        0        0  \n(NLAER, NLLEY, 0) (8864005, 8863709)                 0        0        0  \n(NLAER, NLSWI, 0) (8864005, 8867258)                 0        0        0  \n(NLALK, NLIJM, 0) (8861625, 8862497)                 0        0        0  \n...                                                ...      ...      ...  \n(NLWSM, NLBON, 0) (8863599,)                         0        0        0  \n                  (8868208,)                         0        0        0  \n(NLWSP, NLAER, 0) (8864020, 8864005)                 0        0        0  \n(NLZAA, NLRTM, 0) (8866429, 8867538, 8863360)        0        0        0  \n                  (8863306, 8866429, 8863360)        0        0        0  \n\n[144 rows x 81 columns]",
      "text/html": "<div>\n<style scoped>\n    .dataframe tbody tr th:only-of-type {\n        vertical-align: middle;\n    }\n\n    .dataframe tbody tr th {\n        vertical-align: top;\n    }\n\n    .dataframe thead th {\n        text-align: right;\n    }\n</style>\n<table border=\"1\" class=\"dataframe\">\n  <thead>\n    <tr style=\"text-align: right;\">\n      <th></th>\n      <th></th>\n      <th>8866686</th>\n      <th>8861625</th>\n      <th>8866512</th>\n      <th>8864005</th>\n      <th>8863360</th>\n      <th>8866429</th>\n      <th>8863207</th>\n      <th>8867083</th>\n      <th>8868208</th>\n      <th>8863475</th>\n      <th>...</th>\n      <th>22637863</th>\n      <th>8865605</th>\n      <th>8864111</th>\n      <th>8866627</th>\n      <th>8862992</th>\n      <th>8865920</th>\n      <th>8863966</th>\n      <th>8864260</th>\n      <th>8866465</th>\n      <th>8862506</th>\n    </tr>\n    <tr>\n      <th>q</th>\n      <th>h</th>\n      <th></th>\n      <th></th>\n      <th></th>\n      <th></th>\n      <th></th>\n      <th></th>\n      <th></th>\n      <th></th>\n      <th></th>\n      <th></th>\n      <th></th>\n      <th></th>\n      <th></th>\n      <th></th>\n      <th></th>\n      <th></th>\n      <th></th>\n      <th></th>\n      <th></th>\n      <th></th>\n      <th></th>\n    </tr>\n  </thead>\n  <tbody>\n    <tr>\n      <th rowspan=\"2\" valign=\"top\">(NLABL, NLRTM, 0)</th>\n      <th>(8866686,)</th>\n      <td>1</td>\n      <td>0</td>\n      <td>0</td>\n      <td>0</td>\n      <td>0</td>\n      <td>0</td>\n      <td>0</td>\n      <td>0</td>\n      <td>0</td>\n      <td>0</td>\n      <td>...</td>\n      <td>0</td>\n      <td>0</td>\n      <td>0</td>\n      <td>0</td>\n      <td>0</td>\n      <td>0</td>\n      <td>0</td>\n      <td>0</td>\n      <td>0</td>\n      <td>0</td>\n    </tr>\n    <tr>\n      <th>(8863306,)</th>\n      <td>0</td>\n      <td>0</td>\n      <td>0</td>\n      <td>0</td>\n      <td>0</td>\n      <td>0</td>\n      <td>0</td>\n      <td>0</td>\n      <td>0</td>\n      <td>0</td>\n      <td>...</td>\n      <td>0</td>\n      <td>0</td>\n      <td>0</td>\n      <td>0</td>\n      <td>0</td>\n      <td>0</td>\n      <td>0</td>\n      <td>0</td>\n      <td>0</td>\n      <td>0</td>\n    </tr>\n    <tr>\n      <th>(NLAER, NLLEY, 0)</th>\n      <th>(8864005, 8863709)</th>\n      <td>0</td>\n      <td>0</td>\n      <td>0</td>\n      <td>1</td>\n      <td>0</td>\n      <td>0</td>\n      <td>0</td>\n      <td>0</td>\n      <td>0</td>\n      <td>0</td>\n      <td>...</td>\n      <td>0</td>\n      <td>0</td>\n      <td>0</td>\n      <td>0</td>\n      <td>0</td>\n      <td>0</td>\n      <td>0</td>\n      <td>0</td>\n      <td>0</td>\n      <td>0</td>\n    </tr>\n    <tr>\n      <th>(NLAER, NLSWI, 0)</th>\n      <th>(8864005, 8867258)</th>\n      <td>0</td>\n      <td>0</td>\n      <td>0</td>\n      <td>1</td>\n      <td>0</td>\n      <td>0</td>\n      <td>0</td>\n      <td>0</td>\n      <td>0</td>\n      <td>0</td>\n      <td>...</td>\n      <td>0</td>\n      <td>0</td>\n      <td>0</td>\n      <td>0</td>\n      <td>0</td>\n      <td>0</td>\n      <td>0</td>\n      <td>0</td>\n      <td>0</td>\n      <td>0</td>\n    </tr>\n    <tr>\n      <th>(NLALK, NLIJM, 0)</th>\n      <th>(8861625, 8862497)</th>\n      <td>0</td>\n      <td>1</td>\n      <td>0</td>\n      <td>0</td>\n      <td>0</td>\n      <td>0</td>\n      <td>0</td>\n      <td>0</td>\n      <td>0</td>\n      <td>0</td>\n      <td>...</td>\n      <td>0</td>\n      <td>0</td>\n      <td>0</td>\n      <td>0</td>\n      <td>0</td>\n      <td>0</td>\n      <td>0</td>\n      <td>0</td>\n      <td>0</td>\n      <td>0</td>\n    </tr>\n    <tr>\n      <th>...</th>\n      <th>...</th>\n      <td>...</td>\n      <td>...</td>\n      <td>...</td>\n      <td>...</td>\n      <td>...</td>\n      <td>...</td>\n      <td>...</td>\n      <td>...</td>\n      <td>...</td>\n      <td>...</td>\n      <td>...</td>\n      <td>...</td>\n      <td>...</td>\n      <td>...</td>\n      <td>...</td>\n      <td>...</td>\n      <td>...</td>\n      <td>...</td>\n      <td>...</td>\n      <td>...</td>\n      <td>...</td>\n    </tr>\n    <tr>\n      <th rowspan=\"2\" valign=\"top\">(NLWSM, NLBON, 0)</th>\n      <th>(8863599,)</th>\n      <td>0</td>\n      <td>0</td>\n      <td>0</td>\n      <td>0</td>\n      <td>0</td>\n      <td>0</td>\n      <td>0</td>\n      <td>0</td>\n      <td>0</td>\n      <td>0</td>\n      <td>...</td>\n      <td>0</td>\n      <td>0</td>\n      <td>0</td>\n      <td>0</td>\n      <td>0</td>\n      <td>0</td>\n      <td>0</td>\n      <td>0</td>\n      <td>0</td>\n      <td>0</td>\n    </tr>\n    <tr>\n      <th>(8868208,)</th>\n      <td>0</td>\n      <td>0</td>\n      <td>0</td>\n      <td>0</td>\n      <td>0</td>\n      <td>0</td>\n      <td>0</td>\n      <td>0</td>\n      <td>1</td>\n      <td>0</td>\n      <td>...</td>\n      <td>0</td>\n      <td>0</td>\n      <td>0</td>\n      <td>0</td>\n      <td>0</td>\n      <td>0</td>\n      <td>0</td>\n      <td>0</td>\n      <td>0</td>\n      <td>0</td>\n    </tr>\n    <tr>\n      <th>(NLWSP, NLAER, 0)</th>\n      <th>(8864020, 8864005)</th>\n      <td>0</td>\n      <td>0</td>\n      <td>0</td>\n      <td>1</td>\n      <td>0</td>\n      <td>0</td>\n      <td>0</td>\n      <td>0</td>\n      <td>0</td>\n      <td>0</td>\n      <td>...</td>\n      <td>0</td>\n      <td>0</td>\n      <td>0</td>\n      <td>0</td>\n      <td>0</td>\n      <td>0</td>\n      <td>0</td>\n      <td>0</td>\n      <td>0</td>\n      <td>0</td>\n    </tr>\n    <tr>\n      <th rowspan=\"2\" valign=\"top\">(NLZAA, NLRTM, 0)</th>\n      <th>(8866429, 8867538, 8863360)</th>\n      <td>0</td>\n      <td>0</td>\n      <td>0</td>\n      <td>0</td>\n      <td>2</td>\n      <td>1</td>\n      <td>0</td>\n      <td>0</td>\n      <td>0</td>\n      <td>0</td>\n      <td>...</td>\n      <td>0</td>\n      <td>0</td>\n      <td>0</td>\n      <td>0</td>\n      <td>0</td>\n      <td>0</td>\n      <td>0</td>\n      <td>0</td>\n      <td>0</td>\n      <td>0</td>\n    </tr>\n    <tr>\n      <th>(8863306, 8866429, 8863360)</th>\n      <td>0</td>\n      <td>0</td>\n      <td>0</td>\n      <td>0</td>\n      <td>2</td>\n      <td>1</td>\n      <td>0</td>\n      <td>0</td>\n      <td>0</td>\n      <td>0</td>\n      <td>...</td>\n      <td>0</td>\n      <td>0</td>\n      <td>0</td>\n      <td>0</td>\n      <td>0</td>\n      <td>0</td>\n      <td>0</td>\n      <td>0</td>\n      <td>0</td>\n      <td>0</td>\n    </tr>\n  </tbody>\n</table>\n<p>144 rows × 81 columns</p>\n</div>"
     },
     "execution_count": 17,
     "metadata": {},
     "output_type": "execute_result"
    }
   ],
   "source": [
    "df_g"
   ],
   "metadata": {
    "collapsed": false,
    "pycharm": {
     "name": "#%%\n"
    }
   }
  },
  {
   "cell_type": "markdown",
   "source": [
    "## Run second stage FRLM"
   ],
   "metadata": {
    "collapsed": false,
    "pycharm": {
     "name": "#%% md\n"
    }
   }
  },
  {
   "cell_type": "code",
   "execution_count": 17,
   "outputs": [],
   "source": [
    "# (r, v, b, p, c, max_per_loc, o, df_g, df_b, df_eq_fq)"
   ],
   "metadata": {
    "collapsed": false,
    "pycharm": {
     "name": "#%%\n"
    }
   }
  },
  {
   "cell_type": "code",
   "execution_count": 18,
   "outputs": [
    {
     "name": "stdout",
     "output_type": "stream",
     "text": [
      "Optimal\n",
      "{'Facilities_22637863': 1.0, 'Facilities_22638019': 2.0, 'Facilities_22638146': 1.0, 'Facilities_22638156': 0.0, 'Facilities_22638320': 0.0, 'Facilities_22638327': 1.0, 'Facilities_22638404': 1.0, 'Facilities_30984595': 2.0, 'Facilities_30986757': 0.0, 'Facilities_8860582': 0.0, 'Facilities_8861305': 0.0, 'Facilities_8861380': 1.0, 'Facilities_8861462': 0.0, 'Facilities_8861528': 1.0, 'Facilities_8861546': 0.0, 'Facilities_8861563': 0.0, 'Facilities_8861568': 0.0, 'Facilities_8861625': 0.0, 'Facilities_8862419': 0.0, 'Facilities_8862448': 1.0, 'Facilities_8862497': 0.0, 'Facilities_8862506': 0.0, 'Facilities_8862570': 0.0, 'Facilities_8862687': 0.0, 'Facilities_8862776': 2.0, 'Facilities_8862992': 0.0, 'Facilities_8863019': 1.0, 'Facilities_8863125': 0.0, 'Facilities_8863206': 0.0, 'Facilities_8863207': 0.0, 'Facilities_8863306': 2.0, 'Facilities_8863360': 0.0, 'Facilities_8863408': 0.0, 'Facilities_8863469': 1.0, 'Facilities_8863475': 0.0, 'Facilities_8863518': 0.0, 'Facilities_8863570': 0.0, 'Facilities_8863599': 0.0, 'Facilities_8863614': 0.0, 'Facilities_8863709': 0.0, 'Facilities_8863818': 1.0, 'Facilities_8863861': 0.0, 'Facilities_8863966': 0.0, 'Facilities_8864005': 2.0, 'Facilities_8864020': 1.0, 'Facilities_8864111': 1.0, 'Facilities_8864153': 0.0, 'Facilities_8864260': 0.0, 'Facilities_8864494': 0.0, 'Facilities_8864821': 0.0, 'Facilities_8864954': 1.0, 'Facilities_8865412': 1.0, 'Facilities_8865600': 1.0, 'Facilities_8865605': 0.0, 'Facilities_8865756': 0.0, 'Facilities_8865920': 0.0, 'Facilities_8865990': 0.0, 'Facilities_8866297': 0.0, 'Facilities_8866429': 2.0, 'Facilities_8866465': 0.0, 'Facilities_8866512': 1.0, 'Facilities_8866564': 0.0, 'Facilities_8866627': 0.0, 'Facilities_8866671': 0.0, 'Facilities_8866686': 2.0, 'Facilities_8866748': 0.0, 'Facilities_8866775': 0.0, 'Facilities_8866893': 0.0, 'Facilities_8867083': 0.0, 'Facilities_8867128': 0.0, 'Facilities_8867130': 2.0, 'Facilities_8867240': 2.0, 'Facilities_8867258': 1.0, 'Facilities_8867392': 0.0, 'Facilities_8867429': 0.0, 'Facilities_8867538': 2.0, 'Facilities_8867740': 1.0, 'Facilities_8867824': 1.0, 'Facilities_8868168': 0.0, 'Facilities_8868191': 0.0, 'Facilities_8868208': 1.0, \"Flow_captured_(('NLABL',_'NLRTM',_0),_('8863306',))\": 0.0, \"Flow_captured_(('NLABL',_'NLRTM',_0),_('8866686',))\": 1.0, \"Flow_captured_(('NLAER',_'NLLEY',_0),_('8864005',_'8863709'))\": 0.0, \"Flow_captured_(('NLAER',_'NLSWI',_0),_('8864005',_'8867258'))\": 0.93376505, \"Flow_captured_(('NLALK',_'NLIJM',_0),_('8861625',_'8862497'))\": 0.0, \"Flow_captured_(('NLALM',_'NLHGL',_0),_('8864153',))\": 0.0, \"Flow_captured_(('NLALM',_'NLHGL',_0),_('8866512',))\": 1.0, \"Flow_captured_(('NLAMS',_'NLAER',_0),_('8866429',_'8864005'))\": 1.0, \"Flow_captured_(('NLAMS',_'NLBOT',_1),_('8866429',_'8866564',_'8863206'))\": 0.0, \"Flow_captured_(('NLAMS',_'NLBOT',_2),_('8863475',_'8866429',_'8867538',_'8863360'))\": 0.0, \"Flow_captured_(('NLAMS',_'NLBOT',_2),_('8866429',_'8863206',_'8863360'))\": 0.0, \"Flow_captured_(('NLAMS',_'NLDHR',_0),_('8866429',_'8861625',_'8861568'))\": 0.0, \"Flow_captured_(('NLAMS',_'NLIJM',_0),_('8862497',))\": 0.0, \"Flow_captured_(('NLAMS',_'NLIJM',_0),_('8866429',))\": 1.0, \"Flow_captured_(('NLAMS',_'NLMOE',_0),_('8866429',_'8866686',_'8863360'))\": 0.0, \"Flow_captured_(('NLAMS',_'NLMOE',_0),_('8866429',_'8867130',_'8863360'))\": 0.0, \"Flow_captured_(('NLAMS',_'NLMOE',_0),_('8866429',_'8867538',_'30984595',_'8863360'))\": 0.0, \"Flow_captured_(('NLAMS',_'NLMOE',_1),_('8866429',_'8866686',_'8863360'))\": 0.0, \"Flow_captured_(('NLAMS',_'NLMOE',_1),_('8866429',_'8867130',_'8863360'))\": 0.0, \"Flow_captured_(('NLAMS',_'NLMOE',_1),_('8866429',_'8867538',_'30984595',_'8863360'))\": 0.0, \"Flow_captured_(('NLAMS',_'NLUTC',_1),_('8866429',_'8867240'))\": 1.0, \"Flow_captured_(('NLAMS',_'NLVLA',_1),_('8866429',_'8866564',_'8863206'))\": 0.0, \"Flow_captured_(('NLAMS',_'NLVLA',_2),_('8866429',_'8863206',_'8863360'))\": 0.0, \"Flow_captured_(('NLAMS',_'NLZWI',_0),_('8866429',_'8866686',_'8863360'))\": 0.0, \"Flow_captured_(('NLAMS',_'NLZWI',_0),_('8866429',_'8867130',_'8863360'))\": 0.0, \"Flow_captured_(('NLAMS',_'NLZWI',_1),_('8866429',_'8866686',_'8863360'))\": 0.0, \"Flow_captured_(('NLAMS',_'NLZWI',_1),_('8866429',_'8867130',_'8863360'))\": 0.0, \"Flow_captured_(('NLBNB',_'NLHGL',_0),_('8864153',))\": 0.0, \"Flow_captured_(('NLBNB',_'NLHGL',_0),_('8866512',))\": 1.0, \"Flow_captured_(('NLBON',_'NLSTI',_0),_('22638156',))\": 0.0, \"Flow_captured_(('NLBON',_'NLSTI',_0),_('8868208',))\": 1.0, \"Flow_captured_(('NLBZM',_'NLBRS',_0),_('8867824',_'8861380',_'8861528'))\": 1.0, \"Flow_captured_(('NLBZM',_'NLBRS',_0),_('8867824',_'8861528',_'8867083'))\": 0.0, \"Flow_captured_(('NLBZM',_'NLVLI',_0),_('8867824',_'8861380',_'8864111'))\": 1.0, \"Flow_captured_(('NLBZM',_'NLVLI',_0),_('8867824',_'8864111',_'8867083'))\": 0.0, \"Flow_captured_(('NLDOR',_'NLAMS',_0),_('8866429',_'8863360',_'8866686'))\": 0.0, \"Flow_captured_(('NLDOR',_'NLAMS',_0),_('8866429',_'8867130',_'8863360'))\": 0.0, \"Flow_captured_(('NLDOR',_'NLAMS',_1),_('8866429',_'8863360',_'8866686'))\": 0.0, \"Flow_captured_(('NLDOR',_'NLAMS',_1),_('8866429',_'8867130',_'8863360'))\": 0.0, \"Flow_captured_(('NLDOR',_'NLRTM',_0),_('8863306',))\": 0.36430113, \"Flow_captured_(('NLDOR',_'NLRTM',_0),_('8866686',))\": 0.0, \"Flow_captured_(('NLDOR',_'NLRTM',_0),_('8867130',))\": 0.63569887, \"Flow_captured_(('NLDOR',_'NLRTM',_1),_('8863306',))\": 0.0, \"Flow_captured_(('NLDOR',_'NLRTM',_1),_('8866686',))\": 0.0, \"Flow_captured_(('NLDOR',_'NLRTM',_1),_('8867130',))\": 1.0, \"Flow_captured_(('NLDOR',_'NLVLA',_0),_('8867130',_'8863206'))\": 0.0, \"Flow_captured_(('NLDRO',_'NLKAM',_0),_('8867258',))\": 1.0, \"Flow_captured_(('NLDRO',_'NLKAM',_0),_('8868191',))\": 0.0, \"Flow_captured_(('NLFAR',_'NLEEM',_0),_('8863614',_'8866297'))\": 0.0, \"Flow_captured_(('NLGOR',_'NLRTM',_0),_('8863019',_'8863306'))\": 0.91693596, \"Flow_captured_(('NLGOR',_'NLRTM',_0),_('8863019',_'8866686'))\": 0.0, \"Flow_captured_(('NLGTB',_'NLAMS',_1),_('8866429',_'8866893',_'8863360',_'8866686'))\": 0.0, \"Flow_captured_(('NLGTB',_'NLAMS',_1),_('8866429',_'8867130',_'8863360'))\": 0.0, \"Flow_captured_(('NLHAN',_'NLBRS',_0),_('8867824',_'8861528'))\": 1.0, \"Flow_captured_(('NLHAR',_'NLWTE',_0),_('8865756',_'8864260'))\": 0.0, \"Flow_captured_(('NLIJM',_'NLRTM',_0),_('8862497',_'8866564',_'8863306'))\": 0.0, \"Flow_captured_(('NLMAA',_'NLCUY',_0),_('22638019',_'8865600'))\": 1.0, \"Flow_captured_(('NLMEP',_'NLZWS',_0),_('8860582',))\": 0.0, \"Flow_captured_(('NLMEP',_'NLZWS',_0),_('8864954',))\": 1.0, \"Flow_captured_(('NLMOE',_'NLAPN',_1),_('30984595',_'8867538'))\": 0.43298357, \"Flow_captured_(('NLMOE',_'NLAPN',_1),_('8863360',_'8866686'))\": 0.0, \"Flow_captured_(('NLMOE',_'NLAPN',_1),_('8867130',_'8863360'))\": 0.0, \"Flow_captured_(('NLMOE',_'NLAPN',_1),_('8867130',_'8867538'))\": 0.0, \"Flow_captured_(('NLMOE',_'NLAPN',_1),_('8867538',_'8866686'))\": 0.0, \"Flow_captured_(('NLMOE',_'NLOOS',_0),_('30984595',_'8863818'))\": 1.0, \"Flow_captured_(('NLMSB',_'NLBON',_0),_('8863599',))\": 0.0, \"Flow_captured_(('NLMSB',_'NLBON',_0),_('8868208',))\": 1.0, \"Flow_captured_(('NLMST',_'NLBON',_0),_('8861305',))\": 0.0, \"Flow_captured_(('NLMST',_'NLBON',_0),_('8868208',))\": 1.0, \"Flow_captured_(('NLNER',_'NLVEN',_0),_('22637863',))\": 0.0, \"Flow_captured_(('NLNER',_'NLVEN',_0),_('8862448',))\": 1.0, \"Flow_captured_(('NLNIJ',_'NLDRU',_0),_('22638327',_'8865412'))\": 0.7394744, \"Flow_captured_(('NLNIJ',_'NLVEN',_0),_('8865600',_'22637863'))\": 1.0, \"Flow_captured_(('NLNIJ',_'NLWAS',_0),_('22638327',_'22638019'))\": 0.70477575, \"Flow_captured_(('NLNIJ',_'NLWAS',_0),_('8865600',_'22638019'))\": 0.29522425, \"Flow_captured_(('NLNWG',_'NLRTM',_0),_('8862776',_'8867392'))\": 0.0, \"Flow_captured_(('NLOMD',_'NLWAS',_0),_('8862448',_'22638019'))\": 1.0, \"Flow_captured_(('NLOOS',_'NLTLB',_0),_('8863818',))\": 0.26720427, \"Flow_captured_(('NLOOS',_'NLTLB',_0),_('8867740',))\": 0.73279573, \"Flow_captured_(('NLOSS',_'NLCUY',_0),_('22638404',))\": 1.0, \"Flow_captured_(('NLOSS',_'NLCUY',_0),_('8862570',_'8865600'))\": 0.0, \"Flow_captured_(('NLPER',_'NLAMS',_2),_('8863206',_'8866429',_'8863360'))\": 0.0, \"Flow_captured_(('NLRTM',_'NLAMS',_0),_('8863306',_'8866429',_'8863360'))\": 0.0, \"Flow_captured_(('NLRTM',_'NLAMS',_0),_('8866429',_'8867538',_'8863360'))\": 0.0, \"Flow_captured_(('NLRTM',_'NLAPN',_0),_('8863306',_'8863360'))\": 0.0, \"Flow_captured_(('NLRTM',_'NLAPN',_0),_('8867538',))\": 1.0, \"Flow_captured_(('NLRTM',_'NLGRO',_0),_('8862776',))\": 1.0, \"Flow_captured_(('NLRTM',_'NLGRO',_0),_('8863306',))\": 0.0, \"Flow_captured_(('NLRTM',_'NLGTB',_1),_('8863306',_'8866893'))\": 0.0, \"Flow_captured_(('NLRTM',_'NLGTB',_1),_('8866893',_'8866686'))\": 0.0, \"Flow_captured_(('NLRTM',_'NLGTB',_1),_('8867130',))\": 0.0, \"Flow_captured_(('NLRTM',_'NLLAV',_0),_('8863306',_'8864020',_'8863360'))\": 0.0, \"Flow_captured_(('NLRTM',_'NLLAV',_0),_('8867538',_'8864020',_'8863360'))\": 0.0, \"Flow_captured_(('NLRTM',_'NLLID',_0),_('8863306',_'8866564'))\": 0.0, \"Flow_captured_(('NLRTM',_'NLMOE',_0),_('8863306',_'30984595'))\": 0.0, \"Flow_captured_(('NLRTM',_'NLMOE',_0),_('8866686',))\": 0.33129259, \"Flow_captured_(('NLRTM',_'NLMOE',_0),_('8867130',))\": 0.0, \"Flow_captured_(('NLRTM',_'NLMOE',_1),_('8863306',_'30984595'))\": 0.57152977, \"Flow_captured_(('NLRTM',_'NLMOE',_1),_('8866686',))\": 0.0, \"Flow_captured_(('NLRTM',_'NLMOE',_1),_('8867130',))\": 0.3883088, \"Flow_captured_(('NLRTM',_'NLNGV',_0),_('8863306',_'8864020',_'8863360'))\": 0.0, \"Flow_captured_(('NLRTM',_'NLNGV',_0),_('8867538',_'8864020',_'8863360'))\": 0.0, \"Flow_captured_(('NLRTM',_'NLOOS',_1),_('8863818',_'8866686'))\": 0.0, \"Flow_captured_(('NLRTM',_'NLOOS',_1),_('8863818',_'8867130'))\": 0.0, \"Flow_captured_(('NLRTM',_'NLVLA',_0),_('8863206',))\": 0.0, \"Flow_captured_(('NLRTM',_'NLVLA',_0),_('8863306',))\": 1.0, \"Flow_captured_(('NLRTM',_'NLVSN',_0),_('8863306',_'8866564',_'8866671'))\": 0.0, \"Flow_captured_(('NLRTM',_'NLWLK',_1),_('8863306',_'8866893'))\": 0.0, \"Flow_captured_(('NLRTM',_'NLWLK',_1),_('8866893',_'8866686'))\": 0.0, \"Flow_captured_(('NLRTM',_'NLWLK',_1),_('8867130',_'8866627'))\": 0.0, \"Flow_captured_(('NLRTM',_'NLWLK',_1),_('8867130',_'8866893'))\": 0.0, \"Flow_captured_(('NLRTM',_'NLZWI',_0),_('8863306',))\": 0.0, \"Flow_captured_(('NLRTM',_'NLZWI',_0),_('8866686',))\": 0.0, \"Flow_captured_(('NLRTM',_'NLZWI',_0),_('8867130',))\": 1.0, \"Flow_captured_(('NLRTM',_'NLZWI',_1),_('8863306',))\": 0.0, \"Flow_captured_(('NLRTM',_'NLZWI',_1),_('8866686',))\": 0.0, \"Flow_captured_(('NLRTM',_'NLZWI',_1),_('8867130',))\": 1.0, \"Flow_captured_(('NLSLU',_'NLBRS',_0),_('8861462',_'8861528'))\": 0.0, \"Flow_captured_(('NLSLU',_'NLVLI',_0),_('8861462',))\": 0.0, \"Flow_captured_(('NLSLU',_'NLVLI',_0),_('8864111',))\": 1.0, \"Flow_captured_(('NLSWI',_'NLLEY',_0),_('8863709',))\": 0.0, \"Flow_captured_(('NLSWI',_'NLLEY',_0),_('8867258',))\": 1.0, \"Flow_captured_(('NLTLB',_'NLMOE',_0),_('30984595',_'8867740'))\": 1.0, \"Flow_captured_(('NLTLB',_'NLMOE',_0),_('8863818',_'30984595'))\": 0.0, \"Flow_captured_(('NLTLB',_'NLRTM',_0),_('8863818',_'8866686'))\": 0.0, \"Flow_captured_(('NLTLB',_'NLRTM',_1),_('8863818',_'8866686'))\": 0.0, \"Flow_captured_(('NLTLB',_'NLRTM',_1),_('8863818',_'8867130'))\": 0.0, \"Flow_captured_(('NLTNZ',_'NLBRS',_0),_('8861528',))\": 1.0, \"Flow_captured_(('NLTNZ',_'NLBRS',_0),_('8863469',))\": 0.0, \"Flow_captured_(('NLTNZ',_'NLHAN',_0),_('8863469',))\": 0.55978476, \"Flow_captured_(('NLTNZ',_'NLHAN',_0),_('8867824',))\": 0.44021524, \"Flow_captured_(('NLTNZ',_'NLVLI',_0),_('8863469',))\": 0.44966023, \"Flow_captured_(('NLTNZ',_'NLVLI',_0),_('8864111',))\": 0.55033977, \"Flow_captured_(('NLUTC',_'NLRTM',_0),_('8862776',_'8867240'))\": 0.76423132, \"Flow_captured_(('NLUTC',_'NLRTM',_0),_('8862776',_'8867392'))\": 0.0, \"Flow_captured_(('NLUTC',_'NLTIE',_0),_('8867240',_'22638146'))\": 1.0, \"Flow_captured_(('NLVEN',_'NLBON',_0),_('22637863',_'8868208'))\": 1.0, \"Flow_captured_(('NLVLI',_'NLHAN',_0),_('8864111',_'8867824'))\": 1.0, \"Flow_captured_(('NLVLL',_'NLHAR',_0),_('8865605',_'8865756'))\": 0.0, \"Flow_captured_(('NLWSM',_'NLBON',_0),_('8863599',))\": 0.0, \"Flow_captured_(('NLWSM',_'NLBON',_0),_('8868208',))\": 1.0, \"Flow_captured_(('NLWSP',_'NLAER',_0),_('8864020',_'8864005'))\": 1.0, \"Flow_captured_(('NLZAA',_'NLRTM',_0),_('8866429',_'8863306',_'8863360'))\": 0.0, \"Flow_captured_(('NLZAA',_'NLRTM',_0),_('8866429',_'8867538',_'8863360'))\": 0.0}\n",
      "CPU times: total: 3.38 s\n",
      "Wall time: 4.88 s\n"
     ]
    }
   ],
   "source": [
    "%%time\n",
    "optimal_facilities, optimal_flows, non_zero_flows, supported_flow, routes_supported = second_stage_frlm(70000, 15000, 175, 40, 2500, 2, 24, df_g, df_b, df_eq_fq)"
   ],
   "metadata": {
    "collapsed": false,
    "pycharm": {
     "name": "#%%\n"
    }
   }
  },
  {
   "cell_type": "code",
   "execution_count": null,
   "outputs": [],
   "source": [
    "optimal_facilities"
   ],
   "metadata": {
    "collapsed": false,
    "pycharm": {
     "name": "#%%\n"
    }
   }
  },
  {
   "cell_type": "code",
   "execution_count": null,
   "outputs": [],
   "source": [
    "sum(optimal_facilities.values())"
   ],
   "metadata": {
    "collapsed": false,
    "pycharm": {
     "name": "#%%\n"
    }
   }
  },
  {
   "cell_type": "code",
   "execution_count": null,
   "outputs": [],
   "source": [
    "sum(optimal_flows.values())"
   ],
   "metadata": {
    "collapsed": false,
    "pycharm": {
     "name": "#%%\n"
    }
   }
  },
  {
   "cell_type": "code",
   "execution_count": null,
   "outputs": [],
   "source": [
    "supported_flow"
   ],
   "metadata": {
    "collapsed": false,
    "pycharm": {
     "name": "#%%\n"
    }
   }
  },
  {
   "cell_type": "markdown",
   "source": [
    "## Create input data ABM"
   ],
   "metadata": {
    "collapsed": false,
    "pycharm": {
     "name": "#%% md\n"
    }
   }
  },
  {
   "cell_type": "code",
   "execution_count": null,
   "outputs": [],
   "source": [
    "%%time\n",
    "df_abm = create_input_data_abm(G, paths, non_zero_flows, optimal_facilities)"
   ],
   "metadata": {
    "collapsed": false,
    "pycharm": {
     "name": "#%%\n"
    }
   }
  },
  {
   "cell_type": "code",
   "execution_count": null,
   "outputs": [],
   "source": [
    "df_abm"
   ],
   "metadata": {
    "collapsed": false,
    "pycharm": {
     "name": "#%%\n"
    }
   }
  },
  {
   "cell_type": "markdown",
   "source": [
    "## Visualize placement"
   ],
   "metadata": {
    "collapsed": false,
    "pycharm": {
     "name": "#%% md\n"
    }
   }
  },
  {
   "cell_type": "code",
   "execution_count": null,
   "outputs": [],
   "source": [
    "visualize_placement(G,flows, optimal_facilities, non_zero_flows, df_h, paths, True)"
   ],
   "metadata": {
    "collapsed": false,
    "pycharm": {
     "name": "#%%\n"
    }
   }
  },
  {
   "cell_type": "code",
   "execution_count": null,
   "outputs": [],
   "source": [],
   "metadata": {
    "collapsed": false,
    "pycharm": {
     "name": "#%%\n"
    }
   }
  }
 ],
 "metadata": {
  "kernelspec": {
   "display_name": "Python 3 (ipykernel)",
   "language": "python",
   "name": "python3"
  },
  "language_info": {
   "codemirror_mode": {
    "name": "ipython",
    "version": 3
   },
   "file_extension": ".py",
   "mimetype": "text/x-python",
   "name": "python",
   "nbconvert_exporter": "python",
   "pygments_lexer": "ipython3",
   "version": "3.10.4"
  }
 },
 "nbformat": 4,
 "nbformat_minor": 4
}