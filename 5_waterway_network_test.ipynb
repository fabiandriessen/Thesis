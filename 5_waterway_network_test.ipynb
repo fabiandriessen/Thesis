{
 "cells": [
  {
   "cell_type": "code",
   "execution_count": 1,
   "metadata": {
    "collapsed": false,
    "jupyter": {
     "outputs_hidden": false
    },
    "pycharm": {
     "name": "#%%\n"
    }
   },
   "outputs": [],
   "source": [
    "import networkx as nx\n",
    "import matplotlib.pyplot as plt\n",
    "from fullfrlm import flow_refueling_location_model\n",
    "from generate_network import generate_network\n",
    "from flow_computation import flow_computation\n",
    "from random_vessel_generator import random_vessel_generator\n",
    "from first_stage_frlm import first_stage_frlm\n",
    "from second_stage_frlm import second_stage_frlm\n",
    "from create_input_data_abm import create_input_data_abm\n",
    "from visualize_placement import visualize_placement\n",
    "from get_abm_data import get_vessel_data_batch, get_cs_data_batch\n",
    "import pickle\n",
    "from determine_additional_nodes import determine_additional_nodes\n",
    "import pandas as pd\n",
    "pd.options.mode.chained_assignment = None  # default='warn'\n",
    "import time"
   ]
  },
  {
   "cell_type": "code",
   "execution_count": 12,
   "outputs": [],
   "source": [
    "# pick seeds\n",
    "import numpy as np\n",
    "pick_from = np.linspace(0, 1000000, 1000001)\n",
    "seeds = np.random.choice(a=pick_from, size=100, replace=False)\n",
    "seeds = list(seeds)\n",
    "seeds = [round(i) for i in seeds]"
   ],
   "metadata": {
    "collapsed": false,
    "pycharm": {
     "name": "#%%\n"
    }
   }
  },
  {
   "cell_type": "code",
   "execution_count": 13,
   "outputs": [
    {
     "data": {
      "text/plain": "[646013,\n 850256,\n 778521,\n 435919,\n 79889,\n 433963,\n 991965,\n 679815,\n 437603,\n 752104,\n 841313,\n 574125,\n 880420,\n 705601,\n 590977,\n 597986,\n 389004,\n 22148,\n 554954,\n 729001,\n 43506,\n 50186,\n 50064,\n 629819,\n 896678,\n 57765,\n 281089,\n 407905,\n 990137,\n 462590,\n 30088,\n 607830,\n 311265,\n 216173,\n 115250,\n 170438,\n 906125,\n 792137,\n 957254,\n 717180,\n 766089,\n 675123,\n 873011,\n 852463,\n 73819,\n 220265,\n 22332,\n 403605,\n 864721,\n 849589,\n 324788,\n 235025,\n 550979,\n 878928,\n 349121,\n 795459,\n 914416,\n 27304,\n 554203,\n 629064,\n 561624,\n 295010,\n 208209,\n 36180,\n 819634,\n 32080,\n 719255,\n 560202,\n 286188,\n 119473,\n 605579,\n 534013,\n 942425,\n 848013,\n 376037,\n 668735,\n 511388,\n 673176,\n 47393,\n 956108,\n 3505,\n 417837,\n 557843,\n 700674,\n 759465,\n 676395,\n 788671,\n 878192,\n 427986,\n 430317,\n 37100,\n 630455,\n 264569,\n 201215,\n 404449,\n 679633,\n 855151,\n 19414,\n 646861,\n 145087]"
     },
     "execution_count": 13,
     "metadata": {},
     "output_type": "execute_result"
    }
   ],
   "source": [
    "seeds"
   ],
   "metadata": {
    "collapsed": false,
    "pycharm": {
     "name": "#%%\n"
    }
   }
  },
  {
   "cell_type": "code",
   "execution_count": 3,
   "outputs": [],
   "source": [
    "seeds = [259572, 7542, 864199, 11540, 188813, 411862, 546078, 420812, 304196, 814030]"
   ],
   "metadata": {
    "collapsed": false,
    "pycharm": {
     "name": "#%%\n"
    }
   }
  },
  {
   "cell_type": "code",
   "execution_count": 4,
   "outputs": [],
   "source": [
    "df_h = pickle.load(open(\"data/revised_cleaning_results/harbour_data_100.p\", \"rb\"))"
   ],
   "metadata": {
    "collapsed": false,
    "pycharm": {
     "name": "#%%\n"
    }
   }
  },
  {
   "cell_type": "code",
   "execution_count": 7,
   "outputs": [],
   "source": [
    "main_cs_dict = {i:0 for i in df_h.harbour_node.unique()}"
   ],
   "metadata": {
    "collapsed": false,
    "pycharm": {
     "name": "#%%\n"
    }
   }
  },
  {
   "cell_type": "code",
   "execution_count": 8,
   "outputs": [
    {
     "name": "stdout",
     "output_type": "stream",
     "text": [
      "Optimal\n",
      "Optimal\n",
      "Optimal\n",
      "Optimal\n",
      "Optimal\n",
      "Optimal\n",
      "Optimal\n",
      "Optimal\n",
      "Optimal\n",
      "Optimal\n",
      "CPU times: total: 1min 12s\n",
      "Wall time: 1min 15s\n"
     ]
    }
   ],
   "source": [
    "%%time\n",
    "for seed in seeds:\n",
    "    total_flow, fraction_captured_total, serviceable_fraction, served_fraction, optimal_facilities, \\\n",
    "        non_zero_flows, routes_supported, paths, G, df_abm, df_random_out = flow_refueling_location_model(1, seed, 70000, 40, 600, 2, False, False, False)\n",
    "    for i in optimal_facilities:\n",
    "        main_cs_dict[i] += optimal_facilities[i]"
   ],
   "metadata": {
    "collapsed": false,
    "pycharm": {
     "name": "#%%\n"
    }
   }
  },
  {
   "cell_type": "code",
   "execution_count": 11,
   "outputs": [
    {
     "data": {
      "text/plain": "{'8866686': 20.0,\n '8861625': 0.0,\n '8866425': 0.0,\n '8864005': 20.0,\n '8863360': 1.0,\n '8866763': 20.0,\n '8863207': 0.0,\n '8867083': 0.0,\n '8868208': 10.0,\n '8861528': 5.0,\n '8865600': 10.0,\n '8868222': 0.0,\n '8867395': 10.0,\n '8867429': 0.0,\n '8862663': 20.0,\n '8863518': 0.0,\n '8867258': 0.0,\n '8865412': 10.0,\n '8866297': 10.0,\n '8863614': 0.0,\n '8866893': 10.0,\n '8864018': 0.0,\n '8863019': 10.0,\n '8863861': 0.0,\n '8865756': 19.0,\n '8862085': 0.0,\n '8863408': 0.0,\n '22638320': 0.0,\n '8864153': 0.0,\n '8862497': 0.0,\n '8868191': 10.0,\n '8863260': 0.0,\n '8866748': 0.0,\n '8866564': 0.0,\n '8863709': 10.0,\n '8863125': 0.0,\n '8861305': 0.0,\n '8864954': 0.0,\n '30984595': 20.0,\n '8868423': 1.0,\n '8867538': 20.0,\n '8864494': 0.0,\n '22638327': 10.0,\n '8863818': 10.0,\n '8862570': 0.0,\n '8861718': 0.0,\n '8863152': 0.0,\n '8863306': 20.0,\n '8866775': 0.0,\n '8861462': 0.0,\n '22638156': 0.0,\n '8868266': 0.0,\n '8863469': 10.0,\n '22638146': 10.0,\n '8867740': 10.0,\n '8867240': 10.0,\n '8865990': 0.0,\n '8866671': 0.0,\n '22637863': 10.0,\n '8864111': 5.0,\n '8866627': 0.0,\n '8864566': 10.0,\n '8864837': 10.0,\n '8863966': 0.0,\n '8865605': 19.0,\n '8866889': 10.0,\n '8865003': 20.0,\n '8862506': 0.0}"
     },
     "execution_count": 11,
     "metadata": {},
     "output_type": "execute_result"
    }
   ],
   "source": [
    "main_cs_dict"
   ],
   "metadata": {
    "collapsed": false,
    "pycharm": {
     "name": "#%%\n"
    }
   }
  },
  {
   "cell_type": "code",
   "execution_count": 29,
   "outputs": [
    {
     "data": {
      "text/plain": "{'22637863': 1.0,\n '22638146': 1.0,\n '22638156': 0.0,\n '22638320': 0.0,\n '22638327': 1.0,\n '30984595': 2.0,\n '8861305': 0.0,\n '8861462': 0.0,\n '8861528': 0.0,\n '8861625': 0.0,\n '8861718': 0.0,\n '8862085': 0.0,\n '8862497': 0.0,\n '8862506': 0.0,\n '8862570': 0.0,\n '8862663': 2.0,\n '8863019': 1.0,\n '8863125': 0.0,\n '8863152': 0.0,\n '8863207': 0.0,\n '8863260': 0.0,\n '8863306': 2.0,\n '8863360': 0.0,\n '8863408': 0.0,\n '8863469': 1.0,\n '8863518': 0.0,\n '8863614': 0.0,\n '8863709': 1.0,\n '8863818': 1.0,\n '8863861': 0.0,\n '8863966': 0.0,\n '8864005': 2.0,\n '8864018': 0.0,\n '8864111': 1.0,\n '8864153': 0.0,\n '8864494': 0.0,\n '8864566': 1.0,\n '8864837': 1.0,\n '8864954': 0.0,\n '8865003': 2.0,\n '8865412': 1.0,\n '8865600': 1.0,\n '8865605': 2.0,\n '8865756': 2.0,\n '8865990': 0.0,\n '8866297': 1.0,\n '8866425': 0.0,\n '8866564': 0.0,\n '8866627': 0.0,\n '8866671': 0.0,\n '8866686': 2.0,\n '8866748': 0.0,\n '8866763': 2.0,\n '8866775': 0.0,\n '8866889': 1.0,\n '8866893': 1.0,\n '8867083': 0.0,\n '8867240': 1.0,\n '8867258': 0.0,\n '8867395': 1.0,\n '8867429': 0.0,\n '8867538': 2.0,\n '8867740': 1.0,\n '8868191': 1.0,\n '8868208': 1.0,\n '8868222': 0.0,\n '8868266': 0.0,\n '8868423': 0.0}"
     },
     "execution_count": 29,
     "metadata": {},
     "output_type": "execute_result"
    }
   ],
   "source": [
    "optimal_facilities"
   ],
   "metadata": {
    "collapsed": false,
    "pycharm": {
     "name": "#%%\n"
    }
   }
  },
  {
   "cell_type": "code",
   "execution_count": null,
   "outputs": [],
   "source": [
    "df_h = pickle.load(open(\"data/revised_cleaning_results/harbour_data_100.p\", \"rb\"))\n",
    "facilities = [i for i in optimal_facilities.keys() if optimal_facilities[i] > 0]\n",
    "\n",
    "extra_nodes_used = list(set(facilities)-set(list(df_h.harbour_node)))"
   ],
   "metadata": {
    "collapsed": false,
    "pycharm": {
     "name": "#%%\n"
    }
   }
  },
  {
   "cell_type": "code",
   "execution_count": null,
   "outputs": [],
   "source": [
    "print(total_flow, fraction_captured_total, serviceable_fraction, served_fraction, routes_supported)"
   ],
   "metadata": {
    "collapsed": false,
    "pycharm": {
     "name": "#%%\n"
    }
   }
  },
  {
   "cell_type": "markdown",
   "source": [
    "# Complete batch run first before continuing\n",
    "Run file batchrun.py in ABM/ownwork"
   ],
   "metadata": {
    "collapsed": false,
    "pycharm": {
     "name": "#%% md\n"
    }
   }
  },
  {
   "cell_type": "markdown",
   "source": [
    "## Rerun using feedback from ABM"
   ],
   "metadata": {
    "collapsed": false,
    "pycharm": {
     "name": "#%% md\n"
    }
   }
  },
  {
   "cell_type": "code",
   "execution_count": null,
   "outputs": [],
   "source": [],
   "metadata": {
    "collapsed": false,
    "pycharm": {
     "name": "#%%\n"
    }
   }
  },
  {
   "cell_type": "code",
   "execution_count": null,
   "outputs": [],
   "source": [
    "vessel_data_abm = get_vessel_data_batch()"
   ],
   "metadata": {
    "collapsed": false,
    "pycharm": {
     "name": "#%%\n"
    }
   }
  },
  {
   "cell_type": "code",
   "execution_count": null,
   "outputs": [],
   "source": [
    "station_data_abm = get_cs_data_batch()"
   ],
   "metadata": {
    "collapsed": false,
    "pycharm": {
     "name": "#%%\n"
    }
   }
  },
  {
   "cell_type": "code",
   "execution_count": null,
   "outputs": [],
   "source": [
    "station_data_abm"
   ],
   "metadata": {
    "collapsed": false,
    "pycharm": {
     "name": "#%%\n"
    }
   }
  },
  {
   "cell_type": "code",
   "execution_count": null,
   "outputs": [],
   "source": [
    "top5_least_used = list(station_data_abm.sort_values(by='occupation').head(5).index)"
   ],
   "metadata": {
    "collapsed": false,
    "pycharm": {
     "name": "#%%\n"
    }
   }
  },
  {
   "cell_type": "code",
   "execution_count": null,
   "outputs": [],
   "source": [
    "top5_least_used"
   ],
   "metadata": {
    "collapsed": false,
    "pycharm": {
     "name": "#%%\n"
    }
   }
  },
  {
   "cell_type": "code",
   "execution_count": null,
   "outputs": [],
   "source": [
    "%%time\n",
    "total_flow, fraction_captured_total, serveable_fraction, served_fraction, optimal_facilities, \\\n",
    "non_zero_flows, routes_supported, paths, G, df_abm, df_random_out = flow_refueling_location_model(load, 70000, 40, 1000, 2, df_random, False, False, True, top5_least_used)"
   ],
   "metadata": {
    "collapsed": false,
    "pycharm": {
     "name": "#%%\n"
    }
   }
  },
  {
   "cell_type": "code",
   "execution_count": null,
   "outputs": [],
   "source": [
    "facilities = [i for i in optimal_facilities.keys() if optimal_facilities[i] > 0]\n",
    "extra_nodes_used = list(set(facilities) - set(list(df_h.harbour_node)))\n",
    "extra_nodes_used"
   ],
   "metadata": {
    "collapsed": false,
    "pycharm": {
     "name": "#%%\n"
    }
   }
  },
  {
   "cell_type": "code",
   "execution_count": null,
   "outputs": [],
   "source": [
    "\n",
    "print(total_flow, fraction_captured_total, serveable_fraction, served_fraction, routes_supported)"
   ],
   "metadata": {
    "collapsed": false,
    "pycharm": {
     "name": "#%%\n"
    }
   }
  },
  {
   "cell_type": "markdown",
   "source": [
    "## Now simulate again"
   ],
   "metadata": {
    "collapsed": false,
    "pycharm": {
     "name": "#%% md\n"
    }
   }
  },
  {
   "cell_type": "code",
   "execution_count": null,
   "outputs": [],
   "source": [],
   "metadata": {
    "collapsed": false,
    "pycharm": {
     "name": "#%%\n"
    }
   }
  },
  {
   "cell_type": "code",
   "execution_count": null,
   "outputs": [],
   "source": [],
   "metadata": {
    "collapsed": false,
    "pycharm": {
     "name": "#%%\n"
    }
   }
  },
  {
   "cell_type": "markdown",
   "source": [
    "## Stepwise run of all components of frlm"
   ],
   "metadata": {
    "collapsed": false,
    "pycharm": {
     "name": "#%% md\n"
    }
   }
  },
  {
   "cell_type": "markdown",
   "metadata": {
    "pycharm": {
     "name": "#%% md\n"
    }
   },
   "source": [
    "### Load necessary data"
   ]
  },
  {
   "cell_type": "code",
   "execution_count": null,
   "metadata": {
    "collapsed": false,
    "jupyter": {
     "outputs_hidden": false
    },
    "pycharm": {
     "name": "#%%\n"
    }
   },
   "outputs": [],
   "source": [
    "df_h = pickle.load(open(\"data/revised_cleaning_results/harbour_data_100.p\", \"rb\"))\n",
    "df_ivs = pickle.load(open(\"data/revised_cleaning_results/ivs_exploded_100.p\", \"rb\"))\n",
    "path_lengths = pickle.load(open(\"data/revised_cleaning_results/path_lengths_ship_specific_routes.p\", \"rb\"))"
   ]
  },
  {
   "cell_type": "code",
   "execution_count": null,
   "outputs": [],
   "source": [
    "df_ivs"
   ],
   "metadata": {
    "collapsed": false,
    "pycharm": {
     "name": "#%%\n"
    }
   }
  },
  {
   "cell_type": "markdown",
   "metadata": {
    "pycharm": {
     "name": "#%% md\n"
    }
   },
   "source": [
    "## Generate random df"
   ]
  },
  {
   "cell_type": "code",
   "execution_count": null,
   "metadata": {
    "collapsed": false,
    "jupyter": {
     "outputs_hidden": false
    },
    "pycharm": {
     "name": "#%%\n"
    }
   },
   "outputs": [],
   "source": [
    "%%time\n",
    "df_chance = df_ivs.copy()\n",
    "df_random1 = random_vessel_generator(df_chance, 1)"
   ]
  },
  {
   "cell_type": "code",
   "execution_count": null,
   "outputs": [],
   "source": [
    "df_random1"
   ],
   "metadata": {
    "collapsed": false,
    "pycharm": {
     "name": "#%%\n"
    }
   }
  },
  {
   "cell_type": "markdown",
   "metadata": {
    "pycharm": {
     "name": "#%% md\n"
    }
   },
   "source": [
    "\n",
    "## Compute path flows"
   ]
  },
  {
   "cell_type": "code",
   "execution_count": null,
   "metadata": {
    "collapsed": false,
    "jupyter": {
     "outputs_hidden": false
    },
    "pycharm": {
     "name": "#%%\n"
    }
   },
   "outputs": [],
   "source": [
    "%%time\n",
    "flows = flow_computation(df_random1)"
   ]
  },
  {
   "cell_type": "code",
   "execution_count": null,
   "outputs": [],
   "source": [
    "sum(flows.values())"
   ],
   "metadata": {
    "collapsed": false,
    "pycharm": {
     "name": "#%%\n"
    }
   }
  },
  {
   "cell_type": "markdown",
   "metadata": {
    "pycharm": {
     "name": "#%% md\n"
    }
   },
   "source": [
    "## Generate network"
   ]
  },
  {
   "cell_type": "code",
   "execution_count": null,
   "outputs": [],
   "source": [
    "%%time\n",
    "G = pickle.load(open('data/network_cleaned_final.p', 'rb'))\n",
    "paths = pickle.load(open(\"data/final_paths.p\", \"rb\"))\n",
    "G, paths, inserted_nodes = generate_network(G, paths, 70000)"
   ],
   "metadata": {
    "collapsed": false,
    "pycharm": {
     "name": "#%%\n"
    }
   }
  },
  {
   "cell_type": "code",
   "execution_count": null,
   "outputs": [],
   "source": [
    "inserted_nodes += determine_additional_nodes(G, df_h, 70000)"
   ],
   "metadata": {
    "collapsed": false,
    "pycharm": {
     "name": "#%%\n"
    }
   }
  },
  {
   "cell_type": "code",
   "execution_count": null,
   "outputs": [],
   "source": [
    "inserted_nodes"
   ],
   "metadata": {
    "collapsed": false,
    "pycharm": {
     "name": "#%%\n"
    }
   }
  },
  {
   "cell_type": "code",
   "execution_count": null,
   "outputs": [],
   "source": [
    "%%time\n",
    "# range r in meters\n",
    "df_b, df_g, df_eq_fq, feasible_combinations = first_stage_frlm(70000, G, OD=flows, paths=paths, path_lengths=path_lengths, df_h=df_h, additional_nodes=inserted_nodes)"
   ],
   "metadata": {
    "collapsed": false,
    "pycharm": {
     "name": "#%%\n"
    }
   }
  },
  {
   "cell_type": "markdown",
   "source": [
    "## Run second stage FRLM"
   ],
   "metadata": {
    "collapsed": false,
    "pycharm": {
     "name": "#%% md\n"
    }
   }
  },
  {
   "cell_type": "code",
   "execution_count": null,
   "outputs": [],
   "source": [
    "%%time\n",
    "optimal_facilities, optimal_flows, non_zero_flows, supported_flow, routes_supported = second_stage_frlm(70000, 15000, 175, 40, 2500, 2, df_g, df_b, df_eq_fq)"
   ],
   "metadata": {
    "collapsed": false,
    "pycharm": {
     "name": "#%%\n"
    }
   }
  },
  {
   "cell_type": "code",
   "execution_count": null,
   "outputs": [],
   "source": [
    "optimal_facilities"
   ],
   "metadata": {
    "collapsed": false,
    "pycharm": {
     "name": "#%%\n"
    }
   }
  },
  {
   "cell_type": "code",
   "execution_count": null,
   "outputs": [],
   "source": [
    "sum(optimal_facilities.values())"
   ],
   "metadata": {
    "collapsed": false,
    "pycharm": {
     "name": "#%%\n"
    }
   }
  },
  {
   "cell_type": "code",
   "execution_count": null,
   "outputs": [],
   "source": [
    "sum(optimal_flows.values())"
   ],
   "metadata": {
    "collapsed": false,
    "pycharm": {
     "name": "#%%\n"
    }
   }
  },
  {
   "cell_type": "code",
   "execution_count": null,
   "outputs": [],
   "source": [
    "supported_flow"
   ],
   "metadata": {
    "collapsed": false,
    "pycharm": {
     "name": "#%%\n"
    }
   }
  },
  {
   "cell_type": "markdown",
   "source": [
    "## Create input data ABM"
   ],
   "metadata": {
    "collapsed": false,
    "pycharm": {
     "name": "#%% md\n"
    }
   }
  },
  {
   "cell_type": "code",
   "execution_count": null,
   "outputs": [],
   "source": [
    "%%time\n",
    "df_abm = create_input_data_abm(G, paths, non_zero_flows, optimal_facilities)"
   ],
   "metadata": {
    "collapsed": false,
    "pycharm": {
     "name": "#%%\n"
    }
   }
  },
  {
   "cell_type": "code",
   "execution_count": null,
   "outputs": [],
   "source": [
    "df_abm"
   ],
   "metadata": {
    "collapsed": false,
    "pycharm": {
     "name": "#%%\n"
    }
   }
  },
  {
   "cell_type": "markdown",
   "source": [
    "## Visualize placement"
   ],
   "metadata": {
    "collapsed": false,
    "pycharm": {
     "name": "#%% md\n"
    }
   }
  },
  {
   "cell_type": "code",
   "execution_count": null,
   "outputs": [],
   "source": [
    "visualize_placement(G,flows, optimal_facilities, non_zero_flows, df_h, paths, True)"
   ],
   "metadata": {
    "collapsed": false,
    "pycharm": {
     "name": "#%%\n"
    }
   }
  },
  {
   "cell_type": "code",
   "execution_count": null,
   "outputs": [],
   "source": [],
   "metadata": {
    "collapsed": false,
    "pycharm": {
     "name": "#%%\n"
    }
   }
  }
 ],
 "metadata": {
  "kernelspec": {
   "display_name": "Python 3 (ipykernel)",
   "language": "python",
   "name": "python3"
  },
  "language_info": {
   "codemirror_mode": {
    "name": "ipython",
    "version": 3
   },
   "file_extension": ".py",
   "mimetype": "text/x-python",
   "name": "python",
   "nbconvert_exporter": "python",
   "pygments_lexer": "ipython3",
   "version": "3.10.4"
  }
 },
 "nbformat": 4,
 "nbformat_minor": 4
}