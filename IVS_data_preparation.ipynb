{
 "cells": [
  {
   "cell_type": "code",
   "execution_count": 1,
   "outputs": [],
   "source": [
    "import networkx as nx\n",
    "import pickle\n",
    "import matplotlib.pyplot as plt\n",
    "from sklearn import cluster\n",
    "import networkx as nx\n",
    "from collections import defaultdict\n",
    "import matplotlib.pyplot as plt\n",
    "from matplotlib import cm\n",
    "import seaborn as sns\n",
    "import pandas as pd\n",
    "import numpy as np\n",
    "from sklearn.metrics.cluster import normalized_mutual_info_score\n",
    "from sklearn.metrics.cluster import adjusted_rand_score"
   ],
   "metadata": {
    "collapsed": false,
    "pycharm": {
     "name": "#%%\n"
    }
   }
  },
  {
   "cell_type": "markdown",
   "source": [
    "## Compute vessel sum per route"
   ],
   "metadata": {
    "collapsed": false,
    "pycharm": {
     "name": "#%% md\n"
    }
   }
  },
  {
   "cell_type": "code",
   "execution_count": 2,
   "metadata": {
    "collapsed": true,
    "pycharm": {
     "name": "#%%\n"
    }
   },
   "outputs": [],
   "source": [
    "# step 1: compute most completed trips and link to nodes\n",
    "df_2021 = pd.read_csv('data/2021/2021_combined.csv')\n",
    "all_trips_ranked = df_2021.groupby(by=['UNLO_herkomst', 'UNLO_bestemming']).count().reset_index().sort_values(\n",
    "    by='Jaarmaand', ascending=False).iloc[:, :3].reset_index(drop=True)\n",
    "# make dict to store trips\n",
    "trip_dict = {}"
   ]
  },
  {
   "cell_type": "code",
   "execution_count": 3,
   "outputs": [],
   "source": [
    "# now fill this dict\n",
    "for i in range(len(all_trips_ranked) - 1):\n",
    "    origin = all_trips_ranked['UNLO_herkomst'][i]\n",
    "    destination = all_trips_ranked['UNLO_bestemming'][i]\n",
    "    trip_count = all_trips_ranked['Unnamed: 0'][i]\n",
    "\n",
    "    if (origin, destination) in trip_dict.keys():\n",
    "        trip_dict[(origin, destination)] += trip_count\n",
    "    elif (destination, origin) in trip_dict.keys():\n",
    "        trip_dict[(destination, origin)] += trip_count\n",
    "    else:\n",
    "        trip_dict[(origin, destination)] = trip_count"
   ],
   "metadata": {
    "collapsed": false,
    "pycharm": {
     "name": "#%%\n"
    }
   }
  },
  {
   "cell_type": "code",
   "execution_count": 4,
   "outputs": [],
   "source": [
    "# now sort values\n",
    "trip_dict = dict(sorted(trip_dict.items(), key=lambda item: item[1], reverse=True))\n",
    "trip_dict_df = {'origin': [], 'destination': [], 'trip_count': []}\n",
    "for key, value in trip_dict.items():\n",
    "    trip_dict_df['origin'].append(key[0])\n",
    "    trip_dict_df['destination'].append(key[1])\n",
    "    trip_dict_df['trip_count'].append(value)\n"
   ],
   "metadata": {
    "collapsed": false,
    "pycharm": {
     "name": "#%%\n"
    }
   }
  },
  {
   "cell_type": "code",
   "execution_count": 5,
   "outputs": [],
   "source": [
    "df_common_trips = pd.DataFrame.from_dict(trip_dict_df)\n"
   ],
   "metadata": {
    "collapsed": false,
    "pycharm": {
     "name": "#%%\n"
    }
   }
  },
  {
   "cell_type": "markdown",
   "source": [
    "## Get and clean harbour data NL, Ger and Bel"
   ],
   "metadata": {
    "collapsed": false,
    "pycharm": {
     "name": "#%% md\n"
    }
   }
  },
  {
   "cell_type": "code",
   "execution_count": 6,
   "outputs": [
    {
     "data": {
      "text/plain": "        0   1    2                   3                   4    5         6   \\\n0      NaN  AD  NaN            .ANDORRA                 NaN  NaN       NaN   \n1      NaN  AD  ALV    Andorra la Vella    Andorra la Vella  NaN  --34-6--   \n2      NaN  AD  CAN             Canillo             Canillo  NaN  --3-----   \n3      NaN  AD  ENC              Encamp              Encamp  NaN  --3-----   \n4      NaN  AD  ESC  Escaldes-Engordany  Escaldes-Engordany  NaN  --3-----   \n...    ...  ..  ...                 ...                 ...  ...       ...   \n54611  NaN  FR  ZTG             Zetting             Zetting   57  --3-----   \n54612  NaN  FR  ZL2               Zilia               Zilia   2B  -----6--   \n54613  NaN  FR  ZWL          Zinswiller          Zinswiller   67  --3-----   \n54614  NaN  FR  PCZ              Zoteux              Zoteux   62  -----6--   \n54615  NaN  FR  559           Zuytpeene           Zuytpeene   59  --3-----   \n\n        7       8    9             10   11  \n0      NaN     NaN  NaN           NaN  NaN  \n1       AI   601.0  NaN  4230N 00131E  NaN  \n2       RL   307.0  NaN  4234N 00135E  NaN  \n3       RL   307.0  NaN  4232N 00134E  NaN  \n4       RL   307.0  NaN  4231N 00133E  NaN  \n...    ...     ...  ...           ...  ...  \n54611   RL  1901.0  NaN  4905N 00708E  NaN  \n54612   RL  1901.0  NaN  4231N 00854E  NaN  \n54613   RL  1901.0  NaN  4855N 00735E  NaN  \n54614   RL  1001.0  NaN  5037N 00153E  NaN  \n54615   RL  1607.0  NaN  5048N 00226E  NaN  \n\n[54616 rows x 12 columns]",
      "text/html": "<div>\n<style scoped>\n    .dataframe tbody tr th:only-of-type {\n        vertical-align: middle;\n    }\n\n    .dataframe tbody tr th {\n        vertical-align: top;\n    }\n\n    .dataframe thead th {\n        text-align: right;\n    }\n</style>\n<table border=\"1\" class=\"dataframe\">\n  <thead>\n    <tr style=\"text-align: right;\">\n      <th></th>\n      <th>0</th>\n      <th>1</th>\n      <th>2</th>\n      <th>3</th>\n      <th>4</th>\n      <th>5</th>\n      <th>6</th>\n      <th>7</th>\n      <th>8</th>\n      <th>9</th>\n      <th>10</th>\n      <th>11</th>\n    </tr>\n  </thead>\n  <tbody>\n    <tr>\n      <th>0</th>\n      <td>NaN</td>\n      <td>AD</td>\n      <td>NaN</td>\n      <td>.ANDORRA</td>\n      <td>NaN</td>\n      <td>NaN</td>\n      <td>NaN</td>\n      <td>NaN</td>\n      <td>NaN</td>\n      <td>NaN</td>\n      <td>NaN</td>\n      <td>NaN</td>\n    </tr>\n    <tr>\n      <th>1</th>\n      <td>NaN</td>\n      <td>AD</td>\n      <td>ALV</td>\n      <td>Andorra la Vella</td>\n      <td>Andorra la Vella</td>\n      <td>NaN</td>\n      <td>--34-6--</td>\n      <td>AI</td>\n      <td>601.0</td>\n      <td>NaN</td>\n      <td>4230N 00131E</td>\n      <td>NaN</td>\n    </tr>\n    <tr>\n      <th>2</th>\n      <td>NaN</td>\n      <td>AD</td>\n      <td>CAN</td>\n      <td>Canillo</td>\n      <td>Canillo</td>\n      <td>NaN</td>\n      <td>--3-----</td>\n      <td>RL</td>\n      <td>307.0</td>\n      <td>NaN</td>\n      <td>4234N 00135E</td>\n      <td>NaN</td>\n    </tr>\n    <tr>\n      <th>3</th>\n      <td>NaN</td>\n      <td>AD</td>\n      <td>ENC</td>\n      <td>Encamp</td>\n      <td>Encamp</td>\n      <td>NaN</td>\n      <td>--3-----</td>\n      <td>RL</td>\n      <td>307.0</td>\n      <td>NaN</td>\n      <td>4232N 00134E</td>\n      <td>NaN</td>\n    </tr>\n    <tr>\n      <th>4</th>\n      <td>NaN</td>\n      <td>AD</td>\n      <td>ESC</td>\n      <td>Escaldes-Engordany</td>\n      <td>Escaldes-Engordany</td>\n      <td>NaN</td>\n      <td>--3-----</td>\n      <td>RL</td>\n      <td>307.0</td>\n      <td>NaN</td>\n      <td>4231N 00133E</td>\n      <td>NaN</td>\n    </tr>\n    <tr>\n      <th>...</th>\n      <td>...</td>\n      <td>...</td>\n      <td>...</td>\n      <td>...</td>\n      <td>...</td>\n      <td>...</td>\n      <td>...</td>\n      <td>...</td>\n      <td>...</td>\n      <td>...</td>\n      <td>...</td>\n      <td>...</td>\n    </tr>\n    <tr>\n      <th>54611</th>\n      <td>NaN</td>\n      <td>FR</td>\n      <td>ZTG</td>\n      <td>Zetting</td>\n      <td>Zetting</td>\n      <td>57</td>\n      <td>--3-----</td>\n      <td>RL</td>\n      <td>1901.0</td>\n      <td>NaN</td>\n      <td>4905N 00708E</td>\n      <td>NaN</td>\n    </tr>\n    <tr>\n      <th>54612</th>\n      <td>NaN</td>\n      <td>FR</td>\n      <td>ZL2</td>\n      <td>Zilia</td>\n      <td>Zilia</td>\n      <td>2B</td>\n      <td>-----6--</td>\n      <td>RL</td>\n      <td>1901.0</td>\n      <td>NaN</td>\n      <td>4231N 00854E</td>\n      <td>NaN</td>\n    </tr>\n    <tr>\n      <th>54613</th>\n      <td>NaN</td>\n      <td>FR</td>\n      <td>ZWL</td>\n      <td>Zinswiller</td>\n      <td>Zinswiller</td>\n      <td>67</td>\n      <td>--3-----</td>\n      <td>RL</td>\n      <td>1901.0</td>\n      <td>NaN</td>\n      <td>4855N 00735E</td>\n      <td>NaN</td>\n    </tr>\n    <tr>\n      <th>54614</th>\n      <td>NaN</td>\n      <td>FR</td>\n      <td>PCZ</td>\n      <td>Zoteux</td>\n      <td>Zoteux</td>\n      <td>62</td>\n      <td>-----6--</td>\n      <td>RL</td>\n      <td>1001.0</td>\n      <td>NaN</td>\n      <td>5037N 00153E</td>\n      <td>NaN</td>\n    </tr>\n    <tr>\n      <th>54615</th>\n      <td>NaN</td>\n      <td>FR</td>\n      <td>559</td>\n      <td>Zuytpeene</td>\n      <td>Zuytpeene</td>\n      <td>59</td>\n      <td>--3-----</td>\n      <td>RL</td>\n      <td>1607.0</td>\n      <td>NaN</td>\n      <td>5048N 00226E</td>\n      <td>NaN</td>\n    </tr>\n  </tbody>\n</table>\n<p>54616 rows × 12 columns</p>\n</div>"
     },
     "execution_count": 6,
     "metadata": {},
     "output_type": "execute_result"
    }
   ],
   "source": [
    "\n",
    "\n",
    "## Now get coordinates harbours\n",
    "pd.read_csv('data/harbour_codes_coords/2021-2 UNLOCODE CodeListPart1.csv', encoding=\"ISO-8859-1\", header=None, sep=\",\",\n",
    "            index_col=None)"
   ],
   "metadata": {
    "collapsed": false,
    "pycharm": {
     "name": "#%%\n"
    }
   }
  },
  {
   "cell_type": "code",
   "execution_count": 7,
   "outputs": [],
   "source": [
    "#first identify all files in 2021 folder and save their names\n",
    "from os import walk\n",
    "\n",
    "f = []\n",
    "for (dirpath, dirnames, filenames) in walk('data/harbour_codes_coords'):\n",
    "    f.extend(filenames)\n",
    "    break"
   ],
   "metadata": {
    "collapsed": false,
    "pycharm": {
     "name": "#%%\n"
    }
   }
  },
  {
   "cell_type": "code",
   "execution_count": 8,
   "outputs": [],
   "source": [
    "d_type_dict = {}\n",
    "for i in range(12):\n",
    "    d_type_dict[i] = str"
   ],
   "metadata": {
    "collapsed": false,
    "pycharm": {
     "name": "#%%\n"
    }
   }
  },
  {
   "cell_type": "code",
   "execution_count": 9,
   "outputs": [
    {
     "name": "stdout",
     "output_type": "stream",
     "text": [
      "2021-2 UNLOCODE CodeListPart1.csv handled\n",
      "2021-2 UNLOCODE CodeListPart2.csv handled\n",
      "2021-2 UNLOCODE CodeListPart3.csv handled\n"
     ]
    }
   ],
   "source": [
    "\n",
    "#empty list to store data\n",
    "li = []\n",
    "\n",
    "#read everything in as object for now\n",
    "for filename in f:\n",
    "    df = pd.read_csv(\"data/harbour_codes_coords/\" + str(filename), sep=',', index_col=None, header=None,\n",
    "                     encoding=\"ISO-8859-1\", dtype = d_type_dict)\n",
    "    print(filename, 'handled')\n",
    "    li.append(df)"
   ],
   "metadata": {
    "collapsed": false,
    "pycharm": {
     "name": "#%%\n"
    }
   }
  },
  {
   "cell_type": "code",
   "execution_count": 10,
   "outputs": [],
   "source": [
    "#create df\n",
    "df_harbour_codes = pd.concat(li, axis=0, ignore_index=True)\n",
    "df_benelux = df_harbour_codes.loc[\n",
    "    (df_harbour_codes[1] == 'NL') | (df_harbour_codes[1] == 'DE') | (df_harbour_codes[1] == 'BE') | (\n",
    "                df_harbour_codes[1] == 'LU')]"
   ],
   "metadata": {
    "collapsed": false,
    "pycharm": {
     "name": "#%%\n"
    }
   }
  },
  {
   "cell_type": "code",
   "execution_count": 11,
   "outputs": [
    {
     "name": "stderr",
     "output_type": "stream",
     "text": [
      "C:\\Users\\Fabia\\AppData\\Local\\Temp\\ipykernel_23356\\2771679216.py:1: SettingWithCopyWarning: \n",
      "A value is trying to be set on a copy of a slice from a DataFrame\n",
      "\n",
      "See the caveats in the documentation: https://pandas.pydata.org/pandas-docs/stable/user_guide/indexing.html#returning-a-view-versus-a-copy\n",
      "  df_benelux.fillna(np.nan, inplace=True)\n"
     ]
    }
   ],
   "source": [
    "df_benelux.fillna(np.nan, inplace=True)"
   ],
   "metadata": {
    "collapsed": false,
    "pycharm": {
     "name": "#%%\n"
    }
   }
  },
  {
   "cell_type": "code",
   "execution_count": 12,
   "outputs": [
    {
     "name": "stderr",
     "output_type": "stream",
     "text": [
      "C:\\Users\\Fabia\\AppData\\Local\\Temp\\ipykernel_23356\\2598630862.py:3: SettingWithCopyWarning: \n",
      "A value is trying to be set on a copy of a slice from a DataFrame\n",
      "\n",
      "See the caveats in the documentation: https://pandas.pydata.org/pandas-docs/stable/user_guide/indexing.html#returning-a-view-versus-a-copy\n",
      "  df_benelux.rename(columns={0: 'mutation', 1: 'country', 2: 'city_abbr', 3: 'city_full', 4: 'city_full_2', 5: 'subdivision', 6: 'function', 7:'status', 8:'date', 9:'iata_code', 10: 'coords', 11: 'comments'}, inplace=True)\n"
     ]
    }
   ],
   "source": [
    "# fix layout and column names\n",
    "# now drop empty columns\n",
    "df_benelux.rename(columns={0: 'mutation', 1: 'country', 2: 'city_abbr', 3: 'city_full', 4: 'city_full_2', 5: 'subdivision', 6: 'function', 7:'status', 8:'date', 9:'iata_code', 10: 'coords', 11: 'comments'}, inplace=True)"
   ],
   "metadata": {
    "collapsed": false,
    "pycharm": {
     "name": "#%%\n"
    }
   }
  },
  {
   "cell_type": "code",
   "execution_count": 13,
   "outputs": [
    {
     "data": {
      "text/plain": "      mutation country city_abbr    city_full  city_full_2 subdivision  \\\n5129       NaN      BE       NaN     .BELGIUM          NaN         NaN   \n5130       NaN      BE       ALB      Aalbeke      Aalbeke         VWV   \n5131       NaN      BE       AAB        Aalst        Aalst         VOV   \n5132       NaN      BE       AAL       Aalter       Aalter         VOV   \n5133       NaN      BE       AAS     Aarschot     Aarschot         VBR   \n...        ...     ...       ...          ...          ...         ...   \n80512      NaN      NL       ZWS   Zwartsluis   Zwartsluis         NaN   \n80513      NaN      NL       ZGE    Zwiggelte    Zwiggelte          DR   \n80514      NaN      NL       ZWI  Zwijndrecht  Zwijndrecht         NaN   \n80515      NaN      NL       ZWN    Zwinderen    Zwinderen          DR   \n80516      NaN      NL       ZWO       Zwolle       Zwolle         NaN   \n\n       function status  date iata_code        coords comments  \n5129        NaN    NaN   NaN       NaN           NaN      NaN  \n5130   -----6--     RL  0601       NaN  5046N 00313E      NaN  \n5131   1-3-----     RN  0307       NaN  5056N 00402E      NaN  \n5132   1-3-----     RN  0307       NaN  5105N 00327E      NaN  \n5133   --3-----     RN  0307       NaN  5059N 00450E      NaN  \n...         ...    ...   ...       ...           ...      ...  \n80512  1-3-----     RL  9811       NaN           NaN      NaN  \n80513  --3-----     RL  0407       NaN  5252N 00635E      NaN  \n80514  123-----     AF  9602       NaN           NaN      NaN  \n80515  1-3-----     RN  0501       NaN  5244N 00641E      NaN  \n80516  -23-----     AF  9602       NaN           NaN      NaN  \n\n[13862 rows x 12 columns]",
      "text/html": "<div>\n<style scoped>\n    .dataframe tbody tr th:only-of-type {\n        vertical-align: middle;\n    }\n\n    .dataframe tbody tr th {\n        vertical-align: top;\n    }\n\n    .dataframe thead th {\n        text-align: right;\n    }\n</style>\n<table border=\"1\" class=\"dataframe\">\n  <thead>\n    <tr style=\"text-align: right;\">\n      <th></th>\n      <th>mutation</th>\n      <th>country</th>\n      <th>city_abbr</th>\n      <th>city_full</th>\n      <th>city_full_2</th>\n      <th>subdivision</th>\n      <th>function</th>\n      <th>status</th>\n      <th>date</th>\n      <th>iata_code</th>\n      <th>coords</th>\n      <th>comments</th>\n    </tr>\n  </thead>\n  <tbody>\n    <tr>\n      <th>5129</th>\n      <td>NaN</td>\n      <td>BE</td>\n      <td>NaN</td>\n      <td>.BELGIUM</td>\n      <td>NaN</td>\n      <td>NaN</td>\n      <td>NaN</td>\n      <td>NaN</td>\n      <td>NaN</td>\n      <td>NaN</td>\n      <td>NaN</td>\n      <td>NaN</td>\n    </tr>\n    <tr>\n      <th>5130</th>\n      <td>NaN</td>\n      <td>BE</td>\n      <td>ALB</td>\n      <td>Aalbeke</td>\n      <td>Aalbeke</td>\n      <td>VWV</td>\n      <td>-----6--</td>\n      <td>RL</td>\n      <td>0601</td>\n      <td>NaN</td>\n      <td>5046N 00313E</td>\n      <td>NaN</td>\n    </tr>\n    <tr>\n      <th>5131</th>\n      <td>NaN</td>\n      <td>BE</td>\n      <td>AAB</td>\n      <td>Aalst</td>\n      <td>Aalst</td>\n      <td>VOV</td>\n      <td>1-3-----</td>\n      <td>RN</td>\n      <td>0307</td>\n      <td>NaN</td>\n      <td>5056N 00402E</td>\n      <td>NaN</td>\n    </tr>\n    <tr>\n      <th>5132</th>\n      <td>NaN</td>\n      <td>BE</td>\n      <td>AAL</td>\n      <td>Aalter</td>\n      <td>Aalter</td>\n      <td>VOV</td>\n      <td>1-3-----</td>\n      <td>RN</td>\n      <td>0307</td>\n      <td>NaN</td>\n      <td>5105N 00327E</td>\n      <td>NaN</td>\n    </tr>\n    <tr>\n      <th>5133</th>\n      <td>NaN</td>\n      <td>BE</td>\n      <td>AAS</td>\n      <td>Aarschot</td>\n      <td>Aarschot</td>\n      <td>VBR</td>\n      <td>--3-----</td>\n      <td>RN</td>\n      <td>0307</td>\n      <td>NaN</td>\n      <td>5059N 00450E</td>\n      <td>NaN</td>\n    </tr>\n    <tr>\n      <th>...</th>\n      <td>...</td>\n      <td>...</td>\n      <td>...</td>\n      <td>...</td>\n      <td>...</td>\n      <td>...</td>\n      <td>...</td>\n      <td>...</td>\n      <td>...</td>\n      <td>...</td>\n      <td>...</td>\n      <td>...</td>\n    </tr>\n    <tr>\n      <th>80512</th>\n      <td>NaN</td>\n      <td>NL</td>\n      <td>ZWS</td>\n      <td>Zwartsluis</td>\n      <td>Zwartsluis</td>\n      <td>NaN</td>\n      <td>1-3-----</td>\n      <td>RL</td>\n      <td>9811</td>\n      <td>NaN</td>\n      <td>NaN</td>\n      <td>NaN</td>\n    </tr>\n    <tr>\n      <th>80513</th>\n      <td>NaN</td>\n      <td>NL</td>\n      <td>ZGE</td>\n      <td>Zwiggelte</td>\n      <td>Zwiggelte</td>\n      <td>DR</td>\n      <td>--3-----</td>\n      <td>RL</td>\n      <td>0407</td>\n      <td>NaN</td>\n      <td>5252N 00635E</td>\n      <td>NaN</td>\n    </tr>\n    <tr>\n      <th>80514</th>\n      <td>NaN</td>\n      <td>NL</td>\n      <td>ZWI</td>\n      <td>Zwijndrecht</td>\n      <td>Zwijndrecht</td>\n      <td>NaN</td>\n      <td>123-----</td>\n      <td>AF</td>\n      <td>9602</td>\n      <td>NaN</td>\n      <td>NaN</td>\n      <td>NaN</td>\n    </tr>\n    <tr>\n      <th>80515</th>\n      <td>NaN</td>\n      <td>NL</td>\n      <td>ZWN</td>\n      <td>Zwinderen</td>\n      <td>Zwinderen</td>\n      <td>DR</td>\n      <td>1-3-----</td>\n      <td>RN</td>\n      <td>0501</td>\n      <td>NaN</td>\n      <td>5244N 00641E</td>\n      <td>NaN</td>\n    </tr>\n    <tr>\n      <th>80516</th>\n      <td>NaN</td>\n      <td>NL</td>\n      <td>ZWO</td>\n      <td>Zwolle</td>\n      <td>Zwolle</td>\n      <td>NaN</td>\n      <td>-23-----</td>\n      <td>AF</td>\n      <td>9602</td>\n      <td>NaN</td>\n      <td>NaN</td>\n      <td>NaN</td>\n    </tr>\n  </tbody>\n</table>\n<p>13862 rows × 12 columns</p>\n</div>"
     },
     "execution_count": 13,
     "metadata": {},
     "output_type": "execute_result"
    }
   ],
   "source": [
    "df_benelux"
   ],
   "metadata": {
    "collapsed": false,
    "pycharm": {
     "name": "#%%\n"
    }
   }
  },
  {
   "cell_type": "code",
   "execution_count": 14,
   "outputs": [],
   "source": [
    "df_benelux = df_benelux.loc[:,['country','city_abbr','function', 'coords']]"
   ],
   "metadata": {
    "collapsed": false,
    "pycharm": {
     "name": "#%%\n"
    }
   }
  },
  {
   "cell_type": "code",
   "execution_count": 15,
   "outputs": [],
   "source": [
    "# df_benelux.country = df_benelux.country.to_string()\n",
    "# df_benelux.city_abbr = df_benelux.city_abbr.to_string()\n",
    "# df_benelux.function = df_benelux.function.to_string()\n",
    "# df_benelux.coords = df_benelux.coords.to_string()"
   ],
   "metadata": {
    "collapsed": false,
    "pycharm": {
     "name": "#%%\n"
    }
   }
  },
  {
   "cell_type": "code",
   "execution_count": 16,
   "outputs": [
    {
     "data": {
      "text/plain": "      country city_abbr  function        coords\n5129       BE       NaN       NaN           NaN\n5130       BE       ALB  -----6--  5046N 00313E\n5131       BE       AAB  1-3-----  5056N 00402E\n5132       BE       AAL  1-3-----  5105N 00327E\n5133       BE       AAS  --3-----  5059N 00450E\n...       ...       ...       ...           ...\n80512      NL       ZWS  1-3-----           NaN\n80513      NL       ZGE  --3-----  5252N 00635E\n80514      NL       ZWI  123-----           NaN\n80515      NL       ZWN  1-3-----  5244N 00641E\n80516      NL       ZWO  -23-----           NaN\n\n[13862 rows x 4 columns]",
      "text/html": "<div>\n<style scoped>\n    .dataframe tbody tr th:only-of-type {\n        vertical-align: middle;\n    }\n\n    .dataframe tbody tr th {\n        vertical-align: top;\n    }\n\n    .dataframe thead th {\n        text-align: right;\n    }\n</style>\n<table border=\"1\" class=\"dataframe\">\n  <thead>\n    <tr style=\"text-align: right;\">\n      <th></th>\n      <th>country</th>\n      <th>city_abbr</th>\n      <th>function</th>\n      <th>coords</th>\n    </tr>\n  </thead>\n  <tbody>\n    <tr>\n      <th>5129</th>\n      <td>BE</td>\n      <td>NaN</td>\n      <td>NaN</td>\n      <td>NaN</td>\n    </tr>\n    <tr>\n      <th>5130</th>\n      <td>BE</td>\n      <td>ALB</td>\n      <td>-----6--</td>\n      <td>5046N 00313E</td>\n    </tr>\n    <tr>\n      <th>5131</th>\n      <td>BE</td>\n      <td>AAB</td>\n      <td>1-3-----</td>\n      <td>5056N 00402E</td>\n    </tr>\n    <tr>\n      <th>5132</th>\n      <td>BE</td>\n      <td>AAL</td>\n      <td>1-3-----</td>\n      <td>5105N 00327E</td>\n    </tr>\n    <tr>\n      <th>5133</th>\n      <td>BE</td>\n      <td>AAS</td>\n      <td>--3-----</td>\n      <td>5059N 00450E</td>\n    </tr>\n    <tr>\n      <th>...</th>\n      <td>...</td>\n      <td>...</td>\n      <td>...</td>\n      <td>...</td>\n    </tr>\n    <tr>\n      <th>80512</th>\n      <td>NL</td>\n      <td>ZWS</td>\n      <td>1-3-----</td>\n      <td>NaN</td>\n    </tr>\n    <tr>\n      <th>80513</th>\n      <td>NL</td>\n      <td>ZGE</td>\n      <td>--3-----</td>\n      <td>5252N 00635E</td>\n    </tr>\n    <tr>\n      <th>80514</th>\n      <td>NL</td>\n      <td>ZWI</td>\n      <td>123-----</td>\n      <td>NaN</td>\n    </tr>\n    <tr>\n      <th>80515</th>\n      <td>NL</td>\n      <td>ZWN</td>\n      <td>1-3-----</td>\n      <td>5244N 00641E</td>\n    </tr>\n    <tr>\n      <th>80516</th>\n      <td>NL</td>\n      <td>ZWO</td>\n      <td>-23-----</td>\n      <td>NaN</td>\n    </tr>\n  </tbody>\n</table>\n<p>13862 rows × 4 columns</p>\n</div>"
     },
     "execution_count": 16,
     "metadata": {},
     "output_type": "execute_result"
    }
   ],
   "source": [
    "df_benelux"
   ],
   "metadata": {
    "collapsed": false,
    "pycharm": {
     "name": "#%%\n"
    }
   }
  },
  {
   "cell_type": "code",
   "execution_count": 18,
   "outputs": [
    {
     "data": {
      "text/plain": "country      object\ncity_abbr    object\nfunction     object\ncoords       object\ndtype: object"
     },
     "execution_count": 18,
     "metadata": {},
     "output_type": "execute_result"
    }
   ],
   "source": [
    "df_benelux.dtypes"
   ],
   "metadata": {
    "collapsed": false,
    "pycharm": {
     "name": "#%%\n"
    }
   }
  },
  {
   "cell_type": "code",
   "execution_count": 17,
   "outputs": [
    {
     "ename": "ValueError",
     "evalue": "The truth value of a Series is ambiguous. Use a.empty, a.bool(), a.item(), a.any() or a.all().",
     "output_type": "error",
     "traceback": [
      "\u001B[1;31m---------------------------------------------------------------------------\u001B[0m",
      "\u001B[1;31mValueError\u001B[0m                                Traceback (most recent call last)",
      "Input \u001B[1;32mIn [17]\u001B[0m, in \u001B[0;36m<cell line: 1>\u001B[1;34m()\u001B[0m\n\u001B[1;32m----> 1\u001B[0m df_benelux\u001B[38;5;241m.\u001B[39mloc[(df_benelux\u001B[38;5;241m.\u001B[39mcountry\u001B[38;5;241m.\u001B[39mnotnull()) \u001B[38;5;129;01mand\u001B[39;00m (df_benelux\u001B[38;5;241m.\u001B[39mcity_abbr\u001B[38;5;241m.\u001B[39mnotnull())]\n",
      "File \u001B[1;32m~\\Anaconda3\\envs\\ox\\lib\\site-packages\\pandas\\core\\generic.py:1527\u001B[0m, in \u001B[0;36mNDFrame.__nonzero__\u001B[1;34m(self)\u001B[0m\n\u001B[0;32m   1525\u001B[0m \u001B[38;5;129m@final\u001B[39m\n\u001B[0;32m   1526\u001B[0m \u001B[38;5;28;01mdef\u001B[39;00m \u001B[38;5;21m__nonzero__\u001B[39m(\u001B[38;5;28mself\u001B[39m):\n\u001B[1;32m-> 1527\u001B[0m     \u001B[38;5;28;01mraise\u001B[39;00m \u001B[38;5;167;01mValueError\u001B[39;00m(\n\u001B[0;32m   1528\u001B[0m         \u001B[38;5;124mf\u001B[39m\u001B[38;5;124m\"\u001B[39m\u001B[38;5;124mThe truth value of a \u001B[39m\u001B[38;5;132;01m{\u001B[39;00m\u001B[38;5;28mtype\u001B[39m(\u001B[38;5;28mself\u001B[39m)\u001B[38;5;241m.\u001B[39m\u001B[38;5;18m__name__\u001B[39m\u001B[38;5;132;01m}\u001B[39;00m\u001B[38;5;124m is ambiguous. \u001B[39m\u001B[38;5;124m\"\u001B[39m\n\u001B[0;32m   1529\u001B[0m         \u001B[38;5;124m\"\u001B[39m\u001B[38;5;124mUse a.empty, a.bool(), a.item(), a.any() or a.all().\u001B[39m\u001B[38;5;124m\"\u001B[39m\n\u001B[0;32m   1530\u001B[0m     )\n",
      "\u001B[1;31mValueError\u001B[0m: The truth value of a Series is ambiguous. Use a.empty, a.bool(), a.item(), a.any() or a.all()."
     ]
    }
   ],
   "source": [
    "df_benelux.loc[(df_benelux.country.notnull()) and (df_benelux.city_abbr.notnull())]"
   ],
   "metadata": {
    "collapsed": false,
    "pycharm": {
     "name": "#%%\n"
    }
   }
  },
  {
   "cell_type": "code",
   "execution_count": null,
   "outputs": [],
   "source": [
    "df_benelux.dtypes"
   ],
   "metadata": {
    "collapsed": false,
    "pycharm": {
     "name": "#%%\n"
    }
   }
  },
  {
   "cell_type": "code",
   "execution_count": null,
   "outputs": [],
   "source": [],
   "metadata": {
    "collapsed": false,
    "pycharm": {
     "name": "#%%\n"
    }
   }
  }
 ],
 "metadata": {
  "kernelspec": {
   "display_name": "Python 3",
   "language": "python",
   "name": "python3"
  },
  "language_info": {
   "codemirror_mode": {
    "name": "ipython",
    "version": 2
   },
   "file_extension": ".py",
   "mimetype": "text/x-python",
   "name": "python",
   "nbconvert_exporter": "python",
   "pygments_lexer": "ipython2",
   "version": "2.7.6"
  }
 },
 "nbformat": 4,
 "nbformat_minor": 0
}