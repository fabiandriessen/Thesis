{
 "cells": [
  {
   "cell_type": "code",
   "execution_count": 1,
   "outputs": [],
   "source": [
    "import pickle\n",
    "import pandas as pd\n",
    "import numpy as np"
   ],
   "metadata": {
    "collapsed": false,
    "pycharm": {
     "name": "#%%\n"
    }
   }
  },
  {
   "cell_type": "code",
   "execution_count": 2,
   "outputs": [],
   "source": [
    "#import dataframe and drop nans\n",
    "df_2021 = pd.read_csv('data/2021/2021_combined.csv')\n",
    "#drop nans\n",
    "df_2021 = df_2021.loc[df_2021.SK_CODE.isnull() != True]"
   ],
   "metadata": {
    "collapsed": false,
    "pycharm": {
     "name": "#%%\n"
    }
   }
  },
  {
   "cell_type": "code",
   "execution_count": 3,
   "outputs": [],
   "source": [
    "# group trips by origin, destination and category\n",
    "df_t = df_2021.groupby(by=['UNLO_herkomst', 'UNLO_bestemming', 'SK_CODE']).count().reset_index().sort_values(\n",
    "    by='Jaarmaand', ascending=False).iloc[:, :4].reset_index(drop=True)"
   ],
   "metadata": {
    "collapsed": false,
    "pycharm": {
     "name": "#%%\n"
    }
   }
  },
  {
   "cell_type": "code",
   "execution_count": 4,
   "outputs": [],
   "source": [
    "# give columns english names\n",
    "df_t.rename(\n",
    "    columns={'UNLO_herkomst': 'origin', 'UNLO_bestemming': 'destination', 'SK_CODE': 'type', 'Unnamed: 0': 'trips'},\n",
    "    inplace=True)"
   ],
   "metadata": {
    "collapsed": false,
    "pycharm": {
     "name": "#%%\n"
    }
   }
  },
  {
   "cell_type": "code",
   "execution_count": 5,
   "outputs": [],
   "source": [
    "# subset inland trips\n",
    "df_t = df_t.loc[(df_t.origin.str.contains('NL')) & (df_t.destination.str.contains('NL'))]\n",
    "df_t.reset_index(inplace=True, drop=True)"
   ],
   "metadata": {
    "collapsed": false,
    "pycharm": {
     "name": "#%%\n"
    }
   }
  },
  {
   "cell_type": "code",
   "execution_count": 6,
   "outputs": [
    {
     "data": {
      "text/plain": "{('NLAMS', 'NLRTM', 'M8'): 3510,\n ('NLAMS', 'NLRTM', 'M12'): 2076,\n ('NLRTM', 'NLMOE', 'M8'): 1584,\n ('NLRTM', 'NLRTM', 'M8'): 715,\n ('NLAMS', 'NLRTM', 'M9'): 1316,\n ('NLRTM', 'NLWLK', 'M3'): 973,\n ('NLOOS', 'NLTLB', 'M8'): 688,\n ('NLRTM', 'NLAMS', 'M6'): 881,\n ('NLAER', 'NLAMS', 'BI'): 824,\n ('NLDHR', 'NLDHR', 'M0'): 411,\n ('NLTLB', 'NLRTM', 'M8'): 623,\n ('NLRTM', 'NLOOS', 'M8'): 727,\n ('NLHAR', 'NLWTE', 'M12'): 690,\n ('NLHGL', 'NLRTM', 'M8'): 652,\n ('NLRTM', 'NLVLI', 'M8'): 658,\n ('NLRTM', 'NLRTM', 'M12'): 363,\n ('NLMOE', 'NLOOS', 'M8'): 615,\n ('NLVEG', 'NLRTM', 'M6'): 575,\n ('NLAMS', 'NLRTM', 'M11'): 666,\n ('NLMOE', 'NLAPN', 'M8'): 604,\n ('NLVEG', 'NLRTM', 'M7'): 581,\n ('NLAMS', 'NLMOE', 'M8'): 588,\n ('NLRTM', 'NLMEP', 'M8'): 568,\n ('NLSTD', 'NLSTD', 'M0'): 282,\n ('NLAMS', 'NLLMR', 'BIIL-1'): 553,\n ('NLNIJ', 'NLWAS', 'M8'): 508,\n ('NLWSP', 'NLAER', 'M6'): 510,\n ('NLDOR', 'NLRTM', 'M8'): 459,\n ('NLAMS', 'NLHAS', 'M8'): 436,\n ('NLRTM', 'NLDZL', 'M8'): 415,\n ('NLRTM', 'NLTIE', 'M8'): 450,\n ('NLRTM', 'NLTLB', 'M3'): 439,\n ('NLNIJ', 'NLABL', 'M8'): 413,\n ('NLAMS', 'NLWMO', 'M2'): 451,\n ('NLTNZ', 'NLRTM', 'M8'): 438,\n ('NLRTM', 'NLVLI', 'M9'): 414,\n ('NLAMS', 'NLRTM', 'M10'): 427,\n ('NLRTM', 'NLKAM', 'M8'): 430,\n ('NLRTM', 'NLRTM', 'M6'): 212,\n ('NLAMS', 'NLKGZ', 'M2'): 416,\n ('NLWBR', 'NLRTM', 'M8'): 404,\n ('NLTNZ', 'NLVLI', 'M8'): 390,\n ('NLUTC', 'NLRTM', 'M8'): 386,\n ('NLBZM', 'NLRTM', 'M8'): 373,\n ('NLAER', 'NLAMS', 'M3'): 362,\n ('NLAER', 'NLRTM', 'M6'): 372,\n ('NLALK', 'NLIJM', 'M3'): 373,\n ('NLNKK', 'NLAMS', 'M2'): 330,\n ('NLRTM', 'NLOSS', 'M6'): 348,\n ('NLRTM', 'NLARN', 'M8'): 300,\n ('NLLEY', 'NLAMS', 'M2'): 357,\n ('NLBZM', 'NLRTM', 'M6'): 352,\n ('NLBZM', 'NLHTB', 'M8'): 359,\n ('NLRTM', 'NLNIJ', 'M8'): 358,\n ('NLZWO', 'NLAMS', 'M8'): 343,\n ('NLAMS', 'NLAMS', 'M8'): 175,\n ('NLUTC', 'NLTIE', 'M8'): 324,\n ('NLRTM', 'NLZWO', 'M8'): 321,\n ('NLMOE', 'NLIJM', 'M6'): 320,\n ('NLAER', 'NLRTM', 'M8'): 321,\n ('NLRTM', 'NLSTI', 'M8'): 326,\n ('NLMOE', 'NLRTM', 'C3b'): 324,\n ('NLFAR', 'NLRTM', 'M8'): 309,\n ('NLBON', 'NLNRW', 'M2'): 332,\n ('NLVEG', 'NLHEJ', 'M3'): 314,\n ('NLRTM', 'NLRTM', 'M10'): 164,\n ('NLGOR', 'NLRTM', 'M6'): 317,\n ('NLVLI', 'NLVLI', 'M0'): 159,\n ('NLLEY', 'NLAMS', 'M4'): 307,\n ('NLAER', 'NLLEY', 'M4'): 291,\n ('NLAMS', 'NLDEV', 'M3'): 235,\n ('NLAPN', 'NLRTM', 'M8'): 293,\n ('NLIJM', 'NLMOE', 'M8'): 253,\n ('NLTNZ', 'NLAMS', 'M8'): 264,\n ('NLLWR', 'NLRTM', 'M8'): 293,\n ('NLRTM', 'NLVLI', 'M6'): 282,\n ('NLIJM', 'NLMST', 'M8'): 170,\n ('NLHAR', 'NLAMS', 'M10'): 288,\n ('NLAMS', 'NLAER', 'M6'): 244,\n ('NLHRD', 'NLAMS', 'M6'): 266,\n ('NLRTM', 'NLMOE', 'M6'): 255,\n ('NLVLI', 'NLAMS', 'M12'): 247,\n ('NLCUY', 'NLRTM', 'M8'): 247,\n ('NLHBG', 'NLELL', 'M2'): 270,\n ('NLUTC', 'NLRTM', 'BII-1'): 272,\n ('NLRTM', 'NLHGL', 'M6'): 228,\n ('NLFOX', 'NLRTM', 'M8'): 225,\n ('NLBON', 'NLTLB', 'M2'): 271,\n ('NLRTM', 'NLDOE', 'M8'): 263,\n ('NLTNZ', 'NLTNZ', 'M8'): 133,\n ('NLTLB', 'NLMOE', 'M3'): 247,\n ('NLAPN', 'NLRTM', 'M6'): 236,\n ('NLNIJ', 'NLDRU', 'M8'): 261,\n ('NLRTM', 'NLVSN', 'M8'): 206,\n ('NLBON', 'NLHTB', 'M2'): 236,\n ('NLAMS', 'NLHLM', 'M2'): 217,\n ('NLAMS', 'NLAMS', 'M2'): 129,\n ('NLWIW', 'NLHRN', 'M5'): 236,\n ('NLBON', 'NLEIN', 'M2'): 225,\n ('NLRTM', 'NLTLB', 'M2'): 242,\n ('NLHRV', 'NLAMS', 'M8'): 194,\n ('NLRTM', 'NLSLU', 'M8'): 205,\n ('NLAMS', 'NLLMR', 'M10'): 248,\n ('NLAER', 'NLNIE', 'M6'): 224,\n ('NLAER', 'NLAMS', 'M2'): 230,\n ('NLRTM', 'NLGOR', 'M11'): 205,\n ('NLRTM', 'NLGTB', 'M8'): 221,\n ('NLOSS', 'NLHRW', 'M2'): 234,\n ('NLRTM', 'NLGRQ', 'M8'): 184,\n ('NLTLB', 'NLMOE', 'M8'): 172,\n ('NLRTM', 'NLABL', 'M8'): 223,\n ('NLRTM', 'NLKAM', 'M9'): 224,\n ('NLOSS', 'NLRTM', 'M8'): 211,\n ('NLOMD', 'NLRTM', 'M8'): 219,\n ('NLAER', 'NLNIE', 'M8'): 223,\n ('NLRTM', 'NLZWI', 'M8'): 177,\n ('NLKAM', 'NLAMS', 'M6'): 185,\n ('NLZWO', 'NLAMS', 'M2'): 172,\n ('NLAMS', 'NLUTC', 'M8'): 186,\n ('NLRTM', 'NLBON', 'M12'): 212,\n ('NLBON', 'NLVEN', 'M8'): 215,\n ('NLHEJ', 'NLKOR', 'M3'): 162,\n ('NLRTM', 'NLVLI', 'M11'): 200,\n ('NLKGZ', 'NLZAA', 'BIIa-1'): 211,\n ('NLRTM', 'NLAPN', 'M4'): 155,\n ('NLRTM', 'NLAMS', 'C3l'): 152,\n ('NLAER', 'NLSWI', 'M3'): 191,\n ('NLNIJ', 'NLABL', 'M9'): 195,\n ('NLRTM', 'NLLID', 'M3'): 189,\n ('NLAMS', 'NLHGL', 'M7'): 204,\n ('NLFAR', 'NLBOT', 'M8'): 154,\n ('NLNIJ', 'NLWAS', 'M9'): 203,\n ('NLAMS', 'NLVAN', 'M2'): 203,\n ('NLDOR', 'NLLSH', 'M2'): 147,\n ('NLAMS', 'NLAER', 'M4'): 197,\n ('NLHAR', 'NLHKK', 'M4'): 171,\n ('NLEES', 'NLAMS', 'M4'): 202,\n ('NLMOE', 'NLTNZ', 'M8'): 144,\n ('NLAMS', 'NLDRA', 'BII-1'): 157,\n ('NLALM', 'NLHGL', 'M8'): 114,\n ('NLRTM', 'NLDON', 'M3'): 196,\n ('NLRTM', 'NLVEN', 'M9'): 125,\n ('NLBON', 'NLSTI', 'BIIa-1'): 132,\n ('NLAMS', 'NLHEJ', 'M2'): 185,\n ('NLMAA', 'NLNRW', 'M2'): 181,\n ('NLRTM', 'NLGOR', 'M12'): 188,\n ('NLRTM', 'NLKAZ', 'M3'): 150,\n ('NLDRO', 'NLKAM', 'M4'): 190,\n ('NLHEJ', 'NLDVT', 'M2'): 192,\n ('NLAMS', 'NLTIE', 'M4'): 167,\n ('NLAMS', 'NLDEV', 'M4'): 161,\n ('NLRTM', 'NLVEN', 'C3l'): 151,\n ('NLRTM', 'NLVLI', 'M12'): 190,\n ('NLHGL', 'NLAMS', 'M6'): 178,\n ('NLABL', 'NLRTM', 'M9'): 183,\n ('NLEEM', 'NLRTM', 'M8'): 130,\n ('NLBON', 'NLRTM', 'M6'): 114,\n ('NLRTM', 'NLRTM', 'M9'): 92,\n ('NLTNZ', 'NLBRS', 'M8'): 159,\n ('NLHLM', 'NLRTM', 'M2'): 172,\n ('NLBON', 'NLWSM', 'BII-1'): 164,\n ('NLDOR', 'NLRTM', 'M6'): 175,\n ('NLOMD', 'NLWAS', 'M8'): 171,\n ('NLDOR', 'NLAMS', 'M8'): 173,\n ('NLTNZ', 'NLTNZ', 'M0'): 90,\n ('NLHTB', 'NLRTM', 'M8'): 144,\n ('NLSWI', 'NLWSP', 'M6'): 164,\n ('NLRTM', 'NLAPN', 'M3'): 168,\n ('NLHEJ', 'NLAAL', 'M3'): 166,\n ('NLRTM', 'NLIJM', 'M8'): 164,\n ('NLAMS', 'NLWIW', 'M8'): 169,\n ('NLRTM', 'NLBNB', 'M8'): 117,\n ('NLLEY', 'NLAMS', 'M6'): 148,\n ('NLAMS', 'NLVLI', 'M8'): 173,\n ('NLKAM', 'NLAMS', 'M5'): 168,\n ('NLIJM', 'NLRTM', 'M2'): 116,\n ('NLEEM', 'NLFAR', 'M8'): 172,\n ('NLKGZ', 'NLAMS', 'M3'): 172,\n ('NLWSP', 'NLAER', 'M8'): 172,\n ('NLLEY', 'NLSWI', 'M3'): 171,\n ('NLHRW', 'NLTEA', 'M3'): 162,\n ('NLMOE', 'NLBRD', 'M6'): 150,\n ('NLPER', 'NLFOX', 'M8'): 138,\n ('NLTLB', 'NLZBG', 'M3'): 167,\n ('NLTNZ', 'NLTNZ', 'BII-1'): 85,\n ('NLBNB', 'NLHGL', 'M8'): 115,\n ('NLAMS', 'NLGRQ', 'M8'): 156,\n ('NLKAM', 'NLAMS', 'M8'): 160,\n ('NLZWO', 'NLAMS', 'M6'): 158,\n ('NLAMS', 'NLDEV', 'M6'): 155,\n ('NLVSN', 'NLRTM', 'M9'): 126,\n ('NLDFT', 'NLBON', 'M3'): 164,\n ('NLPER', 'NLVEG', 'M6'): 123,\n ('NLVEN', 'NLBON', 'M9'): 91,\n ('NLOSS', 'NLCUY', 'M8'): 142,\n ('NLNIJ', 'NLDRU', 'M6'): 156,\n ('NLMEP', 'NLZWS', 'BII-1'): 134,\n ('NLNIJ', 'NLAMS', 'M8'): 145,\n ('NLBON', 'NLMST', 'M2'): 146,\n ('NLKWR', 'NLRTM', 'M3'): 113,\n ('NLRTM', 'NLMOE', 'M9'): 144,\n ('NLLEY', 'NLLWR', 'M4'): 144,\n ('NLDRO', 'NLKAM', 'M6'): 147,\n ('NLBON', 'NLRTM', 'M9'): 103,\n ('NLRLA', 'NLRTM', 'M8'): 82,\n ('NLAMS', 'NLVLI', 'M11'): 152,\n ('NLZMM', 'NLRTM', 'M4'): 101,\n ('NLAMS', 'NLMOE', 'M6'): 142,\n ('NLDZL', 'NLFAR', 'M8'): 140,\n ('NLKAM', 'NLRTM', 'M10'): 150,\n ('NLGNM', 'NLAMS', 'M6'): 134,\n ('NLBON', 'NLNIJ', 'M5'): 151,\n ('NLVLI', 'NLRTM', 'M10'): 140,\n ('NLMOE', 'NLTNZ', 'BII-1'): 134,\n ('NLAMS', 'NLAER', 'M8'): 132,\n ('NLRTM', 'NLWRV', 'M6'): 140,\n ('NLAMS', 'NLDST', 'BIIa-1'): 146,\n ('NLSWI', 'NLNKK', 'M3'): 134,\n ('NLHRW', 'NLVEG', 'M2'): 144,\n ('NLAMS', 'NLRTM', 'BII-2b'): 132,\n ('NLHAR', 'NLDRA', 'M2'): 134,\n ('NLHAR', 'NLLWR', 'M2'): 128,\n ('NLBON', 'NLVEG', 'M3'): 147,\n ('NLHEJ', 'NLEML', 'M2'): 133,\n ('NLRTM', 'NLGTB', 'M6'): 120,\n ('NLBRS', 'NLTNZ', 'M6'): 144,\n ('NLMAA', 'NLCUY', 'BI'): 134,\n ('NLBOT', 'NLAMS', 'M8'): 144,\n ('NLAER', 'NLRTM', 'M10'): 137,\n ('NLVEG', 'NLAMS', 'M2'): 125,\n ('NLPER', 'NLAMS', 'M8'): 127,\n ('NLLEY', 'NLAMS', 'M8'): 131,\n ('NLWSM', 'NLLIN', 'BI'): 130,\n ('NLHEJ', 'NLHIL', 'M3'): 116,\n ('NLRTM', 'NLQDG', 'M3'): 137,\n ('NLEEM', 'NLALM', 'M8'): 72,\n ('NLAMS', 'NLARK', 'M4'): 124,\n ('NLRTM', 'NLZMM', 'M2'): 126,\n ('NLHTB', 'NLABL', 'M8'): 114,\n ('NLAMS', 'NLVEG', 'BI'): 122,\n ('NLDTK', 'NLSCH', 'M4'): 130,\n ('NLTNZ', 'NLMST', 'M8'): 137,\n ('NLBON', 'NLKSL', 'BII-1'): 131,\n ('NLSTI', 'NLAMS', 'M8'): 113,\n ('NLDST', 'NLHTB', 'M3'): 128,\n ('NLOOS', 'NLPER', 'M8'): 71,\n ('NLAER', 'NLSWI', 'M4'): 118,\n ('NLAMS', 'NLEIN', 'M3'): 133,\n ('NLGRQ', 'NLHAR', 'M4'): 99,\n ('NLTNZ', 'NLVLI', 'M6'): 129,\n ('NLAMS', 'NLAMS', 'M12'): 68,\n ('NLAPN', 'NLKWZ', 'M6'): 99,\n ('NLAMS', 'NLDEV', 'M2'): 133,\n ('NLVLA', 'NLSLU', 'M10'): 79,\n ('NLHAR', 'NLKAM', 'M6'): 92,\n ('NLAMS', 'NLOMD', 'M8'): 123,\n ('NLTNZ', 'NLTNZ', 'M6'): 66,\n ('NLHEJ', 'NLDUS', 'M3'): 100,\n ('NLHAR', 'NLDRA', 'M4'): 116,\n ('NLLOM', 'NLHAG', 'M3'): 104,\n ('NLHAN', 'NLBRS', 'M8'): 109,\n ('NLRTM', 'NLOSS', 'M7'): 115,\n ('NLRTM', 'NLRTM', 'M11'): 65,\n ('NLBON', 'NLAER', 'M2'): 101,\n ('NLRTM', 'NLAMS', 'M5'): 86,\n ('NLIJM', 'NLHAR', 'M8'): 115,\n ('NLDHR', 'NLRTM', 'M8'): 102,\n ('NLMEP', 'NLAMS', 'M8'): 95,\n ('NLHEJ', 'NLAME', 'M3'): 114,\n ('NLDST', 'NLOSS', 'M2'): 121,\n ('NLRTM', 'NLGRO', 'M8'): 90,\n ('NLAMS', 'NLIJM', 'M6'): 113,\n ('NLHGL', 'NLAMS', 'M8'): 102,\n ('NLAMS', 'NLRAS', 'M4'): 106,\n ('NLVEG', 'NLRTM', 'BI'): 110,\n ('NLAMS', 'NLZWI', 'M6'): 123,\n ('NLLEY', 'NLWSP', 'M6'): 120,\n ('NLZWO', 'NLAMS', 'M3'): 92,\n ('NLSNK', 'NLLEY', 'M5'): 114,\n ('NLARK', 'NLHRW', 'M3'): 114,\n ('NLWGW', 'NLRTM', 'M8'): 108,\n ('NLBON', 'NLHAG', 'M3'): 76,\n ('NLSTI', 'NLTNZ', 'M8'): 109,\n ('NLBON', 'NLVEG', 'M2'): 95,\n ('NLRTM', 'NLOSS', 'M2'): 110,\n ('NLDOR', 'NLAMS', 'M9'): 80,\n ('NLLEY', 'NLAER', 'M3'): 103,\n ('NLVLI', 'NLSTD', 'M8'): 77,\n ('NLAMS', 'NLLEY', 'M3'): 108,\n ('NLAMS', 'NLZAA', 'M2'): 115,\n ('NLHAN', 'NLBRS', 'M6'): 91,\n ('NLMOE', 'NLSLU', 'M8'): 73,\n ('NLVLI', 'NLVLI', 'M6'): 59,\n ('NLKAM', 'NLIJM', 'M2'): 78,\n ('NLAMS', 'NLAMS', 'M6'): 58,\n ('NLEEM', 'NLALM', 'M6'): 63,\n ('NLRTM', 'NLARN', 'M12'): 98,\n ('NLRTM', 'NLNKK', 'M2'): 80,\n ('NLZWO', 'NLAMS', 'M4'): 84,\n ('NLDIN', 'NLASP', 'M3'): 59,\n ('NLDFT', 'NLALM', 'M3'): 58,\n ('NLRTM', 'NLAMS', 'BIIa-1'): 102,\n ('NLAMS', 'NLOSS', 'M2'): 92,\n ('NLAMS', 'NLHAR', 'M8'): 101,\n ('NLAER', 'NLLEY', 'M6'): 81,\n ('NLHAR', 'NLKAM', 'M4'): 87,\n ('NLAMS', 'NLDEV', 'M5'): 108,\n ('NLHRW', 'NLAER', 'M3'): 71,\n ('NLOSS', 'NLMOE', 'M6'): 69,\n ('NLRTM', 'NLGOU', 'M2'): 92,\n ('NLHAR', 'NLAMS', 'M6'): 93,\n ('NLAMS', 'NLUTC', 'M6'): 97,\n ('NLSMO', 'NLZOT', 'M3'): 97,\n ('NLLWR', 'NLWIW', 'M5'): 91,\n ('NLGTB', 'NLAMS', 'M8'): 101,\n ('NLMAA', 'NLOSS', 'M5'): 95,\n ('NLSLU', 'NLOSS', 'M8'): 57,\n ('NLRTM', 'NLKAM', 'M6'): 89,\n ('NLRTM', 'NLMOE', 'M5'): 104,\n ('NLMAA', 'NLHEJ', 'M3'): 95,\n ('NLHRV', 'NLAMS', 'M6'): 87,\n ('NLRTM', 'NLALM', 'M8'): 89,\n ('NLSTD', 'NLSTD', 'M4'): 54,\n ('NLLWR', 'NLPER', 'M8'): 95,\n ('NLPER', 'NLAMS', 'M6'): 105,\n ('NLRTM', 'NLLID', 'M2'): 94,\n ('NLAMS', 'NLVLA', 'M6'): 91,\n ('NLMOE', 'NLVLI', 'M8'): 102,\n ('NLRTM', 'NLAMS', 'BII-1'): 97,\n ('NLEEM', 'NLALM', 'M5'): 63,\n ('NLMAA', 'NLHTB', 'M2'): 103,\n ('NLSCH', 'NLWIW', 'M5'): 99,\n ('NLAMS', 'NLVLA', 'M8'): 90,\n ('NLDRA', 'NLAMS', 'BII-2L'): 58,\n ('NLHGL', 'NLDFT', 'M3'): 88,\n ('NLROO', 'NLSLU', 'M6'): 72,\n ('NLVLI', 'NLTNZ', 'M10'): 97,\n ('NLRTM', 'NLAMS', 'M7'): 100,\n ('NLHGL', 'NLWIS', 'M4'): 51,\n ('NLDOR', 'NLVLI', 'M8'): 91,\n ('NLDHR', 'NLSCH', 'M4'): 82,\n ('NLDST', 'NLAMS', 'M8'): 92,\n ('NLUTC', 'NLRTM', 'M6'): 77,\n ('NLDFT', 'NLALM', 'M4'): 50,\n ('NLPER', 'NLMEP', 'M8'): 95,\n ('NLAMS', 'NLENS', 'M8'): 64,\n ('NLAMS', 'NLZAA', 'M3'): 97,\n ('NLENK', 'NLAMS', 'M8'): 86,\n ('NLBON', 'NLAME', 'M4'): 71,\n ('NLAMS', 'NLHTB', 'M6'): 86,\n ('NLNIJ', 'NLPER', 'M8'): 90,\n ('NLRTM', 'NLZAA', 'M11'): 96,\n ('NLLEY', 'NLLEY', 'M4'): 49,\n ('NLAER', 'NLSPL', 'M3'): 90,\n ('NLLSH', 'NLBON', 'M2'): 90,\n ('NLBON', 'NLBRD', 'M4'): 90,\n ('NLTNZ', 'NLRTM', 'M6'): 89,\n ('NLLIN', 'NLWSM', 'B04'): 92,\n ('NLAMS', 'NLALM', 'M6'): 94,\n ('NLWED', 'NLRTM', 'M8'): 73,\n ('NLDOR', 'NLRTM', 'M12'): 86,\n ('NLWAS', 'NLOMD', 'M9'): 94,\n ('NLEUR', 'NLWRV', 'M6'): 89,\n ('NLRTM', 'NLTNZ', 'M12'): 66,\n ('NLEEM', 'NLUTC', 'M8'): 57,\n ('NLGNM', 'NLAMS', 'M3'): 86,\n ('NLMOE', 'NLETT', 'M6'): 94,\n ('NLHTR', 'NLNWG', 'M4'): 80,\n ('NLRTM', 'NLUTC', 'M10'): 86,\n ('NLVLL', 'NLHAR', 'M4'): 80,\n ('NLLEY', 'NLHEG', 'M4'): 79,\n ('NLAMS', 'NLZWO', 'BII-1'): 81,\n ('NLBRS', 'NLSLU', 'M8'): 93,\n ('NLHAR', 'NLHAR', 'M6'): 47,\n ('NLLWR', 'NLAMS', 'M6'): 56,\n ('NLNER', 'NLVEN', 'M8'): 93,\n ('NLZAD', 'NLZAA', 'M4'): 93,\n ('NLRTM', 'NLDOI', 'M2'): 82,\n ('NLKSL', 'NLOIH', 'M3'): 92,\n ('NLAER', 'NLAER', 'M6'): 46,\n ('NLMSB', 'NLBON', 'M2'): 56,\n ('NLENS', 'NLRTM', 'M8'): 58,\n ('NLHAR', 'NLOME', 'M4'): 82,\n ('NLMOE', 'NLLMR', 'M5'): 91,\n ('NLRTM', 'NLDOR', 'M9'): 82,\n ('NLGOE', 'NLBRS', 'M5'): 64,\n ('NLBON', 'NLRTM', 'M5'): 53,\n ('NLMAA', 'NLTLB', 'M2'): 58,\n ('NLAMS', 'NLWSP', 'M3'): 69,\n ('NLWRV', 'NLZAA', 'M4'): 87,\n ('NLAER', 'NLSWI', 'M2'): 59,\n ('NLRTM', 'NLBON', 'M8'): 66,\n ('NLAMS', 'NLAMS', 'M9'): 44,\n ('NLMEP', 'NLRTM', 'M6'): 84,\n ('NLAMS', 'NLLOB', 'M9'): 59,\n ('NLHEJ', 'NLOOS', 'M6'): 79,\n ('NLWGW', 'NLAMS', 'M8'): 83,\n ('NLNIJ', 'NLRTM', 'C3l'): 86,\n ('NLAMS', 'NLLEY', 'B04'): 72,\n ('NLAMS', 'NLWGW', 'M2'): 75,\n ('NLAMS', 'NLOSS', 'M4'): 86,\n ('NLKAM', 'NLDRO', 'M5'): 83,\n ('NLLEY', 'NLSWI', 'M2'): 79,\n ('NLEEM', 'NLLMR', 'BIIa-1'): 78,\n ('NLVEG', 'NLRTM', 'M2'): 76,\n ('NLAMS', 'NLEIN', 'M2'): 69,\n ('NLNKK', 'NLAMS', 'M5'): 73,\n ('NLHEJ', 'NLKRD', 'M3'): 75,\n ('NLRTM', 'NLVLA', 'M8'): 74,\n ('NLAMS', 'NLRAS', 'M2'): 74,\n ('NLAMS', 'NLDHR', 'M8'): 73,\n ('NLRTM', 'NLAPN', 'M2'): 84,\n ('NLRTM', 'NLNIJ', 'M11'): 75,\n ('NLRTM', 'NLAMS', 'M3'): 71,\n ('NLAER', 'NLRTM', 'BII-1'): 82,\n ('NLSLU', 'NLRTM', 'M10'): 46,\n ('NLHAR', 'NLOME', 'M6'): 77,\n ('NLDZL', 'NLBOT', 'M8'): 73,\n ('NLFAR', 'NLEEM', 'BIIa-1'): 78,\n ('NLRTM', 'NLNIJ', 'M6'): 66,\n ('NLAMS', 'NLAPN', 'M6'): 54,\n ('NLBON', 'NLARK', 'M2'): 61,\n ('NLLMR', 'NLDRA', 'BII-1'): 68,\n ('NLRTM', 'NLRTM', 'C3b'): 42,\n ('NLOME', 'NLIJM', 'M2'): 42,\n ('NLAMS', 'NLOSS', 'BII-1'): 58,\n ('NLMOE', 'NLRNK', 'M6'): 81,\n ('NLALM', 'NLAMS', 'M7'): 80,\n ('NLAMS', 'NLHBG', 'M2'): 60,\n ('NLAMS', 'NLEEM', 'M8'): 62,\n ('NLIJM', 'NLMST', 'M6'): 50,\n ('NLZWO', 'NLAMS', 'M5'): 62,\n ('NLSWI', 'NLAMS', 'M6'): 63,\n ('NLMID', 'NLBRS', 'M6'): 49,\n ('NLWSC', 'NLAMS', 'M4'): 80,\n ('NLDOR', 'NLAMS', 'M6'): 70,\n ('NLNKK', 'NLHRD', 'M4'): 73,\n ('NLBGU', 'NLIJM', 'M2'): 49,\n ('NLBRD', 'NLRTM', 'M6'): 63,\n ('NLEUR', 'NLWLK', 'M3'): 64,\n ('NLZWI', 'NLZWO', 'M2'): 42,\n ('NLBRS', 'NLZUL', 'M6'): 73,\n ('NLOMD', 'NLLSH', 'M2'): 80,\n ('NLRTM', 'NLKAM', 'M2'): 43,\n ('NLAMS', 'NLWGW', 'M3'): 77,\n ('NLBON', 'NLWLK', 'M4'): 75,\n ('NLLOM', 'NLLIT', 'M8'): 73,\n ('NLRTM', 'NLOME', 'M2'): 44,\n ('NLIJM', 'NLSCH', 'M3'): 54,\n ('NLAMS', 'NLHLM', 'M3'): 52,\n ('NLBON', 'NLRTM', 'M4'): 63,\n ('NLHAR', 'NLHAR', 'M12'): 40,\n ('NLRTM', 'NLWMO', 'M6'): 69,\n ('NLHAR', 'NLHAR', 'M3'): 40,\n ('NLSTD', 'NLBRS', 'M8'): 41,\n ('NLHAR', 'NLHAR', 'M4'): 40,\n ('NLAMS', 'NLTIE', 'M2'): 53,\n ('NLRTM', 'NLMOE', 'M12'): 70,\n ('NLOSS', 'NLAMS', 'M6'): 76,\n ('NLSJK', 'NLRTM', 'M8'): 72,\n ('NLHEJ', 'NLDUS', 'M5'): 69,\n ('NLSWI', 'NLLEY', 'M4'): 76,\n ('NLSTD', 'NLSTD', 'M6'): 39,\n ('NLSWI', 'NLNKK', 'M4'): 60,\n ('NLGNM', 'NLAMS', 'M4'): 64,\n ('NLAMS', 'NLRHD', 'M6'): 46,\n ('NLAMS', 'NLZAA', 'M6'): 72,\n ('NLAMS', 'NLVEG', 'M4'): 75,\n ('NLRTM', 'NLMST', 'M6'): 60,\n ('NLCUY', 'NLRTM', 'M6'): 67,\n ('NLIJM', 'NLMST', 'M7'): 43,\n ('NLDOI', 'NLAMS', 'M2'): 57,\n ('NLOSS', 'NLVEG', 'M6'): 60,\n ('NLIJM', 'NLTLB', 'M1'): 71,\n ('NLDRO', 'NLELB', 'M3'): 77,\n ('NLAMS', 'NLBON', 'BII-2L'): 45,\n ('NLAKR', 'NLHAR', 'M4'): 75,\n ('NLMEP', 'NLAMS', 'M4'): 57,\n ('NLOBO', 'NLMST', 'M6'): 73,\n ('NLMLR', 'NLRTM', 'M6'): 68,\n ('NLAMS', 'NLNKK', 'B03'): 69,\n ('NLHTB', 'NLBON', 'M3'): 65,\n ('NLHGL', 'NLDFT', 'M4'): 76,\n ('NLKSL', 'NLLIN', 'B04'): 72,\n ('NLPHL', 'NLBON', 'M2'): 40,\n ('NLMAA', 'NLOOS', 'M6'): 72,\n ('NLAMS', 'NLRTM', 'BIIL-1'): 69,\n ('NLEUR', 'NLHAR', 'M8'): 70,\n ('NLMST', 'NLSDB', 'M5'): 74,\n ('NLTIE', 'NLWSP', 'M2'): 73,\n ('NLLEY', 'NLRTM', 'M6'): 63,\n ('NLBON', 'NLHAG', 'M2'): 61,\n ('NLWGW', 'NLRTM', 'M3'): 76,\n ('NLMOE', 'NLAPN', 'M6'): 59,\n ('NLPNN', 'NLRTM', 'M6'): 60,\n ('NLVLI', 'NLVLI', 'M8'): 37,\n ('NLVEN', 'NLVLI', 'M6'): 37,\n ('NLMEP', 'NLWTZ', 'M8'): 63,\n ('NLTNZ', 'NLTNZ', 'M10'): 37,\n ('NLOSS', 'NLRTM', 'M4'): 60,\n ('NLHRW', 'NLTLB', 'M2'): 71,\n ('NLALK', 'NLIJM', 'M2'): 66,\n ('NLFAR', 'NLFAR', 'M8'): 37,\n ('NLAER', 'NLSPL', 'M4'): 66,\n ('NLDST', 'NLARK', 'M3'): 69,\n ('NLAMS', 'NLFAR', 'M6'): 73,\n ('NLMIH', 'NLBRS', 'M6'): 53,\n ('NLDZL', 'NLRTM', 'M6'): 69,\n ('NLCOE', 'NLDST', 'M1'): 71,\n ('NLPER', 'NLPER', 'M6'): 36,\n ('NLVLI', 'NLHAN', 'M9'): 56,\n ('NLVLI', 'NLVLI', 'M9'): 36,\n ('NLVEG', 'NLEPL', 'BI'): 70,\n ('NLRTM', 'NLDEV', 'M3'): 61,\n ('NLEEM', 'NLALM', 'M7'): 41,\n ('NLHTB', 'NLRTM', 'M6'): 62,\n ('NLHFN', 'NLHRW', 'M8'): 46,\n ('NLRTM', 'NLAMS', 'M4'): 65,\n ('NLRTM', 'NLDRU', 'M8'): 42,\n ('NLTIE', 'NLAMS', 'M6'): 70,\n ('NLTIE', 'NLRTM', 'M6'): 65,\n ('NLIJM', 'NLRTM', 'M9'): 52,\n ('NLAMS', 'NLVLI', 'M9'): 70,\n ('NLDEV', 'NLRTM', 'M6'): 68,\n ('NLTNZ', 'NLHAN', 'M8'): 50,\n ('NLHLM', 'NLRTM', 'M3'): 54,\n ('NLDRA', 'NLIJM', 'M2'): 71,\n ('NLBON', 'NLBZM', 'M6'): 43,\n ('NLAMS', 'NLGNM', 'M2'): 72,\n ('NLHAR', 'NLHAR', 'M2'): 36,\n ('NLDST', 'NLAPN', 'M4'): 54,\n ('NLFOX', 'NLVDM', 'M6'): 61,\n ('NLTNZ', 'NLBRS', 'M3'): 51,\n ('NLELB', 'NLKAM', 'M3'): 63,\n ('NLALK', 'NLAMS', 'M4'): 62,\n ('NLMEP', 'NLMEP', 'BII-1'): 36,\n ('NLBRD', 'NLRTM', 'M4'): 69,\n ('NLALM', 'NLHGL', 'M5'): 35,\n ('NLRTM', 'NLNIJ', 'M9'): 64,\n ('NLRTM', 'NLAMS', 'M2'): 63,\n ('NLGRQ', 'NLDFT', 'M2'): 56,\n ('NLLWR', 'NLHAR', 'M4'): 58,\n ('NLMEP', 'NLAMS', 'M6'): 48,\n ('NLWGW', 'NLRTM', 'M2'): 69,\n ('NLSJK', 'NLBIW', 'M8'): 58,\n ('NLUTC', 'NLLEY', 'M8'): 66,\n ('NLDOR', 'NLAMS', 'M10'): 63,\n ('NLTIE', 'NLDIM', 'M3'): 50,\n ('NLGRA', 'NLRTM', 'M8'): 41,\n ('NLVLL', 'NLZOT', 'M3'): 51,\n ('NLAMS', 'NLWGW', 'M6'): 67,\n ('NLSWI', 'NLBAA', 'M3'): 61,\n ('NLARN', 'NLHEJ', 'M8'): 36,\n ('NLBON', 'NLOSS', 'M2'): 43,\n ('NLWGW', 'NLAMS', 'M4'): 60,\n ('NLMSB', 'NLAMS', 'M3'): 65,\n ('NLLOM', 'NLHAG', 'M4'): 44,\n ('NLTNZ', 'NLVLI', 'M0'): 65,\n ('NLLEY', 'NLLEY', 'M2'): 34,\n ('NLVLL', 'NLHAR', 'M3'): 62,\n ('NLAME', 'NLIJM', 'M2'): 64,\n ('NLAMS', 'NLZAA', 'B04'): 61,\n ('NLOSS', 'NLRTM', 'M5'): 49,\n ('NLBRD', 'NLBRS', 'M6'): 49,\n ('NLWGW', 'NLRTM', 'M6'): 58,\n ('NLVLI', 'NLRTM', 'M5'): 54,\n ('NLCUY', 'NLRTM', 'M7'): 54,\n ('NLLWR', 'NLRTM', 'M6'): 52,\n ('NLRTM', 'NLGNM', 'M3'): 52,\n ('NLRTM', 'NLMSB', 'M6'): 49,\n ('NLWLK', 'NLAMS', 'M5'): 62,\n ('NLMOE', 'NLBON', 'M8'): 35,\n ('NLBZM', 'NLBRS', 'M6'): 52,\n ('NLDST', 'NLAER', 'M3'): 49,\n ('NLZWS', 'NLAMS', 'BII-2L'): 37,\n ('NLAMS', 'NLDIN', 'M3'): 36,\n ('NLHEJ', 'NLOOS', 'M5'): 45,\n ('NLTNZ', 'NLBRS', 'M5'): 47,\n ('NLBON', 'NLENS', 'M7'): 33,\n ('NLLEY', 'NLGRQ', 'M5'): 54,\n ('NLHTR', 'NLNWG', 'M5'): 59,\n ('NLVLI', 'NLVLA', 'M8'): 60,\n ('NLDOR', 'NLVLI', 'M9'): 57,\n ('NLEEM', 'NLMOE', 'M6'): 32,\n ('NLRTM', 'NLDEV', 'M5'): 61,\n ('NLAMS', 'NLDST', 'M6'): 64,\n ('NLTNZ', 'NLTNZ', 'BI'): 32,\n ('NLNIJ', 'NLRTM', 'BIIa-1'): 49,\n ('NLURK', 'NLZEW', 'M2'): 51,\n ('NLLCH', 'NLAMS', 'M6'): 52,\n ('NLLOM', 'NLKRD', 'M3'): 62,\n ('NLVEN', 'NLNER', 'M6'): 64,\n ('NLEEM', 'NLDZL', 'M2'): 62,\n ('NLMOE', 'NLRTM', 'M3'): 49,\n ('NLWIW', 'NLFRK', 'M5'): 59,\n ('NLRTM', 'NLRTM', 'M3'): 32,\n ('NLRTM', 'NLIJM', 'M6'): 54,\n ('NLEES', 'NLMEP', 'M4'): 51,\n ('NLOSS', 'NLIJM', 'M2'): 33,\n ('NLAMS', 'NLHEJ', 'M4'): 57,\n ('NLELB', 'NLHRD', 'M3'): 32,\n ('NLSLU', 'NLVEG', 'M3'): 42,\n ('NLPER', 'NLWLK', 'M3'): 45,\n ('NLSWI', 'NLLEY', 'M6'): 56,\n ('NLHGL', 'NLWIS', 'M3'): 32,\n ('NLZMM', 'NLRTM', 'M3'): 50,\n ('NLEES', 'NLZWO', 'M4'): 54,\n ('NLRTM', 'NLAMS', 'BII-2L'): 39,\n ('NLDOE', 'NLNIJ', 'M8'): 56,\n ('NLDFT', 'NLDST', 'M3'): 32,\n ('NLALM', 'NLRTM', 'M7'): 56,\n ('NLALK', 'NLAMS', 'M3'): 49,\n ('NLPER', 'NLMOE', 'M6'): 61,\n ('NLAMS', 'NLDZL', 'M8'): 50,\n ('NLBUD', 'NLAMS', 'M2'): 54,\n ('NLBEM', 'NLTIE', 'M4'): 56,\n ('NLAMS', 'NLVLI', 'M6'): 63,\n ('NLMSB', 'NLBON', 'BII-1'): 35,\n ('NLSWI', 'NLHRD', 'M3'): 50,\n ('NLAMS', 'NLMEP', 'B03'): 58,\n ('NLOSS', 'NLRTM', 'BII-1'): 49,\n ('NLLAN', 'NLDZL', 'M2'): 53,\n ('NLOSS', 'NLRTM', 'BII-2L'): 40,\n ('NLWSP', 'NLLEY', 'M8'): 43,\n ('NLARK', 'NLBON', 'M3'): 54,\n ('NLIJM', 'NLSCH', 'M4'): 46,\n ('NLAMS', 'NLOME', 'M8'): 56,\n ('NLAMS', 'NLLCH', 'M2'): 59,\n ('NLMOE', 'NLDOR', 'M8'): 55,\n ('NLHAR', 'NLSLU', 'M5'): 33,\n ('NLBON', 'NLZOU', 'M4'): 57,\n ('NLKAM', 'NLKAM', 'M4'): 31,\n ('NLRTM', 'NLZWI', 'M6'): 51,\n ('NLHAR', 'NLHAR', 'M0'): 31,\n ('NLBON', 'NLOOS', 'M7'): 35,\n ('NLALM', 'NLHGL', 'M6'): 31,\n ('NLLOB', 'NLZLB', 'M9'): 49,\n ('NLGRQ', 'NLEEM', 'M5'): 36,\n ('NLWIW', 'NLSCH', 'M4'): 61,\n ('NLLMR', 'NLFAR', 'BIIa-1'): 56,\n ('NLSLU', 'NLVLA', 'M8'): 43,\n ('NLVEN', 'NLRTM', 'C3b'): 31,\n ('NLQDG', 'NLRTM', 'M2'): 61,\n ('NLDIN', 'NLDFT', 'M2'): 55,\n ('NLBON', 'NLRTM', 'M3'): 45,\n ('NLHRW', 'NLARK', 'M2'): 53,\n ('NLALM', 'NLHGL', 'M7'): 31,\n ('NLBEM', 'NLAAL', 'M3'): 54,\n ('NLLOM', 'NLARK', 'M3'): 43,\n ('NLVEG', 'NLRTM', 'M5'): 37,\n ('NLAPN', 'NLHEJ', 'M3'): 54,\n ('NLBON', 'NLZOU', 'M5'): 52,\n ('NLRTM', 'NLDEV', 'M4'): 47,\n ('NLAMS', 'NLOSS', 'M3'): 56,\n ('NLUTC', 'NLTIE', 'M6'): 44,\n ('NLTLB', 'NLPHL', 'M2'): 31,\n ('NLLEY', 'NLAMS', 'BII-2b'): 56,\n ('NLRTM', 'NLARN', 'M9'): 46,\n ('NLOOS', 'NLDST', 'M6'): 57,\n ('NLDIN', 'NLMOE', 'M0'): 59,\n ('NLZWS', 'NLAMS', 'M3'): 36,\n ('NLAMS', 'NLDEL', 'M6'): 52,\n ('NLRTM', 'NLGOR', 'M8'): 55,\n ('NLNER', 'NLVEN', 'BII-1'): 57,\n ('NLSWI', 'NLUIT', 'M2'): 44,\n ('NLBON', 'NLDEV', 'M6'): 36,\n ('NLHTR', 'NLNWG', 'M6'): 45,\n ('NLFAR', 'NLWTZ', 'M8'): 37,\n ('NLDIN', 'NLWED', 'M2'): 54,\n ('NLAMS', 'NLNIJ', 'M6'): 47,\n ('NLLOM', 'NLRTM', 'M4'): 45,\n ('NLAMS', 'NLNWG', 'M8'): 44,\n ('NLAMS', 'NLMAA', 'M2'): 45,\n ('NLVEG', 'NLAMS', 'M6'): 33,\n ('NLVEN', 'NLRTM', 'M8'): 55,\n ('NLVLI', 'NLABL', 'M11'): 34,\n ('NLRTM', 'NLVLA', 'M6'): 45,\n ('NLTIE', 'NLDIM', 'M2'): 36,\n ('NLDZL', 'NLDZL', 'M8'): 29,\n ('NLVLL', 'NLKWZ', 'M6'): 30,\n ('NLDST', 'NLAMS', 'M4'): 47,\n ('NLAMS', 'NLMEP', 'BII-1'): 56,\n ('NLDST', 'NLAER', 'M2'): 44,\n ('NLSNK', 'NLAMS', 'M2'): 42,\n ('NLALM', 'NLAMS', 'M8'): 51,\n ('NLBON', 'NLOSS', 'M6'): 43,\n ('NLDOR', 'NLLSH', 'M3'): 36,\n ('NLENS', 'NLHGL', 'M7'): 29,\n ('NLRTM', 'NLMOE', 'M10'): 56,\n ('NLIJM', 'NLOBO', 'M2'): 38,\n ('NLVDM', 'NLHAR', 'M6'): 55,\n ('NLHGL', 'NLAMS', 'M5'): 54,\n ('NLHAN', 'NLDOR', 'M9'): 41,\n ('NLZAA', 'NLRTM', 'M8'): 49,\n ('NLIJM', 'NLMST', 'M5'): 41,\n ('NLSWI', 'NLAMS', 'M8'): 56,\n ('NLOSS', 'NLRTM', 'M3'): 46,\n ('NLKAM', 'NLRID', 'M8'): 31,\n ('NLDRA', 'NLHAR', 'M6'): 57,\n ('NLGOU', 'NLIJM', 'M2'): 47,\n ('NLVLI', 'NLDOR', 'M6'): 45,\n ('NLROO', 'NLBRS', 'M6'): 38,\n ('NLMSB', 'NLMAA', 'M0'): 54,\n ('NLHRW', 'NLAER', 'M2'): 33,\n ('NLABL', 'NLRTM', 'C3b'): 57,\n ('NLLCH', 'NLAMS', 'M4'): 48,\n ('NLSWI', 'NLBAA', 'M4'): 51,\n ('NLLCH', 'NLAMS', 'M5'): 40,\n ('NLRTM', 'NLAAM', 'M3'): 55,\n ('NLAME', 'NLAMS', 'M3'): 33,\n ('NLFAR', 'NLEEM', 'BI'): 56,\n ('NLMST', 'NLVLI', 'M4'): 52,\n ('NLRTM', 'NLEIN', 'M2'): 48,\n ('NLVLI', 'NLSTI', 'M8'): 51,\n ('NLVLI', 'NLBZM', 'M6'): 46,\n ('NLOSS', 'NLCUY', 'M7'): 42,\n ('NLTIE', 'NLRTM', 'M4'): 42,\n ('NLSTI', 'NLWIW', 'M1'): 33,\n ('NLBON', 'NLAME', 'M3'): 29,\n ('NLSWI', 'NLNKK', 'M6'): 55,\n ('NLAMS', 'NLMAA', 'M4'): 38,\n ('NLAMS', 'NLSNK', 'B03'): 47,\n ('NLBON', 'NLHAG', 'M4'): 35,\n ('NLGOR', 'NLAMS', 'M2'): 29,\n ('NLAER', 'NLLEY', 'M2'): 51,\n ('NLWED', 'NLRTM', 'M6'): 39,\n ('NLDST', 'NLHTB', 'M4'): 51,\n ('NLPER', 'NLDOE', 'M8'): 50,\n ('NLWAS', 'NLABL', 'M8'): 38,\n ('NLRTM', 'NLHGL', 'M3'): 42,\n ('NLAMS', 'NLDEL', 'M5'): 43,\n ('NLRTM', 'NLGOU', 'M3'): 56,\n ('NLRTM', 'NLWGW', 'M4'): 43,\n ('NLLEY', 'NLLEY', 'M6'): 28,\n ('NLLMR', 'NLAMS', 'M8'): 50,\n ('NLZWO', 'NLZWS', 'BII-1'): 52,\n ('NLHAR', 'NLHRN', 'M6'): 52,\n ('NLSLU', 'NLVLI', 'M8'): 52,\n ('NLGOR', 'NLRTM', 'M2'): 28,\n ('NLHRW', 'NLAMS', 'M8'): 38,\n ('NLMEP', 'NLAMS', 'M3'): 41,\n ('NLVLI', 'NLVEL', 'M8'): 29,\n ('NLBGU', 'NLDST', 'M8'): 47,\n ('NLBZM', 'NLRTM', 'C3l'): 27,\n ('NLAMS', 'NLMAA', 'M3'): 46,\n ('NLTNZ', 'NLMOE', 'M6'): 53,\n ('NLOOS', 'NLBON', 'M5'): 39,\n ('NLWSP', 'NLURK', 'M6'): 43,\n ('NLAMS', 'NLDRA', 'M6'): 45,\n ('NLLOM', 'NLHEJ', 'BI'): 42,\n ('NLDZL', 'NLAMS', 'M6'): 42,\n ('NLMAA', 'NLCUY', 'BII-1'): 51,\n ('NLBZM', 'NLBRS', 'M10'): 52,\n ('NLDOR', 'NLAMS', 'BIIa-1'): 32,\n ('NLHTB', 'NLLOM', 'M3'): 30,\n ('NLPER', 'NLHGL', 'M8'): 41,\n ('NLIJM', 'NLBRD', 'M3'): 35,\n ('NLBON', 'NLOSS', 'M3'): 39,\n ('NLDZL', 'NLFAR', 'M0'): 45,\n ('NLDOI', 'NLAMS', 'M3'): 45,\n ('NLRTM', 'NLWIS', 'M8'): 43,\n ('NLSCI', 'NLHLM', 'M2'): 36,\n ('NLPER', 'NLAMS', 'M9'): 32,\n ('NLBAA', 'NLSWI', 'M6'): 45,\n ('NLKGZ', 'NLAMS', 'M8'): 26,\n ('NLDOR', 'NLVLA', 'M8'): 46,\n ('NLGRO', 'NLDST', 'M6'): 52,\n ('NLWRV', 'NLZAA', 'M6'): 34,\n ('NLVEG', 'NLRTM', 'M4'): 38,\n ('NLIJM', 'NLMST', 'M3'): 33,\n ('NLBOT', 'NLMOE', 'M8'): 44,\n ('NLGNM', 'NLAMS', 'M5'): 41,\n ('NLIJM', 'NLMOE', 'M9'): 30,\n ('NLPER', 'NLVEG', 'M7'): 26,\n ('NLAER', 'NLAAM', 'M3'): 49,\n ('NLRTM', 'NLNGV', 'M10'): 47,\n ('NLZAA', 'NLRTM', 'M6'): 48,\n ('NLDST', 'NLQCU', 'M4'): 49,\n ('NLDHR', 'NLDHR', 'M4'): 26,\n ('NLHRD', 'NLAMS', 'M5'): 32,\n ('NLVEG', 'NLAMS', 'M3'): 34,\n ('NLLEY', 'NLLWR', 'M6'): 49,\n ('NLHTR', 'NLHTB', 'M3'): 31,\n ('NLETT', 'NLRTM', 'M6'): 49,\n ('NLBON', 'NLAMS', 'M8'): 32,\n ('NLRTM', 'NLBRS', 'M6'): 29,\n ('NLTIE', 'NLPER', 'M8'): 42,\n ('NLRTM', 'NLMAA', 'M5'): 40,\n ('NLLEY', 'NLNKK', 'M4'): 43,\n ('NLTNZ', 'NLBRS', 'M4'): 37,\n ('NLTIE', 'NLUTC', 'M5'): 45,\n ('NLLCH', 'NLRTM', 'M5'): 35,\n ('NLTIE', 'NLVLI', 'M8'): 43,\n ('NLOCC', 'NLRTM', 'M8'): 27,\n ('NLTNZ', 'NLVLI', 'M2'): 47,\n ('NLIJM', 'NLTIE', 'M2'): 45,\n ('NLDST', 'NLNWG', 'M6'): 43,\n ('NLMAA', 'NLLSH', 'M3'): 30,\n ('NLIJM', 'NLAER', 'M4'): 49,\n ('NLGOE', 'NLBRS', 'M3'): 40,\n ('NLOMD', 'NLSTI', 'M8'): 46,\n ('NLSLU', 'NLBRS', 'M6'): 36,\n ('NLGRQ', 'NLEEM', 'M8'): 25,\n ('NLKWZ', 'NLKWZ', 'BI'): 25,\n ('NLDST', 'NLVEG', 'M2'): 49,\n ('NLIJM', 'NLWGW', 'M2'): 42,\n ('NLLEY', 'NLRTM', 'M9'): 38,\n ('NLIJM', 'NLMST', 'M4'): 34,\n ('NLRTM', 'NLMAA', 'M4'): 46,\n ('NLIJM', 'NLZWI', 'M6'): 42,\n ('NLZOE', 'NLWSP', 'M3'): 43,\n ('NLURK', 'NLAER', 'M2'): 43,\n ('NLRTM', 'NLAAM', 'M4'): 48,\n ('NLSTD', 'NLRTM', 'M4'): 35,\n ('NLVEN', 'NLVLI', 'M7'): 25,\n ('NLFRK', 'NLHAR', 'M4'): 49,\n ('NLOBO', 'NLMST', 'M5'): 47,\n ('NLRTM', 'NLMAA', 'M6'): 49,\n ('NLDIN', 'NLMST', 'M6'): 48,\n ('NLBON', 'NLAKR', 'M6'): 25,\n ('NLZAA', 'NLAMS', 'BI'): 49,\n ('NLSNK', 'NLRTM', 'M8'): 36,\n ('NLDON', 'NLMOE', 'M3'): 34,\n ('NLMOE', 'NLHRD', 'M6'): 25,\n ('NLAER', 'NLENK', 'M3'): 39,\n ('NLAMS', 'NLTIE', 'M8'): 42,\n ('NLZWS', 'NLMEP', 'BI'): 45,\n ('NLFAR', 'NLEEM', 'M5'): 36,\n ('NLLEY', 'NLLEY', 'M3'): 24,\n ('NLBON', 'NLWSM', 'BI'): 44,\n ('NLKGZ', 'NLZAA', 'M4'): 47,\n ('NLBEM', 'NLWSP', 'M3'): 43,\n ('NLPER', 'NLMOE', 'M5'): 34,\n ('NLDST', 'NLVAN', 'M4'): 38,\n ('NLSLU', 'NLBOT', 'M8'): 26,\n ('NLSTI', 'NLHEG', 'M4'): 27,\n ('NLOOS', 'NLHEJ', 'M7'): 24,\n ('NLHRD', 'NLLOB', 'M3'): 26,\n ('NLAMS', 'NLDEL', 'M3'): 33,\n ('NLEES', 'NLRTM', 'M4'): 35,\n ('NLRAS', 'NLHRW', 'M3'): 36,\n ('NLMOE', 'NLRTM', 'M11'): 41,\n ('NLLSH', 'NLBON', 'M3'): 27,\n ('NLSTI', 'NLRTM', 'M6'): 40,\n ('NLWRT', 'NLAMS', 'M2'): 24,\n ('NLLCH', 'NLAMS', 'M3'): 40,\n ('NLVEG', 'NLAMS', 'M5'): 27,\n ('NLBON', 'NLGOE', 'M5'): 24,\n ('NLLSH', 'NLAMS', 'M2'): 24,\n ('NLAMS', 'NLZWI', 'M8'): 46,\n ('NLNIJ', 'NLVEN', 'M8'): 48,\n ('NLAPN', 'NLWIW', 'M6'): 34,\n ('NLMSB', 'NLRTM', 'M8'): 29,\n ('NLRTM', 'NLTNZ', 'M9'): 41,\n ('NLNKK', 'NLAMS', 'M4'): 38,\n ('NLZLB', 'NLDOR', 'M9'): 46,\n ('NLUTC', 'NLLEY', 'M6'): 40,\n ('NLRTM', 'NLHGL', 'M4'): 37,\n ('NLRTM', 'NLLAV', 'M8'): 40,\n ('NLEEM', 'NLZOU', 'M4'): 25,\n ('NLRTM', 'NLDOR', 'M10'): 46,\n ('NLAMS', 'NLEUR', 'M8'): 37,\n ('NLRTM', 'NLVEN', 'M2'): 34,\n ('NLRTM', 'NLLAV', 'M10'): 46,\n ('NLLOM', 'NLHTB', 'M2'): 40,\n ('NLOSS', 'NLAMS', 'M5'): 38,\n ('NLAMS', 'NLNIJ', 'M3'): 28,\n ('NLMEP', 'NLAMS', 'M5'): 30,\n ('NLRTM', 'NLQDG', 'M4'): 41,\n ('NLBIW', 'NLLOB', 'M8'): 43,\n ('NLTNZ', 'NLBOT', 'M8'): 35,\n ('NLRNK', 'NLMOE', 'M8'): 46,\n ('NLXXX', 'NLXXX', 'M8'): 23,\n ('NLWLK', 'NLBON', 'M3'): 46,\n ('NLRTM', 'NLMID', 'M8'): 33,\n ('NLRTM', 'NLKAM', 'M5'): 43,\n ('NLGNM', 'NLAMS', 'M8'): 26,\n ('NLRTM', 'NLWMO', 'M4'): 38,\n ('NLAMS', 'NLZWO', 'BI'): 31,\n ('NLDZL', 'NLLMR', 'BIIa-1'): 42,\n ('NLGNM', 'NLRTM', 'M8'): 31,\n ('NLVEN', 'NLBON', 'M6'): 24,\n ('NLRTM', 'NLRTM', 'M4'): 23,\n ('NLOOS', 'NLBON', 'M6'): 37,\n ('NLDHR', 'NLKAM', 'M4'): 42,\n ('NLRTM', 'NLRTM', 'M2'): 23,\n ('NLZWS', 'NLAMS', 'BII-1'): 34,\n ('NLHTB', 'NLMAA', 'M3'): 44,\n ('NLTNZ', 'NLVLI', 'M9'): 41,\n ('NLZWS', 'NLAMS', 'M5'): 30,\n ('NLZWS', 'NLAMS', 'M6'): 27,\n ('NLSCH', 'NLLEY', 'M3'): 40,\n ('NLAMS', 'NLZWI', 'M3'): 38,\n ('NLHGL', 'NLAMS', 'M3'): 40,\n ('NLMEP', 'NLLEY', 'M5'): 29,\n ('NLHAR', 'NLRTM', 'M6'): 31,\n ('NLHEJ', 'NLAMS', 'M6'): 38,\n ('NLVEG', 'NLHEJ', 'M5'): 45,\n ('NLWIW', 'NLSCH', 'M6'): 44,\n ('NLLEY', 'NLRTM', 'M8'): 39,\n ('NLAMS', 'NLDEL', 'M2'): 35,\n ('NLUTC', 'NLDIN', 'M3'): 23,\n ('NLHRD', 'NLRTM', 'M4'): 42,\n ('NLLEY', 'NLLWR', 'M5'): 41,\n ('NLAMS', 'NLDEV', 'M8'): 33,\n ('NLVEG', 'NLRTM', 'M3'): 33,\n ('NLNWG', 'NLDST', 'M5'): 45,\n ('NLHEJ', 'NLAMS', 'M8'): 40,\n ('NLMST', 'NLBON', 'M6'): 24,\n ('NLMST', 'NLAMS', 'M8'): 37,\n ('NLVLI', 'NLLEY', 'M6'): 24,\n ('NLHRD', 'NLAMS', 'M3'): 29,\n ('NLAMS', 'NLDFT', 'M3'): 32,\n ('NLNKK', 'NLAMS', 'BII-1'): 36,\n ('NLNIJ', 'NLOMD', 'BIIa-1'): 30,\n ('NLHTR', 'NLDOR', 'M4'): 23,\n ('NLLCH', 'NLRTM', 'M6'): 27,\n ('NLOSS', 'NLRTM', 'BIIa-1'): 39,\n ('NLZWS', 'NLAMS', 'M2'): 24,\n ('NLDOR', 'NLAMS', 'BII-2b'): 34,\n ('NLTNZ', 'NLVLI', 'BIIL-1'): 38,\n ('NLAMS', 'NLDOR', 'M12'): 30,\n ('NLNKK', 'NLAMS', 'M3'): 31,\n ('NLHRV', 'NLAMS', 'M5'): 27,\n ('NLIJM', 'NLSTD', 'M2'): 23,\n ('NLRTM', 'NLZWO', 'M2'): 27,\n ('NLHRW', 'NLVEG', 'M3'): 34,\n ('NLGOU', 'NLMOE', 'M6'): 30,\n ('NLBEM', 'NLTIE', 'M5'): 26,\n ('NLVLI', 'NLHTB', 'M5'): 23,\n ('NLRTM', 'NLBGU', 'M2'): 23,\n ('NLGTB', 'NLOMD', 'M8'): 24,\n ('NLDZL', 'NLDZL', 'M0'): 22,\n ('NLGTB', 'NLAMS', 'M6'): 38,\n ('NLAKL', 'NLSJK', 'M6'): 43,\n ('NLAMS', 'NLOSS', 'M8'): 42,\n ('NLALM', 'NLAMS', 'M5'): 35,\n ('NLAMS', 'NLBRD', 'M3'): 31,\n ('NLALM', 'NLAMS', 'M2'): 38,\n ('NLZWO', 'NLAMS', 'BII-2L'): 27,\n ('NLWLK', 'NLLOM', 'M4'): 33,\n ('NLBON', 'NLOSS', 'M5'): 40,\n ('NLAMS', 'NLTIE', 'M5'): 38,\n ('NLBON', 'NLZWO', 'M4'): 24,\n ('NLKAI', 'NLUIT', 'M2'): 43,\n ('NLHEJ', 'NLETT', 'M3'): 38,\n ('NLDST', 'NLVEG', 'M3'): 40,\n ('NLSWI', 'NLELB', 'M6'): 40,\n ('NLAMS', 'NLTIE', 'M3'): 29,\n ('NLAMS', 'NLHEJ', 'M3'): 38,\n ('NLURK', 'NLAMS', 'M8'): 40,\n ('NLBRD', 'NLBEM', 'M3'): 36,\n ('NLZWO', 'NLSWI', 'M6'): 29,\n ('NLURK', 'NLAER', 'M3'): 33,\n ('NLLEY', 'NLHAR', 'M6'): 32,\n ('NLKWZ', 'NLAMS', 'BII-2b'): 34,\n ('NLUTC', 'NLDEV', 'M3'): 29,\n ('NLHTR', 'NLDEV', 'M4'): 28,\n ('NLWSP', 'NLAER', 'M3'): 41,\n ('NLSTI', 'NLOMD', 'M6'): 39,\n ('NLMAA', 'NLCUY', 'M3'): 40,\n ('NLWAS', 'NLRTM', 'BII-1'): 32,\n ('NLSNK', 'NLLEY', 'M4'): 34,\n ('NLIJM', 'NLMOE', 'M7'): 41,\n ('NLMAA', 'NLAMS', 'M5'): 41,\n ('NLDHR', 'NLKAM', 'M6'): 32,\n ('NLMST', 'NLRTM', 'M8'): 34,\n ('NLHGL', 'NLUTC', 'M6'): 22,\n ('NLPER', 'NLAPN', 'M8'): 26,\n ('NLTEA', 'NLDST', 'M3'): 39,\n ('NLRTM', 'NLGNM', 'M2'): 37,\n ('NLSCI', 'NLDOI', 'M2'): 27,\n ('NLWIW', 'NLNKK', 'M2'): 35,\n ('NLVLI', 'NLBRS', 'M6'): 23,\n ('NLALM', 'NLDOR', 'M7'): 37,\n ('NLRTM', 'NLOMD', 'BII-2L'): 34,\n ('NLBOT', 'NLGOU', 'M3'): 29,\n ('NLRTM', 'NLVLI', 'M3'): 36,\n ('NLRTM', 'NLDEL', 'M5'): 34,\n ('NLVLI', 'NLTLB', 'M2'): 29,\n ('NLBEM', 'NLOOS', 'M5'): 41,\n ('NLUTC', 'NLRTM', 'M2'): 30,\n ('NLVLI', 'NLMST', 'BIIL-1'): 35,\n ('NLENS', 'NLMOE', 'M8'): 41,\n ('NLRTM', 'NLNGV', 'M8'): 37,\n ('NLMOE', 'NLLEY', 'M8'): 21,\n ('NLNIJ', 'NLMSB', 'BIIa-1'): 28,\n ('NLZWS', 'NLAMS', 'BIIL-1'): 22,\n ('NLDST', 'NLAMS', 'M5'): 39,\n ('NLSJK', 'NLAER', 'M8'): 26,\n ('NLLAV', 'NLSNK', 'M8'): 28,\n ('NLHGL', 'NLAMS', 'M2'): 37,\n ('NLAMS', 'NLAMS', 'M3'): 21,\n ('NLVLI', 'NLMSL', 'M5'): 28,\n ('NLMLR', 'NLRTM', 'M8'): 39,\n ('NLIJM', 'NLZWI', 'M8'): 39,\n ('NLTIE', 'NLAMS', 'C3l'): 22,\n ('NLLWR', 'NLHAR', 'M6'): 27,\n ('NLKAM', 'NLAMS', 'M10'): 39,\n ('NLPER', 'NLAMS', 'M11'): 32,\n ...}"
     },
     "execution_count": 6,
     "metadata": {},
     "output_type": "execute_result"
    }
   ],
   "source": [
    "#create dict to fill with total number of trips on path for each ship type\n",
    "df_t_dict = {}\n",
    "# now fill this dict\n",
    "# loop over data frame\n",
    "for i in range(len(df_t)):\n",
    "    #define temp variables for ease\n",
    "    origin = df_t['origin'][i]\n",
    "    destination = df_t['destination'][i]\n",
    "    ship_type = df_t['type'][i]\n",
    "    trip_count = df_t['trips'][i]\n",
    "    #only make new column if trip and its inverse are not in dict yet. Otherwise append.\n",
    "    if (origin, destination, ship_type) in df_t_dict.keys():\n",
    "        df_t_dict[(origin, destination, ship_type)] += trip_count\n",
    "    elif (destination, origin, ship_type) in df_t_dict.keys():\n",
    "        df_t_dict[(destination, origin, ship_type)] += trip_count\n",
    "    else:\n",
    "        df_t_dict[(origin, destination, ship_type)] = trip_count\n",
    "df_t_dict"
   ],
   "metadata": {
    "collapsed": false,
    "pycharm": {
     "name": "#%%\n"
    }
   }
  },
  {
   "cell_type": "markdown",
   "source": [
    "## Compute vessel sum per route\n",
    "Idea: make similar dict as above first, but then with total amount of trips per route. Later on: add column for each ship.\n",
    "This will result in a column for each ship type and an entry with the amount of ships of that type that have travelled."
   ],
   "metadata": {
    "collapsed": false,
    "pycharm": {
     "name": "#%% md\n"
    }
   }
  },
  {
   "cell_type": "code",
   "execution_count": 7,
   "outputs": [],
   "source": [
    "# now only sort by origin and destination\n",
    "all_trips_ranked = df_2021.groupby(by=['UNLO_herkomst', 'UNLO_bestemming']).count().reset_index().sort_values(\n",
    "    by='Jaarmaand', ascending=False).iloc[:, :3].reset_index(drop=True)\n",
    "\n",
    "#again, rename columns\n",
    "all_trips_ranked.rename(\n",
    "    columns={'UNLO_herkomst': 'origin', 'UNLO_bestemming': 'destination', 'SK_CODE': 'type', 'Unnamed: 0': 'trips'},\n",
    "    inplace=True)\n",
    "\n",
    "#remove non nl\n",
    "all_trips_ranked = all_trips_ranked.loc[(all_trips_ranked.origin.str.contains('NL')) & (all_trips_ranked.destination.str.contains('NL'))]\n",
    "\n",
    "#reset index to be able to loop over all values later on\n",
    "all_trips_ranked.reset_index(inplace=True, drop=True)\n",
    "\n",
    "# make dict to store trips\n",
    "trip_dict_main = {}"
   ],
   "metadata": {
    "collapsed": false,
    "pycharm": {
     "name": "#%%\n"
    }
   }
  },
  {
   "cell_type": "code",
   "execution_count": 8,
   "outputs": [],
   "source": [
    "# now fill this dict, same procedure as above\n",
    "for i in range(len(all_trips_ranked)):\n",
    "    origin = all_trips_ranked['origin'][i]\n",
    "    destination = all_trips_ranked['destination'][i]\n",
    "    trip_count = all_trips_ranked['trips'][i]\n",
    "\n",
    "    if (origin, destination) in trip_dict_main.keys():\n",
    "        trip_dict_main[(origin, destination)] += trip_count\n",
    "    elif (destination, origin) in trip_dict_main.keys():\n",
    "        trip_dict_main[(destination, origin)] += trip_count\n",
    "    else:\n",
    "        trip_dict_main[(origin, destination)] = trip_count"
   ],
   "metadata": {
    "collapsed": false,
    "pycharm": {
     "name": "#%%\n"
    }
   }
  },
  {
   "cell_type": "code",
   "execution_count": 9,
   "outputs": [],
   "source": [
    "# now sort values\n",
    "trip_dict_main = dict(sorted(trip_dict_main.items(), key=lambda item: item[1], reverse=True))\n",
    "\n",
    "# make dataframe dict wih a key for each column\n",
    "trip_dict_df_main = {'origin': [], 'destination': [], 'trip_count': []}\n",
    "for i in df_2021.SK_CODE.unique():\n",
    "    trip_dict_df_main[i] = []\n",
    "\n",
    "# now fill this dict\n",
    "for key, value in trip_dict_main.items():\n",
    "    # append values from dict a\n",
    "    trip_dict_df_main['origin'].append(key[0])\n",
    "    trip_dict_df_main['destination'].append(key[1])\n",
    "    trip_dict_df_main['trip_count'].append(value)\n",
    "    #now append values from other dict, for each ship type\n",
    "    for ship_type in df_2021.SK_CODE.unique():\n",
    "        #if ships have travelled from A to B, append this value\n",
    "        if (key[0], key[1], ship_type) in df_t_dict.keys():\n",
    "            trip_dict_df_main[ship_type].append(df_t_dict[(key[0], key[1], ship_type)])\n",
    "        else:\n",
    "            try:\n",
    "                # else, maybe trips on path A to B are stored as B to A\n",
    "                trip_dict_df_main[ship_type].append(df_t_dict[(key[1], key[0], ship_type)])\n",
    "            except:\n",
    "                # no? Then no ships of this type have travelled this path, append 0\n",
    "                trip_dict_df_main[ship_type].append(0)"
   ],
   "metadata": {
    "collapsed": false,
    "pycharm": {
     "name": "#%%\n"
    }
   }
  },
  {
   "cell_type": "code",
   "execution_count": 10,
   "outputs": [],
   "source": [
    "df_main = pd.DataFrame.from_dict(trip_dict_df_main)"
   ],
   "metadata": {
    "collapsed": false,
    "pycharm": {
     "name": "#%%\n"
    }
   }
  },
  {
   "cell_type": "code",
   "execution_count": 11,
   "outputs": [
    {
     "data": {
      "text/plain": "      origin destination  trip_count   M12    M8    M9  BIIa-1  BII-6b  M10  \\\n0      NLRTM       NLAMS        9943  2076  3510  1316     102       0  427   \n1      NLRTM       NLMOE        2686    70  1584   144       2       0   56   \n2      NLRTM       NLVLI        2153   190   658   414      10       0  140   \n3      NLAMS       NLAER        2119     6   132     0       2       0    7   \n4      NLRTM       NLRTM        1794   363   715    92      15       0  164   \n...      ...         ...         ...   ...   ...   ...     ...     ...  ...   \n10588  NLBZM       NLVSN           1     0     0     0       0       0    0   \n10589  NLBZM       NLVER           1     0     0     0       0       0    0   \n10590  NLBZM       NLSMB           1     0     0     0       0       0    0   \n10591  NLBZM       NLSHH           1     0     0     0       0       0    0   \n10592  NLEFE       NLDZL           1     0     0     0       0       0    0   \n\n       BII-6l  ...  C4  C2l  M0  B04  BII-2L  B02  C1b  C2b  B01  C1l  \n0           0  ...   5    7  11    5      39    4    0    0    0    0  \n1           0  ...   2    0   1    0       1    0    0    0    0    0  \n2           0  ...   0    2   2    1       0    0    0    1    0    0  \n3           0  ...   0    1   5   37       0    3    0    1    1    0  \n4           1  ...   4    0   0    0       2    0    0    0    0    0  \n...       ...  ...  ..  ...  ..  ...     ...  ...  ...  ...  ...  ...  \n10588       0  ...   0    0   0    0       0    0    0    0    0    0  \n10589       0  ...   0    0   0    0       0    0    0    0    0    0  \n10590       0  ...   0    0   0    0       0    0    0    0    0    0  \n10591       0  ...   0    0   0    0       0    0    0    0    0    0  \n10592       0  ...   0    0   0    0       0    0    0    0    0    0  \n\n[10593 rows x 36 columns]",
      "text/html": "<div>\n<style scoped>\n    .dataframe tbody tr th:only-of-type {\n        vertical-align: middle;\n    }\n\n    .dataframe tbody tr th {\n        vertical-align: top;\n    }\n\n    .dataframe thead th {\n        text-align: right;\n    }\n</style>\n<table border=\"1\" class=\"dataframe\">\n  <thead>\n    <tr style=\"text-align: right;\">\n      <th></th>\n      <th>origin</th>\n      <th>destination</th>\n      <th>trip_count</th>\n      <th>M12</th>\n      <th>M8</th>\n      <th>M9</th>\n      <th>BIIa-1</th>\n      <th>BII-6b</th>\n      <th>M10</th>\n      <th>BII-6l</th>\n      <th>...</th>\n      <th>C4</th>\n      <th>C2l</th>\n      <th>M0</th>\n      <th>B04</th>\n      <th>BII-2L</th>\n      <th>B02</th>\n      <th>C1b</th>\n      <th>C2b</th>\n      <th>B01</th>\n      <th>C1l</th>\n    </tr>\n  </thead>\n  <tbody>\n    <tr>\n      <th>0</th>\n      <td>NLRTM</td>\n      <td>NLAMS</td>\n      <td>9943</td>\n      <td>2076</td>\n      <td>3510</td>\n      <td>1316</td>\n      <td>102</td>\n      <td>0</td>\n      <td>427</td>\n      <td>0</td>\n      <td>...</td>\n      <td>5</td>\n      <td>7</td>\n      <td>11</td>\n      <td>5</td>\n      <td>39</td>\n      <td>4</td>\n      <td>0</td>\n      <td>0</td>\n      <td>0</td>\n      <td>0</td>\n    </tr>\n    <tr>\n      <th>1</th>\n      <td>NLRTM</td>\n      <td>NLMOE</td>\n      <td>2686</td>\n      <td>70</td>\n      <td>1584</td>\n      <td>144</td>\n      <td>2</td>\n      <td>0</td>\n      <td>56</td>\n      <td>0</td>\n      <td>...</td>\n      <td>2</td>\n      <td>0</td>\n      <td>1</td>\n      <td>0</td>\n      <td>1</td>\n      <td>0</td>\n      <td>0</td>\n      <td>0</td>\n      <td>0</td>\n      <td>0</td>\n    </tr>\n    <tr>\n      <th>2</th>\n      <td>NLRTM</td>\n      <td>NLVLI</td>\n      <td>2153</td>\n      <td>190</td>\n      <td>658</td>\n      <td>414</td>\n      <td>10</td>\n      <td>0</td>\n      <td>140</td>\n      <td>0</td>\n      <td>...</td>\n      <td>0</td>\n      <td>2</td>\n      <td>2</td>\n      <td>1</td>\n      <td>0</td>\n      <td>0</td>\n      <td>0</td>\n      <td>1</td>\n      <td>0</td>\n      <td>0</td>\n    </tr>\n    <tr>\n      <th>3</th>\n      <td>NLAMS</td>\n      <td>NLAER</td>\n      <td>2119</td>\n      <td>6</td>\n      <td>132</td>\n      <td>0</td>\n      <td>2</td>\n      <td>0</td>\n      <td>7</td>\n      <td>0</td>\n      <td>...</td>\n      <td>0</td>\n      <td>1</td>\n      <td>5</td>\n      <td>37</td>\n      <td>0</td>\n      <td>3</td>\n      <td>0</td>\n      <td>1</td>\n      <td>1</td>\n      <td>0</td>\n    </tr>\n    <tr>\n      <th>4</th>\n      <td>NLRTM</td>\n      <td>NLRTM</td>\n      <td>1794</td>\n      <td>363</td>\n      <td>715</td>\n      <td>92</td>\n      <td>15</td>\n      <td>0</td>\n      <td>164</td>\n      <td>1</td>\n      <td>...</td>\n      <td>4</td>\n      <td>0</td>\n      <td>0</td>\n      <td>0</td>\n      <td>2</td>\n      <td>0</td>\n      <td>0</td>\n      <td>0</td>\n      <td>0</td>\n      <td>0</td>\n    </tr>\n    <tr>\n      <th>...</th>\n      <td>...</td>\n      <td>...</td>\n      <td>...</td>\n      <td>...</td>\n      <td>...</td>\n      <td>...</td>\n      <td>...</td>\n      <td>...</td>\n      <td>...</td>\n      <td>...</td>\n      <td>...</td>\n      <td>...</td>\n      <td>...</td>\n      <td>...</td>\n      <td>...</td>\n      <td>...</td>\n      <td>...</td>\n      <td>...</td>\n      <td>...</td>\n      <td>...</td>\n      <td>...</td>\n    </tr>\n    <tr>\n      <th>10588</th>\n      <td>NLBZM</td>\n      <td>NLVSN</td>\n      <td>1</td>\n      <td>0</td>\n      <td>0</td>\n      <td>0</td>\n      <td>0</td>\n      <td>0</td>\n      <td>0</td>\n      <td>0</td>\n      <td>...</td>\n      <td>0</td>\n      <td>0</td>\n      <td>0</td>\n      <td>0</td>\n      <td>0</td>\n      <td>0</td>\n      <td>0</td>\n      <td>0</td>\n      <td>0</td>\n      <td>0</td>\n    </tr>\n    <tr>\n      <th>10589</th>\n      <td>NLBZM</td>\n      <td>NLVER</td>\n      <td>1</td>\n      <td>0</td>\n      <td>0</td>\n      <td>0</td>\n      <td>0</td>\n      <td>0</td>\n      <td>0</td>\n      <td>0</td>\n      <td>...</td>\n      <td>0</td>\n      <td>0</td>\n      <td>0</td>\n      <td>0</td>\n      <td>0</td>\n      <td>0</td>\n      <td>0</td>\n      <td>0</td>\n      <td>0</td>\n      <td>0</td>\n    </tr>\n    <tr>\n      <th>10590</th>\n      <td>NLBZM</td>\n      <td>NLSMB</td>\n      <td>1</td>\n      <td>0</td>\n      <td>0</td>\n      <td>0</td>\n      <td>0</td>\n      <td>0</td>\n      <td>0</td>\n      <td>0</td>\n      <td>...</td>\n      <td>0</td>\n      <td>0</td>\n      <td>0</td>\n      <td>0</td>\n      <td>0</td>\n      <td>0</td>\n      <td>0</td>\n      <td>0</td>\n      <td>0</td>\n      <td>0</td>\n    </tr>\n    <tr>\n      <th>10591</th>\n      <td>NLBZM</td>\n      <td>NLSHH</td>\n      <td>1</td>\n      <td>0</td>\n      <td>0</td>\n      <td>0</td>\n      <td>0</td>\n      <td>0</td>\n      <td>0</td>\n      <td>0</td>\n      <td>...</td>\n      <td>0</td>\n      <td>0</td>\n      <td>0</td>\n      <td>0</td>\n      <td>0</td>\n      <td>0</td>\n      <td>0</td>\n      <td>0</td>\n      <td>0</td>\n      <td>0</td>\n    </tr>\n    <tr>\n      <th>10592</th>\n      <td>NLEFE</td>\n      <td>NLDZL</td>\n      <td>1</td>\n      <td>0</td>\n      <td>0</td>\n      <td>0</td>\n      <td>0</td>\n      <td>0</td>\n      <td>0</td>\n      <td>0</td>\n      <td>...</td>\n      <td>0</td>\n      <td>0</td>\n      <td>0</td>\n      <td>0</td>\n      <td>0</td>\n      <td>0</td>\n      <td>0</td>\n      <td>0</td>\n      <td>0</td>\n      <td>0</td>\n    </tr>\n  </tbody>\n</table>\n<p>10593 rows × 36 columns</p>\n</div>"
     },
     "execution_count": 11,
     "metadata": {},
     "output_type": "execute_result"
    }
   ],
   "source": [
    "df_main"
   ],
   "metadata": {
    "collapsed": false,
    "pycharm": {
     "name": "#%%\n"
    }
   }
  },
  {
   "cell_type": "code",
   "execution_count": 67,
   "outputs": [],
   "source": [
    "#save dataframe\n",
    "pickle.dump( df_main, open( \"data/df_trips_per_path.p\", \"wb\" ) )"
   ],
   "metadata": {
    "collapsed": false,
    "pycharm": {
     "name": "#%%\n"
    }
   }
  },
  {
   "cell_type": "markdown",
   "source": [
    "## Generate random data"
   ],
   "metadata": {
    "collapsed": false,
    "pycharm": {
     "name": "#%% md\n"
    }
   }
  },
  {
   "cell_type": "code",
   "execution_count": 12,
   "outputs": [],
   "source": [
    "df_chance = df_main.copy()"
   ],
   "metadata": {
    "collapsed": false,
    "pycharm": {
     "name": "#%%\n"
    }
   }
  },
  {
   "cell_type": "code",
   "execution_count": 13,
   "outputs": [
    {
     "data": {
      "text/plain": "      origin destination  trip_count   M12    M8    M9  BIIa-1  BII-6b  M10  \\\n0      NLRTM       NLAMS        9943  2076  3510  1316     102       0  427   \n1      NLRTM       NLMOE        2686    70  1584   144       2       0   56   \n2      NLRTM       NLVLI        2153   190   658   414      10       0  140   \n3      NLAMS       NLAER        2119     6   132     0       2       0    7   \n4      NLRTM       NLRTM        1794   363   715    92      15       0  164   \n...      ...         ...         ...   ...   ...   ...     ...     ...  ...   \n10588  NLBZM       NLVSN           1     0     0     0       0       0    0   \n10589  NLBZM       NLVER           1     0     0     0       0       0    0   \n10590  NLBZM       NLSMB           1     0     0     0       0       0    0   \n10591  NLBZM       NLSHH           1     0     0     0       0       0    0   \n10592  NLEFE       NLDZL           1     0     0     0       0       0    0   \n\n       BII-6l  ...  C4  C2l  M0  B04  BII-2L  B02  C1b  C2b  B01  C1l  \n0           0  ...   5    7  11    5      39    4    0    0    0    0  \n1           0  ...   2    0   1    0       1    0    0    0    0    0  \n2           0  ...   0    2   2    1       0    0    0    1    0    0  \n3           0  ...   0    1   5   37       0    3    0    1    1    0  \n4           1  ...   4    0   0    0       2    0    0    0    0    0  \n...       ...  ...  ..  ...  ..  ...     ...  ...  ...  ...  ...  ...  \n10588       0  ...   0    0   0    0       0    0    0    0    0    0  \n10589       0  ...   0    0   0    0       0    0    0    0    0    0  \n10590       0  ...   0    0   0    0       0    0    0    0    0    0  \n10591       0  ...   0    0   0    0       0    0    0    0    0    0  \n10592       0  ...   0    0   0    0       0    0    0    0    0    0  \n\n[10593 rows x 36 columns]",
      "text/html": "<div>\n<style scoped>\n    .dataframe tbody tr th:only-of-type {\n        vertical-align: middle;\n    }\n\n    .dataframe tbody tr th {\n        vertical-align: top;\n    }\n\n    .dataframe thead th {\n        text-align: right;\n    }\n</style>\n<table border=\"1\" class=\"dataframe\">\n  <thead>\n    <tr style=\"text-align: right;\">\n      <th></th>\n      <th>origin</th>\n      <th>destination</th>\n      <th>trip_count</th>\n      <th>M12</th>\n      <th>M8</th>\n      <th>M9</th>\n      <th>BIIa-1</th>\n      <th>BII-6b</th>\n      <th>M10</th>\n      <th>BII-6l</th>\n      <th>...</th>\n      <th>C4</th>\n      <th>C2l</th>\n      <th>M0</th>\n      <th>B04</th>\n      <th>BII-2L</th>\n      <th>B02</th>\n      <th>C1b</th>\n      <th>C2b</th>\n      <th>B01</th>\n      <th>C1l</th>\n    </tr>\n  </thead>\n  <tbody>\n    <tr>\n      <th>0</th>\n      <td>NLRTM</td>\n      <td>NLAMS</td>\n      <td>9943</td>\n      <td>2076</td>\n      <td>3510</td>\n      <td>1316</td>\n      <td>102</td>\n      <td>0</td>\n      <td>427</td>\n      <td>0</td>\n      <td>...</td>\n      <td>5</td>\n      <td>7</td>\n      <td>11</td>\n      <td>5</td>\n      <td>39</td>\n      <td>4</td>\n      <td>0</td>\n      <td>0</td>\n      <td>0</td>\n      <td>0</td>\n    </tr>\n    <tr>\n      <th>1</th>\n      <td>NLRTM</td>\n      <td>NLMOE</td>\n      <td>2686</td>\n      <td>70</td>\n      <td>1584</td>\n      <td>144</td>\n      <td>2</td>\n      <td>0</td>\n      <td>56</td>\n      <td>0</td>\n      <td>...</td>\n      <td>2</td>\n      <td>0</td>\n      <td>1</td>\n      <td>0</td>\n      <td>1</td>\n      <td>0</td>\n      <td>0</td>\n      <td>0</td>\n      <td>0</td>\n      <td>0</td>\n    </tr>\n    <tr>\n      <th>2</th>\n      <td>NLRTM</td>\n      <td>NLVLI</td>\n      <td>2153</td>\n      <td>190</td>\n      <td>658</td>\n      <td>414</td>\n      <td>10</td>\n      <td>0</td>\n      <td>140</td>\n      <td>0</td>\n      <td>...</td>\n      <td>0</td>\n      <td>2</td>\n      <td>2</td>\n      <td>1</td>\n      <td>0</td>\n      <td>0</td>\n      <td>0</td>\n      <td>1</td>\n      <td>0</td>\n      <td>0</td>\n    </tr>\n    <tr>\n      <th>3</th>\n      <td>NLAMS</td>\n      <td>NLAER</td>\n      <td>2119</td>\n      <td>6</td>\n      <td>132</td>\n      <td>0</td>\n      <td>2</td>\n      <td>0</td>\n      <td>7</td>\n      <td>0</td>\n      <td>...</td>\n      <td>0</td>\n      <td>1</td>\n      <td>5</td>\n      <td>37</td>\n      <td>0</td>\n      <td>3</td>\n      <td>0</td>\n      <td>1</td>\n      <td>1</td>\n      <td>0</td>\n    </tr>\n    <tr>\n      <th>4</th>\n      <td>NLRTM</td>\n      <td>NLRTM</td>\n      <td>1794</td>\n      <td>363</td>\n      <td>715</td>\n      <td>92</td>\n      <td>15</td>\n      <td>0</td>\n      <td>164</td>\n      <td>1</td>\n      <td>...</td>\n      <td>4</td>\n      <td>0</td>\n      <td>0</td>\n      <td>0</td>\n      <td>2</td>\n      <td>0</td>\n      <td>0</td>\n      <td>0</td>\n      <td>0</td>\n      <td>0</td>\n    </tr>\n    <tr>\n      <th>...</th>\n      <td>...</td>\n      <td>...</td>\n      <td>...</td>\n      <td>...</td>\n      <td>...</td>\n      <td>...</td>\n      <td>...</td>\n      <td>...</td>\n      <td>...</td>\n      <td>...</td>\n      <td>...</td>\n      <td>...</td>\n      <td>...</td>\n      <td>...</td>\n      <td>...</td>\n      <td>...</td>\n      <td>...</td>\n      <td>...</td>\n      <td>...</td>\n      <td>...</td>\n      <td>...</td>\n    </tr>\n    <tr>\n      <th>10588</th>\n      <td>NLBZM</td>\n      <td>NLVSN</td>\n      <td>1</td>\n      <td>0</td>\n      <td>0</td>\n      <td>0</td>\n      <td>0</td>\n      <td>0</td>\n      <td>0</td>\n      <td>0</td>\n      <td>...</td>\n      <td>0</td>\n      <td>0</td>\n      <td>0</td>\n      <td>0</td>\n      <td>0</td>\n      <td>0</td>\n      <td>0</td>\n      <td>0</td>\n      <td>0</td>\n      <td>0</td>\n    </tr>\n    <tr>\n      <th>10589</th>\n      <td>NLBZM</td>\n      <td>NLVER</td>\n      <td>1</td>\n      <td>0</td>\n      <td>0</td>\n      <td>0</td>\n      <td>0</td>\n      <td>0</td>\n      <td>0</td>\n      <td>0</td>\n      <td>...</td>\n      <td>0</td>\n      <td>0</td>\n      <td>0</td>\n      <td>0</td>\n      <td>0</td>\n      <td>0</td>\n      <td>0</td>\n      <td>0</td>\n      <td>0</td>\n      <td>0</td>\n    </tr>\n    <tr>\n      <th>10590</th>\n      <td>NLBZM</td>\n      <td>NLSMB</td>\n      <td>1</td>\n      <td>0</td>\n      <td>0</td>\n      <td>0</td>\n      <td>0</td>\n      <td>0</td>\n      <td>0</td>\n      <td>0</td>\n      <td>...</td>\n      <td>0</td>\n      <td>0</td>\n      <td>0</td>\n      <td>0</td>\n      <td>0</td>\n      <td>0</td>\n      <td>0</td>\n      <td>0</td>\n      <td>0</td>\n      <td>0</td>\n    </tr>\n    <tr>\n      <th>10591</th>\n      <td>NLBZM</td>\n      <td>NLSHH</td>\n      <td>1</td>\n      <td>0</td>\n      <td>0</td>\n      <td>0</td>\n      <td>0</td>\n      <td>0</td>\n      <td>0</td>\n      <td>0</td>\n      <td>...</td>\n      <td>0</td>\n      <td>0</td>\n      <td>0</td>\n      <td>0</td>\n      <td>0</td>\n      <td>0</td>\n      <td>0</td>\n      <td>0</td>\n      <td>0</td>\n      <td>0</td>\n    </tr>\n    <tr>\n      <th>10592</th>\n      <td>NLEFE</td>\n      <td>NLDZL</td>\n      <td>1</td>\n      <td>0</td>\n      <td>0</td>\n      <td>0</td>\n      <td>0</td>\n      <td>0</td>\n      <td>0</td>\n      <td>0</td>\n      <td>...</td>\n      <td>0</td>\n      <td>0</td>\n      <td>0</td>\n      <td>0</td>\n      <td>0</td>\n      <td>0</td>\n      <td>0</td>\n      <td>0</td>\n      <td>0</td>\n      <td>0</td>\n    </tr>\n  </tbody>\n</table>\n<p>10593 rows × 36 columns</p>\n</div>"
     },
     "execution_count": 13,
     "metadata": {},
     "output_type": "execute_result"
    }
   ],
   "source": [
    "df_chance"
   ],
   "metadata": {
    "collapsed": false,
    "pycharm": {
     "name": "#%%\n"
    }
   }
  },
  {
   "cell_type": "code",
   "execution_count": 14,
   "outputs": [],
   "source": [
    "type_list = list(df_main.columns[3:])"
   ],
   "metadata": {
    "collapsed": false,
    "pycharm": {
     "name": "#%%\n"
    }
   }
  },
  {
   "cell_type": "code",
   "execution_count": 15,
   "outputs": [],
   "source": [
    "for i in type_list:\n",
    "    df_chance[i] = df_chance[i]/df_chance.trip_count"
   ],
   "metadata": {
    "collapsed": false,
    "pycharm": {
     "name": "#%%\n"
    }
   }
  },
  {
   "cell_type": "code",
   "execution_count": 68,
   "outputs": [],
   "source": [
    "pickle.dump( df_chance, open( \"data/probability_df.p\", \"wb\" ) )"
   ],
   "metadata": {
    "collapsed": false,
    "pycharm": {
     "name": "#%%\n"
    }
   }
  },
  {
   "cell_type": "code",
   "execution_count": 60,
   "outputs": [],
   "source": [
    "test_100 = df_chance.head(100)"
   ],
   "metadata": {
    "collapsed": false,
    "pycharm": {
     "name": "#%%\n"
    }
   }
  },
  {
   "cell_type": "code",
   "execution_count": 61,
   "outputs": [
    {
     "data": {
      "text/plain": "   origin destination  trip_count       M12        M8        M9    BIIa-1  \\\n0   NLRTM       NLAMS        9943  0.208790  0.353012  0.132354  0.010258   \n1   NLRTM       NLMOE        2686  0.026061  0.589724  0.053611  0.000745   \n2   NLRTM       NLVLI        2153  0.088249  0.305620  0.192290  0.004645   \n3   NLAMS       NLAER        2119  0.002832  0.062294  0.000000  0.000944   \n4   NLRTM       NLRTM        1794  0.202341  0.398551  0.051282  0.008361   \n..    ...         ...         ...       ...       ...       ...       ...   \n95  NLNIJ       NLAMS         352  0.011364  0.411932  0.028409  0.065341   \n96  NLFAR       NLRTM         342  0.000000  0.903509  0.029240  0.005848   \n97  NLRTM       NLVSN         342  0.000000  0.602339  0.368421  0.000000   \n98  NLPER       NLAMS         328  0.027439  0.387195  0.097561  0.000000   \n99  NLHRV       NLAMS         326  0.000000  0.595092  0.000000  0.000000   \n\n    BII-6b       M10    BII-6l  ...        C4       C2l        M0       B04  \\\n0      0.0  0.042945  0.000000  ...  0.000503  0.000704  0.001106  0.000503   \n1      0.0  0.020849  0.000000  ...  0.000745  0.000000  0.000372  0.000000   \n2      0.0  0.065026  0.000000  ...  0.000000  0.000929  0.000929  0.000464   \n3      0.0  0.003303  0.000000  ...  0.000000  0.000472  0.002360  0.017461   \n4      0.0  0.091416  0.000557  ...  0.002230  0.000000  0.000000  0.000000   \n..     ...       ...       ...  ...       ...       ...       ...       ...   \n95     0.0  0.000000  0.000000  ...  0.000000  0.011364  0.000000  0.000000   \n96     0.0  0.000000  0.000000  ...  0.000000  0.000000  0.000000  0.000000   \n97     0.0  0.011696  0.000000  ...  0.000000  0.000000  0.000000  0.000000   \n98     0.0  0.018293  0.000000  ...  0.000000  0.000000  0.000000  0.000000   \n99     0.0  0.000000  0.000000  ...  0.000000  0.000000  0.000000  0.000000   \n\n      BII-2L       B02  C1b       C2b       B01  C1l  \n0   0.003922  0.000402  0.0  0.000000  0.000000  0.0  \n1   0.000372  0.000000  0.0  0.000000  0.000000  0.0  \n2   0.000000  0.000000  0.0  0.000464  0.000000  0.0  \n3   0.000000  0.001416  0.0  0.000472  0.000472  0.0  \n4   0.001115  0.000000  0.0  0.000000  0.000000  0.0  \n..       ...       ...  ...       ...       ...  ...  \n95  0.002841  0.000000  0.0  0.000000  0.002841  0.0  \n96  0.008772  0.000000  0.0  0.000000  0.000000  0.0  \n97  0.000000  0.000000  0.0  0.000000  0.000000  0.0  \n98  0.000000  0.000000  0.0  0.000000  0.000000  0.0  \n99  0.000000  0.000000  0.0  0.000000  0.003067  0.0  \n\n[100 rows x 36 columns]",
      "text/html": "<div>\n<style scoped>\n    .dataframe tbody tr th:only-of-type {\n        vertical-align: middle;\n    }\n\n    .dataframe tbody tr th {\n        vertical-align: top;\n    }\n\n    .dataframe thead th {\n        text-align: right;\n    }\n</style>\n<table border=\"1\" class=\"dataframe\">\n  <thead>\n    <tr style=\"text-align: right;\">\n      <th></th>\n      <th>origin</th>\n      <th>destination</th>\n      <th>trip_count</th>\n      <th>M12</th>\n      <th>M8</th>\n      <th>M9</th>\n      <th>BIIa-1</th>\n      <th>BII-6b</th>\n      <th>M10</th>\n      <th>BII-6l</th>\n      <th>...</th>\n      <th>C4</th>\n      <th>C2l</th>\n      <th>M0</th>\n      <th>B04</th>\n      <th>BII-2L</th>\n      <th>B02</th>\n      <th>C1b</th>\n      <th>C2b</th>\n      <th>B01</th>\n      <th>C1l</th>\n    </tr>\n  </thead>\n  <tbody>\n    <tr>\n      <th>0</th>\n      <td>NLRTM</td>\n      <td>NLAMS</td>\n      <td>9943</td>\n      <td>0.208790</td>\n      <td>0.353012</td>\n      <td>0.132354</td>\n      <td>0.010258</td>\n      <td>0.0</td>\n      <td>0.042945</td>\n      <td>0.000000</td>\n      <td>...</td>\n      <td>0.000503</td>\n      <td>0.000704</td>\n      <td>0.001106</td>\n      <td>0.000503</td>\n      <td>0.003922</td>\n      <td>0.000402</td>\n      <td>0.0</td>\n      <td>0.000000</td>\n      <td>0.000000</td>\n      <td>0.0</td>\n    </tr>\n    <tr>\n      <th>1</th>\n      <td>NLRTM</td>\n      <td>NLMOE</td>\n      <td>2686</td>\n      <td>0.026061</td>\n      <td>0.589724</td>\n      <td>0.053611</td>\n      <td>0.000745</td>\n      <td>0.0</td>\n      <td>0.020849</td>\n      <td>0.000000</td>\n      <td>...</td>\n      <td>0.000745</td>\n      <td>0.000000</td>\n      <td>0.000372</td>\n      <td>0.000000</td>\n      <td>0.000372</td>\n      <td>0.000000</td>\n      <td>0.0</td>\n      <td>0.000000</td>\n      <td>0.000000</td>\n      <td>0.0</td>\n    </tr>\n    <tr>\n      <th>2</th>\n      <td>NLRTM</td>\n      <td>NLVLI</td>\n      <td>2153</td>\n      <td>0.088249</td>\n      <td>0.305620</td>\n      <td>0.192290</td>\n      <td>0.004645</td>\n      <td>0.0</td>\n      <td>0.065026</td>\n      <td>0.000000</td>\n      <td>...</td>\n      <td>0.000000</td>\n      <td>0.000929</td>\n      <td>0.000929</td>\n      <td>0.000464</td>\n      <td>0.000000</td>\n      <td>0.000000</td>\n      <td>0.0</td>\n      <td>0.000464</td>\n      <td>0.000000</td>\n      <td>0.0</td>\n    </tr>\n    <tr>\n      <th>3</th>\n      <td>NLAMS</td>\n      <td>NLAER</td>\n      <td>2119</td>\n      <td>0.002832</td>\n      <td>0.062294</td>\n      <td>0.000000</td>\n      <td>0.000944</td>\n      <td>0.0</td>\n      <td>0.003303</td>\n      <td>0.000000</td>\n      <td>...</td>\n      <td>0.000000</td>\n      <td>0.000472</td>\n      <td>0.002360</td>\n      <td>0.017461</td>\n      <td>0.000000</td>\n      <td>0.001416</td>\n      <td>0.0</td>\n      <td>0.000472</td>\n      <td>0.000472</td>\n      <td>0.0</td>\n    </tr>\n    <tr>\n      <th>4</th>\n      <td>NLRTM</td>\n      <td>NLRTM</td>\n      <td>1794</td>\n      <td>0.202341</td>\n      <td>0.398551</td>\n      <td>0.051282</td>\n      <td>0.008361</td>\n      <td>0.0</td>\n      <td>0.091416</td>\n      <td>0.000557</td>\n      <td>...</td>\n      <td>0.002230</td>\n      <td>0.000000</td>\n      <td>0.000000</td>\n      <td>0.000000</td>\n      <td>0.001115</td>\n      <td>0.000000</td>\n      <td>0.0</td>\n      <td>0.000000</td>\n      <td>0.000000</td>\n      <td>0.0</td>\n    </tr>\n    <tr>\n      <th>...</th>\n      <td>...</td>\n      <td>...</td>\n      <td>...</td>\n      <td>...</td>\n      <td>...</td>\n      <td>...</td>\n      <td>...</td>\n      <td>...</td>\n      <td>...</td>\n      <td>...</td>\n      <td>...</td>\n      <td>...</td>\n      <td>...</td>\n      <td>...</td>\n      <td>...</td>\n      <td>...</td>\n      <td>...</td>\n      <td>...</td>\n      <td>...</td>\n      <td>...</td>\n      <td>...</td>\n    </tr>\n    <tr>\n      <th>95</th>\n      <td>NLNIJ</td>\n      <td>NLAMS</td>\n      <td>352</td>\n      <td>0.011364</td>\n      <td>0.411932</td>\n      <td>0.028409</td>\n      <td>0.065341</td>\n      <td>0.0</td>\n      <td>0.000000</td>\n      <td>0.000000</td>\n      <td>...</td>\n      <td>0.000000</td>\n      <td>0.011364</td>\n      <td>0.000000</td>\n      <td>0.000000</td>\n      <td>0.002841</td>\n      <td>0.000000</td>\n      <td>0.0</td>\n      <td>0.000000</td>\n      <td>0.002841</td>\n      <td>0.0</td>\n    </tr>\n    <tr>\n      <th>96</th>\n      <td>NLFAR</td>\n      <td>NLRTM</td>\n      <td>342</td>\n      <td>0.000000</td>\n      <td>0.903509</td>\n      <td>0.029240</td>\n      <td>0.005848</td>\n      <td>0.0</td>\n      <td>0.000000</td>\n      <td>0.000000</td>\n      <td>...</td>\n      <td>0.000000</td>\n      <td>0.000000</td>\n      <td>0.000000</td>\n      <td>0.000000</td>\n      <td>0.008772</td>\n      <td>0.000000</td>\n      <td>0.0</td>\n      <td>0.000000</td>\n      <td>0.000000</td>\n      <td>0.0</td>\n    </tr>\n    <tr>\n      <th>97</th>\n      <td>NLRTM</td>\n      <td>NLVSN</td>\n      <td>342</td>\n      <td>0.000000</td>\n      <td>0.602339</td>\n      <td>0.368421</td>\n      <td>0.000000</td>\n      <td>0.0</td>\n      <td>0.011696</td>\n      <td>0.000000</td>\n      <td>...</td>\n      <td>0.000000</td>\n      <td>0.000000</td>\n      <td>0.000000</td>\n      <td>0.000000</td>\n      <td>0.000000</td>\n      <td>0.000000</td>\n      <td>0.0</td>\n      <td>0.000000</td>\n      <td>0.000000</td>\n      <td>0.0</td>\n    </tr>\n    <tr>\n      <th>98</th>\n      <td>NLPER</td>\n      <td>NLAMS</td>\n      <td>328</td>\n      <td>0.027439</td>\n      <td>0.387195</td>\n      <td>0.097561</td>\n      <td>0.000000</td>\n      <td>0.0</td>\n      <td>0.018293</td>\n      <td>0.000000</td>\n      <td>...</td>\n      <td>0.000000</td>\n      <td>0.000000</td>\n      <td>0.000000</td>\n      <td>0.000000</td>\n      <td>0.000000</td>\n      <td>0.000000</td>\n      <td>0.0</td>\n      <td>0.000000</td>\n      <td>0.000000</td>\n      <td>0.0</td>\n    </tr>\n    <tr>\n      <th>99</th>\n      <td>NLHRV</td>\n      <td>NLAMS</td>\n      <td>326</td>\n      <td>0.000000</td>\n      <td>0.595092</td>\n      <td>0.000000</td>\n      <td>0.000000</td>\n      <td>0.0</td>\n      <td>0.000000</td>\n      <td>0.000000</td>\n      <td>...</td>\n      <td>0.000000</td>\n      <td>0.000000</td>\n      <td>0.000000</td>\n      <td>0.000000</td>\n      <td>0.000000</td>\n      <td>0.000000</td>\n      <td>0.0</td>\n      <td>0.000000</td>\n      <td>0.003067</td>\n      <td>0.0</td>\n    </tr>\n  </tbody>\n</table>\n<p>100 rows × 36 columns</p>\n</div>"
     },
     "execution_count": 61,
     "metadata": {},
     "output_type": "execute_result"
    }
   ],
   "source": [
    "test_100"
   ],
   "metadata": {
    "collapsed": false,
    "pycharm": {
     "name": "#%%\n"
    }
   }
  },
  {
   "cell_type": "code",
   "execution_count": 62,
   "outputs": [],
   "source": [
    "def random_vessel_generator(df_prob):\n",
    "    # create dict to store random prob based values later on\n",
    "    main_dict = {i:[] for i in df_prob.columns}\n",
    "\n",
    "    # loop over all rows of the probability dataframe\n",
    "    for i in range(len(df_prob)):\n",
    "        # copy origin, destination and count from original df\n",
    "        for x in df_prob.columns[:3]:\n",
    "            main_dict[x].append(df_prob.iloc[i,:][x])\n",
    "\n",
    "        # find probability, items to pick, and the number of vessels to generate in total\n",
    "        prob = list(df_prob.iloc[i, 3:].values)\n",
    "        to_pick = list(df_prob.columns)\n",
    "        to_pick = to_pick[3:]\n",
    "        count = df_prob['trip_count'][i]\n",
    "\n",
    "        # generate random vessels\n",
    "        rand_vessels = np.random.choice(a=to_pick, size=count, replace=True, p=prob)\n",
    "        unique, counts = np.unique(rand_vessels, return_counts=True)\n",
    "        temp_dict = dict(zip(unique,counts))\n",
    "\n",
    "        # append amount of random generated vessels right dict list\n",
    "        for key in list(main_dict.keys())[3:]:\n",
    "            if key in temp_dict.keys():\n",
    "                main_dict[key].append(temp_dict[key])\n",
    "            else:\n",
    "                main_dict[key].append(0)\n",
    "\n",
    "        # now make dict\n",
    "        df_return = pd.DataFrame.from_dict(main_dict)\n",
    "\n",
    "    return df_return"
   ],
   "metadata": {
    "collapsed": false,
    "pycharm": {
     "name": "#%%\n"
    }
   }
  },
  {
   "cell_type": "code",
   "execution_count": 65,
   "outputs": [
    {
     "name": "stdout",
     "output_type": "stream",
     "text": [
      "CPU times: total: 312 ms\n",
      "Wall time: 305 ms\n"
     ]
    }
   ],
   "source": [
    "import time\n",
    "%time vs = random_vessel_generator(test_100)"
   ],
   "metadata": {
    "collapsed": false,
    "pycharm": {
     "name": "#%%\n"
    }
   }
  },
  {
   "cell_type": "code",
   "execution_count": 66,
   "outputs": [
    {
     "data": {
      "text/plain": "   origin destination  trip_count   M12    M8    M9  BIIa-1  BII-6b  M10  \\\n0   NLRTM       NLAMS        9943  2115  3439  1313      99       0  441   \n1   NLRTM       NLMOE        2686    58  1548   153       2       0   50   \n2   NLRTM       NLVLI        2153   156   692   404      14       0  157   \n3   NLAMS       NLAER        2119     7   119     0       0       0    2   \n4   NLRTM       NLRTM        1794   350   746   113      14       0  157   \n..    ...         ...         ...   ...   ...   ...     ...     ...  ...   \n95  NLNIJ       NLAMS         352     3   150     8      18       0    0   \n96  NLFAR       NLRTM         342     0   314     9       1       0    0   \n97  NLRTM       NLVSN         342     0   197   134       0       0    5   \n98  NLPER       NLAMS         328     6   125    28       0       0    9   \n99  NLHRV       NLAMS         326     0   211     0       0       0    0   \n\n    BII-6l  ...  C4  C2l  M0  B04  BII-2L  B02  C1b  C2b  B01  C1l  \n0        0  ...   3   13   8    4      40    5    0    0    0    0  \n1        0  ...   3    0   0    0       0    0    0    0    0    0  \n2        0  ...   0    3   0    1       0    0    0    0    0    0  \n3        0  ...   0    1   7   39       0    1    0    1    1    0  \n4        2  ...   9    0   0    0       2    0    0    0    0    0  \n..     ...  ...  ..  ...  ..  ...     ...  ...  ...  ...  ...  ...  \n95       0  ...   0    7   0    0       1    0    0    0    1    0  \n96       0  ...   0    0   0    0       1    0    0    0    0    0  \n97       0  ...   0    0   0    0       0    0    0    0    0    0  \n98       0  ...   0    0   0    0       0    0    0    0    0    0  \n99       0  ...   0    0   0    0       0    0    0    0    0    0  \n\n[100 rows x 36 columns]",
      "text/html": "<div>\n<style scoped>\n    .dataframe tbody tr th:only-of-type {\n        vertical-align: middle;\n    }\n\n    .dataframe tbody tr th {\n        vertical-align: top;\n    }\n\n    .dataframe thead th {\n        text-align: right;\n    }\n</style>\n<table border=\"1\" class=\"dataframe\">\n  <thead>\n    <tr style=\"text-align: right;\">\n      <th></th>\n      <th>origin</th>\n      <th>destination</th>\n      <th>trip_count</th>\n      <th>M12</th>\n      <th>M8</th>\n      <th>M9</th>\n      <th>BIIa-1</th>\n      <th>BII-6b</th>\n      <th>M10</th>\n      <th>BII-6l</th>\n      <th>...</th>\n      <th>C4</th>\n      <th>C2l</th>\n      <th>M0</th>\n      <th>B04</th>\n      <th>BII-2L</th>\n      <th>B02</th>\n      <th>C1b</th>\n      <th>C2b</th>\n      <th>B01</th>\n      <th>C1l</th>\n    </tr>\n  </thead>\n  <tbody>\n    <tr>\n      <th>0</th>\n      <td>NLRTM</td>\n      <td>NLAMS</td>\n      <td>9943</td>\n      <td>2115</td>\n      <td>3439</td>\n      <td>1313</td>\n      <td>99</td>\n      <td>0</td>\n      <td>441</td>\n      <td>0</td>\n      <td>...</td>\n      <td>3</td>\n      <td>13</td>\n      <td>8</td>\n      <td>4</td>\n      <td>40</td>\n      <td>5</td>\n      <td>0</td>\n      <td>0</td>\n      <td>0</td>\n      <td>0</td>\n    </tr>\n    <tr>\n      <th>1</th>\n      <td>NLRTM</td>\n      <td>NLMOE</td>\n      <td>2686</td>\n      <td>58</td>\n      <td>1548</td>\n      <td>153</td>\n      <td>2</td>\n      <td>0</td>\n      <td>50</td>\n      <td>0</td>\n      <td>...</td>\n      <td>3</td>\n      <td>0</td>\n      <td>0</td>\n      <td>0</td>\n      <td>0</td>\n      <td>0</td>\n      <td>0</td>\n      <td>0</td>\n      <td>0</td>\n      <td>0</td>\n    </tr>\n    <tr>\n      <th>2</th>\n      <td>NLRTM</td>\n      <td>NLVLI</td>\n      <td>2153</td>\n      <td>156</td>\n      <td>692</td>\n      <td>404</td>\n      <td>14</td>\n      <td>0</td>\n      <td>157</td>\n      <td>0</td>\n      <td>...</td>\n      <td>0</td>\n      <td>3</td>\n      <td>0</td>\n      <td>1</td>\n      <td>0</td>\n      <td>0</td>\n      <td>0</td>\n      <td>0</td>\n      <td>0</td>\n      <td>0</td>\n    </tr>\n    <tr>\n      <th>3</th>\n      <td>NLAMS</td>\n      <td>NLAER</td>\n      <td>2119</td>\n      <td>7</td>\n      <td>119</td>\n      <td>0</td>\n      <td>0</td>\n      <td>0</td>\n      <td>2</td>\n      <td>0</td>\n      <td>...</td>\n      <td>0</td>\n      <td>1</td>\n      <td>7</td>\n      <td>39</td>\n      <td>0</td>\n      <td>1</td>\n      <td>0</td>\n      <td>1</td>\n      <td>1</td>\n      <td>0</td>\n    </tr>\n    <tr>\n      <th>4</th>\n      <td>NLRTM</td>\n      <td>NLRTM</td>\n      <td>1794</td>\n      <td>350</td>\n      <td>746</td>\n      <td>113</td>\n      <td>14</td>\n      <td>0</td>\n      <td>157</td>\n      <td>2</td>\n      <td>...</td>\n      <td>9</td>\n      <td>0</td>\n      <td>0</td>\n      <td>0</td>\n      <td>2</td>\n      <td>0</td>\n      <td>0</td>\n      <td>0</td>\n      <td>0</td>\n      <td>0</td>\n    </tr>\n    <tr>\n      <th>...</th>\n      <td>...</td>\n      <td>...</td>\n      <td>...</td>\n      <td>...</td>\n      <td>...</td>\n      <td>...</td>\n      <td>...</td>\n      <td>...</td>\n      <td>...</td>\n      <td>...</td>\n      <td>...</td>\n      <td>...</td>\n      <td>...</td>\n      <td>...</td>\n      <td>...</td>\n      <td>...</td>\n      <td>...</td>\n      <td>...</td>\n      <td>...</td>\n      <td>...</td>\n      <td>...</td>\n    </tr>\n    <tr>\n      <th>95</th>\n      <td>NLNIJ</td>\n      <td>NLAMS</td>\n      <td>352</td>\n      <td>3</td>\n      <td>150</td>\n      <td>8</td>\n      <td>18</td>\n      <td>0</td>\n      <td>0</td>\n      <td>0</td>\n      <td>...</td>\n      <td>0</td>\n      <td>7</td>\n      <td>0</td>\n      <td>0</td>\n      <td>1</td>\n      <td>0</td>\n      <td>0</td>\n      <td>0</td>\n      <td>1</td>\n      <td>0</td>\n    </tr>\n    <tr>\n      <th>96</th>\n      <td>NLFAR</td>\n      <td>NLRTM</td>\n      <td>342</td>\n      <td>0</td>\n      <td>314</td>\n      <td>9</td>\n      <td>1</td>\n      <td>0</td>\n      <td>0</td>\n      <td>0</td>\n      <td>...</td>\n      <td>0</td>\n      <td>0</td>\n      <td>0</td>\n      <td>0</td>\n      <td>1</td>\n      <td>0</td>\n      <td>0</td>\n      <td>0</td>\n      <td>0</td>\n      <td>0</td>\n    </tr>\n    <tr>\n      <th>97</th>\n      <td>NLRTM</td>\n      <td>NLVSN</td>\n      <td>342</td>\n      <td>0</td>\n      <td>197</td>\n      <td>134</td>\n      <td>0</td>\n      <td>0</td>\n      <td>5</td>\n      <td>0</td>\n      <td>...</td>\n      <td>0</td>\n      <td>0</td>\n      <td>0</td>\n      <td>0</td>\n      <td>0</td>\n      <td>0</td>\n      <td>0</td>\n      <td>0</td>\n      <td>0</td>\n      <td>0</td>\n    </tr>\n    <tr>\n      <th>98</th>\n      <td>NLPER</td>\n      <td>NLAMS</td>\n      <td>328</td>\n      <td>6</td>\n      <td>125</td>\n      <td>28</td>\n      <td>0</td>\n      <td>0</td>\n      <td>9</td>\n      <td>0</td>\n      <td>...</td>\n      <td>0</td>\n      <td>0</td>\n      <td>0</td>\n      <td>0</td>\n      <td>0</td>\n      <td>0</td>\n      <td>0</td>\n      <td>0</td>\n      <td>0</td>\n      <td>0</td>\n    </tr>\n    <tr>\n      <th>99</th>\n      <td>NLHRV</td>\n      <td>NLAMS</td>\n      <td>326</td>\n      <td>0</td>\n      <td>211</td>\n      <td>0</td>\n      <td>0</td>\n      <td>0</td>\n      <td>0</td>\n      <td>0</td>\n      <td>...</td>\n      <td>0</td>\n      <td>0</td>\n      <td>0</td>\n      <td>0</td>\n      <td>0</td>\n      <td>0</td>\n      <td>0</td>\n      <td>0</td>\n      <td>0</td>\n      <td>0</td>\n    </tr>\n  </tbody>\n</table>\n<p>100 rows × 36 columns</p>\n</div>"
     },
     "execution_count": 66,
     "metadata": {},
     "output_type": "execute_result"
    }
   ],
   "source": [
    "vs"
   ],
   "metadata": {
    "collapsed": false,
    "pycharm": {
     "name": "#%%\n"
    }
   }
  },
  {
   "cell_type": "markdown",
   "source": [
    "## Multiply with factors and calculate fuel consumption"
   ],
   "metadata": {
    "collapsed": false,
    "pycharm": {
     "name": "#%% md\n"
    }
   }
  },
  {
   "cell_type": "code",
   "execution_count": null,
   "outputs": [],
   "source": [
    "ship_data = pd.read_excel('data/ship_types.xlsx')\n",
    "ship_data.fillna(0, inplace=True)"
   ],
   "metadata": {
    "collapsed": false,
    "pycharm": {
     "name": "#%%\n"
    }
   }
  },
  {
   "cell_type": "code",
   "execution_count": null,
   "outputs": [],
   "source": [
    "ship_data.loc[:,['RWS-class', 'Factor']]"
   ],
   "metadata": {
    "collapsed": false,
    "pycharm": {
     "name": "#%%\n"
    }
   }
  },
  {
   "cell_type": "code",
   "execution_count": null,
   "outputs": [],
   "source": [
    "df_main"
   ],
   "metadata": {
    "collapsed": false,
    "pycharm": {
     "name": "#%%\n"
    }
   }
  },
  {
   "cell_type": "code",
   "execution_count": null,
   "outputs": [],
   "source": [
    "ship_data = dict(zip(ship_data['RWS-class'],ship_data['Factor']))"
   ],
   "metadata": {
    "collapsed": false,
    "pycharm": {
     "name": "#%%\n"
    }
   }
  },
  {
   "cell_type": "code",
   "execution_count": null,
   "outputs": [],
   "source": [
    "def flow_computation(df):\n",
    "    flows = {}\n",
    "    for i in range(len(df)-1):\n",
    "        a = df.iloc[:,3:]\n",
    "        flow = 0\n",
    "        for row in a.columns:\n",
    "            flow += ship_data[row] * a[row][i]\n",
    "\n",
    "        flows[(df.origin[i],df.destination[i])]= (flow/365)\n",
    "    return flows"
   ],
   "metadata": {
    "collapsed": false,
    "pycharm": {
     "name": "#%%\n"
    }
   }
  },
  {
   "cell_type": "code",
   "execution_count": null,
   "outputs": [],
   "source": [
    "main10 = df_main.head(10)"
   ],
   "metadata": {
    "collapsed": false,
    "pycharm": {
     "name": "#%%\n"
    }
   }
  },
  {
   "cell_type": "code",
   "execution_count": null,
   "outputs": [],
   "source": [
    "flows = flow_computation(main10)"
   ],
   "metadata": {
    "collapsed": false,
    "pycharm": {
     "name": "#%%\n"
    }
   }
  },
  {
   "cell_type": "code",
   "execution_count": null,
   "outputs": [],
   "source": [
    "flows"
   ],
   "metadata": {
    "collapsed": false,
    "pycharm": {
     "name": "#%%\n"
    }
   }
  },
  {
   "cell_type": "code",
   "execution_count": null,
   "outputs": [],
   "source": [
    "flows = dict(sorted(flows.items(), key=lambda item: item[1], reverse=True))"
   ],
   "metadata": {
    "collapsed": false,
    "pycharm": {
     "name": "#%%\n"
    }
   }
  },
  {
   "cell_type": "code",
   "execution_count": null,
   "outputs": [],
   "source": [
    "flows"
   ],
   "metadata": {
    "collapsed": false,
    "pycharm": {
     "name": "#%%\n"
    }
   }
  },
  {
   "cell_type": "markdown",
   "source": [
    "## Get and clean harbour data NL, Ger and Bel"
   ],
   "metadata": {
    "collapsed": false,
    "pycharm": {
     "name": "#%% md\n"
    }
   }
  },
  {
   "cell_type": "code",
   "execution_count": null,
   "outputs": [],
   "source": [
    "## Now get coordinates harbours\n",
    "pd.read_csv('data/harbour_codes_coords/2021-2 UNLOCODE CodeListPart1.csv', encoding=\"ISO-8859-1\", header=None, sep=\",\",\n",
    "            index_col=None)"
   ],
   "metadata": {
    "collapsed": false,
    "pycharm": {
     "name": "#%%\n"
    }
   }
  },
  {
   "cell_type": "code",
   "execution_count": null,
   "outputs": [],
   "source": [
    "#first identify all files in 2021 folder and save their names\n",
    "from os import walk\n",
    "\n",
    "f = []\n",
    "for (dirpath, dirnames, filenames) in walk('data/harbour_codes_coords'):\n",
    "    f.extend(filenames)\n",
    "    break"
   ],
   "metadata": {
    "collapsed": false,
    "pycharm": {
     "name": "#%%\n"
    }
   }
  },
  {
   "cell_type": "code",
   "execution_count": null,
   "outputs": [],
   "source": [
    "d_type_dict = {}\n",
    "for i in range(12):\n",
    "    d_type_dict[i] = str"
   ],
   "metadata": {
    "collapsed": false,
    "pycharm": {
     "name": "#%%\n"
    }
   }
  },
  {
   "cell_type": "code",
   "execution_count": null,
   "outputs": [],
   "source": [
    "\n",
    "#empty list to store data\n",
    "li = []\n",
    "\n",
    "#read everything in as object for now\n",
    "for filename in f:\n",
    "    df = pd.read_csv(\"data/harbour_codes_coords/\" + str(filename), sep=',', index_col=None, header=None,\n",
    "                     encoding=\"ISO-8859-1\", dtype = d_type_dict)\n",
    "    print(filename, 'handled')\n",
    "    li.append(df)"
   ],
   "metadata": {
    "collapsed": false,
    "pycharm": {
     "name": "#%%\n"
    }
   }
  },
  {
   "cell_type": "code",
   "execution_count": null,
   "outputs": [],
   "source": [
    "#create df\n",
    "df_harbour_codes = pd.concat(li, axis=0, ignore_index=True)\n",
    "df_benelux = df_harbour_codes.loc[(df_harbour_codes[1] == 'NL')]\n",
    "# df_benelux = df_harbour_codes.loc[\n",
    "#     (df_harbour_codes[1] == 'NL') | (df_harbour_codes[1] == 'DE') | (df_harbour_codes[1] == 'BE') | (\n",
    "#                 df_harbour_codes[1] == 'LU')]"
   ],
   "metadata": {
    "collapsed": false,
    "pycharm": {
     "name": "#%%\n"
    }
   }
  },
  {
   "cell_type": "code",
   "execution_count": null,
   "outputs": [],
   "source": [
    "df_benelux.fillna(np.nan, inplace=True)"
   ],
   "metadata": {
    "collapsed": false,
    "pycharm": {
     "name": "#%%\n"
    }
   }
  },
  {
   "cell_type": "code",
   "execution_count": null,
   "outputs": [],
   "source": [
    "# fix layout and column names\n",
    "# now drop empty columns\n",
    "df_benelux.rename(columns={0: 'mutation', 1: 'country', 2: 'city_abbr', 3: 'city_full', 4: 'city_full_2', 5: 'subdivision', 6: 'function', 7:'status', 8:'date', 9:'iata_code', 10: 'coords', 11: 'comments'}, inplace=True)"
   ],
   "metadata": {
    "collapsed": false,
    "pycharm": {
     "name": "#%%\n"
    }
   }
  },
  {
   "cell_type": "code",
   "execution_count": null,
   "outputs": [],
   "source": [
    "df_benelux"
   ],
   "metadata": {
    "collapsed": false,
    "pycharm": {
     "name": "#%%\n"
    }
   }
  },
  {
   "cell_type": "code",
   "execution_count": null,
   "outputs": [],
   "source": [
    "df_benelux = df_benelux.loc[:,['country','city_abbr','function', 'coords']]"
   ],
   "metadata": {
    "collapsed": false,
    "pycharm": {
     "name": "#%%\n"
    }
   }
  },
  {
   "cell_type": "code",
   "execution_count": null,
   "outputs": [],
   "source": [
    "df_benelux.reset_index(inplace=True,drop=True)"
   ],
   "metadata": {
    "collapsed": false,
    "pycharm": {
     "name": "#%%\n"
    }
   }
  },
  {
   "cell_type": "code",
   "execution_count": null,
   "outputs": [],
   "source": [
    "df_benelux.to_csv('data/cleaned_harbours.csv')"
   ],
   "metadata": {
    "collapsed": false,
    "pycharm": {
     "name": "#%%\n"
    }
   }
  },
  {
   "cell_type": "code",
   "execution_count": null,
   "outputs": [],
   "source": [
    "d_type_dict = {}\n",
    "for i in range(4):\n",
    "    d_type_dict[i] = str"
   ],
   "metadata": {
    "collapsed": false,
    "pycharm": {
     "name": "#%%\n"
    }
   }
  },
  {
   "cell_type": "code",
   "execution_count": null,
   "outputs": [],
   "source": [
    "df_benelux = pd.read_csv('data/cleaned_harbours.csv', index_col=0, dtype=d_type_dict)"
   ],
   "metadata": {
    "collapsed": false,
    "pycharm": {
     "name": "#%%\n"
    }
   }
  },
  {
   "cell_type": "code",
   "execution_count": null,
   "outputs": [],
   "source": [
    "df_benelux.dropna(subset=['country', 'city_abbr', 'coords'], inplace = True)"
   ],
   "metadata": {
    "collapsed": false,
    "pycharm": {
     "name": "#%%\n"
    }
   }
  },
  {
   "cell_type": "code",
   "execution_count": null,
   "outputs": [],
   "source": [
    "for i in df_benelux.columns:\n",
    "    df_benelux[i] = df_benelux[i].astype('|S80')\n",
    "    df_benelux[i] = df_benelux[i].apply(lambda x: x.decode('utf-8'))"
   ],
   "metadata": {
    "collapsed": false,
    "pycharm": {
     "name": "#%%\n"
    }
   }
  },
  {
   "cell_type": "code",
   "execution_count": null,
   "outputs": [],
   "source": [
    "df_benelux.replace('nan', np.nan)"
   ],
   "metadata": {
    "collapsed": false,
    "pycharm": {
     "name": "#%%\n"
    }
   }
  },
  {
   "cell_type": "code",
   "execution_count": null,
   "outputs": [],
   "source": [
    "df_benelux['harbour_code'] = df_benelux.country+df_benelux.city_abbr"
   ],
   "metadata": {
    "collapsed": false,
    "pycharm": {
     "name": "#%%\n"
    }
   }
  },
  {
   "cell_type": "code",
   "execution_count": null,
   "outputs": [],
   "source": [
    "df_benelux"
   ],
   "metadata": {
    "collapsed": false,
    "pycharm": {
     "name": "#%%\n"
    }
   }
  }
 ],
 "metadata": {
  "kernelspec": {
   "display_name": "Python 3",
   "language": "python",
   "name": "python3"
  },
  "language_info": {
   "codemirror_mode": {
    "name": "ipython",
    "version": 2
   },
   "file_extension": ".py",
   "mimetype": "text/x-python",
   "name": "python",
   "nbconvert_exporter": "python",
   "pygments_lexer": "ipython2",
   "version": "2.7.6"
  }
 },
 "nbformat": 4,
 "nbformat_minor": 0
}