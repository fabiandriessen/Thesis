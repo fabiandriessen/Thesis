{
 "cells": [
  {
   "cell_type": "code",
   "execution_count": 1,
   "outputs": [],
   "source": [
    "import pickle\n",
    "import pandas as pd\n",
    "import numpy as np\n",
    "from API import K\n",
    "import requests\n",
    "import json\n",
    "import googlemaps"
   ],
   "metadata": {
    "collapsed": false,
    "pycharm": {
     "name": "#%%\n"
    }
   }
  },
  {
   "cell_type": "code",
   "execution_count": 2,
   "outputs": [],
   "source": [
    "#import dataframe and drop nans\n",
    "df_2021 = pd.read_csv('data/2021/2021_combined.csv')\n",
    "#drop nans\n",
    "df_2021 = df_2021.loc[df_2021.SK_CODE.isnull() != True]"
   ],
   "metadata": {
    "collapsed": false,
    "pycharm": {
     "name": "#%%\n"
    }
   }
  },
  {
   "cell_type": "code",
   "execution_count": 113,
   "outputs": [
    {
     "data": {
      "text/plain": "        Unnamed: 0  Jaarmaand  Jaar  Maand  Weeknr                       Date  \\\n0                0       2101  2021      1      53  2021-01-01 00:00:00+00:00   \n1                1       2101  2021      1      53  2021-01-01 00:00:00+00:00   \n2                2       2101  2021      1      53  2021-01-01 00:00:00+00:00   \n3                3       2101  2021      1      53  2021-01-01 00:00:00+00:00   \n4                4       2101  2021      1      53  2021-01-01 00:00:00+00:00   \n...            ...        ...   ...    ...     ...                        ...   \n385567      385567       2112  2021     12      52  2021-12-31 22:00:00+00:00   \n385568      385568       2112  2021     12      52  2021-12-31 22:00:00+00:00   \n385569      385569       2112  2021     12      52  2021-12-31 22:00:00+00:00   \n385570      385570       2112  2021     12      52  2021-12-31 22:00:00+00:00   \n385571      385571       2112  2021     12      52  2021-12-31 22:00:00+00:00   \n\n       UNLO_herkomst UNLO_bestemming  v15_1_Scheepstype_RWS SK_CODE  \\\n0              NLAMS           BEANR                      2     M12   \n1              DEGDO           BEANR                      2      M8   \n2              NLVLI           BEWND                      2      M9   \n3              DEHBO           NLRTM                      2      M8   \n4              NLAMS           DEDUI                     16  BIIa-1   \n...              ...             ...                    ...     ...   \n385567         DEDMG           BEGNE                     16  BIIa-1   \n385568         NLRTM           BEGNE                      2     M10   \n385569         DEMHG           BEANR                      2      M9   \n385570         NLRTM           BEGNE                      2      M9   \n385571         FRSXB           NLNIJ                      9     C3l   \n\n        v18_Laadvermogen  v28_Beladingscode  v38_Vervoerd_gewicht  \\\n0                 8000.0                  3                   0.0   \n1                 2860.0                  3                   0.0   \n2                 3520.0                  7             3000000.0   \n3                 1740.0                  7              500000.0   \n4                 2510.0                  7             2004000.0   \n...                  ...                ...                   ...   \n385567            3550.0                  3                   0.0   \n385568            3940.0                  7             3392000.0   \n385569            3510.0                  3                   0.0   \n385570            4290.0                  7             2000000.0   \n385571            3430.0                  7             2178061.0   \n\n        v30_4_Containers_TEU_S  nstr_nw nst2007_nw  \n0                            0      3.0        7.4  \n1                            0      3.0        7.4  \n2                            0      3.0        7.2  \n3                            0      8.0        8.2  \n4                            0      3.0        7.2  \n...                        ...      ...        ...  \n385567                       0      3.0        7.4  \n385568                       0      3.0        7.2  \n385569                       0      3.0        7.2  \n385570                       0      8.0        8.5  \n385571                     153      9.0       19.2  \n\n[383577 rows x 16 columns]",
      "text/html": "<div>\n<style scoped>\n    .dataframe tbody tr th:only-of-type {\n        vertical-align: middle;\n    }\n\n    .dataframe tbody tr th {\n        vertical-align: top;\n    }\n\n    .dataframe thead th {\n        text-align: right;\n    }\n</style>\n<table border=\"1\" class=\"dataframe\">\n  <thead>\n    <tr style=\"text-align: right;\">\n      <th></th>\n      <th>Unnamed: 0</th>\n      <th>Jaarmaand</th>\n      <th>Jaar</th>\n      <th>Maand</th>\n      <th>Weeknr</th>\n      <th>Date</th>\n      <th>UNLO_herkomst</th>\n      <th>UNLO_bestemming</th>\n      <th>v15_1_Scheepstype_RWS</th>\n      <th>SK_CODE</th>\n      <th>v18_Laadvermogen</th>\n      <th>v28_Beladingscode</th>\n      <th>v38_Vervoerd_gewicht</th>\n      <th>v30_4_Containers_TEU_S</th>\n      <th>nstr_nw</th>\n      <th>nst2007_nw</th>\n    </tr>\n  </thead>\n  <tbody>\n    <tr>\n      <th>0</th>\n      <td>0</td>\n      <td>2101</td>\n      <td>2021</td>\n      <td>1</td>\n      <td>53</td>\n      <td>2021-01-01 00:00:00+00:00</td>\n      <td>NLAMS</td>\n      <td>BEANR</td>\n      <td>2</td>\n      <td>M12</td>\n      <td>8000.0</td>\n      <td>3</td>\n      <td>0.0</td>\n      <td>0</td>\n      <td>3.0</td>\n      <td>7.4</td>\n    </tr>\n    <tr>\n      <th>1</th>\n      <td>1</td>\n      <td>2101</td>\n      <td>2021</td>\n      <td>1</td>\n      <td>53</td>\n      <td>2021-01-01 00:00:00+00:00</td>\n      <td>DEGDO</td>\n      <td>BEANR</td>\n      <td>2</td>\n      <td>M8</td>\n      <td>2860.0</td>\n      <td>3</td>\n      <td>0.0</td>\n      <td>0</td>\n      <td>3.0</td>\n      <td>7.4</td>\n    </tr>\n    <tr>\n      <th>2</th>\n      <td>2</td>\n      <td>2101</td>\n      <td>2021</td>\n      <td>1</td>\n      <td>53</td>\n      <td>2021-01-01 00:00:00+00:00</td>\n      <td>NLVLI</td>\n      <td>BEWND</td>\n      <td>2</td>\n      <td>M9</td>\n      <td>3520.0</td>\n      <td>7</td>\n      <td>3000000.0</td>\n      <td>0</td>\n      <td>3.0</td>\n      <td>7.2</td>\n    </tr>\n    <tr>\n      <th>3</th>\n      <td>3</td>\n      <td>2101</td>\n      <td>2021</td>\n      <td>1</td>\n      <td>53</td>\n      <td>2021-01-01 00:00:00+00:00</td>\n      <td>DEHBO</td>\n      <td>NLRTM</td>\n      <td>2</td>\n      <td>M8</td>\n      <td>1740.0</td>\n      <td>7</td>\n      <td>500000.0</td>\n      <td>0</td>\n      <td>8.0</td>\n      <td>8.2</td>\n    </tr>\n    <tr>\n      <th>4</th>\n      <td>4</td>\n      <td>2101</td>\n      <td>2021</td>\n      <td>1</td>\n      <td>53</td>\n      <td>2021-01-01 00:00:00+00:00</td>\n      <td>NLAMS</td>\n      <td>DEDUI</td>\n      <td>16</td>\n      <td>BIIa-1</td>\n      <td>2510.0</td>\n      <td>7</td>\n      <td>2004000.0</td>\n      <td>0</td>\n      <td>3.0</td>\n      <td>7.2</td>\n    </tr>\n    <tr>\n      <th>...</th>\n      <td>...</td>\n      <td>...</td>\n      <td>...</td>\n      <td>...</td>\n      <td>...</td>\n      <td>...</td>\n      <td>...</td>\n      <td>...</td>\n      <td>...</td>\n      <td>...</td>\n      <td>...</td>\n      <td>...</td>\n      <td>...</td>\n      <td>...</td>\n      <td>...</td>\n      <td>...</td>\n    </tr>\n    <tr>\n      <th>385567</th>\n      <td>385567</td>\n      <td>2112</td>\n      <td>2021</td>\n      <td>12</td>\n      <td>52</td>\n      <td>2021-12-31 22:00:00+00:00</td>\n      <td>DEDMG</td>\n      <td>BEGNE</td>\n      <td>16</td>\n      <td>BIIa-1</td>\n      <td>3550.0</td>\n      <td>3</td>\n      <td>0.0</td>\n      <td>0</td>\n      <td>3.0</td>\n      <td>7.4</td>\n    </tr>\n    <tr>\n      <th>385568</th>\n      <td>385568</td>\n      <td>2112</td>\n      <td>2021</td>\n      <td>12</td>\n      <td>52</td>\n      <td>2021-12-31 22:00:00+00:00</td>\n      <td>NLRTM</td>\n      <td>BEGNE</td>\n      <td>2</td>\n      <td>M10</td>\n      <td>3940.0</td>\n      <td>7</td>\n      <td>3392000.0</td>\n      <td>0</td>\n      <td>3.0</td>\n      <td>7.2</td>\n    </tr>\n    <tr>\n      <th>385569</th>\n      <td>385569</td>\n      <td>2112</td>\n      <td>2021</td>\n      <td>12</td>\n      <td>52</td>\n      <td>2021-12-31 22:00:00+00:00</td>\n      <td>DEMHG</td>\n      <td>BEANR</td>\n      <td>2</td>\n      <td>M9</td>\n      <td>3510.0</td>\n      <td>3</td>\n      <td>0.0</td>\n      <td>0</td>\n      <td>3.0</td>\n      <td>7.2</td>\n    </tr>\n    <tr>\n      <th>385570</th>\n      <td>385570</td>\n      <td>2112</td>\n      <td>2021</td>\n      <td>12</td>\n      <td>52</td>\n      <td>2021-12-31 22:00:00+00:00</td>\n      <td>NLRTM</td>\n      <td>BEGNE</td>\n      <td>2</td>\n      <td>M9</td>\n      <td>4290.0</td>\n      <td>7</td>\n      <td>2000000.0</td>\n      <td>0</td>\n      <td>8.0</td>\n      <td>8.5</td>\n    </tr>\n    <tr>\n      <th>385571</th>\n      <td>385571</td>\n      <td>2112</td>\n      <td>2021</td>\n      <td>12</td>\n      <td>52</td>\n      <td>2021-12-31 22:00:00+00:00</td>\n      <td>FRSXB</td>\n      <td>NLNIJ</td>\n      <td>9</td>\n      <td>C3l</td>\n      <td>3430.0</td>\n      <td>7</td>\n      <td>2178061.0</td>\n      <td>153</td>\n      <td>9.0</td>\n      <td>19.2</td>\n    </tr>\n  </tbody>\n</table>\n<p>383577 rows × 16 columns</p>\n</div>"
     },
     "execution_count": 113,
     "metadata": {},
     "output_type": "execute_result"
    }
   ],
   "source": [
    "df_2021"
   ],
   "metadata": {
    "collapsed": false,
    "pycharm": {
     "name": "#%%\n"
    }
   }
  },
  {
   "cell_type": "code",
   "execution_count": 3,
   "outputs": [],
   "source": [
    "# group trips by origin, destination and category\n",
    "df_t = df_2021.groupby(by=['UNLO_herkomst', 'UNLO_bestemming', 'SK_CODE']).count().reset_index().sort_values(\n",
    "    by='Jaarmaand', ascending=False).iloc[:, :4].reset_index(drop=True)"
   ],
   "metadata": {
    "collapsed": false,
    "pycharm": {
     "name": "#%%\n"
    }
   }
  },
  {
   "cell_type": "code",
   "execution_count": 4,
   "outputs": [],
   "source": [
    "# give columns english names\n",
    "df_t.rename(\n",
    "    columns={'UNLO_herkomst': 'origin', 'UNLO_bestemming': 'destination', 'SK_CODE': 'type', 'Unnamed: 0': 'trips'},\n",
    "    inplace=True)"
   ],
   "metadata": {
    "collapsed": false,
    "pycharm": {
     "name": "#%%\n"
    }
   }
  },
  {
   "cell_type": "code",
   "execution_count": 5,
   "outputs": [],
   "source": [
    "# subset inland trips\n",
    "df_t = df_t.loc[(df_t.origin.str.contains('NL')) & (df_t.destination.str.contains('NL'))]\n",
    "df_t.reset_index(inplace=True, drop=True)"
   ],
   "metadata": {
    "collapsed": false,
    "pycharm": {
     "name": "#%%\n"
    }
   }
  },
  {
   "cell_type": "code",
   "execution_count": 6,
   "outputs": [
    {
     "data": {
      "text/plain": "{('NLAMS', 'NLRTM', 'M8'): 3510,\n ('NLAMS', 'NLRTM', 'M12'): 2076,\n ('NLRTM', 'NLMOE', 'M8'): 1584,\n ('NLRTM', 'NLRTM', 'M8'): 715,\n ('NLAMS', 'NLRTM', 'M9'): 1316,\n ('NLRTM', 'NLWLK', 'M3'): 973,\n ('NLOOS', 'NLTLB', 'M8'): 688,\n ('NLRTM', 'NLAMS', 'M6'): 881,\n ('NLAER', 'NLAMS', 'BI'): 824,\n ('NLDHR', 'NLDHR', 'M0'): 411,\n ('NLTLB', 'NLRTM', 'M8'): 623,\n ('NLRTM', 'NLOOS', 'M8'): 727,\n ('NLHAR', 'NLWTE', 'M12'): 690,\n ('NLHGL', 'NLRTM', 'M8'): 652,\n ('NLRTM', 'NLVLI', 'M8'): 658,\n ('NLRTM', 'NLRTM', 'M12'): 363,\n ('NLMOE', 'NLOOS', 'M8'): 615,\n ('NLVEG', 'NLRTM', 'M6'): 575,\n ('NLAMS', 'NLRTM', 'M11'): 666,\n ('NLMOE', 'NLAPN', 'M8'): 604,\n ('NLVEG', 'NLRTM', 'M7'): 581,\n ('NLAMS', 'NLMOE', 'M8'): 588,\n ('NLRTM', 'NLMEP', 'M8'): 568,\n ('NLSTD', 'NLSTD', 'M0'): 282,\n ('NLAMS', 'NLLMR', 'BIIL-1'): 553,\n ('NLNIJ', 'NLWAS', 'M8'): 508,\n ('NLWSP', 'NLAER', 'M6'): 510,\n ('NLDOR', 'NLRTM', 'M8'): 459,\n ('NLAMS', 'NLHAS', 'M8'): 436,\n ('NLRTM', 'NLDZL', 'M8'): 415,\n ('NLRTM', 'NLTIE', 'M8'): 450,\n ('NLRTM', 'NLTLB', 'M3'): 439,\n ('NLNIJ', 'NLABL', 'M8'): 413,\n ('NLAMS', 'NLWMO', 'M2'): 451,\n ('NLTNZ', 'NLRTM', 'M8'): 438,\n ('NLRTM', 'NLVLI', 'M9'): 414,\n ('NLAMS', 'NLRTM', 'M10'): 427,\n ('NLRTM', 'NLKAM', 'M8'): 430,\n ('NLRTM', 'NLRTM', 'M6'): 212,\n ('NLAMS', 'NLKGZ', 'M2'): 416,\n ('NLWBR', 'NLRTM', 'M8'): 404,\n ('NLTNZ', 'NLVLI', 'M8'): 390,\n ('NLUTC', 'NLRTM', 'M8'): 386,\n ('NLBZM', 'NLRTM', 'M8'): 373,\n ('NLAER', 'NLAMS', 'M3'): 362,\n ('NLAER', 'NLRTM', 'M6'): 372,\n ('NLALK', 'NLIJM', 'M3'): 373,\n ('NLNKK', 'NLAMS', 'M2'): 330,\n ('NLRTM', 'NLOSS', 'M6'): 348,\n ('NLRTM', 'NLARN', 'M8'): 300,\n ('NLLEY', 'NLAMS', 'M2'): 357,\n ('NLBZM', 'NLRTM', 'M6'): 352,\n ('NLBZM', 'NLHTB', 'M8'): 359,\n ('NLRTM', 'NLNIJ', 'M8'): 358,\n ('NLZWO', 'NLAMS', 'M8'): 343,\n ('NLAMS', 'NLAMS', 'M8'): 175,\n ('NLUTC', 'NLTIE', 'M8'): 324,\n ('NLRTM', 'NLZWO', 'M8'): 321,\n ('NLMOE', 'NLIJM', 'M6'): 320,\n ('NLAER', 'NLRTM', 'M8'): 321,\n ('NLRTM', 'NLSTI', 'M8'): 326,\n ('NLMOE', 'NLRTM', 'C3b'): 324,\n ('NLFAR', 'NLRTM', 'M8'): 309,\n ('NLBON', 'NLNRW', 'M2'): 332,\n ('NLVEG', 'NLHEJ', 'M3'): 314,\n ('NLRTM', 'NLRTM', 'M10'): 164,\n ('NLGOR', 'NLRTM', 'M6'): 317,\n ('NLVLI', 'NLVLI', 'M0'): 159,\n ('NLLEY', 'NLAMS', 'M4'): 307,\n ('NLAER', 'NLLEY', 'M4'): 291,\n ('NLAMS', 'NLDEV', 'M3'): 235,\n ('NLAPN', 'NLRTM', 'M8'): 293,\n ('NLIJM', 'NLMOE', 'M8'): 253,\n ('NLTNZ', 'NLAMS', 'M8'): 264,\n ('NLLWR', 'NLRTM', 'M8'): 293,\n ('NLRTM', 'NLVLI', 'M6'): 282,\n ('NLIJM', 'NLMST', 'M8'): 170,\n ('NLHAR', 'NLAMS', 'M10'): 288,\n ('NLAMS', 'NLAER', 'M6'): 244,\n ('NLHRD', 'NLAMS', 'M6'): 266,\n ('NLRTM', 'NLMOE', 'M6'): 255,\n ('NLVLI', 'NLAMS', 'M12'): 247,\n ('NLCUY', 'NLRTM', 'M8'): 247,\n ('NLHBG', 'NLELL', 'M2'): 270,\n ('NLUTC', 'NLRTM', 'BII-1'): 272,\n ('NLRTM', 'NLHGL', 'M6'): 228,\n ('NLFOX', 'NLRTM', 'M8'): 225,\n ('NLBON', 'NLTLB', 'M2'): 271,\n ('NLRTM', 'NLDOE', 'M8'): 263,\n ('NLTNZ', 'NLTNZ', 'M8'): 133,\n ('NLTLB', 'NLMOE', 'M3'): 247,\n ('NLAPN', 'NLRTM', 'M6'): 236,\n ('NLNIJ', 'NLDRU', 'M8'): 261,\n ('NLRTM', 'NLVSN', 'M8'): 206,\n ('NLBON', 'NLHTB', 'M2'): 236,\n ('NLAMS', 'NLHLM', 'M2'): 217,\n ('NLAMS', 'NLAMS', 'M2'): 129,\n ('NLWIW', 'NLHRN', 'M5'): 236,\n ('NLBON', 'NLEIN', 'M2'): 225,\n ('NLRTM', 'NLTLB', 'M2'): 242,\n ('NLHRV', 'NLAMS', 'M8'): 194,\n ('NLRTM', 'NLSLU', 'M8'): 205,\n ('NLAMS', 'NLLMR', 'M10'): 248,\n ('NLAER', 'NLNIE', 'M6'): 224,\n ('NLAER', 'NLAMS', 'M2'): 230,\n ('NLRTM', 'NLGOR', 'M11'): 205,\n ('NLRTM', 'NLGTB', 'M8'): 221,\n ('NLOSS', 'NLHRW', 'M2'): 234,\n ('NLRTM', 'NLGRQ', 'M8'): 184,\n ('NLTLB', 'NLMOE', 'M8'): 172,\n ('NLRTM', 'NLABL', 'M8'): 223,\n ('NLRTM', 'NLKAM', 'M9'): 224,\n ('NLOSS', 'NLRTM', 'M8'): 211,\n ('NLOMD', 'NLRTM', 'M8'): 219,\n ('NLAER', 'NLNIE', 'M8'): 223,\n ('NLRTM', 'NLZWI', 'M8'): 177,\n ('NLKAM', 'NLAMS', 'M6'): 185,\n ('NLZWO', 'NLAMS', 'M2'): 172,\n ('NLAMS', 'NLUTC', 'M8'): 186,\n ('NLRTM', 'NLBON', 'M12'): 212,\n ('NLBON', 'NLVEN', 'M8'): 215,\n ('NLHEJ', 'NLKOR', 'M3'): 162,\n ('NLRTM', 'NLVLI', 'M11'): 200,\n ('NLKGZ', 'NLZAA', 'BIIa-1'): 211,\n ('NLRTM', 'NLAPN', 'M4'): 155,\n ('NLRTM', 'NLAMS', 'C3l'): 152,\n ('NLAER', 'NLSWI', 'M3'): 191,\n ('NLNIJ', 'NLABL', 'M9'): 195,\n ('NLRTM', 'NLLID', 'M3'): 189,\n ('NLAMS', 'NLHGL', 'M7'): 204,\n ('NLFAR', 'NLBOT', 'M8'): 154,\n ('NLNIJ', 'NLWAS', 'M9'): 203,\n ('NLAMS', 'NLVAN', 'M2'): 203,\n ('NLDOR', 'NLLSH', 'M2'): 147,\n ('NLAMS', 'NLAER', 'M4'): 197,\n ('NLHAR', 'NLHKK', 'M4'): 171,\n ('NLEES', 'NLAMS', 'M4'): 202,\n ('NLMOE', 'NLTNZ', 'M8'): 144,\n ('NLAMS', 'NLDRA', 'BII-1'): 157,\n ('NLALM', 'NLHGL', 'M8'): 114,\n ('NLRTM', 'NLDON', 'M3'): 196,\n ('NLRTM', 'NLVEN', 'M9'): 125,\n ('NLBON', 'NLSTI', 'BIIa-1'): 132,\n ('NLAMS', 'NLHEJ', 'M2'): 185,\n ('NLMAA', 'NLNRW', 'M2'): 181,\n ('NLRTM', 'NLGOR', 'M12'): 188,\n ('NLRTM', 'NLKAZ', 'M3'): 150,\n ('NLDRO', 'NLKAM', 'M4'): 190,\n ('NLHEJ', 'NLDVT', 'M2'): 192,\n ('NLAMS', 'NLTIE', 'M4'): 167,\n ('NLAMS', 'NLDEV', 'M4'): 161,\n ('NLRTM', 'NLVEN', 'C3l'): 151,\n ('NLRTM', 'NLVLI', 'M12'): 190,\n ('NLHGL', 'NLAMS', 'M6'): 178,\n ('NLABL', 'NLRTM', 'M9'): 183,\n ('NLEEM', 'NLRTM', 'M8'): 130,\n ('NLBON', 'NLRTM', 'M6'): 114,\n ('NLRTM', 'NLRTM', 'M9'): 92,\n ('NLTNZ', 'NLBRS', 'M8'): 159,\n ('NLHLM', 'NLRTM', 'M2'): 172,\n ('NLBON', 'NLWSM', 'BII-1'): 164,\n ('NLDOR', 'NLRTM', 'M6'): 175,\n ('NLOMD', 'NLWAS', 'M8'): 171,\n ('NLDOR', 'NLAMS', 'M8'): 173,\n ('NLTNZ', 'NLTNZ', 'M0'): 90,\n ('NLHTB', 'NLRTM', 'M8'): 144,\n ('NLSWI', 'NLWSP', 'M6'): 164,\n ('NLRTM', 'NLAPN', 'M3'): 168,\n ('NLHEJ', 'NLAAL', 'M3'): 166,\n ('NLRTM', 'NLIJM', 'M8'): 164,\n ('NLAMS', 'NLWIW', 'M8'): 169,\n ('NLRTM', 'NLBNB', 'M8'): 117,\n ('NLLEY', 'NLAMS', 'M6'): 148,\n ('NLAMS', 'NLVLI', 'M8'): 173,\n ('NLKAM', 'NLAMS', 'M5'): 168,\n ('NLIJM', 'NLRTM', 'M2'): 116,\n ('NLEEM', 'NLFAR', 'M8'): 172,\n ('NLKGZ', 'NLAMS', 'M3'): 172,\n ('NLWSP', 'NLAER', 'M8'): 172,\n ('NLLEY', 'NLSWI', 'M3'): 171,\n ('NLHRW', 'NLTEA', 'M3'): 162,\n ('NLMOE', 'NLBRD', 'M6'): 150,\n ('NLPER', 'NLFOX', 'M8'): 138,\n ('NLTLB', 'NLZBG', 'M3'): 167,\n ('NLTNZ', 'NLTNZ', 'BII-1'): 85,\n ('NLBNB', 'NLHGL', 'M8'): 115,\n ('NLAMS', 'NLGRQ', 'M8'): 156,\n ('NLKAM', 'NLAMS', 'M8'): 160,\n ('NLZWO', 'NLAMS', 'M6'): 158,\n ('NLAMS', 'NLDEV', 'M6'): 155,\n ('NLVSN', 'NLRTM', 'M9'): 126,\n ('NLDFT', 'NLBON', 'M3'): 164,\n ('NLPER', 'NLVEG', 'M6'): 123,\n ('NLVEN', 'NLBON', 'M9'): 91,\n ('NLOSS', 'NLCUY', 'M8'): 142,\n ('NLNIJ', 'NLDRU', 'M6'): 156,\n ('NLMEP', 'NLZWS', 'BII-1'): 134,\n ('NLNIJ', 'NLAMS', 'M8'): 145,\n ('NLBON', 'NLMST', 'M2'): 146,\n ('NLKWR', 'NLRTM', 'M3'): 113,\n ('NLRTM', 'NLMOE', 'M9'): 144,\n ('NLLEY', 'NLLWR', 'M4'): 144,\n ('NLDRO', 'NLKAM', 'M6'): 147,\n ('NLBON', 'NLRTM', 'M9'): 103,\n ('NLRLA', 'NLRTM', 'M8'): 82,\n ('NLAMS', 'NLVLI', 'M11'): 152,\n ('NLZMM', 'NLRTM', 'M4'): 101,\n ('NLAMS', 'NLMOE', 'M6'): 142,\n ('NLDZL', 'NLFAR', 'M8'): 140,\n ('NLKAM', 'NLRTM', 'M10'): 150,\n ('NLGNM', 'NLAMS', 'M6'): 134,\n ('NLBON', 'NLNIJ', 'M5'): 151,\n ('NLVLI', 'NLRTM', 'M10'): 140,\n ('NLMOE', 'NLTNZ', 'BII-1'): 134,\n ('NLAMS', 'NLAER', 'M8'): 132,\n ('NLRTM', 'NLWRV', 'M6'): 140,\n ('NLAMS', 'NLDST', 'BIIa-1'): 146,\n ('NLSWI', 'NLNKK', 'M3'): 134,\n ('NLHRW', 'NLVEG', 'M2'): 144,\n ('NLAMS', 'NLRTM', 'BII-2b'): 132,\n ('NLHAR', 'NLDRA', 'M2'): 134,\n ('NLHAR', 'NLLWR', 'M2'): 128,\n ('NLBON', 'NLVEG', 'M3'): 147,\n ('NLHEJ', 'NLEML', 'M2'): 133,\n ('NLRTM', 'NLGTB', 'M6'): 120,\n ('NLBRS', 'NLTNZ', 'M6'): 144,\n ('NLMAA', 'NLCUY', 'BI'): 134,\n ('NLBOT', 'NLAMS', 'M8'): 144,\n ('NLAER', 'NLRTM', 'M10'): 137,\n ('NLVEG', 'NLAMS', 'M2'): 125,\n ('NLPER', 'NLAMS', 'M8'): 127,\n ('NLLEY', 'NLAMS', 'M8'): 131,\n ('NLWSM', 'NLLIN', 'BI'): 130,\n ('NLHEJ', 'NLHIL', 'M3'): 116,\n ('NLRTM', 'NLQDG', 'M3'): 137,\n ('NLEEM', 'NLALM', 'M8'): 72,\n ('NLAMS', 'NLARK', 'M4'): 124,\n ('NLRTM', 'NLZMM', 'M2'): 126,\n ('NLHTB', 'NLABL', 'M8'): 114,\n ('NLAMS', 'NLVEG', 'BI'): 122,\n ('NLDTK', 'NLSCH', 'M4'): 130,\n ('NLTNZ', 'NLMST', 'M8'): 137,\n ('NLBON', 'NLKSL', 'BII-1'): 131,\n ('NLSTI', 'NLAMS', 'M8'): 113,\n ('NLDST', 'NLHTB', 'M3'): 128,\n ('NLOOS', 'NLPER', 'M8'): 71,\n ('NLAER', 'NLSWI', 'M4'): 118,\n ('NLAMS', 'NLEIN', 'M3'): 133,\n ('NLGRQ', 'NLHAR', 'M4'): 99,\n ('NLTNZ', 'NLVLI', 'M6'): 129,\n ('NLAMS', 'NLAMS', 'M12'): 68,\n ('NLAPN', 'NLKWZ', 'M6'): 99,\n ('NLAMS', 'NLDEV', 'M2'): 133,\n ('NLVLA', 'NLSLU', 'M10'): 79,\n ('NLHAR', 'NLKAM', 'M6'): 92,\n ('NLAMS', 'NLOMD', 'M8'): 123,\n ('NLTNZ', 'NLTNZ', 'M6'): 66,\n ('NLHEJ', 'NLDUS', 'M3'): 100,\n ('NLHAR', 'NLDRA', 'M4'): 116,\n ('NLLOM', 'NLHAG', 'M3'): 104,\n ('NLHAN', 'NLBRS', 'M8'): 109,\n ('NLRTM', 'NLOSS', 'M7'): 115,\n ('NLRTM', 'NLRTM', 'M11'): 65,\n ('NLBON', 'NLAER', 'M2'): 101,\n ('NLRTM', 'NLAMS', 'M5'): 86,\n ('NLIJM', 'NLHAR', 'M8'): 115,\n ('NLDHR', 'NLRTM', 'M8'): 102,\n ('NLMEP', 'NLAMS', 'M8'): 95,\n ('NLHEJ', 'NLAME', 'M3'): 114,\n ('NLDST', 'NLOSS', 'M2'): 121,\n ('NLRTM', 'NLGRO', 'M8'): 90,\n ('NLAMS', 'NLIJM', 'M6'): 113,\n ('NLHGL', 'NLAMS', 'M8'): 102,\n ('NLAMS', 'NLRAS', 'M4'): 106,\n ('NLVEG', 'NLRTM', 'BI'): 110,\n ('NLAMS', 'NLZWI', 'M6'): 123,\n ('NLLEY', 'NLWSP', 'M6'): 120,\n ('NLZWO', 'NLAMS', 'M3'): 92,\n ('NLSNK', 'NLLEY', 'M5'): 114,\n ('NLARK', 'NLHRW', 'M3'): 114,\n ('NLWGW', 'NLRTM', 'M8'): 108,\n ('NLBON', 'NLHAG', 'M3'): 76,\n ('NLSTI', 'NLTNZ', 'M8'): 109,\n ('NLBON', 'NLVEG', 'M2'): 95,\n ('NLRTM', 'NLOSS', 'M2'): 110,\n ('NLDOR', 'NLAMS', 'M9'): 80,\n ('NLLEY', 'NLAER', 'M3'): 103,\n ('NLVLI', 'NLSTD', 'M8'): 77,\n ('NLAMS', 'NLLEY', 'M3'): 108,\n ('NLAMS', 'NLZAA', 'M2'): 115,\n ('NLHAN', 'NLBRS', 'M6'): 91,\n ('NLMOE', 'NLSLU', 'M8'): 73,\n ('NLVLI', 'NLVLI', 'M6'): 59,\n ('NLKAM', 'NLIJM', 'M2'): 78,\n ('NLAMS', 'NLAMS', 'M6'): 58,\n ('NLEEM', 'NLALM', 'M6'): 63,\n ('NLRTM', 'NLARN', 'M12'): 98,\n ('NLRTM', 'NLNKK', 'M2'): 80,\n ('NLZWO', 'NLAMS', 'M4'): 84,\n ('NLDIN', 'NLASP', 'M3'): 59,\n ('NLDFT', 'NLALM', 'M3'): 58,\n ('NLRTM', 'NLAMS', 'BIIa-1'): 102,\n ('NLAMS', 'NLOSS', 'M2'): 92,\n ('NLAMS', 'NLHAR', 'M8'): 101,\n ('NLAER', 'NLLEY', 'M6'): 81,\n ('NLHAR', 'NLKAM', 'M4'): 87,\n ('NLAMS', 'NLDEV', 'M5'): 108,\n ('NLHRW', 'NLAER', 'M3'): 71,\n ('NLOSS', 'NLMOE', 'M6'): 69,\n ('NLRTM', 'NLGOU', 'M2'): 92,\n ('NLHAR', 'NLAMS', 'M6'): 93,\n ('NLAMS', 'NLUTC', 'M6'): 97,\n ('NLSMO', 'NLZOT', 'M3'): 97,\n ('NLLWR', 'NLWIW', 'M5'): 91,\n ('NLGTB', 'NLAMS', 'M8'): 101,\n ('NLMAA', 'NLOSS', 'M5'): 95,\n ('NLSLU', 'NLOSS', 'M8'): 57,\n ('NLRTM', 'NLKAM', 'M6'): 89,\n ('NLRTM', 'NLMOE', 'M5'): 104,\n ('NLMAA', 'NLHEJ', 'M3'): 95,\n ('NLHRV', 'NLAMS', 'M6'): 87,\n ('NLRTM', 'NLALM', 'M8'): 89,\n ('NLSTD', 'NLSTD', 'M4'): 54,\n ('NLLWR', 'NLPER', 'M8'): 95,\n ('NLPER', 'NLAMS', 'M6'): 105,\n ('NLRTM', 'NLLID', 'M2'): 94,\n ('NLAMS', 'NLVLA', 'M6'): 91,\n ('NLMOE', 'NLVLI', 'M8'): 102,\n ('NLRTM', 'NLAMS', 'BII-1'): 97,\n ('NLEEM', 'NLALM', 'M5'): 63,\n ('NLMAA', 'NLHTB', 'M2'): 103,\n ('NLSCH', 'NLWIW', 'M5'): 99,\n ('NLAMS', 'NLVLA', 'M8'): 90,\n ('NLDRA', 'NLAMS', 'BII-2L'): 58,\n ('NLHGL', 'NLDFT', 'M3'): 88,\n ('NLROO', 'NLSLU', 'M6'): 72,\n ('NLVLI', 'NLTNZ', 'M10'): 97,\n ('NLRTM', 'NLAMS', 'M7'): 100,\n ('NLHGL', 'NLWIS', 'M4'): 51,\n ('NLDOR', 'NLVLI', 'M8'): 91,\n ('NLDHR', 'NLSCH', 'M4'): 82,\n ('NLDST', 'NLAMS', 'M8'): 92,\n ('NLUTC', 'NLRTM', 'M6'): 77,\n ('NLDFT', 'NLALM', 'M4'): 50,\n ('NLPER', 'NLMEP', 'M8'): 95,\n ('NLAMS', 'NLENS', 'M8'): 64,\n ('NLAMS', 'NLZAA', 'M3'): 97,\n ('NLENK', 'NLAMS', 'M8'): 86,\n ('NLBON', 'NLAME', 'M4'): 71,\n ('NLAMS', 'NLHTB', 'M6'): 86,\n ('NLNIJ', 'NLPER', 'M8'): 90,\n ('NLRTM', 'NLZAA', 'M11'): 96,\n ('NLLEY', 'NLLEY', 'M4'): 49,\n ('NLAER', 'NLSPL', 'M3'): 90,\n ('NLLSH', 'NLBON', 'M2'): 90,\n ('NLBON', 'NLBRD', 'M4'): 90,\n ('NLTNZ', 'NLRTM', 'M6'): 89,\n ('NLLIN', 'NLWSM', 'B04'): 92,\n ('NLAMS', 'NLALM', 'M6'): 94,\n ('NLWED', 'NLRTM', 'M8'): 73,\n ('NLDOR', 'NLRTM', 'M12'): 86,\n ('NLWAS', 'NLOMD', 'M9'): 94,\n ('NLEUR', 'NLWRV', 'M6'): 89,\n ('NLRTM', 'NLTNZ', 'M12'): 66,\n ('NLEEM', 'NLUTC', 'M8'): 57,\n ('NLGNM', 'NLAMS', 'M3'): 86,\n ('NLMOE', 'NLETT', 'M6'): 94,\n ('NLHTR', 'NLNWG', 'M4'): 80,\n ('NLRTM', 'NLUTC', 'M10'): 86,\n ('NLVLL', 'NLHAR', 'M4'): 80,\n ('NLLEY', 'NLHEG', 'M4'): 79,\n ('NLAMS', 'NLZWO', 'BII-1'): 81,\n ('NLBRS', 'NLSLU', 'M8'): 93,\n ('NLHAR', 'NLHAR', 'M6'): 47,\n ('NLLWR', 'NLAMS', 'M6'): 56,\n ('NLNER', 'NLVEN', 'M8'): 93,\n ('NLZAD', 'NLZAA', 'M4'): 93,\n ('NLRTM', 'NLDOI', 'M2'): 82,\n ('NLKSL', 'NLOIH', 'M3'): 92,\n ('NLAER', 'NLAER', 'M6'): 46,\n ('NLMSB', 'NLBON', 'M2'): 56,\n ('NLENS', 'NLRTM', 'M8'): 58,\n ('NLHAR', 'NLOME', 'M4'): 82,\n ('NLMOE', 'NLLMR', 'M5'): 91,\n ('NLRTM', 'NLDOR', 'M9'): 82,\n ('NLGOE', 'NLBRS', 'M5'): 64,\n ('NLBON', 'NLRTM', 'M5'): 53,\n ('NLMAA', 'NLTLB', 'M2'): 58,\n ('NLAMS', 'NLWSP', 'M3'): 69,\n ('NLWRV', 'NLZAA', 'M4'): 87,\n ('NLAER', 'NLSWI', 'M2'): 59,\n ('NLRTM', 'NLBON', 'M8'): 66,\n ('NLAMS', 'NLAMS', 'M9'): 44,\n ('NLMEP', 'NLRTM', 'M6'): 84,\n ('NLAMS', 'NLLOB', 'M9'): 59,\n ('NLHEJ', 'NLOOS', 'M6'): 79,\n ('NLWGW', 'NLAMS', 'M8'): 83,\n ('NLNIJ', 'NLRTM', 'C3l'): 86,\n ('NLAMS', 'NLLEY', 'B04'): 72,\n ('NLAMS', 'NLWGW', 'M2'): 75,\n ('NLAMS', 'NLOSS', 'M4'): 86,\n ('NLKAM', 'NLDRO', 'M5'): 83,\n ('NLLEY', 'NLSWI', 'M2'): 79,\n ('NLEEM', 'NLLMR', 'BIIa-1'): 78,\n ('NLVEG', 'NLRTM', 'M2'): 76,\n ('NLAMS', 'NLEIN', 'M2'): 69,\n ('NLNKK', 'NLAMS', 'M5'): 73,\n ('NLHEJ', 'NLKRD', 'M3'): 75,\n ('NLRTM', 'NLVLA', 'M8'): 74,\n ('NLAMS', 'NLRAS', 'M2'): 74,\n ('NLAMS', 'NLDHR', 'M8'): 73,\n ('NLRTM', 'NLAPN', 'M2'): 84,\n ('NLRTM', 'NLNIJ', 'M11'): 75,\n ('NLRTM', 'NLAMS', 'M3'): 71,\n ('NLAER', 'NLRTM', 'BII-1'): 82,\n ('NLSLU', 'NLRTM', 'M10'): 46,\n ('NLHAR', 'NLOME', 'M6'): 77,\n ('NLDZL', 'NLBOT', 'M8'): 73,\n ('NLFAR', 'NLEEM', 'BIIa-1'): 78,\n ('NLRTM', 'NLNIJ', 'M6'): 66,\n ('NLAMS', 'NLAPN', 'M6'): 54,\n ('NLBON', 'NLARK', 'M2'): 61,\n ('NLLMR', 'NLDRA', 'BII-1'): 68,\n ('NLRTM', 'NLRTM', 'C3b'): 42,\n ('NLOME', 'NLIJM', 'M2'): 42,\n ('NLAMS', 'NLOSS', 'BII-1'): 58,\n ('NLMOE', 'NLRNK', 'M6'): 81,\n ('NLALM', 'NLAMS', 'M7'): 80,\n ('NLAMS', 'NLHBG', 'M2'): 60,\n ('NLAMS', 'NLEEM', 'M8'): 62,\n ('NLIJM', 'NLMST', 'M6'): 50,\n ('NLZWO', 'NLAMS', 'M5'): 62,\n ('NLSWI', 'NLAMS', 'M6'): 63,\n ('NLMID', 'NLBRS', 'M6'): 49,\n ('NLWSC', 'NLAMS', 'M4'): 80,\n ('NLDOR', 'NLAMS', 'M6'): 70,\n ('NLNKK', 'NLHRD', 'M4'): 73,\n ('NLBGU', 'NLIJM', 'M2'): 49,\n ('NLBRD', 'NLRTM', 'M6'): 63,\n ('NLEUR', 'NLWLK', 'M3'): 64,\n ('NLZWI', 'NLZWO', 'M2'): 42,\n ('NLBRS', 'NLZUL', 'M6'): 73,\n ('NLOMD', 'NLLSH', 'M2'): 80,\n ('NLRTM', 'NLKAM', 'M2'): 43,\n ('NLAMS', 'NLWGW', 'M3'): 77,\n ('NLBON', 'NLWLK', 'M4'): 75,\n ('NLLOM', 'NLLIT', 'M8'): 73,\n ('NLRTM', 'NLOME', 'M2'): 44,\n ('NLIJM', 'NLSCH', 'M3'): 54,\n ('NLAMS', 'NLHLM', 'M3'): 52,\n ('NLBON', 'NLRTM', 'M4'): 63,\n ('NLHAR', 'NLHAR', 'M12'): 40,\n ('NLRTM', 'NLWMO', 'M6'): 69,\n ('NLHAR', 'NLHAR', 'M3'): 40,\n ('NLSTD', 'NLBRS', 'M8'): 41,\n ('NLHAR', 'NLHAR', 'M4'): 40,\n ('NLAMS', 'NLTIE', 'M2'): 53,\n ('NLRTM', 'NLMOE', 'M12'): 70,\n ('NLOSS', 'NLAMS', 'M6'): 76,\n ('NLSJK', 'NLRTM', 'M8'): 72,\n ('NLHEJ', 'NLDUS', 'M5'): 69,\n ('NLSWI', 'NLLEY', 'M4'): 76,\n ('NLSTD', 'NLSTD', 'M6'): 39,\n ('NLSWI', 'NLNKK', 'M4'): 60,\n ('NLGNM', 'NLAMS', 'M4'): 64,\n ('NLAMS', 'NLRHD', 'M6'): 46,\n ('NLAMS', 'NLZAA', 'M6'): 72,\n ('NLAMS', 'NLVEG', 'M4'): 75,\n ('NLRTM', 'NLMST', 'M6'): 60,\n ('NLCUY', 'NLRTM', 'M6'): 67,\n ('NLIJM', 'NLMST', 'M7'): 43,\n ('NLDOI', 'NLAMS', 'M2'): 57,\n ('NLOSS', 'NLVEG', 'M6'): 60,\n ('NLIJM', 'NLTLB', 'M1'): 71,\n ('NLDRO', 'NLELB', 'M3'): 77,\n ('NLAMS', 'NLBON', 'BII-2L'): 45,\n ('NLAKR', 'NLHAR', 'M4'): 75,\n ('NLMEP', 'NLAMS', 'M4'): 57,\n ('NLOBO', 'NLMST', 'M6'): 73,\n ('NLMLR', 'NLRTM', 'M6'): 68,\n ('NLAMS', 'NLNKK', 'B03'): 69,\n ('NLHTB', 'NLBON', 'M3'): 65,\n ('NLHGL', 'NLDFT', 'M4'): 76,\n ('NLKSL', 'NLLIN', 'B04'): 72,\n ('NLPHL', 'NLBON', 'M2'): 40,\n ('NLMAA', 'NLOOS', 'M6'): 72,\n ('NLAMS', 'NLRTM', 'BIIL-1'): 69,\n ('NLEUR', 'NLHAR', 'M8'): 70,\n ('NLMST', 'NLSDB', 'M5'): 74,\n ('NLTIE', 'NLWSP', 'M2'): 73,\n ('NLLEY', 'NLRTM', 'M6'): 63,\n ('NLBON', 'NLHAG', 'M2'): 61,\n ('NLWGW', 'NLRTM', 'M3'): 76,\n ('NLMOE', 'NLAPN', 'M6'): 59,\n ('NLPNN', 'NLRTM', 'M6'): 60,\n ('NLVLI', 'NLVLI', 'M8'): 37,\n ('NLVEN', 'NLVLI', 'M6'): 37,\n ('NLMEP', 'NLWTZ', 'M8'): 63,\n ('NLTNZ', 'NLTNZ', 'M10'): 37,\n ('NLOSS', 'NLRTM', 'M4'): 60,\n ('NLHRW', 'NLTLB', 'M2'): 71,\n ('NLALK', 'NLIJM', 'M2'): 66,\n ('NLFAR', 'NLFAR', 'M8'): 37,\n ('NLAER', 'NLSPL', 'M4'): 66,\n ('NLDST', 'NLARK', 'M3'): 69,\n ('NLAMS', 'NLFAR', 'M6'): 73,\n ('NLMIH', 'NLBRS', 'M6'): 53,\n ('NLDZL', 'NLRTM', 'M6'): 69,\n ('NLCOE', 'NLDST', 'M1'): 71,\n ('NLPER', 'NLPER', 'M6'): 36,\n ('NLVLI', 'NLHAN', 'M9'): 56,\n ('NLVLI', 'NLVLI', 'M9'): 36,\n ('NLVEG', 'NLEPL', 'BI'): 70,\n ('NLRTM', 'NLDEV', 'M3'): 61,\n ('NLEEM', 'NLALM', 'M7'): 41,\n ('NLHTB', 'NLRTM', 'M6'): 62,\n ('NLHFN', 'NLHRW', 'M8'): 46,\n ('NLRTM', 'NLAMS', 'M4'): 65,\n ('NLRTM', 'NLDRU', 'M8'): 42,\n ('NLTIE', 'NLAMS', 'M6'): 70,\n ('NLTIE', 'NLRTM', 'M6'): 65,\n ('NLIJM', 'NLRTM', 'M9'): 52,\n ('NLAMS', 'NLVLI', 'M9'): 70,\n ('NLDEV', 'NLRTM', 'M6'): 68,\n ('NLTNZ', 'NLHAN', 'M8'): 50,\n ('NLHLM', 'NLRTM', 'M3'): 54,\n ('NLDRA', 'NLIJM', 'M2'): 71,\n ('NLBON', 'NLBZM', 'M6'): 43,\n ('NLAMS', 'NLGNM', 'M2'): 72,\n ('NLHAR', 'NLHAR', 'M2'): 36,\n ('NLDST', 'NLAPN', 'M4'): 54,\n ('NLFOX', 'NLVDM', 'M6'): 61,\n ('NLTNZ', 'NLBRS', 'M3'): 51,\n ('NLELB', 'NLKAM', 'M3'): 63,\n ('NLALK', 'NLAMS', 'M4'): 62,\n ('NLMEP', 'NLMEP', 'BII-1'): 36,\n ('NLBRD', 'NLRTM', 'M4'): 69,\n ('NLALM', 'NLHGL', 'M5'): 35,\n ('NLRTM', 'NLNIJ', 'M9'): 64,\n ('NLRTM', 'NLAMS', 'M2'): 63,\n ('NLGRQ', 'NLDFT', 'M2'): 56,\n ('NLLWR', 'NLHAR', 'M4'): 58,\n ('NLMEP', 'NLAMS', 'M6'): 48,\n ('NLWGW', 'NLRTM', 'M2'): 69,\n ('NLSJK', 'NLBIW', 'M8'): 58,\n ('NLUTC', 'NLLEY', 'M8'): 66,\n ('NLDOR', 'NLAMS', 'M10'): 63,\n ('NLTIE', 'NLDIM', 'M3'): 50,\n ('NLGRA', 'NLRTM', 'M8'): 41,\n ('NLVLL', 'NLZOT', 'M3'): 51,\n ('NLAMS', 'NLWGW', 'M6'): 67,\n ('NLSWI', 'NLBAA', 'M3'): 61,\n ('NLARN', 'NLHEJ', 'M8'): 36,\n ('NLBON', 'NLOSS', 'M2'): 43,\n ('NLWGW', 'NLAMS', 'M4'): 60,\n ('NLMSB', 'NLAMS', 'M3'): 65,\n ('NLLOM', 'NLHAG', 'M4'): 44,\n ('NLTNZ', 'NLVLI', 'M0'): 65,\n ('NLLEY', 'NLLEY', 'M2'): 34,\n ('NLVLL', 'NLHAR', 'M3'): 62,\n ('NLAME', 'NLIJM', 'M2'): 64,\n ('NLAMS', 'NLZAA', 'B04'): 61,\n ('NLOSS', 'NLRTM', 'M5'): 49,\n ('NLBRD', 'NLBRS', 'M6'): 49,\n ('NLWGW', 'NLRTM', 'M6'): 58,\n ('NLVLI', 'NLRTM', 'M5'): 54,\n ('NLCUY', 'NLRTM', 'M7'): 54,\n ('NLLWR', 'NLRTM', 'M6'): 52,\n ('NLRTM', 'NLGNM', 'M3'): 52,\n ('NLRTM', 'NLMSB', 'M6'): 49,\n ('NLWLK', 'NLAMS', 'M5'): 62,\n ('NLMOE', 'NLBON', 'M8'): 35,\n ('NLBZM', 'NLBRS', 'M6'): 52,\n ('NLDST', 'NLAER', 'M3'): 49,\n ('NLZWS', 'NLAMS', 'BII-2L'): 37,\n ('NLAMS', 'NLDIN', 'M3'): 36,\n ('NLHEJ', 'NLOOS', 'M5'): 45,\n ('NLTNZ', 'NLBRS', 'M5'): 47,\n ('NLBON', 'NLENS', 'M7'): 33,\n ('NLLEY', 'NLGRQ', 'M5'): 54,\n ('NLHTR', 'NLNWG', 'M5'): 59,\n ('NLVLI', 'NLVLA', 'M8'): 60,\n ('NLDOR', 'NLVLI', 'M9'): 57,\n ('NLEEM', 'NLMOE', 'M6'): 32,\n ('NLRTM', 'NLDEV', 'M5'): 61,\n ('NLAMS', 'NLDST', 'M6'): 64,\n ('NLTNZ', 'NLTNZ', 'BI'): 32,\n ('NLNIJ', 'NLRTM', 'BIIa-1'): 49,\n ('NLURK', 'NLZEW', 'M2'): 51,\n ('NLLCH', 'NLAMS', 'M6'): 52,\n ('NLLOM', 'NLKRD', 'M3'): 62,\n ('NLVEN', 'NLNER', 'M6'): 64,\n ('NLEEM', 'NLDZL', 'M2'): 62,\n ('NLMOE', 'NLRTM', 'M3'): 49,\n ('NLWIW', 'NLFRK', 'M5'): 59,\n ('NLRTM', 'NLRTM', 'M3'): 32,\n ('NLRTM', 'NLIJM', 'M6'): 54,\n ('NLEES', 'NLMEP', 'M4'): 51,\n ('NLOSS', 'NLIJM', 'M2'): 33,\n ('NLAMS', 'NLHEJ', 'M4'): 57,\n ('NLELB', 'NLHRD', 'M3'): 32,\n ('NLSLU', 'NLVEG', 'M3'): 42,\n ('NLPER', 'NLWLK', 'M3'): 45,\n ('NLSWI', 'NLLEY', 'M6'): 56,\n ('NLHGL', 'NLWIS', 'M3'): 32,\n ('NLZMM', 'NLRTM', 'M3'): 50,\n ('NLEES', 'NLZWO', 'M4'): 54,\n ('NLRTM', 'NLAMS', 'BII-2L'): 39,\n ('NLDOE', 'NLNIJ', 'M8'): 56,\n ('NLDFT', 'NLDST', 'M3'): 32,\n ('NLALM', 'NLRTM', 'M7'): 56,\n ('NLALK', 'NLAMS', 'M3'): 49,\n ('NLPER', 'NLMOE', 'M6'): 61,\n ('NLAMS', 'NLDZL', 'M8'): 50,\n ('NLBUD', 'NLAMS', 'M2'): 54,\n ('NLBEM', 'NLTIE', 'M4'): 56,\n ('NLAMS', 'NLVLI', 'M6'): 63,\n ('NLMSB', 'NLBON', 'BII-1'): 35,\n ('NLSWI', 'NLHRD', 'M3'): 50,\n ('NLAMS', 'NLMEP', 'B03'): 58,\n ('NLOSS', 'NLRTM', 'BII-1'): 49,\n ('NLLAN', 'NLDZL', 'M2'): 53,\n ('NLOSS', 'NLRTM', 'BII-2L'): 40,\n ('NLWSP', 'NLLEY', 'M8'): 43,\n ('NLARK', 'NLBON', 'M3'): 54,\n ('NLIJM', 'NLSCH', 'M4'): 46,\n ('NLAMS', 'NLOME', 'M8'): 56,\n ('NLAMS', 'NLLCH', 'M2'): 59,\n ('NLMOE', 'NLDOR', 'M8'): 55,\n ('NLHAR', 'NLSLU', 'M5'): 33,\n ('NLBON', 'NLZOU', 'M4'): 57,\n ('NLKAM', 'NLKAM', 'M4'): 31,\n ('NLRTM', 'NLZWI', 'M6'): 51,\n ('NLHAR', 'NLHAR', 'M0'): 31,\n ('NLBON', 'NLOOS', 'M7'): 35,\n ('NLALM', 'NLHGL', 'M6'): 31,\n ('NLLOB', 'NLZLB', 'M9'): 49,\n ('NLGRQ', 'NLEEM', 'M5'): 36,\n ('NLWIW', 'NLSCH', 'M4'): 61,\n ('NLLMR', 'NLFAR', 'BIIa-1'): 56,\n ('NLSLU', 'NLVLA', 'M8'): 43,\n ('NLVEN', 'NLRTM', 'C3b'): 31,\n ('NLQDG', 'NLRTM', 'M2'): 61,\n ('NLDIN', 'NLDFT', 'M2'): 55,\n ('NLBON', 'NLRTM', 'M3'): 45,\n ('NLHRW', 'NLARK', 'M2'): 53,\n ('NLALM', 'NLHGL', 'M7'): 31,\n ('NLBEM', 'NLAAL', 'M3'): 54,\n ('NLLOM', 'NLARK', 'M3'): 43,\n ('NLVEG', 'NLRTM', 'M5'): 37,\n ('NLAPN', 'NLHEJ', 'M3'): 54,\n ('NLBON', 'NLZOU', 'M5'): 52,\n ('NLRTM', 'NLDEV', 'M4'): 47,\n ('NLAMS', 'NLOSS', 'M3'): 56,\n ('NLUTC', 'NLTIE', 'M6'): 44,\n ('NLTLB', 'NLPHL', 'M2'): 31,\n ('NLLEY', 'NLAMS', 'BII-2b'): 56,\n ('NLRTM', 'NLARN', 'M9'): 46,\n ('NLOOS', 'NLDST', 'M6'): 57,\n ('NLDIN', 'NLMOE', 'M0'): 59,\n ('NLZWS', 'NLAMS', 'M3'): 36,\n ('NLAMS', 'NLDEL', 'M6'): 52,\n ('NLRTM', 'NLGOR', 'M8'): 55,\n ('NLNER', 'NLVEN', 'BII-1'): 57,\n ('NLSWI', 'NLUIT', 'M2'): 44,\n ('NLBON', 'NLDEV', 'M6'): 36,\n ('NLHTR', 'NLNWG', 'M6'): 45,\n ('NLFAR', 'NLWTZ', 'M8'): 37,\n ('NLDIN', 'NLWED', 'M2'): 54,\n ('NLAMS', 'NLNIJ', 'M6'): 47,\n ('NLLOM', 'NLRTM', 'M4'): 45,\n ('NLAMS', 'NLNWG', 'M8'): 44,\n ('NLAMS', 'NLMAA', 'M2'): 45,\n ('NLVEG', 'NLAMS', 'M6'): 33,\n ('NLVEN', 'NLRTM', 'M8'): 55,\n ('NLVLI', 'NLABL', 'M11'): 34,\n ('NLRTM', 'NLVLA', 'M6'): 45,\n ('NLTIE', 'NLDIM', 'M2'): 36,\n ('NLDZL', 'NLDZL', 'M8'): 29,\n ('NLVLL', 'NLKWZ', 'M6'): 30,\n ('NLDST', 'NLAMS', 'M4'): 47,\n ('NLAMS', 'NLMEP', 'BII-1'): 56,\n ('NLDST', 'NLAER', 'M2'): 44,\n ('NLSNK', 'NLAMS', 'M2'): 42,\n ('NLALM', 'NLAMS', 'M8'): 51,\n ('NLBON', 'NLOSS', 'M6'): 43,\n ('NLDOR', 'NLLSH', 'M3'): 36,\n ('NLENS', 'NLHGL', 'M7'): 29,\n ('NLRTM', 'NLMOE', 'M10'): 56,\n ('NLIJM', 'NLOBO', 'M2'): 38,\n ('NLVDM', 'NLHAR', 'M6'): 55,\n ('NLHGL', 'NLAMS', 'M5'): 54,\n ('NLHAN', 'NLDOR', 'M9'): 41,\n ('NLZAA', 'NLRTM', 'M8'): 49,\n ('NLIJM', 'NLMST', 'M5'): 41,\n ('NLSWI', 'NLAMS', 'M8'): 56,\n ('NLOSS', 'NLRTM', 'M3'): 46,\n ('NLKAM', 'NLRID', 'M8'): 31,\n ('NLDRA', 'NLHAR', 'M6'): 57,\n ('NLGOU', 'NLIJM', 'M2'): 47,\n ('NLVLI', 'NLDOR', 'M6'): 45,\n ('NLROO', 'NLBRS', 'M6'): 38,\n ('NLMSB', 'NLMAA', 'M0'): 54,\n ('NLHRW', 'NLAER', 'M2'): 33,\n ('NLABL', 'NLRTM', 'C3b'): 57,\n ('NLLCH', 'NLAMS', 'M4'): 48,\n ('NLSWI', 'NLBAA', 'M4'): 51,\n ('NLLCH', 'NLAMS', 'M5'): 40,\n ('NLRTM', 'NLAAM', 'M3'): 55,\n ('NLAME', 'NLAMS', 'M3'): 33,\n ('NLFAR', 'NLEEM', 'BI'): 56,\n ('NLMST', 'NLVLI', 'M4'): 52,\n ('NLRTM', 'NLEIN', 'M2'): 48,\n ('NLVLI', 'NLSTI', 'M8'): 51,\n ('NLVLI', 'NLBZM', 'M6'): 46,\n ('NLOSS', 'NLCUY', 'M7'): 42,\n ('NLTIE', 'NLRTM', 'M4'): 42,\n ('NLSTI', 'NLWIW', 'M1'): 33,\n ('NLBON', 'NLAME', 'M3'): 29,\n ('NLSWI', 'NLNKK', 'M6'): 55,\n ('NLAMS', 'NLMAA', 'M4'): 38,\n ('NLAMS', 'NLSNK', 'B03'): 47,\n ('NLBON', 'NLHAG', 'M4'): 35,\n ('NLGOR', 'NLAMS', 'M2'): 29,\n ('NLAER', 'NLLEY', 'M2'): 51,\n ('NLWED', 'NLRTM', 'M6'): 39,\n ('NLDST', 'NLHTB', 'M4'): 51,\n ('NLPER', 'NLDOE', 'M8'): 50,\n ('NLWAS', 'NLABL', 'M8'): 38,\n ('NLRTM', 'NLHGL', 'M3'): 42,\n ('NLAMS', 'NLDEL', 'M5'): 43,\n ('NLRTM', 'NLGOU', 'M3'): 56,\n ('NLRTM', 'NLWGW', 'M4'): 43,\n ('NLLEY', 'NLLEY', 'M6'): 28,\n ('NLLMR', 'NLAMS', 'M8'): 50,\n ('NLZWO', 'NLZWS', 'BII-1'): 52,\n ('NLHAR', 'NLHRN', 'M6'): 52,\n ('NLSLU', 'NLVLI', 'M8'): 52,\n ('NLGOR', 'NLRTM', 'M2'): 28,\n ('NLHRW', 'NLAMS', 'M8'): 38,\n ('NLMEP', 'NLAMS', 'M3'): 41,\n ('NLVLI', 'NLVEL', 'M8'): 29,\n ('NLBGU', 'NLDST', 'M8'): 47,\n ('NLBZM', 'NLRTM', 'C3l'): 27,\n ('NLAMS', 'NLMAA', 'M3'): 46,\n ('NLTNZ', 'NLMOE', 'M6'): 53,\n ('NLOOS', 'NLBON', 'M5'): 39,\n ('NLWSP', 'NLURK', 'M6'): 43,\n ('NLAMS', 'NLDRA', 'M6'): 45,\n ('NLLOM', 'NLHEJ', 'BI'): 42,\n ('NLDZL', 'NLAMS', 'M6'): 42,\n ('NLMAA', 'NLCUY', 'BII-1'): 51,\n ('NLBZM', 'NLBRS', 'M10'): 52,\n ('NLDOR', 'NLAMS', 'BIIa-1'): 32,\n ('NLHTB', 'NLLOM', 'M3'): 30,\n ('NLPER', 'NLHGL', 'M8'): 41,\n ('NLIJM', 'NLBRD', 'M3'): 35,\n ('NLBON', 'NLOSS', 'M3'): 39,\n ('NLDZL', 'NLFAR', 'M0'): 45,\n ('NLDOI', 'NLAMS', 'M3'): 45,\n ('NLRTM', 'NLWIS', 'M8'): 43,\n ('NLSCI', 'NLHLM', 'M2'): 36,\n ('NLPER', 'NLAMS', 'M9'): 32,\n ('NLBAA', 'NLSWI', 'M6'): 45,\n ('NLKGZ', 'NLAMS', 'M8'): 26,\n ('NLDOR', 'NLVLA', 'M8'): 46,\n ('NLGRO', 'NLDST', 'M6'): 52,\n ('NLWRV', 'NLZAA', 'M6'): 34,\n ('NLVEG', 'NLRTM', 'M4'): 38,\n ('NLIJM', 'NLMST', 'M3'): 33,\n ('NLBOT', 'NLMOE', 'M8'): 44,\n ('NLGNM', 'NLAMS', 'M5'): 41,\n ('NLIJM', 'NLMOE', 'M9'): 30,\n ('NLPER', 'NLVEG', 'M7'): 26,\n ('NLAER', 'NLAAM', 'M3'): 49,\n ('NLRTM', 'NLNGV', 'M10'): 47,\n ('NLZAA', 'NLRTM', 'M6'): 48,\n ('NLDST', 'NLQCU', 'M4'): 49,\n ('NLDHR', 'NLDHR', 'M4'): 26,\n ('NLHRD', 'NLAMS', 'M5'): 32,\n ('NLVEG', 'NLAMS', 'M3'): 34,\n ('NLLEY', 'NLLWR', 'M6'): 49,\n ('NLHTR', 'NLHTB', 'M3'): 31,\n ('NLETT', 'NLRTM', 'M6'): 49,\n ('NLBON', 'NLAMS', 'M8'): 32,\n ('NLRTM', 'NLBRS', 'M6'): 29,\n ('NLTIE', 'NLPER', 'M8'): 42,\n ('NLRTM', 'NLMAA', 'M5'): 40,\n ('NLLEY', 'NLNKK', 'M4'): 43,\n ('NLTNZ', 'NLBRS', 'M4'): 37,\n ('NLTIE', 'NLUTC', 'M5'): 45,\n ('NLLCH', 'NLRTM', 'M5'): 35,\n ('NLTIE', 'NLVLI', 'M8'): 43,\n ('NLOCC', 'NLRTM', 'M8'): 27,\n ('NLTNZ', 'NLVLI', 'M2'): 47,\n ('NLIJM', 'NLTIE', 'M2'): 45,\n ('NLDST', 'NLNWG', 'M6'): 43,\n ('NLMAA', 'NLLSH', 'M3'): 30,\n ('NLIJM', 'NLAER', 'M4'): 49,\n ('NLGOE', 'NLBRS', 'M3'): 40,\n ('NLOMD', 'NLSTI', 'M8'): 46,\n ('NLSLU', 'NLBRS', 'M6'): 36,\n ('NLGRQ', 'NLEEM', 'M8'): 25,\n ('NLKWZ', 'NLKWZ', 'BI'): 25,\n ('NLDST', 'NLVEG', 'M2'): 49,\n ('NLIJM', 'NLWGW', 'M2'): 42,\n ('NLLEY', 'NLRTM', 'M9'): 38,\n ('NLIJM', 'NLMST', 'M4'): 34,\n ('NLRTM', 'NLMAA', 'M4'): 46,\n ('NLIJM', 'NLZWI', 'M6'): 42,\n ('NLZOE', 'NLWSP', 'M3'): 43,\n ('NLURK', 'NLAER', 'M2'): 43,\n ('NLRTM', 'NLAAM', 'M4'): 48,\n ('NLSTD', 'NLRTM', 'M4'): 35,\n ('NLVEN', 'NLVLI', 'M7'): 25,\n ('NLFRK', 'NLHAR', 'M4'): 49,\n ('NLOBO', 'NLMST', 'M5'): 47,\n ('NLRTM', 'NLMAA', 'M6'): 49,\n ('NLDIN', 'NLMST', 'M6'): 48,\n ('NLBON', 'NLAKR', 'M6'): 25,\n ('NLZAA', 'NLAMS', 'BI'): 49,\n ('NLSNK', 'NLRTM', 'M8'): 36,\n ('NLDON', 'NLMOE', 'M3'): 34,\n ('NLMOE', 'NLHRD', 'M6'): 25,\n ('NLAER', 'NLENK', 'M3'): 39,\n ('NLAMS', 'NLTIE', 'M8'): 42,\n ('NLZWS', 'NLMEP', 'BI'): 45,\n ('NLFAR', 'NLEEM', 'M5'): 36,\n ('NLLEY', 'NLLEY', 'M3'): 24,\n ('NLBON', 'NLWSM', 'BI'): 44,\n ('NLKGZ', 'NLZAA', 'M4'): 47,\n ('NLBEM', 'NLWSP', 'M3'): 43,\n ('NLPER', 'NLMOE', 'M5'): 34,\n ('NLDST', 'NLVAN', 'M4'): 38,\n ('NLSLU', 'NLBOT', 'M8'): 26,\n ('NLSTI', 'NLHEG', 'M4'): 27,\n ('NLOOS', 'NLHEJ', 'M7'): 24,\n ('NLHRD', 'NLLOB', 'M3'): 26,\n ('NLAMS', 'NLDEL', 'M3'): 33,\n ('NLEES', 'NLRTM', 'M4'): 35,\n ('NLRAS', 'NLHRW', 'M3'): 36,\n ('NLMOE', 'NLRTM', 'M11'): 41,\n ('NLLSH', 'NLBON', 'M3'): 27,\n ('NLSTI', 'NLRTM', 'M6'): 40,\n ('NLWRT', 'NLAMS', 'M2'): 24,\n ('NLLCH', 'NLAMS', 'M3'): 40,\n ('NLVEG', 'NLAMS', 'M5'): 27,\n ('NLBON', 'NLGOE', 'M5'): 24,\n ('NLLSH', 'NLAMS', 'M2'): 24,\n ('NLAMS', 'NLZWI', 'M8'): 46,\n ('NLNIJ', 'NLVEN', 'M8'): 48,\n ('NLAPN', 'NLWIW', 'M6'): 34,\n ('NLMSB', 'NLRTM', 'M8'): 29,\n ('NLRTM', 'NLTNZ', 'M9'): 41,\n ('NLNKK', 'NLAMS', 'M4'): 38,\n ('NLZLB', 'NLDOR', 'M9'): 46,\n ('NLUTC', 'NLLEY', 'M6'): 40,\n ('NLRTM', 'NLHGL', 'M4'): 37,\n ('NLRTM', 'NLLAV', 'M8'): 40,\n ('NLEEM', 'NLZOU', 'M4'): 25,\n ('NLRTM', 'NLDOR', 'M10'): 46,\n ('NLAMS', 'NLEUR', 'M8'): 37,\n ('NLRTM', 'NLVEN', 'M2'): 34,\n ('NLRTM', 'NLLAV', 'M10'): 46,\n ('NLLOM', 'NLHTB', 'M2'): 40,\n ('NLOSS', 'NLAMS', 'M5'): 38,\n ('NLAMS', 'NLNIJ', 'M3'): 28,\n ('NLMEP', 'NLAMS', 'M5'): 30,\n ('NLRTM', 'NLQDG', 'M4'): 41,\n ('NLBIW', 'NLLOB', 'M8'): 43,\n ('NLTNZ', 'NLBOT', 'M8'): 35,\n ('NLRNK', 'NLMOE', 'M8'): 46,\n ('NLXXX', 'NLXXX', 'M8'): 23,\n ('NLWLK', 'NLBON', 'M3'): 46,\n ('NLRTM', 'NLMID', 'M8'): 33,\n ('NLRTM', 'NLKAM', 'M5'): 43,\n ('NLGNM', 'NLAMS', 'M8'): 26,\n ('NLRTM', 'NLWMO', 'M4'): 38,\n ('NLAMS', 'NLZWO', 'BI'): 31,\n ('NLDZL', 'NLLMR', 'BIIa-1'): 42,\n ('NLGNM', 'NLRTM', 'M8'): 31,\n ('NLVEN', 'NLBON', 'M6'): 24,\n ('NLRTM', 'NLRTM', 'M4'): 23,\n ('NLOOS', 'NLBON', 'M6'): 37,\n ('NLDHR', 'NLKAM', 'M4'): 42,\n ('NLRTM', 'NLRTM', 'M2'): 23,\n ('NLZWS', 'NLAMS', 'BII-1'): 34,\n ('NLHTB', 'NLMAA', 'M3'): 44,\n ('NLTNZ', 'NLVLI', 'M9'): 41,\n ('NLZWS', 'NLAMS', 'M5'): 30,\n ('NLZWS', 'NLAMS', 'M6'): 27,\n ('NLSCH', 'NLLEY', 'M3'): 40,\n ('NLAMS', 'NLZWI', 'M3'): 38,\n ('NLHGL', 'NLAMS', 'M3'): 40,\n ('NLMEP', 'NLLEY', 'M5'): 29,\n ('NLHAR', 'NLRTM', 'M6'): 31,\n ('NLHEJ', 'NLAMS', 'M6'): 38,\n ('NLVEG', 'NLHEJ', 'M5'): 45,\n ('NLWIW', 'NLSCH', 'M6'): 44,\n ('NLLEY', 'NLRTM', 'M8'): 39,\n ('NLAMS', 'NLDEL', 'M2'): 35,\n ('NLUTC', 'NLDIN', 'M3'): 23,\n ('NLHRD', 'NLRTM', 'M4'): 42,\n ('NLLEY', 'NLLWR', 'M5'): 41,\n ('NLAMS', 'NLDEV', 'M8'): 33,\n ('NLVEG', 'NLRTM', 'M3'): 33,\n ('NLNWG', 'NLDST', 'M5'): 45,\n ('NLHEJ', 'NLAMS', 'M8'): 40,\n ('NLMST', 'NLBON', 'M6'): 24,\n ('NLMST', 'NLAMS', 'M8'): 37,\n ('NLVLI', 'NLLEY', 'M6'): 24,\n ('NLHRD', 'NLAMS', 'M3'): 29,\n ('NLAMS', 'NLDFT', 'M3'): 32,\n ('NLNKK', 'NLAMS', 'BII-1'): 36,\n ('NLNIJ', 'NLOMD', 'BIIa-1'): 30,\n ('NLHTR', 'NLDOR', 'M4'): 23,\n ('NLLCH', 'NLRTM', 'M6'): 27,\n ('NLOSS', 'NLRTM', 'BIIa-1'): 39,\n ('NLZWS', 'NLAMS', 'M2'): 24,\n ('NLDOR', 'NLAMS', 'BII-2b'): 34,\n ('NLTNZ', 'NLVLI', 'BIIL-1'): 38,\n ('NLAMS', 'NLDOR', 'M12'): 30,\n ('NLNKK', 'NLAMS', 'M3'): 31,\n ('NLHRV', 'NLAMS', 'M5'): 27,\n ('NLIJM', 'NLSTD', 'M2'): 23,\n ('NLRTM', 'NLZWO', 'M2'): 27,\n ('NLHRW', 'NLVEG', 'M3'): 34,\n ('NLGOU', 'NLMOE', 'M6'): 30,\n ('NLBEM', 'NLTIE', 'M5'): 26,\n ('NLVLI', 'NLHTB', 'M5'): 23,\n ('NLRTM', 'NLBGU', 'M2'): 23,\n ('NLGTB', 'NLOMD', 'M8'): 24,\n ('NLDZL', 'NLDZL', 'M0'): 22,\n ('NLGTB', 'NLAMS', 'M6'): 38,\n ('NLAKL', 'NLSJK', 'M6'): 43,\n ('NLAMS', 'NLOSS', 'M8'): 42,\n ('NLALM', 'NLAMS', 'M5'): 35,\n ('NLAMS', 'NLBRD', 'M3'): 31,\n ('NLALM', 'NLAMS', 'M2'): 38,\n ('NLZWO', 'NLAMS', 'BII-2L'): 27,\n ('NLWLK', 'NLLOM', 'M4'): 33,\n ('NLBON', 'NLOSS', 'M5'): 40,\n ('NLAMS', 'NLTIE', 'M5'): 38,\n ('NLBON', 'NLZWO', 'M4'): 24,\n ('NLKAI', 'NLUIT', 'M2'): 43,\n ('NLHEJ', 'NLETT', 'M3'): 38,\n ('NLDST', 'NLVEG', 'M3'): 40,\n ('NLSWI', 'NLELB', 'M6'): 40,\n ('NLAMS', 'NLTIE', 'M3'): 29,\n ('NLAMS', 'NLHEJ', 'M3'): 38,\n ('NLURK', 'NLAMS', 'M8'): 40,\n ('NLBRD', 'NLBEM', 'M3'): 36,\n ('NLZWO', 'NLSWI', 'M6'): 29,\n ('NLURK', 'NLAER', 'M3'): 33,\n ('NLLEY', 'NLHAR', 'M6'): 32,\n ('NLKWZ', 'NLAMS', 'BII-2b'): 34,\n ('NLUTC', 'NLDEV', 'M3'): 29,\n ('NLHTR', 'NLDEV', 'M4'): 28,\n ('NLWSP', 'NLAER', 'M3'): 41,\n ('NLSTI', 'NLOMD', 'M6'): 39,\n ('NLMAA', 'NLCUY', 'M3'): 40,\n ('NLWAS', 'NLRTM', 'BII-1'): 32,\n ('NLSNK', 'NLLEY', 'M4'): 34,\n ('NLIJM', 'NLMOE', 'M7'): 41,\n ('NLMAA', 'NLAMS', 'M5'): 41,\n ('NLDHR', 'NLKAM', 'M6'): 32,\n ('NLMST', 'NLRTM', 'M8'): 34,\n ('NLHGL', 'NLUTC', 'M6'): 22,\n ('NLPER', 'NLAPN', 'M8'): 26,\n ('NLTEA', 'NLDST', 'M3'): 39,\n ('NLRTM', 'NLGNM', 'M2'): 37,\n ('NLSCI', 'NLDOI', 'M2'): 27,\n ('NLWIW', 'NLNKK', 'M2'): 35,\n ('NLVLI', 'NLBRS', 'M6'): 23,\n ('NLALM', 'NLDOR', 'M7'): 37,\n ('NLRTM', 'NLOMD', 'BII-2L'): 34,\n ('NLBOT', 'NLGOU', 'M3'): 29,\n ('NLRTM', 'NLVLI', 'M3'): 36,\n ('NLRTM', 'NLDEL', 'M5'): 34,\n ('NLVLI', 'NLTLB', 'M2'): 29,\n ('NLBEM', 'NLOOS', 'M5'): 41,\n ('NLUTC', 'NLRTM', 'M2'): 30,\n ('NLVLI', 'NLMST', 'BIIL-1'): 35,\n ('NLENS', 'NLMOE', 'M8'): 41,\n ('NLRTM', 'NLNGV', 'M8'): 37,\n ('NLMOE', 'NLLEY', 'M8'): 21,\n ('NLNIJ', 'NLMSB', 'BIIa-1'): 28,\n ('NLZWS', 'NLAMS', 'BIIL-1'): 22,\n ('NLDST', 'NLAMS', 'M5'): 39,\n ('NLSJK', 'NLAER', 'M8'): 26,\n ('NLLAV', 'NLSNK', 'M8'): 28,\n ('NLHGL', 'NLAMS', 'M2'): 37,\n ('NLAMS', 'NLAMS', 'M3'): 21,\n ('NLVLI', 'NLMSL', 'M5'): 28,\n ('NLMLR', 'NLRTM', 'M8'): 39,\n ('NLIJM', 'NLZWI', 'M8'): 39,\n ('NLTIE', 'NLAMS', 'C3l'): 22,\n ('NLLWR', 'NLHAR', 'M6'): 27,\n ('NLKAM', 'NLAMS', 'M10'): 39,\n ('NLPER', 'NLAMS', 'M11'): 32,\n ...}"
     },
     "execution_count": 6,
     "metadata": {},
     "output_type": "execute_result"
    }
   ],
   "source": [
    "#create dict to fill with total number of trips on path for each ship type\n",
    "df_t_dict = {}\n",
    "# now fill this dict\n",
    "# loop over data frame\n",
    "for i in range(len(df_t)):\n",
    "    #define temp variables for ease\n",
    "    origin = df_t['origin'][i]\n",
    "    destination = df_t['destination'][i]\n",
    "    ship_type = df_t['type'][i]\n",
    "    trip_count = df_t['trips'][i]\n",
    "    #only make new column if trip and its inverse are not in dict yet. Otherwise append.\n",
    "    if (origin, destination, ship_type) in df_t_dict.keys():\n",
    "        df_t_dict[(origin, destination, ship_type)] += trip_count\n",
    "    elif (destination, origin, ship_type) in df_t_dict.keys():\n",
    "        df_t_dict[(destination, origin, ship_type)] += trip_count\n",
    "    else:\n",
    "        df_t_dict[(origin, destination, ship_type)] = trip_count\n",
    "df_t_dict"
   ],
   "metadata": {
    "collapsed": false,
    "pycharm": {
     "name": "#%%\n"
    }
   }
  },
  {
   "cell_type": "markdown",
   "source": [
    "## Compute vessel sum per route\n",
    "Idea: make similar dict as above first, but then with total amount of trips per route. Later on: add column for each ship.\n",
    "This will result in a column for each ship type and an entry with the amount of ships of that type that have travelled."
   ],
   "metadata": {
    "collapsed": false,
    "pycharm": {
     "name": "#%% md\n"
    }
   }
  },
  {
   "cell_type": "code",
   "execution_count": 7,
   "outputs": [],
   "source": [
    "# now only sort by origin and destination\n",
    "all_trips_ranked = df_2021.groupby(by=['UNLO_herkomst', 'UNLO_bestemming']).count().reset_index().sort_values(\n",
    "    by='Jaarmaand', ascending=False).iloc[:, :3].reset_index(drop=True)\n",
    "\n",
    "#again, rename columns\n",
    "all_trips_ranked.rename(\n",
    "    columns={'UNLO_herkomst': 'origin', 'UNLO_bestemming': 'destination', 'SK_CODE': 'type', 'Unnamed: 0': 'trips'},\n",
    "    inplace=True)\n",
    "\n",
    "#remove non nl\n",
    "all_trips_ranked = all_trips_ranked.loc[(all_trips_ranked.origin.str.contains('NL')) & (all_trips_ranked.destination.str.contains('NL'))]\n",
    "\n",
    "#reset index to be able to loop over all values later on\n",
    "all_trips_ranked.reset_index(inplace=True, drop=True)\n",
    "\n",
    "# make dict to store trips\n",
    "trip_dict_main = {}"
   ],
   "metadata": {
    "collapsed": false,
    "pycharm": {
     "name": "#%%\n"
    }
   }
  },
  {
   "cell_type": "code",
   "execution_count": 8,
   "outputs": [],
   "source": [
    "# now fill this dict, same procedure as above\n",
    "for i in range(len(all_trips_ranked)):\n",
    "    origin = all_trips_ranked['origin'][i]\n",
    "    destination = all_trips_ranked['destination'][i]\n",
    "    trip_count = all_trips_ranked['trips'][i]\n",
    "\n",
    "    if (origin, destination) in trip_dict_main.keys():\n",
    "        trip_dict_main[(origin, destination)] += trip_count\n",
    "    elif (destination, origin) in trip_dict_main.keys():\n",
    "        trip_dict_main[(destination, origin)] += trip_count\n",
    "    else:\n",
    "        trip_dict_main[(origin, destination)] = trip_count"
   ],
   "metadata": {
    "collapsed": false,
    "pycharm": {
     "name": "#%%\n"
    }
   }
  },
  {
   "cell_type": "code",
   "execution_count": 9,
   "outputs": [],
   "source": [
    "# now sort values\n",
    "trip_dict_main = dict(sorted(trip_dict_main.items(), key=lambda item: item[1], reverse=True))\n",
    "\n",
    "# make dataframe dict wih a key for each column\n",
    "trip_dict_df_main = {'origin': [], 'destination': [], 'trip_count': []}\n",
    "for i in df_2021.SK_CODE.unique():\n",
    "    trip_dict_df_main[i] = []\n",
    "\n",
    "# now fill this dict\n",
    "for key, value in trip_dict_main.items():\n",
    "    # append values from dict a\n",
    "    trip_dict_df_main['origin'].append(key[0])\n",
    "    trip_dict_df_main['destination'].append(key[1])\n",
    "    trip_dict_df_main['trip_count'].append(value)\n",
    "    #now append values from other dict, for each ship type\n",
    "    for ship_type in df_2021.SK_CODE.unique():\n",
    "        #if ships have travelled from A to B, append this value\n",
    "        if (key[0], key[1], ship_type) in df_t_dict.keys():\n",
    "            trip_dict_df_main[ship_type].append(df_t_dict[(key[0], key[1], ship_type)])\n",
    "        else:\n",
    "            try:\n",
    "                # else, maybe trips on path A to B are stored as B to A\n",
    "                trip_dict_df_main[ship_type].append(df_t_dict[(key[1], key[0], ship_type)])\n",
    "            except:\n",
    "                # no? Then no ships of this type have travelled this path, append 0\n",
    "                trip_dict_df_main[ship_type].append(0)"
   ],
   "metadata": {
    "collapsed": false,
    "pycharm": {
     "name": "#%%\n"
    }
   }
  },
  {
   "cell_type": "code",
   "execution_count": 10,
   "outputs": [],
   "source": [
    "df_main = pd.DataFrame.from_dict(trip_dict_df_main)"
   ],
   "metadata": {
    "collapsed": false,
    "pycharm": {
     "name": "#%%\n"
    }
   }
  },
  {
   "cell_type": "code",
   "execution_count": 11,
   "outputs": [
    {
     "data": {
      "text/plain": "      origin destination  trip_count   M12    M8    M9  BIIa-1  BII-6b  M10  \\\n0      NLRTM       NLAMS        9943  2076  3510  1316     102       0  427   \n1      NLRTM       NLMOE        2686    70  1584   144       2       0   56   \n2      NLRTM       NLVLI        2153   190   658   414      10       0  140   \n3      NLAMS       NLAER        2119     6   132     0       2       0    7   \n4      NLRTM       NLRTM        1794   363   715    92      15       0  164   \n...      ...         ...         ...   ...   ...   ...     ...     ...  ...   \n10588  NLBZM       NLVSN           1     0     0     0       0       0    0   \n10589  NLBZM       NLVER           1     0     0     0       0       0    0   \n10590  NLBZM       NLSMB           1     0     0     0       0       0    0   \n10591  NLBZM       NLSHH           1     0     0     0       0       0    0   \n10592  NLEFE       NLDZL           1     0     0     0       0       0    0   \n\n       BII-6l  ...  C4  C2l  M0  B04  BII-2L  B02  C1b  C2b  B01  C1l  \n0           0  ...   5    7  11    5      39    4    0    0    0    0  \n1           0  ...   2    0   1    0       1    0    0    0    0    0  \n2           0  ...   0    2   2    1       0    0    0    1    0    0  \n3           0  ...   0    1   5   37       0    3    0    1    1    0  \n4           1  ...   4    0   0    0       2    0    0    0    0    0  \n...       ...  ...  ..  ...  ..  ...     ...  ...  ...  ...  ...  ...  \n10588       0  ...   0    0   0    0       0    0    0    0    0    0  \n10589       0  ...   0    0   0    0       0    0    0    0    0    0  \n10590       0  ...   0    0   0    0       0    0    0    0    0    0  \n10591       0  ...   0    0   0    0       0    0    0    0    0    0  \n10592       0  ...   0    0   0    0       0    0    0    0    0    0  \n\n[10593 rows x 36 columns]",
      "text/html": "<div>\n<style scoped>\n    .dataframe tbody tr th:only-of-type {\n        vertical-align: middle;\n    }\n\n    .dataframe tbody tr th {\n        vertical-align: top;\n    }\n\n    .dataframe thead th {\n        text-align: right;\n    }\n</style>\n<table border=\"1\" class=\"dataframe\">\n  <thead>\n    <tr style=\"text-align: right;\">\n      <th></th>\n      <th>origin</th>\n      <th>destination</th>\n      <th>trip_count</th>\n      <th>M12</th>\n      <th>M8</th>\n      <th>M9</th>\n      <th>BIIa-1</th>\n      <th>BII-6b</th>\n      <th>M10</th>\n      <th>BII-6l</th>\n      <th>...</th>\n      <th>C4</th>\n      <th>C2l</th>\n      <th>M0</th>\n      <th>B04</th>\n      <th>BII-2L</th>\n      <th>B02</th>\n      <th>C1b</th>\n      <th>C2b</th>\n      <th>B01</th>\n      <th>C1l</th>\n    </tr>\n  </thead>\n  <tbody>\n    <tr>\n      <th>0</th>\n      <td>NLRTM</td>\n      <td>NLAMS</td>\n      <td>9943</td>\n      <td>2076</td>\n      <td>3510</td>\n      <td>1316</td>\n      <td>102</td>\n      <td>0</td>\n      <td>427</td>\n      <td>0</td>\n      <td>...</td>\n      <td>5</td>\n      <td>7</td>\n      <td>11</td>\n      <td>5</td>\n      <td>39</td>\n      <td>4</td>\n      <td>0</td>\n      <td>0</td>\n      <td>0</td>\n      <td>0</td>\n    </tr>\n    <tr>\n      <th>1</th>\n      <td>NLRTM</td>\n      <td>NLMOE</td>\n      <td>2686</td>\n      <td>70</td>\n      <td>1584</td>\n      <td>144</td>\n      <td>2</td>\n      <td>0</td>\n      <td>56</td>\n      <td>0</td>\n      <td>...</td>\n      <td>2</td>\n      <td>0</td>\n      <td>1</td>\n      <td>0</td>\n      <td>1</td>\n      <td>0</td>\n      <td>0</td>\n      <td>0</td>\n      <td>0</td>\n      <td>0</td>\n    </tr>\n    <tr>\n      <th>2</th>\n      <td>NLRTM</td>\n      <td>NLVLI</td>\n      <td>2153</td>\n      <td>190</td>\n      <td>658</td>\n      <td>414</td>\n      <td>10</td>\n      <td>0</td>\n      <td>140</td>\n      <td>0</td>\n      <td>...</td>\n      <td>0</td>\n      <td>2</td>\n      <td>2</td>\n      <td>1</td>\n      <td>0</td>\n      <td>0</td>\n      <td>0</td>\n      <td>1</td>\n      <td>0</td>\n      <td>0</td>\n    </tr>\n    <tr>\n      <th>3</th>\n      <td>NLAMS</td>\n      <td>NLAER</td>\n      <td>2119</td>\n      <td>6</td>\n      <td>132</td>\n      <td>0</td>\n      <td>2</td>\n      <td>0</td>\n      <td>7</td>\n      <td>0</td>\n      <td>...</td>\n      <td>0</td>\n      <td>1</td>\n      <td>5</td>\n      <td>37</td>\n      <td>0</td>\n      <td>3</td>\n      <td>0</td>\n      <td>1</td>\n      <td>1</td>\n      <td>0</td>\n    </tr>\n    <tr>\n      <th>4</th>\n      <td>NLRTM</td>\n      <td>NLRTM</td>\n      <td>1794</td>\n      <td>363</td>\n      <td>715</td>\n      <td>92</td>\n      <td>15</td>\n      <td>0</td>\n      <td>164</td>\n      <td>1</td>\n      <td>...</td>\n      <td>4</td>\n      <td>0</td>\n      <td>0</td>\n      <td>0</td>\n      <td>2</td>\n      <td>0</td>\n      <td>0</td>\n      <td>0</td>\n      <td>0</td>\n      <td>0</td>\n    </tr>\n    <tr>\n      <th>...</th>\n      <td>...</td>\n      <td>...</td>\n      <td>...</td>\n      <td>...</td>\n      <td>...</td>\n      <td>...</td>\n      <td>...</td>\n      <td>...</td>\n      <td>...</td>\n      <td>...</td>\n      <td>...</td>\n      <td>...</td>\n      <td>...</td>\n      <td>...</td>\n      <td>...</td>\n      <td>...</td>\n      <td>...</td>\n      <td>...</td>\n      <td>...</td>\n      <td>...</td>\n      <td>...</td>\n    </tr>\n    <tr>\n      <th>10588</th>\n      <td>NLBZM</td>\n      <td>NLVSN</td>\n      <td>1</td>\n      <td>0</td>\n      <td>0</td>\n      <td>0</td>\n      <td>0</td>\n      <td>0</td>\n      <td>0</td>\n      <td>0</td>\n      <td>...</td>\n      <td>0</td>\n      <td>0</td>\n      <td>0</td>\n      <td>0</td>\n      <td>0</td>\n      <td>0</td>\n      <td>0</td>\n      <td>0</td>\n      <td>0</td>\n      <td>0</td>\n    </tr>\n    <tr>\n      <th>10589</th>\n      <td>NLBZM</td>\n      <td>NLVER</td>\n      <td>1</td>\n      <td>0</td>\n      <td>0</td>\n      <td>0</td>\n      <td>0</td>\n      <td>0</td>\n      <td>0</td>\n      <td>0</td>\n      <td>...</td>\n      <td>0</td>\n      <td>0</td>\n      <td>0</td>\n      <td>0</td>\n      <td>0</td>\n      <td>0</td>\n      <td>0</td>\n      <td>0</td>\n      <td>0</td>\n      <td>0</td>\n    </tr>\n    <tr>\n      <th>10590</th>\n      <td>NLBZM</td>\n      <td>NLSMB</td>\n      <td>1</td>\n      <td>0</td>\n      <td>0</td>\n      <td>0</td>\n      <td>0</td>\n      <td>0</td>\n      <td>0</td>\n      <td>0</td>\n      <td>...</td>\n      <td>0</td>\n      <td>0</td>\n      <td>0</td>\n      <td>0</td>\n      <td>0</td>\n      <td>0</td>\n      <td>0</td>\n      <td>0</td>\n      <td>0</td>\n      <td>0</td>\n    </tr>\n    <tr>\n      <th>10591</th>\n      <td>NLBZM</td>\n      <td>NLSHH</td>\n      <td>1</td>\n      <td>0</td>\n      <td>0</td>\n      <td>0</td>\n      <td>0</td>\n      <td>0</td>\n      <td>0</td>\n      <td>0</td>\n      <td>...</td>\n      <td>0</td>\n      <td>0</td>\n      <td>0</td>\n      <td>0</td>\n      <td>0</td>\n      <td>0</td>\n      <td>0</td>\n      <td>0</td>\n      <td>0</td>\n      <td>0</td>\n    </tr>\n    <tr>\n      <th>10592</th>\n      <td>NLEFE</td>\n      <td>NLDZL</td>\n      <td>1</td>\n      <td>0</td>\n      <td>0</td>\n      <td>0</td>\n      <td>0</td>\n      <td>0</td>\n      <td>0</td>\n      <td>0</td>\n      <td>...</td>\n      <td>0</td>\n      <td>0</td>\n      <td>0</td>\n      <td>0</td>\n      <td>0</td>\n      <td>0</td>\n      <td>0</td>\n      <td>0</td>\n      <td>0</td>\n      <td>0</td>\n    </tr>\n  </tbody>\n</table>\n<p>10593 rows × 36 columns</p>\n</div>"
     },
     "execution_count": 11,
     "metadata": {},
     "output_type": "execute_result"
    }
   ],
   "source": [
    "df_main"
   ],
   "metadata": {
    "collapsed": false,
    "pycharm": {
     "name": "#%%\n"
    }
   }
  },
  {
   "cell_type": "code",
   "execution_count": 3,
   "outputs": [],
   "source": [
    "#remove entries with same origin and destination\n",
    "df_main = df_main.loc[df_main.origin!=df_main.destination]"
   ],
   "metadata": {
    "collapsed": false,
    "pycharm": {
     "name": "#%%\n"
    }
   }
  },
  {
   "cell_type": "code",
   "execution_count": 4,
   "outputs": [
    {
     "data": {
      "text/plain": "      origin destination  trip_count   M12    M8    M9  BIIa-1  BII-6b  M10  \\\n0      NLRTM       NLAMS        9943  2076  3510  1316     102       0  427   \n1      NLRTM       NLMOE        2686    70  1584   144       2       0   56   \n2      NLRTM       NLVLI        2153   190   658   414      10       0  140   \n3      NLAMS       NLAER        2119     6   132     0       2       0    7   \n5      NLVEG       NLRTM        1484     0     1     0       0       0    0   \n...      ...         ...         ...   ...   ...   ...     ...     ...  ...   \n10588  NLBZM       NLVSN           1     0     0     0       0       0    0   \n10589  NLBZM       NLVER           1     0     0     0       0       0    0   \n10590  NLBZM       NLSMB           1     0     0     0       0       0    0   \n10591  NLBZM       NLSHH           1     0     0     0       0       0    0   \n10592  NLEFE       NLDZL           1     0     0     0       0       0    0   \n\n       BII-6l  ...  C4  C2l  M0  B04  BII-2L  B02  C1b  C2b  B01  C1l  \n0           0  ...   5    7  11    5      39    4    0    0    0    0  \n1           0  ...   2    0   1    0       1    0    0    0    0    0  \n2           0  ...   0    2   2    1       0    0    0    1    0    0  \n3           0  ...   0    1   5   37       0    3    0    1    1    0  \n5           0  ...   0    0  17    0       0    0    0    0    0    0  \n...       ...  ...  ..  ...  ..  ...     ...  ...  ...  ...  ...  ...  \n10588       0  ...   0    0   0    0       0    0    0    0    0    0  \n10589       0  ...   0    0   0    0       0    0    0    0    0    0  \n10590       0  ...   0    0   0    0       0    0    0    0    0    0  \n10591       0  ...   0    0   0    0       0    0    0    0    0    0  \n10592       0  ...   0    0   0    0       0    0    0    0    0    0  \n\n[10456 rows x 36 columns]",
      "text/html": "<div>\n<style scoped>\n    .dataframe tbody tr th:only-of-type {\n        vertical-align: middle;\n    }\n\n    .dataframe tbody tr th {\n        vertical-align: top;\n    }\n\n    .dataframe thead th {\n        text-align: right;\n    }\n</style>\n<table border=\"1\" class=\"dataframe\">\n  <thead>\n    <tr style=\"text-align: right;\">\n      <th></th>\n      <th>origin</th>\n      <th>destination</th>\n      <th>trip_count</th>\n      <th>M12</th>\n      <th>M8</th>\n      <th>M9</th>\n      <th>BIIa-1</th>\n      <th>BII-6b</th>\n      <th>M10</th>\n      <th>BII-6l</th>\n      <th>...</th>\n      <th>C4</th>\n      <th>C2l</th>\n      <th>M0</th>\n      <th>B04</th>\n      <th>BII-2L</th>\n      <th>B02</th>\n      <th>C1b</th>\n      <th>C2b</th>\n      <th>B01</th>\n      <th>C1l</th>\n    </tr>\n  </thead>\n  <tbody>\n    <tr>\n      <th>0</th>\n      <td>NLRTM</td>\n      <td>NLAMS</td>\n      <td>9943</td>\n      <td>2076</td>\n      <td>3510</td>\n      <td>1316</td>\n      <td>102</td>\n      <td>0</td>\n      <td>427</td>\n      <td>0</td>\n      <td>...</td>\n      <td>5</td>\n      <td>7</td>\n      <td>11</td>\n      <td>5</td>\n      <td>39</td>\n      <td>4</td>\n      <td>0</td>\n      <td>0</td>\n      <td>0</td>\n      <td>0</td>\n    </tr>\n    <tr>\n      <th>1</th>\n      <td>NLRTM</td>\n      <td>NLMOE</td>\n      <td>2686</td>\n      <td>70</td>\n      <td>1584</td>\n      <td>144</td>\n      <td>2</td>\n      <td>0</td>\n      <td>56</td>\n      <td>0</td>\n      <td>...</td>\n      <td>2</td>\n      <td>0</td>\n      <td>1</td>\n      <td>0</td>\n      <td>1</td>\n      <td>0</td>\n      <td>0</td>\n      <td>0</td>\n      <td>0</td>\n      <td>0</td>\n    </tr>\n    <tr>\n      <th>2</th>\n      <td>NLRTM</td>\n      <td>NLVLI</td>\n      <td>2153</td>\n      <td>190</td>\n      <td>658</td>\n      <td>414</td>\n      <td>10</td>\n      <td>0</td>\n      <td>140</td>\n      <td>0</td>\n      <td>...</td>\n      <td>0</td>\n      <td>2</td>\n      <td>2</td>\n      <td>1</td>\n      <td>0</td>\n      <td>0</td>\n      <td>0</td>\n      <td>1</td>\n      <td>0</td>\n      <td>0</td>\n    </tr>\n    <tr>\n      <th>3</th>\n      <td>NLAMS</td>\n      <td>NLAER</td>\n      <td>2119</td>\n      <td>6</td>\n      <td>132</td>\n      <td>0</td>\n      <td>2</td>\n      <td>0</td>\n      <td>7</td>\n      <td>0</td>\n      <td>...</td>\n      <td>0</td>\n      <td>1</td>\n      <td>5</td>\n      <td>37</td>\n      <td>0</td>\n      <td>3</td>\n      <td>0</td>\n      <td>1</td>\n      <td>1</td>\n      <td>0</td>\n    </tr>\n    <tr>\n      <th>5</th>\n      <td>NLVEG</td>\n      <td>NLRTM</td>\n      <td>1484</td>\n      <td>0</td>\n      <td>1</td>\n      <td>0</td>\n      <td>0</td>\n      <td>0</td>\n      <td>0</td>\n      <td>0</td>\n      <td>...</td>\n      <td>0</td>\n      <td>0</td>\n      <td>17</td>\n      <td>0</td>\n      <td>0</td>\n      <td>0</td>\n      <td>0</td>\n      <td>0</td>\n      <td>0</td>\n      <td>0</td>\n    </tr>\n    <tr>\n      <th>...</th>\n      <td>...</td>\n      <td>...</td>\n      <td>...</td>\n      <td>...</td>\n      <td>...</td>\n      <td>...</td>\n      <td>...</td>\n      <td>...</td>\n      <td>...</td>\n      <td>...</td>\n      <td>...</td>\n      <td>...</td>\n      <td>...</td>\n      <td>...</td>\n      <td>...</td>\n      <td>...</td>\n      <td>...</td>\n      <td>...</td>\n      <td>...</td>\n      <td>...</td>\n      <td>...</td>\n    </tr>\n    <tr>\n      <th>10588</th>\n      <td>NLBZM</td>\n      <td>NLVSN</td>\n      <td>1</td>\n      <td>0</td>\n      <td>0</td>\n      <td>0</td>\n      <td>0</td>\n      <td>0</td>\n      <td>0</td>\n      <td>0</td>\n      <td>...</td>\n      <td>0</td>\n      <td>0</td>\n      <td>0</td>\n      <td>0</td>\n      <td>0</td>\n      <td>0</td>\n      <td>0</td>\n      <td>0</td>\n      <td>0</td>\n      <td>0</td>\n    </tr>\n    <tr>\n      <th>10589</th>\n      <td>NLBZM</td>\n      <td>NLVER</td>\n      <td>1</td>\n      <td>0</td>\n      <td>0</td>\n      <td>0</td>\n      <td>0</td>\n      <td>0</td>\n      <td>0</td>\n      <td>0</td>\n      <td>...</td>\n      <td>0</td>\n      <td>0</td>\n      <td>0</td>\n      <td>0</td>\n      <td>0</td>\n      <td>0</td>\n      <td>0</td>\n      <td>0</td>\n      <td>0</td>\n      <td>0</td>\n    </tr>\n    <tr>\n      <th>10590</th>\n      <td>NLBZM</td>\n      <td>NLSMB</td>\n      <td>1</td>\n      <td>0</td>\n      <td>0</td>\n      <td>0</td>\n      <td>0</td>\n      <td>0</td>\n      <td>0</td>\n      <td>0</td>\n      <td>...</td>\n      <td>0</td>\n      <td>0</td>\n      <td>0</td>\n      <td>0</td>\n      <td>0</td>\n      <td>0</td>\n      <td>0</td>\n      <td>0</td>\n      <td>0</td>\n      <td>0</td>\n    </tr>\n    <tr>\n      <th>10591</th>\n      <td>NLBZM</td>\n      <td>NLSHH</td>\n      <td>1</td>\n      <td>0</td>\n      <td>0</td>\n      <td>0</td>\n      <td>0</td>\n      <td>0</td>\n      <td>0</td>\n      <td>0</td>\n      <td>...</td>\n      <td>0</td>\n      <td>0</td>\n      <td>0</td>\n      <td>0</td>\n      <td>0</td>\n      <td>0</td>\n      <td>0</td>\n      <td>0</td>\n      <td>0</td>\n      <td>0</td>\n    </tr>\n    <tr>\n      <th>10592</th>\n      <td>NLEFE</td>\n      <td>NLDZL</td>\n      <td>1</td>\n      <td>0</td>\n      <td>0</td>\n      <td>0</td>\n      <td>0</td>\n      <td>0</td>\n      <td>0</td>\n      <td>0</td>\n      <td>...</td>\n      <td>0</td>\n      <td>0</td>\n      <td>0</td>\n      <td>0</td>\n      <td>0</td>\n      <td>0</td>\n      <td>0</td>\n      <td>0</td>\n      <td>0</td>\n      <td>0</td>\n    </tr>\n  </tbody>\n</table>\n<p>10456 rows × 36 columns</p>\n</div>"
     },
     "execution_count": 4,
     "metadata": {},
     "output_type": "execute_result"
    }
   ],
   "source": [
    "df_main"
   ],
   "metadata": {
    "collapsed": false,
    "pycharm": {
     "name": "#%%\n"
    }
   }
  },
  {
   "cell_type": "code",
   "execution_count": 5,
   "outputs": [],
   "source": [
    "#save dataframe\n",
    "# pickle.dump( df_main, open( \"data/df_trips_per_path.p\", \"wb\" ) )\n",
    "df_main = pickle.load( open( \"data/df_trips_per_path.p\", \"rb\" ) )"
   ],
   "metadata": {
    "collapsed": false,
    "pycharm": {
     "name": "#%%\n"
    }
   }
  },
  {
   "cell_type": "markdown",
   "source": [
    "## Generate random data"
   ],
   "metadata": {
    "collapsed": false,
    "pycharm": {
     "name": "#%% md\n"
    }
   }
  },
  {
   "cell_type": "code",
   "execution_count": 12,
   "outputs": [],
   "source": [
    "df_chance = df_main.copy()"
   ],
   "metadata": {
    "collapsed": false,
    "pycharm": {
     "name": "#%%\n"
    }
   }
  },
  {
   "cell_type": "code",
   "execution_count": 13,
   "outputs": [
    {
     "data": {
      "text/plain": "      origin destination  trip_count   M12    M8    M9  BIIa-1  BII-6b  M10  \\\n0      NLRTM       NLAMS        9943  2076  3510  1316     102       0  427   \n1      NLRTM       NLMOE        2686    70  1584   144       2       0   56   \n2      NLRTM       NLVLI        2153   190   658   414      10       0  140   \n3      NLAMS       NLAER        2119     6   132     0       2       0    7   \n4      NLRTM       NLRTM        1794   363   715    92      15       0  164   \n...      ...         ...         ...   ...   ...   ...     ...     ...  ...   \n10588  NLBZM       NLVSN           1     0     0     0       0       0    0   \n10589  NLBZM       NLVER           1     0     0     0       0       0    0   \n10590  NLBZM       NLSMB           1     0     0     0       0       0    0   \n10591  NLBZM       NLSHH           1     0     0     0       0       0    0   \n10592  NLEFE       NLDZL           1     0     0     0       0       0    0   \n\n       BII-6l  ...  C4  C2l  M0  B04  BII-2L  B02  C1b  C2b  B01  C1l  \n0           0  ...   5    7  11    5      39    4    0    0    0    0  \n1           0  ...   2    0   1    0       1    0    0    0    0    0  \n2           0  ...   0    2   2    1       0    0    0    1    0    0  \n3           0  ...   0    1   5   37       0    3    0    1    1    0  \n4           1  ...   4    0   0    0       2    0    0    0    0    0  \n...       ...  ...  ..  ...  ..  ...     ...  ...  ...  ...  ...  ...  \n10588       0  ...   0    0   0    0       0    0    0    0    0    0  \n10589       0  ...   0    0   0    0       0    0    0    0    0    0  \n10590       0  ...   0    0   0    0       0    0    0    0    0    0  \n10591       0  ...   0    0   0    0       0    0    0    0    0    0  \n10592       0  ...   0    0   0    0       0    0    0    0    0    0  \n\n[10593 rows x 36 columns]",
      "text/html": "<div>\n<style scoped>\n    .dataframe tbody tr th:only-of-type {\n        vertical-align: middle;\n    }\n\n    .dataframe tbody tr th {\n        vertical-align: top;\n    }\n\n    .dataframe thead th {\n        text-align: right;\n    }\n</style>\n<table border=\"1\" class=\"dataframe\">\n  <thead>\n    <tr style=\"text-align: right;\">\n      <th></th>\n      <th>origin</th>\n      <th>destination</th>\n      <th>trip_count</th>\n      <th>M12</th>\n      <th>M8</th>\n      <th>M9</th>\n      <th>BIIa-1</th>\n      <th>BII-6b</th>\n      <th>M10</th>\n      <th>BII-6l</th>\n      <th>...</th>\n      <th>C4</th>\n      <th>C2l</th>\n      <th>M0</th>\n      <th>B04</th>\n      <th>BII-2L</th>\n      <th>B02</th>\n      <th>C1b</th>\n      <th>C2b</th>\n      <th>B01</th>\n      <th>C1l</th>\n    </tr>\n  </thead>\n  <tbody>\n    <tr>\n      <th>0</th>\n      <td>NLRTM</td>\n      <td>NLAMS</td>\n      <td>9943</td>\n      <td>2076</td>\n      <td>3510</td>\n      <td>1316</td>\n      <td>102</td>\n      <td>0</td>\n      <td>427</td>\n      <td>0</td>\n      <td>...</td>\n      <td>5</td>\n      <td>7</td>\n      <td>11</td>\n      <td>5</td>\n      <td>39</td>\n      <td>4</td>\n      <td>0</td>\n      <td>0</td>\n      <td>0</td>\n      <td>0</td>\n    </tr>\n    <tr>\n      <th>1</th>\n      <td>NLRTM</td>\n      <td>NLMOE</td>\n      <td>2686</td>\n      <td>70</td>\n      <td>1584</td>\n      <td>144</td>\n      <td>2</td>\n      <td>0</td>\n      <td>56</td>\n      <td>0</td>\n      <td>...</td>\n      <td>2</td>\n      <td>0</td>\n      <td>1</td>\n      <td>0</td>\n      <td>1</td>\n      <td>0</td>\n      <td>0</td>\n      <td>0</td>\n      <td>0</td>\n      <td>0</td>\n    </tr>\n    <tr>\n      <th>2</th>\n      <td>NLRTM</td>\n      <td>NLVLI</td>\n      <td>2153</td>\n      <td>190</td>\n      <td>658</td>\n      <td>414</td>\n      <td>10</td>\n      <td>0</td>\n      <td>140</td>\n      <td>0</td>\n      <td>...</td>\n      <td>0</td>\n      <td>2</td>\n      <td>2</td>\n      <td>1</td>\n      <td>0</td>\n      <td>0</td>\n      <td>0</td>\n      <td>1</td>\n      <td>0</td>\n      <td>0</td>\n    </tr>\n    <tr>\n      <th>3</th>\n      <td>NLAMS</td>\n      <td>NLAER</td>\n      <td>2119</td>\n      <td>6</td>\n      <td>132</td>\n      <td>0</td>\n      <td>2</td>\n      <td>0</td>\n      <td>7</td>\n      <td>0</td>\n      <td>...</td>\n      <td>0</td>\n      <td>1</td>\n      <td>5</td>\n      <td>37</td>\n      <td>0</td>\n      <td>3</td>\n      <td>0</td>\n      <td>1</td>\n      <td>1</td>\n      <td>0</td>\n    </tr>\n    <tr>\n      <th>4</th>\n      <td>NLRTM</td>\n      <td>NLRTM</td>\n      <td>1794</td>\n      <td>363</td>\n      <td>715</td>\n      <td>92</td>\n      <td>15</td>\n      <td>0</td>\n      <td>164</td>\n      <td>1</td>\n      <td>...</td>\n      <td>4</td>\n      <td>0</td>\n      <td>0</td>\n      <td>0</td>\n      <td>2</td>\n      <td>0</td>\n      <td>0</td>\n      <td>0</td>\n      <td>0</td>\n      <td>0</td>\n    </tr>\n    <tr>\n      <th>...</th>\n      <td>...</td>\n      <td>...</td>\n      <td>...</td>\n      <td>...</td>\n      <td>...</td>\n      <td>...</td>\n      <td>...</td>\n      <td>...</td>\n      <td>...</td>\n      <td>...</td>\n      <td>...</td>\n      <td>...</td>\n      <td>...</td>\n      <td>...</td>\n      <td>...</td>\n      <td>...</td>\n      <td>...</td>\n      <td>...</td>\n      <td>...</td>\n      <td>...</td>\n      <td>...</td>\n    </tr>\n    <tr>\n      <th>10588</th>\n      <td>NLBZM</td>\n      <td>NLVSN</td>\n      <td>1</td>\n      <td>0</td>\n      <td>0</td>\n      <td>0</td>\n      <td>0</td>\n      <td>0</td>\n      <td>0</td>\n      <td>0</td>\n      <td>...</td>\n      <td>0</td>\n      <td>0</td>\n      <td>0</td>\n      <td>0</td>\n      <td>0</td>\n      <td>0</td>\n      <td>0</td>\n      <td>0</td>\n      <td>0</td>\n      <td>0</td>\n    </tr>\n    <tr>\n      <th>10589</th>\n      <td>NLBZM</td>\n      <td>NLVER</td>\n      <td>1</td>\n      <td>0</td>\n      <td>0</td>\n      <td>0</td>\n      <td>0</td>\n      <td>0</td>\n      <td>0</td>\n      <td>0</td>\n      <td>...</td>\n      <td>0</td>\n      <td>0</td>\n      <td>0</td>\n      <td>0</td>\n      <td>0</td>\n      <td>0</td>\n      <td>0</td>\n      <td>0</td>\n      <td>0</td>\n      <td>0</td>\n    </tr>\n    <tr>\n      <th>10590</th>\n      <td>NLBZM</td>\n      <td>NLSMB</td>\n      <td>1</td>\n      <td>0</td>\n      <td>0</td>\n      <td>0</td>\n      <td>0</td>\n      <td>0</td>\n      <td>0</td>\n      <td>0</td>\n      <td>...</td>\n      <td>0</td>\n      <td>0</td>\n      <td>0</td>\n      <td>0</td>\n      <td>0</td>\n      <td>0</td>\n      <td>0</td>\n      <td>0</td>\n      <td>0</td>\n      <td>0</td>\n    </tr>\n    <tr>\n      <th>10591</th>\n      <td>NLBZM</td>\n      <td>NLSHH</td>\n      <td>1</td>\n      <td>0</td>\n      <td>0</td>\n      <td>0</td>\n      <td>0</td>\n      <td>0</td>\n      <td>0</td>\n      <td>0</td>\n      <td>...</td>\n      <td>0</td>\n      <td>0</td>\n      <td>0</td>\n      <td>0</td>\n      <td>0</td>\n      <td>0</td>\n      <td>0</td>\n      <td>0</td>\n      <td>0</td>\n      <td>0</td>\n    </tr>\n    <tr>\n      <th>10592</th>\n      <td>NLEFE</td>\n      <td>NLDZL</td>\n      <td>1</td>\n      <td>0</td>\n      <td>0</td>\n      <td>0</td>\n      <td>0</td>\n      <td>0</td>\n      <td>0</td>\n      <td>0</td>\n      <td>...</td>\n      <td>0</td>\n      <td>0</td>\n      <td>0</td>\n      <td>0</td>\n      <td>0</td>\n      <td>0</td>\n      <td>0</td>\n      <td>0</td>\n      <td>0</td>\n      <td>0</td>\n    </tr>\n  </tbody>\n</table>\n<p>10593 rows × 36 columns</p>\n</div>"
     },
     "execution_count": 13,
     "metadata": {},
     "output_type": "execute_result"
    }
   ],
   "source": [
    "df_chance"
   ],
   "metadata": {
    "collapsed": false,
    "pycharm": {
     "name": "#%%\n"
    }
   }
  },
  {
   "cell_type": "code",
   "execution_count": 14,
   "outputs": [],
   "source": [
    "type_list = list(df_main.columns[3:])"
   ],
   "metadata": {
    "collapsed": false,
    "pycharm": {
     "name": "#%%\n"
    }
   }
  },
  {
   "cell_type": "code",
   "execution_count": 15,
   "outputs": [],
   "source": [
    "for i in type_list:\n",
    "    df_chance[i] = df_chance[i]/df_chance.trip_count"
   ],
   "metadata": {
    "collapsed": false,
    "pycharm": {
     "name": "#%%\n"
    }
   }
  },
  {
   "cell_type": "code",
   "execution_count": 20,
   "outputs": [],
   "source": [
    "# pickle.dump( df_chance, open( \"data/probability_df.p\", \"wb\" ) )\n",
    "df_chance = pickle.load(  open( \"data/probability_df.p\", \"rb\" ) )"
   ],
   "metadata": {
    "collapsed": false,
    "pycharm": {
     "name": "#%%\n"
    }
   }
  },
  {
   "cell_type": "code",
   "execution_count": 21,
   "outputs": [
    {
     "data": {
      "text/plain": "      origin destination  trip_count       M12        M8        M9    BIIa-1  \\\n0      NLRTM       NLAMS        9943  0.208790  0.353012  0.132354  0.010258   \n1      NLRTM       NLMOE        2686  0.026061  0.589724  0.053611  0.000745   \n2      NLRTM       NLVLI        2153  0.088249  0.305620  0.192290  0.004645   \n3      NLAMS       NLAER        2119  0.002832  0.062294  0.000000  0.000944   \n4      NLRTM       NLRTM        1794  0.202341  0.398551  0.051282  0.008361   \n...      ...         ...         ...       ...       ...       ...       ...   \n10588  NLBZM       NLVSN           1  0.000000  0.000000  0.000000  0.000000   \n10589  NLBZM       NLVER           1  0.000000  0.000000  0.000000  0.000000   \n10590  NLBZM       NLSMB           1  0.000000  0.000000  0.000000  0.000000   \n10591  NLBZM       NLSHH           1  0.000000  0.000000  0.000000  0.000000   \n10592  NLEFE       NLDZL           1  0.000000  0.000000  0.000000  0.000000   \n\n       BII-6b       M10    BII-6l  ...        C4       C2l        M0  \\\n0         0.0  0.042945  0.000000  ...  0.000503  0.000704  0.001106   \n1         0.0  0.020849  0.000000  ...  0.000745  0.000000  0.000372   \n2         0.0  0.065026  0.000000  ...  0.000000  0.000929  0.000929   \n3         0.0  0.003303  0.000000  ...  0.000000  0.000472  0.002360   \n4         0.0  0.091416  0.000557  ...  0.002230  0.000000  0.000000   \n...       ...       ...       ...  ...       ...       ...       ...   \n10588     0.0  0.000000  0.000000  ...  0.000000  0.000000  0.000000   \n10589     0.0  0.000000  0.000000  ...  0.000000  0.000000  0.000000   \n10590     0.0  0.000000  0.000000  ...  0.000000  0.000000  0.000000   \n10591     0.0  0.000000  0.000000  ...  0.000000  0.000000  0.000000   \n10592     0.0  0.000000  0.000000  ...  0.000000  0.000000  0.000000   \n\n            B04    BII-2L       B02  C1b       C2b       B01  C1l  \n0      0.000503  0.003922  0.000402  0.0  0.000000  0.000000  0.0  \n1      0.000000  0.000372  0.000000  0.0  0.000000  0.000000  0.0  \n2      0.000464  0.000000  0.000000  0.0  0.000464  0.000000  0.0  \n3      0.017461  0.000000  0.001416  0.0  0.000472  0.000472  0.0  \n4      0.000000  0.001115  0.000000  0.0  0.000000  0.000000  0.0  \n...         ...       ...       ...  ...       ...       ...  ...  \n10588  0.000000  0.000000  0.000000  0.0  0.000000  0.000000  0.0  \n10589  0.000000  0.000000  0.000000  0.0  0.000000  0.000000  0.0  \n10590  0.000000  0.000000  0.000000  0.0  0.000000  0.000000  0.0  \n10591  0.000000  0.000000  0.000000  0.0  0.000000  0.000000  0.0  \n10592  0.000000  0.000000  0.000000  0.0  0.000000  0.000000  0.0  \n\n[10593 rows x 36 columns]",
      "text/html": "<div>\n<style scoped>\n    .dataframe tbody tr th:only-of-type {\n        vertical-align: middle;\n    }\n\n    .dataframe tbody tr th {\n        vertical-align: top;\n    }\n\n    .dataframe thead th {\n        text-align: right;\n    }\n</style>\n<table border=\"1\" class=\"dataframe\">\n  <thead>\n    <tr style=\"text-align: right;\">\n      <th></th>\n      <th>origin</th>\n      <th>destination</th>\n      <th>trip_count</th>\n      <th>M12</th>\n      <th>M8</th>\n      <th>M9</th>\n      <th>BIIa-1</th>\n      <th>BII-6b</th>\n      <th>M10</th>\n      <th>BII-6l</th>\n      <th>...</th>\n      <th>C4</th>\n      <th>C2l</th>\n      <th>M0</th>\n      <th>B04</th>\n      <th>BII-2L</th>\n      <th>B02</th>\n      <th>C1b</th>\n      <th>C2b</th>\n      <th>B01</th>\n      <th>C1l</th>\n    </tr>\n  </thead>\n  <tbody>\n    <tr>\n      <th>0</th>\n      <td>NLRTM</td>\n      <td>NLAMS</td>\n      <td>9943</td>\n      <td>0.208790</td>\n      <td>0.353012</td>\n      <td>0.132354</td>\n      <td>0.010258</td>\n      <td>0.0</td>\n      <td>0.042945</td>\n      <td>0.000000</td>\n      <td>...</td>\n      <td>0.000503</td>\n      <td>0.000704</td>\n      <td>0.001106</td>\n      <td>0.000503</td>\n      <td>0.003922</td>\n      <td>0.000402</td>\n      <td>0.0</td>\n      <td>0.000000</td>\n      <td>0.000000</td>\n      <td>0.0</td>\n    </tr>\n    <tr>\n      <th>1</th>\n      <td>NLRTM</td>\n      <td>NLMOE</td>\n      <td>2686</td>\n      <td>0.026061</td>\n      <td>0.589724</td>\n      <td>0.053611</td>\n      <td>0.000745</td>\n      <td>0.0</td>\n      <td>0.020849</td>\n      <td>0.000000</td>\n      <td>...</td>\n      <td>0.000745</td>\n      <td>0.000000</td>\n      <td>0.000372</td>\n      <td>0.000000</td>\n      <td>0.000372</td>\n      <td>0.000000</td>\n      <td>0.0</td>\n      <td>0.000000</td>\n      <td>0.000000</td>\n      <td>0.0</td>\n    </tr>\n    <tr>\n      <th>2</th>\n      <td>NLRTM</td>\n      <td>NLVLI</td>\n      <td>2153</td>\n      <td>0.088249</td>\n      <td>0.305620</td>\n      <td>0.192290</td>\n      <td>0.004645</td>\n      <td>0.0</td>\n      <td>0.065026</td>\n      <td>0.000000</td>\n      <td>...</td>\n      <td>0.000000</td>\n      <td>0.000929</td>\n      <td>0.000929</td>\n      <td>0.000464</td>\n      <td>0.000000</td>\n      <td>0.000000</td>\n      <td>0.0</td>\n      <td>0.000464</td>\n      <td>0.000000</td>\n      <td>0.0</td>\n    </tr>\n    <tr>\n      <th>3</th>\n      <td>NLAMS</td>\n      <td>NLAER</td>\n      <td>2119</td>\n      <td>0.002832</td>\n      <td>0.062294</td>\n      <td>0.000000</td>\n      <td>0.000944</td>\n      <td>0.0</td>\n      <td>0.003303</td>\n      <td>0.000000</td>\n      <td>...</td>\n      <td>0.000000</td>\n      <td>0.000472</td>\n      <td>0.002360</td>\n      <td>0.017461</td>\n      <td>0.000000</td>\n      <td>0.001416</td>\n      <td>0.0</td>\n      <td>0.000472</td>\n      <td>0.000472</td>\n      <td>0.0</td>\n    </tr>\n    <tr>\n      <th>4</th>\n      <td>NLRTM</td>\n      <td>NLRTM</td>\n      <td>1794</td>\n      <td>0.202341</td>\n      <td>0.398551</td>\n      <td>0.051282</td>\n      <td>0.008361</td>\n      <td>0.0</td>\n      <td>0.091416</td>\n      <td>0.000557</td>\n      <td>...</td>\n      <td>0.002230</td>\n      <td>0.000000</td>\n      <td>0.000000</td>\n      <td>0.000000</td>\n      <td>0.001115</td>\n      <td>0.000000</td>\n      <td>0.0</td>\n      <td>0.000000</td>\n      <td>0.000000</td>\n      <td>0.0</td>\n    </tr>\n    <tr>\n      <th>...</th>\n      <td>...</td>\n      <td>...</td>\n      <td>...</td>\n      <td>...</td>\n      <td>...</td>\n      <td>...</td>\n      <td>...</td>\n      <td>...</td>\n      <td>...</td>\n      <td>...</td>\n      <td>...</td>\n      <td>...</td>\n      <td>...</td>\n      <td>...</td>\n      <td>...</td>\n      <td>...</td>\n      <td>...</td>\n      <td>...</td>\n      <td>...</td>\n      <td>...</td>\n      <td>...</td>\n    </tr>\n    <tr>\n      <th>10588</th>\n      <td>NLBZM</td>\n      <td>NLVSN</td>\n      <td>1</td>\n      <td>0.000000</td>\n      <td>0.000000</td>\n      <td>0.000000</td>\n      <td>0.000000</td>\n      <td>0.0</td>\n      <td>0.000000</td>\n      <td>0.000000</td>\n      <td>...</td>\n      <td>0.000000</td>\n      <td>0.000000</td>\n      <td>0.000000</td>\n      <td>0.000000</td>\n      <td>0.000000</td>\n      <td>0.000000</td>\n      <td>0.0</td>\n      <td>0.000000</td>\n      <td>0.000000</td>\n      <td>0.0</td>\n    </tr>\n    <tr>\n      <th>10589</th>\n      <td>NLBZM</td>\n      <td>NLVER</td>\n      <td>1</td>\n      <td>0.000000</td>\n      <td>0.000000</td>\n      <td>0.000000</td>\n      <td>0.000000</td>\n      <td>0.0</td>\n      <td>0.000000</td>\n      <td>0.000000</td>\n      <td>...</td>\n      <td>0.000000</td>\n      <td>0.000000</td>\n      <td>0.000000</td>\n      <td>0.000000</td>\n      <td>0.000000</td>\n      <td>0.000000</td>\n      <td>0.0</td>\n      <td>0.000000</td>\n      <td>0.000000</td>\n      <td>0.0</td>\n    </tr>\n    <tr>\n      <th>10590</th>\n      <td>NLBZM</td>\n      <td>NLSMB</td>\n      <td>1</td>\n      <td>0.000000</td>\n      <td>0.000000</td>\n      <td>0.000000</td>\n      <td>0.000000</td>\n      <td>0.0</td>\n      <td>0.000000</td>\n      <td>0.000000</td>\n      <td>...</td>\n      <td>0.000000</td>\n      <td>0.000000</td>\n      <td>0.000000</td>\n      <td>0.000000</td>\n      <td>0.000000</td>\n      <td>0.000000</td>\n      <td>0.0</td>\n      <td>0.000000</td>\n      <td>0.000000</td>\n      <td>0.0</td>\n    </tr>\n    <tr>\n      <th>10591</th>\n      <td>NLBZM</td>\n      <td>NLSHH</td>\n      <td>1</td>\n      <td>0.000000</td>\n      <td>0.000000</td>\n      <td>0.000000</td>\n      <td>0.000000</td>\n      <td>0.0</td>\n      <td>0.000000</td>\n      <td>0.000000</td>\n      <td>...</td>\n      <td>0.000000</td>\n      <td>0.000000</td>\n      <td>0.000000</td>\n      <td>0.000000</td>\n      <td>0.000000</td>\n      <td>0.000000</td>\n      <td>0.0</td>\n      <td>0.000000</td>\n      <td>0.000000</td>\n      <td>0.0</td>\n    </tr>\n    <tr>\n      <th>10592</th>\n      <td>NLEFE</td>\n      <td>NLDZL</td>\n      <td>1</td>\n      <td>0.000000</td>\n      <td>0.000000</td>\n      <td>0.000000</td>\n      <td>0.000000</td>\n      <td>0.0</td>\n      <td>0.000000</td>\n      <td>0.000000</td>\n      <td>...</td>\n      <td>0.000000</td>\n      <td>0.000000</td>\n      <td>0.000000</td>\n      <td>0.000000</td>\n      <td>0.000000</td>\n      <td>0.000000</td>\n      <td>0.0</td>\n      <td>0.000000</td>\n      <td>0.000000</td>\n      <td>0.0</td>\n    </tr>\n  </tbody>\n</table>\n<p>10593 rows × 36 columns</p>\n</div>"
     },
     "execution_count": 21,
     "metadata": {},
     "output_type": "execute_result"
    }
   ],
   "source": [
    "df_chance"
   ],
   "metadata": {
    "collapsed": false,
    "pycharm": {
     "name": "#%%\n"
    }
   }
  },
  {
   "cell_type": "code",
   "execution_count": 22,
   "outputs": [],
   "source": [
    "test_100 = df_chance.head(100)"
   ],
   "metadata": {
    "collapsed": false,
    "pycharm": {
     "name": "#%%\n"
    }
   }
  },
  {
   "cell_type": "code",
   "execution_count": 16,
   "outputs": [
    {
     "data": {
      "text/plain": "   origin destination  trip_count       M12        M8        M9    BIIa-1  \\\n0   NLRTM       NLAMS        9943  0.208790  0.353012  0.132354  0.010258   \n1   NLRTM       NLMOE        2686  0.026061  0.589724  0.053611  0.000745   \n2   NLRTM       NLVLI        2153  0.088249  0.305620  0.192290  0.004645   \n3   NLAMS       NLAER        2119  0.002832  0.062294  0.000000  0.000944   \n4   NLRTM       NLRTM        1794  0.202341  0.398551  0.051282  0.008361   \n..    ...         ...         ...       ...       ...       ...       ...   \n95  NLNIJ       NLAMS         352  0.011364  0.411932  0.028409  0.065341   \n96  NLFAR       NLRTM         342  0.000000  0.903509  0.029240  0.005848   \n97  NLRTM       NLVSN         342  0.000000  0.602339  0.368421  0.000000   \n98  NLPER       NLAMS         328  0.027439  0.387195  0.097561  0.000000   \n99  NLHRV       NLAMS         326  0.000000  0.595092  0.000000  0.000000   \n\n    BII-6b       M10    BII-6l  ...        C4       C2l        M0       B04  \\\n0      0.0  0.042945  0.000000  ...  0.000503  0.000704  0.001106  0.000503   \n1      0.0  0.020849  0.000000  ...  0.000745  0.000000  0.000372  0.000000   \n2      0.0  0.065026  0.000000  ...  0.000000  0.000929  0.000929  0.000464   \n3      0.0  0.003303  0.000000  ...  0.000000  0.000472  0.002360  0.017461   \n4      0.0  0.091416  0.000557  ...  0.002230  0.000000  0.000000  0.000000   \n..     ...       ...       ...  ...       ...       ...       ...       ...   \n95     0.0  0.000000  0.000000  ...  0.000000  0.011364  0.000000  0.000000   \n96     0.0  0.000000  0.000000  ...  0.000000  0.000000  0.000000  0.000000   \n97     0.0  0.011696  0.000000  ...  0.000000  0.000000  0.000000  0.000000   \n98     0.0  0.018293  0.000000  ...  0.000000  0.000000  0.000000  0.000000   \n99     0.0  0.000000  0.000000  ...  0.000000  0.000000  0.000000  0.000000   \n\n      BII-2L       B02  C1b       C2b       B01  C1l  \n0   0.003922  0.000402  0.0  0.000000  0.000000  0.0  \n1   0.000372  0.000000  0.0  0.000000  0.000000  0.0  \n2   0.000000  0.000000  0.0  0.000464  0.000000  0.0  \n3   0.000000  0.001416  0.0  0.000472  0.000472  0.0  \n4   0.001115  0.000000  0.0  0.000000  0.000000  0.0  \n..       ...       ...  ...       ...       ...  ...  \n95  0.002841  0.000000  0.0  0.000000  0.002841  0.0  \n96  0.008772  0.000000  0.0  0.000000  0.000000  0.0  \n97  0.000000  0.000000  0.0  0.000000  0.000000  0.0  \n98  0.000000  0.000000  0.0  0.000000  0.000000  0.0  \n99  0.000000  0.000000  0.0  0.000000  0.003067  0.0  \n\n[100 rows x 36 columns]",
      "text/html": "<div>\n<style scoped>\n    .dataframe tbody tr th:only-of-type {\n        vertical-align: middle;\n    }\n\n    .dataframe tbody tr th {\n        vertical-align: top;\n    }\n\n    .dataframe thead th {\n        text-align: right;\n    }\n</style>\n<table border=\"1\" class=\"dataframe\">\n  <thead>\n    <tr style=\"text-align: right;\">\n      <th></th>\n      <th>origin</th>\n      <th>destination</th>\n      <th>trip_count</th>\n      <th>M12</th>\n      <th>M8</th>\n      <th>M9</th>\n      <th>BIIa-1</th>\n      <th>BII-6b</th>\n      <th>M10</th>\n      <th>BII-6l</th>\n      <th>...</th>\n      <th>C4</th>\n      <th>C2l</th>\n      <th>M0</th>\n      <th>B04</th>\n      <th>BII-2L</th>\n      <th>B02</th>\n      <th>C1b</th>\n      <th>C2b</th>\n      <th>B01</th>\n      <th>C1l</th>\n    </tr>\n  </thead>\n  <tbody>\n    <tr>\n      <th>0</th>\n      <td>NLRTM</td>\n      <td>NLAMS</td>\n      <td>9943</td>\n      <td>0.208790</td>\n      <td>0.353012</td>\n      <td>0.132354</td>\n      <td>0.010258</td>\n      <td>0.0</td>\n      <td>0.042945</td>\n      <td>0.000000</td>\n      <td>...</td>\n      <td>0.000503</td>\n      <td>0.000704</td>\n      <td>0.001106</td>\n      <td>0.000503</td>\n      <td>0.003922</td>\n      <td>0.000402</td>\n      <td>0.0</td>\n      <td>0.000000</td>\n      <td>0.000000</td>\n      <td>0.0</td>\n    </tr>\n    <tr>\n      <th>1</th>\n      <td>NLRTM</td>\n      <td>NLMOE</td>\n      <td>2686</td>\n      <td>0.026061</td>\n      <td>0.589724</td>\n      <td>0.053611</td>\n      <td>0.000745</td>\n      <td>0.0</td>\n      <td>0.020849</td>\n      <td>0.000000</td>\n      <td>...</td>\n      <td>0.000745</td>\n      <td>0.000000</td>\n      <td>0.000372</td>\n      <td>0.000000</td>\n      <td>0.000372</td>\n      <td>0.000000</td>\n      <td>0.0</td>\n      <td>0.000000</td>\n      <td>0.000000</td>\n      <td>0.0</td>\n    </tr>\n    <tr>\n      <th>2</th>\n      <td>NLRTM</td>\n      <td>NLVLI</td>\n      <td>2153</td>\n      <td>0.088249</td>\n      <td>0.305620</td>\n      <td>0.192290</td>\n      <td>0.004645</td>\n      <td>0.0</td>\n      <td>0.065026</td>\n      <td>0.000000</td>\n      <td>...</td>\n      <td>0.000000</td>\n      <td>0.000929</td>\n      <td>0.000929</td>\n      <td>0.000464</td>\n      <td>0.000000</td>\n      <td>0.000000</td>\n      <td>0.0</td>\n      <td>0.000464</td>\n      <td>0.000000</td>\n      <td>0.0</td>\n    </tr>\n    <tr>\n      <th>3</th>\n      <td>NLAMS</td>\n      <td>NLAER</td>\n      <td>2119</td>\n      <td>0.002832</td>\n      <td>0.062294</td>\n      <td>0.000000</td>\n      <td>0.000944</td>\n      <td>0.0</td>\n      <td>0.003303</td>\n      <td>0.000000</td>\n      <td>...</td>\n      <td>0.000000</td>\n      <td>0.000472</td>\n      <td>0.002360</td>\n      <td>0.017461</td>\n      <td>0.000000</td>\n      <td>0.001416</td>\n      <td>0.0</td>\n      <td>0.000472</td>\n      <td>0.000472</td>\n      <td>0.0</td>\n    </tr>\n    <tr>\n      <th>4</th>\n      <td>NLRTM</td>\n      <td>NLRTM</td>\n      <td>1794</td>\n      <td>0.202341</td>\n      <td>0.398551</td>\n      <td>0.051282</td>\n      <td>0.008361</td>\n      <td>0.0</td>\n      <td>0.091416</td>\n      <td>0.000557</td>\n      <td>...</td>\n      <td>0.002230</td>\n      <td>0.000000</td>\n      <td>0.000000</td>\n      <td>0.000000</td>\n      <td>0.001115</td>\n      <td>0.000000</td>\n      <td>0.0</td>\n      <td>0.000000</td>\n      <td>0.000000</td>\n      <td>0.0</td>\n    </tr>\n    <tr>\n      <th>...</th>\n      <td>...</td>\n      <td>...</td>\n      <td>...</td>\n      <td>...</td>\n      <td>...</td>\n      <td>...</td>\n      <td>...</td>\n      <td>...</td>\n      <td>...</td>\n      <td>...</td>\n      <td>...</td>\n      <td>...</td>\n      <td>...</td>\n      <td>...</td>\n      <td>...</td>\n      <td>...</td>\n      <td>...</td>\n      <td>...</td>\n      <td>...</td>\n      <td>...</td>\n      <td>...</td>\n    </tr>\n    <tr>\n      <th>95</th>\n      <td>NLNIJ</td>\n      <td>NLAMS</td>\n      <td>352</td>\n      <td>0.011364</td>\n      <td>0.411932</td>\n      <td>0.028409</td>\n      <td>0.065341</td>\n      <td>0.0</td>\n      <td>0.000000</td>\n      <td>0.000000</td>\n      <td>...</td>\n      <td>0.000000</td>\n      <td>0.011364</td>\n      <td>0.000000</td>\n      <td>0.000000</td>\n      <td>0.002841</td>\n      <td>0.000000</td>\n      <td>0.0</td>\n      <td>0.000000</td>\n      <td>0.002841</td>\n      <td>0.0</td>\n    </tr>\n    <tr>\n      <th>96</th>\n      <td>NLFAR</td>\n      <td>NLRTM</td>\n      <td>342</td>\n      <td>0.000000</td>\n      <td>0.903509</td>\n      <td>0.029240</td>\n      <td>0.005848</td>\n      <td>0.0</td>\n      <td>0.000000</td>\n      <td>0.000000</td>\n      <td>...</td>\n      <td>0.000000</td>\n      <td>0.000000</td>\n      <td>0.000000</td>\n      <td>0.000000</td>\n      <td>0.008772</td>\n      <td>0.000000</td>\n      <td>0.0</td>\n      <td>0.000000</td>\n      <td>0.000000</td>\n      <td>0.0</td>\n    </tr>\n    <tr>\n      <th>97</th>\n      <td>NLRTM</td>\n      <td>NLVSN</td>\n      <td>342</td>\n      <td>0.000000</td>\n      <td>0.602339</td>\n      <td>0.368421</td>\n      <td>0.000000</td>\n      <td>0.0</td>\n      <td>0.011696</td>\n      <td>0.000000</td>\n      <td>...</td>\n      <td>0.000000</td>\n      <td>0.000000</td>\n      <td>0.000000</td>\n      <td>0.000000</td>\n      <td>0.000000</td>\n      <td>0.000000</td>\n      <td>0.0</td>\n      <td>0.000000</td>\n      <td>0.000000</td>\n      <td>0.0</td>\n    </tr>\n    <tr>\n      <th>98</th>\n      <td>NLPER</td>\n      <td>NLAMS</td>\n      <td>328</td>\n      <td>0.027439</td>\n      <td>0.387195</td>\n      <td>0.097561</td>\n      <td>0.000000</td>\n      <td>0.0</td>\n      <td>0.018293</td>\n      <td>0.000000</td>\n      <td>...</td>\n      <td>0.000000</td>\n      <td>0.000000</td>\n      <td>0.000000</td>\n      <td>0.000000</td>\n      <td>0.000000</td>\n      <td>0.000000</td>\n      <td>0.0</td>\n      <td>0.000000</td>\n      <td>0.000000</td>\n      <td>0.0</td>\n    </tr>\n    <tr>\n      <th>99</th>\n      <td>NLHRV</td>\n      <td>NLAMS</td>\n      <td>326</td>\n      <td>0.000000</td>\n      <td>0.595092</td>\n      <td>0.000000</td>\n      <td>0.000000</td>\n      <td>0.0</td>\n      <td>0.000000</td>\n      <td>0.000000</td>\n      <td>...</td>\n      <td>0.000000</td>\n      <td>0.000000</td>\n      <td>0.000000</td>\n      <td>0.000000</td>\n      <td>0.000000</td>\n      <td>0.000000</td>\n      <td>0.0</td>\n      <td>0.000000</td>\n      <td>0.003067</td>\n      <td>0.0</td>\n    </tr>\n  </tbody>\n</table>\n<p>100 rows × 36 columns</p>\n</div>"
     },
     "execution_count": 16,
     "metadata": {},
     "output_type": "execute_result"
    }
   ],
   "source": [
    "test_100"
   ],
   "metadata": {
    "collapsed": false,
    "pycharm": {
     "name": "#%%\n"
    }
   }
  },
  {
   "cell_type": "code",
   "execution_count": 62,
   "outputs": [],
   "source": [
    "def random_vessel_generator(df_prob):\n",
    "    # create dict to store random prob based values later on\n",
    "    main_dict = {i:[] for i in df_prob.columns}\n",
    "\n",
    "    # loop over all rows of the probability dataframe\n",
    "    for i in range(len(df_prob)):\n",
    "        # copy origin, destination and count from original df\n",
    "        for x in df_prob.columns[:3]:\n",
    "            main_dict[x].append(df_prob.iloc[i,:][x])\n",
    "\n",
    "        # find probability, items to pick, and the number of vessels to generate in total\n",
    "        prob = list(df_prob.iloc[i, 3:].values)\n",
    "        to_pick = list(df_prob.columns)\n",
    "        to_pick = to_pick[3:]\n",
    "        count = df_prob['trip_count'][i]\n",
    "\n",
    "        # generate random vessels\n",
    "        rand_vessels = np.random.choice(a=to_pick, size=count, replace=True, p=prob)\n",
    "        unique, counts = np.unique(rand_vessels, return_counts=True)\n",
    "        temp_dict = dict(zip(unique,counts))\n",
    "\n",
    "        # append amount of random generated vessels right dict list\n",
    "        for key in list(main_dict.keys())[3:]:\n",
    "            if key in temp_dict.keys():\n",
    "                main_dict[key].append(temp_dict[key])\n",
    "            else:\n",
    "                main_dict[key].append(0)\n",
    "\n",
    "        # now make dict\n",
    "        df_return = pd.DataFrame.from_dict(main_dict)\n",
    "\n",
    "    return df_return"
   ],
   "metadata": {
    "collapsed": false,
    "pycharm": {
     "name": "#%%\n"
    }
   }
  },
  {
   "cell_type": "code",
   "execution_count": 65,
   "outputs": [
    {
     "name": "stdout",
     "output_type": "stream",
     "text": [
      "CPU times: total: 312 ms\n",
      "Wall time: 305 ms\n"
     ]
    }
   ],
   "source": [
    "import time\n",
    "%time vs = random_vessel_generator(test_100)"
   ],
   "metadata": {
    "collapsed": false,
    "pycharm": {
     "name": "#%%\n"
    }
   }
  },
  {
   "cell_type": "markdown",
   "source": [
    "## Now translate random vessels fuel consumption value for each path\n",
    "Idea: take 1 vessel as a basis, and assume that fuel consumption is linearly correlated with average engine power, to be able to use index\n",
    "Capacity is likely x vessels per day of a certain type for a charging unit, depending on the charging time.\n",
    "Hence, computing the average amount of that type of vehicles that comes by everyday makes sense."
   ],
   "metadata": {
    "collapsed": false,
    "pycharm": {
     "name": "#%% md\n"
    }
   }
  },
  {
   "cell_type": "code",
   "execution_count": 72,
   "outputs": [],
   "source": [
    "# generate a random set to calculate path values with\n",
    "df_gen_vessels = random_vessel_generator(test_100)"
   ],
   "metadata": {
    "collapsed": false,
    "pycharm": {
     "name": "#%%\n"
    }
   }
  },
  {
   "cell_type": "code",
   "execution_count": 69,
   "outputs": [],
   "source": [
    "ship_data = pd.read_excel('data/ship_types.xlsx')\n",
    "ship_data.fillna(0, inplace=True)"
   ],
   "metadata": {
    "collapsed": false,
    "pycharm": {
     "name": "#%%\n"
    }
   }
  },
  {
   "cell_type": "code",
   "execution_count": 70,
   "outputs": [
    {
     "data": {
      "text/plain": "   RWS-class     Factor\n0         M0   0.000000\n1         M1   1.000000\n2         M2   1.714286\n3         M3   2.485714\n4         M4   2.485714\n5         M5   2.485714\n6         M6   3.942857\n7         M7   3.942857\n8         M8   8.142857\n9         M9   8.142857\n10       M10  11.514286\n11       M11  11.514286\n12       M12  11.514286\n13       C1b   1.000000\n14       C1l   1.000000\n15       C2l   3.942857\n16       C3l   0.000000\n17       C2b  11.514286\n18       C3b  11.514286\n19        C4   0.000000\n20       B01   1.000000\n21       B02   1.428571\n22       B03   0.000000\n23       B04   2.485714\n24        BI   3.942857\n25     BII-1   8.142857\n26    BIIa-1   8.142857\n27    BIIL-1   8.142857\n28    BII-2L   0.000000\n29    BII-2b  11.514286\n30     BII-4   0.000000\n31    BII-6b   0.000000\n32    BII-6l   0.000000",
      "text/html": "<div>\n<style scoped>\n    .dataframe tbody tr th:only-of-type {\n        vertical-align: middle;\n    }\n\n    .dataframe tbody tr th {\n        vertical-align: top;\n    }\n\n    .dataframe thead th {\n        text-align: right;\n    }\n</style>\n<table border=\"1\" class=\"dataframe\">\n  <thead>\n    <tr style=\"text-align: right;\">\n      <th></th>\n      <th>RWS-class</th>\n      <th>Factor</th>\n    </tr>\n  </thead>\n  <tbody>\n    <tr>\n      <th>0</th>\n      <td>M0</td>\n      <td>0.000000</td>\n    </tr>\n    <tr>\n      <th>1</th>\n      <td>M1</td>\n      <td>1.000000</td>\n    </tr>\n    <tr>\n      <th>2</th>\n      <td>M2</td>\n      <td>1.714286</td>\n    </tr>\n    <tr>\n      <th>3</th>\n      <td>M3</td>\n      <td>2.485714</td>\n    </tr>\n    <tr>\n      <th>4</th>\n      <td>M4</td>\n      <td>2.485714</td>\n    </tr>\n    <tr>\n      <th>5</th>\n      <td>M5</td>\n      <td>2.485714</td>\n    </tr>\n    <tr>\n      <th>6</th>\n      <td>M6</td>\n      <td>3.942857</td>\n    </tr>\n    <tr>\n      <th>7</th>\n      <td>M7</td>\n      <td>3.942857</td>\n    </tr>\n    <tr>\n      <th>8</th>\n      <td>M8</td>\n      <td>8.142857</td>\n    </tr>\n    <tr>\n      <th>9</th>\n      <td>M9</td>\n      <td>8.142857</td>\n    </tr>\n    <tr>\n      <th>10</th>\n      <td>M10</td>\n      <td>11.514286</td>\n    </tr>\n    <tr>\n      <th>11</th>\n      <td>M11</td>\n      <td>11.514286</td>\n    </tr>\n    <tr>\n      <th>12</th>\n      <td>M12</td>\n      <td>11.514286</td>\n    </tr>\n    <tr>\n      <th>13</th>\n      <td>C1b</td>\n      <td>1.000000</td>\n    </tr>\n    <tr>\n      <th>14</th>\n      <td>C1l</td>\n      <td>1.000000</td>\n    </tr>\n    <tr>\n      <th>15</th>\n      <td>C2l</td>\n      <td>3.942857</td>\n    </tr>\n    <tr>\n      <th>16</th>\n      <td>C3l</td>\n      <td>0.000000</td>\n    </tr>\n    <tr>\n      <th>17</th>\n      <td>C2b</td>\n      <td>11.514286</td>\n    </tr>\n    <tr>\n      <th>18</th>\n      <td>C3b</td>\n      <td>11.514286</td>\n    </tr>\n    <tr>\n      <th>19</th>\n      <td>C4</td>\n      <td>0.000000</td>\n    </tr>\n    <tr>\n      <th>20</th>\n      <td>B01</td>\n      <td>1.000000</td>\n    </tr>\n    <tr>\n      <th>21</th>\n      <td>B02</td>\n      <td>1.428571</td>\n    </tr>\n    <tr>\n      <th>22</th>\n      <td>B03</td>\n      <td>0.000000</td>\n    </tr>\n    <tr>\n      <th>23</th>\n      <td>B04</td>\n      <td>2.485714</td>\n    </tr>\n    <tr>\n      <th>24</th>\n      <td>BI</td>\n      <td>3.942857</td>\n    </tr>\n    <tr>\n      <th>25</th>\n      <td>BII-1</td>\n      <td>8.142857</td>\n    </tr>\n    <tr>\n      <th>26</th>\n      <td>BIIa-1</td>\n      <td>8.142857</td>\n    </tr>\n    <tr>\n      <th>27</th>\n      <td>BIIL-1</td>\n      <td>8.142857</td>\n    </tr>\n    <tr>\n      <th>28</th>\n      <td>BII-2L</td>\n      <td>0.000000</td>\n    </tr>\n    <tr>\n      <th>29</th>\n      <td>BII-2b</td>\n      <td>11.514286</td>\n    </tr>\n    <tr>\n      <th>30</th>\n      <td>BII-4</td>\n      <td>0.000000</td>\n    </tr>\n    <tr>\n      <th>31</th>\n      <td>BII-6b</td>\n      <td>0.000000</td>\n    </tr>\n    <tr>\n      <th>32</th>\n      <td>BII-6l</td>\n      <td>0.000000</td>\n    </tr>\n  </tbody>\n</table>\n</div>"
     },
     "execution_count": 70,
     "metadata": {},
     "output_type": "execute_result"
    }
   ],
   "source": [
    "ship_data.loc[:,['RWS-class', 'Factor']]"
   ],
   "metadata": {
    "collapsed": false,
    "pycharm": {
     "name": "#%%\n"
    }
   }
  },
  {
   "cell_type": "code",
   "execution_count": 73,
   "outputs": [
    {
     "data": {
      "text/plain": "   origin destination  trip_count   M12    M8    M9  BIIa-1  BII-6b  M10  \\\n0   NLRTM       NLAMS        9943  2159  3431  1336     122       0  418   \n1   NLRTM       NLMOE        2686    63  1627   110       1       0   46   \n2   NLRTM       NLVLI        2153   181   673   421       9       0  144   \n3   NLAMS       NLAER        2119     5   128     0       1       0   10   \n4   NLRTM       NLRTM        1794   364   725    93      10       0  171   \n..    ...         ...         ...   ...   ...   ...     ...     ...  ...   \n95  NLNIJ       NLAMS         352     3   154     8      24       0    0   \n96  NLFAR       NLRTM         342     0   303    13       1       0    0   \n97  NLRTM       NLVSN         342     0   207   120       0       0    3   \n98  NLPER       NLAMS         328     6   126    35       0       0    5   \n99  NLHRV       NLAMS         326     0   191     0       0       0    0   \n\n    BII-6l  ...  C4  C2l  M0  B04  BII-2L  B02  C1b  C2b  B01  C1l  \n0        0  ...   7    3  14    4      37    7    0    0    0    0  \n1        0  ...   0    0   2    0       0    0    0    0    0    0  \n2        0  ...   0    1   2    1       0    0    0    3    0    0  \n3        0  ...   0    1   4   35       0    4    0    0    1    0  \n4        1  ...   4    0   0    0       0    0    0    0    0    0  \n..     ...  ...  ..  ...  ..  ...     ...  ...  ...  ...  ...  ...  \n95       0  ...   0    2   0    0       1    0    0    0    1    0  \n96       0  ...   0    0   0    0       5    0    0    0    0    0  \n97       0  ...   0    0   0    0       0    0    0    0    0    0  \n98       0  ...   0    0   0    0       0    0    0    0    0    0  \n99       0  ...   0    0   0    0       0    0    0    0    0    0  \n\n[100 rows x 36 columns]",
      "text/html": "<div>\n<style scoped>\n    .dataframe tbody tr th:only-of-type {\n        vertical-align: middle;\n    }\n\n    .dataframe tbody tr th {\n        vertical-align: top;\n    }\n\n    .dataframe thead th {\n        text-align: right;\n    }\n</style>\n<table border=\"1\" class=\"dataframe\">\n  <thead>\n    <tr style=\"text-align: right;\">\n      <th></th>\n      <th>origin</th>\n      <th>destination</th>\n      <th>trip_count</th>\n      <th>M12</th>\n      <th>M8</th>\n      <th>M9</th>\n      <th>BIIa-1</th>\n      <th>BII-6b</th>\n      <th>M10</th>\n      <th>BII-6l</th>\n      <th>...</th>\n      <th>C4</th>\n      <th>C2l</th>\n      <th>M0</th>\n      <th>B04</th>\n      <th>BII-2L</th>\n      <th>B02</th>\n      <th>C1b</th>\n      <th>C2b</th>\n      <th>B01</th>\n      <th>C1l</th>\n    </tr>\n  </thead>\n  <tbody>\n    <tr>\n      <th>0</th>\n      <td>NLRTM</td>\n      <td>NLAMS</td>\n      <td>9943</td>\n      <td>2159</td>\n      <td>3431</td>\n      <td>1336</td>\n      <td>122</td>\n      <td>0</td>\n      <td>418</td>\n      <td>0</td>\n      <td>...</td>\n      <td>7</td>\n      <td>3</td>\n      <td>14</td>\n      <td>4</td>\n      <td>37</td>\n      <td>7</td>\n      <td>0</td>\n      <td>0</td>\n      <td>0</td>\n      <td>0</td>\n    </tr>\n    <tr>\n      <th>1</th>\n      <td>NLRTM</td>\n      <td>NLMOE</td>\n      <td>2686</td>\n      <td>63</td>\n      <td>1627</td>\n      <td>110</td>\n      <td>1</td>\n      <td>0</td>\n      <td>46</td>\n      <td>0</td>\n      <td>...</td>\n      <td>0</td>\n      <td>0</td>\n      <td>2</td>\n      <td>0</td>\n      <td>0</td>\n      <td>0</td>\n      <td>0</td>\n      <td>0</td>\n      <td>0</td>\n      <td>0</td>\n    </tr>\n    <tr>\n      <th>2</th>\n      <td>NLRTM</td>\n      <td>NLVLI</td>\n      <td>2153</td>\n      <td>181</td>\n      <td>673</td>\n      <td>421</td>\n      <td>9</td>\n      <td>0</td>\n      <td>144</td>\n      <td>0</td>\n      <td>...</td>\n      <td>0</td>\n      <td>1</td>\n      <td>2</td>\n      <td>1</td>\n      <td>0</td>\n      <td>0</td>\n      <td>0</td>\n      <td>3</td>\n      <td>0</td>\n      <td>0</td>\n    </tr>\n    <tr>\n      <th>3</th>\n      <td>NLAMS</td>\n      <td>NLAER</td>\n      <td>2119</td>\n      <td>5</td>\n      <td>128</td>\n      <td>0</td>\n      <td>1</td>\n      <td>0</td>\n      <td>10</td>\n      <td>0</td>\n      <td>...</td>\n      <td>0</td>\n      <td>1</td>\n      <td>4</td>\n      <td>35</td>\n      <td>0</td>\n      <td>4</td>\n      <td>0</td>\n      <td>0</td>\n      <td>1</td>\n      <td>0</td>\n    </tr>\n    <tr>\n      <th>4</th>\n      <td>NLRTM</td>\n      <td>NLRTM</td>\n      <td>1794</td>\n      <td>364</td>\n      <td>725</td>\n      <td>93</td>\n      <td>10</td>\n      <td>0</td>\n      <td>171</td>\n      <td>1</td>\n      <td>...</td>\n      <td>4</td>\n      <td>0</td>\n      <td>0</td>\n      <td>0</td>\n      <td>0</td>\n      <td>0</td>\n      <td>0</td>\n      <td>0</td>\n      <td>0</td>\n      <td>0</td>\n    </tr>\n    <tr>\n      <th>...</th>\n      <td>...</td>\n      <td>...</td>\n      <td>...</td>\n      <td>...</td>\n      <td>...</td>\n      <td>...</td>\n      <td>...</td>\n      <td>...</td>\n      <td>...</td>\n      <td>...</td>\n      <td>...</td>\n      <td>...</td>\n      <td>...</td>\n      <td>...</td>\n      <td>...</td>\n      <td>...</td>\n      <td>...</td>\n      <td>...</td>\n      <td>...</td>\n      <td>...</td>\n      <td>...</td>\n    </tr>\n    <tr>\n      <th>95</th>\n      <td>NLNIJ</td>\n      <td>NLAMS</td>\n      <td>352</td>\n      <td>3</td>\n      <td>154</td>\n      <td>8</td>\n      <td>24</td>\n      <td>0</td>\n      <td>0</td>\n      <td>0</td>\n      <td>...</td>\n      <td>0</td>\n      <td>2</td>\n      <td>0</td>\n      <td>0</td>\n      <td>1</td>\n      <td>0</td>\n      <td>0</td>\n      <td>0</td>\n      <td>1</td>\n      <td>0</td>\n    </tr>\n    <tr>\n      <th>96</th>\n      <td>NLFAR</td>\n      <td>NLRTM</td>\n      <td>342</td>\n      <td>0</td>\n      <td>303</td>\n      <td>13</td>\n      <td>1</td>\n      <td>0</td>\n      <td>0</td>\n      <td>0</td>\n      <td>...</td>\n      <td>0</td>\n      <td>0</td>\n      <td>0</td>\n      <td>0</td>\n      <td>5</td>\n      <td>0</td>\n      <td>0</td>\n      <td>0</td>\n      <td>0</td>\n      <td>0</td>\n    </tr>\n    <tr>\n      <th>97</th>\n      <td>NLRTM</td>\n      <td>NLVSN</td>\n      <td>342</td>\n      <td>0</td>\n      <td>207</td>\n      <td>120</td>\n      <td>0</td>\n      <td>0</td>\n      <td>3</td>\n      <td>0</td>\n      <td>...</td>\n      <td>0</td>\n      <td>0</td>\n      <td>0</td>\n      <td>0</td>\n      <td>0</td>\n      <td>0</td>\n      <td>0</td>\n      <td>0</td>\n      <td>0</td>\n      <td>0</td>\n    </tr>\n    <tr>\n      <th>98</th>\n      <td>NLPER</td>\n      <td>NLAMS</td>\n      <td>328</td>\n      <td>6</td>\n      <td>126</td>\n      <td>35</td>\n      <td>0</td>\n      <td>0</td>\n      <td>5</td>\n      <td>0</td>\n      <td>...</td>\n      <td>0</td>\n      <td>0</td>\n      <td>0</td>\n      <td>0</td>\n      <td>0</td>\n      <td>0</td>\n      <td>0</td>\n      <td>0</td>\n      <td>0</td>\n      <td>0</td>\n    </tr>\n    <tr>\n      <th>99</th>\n      <td>NLHRV</td>\n      <td>NLAMS</td>\n      <td>326</td>\n      <td>0</td>\n      <td>191</td>\n      <td>0</td>\n      <td>0</td>\n      <td>0</td>\n      <td>0</td>\n      <td>0</td>\n      <td>...</td>\n      <td>0</td>\n      <td>0</td>\n      <td>0</td>\n      <td>0</td>\n      <td>0</td>\n      <td>0</td>\n      <td>0</td>\n      <td>0</td>\n      <td>0</td>\n      <td>0</td>\n    </tr>\n  </tbody>\n</table>\n<p>100 rows × 36 columns</p>\n</div>"
     },
     "execution_count": 73,
     "metadata": {},
     "output_type": "execute_result"
    }
   ],
   "source": [
    "df_gen_vessels"
   ],
   "metadata": {
    "collapsed": false,
    "pycharm": {
     "name": "#%%\n"
    }
   }
  },
  {
   "cell_type": "code",
   "execution_count": 74,
   "outputs": [],
   "source": [
    "ship_data = dict(zip(ship_data['RWS-class'],ship_data['Factor']))"
   ],
   "metadata": {
    "collapsed": false,
    "pycharm": {
     "name": "#%%\n"
    }
   }
  },
  {
   "cell_type": "code",
   "execution_count": 75,
   "outputs": [],
   "source": [
    "def flow_computation(df):\n",
    "    # create dict to store path based values\n",
    "    flows = {}\n",
    "    # loop over data frame\n",
    "    for i in range(len(df)-1):\n",
    "        # subset all data ship type data\n",
    "        a = df.iloc[:,3:]\n",
    "        # flow is initially 0\n",
    "        flow = 0\n",
    "        #add number of ships times specific ship type weighing factor\n",
    "        for row in a.columns:\n",
    "            flow += ship_data[row] * a[row][i]\n",
    "        # store flow, divide by 365 to get daily flow\n",
    "        flows[(df.origin[i],df.destination[i])]= (flow/365)\n",
    "    return flows"
   ],
   "metadata": {
    "collapsed": false,
    "pycharm": {
     "name": "#%%\n"
    }
   }
  },
  {
   "cell_type": "code",
   "execution_count": 76,
   "outputs": [],
   "source": [
    "flows = flow_computation(df_gen_vessels)"
   ],
   "metadata": {
    "collapsed": false,
    "pycharm": {
     "name": "#%%\n"
    }
   }
  },
  {
   "cell_type": "code",
   "execution_count": 77,
   "outputs": [
    {
     "data": {
      "text/plain": "{('NLRTM', 'NLAMS'): 231.86943248532296,\n ('NLRTM', 'NLMOE'): 59.17072407045009,\n ('NLRTM', 'NLVLI'): 46.508493150684934,\n ('NLAMS', 'NLAER'): 21.328454011741684,\n ('NLRTM', 'NLRTM'): 41.673424657534234,\n ('NLVEG', 'NLRTM'): 15.091193737769082,\n ('NLTLB', 'NLRTM'): 18.00908023483366,\n ('NLLEY', 'NLAMS'): 13.309823874755383,\n ('NLOSS', 'NLRTM'): 14.652759295499019,\n ('NLZWO', 'NLAMS'): 15.07123287671233,\n ('NLUTC', 'NLRTM'): 20.881722113502935,\n ('NLRTM', 'NLKAM'): 21.554285714285708,\n ('NLHGL', 'NLRTM'): 18.096046966731897,\n ('NLLMR', 'NLAMS'): 22.848454011741687,\n ('NLRTM', 'NLWLK'): 6.717416829745598,\n ('NLAMS', 'NLMOE'): 18.417377690802347,\n ('NLAER', 'NLRTM'): 17.400469667318983,\n ('NLRTM', 'NLAPN'): 11.896046966731898,\n ('NLTNZ', 'NLVLI'): 17.44954990215264,\n ('NLDOR', 'NLRTM'): 18.832876712328765,\n ('NLAMS', 'NLDEV'): 6.741996086105675,\n ('NLGOR', 'NLRTM'): 17.858864970645794,\n ('NLRTM', 'NLNIJ'): 15.337299412915849,\n ('NLBZM', 'NLRTM'): 13.04289628180039,\n ('NLWSP', 'NLAER'): 10.103326810176126,\n ('NLRTM', 'NLOOS'): 17.04430528375734,\n ('NLRTM', 'NLTNZ'): 16.324931506849314,\n ('NLVLI', 'NLAMS'): 19.795068493150684,\n ('NLRTM', 'NLMEP'): 14.613463796477493,\n ('NLOOS', 'NLTLB'): 15.604383561643832,\n ('NLNIJ', 'NLWAS'): 15.976203522504893,\n ('NLKAM', 'NLAMS'): 9.780587084148726,\n ('NLIJM', 'NLMOE'): 10.697064579256356,\n ('NLHAR', 'NLWTE'): 21.89135029354207,\n ('NLKGZ', 'NLAMS'): 4.345909980430528,\n ('NLBON', 'NLRTM'): 13.021996086105673,\n ('NLMOE', 'NLAPN'): 14.131819960861057,\n ('NLDOR', 'NLAMS'): 12.46637964774951,\n ('NLTIE', 'NLRTM'): 12.351624266144812,\n ('NLHGL', 'NLAMS'): 7.378943248532289,\n ('NLNIJ', 'NLABL'): 13.851037181996086,\n ('NLMOE', 'NLOOS'): 13.920469667318981,\n ('NLAMS', 'NLAMS'): 9.597103718199607,\n ('NLNKK', 'NLAMS'): 3.498473581213307,\n ('NLAER', 'NLLEY'): 4.434755381604697,\n ('NLTNZ', 'NLTNZ'): 8.12187866927593,\n ('NLMEP', 'NLAMS'): 6.7198434442270045,\n ('NLIJM', 'NLRTM'): 8.444540117416828,\n ('NLRTM', 'NLDZL'): 10.558356164383563,\n ('NLHAR', 'NLAMS'): 12.645088062622309,\n ('NLAMS', 'NLWMO'): 2.560547945205479,\n ('NLALK', 'NLIJM'): 3.7897455968688845,\n ('NLAMS', 'NLOSS'): 5.517808219178082,\n ('NLABL', 'NLRTM'): 11.351859099804303,\n ('NLHAS', 'NLAMS'): 10.347632093933465,\n ('NLRTM', 'NLVEN'): 6.0990998043052835,\n ('NLRTM', 'NLZWO'): 8.516790606653622,\n ('NLTNZ', 'NLBRS'): 7.175733855185909,\n ('NLFAR', 'NLEEM'): 7.6731115459882595,\n ('NLRTM', 'NLARN'): 11.709589041095889,\n ('NLDHR', 'NLDHR'): 0.6061056751467709,\n ('NLAER', 'NLNIE'): 7.622074363992173,\n ('NLUTC', 'NLTIE'): 8.403131115459882,\n ('NLDRO', 'NLKAM'): 3.7089628180039145,\n ('NLAMS', 'NLTIE'): 4.106927592954991,\n ('NLVEG', 'NLAMS'): 3.429275929549902,\n ('NLGNM', 'NLAMS'): 4.093385518590998,\n ('NLWBR', 'NLRTM'): 9.298082191780821,\n ('NLNIJ', 'NLDRU'): 7.682348336594913,\n ('NLTLB', 'NLMOE'): 5.713737769080235,\n ('NLAMS', 'NLWGW'): 4.553189823874756,\n ('NLAMS', 'NLZAA'): 3.08986301369863,\n ('NLDST', 'NLAMS'): 6.758121330724068,\n ('NLSTD', 'NLSTD'): 1.6403913894324853,\n ('NLAER', 'NLSWI'): 2.7823091976516636,\n ('NLWGW', 'NLRTM'): 5.020273972602738,\n ('NLSTI', 'NLRTM'): 8.113894324853229,\n ('NLCUY', 'NLRTM'): 7.092915851272015,\n ('NLSWI', 'NLLEY'): 3.0259882583170254,\n ('NLVEG', 'NLHEJ'): 2.667005870841487,\n ('NLAMS', 'NLHEJ'): 3.0779647749510763,\n ('NLRTM', 'NLGTB'): 6.747240704500979,\n ('NLMOE', 'NLTNZ'): 7.99499021526419,\n ('NLTNZ', 'NLAMS'): 8.170254403131114,\n ('NLHRD', 'NLAMS'): 3.5757338551859106,\n ('NLIJM', 'NLMST'): 5.926966731898239,\n ('NLAMS', 'NLUTC'): 6.910136986301369,\n ('NLHTB', 'NLBZM'): 8.050802348336594,\n ('NLVEN', 'NLBON'): 7.461526418786693,\n ('NLALM', 'NLAMS'): 4.045949119373777,\n ('NLVLI', 'NLVLI'): 3.01706457925636,\n ('NLDRA', 'NLAMS'): 5.223953033268102,\n ('NLNRW', 'NLBON'): 1.7274363992172208,\n ('NLOMD', 'NLRTM'): 6.445244618395303,\n ('NLLWR', 'NLRTM'): 7.17651663405088,\n ('NLNIJ', 'NLAMS'): 5.673972602739726,\n ('NLFAR', 'NLRTM'): 7.342230919765166,\n ('NLRTM', 'NLVSN'): 7.597808219178081,\n ('NLPER', 'NLAMS'): 6.319217221135029}"
     },
     "execution_count": 77,
     "metadata": {},
     "output_type": "execute_result"
    }
   ],
   "source": [
    "flows"
   ],
   "metadata": {
    "collapsed": false,
    "pycharm": {
     "name": "#%%\n"
    }
   }
  },
  {
   "cell_type": "code",
   "execution_count": 78,
   "outputs": [],
   "source": [
    "#sort flows from large to small\n",
    "flows = dict(sorted(flows.items(), key=lambda item: item[1], reverse=True))"
   ],
   "metadata": {
    "collapsed": false,
    "pycharm": {
     "name": "#%%\n"
    }
   }
  },
  {
   "cell_type": "code",
   "execution_count": 79,
   "outputs": [
    {
     "data": {
      "text/plain": "{('NLRTM', 'NLAMS'): 231.86943248532296,\n ('NLRTM', 'NLMOE'): 59.17072407045009,\n ('NLRTM', 'NLVLI'): 46.508493150684934,\n ('NLRTM', 'NLRTM'): 41.673424657534234,\n ('NLLMR', 'NLAMS'): 22.848454011741687,\n ('NLHAR', 'NLWTE'): 21.89135029354207,\n ('NLRTM', 'NLKAM'): 21.554285714285708,\n ('NLAMS', 'NLAER'): 21.328454011741684,\n ('NLUTC', 'NLRTM'): 20.881722113502935,\n ('NLVLI', 'NLAMS'): 19.795068493150684,\n ('NLDOR', 'NLRTM'): 18.832876712328765,\n ('NLAMS', 'NLMOE'): 18.417377690802347,\n ('NLHGL', 'NLRTM'): 18.096046966731897,\n ('NLTLB', 'NLRTM'): 18.00908023483366,\n ('NLGOR', 'NLRTM'): 17.858864970645794,\n ('NLTNZ', 'NLVLI'): 17.44954990215264,\n ('NLAER', 'NLRTM'): 17.400469667318983,\n ('NLRTM', 'NLOOS'): 17.04430528375734,\n ('NLRTM', 'NLTNZ'): 16.324931506849314,\n ('NLNIJ', 'NLWAS'): 15.976203522504893,\n ('NLOOS', 'NLTLB'): 15.604383561643832,\n ('NLRTM', 'NLNIJ'): 15.337299412915849,\n ('NLVEG', 'NLRTM'): 15.091193737769082,\n ('NLZWO', 'NLAMS'): 15.07123287671233,\n ('NLOSS', 'NLRTM'): 14.652759295499019,\n ('NLRTM', 'NLMEP'): 14.613463796477493,\n ('NLMOE', 'NLAPN'): 14.131819960861057,\n ('NLMOE', 'NLOOS'): 13.920469667318981,\n ('NLNIJ', 'NLABL'): 13.851037181996086,\n ('NLLEY', 'NLAMS'): 13.309823874755383,\n ('NLBZM', 'NLRTM'): 13.04289628180039,\n ('NLBON', 'NLRTM'): 13.021996086105673,\n ('NLHAR', 'NLAMS'): 12.645088062622309,\n ('NLDOR', 'NLAMS'): 12.46637964774951,\n ('NLTIE', 'NLRTM'): 12.351624266144812,\n ('NLRTM', 'NLAPN'): 11.896046966731898,\n ('NLRTM', 'NLARN'): 11.709589041095889,\n ('NLABL', 'NLRTM'): 11.351859099804303,\n ('NLIJM', 'NLMOE'): 10.697064579256356,\n ('NLRTM', 'NLDZL'): 10.558356164383563,\n ('NLHAS', 'NLAMS'): 10.347632093933465,\n ('NLWSP', 'NLAER'): 10.103326810176126,\n ('NLKAM', 'NLAMS'): 9.780587084148726,\n ('NLAMS', 'NLAMS'): 9.597103718199607,\n ('NLWBR', 'NLRTM'): 9.298082191780821,\n ('NLRTM', 'NLZWO'): 8.516790606653622,\n ('NLIJM', 'NLRTM'): 8.444540117416828,\n ('NLUTC', 'NLTIE'): 8.403131115459882,\n ('NLTNZ', 'NLAMS'): 8.170254403131114,\n ('NLTNZ', 'NLTNZ'): 8.12187866927593,\n ('NLSTI', 'NLRTM'): 8.113894324853229,\n ('NLHTB', 'NLBZM'): 8.050802348336594,\n ('NLMOE', 'NLTNZ'): 7.99499021526419,\n ('NLNIJ', 'NLDRU'): 7.682348336594913,\n ('NLFAR', 'NLEEM'): 7.6731115459882595,\n ('NLAER', 'NLNIE'): 7.622074363992173,\n ('NLRTM', 'NLVSN'): 7.597808219178081,\n ('NLVEN', 'NLBON'): 7.461526418786693,\n ('NLHGL', 'NLAMS'): 7.378943248532289,\n ('NLFAR', 'NLRTM'): 7.342230919765166,\n ('NLLWR', 'NLRTM'): 7.17651663405088,\n ('NLTNZ', 'NLBRS'): 7.175733855185909,\n ('NLCUY', 'NLRTM'): 7.092915851272015,\n ('NLAMS', 'NLUTC'): 6.910136986301369,\n ('NLDST', 'NLAMS'): 6.758121330724068,\n ('NLRTM', 'NLGTB'): 6.747240704500979,\n ('NLAMS', 'NLDEV'): 6.741996086105675,\n ('NLMEP', 'NLAMS'): 6.7198434442270045,\n ('NLRTM', 'NLWLK'): 6.717416829745598,\n ('NLOMD', 'NLRTM'): 6.445244618395303,\n ('NLPER', 'NLAMS'): 6.319217221135029,\n ('NLRTM', 'NLVEN'): 6.0990998043052835,\n ('NLIJM', 'NLMST'): 5.926966731898239,\n ('NLTLB', 'NLMOE'): 5.713737769080235,\n ('NLNIJ', 'NLAMS'): 5.673972602739726,\n ('NLAMS', 'NLOSS'): 5.517808219178082,\n ('NLDRA', 'NLAMS'): 5.223953033268102,\n ('NLWGW', 'NLRTM'): 5.020273972602738,\n ('NLAMS', 'NLWGW'): 4.553189823874756,\n ('NLAER', 'NLLEY'): 4.434755381604697,\n ('NLKGZ', 'NLAMS'): 4.345909980430528,\n ('NLAMS', 'NLTIE'): 4.106927592954991,\n ('NLGNM', 'NLAMS'): 4.093385518590998,\n ('NLALM', 'NLAMS'): 4.045949119373777,\n ('NLALK', 'NLIJM'): 3.7897455968688845,\n ('NLDRO', 'NLKAM'): 3.7089628180039145,\n ('NLHRD', 'NLAMS'): 3.5757338551859106,\n ('NLNKK', 'NLAMS'): 3.498473581213307,\n ('NLVEG', 'NLAMS'): 3.429275929549902,\n ('NLAMS', 'NLZAA'): 3.08986301369863,\n ('NLAMS', 'NLHEJ'): 3.0779647749510763,\n ('NLSWI', 'NLLEY'): 3.0259882583170254,\n ('NLVLI', 'NLVLI'): 3.01706457925636,\n ('NLAER', 'NLSWI'): 2.7823091976516636,\n ('NLVEG', 'NLHEJ'): 2.667005870841487,\n ('NLAMS', 'NLWMO'): 2.560547945205479,\n ('NLNRW', 'NLBON'): 1.7274363992172208,\n ('NLSTD', 'NLSTD'): 1.6403913894324853,\n ('NLDHR', 'NLDHR'): 0.6061056751467709}"
     },
     "execution_count": 79,
     "metadata": {},
     "output_type": "execute_result"
    }
   ],
   "source": [
    "flows"
   ],
   "metadata": {
    "collapsed": false,
    "pycharm": {
     "name": "#%%\n"
    }
   }
  },
  {
   "cell_type": "markdown",
   "source": [
    "## Get and clean harbour data NL, Ger and Bel"
   ],
   "metadata": {
    "collapsed": false,
    "pycharm": {
     "name": "#%% md\n"
    }
   }
  },
  {
   "cell_type": "code",
   "execution_count": 6,
   "outputs": [
    {
     "data": {
      "text/plain": "        0   1    2                   3                   4    5         6   \\\n0      NaN  AD  NaN            .ANDORRA                 NaN  NaN       NaN   \n1      NaN  AD  ALV    Andorra la Vella    Andorra la Vella  NaN  --34-6--   \n2      NaN  AD  CAN             Canillo             Canillo  NaN  --3-----   \n3      NaN  AD  ENC              Encamp              Encamp  NaN  --3-----   \n4      NaN  AD  ESC  Escaldes-Engordany  Escaldes-Engordany  NaN  --3-----   \n...    ...  ..  ...                 ...                 ...  ...       ...   \n54611  NaN  FR  ZTG             Zetting             Zetting   57  --3-----   \n54612  NaN  FR  ZL2               Zilia               Zilia   2B  -----6--   \n54613  NaN  FR  ZWL          Zinswiller          Zinswiller   67  --3-----   \n54614  NaN  FR  PCZ              Zoteux              Zoteux   62  -----6--   \n54615  NaN  FR  559           Zuytpeene           Zuytpeene   59  --3-----   \n\n        7       8    9             10   11  \n0      NaN     NaN  NaN           NaN  NaN  \n1       AI   601.0  NaN  4230N 00131E  NaN  \n2       RL   307.0  NaN  4234N 00135E  NaN  \n3       RL   307.0  NaN  4232N 00134E  NaN  \n4       RL   307.0  NaN  4231N 00133E  NaN  \n...    ...     ...  ...           ...  ...  \n54611   RL  1901.0  NaN  4905N 00708E  NaN  \n54612   RL  1901.0  NaN  4231N 00854E  NaN  \n54613   RL  1901.0  NaN  4855N 00735E  NaN  \n54614   RL  1001.0  NaN  5037N 00153E  NaN  \n54615   RL  1607.0  NaN  5048N 00226E  NaN  \n\n[54616 rows x 12 columns]",
      "text/html": "<div>\n<style scoped>\n    .dataframe tbody tr th:only-of-type {\n        vertical-align: middle;\n    }\n\n    .dataframe tbody tr th {\n        vertical-align: top;\n    }\n\n    .dataframe thead th {\n        text-align: right;\n    }\n</style>\n<table border=\"1\" class=\"dataframe\">\n  <thead>\n    <tr style=\"text-align: right;\">\n      <th></th>\n      <th>0</th>\n      <th>1</th>\n      <th>2</th>\n      <th>3</th>\n      <th>4</th>\n      <th>5</th>\n      <th>6</th>\n      <th>7</th>\n      <th>8</th>\n      <th>9</th>\n      <th>10</th>\n      <th>11</th>\n    </tr>\n  </thead>\n  <tbody>\n    <tr>\n      <th>0</th>\n      <td>NaN</td>\n      <td>AD</td>\n      <td>NaN</td>\n      <td>.ANDORRA</td>\n      <td>NaN</td>\n      <td>NaN</td>\n      <td>NaN</td>\n      <td>NaN</td>\n      <td>NaN</td>\n      <td>NaN</td>\n      <td>NaN</td>\n      <td>NaN</td>\n    </tr>\n    <tr>\n      <th>1</th>\n      <td>NaN</td>\n      <td>AD</td>\n      <td>ALV</td>\n      <td>Andorra la Vella</td>\n      <td>Andorra la Vella</td>\n      <td>NaN</td>\n      <td>--34-6--</td>\n      <td>AI</td>\n      <td>601.0</td>\n      <td>NaN</td>\n      <td>4230N 00131E</td>\n      <td>NaN</td>\n    </tr>\n    <tr>\n      <th>2</th>\n      <td>NaN</td>\n      <td>AD</td>\n      <td>CAN</td>\n      <td>Canillo</td>\n      <td>Canillo</td>\n      <td>NaN</td>\n      <td>--3-----</td>\n      <td>RL</td>\n      <td>307.0</td>\n      <td>NaN</td>\n      <td>4234N 00135E</td>\n      <td>NaN</td>\n    </tr>\n    <tr>\n      <th>3</th>\n      <td>NaN</td>\n      <td>AD</td>\n      <td>ENC</td>\n      <td>Encamp</td>\n      <td>Encamp</td>\n      <td>NaN</td>\n      <td>--3-----</td>\n      <td>RL</td>\n      <td>307.0</td>\n      <td>NaN</td>\n      <td>4232N 00134E</td>\n      <td>NaN</td>\n    </tr>\n    <tr>\n      <th>4</th>\n      <td>NaN</td>\n      <td>AD</td>\n      <td>ESC</td>\n      <td>Escaldes-Engordany</td>\n      <td>Escaldes-Engordany</td>\n      <td>NaN</td>\n      <td>--3-----</td>\n      <td>RL</td>\n      <td>307.0</td>\n      <td>NaN</td>\n      <td>4231N 00133E</td>\n      <td>NaN</td>\n    </tr>\n    <tr>\n      <th>...</th>\n      <td>...</td>\n      <td>...</td>\n      <td>...</td>\n      <td>...</td>\n      <td>...</td>\n      <td>...</td>\n      <td>...</td>\n      <td>...</td>\n      <td>...</td>\n      <td>...</td>\n      <td>...</td>\n      <td>...</td>\n    </tr>\n    <tr>\n      <th>54611</th>\n      <td>NaN</td>\n      <td>FR</td>\n      <td>ZTG</td>\n      <td>Zetting</td>\n      <td>Zetting</td>\n      <td>57</td>\n      <td>--3-----</td>\n      <td>RL</td>\n      <td>1901.0</td>\n      <td>NaN</td>\n      <td>4905N 00708E</td>\n      <td>NaN</td>\n    </tr>\n    <tr>\n      <th>54612</th>\n      <td>NaN</td>\n      <td>FR</td>\n      <td>ZL2</td>\n      <td>Zilia</td>\n      <td>Zilia</td>\n      <td>2B</td>\n      <td>-----6--</td>\n      <td>RL</td>\n      <td>1901.0</td>\n      <td>NaN</td>\n      <td>4231N 00854E</td>\n      <td>NaN</td>\n    </tr>\n    <tr>\n      <th>54613</th>\n      <td>NaN</td>\n      <td>FR</td>\n      <td>ZWL</td>\n      <td>Zinswiller</td>\n      <td>Zinswiller</td>\n      <td>67</td>\n      <td>--3-----</td>\n      <td>RL</td>\n      <td>1901.0</td>\n      <td>NaN</td>\n      <td>4855N 00735E</td>\n      <td>NaN</td>\n    </tr>\n    <tr>\n      <th>54614</th>\n      <td>NaN</td>\n      <td>FR</td>\n      <td>PCZ</td>\n      <td>Zoteux</td>\n      <td>Zoteux</td>\n      <td>62</td>\n      <td>-----6--</td>\n      <td>RL</td>\n      <td>1001.0</td>\n      <td>NaN</td>\n      <td>5037N 00153E</td>\n      <td>NaN</td>\n    </tr>\n    <tr>\n      <th>54615</th>\n      <td>NaN</td>\n      <td>FR</td>\n      <td>559</td>\n      <td>Zuytpeene</td>\n      <td>Zuytpeene</td>\n      <td>59</td>\n      <td>--3-----</td>\n      <td>RL</td>\n      <td>1607.0</td>\n      <td>NaN</td>\n      <td>5048N 00226E</td>\n      <td>NaN</td>\n    </tr>\n  </tbody>\n</table>\n<p>54616 rows × 12 columns</p>\n</div>"
     },
     "execution_count": 6,
     "metadata": {},
     "output_type": "execute_result"
    }
   ],
   "source": [
    "# now get coordinates harbours, in three files, check encoding frist below\n",
    "pd.read_csv('data/harbour_codes_coords/2021-2 UNLOCODE CodeListPart1.csv', encoding=\"ISO-8859-1\", header=None, sep=\",\",\n",
    "            index_col=None)"
   ],
   "metadata": {
    "collapsed": false,
    "pycharm": {
     "name": "#%%\n"
    }
   }
  },
  {
   "cell_type": "code",
   "execution_count": 7,
   "outputs": [],
   "source": [
    "# now identify all files to combine\n",
    "from os import walk\n",
    "\n",
    "f = []\n",
    "for (dirpath, dirnames, filenames) in walk('data/harbour_codes_coords'):\n",
    "    f.extend(filenames)\n",
    "    break"
   ],
   "metadata": {
    "collapsed": false,
    "pycharm": {
     "name": "#%%\n"
    }
   }
  },
  {
   "cell_type": "code",
   "execution_count": 8,
   "outputs": [
    {
     "name": "stdout",
     "output_type": "stream",
     "text": [
      "2021-2 UNLOCODE CodeListPart1.csv handled\n",
      "2021-2 UNLOCODE CodeListPart2.csv handled\n",
      "2021-2 UNLOCODE CodeListPart3.csv handled\n"
     ]
    }
   ],
   "source": [
    "\n",
    "#empty list to store data\n",
    "li = []\n",
    "\n",
    "#read everything in as object for now\n",
    "for filename in f:\n",
    "    df = pd.read_csv(\"data/harbour_codes_coords/\" + str(filename), sep=',', index_col=None, header=None,\n",
    "                     encoding=\"ISO-8859-1\")\n",
    "    print(filename, 'handled')\n",
    "    li.append(df)"
   ],
   "metadata": {
    "collapsed": false,
    "pycharm": {
     "name": "#%%\n"
    }
   }
  },
  {
   "cell_type": "code",
   "execution_count": 9,
   "outputs": [],
   "source": [
    "#create df\n",
    "df_harbour_codes = pd.concat(li, axis=0, ignore_index=True)\n",
    "df_benelux=df_harbour_codes.copy()\n",
    "#subset Dutch harbours\n",
    "# df_benelux = df_harbour_codes.loc[(df_harbour_codes[1] == 'NL')]\n",
    "\n",
    "# uncomment below to loc benelux, for now only use NL because of scope\n",
    "# df_benelux = df_harbour_codes.loc[\n",
    "#     (df_harbour_codes[1] == 'NL') | (df_harbour_codes[1] == 'DE') | (df_harbour_codes[1] == 'BE') | (\n",
    "#                 df_harbour_codes[1] == 'LU')]"
   ],
   "metadata": {
    "collapsed": false,
    "pycharm": {
     "name": "#%%\n"
    }
   }
  },
  {
   "cell_type": "code",
   "execution_count": 10,
   "outputs": [],
   "source": [
    "#fillna\n",
    "df_benelux.fillna(np.nan, inplace=True)"
   ],
   "metadata": {
    "collapsed": false,
    "pycharm": {
     "name": "#%%\n"
    }
   }
  },
  {
   "cell_type": "code",
   "execution_count": 11,
   "outputs": [],
   "source": [
    "# give appropriate column names\n",
    "df_benelux.rename(columns={0: 'mutation', 1: 'country', 2: 'city_abbr', 3: 'city_full', 4: 'city_full_2', 5: 'subdivision', 6: 'function', 7:'status', 8:'date', 9:'iata_code', 10: 'coords', 11: 'comments'}, inplace=True)"
   ],
   "metadata": {
    "collapsed": false,
    "pycharm": {
     "name": "#%%\n"
    }
   }
  },
  {
   "cell_type": "code",
   "execution_count": 12,
   "outputs": [
    {
     "data": {
      "text/plain": "       mutation country city_abbr           city_full         city_full_2  \\\n0           NaN      AD       NaN            .ANDORRA                 NaN   \n1           NaN      AD       ALV    Andorra la Vella    Andorra la Vella   \n2           NaN      AD       CAN             Canillo             Canillo   \n3           NaN      AD       ENC              Encamp              Encamp   \n4           NaN      AD       ESC  Escaldes-Engordany  Escaldes-Engordany   \n...         ...     ...       ...                 ...                 ...   \n115984      NaN      ZW       STH          Southerton          Southerton   \n115985      NaN      ZW       THJ   Thompson Junction   Thompson Junction   \n115986      NaN      ZW       VFA      Victoria Falls      Victoria Falls   \n115987      NaN      ZW       ZMZ            Zimbabwe            Zimbabwe   \n115988      NaN      ZW       ZVS          Zvishavane          Zvishavane   \n\n       subdivision  function status    date iata_code        coords comments  \n0              NaN       NaN    NaN     NaN       NaN           NaN      NaN  \n1              NaN  --34-6--     AI   601.0       NaN  4230N 00131E      NaN  \n2              NaN  --3-----     RL   307.0       NaN  4234N 00135E      NaN  \n3              NaN  --3-----     RL   307.0       NaN  4232N 00134E      NaN  \n4              NaN  --3-----     RL   307.0       NaN  4231N 00133E      NaN  \n...            ...       ...    ...     ...       ...           ...      ...  \n115984         NaN  --3-----     RL   201.0       NaN  1751S 03101E      NaN  \n115985         NaN  -23-----     RL   701.0       NaN  1800S 02626E      NaN  \n115986         NaN  ---4----     AI  9501.0       NaN           NaN      NaN  \n115987          MV  1-3-----     RL  1401.0       NaN  2016S 03055E      NaN  \n115988          MI  --3-----     RL  1207.0       NaN  2020S 03002E      NaN  \n\n[115989 rows x 12 columns]",
      "text/html": "<div>\n<style scoped>\n    .dataframe tbody tr th:only-of-type {\n        vertical-align: middle;\n    }\n\n    .dataframe tbody tr th {\n        vertical-align: top;\n    }\n\n    .dataframe thead th {\n        text-align: right;\n    }\n</style>\n<table border=\"1\" class=\"dataframe\">\n  <thead>\n    <tr style=\"text-align: right;\">\n      <th></th>\n      <th>mutation</th>\n      <th>country</th>\n      <th>city_abbr</th>\n      <th>city_full</th>\n      <th>city_full_2</th>\n      <th>subdivision</th>\n      <th>function</th>\n      <th>status</th>\n      <th>date</th>\n      <th>iata_code</th>\n      <th>coords</th>\n      <th>comments</th>\n    </tr>\n  </thead>\n  <tbody>\n    <tr>\n      <th>0</th>\n      <td>NaN</td>\n      <td>AD</td>\n      <td>NaN</td>\n      <td>.ANDORRA</td>\n      <td>NaN</td>\n      <td>NaN</td>\n      <td>NaN</td>\n      <td>NaN</td>\n      <td>NaN</td>\n      <td>NaN</td>\n      <td>NaN</td>\n      <td>NaN</td>\n    </tr>\n    <tr>\n      <th>1</th>\n      <td>NaN</td>\n      <td>AD</td>\n      <td>ALV</td>\n      <td>Andorra la Vella</td>\n      <td>Andorra la Vella</td>\n      <td>NaN</td>\n      <td>--34-6--</td>\n      <td>AI</td>\n      <td>601.0</td>\n      <td>NaN</td>\n      <td>4230N 00131E</td>\n      <td>NaN</td>\n    </tr>\n    <tr>\n      <th>2</th>\n      <td>NaN</td>\n      <td>AD</td>\n      <td>CAN</td>\n      <td>Canillo</td>\n      <td>Canillo</td>\n      <td>NaN</td>\n      <td>--3-----</td>\n      <td>RL</td>\n      <td>307.0</td>\n      <td>NaN</td>\n      <td>4234N 00135E</td>\n      <td>NaN</td>\n    </tr>\n    <tr>\n      <th>3</th>\n      <td>NaN</td>\n      <td>AD</td>\n      <td>ENC</td>\n      <td>Encamp</td>\n      <td>Encamp</td>\n      <td>NaN</td>\n      <td>--3-----</td>\n      <td>RL</td>\n      <td>307.0</td>\n      <td>NaN</td>\n      <td>4232N 00134E</td>\n      <td>NaN</td>\n    </tr>\n    <tr>\n      <th>4</th>\n      <td>NaN</td>\n      <td>AD</td>\n      <td>ESC</td>\n      <td>Escaldes-Engordany</td>\n      <td>Escaldes-Engordany</td>\n      <td>NaN</td>\n      <td>--3-----</td>\n      <td>RL</td>\n      <td>307.0</td>\n      <td>NaN</td>\n      <td>4231N 00133E</td>\n      <td>NaN</td>\n    </tr>\n    <tr>\n      <th>...</th>\n      <td>...</td>\n      <td>...</td>\n      <td>...</td>\n      <td>...</td>\n      <td>...</td>\n      <td>...</td>\n      <td>...</td>\n      <td>...</td>\n      <td>...</td>\n      <td>...</td>\n      <td>...</td>\n      <td>...</td>\n    </tr>\n    <tr>\n      <th>115984</th>\n      <td>NaN</td>\n      <td>ZW</td>\n      <td>STH</td>\n      <td>Southerton</td>\n      <td>Southerton</td>\n      <td>NaN</td>\n      <td>--3-----</td>\n      <td>RL</td>\n      <td>201.0</td>\n      <td>NaN</td>\n      <td>1751S 03101E</td>\n      <td>NaN</td>\n    </tr>\n    <tr>\n      <th>115985</th>\n      <td>NaN</td>\n      <td>ZW</td>\n      <td>THJ</td>\n      <td>Thompson Junction</td>\n      <td>Thompson Junction</td>\n      <td>NaN</td>\n      <td>-23-----</td>\n      <td>RL</td>\n      <td>701.0</td>\n      <td>NaN</td>\n      <td>1800S 02626E</td>\n      <td>NaN</td>\n    </tr>\n    <tr>\n      <th>115986</th>\n      <td>NaN</td>\n      <td>ZW</td>\n      <td>VFA</td>\n      <td>Victoria Falls</td>\n      <td>Victoria Falls</td>\n      <td>NaN</td>\n      <td>---4----</td>\n      <td>AI</td>\n      <td>9501.0</td>\n      <td>NaN</td>\n      <td>NaN</td>\n      <td>NaN</td>\n    </tr>\n    <tr>\n      <th>115987</th>\n      <td>NaN</td>\n      <td>ZW</td>\n      <td>ZMZ</td>\n      <td>Zimbabwe</td>\n      <td>Zimbabwe</td>\n      <td>MV</td>\n      <td>1-3-----</td>\n      <td>RL</td>\n      <td>1401.0</td>\n      <td>NaN</td>\n      <td>2016S 03055E</td>\n      <td>NaN</td>\n    </tr>\n    <tr>\n      <th>115988</th>\n      <td>NaN</td>\n      <td>ZW</td>\n      <td>ZVS</td>\n      <td>Zvishavane</td>\n      <td>Zvishavane</td>\n      <td>MI</td>\n      <td>--3-----</td>\n      <td>RL</td>\n      <td>1207.0</td>\n      <td>NaN</td>\n      <td>2020S 03002E</td>\n      <td>NaN</td>\n    </tr>\n  </tbody>\n</table>\n<p>115989 rows × 12 columns</p>\n</div>"
     },
     "execution_count": 12,
     "metadata": {},
     "output_type": "execute_result"
    }
   ],
   "source": [
    "df_benelux"
   ],
   "metadata": {
    "collapsed": false,
    "pycharm": {
     "name": "#%%\n"
    }
   }
  },
  {
   "cell_type": "code",
   "execution_count": 13,
   "outputs": [],
   "source": [
    "# subset relevant columns\n",
    "# df_benelux = df_benelux.loc[:,['country','city_abbr','function', 'coords']]"
   ],
   "metadata": {
    "collapsed": false,
    "pycharm": {
     "name": "#%%\n"
    }
   }
  },
  {
   "cell_type": "code",
   "execution_count": 14,
   "outputs": [],
   "source": [
    "#reset index\n",
    "df_benelux.reset_index(inplace=True,drop=True)"
   ],
   "metadata": {
    "collapsed": false,
    "pycharm": {
     "name": "#%%\n"
    }
   }
  },
  {
   "cell_type": "code",
   "execution_count": 15,
   "outputs": [],
   "source": [
    "# drop rows with nan values for necessary columns\n",
    "# df_benelux.dropna(subset=['country', 'city_abbr', 'coords'], inplace = True)"
   ],
   "metadata": {
    "collapsed": false,
    "pycharm": {
     "name": "#%%\n"
    }
   }
  },
  {
   "cell_type": "code",
   "execution_count": 16,
   "outputs": [],
   "source": [
    "# # convert columns to be normal strings\n",
    "# for i in df_benelux.columns:\n",
    "#     df_benelux[i] = df_benelux[i].astype('|S80')\n",
    "#     df_benelux[i] = df_benelux[i].apply(lambda x: x.decode('utf-8'))"
   ],
   "metadata": {
    "collapsed": false,
    "pycharm": {
     "name": "#%%\n"
    }
   }
  },
  {
   "cell_type": "code",
   "execution_count": 17,
   "outputs": [
    {
     "data": {
      "text/plain": "       mutation country city_abbr           city_full         city_full_2  \\\n0           NaN      AD       NaN            .ANDORRA                 NaN   \n1           NaN      AD       ALV    Andorra la Vella    Andorra la Vella   \n2           NaN      AD       CAN             Canillo             Canillo   \n3           NaN      AD       ENC              Encamp              Encamp   \n4           NaN      AD       ESC  Escaldes-Engordany  Escaldes-Engordany   \n...         ...     ...       ...                 ...                 ...   \n115984      NaN      ZW       STH          Southerton          Southerton   \n115985      NaN      ZW       THJ   Thompson Junction   Thompson Junction   \n115986      NaN      ZW       VFA      Victoria Falls      Victoria Falls   \n115987      NaN      ZW       ZMZ            Zimbabwe            Zimbabwe   \n115988      NaN      ZW       ZVS          Zvishavane          Zvishavane   \n\n       subdivision  function status    date iata_code        coords comments  \n0              NaN       NaN    NaN     NaN       NaN           NaN      NaN  \n1              NaN  --34-6--     AI   601.0       NaN  4230N 00131E      NaN  \n2              NaN  --3-----     RL   307.0       NaN  4234N 00135E      NaN  \n3              NaN  --3-----     RL   307.0       NaN  4232N 00134E      NaN  \n4              NaN  --3-----     RL   307.0       NaN  4231N 00133E      NaN  \n...            ...       ...    ...     ...       ...           ...      ...  \n115984         NaN  --3-----     RL   201.0       NaN  1751S 03101E      NaN  \n115985         NaN  -23-----     RL   701.0       NaN  1800S 02626E      NaN  \n115986         NaN  ---4----     AI  9501.0       NaN           NaN      NaN  \n115987          MV  1-3-----     RL  1401.0       NaN  2016S 03055E      NaN  \n115988          MI  --3-----     RL  1207.0       NaN  2020S 03002E      NaN  \n\n[115989 rows x 12 columns]",
      "text/html": "<div>\n<style scoped>\n    .dataframe tbody tr th:only-of-type {\n        vertical-align: middle;\n    }\n\n    .dataframe tbody tr th {\n        vertical-align: top;\n    }\n\n    .dataframe thead th {\n        text-align: right;\n    }\n</style>\n<table border=\"1\" class=\"dataframe\">\n  <thead>\n    <tr style=\"text-align: right;\">\n      <th></th>\n      <th>mutation</th>\n      <th>country</th>\n      <th>city_abbr</th>\n      <th>city_full</th>\n      <th>city_full_2</th>\n      <th>subdivision</th>\n      <th>function</th>\n      <th>status</th>\n      <th>date</th>\n      <th>iata_code</th>\n      <th>coords</th>\n      <th>comments</th>\n    </tr>\n  </thead>\n  <tbody>\n    <tr>\n      <th>0</th>\n      <td>NaN</td>\n      <td>AD</td>\n      <td>NaN</td>\n      <td>.ANDORRA</td>\n      <td>NaN</td>\n      <td>NaN</td>\n      <td>NaN</td>\n      <td>NaN</td>\n      <td>NaN</td>\n      <td>NaN</td>\n      <td>NaN</td>\n      <td>NaN</td>\n    </tr>\n    <tr>\n      <th>1</th>\n      <td>NaN</td>\n      <td>AD</td>\n      <td>ALV</td>\n      <td>Andorra la Vella</td>\n      <td>Andorra la Vella</td>\n      <td>NaN</td>\n      <td>--34-6--</td>\n      <td>AI</td>\n      <td>601.0</td>\n      <td>NaN</td>\n      <td>4230N 00131E</td>\n      <td>NaN</td>\n    </tr>\n    <tr>\n      <th>2</th>\n      <td>NaN</td>\n      <td>AD</td>\n      <td>CAN</td>\n      <td>Canillo</td>\n      <td>Canillo</td>\n      <td>NaN</td>\n      <td>--3-----</td>\n      <td>RL</td>\n      <td>307.0</td>\n      <td>NaN</td>\n      <td>4234N 00135E</td>\n      <td>NaN</td>\n    </tr>\n    <tr>\n      <th>3</th>\n      <td>NaN</td>\n      <td>AD</td>\n      <td>ENC</td>\n      <td>Encamp</td>\n      <td>Encamp</td>\n      <td>NaN</td>\n      <td>--3-----</td>\n      <td>RL</td>\n      <td>307.0</td>\n      <td>NaN</td>\n      <td>4232N 00134E</td>\n      <td>NaN</td>\n    </tr>\n    <tr>\n      <th>4</th>\n      <td>NaN</td>\n      <td>AD</td>\n      <td>ESC</td>\n      <td>Escaldes-Engordany</td>\n      <td>Escaldes-Engordany</td>\n      <td>NaN</td>\n      <td>--3-----</td>\n      <td>RL</td>\n      <td>307.0</td>\n      <td>NaN</td>\n      <td>4231N 00133E</td>\n      <td>NaN</td>\n    </tr>\n    <tr>\n      <th>...</th>\n      <td>...</td>\n      <td>...</td>\n      <td>...</td>\n      <td>...</td>\n      <td>...</td>\n      <td>...</td>\n      <td>...</td>\n      <td>...</td>\n      <td>...</td>\n      <td>...</td>\n      <td>...</td>\n      <td>...</td>\n    </tr>\n    <tr>\n      <th>115984</th>\n      <td>NaN</td>\n      <td>ZW</td>\n      <td>STH</td>\n      <td>Southerton</td>\n      <td>Southerton</td>\n      <td>NaN</td>\n      <td>--3-----</td>\n      <td>RL</td>\n      <td>201.0</td>\n      <td>NaN</td>\n      <td>1751S 03101E</td>\n      <td>NaN</td>\n    </tr>\n    <tr>\n      <th>115985</th>\n      <td>NaN</td>\n      <td>ZW</td>\n      <td>THJ</td>\n      <td>Thompson Junction</td>\n      <td>Thompson Junction</td>\n      <td>NaN</td>\n      <td>-23-----</td>\n      <td>RL</td>\n      <td>701.0</td>\n      <td>NaN</td>\n      <td>1800S 02626E</td>\n      <td>NaN</td>\n    </tr>\n    <tr>\n      <th>115986</th>\n      <td>NaN</td>\n      <td>ZW</td>\n      <td>VFA</td>\n      <td>Victoria Falls</td>\n      <td>Victoria Falls</td>\n      <td>NaN</td>\n      <td>---4----</td>\n      <td>AI</td>\n      <td>9501.0</td>\n      <td>NaN</td>\n      <td>NaN</td>\n      <td>NaN</td>\n    </tr>\n    <tr>\n      <th>115987</th>\n      <td>NaN</td>\n      <td>ZW</td>\n      <td>ZMZ</td>\n      <td>Zimbabwe</td>\n      <td>Zimbabwe</td>\n      <td>MV</td>\n      <td>1-3-----</td>\n      <td>RL</td>\n      <td>1401.0</td>\n      <td>NaN</td>\n      <td>2016S 03055E</td>\n      <td>NaN</td>\n    </tr>\n    <tr>\n      <th>115988</th>\n      <td>NaN</td>\n      <td>ZW</td>\n      <td>ZVS</td>\n      <td>Zvishavane</td>\n      <td>Zvishavane</td>\n      <td>MI</td>\n      <td>--3-----</td>\n      <td>RL</td>\n      <td>1207.0</td>\n      <td>NaN</td>\n      <td>2020S 03002E</td>\n      <td>NaN</td>\n    </tr>\n  </tbody>\n</table>\n<p>115989 rows × 12 columns</p>\n</div>"
     },
     "execution_count": 17,
     "metadata": {},
     "output_type": "execute_result"
    }
   ],
   "source": [
    "df_benelux.replace('nan', np.nan)"
   ],
   "metadata": {
    "collapsed": false,
    "pycharm": {
     "name": "#%%\n"
    }
   }
  },
  {
   "cell_type": "code",
   "execution_count": 18,
   "outputs": [],
   "source": [
    "df_benelux['harbour_code'] = df_benelux.country+df_benelux.city_abbr"
   ],
   "metadata": {
    "collapsed": false,
    "pycharm": {
     "name": "#%%\n"
    }
   }
  },
  {
   "cell_type": "code",
   "execution_count": 19,
   "outputs": [],
   "source": [
    "df_benelux = df_benelux.loc[:,['country','city_abbr','city_full','function','coords','harbour_code']]"
   ],
   "metadata": {
    "collapsed": false,
    "pycharm": {
     "name": "#%%\n"
    }
   }
  },
  {
   "cell_type": "code",
   "execution_count": 20,
   "outputs": [],
   "source": [
    "# save cleaned data\n",
    "df_benelux.to_csv('data/cleaned_harbours.csv')"
   ],
   "metadata": {
    "collapsed": false,
    "pycharm": {
     "name": "#%%\n"
    }
   }
  },
  {
   "cell_type": "markdown",
   "source": [
    "## Final step: assign harbours to nodes"
   ],
   "metadata": {
    "collapsed": false,
    "pycharm": {
     "name": "#%% md\n"
    }
   }
  },
  {
   "cell_type": "code",
   "execution_count": 62,
   "outputs": [
    {
     "data": {
      "text/plain": "   origin destination  trip_count       M12        M8        M9    BIIa-1  \\\n0   NLRTM       NLAMS        9943  0.208790  0.353012  0.132354  0.010258   \n1   NLRTM       NLMOE        2686  0.026061  0.589724  0.053611  0.000745   \n2   NLRTM       NLVLI        2153  0.088249  0.305620  0.192290  0.004645   \n3   NLAMS       NLAER        2119  0.002832  0.062294  0.000000  0.000944   \n4   NLRTM       NLRTM        1794  0.202341  0.398551  0.051282  0.008361   \n..    ...         ...         ...       ...       ...       ...       ...   \n95  NLNIJ       NLAMS         352  0.011364  0.411932  0.028409  0.065341   \n96  NLFAR       NLRTM         342  0.000000  0.903509  0.029240  0.005848   \n97  NLRTM       NLVSN         342  0.000000  0.602339  0.368421  0.000000   \n98  NLPER       NLAMS         328  0.027439  0.387195  0.097561  0.000000   \n99  NLHRV       NLAMS         326  0.000000  0.595092  0.000000  0.000000   \n\n    BII-6b       M10    BII-6l  ...        C4       C2l        M0       B04  \\\n0      0.0  0.042945  0.000000  ...  0.000503  0.000704  0.001106  0.000503   \n1      0.0  0.020849  0.000000  ...  0.000745  0.000000  0.000372  0.000000   \n2      0.0  0.065026  0.000000  ...  0.000000  0.000929  0.000929  0.000464   \n3      0.0  0.003303  0.000000  ...  0.000000  0.000472  0.002360  0.017461   \n4      0.0  0.091416  0.000557  ...  0.002230  0.000000  0.000000  0.000000   \n..     ...       ...       ...  ...       ...       ...       ...       ...   \n95     0.0  0.000000  0.000000  ...  0.000000  0.011364  0.000000  0.000000   \n96     0.0  0.000000  0.000000  ...  0.000000  0.000000  0.000000  0.000000   \n97     0.0  0.011696  0.000000  ...  0.000000  0.000000  0.000000  0.000000   \n98     0.0  0.018293  0.000000  ...  0.000000  0.000000  0.000000  0.000000   \n99     0.0  0.000000  0.000000  ...  0.000000  0.000000  0.000000  0.000000   \n\n      BII-2L       B02  C1b       C2b       B01  C1l  \n0   0.003922  0.000402  0.0  0.000000  0.000000  0.0  \n1   0.000372  0.000000  0.0  0.000000  0.000000  0.0  \n2   0.000000  0.000000  0.0  0.000464  0.000000  0.0  \n3   0.000000  0.001416  0.0  0.000472  0.000472  0.0  \n4   0.001115  0.000000  0.0  0.000000  0.000000  0.0  \n..       ...       ...  ...       ...       ...  ...  \n95  0.002841  0.000000  0.0  0.000000  0.002841  0.0  \n96  0.008772  0.000000  0.0  0.000000  0.000000  0.0  \n97  0.000000  0.000000  0.0  0.000000  0.000000  0.0  \n98  0.000000  0.000000  0.0  0.000000  0.000000  0.0  \n99  0.000000  0.000000  0.0  0.000000  0.003067  0.0  \n\n[100 rows x 36 columns]",
      "text/html": "<div>\n<style scoped>\n    .dataframe tbody tr th:only-of-type {\n        vertical-align: middle;\n    }\n\n    .dataframe tbody tr th {\n        vertical-align: top;\n    }\n\n    .dataframe thead th {\n        text-align: right;\n    }\n</style>\n<table border=\"1\" class=\"dataframe\">\n  <thead>\n    <tr style=\"text-align: right;\">\n      <th></th>\n      <th>origin</th>\n      <th>destination</th>\n      <th>trip_count</th>\n      <th>M12</th>\n      <th>M8</th>\n      <th>M9</th>\n      <th>BIIa-1</th>\n      <th>BII-6b</th>\n      <th>M10</th>\n      <th>BII-6l</th>\n      <th>...</th>\n      <th>C4</th>\n      <th>C2l</th>\n      <th>M0</th>\n      <th>B04</th>\n      <th>BII-2L</th>\n      <th>B02</th>\n      <th>C1b</th>\n      <th>C2b</th>\n      <th>B01</th>\n      <th>C1l</th>\n    </tr>\n  </thead>\n  <tbody>\n    <tr>\n      <th>0</th>\n      <td>NLRTM</td>\n      <td>NLAMS</td>\n      <td>9943</td>\n      <td>0.208790</td>\n      <td>0.353012</td>\n      <td>0.132354</td>\n      <td>0.010258</td>\n      <td>0.0</td>\n      <td>0.042945</td>\n      <td>0.000000</td>\n      <td>...</td>\n      <td>0.000503</td>\n      <td>0.000704</td>\n      <td>0.001106</td>\n      <td>0.000503</td>\n      <td>0.003922</td>\n      <td>0.000402</td>\n      <td>0.0</td>\n      <td>0.000000</td>\n      <td>0.000000</td>\n      <td>0.0</td>\n    </tr>\n    <tr>\n      <th>1</th>\n      <td>NLRTM</td>\n      <td>NLMOE</td>\n      <td>2686</td>\n      <td>0.026061</td>\n      <td>0.589724</td>\n      <td>0.053611</td>\n      <td>0.000745</td>\n      <td>0.0</td>\n      <td>0.020849</td>\n      <td>0.000000</td>\n      <td>...</td>\n      <td>0.000745</td>\n      <td>0.000000</td>\n      <td>0.000372</td>\n      <td>0.000000</td>\n      <td>0.000372</td>\n      <td>0.000000</td>\n      <td>0.0</td>\n      <td>0.000000</td>\n      <td>0.000000</td>\n      <td>0.0</td>\n    </tr>\n    <tr>\n      <th>2</th>\n      <td>NLRTM</td>\n      <td>NLVLI</td>\n      <td>2153</td>\n      <td>0.088249</td>\n      <td>0.305620</td>\n      <td>0.192290</td>\n      <td>0.004645</td>\n      <td>0.0</td>\n      <td>0.065026</td>\n      <td>0.000000</td>\n      <td>...</td>\n      <td>0.000000</td>\n      <td>0.000929</td>\n      <td>0.000929</td>\n      <td>0.000464</td>\n      <td>0.000000</td>\n      <td>0.000000</td>\n      <td>0.0</td>\n      <td>0.000464</td>\n      <td>0.000000</td>\n      <td>0.0</td>\n    </tr>\n    <tr>\n      <th>3</th>\n      <td>NLAMS</td>\n      <td>NLAER</td>\n      <td>2119</td>\n      <td>0.002832</td>\n      <td>0.062294</td>\n      <td>0.000000</td>\n      <td>0.000944</td>\n      <td>0.0</td>\n      <td>0.003303</td>\n      <td>0.000000</td>\n      <td>...</td>\n      <td>0.000000</td>\n      <td>0.000472</td>\n      <td>0.002360</td>\n      <td>0.017461</td>\n      <td>0.000000</td>\n      <td>0.001416</td>\n      <td>0.0</td>\n      <td>0.000472</td>\n      <td>0.000472</td>\n      <td>0.0</td>\n    </tr>\n    <tr>\n      <th>4</th>\n      <td>NLRTM</td>\n      <td>NLRTM</td>\n      <td>1794</td>\n      <td>0.202341</td>\n      <td>0.398551</td>\n      <td>0.051282</td>\n      <td>0.008361</td>\n      <td>0.0</td>\n      <td>0.091416</td>\n      <td>0.000557</td>\n      <td>...</td>\n      <td>0.002230</td>\n      <td>0.000000</td>\n      <td>0.000000</td>\n      <td>0.000000</td>\n      <td>0.001115</td>\n      <td>0.000000</td>\n      <td>0.0</td>\n      <td>0.000000</td>\n      <td>0.000000</td>\n      <td>0.0</td>\n    </tr>\n    <tr>\n      <th>...</th>\n      <td>...</td>\n      <td>...</td>\n      <td>...</td>\n      <td>...</td>\n      <td>...</td>\n      <td>...</td>\n      <td>...</td>\n      <td>...</td>\n      <td>...</td>\n      <td>...</td>\n      <td>...</td>\n      <td>...</td>\n      <td>...</td>\n      <td>...</td>\n      <td>...</td>\n      <td>...</td>\n      <td>...</td>\n      <td>...</td>\n      <td>...</td>\n      <td>...</td>\n      <td>...</td>\n    </tr>\n    <tr>\n      <th>95</th>\n      <td>NLNIJ</td>\n      <td>NLAMS</td>\n      <td>352</td>\n      <td>0.011364</td>\n      <td>0.411932</td>\n      <td>0.028409</td>\n      <td>0.065341</td>\n      <td>0.0</td>\n      <td>0.000000</td>\n      <td>0.000000</td>\n      <td>...</td>\n      <td>0.000000</td>\n      <td>0.011364</td>\n      <td>0.000000</td>\n      <td>0.000000</td>\n      <td>0.002841</td>\n      <td>0.000000</td>\n      <td>0.0</td>\n      <td>0.000000</td>\n      <td>0.002841</td>\n      <td>0.0</td>\n    </tr>\n    <tr>\n      <th>96</th>\n      <td>NLFAR</td>\n      <td>NLRTM</td>\n      <td>342</td>\n      <td>0.000000</td>\n      <td>0.903509</td>\n      <td>0.029240</td>\n      <td>0.005848</td>\n      <td>0.0</td>\n      <td>0.000000</td>\n      <td>0.000000</td>\n      <td>...</td>\n      <td>0.000000</td>\n      <td>0.000000</td>\n      <td>0.000000</td>\n      <td>0.000000</td>\n      <td>0.008772</td>\n      <td>0.000000</td>\n      <td>0.0</td>\n      <td>0.000000</td>\n      <td>0.000000</td>\n      <td>0.0</td>\n    </tr>\n    <tr>\n      <th>97</th>\n      <td>NLRTM</td>\n      <td>NLVSN</td>\n      <td>342</td>\n      <td>0.000000</td>\n      <td>0.602339</td>\n      <td>0.368421</td>\n      <td>0.000000</td>\n      <td>0.0</td>\n      <td>0.011696</td>\n      <td>0.000000</td>\n      <td>...</td>\n      <td>0.000000</td>\n      <td>0.000000</td>\n      <td>0.000000</td>\n      <td>0.000000</td>\n      <td>0.000000</td>\n      <td>0.000000</td>\n      <td>0.0</td>\n      <td>0.000000</td>\n      <td>0.000000</td>\n      <td>0.0</td>\n    </tr>\n    <tr>\n      <th>98</th>\n      <td>NLPER</td>\n      <td>NLAMS</td>\n      <td>328</td>\n      <td>0.027439</td>\n      <td>0.387195</td>\n      <td>0.097561</td>\n      <td>0.000000</td>\n      <td>0.0</td>\n      <td>0.018293</td>\n      <td>0.000000</td>\n      <td>...</td>\n      <td>0.000000</td>\n      <td>0.000000</td>\n      <td>0.000000</td>\n      <td>0.000000</td>\n      <td>0.000000</td>\n      <td>0.000000</td>\n      <td>0.0</td>\n      <td>0.000000</td>\n      <td>0.000000</td>\n      <td>0.0</td>\n    </tr>\n    <tr>\n      <th>99</th>\n      <td>NLHRV</td>\n      <td>NLAMS</td>\n      <td>326</td>\n      <td>0.000000</td>\n      <td>0.595092</td>\n      <td>0.000000</td>\n      <td>0.000000</td>\n      <td>0.0</td>\n      <td>0.000000</td>\n      <td>0.000000</td>\n      <td>...</td>\n      <td>0.000000</td>\n      <td>0.000000</td>\n      <td>0.000000</td>\n      <td>0.000000</td>\n      <td>0.000000</td>\n      <td>0.000000</td>\n      <td>0.0</td>\n      <td>0.000000</td>\n      <td>0.003067</td>\n      <td>0.0</td>\n    </tr>\n  </tbody>\n</table>\n<p>100 rows × 36 columns</p>\n</div>"
     },
     "execution_count": 62,
     "metadata": {},
     "output_type": "execute_result"
    }
   ],
   "source": [
    "test_100"
   ],
   "metadata": {
    "collapsed": false,
    "pycharm": {
     "name": "#%%\n"
    }
   }
  },
  {
   "cell_type": "code",
   "execution_count": 105,
   "outputs": [],
   "source": [
    "h_list = list(set(list(test_100.origin.unique()))|set(list(test_100.destination.unique())))"
   ],
   "metadata": {
    "collapsed": false,
    "pycharm": {
     "name": "#%%\n"
    }
   }
  },
  {
   "cell_type": "code",
   "execution_count": 106,
   "outputs": [],
   "source": [
    "import re\n",
    "h_list = [re.sub(\"NL\", \"\", i) for i in h_list]"
   ],
   "metadata": {
    "collapsed": false,
    "pycharm": {
     "name": "#%%\n"
    }
   }
  },
  {
   "cell_type": "code",
   "execution_count": 107,
   "outputs": [],
   "source": [
    "df_h_nl = df_benelux.loc[(df_benelux.city_abbr.isin(h_list))&(df_benelux.country == 'NL')]\n",
    "df_h_nl.reset_index(inplace=True, drop=True)"
   ],
   "metadata": {
    "collapsed": false,
    "pycharm": {
     "name": "#%%\n"
    }
   }
  },
  {
   "cell_type": "code",
   "execution_count": 108,
   "outputs": [
    {
     "name": "stderr",
     "output_type": "stream",
     "text": [
      "C:\\Users\\Fabia\\AppData\\Local\\Temp\\ipykernel_26176\\4140986558.py:1: SettingWithCopyWarning: \n",
      "A value is trying to be set on a copy of a slice from a DataFrame.\n",
      "Try using .loc[row_indexer,col_indexer] = value instead\n",
      "\n",
      "See the caveats in the documentation: https://pandas.pydata.org/pandas-docs/stable/user_guide/indexing.html#returning-a-view-versus-a-copy\n",
      "  df_h_nl['lat']=0\n",
      "C:\\Users\\Fabia\\AppData\\Local\\Temp\\ipykernel_26176\\4140986558.py:2: SettingWithCopyWarning: \n",
      "A value is trying to be set on a copy of a slice from a DataFrame.\n",
      "Try using .loc[row_indexer,col_indexer] = value instead\n",
      "\n",
      "See the caveats in the documentation: https://pandas.pydata.org/pandas-docs/stable/user_guide/indexing.html#returning-a-view-versus-a-copy\n",
      "  df_h_nl['lon']=0\n"
     ]
    }
   ],
   "source": [
    "df_h_nl['lat']=0\n",
    "df_h_nl['lon']=0"
   ],
   "metadata": {
    "collapsed": false,
    "pycharm": {
     "name": "#%%\n"
    }
   }
  },
  {
   "cell_type": "code",
   "execution_count": 35,
   "outputs": [],
   "source": [
    "for i,city in enumerate(df_h_nl.city_full):\n",
    "    r = requests.get(f\"https://maps.googleapis.com/maps/api/geocode/json?address={'Haven van',str(city)}&key={K}\")\n",
    "    results = json.loads(r.content)\n",
    "    lat_r = results['results'][0]['geometry']['location']['lat']\n",
    "    lon_r = results['results'][0]['geometry']['location']['lng']\n",
    "    df_h_nl['lat'][i] = lat_r\n",
    "    df_h_nl['lon'][i] = lon_r\n"
   ],
   "metadata": {
    "collapsed": false,
    "pycharm": {
     "name": "#%%\n"
    }
   }
  },
  {
   "cell_type": "code",
   "execution_count": null,
   "outputs": [],
   "source": [],
   "metadata": {
    "collapsed": false,
    "pycharm": {
     "name": "#%%\n"
    }
   }
  },
  {
   "cell_type": "code",
   "execution_count": 92,
   "outputs": [
    {
     "data": {
      "text/plain": "      mutation country city_abbr            city_full          city_full_2  \\\n78676        0      NL       ABL         Alblasserdam         Alblasserdam   \n78678        0      NL       ALK              Alkmaar              Alkmaar   \n78680        0      NL       ALM               Almelo               Almelo   \n78682        0      NL       AER               Almere               Almere   \n78685        0      NL       APN  Alphen aan den Rijn  Alphen aan den Rijn   \n...        ...     ...       ...                  ...                  ...   \n80364        0      NL       WBR          Westerbroek          Westerbroek   \n80378        0      NL       WTE    West-Terschelling    West-Terschelling   \n80438        0      NL       WMO               Wormer               Wormer   \n80450        0      NL       ZAA              Zaandam              Zaandam   \n80516        0      NL       ZWO               Zwolle               Zwolle   \n\n      subdivision  function status    date iata_code        coords comments  \\\n78676           0  1-------     AF  9602.0         0             0        0   \n78678          NH  123-----     AF  1601.0         0  5238N 00445E        0   \n78680          OV  123-----     AF  1601.0       QYL  5221N 00640E        0   \n78682          FL  1-3--6--     AF  2007.0         0  5222N 00513E        0   \n78685          ZH  123-----     AF  1607.0         0  5208N 00440E        0   \n...           ...       ...    ...     ...       ...           ...      ...   \n80364          GR  --3-----     RL   701.0         0  5311N 00641E        0   \n80378           0  1-------     AF  9602.0         0             0        0   \n80438           0  1-3-----     AF  1101.0         0  5230N 00449E        0   \n80450           0  123-----     AF  9602.0         0             0        0   \n80516           0  -23-----     AF  9602.0         0             0        0   \n\n      harbour_code  \n78676        NLABL  \n78678        NLALK  \n78680        NLALM  \n78682        NLAER  \n78685        NLAPN  \n...            ...  \n80364        NLWBR  \n80378        NLWTE  \n80438        NLWMO  \n80450        NLZAA  \n80516        NLZWO  \n\n[69 rows x 13 columns]",
      "text/html": "<div>\n<style scoped>\n    .dataframe tbody tr th:only-of-type {\n        vertical-align: middle;\n    }\n\n    .dataframe tbody tr th {\n        vertical-align: top;\n    }\n\n    .dataframe thead th {\n        text-align: right;\n    }\n</style>\n<table border=\"1\" class=\"dataframe\">\n  <thead>\n    <tr style=\"text-align: right;\">\n      <th></th>\n      <th>mutation</th>\n      <th>country</th>\n      <th>city_abbr</th>\n      <th>city_full</th>\n      <th>city_full_2</th>\n      <th>subdivision</th>\n      <th>function</th>\n      <th>status</th>\n      <th>date</th>\n      <th>iata_code</th>\n      <th>coords</th>\n      <th>comments</th>\n      <th>harbour_code</th>\n    </tr>\n  </thead>\n  <tbody>\n    <tr>\n      <th>78676</th>\n      <td>0</td>\n      <td>NL</td>\n      <td>ABL</td>\n      <td>Alblasserdam</td>\n      <td>Alblasserdam</td>\n      <td>0</td>\n      <td>1-------</td>\n      <td>AF</td>\n      <td>9602.0</td>\n      <td>0</td>\n      <td>0</td>\n      <td>0</td>\n      <td>NLABL</td>\n    </tr>\n    <tr>\n      <th>78678</th>\n      <td>0</td>\n      <td>NL</td>\n      <td>ALK</td>\n      <td>Alkmaar</td>\n      <td>Alkmaar</td>\n      <td>NH</td>\n      <td>123-----</td>\n      <td>AF</td>\n      <td>1601.0</td>\n      <td>0</td>\n      <td>5238N 00445E</td>\n      <td>0</td>\n      <td>NLALK</td>\n    </tr>\n    <tr>\n      <th>78680</th>\n      <td>0</td>\n      <td>NL</td>\n      <td>ALM</td>\n      <td>Almelo</td>\n      <td>Almelo</td>\n      <td>OV</td>\n      <td>123-----</td>\n      <td>AF</td>\n      <td>1601.0</td>\n      <td>QYL</td>\n      <td>5221N 00640E</td>\n      <td>0</td>\n      <td>NLALM</td>\n    </tr>\n    <tr>\n      <th>78682</th>\n      <td>0</td>\n      <td>NL</td>\n      <td>AER</td>\n      <td>Almere</td>\n      <td>Almere</td>\n      <td>FL</td>\n      <td>1-3--6--</td>\n      <td>AF</td>\n      <td>2007.0</td>\n      <td>0</td>\n      <td>5222N 00513E</td>\n      <td>0</td>\n      <td>NLAER</td>\n    </tr>\n    <tr>\n      <th>78685</th>\n      <td>0</td>\n      <td>NL</td>\n      <td>APN</td>\n      <td>Alphen aan den Rijn</td>\n      <td>Alphen aan den Rijn</td>\n      <td>ZH</td>\n      <td>123-----</td>\n      <td>AF</td>\n      <td>1607.0</td>\n      <td>0</td>\n      <td>5208N 00440E</td>\n      <td>0</td>\n      <td>NLAPN</td>\n    </tr>\n    <tr>\n      <th>...</th>\n      <td>...</td>\n      <td>...</td>\n      <td>...</td>\n      <td>...</td>\n      <td>...</td>\n      <td>...</td>\n      <td>...</td>\n      <td>...</td>\n      <td>...</td>\n      <td>...</td>\n      <td>...</td>\n      <td>...</td>\n      <td>...</td>\n    </tr>\n    <tr>\n      <th>80364</th>\n      <td>0</td>\n      <td>NL</td>\n      <td>WBR</td>\n      <td>Westerbroek</td>\n      <td>Westerbroek</td>\n      <td>GR</td>\n      <td>--3-----</td>\n      <td>RL</td>\n      <td>701.0</td>\n      <td>0</td>\n      <td>5311N 00641E</td>\n      <td>0</td>\n      <td>NLWBR</td>\n    </tr>\n    <tr>\n      <th>80378</th>\n      <td>0</td>\n      <td>NL</td>\n      <td>WTE</td>\n      <td>West-Terschelling</td>\n      <td>West-Terschelling</td>\n      <td>0</td>\n      <td>1-------</td>\n      <td>AF</td>\n      <td>9602.0</td>\n      <td>0</td>\n      <td>0</td>\n      <td>0</td>\n      <td>NLWTE</td>\n    </tr>\n    <tr>\n      <th>80438</th>\n      <td>0</td>\n      <td>NL</td>\n      <td>WMO</td>\n      <td>Wormer</td>\n      <td>Wormer</td>\n      <td>0</td>\n      <td>1-3-----</td>\n      <td>AF</td>\n      <td>1101.0</td>\n      <td>0</td>\n      <td>5230N 00449E</td>\n      <td>0</td>\n      <td>NLWMO</td>\n    </tr>\n    <tr>\n      <th>80450</th>\n      <td>0</td>\n      <td>NL</td>\n      <td>ZAA</td>\n      <td>Zaandam</td>\n      <td>Zaandam</td>\n      <td>0</td>\n      <td>123-----</td>\n      <td>AF</td>\n      <td>9602.0</td>\n      <td>0</td>\n      <td>0</td>\n      <td>0</td>\n      <td>NLZAA</td>\n    </tr>\n    <tr>\n      <th>80516</th>\n      <td>0</td>\n      <td>NL</td>\n      <td>ZWO</td>\n      <td>Zwolle</td>\n      <td>Zwolle</td>\n      <td>0</td>\n      <td>-23-----</td>\n      <td>AF</td>\n      <td>9602.0</td>\n      <td>0</td>\n      <td>0</td>\n      <td>0</td>\n      <td>NLZWO</td>\n    </tr>\n  </tbody>\n</table>\n<p>69 rows × 13 columns</p>\n</div>"
     },
     "execution_count": 92,
     "metadata": {},
     "output_type": "execute_result"
    }
   ],
   "source": [
    "df_h_nl"
   ],
   "metadata": {
    "collapsed": false,
    "pycharm": {
     "name": "#%%\n"
    }
   }
  },
  {
   "cell_type": "code",
   "execution_count": 52,
   "outputs": [],
   "source": [
    "df_benelux.fillna(0, inplace=True)"
   ],
   "metadata": {
    "collapsed": false,
    "pycharm": {
     "name": "#%%\n"
    }
   }
  },
  {
   "cell_type": "code",
   "execution_count": 109,
   "outputs": [
    {
     "name": "stdout",
     "output_type": "stream",
     "text": [
      "['52°38', '00°45']\n",
      "['52°21', '00°40']\n",
      "['52°22', '00°13']\n",
      "['52°08', '00°40']\n",
      "['52°24', '00°49']\n",
      "['51°30', '00°18']\n",
      "['51°02', '00°49']\n"
     ]
    },
    {
     "name": "stderr",
     "output_type": "stream",
     "text": [
      "C:\\Users\\Fabia\\AppData\\Local\\Temp\\ipykernel_26176\\271693257.py:10: SettingWithCopyWarning: \n",
      "A value is trying to be set on a copy of a slice from a DataFrame\n",
      "\n",
      "See the caveats in the documentation: https://pandas.pydata.org/pandas-docs/stable/user_guide/indexing.html#returning-a-view-versus-a-copy\n",
      "  df_h_nl.coords[key] = tuple(lat_lon)\n"
     ]
    },
    {
     "name": "stdout",
     "output_type": "stream",
     "text": [
      "['51°23', '00°34']\n",
      "['51°44', '00°53']\n",
      "['51°53', '00°40']\n",
      "['52°31', '00°56']\n",
      "['52°57', '00°46']\n",
      "['51°47', '00°38']\n",
      "['53°11', '00°26']\n",
      "['52°28', '00°36']\n",
      "['52°28', '00°48']\n",
      "['51°41', '00°34']\n",
      "['51°58', '00°37']\n",
      "['51°39', '00°53']\n",
      "['51°46', '00°32']\n",
      "['51°53', '00°23']\n",
      "['51°55', '00°30']\n",
      "['51°42', '00°19']\n",
      "['52°34', '00°38']\n",
      "['51°28', '00°49']\n",
      "['52°05', '00°08']\n",
      "['52°28', '00°39']\n",
      "['51°22', '00°10']\n",
      "['51°27', '00°42']\n",
      "['51°32', '00°05']\n",
      "['53°11', '00°41']\n",
      "['52°30', '00°49']\n"
     ]
    }
   ],
   "source": [
    "for key, coords in enumerate(df_h_nl.coords):\n",
    "    lat_lon=[]\n",
    "    if coords!=0:\n",
    "        for j in range(2):\n",
    "            part_a = coords.split()[j][:2]\n",
    "            part_b = coords.split()[j][-3:-1]\n",
    "            cor = (str(part_a)+\"°\"+str(part_b))\n",
    "            lat_lon.append(cor)\n",
    "        print(lat_lon)\n",
    "        df_h_nl.coords[key] = tuple(lat_lon)"
   ],
   "metadata": {
    "collapsed": false,
    "pycharm": {
     "name": "#%%\n"
    }
   }
  },
  {
   "cell_type": "code",
   "execution_count": 102,
   "outputs": [
    {
     "data": {
      "text/plain": "   mutation country city_abbr            city_full          city_full_2  \\\n0         0      NL       ABL         Alblasserdam         Alblasserdam   \n1         0      NL       ALK              Alkmaar              Alkmaar   \n2         0      NL       ALM               Almelo               Almelo   \n3         0      NL       AER               Almere               Almere   \n4         0      NL       APN  Alphen aan den Rijn  Alphen aan den Rijn   \n..      ...     ...       ...                  ...                  ...   \n64        0      NL       WBR          Westerbroek          Westerbroek   \n65        0      NL       WTE    West-Terschelling    West-Terschelling   \n66        0      NL       WMO               Wormer               Wormer   \n67        0      NL       ZAA              Zaandam              Zaandam   \n68        0      NL       ZWO               Zwolle               Zwolle   \n\n   subdivision  function status    date iata_code          coords comments  \\\n0            0  1-------     AF  9602.0         0               0        0   \n1           NH  123-----     AF  1601.0         0  (52°38, 00°45)        0   \n2           OV  123-----     AF  1601.0       QYL  (52°21, 00°40)        0   \n3           FL  1-3--6--     AF  2007.0         0  (52°22, 00°13)        0   \n4           ZH  123-----     AF  1607.0         0  (52°08, 00°40)        0   \n..         ...       ...    ...     ...       ...             ...      ...   \n64          GR  --3-----     RL   701.0         0  (53°11, 00°41)        0   \n65           0  1-------     AF  9602.0         0               0        0   \n66           0  1-3-----     AF  1101.0         0  (52°30, 00°49)        0   \n67           0  123-----     AF  9602.0         0               0        0   \n68           0  -23-----     AF  9602.0         0               0        0   \n\n   harbour_code  lat  lon  \n0         NLABL    0    0  \n1         NLALK    0    0  \n2         NLALM    0    0  \n3         NLAER    0    0  \n4         NLAPN    0    0  \n..          ...  ...  ...  \n64        NLWBR    0    0  \n65        NLWTE    0    0  \n66        NLWMO    0    0  \n67        NLZAA    0    0  \n68        NLZWO    0    0  \n\n[69 rows x 15 columns]",
      "text/html": "<div>\n<style scoped>\n    .dataframe tbody tr th:only-of-type {\n        vertical-align: middle;\n    }\n\n    .dataframe tbody tr th {\n        vertical-align: top;\n    }\n\n    .dataframe thead th {\n        text-align: right;\n    }\n</style>\n<table border=\"1\" class=\"dataframe\">\n  <thead>\n    <tr style=\"text-align: right;\">\n      <th></th>\n      <th>mutation</th>\n      <th>country</th>\n      <th>city_abbr</th>\n      <th>city_full</th>\n      <th>city_full_2</th>\n      <th>subdivision</th>\n      <th>function</th>\n      <th>status</th>\n      <th>date</th>\n      <th>iata_code</th>\n      <th>coords</th>\n      <th>comments</th>\n      <th>harbour_code</th>\n      <th>lat</th>\n      <th>lon</th>\n    </tr>\n  </thead>\n  <tbody>\n    <tr>\n      <th>0</th>\n      <td>0</td>\n      <td>NL</td>\n      <td>ABL</td>\n      <td>Alblasserdam</td>\n      <td>Alblasserdam</td>\n      <td>0</td>\n      <td>1-------</td>\n      <td>AF</td>\n      <td>9602.0</td>\n      <td>0</td>\n      <td>0</td>\n      <td>0</td>\n      <td>NLABL</td>\n      <td>0</td>\n      <td>0</td>\n    </tr>\n    <tr>\n      <th>1</th>\n      <td>0</td>\n      <td>NL</td>\n      <td>ALK</td>\n      <td>Alkmaar</td>\n      <td>Alkmaar</td>\n      <td>NH</td>\n      <td>123-----</td>\n      <td>AF</td>\n      <td>1601.0</td>\n      <td>0</td>\n      <td>(52°38, 00°45)</td>\n      <td>0</td>\n      <td>NLALK</td>\n      <td>0</td>\n      <td>0</td>\n    </tr>\n    <tr>\n      <th>2</th>\n      <td>0</td>\n      <td>NL</td>\n      <td>ALM</td>\n      <td>Almelo</td>\n      <td>Almelo</td>\n      <td>OV</td>\n      <td>123-----</td>\n      <td>AF</td>\n      <td>1601.0</td>\n      <td>QYL</td>\n      <td>(52°21, 00°40)</td>\n      <td>0</td>\n      <td>NLALM</td>\n      <td>0</td>\n      <td>0</td>\n    </tr>\n    <tr>\n      <th>3</th>\n      <td>0</td>\n      <td>NL</td>\n      <td>AER</td>\n      <td>Almere</td>\n      <td>Almere</td>\n      <td>FL</td>\n      <td>1-3--6--</td>\n      <td>AF</td>\n      <td>2007.0</td>\n      <td>0</td>\n      <td>(52°22, 00°13)</td>\n      <td>0</td>\n      <td>NLAER</td>\n      <td>0</td>\n      <td>0</td>\n    </tr>\n    <tr>\n      <th>4</th>\n      <td>0</td>\n      <td>NL</td>\n      <td>APN</td>\n      <td>Alphen aan den Rijn</td>\n      <td>Alphen aan den Rijn</td>\n      <td>ZH</td>\n      <td>123-----</td>\n      <td>AF</td>\n      <td>1607.0</td>\n      <td>0</td>\n      <td>(52°08, 00°40)</td>\n      <td>0</td>\n      <td>NLAPN</td>\n      <td>0</td>\n      <td>0</td>\n    </tr>\n    <tr>\n      <th>...</th>\n      <td>...</td>\n      <td>...</td>\n      <td>...</td>\n      <td>...</td>\n      <td>...</td>\n      <td>...</td>\n      <td>...</td>\n      <td>...</td>\n      <td>...</td>\n      <td>...</td>\n      <td>...</td>\n      <td>...</td>\n      <td>...</td>\n      <td>...</td>\n      <td>...</td>\n    </tr>\n    <tr>\n      <th>64</th>\n      <td>0</td>\n      <td>NL</td>\n      <td>WBR</td>\n      <td>Westerbroek</td>\n      <td>Westerbroek</td>\n      <td>GR</td>\n      <td>--3-----</td>\n      <td>RL</td>\n      <td>701.0</td>\n      <td>0</td>\n      <td>(53°11, 00°41)</td>\n      <td>0</td>\n      <td>NLWBR</td>\n      <td>0</td>\n      <td>0</td>\n    </tr>\n    <tr>\n      <th>65</th>\n      <td>0</td>\n      <td>NL</td>\n      <td>WTE</td>\n      <td>West-Terschelling</td>\n      <td>West-Terschelling</td>\n      <td>0</td>\n      <td>1-------</td>\n      <td>AF</td>\n      <td>9602.0</td>\n      <td>0</td>\n      <td>0</td>\n      <td>0</td>\n      <td>NLWTE</td>\n      <td>0</td>\n      <td>0</td>\n    </tr>\n    <tr>\n      <th>66</th>\n      <td>0</td>\n      <td>NL</td>\n      <td>WMO</td>\n      <td>Wormer</td>\n      <td>Wormer</td>\n      <td>0</td>\n      <td>1-3-----</td>\n      <td>AF</td>\n      <td>1101.0</td>\n      <td>0</td>\n      <td>(52°30, 00°49)</td>\n      <td>0</td>\n      <td>NLWMO</td>\n      <td>0</td>\n      <td>0</td>\n    </tr>\n    <tr>\n      <th>67</th>\n      <td>0</td>\n      <td>NL</td>\n      <td>ZAA</td>\n      <td>Zaandam</td>\n      <td>Zaandam</td>\n      <td>0</td>\n      <td>123-----</td>\n      <td>AF</td>\n      <td>9602.0</td>\n      <td>0</td>\n      <td>0</td>\n      <td>0</td>\n      <td>NLZAA</td>\n      <td>0</td>\n      <td>0</td>\n    </tr>\n    <tr>\n      <th>68</th>\n      <td>0</td>\n      <td>NL</td>\n      <td>ZWO</td>\n      <td>Zwolle</td>\n      <td>Zwolle</td>\n      <td>0</td>\n      <td>-23-----</td>\n      <td>AF</td>\n      <td>9602.0</td>\n      <td>0</td>\n      <td>0</td>\n      <td>0</td>\n      <td>NLZWO</td>\n      <td>0</td>\n      <td>0</td>\n    </tr>\n  </tbody>\n</table>\n<p>69 rows × 15 columns</p>\n</div>"
     },
     "execution_count": 102,
     "metadata": {},
     "output_type": "execute_result"
    }
   ],
   "source": [
    "df_h_nl"
   ],
   "metadata": {
    "collapsed": false,
    "pycharm": {
     "name": "#%%\n"
    }
   }
  },
  {
   "cell_type": "code",
   "execution_count": null,
   "outputs": [],
   "source": [],
   "metadata": {
    "collapsed": false,
    "pycharm": {
     "name": "#%%\n"
    }
   }
  }
 ],
 "metadata": {
  "kernelspec": {
   "display_name": "Python 3",
   "language": "python",
   "name": "python3"
  },
  "language_info": {
   "codemirror_mode": {
    "name": "ipython",
    "version": 2
   },
   "file_extension": ".py",
   "mimetype": "text/x-python",
   "name": "python",
   "nbconvert_exporter": "python",
   "pygments_lexer": "ipython2",
   "version": "2.7.6"
  }
 },
 "nbformat": 4,
 "nbformat_minor": 0
}