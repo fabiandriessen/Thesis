{
 "cells": [
  {
   "cell_type": "code",
   "execution_count": 1,
   "id": "9130845e-7e63-474c-884d-e75670af07b1",
   "metadata": {},
   "outputs": [],
   "source": [
    "import networkx as nx\n",
    "import pandas as pd"
   ]
  },
  {
   "cell_type": "code",
   "execution_count": 2,
   "id": "dc0f01be-b5f0-43e1-b719-12333430f580",
   "metadata": {},
   "outputs": [],
   "source": [
    "G = nx.Graph()"
   ]
  },
  {
   "cell_type": "code",
   "execution_count": 3,
   "id": "b6e318c3-42fd-4320-b189-1e1b05280740",
   "metadata": {},
   "outputs": [],
   "source": [
    "node_list=[(0, 1), (1, 2),  (2, 3), (3,4), (4,5)]\n",
    "pos_list =[(0,0), (1,1), (2,0), (3,1), (4,0)]\n",
    "weight_list=[30,50,32,15]\n",
    "\n",
    "for i in range(len(node_list)):\n",
    "    G.add_node(node_list[i],pos=pos_list[0])\n",
    "\n",
    "for i in range(len(node_list)-1):\n",
    "    G.add_edge(i, (i+1), weight=weight_list[i])"
   ]
  },
  {
   "cell_type": "code",
   "execution_count": 4,
   "id": "5f47456b-2412-466d-bb9b-cc7aeeab96dd",
   "metadata": {},
   "outputs": [
    {
     "data": {
      "image/png": "[encoded data removed]",
      "text/plain": [
       "<Figure size 432x288 with 1 Axes>"
      ]
     },
     "metadata": {},
     "output_type": "display_data"
    }
   ],
   "source": [
    "nx.draw(G)"
   ]
  },
  {
   "cell_type": "code",
   "execution_count": 5,
   "id": "1621e753-a630-455d-8c3d-49416ee27699",
   "metadata": {},
   "outputs": [
    {
     "data": {
      "text/plain": [
       "\u001b[1;31mSignature:\u001b[0m \u001b[0mG\u001b[0m\u001b[1;33m.\u001b[0m\u001b[0madd_node\u001b[0m\u001b[1;33m(\u001b[0m\u001b[0mnode_for_adding\u001b[0m\u001b[1;33m,\u001b[0m \u001b[1;33m**\u001b[0m\u001b[0mattr\u001b[0m\u001b[1;33m)\u001b[0m\u001b[1;33m\u001b[0m\u001b[1;33m\u001b[0m\u001b[0m\n",
       "\u001b[1;31mDocstring:\u001b[0m\n",
       "Add a single node `node_for_adding` and update node attributes.\n",
       "\n",
       "Parameters\n",
       "----------\n",
       "node_for_adding : node\n",
       "    A node can be any hashable Python object except None.\n",
       "attr : keyword arguments, optional\n",
       "    Set or change node attributes using key=value.\n",
       "\n",
       "See Also\n",
       "--------\n",
       "add_nodes_from\n",
       "\n",
       "Examples\n",
       "--------\n",
       ">>> G = nx.Graph()  # or DiGraph, MultiGraph, MultiDiGraph, etc\n",
       ">>> G.add_node(1)\n",
       ">>> G.add_node(\"Hello\")\n",
       ">>> K3 = nx.Graph([(0, 1), (1, 2), (2, 0)])\n",
       ">>> G.add_node(K3)\n",
       ">>> G.number_of_nodes()\n",
       "3\n",
       "\n",
       "Use keywords set/change node attributes:\n",
       "\n",
       ">>> G.add_node(1, size=10)\n",
       ">>> G.add_node(3, weight=0.4, UTM=(\"13S\", 382871, 3972649))\n",
       "\n",
       "Notes\n",
       "-----\n",
       "A hashable object is one that can be used as a key in a Python\n",
       "dictionary. This includes strings, numbers, tuples of strings\n",
       "and numbers, etc.\n",
       "\n",
       "On many platforms hashable items also include mutables such as\n",
       "NetworkX Graphs, though one should be careful that the hash\n",
       "doesn't change on mutables.\n",
       "\u001b[1;31mFile:\u001b[0m      c:\\users\\fabia\\anaconda3\\envs\\ox\\lib\\site-packages\\networkx\\classes\\graph.py\n",
       "\u001b[1;31mType:\u001b[0m      method\n"
      ]
     },
     "metadata": {},
     "output_type": "display_data"
    }
   ],
   "source": [
    "G.add_node?"
   ]
  },
  {
   "cell_type": "code",
   "execution_count": null,
   "id": "7dea5c9f-9f3d-4fe7-bbc3-30cfee4009ec",
   "metadata": {},
   "outputs": [],
   "source": []
  }
 ],
 "metadata": {
  "kernelspec": {
   "display_name": "Python 3 (ipykernel)",
   "language": "python",
   "name": "python3"
  },
  "language_info": {
   "codemirror_mode": {
    "name": "ipython",
    "version": 3
   },
   "file_extension": ".py",
   "mimetype": "text/x-python",
   "name": "python",
   "nbconvert_exporter": "python",
   "pygments_lexer": "ipython3",
   "version": "3.10.4"
  }
 },
 "nbformat": 4,
 "nbformat_minor": 5
}
