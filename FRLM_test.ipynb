{
 "cells": [
  {
   "cell_type": "code",
   "execution_count": 1,
   "id": "9130845e-7e63-474c-884d-e75670af07b1",
   "metadata": {
    "pycharm": {
     "name": "#%%\n"
    }
   },
   "outputs": [],
   "source": [
    "import networkx as nx\n",
    "import pandas as pd\n",
    "import matplotlib.pyplot as plt\n",
    "import random\n",
    "import itertools#final dest reached?"
   ]
  },
  {
   "cell_type": "markdown",
   "id": "9fb885c1-9874-4e00-b029-df177309566e",
   "metadata": {
    "pycharm": {
     "name": "#%% md\n"
    }
   },
   "source": [
    "## Step 1: Setup and draw test network"
   ]
  },
  {
   "cell_type": "code",
   "execution_count": 2,
   "id": "b6e318c3-42fd-4320-b189-1e1b05280740",
   "metadata": {
    "pycharm": {
     "name": "#%%\n"
    }
   },
   "outputs": [
    {
     "data": {
      "text/plain": "<Figure size 600x400 with 1 Axes>",
      "image/png": "[encoded data removed]"
     },
     "metadata": {},
     "output_type": "display_data"
    }
   ],
   "source": [
    "#setup grid\n",
    "fig,ax=plt.subplots(dpi=100)\n",
    "\n",
    "#create graph\n",
    "G = nx.Graph()\n",
    "\n",
    "#give in node list\n",
    "nodes=[0,1,2,3]\n",
    "\n",
    "#edge weights (dist in between)\n",
    "dist=[50,150,30]\n",
    "\n",
    "\n",
    "#make weighted edge list to add, then fill\n",
    "edges=[]\n",
    "for i in range(len(nodes)-1):\n",
    "    edges.append((nodes[i],nodes[i+1],dist[i]))\n",
    "    \n",
    "#add weighted edges\n",
    "G.add_weighted_edges_from(edges)\n",
    "\n",
    "#explicitly set positions to match distances (just for visualization)\n",
    "#first node is at (0,0)\n",
    "pos_dict={0:(0,0)}\n",
    "#other nodes are at summed dist to the right\n",
    "for i in range(len(dist)):\n",
    "    pos_dict[(i+1)]=(sum(dist[:(i+1)]),0)\n",
    "\n",
    "#plotting options\n",
    "options = {\n",
    "    \"font_size\": 15,\n",
    "    \"node_size\": 500,\n",
    "    \"node_color\": \"white\",\n",
    "    \"edgecolors\": \"black\",\n",
    "    \"linewidths\": 5,\n",
    "    \"width\": 5,\n",
    "}\n",
    "\n",
    "#plot\n",
    "nx.draw_networkx(G, pos=pos_dict, **options, labels={node: node for node in G.nodes()})"
   ]
  },
  {
   "cell_type": "markdown",
   "id": "b7a87163-7e4a-4d11-8f62-53fab3cf18a5",
   "metadata": {
    "pycharm": {
     "name": "#%% md\n"
    }
   },
   "source": [
    "## Step 2: Deterimine which combinations can refuel each path"
   ]
  },
  {
   "cell_type": "code",
   "execution_count": 3,
   "id": "fdf1ef48-4a2e-4827-9f1e-a2581e60319d",
   "metadata": {
    "pycharm": {
     "name": "#%%\n"
    }
   },
   "outputs": [],
   "source": [
    "#this script is copied from: https://stackoverflow.com/questions/50634876/how-can-you-remove-superset-lists-from-a-list-of-lists-in-python\n",
    "def get_minimal_subsets(sets):\n",
    "    sets = sorted(map(set, sets), key=len)\n",
    "    minimal_subsets = []\n",
    "    for s in sets:\n",
    "        if not any(minimal_subset.issubset(s) for minimal_subset in minimal_subsets):\n",
    "            minimal_subsets.append(s)\n",
    "    #added, converge to tuple\n",
    "    tuples_inside = [tuple (k) for k in minimal_subsets]\n",
    "\n",
    "    return tuples_inside"
   ]
  },
  {
   "cell_type": "code",
   "execution_count": 16,
   "id": "175ba32c-705a-4c39-8d84-0cfd7086dcdc",
   "metadata": {
    "pycharm": {
     "name": "#%%\n"
    }
   },
   "outputs": [],
   "source": [
    "def first_stage_FRLM(G, r, OD):\n",
    "    \"\"\" \n",
    "    Returns feasible charging station combinations for transport network G for routes in OD, considering travel range r, assuming that charging stations can be placed on any node of G. \n",
    "    Parameters\n",
    "    ----------\n",
    "    G : NetworkX graph\n",
    "        must include all origins, desinations and any nodes where a refueling station may be placed.\n",
    "    r : float\n",
    "        range means of transport with full tank.\n",
    "    OD: list \n",
    "        list of travel data within network G, travel data from A-B and from B-A should be summed up and entered as either one of them.\n",
    "        example input:\n",
    "        [(node_1, node_2, flow_12),(node_1, node_3, flow_13),(node_2, node_3, flow_23)]\n",
    "        \"\"\"\n",
    "    #get data from graph in list format\n",
    "    node_list = [i for i in G.nodes]\n",
    "    edge_list = [i for i in G.edges]\n",
    "    edge_list_w = []\n",
    "    \n",
    "    # Now also create weighted edge list in the format [(begin, start, weight),(..), etc.]\n",
    "    for node in edge_list:\n",
    "        edge_list_w.append((node[0],node[1],G.get_edge_data(node[0],node[1])['weight']))\n",
    "    \n",
    "    #collect paths to refuel and path lengths in dicts, first create empty dicts\n",
    "    paths = {}\n",
    "    path_lengths = {}\n",
    "    \n",
    "    #generate shortest paths for al origin destinations\n",
    "    for path in OD:\n",
    "        paths[(path[0],path[1])] = nx.dijkstra_path(G,path[0],path[1])\n",
    "        # path_lengths[(path[0],path[1])] = nx.dijkstra_path_length(G,path[0],path[1],weight='weight')\n",
    "    \n",
    "    #make master dict with key q, with list of all feasible station combinations on q with r\n",
    "    route_refuel_comb = {}\n",
    "    for i,j in paths.items():\n",
    "        h=[]\n",
    "        # #functioning shortcut, now not nessecary: check if single station is enough\n",
    "        # if r >= path_lengths[i]:\n",
    "        #     h = [tuple (k) for k in str(j)]\n",
    "        #     route_refuel_comb[i] = h\n",
    "        # else:\n",
    "        # create all possible station combinations on this path\n",
    "        for L in range (0, len(j)+1):\n",
    "                for k in itertools.combinations(j, (L+1)):\n",
    "                    h.append(k)\n",
    "        #now add to dict:\n",
    "        route_refuel_comb[i] = h\n",
    "        \n",
    "    #now check feasibility\n",
    "    #new master dict to store feasible combinations\n",
    "    feasible_combinations = {}\n",
    "    \n",
    "    for route_key, route in route_refuel_comb.items():\n",
    "        feasible_combinations[route_key] = []\n",
    "        #store path for this route (on which round trip should be feasible) \n",
    "        path = paths[route_key]\n",
    "        round_trip = path[:-1] + path[::-1]\n",
    "        \n",
    "        #now loop through all possible station combinations\n",
    "        for combi in route:\n",
    "            #start at origin\n",
    "            current_pos = round_trip[0]\n",
    "            #start with full range if refueling station at origin, otherwise half full\n",
    "            if current_pos in combi:\n",
    "                current_range = r\n",
    "            else:\n",
    "                current_range = r*0.5\n",
    "            #simulate power levels during round trip\n",
    "            #[1:] because first dest is second entry round trip list\n",
    "            for sub_dest in round_trip[1:]:\n",
    "#               #try to travel to new dest, first calculate dist to new destination\n",
    "                dist = G.get_edge_data(current_pos,sub_dest)['weight']\n",
    "                #only travel if dist is not too long\n",
    "                if (current_range - dist) >= 0:\n",
    "                    #if there is fuel station at destination: trip feasible\n",
    "                    if (sub_dest in combi):\n",
    "                        #final dest reached?\n",
    "                        if (sub_dest == path[-1]):\n",
    "                            feasible_combinations[route_key].append(combi)\n",
    "                            break\n",
    "                    #else: maybe feasible, double back route to check!\n",
    "                    else:\n",
    "                        if (sub_dest == path[0]):\n",
    "                            feasible_combinations[route_key].append(combi)\n",
    "                            break\n",
    "                    #if not at final destination update range and pos\n",
    "                    current_pos = sub_dest\n",
    "                    current_range -= dist\n",
    "                    #if there is a refueling station, refuel\n",
    "                    if sub_dest in combi:\n",
    "                        current_range = r\n",
    "                    #check if at final dest\n",
    "                else:\n",
    "                    break\n",
    "    \n",
    "    #next: find and remove supersets\n",
    "    for i,j in feasible_combinations.items():\n",
    "        feasible_combinations[i] = get_minimal_subsets(feasible_combinations[i])\n",
    "    \n",
    "    #Reformat data: create two dicts one with b_qh values and one with g_qhk values\n",
    "    #first create list of all possible combinations\n",
    "    combinations=[]\n",
    "    for i in feasible_combinations.values():\n",
    "        combinations+=i\n",
    "    \n",
    "    #setup empty dict with keys to fill for dict 1\n",
    "    dict_b = {'Route':[]}\n",
    "    for j in combinations:\n",
    "            dict_b[j] = []\n",
    "    \n",
    "    #first dict_\n",
    "    for route_key, route in feasible_combinations.items():\n",
    "        dict_b['Route'].append(route_key)\n",
    "        for j in combinations:\n",
    "            if j in route:\n",
    "                dict_b[j].append(1)\n",
    "            else:\n",
    "                dict_b[j].append(0)\n",
    "    \n",
    "    #next dict to store g_qhk values\n",
    "    dict_g={'q_h':[]}\n",
    "    for i in node_list:\n",
    "        dict_g[i] = []\n",
    "    #now fill the lists\n",
    "    for route_key, route in feasible_combinations.items():\n",
    "        for combination in route:\n",
    "            dict_g['q_h'].append((route_key,combination))\n",
    "            for node in node_list:\n",
    "                if node in combination:\n",
    "                    if node in route_key:\n",
    "                        dict_g[node].append(1)\n",
    "                    else:\n",
    "                        dict_g[node].append(2)\n",
    "                else:\n",
    "                    dict_g[node].append(0)\n",
    "\n",
    "\n",
    "    return dict_b, dict_g"
   ]
  },
  {
   "cell_type": "code",
   "execution_count": 17,
   "id": "add8dc61-df35-4ce9-a8d5-181f5b89c8eb",
   "metadata": {
    "pycharm": {
     "name": "#%%\n"
    }
   },
   "outputs": [
    {
     "name": "stdout",
     "output_type": "stream",
     "text": [
      "CPU times: total: 0 ns\n",
      "Wall time: 0 ns\n"
     ]
    }
   ],
   "source": [
    "#import time to check performance\n",
    "import time\n",
    "\n",
    "%time dict_b, dict_g = first_stage_FRLM(G, 350, [(0,3,10),(0,2,5)])"
   ]
  },
  {
   "cell_type": "code",
   "execution_count": 18,
   "id": "64736ef7-ffac-4a45-984f-9c94ca45e38c",
   "metadata": {
    "pycharm": {
     "name": "#%%\n"
    }
   },
   "outputs": [
    {
     "data": {
      "text/plain": "        (0, 3)  (1, 2)  (1, 3)  (1,)  (0, 2)\nRoute                                       \n(0, 3)       1       1       1     0       0\n(0, 2)       0       0       0     1       1",
      "text/html": "<div>\n<style scoped>\n    .dataframe tbody tr th:only-of-type {\n        vertical-align: middle;\n    }\n\n    .dataframe tbody tr th {\n        vertical-align: top;\n    }\n\n    .dataframe thead th {\n        text-align: right;\n    }\n</style>\n<table border=\"1\" class=\"dataframe\">\n  <thead>\n    <tr style=\"text-align: right;\">\n      <th></th>\n      <th>(0, 3)</th>\n      <th>(1, 2)</th>\n      <th>(1, 3)</th>\n      <th>(1,)</th>\n      <th>(0, 2)</th>\n    </tr>\n    <tr>\n      <th>Route</th>\n      <th></th>\n      <th></th>\n      <th></th>\n      <th></th>\n      <th></th>\n    </tr>\n  </thead>\n  <tbody>\n    <tr>\n      <th>(0, 3)</th>\n      <td>1</td>\n      <td>1</td>\n      <td>1</td>\n      <td>0</td>\n      <td>0</td>\n    </tr>\n    <tr>\n      <th>(0, 2)</th>\n      <td>0</td>\n      <td>0</td>\n      <td>0</td>\n      <td>1</td>\n      <td>1</td>\n    </tr>\n  </tbody>\n</table>\n</div>"
     },
     "execution_count": 18,
     "metadata": {},
     "output_type": "execute_result"
    }
   ],
   "source": [
    "df1 = pd.DataFrame.from_dict(dict_b)\n",
    "df1.set_index('Route', inplace=True)\n",
    "#matrix 1 as described in Kuby & Lim 2005\n",
    "df1"
   ]
  },
  {
   "cell_type": "code",
   "execution_count": 19,
   "outputs": [
    {
     "data": {
      "text/plain": "                  0  1  2  3\nq_h                         \n((0, 3), (0, 3))  1  0  0  1\n((0, 3), (1, 2))  0  2  2  0\n((0, 3), (1, 3))  0  2  0  1\n((0, 2), (1,))    0  2  0  0\n((0, 2), (0, 2))  1  0  1  0",
      "text/html": "<div>\n<style scoped>\n    .dataframe tbody tr th:only-of-type {\n        vertical-align: middle;\n    }\n\n    .dataframe tbody tr th {\n        vertical-align: top;\n    }\n\n    .dataframe thead th {\n        text-align: right;\n    }\n</style>\n<table border=\"1\" class=\"dataframe\">\n  <thead>\n    <tr style=\"text-align: right;\">\n      <th></th>\n      <th>0</th>\n      <th>1</th>\n      <th>2</th>\n      <th>3</th>\n    </tr>\n    <tr>\n      <th>q_h</th>\n      <th></th>\n      <th></th>\n      <th></th>\n      <th></th>\n    </tr>\n  </thead>\n  <tbody>\n    <tr>\n      <th>((0, 3), (0, 3))</th>\n      <td>1</td>\n      <td>0</td>\n      <td>0</td>\n      <td>1</td>\n    </tr>\n    <tr>\n      <th>((0, 3), (1, 2))</th>\n      <td>0</td>\n      <td>2</td>\n      <td>2</td>\n      <td>0</td>\n    </tr>\n    <tr>\n      <th>((0, 3), (1, 3))</th>\n      <td>0</td>\n      <td>2</td>\n      <td>0</td>\n      <td>1</td>\n    </tr>\n    <tr>\n      <th>((0, 2), (1,))</th>\n      <td>0</td>\n      <td>2</td>\n      <td>0</td>\n      <td>0</td>\n    </tr>\n    <tr>\n      <th>((0, 2), (0, 2))</th>\n      <td>1</td>\n      <td>0</td>\n      <td>1</td>\n      <td>0</td>\n    </tr>\n  </tbody>\n</table>\n</div>"
     },
     "execution_count": 19,
     "metadata": {},
     "output_type": "execute_result"
    }
   ],
   "source": [
    "df2 = pd.DataFrame.from_dict(dict_g)\n",
    "df2.set_index('q_h', inplace=True)\n",
    "#matrix 2 as described in Kuby & Lim 2005\n",
    "# df2.iloc[:, 1:].sum(axis=1)\n",
    "df2"
   ],
   "metadata": {
    "collapsed": false,
    "pycharm": {
     "name": "#%%\n"
    }
   }
  },
  {
   "cell_type": "markdown",
   "id": "8a949ce2-d707-42e9-8225-3890d8fefae2",
   "metadata": {
    "pycharm": {
     "name": "#%% md\n"
    }
   },
   "source": [
    "## Also test with larger graph\n",
    "example taken:\n",
    "https://networkx.org/documentation/stable/auto_examples/drawing/plot_tsp.html#sphx-glr-auto-examples-drawing-plot-tsp-py"
   ]
  },
  {
   "cell_type": "code",
   "execution_count": 8,
   "id": "6bd2fa67-c432-4732-b2a7-8117f3e117eb",
   "metadata": {
    "pycharm": {
     "name": "#%%\n"
    }
   },
   "outputs": [
    {
     "name": "stdout",
     "output_type": "stream",
     "text": [
      "The route of the traveller is: [0, 4, 19, 12, 2, 7, 10, 18, 5, 13, 6, 11, 3, 16, 17, 15, 14, 8, 9, 1, 0]\n"
     ]
    },
    {
     "data": {
      "text/plain": "<Figure size 432x288 with 1 Axes>",
      "image/png": "[encoded data removed]"
     },
     "metadata": {},
     "output_type": "display_data"
    }
   ],
   "source": [
    "#test with larger network?\n",
    "import networkx.algorithms.approximation as nx_app\n",
    "import math\n",
    "\n",
    "G2=nx.random_geometric_graph(20, radius=0.4, seed=3)\n",
    "pos = nx.get_node_attributes(G2, \"pos\")\n",
    "\n",
    "# Depot should be at (0,0)\n",
    "pos[0] = (0.5, 0.5)\n",
    "\n",
    "H = G2.copy()\n",
    "\n",
    "\n",
    "# Calculating the distances between the nodes as edge's weight.\n",
    "for i in range(len(pos)):\n",
    "    for j in range(i + 1, len(pos)):\n",
    "        dist = math.hypot(pos[i][0] - pos[j][0], pos[i][1] - pos[j][1])\n",
    "        dist = dist\n",
    "        G2.add_edge(i, j, weight=dist)\n",
    "        # print(dist)\n",
    "\n",
    "cycle = nx_app.christofides(G2, weight=\"weight\")\n",
    "edge_list = list(nx.utils.pairwise(cycle))\n",
    "\n",
    "# Draw closest edges on each node only\n",
    "nx.draw_networkx_edges(H, pos, edge_color=\"blue\", width=0.5)\n",
    "\n",
    "# Draw the route\n",
    "nx.draw_networkx(\n",
    "    G2,\n",
    "    pos,\n",
    "    with_labels=True,\n",
    "    edgelist=edge_list,\n",
    "    edge_color=\"red\",\n",
    "    node_size=200,\n",
    "    width=3,\n",
    ")\n",
    "\n",
    "print(\"The route of the traveller is:\", cycle)\n",
    "plt.show()"
   ]
  },
  {
   "cell_type": "code",
   "execution_count": 9,
   "id": "dc0ba891-e7c6-4822-b9d3-2ec79d5cf162",
   "metadata": {
    "pycharm": {
     "name": "#%%\n"
    }
   },
   "outputs": [
    {
     "name": "stdout",
     "output_type": "stream",
     "text": [
      "CPU times: total: 0 ns\n",
      "Wall time: 0 ns\n"
     ]
    }
   ],
   "source": [
    "%time dict_df1, dict_df2 = first_stage_FRLM(G2, 1, [(19,5,10),(4,8,5)])"
   ]
  },
  {
   "cell_type": "code",
   "execution_count": 10,
   "id": "1d732885-3fcf-4896-9c5e-fa56ad0f12e3",
   "metadata": {
    "pycharm": {
     "name": "#%%\n"
    }
   },
   "outputs": [],
   "source": [
    "#oops complete graph chosen, bad example.."
   ]
  },
  {
   "cell_type": "markdown",
   "id": "d77cd098-d63f-4735-851e-7f4dec806712",
   "metadata": {
    "pycharm": {
     "name": "#%% md\n"
    }
   },
   "source": [
    "## Step 3: Optimize\n",
    "\n",
    "Basic steps:\n",
    "1. Import the linear solver wrapper,\n",
    "2. declare the LP solver,\n",
    "3. define the variables,\n",
    "4. define the constraints,\n",
    "5. define the objective,\n",
    "6. call the LP solver; and\n",
    "7. display the solution\n",
    "\n",
    "Based on:\n",
    "- https://towardsdatascience.com/introduction-to-linear-programming-in-python-9261e7eb44b\n",
    "- https://developers.google.com/optimization/mip/mip_var_array\n",
    "- https://developers.google.com/optimization/lp/lp_example"
   ]
  },
  {
   "cell_type": "code",
   "execution_count": 15,
   "outputs": [],
   "source": [
    "import pulp\n"
   ],
   "metadata": {
    "collapsed": false,
    "pycharm": {
     "name": "#%%\n"
    }
   }
  },
  {
   "cell_type": "code",
   "execution_count": 11,
   "id": "7c8199c9-248c-4ad3-adcc-b29fd527da48",
   "metadata": {
    "pycharm": {
     "name": "#%%\n"
    }
   },
   "outputs": [],
   "source": [
    "#manual try\n",
    "def second_stage_FRLM(G, n, c, df_qh, df_hk, OD):\n",
    "    \"\"\" This program optimally sites n charging stations for vehicles with a range r, based on two DataFrames that are generated by the first_stage_FRLM function.\n",
    "        Parameters\n",
    "        ----------\n",
    "        G : NetworkX graph\n",
    "            must include all origins, desinations and any nodes where a refueling station may be placed.\n",
    "        n : int\n",
    "            #stations to locate on any node of G.\n",
    "        c : float\n",
    "            max average flow a charging station can cope with.\n",
    "        df_qh : pd.DataFrame()\n",
    "            DataFrame with a row for each route (q) and a column for each existing charging station combination (h). b_qh = 1 combination h can support trips on path h, 0 otherwise.\n",
    "            df_qh is generated by the first_stage_FRLM function.\n",
    "        df_kh : pd.DataFrame()\n",
    "            DataFrame with a row for each charging station combination (h), and a column for each unique facility (k). a_qh = 1 if combination k is in combination h, 0 otherwise.   \n",
    "            df_kh is generated by the first_stage_FRLM function.\n",
    "        OD: list \n",
    "        list of travel data within network G, travel data from A-B and from B-A should be summed up and entered as either one of them.\n",
    "        example input:\n",
    "        [(node_1, node_2, flow_12),(node_1, node_3, flow_13),(node_2, node_3, flow_23)]\n",
    "        \n",
    "        \"\"\"\n",
    "    #step 1: create empty list with placed fuel stations\n",
    "    stations = []\n",
    "    \n",
    "    #step 2:"
   ]
  },
  {
   "cell_type": "code",
   "execution_count": 12,
   "id": "196977df-d347-4f8a-8ad3-b24a06a2db77",
   "metadata": {
    "pycharm": {
     "name": "#%%\n"
    }
   },
   "outputs": [
    {
     "ename": "SyntaxError",
     "evalue": "invalid syntax (2127104385.py, line 41)",
     "output_type": "error",
     "traceback": [
      "\u001B[1;36m  Input \u001B[1;32mIn [12]\u001B[1;36m\u001B[0m\n\u001B[1;33m    x =\u001B[0m\n\u001B[1;37m        ^\u001B[0m\n\u001B[1;31mSyntaxError\u001B[0m\u001B[1;31m:\u001B[0m invalid syntax\n"
     ]
    }
   ],
   "source": [
    "## 1\n",
    "from ortools.linear_solver import pywraplp\n",
    "\n",
    "def second_stage_FRLM_opt(G, n, c, df_qh, df_hk):\n",
    "    \"\"\" This program optimally sites n charging stations for vehicles with a range r, based on two DataFrames that are generated by the first_stage_FRLM function.\n",
    "        Parameters\n",
    "        ----------\n",
    "        G : NetworkX graph\n",
    "            must include all origins, desinations and any nodes where a refueling station may be placed.\n",
    "        n : int\n",
    "            #stations to locate on any node of G.\n",
    "        c : float\n",
    "            max average flow a charging station can cope with.\n",
    "        df_qh : pd.DataFrame()\n",
    "            DataFrame with a row for each route (q) and a column for each existing charging station combination (h). b_qh = 1 combination h can support trips on path h, 0 otherwise.\n",
    "            df_qh is generated by the first_stage_FRLM function.\n",
    "        df_kh : pd.DataFrame()\n",
    "            DataFrame with a row for each charging station combination (h), and a column for each unique facility (k). a_qh = 1 if combination k is in combination h, 0 otherwise.   \n",
    "            df_kh is generated by the first_stage_FRLM function.\n",
    "        OD: list \n",
    "        list of travel data within network G, travel data from A-B and from B-A should be summed up and entered as either one of them.\n",
    "        example input:\n",
    "        [(node_1, node_2, flow_12),(node_1, node_3, flow_13),(node_2, node_3, flow_23)]\n",
    "        \n",
    "        \"\"\"\n",
    "    ## 2 Create a solver using the GLOP backend\n",
    "    solver = pywraplp.Solver('Maximize captured flow', pywraplp.Solver.GLOP_LINEAR_PROGRAMMING)\n",
    "    \n",
    "    ## 3 define the decision variables\n",
    "    \n",
    "    #create decision variables, decision: realize charging station combination or not\n",
    "    x = {}\n",
    "    #loop over all combinations\n",
    "    for j in range(len(df1.columns[1:])):\n",
    "        #create decision variable for each combination, build (1) or not (0).\n",
    "        x[j] = solver.IntVar(0, 1, 'x[%i]' % j)\n",
    "    print('Number of variables =', solver.NumVariables())\n",
    "    \n",
    "    ## 4 define constraints\n",
    "    #total amount of charging stations may not exceed n\n",
    "    x = \n",
    "    solver.Add(\n",
    "    print('Number of constraints =', solver.NumConstraints())\n",
    "\n",
    "    \n",
    "    \n",
    "\n"
   ]
  },
  {
   "cell_type": "code",
   "execution_count": null,
   "id": "855869e6-fe7f-4af3-8b13-e2ceb2651df6",
   "metadata": {
    "pycharm": {
     "name": "#%%\n"
    }
   },
   "outputs": [],
   "source": [
    "second_stage_FRLM(G, 1, 10, df1, df2)"
   ]
  },
  {
   "cell_type": "code",
   "execution_count": null,
   "id": "9b758338-f89a-42f6-8fb7-ab4d054e1d6c",
   "metadata": {
    "pycharm": {
     "name": "#%%\n"
    }
   },
   "outputs": [],
   "source": []
  }
 ],
 "metadata": {
  "kernelspec": {
   "display_name": "Python 3 (ipykernel)",
   "language": "python",
   "name": "python3"
  },
  "language_info": {
   "codemirror_mode": {
    "name": "ipython",
    "version": 3
   },
   "file_extension": ".py",
   "mimetype": "text/x-python",
   "name": "python",
   "nbconvert_exporter": "python",
   "pygments_lexer": "ipython3",
   "version": "3.10.4"
  }
 },
 "nbformat": 4,
 "nbformat_minor": 5
}