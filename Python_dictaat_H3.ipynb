{
 "cells": [
  {
   "cell_type": "markdown",
   "metadata": {},
   "source": [
    "# Python instructie bij Dictaat Hoofdstuk 3\n",
    "Onderstaande Python instructies en voorbeelden horen bij Hoofdstuk 3: Lineair programmeren, TB135C - Besliskunde.\n",
    "\n",
    "## <b>2. Formuleren van een lineair programmeringsprobleem</b>    \n",
    "De module <a href = http://benalexkeen.com/linear-programming-with-python-and-pulp-part-2/>PuLP</a> kan worden gebruikt om lineaire programmeringsproblemen te formuleren in Python op een manier die overeenkomt met hoe we op papier een LP probleem formuleren.     \n",
    "Pulp is niet standaard geinstalleerd in Anaconda. Voer daartoe de volgende handelingen uit:\n",
    "Voor Windows:\n",
    "<ul>\n",
    "<li>Anaconda Prompt te openen (bij je program files) </li>\n",
    "<li>In te typen:  pip install pulp </li>\n",
    "</ul>\n",
    "\n",
    "Voor Mac:\n",
    "<ul>\n",
    "<li>Jupyter Notebook op de gebruikelijke manier te openen in je browser </li>\n",
    "<li>Rechtsboven op NEW te klikken </li>\n",
    "<li>Onderin de keuzelijst terminal te kiezen</li>\n",
    "<li>In te typen: pip install pulp</li>\n",
    "</ul>\n",
    "\n",
    "Daarna kan een externe solver worden aangeroepen om het probleem op te lossen. \n",
    "We importeren de module PuLP met <i>from pulp import *</i>. Op deze manier kunnen we direct de procedures uit de module gebruiken zonder er eerst <i>pulp.</i> voor te hoeven zetten. Bijvoorbeeld <i>LpProblem</i> i.p.v. <i>pulp.LpProblem</i>.      "
   ]
  },
  {
   "cell_type": "code",
   "execution_count": 1,
   "metadata": {},
   "outputs": [],
   "source": [
    "#Importeer de module PuLP\n",
    "from pulp import *"
   ]
  },
  {
   "cell_type": "markdown",
   "metadata": {},
   "source": [
    "Allereerst definieren we het LP probleem m.b.v. <a href=https://www.coin-or.org/PuLP/pulp.html>LpProblem</a>. Hierin geven we het LP probleem een naam en vertellen we of het een maximalisatie- of minimalisatieprobleem betreft."
   ]
  },
  {
   "cell_type": "code",
   "execution_count": 2,
   "metadata": {},
   "outputs": [],
   "source": [
    "# Definieer het LP probleem 'Praag' als maximalisatieprobleem\n",
    "probleem = LpProblem('Praag', LpMaximize)"
   ]
  },
  {
   "cell_type": "markdown",
   "metadata": {},
   "source": [
    "Daarna definiëren we de beslissingsvariabelen van het probleem m.b.v. <a href=https://www.coin-or.org/PuLP/pulp.html?highlight=lpvariable#pulp.LpVariable>LpVariable</a>.       \n",
    "Je kan iedere beslissingsvariabele een naam geven en aangeven of er een ondergrens (<i>lowBound</i>) of bovengrens (<i>upBound</i>) is voor de waarden die de variabele kan aannemen. Ook kan je hier, als het nodig is, aangeven dat de variabele alleen gehele (<i>cat = 'Integer'</i>) of binaire (<i>cat = 'Binary'</i>) waarden aan kan nemen. Als je niets invult, wordt ervan uitgegaan dat het een continue variabele betreft. "
   ]
  },
  {
   "cell_type": "code",
   "execution_count": 3,
   "metadata": {},
   "outputs": [],
   "source": [
    "# Definieer de beslissingsvariabelen met ondergrens 0\n",
    "W = LpVariable('winkelen', lowBound=0)\n",
    "M = LpVariable('museum', lowBound=0)"
   ]
  },
  {
   "cell_type": "markdown",
   "metadata": {},
   "source": [
    "Als de beslissingsvariabelen zijn gedefinieerd, voegen we allereerst de doelfunctie toe aan het probleem. We kunnen hiervoor gewoon += gebruiken, zoals eerder ook bij variabelen en lijsten. "
   ]
  },
  {
   "cell_type": "code",
   "execution_count": 4,
   "metadata": {},
   "outputs": [],
   "source": [
    "#Voeg de doelfunctie toe aan het probleem\n",
    "probleem += 4*W + 3*M"
   ]
  },
  {
   "cell_type": "markdown",
   "metadata": {},
   "source": [
    "Daarna voegen we één voor één de beperkingen toe op dezelfe manier als we de doelfunctie toe hebben gevoegd."
   ]
  },
  {
   "cell_type": "code",
   "execution_count": 5,
   "metadata": {},
   "outputs": [],
   "source": [
    "#Voeg de beperking voor de totaal beschikbare tijd toe aan het probleem\n",
    "probleem += (W + M <= 8)\n",
    "\n",
    "#Voeg de beperking voor de verplichting thuis toe aan het probleem\n",
    "probleem += (W <= M + 2)\n",
    "\n",
    "#Voeg de beperking voor de openingstijd museum toe aan het probleem\n",
    "probleem += (M <= 6)"
   ]
  },
  {
   "cell_type": "markdown",
   "metadata": {},
   "source": [
    "Door het probleem te laten printen kunnen we controleren of we het probleem correct hebben geformuleerd. "
   ]
  },
  {
   "cell_type": "code",
   "execution_count": 6,
   "metadata": {},
   "outputs": [
    {
     "name": "stdout",
     "output_type": "stream",
     "text": [
      "Praag:\n",
      "MAXIMIZE\n",
      "3*museum + 4*winkelen + 0\n",
      "SUBJECT TO\n",
      "_C1: museum + winkelen <= 8\n",
      "\n",
      "_C2: - museum + winkelen <= 2\n",
      "\n",
      "_C3: museum <= 6\n",
      "\n",
      "VARIABLES\n",
      "museum Continuous\n",
      "winkelen Continuous\n",
      "\n"
     ]
    }
   ],
   "source": [
    "#Print het totale probleem\n",
    "print(probleem)"
   ]
  },
  {
   "cell_type": "markdown",
   "metadata": {},
   "source": [
    "Als we het probleem goed gedefinieerd hebben, kunnen we het nu laten oplossen. We gebruiken hiervoor <i>.solve()</i>. Hiermee wordt automatisch de juiste solver aangeroepen.     \n",
    "Met LpStatus kunnen we meteen controleren of het optimum inderdaad wordt gevonden. In het geval van een onbegrensd probleem, krijgen we hiermee de melding \"Unbounded\". En bij een onoplosbaar probleem, krijg we de melding \"Infeasible\". "
   ]
  },
  {
   "cell_type": "code",
   "execution_count": 7,
   "metadata": {},
   "outputs": [
    {
     "name": "stdout",
     "output_type": "stream",
     "text": [
      "Status: Optimal\n"
     ]
    }
   ],
   "source": [
    "# Los het LP probleem op\n",
    "probleem.solve()\n",
    "\n",
    "# Controleer of het optimum is gevonden\n",
    "print(\"Status:\", LpStatus[probleem.status])"
   ]
  },
  {
   "cell_type": "markdown",
   "metadata": {},
   "source": [
    "Nu kunnen we de resultaten laten printen door de waarden van van de beslissingsvariabelen opgeslagen in <i>probleem.variables()</i> op te vragen met <i>value()</i> en de waarde van de doelfunctie opgeslagen in <i>probleem.objective</i>. "
   ]
  },
  {
   "cell_type": "code",
   "execution_count": 8,
   "metadata": {},
   "outputs": [
    {
     "name": "stdout",
     "output_type": "stream",
     "text": [
      "Aan museum moet je 3.0 uur besteden\n",
      "Aan winkelen moet je 5.0 uur besteden\n",
      "Je totale plezier is dan 29.0\n"
     ]
    }
   ],
   "source": [
    "# De waarden van de beslissingsvariabelen in het optimum\n",
    "for var in probleem.variables():\n",
    "    print('Aan', var,'moet je', value(var), 'uur besteden')\n",
    "    \n",
    "# De waarde van de doelfunctie in het optimum\n",
    "print('Je totale plezier is dan', value(probleem.objective))"
   ]
  },
  {
   "cell_type": "markdown",
   "metadata": {},
   "source": [
    "We kunnen ook achterhalen welke beperkingen actief zijn in dit optimum door de waarden (<i>beperking.slack</i>) van de spelingsvariabelen in het optimum op te vragen. We doorlopen daarvoor alle beperkingen, opgeslagen in de lijst <i>probleem.constraints.items()</i>. NB. Iedere beperking is opgeslagen onder zijn gecodeerde naam (_C1,_C2, etc.) en de uitgeschreven beperking. "
   ]
  },
  {
   "cell_type": "code",
   "execution_count": 9,
   "metadata": {},
   "outputs": [
    {
     "name": "stdout",
     "output_type": "stream",
     "text": [
      "Beperking _C1 : museum + winkelen <= 8 heeft waarde -0.0 in optimum\n",
      "Beperking _C2 : -museum + winkelen <= 2 heeft waarde -0.0 in optimum\n",
      "Beperking _C3 : museum <= 6 heeft waarde 3.0 in optimum\n"
     ]
    }
   ],
   "source": [
    "for naam, beperking in probleem.constraints.items():\n",
    "    print('Beperking',naam,':', beperking, 'heeft waarde', beperking.slack, 'in optimum')"
   ]
  },
  {
   "cell_type": "markdown",
   "metadata": {},
   "source": [
    "De beperking C1 en C2 zijn actief in het optimum, want de bijbehorende spelingsvariabelen hebben een waarde gelijk aan 0.   \n",
    "     \n",
    "## <b>6. Schaduwprijzen</b>     \n",
    "Bij het uitvoeren van de optimalisatie worden ook automatisch de schaduwprijzen berekend. Ook deze kunnen voor iedere beperking worden opgeroepen m.b.v. <i>beperking.pi</i>."
   ]
  },
  {
   "cell_type": "code",
   "execution_count": 10,
   "metadata": {},
   "outputs": [
    {
     "name": "stdout",
     "output_type": "stream",
     "text": [
      "Beperking _C1 : museum + winkelen <= 8 heeft een schaduwprijs van 3.5\n",
      "Beperking _C2 : -museum + winkelen <= 2 heeft een schaduwprijs van 0.5\n",
      "Beperking _C3 : museum <= 6 heeft een schaduwprijs van -0.0\n"
     ]
    }
   ],
   "source": [
    "for naam, beperking in probleem.constraints.items():\n",
    "    print('Beperking',naam,':', beperking, 'heeft een schaduwprijs van', beperking.pi)"
   ]
  },
  {
   "cell_type": "markdown",
   "metadata": {},
   "source": [
    "Hieruit leren we dat voor ieder uur dat we extra zouden kunnen doorbrengen in Praag, we 3.5 punt meer plezier zouden kunnen hebben.    \n",
    "Daarnaast zouden we voor ieder uur extra toegestaan verschil tussen museumbezoek en winkelen een 0.5 punt meer plezier kunnen hebben.   \n",
    "De laatste beperking was niet actief in het optimum en geeft dus ook geen extra plezier als deze opgerekt wordt. "
   ]
  },
  {
   "cell_type": "markdown",
   "metadata": {},
   "source": [
    "### <b>6.1 Experimenteren</b>     \n",
    "In veel situaties zou je willen weten wat er zou gebeuren als er veranderingen optreden.\n",
    "Je kan de coëfficiënten en de constanten in het LP probleem eenvoudig wijzigen.     \n",
    "De coëfficiënt van M in de beperking M + W <= 8 is gelijk aan 1. Deze kan je opvragen m.b.v."
   ]
  },
  {
   "cell_type": "code",
   "execution_count": 11,
   "metadata": {},
   "outputs": [
    {
     "data": {
      "text/plain": [
       "1"
      ]
     },
     "execution_count": 11,
     "metadata": {},
     "output_type": "execute_result"
    }
   ],
   "source": [
    "probleem.constraints['_C1'][M]"
   ]
  },
  {
   "cell_type": "markdown",
   "metadata": {},
   "source": [
    "En op deze manier kan je deze coëfficiënt ook een nieuwe waarde geven:"
   ]
  },
  {
   "cell_type": "code",
   "execution_count": 12,
   "metadata": {},
   "outputs": [
    {
     "name": "stdout",
     "output_type": "stream",
     "text": [
      "3*museum + winkelen <= 8\n"
     ]
    }
   ],
   "source": [
    "probleem.constraints['_C1'][M] = 3\n",
    "print(probleem.constraints['_C1'])"
   ]
  },
  {
   "cell_type": "markdown",
   "metadata": {},
   "source": [
    "Ook de constante kan je opvragen en wijzigen. Echter wordt deze wel gegeven zoals hij aan de linkerkant van de ongelijkheid zou staan. Dus als je hem wilt wijzigen moet je daar rekening mee houden."
   ]
  },
  {
   "cell_type": "code",
   "execution_count": 13,
   "metadata": {},
   "outputs": [
    {
     "name": "stdout",
     "output_type": "stream",
     "text": [
      "-8\n"
     ]
    }
   ],
   "source": [
    "print(probleem.constraints['_C1'].constant)"
   ]
  },
  {
   "cell_type": "markdown",
   "metadata": {},
   "source": [
    "Stel dat we de constante in deze beperking willen wijzigen naar 5 uur bijvoorbeeld."
   ]
  },
  {
   "cell_type": "code",
   "execution_count": 14,
   "metadata": {},
   "outputs": [
    {
     "name": "stdout",
     "output_type": "stream",
     "text": [
      "3*museum + winkelen <= 5\n"
     ]
    }
   ],
   "source": [
    "probleem.constraints['_C1'].constant = -5\n",
    "print(probleem.constraints['_C1'])"
   ]
  },
  {
   "cell_type": "markdown",
   "metadata": {},
   "source": [
    "Op dezelfde manier kan je ook de coëfficiënten in de doelfunctie wijzigen:"
   ]
  },
  {
   "cell_type": "code",
   "execution_count": 15,
   "metadata": {},
   "outputs": [
    {
     "name": "stdout",
     "output_type": "stream",
     "text": [
      "2*museum + 4*winkelen\n"
     ]
    }
   ],
   "source": [
    "probleem.objective[M] = 2\n",
    "print(probleem.objective)"
   ]
  },
  {
   "cell_type": "markdown",
   "metadata": {},
   "source": [
    "Je moet nu natuurlijk wel het probleem opnieuw oplossen om de optimale oplossing van het nieuwe probleem te bepalen"
   ]
  },
  {
   "cell_type": "markdown",
   "metadata": {},
   "source": [
    "# 7. Grafentheorie en Lineaire optimalisatie"
   ]
  },
  {
   "cell_type": "markdown",
   "metadata": {},
   "source": [
    "## <b>7.1. Het maximale-stroom-algoritme als LP probleem</b>     \n",
    "We kunnen het maximale stroom probleem ook formuleren als een LP probleem. We zullen dit illustreren aan de hand van het voorbeeld in het dictaat.\n",
    "\n",
    "Allereerst definiëren we het probleem: "
   ]
  },
  {
   "cell_type": "code",
   "execution_count": 16,
   "metadata": {},
   "outputs": [],
   "source": [
    "#Definieer het LP probleem 'Stroom' als maximalisatieprobleem\n",
    "maxflow = LpProblem('Stroom', LpMaximize)"
   ]
  },
  {
   "cell_type": "markdown",
   "metadata": {},
   "source": [
    "We moeten ook alle beslissingsvariabelen definiëren met ondergrens 0 en bovengrens gelijk aan de capaciteit van de bijbehorende tak. "
   ]
  },
  {
   "cell_type": "code",
   "execution_count": 17,
   "metadata": {},
   "outputs": [],
   "source": [
    "# Definieer de beslissingsvariabelen\n",
    "S12 = LpVariable('S12', lowBound=0, upBound=5)\n",
    "S13 = LpVariable('S13', lowBound=0, upBound=10)\n",
    "S32 = LpVariable('S32', lowBound=0, upBound=15)\n",
    "S34 = LpVariable('S34', lowBound=0, upBound=5)\n",
    "S24 = LpVariable('S24', lowBound=0, upBound=10)"
   ]
  },
  {
   "cell_type": "markdown",
   "metadata": {},
   "source": [
    "De doelfunctie bestaat uit het maximaliseren van de stroom die de put instroomt."
   ]
  },
  {
   "cell_type": "code",
   "execution_count": 18,
   "metadata": {},
   "outputs": [],
   "source": [
    "#Voeg de doelfunctie toe aan het probleem\n",
    "maxflow += S34 + S24"
   ]
  },
  {
   "cell_type": "markdown",
   "metadata": {},
   "source": [
    "Daarnaast zijn er nog twee extra beperkingen voor de doorvoerknopen 2 en 3.    \n",
    "NB. Het betreft hier vergelijkingen waarbij de linkerkant identiek aan de rechterkant moet zijn. Hiervoor wordt == gebruikt, niet =."
   ]
  },
  {
   "cell_type": "code",
   "execution_count": 19,
   "metadata": {},
   "outputs": [],
   "source": [
    "#Voeg de beperkingen toe aan het probleem\n",
    "maxflow += (S12+S32-S24 == 0)\n",
    "maxflow += (S13-S32-S34 == 0)"
   ]
  },
  {
   "cell_type": "markdown",
   "metadata": {},
   "source": [
    "Nu kunnen we het probleem printen om te controleren of alles correct is."
   ]
  },
  {
   "cell_type": "code",
   "execution_count": 20,
   "metadata": {},
   "outputs": [
    {
     "name": "stdout",
     "output_type": "stream",
     "text": [
      "Stroom:\n",
      "MAXIMIZE\n",
      "1*S24 + 1*S34 + 0\n",
      "SUBJECT TO\n",
      "_C1: S12 - S24 + S32 = 0\n",
      "\n",
      "_C2: S13 - S32 - S34 = 0\n",
      "\n",
      "VARIABLES\n",
      "S12 <= 5 Continuous\n",
      "S13 <= 10 Continuous\n",
      "S24 <= 10 Continuous\n",
      "S32 <= 15 Continuous\n",
      "S34 <= 5 Continuous\n",
      "\n"
     ]
    }
   ],
   "source": [
    "#Print het totale probleem\n",
    "print(maxflow)"
   ]
  },
  {
   "cell_type": "markdown",
   "metadata": {},
   "source": [
    "Als alles correct is geformuleerd, kunnen we het probleem oplossen:"
   ]
  },
  {
   "cell_type": "code",
   "execution_count": 21,
   "metadata": {},
   "outputs": [
    {
     "name": "stdout",
     "output_type": "stream",
     "text": [
      "Status: Optimal\n"
     ]
    }
   ],
   "source": [
    "# Los het LP probleem op\n",
    "maxflow.solve()\n",
    "\n",
    "# Controleer of het optimum is gevonden\n",
    "print(\"Status:\", LpStatus[maxflow.status])"
   ]
  },
  {
   "cell_type": "markdown",
   "metadata": {},
   "source": [
    "En de resultaten printen:"
   ]
  },
  {
   "cell_type": "code",
   "execution_count": 22,
   "metadata": {},
   "outputs": [
    {
     "name": "stdout",
     "output_type": "stream",
     "text": [
      "De stroom S12 bedraagt 5.0\n",
      "De stroom S13 bedraagt 10.0\n",
      "De stroom S24 bedraagt 10.0\n",
      "De stroom S32 bedraagt 5.0\n",
      "De stroom S34 bedraagt 5.0\n",
      "De totale maximale stroom bedraagt 15.0\n"
     ]
    }
   ],
   "source": [
    "# De waarden van de beslissingsvariabelen in het optimum\n",
    "for var in maxflow.variables():\n",
    "    print('De stroom', var,'bedraagt', value(var))\n",
    "    \n",
    "# De waarde van de doelfunctie in het optimum\n",
    "print('De totale maximale stroom bedraagt', value(maxflow.objective))"
   ]
  },
  {
   "cell_type": "markdown",
   "metadata": {},
   "source": [
    "# <b>[EXTRA] Dus geen tentamenstof</b>     \n",
    "De onderstaande problemen die we eerder hebben opgelost met algoritmen uit de grafentheorie kunnen we, net als het maximale-stroom-probleem, ook formuleren en oplossen als LP problemen. Bij deze problemen spelen echter vaak veel belissingsvariabelen en beperkingen een rol, waardoor het onhandig is om deze één voor één te moeten formuleren. We kunnen daarbij dus beter gebruik maken van lussen en lijsten. In onderstaande uitleg wordt beschreven hoe je dit het beste kunt doen. Dit is echter geen tentamenstof. "
   ]
  },
  {
   "cell_type": "markdown",
   "metadata": {},
   "source": [
    "## <b>7.2 Het toewijzingsprobleem als LP-probleem [EXTRA] </b>    \n",
    "In het dictaat hebben we gezien hoe we het toewijzingsprobleem kunnen definieren als een binair lineair programmeringsprobleem. We zullen hier het probleem van het toewijzen van afstudeerprojecten aan studenten uitwerken.    \n",
    "Allereerst definiëren we het probleem als een maximalisatieprobleem."
   ]
  },
  {
   "cell_type": "code",
   "execution_count": 23,
   "metadata": {},
   "outputs": [],
   "source": [
    "#Definieer het ILP probleem 'toewijzing' als maximalisatieprobleem\n",
    "maxmatch = LpProblem('toewijzing',LpMaximize)"
   ]
  },
  {
   "cell_type": "markdown",
   "metadata": {},
   "source": [
    "Daarna definiëren we voor iedere mogelijke toewijzing een binaire beslissingsvariabele. We maken daarbij gebruik van de verzameling takken die in Hoofdstuk 2.2. al gedefinieerd zijn.     \n",
    "We hoeven nu niet voor iedere tak apart een beslissingsvariabele te definiëren maar kunnen m.b.v. het commando <i>LpVariable.dicts</i> dat in één keer doen voor de deze hele verzameling takken."
   ]
  },
  {
   "cell_type": "code",
   "execution_count": 24,
   "metadata": {},
   "outputs": [],
   "source": [
    "#De studenten\n",
    "studenten = ['S1','S2','S3','S4','S5','S6','S7']\n",
    "#De projecten\n",
    "projecten = ['P1','P2','P3','P4','P5','P6','P7']\n",
    "#De mogelijke verbindingen\n",
    "takken = [('S1','P2'),('S1','P6'),('S2','P1'),('S2','P4'),('S2','P7'),\n",
    "          ('S3','P5'),('S3','P6'),('S4','P2'),('S4','P5'),('S4','P6'),\n",
    "          ('S5','P5'),('S6','P1'),('S6','P2'),('S6','P4'),('S6','P7'),\n",
    "          ('S7','P3'),('S7','P7')]\n",
    "#Definieer de beslissingsvariabelen\n",
    "match = LpVariable.dicts(\"Match\",takken,cat='Binary')"
   ]
  },
  {
   "cell_type": "markdown",
   "metadata": {},
   "source": [
    "Dorodat de beslissingsvariabelen nu als een opzoektabel zijn gedefinieerd kunnen we ook de doelfunctie eenvoudig definiëren door gebruik te maken van <i>sum</i>. "
   ]
  },
  {
   "cell_type": "code",
   "execution_count": 25,
   "metadata": {},
   "outputs": [],
   "source": [
    "#Definieer de doelfunctie als som van alle beslissingsvariabelen\n",
    "maxmatch += (sum([match[e] for e in takken]))"
   ]
  },
  {
   "cell_type": "markdown",
   "metadata": {},
   "source": [
    "Voor iedere knoop geldt nu de beperking dat de knoop maar aan één andere knoop toegewezen mag worden. "
   ]
  },
  {
   "cell_type": "code",
   "execution_count": 26,
   "metadata": {},
   "outputs": [],
   "source": [
    "#Definieer deze beperking voor iedere student\n",
    "for s in studenten:\n",
    "    maxmatch += (sum([match[e[0],e[1]] for e in takken if s in e]) <= 1)\n",
    "\n",
    "#Definieer deze beperking voor ieder project\n",
    "for p in projecten:\n",
    "    maxmatch += (sum([match[e[0],e[1]] for e in takken if p in e]) <= 1)"
   ]
  },
  {
   "cell_type": "markdown",
   "metadata": {},
   "source": [
    "Als het probleem goed is gedefinieerd kunnen we het nu oplossen."
   ]
  },
  {
   "cell_type": "code",
   "execution_count": 27,
   "metadata": {},
   "outputs": [
    {
     "name": "stdout",
     "output_type": "stream",
     "text": [
      "Match_('S1',_'P6')\n",
      "Match_('S2',_'P4')\n",
      "Match_('S4',_'P2')\n",
      "Match_('S5',_'P5')\n",
      "Match_('S6',_'P7')\n",
      "Match_('S7',_'P3')\n",
      "maximale toewijzing bedraagt 6.0\n"
     ]
    }
   ],
   "source": [
    "#Los het probleem op\n",
    "maxmatch.solve()\n",
    "\n",
    "# De waarden van de beslissingsvariabelen in het optimum\n",
    "for var in maxmatch.variables():\n",
    "    if value(var)==1:\n",
    "        print(var)\n",
    "    \n",
    "# De waarde van de doelfunctie in het optimum\n",
    "print('maximale toewijzing bedraagt', value(maxmatch.objective))"
   ]
  },
  {
   "cell_type": "markdown",
   "metadata": {},
   "source": [
    "## <b>7.3 Het kortste-pad-probleem als LP-probleem [EXTRA]</b>    \n",
    "In het dictaat hebben we gezien hoe we het kortste-pad-probleem kunnen definiëren als LP probleem. We zullen deze formulering nu gebruiken om het kortste pad te bepalen tussen knoop 0 en knoop 6 in het voorbeeld van Figuur 5.   \n",
    "\n",
    "Allereerst definiëren we het probleem als een minimalisatieprobleem."
   ]
  },
  {
   "cell_type": "code",
   "execution_count": 28,
   "metadata": {},
   "outputs": [],
   "source": [
    "#Definieer het ILP probleem 'Kortste_Pad' als minimalisatieprobleem\n",
    "minpad = LpProblem('Kortste_Pad', LpMinimize)"
   ]
  },
  {
   "cell_type": "markdown",
   "metadata": {},
   "source": [
    "Daarna definiëren we voor iedere tak een binaire beslissingsvariabele."
   ]
  },
  {
   "cell_type": "code",
   "execution_count": 29,
   "metadata": {},
   "outputs": [],
   "source": [
    "#Alle takken in de graaf met de bijbehorende lengte\n",
    "lengte_takken = [(0,1,40),(0,2,70),(0,3,10),(1,2,40),(1,4,50),(2,3,30),(2,4,30),(2,5,10),\n",
    "                 (3,6,20),(4,5,30),(5,0,20),(6,2,30),(6,5,50)]\n",
    "\n",
    "#Alle takken in de graaf zonder de bijbehorende lengte\n",
    "takken = [(e[0],e[1]) for e in lengte_takken]\n",
    "\n",
    "#Definieer alle binaire beslissingsvariabelen\n",
    "X = LpVariable.dicts(\"tak\",takken,cat='Binary')"
   ]
  },
  {
   "cell_type": "markdown",
   "metadata": {},
   "source": [
    "De doelfunctie is de lengte van het totale pad. En deze moet geminimaliseerd worden. "
   ]
  },
  {
   "cell_type": "code",
   "execution_count": 30,
   "metadata": {},
   "outputs": [],
   "source": [
    "#Definieer de doelfunctie en voeg deze aan het probleem toe\n",
    "minpad += (sum([e[2]*X[e[0],e[1]] for e in lengte_takken]))"
   ]
  },
  {
   "cell_type": "markdown",
   "metadata": {},
   "source": [
    "De beperkingen zorgen ervoor dat de geslecteerde takken een aansluitend pad vormen. Voor iedere knoop moet een aparte beperking worden geformuleerd.   "
   ]
  },
  {
   "cell_type": "code",
   "execution_count": 31,
   "metadata": {},
   "outputs": [],
   "source": [
    "#De startknoop\n",
    "start = 0\n",
    "#De eindknoop \n",
    "eind = 6\n",
    "\n",
    "#Voor iedere knoop worden eerst de ingaande en uitgaande stromen opgeteld\n",
    "#Voor alle knopen\n",
    "for i in range(7):\n",
    "#Alle uitgaande takken\n",
    "    bep = sum(X[e[0],e[1]] for e in takken if i == e[0])\n",
    "#Alle ingaande takken\n",
    "    bep += -sum(X[e[0],e[1]] for e in takken if i == e[1])\n",
    "    \n",
    "#Als i de startknoop is\n",
    "    if i == start:\n",
    "#Beperking is gelijk aan 1\n",
    "        minpad += (bep == 1)\n",
    "#Als i de eindknoop is\n",
    "    elif i == eind:\n",
    "#Beperking is gelijk aan -1\n",
    "        minpad += (bep == -1)\n",
    "#Anders\n",
    "    else:\n",
    "#Beperking is gelijk aan 0\n",
    "        minpad += (bep == 0)"
   ]
  },
  {
   "cell_type": "markdown",
   "metadata": {},
   "source": [
    "Als alles goed is geformuleerd kunnen we het probleem oplossen"
   ]
  },
  {
   "cell_type": "code",
   "execution_count": 32,
   "metadata": {},
   "outputs": [
    {
     "name": "stdout",
     "output_type": "stream",
     "text": [
      "Status: Optimal\n"
     ]
    }
   ],
   "source": [
    "# Los het LP probleem op\n",
    "minpad.solve()\n",
    "\n",
    "# Controleer of het optimum is gevonden\n",
    "print(\"Status:\", LpStatus[minpad.status])"
   ]
  },
  {
   "cell_type": "markdown",
   "metadata": {},
   "source": [
    "En de resultaten printen"
   ]
  },
  {
   "cell_type": "code",
   "execution_count": 33,
   "metadata": {},
   "outputs": [
    {
     "name": "stdout",
     "output_type": "stream",
     "text": [
      "De tak_(0,_3) zit in het pad\n",
      "De tak_(3,_6) zit in het pad\n",
      "De totale lengte van het kortste pad bedraagt 30.0\n"
     ]
    }
   ],
   "source": [
    "# De waarden van de beslissingsvariabelen in het optimum\n",
    "for var in minpad.variables():\n",
    "    if value(var)==1:\n",
    "        print('De', var,'zit in het pad')\n",
    "    \n",
    "# De waarde van de doelfunctie in het optimum\n",
    "print('De totale lengte van het kortste pad bedraagt', value(minpad.objective))"
   ]
  },
  {
   "cell_type": "markdown",
   "metadata": {},
   "source": [
    "## De minimaal-opspannende-boom als LP-probleem [EXTRA]\n",
    "Ook het probleem van het vinden van de minimaal opspannende boom hebben we in het dictaat geformuleerd als een binair lineair programmeringsprobleem. Zoals we hebben gezien kunnen het probleem op twee manieren formuleren:    \n",
    "1. met binaire beslissingsvariabelen\n",
    "2. met continue beslissingsvariabelen  \n",
    "    \n",
    "Beide methoden geven hetzelfde antwoord, zoals we hieronder zullen zien, maar voor de laatste methode kan het antwoord efficiënter worden gevonden omdat hiervoor de simplex methode kan worden gebruikt.     \n",
    "We passen de methoden toe op dezelfde graaf als hierboven gebruikt voor het kortste pad.   "
   ]
  },
  {
   "cell_type": "code",
   "execution_count": 34,
   "metadata": {},
   "outputs": [],
   "source": [
    "#Definieer het LP probleem 'min_boom' als minimalisatieprobleem\n",
    "mob = LpProblem('min_boom',LpMinimize)"
   ]
  },
  {
   "cell_type": "markdown",
   "metadata": {},
   "source": [
    "De takken zijn hierboven nog gedefinieerd.    \n",
    "Hiermee kunnen we nu de beslissingsvariabelen als binaire variabelen definiëren, maar ook als continue variable. Door het # weg te halen kan je de ene of de andere definitie gebruiken."
   ]
  },
  {
   "cell_type": "code",
   "execution_count": 35,
   "metadata": {},
   "outputs": [],
   "source": [
    "#Definieer alle binaire beslissingsvariabelen\n",
    "X = LpVariable.dicts(\"tak\",takken,cat='Binary')\n",
    "\n",
    "#Definieer alle continue belissingsvariabelen met ondergrens gelijk aan 0\n",
    "#X = LpVariable.dicts(\"tak\",takken,lowBound = 0)"
   ]
  },
  {
   "cell_type": "markdown",
   "metadata": {},
   "source": [
    "De doelfunctie is precies dezelfde als die voor het kortste pad. "
   ]
  },
  {
   "cell_type": "code",
   "execution_count": 36,
   "metadata": {},
   "outputs": [],
   "source": [
    "#Definieer de doelfunctie en voeg deze aan het probleem toe\n",
    "mob += (sum([e[2]*X[e[0],e[1]] for e in lengte_takken]))"
   ]
  },
  {
   "cell_type": "markdown",
   "metadata": {},
   "source": [
    "De beperkingen zorgen ervoor dat de takken een opspannende boom vormen."
   ]
  },
  {
   "cell_type": "code",
   "execution_count": 37,
   "metadata": {},
   "outputs": [],
   "source": [
    "#Definieer het aantal knopen\n",
    "n = 7\n",
    "#Definieer de beperkingen dat er precies n-1 takken moeten zijn opgenomen in het netwerk\n",
    "mob += (sum([X[e[0],e[1]] for e in takken]) == n-1)\n",
    "\n",
    "#Voor de beperking m.b.t. de circuits gebruiken we het commando combinations\n",
    "from itertools import combinations\n",
    "\n",
    "#Voor alle mogelijk groottes k van de deelverzamelingen\n",
    "for k in range(2,n): \n",
    "#Voor alle combinaties van k knopen\n",
    "    for S in combinations(list(range(7)),k):\n",
    "        mob += (sum([X[e[0],e[1]] for e in takken if (e[0] in S) and (e[1] in S)]) <=k-1)"
   ]
  },
  {
   "cell_type": "markdown",
   "metadata": {},
   "source": [
    "Als het probleem goed is gedefinieerd, kunnen we het nu oplossen en de waarden van de beslisvariabelen bepalen en de totale lengte van de minimaal opspannende boom. "
   ]
  },
  {
   "cell_type": "code",
   "execution_count": 38,
   "metadata": {},
   "outputs": [
    {
     "name": "stdout",
     "output_type": "stream",
     "text": [
      "De tak_(0,_1) zit in het pad\n",
      "De tak_(0,_3) zit in het pad\n",
      "De tak_(2,_4) zit in het pad\n",
      "De tak_(2,_5) zit in het pad\n",
      "De tak_(3,_6) zit in het pad\n",
      "De tak_(5,_0) zit in het pad\n",
      "De totale lengte van de minimaal opspannende boom bedraagt 130.0\n"
     ]
    }
   ],
   "source": [
    "# Los het LP probleem op\n",
    "mob.solve()\n",
    "\n",
    "# De waarden van de beslissingsvariabelen in het optimum\n",
    "for var in mob.variables():\n",
    "    if value(var)==1:\n",
    "        print('De', var,'zit in het pad')\n",
    "    \n",
    "# De waarde van de doelfunctie in het optimum\n",
    "print('De totale lengte van de minimaal opspannende boom bedraagt', value(mob.objective))"
   ]
  },
  {
   "cell_type": "markdown",
   "metadata": {},
   "source": [
    "Je kunt het probleem op laten lossen voor beide varianten van de beslissingsvariabelen en je zult zien dat in beide gevallen dezelfde oplossing wordt gevonden.     \n",
    "Het betreft hier slechts een klein probleem wat ook met de binaire variabelen snel wordt opgelost, maar voor grote problemen is de versie met continue variabelen significant sneller."
   ]
  },
  {
   "cell_type": "markdown",
   "metadata": {},
   "source": [
    "## <b>7.5. Het kleuringsprobleem als LP-probleem [EXTRA]</b>    \n",
    "In het dictaat hebben we het kleuringsprobleem beschreven als een binair lineair programmingsprobleem. We zullen het voorbeeld over het kleuren van de provincies van Nederland nu gebruiken om dit probleem in Python op te lossen.   \n",
    "We definiëren eerst het probleem."
   ]
  },
  {
   "cell_type": "code",
   "execution_count": 39,
   "metadata": {},
   "outputs": [],
   "source": [
    "#De provincies zijn in deze volgorde genummerd:\n",
    "provincies = ['Zeeland','Zuid-Holland','Noord-Holland','Friesland','Groningen',\n",
    "              'Drenthe','Overijssel','Gelderland','Limburg','Noord-Brabant',\n",
    "              'Utrecht','Flevoland']\n",
    "\n",
    "#Definieer het ILP probleem 'provincie_kleuring' als minimalisatieprobleem\n",
    "minkleur = LpProblem('provincie_kleuring',LpMinimize)"
   ]
  },
  {
   "cell_type": "markdown",
   "metadata": {},
   "source": [
    "Daarna definiëren we alle beslissingsvariabelen."
   ]
  },
  {
   "cell_type": "code",
   "execution_count": 40,
   "metadata": {},
   "outputs": [],
   "source": [
    "#Definieer n als het aantal provincies\n",
    "n = 12\n",
    "#Definieer de beslissingsvariabelen Yk voor de kleuren\n",
    "Y = LpVariable.dicts('kleur',list(range(n)),cat = 'Binary')\n",
    "#Definieer de beslissingsvariabelen Xik voor iedere combinatie provincie en kleur\n",
    "X = LpVariable.dicts('combi',[(i,k) for i in range(n) for k in range(n)],cat = 'Binary')"
   ]
  },
  {
   "cell_type": "markdown",
   "metadata": {},
   "source": [
    "De doelfunctie wordt nu gedefinieerd als het aantal toegewezen kleuren."
   ]
  },
  {
   "cell_type": "code",
   "execution_count": 41,
   "metadata": {},
   "outputs": [],
   "source": [
    "#Definieer de doelfunctie\n",
    "minkleur += (sum([Y[k] for k in range(n)]))"
   ]
  },
  {
   "cell_type": "markdown",
   "metadata": {},
   "source": [
    "Hierna kunnen de beperkingen worden toegevoegd."
   ]
  },
  {
   "cell_type": "code",
   "execution_count": 42,
   "metadata": {},
   "outputs": [],
   "source": [
    "#Definieer beperking dat iedere knoop precies één kleur moet krijgen\n",
    "for i in range(n):\n",
    "    minkleur += (sum([X[i,k] for k in range(n)]) == 1)\n",
    "    \n",
    "#Definieer beperking dat alleen gebruikte kleuren kunnen worden toegekend\n",
    "for k in range(n):\n",
    "    for i in range(n):\n",
    "        minkleur += (X[i,k] <= Y[k])\n",
    "        \n",
    "#Definieer alle takken van de graaf (zie hoofdstuk 2.2)\n",
    "takken = [(0,1),(0,9),(1,2),(1,7),(1,9),(1,10),(2,3),(2,10),(2,11),(3,4),\n",
    "          (3,5),(3,6),(3,11),(4,5),(5,6),(6,7),(6,11),(7,8),(7,9),(7,10),\n",
    "          (7,11),(8,9),(10,11)]\n",
    "\n",
    "#Definieer beperking dat ieder paar naburige knopen niet dezelfde kleur mag hebben\n",
    "for e in takken:\n",
    "    for k in range(n):\n",
    "        minkleur += (X[e[0],k]+X[e[1],k] <= 1)"
   ]
  },
  {
   "cell_type": "markdown",
   "metadata": {},
   "source": [
    "Hierna kan het probleem opgelost worden."
   ]
  },
  {
   "cell_type": "code",
   "execution_count": 43,
   "metadata": {},
   "outputs": [
    {
     "name": "stdout",
     "output_type": "stream",
     "text": [
      "Zeeland krijgt kleur 6\n",
      "Zuid-Holland krijgt kleur 0\n",
      "Noord-Holland krijgt kleur 6\n",
      "Friesland krijgt kleur 4\n",
      "Groningen krijgt kleur 6\n",
      "Drenthe krijgt kleur 0\n",
      "Overijssel krijgt kleur 3\n",
      "Gelderland krijgt kleur 6\n",
      "Limburg krijgt kleur 0\n",
      "Noord-Brabant krijgt kleur 4\n",
      "Utrecht krijgt kleur 4\n",
      "Flevoland krijgt kleur 0\n",
      "Totaal aantal gebruikte kleuren: 4.0\n"
     ]
    }
   ],
   "source": [
    "#Los het probleem op\n",
    "minkleur.solve()\n",
    "\n",
    "# De waarden van de beslissingsvariabelen in het optimum\n",
    "for i in range(n):\n",
    "    for k in range(n):\n",
    "        if value(X[i,k]) == 1.0:\n",
    "            print(provincies[i],'krijgt kleur',k)\n",
    "            \n",
    "# Het totaal aantal gebruikte kleuren\n",
    "print('Totaal aantal gebruikte kleuren:',value(minkleur.objective))"
   ]
  },
  {
   "cell_type": "markdown",
   "metadata": {},
   "source": [
    "## <b>7.6. Het handelsreizigersprobleem als LP-probleem [EXTRA]</b>    \n",
    "In het dictaat hebben we gezien hoe we het handelsreizigersprobleem kunnen definiëren als ILP probleem. We zullen deze formulering nu gebruiken om het minimale Hamilton circuit te vinden voor het voorbeeld van Figuur 5.\n",
    "Allereerst definiëren we het probleem:"
   ]
  },
  {
   "cell_type": "code",
   "execution_count": 44,
   "metadata": {},
   "outputs": [],
   "source": [
    "#Definieer het ILP probleem 'handelsreiziger' als minimalisatieprobleem\n",
    "mincircuit = LpProblem('handelsreiziger', LpMinimize)"
   ]
  },
  {
   "cell_type": "markdown",
   "metadata": {},
   "source": [
    "Daarna definiëren we voor iedere tak een binaire beslissingsvariabele."
   ]
  },
  {
   "cell_type": "code",
   "execution_count": 45,
   "metadata": {},
   "outputs": [],
   "source": [
    "#Definieer de beslissingsvariabelen Xik voor iedere mogelijke tak\n",
    "X = LpVariable.dicts('tak',[(i,j) for i in range(1,6) for j in range(i+1,6)],cat = 'Binary')"
   ]
  },
  {
   "cell_type": "markdown",
   "metadata": {},
   "source": [
    "De doelfunctie is de totale schoonmaaktijd en deze moet geminimaliseerd worden."
   ]
  },
  {
   "cell_type": "code",
   "execution_count": 46,
   "metadata": {},
   "outputs": [],
   "source": [
    "#Definieer de opzoektabel met schoonmaaktijden per tak\n",
    "tijd = {(1,2):4,(1,3):5,(1,4):5,(1,5):3,(2,3):3,(2,4):5,(2,5):2,(3,4):5,(3,5):4,(4,5):2}\n",
    "\n",
    "#Definieer de doelfunctie en voeg deze aan het probleem toe\n",
    "mincircuit += sum([tijd[(i,j)]*X[i,j] for i in range(1,6) for j in range(i+1,6)])"
   ]
  },
  {
   "cell_type": "markdown",
   "metadata": {},
   "source": [
    "De beperkingen zorgen ervoor dat iedere knoop in het circuit is opgenomen en dat er geen deelcircuits ontstaan.     \n",
    "Voor een probleem met n knopen is het aantal deelverzamelingen met k<n knopen gelijk aan n!/((n-k)!k!) (n over k). Het aantal beperkingen wordt hierdoor voor grote problemen dus erg groot. Daarom wordt dit probleem vaak in stappen opgelost. In de eerste stap worden deze beperkingen niet mee genemen. Als er dan een oplossing wordt gevonden met deelcircuits, dan wordt alleen die beperking opgenomen die deze oplossing uitsluit. En zo verder tot een oplossing wordt gevonden met één circuit dat alle knopen bevat."
   ]
  },
  {
   "cell_type": "code",
   "execution_count": 47,
   "metadata": {},
   "outputs": [],
   "source": [
    "#Definieer de beperkingen dat iedere knoop in het circuit moet zijn opgenomen\n",
    "for v in range(1,6):\n",
    "    mincircuit += (sum([X[i,j] for i in range(1,6) for j in range(i+1,6) if (v == i) or (v==j)]) ==2)\n",
    "\n",
    "#Voor de beperking m.b.t. de deelcircuits gebruiken we het commando combinations\n",
    "from itertools import combinations\n",
    "\n",
    "#Definieer de beperkingen dat er geen deelcircuits ontstaan met 3 knopen\n",
    "#Voor alle combinaties van 3 knopen\n",
    "for S in combinations(list(range(1,6)),3):\n",
    "    mincircuit += (sum([X[i,j] for i in range(1,6) for j in range(i+1,6) if ((i in S) and (j in S))]) <=2)\n",
    "\n",
    "#Definieer de beperkingen dat er geen deelcircuits ontstaan met 3 knopen\n",
    "#Voor alle combinaties van 4 knopen\n",
    "for S in combinations(list(range(1,6)),4):    \n",
    "    mincircuit += (sum([X[i,j] for i in range(1,6) for j in range(i+1,6) if ((i in S) and (j in S))]) <=3)\n"
   ]
  },
  {
   "cell_type": "markdown",
   "metadata": {},
   "source": [
    "Als alles goed is gedefinieerd, kunnen we het probleem nu oplossen"
   ]
  },
  {
   "cell_type": "code",
   "execution_count": 48,
   "metadata": {},
   "outputs": [
    {
     "name": "stdout",
     "output_type": "stream",
     "text": [
      "Status: Optimal\n"
     ]
    }
   ],
   "source": [
    "# Los het LP probleem op\n",
    "mincircuit.solve()\n",
    "\n",
    "# Controleer of het optimum is gevonden\n",
    "print(\"Status:\", LpStatus[mincircuit.status])"
   ]
  },
  {
   "cell_type": "code",
   "execution_count": 49,
   "metadata": {},
   "outputs": [
    {
     "name": "stdout",
     "output_type": "stream",
     "text": [
      "De tak_(1,_3) zit in het pad\n",
      "De tak_(1,_4) zit in het pad\n",
      "De tak_(2,_3) zit in het pad\n",
      "De tak_(2,_5) zit in het pad\n",
      "De tak_(4,_5) zit in het pad\n",
      "De totale lengte van minimale Hamilton circuit bedraagt 17.0\n"
     ]
    }
   ],
   "source": [
    "# De waarden van de beslissingsvariabelen in het optimum\n",
    "for var in mincircuit.variables():\n",
    "    if value(var)==1:\n",
    "        print('De', var,'zit in het pad')\n",
    "    \n",
    "# De waarde van de doelfunctie in het optimum\n",
    "print('De totale lengte van minimale Hamilton circuit bedraagt', value(mincircuit.objective))"
   ]
  },
  {
   "cell_type": "markdown",
   "metadata": {},
   "source": [
    "# <b>8. Opdrachten</b>     \n",
    "Bij een aantal opdrachten wordt gevraagd de oplossing te berekenen met Python. Daarvoor worden hier de uitwerkingen getoond. \n",
    "\n",
    "<b>Vraag 1k.</b>\n",
    "Bepaal de oplossing van het probleem met Python."
   ]
  },
  {
   "cell_type": "code",
   "execution_count": 50,
   "metadata": {},
   "outputs": [
    {
     "name": "stdout",
     "output_type": "stream",
     "text": [
      "webzender:\n",
      "MAXIMIZE\n",
      "100*klassiek + 300*populair + 0\n",
      "SUBJECT TO\n",
      "_C1: klassiek + populair <= 24\n",
      "\n",
      "_C2: - klassiek + 0.2 populair <= 0\n",
      "\n",
      "_C3: klassiek - 0.8 populair <= 0\n",
      "\n",
      "_C4: populair <= 15\n",
      "\n",
      "VARIABLES\n",
      "klassiek Continuous\n",
      "populair Continuous\n",
      "\n"
     ]
    }
   ],
   "source": [
    "#Definieer het LP probleem 'zender' als maximalisatieprobleem\n",
    "zender = LpProblem('webzender', LpMaximize)\n",
    "\n",
    "# Definieer de beslissingsvariabelen\n",
    "K = LpVariable('klassiek', lowBound=0)\n",
    "P = LpVariable('populair', lowBound=0)\n",
    "\n",
    "#Voeg de doelfunctie toe aan het probleem\n",
    "zender += 100*K + 300*P\n",
    "\n",
    "#Voeg de beperkingen toe aan het probleem\n",
    "zender += (K+P<=24) #Beperking aan tijd\n",
    "zender += (-K+0.2*P <= 0) #Beperking door verhouding I\n",
    "zender += (K-0.8*P <= 0) #Beperking door verhouding II\n",
    "zender += (P<=15) #Beperking door auteursrechten\n",
    "\n",
    "#Print het totale probleem\n",
    "print(zender)"
   ]
  },
  {
   "cell_type": "code",
   "execution_count": 51,
   "metadata": {},
   "outputs": [
    {
     "name": "stdout",
     "output_type": "stream",
     "text": [
      "Status: Optimal\n"
     ]
    }
   ],
   "source": [
    "# Los het LP probleem op\n",
    "zender.solve()\n",
    "\n",
    "# Controleer of het optimum is gevonden\n",
    "print(\"Status:\", LpStatus[zender.status])"
   ]
  },
  {
   "cell_type": "code",
   "execution_count": 52,
   "metadata": {},
   "outputs": [
    {
     "name": "stdout",
     "output_type": "stream",
     "text": [
      "Het aantal uur klassiek bedraagt 9.0 per dag\n",
      "Het aantal uur populair bedraagt 15.0 per dag\n",
      "De winst bedraagt 5400.0 euro per dag\n"
     ]
    }
   ],
   "source": [
    "# De waarden van de beslissingsvariabelen in het optimum\n",
    "for var in zender.variables():\n",
    "    print('Het aantal uur', var,'bedraagt', value(var), 'per dag')\n",
    "    \n",
    "# De waarde van de doelfunctie in het optimum\n",
    "print('De winst bedraagt', value(zender.objective), 'euro per dag')"
   ]
  },
  {
   "cell_type": "code",
   "execution_count": 53,
   "metadata": {},
   "outputs": [
    {
     "name": "stdout",
     "output_type": "stream",
     "text": [
      "Beperking _C1 : klassiek + populair <= 24 heeft een schaduwprijs van 100.0 euro\n",
      "Beperking _C2 : -klassiek + 0.2*populair <= -0.0 heeft een schaduwprijs van -0.0 euro\n",
      "Beperking _C3 : klassiek - 0.8*populair <= -0.0 heeft een schaduwprijs van -0.0 euro\n",
      "Beperking _C4 : populair <= 15 heeft een schaduwprijs van 200.0 euro\n"
     ]
    }
   ],
   "source": [
    "#Bepaal de schaduwprijzen voor de beperkingen\n",
    "for naam, beperking in zender.constraints.items():\n",
    "    print('Beperking',naam,':', beperking, 'heeft een schaduwprijs van', beperking.pi, 'euro')"
   ]
  },
  {
   "cell_type": "markdown",
   "metadata": {},
   "source": [
    "<b>Vraag 3b.</b>    \n",
    "Los het maximale stroom probleem op als LP probleem in Python"
   ]
  },
  {
   "cell_type": "code",
   "execution_count": 54,
   "metadata": {},
   "outputs": [
    {
     "name": "stdout",
     "output_type": "stream",
     "text": [
      "Wateropslag:\n",
      "MAXIMIZE\n",
      "1*S1P + 1*S2P + 0\n",
      "SUBJECT TO\n",
      "_C1: - S12 - S13 - S1P + SB1 = 0\n",
      "\n",
      "_C2: S12 - S2P + S32 = 0\n",
      "\n",
      "_C3: S13 - S32 + SB3 = 0\n",
      "\n",
      "VARIABLES\n",
      "S12 <= 5 Continuous\n",
      "S13 <= 2 Continuous\n",
      "S1P <= 6 Continuous\n",
      "S2P <= 5 Continuous\n",
      "S32 <= 3 Continuous\n",
      "SB1 <= 5 Continuous\n",
      "SB3 <= 6 Continuous\n",
      "\n"
     ]
    }
   ],
   "source": [
    "#Definieer het LP probleem 'Wateropslag' als maximalisatieprobleem\n",
    "water = LpProblem('Wateropslag', LpMaximize)\n",
    "\n",
    "# Definieer de beslissingsvariabelen\n",
    "SB1 = LpVariable('SB1', lowBound=0, upBound=5)\n",
    "SB3 = LpVariable('SB3', lowBound=0, upBound=6)\n",
    "S12 = LpVariable('S12', lowBound=0, upBound=5)\n",
    "S32 = LpVariable('S32', lowBound=0, upBound=3)\n",
    "S13 = LpVariable('S13', lowBound=0, upBound=2)\n",
    "S2P = LpVariable('S2P', lowBound=0, upBound=5)\n",
    "S1P = LpVariable('S1P', lowBound=0, upBound=6)\n",
    "\n",
    "#Voeg de doelfunctie toe aan het probleem\n",
    "water += S1P + S2P\n",
    "\n",
    "#Voeg de beperkingen toe aan het probleem\n",
    "water += (SB1-S1P-S12-S13== 0)\n",
    "water += (S12+S32-S2P == 0)\n",
    "water += (SB3+S13-S32 == 0)\n",
    "\n",
    "#Print het totale probleem\n",
    "print(water)"
   ]
  },
  {
   "cell_type": "code",
   "execution_count": 55,
   "metadata": {},
   "outputs": [
    {
     "name": "stdout",
     "output_type": "stream",
     "text": [
      "Status: Optimal\n"
     ]
    }
   ],
   "source": [
    "# Los het LP probleem op\n",
    "water.solve()\n",
    "\n",
    "# Controleer of het optimum is gevonden\n",
    "print(\"Status:\", LpStatus[water.status])"
   ]
  },
  {
   "cell_type": "code",
   "execution_count": 56,
   "metadata": {},
   "outputs": [
    {
     "name": "stdout",
     "output_type": "stream",
     "text": [
      "De stroom S12 bedraagt 2.0 liter/minuut\n",
      "De stroom S13 bedraagt 0.0 liter/minuut\n",
      "De stroom S1P bedraagt 3.0 liter/minuut\n",
      "De stroom S2P bedraagt 5.0 liter/minuut\n",
      "De stroom S32 bedraagt 3.0 liter/minuut\n",
      "De stroom SB1 bedraagt 5.0 liter/minuut\n",
      "De stroom SB3 bedraagt 3.0 liter/minuut\n",
      "De maximale stroom 8.0 liter/minuut\n"
     ]
    }
   ],
   "source": [
    "# De waarden van de beslissingsvariabelen in het optimum\n",
    "for var in water.variables():\n",
    "    print('De stroom', var,'bedraagt', value(var), 'liter/minuut')\n",
    "    \n",
    "# De waarde van de doelfunctie in het optimum\n",
    "print('De maximale stroom', value(water.objective), 'liter/minuut')"
   ]
  },
  {
   "cell_type": "markdown",
   "metadata": {},
   "source": [
    "<b>Vraag 3c.</b> Los het maximale stroom probleem op m.b.v. het maximale stroom algoritme in Python."
   ]
  },
  {
   "cell_type": "code",
   "execution_count": 57,
   "metadata": {},
   "outputs": [
    {
     "data": {
      "image/png": "[encoded data removed]",
      "text/plain": [
       "<Figure size 432x288 with 1 Axes>"
      ]
     },
     "metadata": {},
     "output_type": "display_data"
    }
   ],
   "source": [
    "#Importeer de module networkx\n",
    "import networkx as nx\n",
    "#Importeer de module matplotlib.pyplot\n",
    "import matplotlib.pyplot as plt\n",
    "\n",
    "#Definieer een lege graaf\n",
    "G = nx.DiGraph()\n",
    "\n",
    "#Voeg één voor één de takken toe met hun capaciteit\n",
    "G.add_edge('B',1, capacity=5)\n",
    "G.add_edge('B',3,capacity=6)\n",
    "G.add_edge(1,2,capacity=5)\n",
    "G.add_edge(3,2,capacity=3)\n",
    "G.add_edge(1,3,capacity=2)\n",
    "G.add_edge(2,'P',capacity=5)\n",
    "G.add_edge(1,'P',capacity=6)\n",
    "\n",
    "#Teken het netwerk\n",
    "nx.draw_networkx(G)\n",
    "plt.show()"
   ]
  },
  {
   "cell_type": "code",
   "execution_count": 58,
   "metadata": {},
   "outputs": [
    {
     "name": "stdout",
     "output_type": "stream",
     "text": [
      "De maximale stroom door het netwerk bedraagt 8 liter/minuut\n",
      "De stroom van B naar 1 bedraagt 5\n",
      "De stroom van B naar 3 bedraagt 3\n",
      "De stroom van 1 naar 2 bedraagt 0\n",
      "De stroom van 1 naar 3 bedraagt 0\n",
      "De stroom van 1 naar P bedraagt 5\n",
      "De stroom van 3 naar 2 bedraagt 3\n",
      "De stroom van 2 naar P bedraagt 3\n"
     ]
    }
   ],
   "source": [
    "#Bepaal de maximale stroom door het netwerk van bron naar put\n",
    "max_str,stromen = nx.maximum_flow(G,'B','P')\n",
    "\n",
    "print('De maximale stroom door het netwerk bedraagt',max_str,'liter/minuut')\n",
    "\n",
    "#Print voor alle takken in het netwerk de stroom\n",
    "for e in G.edges():\n",
    "    print('De stroom van',e[0],'naar',e[1],'bedraagt',stromen[e[0]][e[1]])"
   ]
  },
  {
   "cell_type": "code",
   "execution_count": null,
   "metadata": {
    "collapsed": true,
    "jupyter": {
     "outputs_hidden": true
    }
   },
   "outputs": [],
   "source": []
  }
 ],
 "metadata": {
  "anaconda-cloud": {},
  "kernelspec": {
   "display_name": "Python 3 (ipykernel)",
   "language": "python",
   "name": "python3"
  },
  "language_info": {
   "codemirror_mode": {
    "name": "ipython",
    "version": 3
   },
   "file_extension": ".py",
   "mimetype": "text/x-python",
   "name": "python",
   "nbconvert_exporter": "python",
   "pygments_lexer": "ipython3",
   "version": "3.10.4"
  }
 },
 "nbformat": 4,
 "nbformat_minor": 4
}
