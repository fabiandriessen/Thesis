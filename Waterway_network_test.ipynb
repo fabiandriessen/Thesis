{
 "cells": [
  {
   "cell_type": "code",
   "execution_count": 1,
   "outputs": [],
   "source": [
    "from first_stage_frlm import first_stage_frlm\n",
    "from second_stage_frlm import second_stage_frlm\n",
    "from first_stage_frlm import get_minimal_subsets\n",
    "import networkx as nx\n",
    "import pandas as pd\n",
    "import itertools\n",
    "import matplotlib.pyplot as plt\n",
    "import random\n",
    "import itertools\n",
    "import pulp"
   ],
   "metadata": {
    "collapsed": false,
    "pycharm": {
     "name": "#%%\n"
    }
   }
  },
  {
   "cell_type": "code",
   "execution_count": 2,
   "outputs": [],
   "source": [
    "import pickle\n",
    "\n",
    "G=pickle.load( open('data/network_digital_twin_v0.2.pickle','rb'))"
   ],
   "metadata": {
    "collapsed": false,
    "pycharm": {
     "name": "#%%\n"
    }
   }
  },
  {
   "cell_type": "code",
   "execution_count": 3,
   "outputs": [],
   "source": [
    "#Get data from df\n",
    "df_links = nx.to_pandas_edgelist(G)\n",
    "df_nodes = pd.DataFrame.from_dict(dict(G.nodes(data=True)), orient='index')"
   ],
   "metadata": {
    "collapsed": false,
    "pycharm": {
     "name": "#%%\n"
    }
   }
  },
  {
   "cell_type": "code",
   "execution_count": 4,
   "outputs": [
    {
     "data": {
      "text/plain": "      source   target  lat_p50  nap_stdDev  nap_p10  nap_p50  \\\n232  8867817  8866426      NaN         NaN      NaN      NaN   \n\n     SeaFairingLength Classification  lat_count  length_deg  ...  lat_p95  \\\n232               NaN           CEMT          0         NaN  ...      NaN   \n\n       length_m  StartJunctionId  GeoType PushedLength  lat_p90  lat_p5  \\\n232  426.400769          8867817  section          NaN      NaN     NaN   \n\n     PushedWidth                                                Wkt  \\\n232          NaN  LINESTRING (4.28216894090561 51.7207661398166,...   \n\n    GeneralWidth  \n232          NaN  \n\n[1 rows x 53 columns]",
      "text/html": "<div>\n<style scoped>\n    .dataframe tbody tr th:only-of-type {\n        vertical-align: middle;\n    }\n\n    .dataframe tbody tr th {\n        vertical-align: top;\n    }\n\n    .dataframe thead th {\n        text-align: right;\n    }\n</style>\n<table border=\"1\" class=\"dataframe\">\n  <thead>\n    <tr style=\"text-align: right;\">\n      <th></th>\n      <th>source</th>\n      <th>target</th>\n      <th>lat_p50</th>\n      <th>nap_stdDev</th>\n      <th>nap_p10</th>\n      <th>nap_p50</th>\n      <th>SeaFairingLength</th>\n      <th>Classification</th>\n      <th>lat_count</th>\n      <th>length_deg</th>\n      <th>...</th>\n      <th>lat_p95</th>\n      <th>length_m</th>\n      <th>StartJunctionId</th>\n      <th>GeoType</th>\n      <th>PushedLength</th>\n      <th>lat_p90</th>\n      <th>lat_p5</th>\n      <th>PushedWidth</th>\n      <th>Wkt</th>\n      <th>GeneralWidth</th>\n    </tr>\n  </thead>\n  <tbody>\n    <tr>\n      <th>232</th>\n      <td>8867817</td>\n      <td>8866426</td>\n      <td>NaN</td>\n      <td>NaN</td>\n      <td>NaN</td>\n      <td>NaN</td>\n      <td>NaN</td>\n      <td>CEMT</td>\n      <td>0</td>\n      <td>NaN</td>\n      <td>...</td>\n      <td>NaN</td>\n      <td>426.400769</td>\n      <td>8867817</td>\n      <td>section</td>\n      <td>NaN</td>\n      <td>NaN</td>\n      <td>NaN</td>\n      <td>NaN</td>\n      <td>LINESTRING (4.28216894090561 51.7207661398166,...</td>\n      <td>NaN</td>\n    </tr>\n  </tbody>\n</table>\n<p>1 rows × 53 columns</p>\n</div>"
     },
     "execution_count": 4,
     "metadata": {},
     "output_type": "execute_result"
    }
   ],
   "source": [
    "df_links.loc[df_links.target == \"8866426\"]"
   ],
   "metadata": {
    "collapsed": false,
    "pycharm": {
     "name": "#%%\n"
    }
   }
  },
  {
   "cell_type": "code",
   "execution_count": 5,
   "outputs": [
    {
     "data": {
      "text/plain": "        source    target  lat_p50  nap_stdDev   nap_p10   nap_p50  \\\n8      8861581   8863189      NaN         NaN       NaN       NaN   \n10     8860954   8864050      NaN         NaN       NaN       NaN   \n15     8865802   8862540      NaN         NaN       NaN       NaN   \n16     8861605   8863756      NaN         NaN       NaN       NaN   \n22     8864595   8864137      NaN         NaN       NaN       NaN   \n...        ...       ...      ...         ...       ...       ...   \n14479  Berth20   Berth22      NaN    0.192602  0.968794  1.380204   \n14480  Berth21   8860919      NaN    0.120221  1.342185  1.541399   \n14481  Berth21   Berth22      NaN    0.025505  1.347982  1.366488   \n14487  Berth39   Berth40      NaN    0.109707 -6.139389 -6.017772   \n14489  Berth48  22638307      NaN    0.041879 -4.598217 -4.549976   \n\n       SeaFairingLength Classification  lat_count  length_deg  ...  lat_p95  \\\n8                   NaN           CEMT          0         NaN  ...      NaN   \n10                  NaN           CEMT          0         NaN  ...      NaN   \n15                  NaN           CEMT          0         NaN  ...      NaN   \n16                  NaN           CEMT          0         NaN  ...      NaN   \n22                175.0           CEMT          0         NaN  ...      NaN   \n...                 ...            ...        ...         ...  ...      ...   \n14479               NaN           CEMT          0         NaN  ...      NaN   \n14480               NaN           CEMT          0         NaN  ...      NaN   \n14481               NaN           CEMT          0         NaN  ...      NaN   \n14487             115.0           CEMT          0         NaN  ...      NaN   \n14489               NaN           CEMT          0         NaN  ...      NaN   \n\n          length_m  StartJunctionId  GeoType PushedLength  lat_p90  lat_p5  \\\n8       613.104746          8861581  section          NaN      NaN     NaN   \n10     1234.583805          8860954  section          NaN      NaN     NaN   \n15      576.337751          8865802  section          NaN      NaN     NaN   \n16      271.985423          8861605  section          NaN      NaN     NaN   \n22      116.684543          8864137  section          NaN      NaN     NaN   \n...            ...              ...      ...          ...      ...     ...   \n14479    40.250350          Berth20  section          NaN      NaN     NaN   \n14480    85.777056          Berth21  section          NaN      NaN     NaN   \n14481     5.033140          Berth22  section          NaN      NaN     NaN   \n14487   133.630830          Berth39  section          NaN      NaN     NaN   \n14489    16.952084          Berth48  section          NaN      NaN     NaN   \n\n       PushedWidth                                                Wkt  \\\n8              NaN  LINESTRING (6.05213774082153 53.1160238634629,...   \n10             NaN  LINESTRING (4.44741233930644 51.8818778559588,...   \n15             NaN  LINESTRING (4.4144439627459 51.9093040799995, ...   \n16             NaN  LINESTRING (4.4130241878863 51.9111080613344, ...   \n22             NaN  LINESTRING (4.63430154239131 51.7944041770278,...   \n...            ...                                                ...   \n14479          NaN  LINESTRING (6.090474005761066 51.8569340528272...   \n14480          NaN  LINESTRING (6.090733700735698 51.8572503422915...   \n14481          NaN  LINESTRING (6.090704836324389 51.8572151875520...   \n14487          NaN  LINESTRING (3.82593469906891 51.3222249113116,...   \n14489          NaN  LINESTRING (4.966947756078216 51.8279388662828...   \n\n      GeneralWidth  \n8              NaN  \n10             NaN  \n15             NaN  \n16             NaN  \n22             NaN  \n...            ...  \n14479          NaN  \n14480          NaN  \n14481          NaN  \n14487         16.0  \n14489          NaN  \n\n[1422 rows x 53 columns]",
      "text/html": "<div>\n<style scoped>\n    .dataframe tbody tr th:only-of-type {\n        vertical-align: middle;\n    }\n\n    .dataframe tbody tr th {\n        vertical-align: top;\n    }\n\n    .dataframe thead th {\n        text-align: right;\n    }\n</style>\n<table border=\"1\" class=\"dataframe\">\n  <thead>\n    <tr style=\"text-align: right;\">\n      <th></th>\n      <th>source</th>\n      <th>target</th>\n      <th>lat_p50</th>\n      <th>nap_stdDev</th>\n      <th>nap_p10</th>\n      <th>nap_p50</th>\n      <th>SeaFairingLength</th>\n      <th>Classification</th>\n      <th>lat_count</th>\n      <th>length_deg</th>\n      <th>...</th>\n      <th>lat_p95</th>\n      <th>length_m</th>\n      <th>StartJunctionId</th>\n      <th>GeoType</th>\n      <th>PushedLength</th>\n      <th>lat_p90</th>\n      <th>lat_p5</th>\n      <th>PushedWidth</th>\n      <th>Wkt</th>\n      <th>GeneralWidth</th>\n    </tr>\n  </thead>\n  <tbody>\n    <tr>\n      <th>8</th>\n      <td>8861581</td>\n      <td>8863189</td>\n      <td>NaN</td>\n      <td>NaN</td>\n      <td>NaN</td>\n      <td>NaN</td>\n      <td>NaN</td>\n      <td>CEMT</td>\n      <td>0</td>\n      <td>NaN</td>\n      <td>...</td>\n      <td>NaN</td>\n      <td>613.104746</td>\n      <td>8861581</td>\n      <td>section</td>\n      <td>NaN</td>\n      <td>NaN</td>\n      <td>NaN</td>\n      <td>NaN</td>\n      <td>LINESTRING (6.05213774082153 53.1160238634629,...</td>\n      <td>NaN</td>\n    </tr>\n    <tr>\n      <th>10</th>\n      <td>8860954</td>\n      <td>8864050</td>\n      <td>NaN</td>\n      <td>NaN</td>\n      <td>NaN</td>\n      <td>NaN</td>\n      <td>NaN</td>\n      <td>CEMT</td>\n      <td>0</td>\n      <td>NaN</td>\n      <td>...</td>\n      <td>NaN</td>\n      <td>1234.583805</td>\n      <td>8860954</td>\n      <td>section</td>\n      <td>NaN</td>\n      <td>NaN</td>\n      <td>NaN</td>\n      <td>NaN</td>\n      <td>LINESTRING (4.44741233930644 51.8818778559588,...</td>\n      <td>NaN</td>\n    </tr>\n    <tr>\n      <th>15</th>\n      <td>8865802</td>\n      <td>8862540</td>\n      <td>NaN</td>\n      <td>NaN</td>\n      <td>NaN</td>\n      <td>NaN</td>\n      <td>NaN</td>\n      <td>CEMT</td>\n      <td>0</td>\n      <td>NaN</td>\n      <td>...</td>\n      <td>NaN</td>\n      <td>576.337751</td>\n      <td>8865802</td>\n      <td>section</td>\n      <td>NaN</td>\n      <td>NaN</td>\n      <td>NaN</td>\n      <td>NaN</td>\n      <td>LINESTRING (4.4144439627459 51.9093040799995, ...</td>\n      <td>NaN</td>\n    </tr>\n    <tr>\n      <th>16</th>\n      <td>8861605</td>\n      <td>8863756</td>\n      <td>NaN</td>\n      <td>NaN</td>\n      <td>NaN</td>\n      <td>NaN</td>\n      <td>NaN</td>\n      <td>CEMT</td>\n      <td>0</td>\n      <td>NaN</td>\n      <td>...</td>\n      <td>NaN</td>\n      <td>271.985423</td>\n      <td>8861605</td>\n      <td>section</td>\n      <td>NaN</td>\n      <td>NaN</td>\n      <td>NaN</td>\n      <td>NaN</td>\n      <td>LINESTRING (4.4130241878863 51.9111080613344, ...</td>\n      <td>NaN</td>\n    </tr>\n    <tr>\n      <th>22</th>\n      <td>8864595</td>\n      <td>8864137</td>\n      <td>NaN</td>\n      <td>NaN</td>\n      <td>NaN</td>\n      <td>NaN</td>\n      <td>175.0</td>\n      <td>CEMT</td>\n      <td>0</td>\n      <td>NaN</td>\n      <td>...</td>\n      <td>NaN</td>\n      <td>116.684543</td>\n      <td>8864137</td>\n      <td>section</td>\n      <td>NaN</td>\n      <td>NaN</td>\n      <td>NaN</td>\n      <td>NaN</td>\n      <td>LINESTRING (4.63430154239131 51.7944041770278,...</td>\n      <td>NaN</td>\n    </tr>\n    <tr>\n      <th>...</th>\n      <td>...</td>\n      <td>...</td>\n      <td>...</td>\n      <td>...</td>\n      <td>...</td>\n      <td>...</td>\n      <td>...</td>\n      <td>...</td>\n      <td>...</td>\n      <td>...</td>\n      <td>...</td>\n      <td>...</td>\n      <td>...</td>\n      <td>...</td>\n      <td>...</td>\n      <td>...</td>\n      <td>...</td>\n      <td>...</td>\n      <td>...</td>\n      <td>...</td>\n      <td>...</td>\n    </tr>\n    <tr>\n      <th>14479</th>\n      <td>Berth20</td>\n      <td>Berth22</td>\n      <td>NaN</td>\n      <td>0.192602</td>\n      <td>0.968794</td>\n      <td>1.380204</td>\n      <td>NaN</td>\n      <td>CEMT</td>\n      <td>0</td>\n      <td>NaN</td>\n      <td>...</td>\n      <td>NaN</td>\n      <td>40.250350</td>\n      <td>Berth20</td>\n      <td>section</td>\n      <td>NaN</td>\n      <td>NaN</td>\n      <td>NaN</td>\n      <td>NaN</td>\n      <td>LINESTRING (6.090474005761066 51.8569340528272...</td>\n      <td>NaN</td>\n    </tr>\n    <tr>\n      <th>14480</th>\n      <td>Berth21</td>\n      <td>8860919</td>\n      <td>NaN</td>\n      <td>0.120221</td>\n      <td>1.342185</td>\n      <td>1.541399</td>\n      <td>NaN</td>\n      <td>CEMT</td>\n      <td>0</td>\n      <td>NaN</td>\n      <td>...</td>\n      <td>NaN</td>\n      <td>85.777056</td>\n      <td>Berth21</td>\n      <td>section</td>\n      <td>NaN</td>\n      <td>NaN</td>\n      <td>NaN</td>\n      <td>NaN</td>\n      <td>LINESTRING (6.090733700735698 51.8572503422915...</td>\n      <td>NaN</td>\n    </tr>\n    <tr>\n      <th>14481</th>\n      <td>Berth21</td>\n      <td>Berth22</td>\n      <td>NaN</td>\n      <td>0.025505</td>\n      <td>1.347982</td>\n      <td>1.366488</td>\n      <td>NaN</td>\n      <td>CEMT</td>\n      <td>0</td>\n      <td>NaN</td>\n      <td>...</td>\n      <td>NaN</td>\n      <td>5.033140</td>\n      <td>Berth22</td>\n      <td>section</td>\n      <td>NaN</td>\n      <td>NaN</td>\n      <td>NaN</td>\n      <td>NaN</td>\n      <td>LINESTRING (6.090704836324389 51.8572151875520...</td>\n      <td>NaN</td>\n    </tr>\n    <tr>\n      <th>14487</th>\n      <td>Berth39</td>\n      <td>Berth40</td>\n      <td>NaN</td>\n      <td>0.109707</td>\n      <td>-6.139389</td>\n      <td>-6.017772</td>\n      <td>115.0</td>\n      <td>CEMT</td>\n      <td>0</td>\n      <td>NaN</td>\n      <td>...</td>\n      <td>NaN</td>\n      <td>133.630830</td>\n      <td>Berth39</td>\n      <td>section</td>\n      <td>NaN</td>\n      <td>NaN</td>\n      <td>NaN</td>\n      <td>NaN</td>\n      <td>LINESTRING (3.82593469906891 51.3222249113116,...</td>\n      <td>16.0</td>\n    </tr>\n    <tr>\n      <th>14489</th>\n      <td>Berth48</td>\n      <td>22638307</td>\n      <td>NaN</td>\n      <td>0.041879</td>\n      <td>-4.598217</td>\n      <td>-4.549976</td>\n      <td>NaN</td>\n      <td>CEMT</td>\n      <td>0</td>\n      <td>NaN</td>\n      <td>...</td>\n      <td>NaN</td>\n      <td>16.952084</td>\n      <td>Berth48</td>\n      <td>section</td>\n      <td>NaN</td>\n      <td>NaN</td>\n      <td>NaN</td>\n      <td>NaN</td>\n      <td>LINESTRING (4.966947756078216 51.8279388662828...</td>\n      <td>NaN</td>\n    </tr>\n  </tbody>\n</table>\n<p>1422 rows × 53 columns</p>\n</div>"
     },
     "execution_count": 5,
     "metadata": {},
     "output_type": "execute_result"
    }
   ],
   "source": [
    "df_links.loc[df_links.Name=='Vaarwegvak van 0 tot 0 - H'].dropna(how='all')\n",
    "# df_links.loc[df_links.target == \"8866426\"]\n",
    "# df_nodes.loc[df_nodes.index==\"30534997\"].dropna(axais=1)"
   ],
   "metadata": {
    "collapsed": false,
    "pycharm": {
     "name": "#%%\n"
    }
   }
  },
  {
   "cell_type": "code",
   "execution_count": 6,
   "outputs": [],
   "source": [
    "a=df_nodes.index"
   ],
   "metadata": {
    "collapsed": false,
    "pycharm": {
     "name": "#%%\n"
    }
   }
  },
  {
   "cell_type": "code",
   "execution_count": 7,
   "outputs": [],
   "source": [
    "berths = []\n",
    "for harbour in a:\n",
    "    if \"Berth\" in harbour:\n",
    "        berths.append(harbour)"
   ],
   "metadata": {
    "collapsed": false,
    "pycharm": {
     "name": "#%%\n"
    }
   }
  },
  {
   "cell_type": "markdown",
   "source": [
    "## Random origin and destination picked using:\n",
    "\n",
    "https://deploy-preview-19–digitwin-waterways.netlify.app/#/\n",
    "\n",
    "(8860852, B43966_B, 10) (8860852, B27067_B, 5)\n",
    "\n",
    "Now check if it works with two scripts!"
   ],
   "metadata": {
    "collapsed": false,
    "pycharm": {
     "name": "#%% md\n"
    }
   }
  },
  {
   "cell_type": "code",
   "execution_count": null,
   "outputs": [],
   "source": [
    "# scripts clearly still need to be adjusted to new network slightly"
   ],
   "metadata": {
    "collapsed": false,
    "pycharm": {
     "name": "#%%\n"
    }
   }
  },
  {
   "cell_type": "code",
   "execution_count": 8,
   "outputs": [
    {
     "name": "stdout",
     "output_type": "stream",
     "text": [
      "{('8860852', '8862426'): 16159.45677737489}\n"
     ]
    }
   ],
   "source": [
    "df_b, df_g, df_eq_fq = first_stage_frlm(G, 10*(10^3), [(\"8860852\", \"8862426\", 10)])"
   ],
   "metadata": {
    "collapsed": false,
    "pycharm": {
     "name": "#%%\n"
    }
   }
  },
  {
   "cell_type": "code",
   "execution_count": 9,
   "outputs": [
    {
     "data": {
      "text/plain": "Empty DataFrame\nColumns: []\nIndex: [(8860852, 8862426)]",
      "text/html": "<div>\n<style scoped>\n    .dataframe tbody tr th:only-of-type {\n        vertical-align: middle;\n    }\n\n    .dataframe tbody tr th {\n        vertical-align: top;\n    }\n\n    .dataframe thead th {\n        text-align: right;\n    }\n</style>\n<table border=\"1\" class=\"dataframe\">\n  <thead>\n    <tr style=\"text-align: right;\">\n      <th></th>\n    </tr>\n    <tr>\n      <th>q</th>\n    </tr>\n  </thead>\n  <tbody>\n    <tr>\n      <th>(8860852, 8862426)</th>\n    </tr>\n  </tbody>\n</table>\n</div>"
     },
     "execution_count": 9,
     "metadata": {},
     "output_type": "execute_result"
    }
   ],
   "source": [
    "df_b"
   ],
   "metadata": {
    "collapsed": false,
    "pycharm": {
     "name": "#%%\n"
    }
   }
  },
  {
   "cell_type": "code",
   "execution_count": 10,
   "outputs": [
    {
     "ename": "KeyError",
     "evalue": "0",
     "output_type": "error",
     "traceback": [
      "\u001B[1;31m---------------------------------------------------------------------------\u001B[0m",
      "\u001B[1;31mKeyError\u001B[0m                                  Traceback (most recent call last)",
      "Input \u001B[1;32mIn [10]\u001B[0m, in \u001B[0;36m<cell line: 1>\u001B[1;34m()\u001B[0m\n\u001B[1;32m----> 1\u001B[0m locations \u001B[38;5;241m=\u001B[39m \u001B[43msecond_stage_frlm\u001B[49m\u001B[43m(\u001B[49m\u001B[38;5;241;43m10\u001B[39;49m\u001B[43m,\u001B[49m\u001B[43m \u001B[49m\u001B[38;5;241;43m20\u001B[39;49m\u001B[43m,\u001B[49m\u001B[43m \u001B[49m\u001B[43mdf_g\u001B[49m\u001B[43m,\u001B[49m\u001B[43m \u001B[49m\u001B[43mdf_b\u001B[49m\u001B[43m,\u001B[49m\u001B[43m \u001B[49m\u001B[43mdf_eq_fq\u001B[49m\u001B[43m)\u001B[49m\n",
      "File \u001B[1;32m~\\Documents\\GitHub\\Thesis\\second_stage_frlm.py:54\u001B[0m, in \u001B[0;36msecond_stage_frlm\u001B[1;34m(p, c, df_g, df_b, df_eq_fq)\u001B[0m\n\u001B[0;32m     50\u001B[0m     model\u001B[38;5;241m+\u001B[39m\u001B[38;5;241m=\u001B[39m pulp\u001B[38;5;241m.\u001B[39mlpSum(df_eq_fq[\u001B[38;5;124m'\u001B[39m\u001B[38;5;124me_q\u001B[39m\u001B[38;5;124m'\u001B[39m][q] \u001B[38;5;241m*\u001B[39m df_g[key]\u001B[38;5;241m.\u001B[39mloc[df_g\u001B[38;5;241m.\u001B[39mindex \u001B[38;5;241m==\u001B[39m (q,h)] \u001B[38;5;241m*\u001B[39m df_eq_fq[\u001B[38;5;124m'\u001B[39m\u001B[38;5;124mf_q\u001B[39m\u001B[38;5;124m'\u001B[39m][q] \u001B[38;5;241m*\u001B[39m\n\u001B[0;32m     51\u001B[0m                        flow_allocation[q,h] \u001B[38;5;28;01mfor\u001B[39;00m q,h \u001B[38;5;129;01min\u001B[39;00m df_g\u001B[38;5;241m.\u001B[39mindex) \u001B[38;5;241m<\u001B[39m\u001B[38;5;241m=\u001B[39m pulp\u001B[38;5;241m.\u001B[39mlpSum(c\u001B[38;5;241m*\u001B[39m facility)\n\u001B[0;32m     53\u001B[0m \u001B[38;5;66;03m#second constraint\u001B[39;00m\n\u001B[1;32m---> 54\u001B[0m model \u001B[38;5;241m+\u001B[39m\u001B[38;5;241m=\u001B[39m \u001B[43mpulp\u001B[49m\u001B[38;5;241;43m.\u001B[39;49m\u001B[43mlpSum\u001B[49m\u001B[43m(\u001B[49m\u001B[43mfacilities_to_build\u001B[49m\u001B[43m[\u001B[49m\u001B[43mi\u001B[49m\u001B[43m]\u001B[49m\u001B[43m \u001B[49m\u001B[38;5;28;43;01mfor\u001B[39;49;00m\u001B[43m \u001B[49m\u001B[43mi\u001B[49m\u001B[43m \u001B[49m\u001B[38;5;129;43;01min\u001B[39;49;00m\u001B[43m \u001B[49m\u001B[38;5;28;43mrange\u001B[39;49m\u001B[43m(\u001B[49m\u001B[38;5;28;43mlen\u001B[39;49m\u001B[43m(\u001B[49m\u001B[43mfacilities_to_build\u001B[49m\u001B[38;5;241;43m.\u001B[39;49m\u001B[43mkeys\u001B[49m\u001B[43m(\u001B[49m\u001B[43m)\u001B[49m\u001B[43m)\u001B[49m\u001B[43m)\u001B[49m\u001B[43m)\u001B[49m \u001B[38;5;241m<\u001B[39m\u001B[38;5;241m=\u001B[39m p\n\u001B[0;32m     56\u001B[0m \u001B[38;5;66;03m#third constraint\u001B[39;00m\n\u001B[0;32m     57\u001B[0m \u001B[38;5;28;01mfor\u001B[39;00m q \u001B[38;5;129;01min\u001B[39;00m df_b\u001B[38;5;241m.\u001B[39mindex:\n",
      "File \u001B[1;32m~\\Anaconda3\\envs\\ox\\lib\\site-packages\\pulp\\pulp.py:2281\u001B[0m, in \u001B[0;36mlpSum\u001B[1;34m(vector)\u001B[0m\n\u001B[0;32m   2275\u001B[0m \u001B[38;5;28;01mdef\u001B[39;00m \u001B[38;5;21mlpSum\u001B[39m(vector):\n\u001B[0;32m   2276\u001B[0m     \u001B[38;5;124;03m\"\"\"\u001B[39;00m\n\u001B[0;32m   2277\u001B[0m \u001B[38;5;124;03m    Calculate the sum of a list of linear expressions\u001B[39;00m\n\u001B[0;32m   2278\u001B[0m \n\u001B[0;32m   2279\u001B[0m \u001B[38;5;124;03m    :param vector: A list of linear expressions\u001B[39;00m\n\u001B[0;32m   2280\u001B[0m \u001B[38;5;124;03m    \"\"\"\u001B[39;00m\n\u001B[1;32m-> 2281\u001B[0m     \u001B[38;5;28;01mreturn\u001B[39;00m \u001B[43mLpAffineExpression\u001B[49m\u001B[43m(\u001B[49m\u001B[43m)\u001B[49m\u001B[38;5;241;43m.\u001B[39;49m\u001B[43maddInPlace\u001B[49m\u001B[43m(\u001B[49m\u001B[43mvector\u001B[49m\u001B[43m)\u001B[49m\n",
      "File \u001B[1;32m~\\Anaconda3\\envs\\ox\\lib\\site-packages\\pulp\\pulp.py:896\u001B[0m, in \u001B[0;36mLpAffineExpression.addInPlace\u001B[1;34m(self, other)\u001B[0m\n\u001B[0;32m    894\u001B[0m         \u001B[38;5;28mself\u001B[39m\u001B[38;5;241m.\u001B[39maddInPlace(e)\n\u001B[0;32m    895\u001B[0m \u001B[38;5;28;01melif\u001B[39;00m \u001B[38;5;28misinstance\u001B[39m(other, \u001B[38;5;28mlist\u001B[39m) \u001B[38;5;129;01mor\u001B[39;00m \u001B[38;5;28misinstance\u001B[39m(other, Iterable):\n\u001B[1;32m--> 896\u001B[0m     \u001B[38;5;28;01mfor\u001B[39;00m e \u001B[38;5;129;01min\u001B[39;00m other:\n\u001B[0;32m    897\u001B[0m         \u001B[38;5;28mself\u001B[39m\u001B[38;5;241m.\u001B[39maddInPlace(e)\n\u001B[0;32m    898\u001B[0m \u001B[38;5;28;01melse\u001B[39;00m:\n",
      "File \u001B[1;32m~\\Documents\\GitHub\\Thesis\\second_stage_frlm.py:54\u001B[0m, in \u001B[0;36m<genexpr>\u001B[1;34m(.0)\u001B[0m\n\u001B[0;32m     50\u001B[0m     model\u001B[38;5;241m+\u001B[39m\u001B[38;5;241m=\u001B[39m pulp\u001B[38;5;241m.\u001B[39mlpSum(df_eq_fq[\u001B[38;5;124m'\u001B[39m\u001B[38;5;124me_q\u001B[39m\u001B[38;5;124m'\u001B[39m][q] \u001B[38;5;241m*\u001B[39m df_g[key]\u001B[38;5;241m.\u001B[39mloc[df_g\u001B[38;5;241m.\u001B[39mindex \u001B[38;5;241m==\u001B[39m (q,h)] \u001B[38;5;241m*\u001B[39m df_eq_fq[\u001B[38;5;124m'\u001B[39m\u001B[38;5;124mf_q\u001B[39m\u001B[38;5;124m'\u001B[39m][q] \u001B[38;5;241m*\u001B[39m\n\u001B[0;32m     51\u001B[0m                        flow_allocation[q,h] \u001B[38;5;28;01mfor\u001B[39;00m q,h \u001B[38;5;129;01min\u001B[39;00m df_g\u001B[38;5;241m.\u001B[39mindex) \u001B[38;5;241m<\u001B[39m\u001B[38;5;241m=\u001B[39m pulp\u001B[38;5;241m.\u001B[39mlpSum(c\u001B[38;5;241m*\u001B[39m facility)\n\u001B[0;32m     53\u001B[0m \u001B[38;5;66;03m#second constraint\u001B[39;00m\n\u001B[1;32m---> 54\u001B[0m model \u001B[38;5;241m+\u001B[39m\u001B[38;5;241m=\u001B[39m pulp\u001B[38;5;241m.\u001B[39mlpSum(\u001B[43mfacilities_to_build\u001B[49m\u001B[43m[\u001B[49m\u001B[43mi\u001B[49m\u001B[43m]\u001B[49m \u001B[38;5;28;01mfor\u001B[39;00m i \u001B[38;5;129;01min\u001B[39;00m \u001B[38;5;28mrange\u001B[39m(\u001B[38;5;28mlen\u001B[39m(facilities_to_build\u001B[38;5;241m.\u001B[39mkeys()))) \u001B[38;5;241m<\u001B[39m\u001B[38;5;241m=\u001B[39m p\n\u001B[0;32m     56\u001B[0m \u001B[38;5;66;03m#third constraint\u001B[39;00m\n\u001B[0;32m     57\u001B[0m \u001B[38;5;28;01mfor\u001B[39;00m q \u001B[38;5;129;01min\u001B[39;00m df_b\u001B[38;5;241m.\u001B[39mindex:\n",
      "\u001B[1;31mKeyError\u001B[0m: 0"
     ]
    }
   ],
   "source": [
    "locations = second_stage_frlm(10, 20, df_g, df_b, df_eq_fq)"
   ],
   "metadata": {
    "collapsed": false,
    "pycharm": {
     "name": "#%%\n"
    }
   }
  },
  {
   "cell_type": "code",
   "execution_count": null,
   "outputs": [],
   "source": [],
   "metadata": {
    "collapsed": false,
    "pycharm": {
     "name": "#%%\n"
    }
   }
  }
 ],
 "metadata": {
  "kernelspec": {
   "display_name": "Python 3",
   "language": "python",
   "name": "python3"
  },
  "language_info": {
   "codemirror_mode": {
    "name": "ipython",
    "version": 2
   },
   "file_extension": ".py",
   "mimetype": "text/x-python",
   "name": "python",
   "nbconvert_exporter": "python",
   "pygments_lexer": "ipython2",
   "version": "2.7.6"
  }
 },
 "nbformat": 4,
 "nbformat_minor": 0
}