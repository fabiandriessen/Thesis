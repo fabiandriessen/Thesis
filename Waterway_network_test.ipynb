{
 "cells": [
  {
   "cell_type": "code",
   "execution_count": 1,
   "outputs": [],
   "source": [
    "from first_stage_frlm import first_stage_frlm\n",
    "from second_stage_frlm import second_stage_frlm\n",
    "from visualize_placement import visualize_placement\n",
    "import networkx as nx\n",
    "import pickle\n",
    "import matplotlib.pyplot as plt"
   ],
   "metadata": {
    "collapsed": false,
    "pycharm": {
     "name": "#%%\n"
    }
   }
  },
  {
   "cell_type": "code",
   "execution_count": 2,
   "outputs": [],
   "source": [
    "G = pickle.load( open('data/network_digital_twin_v0.2.pickle','rb'))"
   ],
   "metadata": {
    "collapsed": false,
    "pycharm": {
     "name": "#%%\n"
    }
   }
  },
  {
   "cell_type": "code",
   "execution_count": 3,
   "outputs": [],
   "source": [
    "a = nx.shortest_path(G,\"8864461\", \"8860547\", weight='length_m')\n",
    "harbour_exits = pickle.load( open(\"data/berth_nodes.p\", \"rb\") )"
   ],
   "metadata": {
    "collapsed": false,
    "pycharm": {
     "name": "#%%\n"
    }
   }
  },
  {
   "cell_type": "code",
   "execution_count": 4,
   "outputs": [
    {
     "data": {
      "text/plain": "Index(['Berth57', 'Berth51', 'Berth73', 'Berth184', 'Berth201'], dtype='object')"
     },
     "execution_count": 4,
     "metadata": {},
     "output_type": "execute_result"
    }
   ],
   "source": [
    "harbour_exits[:5]"
   ],
   "metadata": {
    "collapsed": false,
    "pycharm": {
     "name": "#%%\n"
    }
   }
  },
  {
   "cell_type": "code",
   "execution_count": 5,
   "outputs": [
    {
     "ename": "IndexError",
     "evalue": "list index out of range",
     "output_type": "error",
     "traceback": [
      "\u001B[1;31m---------------------------------------------------------------------------\u001B[0m",
      "\u001B[1;31mIndexError\u001B[0m                                Traceback (most recent call last)",
      "Input \u001B[1;32mIn [5]\u001B[0m, in \u001B[0;36m<cell line: 3>\u001B[1;34m()\u001B[0m\n\u001B[0;32m      1\u001B[0m \u001B[38;5;66;03m# Let's see whether the program works for the route from Brielle to Schwinhaven (near Zwijndrecht)\u001B[39;00m\n\u001B[0;32m      2\u001B[0m \u001B[38;5;66;03m#now also added\u001B[39;00m\n\u001B[1;32m----> 3\u001B[0m df_b, df_g, df_eq_fq \u001B[38;5;241m=\u001B[39m \u001B[43mfirst_stage_frlm\u001B[49m\u001B[43m(\u001B[49m\u001B[43mG\u001B[49m\u001B[43m,\u001B[49m\u001B[43m \u001B[49m\u001B[38;5;241;43m40000\u001B[39;49m\u001B[43m,\u001B[49m\u001B[43m \u001B[49m\u001B[43m[\u001B[49m\u001B[43m(\u001B[49m\u001B[38;5;124;43m\"\u001B[39;49m\u001B[38;5;124;43m8864461\u001B[39;49m\u001B[38;5;124;43m\"\u001B[39;49m\u001B[43m,\u001B[49m\u001B[43m \u001B[49m\u001B[38;5;124;43m\"\u001B[39;49m\u001B[38;5;124;43m8860547\u001B[39;49m\u001B[38;5;124;43m\"\u001B[39;49m\u001B[43m,\u001B[49m\u001B[43m \u001B[49m\u001B[38;5;241;43m30\u001B[39;49m\u001B[43m)\u001B[49m\u001B[43m]\u001B[49m\u001B[43m)\u001B[49m\n",
      "File \u001B[1;32m~\\Documents\\GitHub\\Thesis\\first_stage_frlm.py:78\u001B[0m, in \u001B[0;36mfirst_stage_frlm\u001B[1;34m(G, r, OD)\u001B[0m\n\u001B[0;32m     74\u001B[0m dict_eq_fq[\u001B[38;5;124m'\u001B[39m\u001B[38;5;124me_q\u001B[39m\u001B[38;5;124m'\u001B[39m]\u001B[38;5;241m.\u001B[39mappend((\u001B[38;5;241m1\u001B[39m \u001B[38;5;241m/\u001B[39m (\u001B[38;5;28mmax\u001B[39m(\u001B[38;5;241m1\u001B[39m, \u001B[38;5;28mint\u001B[39m(r \u001B[38;5;241m/\u001B[39m (path_lengths[(origin, destination)] \u001B[38;5;241m*\u001B[39m \u001B[38;5;241m2\u001B[39m))))))\n\u001B[0;32m     76\u001B[0m \u001B[38;5;66;03m# Too many harbours... Q: What is the distance between harbours on each route?\u001B[39;00m\n\u001B[0;32m     77\u001B[0m \u001B[38;5;66;03m# print('Observing route:', (origin,destination))\u001B[39;00m\n\u001B[1;32m---> 78\u001B[0m cleaned_harbours \u001B[38;5;241m=\u001B[39m [\u001B[43mharbours\u001B[49m\u001B[43m[\u001B[49m\u001B[43m(\u001B[49m\u001B[43morigin\u001B[49m\u001B[43m,\u001B[49m\u001B[43m \u001B[49m\u001B[43mdestination\u001B[49m\u001B[43m)\u001B[49m\u001B[43m]\u001B[49m\u001B[43m[\u001B[49m\u001B[38;5;241;43m0\u001B[39;49m\u001B[43m]\u001B[49m]\n\u001B[0;32m     79\u001B[0m \u001B[38;5;28;01mfor\u001B[39;00m index \u001B[38;5;129;01min\u001B[39;00m \u001B[38;5;28mrange\u001B[39m(\u001B[38;5;28mlen\u001B[39m(harbours[(origin, destination)])\u001B[38;5;241m-\u001B[39m\u001B[38;5;241m1\u001B[39m):\n\u001B[0;32m     80\u001B[0m     dist \u001B[38;5;241m=\u001B[39m nx\u001B[38;5;241m.\u001B[39mdijkstra_path_length(G, cleaned_harbours[\u001B[38;5;241m-\u001B[39m\u001B[38;5;241m1\u001B[39m], harbours[(origin,destination)][index\u001B[38;5;241m+\u001B[39m\u001B[38;5;241m1\u001B[39m], weight\u001B[38;5;241m=\u001B[39m\u001B[38;5;124m'\u001B[39m\u001B[38;5;124mlength_m\u001B[39m\u001B[38;5;124m'\u001B[39m)\n",
      "\u001B[1;31mIndexError\u001B[0m: list index out of range"
     ]
    }
   ],
   "source": [
    "# Let's see whether the program works for the route from Brielle to Schwinhaven (near Zwijndrecht)\n",
    "#now also added\n",
    "df_b, df_g, df_eq_fq = first_stage_frlm(G, 40000, [(\"8864461\", \"8860547\", 30)])"
   ],
   "metadata": {
    "collapsed": false,
    "pycharm": {
     "name": "#%%\n"
    }
   }
  },
  {
   "cell_type": "code",
   "execution_count": null,
   "outputs": [],
   "source": [
    "df_b"
   ],
   "metadata": {
    "collapsed": false,
    "pycharm": {
     "name": "#%%\n"
    }
   }
  },
  {
   "cell_type": "code",
   "execution_count": null,
   "outputs": [],
   "source": [
    "df_g"
   ],
   "metadata": {
    "collapsed": false,
    "pycharm": {
     "name": "#%%\n"
    }
   }
  },
  {
   "cell_type": "code",
   "execution_count": null,
   "outputs": [],
   "source": [
    "df_eq_fq"
   ],
   "metadata": {
    "collapsed": false,
    "pycharm": {
     "name": "#%%\n"
    }
   }
  },
  {
   "cell_type": "code",
   "execution_count": null,
   "outputs": [],
   "source": [
    "optimal_facilities, optimal_flows = second_stage_frlm(6, 20, df_g, df_b, df_eq_fq)"
   ],
   "metadata": {
    "collapsed": false,
    "pycharm": {
     "name": "#%%\n"
    }
   }
  },
  {
   "cell_type": "code",
   "execution_count": null,
   "outputs": [],
   "source": [
    "optimal_flows"
   ],
   "metadata": {
    "collapsed": false,
    "pycharm": {
     "name": "#%%\n"
    }
   }
  },
  {
   "cell_type": "markdown",
   "source": [
    "## Seems to go quite okay!\n",
    "Also try with multiple OD sets for illustration"
   ],
   "metadata": {
    "collapsed": false,
    "pycharm": {
     "name": "#%% md\n"
    }
   }
  },
  {
   "cell_type": "code",
   "execution_count": null,
   "outputs": [],
   "source": [
    "#now also added: Brielle to Middelharnis and Brielle to Ridderkerk\n",
    "%time df_b, df_g, df_eq_fq = first_stage_frlm(G, 60000, [(\"8864461\", \"8860547\", 30), (\"8864461\", \"8862620\", 20), (\"8864461\", \"8860687\", 10)])"
   ],
   "metadata": {
    "collapsed": false,
    "pycharm": {
     "name": "#%%\n"
    }
   }
  },
  {
   "cell_type": "code",
   "execution_count": null,
   "outputs": [],
   "source": [
    "df_b"
   ],
   "metadata": {
    "collapsed": false,
    "pycharm": {
     "name": "#%%\n"
    }
   }
  },
  {
   "cell_type": "code",
   "execution_count": null,
   "outputs": [],
   "source": [
    "df_g"
   ],
   "metadata": {
    "collapsed": false,
    "pycharm": {
     "name": "#%%\n"
    }
   }
  },
  {
   "cell_type": "code",
   "execution_count": null,
   "outputs": [],
   "source": [
    "%time optimal_facilities, optimal_flows = second_stage_frlm(7, 20, df_g, df_b, df_eq_fq)"
   ],
   "metadata": {
    "collapsed": false,
    "pycharm": {
     "name": "#%%\n"
    }
   }
  },
  {
   "cell_type": "code",
   "execution_count": null,
   "outputs": [],
   "source": [
    "optimal_facilities"
   ],
   "metadata": {
    "collapsed": false,
    "pycharm": {
     "name": "#%%\n"
    }
   }
  },
  {
   "cell_type": "code",
   "execution_count": null,
   "outputs": [],
   "source": [
    "# Draw network, routes and charging stations\n",
    "\n",
    "#Define new graph H with only nodes and edges in routes\n",
    "\n",
    "OD_list = [(\"8864461\", \"8860547\", 30), (\"8864461\", \"8862620\", 20), (\"8864461\", \"8860687\", 10)]\n",
    "\n",
    "# OD_list = [(\"8864461\", \"8860547\", 30)]#, (\"8864461\", \"8862620\", 20), (\"8864461\", \"8860687\", 10)]\n",
    "\n",
    "# OD_list = [(\"8864991\", \"8863072\", 10)]\n",
    "node_list =[]\n",
    "for origin, destination, flow in OD_list:\n",
    "    for node in nx.dijkstra_path(G, origin, destination, weight='length_m'):\n",
    "        if node not in node_list:\n",
    "            node_list.append(node)\n",
    "\n",
    "H = G.subgraph(node_list)\n",
    "\n",
    "#create pos dict\n",
    "pos_dict = {}\n",
    "for node in node_list:\n",
    "    pos_dict[node] = (G.nodes[node]['X'],G.nodes[node]['Y'])\n",
    "\n",
    "\n",
    "\n",
    "\n",
    "\n",
    "other_ks =[]\n",
    "fuel_stations = []\n",
    "\n",
    "for key, number_of_stations in optimal_facilities.items():\n",
    "    if number_of_stations > 0:\n",
    "        fuel_stations.append(key)\n",
    "    else:\n",
    "        other_ks.append(key)\n",
    "\n",
    "\n",
    "# x = nx.get_node_attributes(H, 'X')\n",
    "# y = nx.get_node_attributes(H, 'Y')\n",
    "\n",
    "# for key, item in x.items():\n",
    "#     pos_dict[key] = (x[key],y[key])\n",
    "# pos = (x,y)\n",
    "    # print(pos)\n",
    "\n",
    "# print(fuel_stations)\n",
    "# H2 = H.subgraph[fuel_stations]\n",
    "#\n",
    "nx.draw_networkx_edges(H, pos = pos_dict)\n",
    "\n",
    "nx.draw_networkx_nodes(G,pos_dict, fuel_stations, node_color='red')\n",
    "nx.draw_networkx_nodes(G,pos_dict,other_ks, node_color='blue')\n",
    "plt.show()"
   ],
   "metadata": {
    "collapsed": false,
    "pycharm": {
     "name": "#%%\n"
    }
   }
  },
  {
   "cell_type": "code",
   "execution_count": null,
   "outputs": [],
   "source": [
    "OD_list = [(\"8864461\", \"8860547\", 30), (\"8864461\", \"8862620\", 20), (\"8864461\", \"8860687\", 10)]\n"
   ],
   "metadata": {
    "collapsed": false,
    "pycharm": {
     "name": "#%%\n"
    }
   }
  },
  {
   "cell_type": "code",
   "execution_count": null,
   "outputs": [],
   "source": [
    "visualize_placement(G, OD_list, optimal_facilities, True)"
   ],
   "metadata": {
    "collapsed": false,
    "pycharm": {
     "name": "#%%\n"
    }
   }
  },
  {
   "cell_type": "code",
   "execution_count": null,
   "outputs": [],
   "source": [],
   "metadata": {
    "collapsed": false,
    "pycharm": {
     "name": "#%%\n"
    }
   }
  }
 ],
 "metadata": {
  "kernelspec": {
   "display_name": "Python 3",
   "language": "python",
   "name": "python3"
  },
  "language_info": {
   "codemirror_mode": {
    "name": "ipython",
    "version": 2
   },
   "file_extension": ".py",
   "mimetype": "text/x-python",
   "name": "python",
   "nbconvert_exporter": "python",
   "pygments_lexer": "ipython2",
   "version": "2.7.6"
  }
 },
 "nbformat": 4,
 "nbformat_minor": 0
}