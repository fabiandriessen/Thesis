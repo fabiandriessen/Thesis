{
 "cells": [
  {
   "cell_type": "code",
   "execution_count": 1,
   "outputs": [],
   "source": [
    "from first_stage_frlm import first_stage_frlm\n",
    "from second_stage_frlm import second_stage_frlm\n",
    "import networkx as nx\n",
    "import pickle"
   ],
   "metadata": {
    "collapsed": false,
    "pycharm": {
     "name": "#%%\n"
    }
   }
  },
  {
   "cell_type": "code",
   "execution_count": 2,
   "outputs": [],
   "source": [
    "\n",
    "\n",
    "G = pickle.load( open('data/network_digital_twin_v0.2.pickle','rb'))"
   ],
   "metadata": {
    "collapsed": false,
    "pycharm": {
     "name": "#%%\n"
    }
   }
  },
  {
   "cell_type": "code",
   "execution_count": 3,
   "outputs": [],
   "source": [
    "a = nx.shortest_path(G,\"8864461\", \"8860547\", weight='length_m')\n",
    "harbour_exits = pickle.load( open(\"data/harbour_exits.p\", \"rb\") )"
   ],
   "metadata": {
    "collapsed": false,
    "pycharm": {
     "name": "#%%\n"
    }
   }
  },
  {
   "cell_type": "code",
   "execution_count": 4,
   "outputs": [
    {
     "data": {
      "text/plain": "['8861581', '8860954', '8865802', '8864595', '8866901']"
     },
     "execution_count": 4,
     "metadata": {},
     "output_type": "execute_result"
    }
   ],
   "source": [
    "harbour_exits[:5]"
   ],
   "metadata": {
    "collapsed": false,
    "pycharm": {
     "name": "#%%\n"
    }
   }
  },
  {
   "cell_type": "code",
   "execution_count": 5,
   "outputs": [],
   "source": [
    "# Let's see whether the program works for the route from Brielle to Schwinhaven (near Zwijndrecht)\n",
    "#now also added\n",
    "df_b, df_g, df_eq_fq = first_stage_frlm(G, 40000, [(\"8864461\", \"8860547\", 30)])"
   ],
   "metadata": {
    "collapsed": false,
    "pycharm": {
     "name": "#%%\n"
    }
   }
  },
  {
   "cell_type": "code",
   "execution_count": 6,
   "outputs": [
    {
     "data": {
      "text/plain": "                    (8864235, 8867784, 8863810)  (8864235, 8867784, 8866899)  \\\nq                                                                              \n(8864461, 8860547)                            1                            1   \n\n                    (8864235, 8867784, 8867023)  \nq                                                \n(8864461, 8860547)                            1  ",
      "text/html": "<div>\n<style scoped>\n    .dataframe tbody tr th:only-of-type {\n        vertical-align: middle;\n    }\n\n    .dataframe tbody tr th {\n        vertical-align: top;\n    }\n\n    .dataframe thead th {\n        text-align: right;\n    }\n</style>\n<table border=\"1\" class=\"dataframe\">\n  <thead>\n    <tr style=\"text-align: right;\">\n      <th></th>\n      <th>(8864235, 8867784, 8863810)</th>\n      <th>(8864235, 8867784, 8866899)</th>\n      <th>(8864235, 8867784, 8867023)</th>\n    </tr>\n    <tr>\n      <th>q</th>\n      <th></th>\n      <th></th>\n      <th></th>\n    </tr>\n  </thead>\n  <tbody>\n    <tr>\n      <th>(8864461, 8860547)</th>\n      <td>1</td>\n      <td>1</td>\n      <td>1</td>\n    </tr>\n  </tbody>\n</table>\n</div>"
     },
     "execution_count": 6,
     "metadata": {},
     "output_type": "execute_result"
    }
   ],
   "source": [
    "df_b"
   ],
   "metadata": {
    "collapsed": false,
    "pycharm": {
     "name": "#%%\n"
    }
   }
  },
  {
   "cell_type": "code",
   "execution_count": 7,
   "outputs": [
    {
     "data": {
      "text/plain": "                                                8863810  8866899  8864235  \\\nq                  h                                                        \n(8864461, 8860547) (8864235, 8867784, 8867023)        0        0        1   \n                   (8864235, 8867784, 8863810)        2        0        1   \n                   (8864235, 8867784, 8866899)        0        1        1   \n\n                                                8867784  8867023  \nq                  h                                              \n(8864461, 8860547) (8864235, 8867784, 8867023)        2        2  \n                   (8864235, 8867784, 8863810)        2        0  \n                   (8864235, 8867784, 8866899)        2        0  ",
      "text/html": "<div>\n<style scoped>\n    .dataframe tbody tr th:only-of-type {\n        vertical-align: middle;\n    }\n\n    .dataframe tbody tr th {\n        vertical-align: top;\n    }\n\n    .dataframe thead th {\n        text-align: right;\n    }\n</style>\n<table border=\"1\" class=\"dataframe\">\n  <thead>\n    <tr style=\"text-align: right;\">\n      <th></th>\n      <th></th>\n      <th>8863810</th>\n      <th>8866899</th>\n      <th>8864235</th>\n      <th>8867784</th>\n      <th>8867023</th>\n    </tr>\n    <tr>\n      <th>q</th>\n      <th>h</th>\n      <th></th>\n      <th></th>\n      <th></th>\n      <th></th>\n      <th></th>\n    </tr>\n  </thead>\n  <tbody>\n    <tr>\n      <th rowspan=\"3\" valign=\"top\">(8864461, 8860547)</th>\n      <th>(8864235, 8867784, 8867023)</th>\n      <td>0</td>\n      <td>0</td>\n      <td>1</td>\n      <td>2</td>\n      <td>2</td>\n    </tr>\n    <tr>\n      <th>(8864235, 8867784, 8863810)</th>\n      <td>2</td>\n      <td>0</td>\n      <td>1</td>\n      <td>2</td>\n      <td>0</td>\n    </tr>\n    <tr>\n      <th>(8864235, 8867784, 8866899)</th>\n      <td>0</td>\n      <td>1</td>\n      <td>1</td>\n      <td>2</td>\n      <td>0</td>\n    </tr>\n  </tbody>\n</table>\n</div>"
     },
     "execution_count": 7,
     "metadata": {},
     "output_type": "execute_result"
    }
   ],
   "source": [
    "df_g"
   ],
   "metadata": {
    "collapsed": false,
    "pycharm": {
     "name": "#%%\n"
    }
   }
  },
  {
   "cell_type": "code",
   "execution_count": 8,
   "outputs": [
    {
     "data": {
      "text/plain": "                    e_q  f_q\nq                           \n(8864461, 8860547)  1.0   30",
      "text/html": "<div>\n<style scoped>\n    .dataframe tbody tr th:only-of-type {\n        vertical-align: middle;\n    }\n\n    .dataframe tbody tr th {\n        vertical-align: top;\n    }\n\n    .dataframe thead th {\n        text-align: right;\n    }\n</style>\n<table border=\"1\" class=\"dataframe\">\n  <thead>\n    <tr style=\"text-align: right;\">\n      <th></th>\n      <th>e_q</th>\n      <th>f_q</th>\n    </tr>\n    <tr>\n      <th>q</th>\n      <th></th>\n      <th></th>\n    </tr>\n  </thead>\n  <tbody>\n    <tr>\n      <th>(8864461, 8860547)</th>\n      <td>1.0</td>\n      <td>30</td>\n    </tr>\n  </tbody>\n</table>\n</div>"
     },
     "execution_count": 8,
     "metadata": {},
     "output_type": "execute_result"
    }
   ],
   "source": [
    "df_eq_fq"
   ],
   "metadata": {
    "collapsed": false,
    "pycharm": {
     "name": "#%%\n"
    }
   }
  },
  {
   "cell_type": "code",
   "execution_count": 9,
   "outputs": [
    {
     "name": "stdout",
     "output_type": "stream",
     "text": [
      "CFRLM:\n",
      "MAXIMIZE\n",
      "30*Flow_captured_(('8864461',_'8860547'),_('8864235',_'8867784',_'8863810')) + 30*Flow_captured_(('8864461',_'8860547'),_('8864235',_'8867784',_'8866899')) + 30*Flow_captured_(('8864461',_'8860547'),_('8864235',_'8867784',_'8867023')) + 0\n",
      "SUBJECT TO\n",
      "_C1: - 20 Facilities_8863810\n",
      " + 60 Flow_captured_(('8864461',_'8860547'),_('8864235',_'8867784',_'8863810'))\n",
      " <= 0\n",
      "\n",
      "_C2: - 20 Facilities_8866899\n",
      " + 30 Flow_captured_(('8864461',_'8860547'),_('8864235',_'8867784',_'8866899'))\n",
      " <= 0\n",
      "\n",
      "_C3: - 20 Facilities_8864235\n",
      " + 30 Flow_captured_(('8864461',_'8860547'),_('8864235',_'8867784',_'8863810'))\n",
      " + 30 Flow_captured_(('8864461',_'8860547'),_('8864235',_'8867784',_'8866899'))\n",
      " + 30 Flow_captured_(('8864461',_'8860547'),_('8864235',_'8867784',_'8867023'))\n",
      " <= 0\n",
      "\n",
      "_C4: - 20 Facilities_8867784\n",
      " + 60 Flow_captured_(('8864461',_'8860547'),_('8864235',_'8867784',_'8863810'))\n",
      " + 60 Flow_captured_(('8864461',_'8860547'),_('8864235',_'8867784',_'8866899'))\n",
      " + 60 Flow_captured_(('8864461',_'8860547'),_('8864235',_'8867784',_'8867023'))\n",
      " <= 0\n",
      "\n",
      "_C5: - 20 Facilities_8867023\n",
      " + 60 Flow_captured_(('8864461',_'8860547'),_('8864235',_'8867784',_'8867023'))\n",
      " <= 0\n",
      "\n",
      "_C6: Facilities_8863810 + Facilities_8864235 + Facilities_8866899\n",
      " + Facilities_8867023 + Facilities_8867784 <= 6\n",
      "\n",
      "_C7: Flow_captured_(('8864461',_'8860547'),_('8864235',_'8867784',_'8863810'))\n",
      " + Flow_captured_(('8864461',_'8860547'),_('8864235',_'8867784',_'8866899'))\n",
      " + Flow_captured_(('8864461',_'8860547'),_('8864235',_'8867784',_'8867023'))\n",
      " <= 1\n",
      "\n",
      "VARIABLES\n",
      "0 <= Facilities_8863810 Integer\n",
      "0 <= Facilities_8864235 Integer\n",
      "0 <= Facilities_8866899 Integer\n",
      "0 <= Facilities_8867023 Integer\n",
      "0 <= Facilities_8867784 Integer\n",
      "Flow_captured_(('8864461',_'8860547'),_('8864235',_'8867784',_'8863810')) <= 1 Continuous\n",
      "Flow_captured_(('8864461',_'8860547'),_('8864235',_'8867784',_'8866899')) <= 1 Continuous\n",
      "Flow_captured_(('8864461',_'8860547'),_('8864235',_'8867784',_'8867023')) <= 1 Continuous\n",
      "\n",
      "Optimal\n",
      "Variable Facilities_8863810 is equal to 1.0\n",
      "Variable Facilities_8864235 is equal to 1.0\n",
      "Variable Facilities_8866899 is equal to 1.0\n",
      "Variable Facilities_8867023 is equal to 0.0\n",
      "Variable Facilities_8867784 is equal to 3.0\n",
      "Variable Flow_captured_(('8864461',_'8860547'),_('8864235',_'8867784',_'8863810')) is equal to 0.0\n",
      "Variable Flow_captured_(('8864461',_'8860547'),_('8864235',_'8867784',_'8866899')) is equal to 0.66666667\n",
      "Variable Flow_captured_(('8864461',_'8860547'),_('8864235',_'8867784',_'8867023')) is equal to 0.0\n",
      "Total supported flow is equal to 20.0000001\n"
     ]
    }
   ],
   "source": [
    "optimal_facilities, optimal_flows = second_stage_frlm(6, 20, df_g, df_b, df_eq_fq)"
   ],
   "metadata": {
    "collapsed": false,
    "pycharm": {
     "name": "#%%\n"
    }
   }
  },
  {
   "cell_type": "code",
   "execution_count": 10,
   "outputs": [
    {
     "data": {
      "text/plain": "{Flow_captured_(('8864461',_'8860547'),_('8864235',_'8867784',_'8863810')): 0.0,\n Flow_captured_(('8864461',_'8860547'),_('8864235',_'8867784',_'8866899')): 0.66666667,\n Flow_captured_(('8864461',_'8860547'),_('8864235',_'8867784',_'8867023')): 0.0}"
     },
     "execution_count": 10,
     "metadata": {},
     "output_type": "execute_result"
    }
   ],
   "source": [
    "optimal_flows"
   ],
   "metadata": {
    "collapsed": false,
    "pycharm": {
     "name": "#%%\n"
    }
   }
  },
  {
   "cell_type": "markdown",
   "source": [
    "## Seems to go quite okay!\n",
    "Also try with multiple OD sets for illustration"
   ],
   "metadata": {
    "collapsed": false,
    "pycharm": {
     "name": "#%% md\n"
    }
   }
  },
  {
   "cell_type": "code",
   "execution_count": 11,
   "outputs": [
    {
     "name": "stdout",
     "output_type": "stream",
     "text": [
      "CPU times: total: 7.14 s\n",
      "Wall time: 7.14 s\n"
     ]
    }
   ],
   "source": [
    "#now also added: Brielle to Middelharnis and Brielle to Ridderkerk\n",
    "%time df_b, df_g, df_eq_fq = first_stage_frlm(G, 60000, [(\"8864461\", \"8860547\", 30), (\"8864461\", \"8862620\", 20), (\"8864461\", \"8860687\", 10)])"
   ],
   "metadata": {
    "collapsed": false,
    "pycharm": {
     "name": "#%%\n"
    }
   }
  },
  {
   "cell_type": "code",
   "execution_count": 12,
   "outputs": [
    {
     "data": {
      "text/plain": "                    (8864235, 8865086)  (8867784, 8866899)  \\\nq                                                            \n(8864461, 8860547)                   0                   1   \n(8864461, 8862620)                   0                   0   \n(8864461, 8860687)                   1                   0   \n\n                    (8863988, 8865803)  (8865803, 8865818)  \\\nq                                                            \n(8864461, 8860547)                   0                   0   \n(8864461, 8862620)                   0                   0   \n(8864461, 8860687)                   1                   1   \n\n                    (8863988, 8864482)  (8864009, 8864482)  \\\nq                                                            \n(8864461, 8860547)                   0                   0   \n(8864461, 8862620)                   0                   0   \n(8864461, 8860687)                   1                   1   \n\n                    (8867588, 8864482)  (8864009, 8861736)  \\\nq                                                            \n(8864461, 8860547)                   0                   0   \n(8864461, 8862620)                   0                   0   \n(8864461, 8860687)                   1                   1   \n\n                    (8863988, 8864235)  (8865803, 8867528)  ...  \\\nq                                                           ...   \n(8864461, 8860547)                   0                   0  ...   \n(8864461, 8862620)                   0                   0  ...   \n(8864461, 8860687)                   1                   1  ...   \n\n                    (8865086, 8861736)  (8860968, 8867784)  \\\nq                                                            \n(8864461, 8860547)                   0                   0   \n(8864461, 8862620)                   0                   1   \n(8864461, 8860687)                   1                   0   \n\n                    (8865818, 8864482)  (8866686, 8861736)  \\\nq                                                            \n(8864461, 8860547)                   0                   0   \n(8864461, 8862620)                   0                   0   \n(8864461, 8860687)                   1                   1   \n\n                    (8866686, 8864235)  (8865086, 8862585)  \\\nq                                                            \n(8864461, 8860547)                   0                   0   \n(8864461, 8862620)                   0                   0   \n(8864461, 8860687)                   1                   1   \n\n                    (8865803, 8864009)  (8865818, 8861736)  \\\nq                                                            \n(8864461, 8860547)                   0                   0   \n(8864461, 8862620)                   0                   0   \n(8864461, 8860687)                   1                   1   \n\n                    (8866686, 8862585)  (8864235, 8867588)  \nq                                                           \n(8864461, 8860547)                   0                   0  \n(8864461, 8862620)                   0                   0  \n(8864461, 8860687)                   1                   1  \n\n[3 rows x 42 columns]",
      "text/html": "<div>\n<style scoped>\n    .dataframe tbody tr th:only-of-type {\n        vertical-align: middle;\n    }\n\n    .dataframe tbody tr th {\n        vertical-align: top;\n    }\n\n    .dataframe thead th {\n        text-align: right;\n    }\n</style>\n<table border=\"1\" class=\"dataframe\">\n  <thead>\n    <tr style=\"text-align: right;\">\n      <th></th>\n      <th>(8864235, 8865086)</th>\n      <th>(8867784, 8866899)</th>\n      <th>(8863988, 8865803)</th>\n      <th>(8865803, 8865818)</th>\n      <th>(8863988, 8864482)</th>\n      <th>(8864009, 8864482)</th>\n      <th>(8867588, 8864482)</th>\n      <th>(8864009, 8861736)</th>\n      <th>(8863988, 8864235)</th>\n      <th>(8865803, 8867528)</th>\n      <th>...</th>\n      <th>(8865086, 8861736)</th>\n      <th>(8860968, 8867784)</th>\n      <th>(8865818, 8864482)</th>\n      <th>(8866686, 8861736)</th>\n      <th>(8866686, 8864235)</th>\n      <th>(8865086, 8862585)</th>\n      <th>(8865803, 8864009)</th>\n      <th>(8865818, 8861736)</th>\n      <th>(8866686, 8862585)</th>\n      <th>(8864235, 8867588)</th>\n    </tr>\n    <tr>\n      <th>q</th>\n      <th></th>\n      <th></th>\n      <th></th>\n      <th></th>\n      <th></th>\n      <th></th>\n      <th></th>\n      <th></th>\n      <th></th>\n      <th></th>\n      <th></th>\n      <th></th>\n      <th></th>\n      <th></th>\n      <th></th>\n      <th></th>\n      <th></th>\n      <th></th>\n      <th></th>\n      <th></th>\n      <th></th>\n    </tr>\n  </thead>\n  <tbody>\n    <tr>\n      <th>(8864461, 8860547)</th>\n      <td>0</td>\n      <td>1</td>\n      <td>0</td>\n      <td>0</td>\n      <td>0</td>\n      <td>0</td>\n      <td>0</td>\n      <td>0</td>\n      <td>0</td>\n      <td>0</td>\n      <td>...</td>\n      <td>0</td>\n      <td>0</td>\n      <td>0</td>\n      <td>0</td>\n      <td>0</td>\n      <td>0</td>\n      <td>0</td>\n      <td>0</td>\n      <td>0</td>\n      <td>0</td>\n    </tr>\n    <tr>\n      <th>(8864461, 8862620)</th>\n      <td>0</td>\n      <td>0</td>\n      <td>0</td>\n      <td>0</td>\n      <td>0</td>\n      <td>0</td>\n      <td>0</td>\n      <td>0</td>\n      <td>0</td>\n      <td>0</td>\n      <td>...</td>\n      <td>0</td>\n      <td>1</td>\n      <td>0</td>\n      <td>0</td>\n      <td>0</td>\n      <td>0</td>\n      <td>0</td>\n      <td>0</td>\n      <td>0</td>\n      <td>0</td>\n    </tr>\n    <tr>\n      <th>(8864461, 8860687)</th>\n      <td>1</td>\n      <td>0</td>\n      <td>1</td>\n      <td>1</td>\n      <td>1</td>\n      <td>1</td>\n      <td>1</td>\n      <td>1</td>\n      <td>1</td>\n      <td>1</td>\n      <td>...</td>\n      <td>1</td>\n      <td>0</td>\n      <td>1</td>\n      <td>1</td>\n      <td>1</td>\n      <td>1</td>\n      <td>1</td>\n      <td>1</td>\n      <td>1</td>\n      <td>1</td>\n    </tr>\n  </tbody>\n</table>\n<p>3 rows × 42 columns</p>\n</div>"
     },
     "execution_count": 12,
     "metadata": {},
     "output_type": "execute_result"
    }
   ],
   "source": [
    "df_b"
   ],
   "metadata": {
    "collapsed": false,
    "pycharm": {
     "name": "#%%\n"
    }
   }
  },
  {
   "cell_type": "code",
   "execution_count": 13,
   "outputs": [
    {
     "data": {
      "text/plain": "                                       8865086  8862585  8864482  8863810  \\\nq                  h                                                        \n(8864461, 8860547) (8864235, 8867023)        0        0        0        0   \n                   (8864235, 8863810)        0        0        0        2   \n                   (8864235, 8866899)        0        0        0        0   \n                   (8867784, 8867023)        0        0        0        0   \n                   (8863810, 8867784)        0        0        0        2   \n                   (8867784, 8866899)        0        0        0        0   \n(8864461, 8862620) (8860968, 8867784)        0        0        0        0   \n(8864461, 8860687) (8863988, 8864235)        0        0        0        0   \n                   (8864235, 8865086)        2        0        0        0   \n                   (8864235, 8865818)        0        0        0        0   \n                   (8864235, 8867528)        0        0        0        0   \n                   (8864235, 8864009)        0        0        0        0   \n                   (8864235, 8867588)        0        0        0        0   \n                   (8866686, 8864235)        0        0        0        0   \n                   (8863988, 8865803)        0        0        0        0   \n                   (8865803, 8865086)        2        0        0        0   \n                   (8865803, 8865818)        0        0        0        0   \n                   (8865803, 8867528)        0        0        0        0   \n                   (8865803, 8864009)        0        0        0        0   \n                   (8865803, 8867588)        0        0        0        0   \n                   (8866686, 8865803)        0        0        0        0   \n                   (8863988, 8862585)        0        2        0        0   \n                   (8865086, 8862585)        2        2        0        0   \n                   (8862585, 8865818)        0        2        0        0   \n                   (8862585, 8867528)        0        2        0        0   \n                   (8864009, 8862585)        0        2        0        0   \n                   (8867588, 8862585)        0        2        0        0   \n                   (8866686, 8862585)        0        2        0        0   \n                   (8863988, 8864482)        0        0        2        0   \n                   (8865086, 8864482)        2        0        2        0   \n                   (8865818, 8864482)        0        0        2        0   \n                   (8867528, 8864482)        0        0        2        0   \n                   (8864009, 8864482)        0        0        2        0   \n                   (8867588, 8864482)        0        0        2        0   \n                   (8866686, 8864482)        0        0        2        0   \n                   (8863988, 8861736)        0        0        0        0   \n                   (8865086, 8861736)        2        0        0        0   \n                   (8865818, 8861736)        0        0        0        0   \n                   (8867528, 8861736)        0        0        0        0   \n                   (8864009, 8861736)        0        0        0        0   \n                   (8867588, 8861736)        0        0        0        0   \n                   (8866686, 8861736)        0        0        0        0   \n\n                                       8864009  8865818  8866899  8863988  \\\nq                  h                                                        \n(8864461, 8860547) (8864235, 8867023)        0        0        0        0   \n                   (8864235, 8863810)        0        0        0        0   \n                   (8864235, 8866899)        0        0        1        0   \n                   (8867784, 8867023)        0        0        0        0   \n                   (8863810, 8867784)        0        0        0        0   \n                   (8867784, 8866899)        0        0        1        0   \n(8864461, 8862620) (8860968, 8867784)        0        0        0        0   \n(8864461, 8860687) (8863988, 8864235)        0        0        0        2   \n                   (8864235, 8865086)        0        0        0        0   \n                   (8864235, 8865818)        0        2        0        0   \n                   (8864235, 8867528)        0        0        0        0   \n                   (8864235, 8864009)        2        0        0        0   \n                   (8864235, 8867588)        0        0        0        0   \n                   (8866686, 8864235)        0        0        0        0   \n                   (8863988, 8865803)        0        0        0        2   \n                   (8865803, 8865086)        0        0        0        0   \n                   (8865803, 8865818)        0        2        0        0   \n                   (8865803, 8867528)        0        0        0        0   \n                   (8865803, 8864009)        2        0        0        0   \n                   (8865803, 8867588)        0        0        0        0   \n                   (8866686, 8865803)        0        0        0        0   \n                   (8863988, 8862585)        0        0        0        2   \n                   (8865086, 8862585)        0        0        0        0   \n                   (8862585, 8865818)        0        2        0        0   \n                   (8862585, 8867528)        0        0        0        0   \n                   (8864009, 8862585)        2        0        0        0   \n                   (8867588, 8862585)        0        0        0        0   \n                   (8866686, 8862585)        0        0        0        0   \n                   (8863988, 8864482)        0        0        0        2   \n                   (8865086, 8864482)        0        0        0        0   \n                   (8865818, 8864482)        0        2        0        0   \n                   (8867528, 8864482)        0        0        0        0   \n                   (8864009, 8864482)        2        0        0        0   \n                   (8867588, 8864482)        0        0        0        0   \n                   (8866686, 8864482)        0        0        0        0   \n                   (8863988, 8861736)        0        0        0        2   \n                   (8865086, 8861736)        0        0        0        0   \n                   (8865818, 8861736)        0        2        0        0   \n                   (8867528, 8861736)        0        0        0        0   \n                   (8864009, 8861736)        2        0        0        0   \n                   (8867588, 8861736)        0        0        0        0   \n                   (8866686, 8861736)        0        0        0        0   \n\n                                       8864235  8865803  8867588  8867784  \\\nq                  h                                                        \n(8864461, 8860547) (8864235, 8867023)        1        0        0        0   \n                   (8864235, 8863810)        1        0        0        0   \n                   (8864235, 8866899)        1        0        0        0   \n                   (8867784, 8867023)        0        0        0        2   \n                   (8863810, 8867784)        0        0        0        2   \n                   (8867784, 8866899)        0        0        0        2   \n(8864461, 8862620) (8860968, 8867784)        0        0        0        2   \n(8864461, 8860687) (8863988, 8864235)        1        0        0        0   \n                   (8864235, 8865086)        1        0        0        0   \n                   (8864235, 8865818)        1        0        0        0   \n                   (8864235, 8867528)        1        0        0        0   \n                   (8864235, 8864009)        1        0        0        0   \n                   (8864235, 8867588)        1        0        2        0   \n                   (8866686, 8864235)        1        0        0        0   \n                   (8863988, 8865803)        0        2        0        0   \n                   (8865803, 8865086)        0        2        0        0   \n                   (8865803, 8865818)        0        2        0        0   \n                   (8865803, 8867528)        0        2        0        0   \n                   (8865803, 8864009)        0        2        0        0   \n                   (8865803, 8867588)        0        2        2        0   \n                   (8866686, 8865803)        0        2        0        0   \n                   (8863988, 8862585)        0        0        0        0   \n                   (8865086, 8862585)        0        0        0        0   \n                   (8862585, 8865818)        0        0        0        0   \n                   (8862585, 8867528)        0        0        0        0   \n                   (8864009, 8862585)        0        0        0        0   \n                   (8867588, 8862585)        0        0        2        0   \n                   (8866686, 8862585)        0        0        0        0   \n                   (8863988, 8864482)        0        0        0        0   \n                   (8865086, 8864482)        0        0        0        0   \n                   (8865818, 8864482)        0        0        0        0   \n                   (8867528, 8864482)        0        0        0        0   \n                   (8864009, 8864482)        0        0        0        0   \n                   (8867588, 8864482)        0        0        2        0   \n                   (8866686, 8864482)        0        0        0        0   \n                   (8863988, 8861736)        0        0        0        0   \n                   (8865086, 8861736)        0        0        0        0   \n                   (8865818, 8861736)        0        0        0        0   \n                   (8867528, 8861736)        0        0        0        0   \n                   (8864009, 8861736)        0        0        0        0   \n                   (8867588, 8861736)        0        0        2        0   \n                   (8866686, 8861736)        0        0        0        0   \n\n                                       8861736  8866686  8860968  8867528  \\\nq                  h                                                        \n(8864461, 8860547) (8864235, 8867023)        0        0        0        0   \n                   (8864235, 8863810)        0        0        0        0   \n                   (8864235, 8866899)        0        0        0        0   \n                   (8867784, 8867023)        0        0        0        0   \n                   (8863810, 8867784)        0        0        0        0   \n                   (8867784, 8866899)        0        0        0        0   \n(8864461, 8862620) (8860968, 8867784)        0        0        1        0   \n(8864461, 8860687) (8863988, 8864235)        0        0        0        0   \n                   (8864235, 8865086)        0        0        0        0   \n                   (8864235, 8865818)        0        0        0        0   \n                   (8864235, 8867528)        0        0        0        2   \n                   (8864235, 8864009)        0        0        0        0   \n                   (8864235, 8867588)        0        0        0        0   \n                   (8866686, 8864235)        0        1        0        0   \n                   (8863988, 8865803)        0        0        0        0   \n                   (8865803, 8865086)        0        0        0        0   \n                   (8865803, 8865818)        0        0        0        0   \n                   (8865803, 8867528)        0        0        0        2   \n                   (8865803, 8864009)        0        0        0        0   \n                   (8865803, 8867588)        0        0        0        0   \n                   (8866686, 8865803)        0        1        0        0   \n                   (8863988, 8862585)        0        0        0        0   \n                   (8865086, 8862585)        0        0        0        0   \n                   (8862585, 8865818)        0        0        0        0   \n                   (8862585, 8867528)        0        0        0        2   \n                   (8864009, 8862585)        0        0        0        0   \n                   (8867588, 8862585)        0        0        0        0   \n                   (8866686, 8862585)        0        1        0        0   \n                   (8863988, 8864482)        0        0        0        0   \n                   (8865086, 8864482)        0        0        0        0   \n                   (8865818, 8864482)        0        0        0        0   \n                   (8867528, 8864482)        0        0        0        2   \n                   (8864009, 8864482)        0        0        0        0   \n                   (8867588, 8864482)        0        0        0        0   \n                   (8866686, 8864482)        0        1        0        0   \n                   (8863988, 8861736)        2        0        0        0   \n                   (8865086, 8861736)        2        0        0        0   \n                   (8865818, 8861736)        2        0        0        0   \n                   (8867528, 8861736)        2        0        0        2   \n                   (8864009, 8861736)        2        0        0        0   \n                   (8867588, 8861736)        2        0        0        0   \n                   (8866686, 8861736)        2        1        0        0   \n\n                                       8867023  \nq                  h                            \n(8864461, 8860547) (8864235, 8867023)        2  \n                   (8864235, 8863810)        0  \n                   (8864235, 8866899)        0  \n                   (8867784, 8867023)        2  \n                   (8863810, 8867784)        0  \n                   (8867784, 8866899)        0  \n(8864461, 8862620) (8860968, 8867784)        0  \n(8864461, 8860687) (8863988, 8864235)        0  \n                   (8864235, 8865086)        0  \n                   (8864235, 8865818)        0  \n                   (8864235, 8867528)        0  \n                   (8864235, 8864009)        0  \n                   (8864235, 8867588)        0  \n                   (8866686, 8864235)        0  \n                   (8863988, 8865803)        0  \n                   (8865803, 8865086)        0  \n                   (8865803, 8865818)        0  \n                   (8865803, 8867528)        0  \n                   (8865803, 8864009)        0  \n                   (8865803, 8867588)        0  \n                   (8866686, 8865803)        0  \n                   (8863988, 8862585)        0  \n                   (8865086, 8862585)        0  \n                   (8862585, 8865818)        0  \n                   (8862585, 8867528)        0  \n                   (8864009, 8862585)        0  \n                   (8867588, 8862585)        0  \n                   (8866686, 8862585)        0  \n                   (8863988, 8864482)        0  \n                   (8865086, 8864482)        0  \n                   (8865818, 8864482)        0  \n                   (8867528, 8864482)        0  \n                   (8864009, 8864482)        0  \n                   (8867588, 8864482)        0  \n                   (8866686, 8864482)        0  \n                   (8863988, 8861736)        0  \n                   (8865086, 8861736)        0  \n                   (8865818, 8861736)        0  \n                   (8867528, 8861736)        0  \n                   (8864009, 8861736)        0  \n                   (8867588, 8861736)        0  \n                   (8866686, 8861736)        0  ",
      "text/html": "<div>\n<style scoped>\n    .dataframe tbody tr th:only-of-type {\n        vertical-align: middle;\n    }\n\n    .dataframe tbody tr th {\n        vertical-align: top;\n    }\n\n    .dataframe thead th {\n        text-align: right;\n    }\n</style>\n<table border=\"1\" class=\"dataframe\">\n  <thead>\n    <tr style=\"text-align: right;\">\n      <th></th>\n      <th></th>\n      <th>8865086</th>\n      <th>8862585</th>\n      <th>8864482</th>\n      <th>8863810</th>\n      <th>8864009</th>\n      <th>8865818</th>\n      <th>8866899</th>\n      <th>8863988</th>\n      <th>8864235</th>\n      <th>8865803</th>\n      <th>8867588</th>\n      <th>8867784</th>\n      <th>8861736</th>\n      <th>8866686</th>\n      <th>8860968</th>\n      <th>8867528</th>\n      <th>8867023</th>\n    </tr>\n    <tr>\n      <th>q</th>\n      <th>h</th>\n      <th></th>\n      <th></th>\n      <th></th>\n      <th></th>\n      <th></th>\n      <th></th>\n      <th></th>\n      <th></th>\n      <th></th>\n      <th></th>\n      <th></th>\n      <th></th>\n      <th></th>\n      <th></th>\n      <th></th>\n      <th></th>\n      <th></th>\n    </tr>\n  </thead>\n  <tbody>\n    <tr>\n      <th rowspan=\"6\" valign=\"top\">(8864461, 8860547)</th>\n      <th>(8864235, 8867023)</th>\n      <td>0</td>\n      <td>0</td>\n      <td>0</td>\n      <td>0</td>\n      <td>0</td>\n      <td>0</td>\n      <td>0</td>\n      <td>0</td>\n      <td>1</td>\n      <td>0</td>\n      <td>0</td>\n      <td>0</td>\n      <td>0</td>\n      <td>0</td>\n      <td>0</td>\n      <td>0</td>\n      <td>2</td>\n    </tr>\n    <tr>\n      <th>(8864235, 8863810)</th>\n      <td>0</td>\n      <td>0</td>\n      <td>0</td>\n      <td>2</td>\n      <td>0</td>\n      <td>0</td>\n      <td>0</td>\n      <td>0</td>\n      <td>1</td>\n      <td>0</td>\n      <td>0</td>\n      <td>0</td>\n      <td>0</td>\n      <td>0</td>\n      <td>0</td>\n      <td>0</td>\n      <td>0</td>\n    </tr>\n    <tr>\n      <th>(8864235, 8866899)</th>\n      <td>0</td>\n      <td>0</td>\n      <td>0</td>\n      <td>0</td>\n      <td>0</td>\n      <td>0</td>\n      <td>1</td>\n      <td>0</td>\n      <td>1</td>\n      <td>0</td>\n      <td>0</td>\n      <td>0</td>\n      <td>0</td>\n      <td>0</td>\n      <td>0</td>\n      <td>0</td>\n      <td>0</td>\n    </tr>\n    <tr>\n      <th>(8867784, 8867023)</th>\n      <td>0</td>\n      <td>0</td>\n      <td>0</td>\n      <td>0</td>\n      <td>0</td>\n      <td>0</td>\n      <td>0</td>\n      <td>0</td>\n      <td>0</td>\n      <td>0</td>\n      <td>0</td>\n      <td>2</td>\n      <td>0</td>\n      <td>0</td>\n      <td>0</td>\n      <td>0</td>\n      <td>2</td>\n    </tr>\n    <tr>\n      <th>(8863810, 8867784)</th>\n      <td>0</td>\n      <td>0</td>\n      <td>0</td>\n      <td>2</td>\n      <td>0</td>\n      <td>0</td>\n      <td>0</td>\n      <td>0</td>\n      <td>0</td>\n      <td>0</td>\n      <td>0</td>\n      <td>2</td>\n      <td>0</td>\n      <td>0</td>\n      <td>0</td>\n      <td>0</td>\n      <td>0</td>\n    </tr>\n    <tr>\n      <th>(8867784, 8866899)</th>\n      <td>0</td>\n      <td>0</td>\n      <td>0</td>\n      <td>0</td>\n      <td>0</td>\n      <td>0</td>\n      <td>1</td>\n      <td>0</td>\n      <td>0</td>\n      <td>0</td>\n      <td>0</td>\n      <td>2</td>\n      <td>0</td>\n      <td>0</td>\n      <td>0</td>\n      <td>0</td>\n      <td>0</td>\n    </tr>\n    <tr>\n      <th>(8864461, 8862620)</th>\n      <th>(8860968, 8867784)</th>\n      <td>0</td>\n      <td>0</td>\n      <td>0</td>\n      <td>0</td>\n      <td>0</td>\n      <td>0</td>\n      <td>0</td>\n      <td>0</td>\n      <td>0</td>\n      <td>0</td>\n      <td>0</td>\n      <td>2</td>\n      <td>0</td>\n      <td>0</td>\n      <td>1</td>\n      <td>0</td>\n      <td>0</td>\n    </tr>\n    <tr>\n      <th rowspan=\"35\" valign=\"top\">(8864461, 8860687)</th>\n      <th>(8863988, 8864235)</th>\n      <td>0</td>\n      <td>0</td>\n      <td>0</td>\n      <td>0</td>\n      <td>0</td>\n      <td>0</td>\n      <td>0</td>\n      <td>2</td>\n      <td>1</td>\n      <td>0</td>\n      <td>0</td>\n      <td>0</td>\n      <td>0</td>\n      <td>0</td>\n      <td>0</td>\n      <td>0</td>\n      <td>0</td>\n    </tr>\n    <tr>\n      <th>(8864235, 8865086)</th>\n      <td>2</td>\n      <td>0</td>\n      <td>0</td>\n      <td>0</td>\n      <td>0</td>\n      <td>0</td>\n      <td>0</td>\n      <td>0</td>\n      <td>1</td>\n      <td>0</td>\n      <td>0</td>\n      <td>0</td>\n      <td>0</td>\n      <td>0</td>\n      <td>0</td>\n      <td>0</td>\n      <td>0</td>\n    </tr>\n    <tr>\n      <th>(8864235, 8865818)</th>\n      <td>0</td>\n      <td>0</td>\n      <td>0</td>\n      <td>0</td>\n      <td>0</td>\n      <td>2</td>\n      <td>0</td>\n      <td>0</td>\n      <td>1</td>\n      <td>0</td>\n      <td>0</td>\n      <td>0</td>\n      <td>0</td>\n      <td>0</td>\n      <td>0</td>\n      <td>0</td>\n      <td>0</td>\n    </tr>\n    <tr>\n      <th>(8864235, 8867528)</th>\n      <td>0</td>\n      <td>0</td>\n      <td>0</td>\n      <td>0</td>\n      <td>0</td>\n      <td>0</td>\n      <td>0</td>\n      <td>0</td>\n      <td>1</td>\n      <td>0</td>\n      <td>0</td>\n      <td>0</td>\n      <td>0</td>\n      <td>0</td>\n      <td>0</td>\n      <td>2</td>\n      <td>0</td>\n    </tr>\n    <tr>\n      <th>(8864235, 8864009)</th>\n      <td>0</td>\n      <td>0</td>\n      <td>0</td>\n      <td>0</td>\n      <td>2</td>\n      <td>0</td>\n      <td>0</td>\n      <td>0</td>\n      <td>1</td>\n      <td>0</td>\n      <td>0</td>\n      <td>0</td>\n      <td>0</td>\n      <td>0</td>\n      <td>0</td>\n      <td>0</td>\n      <td>0</td>\n    </tr>\n    <tr>\n      <th>(8864235, 8867588)</th>\n      <td>0</td>\n      <td>0</td>\n      <td>0</td>\n      <td>0</td>\n      <td>0</td>\n      <td>0</td>\n      <td>0</td>\n      <td>0</td>\n      <td>1</td>\n      <td>0</td>\n      <td>2</td>\n      <td>0</td>\n      <td>0</td>\n      <td>0</td>\n      <td>0</td>\n      <td>0</td>\n      <td>0</td>\n    </tr>\n    <tr>\n      <th>(8866686, 8864235)</th>\n      <td>0</td>\n      <td>0</td>\n      <td>0</td>\n      <td>0</td>\n      <td>0</td>\n      <td>0</td>\n      <td>0</td>\n      <td>0</td>\n      <td>1</td>\n      <td>0</td>\n      <td>0</td>\n      <td>0</td>\n      <td>0</td>\n      <td>1</td>\n      <td>0</td>\n      <td>0</td>\n      <td>0</td>\n    </tr>\n    <tr>\n      <th>(8863988, 8865803)</th>\n      <td>0</td>\n      <td>0</td>\n      <td>0</td>\n      <td>0</td>\n      <td>0</td>\n      <td>0</td>\n      <td>0</td>\n      <td>2</td>\n      <td>0</td>\n      <td>2</td>\n      <td>0</td>\n      <td>0</td>\n      <td>0</td>\n      <td>0</td>\n      <td>0</td>\n      <td>0</td>\n      <td>0</td>\n    </tr>\n    <tr>\n      <th>(8865803, 8865086)</th>\n      <td>2</td>\n      <td>0</td>\n      <td>0</td>\n      <td>0</td>\n      <td>0</td>\n      <td>0</td>\n      <td>0</td>\n      <td>0</td>\n      <td>0</td>\n      <td>2</td>\n      <td>0</td>\n      <td>0</td>\n      <td>0</td>\n      <td>0</td>\n      <td>0</td>\n      <td>0</td>\n      <td>0</td>\n    </tr>\n    <tr>\n      <th>(8865803, 8865818)</th>\n      <td>0</td>\n      <td>0</td>\n      <td>0</td>\n      <td>0</td>\n      <td>0</td>\n      <td>2</td>\n      <td>0</td>\n      <td>0</td>\n      <td>0</td>\n      <td>2</td>\n      <td>0</td>\n      <td>0</td>\n      <td>0</td>\n      <td>0</td>\n      <td>0</td>\n      <td>0</td>\n      <td>0</td>\n    </tr>\n    <tr>\n      <th>(8865803, 8867528)</th>\n      <td>0</td>\n      <td>0</td>\n      <td>0</td>\n      <td>0</td>\n      <td>0</td>\n      <td>0</td>\n      <td>0</td>\n      <td>0</td>\n      <td>0</td>\n      <td>2</td>\n      <td>0</td>\n      <td>0</td>\n      <td>0</td>\n      <td>0</td>\n      <td>0</td>\n      <td>2</td>\n      <td>0</td>\n    </tr>\n    <tr>\n      <th>(8865803, 8864009)</th>\n      <td>0</td>\n      <td>0</td>\n      <td>0</td>\n      <td>0</td>\n      <td>2</td>\n      <td>0</td>\n      <td>0</td>\n      <td>0</td>\n      <td>0</td>\n      <td>2</td>\n      <td>0</td>\n      <td>0</td>\n      <td>0</td>\n      <td>0</td>\n      <td>0</td>\n      <td>0</td>\n      <td>0</td>\n    </tr>\n    <tr>\n      <th>(8865803, 8867588)</th>\n      <td>0</td>\n      <td>0</td>\n      <td>0</td>\n      <td>0</td>\n      <td>0</td>\n      <td>0</td>\n      <td>0</td>\n      <td>0</td>\n      <td>0</td>\n      <td>2</td>\n      <td>2</td>\n      <td>0</td>\n      <td>0</td>\n      <td>0</td>\n      <td>0</td>\n      <td>0</td>\n      <td>0</td>\n    </tr>\n    <tr>\n      <th>(8866686, 8865803)</th>\n      <td>0</td>\n      <td>0</td>\n      <td>0</td>\n      <td>0</td>\n      <td>0</td>\n      <td>0</td>\n      <td>0</td>\n      <td>0</td>\n      <td>0</td>\n      <td>2</td>\n      <td>0</td>\n      <td>0</td>\n      <td>0</td>\n      <td>1</td>\n      <td>0</td>\n      <td>0</td>\n      <td>0</td>\n    </tr>\n    <tr>\n      <th>(8863988, 8862585)</th>\n      <td>0</td>\n      <td>2</td>\n      <td>0</td>\n      <td>0</td>\n      <td>0</td>\n      <td>0</td>\n      <td>0</td>\n      <td>2</td>\n      <td>0</td>\n      <td>0</td>\n      <td>0</td>\n      <td>0</td>\n      <td>0</td>\n      <td>0</td>\n      <td>0</td>\n      <td>0</td>\n      <td>0</td>\n    </tr>\n    <tr>\n      <th>(8865086, 8862585)</th>\n      <td>2</td>\n      <td>2</td>\n      <td>0</td>\n      <td>0</td>\n      <td>0</td>\n      <td>0</td>\n      <td>0</td>\n      <td>0</td>\n      <td>0</td>\n      <td>0</td>\n      <td>0</td>\n      <td>0</td>\n      <td>0</td>\n      <td>0</td>\n      <td>0</td>\n      <td>0</td>\n      <td>0</td>\n    </tr>\n    <tr>\n      <th>(8862585, 8865818)</th>\n      <td>0</td>\n      <td>2</td>\n      <td>0</td>\n      <td>0</td>\n      <td>0</td>\n      <td>2</td>\n      <td>0</td>\n      <td>0</td>\n      <td>0</td>\n      <td>0</td>\n      <td>0</td>\n      <td>0</td>\n      <td>0</td>\n      <td>0</td>\n      <td>0</td>\n      <td>0</td>\n      <td>0</td>\n    </tr>\n    <tr>\n      <th>(8862585, 8867528)</th>\n      <td>0</td>\n      <td>2</td>\n      <td>0</td>\n      <td>0</td>\n      <td>0</td>\n      <td>0</td>\n      <td>0</td>\n      <td>0</td>\n      <td>0</td>\n      <td>0</td>\n      <td>0</td>\n      <td>0</td>\n      <td>0</td>\n      <td>0</td>\n      <td>0</td>\n      <td>2</td>\n      <td>0</td>\n    </tr>\n    <tr>\n      <th>(8864009, 8862585)</th>\n      <td>0</td>\n      <td>2</td>\n      <td>0</td>\n      <td>0</td>\n      <td>2</td>\n      <td>0</td>\n      <td>0</td>\n      <td>0</td>\n      <td>0</td>\n      <td>0</td>\n      <td>0</td>\n      <td>0</td>\n      <td>0</td>\n      <td>0</td>\n      <td>0</td>\n      <td>0</td>\n      <td>0</td>\n    </tr>\n    <tr>\n      <th>(8867588, 8862585)</th>\n      <td>0</td>\n      <td>2</td>\n      <td>0</td>\n      <td>0</td>\n      <td>0</td>\n      <td>0</td>\n      <td>0</td>\n      <td>0</td>\n      <td>0</td>\n      <td>0</td>\n      <td>2</td>\n      <td>0</td>\n      <td>0</td>\n      <td>0</td>\n      <td>0</td>\n      <td>0</td>\n      <td>0</td>\n    </tr>\n    <tr>\n      <th>(8866686, 8862585)</th>\n      <td>0</td>\n      <td>2</td>\n      <td>0</td>\n      <td>0</td>\n      <td>0</td>\n      <td>0</td>\n      <td>0</td>\n      <td>0</td>\n      <td>0</td>\n      <td>0</td>\n      <td>0</td>\n      <td>0</td>\n      <td>0</td>\n      <td>1</td>\n      <td>0</td>\n      <td>0</td>\n      <td>0</td>\n    </tr>\n    <tr>\n      <th>(8863988, 8864482)</th>\n      <td>0</td>\n      <td>0</td>\n      <td>2</td>\n      <td>0</td>\n      <td>0</td>\n      <td>0</td>\n      <td>0</td>\n      <td>2</td>\n      <td>0</td>\n      <td>0</td>\n      <td>0</td>\n      <td>0</td>\n      <td>0</td>\n      <td>0</td>\n      <td>0</td>\n      <td>0</td>\n      <td>0</td>\n    </tr>\n    <tr>\n      <th>(8865086, 8864482)</th>\n      <td>2</td>\n      <td>0</td>\n      <td>2</td>\n      <td>0</td>\n      <td>0</td>\n      <td>0</td>\n      <td>0</td>\n      <td>0</td>\n      <td>0</td>\n      <td>0</td>\n      <td>0</td>\n      <td>0</td>\n      <td>0</td>\n      <td>0</td>\n      <td>0</td>\n      <td>0</td>\n      <td>0</td>\n    </tr>\n    <tr>\n      <th>(8865818, 8864482)</th>\n      <td>0</td>\n      <td>0</td>\n      <td>2</td>\n      <td>0</td>\n      <td>0</td>\n      <td>2</td>\n      <td>0</td>\n      <td>0</td>\n      <td>0</td>\n      <td>0</td>\n      <td>0</td>\n      <td>0</td>\n      <td>0</td>\n      <td>0</td>\n      <td>0</td>\n      <td>0</td>\n      <td>0</td>\n    </tr>\n    <tr>\n      <th>(8867528, 8864482)</th>\n      <td>0</td>\n      <td>0</td>\n      <td>2</td>\n      <td>0</td>\n      <td>0</td>\n      <td>0</td>\n      <td>0</td>\n      <td>0</td>\n      <td>0</td>\n      <td>0</td>\n      <td>0</td>\n      <td>0</td>\n      <td>0</td>\n      <td>0</td>\n      <td>0</td>\n      <td>2</td>\n      <td>0</td>\n    </tr>\n    <tr>\n      <th>(8864009, 8864482)</th>\n      <td>0</td>\n      <td>0</td>\n      <td>2</td>\n      <td>0</td>\n      <td>2</td>\n      <td>0</td>\n      <td>0</td>\n      <td>0</td>\n      <td>0</td>\n      <td>0</td>\n      <td>0</td>\n      <td>0</td>\n      <td>0</td>\n      <td>0</td>\n      <td>0</td>\n      <td>0</td>\n      <td>0</td>\n    </tr>\n    <tr>\n      <th>(8867588, 8864482)</th>\n      <td>0</td>\n      <td>0</td>\n      <td>2</td>\n      <td>0</td>\n      <td>0</td>\n      <td>0</td>\n      <td>0</td>\n      <td>0</td>\n      <td>0</td>\n      <td>0</td>\n      <td>2</td>\n      <td>0</td>\n      <td>0</td>\n      <td>0</td>\n      <td>0</td>\n      <td>0</td>\n      <td>0</td>\n    </tr>\n    <tr>\n      <th>(8866686, 8864482)</th>\n      <td>0</td>\n      <td>0</td>\n      <td>2</td>\n      <td>0</td>\n      <td>0</td>\n      <td>0</td>\n      <td>0</td>\n      <td>0</td>\n      <td>0</td>\n      <td>0</td>\n      <td>0</td>\n      <td>0</td>\n      <td>0</td>\n      <td>1</td>\n      <td>0</td>\n      <td>0</td>\n      <td>0</td>\n    </tr>\n    <tr>\n      <th>(8863988, 8861736)</th>\n      <td>0</td>\n      <td>0</td>\n      <td>0</td>\n      <td>0</td>\n      <td>0</td>\n      <td>0</td>\n      <td>0</td>\n      <td>2</td>\n      <td>0</td>\n      <td>0</td>\n      <td>0</td>\n      <td>0</td>\n      <td>2</td>\n      <td>0</td>\n      <td>0</td>\n      <td>0</td>\n      <td>0</td>\n    </tr>\n    <tr>\n      <th>(8865086, 8861736)</th>\n      <td>2</td>\n      <td>0</td>\n      <td>0</td>\n      <td>0</td>\n      <td>0</td>\n      <td>0</td>\n      <td>0</td>\n      <td>0</td>\n      <td>0</td>\n      <td>0</td>\n      <td>0</td>\n      <td>0</td>\n      <td>2</td>\n      <td>0</td>\n      <td>0</td>\n      <td>0</td>\n      <td>0</td>\n    </tr>\n    <tr>\n      <th>(8865818, 8861736)</th>\n      <td>0</td>\n      <td>0</td>\n      <td>0</td>\n      <td>0</td>\n      <td>0</td>\n      <td>2</td>\n      <td>0</td>\n      <td>0</td>\n      <td>0</td>\n      <td>0</td>\n      <td>0</td>\n      <td>0</td>\n      <td>2</td>\n      <td>0</td>\n      <td>0</td>\n      <td>0</td>\n      <td>0</td>\n    </tr>\n    <tr>\n      <th>(8867528, 8861736)</th>\n      <td>0</td>\n      <td>0</td>\n      <td>0</td>\n      <td>0</td>\n      <td>0</td>\n      <td>0</td>\n      <td>0</td>\n      <td>0</td>\n      <td>0</td>\n      <td>0</td>\n      <td>0</td>\n      <td>0</td>\n      <td>2</td>\n      <td>0</td>\n      <td>0</td>\n      <td>2</td>\n      <td>0</td>\n    </tr>\n    <tr>\n      <th>(8864009, 8861736)</th>\n      <td>0</td>\n      <td>0</td>\n      <td>0</td>\n      <td>0</td>\n      <td>2</td>\n      <td>0</td>\n      <td>0</td>\n      <td>0</td>\n      <td>0</td>\n      <td>0</td>\n      <td>0</td>\n      <td>0</td>\n      <td>2</td>\n      <td>0</td>\n      <td>0</td>\n      <td>0</td>\n      <td>0</td>\n    </tr>\n    <tr>\n      <th>(8867588, 8861736)</th>\n      <td>0</td>\n      <td>0</td>\n      <td>0</td>\n      <td>0</td>\n      <td>0</td>\n      <td>0</td>\n      <td>0</td>\n      <td>0</td>\n      <td>0</td>\n      <td>0</td>\n      <td>2</td>\n      <td>0</td>\n      <td>2</td>\n      <td>0</td>\n      <td>0</td>\n      <td>0</td>\n      <td>0</td>\n    </tr>\n    <tr>\n      <th>(8866686, 8861736)</th>\n      <td>0</td>\n      <td>0</td>\n      <td>0</td>\n      <td>0</td>\n      <td>0</td>\n      <td>0</td>\n      <td>0</td>\n      <td>0</td>\n      <td>0</td>\n      <td>0</td>\n      <td>0</td>\n      <td>0</td>\n      <td>2</td>\n      <td>1</td>\n      <td>0</td>\n      <td>0</td>\n      <td>0</td>\n    </tr>\n  </tbody>\n</table>\n</div>"
     },
     "execution_count": 13,
     "metadata": {},
     "output_type": "execute_result"
    }
   ],
   "source": [
    "df_g"
   ],
   "metadata": {
    "collapsed": false,
    "pycharm": {
     "name": "#%%\n"
    }
   }
  },
  {
   "cell_type": "code",
   "execution_count": 14,
   "outputs": [
    {
     "name": "stdout",
     "output_type": "stream",
     "text": [
      "CFRLM:\n",
      "MAXIMIZE\n",
      "30*Flow_captured_(('8864461',_'8860547'),_('8863810',_'8867784')) + 30*Flow_captured_(('8864461',_'8860547'),_('8864235',_'8863810')) + 30*Flow_captured_(('8864461',_'8860547'),_('8864235',_'8866899')) + 30*Flow_captured_(('8864461',_'8860547'),_('8864235',_'8867023')) + 30*Flow_captured_(('8864461',_'8860547'),_('8867784',_'8866899')) + 30*Flow_captured_(('8864461',_'8860547'),_('8867784',_'8867023')) + 10*Flow_captured_(('8864461',_'8860687'),_('8862585',_'8865818')) + 10*Flow_captured_(('8864461',_'8860687'),_('8862585',_'8867528')) + 10*Flow_captured_(('8864461',_'8860687'),_('8863988',_'8861736')) + 10*Flow_captured_(('8864461',_'8860687'),_('8863988',_'8862585')) + 10*Flow_captured_(('8864461',_'8860687'),_('8863988',_'8864235')) + 10*Flow_captured_(('8864461',_'8860687'),_('8863988',_'8864482')) + 10*Flow_captured_(('8864461',_'8860687'),_('8863988',_'8865803')) + 10*Flow_captured_(('8864461',_'8860687'),_('8864009',_'8861736')) + 10*Flow_captured_(('8864461',_'8860687'),_('8864009',_'8862585')) + 10*Flow_captured_(('8864461',_'8860687'),_('8864009',_'8864482')) + 10*Flow_captured_(('8864461',_'8860687'),_('8864235',_'8864009')) + 10*Flow_captured_(('8864461',_'8860687'),_('8864235',_'8865086')) + 10*Flow_captured_(('8864461',_'8860687'),_('8864235',_'8865818')) + 10*Flow_captured_(('8864461',_'8860687'),_('8864235',_'8867528')) + 10*Flow_captured_(('8864461',_'8860687'),_('8864235',_'8867588')) + 10*Flow_captured_(('8864461',_'8860687'),_('8865086',_'8861736')) + 10*Flow_captured_(('8864461',_'8860687'),_('8865086',_'8862585')) + 10*Flow_captured_(('8864461',_'8860687'),_('8865086',_'8864482')) + 10*Flow_captured_(('8864461',_'8860687'),_('8865803',_'8864009')) + 10*Flow_captured_(('8864461',_'8860687'),_('8865803',_'8865086')) + 10*Flow_captured_(('8864461',_'8860687'),_('8865803',_'8865818')) + 10*Flow_captured_(('8864461',_'8860687'),_('8865803',_'8867528')) + 10*Flow_captured_(('8864461',_'8860687'),_('8865803',_'8867588')) + 10*Flow_captured_(('8864461',_'8860687'),_('8865818',_'8861736')) + 10*Flow_captured_(('8864461',_'8860687'),_('8865818',_'8864482')) + 10*Flow_captured_(('8864461',_'8860687'),_('8866686',_'8861736')) + 10*Flow_captured_(('8864461',_'8860687'),_('8866686',_'8862585')) + 10*Flow_captured_(('8864461',_'8860687'),_('8866686',_'8864235')) + 10*Flow_captured_(('8864461',_'8860687'),_('8866686',_'8864482')) + 10*Flow_captured_(('8864461',_'8860687'),_('8866686',_'8865803')) + 10*Flow_captured_(('8864461',_'8860687'),_('8867528',_'8861736')) + 10*Flow_captured_(('8864461',_'8860687'),_('8867528',_'8864482')) + 10*Flow_captured_(('8864461',_'8860687'),_('8867588',_'8861736')) + 10*Flow_captured_(('8864461',_'8860687'),_('8867588',_'8862585')) + 10*Flow_captured_(('8864461',_'8860687'),_('8867588',_'8864482')) + 20*Flow_captured_(('8864461',_'8862620'),_('8860968',_'8867784')) + 0\n",
      "SUBJECT TO\n",
      "_C1: - 20 Facilities_8865086\n",
      " + 20 Flow_captured_(('8864461',_'8860687'),_('8864235',_'8865086'))\n",
      " + 20 Flow_captured_(('8864461',_'8860687'),_('8865086',_'8861736'))\n",
      " + 20 Flow_captured_(('8864461',_'8860687'),_('8865086',_'8862585'))\n",
      " + 20 Flow_captured_(('8864461',_'8860687'),_('8865086',_'8864482'))\n",
      " + 20 Flow_captured_(('8864461',_'8860687'),_('8865803',_'8865086')) <= 0\n",
      "\n",
      "_C2: - 20 Facilities_8862585\n",
      " + 20 Flow_captured_(('8864461',_'8860687'),_('8862585',_'8865818'))\n",
      " + 20 Flow_captured_(('8864461',_'8860687'),_('8862585',_'8867528'))\n",
      " + 20 Flow_captured_(('8864461',_'8860687'),_('8863988',_'8862585'))\n",
      " + 20 Flow_captured_(('8864461',_'8860687'),_('8864009',_'8862585'))\n",
      " + 20 Flow_captured_(('8864461',_'8860687'),_('8865086',_'8862585'))\n",
      " + 20 Flow_captured_(('8864461',_'8860687'),_('8866686',_'8862585'))\n",
      " + 20 Flow_captured_(('8864461',_'8860687'),_('8867588',_'8862585')) <= 0\n",
      "\n",
      "_C3: - 20 Facilities_8864482\n",
      " + 20 Flow_captured_(('8864461',_'8860687'),_('8863988',_'8864482'))\n",
      " + 20 Flow_captured_(('8864461',_'8860687'),_('8864009',_'8864482'))\n",
      " + 20 Flow_captured_(('8864461',_'8860687'),_('8865086',_'8864482'))\n",
      " + 20 Flow_captured_(('8864461',_'8860687'),_('8865818',_'8864482'))\n",
      " + 20 Flow_captured_(('8864461',_'8860687'),_('8866686',_'8864482'))\n",
      " + 20 Flow_captured_(('8864461',_'8860687'),_('8867528',_'8864482'))\n",
      " + 20 Flow_captured_(('8864461',_'8860687'),_('8867588',_'8864482')) <= 0\n",
      "\n",
      "_C4: - 20 Facilities_8863810\n",
      " + 60 Flow_captured_(('8864461',_'8860547'),_('8863810',_'8867784'))\n",
      " + 60 Flow_captured_(('8864461',_'8860547'),_('8864235',_'8863810')) <= 0\n",
      "\n",
      "_C5: - 20 Facilities_8864009\n",
      " + 20 Flow_captured_(('8864461',_'8860687'),_('8864009',_'8861736'))\n",
      " + 20 Flow_captured_(('8864461',_'8860687'),_('8864009',_'8862585'))\n",
      " + 20 Flow_captured_(('8864461',_'8860687'),_('8864009',_'8864482'))\n",
      " + 20 Flow_captured_(('8864461',_'8860687'),_('8864235',_'8864009'))\n",
      " + 20 Flow_captured_(('8864461',_'8860687'),_('8865803',_'8864009')) <= 0\n",
      "\n",
      "_C6: - 20 Facilities_8865818\n",
      " + 20 Flow_captured_(('8864461',_'8860687'),_('8862585',_'8865818'))\n",
      " + 20 Flow_captured_(('8864461',_'8860687'),_('8864235',_'8865818'))\n",
      " + 20 Flow_captured_(('8864461',_'8860687'),_('8865803',_'8865818'))\n",
      " + 20 Flow_captured_(('8864461',_'8860687'),_('8865818',_'8861736'))\n",
      " + 20 Flow_captured_(('8864461',_'8860687'),_('8865818',_'8864482')) <= 0\n",
      "\n",
      "_C7: - 20 Facilities_8866899\n",
      " + 30 Flow_captured_(('8864461',_'8860547'),_('8864235',_'8866899'))\n",
      " + 30 Flow_captured_(('8864461',_'8860547'),_('8867784',_'8866899')) <= 0\n",
      "\n",
      "_C8: - 20 Facilities_8863988\n",
      " + 20 Flow_captured_(('8864461',_'8860687'),_('8863988',_'8861736'))\n",
      " + 20 Flow_captured_(('8864461',_'8860687'),_('8863988',_'8862585'))\n",
      " + 20 Flow_captured_(('8864461',_'8860687'),_('8863988',_'8864235'))\n",
      " + 20 Flow_captured_(('8864461',_'8860687'),_('8863988',_'8864482'))\n",
      " + 20 Flow_captured_(('8864461',_'8860687'),_('8863988',_'8865803')) <= 0\n",
      "\n",
      "_C9: - 20 Facilities_8864235\n",
      " + 30 Flow_captured_(('8864461',_'8860547'),_('8864235',_'8863810'))\n",
      " + 30 Flow_captured_(('8864461',_'8860547'),_('8864235',_'8866899'))\n",
      " + 30 Flow_captured_(('8864461',_'8860547'),_('8864235',_'8867023'))\n",
      " + 10 Flow_captured_(('8864461',_'8860687'),_('8863988',_'8864235'))\n",
      " + 10 Flow_captured_(('8864461',_'8860687'),_('8864235',_'8864009'))\n",
      " + 10 Flow_captured_(('8864461',_'8860687'),_('8864235',_'8865086'))\n",
      " + 10 Flow_captured_(('8864461',_'8860687'),_('8864235',_'8865818'))\n",
      " + 10 Flow_captured_(('8864461',_'8860687'),_('8864235',_'8867528'))\n",
      " + 10 Flow_captured_(('8864461',_'8860687'),_('8864235',_'8867588'))\n",
      " + 10 Flow_captured_(('8864461',_'8860687'),_('8866686',_'8864235')) <= 0\n",
      "\n",
      "_C10: - 20 Facilities_8865803\n",
      " + 20 Flow_captured_(('8864461',_'8860687'),_('8863988',_'8865803'))\n",
      " + 20 Flow_captured_(('8864461',_'8860687'),_('8865803',_'8864009'))\n",
      " + 20 Flow_captured_(('8864461',_'8860687'),_('8865803',_'8865086'))\n",
      " + 20 Flow_captured_(('8864461',_'8860687'),_('8865803',_'8865818'))\n",
      " + 20 Flow_captured_(('8864461',_'8860687'),_('8865803',_'8867528'))\n",
      " + 20 Flow_captured_(('8864461',_'8860687'),_('8865803',_'8867588'))\n",
      " + 20 Flow_captured_(('8864461',_'8860687'),_('8866686',_'8865803')) <= 0\n",
      "\n",
      "_C11: - 20 Facilities_8867588\n",
      " + 20 Flow_captured_(('8864461',_'8860687'),_('8864235',_'8867588'))\n",
      " + 20 Flow_captured_(('8864461',_'8860687'),_('8865803',_'8867588'))\n",
      " + 20 Flow_captured_(('8864461',_'8860687'),_('8867588',_'8861736'))\n",
      " + 20 Flow_captured_(('8864461',_'8860687'),_('8867588',_'8862585'))\n",
      " + 20 Flow_captured_(('8864461',_'8860687'),_('8867588',_'8864482')) <= 0\n",
      "\n",
      "_C12: - 20 Facilities_8867784\n",
      " + 60 Flow_captured_(('8864461',_'8860547'),_('8863810',_'8867784'))\n",
      " + 60 Flow_captured_(('8864461',_'8860547'),_('8867784',_'8866899'))\n",
      " + 60 Flow_captured_(('8864461',_'8860547'),_('8867784',_'8867023'))\n",
      " + 40 Flow_captured_(('8864461',_'8862620'),_('8860968',_'8867784')) <= 0\n",
      "\n",
      "_C13: - 20 Facilities_8861736\n",
      " + 20 Flow_captured_(('8864461',_'8860687'),_('8863988',_'8861736'))\n",
      " + 20 Flow_captured_(('8864461',_'8860687'),_('8864009',_'8861736'))\n",
      " + 20 Flow_captured_(('8864461',_'8860687'),_('8865086',_'8861736'))\n",
      " + 20 Flow_captured_(('8864461',_'8860687'),_('8865818',_'8861736'))\n",
      " + 20 Flow_captured_(('8864461',_'8860687'),_('8866686',_'8861736'))\n",
      " + 20 Flow_captured_(('8864461',_'8860687'),_('8867528',_'8861736'))\n",
      " + 20 Flow_captured_(('8864461',_'8860687'),_('8867588',_'8861736')) <= 0\n",
      "\n",
      "_C14: - 20 Facilities_8866686\n",
      " + 10 Flow_captured_(('8864461',_'8860687'),_('8866686',_'8861736'))\n",
      " + 10 Flow_captured_(('8864461',_'8860687'),_('8866686',_'8862585'))\n",
      " + 10 Flow_captured_(('8864461',_'8860687'),_('8866686',_'8864235'))\n",
      " + 10 Flow_captured_(('8864461',_'8860687'),_('8866686',_'8864482'))\n",
      " + 10 Flow_captured_(('8864461',_'8860687'),_('8866686',_'8865803')) <= 0\n",
      "\n",
      "_C15: - 20 Facilities_8860968\n",
      " + 20 Flow_captured_(('8864461',_'8862620'),_('8860968',_'8867784')) <= 0\n",
      "\n",
      "_C16: - 20 Facilities_8867528\n",
      " + 20 Flow_captured_(('8864461',_'8860687'),_('8862585',_'8867528'))\n",
      " + 20 Flow_captured_(('8864461',_'8860687'),_('8864235',_'8867528'))\n",
      " + 20 Flow_captured_(('8864461',_'8860687'),_('8865803',_'8867528'))\n",
      " + 20 Flow_captured_(('8864461',_'8860687'),_('8867528',_'8861736'))\n",
      " + 20 Flow_captured_(('8864461',_'8860687'),_('8867528',_'8864482')) <= 0\n",
      "\n",
      "_C17: - 20 Facilities_8867023\n",
      " + 60 Flow_captured_(('8864461',_'8860547'),_('8864235',_'8867023'))\n",
      " + 60 Flow_captured_(('8864461',_'8860547'),_('8867784',_'8867023')) <= 0\n",
      "\n",
      "_C18: Facilities_8860968 + Facilities_8861736 + Facilities_8862585\n",
      " + Facilities_8863810 + Facilities_8863988 + Facilities_8864009\n",
      " + Facilities_8864235 + Facilities_8864482 + Facilities_8865086\n",
      " + Facilities_8865803 + Facilities_8865818 + Facilities_8866686\n",
      " + Facilities_8866899 + Facilities_8867023 + Facilities_8867528\n",
      " + Facilities_8867588 + Facilities_8867784 <= 10\n",
      "\n",
      "_C19: Flow_captured_(('8864461',_'8860547'),_('8863810',_'8867784'))\n",
      " + Flow_captured_(('8864461',_'8860547'),_('8864235',_'8863810'))\n",
      " + Flow_captured_(('8864461',_'8860547'),_('8864235',_'8866899'))\n",
      " + Flow_captured_(('8864461',_'8860547'),_('8864235',_'8867023'))\n",
      " + Flow_captured_(('8864461',_'8860547'),_('8867784',_'8866899'))\n",
      " + Flow_captured_(('8864461',_'8860547'),_('8867784',_'8867023')) <= 1\n",
      "\n",
      "_C20: Flow_captured_(('8864461',_'8862620'),_('8860968',_'8867784')) <= 1\n",
      "\n",
      "_C21: Flow_captured_(('8864461',_'8860687'),_('8862585',_'8865818'))\n",
      " + Flow_captured_(('8864461',_'8860687'),_('8862585',_'8867528'))\n",
      " + Flow_captured_(('8864461',_'8860687'),_('8863988',_'8861736'))\n",
      " + Flow_captured_(('8864461',_'8860687'),_('8863988',_'8862585'))\n",
      " + Flow_captured_(('8864461',_'8860687'),_('8863988',_'8864235'))\n",
      " + Flow_captured_(('8864461',_'8860687'),_('8863988',_'8864482'))\n",
      " + Flow_captured_(('8864461',_'8860687'),_('8863988',_'8865803'))\n",
      " + Flow_captured_(('8864461',_'8860687'),_('8864009',_'8861736'))\n",
      " + Flow_captured_(('8864461',_'8860687'),_('8864009',_'8862585'))\n",
      " + Flow_captured_(('8864461',_'8860687'),_('8864009',_'8864482'))\n",
      " + Flow_captured_(('8864461',_'8860687'),_('8864235',_'8864009'))\n",
      " + Flow_captured_(('8864461',_'8860687'),_('8864235',_'8865086'))\n",
      " + Flow_captured_(('8864461',_'8860687'),_('8864235',_'8865818'))\n",
      " + Flow_captured_(('8864461',_'8860687'),_('8864235',_'8867528'))\n",
      " + Flow_captured_(('8864461',_'8860687'),_('8864235',_'8867588'))\n",
      " + Flow_captured_(('8864461',_'8860687'),_('8865086',_'8861736'))\n",
      " + Flow_captured_(('8864461',_'8860687'),_('8865086',_'8862585'))\n",
      " + Flow_captured_(('8864461',_'8860687'),_('8865086',_'8864482'))\n",
      " + Flow_captured_(('8864461',_'8860687'),_('8865803',_'8864009'))\n",
      " + Flow_captured_(('8864461',_'8860687'),_('8865803',_'8865086'))\n",
      " + Flow_captured_(('8864461',_'8860687'),_('8865803',_'8865818'))\n",
      " + Flow_captured_(('8864461',_'8860687'),_('8865803',_'8867528'))\n",
      " + Flow_captured_(('8864461',_'8860687'),_('8865803',_'8867588'))\n",
      " + Flow_captured_(('8864461',_'8860687'),_('8865818',_'8861736'))\n",
      " + Flow_captured_(('8864461',_'8860687'),_('8865818',_'8864482'))\n",
      " + Flow_captured_(('8864461',_'8860687'),_('8866686',_'8861736'))\n",
      " + Flow_captured_(('8864461',_'8860687'),_('8866686',_'8862585'))\n",
      " + Flow_captured_(('8864461',_'8860687'),_('8866686',_'8864235'))\n",
      " + Flow_captured_(('8864461',_'8860687'),_('8866686',_'8864482'))\n",
      " + Flow_captured_(('8864461',_'8860687'),_('8866686',_'8865803'))\n",
      " + Flow_captured_(('8864461',_'8860687'),_('8867528',_'8861736'))\n",
      " + Flow_captured_(('8864461',_'8860687'),_('8867528',_'8864482'))\n",
      " + Flow_captured_(('8864461',_'8860687'),_('8867588',_'8861736'))\n",
      " + Flow_captured_(('8864461',_'8860687'),_('8867588',_'8862585'))\n",
      " + Flow_captured_(('8864461',_'8860687'),_('8867588',_'8864482')) <= 1\n",
      "\n",
      "VARIABLES\n",
      "0 <= Facilities_8860968 Integer\n",
      "0 <= Facilities_8861736 Integer\n",
      "0 <= Facilities_8862585 Integer\n",
      "0 <= Facilities_8863810 Integer\n",
      "0 <= Facilities_8863988 Integer\n",
      "0 <= Facilities_8864009 Integer\n",
      "0 <= Facilities_8864235 Integer\n",
      "0 <= Facilities_8864482 Integer\n",
      "0 <= Facilities_8865086 Integer\n",
      "0 <= Facilities_8865803 Integer\n",
      "0 <= Facilities_8865818 Integer\n",
      "0 <= Facilities_8866686 Integer\n",
      "0 <= Facilities_8866899 Integer\n",
      "0 <= Facilities_8867023 Integer\n",
      "0 <= Facilities_8867528 Integer\n",
      "0 <= Facilities_8867588 Integer\n",
      "0 <= Facilities_8867784 Integer\n",
      "Flow_captured_(('8864461',_'8860547'),_('8863810',_'8867784')) <= 1 Continuous\n",
      "Flow_captured_(('8864461',_'8860547'),_('8864235',_'8863810')) <= 1 Continuous\n",
      "Flow_captured_(('8864461',_'8860547'),_('8864235',_'8866899')) <= 1 Continuous\n",
      "Flow_captured_(('8864461',_'8860547'),_('8864235',_'8867023')) <= 1 Continuous\n",
      "Flow_captured_(('8864461',_'8860547'),_('8867784',_'8866899')) <= 1 Continuous\n",
      "Flow_captured_(('8864461',_'8860547'),_('8867784',_'8867023')) <= 1 Continuous\n",
      "Flow_captured_(('8864461',_'8860687'),_('8862585',_'8865818')) <= 1 Continuous\n",
      "Flow_captured_(('8864461',_'8860687'),_('8862585',_'8867528')) <= 1 Continuous\n",
      "Flow_captured_(('8864461',_'8860687'),_('8863988',_'8861736')) <= 1 Continuous\n",
      "Flow_captured_(('8864461',_'8860687'),_('8863988',_'8862585')) <= 1 Continuous\n",
      "Flow_captured_(('8864461',_'8860687'),_('8863988',_'8864235')) <= 1 Continuous\n",
      "Flow_captured_(('8864461',_'8860687'),_('8863988',_'8864482')) <= 1 Continuous\n",
      "Flow_captured_(('8864461',_'8860687'),_('8863988',_'8865803')) <= 1 Continuous\n",
      "Flow_captured_(('8864461',_'8860687'),_('8864009',_'8861736')) <= 1 Continuous\n",
      "Flow_captured_(('8864461',_'8860687'),_('8864009',_'8862585')) <= 1 Continuous\n",
      "Flow_captured_(('8864461',_'8860687'),_('8864009',_'8864482')) <= 1 Continuous\n",
      "Flow_captured_(('8864461',_'8860687'),_('8864235',_'8864009')) <= 1 Continuous\n",
      "Flow_captured_(('8864461',_'8860687'),_('8864235',_'8865086')) <= 1 Continuous\n",
      "Flow_captured_(('8864461',_'8860687'),_('8864235',_'8865818')) <= 1 Continuous\n",
      "Flow_captured_(('8864461',_'8860687'),_('8864235',_'8867528')) <= 1 Continuous\n",
      "Flow_captured_(('8864461',_'8860687'),_('8864235',_'8867588')) <= 1 Continuous\n",
      "Flow_captured_(('8864461',_'8860687'),_('8865086',_'8861736')) <= 1 Continuous\n",
      "Flow_captured_(('8864461',_'8860687'),_('8865086',_'8862585')) <= 1 Continuous\n",
      "Flow_captured_(('8864461',_'8860687'),_('8865086',_'8864482')) <= 1 Continuous\n",
      "Flow_captured_(('8864461',_'8860687'),_('8865803',_'8864009')) <= 1 Continuous\n",
      "Flow_captured_(('8864461',_'8860687'),_('8865803',_'8865086')) <= 1 Continuous\n",
      "Flow_captured_(('8864461',_'8860687'),_('8865803',_'8865818')) <= 1 Continuous\n",
      "Flow_captured_(('8864461',_'8860687'),_('8865803',_'8867528')) <= 1 Continuous\n",
      "Flow_captured_(('8864461',_'8860687'),_('8865803',_'8867588')) <= 1 Continuous\n",
      "Flow_captured_(('8864461',_'8860687'),_('8865818',_'8861736')) <= 1 Continuous\n",
      "Flow_captured_(('8864461',_'8860687'),_('8865818',_'8864482')) <= 1 Continuous\n",
      "Flow_captured_(('8864461',_'8860687'),_('8866686',_'8861736')) <= 1 Continuous\n",
      "Flow_captured_(('8864461',_'8860687'),_('8866686',_'8862585')) <= 1 Continuous\n",
      "Flow_captured_(('8864461',_'8860687'),_('8866686',_'8864235')) <= 1 Continuous\n",
      "Flow_captured_(('8864461',_'8860687'),_('8866686',_'8864482')) <= 1 Continuous\n",
      "Flow_captured_(('8864461',_'8860687'),_('8866686',_'8865803')) <= 1 Continuous\n",
      "Flow_captured_(('8864461',_'8860687'),_('8867528',_'8861736')) <= 1 Continuous\n",
      "Flow_captured_(('8864461',_'8860687'),_('8867528',_'8864482')) <= 1 Continuous\n",
      "Flow_captured_(('8864461',_'8860687'),_('8867588',_'8861736')) <= 1 Continuous\n",
      "Flow_captured_(('8864461',_'8860687'),_('8867588',_'8862585')) <= 1 Continuous\n",
      "Flow_captured_(('8864461',_'8860687'),_('8867588',_'8864482')) <= 1 Continuous\n",
      "Flow_captured_(('8864461',_'8862620'),_('8860968',_'8867784')) <= 1 Continuous\n",
      "\n",
      "Optimal\n",
      "Variable Facilities_8860968 is equal to 1.0\n",
      "Variable Facilities_8861736 is equal to 0.0\n",
      "Variable Facilities_8862585 is equal to 0.0\n",
      "Variable Facilities_8863810 is equal to 0.0\n",
      "Variable Facilities_8863988 is equal to 0.0\n",
      "Variable Facilities_8864009 is equal to 0.0\n",
      "Variable Facilities_8864235 is equal to 0.0\n",
      "Variable Facilities_8864482 is equal to 1.0\n",
      "Variable Facilities_8865086 is equal to 0.0\n",
      "Variable Facilities_8865803 is equal to 0.0\n",
      "Variable Facilities_8865818 is equal to 0.0\n",
      "Variable Facilities_8866686 is equal to 0.0\n",
      "Variable Facilities_8866899 is equal to 2.0\n",
      "Variable Facilities_8867023 is equal to 0.0\n",
      "Variable Facilities_8867528 is equal to 1.0\n",
      "Variable Facilities_8867588 is equal to 0.0\n",
      "Variable Facilities_8867784 is equal to 5.0\n",
      "Variable Flow_captured_(('8864461',_'8860547'),_('8863810',_'8867784')) is equal to 0.0\n",
      "Variable Flow_captured_(('8864461',_'8860547'),_('8864235',_'8863810')) is equal to 0.0\n",
      "Variable Flow_captured_(('8864461',_'8860547'),_('8864235',_'8866899')) is equal to 0.0\n",
      "Variable Flow_captured_(('8864461',_'8860547'),_('8864235',_'8867023')) is equal to 0.0\n",
      "Variable Flow_captured_(('8864461',_'8860547'),_('8867784',_'8866899')) is equal to 1.0\n",
      "Variable Flow_captured_(('8864461',_'8860547'),_('8867784',_'8867023')) is equal to 0.0\n",
      "Variable Flow_captured_(('8864461',_'8860687'),_('8862585',_'8865818')) is equal to 0.0\n",
      "Variable Flow_captured_(('8864461',_'8860687'),_('8862585',_'8867528')) is equal to 0.0\n",
      "Variable Flow_captured_(('8864461',_'8860687'),_('8863988',_'8861736')) is equal to 0.0\n",
      "Variable Flow_captured_(('8864461',_'8860687'),_('8863988',_'8862585')) is equal to 0.0\n",
      "Variable Flow_captured_(('8864461',_'8860687'),_('8863988',_'8864235')) is equal to 0.0\n",
      "Variable Flow_captured_(('8864461',_'8860687'),_('8863988',_'8864482')) is equal to 0.0\n",
      "Variable Flow_captured_(('8864461',_'8860687'),_('8863988',_'8865803')) is equal to 0.0\n",
      "Variable Flow_captured_(('8864461',_'8860687'),_('8864009',_'8861736')) is equal to 0.0\n",
      "Variable Flow_captured_(('8864461',_'8860687'),_('8864009',_'8862585')) is equal to 0.0\n",
      "Variable Flow_captured_(('8864461',_'8860687'),_('8864009',_'8864482')) is equal to 0.0\n",
      "Variable Flow_captured_(('8864461',_'8860687'),_('8864235',_'8864009')) is equal to 0.0\n",
      "Variable Flow_captured_(('8864461',_'8860687'),_('8864235',_'8865086')) is equal to 0.0\n",
      "Variable Flow_captured_(('8864461',_'8860687'),_('8864235',_'8865818')) is equal to 0.0\n",
      "Variable Flow_captured_(('8864461',_'8860687'),_('8864235',_'8867528')) is equal to 0.0\n",
      "Variable Flow_captured_(('8864461',_'8860687'),_('8864235',_'8867588')) is equal to 0.0\n",
      "Variable Flow_captured_(('8864461',_'8860687'),_('8865086',_'8861736')) is equal to 0.0\n",
      "Variable Flow_captured_(('8864461',_'8860687'),_('8865086',_'8862585')) is equal to 0.0\n",
      "Variable Flow_captured_(('8864461',_'8860687'),_('8865086',_'8864482')) is equal to 0.0\n",
      "Variable Flow_captured_(('8864461',_'8860687'),_('8865803',_'8864009')) is equal to 0.0\n",
      "Variable Flow_captured_(('8864461',_'8860687'),_('8865803',_'8865086')) is equal to 0.0\n",
      "Variable Flow_captured_(('8864461',_'8860687'),_('8865803',_'8865818')) is equal to 0.0\n",
      "Variable Flow_captured_(('8864461',_'8860687'),_('8865803',_'8867528')) is equal to 0.0\n",
      "Variable Flow_captured_(('8864461',_'8860687'),_('8865803',_'8867588')) is equal to 0.0\n",
      "Variable Flow_captured_(('8864461',_'8860687'),_('8865818',_'8861736')) is equal to 0.0\n",
      "Variable Flow_captured_(('8864461',_'8860687'),_('8865818',_'8864482')) is equal to 0.0\n",
      "Variable Flow_captured_(('8864461',_'8860687'),_('8866686',_'8861736')) is equal to 0.0\n",
      "Variable Flow_captured_(('8864461',_'8860687'),_('8866686',_'8862585')) is equal to 0.0\n",
      "Variable Flow_captured_(('8864461',_'8860687'),_('8866686',_'8864235')) is equal to 0.0\n",
      "Variable Flow_captured_(('8864461',_'8860687'),_('8866686',_'8864482')) is equal to 0.0\n",
      "Variable Flow_captured_(('8864461',_'8860687'),_('8866686',_'8865803')) is equal to 0.0\n",
      "Variable Flow_captured_(('8864461',_'8860687'),_('8867528',_'8861736')) is equal to 0.0\n",
      "Variable Flow_captured_(('8864461',_'8860687'),_('8867528',_'8864482')) is equal to 1.0\n",
      "Variable Flow_captured_(('8864461',_'8860687'),_('8867588',_'8861736')) is equal to 0.0\n",
      "Variable Flow_captured_(('8864461',_'8860687'),_('8867588',_'8862585')) is equal to 0.0\n",
      "Variable Flow_captured_(('8864461',_'8860687'),_('8867588',_'8864482')) is equal to 0.0\n",
      "Variable Flow_captured_(('8864461',_'8862620'),_('8860968',_'8867784')) is equal to 1.0\n",
      "Total supported flow is equal to 60.0\n",
      "CPU times: total: 484 ms\n",
      "Wall time: 495 ms\n"
     ]
    }
   ],
   "source": [
    "%time optimal_facilities, optimal_flows = second_stage_frlm(10, 20, df_g, df_b, df_eq_fq)"
   ],
   "metadata": {
    "collapsed": false,
    "pycharm": {
     "name": "#%%\n"
    }
   }
  }
 ],
 "metadata": {
  "kernelspec": {
   "display_name": "Python 3",
   "language": "python",
   "name": "python3"
  },
  "language_info": {
   "codemirror_mode": {
    "name": "ipython",
    "version": 2
   },
   "file_extension": ".py",
   "mimetype": "text/x-python",
   "name": "python",
   "nbconvert_exporter": "python",
   "pygments_lexer": "ipython2",
   "version": "2.7.6"
  }
 },
 "nbformat": 4,
 "nbformat_minor": 0
}