{
 "cells": [
  {
   "cell_type": "code",
   "execution_count": 1,
   "outputs": [],
   "source": [
    "from first_stage_frlm import first_stage_frlm\n",
    "from second_stage_frlm import second_stage_frlm\n",
    "from first_stage_frlm import get_minimal_subsets\n",
    "import networkx as nx\n",
    "import pandas as pd\n",
    "import numpy as np\n",
    "import itertools\n",
    "import matplotlib.pyplot as plt\n",
    "import random\n",
    "import itertools\n",
    "import pulp\n",
    "import pickle"
   ],
   "metadata": {
    "collapsed": false,
    "pycharm": {
     "name": "#%%\n"
    }
   }
  },
  {
   "cell_type": "code",
   "execution_count": 2,
   "outputs": [],
   "source": [
    "\n",
    "\n",
    "G = pickle.load( open('data/network_digital_twin_v0.2.pickle','rb'))"
   ],
   "metadata": {
    "collapsed": false,
    "pycharm": {
     "name": "#%%\n"
    }
   }
  },
  {
   "cell_type": "code",
   "execution_count": 3,
   "outputs": [],
   "source": [
    "a = nx.shortest_path(G,\"8864461\", \"8860547\", weight='length_m')\n",
    "harbour_exits = pickle.load( open(\"data/harbour_exits.p\", \"rb\") )"
   ],
   "metadata": {
    "collapsed": false,
    "pycharm": {
     "name": "#%%\n"
    }
   }
  },
  {
   "cell_type": "code",
   "execution_count": 4,
   "outputs": [
    {
     "name": "stdout",
     "output_type": "stream",
     "text": [
      "Harbours on route dict= {('8864461', '8860547'): ['8864235', '8867784', '8867023', '8863810', '8866899']}\n",
      "route refuel combinations to eval {('8864461', '8860547'): [('8864235',), ('8867784',), ('8867023',), ('8863810',), ('8866899',), ('8864235', '8867784'), ('8864235', '8867023'), ('8864235', '8863810'), ('8864235', '8866899'), ('8867784', '8867023'), ('8867784', '8863810'), ('8867784', '8866899'), ('8867023', '8863810'), ('8867023', '8866899'), ('8863810', '8866899'), ('8864235', '8867784', '8867023'), ('8864235', '8867784', '8863810'), ('8864235', '8867784', '8866899'), ('8864235', '8867023', '8863810'), ('8864235', '8867023', '8866899'), ('8864235', '8863810', '8866899'), ('8867784', '8867023', '8863810'), ('8867784', '8867023', '8866899'), ('8867784', '8863810', '8866899'), ('8867023', '8863810', '8866899'), ('8864235', '8867784', '8867023', '8863810'), ('8864235', '8867784', '8867023', '8866899'), ('8864235', '8867784', '8863810', '8866899'), ('8864235', '8867023', '8863810', '8866899'), ('8867784', '8867023', '8863810', '8866899'), ('8864235', '8867784', '8867023', '8863810', '8866899')]}\n",
      "['8864235', '8867784', '8867023', '8863810', '8866899', '8863810', '8867023', '8867784', '8864235']\n",
      "evaluate combi ('8864235',)\n",
      "final dest reached! 8864235\n",
      "evaluate combi ('8867784',)\n",
      "final dest reached! 8864235\n",
      "evaluate combi ('8867023',)\n",
      "final dest reached! 8864235\n",
      "evaluate combi ('8863810',)\n",
      "final dest reached! 8864235\n",
      "evaluate combi ('8866899',)\n",
      "final dest reached! 8866899\n",
      "evaluate combi ('8864235', '8867784')\n",
      "final dest reached! 8864235\n",
      "evaluate combi ('8864235', '8867023')\n",
      "final dest reached! 8864235\n",
      "evaluate combi ('8864235', '8863810')\n",
      "final dest reached! 8864235\n",
      "evaluate combi ('8864235', '8866899')\n",
      "final dest reached! 8866899\n",
      "evaluate combi ('8867784', '8867023')\n",
      "final dest reached! 8864235\n",
      "evaluate combi ('8867784', '8863810')\n",
      "final dest reached! 8864235\n",
      "evaluate combi ('8867784', '8866899')\n",
      "final dest reached! 8866899\n",
      "evaluate combi ('8867023', '8863810')\n",
      "final dest reached! 8864235\n",
      "evaluate combi ('8867023', '8866899')\n",
      "final dest reached! 8866899\n",
      "evaluate combi ('8863810', '8866899')\n",
      "final dest reached! 8866899\n",
      "evaluate combi ('8864235', '8867784', '8867023')\n",
      "final dest reached! 8864235\n",
      "evaluate combi ('8864235', '8867784', '8863810')\n",
      "final dest reached! 8864235\n",
      "evaluate combi ('8864235', '8867784', '8866899')\n",
      "final dest reached! 8866899\n",
      "evaluate combi ('8864235', '8867023', '8863810')\n",
      "final dest reached! 8864235\n",
      "evaluate combi ('8864235', '8867023', '8866899')\n",
      "final dest reached! 8866899\n",
      "evaluate combi ('8864235', '8863810', '8866899')\n",
      "final dest reached! 8866899\n",
      "evaluate combi ('8867784', '8867023', '8863810')\n",
      "final dest reached! 8864235\n",
      "evaluate combi ('8867784', '8867023', '8866899')\n",
      "final dest reached! 8866899\n",
      "evaluate combi ('8867784', '8863810', '8866899')\n",
      "final dest reached! 8866899\n",
      "evaluate combi ('8867023', '8863810', '8866899')\n",
      "final dest reached! 8866899\n",
      "evaluate combi ('8864235', '8867784', '8867023', '8863810')\n",
      "final dest reached! 8864235\n",
      "evaluate combi ('8864235', '8867784', '8867023', '8866899')\n",
      "final dest reached! 8866899\n",
      "evaluate combi ('8864235', '8867784', '8863810', '8866899')\n",
      "final dest reached! 8866899\n",
      "evaluate combi ('8864235', '8867023', '8863810', '8866899')\n",
      "final dest reached! 8866899\n",
      "evaluate combi ('8867784', '8867023', '8863810', '8866899')\n",
      "final dest reached! 8866899\n",
      "evaluate combi ('8864235', '8867784', '8867023', '8863810', '8866899')\n",
      "final dest reached! 8866899\n",
      "feasible combinations {('8864461', '8860547'): [('8864235',), ('8867784',), ('8867023',), ('8863810',), ('8866899',)]}\n",
      "Combinations: [('8864235',), ('8867784',), ('8867023',), ('8863810',), ('8866899',), ('8864235', '8867784'), ('8864235', '8867023'), ('8864235', '8863810'), ('8864235', '8866899'), ('8867784', '8867023'), ('8867784', '8863810'), ('8867784', '8866899'), ('8867023', '8863810'), ('8867023', '8866899'), ('8863810', '8866899'), ('8864235', '8867784', '8867023'), ('8864235', '8867784', '8863810'), ('8864235', '8867784', '8866899'), ('8864235', '8867023', '8863810'), ('8864235', '8867023', '8866899'), ('8864235', '8863810', '8866899'), ('8867784', '8867023', '8863810'), ('8867784', '8867023', '8866899'), ('8867784', '8863810', '8866899'), ('8867023', '8863810', '8866899'), ('8864235', '8867784', '8867023', '8863810'), ('8864235', '8867784', '8867023', '8866899'), ('8864235', '8867784', '8863810', '8866899'), ('8864235', '8867023', '8863810', '8866899'), ('8867784', '8867023', '8863810', '8866899'), ('8864235', '8867784', '8867023', '8863810', '8866899')]\n",
      "Node: 8864235 combination: ('8864235',)\n",
      "Node: 8867784 combination: ('8864235',)\n",
      "Node: 8867023 combination: ('8864235',)\n",
      "Node: 8863810 combination: ('8864235',)\n",
      "Node: 8866899 combination: ('8864235',)\n",
      "Node: 8864235 combination: ('8867784',)\n",
      "Node: 8867784 combination: ('8867784',)\n",
      "Node: 8867023 combination: ('8867784',)\n",
      "Node: 8863810 combination: ('8867784',)\n",
      "Node: 8866899 combination: ('8867784',)\n",
      "Node: 8864235 combination: ('8867023',)\n",
      "Node: 8867784 combination: ('8867023',)\n",
      "Node: 8867023 combination: ('8867023',)\n",
      "Node: 8863810 combination: ('8867023',)\n",
      "Node: 8866899 combination: ('8867023',)\n",
      "Node: 8864235 combination: ('8863810',)\n",
      "Node: 8867784 combination: ('8863810',)\n",
      "Node: 8867023 combination: ('8863810',)\n",
      "Node: 8863810 combination: ('8863810',)\n",
      "Node: 8866899 combination: ('8863810',)\n",
      "Node: 8864235 combination: ('8866899',)\n",
      "Node: 8867784 combination: ('8866899',)\n",
      "Node: 8867023 combination: ('8866899',)\n",
      "Node: 8863810 combination: ('8866899',)\n",
      "Node: 8866899 combination: ('8866899',)\n"
     ]
    }
   ],
   "source": [
    "df_b, df_g, df_eq_fq = first_stage_frlm(G, 120000, [(\"8864461\", \"8860547\", 10)])"
   ],
   "metadata": {
    "collapsed": false,
    "pycharm": {
     "name": "#%%\n"
    }
   }
  },
  {
   "cell_type": "code",
   "execution_count": 5,
   "outputs": [
    {
     "data": {
      "text/plain": "                               8864235  8867784  8867023  8863810  8866899\nq                  h                                                      \n(8864461, 8860547) (8864235,)        1        0        0        0        0\n                   (8867784,)        0        2        0        0        0\n                   (8867023,)        0        0        2        0        0\n                   (8863810,)        0        0        0        2        0\n                   (8866899,)        0        0        0        0        1",
      "text/html": "<div>\n<style scoped>\n    .dataframe tbody tr th:only-of-type {\n        vertical-align: middle;\n    }\n\n    .dataframe tbody tr th {\n        vertical-align: top;\n    }\n\n    .dataframe thead th {\n        text-align: right;\n    }\n</style>\n<table border=\"1\" class=\"dataframe\">\n  <thead>\n    <tr style=\"text-align: right;\">\n      <th></th>\n      <th></th>\n      <th>8864235</th>\n      <th>8867784</th>\n      <th>8867023</th>\n      <th>8863810</th>\n      <th>8866899</th>\n    </tr>\n    <tr>\n      <th>q</th>\n      <th>h</th>\n      <th></th>\n      <th></th>\n      <th></th>\n      <th></th>\n      <th></th>\n    </tr>\n  </thead>\n  <tbody>\n    <tr>\n      <th rowspan=\"5\" valign=\"top\">(8864461, 8860547)</th>\n      <th>(8864235,)</th>\n      <td>1</td>\n      <td>0</td>\n      <td>0</td>\n      <td>0</td>\n      <td>0</td>\n    </tr>\n    <tr>\n      <th>(8867784,)</th>\n      <td>0</td>\n      <td>2</td>\n      <td>0</td>\n      <td>0</td>\n      <td>0</td>\n    </tr>\n    <tr>\n      <th>(8867023,)</th>\n      <td>0</td>\n      <td>0</td>\n      <td>2</td>\n      <td>0</td>\n      <td>0</td>\n    </tr>\n    <tr>\n      <th>(8863810,)</th>\n      <td>0</td>\n      <td>0</td>\n      <td>0</td>\n      <td>2</td>\n      <td>0</td>\n    </tr>\n    <tr>\n      <th>(8866899,)</th>\n      <td>0</td>\n      <td>0</td>\n      <td>0</td>\n      <td>0</td>\n      <td>1</td>\n    </tr>\n  </tbody>\n</table>\n</div>"
     },
     "execution_count": 5,
     "metadata": {},
     "output_type": "execute_result"
    }
   ],
   "source": [
    "df_g"
   ],
   "metadata": {
    "collapsed": false,
    "pycharm": {
     "name": "#%%\n"
    }
   }
  },
  {
   "cell_type": "code",
   "execution_count": 6,
   "outputs": [
    {
     "data": {
      "text/plain": "                    (8864235,)  (8866899,)  (8867023,)  (8863810,)  (8867784,)\nq                                                                             \n(8864461, 8860547)           1           1           1           1           1",
      "text/html": "<div>\n<style scoped>\n    .dataframe tbody tr th:only-of-type {\n        vertical-align: middle;\n    }\n\n    .dataframe tbody tr th {\n        vertical-align: top;\n    }\n\n    .dataframe thead th {\n        text-align: right;\n    }\n</style>\n<table border=\"1\" class=\"dataframe\">\n  <thead>\n    <tr style=\"text-align: right;\">\n      <th></th>\n      <th>(8864235,)</th>\n      <th>(8866899,)</th>\n      <th>(8867023,)</th>\n      <th>(8863810,)</th>\n      <th>(8867784,)</th>\n    </tr>\n    <tr>\n      <th>q</th>\n      <th></th>\n      <th></th>\n      <th></th>\n      <th></th>\n      <th></th>\n    </tr>\n  </thead>\n  <tbody>\n    <tr>\n      <th>(8864461, 8860547)</th>\n      <td>1</td>\n      <td>1</td>\n      <td>1</td>\n      <td>1</td>\n      <td>1</td>\n    </tr>\n  </tbody>\n</table>\n</div>"
     },
     "execution_count": 6,
     "metadata": {},
     "output_type": "execute_result"
    }
   ],
   "source": [
    "df_b"
   ],
   "metadata": {
    "collapsed": false,
    "pycharm": {
     "name": "#%%\n"
    }
   }
  },
  {
   "cell_type": "code",
   "execution_count": 7,
   "outputs": [
    {
     "data": {
      "text/plain": "                    e_q  f_q\nq                           \n(8864461, 8860547)  1.0   10",
      "text/html": "<div>\n<style scoped>\n    .dataframe tbody tr th:only-of-type {\n        vertical-align: middle;\n    }\n\n    .dataframe tbody tr th {\n        vertical-align: top;\n    }\n\n    .dataframe thead th {\n        text-align: right;\n    }\n</style>\n<table border=\"1\" class=\"dataframe\">\n  <thead>\n    <tr style=\"text-align: right;\">\n      <th></th>\n      <th>e_q</th>\n      <th>f_q</th>\n    </tr>\n    <tr>\n      <th>q</th>\n      <th></th>\n      <th></th>\n    </tr>\n  </thead>\n  <tbody>\n    <tr>\n      <th>(8864461, 8860547)</th>\n      <td>1.0</td>\n      <td>10</td>\n    </tr>\n  </tbody>\n</table>\n</div>"
     },
     "execution_count": 7,
     "metadata": {},
     "output_type": "execute_result"
    }
   ],
   "source": [
    "df_eq_fq"
   ],
   "metadata": {
    "collapsed": false,
    "pycharm": {
     "name": "#%%\n"
    }
   }
  },
  {
   "cell_type": "code",
   "execution_count": 8,
   "outputs": [
    {
     "name": "stdout",
     "output_type": "stream",
     "text": [
      "{'8864235': Facilities_8864235, '8867784': Facilities_8867784, '8867023': Facilities_8867023, '8863810': Facilities_8863810, '8866899': Facilities_8866899}\n",
      "CFRLM:\n",
      "MAXIMIZE\n",
      "10*Flow_captured_(('8864461',_'8860547'),_('8863810',)) + 10*Flow_captured_(('8864461',_'8860547'),_('8864235',)) + 10*Flow_captured_(('8864461',_'8860547'),_('8866899',)) + 10*Flow_captured_(('8864461',_'8860547'),_('8867023',)) + 10*Flow_captured_(('8864461',_'8860547'),_('8867784',)) + 0\n",
      "SUBJECT TO\n",
      "_C1: - 20 Facilities_8864235\n",
      " + 10 Flow_captured_(('8864461',_'8860547'),_('8864235',)) <= 0\n",
      "\n",
      "_C2: - 20 Facilities_8867784\n",
      " + 20 Flow_captured_(('8864461',_'8860547'),_('8867784',)) <= 0\n",
      "\n",
      "_C3: - 20 Facilities_8867023\n",
      " + 20 Flow_captured_(('8864461',_'8860547'),_('8867023',)) <= 0\n",
      "\n",
      "_C4: - 20 Facilities_8863810\n",
      " + 20 Flow_captured_(('8864461',_'8860547'),_('8863810',)) <= 0\n",
      "\n",
      "_C5: - 20 Facilities_8866899\n",
      " + 10 Flow_captured_(('8864461',_'8860547'),_('8866899',)) <= 0\n",
      "\n",
      "_C6: Facilities_8863810 + Facilities_8864235 + Facilities_8866899\n",
      " + Facilities_8867023 + Facilities_8867784 <= 10\n",
      "\n",
      "_C7: Flow_captured_(('8864461',_'8860547'),_('8863810',))\n",
      " + Flow_captured_(('8864461',_'8860547'),_('8864235',))\n",
      " + Flow_captured_(('8864461',_'8860547'),_('8866899',))\n",
      " + Flow_captured_(('8864461',_'8860547'),_('8867023',))\n",
      " + Flow_captured_(('8864461',_'8860547'),_('8867784',)) <= 1\n",
      "\n",
      "VARIABLES\n",
      "0 <= Facilities_8863810 Integer\n",
      "0 <= Facilities_8864235 Integer\n",
      "0 <= Facilities_8866899 Integer\n",
      "0 <= Facilities_8867023 Integer\n",
      "0 <= Facilities_8867784 Integer\n",
      "Flow_captured_(('8864461',_'8860547'),_('8863810',)) <= 1 Continuous\n",
      "Flow_captured_(('8864461',_'8860547'),_('8864235',)) <= 1 Continuous\n",
      "Flow_captured_(('8864461',_'8860547'),_('8866899',)) <= 1 Continuous\n",
      "Flow_captured_(('8864461',_'8860547'),_('8867023',)) <= 1 Continuous\n",
      "Flow_captured_(('8864461',_'8860547'),_('8867784',)) <= 1 Continuous\n",
      "\n",
      "Optimal\n",
      "Variable Facilities_8863810 is equal to 0.0\n",
      "Variable Facilities_8864235 is equal to 1.0\n",
      "Variable Facilities_8866899 is equal to 0.0\n",
      "Variable Facilities_8867023 is equal to 0.0\n",
      "Variable Facilities_8867784 is equal to 0.0\n",
      "Variable Flow_captured_(('8864461',_'8860547'),_('8863810',)) is equal to 0.0\n",
      "Variable Flow_captured_(('8864461',_'8860547'),_('8864235',)) is equal to 1.0\n",
      "Variable Flow_captured_(('8864461',_'8860547'),_('8866899',)) is equal to 0.0\n",
      "Variable Flow_captured_(('8864461',_'8860547'),_('8867023',)) is equal to 0.0\n",
      "Variable Flow_captured_(('8864461',_'8860547'),_('8867784',)) is equal to 0.0\n",
      "Total supported flow is equal to 10.0\n"
     ]
    }
   ],
   "source": [
    "locations = second_stage_frlm(10, 20, df_g, df_b, df_eq_fq)"
   ],
   "metadata": {
    "collapsed": false,
    "pycharm": {
     "name": "#%%\n"
    }
   }
  },
  {
   "cell_type": "code",
   "execution_count": 9,
   "outputs": [],
   "source": [
    "harbours_on_route = [i for i in a if i in harbour_exits]"
   ],
   "metadata": {
    "collapsed": false,
    "pycharm": {
     "name": "#%%\n"
    }
   }
  },
  {
   "cell_type": "code",
   "execution_count": 9,
   "outputs": [],
   "source": [],
   "metadata": {
    "collapsed": false,
    "pycharm": {
     "name": "#%%\n"
    }
   }
  },
  {
   "cell_type": "code",
   "execution_count": 10,
   "outputs": [
    {
     "data": {
      "text/plain": "['8861581',\n '8860954',\n '8865802',\n '8864595',\n '8866901',\n '8867997',\n '8866039',\n '8862721',\n '8865377',\n '8868177',\n '8862214',\n '8866671',\n '8860725',\n '8862925',\n '8867119',\n '8862687',\n '8862401',\n '8860580',\n '8863942',\n '8862882',\n '8860920',\n '8865385',\n '8862481',\n '8864666',\n '8863811',\n '8867754',\n '8868239',\n '8862532',\n '8861998',\n '8863810',\n '8867023',\n '8866788',\n '8860833',\n '8866355',\n '8861758',\n '8866617',\n '8867702',\n '8862332',\n '8866429',\n '8867893',\n '8866642',\n '8867650',\n '8863215',\n '8862585',\n '8861602',\n '8866900',\n '8863185',\n '8862842',\n '8864490',\n '8866352',\n '8864197',\n '8866833',\n '8863813',\n '8863142',\n '8867414',\n '8865307',\n '8864009',\n '8867612',\n '8866520',\n '8866182',\n '8865600',\n '8866220',\n '8861233',\n '8867547',\n '8862296',\n '8865644',\n '8868151',\n '8864203',\n '8863535',\n '8864667',\n '28197692',\n '28197690',\n '8863700',\n '8866458',\n '8865570',\n '28313910',\n '8868372',\n '8864311',\n '8865398',\n '8865918',\n '8861038',\n '8866926',\n '8865175',\n '8866855',\n '8862951',\n '26519895',\n '22638200',\n '8865276',\n '8862419',\n '8860992',\n '28197685',\n '26519960',\n '8863006',\n '8865212',\n '8861331',\n '8864476',\n '8860756',\n '8864018',\n '8863966',\n '8867160',\n '8866061',\n '8864748',\n '8862515',\n '8863709',\n '8868047',\n '8862115',\n '8864512',\n '8866569',\n '8863525',\n '8864111',\n '8864053',\n '8865217',\n '8863475',\n '8866862',\n '8868191',\n '8864181',\n '8866118',\n '8863932',\n '8862076',\n '8863235',\n '8862340',\n '8861048',\n '8864420',\n '8865031',\n '8866008',\n '8860870',\n '8865052',\n '8864505',\n '8864891',\n '8863469',\n '8866654',\n '8863082',\n '8864753',\n '8864736',\n '8864780',\n '8865967',\n '8863814',\n '8867824',\n '8864524',\n '8862770',\n '8867123',\n '8862614',\n '8868116',\n '8863264',\n '8864875',\n '8861861',\n '8867429',\n '8863988',\n '8862301',\n '8861204',\n '8862228',\n '8860733',\n '28313766',\n '28314052',\n '8865435',\n '8866661',\n '8863326',\n '8864989',\n '8867296',\n '8862090',\n '8863301',\n '28314288',\n '8863865',\n '8864260',\n '8865990',\n '8863345',\n '8862663',\n '8867339',\n '8862967',\n '28313551',\n '8866775',\n '8863124',\n '8863882',\n '8868368',\n '8862386',\n '8868294',\n '8864648',\n '8860675',\n '8861492',\n '8864005',\n '8868367',\n '8861918',\n '8864247',\n '8862801',\n '8864082',\n '8861947',\n '8862712',\n '8861785',\n '8860964',\n '8864108',\n '8866477',\n '8867074',\n '8861833',\n '8867795',\n '8863498',\n '8861857',\n '8865388',\n '8860798',\n '8864020',\n '8868223',\n '8865241',\n '8865102',\n '8864787',\n '8866062',\n '8865128',\n '8865003',\n '8866893',\n '8868072',\n '8861050',\n '8866503',\n '8864954',\n '8863861',\n '8861280',\n '8862430',\n '8861154',\n '8860673',\n '8868359',\n '8865603',\n '8862776',\n '8866780',\n '8867510',\n '8865434',\n '8862989',\n '8863260',\n '8867154',\n '8863131',\n '8862016',\n '8860903',\n '8867789',\n '8865894',\n '8863125',\n '8867264',\n '8863982',\n '8867601',\n '8864566',\n '8863295',\n '8860804',\n '8862431',\n '8865942',\n '8864354',\n '8863261',\n '8861736',\n '8861414',\n '8860860',\n '8865941',\n '8865544',\n '8864094',\n '8861229',\n '8868391',\n '8866747',\n '8865180',\n '8863386',\n '8863979',\n '8867810',\n '8865674',\n '8866129',\n '8863695',\n '8866014',\n '8862473',\n '8861538',\n '8865575',\n '8864288',\n '8861674',\n '8865450',\n '8862231',\n '8867974',\n '8867928',\n '8865531',\n '8863646',\n '8862727',\n '8861337',\n '8865691',\n '8862763',\n '8866363',\n '8860787',\n '8861141',\n '8865817',\n '8862497',\n '8860743',\n '8865707',\n '8865605',\n '8862883',\n '8867865',\n '8863062',\n '8863931',\n '8867073',\n '8868100',\n '8861478',\n '8863465',\n '8864685',\n '8860617',\n '8868404',\n '8867060',\n '8863518',\n '8864682',\n '8867293',\n '8868002',\n '8862133',\n '8862884',\n '8863580',\n '8861951',\n '8866848',\n '8865814',\n '8864002',\n '8865972',\n '8860840',\n '8863471',\n '8863603',\n '8861097',\n '8862600',\n '8866557',\n '8865026',\n '8860697',\n '8862034',\n '8861733',\n '8866419',\n '8867731',\n '8865803',\n '8860614',\n '8862336',\n '8865832',\n '8862930',\n '8866601',\n '8866297',\n '8862569',\n '8861354',\n '8861546',\n '8861968',\n '8862506',\n '8868266',\n '8866019',\n '8865183',\n '8868011',\n '8864653',\n '8866830',\n '8866635',\n '8864170',\n '8861553',\n '8867922',\n '8864040',\n '8865302',\n '8865818',\n '8862283',\n '8867128',\n '8864153',\n '8861689',\n '8866417',\n '8867449',\n '8867258',\n '8865198',\n '8868401',\n '8863640',\n '8866899',\n '8861528',\n '8865405',\n '8865119',\n '8867403',\n '8860968',\n '8867030',\n '8867891',\n '8868393',\n '8864259',\n '8862959',\n '8864238',\n '8865829',\n '8860980',\n '8866566',\n '8861920',\n '8862492',\n '8862111',\n '8866075',\n '8866372',\n '8867931',\n '8867942',\n '8864325',\n '8866003',\n '8867920',\n '8866713',\n '8865339',\n '8862507',\n '8865631',\n '8862570',\n '8862031',\n '8861551',\n '8864235',\n '8864965',\n '8861175',\n '8863075',\n '8865550',\n '8865827',\n '8868140',\n '8866768',\n '8867607',\n '8863687',\n '8866313',\n '8865292',\n '8867855',\n '8864435',\n '8860734',\n '8867986',\n '8864117',\n '8861738',\n '8863311',\n '8867835',\n '8864937',\n '8865993',\n '8865997',\n '8863589',\n '8862592',\n '8868148',\n '8866963',\n '8864757',\n '8866137',\n '8861330',\n '8866439',\n '8867313',\n '22638310',\n '8863114',\n '19119515',\n '8868075',\n '19119732',\n '11309058',\n '22638173',\n '8862580',\n '8862448',\n '8864928',\n '19119713',\n '19119728',\n '19119752',\n '8860782',\n '8864099',\n '22638264',\n '8865412',\n '22638371',\n '19119809',\n '8864319',\n '22638320',\n '8863818',\n '8862438',\n '19119525',\n '8865288',\n '8861305',\n '16237951',\n '8862583',\n '8864096',\n '19119751',\n '8863604',\n '8861725',\n '8862911',\n '22638029',\n '8867130',\n '19119712',\n '19119862',\n '8865756',\n '10488638',\n '8861292',\n '8860634',\n '19440563',\n '19440565',\n '19440576',\n '8863826',\n '19440568',\n '19440520',\n '22161377',\n '22161426',\n '8863631',\n '22161437',\n '8867646',\n '22161444',\n '8862529',\n '8865921',\n '8867534',\n '21467614',\n '8865982',\n '8860582',\n '21467506',\n '21467621',\n '8866889',\n '8867999',\n '8865010',\n '8862366',\n '8865346',\n '8861879',\n '8864908',\n '8863820',\n '8867538',\n '8865020',\n '8861462',\n '8863206',\n '8868363',\n '8861611',\n '8861666',\n '8866686',\n '8866006',\n '8860835',\n '8868207',\n '8861485',\n '8864364',\n '8866165',\n '8862597',\n '8864585',\n '8865841',\n '8867574',\n '8864207',\n '8860982',\n '8861973',\n '8863216',\n '8862102',\n '8866425',\n '8863936',\n '8864801',\n '8864349',\n '8867899',\n '8862274',\n '8867750',\n '8864192',\n '8861251',\n '8864952',\n '8865642',\n '8864467',\n '8864482',\n '8864531',\n '8864783',\n '8865252',\n '8867489',\n '8863671',\n '8864814',\n '8866694',\n '8863913',\n '8867594',\n '8860998',\n '8866748',\n '8866815',\n '8866679',\n '8864161',\n '8866736',\n '8862369',\n '8866763',\n '8865619',\n '8865059',\n '8867052',\n '8864204',\n '8863599',\n '8866512',\n '8866708',\n '8865725',\n '8864915',\n '8865086',\n '8863207',\n '8868423',\n '8867637',\n '8860867',\n '8866937',\n '8866573',\n '8867528',\n '8865205',\n '8867395',\n '8863677',\n '8866465',\n '8867111',\n '8864798',\n '8863252',\n '8868361',\n '8864196',\n '8864684',\n '8860552',\n '8862526',\n '8867784',\n '8868174',\n '8864229',\n '8867232',\n '8860942',\n '8867736',\n '8865428',\n '8867588',\n '8866183',\n '8862907',\n '8860668',\n '8861552',\n '8861232',\n '8865315',\n '8863877',\n '8867374',\n '8867475',\n '8862267',\n '8864443',\n '8863856',\n '8860596',\n '8862992',\n '8862264',\n '8865127',\n '8863479',\n '8864650',\n '8864574',\n '8863821',\n '8866770',\n '8867089',\n '8867083',\n '8867679',\n '8863373',\n '8862895',\n '8867240',\n '8868108',\n '8867718',\n '8863306',\n '8864899',\n '8863773',\n '8860657',\n '8861332',\n '8867145',\n '8867849',\n '8863360',\n '8863468',\n '8865394',\n '8866022',\n '8864298',\n '8864983',\n '8863019',\n '8867665',\n '8860669',\n '8864441',\n '8862782',\n '8867392',\n '8861563',\n '8867516',\n '8867972',\n '8868307',\n '8860766',\n '8861051',\n '8863819',\n '8867910',\n '8864301',\n '8860905',\n '8865186',\n '8866045',\n '8868275',\n '8864837',\n '8866666',\n '8863173',\n '8865730',\n '8867450',\n '19440526',\n '8862202',\n '8866910',\n '8863077',\n '8868094',\n 'S46058_A',\n '22638160',\n '8862253']"
     },
     "execution_count": 10,
     "metadata": {},
     "output_type": "execute_result"
    }
   ],
   "source": [
    "harbour_exits"
   ],
   "metadata": {
    "collapsed": false,
    "pycharm": {
     "name": "#%%\n"
    }
   }
  },
  {
   "cell_type": "code",
   "execution_count": 11,
   "outputs": [
    {
     "ename": "AttributeError",
     "evalue": "'list' object has no attribute 'intersection'",
     "output_type": "error",
     "traceback": [
      "\u001B[1;31m---------------------------------------------------------------------------\u001B[0m",
      "\u001B[1;31mAttributeError\u001B[0m                            Traceback (most recent call last)",
      "Input \u001B[1;32mIn [11]\u001B[0m, in \u001B[0;36m<cell line: 1>\u001B[1;34m()\u001B[0m\n\u001B[1;32m----> 1\u001B[0m \u001B[43ma\u001B[49m\u001B[38;5;241;43m.\u001B[39;49m\u001B[43mintersection\u001B[49m(harbour_exits)\n",
      "\u001B[1;31mAttributeError\u001B[0m: 'list' object has no attribute 'intersection'"
     ]
    }
   ],
   "source": [
    "a.intersection(harbour_exits)"
   ],
   "metadata": {
    "collapsed": false,
    "pycharm": {
     "name": "#%%\n"
    }
   }
  },
  {
   "cell_type": "code",
   "execution_count": null,
   "outputs": [],
   "source": [
    "nx.shortest_path_length(G,\"8864461\", \"8860547\", weight='length_m')"
   ],
   "metadata": {
    "collapsed": false,
    "pycharm": {
     "name": "#%%\n"
    }
   }
  },
  {
   "cell_type": "code",
   "execution_count": null,
   "outputs": [],
   "source": [
    "s = 0\n",
    "a = ['8867784', '8866899', '8864235', '8867023', '8863810', '8867023', '8864235', '8866899', '8867784']\n",
    "for i in range (len(a)-1):\n",
    "    s+= (nx.shortest_path_length(G, a[i], a[i+1], weight = 'length_m'))\n",
    "s"
   ],
   "metadata": {
    "collapsed": false,
    "pycharm": {
     "name": "#%%\n"
    }
   }
  },
  {
   "cell_type": "code",
   "execution_count": null,
   "outputs": [],
   "source": [],
   "metadata": {
    "collapsed": false,
    "pycharm": {
     "name": "#%%\n"
    }
   }
  },
  {
   "cell_type": "code",
   "execution_count": null,
   "outputs": [],
   "source": [
    "df_g"
   ],
   "metadata": {
    "collapsed": false,
    "pycharm": {
     "name": "#%%\n"
    }
   }
  },
  {
   "cell_type": "code",
   "execution_count": null,
   "outputs": [],
   "source": [
    "#Get data from df\n",
    "df_links = nx.to_pandas_edgelist(G)\n",
    "df_nodes = pd.DataFrame.from_dict(dict(G.nodes(data=True)), orient='index')"
   ],
   "metadata": {
    "collapsed": false,
    "pycharm": {
     "name": "#%%\n"
    }
   }
  },
  {
   "cell_type": "code",
   "execution_count": null,
   "outputs": [],
   "source": [
    "a =[(1,2,3), (1,3,2)]"
   ],
   "metadata": {
    "collapsed": false,
    "pycharm": {
     "name": "#%%\n"
    }
   }
  },
  {
   "cell_type": "code",
   "execution_count": null,
   "outputs": [],
   "source": [
    "list(feasible_comb.values())"
   ],
   "metadata": {
    "collapsed": false,
    "pycharm": {
     "name": "#%%\n"
    }
   }
  },
  {
   "cell_type": "code",
   "execution_count": null,
   "outputs": [],
   "source": [
    "a = [item for t in a for item in t]\n",
    "a"
   ],
   "metadata": {
    "collapsed": false,
    "pycharm": {
     "name": "#%%\n"
    }
   }
  },
  {
   "cell_type": "code",
   "execution_count": null,
   "outputs": [],
   "source": [
    "print(len(df_links))"
   ],
   "metadata": {
    "collapsed": false,
    "pycharm": {
     "name": "#%%\n"
    }
   }
  },
  {
   "cell_type": "code",
   "execution_count": null,
   "outputs": [],
   "source": [
    "Berths =[\"Berth\"+str(i) for i in range (100)]"
   ],
   "metadata": {
    "collapsed": false,
    "pycharm": {
     "name": "#%%\n"
    }
   }
  },
  {
   "cell_type": "code",
   "execution_count": null,
   "outputs": [],
   "source": [
    "# Which locations may be considered to place charging stations ?\n",
    "# How to know when a potential location is passed (because not directly on route) ?\n",
    "\n",
    "#separate all links that go to some harbour\n",
    "# df_links.loc[(df_links.Name=='Vaarwegvak van 0 tot 0 - H')& (df_links.target.isin(Berths))].dropna(how='all')\n",
    "# results in only 15 rows, for 47 Berths, doesn't work too well...\n",
    "\n",
    "# Sometimes multiple links to final harbour node...\n",
    "# What if Vaarwegvak van 0 tot 0 - H, with at least degree of 3 of source node?\n",
    "\n",
    "#first collect degrees\n",
    "degrees = G.degree\n",
    "\n",
    "harbour_nodes = df_links.loc[(df_links.Name=='Vaarwegvak van 0 tot 0 - H')]\n",
    "harbour_nodes.reset_index(inplace = True, drop = True)\n",
    "\n",
    "for index, source in enumerate(harbour_nodes.source):\n",
    "    if degrees[source] < 3:\n",
    "        harbour_nodes.drop(index, inplace=True)\n",
    "\n",
    "harbour_nodes.reset_index(inplace = True, drop = True)"
   ],
   "metadata": {
    "collapsed": false,
    "pycharm": {
     "name": "#%%\n"
    }
   }
  },
  {
   "cell_type": "code",
   "execution_count": null,
   "outputs": [],
   "source": [
    "harbour_nodes\n",
    "#looks OK for now! Maybe still filter based on depth or something like that later on"
   ],
   "metadata": {
    "collapsed": false,
    "pycharm": {
     "name": "#%%\n"
    }
   }
  },
  {
   "cell_type": "code",
   "execution_count": null,
   "outputs": [],
   "source": [
    "#create list with unique harbour exits on ongoing routes\n",
    "harbour_exits = list(harbour_nodes.source.unique())"
   ],
   "metadata": {
    "collapsed": false,
    "pycharm": {
     "name": "#%%\n"
    }
   }
  },
  {
   "cell_type": "code",
   "execution_count": null,
   "outputs": [],
   "source": [
    "len(harbour_exits)\n",
    "# number of unique harbour_exits for whole network looks somewhat reasonable\n",
    "# pick list to use in program\n",
    "pickle.dump( harbour_exits, open( \"data/harbour_exits.p\", \"wb\" ) )"
   ],
   "metadata": {
    "collapsed": false,
    "pycharm": {
     "name": "#%%\n"
    }
   }
  },
  {
   "cell_type": "code",
   "execution_count": null,
   "outputs": [],
   "source": [
    "df_links.loc[df_links.target == \"B53636_B\"]"
   ],
   "metadata": {
    "collapsed": false,
    "pycharm": {
     "name": "#%%\n"
    }
   }
  },
  {
   "cell_type": "markdown",
   "source": [
    "## Random origin and destination picked using:\n",
    "\n",
    "https://deploy-preview-19–digitwin-waterways.netlify.app/#/\n",
    "\n",
    "(8860852, B43966_B, 10) (8860852, B27067_B, 5)\n",
    "\n",
    "Now check if it works with two scripts!"
   ],
   "metadata": {
    "collapsed": false,
    "pycharm": {
     "name": "#%% md\n"
    }
   }
  },
  {
   "cell_type": "code",
   "execution_count": null,
   "outputs": [],
   "source": [
    "# scripts clearly still need to be adjusted to new network slightly"
   ],
   "metadata": {
    "collapsed": false,
    "pycharm": {
     "name": "#%%\n"
    }
   }
  },
  {
   "cell_type": "code",
   "execution_count": null,
   "outputs": [],
   "source": [
    "50*(10**3)"
   ],
   "metadata": {
    "collapsed": false,
    "pycharm": {
     "name": "#%%\n"
    }
   }
  },
  {
   "cell_type": "code",
   "execution_count": null,
   "outputs": [],
   "source": [],
   "metadata": {
    "collapsed": false,
    "pycharm": {
     "name": "#%%\n"
    }
   }
  },
  {
   "cell_type": "code",
   "execution_count": null,
   "outputs": [],
   "source": [
    "feasible_comb"
   ],
   "metadata": {
    "collapsed": false,
    "pycharm": {
     "name": "#%%\n"
    }
   }
  },
  {
   "cell_type": "code",
   "execution_count": null,
   "outputs": [],
   "source": [
    "nx.dijkstra_path_length(G, '8864461', '8860547', weight = 'length_m')"
   ],
   "metadata": {
    "collapsed": false,
    "pycharm": {
     "name": "#%%\n"
    }
   }
  },
  {
   "cell_type": "code",
   "execution_count": null,
   "outputs": [],
   "source": [
    "df_b"
   ],
   "metadata": {
    "collapsed": false,
    "pycharm": {
     "name": "#%%\n"
    }
   }
  },
  {
   "cell_type": "code",
   "execution_count": null,
   "outputs": [],
   "source": [
    "locations = second_stage_frlm(10, 20, df_g, df_b, df_eq_fq)"
   ],
   "metadata": {
    "collapsed": false,
    "pycharm": {
     "name": "#%%\n"
    }
   }
  },
  {
   "cell_type": "code",
   "execution_count": null,
   "outputs": [],
   "source": [],
   "metadata": {
    "collapsed": false,
    "pycharm": {
     "name": "#%%\n"
    }
   }
  }
 ],
 "metadata": {
  "kernelspec": {
   "display_name": "Python 3",
   "language": "python",
   "name": "python3"
  },
  "language_info": {
   "codemirror_mode": {
    "name": "ipython",
    "version": 2
   },
   "file_extension": ".py",
   "mimetype": "text/x-python",
   "name": "python",
   "nbconvert_exporter": "python",
   "pygments_lexer": "ipython2",
   "version": "2.7.6"
  }
 },
 "nbformat": 4,
 "nbformat_minor": 0
}