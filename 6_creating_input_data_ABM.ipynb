{
 "cells": [
  {
   "cell_type": "code",
   "execution_count": 1,
   "outputs": [],
   "source": [
    "import numpy as np\n",
    "import pandas as pd\n",
    "from fullfrlm import flow_refueling_location_model\n",
    "import pickle\n",
    "import networkx as nx\n",
    "df_h = pickle.load(open(\"data/revised_cleaning_results/harbour_data_100.p\", \"rb\"))"
   ],
   "metadata": {
    "collapsed": false,
    "pycharm": {
     "name": "#%%\n"
    }
   }
  },
  {
   "cell_type": "code",
   "execution_count": 2,
   "outputs": [
    {
     "data": {
      "text/plain": "    Unnamed: 0 country city_abbr            city_full  function        coords  \\\n0        78676      NL       ABL         Alblasserdam  1-------           nan   \n1        78678      NL       ALK              Alkmaar  123-----  5238N 00445E   \n2        78680      NL       ALM               Almelo  123-----  5221N 00640E   \n3        78682      NL       AER               Almere  1-3--6--  5222N 00513E   \n4        78685      NL       APN  Alphen aan den Rijn  123-----  5208N 00440E   \n..         ...     ...       ...                  ...       ...           ...   \n65       80378      NL       WTE    West-Terschelling  1-------           nan   \n66       80438      NL       WMO               Wormer  1-3-----  5230N 00449E   \n67       80450      NL       ZAA              Zaandam  123-----           nan   \n68       80514      NL       ZWI          Zwijndrecht  123-----           nan   \n69       80516      NL       ZWO               Zwolle  -23-----           nan   \n\n   harbour_code        lat       lon harbour_node  \n0         NLABL  51.861514  4.657490      8866686  \n1         NLALK  52.633333  4.750000      8861625  \n2         NLALM  52.350000  6.666667      8866425  \n3         NLAER  52.366667  5.216667      8864005  \n4         NLAPN  52.133333  4.666667      8863360  \n..          ...        ...       ...          ...  \n65        NLWTE  53.362705  5.216893      8865605  \n66        NLWMO  52.500000  4.816667      8866889  \n67        NLZAA  52.442040  4.829199      8866889  \n68        NLZWI  51.810598  4.627272      8865003  \n69        NLZWO  52.516775  6.083022      8862506  \n\n[70 rows x 10 columns]",
      "text/html": "<div>\n<style scoped>\n    .dataframe tbody tr th:only-of-type {\n        vertical-align: middle;\n    }\n\n    .dataframe tbody tr th {\n        vertical-align: top;\n    }\n\n    .dataframe thead th {\n        text-align: right;\n    }\n</style>\n<table border=\"1\" class=\"dataframe\">\n  <thead>\n    <tr style=\"text-align: right;\">\n      <th></th>\n      <th>Unnamed: 0</th>\n      <th>country</th>\n      <th>city_abbr</th>\n      <th>city_full</th>\n      <th>function</th>\n      <th>coords</th>\n      <th>harbour_code</th>\n      <th>lat</th>\n      <th>lon</th>\n      <th>harbour_node</th>\n    </tr>\n  </thead>\n  <tbody>\n    <tr>\n      <th>0</th>\n      <td>78676</td>\n      <td>NL</td>\n      <td>ABL</td>\n      <td>Alblasserdam</td>\n      <td>1-------</td>\n      <td>nan</td>\n      <td>NLABL</td>\n      <td>51.861514</td>\n      <td>4.657490</td>\n      <td>8866686</td>\n    </tr>\n    <tr>\n      <th>1</th>\n      <td>78678</td>\n      <td>NL</td>\n      <td>ALK</td>\n      <td>Alkmaar</td>\n      <td>123-----</td>\n      <td>5238N 00445E</td>\n      <td>NLALK</td>\n      <td>52.633333</td>\n      <td>4.750000</td>\n      <td>8861625</td>\n    </tr>\n    <tr>\n      <th>2</th>\n      <td>78680</td>\n      <td>NL</td>\n      <td>ALM</td>\n      <td>Almelo</td>\n      <td>123-----</td>\n      <td>5221N 00640E</td>\n      <td>NLALM</td>\n      <td>52.350000</td>\n      <td>6.666667</td>\n      <td>8866425</td>\n    </tr>\n    <tr>\n      <th>3</th>\n      <td>78682</td>\n      <td>NL</td>\n      <td>AER</td>\n      <td>Almere</td>\n      <td>1-3--6--</td>\n      <td>5222N 00513E</td>\n      <td>NLAER</td>\n      <td>52.366667</td>\n      <td>5.216667</td>\n      <td>8864005</td>\n    </tr>\n    <tr>\n      <th>4</th>\n      <td>78685</td>\n      <td>NL</td>\n      <td>APN</td>\n      <td>Alphen aan den Rijn</td>\n      <td>123-----</td>\n      <td>5208N 00440E</td>\n      <td>NLAPN</td>\n      <td>52.133333</td>\n      <td>4.666667</td>\n      <td>8863360</td>\n    </tr>\n    <tr>\n      <th>...</th>\n      <td>...</td>\n      <td>...</td>\n      <td>...</td>\n      <td>...</td>\n      <td>...</td>\n      <td>...</td>\n      <td>...</td>\n      <td>...</td>\n      <td>...</td>\n      <td>...</td>\n    </tr>\n    <tr>\n      <th>65</th>\n      <td>80378</td>\n      <td>NL</td>\n      <td>WTE</td>\n      <td>West-Terschelling</td>\n      <td>1-------</td>\n      <td>nan</td>\n      <td>NLWTE</td>\n      <td>53.362705</td>\n      <td>5.216893</td>\n      <td>8865605</td>\n    </tr>\n    <tr>\n      <th>66</th>\n      <td>80438</td>\n      <td>NL</td>\n      <td>WMO</td>\n      <td>Wormer</td>\n      <td>1-3-----</td>\n      <td>5230N 00449E</td>\n      <td>NLWMO</td>\n      <td>52.500000</td>\n      <td>4.816667</td>\n      <td>8866889</td>\n    </tr>\n    <tr>\n      <th>67</th>\n      <td>80450</td>\n      <td>NL</td>\n      <td>ZAA</td>\n      <td>Zaandam</td>\n      <td>123-----</td>\n      <td>nan</td>\n      <td>NLZAA</td>\n      <td>52.442040</td>\n      <td>4.829199</td>\n      <td>8866889</td>\n    </tr>\n    <tr>\n      <th>68</th>\n      <td>80514</td>\n      <td>NL</td>\n      <td>ZWI</td>\n      <td>Zwijndrecht</td>\n      <td>123-----</td>\n      <td>nan</td>\n      <td>NLZWI</td>\n      <td>51.810598</td>\n      <td>4.627272</td>\n      <td>8865003</td>\n    </tr>\n    <tr>\n      <th>69</th>\n      <td>80516</td>\n      <td>NL</td>\n      <td>ZWO</td>\n      <td>Zwolle</td>\n      <td>-23-----</td>\n      <td>nan</td>\n      <td>NLZWO</td>\n      <td>52.516775</td>\n      <td>6.083022</td>\n      <td>8862506</td>\n    </tr>\n  </tbody>\n</table>\n<p>70 rows × 10 columns</p>\n</div>"
     },
     "execution_count": 2,
     "metadata": {},
     "output_type": "execute_result"
    }
   ],
   "source": [
    "df_h"
   ],
   "metadata": {
    "collapsed": false,
    "pycharm": {
     "name": "#%%\n"
    }
   }
  },
  {
   "cell_type": "code",
   "execution_count": 4,
   "outputs": [
    {
     "name": "stdout",
     "output_type": "stream",
     "text": [
      "Optimal\n"
     ]
    }
   ],
   "source": [
    "total_flow, fraction_captured_total, serveable_fraction, served_fraction, optimal_facilities, non_zero_flows, routes_supported, paths, G, df_nodes_abm, df_links_abm = flow_refueling_location_model(1, 50000, 100, 5, 5, 20, vis=False)"
   ],
   "metadata": {
    "collapsed": false,
    "pycharm": {
     "name": "#%%\n"
    }
   }
  },
  {
   "cell_type": "code",
   "execution_count": 5,
   "outputs": [],
   "source": [
    "nodes = []\n",
    "for route in non_zero_flows.keys():\n",
    "    nodes += paths[route]\n",
    "\n",
    "nodes = list(set(nodes))"
   ],
   "metadata": {
    "collapsed": false,
    "pycharm": {
     "name": "#%%\n"
    }
   }
  },
  {
   "cell_type": "code",
   "execution_count": 6,
   "outputs": [],
   "source": [
    "df_nodes = pd.DataFrame.from_dict(dict(G.nodes(data=True)), orient='index')"
   ],
   "metadata": {
    "collapsed": false,
    "pycharm": {
     "name": "#%%\n"
    }
   }
  },
  {
   "cell_type": "code",
   "execution_count": 7,
   "outputs": [],
   "source": [
    "df_nodes = df_nodes.loc[df_nodes.index.isin(nodes)]"
   ],
   "metadata": {
    "collapsed": false,
    "pycharm": {
     "name": "#%%\n"
    }
   }
  },
  {
   "cell_type": "code",
   "execution_count": 8,
   "outputs": [],
   "source": [
    "df_nodes.fillna(0, inplace=True)\n",
    "df_nodes['node_type'] =df_nodes.n.apply(lambda x: \"harbour\" if ((len(str(x))>4) and (x in df_h.harbour_node.unique())) else x)\n",
    "df_nodes.node_type = df_nodes.node_type.apply(lambda x: \"inserted_node\" if x==0 else x)\n",
    "df_nodes.node_type = df_nodes.node_type.apply(lambda x: \"intermediate_node\" if str(x).isdigit() else x)"
   ],
   "metadata": {
    "collapsed": false,
    "pycharm": {
     "name": "#%%\n"
    }
   }
  },
  {
   "cell_type": "code",
   "execution_count": 9,
   "outputs": [
    {
     "data": {
      "text/plain": "                 n         X          Y  \\\n30986055  30986055  5.402429  53.177448   \n8866889    8866889  4.832089  52.431155   \n30984595  30984595  4.572310  51.692559   \n8862690    8862690  5.525170  52.500915   \n8867901    8867901  5.765900  52.583854   \n...            ...       ...        ...   \n8863742    8863742  4.553617  51.905834   \n8864837    8864837  5.021452  52.278257   \n104              0  4.855249  51.945632   \n105              0  4.503940  52.050725   \n113              0  5.210375  53.241520   \n\n                                                   geometry  \\\n30986055  {'type': 'Point', 'coordinates': (5.4024286549...   \n8866889   {'type': 'Point', 'coordinates': (4.8320885330...   \n30984595  {'type': 'Point', 'coordinates': (4.5723099808...   \n8862690   {'type': 'Point', 'coordinates': (5.5251701716...   \n8867901   {'type': 'Point', 'coordinates': (5.7659000453...   \n...                                                     ...   \n8863742   {'type': 'Point', 'coordinates': (4.5536169332...   \n8864837   {'type': 'Point', 'coordinates': (5.0214516249...   \n104                                                       0   \n105                                                       0   \n113                                                       0   \n\n                                                     Wkt          node_type  \n30986055  POINT (5.4024286549502500 53.1774479247266001)  intermediate_node  \n8866889   POINT (4.8320885330888101 52.4311547312740984)            harbour  \n30984595  POINT (4.5723099808310499 51.6925587903231971)            harbour  \n8862690   POINT (5.5251701716520598 52.5009152734822990)  intermediate_node  \n8867901   POINT (5.7659000453479203 52.5838536996871895)  intermediate_node  \n...                                                  ...                ...  \n8863742   POINT (4.5536169332697396 51.9058337674907975)  intermediate_node  \n8864837   POINT (5.0214516249353398 52.2782565774994978)            harbour  \n104                                                    0      inserted_node  \n105                                                    0      inserted_node  \n113                                                    0      inserted_node  \n\n[95 rows x 6 columns]",
      "text/html": "<div>\n<style scoped>\n    .dataframe tbody tr th:only-of-type {\n        vertical-align: middle;\n    }\n\n    .dataframe tbody tr th {\n        vertical-align: top;\n    }\n\n    .dataframe thead th {\n        text-align: right;\n    }\n</style>\n<table border=\"1\" class=\"dataframe\">\n  <thead>\n    <tr style=\"text-align: right;\">\n      <th></th>\n      <th>n</th>\n      <th>X</th>\n      <th>Y</th>\n      <th>geometry</th>\n      <th>Wkt</th>\n      <th>node_type</th>\n    </tr>\n  </thead>\n  <tbody>\n    <tr>\n      <th>30986055</th>\n      <td>30986055</td>\n      <td>5.402429</td>\n      <td>53.177448</td>\n      <td>{'type': 'Point', 'coordinates': (5.4024286549...</td>\n      <td>POINT (5.4024286549502500 53.1774479247266001)</td>\n      <td>intermediate_node</td>\n    </tr>\n    <tr>\n      <th>8866889</th>\n      <td>8866889</td>\n      <td>4.832089</td>\n      <td>52.431155</td>\n      <td>{'type': 'Point', 'coordinates': (4.8320885330...</td>\n      <td>POINT (4.8320885330888101 52.4311547312740984)</td>\n      <td>harbour</td>\n    </tr>\n    <tr>\n      <th>30984595</th>\n      <td>30984595</td>\n      <td>4.572310</td>\n      <td>51.692559</td>\n      <td>{'type': 'Point', 'coordinates': (4.5723099808...</td>\n      <td>POINT (4.5723099808310499 51.6925587903231971)</td>\n      <td>harbour</td>\n    </tr>\n    <tr>\n      <th>8862690</th>\n      <td>8862690</td>\n      <td>5.525170</td>\n      <td>52.500915</td>\n      <td>{'type': 'Point', 'coordinates': (5.5251701716...</td>\n      <td>POINT (5.5251701716520598 52.5009152734822990)</td>\n      <td>intermediate_node</td>\n    </tr>\n    <tr>\n      <th>8867901</th>\n      <td>8867901</td>\n      <td>5.765900</td>\n      <td>52.583854</td>\n      <td>{'type': 'Point', 'coordinates': (5.7659000453...</td>\n      <td>POINT (5.7659000453479203 52.5838536996871895)</td>\n      <td>intermediate_node</td>\n    </tr>\n    <tr>\n      <th>...</th>\n      <td>...</td>\n      <td>...</td>\n      <td>...</td>\n      <td>...</td>\n      <td>...</td>\n      <td>...</td>\n    </tr>\n    <tr>\n      <th>8863742</th>\n      <td>8863742</td>\n      <td>4.553617</td>\n      <td>51.905834</td>\n      <td>{'type': 'Point', 'coordinates': (4.5536169332...</td>\n      <td>POINT (4.5536169332697396 51.9058337674907975)</td>\n      <td>intermediate_node</td>\n    </tr>\n    <tr>\n      <th>8864837</th>\n      <td>8864837</td>\n      <td>5.021452</td>\n      <td>52.278257</td>\n      <td>{'type': 'Point', 'coordinates': (5.0214516249...</td>\n      <td>POINT (5.0214516249353398 52.2782565774994978)</td>\n      <td>harbour</td>\n    </tr>\n    <tr>\n      <th>104</th>\n      <td>0</td>\n      <td>4.855249</td>\n      <td>51.945632</td>\n      <td>0</td>\n      <td>0</td>\n      <td>inserted_node</td>\n    </tr>\n    <tr>\n      <th>105</th>\n      <td>0</td>\n      <td>4.503940</td>\n      <td>52.050725</td>\n      <td>0</td>\n      <td>0</td>\n      <td>inserted_node</td>\n    </tr>\n    <tr>\n      <th>113</th>\n      <td>0</td>\n      <td>5.210375</td>\n      <td>53.241520</td>\n      <td>0</td>\n      <td>0</td>\n      <td>inserted_node</td>\n    </tr>\n  </tbody>\n</table>\n<p>95 rows × 6 columns</p>\n</div>"
     },
     "execution_count": 9,
     "metadata": {},
     "output_type": "execute_result"
    }
   ],
   "source": [
    "df_nodes"
   ],
   "metadata": {
    "collapsed": false,
    "pycharm": {
     "name": "#%%\n"
    }
   }
  },
  {
   "cell_type": "code",
   "execution_count": 10,
   "outputs": [],
   "source": [
    "df_nodes['index1'] = df_nodes.index\n",
    "df_nodes['charging_stations'] = df_nodes.index1.apply(lambda x: optimal_facilities[x] if (x in df_h.harbour_node.unique()) or (len(str(x)) == 3) else 0)\n",
    "df_nodes.drop(columns=['index1', 'n', 'geometry', 'Wkt'], inplace=True)"
   ],
   "metadata": {
    "collapsed": false,
    "pycharm": {
     "name": "#%%\n"
    }
   }
  },
  {
   "cell_type": "code",
   "execution_count": 11,
   "outputs": [
    {
     "data": {
      "text/plain": "                 X          Y          node_type  charging_stations\n30986055  5.402429  53.177448  intermediate_node                0.0\n8866889   4.832089  52.431155            harbour                1.0\n30984595  4.572310  51.692559            harbour                2.0\n8862690   5.525170  52.500915  intermediate_node                0.0\n8867901   5.765900  52.583854  intermediate_node                0.0\n...            ...        ...                ...                ...\n8863742   4.553617  51.905834  intermediate_node                0.0\n8864837   5.021452  52.278257            harbour                5.0\n104       4.855249  51.945632      inserted_node                2.0\n105       4.503940  52.050725      inserted_node                1.0\n113       5.210375  53.241520      inserted_node                5.0\n\n[95 rows x 4 columns]",
      "text/html": "<div>\n<style scoped>\n    .dataframe tbody tr th:only-of-type {\n        vertical-align: middle;\n    }\n\n    .dataframe tbody tr th {\n        vertical-align: top;\n    }\n\n    .dataframe thead th {\n        text-align: right;\n    }\n</style>\n<table border=\"1\" class=\"dataframe\">\n  <thead>\n    <tr style=\"text-align: right;\">\n      <th></th>\n      <th>X</th>\n      <th>Y</th>\n      <th>node_type</th>\n      <th>charging_stations</th>\n    </tr>\n  </thead>\n  <tbody>\n    <tr>\n      <th>30986055</th>\n      <td>5.402429</td>\n      <td>53.177448</td>\n      <td>intermediate_node</td>\n      <td>0.0</td>\n    </tr>\n    <tr>\n      <th>8866889</th>\n      <td>4.832089</td>\n      <td>52.431155</td>\n      <td>harbour</td>\n      <td>1.0</td>\n    </tr>\n    <tr>\n      <th>30984595</th>\n      <td>4.572310</td>\n      <td>51.692559</td>\n      <td>harbour</td>\n      <td>2.0</td>\n    </tr>\n    <tr>\n      <th>8862690</th>\n      <td>5.525170</td>\n      <td>52.500915</td>\n      <td>intermediate_node</td>\n      <td>0.0</td>\n    </tr>\n    <tr>\n      <th>8867901</th>\n      <td>5.765900</td>\n      <td>52.583854</td>\n      <td>intermediate_node</td>\n      <td>0.0</td>\n    </tr>\n    <tr>\n      <th>...</th>\n      <td>...</td>\n      <td>...</td>\n      <td>...</td>\n      <td>...</td>\n    </tr>\n    <tr>\n      <th>8863742</th>\n      <td>4.553617</td>\n      <td>51.905834</td>\n      <td>intermediate_node</td>\n      <td>0.0</td>\n    </tr>\n    <tr>\n      <th>8864837</th>\n      <td>5.021452</td>\n      <td>52.278257</td>\n      <td>harbour</td>\n      <td>5.0</td>\n    </tr>\n    <tr>\n      <th>104</th>\n      <td>4.855249</td>\n      <td>51.945632</td>\n      <td>inserted_node</td>\n      <td>2.0</td>\n    </tr>\n    <tr>\n      <th>105</th>\n      <td>4.503940</td>\n      <td>52.050725</td>\n      <td>inserted_node</td>\n      <td>1.0</td>\n    </tr>\n    <tr>\n      <th>113</th>\n      <td>5.210375</td>\n      <td>53.241520</td>\n      <td>inserted_node</td>\n      <td>5.0</td>\n    </tr>\n  </tbody>\n</table>\n<p>95 rows × 4 columns</p>\n</div>"
     },
     "execution_count": 11,
     "metadata": {},
     "output_type": "execute_result"
    }
   ],
   "source": [
    "df_nodes"
   ],
   "metadata": {
    "collapsed": false,
    "pycharm": {
     "name": "#%%\n"
    }
   }
  },
  {
   "cell_type": "code",
   "execution_count": 12,
   "outputs": [],
   "source": [
    "df_links = nx.to_pandas_edgelist(G)"
   ],
   "metadata": {
    "collapsed": false,
    "pycharm": {
     "name": "#%%\n"
    }
   }
  },
  {
   "cell_type": "code",
   "execution_count": 14,
   "outputs": [
    {
     "data": {
      "text/plain": "       source   target      length_m\n0    30986055  8867600   8380.518917\n1    30986055  8864167     68.700608\n2    30986055  8865756   2481.139176\n3    11309058  8865990  18936.187403\n4    11309058  8866775  11560.215727\n..        ...      ...           ...\n229   8868457  8865470   1299.095559\n230   8863207      102  33576.255098\n231   8861231  8865449    366.299833\n232   8861231      104  28372.871466\n233       117      118  25298.547813\n\n[234 rows x 3 columns]",
      "text/html": "<div>\n<style scoped>\n    .dataframe tbody tr th:only-of-type {\n        vertical-align: middle;\n    }\n\n    .dataframe tbody tr th {\n        vertical-align: top;\n    }\n\n    .dataframe thead th {\n        text-align: right;\n    }\n</style>\n<table border=\"1\" class=\"dataframe\">\n  <thead>\n    <tr style=\"text-align: right;\">\n      <th></th>\n      <th>source</th>\n      <th>target</th>\n      <th>length_m</th>\n    </tr>\n  </thead>\n  <tbody>\n    <tr>\n      <th>0</th>\n      <td>30986055</td>\n      <td>8867600</td>\n      <td>8380.518917</td>\n    </tr>\n    <tr>\n      <th>1</th>\n      <td>30986055</td>\n      <td>8864167</td>\n      <td>68.700608</td>\n    </tr>\n    <tr>\n      <th>2</th>\n      <td>30986055</td>\n      <td>8865756</td>\n      <td>2481.139176</td>\n    </tr>\n    <tr>\n      <th>3</th>\n      <td>11309058</td>\n      <td>8865990</td>\n      <td>18936.187403</td>\n    </tr>\n    <tr>\n      <th>4</th>\n      <td>11309058</td>\n      <td>8866775</td>\n      <td>11560.215727</td>\n    </tr>\n    <tr>\n      <th>...</th>\n      <td>...</td>\n      <td>...</td>\n      <td>...</td>\n    </tr>\n    <tr>\n      <th>229</th>\n      <td>8868457</td>\n      <td>8865470</td>\n      <td>1299.095559</td>\n    </tr>\n    <tr>\n      <th>230</th>\n      <td>8863207</td>\n      <td>102</td>\n      <td>33576.255098</td>\n    </tr>\n    <tr>\n      <th>231</th>\n      <td>8861231</td>\n      <td>8865449</td>\n      <td>366.299833</td>\n    </tr>\n    <tr>\n      <th>232</th>\n      <td>8861231</td>\n      <td>104</td>\n      <td>28372.871466</td>\n    </tr>\n    <tr>\n      <th>233</th>\n      <td>117</td>\n      <td>118</td>\n      <td>25298.547813</td>\n    </tr>\n  </tbody>\n</table>\n<p>234 rows × 3 columns</p>\n</div>"
     },
     "execution_count": 14,
     "metadata": {},
     "output_type": "execute_result"
    }
   ],
   "source": [
    "df_links.loc[:, ['source', 'target', 'length_m']]"
   ],
   "metadata": {
    "collapsed": false,
    "pycharm": {
     "name": "#%%\n"
    }
   }
  },
  {
   "cell_type": "code",
   "execution_count": null,
   "outputs": [],
   "source": [],
   "metadata": {
    "collapsed": false,
    "pycharm": {
     "name": "#%%\n"
    }
   }
  }
 ],
 "metadata": {
  "kernelspec": {
   "display_name": "Python 3",
   "language": "python",
   "name": "python3"
  },
  "language_info": {
   "codemirror_mode": {
    "name": "ipython",
    "version": 2
   },
   "file_extension": ".py",
   "mimetype": "text/x-python",
   "name": "python",
   "nbconvert_exporter": "python",
   "pygments_lexer": "ipython2",
   "version": "2.7.6"
  }
 },
 "nbformat": 4,
 "nbformat_minor": 0
}