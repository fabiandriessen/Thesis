{
 "cells": [
  {
   "cell_type": "code",
   "execution_count": 1,
   "metadata": {
    "collapsed": true,
    "pycharm": {
     "name": "#%%\n"
    }
   },
   "outputs": [],
   "source": [
    "import pandas as pd\n",
    "from fullfrlm import flow_refueling_location_model\n",
    "from get_abm_data import get_cs_data_batch, get_vessel_data_batch\n",
    "import pickle"
   ]
  },
  {
   "cell_type": "code",
   "execution_count": 2,
   "outputs": [],
   "source": [
    "seeds = [259572, 7542, 864199, 11540, 188813, 411862, 546078, 420812, 304196, 814030]"
   ],
   "metadata": {
    "collapsed": false,
    "pycharm": {
     "name": "#%%\n"
    }
   }
  },
  {
   "cell_type": "code",
   "execution_count": 3,
   "outputs": [
    {
     "name": "stdout",
     "output_type": "stream",
     "text": [
      "Optimal\n"
     ]
    }
   ],
   "source": [
    "# for seed in seeds:\n",
    "total_flow, fraction_captured_total, serviceable_fraction, served_fraction, optimal_facilities, \\\n",
    "    non_zero_flows, routes_supported, paths, G, df_abm, df_random_out = flow_refueling_location_model(1, seeds[0], 70000, 40, 600, 2, False, False, False)"
   ],
   "metadata": {
    "collapsed": false,
    "pycharm": {
     "name": "#%%\n"
    }
   }
  },
  {
   "cell_type": "code",
   "execution_count": 6,
   "outputs": [],
   "source": [
    "batch_data = pickle.load(open('ABM/own_work/data/batch_run_result.p', 'rb'))"
   ],
   "metadata": {
    "collapsed": false,
    "pycharm": {
     "name": "#%%\n"
    }
   }
  },
  {
   "cell_type": "code",
   "execution_count": 7,
   "outputs": [],
   "source": [
    "df_cs = get_cs_data_batch(batch_data)"
   ],
   "metadata": {
    "collapsed": false,
    "pycharm": {
     "name": "#%%\n"
    }
   }
  },
  {
   "cell_type": "code",
   "execution_count": 8,
   "outputs": [
    {
     "data": {
      "text/plain": "          occupation  max_occupation  avg_line  max_line  charging_stations\nAgentID                                                                    \n8868191     0.024715           1.000  0.000000     0.000                1.0\n8866297     0.029725           1.000  0.000000     0.000                1.0\n8863709     0.030419           1.000  0.000174     0.125                1.0\n8865412     0.032713           1.000  0.000930     0.375                1.0\n22638146    0.037636           1.000  0.000000     0.000                1.0\n8864111     0.042597           1.000  0.002046     0.250                1.0\n8864837     0.045734           1.000  0.000694     0.375                1.0\n8868208     0.047321           1.000  0.001426     0.250                1.0\n8867395     0.050062           1.000  0.000322     0.125                1.0\n22637863    0.050831           1.000  0.000831     0.250                1.0\n8864566     0.060193           1.000  0.001463     0.250                1.0\n22638327    0.061582           1.000  0.002170     0.500                1.0\n8863818     0.067113           1.000  0.001153     0.250                1.0\n8865600     0.073475           1.000  0.003435     0.375                1.0\n8866889     0.078968           1.000  0.005184     0.625                1.0\n8866893     0.079849           1.000  0.003435     0.625                1.0\n8865605     0.088207           1.375  0.000000     0.000                2.0\n8867240     0.094221           1.000  0.008395     0.625                1.0\n8863469     0.099851           1.000  0.007800     0.750                1.0\n8865756     0.102555           1.500  0.000000     0.000                2.0\n8863019     0.106052           1.000  0.004489     0.625                1.0\n8867740     0.118217           1.000  0.005345     0.750                1.0\n30984595    0.160218           1.875  0.000000     0.000                2.0\n8864005     0.166270           2.000  0.000595     0.250                2.0\n8867538     0.191468           2.000  0.000000     0.000                2.0\n8866763     0.196168           2.000  0.001228     0.375                2.0\n8863306     0.198388           2.000  0.000769     0.250                2.0\n8865003     0.202121           1.875  0.000905     0.250                2.0\n8866686     0.221788           1.875  0.002505     0.500                2.0\n8862663     0.233036           1.875  0.005531     0.375                2.0",
      "text/html": "<div>\n<style scoped>\n    .dataframe tbody tr th:only-of-type {\n        vertical-align: middle;\n    }\n\n    .dataframe tbody tr th {\n        vertical-align: top;\n    }\n\n    .dataframe thead th {\n        text-align: right;\n    }\n</style>\n<table border=\"1\" class=\"dataframe\">\n  <thead>\n    <tr style=\"text-align: right;\">\n      <th></th>\n      <th>occupation</th>\n      <th>max_occupation</th>\n      <th>avg_line</th>\n      <th>max_line</th>\n      <th>charging_stations</th>\n    </tr>\n    <tr>\n      <th>AgentID</th>\n      <th></th>\n      <th></th>\n      <th></th>\n      <th></th>\n      <th></th>\n    </tr>\n  </thead>\n  <tbody>\n    <tr>\n      <th>8868191</th>\n      <td>0.024715</td>\n      <td>1.000</td>\n      <td>0.000000</td>\n      <td>0.000</td>\n      <td>1.0</td>\n    </tr>\n    <tr>\n      <th>8866297</th>\n      <td>0.029725</td>\n      <td>1.000</td>\n      <td>0.000000</td>\n      <td>0.000</td>\n      <td>1.0</td>\n    </tr>\n    <tr>\n      <th>8863709</th>\n      <td>0.030419</td>\n      <td>1.000</td>\n      <td>0.000174</td>\n      <td>0.125</td>\n      <td>1.0</td>\n    </tr>\n    <tr>\n      <th>8865412</th>\n      <td>0.032713</td>\n      <td>1.000</td>\n      <td>0.000930</td>\n      <td>0.375</td>\n      <td>1.0</td>\n    </tr>\n    <tr>\n      <th>22638146</th>\n      <td>0.037636</td>\n      <td>1.000</td>\n      <td>0.000000</td>\n      <td>0.000</td>\n      <td>1.0</td>\n    </tr>\n    <tr>\n      <th>8864111</th>\n      <td>0.042597</td>\n      <td>1.000</td>\n      <td>0.002046</td>\n      <td>0.250</td>\n      <td>1.0</td>\n    </tr>\n    <tr>\n      <th>8864837</th>\n      <td>0.045734</td>\n      <td>1.000</td>\n      <td>0.000694</td>\n      <td>0.375</td>\n      <td>1.0</td>\n    </tr>\n    <tr>\n      <th>8868208</th>\n      <td>0.047321</td>\n      <td>1.000</td>\n      <td>0.001426</td>\n      <td>0.250</td>\n      <td>1.0</td>\n    </tr>\n    <tr>\n      <th>8867395</th>\n      <td>0.050062</td>\n      <td>1.000</td>\n      <td>0.000322</td>\n      <td>0.125</td>\n      <td>1.0</td>\n    </tr>\n    <tr>\n      <th>22637863</th>\n      <td>0.050831</td>\n      <td>1.000</td>\n      <td>0.000831</td>\n      <td>0.250</td>\n      <td>1.0</td>\n    </tr>\n    <tr>\n      <th>8864566</th>\n      <td>0.060193</td>\n      <td>1.000</td>\n      <td>0.001463</td>\n      <td>0.250</td>\n      <td>1.0</td>\n    </tr>\n    <tr>\n      <th>22638327</th>\n      <td>0.061582</td>\n      <td>1.000</td>\n      <td>0.002170</td>\n      <td>0.500</td>\n      <td>1.0</td>\n    </tr>\n    <tr>\n      <th>8863818</th>\n      <td>0.067113</td>\n      <td>1.000</td>\n      <td>0.001153</td>\n      <td>0.250</td>\n      <td>1.0</td>\n    </tr>\n    <tr>\n      <th>8865600</th>\n      <td>0.073475</td>\n      <td>1.000</td>\n      <td>0.003435</td>\n      <td>0.375</td>\n      <td>1.0</td>\n    </tr>\n    <tr>\n      <th>8866889</th>\n      <td>0.078968</td>\n      <td>1.000</td>\n      <td>0.005184</td>\n      <td>0.625</td>\n      <td>1.0</td>\n    </tr>\n    <tr>\n      <th>8866893</th>\n      <td>0.079849</td>\n      <td>1.000</td>\n      <td>0.003435</td>\n      <td>0.625</td>\n      <td>1.0</td>\n    </tr>\n    <tr>\n      <th>8865605</th>\n      <td>0.088207</td>\n      <td>1.375</td>\n      <td>0.000000</td>\n      <td>0.000</td>\n      <td>2.0</td>\n    </tr>\n    <tr>\n      <th>8867240</th>\n      <td>0.094221</td>\n      <td>1.000</td>\n      <td>0.008395</td>\n      <td>0.625</td>\n      <td>1.0</td>\n    </tr>\n    <tr>\n      <th>8863469</th>\n      <td>0.099851</td>\n      <td>1.000</td>\n      <td>0.007800</td>\n      <td>0.750</td>\n      <td>1.0</td>\n    </tr>\n    <tr>\n      <th>8865756</th>\n      <td>0.102555</td>\n      <td>1.500</td>\n      <td>0.000000</td>\n      <td>0.000</td>\n      <td>2.0</td>\n    </tr>\n    <tr>\n      <th>8863019</th>\n      <td>0.106052</td>\n      <td>1.000</td>\n      <td>0.004489</td>\n      <td>0.625</td>\n      <td>1.0</td>\n    </tr>\n    <tr>\n      <th>8867740</th>\n      <td>0.118217</td>\n      <td>1.000</td>\n      <td>0.005345</td>\n      <td>0.750</td>\n      <td>1.0</td>\n    </tr>\n    <tr>\n      <th>30984595</th>\n      <td>0.160218</td>\n      <td>1.875</td>\n      <td>0.000000</td>\n      <td>0.000</td>\n      <td>2.0</td>\n    </tr>\n    <tr>\n      <th>8864005</th>\n      <td>0.166270</td>\n      <td>2.000</td>\n      <td>0.000595</td>\n      <td>0.250</td>\n      <td>2.0</td>\n    </tr>\n    <tr>\n      <th>8867538</th>\n      <td>0.191468</td>\n      <td>2.000</td>\n      <td>0.000000</td>\n      <td>0.000</td>\n      <td>2.0</td>\n    </tr>\n    <tr>\n      <th>8866763</th>\n      <td>0.196168</td>\n      <td>2.000</td>\n      <td>0.001228</td>\n      <td>0.375</td>\n      <td>2.0</td>\n    </tr>\n    <tr>\n      <th>8863306</th>\n      <td>0.198388</td>\n      <td>2.000</td>\n      <td>0.000769</td>\n      <td>0.250</td>\n      <td>2.0</td>\n    </tr>\n    <tr>\n      <th>8865003</th>\n      <td>0.202121</td>\n      <td>1.875</td>\n      <td>0.000905</td>\n      <td>0.250</td>\n      <td>2.0</td>\n    </tr>\n    <tr>\n      <th>8866686</th>\n      <td>0.221788</td>\n      <td>1.875</td>\n      <td>0.002505</td>\n      <td>0.500</td>\n      <td>2.0</td>\n    </tr>\n    <tr>\n      <th>8862663</th>\n      <td>0.233036</td>\n      <td>1.875</td>\n      <td>0.005531</td>\n      <td>0.375</td>\n      <td>2.0</td>\n    </tr>\n  </tbody>\n</table>\n</div>"
     },
     "execution_count": 8,
     "metadata": {},
     "output_type": "execute_result"
    }
   ],
   "source": [
    "df_cs"
   ],
   "metadata": {
    "collapsed": false,
    "pycharm": {
     "name": "#%%\n"
    }
   }
  },
  {
   "cell_type": "code",
   "execution_count": 9,
   "outputs": [],
   "source": [
    "df_vessels = get_vessel_data_batch(batch_data)"
   ],
   "metadata": {
    "collapsed": false,
    "pycharm": {
     "name": "#%%\n"
    }
   }
  },
  {
   "cell_type": "code",
   "execution_count": 10,
   "outputs": [
    {
     "data": {
      "text/plain": "                           id  time_departed  travel_time  time_in_line  \\\nroute                                                                     \n(NLVEN, NLBON, 0)  220.636364    6217.363636   242.636364     11.909091   \n(NLNIJ, NLWAS, 0)  230.700000    6506.300000   229.600000      9.100000   \n(NLTNZ, NLVLI, 0)  200.733333    5599.133333   110.000000      7.066667   \n(NLALK, NLIJM, 0)  191.411765    5380.882353   258.000000      2.705882   \n(NLOOS, NLTLB, 0)  261.866667    7439.266667   127.000000      2.066667   \n(NLGOR, NLRTM, 0)  201.133333    5807.600000   237.000000      1.133333   \n(NLRTM, NLAPN, 0)  186.026316    5265.184211   186.000000      1.131579   \n(NLMOE, NLAPN, 1)  176.500000    4947.000000   317.000000      0.833333   \n(NLRTM, NLGTB, 1)  144.222222    4159.888889   263.555556      0.000000   \n(NLRTM, NLMOE, 0)  225.906250    6332.562500   187.562500      0.000000   \n(NLABL, NLRTM, 0)  211.111111    6029.000000    65.000000      0.000000   \n(NLRTM, NLMOE, 1)  184.333333    5244.083333   188.000000      0.000000   \n(NLRTM, NLWLK, 1)  147.562500    4234.062500   361.000000      0.000000   \n(NLTLB, NLMOE, 0)  163.142857    4597.142857   275.000000      0.000000   \n(NLTNZ, NLBRS, 0)  261.750000    7501.750000   121.000000      0.000000   \n(NLUTC, NLTIE, 0)  249.000000    6853.285714   195.000000      0.000000   \n(NLSWI, NLLEY, 0)  199.800000    5608.200000    99.000000      0.000000   \n(NLMOE, NLOOS, 0)  212.800000    5993.600000   148.000000      0.000000   \n(NLNIJ, NLDRU, 0)  204.400000    5842.000000   143.000000      0.000000   \n(NLAER, NLLEY, 0)  242.363636    6841.090909   158.000000      0.000000   \n(NLKGZ, NLZAA, 0)  234.400000    6403.000000    22.000000      0.000000   \n(NLKGZ, NLAMS, 0)  145.600000    4172.700000    13.000000      0.000000   \n(NLHAR, NLWTE, 0)  183.590909    5220.727273   206.000000      0.000000   \n(NLFAR, NLEEM, 0)  193.375000    5626.750000   157.000000      0.000000   \n(NLDRO, NLKAM, 0)  238.000000    6728.727273    87.000000      0.000000   \n(NLDOR, NLRTM, 1)   79.666667    2315.666667   130.000000      0.000000   \n(NLDOR, NLRTM, 0)  245.562500    6973.062500   130.000000      0.000000   \n(NLAMS, NLZAA, 0)  142.777778    4082.000000    30.000000      0.000000   \n(NLAMS, NLWMO, 0)  241.333333    6758.750000    30.000000      0.000000   \n(NLAMS, NLUTC, 1)  185.200000    5313.800000   279.000000      0.000000   \n(NLAMS, NLAER, 0)  249.404762    7022.857143   228.000000      0.000000   \n(NLWSP, NLAER, 0)  171.000000    5000.000000   183.000000      0.000000   \n\n                   time_charging  battery_size  \nroute                                           \n(NLVEN, NLBON, 0)     138.000000   6026.363636  \n(NLNIJ, NLWAS, 0)     151.900000   5964.000000  \n(NLTNZ, NLVLI, 0)      79.666667   5766.533333  \n(NLALK, NLIJM, 0)      56.764706   2335.529412  \n(NLOOS, NLTLB, 0)      83.666667   6650.000000  \n(NLGOR, NLRTM, 0)     112.733333   5455.800000  \n(NLRTM, NLAPN, 0)      73.921053   3631.157895  \n(NLMOE, NLAPN, 1)     161.000000   6078.333333  \n(NLRTM, NLGTB, 1)     119.333333   5148.888889  \n(NLRTM, NLMOE, 0)     115.906250   6328.437500  \n(NLABL, NLRTM, 0)      63.111111   6829.111111  \n(NLRTM, NLMOE, 1)     164.750000   7836.666667  \n(NLRTM, NLWLK, 1)      61.750000   2031.000000  \n(NLTLB, NLMOE, 0)     126.571429   5330.285714  \n(NLTNZ, NLBRS, 0)      41.250000   3483.000000  \n(NLUTC, NLTIE, 0)      90.000000   5330.285714  \n(NLSWI, NLLEY, 0)      44.400000   2142.600000  \n(NLMOE, NLOOS, 0)      85.000000   6650.000000  \n(NLNIJ, NLDRU, 0)      73.600000   5964.000000  \n(NLAER, NLLEY, 0)      27.181818   1973.636364  \n(NLKGZ, NLZAA, 0)       5.800000   3626.200000  \n(NLKGZ, NLAMS, 0)      15.700000   1449.300000  \n(NLHAR, NLWTE, 0)     154.636364   8705.045455  \n(NLFAR, NLEEM, 0)      62.500000   3325.125000  \n(NLDRO, NLKAM, 0)      20.272727   2571.454545  \n(NLDOR, NLRTM, 1)      73.000000   6269.333333  \n(NLDOR, NLRTM, 0)      57.812500   5792.500000  \n(NLAMS, NLZAA, 0)      28.000000   2354.444444  \n(NLAMS, NLWMO, 0)       5.250000   1400.000000  \n(NLAMS, NLUTC, 1)     156.800000   6514.800000  \n(NLAMS, NLAER, 0)      63.976190   3260.238095  \n(NLWSP, NLAER, 0)      54.888889   3469.000000  ",
      "text/html": "<div>\n<style scoped>\n    .dataframe tbody tr th:only-of-type {\n        vertical-align: middle;\n    }\n\n    .dataframe tbody tr th {\n        vertical-align: top;\n    }\n\n    .dataframe thead th {\n        text-align: right;\n    }\n</style>\n<table border=\"1\" class=\"dataframe\">\n  <thead>\n    <tr style=\"text-align: right;\">\n      <th></th>\n      <th>id</th>\n      <th>time_departed</th>\n      <th>travel_time</th>\n      <th>time_in_line</th>\n      <th>time_charging</th>\n      <th>battery_size</th>\n    </tr>\n    <tr>\n      <th>route</th>\n      <th></th>\n      <th></th>\n      <th></th>\n      <th></th>\n      <th></th>\n      <th></th>\n    </tr>\n  </thead>\n  <tbody>\n    <tr>\n      <th>(NLVEN, NLBON, 0)</th>\n      <td>220.636364</td>\n      <td>6217.363636</td>\n      <td>242.636364</td>\n      <td>11.909091</td>\n      <td>138.000000</td>\n      <td>6026.363636</td>\n    </tr>\n    <tr>\n      <th>(NLNIJ, NLWAS, 0)</th>\n      <td>230.700000</td>\n      <td>6506.300000</td>\n      <td>229.600000</td>\n      <td>9.100000</td>\n      <td>151.900000</td>\n      <td>5964.000000</td>\n    </tr>\n    <tr>\n      <th>(NLTNZ, NLVLI, 0)</th>\n      <td>200.733333</td>\n      <td>5599.133333</td>\n      <td>110.000000</td>\n      <td>7.066667</td>\n      <td>79.666667</td>\n      <td>5766.533333</td>\n    </tr>\n    <tr>\n      <th>(NLALK, NLIJM, 0)</th>\n      <td>191.411765</td>\n      <td>5380.882353</td>\n      <td>258.000000</td>\n      <td>2.705882</td>\n      <td>56.764706</td>\n      <td>2335.529412</td>\n    </tr>\n    <tr>\n      <th>(NLOOS, NLTLB, 0)</th>\n      <td>261.866667</td>\n      <td>7439.266667</td>\n      <td>127.000000</td>\n      <td>2.066667</td>\n      <td>83.666667</td>\n      <td>6650.000000</td>\n    </tr>\n    <tr>\n      <th>(NLGOR, NLRTM, 0)</th>\n      <td>201.133333</td>\n      <td>5807.600000</td>\n      <td>237.000000</td>\n      <td>1.133333</td>\n      <td>112.733333</td>\n      <td>5455.800000</td>\n    </tr>\n    <tr>\n      <th>(NLRTM, NLAPN, 0)</th>\n      <td>186.026316</td>\n      <td>5265.184211</td>\n      <td>186.000000</td>\n      <td>1.131579</td>\n      <td>73.921053</td>\n      <td>3631.157895</td>\n    </tr>\n    <tr>\n      <th>(NLMOE, NLAPN, 1)</th>\n      <td>176.500000</td>\n      <td>4947.000000</td>\n      <td>317.000000</td>\n      <td>0.833333</td>\n      <td>161.000000</td>\n      <td>6078.333333</td>\n    </tr>\n    <tr>\n      <th>(NLRTM, NLGTB, 1)</th>\n      <td>144.222222</td>\n      <td>4159.888889</td>\n      <td>263.555556</td>\n      <td>0.000000</td>\n      <td>119.333333</td>\n      <td>5148.888889</td>\n    </tr>\n    <tr>\n      <th>(NLRTM, NLMOE, 0)</th>\n      <td>225.906250</td>\n      <td>6332.562500</td>\n      <td>187.562500</td>\n      <td>0.000000</td>\n      <td>115.906250</td>\n      <td>6328.437500</td>\n    </tr>\n    <tr>\n      <th>(NLABL, NLRTM, 0)</th>\n      <td>211.111111</td>\n      <td>6029.000000</td>\n      <td>65.000000</td>\n      <td>0.000000</td>\n      <td>63.111111</td>\n      <td>6829.111111</td>\n    </tr>\n    <tr>\n      <th>(NLRTM, NLMOE, 1)</th>\n      <td>184.333333</td>\n      <td>5244.083333</td>\n      <td>188.000000</td>\n      <td>0.000000</td>\n      <td>164.750000</td>\n      <td>7836.666667</td>\n    </tr>\n    <tr>\n      <th>(NLRTM, NLWLK, 1)</th>\n      <td>147.562500</td>\n      <td>4234.062500</td>\n      <td>361.000000</td>\n      <td>0.000000</td>\n      <td>61.750000</td>\n      <td>2031.000000</td>\n    </tr>\n    <tr>\n      <th>(NLTLB, NLMOE, 0)</th>\n      <td>163.142857</td>\n      <td>4597.142857</td>\n      <td>275.000000</td>\n      <td>0.000000</td>\n      <td>126.571429</td>\n      <td>5330.285714</td>\n    </tr>\n    <tr>\n      <th>(NLTNZ, NLBRS, 0)</th>\n      <td>261.750000</td>\n      <td>7501.750000</td>\n      <td>121.000000</td>\n      <td>0.000000</td>\n      <td>41.250000</td>\n      <td>3483.000000</td>\n    </tr>\n    <tr>\n      <th>(NLUTC, NLTIE, 0)</th>\n      <td>249.000000</td>\n      <td>6853.285714</td>\n      <td>195.000000</td>\n      <td>0.000000</td>\n      <td>90.000000</td>\n      <td>5330.285714</td>\n    </tr>\n    <tr>\n      <th>(NLSWI, NLLEY, 0)</th>\n      <td>199.800000</td>\n      <td>5608.200000</td>\n      <td>99.000000</td>\n      <td>0.000000</td>\n      <td>44.400000</td>\n      <td>2142.600000</td>\n    </tr>\n    <tr>\n      <th>(NLMOE, NLOOS, 0)</th>\n      <td>212.800000</td>\n      <td>5993.600000</td>\n      <td>148.000000</td>\n      <td>0.000000</td>\n      <td>85.000000</td>\n      <td>6650.000000</td>\n    </tr>\n    <tr>\n      <th>(NLNIJ, NLDRU, 0)</th>\n      <td>204.400000</td>\n      <td>5842.000000</td>\n      <td>143.000000</td>\n      <td>0.000000</td>\n      <td>73.600000</td>\n      <td>5964.000000</td>\n    </tr>\n    <tr>\n      <th>(NLAER, NLLEY, 0)</th>\n      <td>242.363636</td>\n      <td>6841.090909</td>\n      <td>158.000000</td>\n      <td>0.000000</td>\n      <td>27.181818</td>\n      <td>1973.636364</td>\n    </tr>\n    <tr>\n      <th>(NLKGZ, NLZAA, 0)</th>\n      <td>234.400000</td>\n      <td>6403.000000</td>\n      <td>22.000000</td>\n      <td>0.000000</td>\n      <td>5.800000</td>\n      <td>3626.200000</td>\n    </tr>\n    <tr>\n      <th>(NLKGZ, NLAMS, 0)</th>\n      <td>145.600000</td>\n      <td>4172.700000</td>\n      <td>13.000000</td>\n      <td>0.000000</td>\n      <td>15.700000</td>\n      <td>1449.300000</td>\n    </tr>\n    <tr>\n      <th>(NLHAR, NLWTE, 0)</th>\n      <td>183.590909</td>\n      <td>5220.727273</td>\n      <td>206.000000</td>\n      <td>0.000000</td>\n      <td>154.636364</td>\n      <td>8705.045455</td>\n    </tr>\n    <tr>\n      <th>(NLFAR, NLEEM, 0)</th>\n      <td>193.375000</td>\n      <td>5626.750000</td>\n      <td>157.000000</td>\n      <td>0.000000</td>\n      <td>62.500000</td>\n      <td>3325.125000</td>\n    </tr>\n    <tr>\n      <th>(NLDRO, NLKAM, 0)</th>\n      <td>238.000000</td>\n      <td>6728.727273</td>\n      <td>87.000000</td>\n      <td>0.000000</td>\n      <td>20.272727</td>\n      <td>2571.454545</td>\n    </tr>\n    <tr>\n      <th>(NLDOR, NLRTM, 1)</th>\n      <td>79.666667</td>\n      <td>2315.666667</td>\n      <td>130.000000</td>\n      <td>0.000000</td>\n      <td>73.000000</td>\n      <td>6269.333333</td>\n    </tr>\n    <tr>\n      <th>(NLDOR, NLRTM, 0)</th>\n      <td>245.562500</td>\n      <td>6973.062500</td>\n      <td>130.000000</td>\n      <td>0.000000</td>\n      <td>57.812500</td>\n      <td>5792.500000</td>\n    </tr>\n    <tr>\n      <th>(NLAMS, NLZAA, 0)</th>\n      <td>142.777778</td>\n      <td>4082.000000</td>\n      <td>30.000000</td>\n      <td>0.000000</td>\n      <td>28.000000</td>\n      <td>2354.444444</td>\n    </tr>\n    <tr>\n      <th>(NLAMS, NLWMO, 0)</th>\n      <td>241.333333</td>\n      <td>6758.750000</td>\n      <td>30.000000</td>\n      <td>0.000000</td>\n      <td>5.250000</td>\n      <td>1400.000000</td>\n    </tr>\n    <tr>\n      <th>(NLAMS, NLUTC, 1)</th>\n      <td>185.200000</td>\n      <td>5313.800000</td>\n      <td>279.000000</td>\n      <td>0.000000</td>\n      <td>156.800000</td>\n      <td>6514.800000</td>\n    </tr>\n    <tr>\n      <th>(NLAMS, NLAER, 0)</th>\n      <td>249.404762</td>\n      <td>7022.857143</td>\n      <td>228.000000</td>\n      <td>0.000000</td>\n      <td>63.976190</td>\n      <td>3260.238095</td>\n    </tr>\n    <tr>\n      <th>(NLWSP, NLAER, 0)</th>\n      <td>171.000000</td>\n      <td>5000.000000</td>\n      <td>183.000000</td>\n      <td>0.000000</td>\n      <td>54.888889</td>\n      <td>3469.000000</td>\n    </tr>\n  </tbody>\n</table>\n</div>"
     },
     "execution_count": 10,
     "metadata": {},
     "output_type": "execute_result"
    }
   ],
   "source": [
    "df_vessels.groupby('route').mean().sort_values('time_in_line', ascending=False)"
   ],
   "metadata": {
    "collapsed": false,
    "pycharm": {
     "name": "#%%\n"
    }
   }
  },
  {
   "cell_type": "code",
   "execution_count": 11,
   "outputs": [
    {
     "data": {
      "text/plain": "      id              route                combi  time_departed  travel_time  \\\n0      1  (NLSWI, NLLEY, 0)            [8863709]             16           99   \n1      4  (NLAMS, NLZAA, 0)            [8866763]            112           30   \n2      7  (NLDOR, NLRTM, 1)            [8862663]            239          130   \n3      0  (NLHAR, NLWTE, 0)   [8865756, 8865605]             13          206   \n4      2  (NLRTM, NLWLK, 1)   [8866893, 8863306]             63          361   \n..   ...                ...                  ...            ...          ...   \n408  406  (NLRTM, NLMOE, 0)            [8865003]          11074          188   \n409  407  (NLUTC, NLTIE, 0)  [8867240, 22638146]          11114          195   \n410  412  (NLRTM, NLAPN, 0)            [8867538]          11215          186   \n411  409  (NLRTM, NLMOE, 0)            [8865003]          11134          188   \n412  408  (NLAMS, NLAER, 0)   [8866763, 8864005]          11119          228   \n\n     time_in_line  time_charging  battery_size  \n0               0             67          3220  \n1               0             48          3220  \n2               0              0          9404  \n3               0            167          9404  \n4               0             46          2031  \n..            ...            ...           ...  \n408             0            148          6650  \n409             0            112          6650  \n410             0             66          3220  \n411             0            148          6650  \n412             0            131          6650  \n\n[2891 rows x 8 columns]",
      "text/html": "<div>\n<style scoped>\n    .dataframe tbody tr th:only-of-type {\n        vertical-align: middle;\n    }\n\n    .dataframe tbody tr th {\n        vertical-align: top;\n    }\n\n    .dataframe thead th {\n        text-align: right;\n    }\n</style>\n<table border=\"1\" class=\"dataframe\">\n  <thead>\n    <tr style=\"text-align: right;\">\n      <th></th>\n      <th>id</th>\n      <th>route</th>\n      <th>combi</th>\n      <th>time_departed</th>\n      <th>travel_time</th>\n      <th>time_in_line</th>\n      <th>time_charging</th>\n      <th>battery_size</th>\n    </tr>\n  </thead>\n  <tbody>\n    <tr>\n      <th>0</th>\n      <td>1</td>\n      <td>(NLSWI, NLLEY, 0)</td>\n      <td>[8863709]</td>\n      <td>16</td>\n      <td>99</td>\n      <td>0</td>\n      <td>67</td>\n      <td>3220</td>\n    </tr>\n    <tr>\n      <th>1</th>\n      <td>4</td>\n      <td>(NLAMS, NLZAA, 0)</td>\n      <td>[8866763]</td>\n      <td>112</td>\n      <td>30</td>\n      <td>0</td>\n      <td>48</td>\n      <td>3220</td>\n    </tr>\n    <tr>\n      <th>2</th>\n      <td>7</td>\n      <td>(NLDOR, NLRTM, 1)</td>\n      <td>[8862663]</td>\n      <td>239</td>\n      <td>130</td>\n      <td>0</td>\n      <td>0</td>\n      <td>9404</td>\n    </tr>\n    <tr>\n      <th>3</th>\n      <td>0</td>\n      <td>(NLHAR, NLWTE, 0)</td>\n      <td>[8865756, 8865605]</td>\n      <td>13</td>\n      <td>206</td>\n      <td>0</td>\n      <td>167</td>\n      <td>9404</td>\n    </tr>\n    <tr>\n      <th>4</th>\n      <td>2</td>\n      <td>(NLRTM, NLWLK, 1)</td>\n      <td>[8866893, 8863306]</td>\n      <td>63</td>\n      <td>361</td>\n      <td>0</td>\n      <td>46</td>\n      <td>2031</td>\n    </tr>\n    <tr>\n      <th>...</th>\n      <td>...</td>\n      <td>...</td>\n      <td>...</td>\n      <td>...</td>\n      <td>...</td>\n      <td>...</td>\n      <td>...</td>\n      <td>...</td>\n    </tr>\n    <tr>\n      <th>408</th>\n      <td>406</td>\n      <td>(NLRTM, NLMOE, 0)</td>\n      <td>[8865003]</td>\n      <td>11074</td>\n      <td>188</td>\n      <td>0</td>\n      <td>148</td>\n      <td>6650</td>\n    </tr>\n    <tr>\n      <th>409</th>\n      <td>407</td>\n      <td>(NLUTC, NLTIE, 0)</td>\n      <td>[8867240, 22638146]</td>\n      <td>11114</td>\n      <td>195</td>\n      <td>0</td>\n      <td>112</td>\n      <td>6650</td>\n    </tr>\n    <tr>\n      <th>410</th>\n      <td>412</td>\n      <td>(NLRTM, NLAPN, 0)</td>\n      <td>[8867538]</td>\n      <td>11215</td>\n      <td>186</td>\n      <td>0</td>\n      <td>66</td>\n      <td>3220</td>\n    </tr>\n    <tr>\n      <th>411</th>\n      <td>409</td>\n      <td>(NLRTM, NLMOE, 0)</td>\n      <td>[8865003]</td>\n      <td>11134</td>\n      <td>188</td>\n      <td>0</td>\n      <td>148</td>\n      <td>6650</td>\n    </tr>\n    <tr>\n      <th>412</th>\n      <td>408</td>\n      <td>(NLAMS, NLAER, 0)</td>\n      <td>[8866763, 8864005]</td>\n      <td>11119</td>\n      <td>228</td>\n      <td>0</td>\n      <td>131</td>\n      <td>6650</td>\n    </tr>\n  </tbody>\n</table>\n<p>2891 rows × 8 columns</p>\n</div>"
     },
     "execution_count": 11,
     "metadata": {},
     "output_type": "execute_result"
    }
   ],
   "source": [
    "df_vessels"
   ],
   "metadata": {
    "collapsed": false,
    "pycharm": {
     "name": "#%%\n"
    }
   }
  },
  {
   "cell_type": "code",
   "execution_count": 18,
   "outputs": [
    {
     "data": {
      "text/plain": "          occupation  max_occupation  avg_line  max_line  charging_stations\nAgentID                                                                    \n8868191     0.024715           1.000  0.000000     0.000                1.0\n8866297     0.029725           1.000  0.000000     0.000                1.0\n8863709     0.030419           1.000  0.000174     0.125                1.0\n8865412     0.032713           1.000  0.000930     0.375                1.0\n22638146    0.037636           1.000  0.000000     0.000                1.0\n8864111     0.042597           1.000  0.002046     0.250                1.0\n8864837     0.045734           1.000  0.000694     0.375                1.0\n8868208     0.047321           1.000  0.001426     0.250                1.0\n8867395     0.050062           1.000  0.000322     0.125                1.0\n22637863    0.050831           1.000  0.000831     0.250                1.0\n8864566     0.060193           1.000  0.001463     0.250                1.0\n22638327    0.061582           1.000  0.002170     0.500                1.0\n8863818     0.067113           1.000  0.001153     0.250                1.0\n8865600     0.073475           1.000  0.003435     0.375                1.0\n8866889     0.078968           1.000  0.005184     0.625                1.0\n8866893     0.079849           1.000  0.003435     0.625                1.0\n8865605     0.088207           1.375  0.000000     0.000                2.0\n8867240     0.094221           1.000  0.008395     0.625                1.0\n8863469     0.099851           1.000  0.007800     0.750                1.0\n8865756     0.102555           1.500  0.000000     0.000                2.0\n8863019     0.106052           1.000  0.004489     0.625                1.0\n8867740     0.118217           1.000  0.005345     0.750                1.0\n30984595    0.160218           1.875  0.000000     0.000                2.0\n8864005     0.166270           2.000  0.000595     0.250                2.0\n8867538     0.191468           2.000  0.000000     0.000                2.0\n8866763     0.196168           2.000  0.001228     0.375                2.0\n8863306     0.198388           2.000  0.000769     0.250                2.0\n8865003     0.202121           1.875  0.000905     0.250                2.0\n8866686     0.221788           1.875  0.002505     0.500                2.0\n8862663     0.233036           1.875  0.005531     0.375                2.0",
      "text/html": "<div>\n<style scoped>\n    .dataframe tbody tr th:only-of-type {\n        vertical-align: middle;\n    }\n\n    .dataframe tbody tr th {\n        vertical-align: top;\n    }\n\n    .dataframe thead th {\n        text-align: right;\n    }\n</style>\n<table border=\"1\" class=\"dataframe\">\n  <thead>\n    <tr style=\"text-align: right;\">\n      <th></th>\n      <th>occupation</th>\n      <th>max_occupation</th>\n      <th>avg_line</th>\n      <th>max_line</th>\n      <th>charging_stations</th>\n    </tr>\n    <tr>\n      <th>AgentID</th>\n      <th></th>\n      <th></th>\n      <th></th>\n      <th></th>\n      <th></th>\n    </tr>\n  </thead>\n  <tbody>\n    <tr>\n      <th>8868191</th>\n      <td>0.024715</td>\n      <td>1.000</td>\n      <td>0.000000</td>\n      <td>0.000</td>\n      <td>1.0</td>\n    </tr>\n    <tr>\n      <th>8866297</th>\n      <td>0.029725</td>\n      <td>1.000</td>\n      <td>0.000000</td>\n      <td>0.000</td>\n      <td>1.0</td>\n    </tr>\n    <tr>\n      <th>8863709</th>\n      <td>0.030419</td>\n      <td>1.000</td>\n      <td>0.000174</td>\n      <td>0.125</td>\n      <td>1.0</td>\n    </tr>\n    <tr>\n      <th>8865412</th>\n      <td>0.032713</td>\n      <td>1.000</td>\n      <td>0.000930</td>\n      <td>0.375</td>\n      <td>1.0</td>\n    </tr>\n    <tr>\n      <th>22638146</th>\n      <td>0.037636</td>\n      <td>1.000</td>\n      <td>0.000000</td>\n      <td>0.000</td>\n      <td>1.0</td>\n    </tr>\n    <tr>\n      <th>8864111</th>\n      <td>0.042597</td>\n      <td>1.000</td>\n      <td>0.002046</td>\n      <td>0.250</td>\n      <td>1.0</td>\n    </tr>\n    <tr>\n      <th>8864837</th>\n      <td>0.045734</td>\n      <td>1.000</td>\n      <td>0.000694</td>\n      <td>0.375</td>\n      <td>1.0</td>\n    </tr>\n    <tr>\n      <th>8868208</th>\n      <td>0.047321</td>\n      <td>1.000</td>\n      <td>0.001426</td>\n      <td>0.250</td>\n      <td>1.0</td>\n    </tr>\n    <tr>\n      <th>8867395</th>\n      <td>0.050062</td>\n      <td>1.000</td>\n      <td>0.000322</td>\n      <td>0.125</td>\n      <td>1.0</td>\n    </tr>\n    <tr>\n      <th>22637863</th>\n      <td>0.050831</td>\n      <td>1.000</td>\n      <td>0.000831</td>\n      <td>0.250</td>\n      <td>1.0</td>\n    </tr>\n    <tr>\n      <th>8864566</th>\n      <td>0.060193</td>\n      <td>1.000</td>\n      <td>0.001463</td>\n      <td>0.250</td>\n      <td>1.0</td>\n    </tr>\n    <tr>\n      <th>22638327</th>\n      <td>0.061582</td>\n      <td>1.000</td>\n      <td>0.002170</td>\n      <td>0.500</td>\n      <td>1.0</td>\n    </tr>\n    <tr>\n      <th>8863818</th>\n      <td>0.067113</td>\n      <td>1.000</td>\n      <td>0.001153</td>\n      <td>0.250</td>\n      <td>1.0</td>\n    </tr>\n    <tr>\n      <th>8865600</th>\n      <td>0.073475</td>\n      <td>1.000</td>\n      <td>0.003435</td>\n      <td>0.375</td>\n      <td>1.0</td>\n    </tr>\n    <tr>\n      <th>8866889</th>\n      <td>0.078968</td>\n      <td>1.000</td>\n      <td>0.005184</td>\n      <td>0.625</td>\n      <td>1.0</td>\n    </tr>\n    <tr>\n      <th>8866893</th>\n      <td>0.079849</td>\n      <td>1.000</td>\n      <td>0.003435</td>\n      <td>0.625</td>\n      <td>1.0</td>\n    </tr>\n    <tr>\n      <th>8865605</th>\n      <td>0.088207</td>\n      <td>1.375</td>\n      <td>0.000000</td>\n      <td>0.000</td>\n      <td>2.0</td>\n    </tr>\n    <tr>\n      <th>8867240</th>\n      <td>0.094221</td>\n      <td>1.000</td>\n      <td>0.008395</td>\n      <td>0.625</td>\n      <td>1.0</td>\n    </tr>\n    <tr>\n      <th>8863469</th>\n      <td>0.099851</td>\n      <td>1.000</td>\n      <td>0.007800</td>\n      <td>0.750</td>\n      <td>1.0</td>\n    </tr>\n    <tr>\n      <th>8865756</th>\n      <td>0.102555</td>\n      <td>1.500</td>\n      <td>0.000000</td>\n      <td>0.000</td>\n      <td>2.0</td>\n    </tr>\n    <tr>\n      <th>8863019</th>\n      <td>0.106052</td>\n      <td>1.000</td>\n      <td>0.004489</td>\n      <td>0.625</td>\n      <td>1.0</td>\n    </tr>\n    <tr>\n      <th>8867740</th>\n      <td>0.118217</td>\n      <td>1.000</td>\n      <td>0.005345</td>\n      <td>0.750</td>\n      <td>1.0</td>\n    </tr>\n    <tr>\n      <th>30984595</th>\n      <td>0.160218</td>\n      <td>1.875</td>\n      <td>0.000000</td>\n      <td>0.000</td>\n      <td>2.0</td>\n    </tr>\n    <tr>\n      <th>8864005</th>\n      <td>0.166270</td>\n      <td>2.000</td>\n      <td>0.000595</td>\n      <td>0.250</td>\n      <td>2.0</td>\n    </tr>\n    <tr>\n      <th>8867538</th>\n      <td>0.191468</td>\n      <td>2.000</td>\n      <td>0.000000</td>\n      <td>0.000</td>\n      <td>2.0</td>\n    </tr>\n    <tr>\n      <th>8866763</th>\n      <td>0.196168</td>\n      <td>2.000</td>\n      <td>0.001228</td>\n      <td>0.375</td>\n      <td>2.0</td>\n    </tr>\n    <tr>\n      <th>8863306</th>\n      <td>0.198388</td>\n      <td>2.000</td>\n      <td>0.000769</td>\n      <td>0.250</td>\n      <td>2.0</td>\n    </tr>\n    <tr>\n      <th>8865003</th>\n      <td>0.202121</td>\n      <td>1.875</td>\n      <td>0.000905</td>\n      <td>0.250</td>\n      <td>2.0</td>\n    </tr>\n    <tr>\n      <th>8866686</th>\n      <td>0.221788</td>\n      <td>1.875</td>\n      <td>0.002505</td>\n      <td>0.500</td>\n      <td>2.0</td>\n    </tr>\n    <tr>\n      <th>8862663</th>\n      <td>0.233036</td>\n      <td>1.875</td>\n      <td>0.005531</td>\n      <td>0.375</td>\n      <td>2.0</td>\n    </tr>\n  </tbody>\n</table>\n</div>"
     },
     "execution_count": 18,
     "metadata": {},
     "output_type": "execute_result"
    }
   ],
   "source": [
    "df_cs = get_cs_data_batch(batch_data)\n",
    "df_cs"
   ],
   "metadata": {
    "collapsed": false,
    "pycharm": {
     "name": "#%%\n"
    }
   }
  },
  {
   "cell_type": "code",
   "execution_count": 19,
   "outputs": [
    {
     "data": {
      "text/plain": "                           id  time_departed  travel_time  time_in_line  \\\nroute                                                                     \n(NLVEN, NLBON, 0)  220.636364    6217.363636   242.636364     11.909091   \n(NLNIJ, NLWAS, 0)  230.700000    6506.300000   229.600000      9.100000   \n(NLTNZ, NLVLI, 0)  200.733333    5599.133333   110.000000      7.066667   \n(NLALK, NLIJM, 0)  191.411765    5380.882353   258.000000      2.705882   \n(NLOOS, NLTLB, 0)  261.866667    7439.266667   127.000000      2.066667   \n(NLGOR, NLRTM, 0)  201.133333    5807.600000   237.000000      1.133333   \n(NLRTM, NLAPN, 0)  186.026316    5265.184211   186.000000      1.131579   \n(NLMOE, NLAPN, 1)  176.500000    4947.000000   317.000000      0.833333   \n(NLRTM, NLGTB, 1)  144.222222    4159.888889   263.555556      0.000000   \n(NLRTM, NLMOE, 0)  225.906250    6332.562500   187.562500      0.000000   \n(NLABL, NLRTM, 0)  211.111111    6029.000000    65.000000      0.000000   \n(NLRTM, NLMOE, 1)  184.333333    5244.083333   188.000000      0.000000   \n(NLRTM, NLWLK, 1)  147.562500    4234.062500   361.000000      0.000000   \n(NLTLB, NLMOE, 0)  163.142857    4597.142857   275.000000      0.000000   \n(NLTNZ, NLBRS, 0)  261.750000    7501.750000   121.000000      0.000000   \n(NLUTC, NLTIE, 0)  249.000000    6853.285714   195.000000      0.000000   \n(NLSWI, NLLEY, 0)  199.800000    5608.200000    99.000000      0.000000   \n(NLMOE, NLOOS, 0)  212.800000    5993.600000   148.000000      0.000000   \n(NLNIJ, NLDRU, 0)  204.400000    5842.000000   143.000000      0.000000   \n(NLAER, NLLEY, 0)  242.363636    6841.090909   158.000000      0.000000   \n(NLKGZ, NLZAA, 0)  234.400000    6403.000000    22.000000      0.000000   \n(NLKGZ, NLAMS, 0)  145.600000    4172.700000    13.000000      0.000000   \n(NLHAR, NLWTE, 0)  183.590909    5220.727273   206.000000      0.000000   \n(NLFAR, NLEEM, 0)  193.375000    5626.750000   157.000000      0.000000   \n(NLDRO, NLKAM, 0)  238.000000    6728.727273    87.000000      0.000000   \n(NLDOR, NLRTM, 1)   79.666667    2315.666667   130.000000      0.000000   \n(NLDOR, NLRTM, 0)  245.562500    6973.062500   130.000000      0.000000   \n(NLAMS, NLZAA, 0)  142.777778    4082.000000    30.000000      0.000000   \n(NLAMS, NLWMO, 0)  241.333333    6758.750000    30.000000      0.000000   \n(NLAMS, NLUTC, 1)  185.200000    5313.800000   279.000000      0.000000   \n(NLAMS, NLAER, 0)  249.404762    7022.857143   228.000000      0.000000   \n(NLWSP, NLAER, 0)  171.000000    5000.000000   183.000000      0.000000   \n\n                   time_charging  battery_size  \nroute                                           \n(NLVEN, NLBON, 0)     138.000000   6026.363636  \n(NLNIJ, NLWAS, 0)     151.900000   5964.000000  \n(NLTNZ, NLVLI, 0)      79.666667   5766.533333  \n(NLALK, NLIJM, 0)      56.764706   2335.529412  \n(NLOOS, NLTLB, 0)      83.666667   6650.000000  \n(NLGOR, NLRTM, 0)     112.733333   5455.800000  \n(NLRTM, NLAPN, 0)      73.921053   3631.157895  \n(NLMOE, NLAPN, 1)     161.000000   6078.333333  \n(NLRTM, NLGTB, 1)     119.333333   5148.888889  \n(NLRTM, NLMOE, 0)     115.906250   6328.437500  \n(NLABL, NLRTM, 0)      63.111111   6829.111111  \n(NLRTM, NLMOE, 1)     164.750000   7836.666667  \n(NLRTM, NLWLK, 1)      61.750000   2031.000000  \n(NLTLB, NLMOE, 0)     126.571429   5330.285714  \n(NLTNZ, NLBRS, 0)      41.250000   3483.000000  \n(NLUTC, NLTIE, 0)      90.000000   5330.285714  \n(NLSWI, NLLEY, 0)      44.400000   2142.600000  \n(NLMOE, NLOOS, 0)      85.000000   6650.000000  \n(NLNIJ, NLDRU, 0)      73.600000   5964.000000  \n(NLAER, NLLEY, 0)      27.181818   1973.636364  \n(NLKGZ, NLZAA, 0)       5.800000   3626.200000  \n(NLKGZ, NLAMS, 0)      15.700000   1449.300000  \n(NLHAR, NLWTE, 0)     154.636364   8705.045455  \n(NLFAR, NLEEM, 0)      62.500000   3325.125000  \n(NLDRO, NLKAM, 0)      20.272727   2571.454545  \n(NLDOR, NLRTM, 1)      73.000000   6269.333333  \n(NLDOR, NLRTM, 0)      57.812500   5792.500000  \n(NLAMS, NLZAA, 0)      28.000000   2354.444444  \n(NLAMS, NLWMO, 0)       5.250000   1400.000000  \n(NLAMS, NLUTC, 1)     156.800000   6514.800000  \n(NLAMS, NLAER, 0)      63.976190   3260.238095  \n(NLWSP, NLAER, 0)      54.888889   3469.000000  ",
      "text/html": "<div>\n<style scoped>\n    .dataframe tbody tr th:only-of-type {\n        vertical-align: middle;\n    }\n\n    .dataframe tbody tr th {\n        vertical-align: top;\n    }\n\n    .dataframe thead th {\n        text-align: right;\n    }\n</style>\n<table border=\"1\" class=\"dataframe\">\n  <thead>\n    <tr style=\"text-align: right;\">\n      <th></th>\n      <th>id</th>\n      <th>time_departed</th>\n      <th>travel_time</th>\n      <th>time_in_line</th>\n      <th>time_charging</th>\n      <th>battery_size</th>\n    </tr>\n    <tr>\n      <th>route</th>\n      <th></th>\n      <th></th>\n      <th></th>\n      <th></th>\n      <th></th>\n      <th></th>\n    </tr>\n  </thead>\n  <tbody>\n    <tr>\n      <th>(NLVEN, NLBON, 0)</th>\n      <td>220.636364</td>\n      <td>6217.363636</td>\n      <td>242.636364</td>\n      <td>11.909091</td>\n      <td>138.000000</td>\n      <td>6026.363636</td>\n    </tr>\n    <tr>\n      <th>(NLNIJ, NLWAS, 0)</th>\n      <td>230.700000</td>\n      <td>6506.300000</td>\n      <td>229.600000</td>\n      <td>9.100000</td>\n      <td>151.900000</td>\n      <td>5964.000000</td>\n    </tr>\n    <tr>\n      <th>(NLTNZ, NLVLI, 0)</th>\n      <td>200.733333</td>\n      <td>5599.133333</td>\n      <td>110.000000</td>\n      <td>7.066667</td>\n      <td>79.666667</td>\n      <td>5766.533333</td>\n    </tr>\n    <tr>\n      <th>(NLALK, NLIJM, 0)</th>\n      <td>191.411765</td>\n      <td>5380.882353</td>\n      <td>258.000000</td>\n      <td>2.705882</td>\n      <td>56.764706</td>\n      <td>2335.529412</td>\n    </tr>\n    <tr>\n      <th>(NLOOS, NLTLB, 0)</th>\n      <td>261.866667</td>\n      <td>7439.266667</td>\n      <td>127.000000</td>\n      <td>2.066667</td>\n      <td>83.666667</td>\n      <td>6650.000000</td>\n    </tr>\n    <tr>\n      <th>(NLGOR, NLRTM, 0)</th>\n      <td>201.133333</td>\n      <td>5807.600000</td>\n      <td>237.000000</td>\n      <td>1.133333</td>\n      <td>112.733333</td>\n      <td>5455.800000</td>\n    </tr>\n    <tr>\n      <th>(NLRTM, NLAPN, 0)</th>\n      <td>186.026316</td>\n      <td>5265.184211</td>\n      <td>186.000000</td>\n      <td>1.131579</td>\n      <td>73.921053</td>\n      <td>3631.157895</td>\n    </tr>\n    <tr>\n      <th>(NLMOE, NLAPN, 1)</th>\n      <td>176.500000</td>\n      <td>4947.000000</td>\n      <td>317.000000</td>\n      <td>0.833333</td>\n      <td>161.000000</td>\n      <td>6078.333333</td>\n    </tr>\n    <tr>\n      <th>(NLRTM, NLGTB, 1)</th>\n      <td>144.222222</td>\n      <td>4159.888889</td>\n      <td>263.555556</td>\n      <td>0.000000</td>\n      <td>119.333333</td>\n      <td>5148.888889</td>\n    </tr>\n    <tr>\n      <th>(NLRTM, NLMOE, 0)</th>\n      <td>225.906250</td>\n      <td>6332.562500</td>\n      <td>187.562500</td>\n      <td>0.000000</td>\n      <td>115.906250</td>\n      <td>6328.437500</td>\n    </tr>\n    <tr>\n      <th>(NLABL, NLRTM, 0)</th>\n      <td>211.111111</td>\n      <td>6029.000000</td>\n      <td>65.000000</td>\n      <td>0.000000</td>\n      <td>63.111111</td>\n      <td>6829.111111</td>\n    </tr>\n    <tr>\n      <th>(NLRTM, NLMOE, 1)</th>\n      <td>184.333333</td>\n      <td>5244.083333</td>\n      <td>188.000000</td>\n      <td>0.000000</td>\n      <td>164.750000</td>\n      <td>7836.666667</td>\n    </tr>\n    <tr>\n      <th>(NLRTM, NLWLK, 1)</th>\n      <td>147.562500</td>\n      <td>4234.062500</td>\n      <td>361.000000</td>\n      <td>0.000000</td>\n      <td>61.750000</td>\n      <td>2031.000000</td>\n    </tr>\n    <tr>\n      <th>(NLTLB, NLMOE, 0)</th>\n      <td>163.142857</td>\n      <td>4597.142857</td>\n      <td>275.000000</td>\n      <td>0.000000</td>\n      <td>126.571429</td>\n      <td>5330.285714</td>\n    </tr>\n    <tr>\n      <th>(NLTNZ, NLBRS, 0)</th>\n      <td>261.750000</td>\n      <td>7501.750000</td>\n      <td>121.000000</td>\n      <td>0.000000</td>\n      <td>41.250000</td>\n      <td>3483.000000</td>\n    </tr>\n    <tr>\n      <th>(NLUTC, NLTIE, 0)</th>\n      <td>249.000000</td>\n      <td>6853.285714</td>\n      <td>195.000000</td>\n      <td>0.000000</td>\n      <td>90.000000</td>\n      <td>5330.285714</td>\n    </tr>\n    <tr>\n      <th>(NLSWI, NLLEY, 0)</th>\n      <td>199.800000</td>\n      <td>5608.200000</td>\n      <td>99.000000</td>\n      <td>0.000000</td>\n      <td>44.400000</td>\n      <td>2142.600000</td>\n    </tr>\n    <tr>\n      <th>(NLMOE, NLOOS, 0)</th>\n      <td>212.800000</td>\n      <td>5993.600000</td>\n      <td>148.000000</td>\n      <td>0.000000</td>\n      <td>85.000000</td>\n      <td>6650.000000</td>\n    </tr>\n    <tr>\n      <th>(NLNIJ, NLDRU, 0)</th>\n      <td>204.400000</td>\n      <td>5842.000000</td>\n      <td>143.000000</td>\n      <td>0.000000</td>\n      <td>73.600000</td>\n      <td>5964.000000</td>\n    </tr>\n    <tr>\n      <th>(NLAER, NLLEY, 0)</th>\n      <td>242.363636</td>\n      <td>6841.090909</td>\n      <td>158.000000</td>\n      <td>0.000000</td>\n      <td>27.181818</td>\n      <td>1973.636364</td>\n    </tr>\n    <tr>\n      <th>(NLKGZ, NLZAA, 0)</th>\n      <td>234.400000</td>\n      <td>6403.000000</td>\n      <td>22.000000</td>\n      <td>0.000000</td>\n      <td>5.800000</td>\n      <td>3626.200000</td>\n    </tr>\n    <tr>\n      <th>(NLKGZ, NLAMS, 0)</th>\n      <td>145.600000</td>\n      <td>4172.700000</td>\n      <td>13.000000</td>\n      <td>0.000000</td>\n      <td>15.700000</td>\n      <td>1449.300000</td>\n    </tr>\n    <tr>\n      <th>(NLHAR, NLWTE, 0)</th>\n      <td>183.590909</td>\n      <td>5220.727273</td>\n      <td>206.000000</td>\n      <td>0.000000</td>\n      <td>154.636364</td>\n      <td>8705.045455</td>\n    </tr>\n    <tr>\n      <th>(NLFAR, NLEEM, 0)</th>\n      <td>193.375000</td>\n      <td>5626.750000</td>\n      <td>157.000000</td>\n      <td>0.000000</td>\n      <td>62.500000</td>\n      <td>3325.125000</td>\n    </tr>\n    <tr>\n      <th>(NLDRO, NLKAM, 0)</th>\n      <td>238.000000</td>\n      <td>6728.727273</td>\n      <td>87.000000</td>\n      <td>0.000000</td>\n      <td>20.272727</td>\n      <td>2571.454545</td>\n    </tr>\n    <tr>\n      <th>(NLDOR, NLRTM, 1)</th>\n      <td>79.666667</td>\n      <td>2315.666667</td>\n      <td>130.000000</td>\n      <td>0.000000</td>\n      <td>73.000000</td>\n      <td>6269.333333</td>\n    </tr>\n    <tr>\n      <th>(NLDOR, NLRTM, 0)</th>\n      <td>245.562500</td>\n      <td>6973.062500</td>\n      <td>130.000000</td>\n      <td>0.000000</td>\n      <td>57.812500</td>\n      <td>5792.500000</td>\n    </tr>\n    <tr>\n      <th>(NLAMS, NLZAA, 0)</th>\n      <td>142.777778</td>\n      <td>4082.000000</td>\n      <td>30.000000</td>\n      <td>0.000000</td>\n      <td>28.000000</td>\n      <td>2354.444444</td>\n    </tr>\n    <tr>\n      <th>(NLAMS, NLWMO, 0)</th>\n      <td>241.333333</td>\n      <td>6758.750000</td>\n      <td>30.000000</td>\n      <td>0.000000</td>\n      <td>5.250000</td>\n      <td>1400.000000</td>\n    </tr>\n    <tr>\n      <th>(NLAMS, NLUTC, 1)</th>\n      <td>185.200000</td>\n      <td>5313.800000</td>\n      <td>279.000000</td>\n      <td>0.000000</td>\n      <td>156.800000</td>\n      <td>6514.800000</td>\n    </tr>\n    <tr>\n      <th>(NLAMS, NLAER, 0)</th>\n      <td>249.404762</td>\n      <td>7022.857143</td>\n      <td>228.000000</td>\n      <td>0.000000</td>\n      <td>63.976190</td>\n      <td>3260.238095</td>\n    </tr>\n    <tr>\n      <th>(NLWSP, NLAER, 0)</th>\n      <td>171.000000</td>\n      <td>5000.000000</td>\n      <td>183.000000</td>\n      <td>0.000000</td>\n      <td>54.888889</td>\n      <td>3469.000000</td>\n    </tr>\n  </tbody>\n</table>\n</div>"
     },
     "execution_count": 19,
     "metadata": {},
     "output_type": "execute_result"
    }
   ],
   "source": [
    "\n",
    "df_vessels = get_vessel_data_batch(batch_data)\n",
    "df_vessels.groupby('route').mean().sort_values('time_in_line', ascending=False)"
   ],
   "metadata": {
    "collapsed": false,
    "pycharm": {
     "name": "#%%\n"
    }
   }
  },
  {
   "cell_type": "code",
   "execution_count": null,
   "outputs": [],
   "source": [],
   "metadata": {
    "collapsed": false,
    "pycharm": {
     "name": "#%%\n"
    }
   }
  }
 ],
 "metadata": {
  "kernelspec": {
   "display_name": "Python 3",
   "language": "python",
   "name": "python3"
  },
  "language_info": {
   "codemirror_mode": {
    "name": "ipython",
    "version": 2
   },
   "file_extension": ".py",
   "mimetype": "text/x-python",
   "name": "python",
   "nbconvert_exporter": "python",
   "pygments_lexer": "ipython2",
   "version": "2.7.6"
  }
 },
 "nbformat": 4,
 "nbformat_minor": 0
}