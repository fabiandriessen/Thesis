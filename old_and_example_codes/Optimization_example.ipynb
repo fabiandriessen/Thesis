{
 "cells": [
  {
   "cell_type": "code",
   "execution_count": 1,
   "id": "7132066b-4393-42a3-9894-51baa78a48ae",
   "metadata": {},
   "outputs": [],
   "source": [
    "from ortools.linear_solver import pywraplp"
   ]
  },
  {
   "cell_type": "code",
   "execution_count": 2,
   "id": "a1f10eae-835e-42ec-9985-d3c4c6cbf3cd",
   "metadata": {},
   "outputs": [],
   "source": [
    "def create_data_model():\n",
    "    \"\"\"Stores the data for the problem.\"\"\"\n",
    "    data = {}\n",
    "    data['constraint_coeffs'] = [\n",
    "        [5, 7, 9, 2, 1],\n",
    "        [18, 4, -9, 10, 12],\n",
    "        [4, 7, 3, 8, 5],\n",
    "        [5, 13, 16, 3, -7],\n",
    "    ]\n",
    "    data['bounds'] = [250, 285, 211, 315]\n",
    "    data['obj_coeffs'] = [7, 8, 2, 9, 6]\n",
    "    data['num_vars'] = 5\n",
    "    data['num_constraints'] = 4\n",
    "    return data"
   ]
  },
  {
   "cell_type": "code",
   "execution_count": 3,
   "id": "3392c04c-ac93-40db-9155-19ba9ce92e56",
   "metadata": {},
   "outputs": [],
   "source": [
    "data = create_data_model()"
   ]
  },
  {
   "cell_type": "code",
   "execution_count": 4,
   "id": "5a1861c7-4c2d-4ad4-9283-490edfec74d0",
   "metadata": {},
   "outputs": [],
   "source": [
    "# Create the mip solver with the SCIP backend.\n",
    "solver = pywraplp.Solver.CreateSolver('SCIP')"
   ]
  },
  {
   "cell_type": "code",
   "execution_count": 5,
   "id": "03e0cbb9-71fe-4888-bc4a-3854016c42a6",
   "metadata": {},
   "outputs": [
    {
     "name": "stdout",
     "output_type": "stream",
     "text": [
      "Number of variables = 5\n"
     ]
    }
   ],
   "source": [
    "#define variables\n",
    "infinity = solver.infinity()\n",
    "x = {}\n",
    "for j in range(data['num_vars']):\n",
    "    x[j] = solver.IntVar(0, infinity, 'x[%i]' % j)\n",
    "print('Number of variables =', solver.NumVariables())"
   ]
  },
  {
   "cell_type": "code",
   "execution_count": 6,
   "id": "59c05981-0b0b-4dd8-a9f2-dcd5935b23c3",
   "metadata": {},
   "outputs": [
    {
     "name": "stdout",
     "output_type": "stream",
     "text": [
      "Number of constraints = 4\n"
     ]
    }
   ],
   "source": [
    "#define constraints\n",
    "for i in range(data['num_constraints']):\n",
    "    constraint = solver.RowConstraint(0, data['bounds'][i], '')\n",
    "    for j in range(data['num_vars']):\n",
    "        constraint.SetCoefficient(x[j], data['constraint_coeffs'][i][j])\n",
    "print('Number of constraints =', solver.NumConstraints())\n",
    "# In Python, you can also set the constraints as follows.\n",
    "# for i in range(data['num_constraints']):\n",
    "#  constraint_expr = \\\n",
    "# [data['constraint_coeffs'][i][j] * x[j] for j in range(data['num_vars'])]\n",
    "#  solver.Add(sum(constraint_expr) <= data['bounds'][i])"
   ]
  },
  {
   "cell_type": "code",
   "execution_count": 7,
   "id": "f198816d-cdb6-42f7-bb47-99633eb4646a",
   "metadata": {},
   "outputs": [],
   "source": [
    "#define objective\n",
    "objective = solver.Objective()\n",
    "for j in range(data['num_vars']):\n",
    "    objective.SetCoefficient(x[j], data['obj_coeffs'][j])\n",
    "objective.SetMaximization()\n",
    "# In Python, you can also set the objective as follows.\n",
    "# obj_expr = [data['obj_coeffs'][j] * x[j] for j in range(data['num_vars'])]\n",
    "# solver.Maximize(solver.Sum(obj_expr))"
   ]
  },
  {
   "cell_type": "code",
   "execution_count": 8,
   "id": "3ae878ad-75b1-4328-b2ec-c0691c4f498b",
   "metadata": {},
   "outputs": [],
   "source": [
    "#call solver\n",
    "status = solver.Solve()"
   ]
  },
  {
   "cell_type": "code",
   "execution_count": 9,
   "id": "2c9f33be-9719-4e1d-a32e-503664b45732",
   "metadata": {},
   "outputs": [
    {
     "name": "stdout",
     "output_type": "stream",
     "text": [
      "Objective value = 259.99999999999966\n",
      "x[0]  =  8.0\n",
      "x[1]  =  21.0\n",
      "x[2]  =  0.0\n",
      "x[3]  =  2.0\n",
      "x[4]  =  3.0\n",
      "\n",
      "Problem solved in 110.000000 milliseconds\n",
      "Problem solved in 71 iterations\n",
      "Problem solved in 7 branch-and-bound nodes\n"
     ]
    }
   ],
   "source": [
    "#display solution\n",
    "if status == pywraplp.Solver.OPTIMAL:\n",
    "    print('Objective value =', solver.Objective().Value())\n",
    "    for j in range(data['num_vars']):\n",
    "        print(x[j].name(), ' = ', x[j].solution_value())\n",
    "    print()\n",
    "    print('Problem solved in %f milliseconds' % solver.wall_time())\n",
    "    print('Problem solved in %d iterations' % solver.iterations())\n",
    "    print('Problem solved in %d branch-and-bound nodes' % solver.nodes())\n",
    "else:\n",
    "    print('The problem does not have an optimal solution.')"
   ]
  },
  {
   "cell_type": "code",
   "execution_count": 10,
   "id": "7b346db9-3a7f-4d69-bfe2-e49648e39b27",
   "metadata": {},
   "outputs": [
    {
     "name": "stdout",
     "output_type": "stream",
     "text": [
      "Number of variables = 5\n",
      "Number of constraints = 4\n",
      "Objective value = 259.99999999999966\n",
      "x[0]  =  8.0\n",
      "x[1]  =  21.0\n",
      "x[2]  =  0.0\n",
      "x[3]  =  2.0\n",
      "x[4]  =  3.0\n",
      "\n",
      "Problem solved in 21.000000 milliseconds\n",
      "Problem solved in 71 iterations\n",
      "Problem solved in 7 branch-and-bound nodes\n"
     ]
    }
   ],
   "source": [
    "def create_data_model():\n",
    "    \"\"\"Stores the data for the problem.\"\"\"\n",
    "    data = {}\n",
    "    data['constraint_coeffs'] = [\n",
    "        [5, 7, 9, 2, 1],\n",
    "        [18, 4, -9, 10, 12],\n",
    "        [4, 7, 3, 8, 5],\n",
    "        [5, 13, 16, 3, -7],\n",
    "    ]\n",
    "    data['bounds'] = [250, 285, 211, 315]\n",
    "    data['obj_coeffs'] = [7, 8, 2, 9, 6]\n",
    "    data['num_vars'] = 5\n",
    "    data['num_constraints'] = 4\n",
    "    return data\n",
    "\n",
    "\n",
    "\n",
    "def main():\n",
    "    data = create_data_model()\n",
    "    # Create the mip solver with the SCIP backend.\n",
    "    solver = pywraplp.Solver.CreateSolver('SCIP')\n",
    "\n",
    "    infinity = solver.infinity()\n",
    "    x = {}\n",
    "    for j in range(data['num_vars']):\n",
    "        x[j] = solver.IntVar(0, infinity, 'x[%i]' % j)\n",
    "    print('Number of variables =', solver.NumVariables())\n",
    "\n",
    "    for i in range(data['num_constraints']):\n",
    "        constraint = solver.RowConstraint(0, data['bounds'][i], '')\n",
    "        for j in range(data['num_vars']):\n",
    "            constraint.SetCoefficient(x[j], data['constraint_coeffs'][i][j])\n",
    "    print('Number of constraints =', solver.NumConstraints())\n",
    "    # In Python, you can also set the constraints as follows.\n",
    "    # for i in range(data['num_constraints']):\n",
    "    #  constraint_expr = \\\n",
    "    # [data['constraint_coeffs'][i][j] * x[j] for j in range(data['num_vars'])]\n",
    "    #  solver.Add(sum(constraint_expr) <= data['bounds'][i])\n",
    "\n",
    "    objective = solver.Objective()\n",
    "    for j in range(data['num_vars']):\n",
    "        objective.SetCoefficient(x[j], data['obj_coeffs'][j])\n",
    "    objective.SetMaximization()\n",
    "    # In Python, you can also set the objective as follows.\n",
    "    # obj_expr = [data['obj_coeffs'][j] * x[j] for j in range(data['num_vars'])]\n",
    "    # solver.Maximize(solver.Sum(obj_expr))\n",
    "\n",
    "    status = solver.Solve()\n",
    "\n",
    "    if status == pywraplp.Solver.OPTIMAL:\n",
    "        print('Objective value =', solver.Objective().Value())\n",
    "        for j in range(data['num_vars']):\n",
    "            print(x[j].name(), ' = ', x[j].solution_value())\n",
    "        print()\n",
    "        print('Problem solved in %f milliseconds' % solver.wall_time())\n",
    "        print('Problem solved in %d iterations' % solver.iterations())\n",
    "        print('Problem solved in %d branch-and-bound nodes' % solver.nodes())\n",
    "    else:\n",
    "        print('The problem does not have an optimal solution.')\n",
    "\n",
    "\n",
    "if __name__ == '__main__':\n",
    "    main()"
   ]
  },
  {
   "cell_type": "code",
   "execution_count": 11,
   "id": "ceb1b0ac-4ae4-4f90-aa95-f48a83644409",
   "metadata": {},
   "outputs": [
    {
     "data": {
      "text/plain": [
       "{'constraint_coeffs': [[5, 7, 9, 2, 1],\n",
       "  [18, 4, -9, 10, 12],\n",
       "  [4, 7, 3, 8, 5],\n",
       "  [5, 13, 16, 3, -7]],\n",
       " 'bounds': [250, 285, 211, 315],\n",
       " 'obj_coeffs': [7, 8, 2, 9, 6],\n",
       " 'num_vars': 5,\n",
       " 'num_constraints': 4}"
      ]
     },
     "execution_count": 11,
     "metadata": {},
     "output_type": "execute_result"
    }
   ],
   "source": [
    "data"
   ]
  },
  {
   "cell_type": "code",
   "execution_count": null,
   "id": "649564a0-bb6b-44df-a222-f7c3a1f011a1",
   "metadata": {},
   "outputs": [],
   "source": []
  }
 ],
 "metadata": {
  "kernelspec": {
   "display_name": "Python 3",
   "language": "python",
   "name": "python3"
  },
  "language_info": {
   "codemirror_mode": {
    "name": "ipython",
    "version": 3
   },
   "file_extension": ".py",
   "mimetype": "text/x-python",
   "name": "python",
   "nbconvert_exporter": "python",
   "pygments_lexer": "ipython3",
   "version": "3.9.5"
  }
 },
 "nbformat": 4,
 "nbformat_minor": 5
}
