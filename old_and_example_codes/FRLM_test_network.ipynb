{
 "cells": [
  {
   "cell_type": "code",
   "execution_count": 1,
   "id": "9130845e-7e63-474c-884d-e75670af07b1",
   "metadata": {
    "pycharm": {
     "name": "#%%\n"
    }
   },
   "outputs": [],
   "source": [
    "import networkx as nx\n",
    "import pandas as pd\n",
    "import matplotlib.pyplot as plt\n",
    "import random\n",
    "import itertools#final dest reached?\n",
    "import numpy as np\n",
    "\n",
    "import pulp"
   ]
  },
  {
   "cell_type": "markdown",
   "id": "9fb885c1-9874-4e00-b029-df177309566e",
   "metadata": {
    "pycharm": {
     "name": "#%% md\n"
    }
   },
   "source": [
    "## Step 1: Setup and draw test network"
   ]
  },
  {
   "cell_type": "code",
   "execution_count": 2,
   "id": "b6e318c3-42fd-4320-b189-1e1b05280740",
   "metadata": {
    "pycharm": {
     "name": "#%%\n"
    }
   },
   "outputs": [
    {
     "name": "stdout",
     "output_type": "stream",
     "text": [
      "{'O': (0, 0), 'A': (100, 0), 'B': (250, 0), 'D': (500, 0)}\n"
     ]
    },
    {
     "data": {
      "image/png": "[encoded data removed]",
      "text/plain": [
       "<Figure size 1280x960 with 1 Axes>"
      ]
     },
     "metadata": {},
     "output_type": "display_data"
    }
   ],
   "source": [
    "#setup grid\n",
    "fig, ax=plt.subplots(dpi=200)\n",
    "\n",
    "#create graph\n",
    "G = nx.Graph()\n",
    "\n",
    "#give in node list\n",
    "nodes=[0,1,2,3]\n",
    "\n",
    "#edge weights (dist in between)\n",
    "dist=[100,150,250]\n",
    "\n",
    "\n",
    "#make weighted edge list to add, then fill\n",
    "edges=[]\n",
    "for i in range(len(nodes)-1):\n",
    "    edges.append((nodes[i],nodes[i+1],dist[i]))\n",
    "    \n",
    "#add weighted edges\n",
    "G.add_weighted_edges_from(edges)\n",
    "\n",
    "#explicitly set positions to match distances (just for visualization)\n",
    "#first node is at (0,0)\n",
    "pos_dict={0:(0,0)}\n",
    "#other nodes are at summed dist to the right\n",
    "\n",
    "for i in range(len(dist)):\n",
    "    pos_dict[(i+1)]=(sum(dist[:(i+1)]),0)\n",
    "\n",
    "new_names = {0:'O',1:'A',2:'B',3:'D'}\n",
    "nx.relabel_nodes(G, {0:'O',1:'A',2:'B',3:'D'},copy=False)    \n",
    "pos_dict2 = {}\n",
    "for i,j in pos_dict.items():\n",
    "    pos_dict2[new_names[i]] = j\n",
    "\n",
    "#plotting options\n",
    "options = {\n",
    "    \"font_size\": 15,\n",
    "    \"node_size\": 500,\n",
    "    \"node_color\": \"white\",\n",
    "    \"edgecolors\": \"black\",\n",
    "    \"linewidths\": 5,\n",
    "    \"width\": 5,\n",
    "}\n",
    "print(pos_dict2)\n",
    "#plot\n",
    "nx.draw_networkx(G, pos=pos_dict2, **options, labels={node: node for node in G.nodes()})\n"
   ]
  },
  {
   "cell_type": "markdown",
   "id": "b7a87163-7e4a-4d11-8f62-53fab3cf18a5",
   "metadata": {
    "pycharm": {
     "name": "#%% md\n"
    }
   },
   "source": [
    "## Step 2: Deterimine which combinations can refuel each path"
   ]
  },
  {
   "cell_type": "code",
   "execution_count": 3,
   "id": "fdf1ef48-4a2e-4827-9f1e-a2581e60319d",
   "metadata": {
    "pycharm": {
     "name": "#%%\n"
    }
   },
   "outputs": [],
   "source": [
    "#this script is copied from: https://stackoverflow.com/questions/50634876/how-can-you-remove-superset-lists-from-a-list-of-lists-in-python\n",
    "def get_minimal_subsets(sets):\n",
    "    sets = sorted(map(set, sets), key=len)\n",
    "    minimal_subsets = []\n",
    "    for s in sets:\n",
    "        if not any(minimal_subset.issubset(s) for minimal_subset in minimal_subsets):\n",
    "            minimal_subsets.append(s)\n",
    "    #added, converge to tuple\n",
    "    tuples_inside = [tuple (k) for k in minimal_subsets]\n",
    "\n",
    "    return tuples_inside"
   ]
  },
  {
   "cell_type": "code",
   "execution_count": 4,
   "id": "749c528b",
   "metadata": {
    "collapsed": false,
    "jupyter": {
     "outputs_hidden": false
    },
    "pycharm": {
     "name": "#%%\n"
    }
   },
   "outputs": [],
   "source": [
    "def first_stage_FRLM(G, r, OD):\n",
    "    \"\"\" \n",
    "    Returns feasible charging station combinations for transport network G for routes in OD, considering travel range r, assuming that charging stations can be placed on any node of G. \n",
    "    Parameters\n",
    "    ----------\n",
    "    G : NetworkX graph\n",
    "        must include all origins, desinations and any nodes where a refueling station may be placed.\n",
    "    r : float\n",
    "        range means of transport with full tank.\n",
    "    OD: list \n",
    "        list of travel data within network G, travel data from A-B and from B-A should be summed up and entered as either one of them.\n",
    "        example input:\n",
    "        [(node_1, node_2, flow_12),(node_1, node_3, flow_13),(node_2, node_3, flow_23)]\n",
    "        \"\"\"\n",
    "    #get data from graph in list format\n",
    "    node_list = [i for i in G.nodes]\n",
    "    edge_list = [i for i in G.edges]\n",
    "    edge_list_w = []\n",
    "    \n",
    "    # Now also create weighted edge list in the format [(begin, start, weight),(..), etc.]\n",
    "    for origin, destination in edge_list:\n",
    "        edge_list_w.append((origin,destination,G.get_edge_data(origin,destination)['weight']))\n",
    "    \n",
    "    #collect paths to refuel and path lengths in dicts, first create empty dicts\n",
    "    paths = {}\n",
    "    path_lengths = {}\n",
    "    \n",
    "    #dict to collect eq and fq values\n",
    "    dict_eq_fq = {'q':[], 'e_q':[], 'f_q':[]}\n",
    "    \n",
    "    #generate shortest paths for al origin destinations\n",
    "    for origin, destination, flow in OD:\n",
    "        paths[(origin,destination)] = nx.dijkstra_path(G,origin,destination)\n",
    "        path_lengths[(origin,destination)] = nx.dijkstra_path_length(G,origin,destination,weight='weight')\n",
    "        \n",
    "        #fill dict for eq_fq dataframe\n",
    "        dict_eq_fq['q'].append((origin,destination))\n",
    "        dict_eq_fq['f_q'].append(flow)\n",
    "        dict_eq_fq['e_q'].append((1/(max(1,int(r/(path_lengths[(origin,destination)]*2))))))\n",
    "    # print(paths, path_lengths)\n",
    "    #make master dict with key q, with list of all feasible station combinations on q with r\n",
    "    route_refuel_comb = {}\n",
    "    for route_key,combis in paths.items():\n",
    "        combis = list(np.intersect1d(nx.dijkstra_path(G, route_key[0], route_key[1]),['O','A','B','D']))\n",
    "        h=[]\n",
    "        # #functioning shortcut, now not nessecary: check if single station is enough\n",
    "        # if r >= path_lengths[i]:\n",
    "        #     h = [tuple (k) for k in str(j)]\n",
    "        #     route_refuel_comb[i] = h\n",
    "        # else:\n",
    "        # create all possible station combinations on this path\n",
    "        for L in range (0, len(combis)+1):\n",
    "                for k in itertools.combinations(combis, (L+1)):\n",
    "                    h.append(k)\n",
    "        #now add to dict:\n",
    "        route_refuel_comb[route_key] = h\n",
    "    # print(route_refuel_comb)\n",
    "    #now check feasibility\n",
    "    #new master dict to store feasible combinations\n",
    "    feasible_combinations = {}\n",
    "    \n",
    "    for route_key, route in route_refuel_comb.items():\n",
    "        print('Evaluate route', route_key, route)\n",
    "        feasible_combinations[route_key] = []\n",
    "        # store path for this route (on which round trip should be feasible)\n",
    "        harbours_on_route = list(np.intersect1d(nx.dijkstra_path(G, route_key[0], route_key[1]),['O','A','B','D']))\n",
    "        print('Harbours on route:', harbours_on_route)\n",
    "        # this creates a list with (a, b, c, b, a) if route from a to c via b.\n",
    "        round_trip = paths[route_key][:-1] + paths[route_key][::-1]\n",
    "        \n",
    "        # now loop through all possible station combinations\n",
    "        for combi in route:\n",
    "            print('evaluate combi', combi)\n",
    "            # start at origin\n",
    "            current_pos = round_trip[0]\n",
    "            # start with full range if refueling station at origin, otherwise half full\n",
    "            if current_pos in combi:\n",
    "                current_range = r\n",
    "            else:\n",
    "                current_range = r * 0.5\n",
    "            # simulate power levels during round trip\n",
    "            # [1:] because first dest is second entry round trip list\n",
    "            for sub_dest in round_trip[1:]:\n",
    "                # try to travel to new dest, first calculate dist to new destination\n",
    "                dist = nx.dijkstra_path_length(G, current_pos, sub_dest, weight='weight')\n",
    "                print('currently at', current_pos, 'traveling to', sub_dest, 'current range =', current_range,\n",
    "                'distance', dist)\n",
    "\n",
    "                # only travel if dist is not too long\n",
    "                if (current_range - dist) >= 0:\n",
    "\n",
    "                    # update range and pos\n",
    "                    current_pos = sub_dest\n",
    "                    current_range -= dist\n",
    "                    # if there is a refueling station, refuel\n",
    "                    if sub_dest in combi:\n",
    "                        current_range = r\n",
    "\n",
    "                    # final dest reached? (e.g. dest if refuel station at dest, otherwise origin)\n",
    "                    if (current_pos in combi) and (current_pos == harbours_on_route[-1]):\n",
    "                        feasible_combinations[route_key].append(combi)\n",
    "                        print(\"Destination reached and cs available\", current_pos, harbours_on_route)\n",
    "                        break\n",
    "                    # else: maybe feasible, double back route to check!\n",
    "                    elif current_pos == round_trip[0]:\n",
    "                        feasible_combinations[route_key].append(combi)\n",
    "                        print(\"Origin reached again!\")\n",
    "                        break\n",
    "                else:\n",
    "                    print('Route unfeasible, stranded at:', current_pos, 'range:', r, 'dist:', dist)\n",
    "                    break\n",
    "    print(feasible_combinations)\n",
    "    # next: find and remove supersets\n",
    "    for route_key, combinations in feasible_combinations.items():\n",
    "        if len(combinations) > 1:\n",
    "            feasible_combinations[route_key] = get_minimal_subsets(feasible_combinations[route_key])\n",
    "            \n",
    "    print(feasible_combinations)\n",
    "    #Reformat data: create two dicts one with b_qh values and one with g_qhk values\n",
    "    #first create list of all possible combinations\n",
    "    combinations=[]\n",
    "    for i in feasible_combinations.values():\n",
    "        combinations+=i\n",
    "\n",
    "    #remove duplicates\n",
    "    combinations =list(set(combinations))\n",
    "\n",
    "    #setup empty dict with keys to fill with b_qh values\n",
    "    dict_b = {'q':[]}\n",
    "    #column for each unique combi\n",
    "    for j in combinations:\n",
    "            dict_b[j] = []\n",
    "    \n",
    "    #first dict_\n",
    "    for route_key, combinations_route in feasible_combinations.items():\n",
    "        dict_b['q'].append(route_key)\n",
    "        for combination in combinations:\n",
    "            if combination in combinations_route:\n",
    "                dict_b[combination].append(1)\n",
    "            else:\n",
    "                dict_b[combination].append(0)\n",
    "\n",
    "\n",
    "\n",
    "    \n",
    "    #setup next dict to store g_qhk values\n",
    "    dict_g={'q':[],'h':[]}\n",
    "    \n",
    "    for node in node_list:\n",
    "        dict_g[node] = []\n",
    "    \n",
    "    #fill second dict for g_qhk    \n",
    "    for route_key, route in feasible_combinations.items():\n",
    "        for combination in route:\n",
    "            dict_g['q'].append(route_key)\n",
    "            dict_g['h'].append(combination)\n",
    "            for node in node_list:\n",
    "                if node in combination:\n",
    "                    if node in route_key:\n",
    "                        dict_g[node].append(1)\n",
    "                    else:\n",
    "                        dict_g[node].append(2)\n",
    "                else:\n",
    "                    dict_g[node].append(0)\n",
    "    \n",
    "    #create dicts to return and set index right\n",
    "    df_b = pd.DataFrame.from_dict(dict_b)\n",
    "    df_b.set_index('q', inplace=True)\n",
    "    \n",
    "    df_g = pd.DataFrame.from_dict(dict_g)\n",
    "    df_g.set_index(['q','h'], inplace=True)\n",
    "    \n",
    "    df_eq_fq = pd.DataFrame.from_dict(dict_eq_fq)\n",
    "    df_eq_fq.set_index('q', inplace=True)\n",
    "    \n",
    "    return df_b, df_g, df_eq_fq"
   ]
  },
  {
   "cell_type": "code",
   "execution_count": 5,
   "id": "8b4f4ff1",
   "metadata": {
    "collapsed": false,
    "jupyter": {
     "outputs_hidden": false
    },
    "pycharm": {
     "name": "#%%\n"
    }
   },
   "outputs": [
    {
     "name": "stdout",
     "output_type": "stream",
     "text": [
      "Evaluate route ('O', 'D') [('A',), ('B',), ('D',), ('O',), ('A', 'B'), ('A', 'D'), ('A', 'O'), ('B', 'D'), ('B', 'O'), ('D', 'O'), ('A', 'B', 'D'), ('A', 'B', 'O'), ('A', 'D', 'O'), ('B', 'D', 'O'), ('A', 'B', 'D', 'O')]\n",
      "Harbours on route: ['A', 'B', 'D', 'O']\n",
      "evaluate combi ('A',)\n",
      "currently at O traveling to A current range = 350.0 distance 100\n",
      "currently at A traveling to B current range = 700 distance 150\n",
      "currently at B traveling to D current range = 550 distance 250\n",
      "currently at D traveling to B current range = 300 distance 250\n",
      "currently at B traveling to A current range = 50 distance 150\n",
      "Route unfeasible, stranded at: B range: 700 dist: 150\n",
      "evaluate combi ('B',)\n",
      "currently at O traveling to A current range = 350.0 distance 100\n",
      "currently at A traveling to B current range = 250.0 distance 150\n",
      "currently at B traveling to D current range = 700 distance 250\n",
      "currently at D traveling to B current range = 450 distance 250\n",
      "currently at B traveling to A current range = 700 distance 150\n",
      "currently at A traveling to O current range = 550 distance 100\n",
      "Origin reached again!\n",
      "evaluate combi ('D',)\n",
      "currently at O traveling to A current range = 350.0 distance 100\n",
      "currently at A traveling to B current range = 250.0 distance 150\n",
      "currently at B traveling to D current range = 100.0 distance 250\n",
      "Route unfeasible, stranded at: B range: 700 dist: 250\n",
      "evaluate combi ('O',)\n",
      "currently at O traveling to A current range = 700 distance 100\n",
      "currently at A traveling to B current range = 600 distance 150\n",
      "currently at B traveling to D current range = 450 distance 250\n",
      "currently at D traveling to B current range = 200 distance 250\n",
      "Route unfeasible, stranded at: D range: 700 dist: 250\n",
      "evaluate combi ('A', 'B')\n",
      "currently at O traveling to A current range = 350.0 distance 100\n",
      "currently at A traveling to B current range = 700 distance 150\n",
      "currently at B traveling to D current range = 700 distance 250\n",
      "currently at D traveling to B current range = 450 distance 250\n",
      "currently at B traveling to A current range = 700 distance 150\n",
      "currently at A traveling to O current range = 700 distance 100\n",
      "Origin reached again!\n",
      "evaluate combi ('A', 'D')\n",
      "currently at O traveling to A current range = 350.0 distance 100\n",
      "currently at A traveling to B current range = 700 distance 150\n",
      "currently at B traveling to D current range = 550 distance 250\n",
      "currently at D traveling to B current range = 700 distance 250\n",
      "currently at B traveling to A current range = 450 distance 150\n",
      "currently at A traveling to O current range = 700 distance 100\n",
      "Origin reached again!\n",
      "evaluate combi ('A', 'O')\n",
      "currently at O traveling to A current range = 700 distance 100\n",
      "currently at A traveling to B current range = 700 distance 150\n",
      "currently at B traveling to D current range = 550 distance 250\n",
      "currently at D traveling to B current range = 300 distance 250\n",
      "currently at B traveling to A current range = 50 distance 150\n",
      "Route unfeasible, stranded at: B range: 700 dist: 150\n",
      "evaluate combi ('B', 'D')\n",
      "currently at O traveling to A current range = 350.0 distance 100\n",
      "currently at A traveling to B current range = 250.0 distance 150\n",
      "currently at B traveling to D current range = 700 distance 250\n",
      "currently at D traveling to B current range = 700 distance 250\n",
      "currently at B traveling to A current range = 700 distance 150\n",
      "currently at A traveling to O current range = 550 distance 100\n",
      "Origin reached again!\n",
      "evaluate combi ('B', 'O')\n",
      "currently at O traveling to A current range = 700 distance 100\n",
      "currently at A traveling to B current range = 600 distance 150\n",
      "currently at B traveling to D current range = 700 distance 250\n",
      "currently at D traveling to B current range = 450 distance 250\n",
      "currently at B traveling to A current range = 700 distance 150\n",
      "currently at A traveling to O current range = 550 distance 100\n",
      "Destination reached and cs available O ['A', 'B', 'D', 'O']\n",
      "evaluate combi ('D', 'O')\n",
      "currently at O traveling to A current range = 700 distance 100\n",
      "currently at A traveling to B current range = 600 distance 150\n",
      "currently at B traveling to D current range = 450 distance 250\n",
      "currently at D traveling to B current range = 700 distance 250\n",
      "currently at B traveling to A current range = 450 distance 150\n",
      "currently at A traveling to O current range = 300 distance 100\n",
      "Destination reached and cs available O ['A', 'B', 'D', 'O']\n",
      "evaluate combi ('A', 'B', 'D')\n",
      "currently at O traveling to A current range = 350.0 distance 100\n",
      "currently at A traveling to B current range = 700 distance 150\n",
      "currently at B traveling to D current range = 700 distance 250\n",
      "currently at D traveling to B current range = 700 distance 250\n",
      "currently at B traveling to A current range = 700 distance 150\n",
      "currently at A traveling to O current range = 700 distance 100\n",
      "Origin reached again!\n",
      "evaluate combi ('A', 'B', 'O')\n",
      "currently at O traveling to A current range = 700 distance 100\n",
      "currently at A traveling to B current range = 700 distance 150\n",
      "currently at B traveling to D current range = 700 distance 250\n",
      "currently at D traveling to B current range = 450 distance 250\n",
      "currently at B traveling to A current range = 700 distance 150\n",
      "currently at A traveling to O current range = 700 distance 100\n",
      "Destination reached and cs available O ['A', 'B', 'D', 'O']\n",
      "evaluate combi ('A', 'D', 'O')\n",
      "currently at O traveling to A current range = 700 distance 100\n",
      "currently at A traveling to B current range = 700 distance 150\n",
      "currently at B traveling to D current range = 550 distance 250\n",
      "currently at D traveling to B current range = 700 distance 250\n",
      "currently at B traveling to A current range = 450 distance 150\n",
      "currently at A traveling to O current range = 700 distance 100\n",
      "Destination reached and cs available O ['A', 'B', 'D', 'O']\n",
      "evaluate combi ('B', 'D', 'O')\n",
      "currently at O traveling to A current range = 700 distance 100\n",
      "currently at A traveling to B current range = 600 distance 150\n",
      "currently at B traveling to D current range = 700 distance 250\n",
      "currently at D traveling to B current range = 700 distance 250\n",
      "currently at B traveling to A current range = 700 distance 150\n",
      "currently at A traveling to O current range = 550 distance 100\n",
      "Destination reached and cs available O ['A', 'B', 'D', 'O']\n",
      "evaluate combi ('A', 'B', 'D', 'O')\n",
      "currently at O traveling to A current range = 700 distance 100\n",
      "currently at A traveling to B current range = 700 distance 150\n",
      "currently at B traveling to D current range = 700 distance 250\n",
      "currently at D traveling to B current range = 700 distance 250\n",
      "currently at B traveling to A current range = 700 distance 150\n",
      "currently at A traveling to O current range = 700 distance 100\n",
      "Destination reached and cs available O ['A', 'B', 'D', 'O']\n",
      "{('O', 'D'): [('B',), ('A', 'B'), ('A', 'D'), ('B', 'D'), ('B', 'O'), ('D', 'O'), ('A', 'B', 'D'), ('A', 'B', 'O'), ('A', 'D', 'O'), ('B', 'D', 'O'), ('A', 'B', 'D', 'O')]}\n",
      "{('O', 'D'): [('B',), ('A', 'D'), ('D', 'O')]}\n"
     ]
    }
   ],
   "source": [
    "#import time to check performance\n",
    "import time\n",
    "\n",
    "df_b, df_g, df_eq_fq = first_stage_FRLM(G, 700, [('O','D',10)])"
   ]
  },
  {
   "cell_type": "markdown",
   "id": "6d760b1d",
   "metadata": {
    "pycharm": {
     "name": "#%% md\n"
    }
   },
   "source": [
    "## Dataframes that result from first stage\n",
    "\n",
    "The DataFrames below will be used in the optimization"
   ]
  },
  {
   "cell_type": "code",
   "execution_count": 6,
   "id": "0e6fa0f8",
   "metadata": {
    "collapsed": false,
    "jupyter": {
     "outputs_hidden": false
    },
    "pycharm": {
     "name": "#%%\n"
    }
   },
   "outputs": [
    {
     "data": {
      "text/html": [
       "<div>\n",
       "<style scoped>\n",
       "    .dataframe tbody tr th:only-of-type {\n",
       "        vertical-align: middle;\n",
       "    }\n",
       "\n",
       "    .dataframe tbody tr th {\n",
       "        vertical-align: top;\n",
       "    }\n",
       "\n",
       "    .dataframe thead th {\n",
       "        text-align: right;\n",
       "    }\n",
       "</style>\n",
       "<table border=\"1\" class=\"dataframe\">\n",
       "  <thead>\n",
       "    <tr style=\"text-align: right;\">\n",
       "      <th></th>\n",
       "      <th>(A, D)</th>\n",
       "      <th>(B,)</th>\n",
       "      <th>(D, O)</th>\n",
       "    </tr>\n",
       "    <tr>\n",
       "      <th>q</th>\n",
       "      <th></th>\n",
       "      <th></th>\n",
       "      <th></th>\n",
       "    </tr>\n",
       "  </thead>\n",
       "  <tbody>\n",
       "    <tr>\n",
       "      <th>(O, D)</th>\n",
       "      <td>1</td>\n",
       "      <td>1</td>\n",
       "      <td>1</td>\n",
       "    </tr>\n",
       "  </tbody>\n",
       "</table>\n",
       "</div>"
      ],
      "text/plain": [
       "        (A, D)  (B,)  (D, O)\n",
       "q                           \n",
       "(O, D)       1     1       1"
      ]
     },
     "execution_count": 6,
     "metadata": {},
     "output_type": "execute_result"
    }
   ],
   "source": [
    "df_b"
   ]
  },
  {
   "cell_type": "code",
   "execution_count": 7,
   "id": "2fcd3e78",
   "metadata": {
    "collapsed": false,
    "jupyter": {
     "outputs_hidden": false
    },
    "pycharm": {
     "name": "#%%\n"
    }
   },
   "outputs": [
    {
     "data": {
      "text/html": [
       "<div>\n",
       "<style scoped>\n",
       "    .dataframe tbody tr th:only-of-type {\n",
       "        vertical-align: middle;\n",
       "    }\n",
       "\n",
       "    .dataframe tbody tr th {\n",
       "        vertical-align: top;\n",
       "    }\n",
       "\n",
       "    .dataframe thead th {\n",
       "        text-align: right;\n",
       "    }\n",
       "</style>\n",
       "<table border=\"1\" class=\"dataframe\">\n",
       "  <thead>\n",
       "    <tr style=\"text-align: right;\">\n",
       "      <th></th>\n",
       "      <th></th>\n",
       "      <th>O</th>\n",
       "      <th>A</th>\n",
       "      <th>B</th>\n",
       "      <th>D</th>\n",
       "    </tr>\n",
       "    <tr>\n",
       "      <th>q</th>\n",
       "      <th>h</th>\n",
       "      <th></th>\n",
       "      <th></th>\n",
       "      <th></th>\n",
       "      <th></th>\n",
       "    </tr>\n",
       "  </thead>\n",
       "  <tbody>\n",
       "    <tr>\n",
       "      <th rowspan=\"3\" valign=\"top\">(O, D)</th>\n",
       "      <th>(B,)</th>\n",
       "      <td>0</td>\n",
       "      <td>0</td>\n",
       "      <td>2</td>\n",
       "      <td>0</td>\n",
       "    </tr>\n",
       "    <tr>\n",
       "      <th>(A, D)</th>\n",
       "      <td>0</td>\n",
       "      <td>2</td>\n",
       "      <td>0</td>\n",
       "      <td>1</td>\n",
       "    </tr>\n",
       "    <tr>\n",
       "      <th>(D, O)</th>\n",
       "      <td>1</td>\n",
       "      <td>0</td>\n",
       "      <td>0</td>\n",
       "      <td>1</td>\n",
       "    </tr>\n",
       "  </tbody>\n",
       "</table>\n",
       "</div>"
      ],
      "text/plain": [
       "               O  A  B  D\n",
       "q      h                 \n",
       "(O, D) (B,)    0  0  2  0\n",
       "       (A, D)  0  2  0  1\n",
       "       (D, O)  1  0  0  1"
      ]
     },
     "execution_count": 7,
     "metadata": {},
     "output_type": "execute_result"
    }
   ],
   "source": [
    "df_g"
   ]
  },
  {
   "cell_type": "code",
   "execution_count": 8,
   "id": "2bea5c9a",
   "metadata": {
    "collapsed": false,
    "jupyter": {
     "outputs_hidden": false
    },
    "pycharm": {
     "name": "#%%\n"
    }
   },
   "outputs": [
    {
     "data": {
      "text/html": [
       "<div>\n",
       "<style scoped>\n",
       "    .dataframe tbody tr th:only-of-type {\n",
       "        vertical-align: middle;\n",
       "    }\n",
       "\n",
       "    .dataframe tbody tr th {\n",
       "        vertical-align: top;\n",
       "    }\n",
       "\n",
       "    .dataframe thead th {\n",
       "        text-align: right;\n",
       "    }\n",
       "</style>\n",
       "<table border=\"1\" class=\"dataframe\">\n",
       "  <thead>\n",
       "    <tr style=\"text-align: right;\">\n",
       "      <th></th>\n",
       "      <th>e_q</th>\n",
       "      <th>f_q</th>\n",
       "    </tr>\n",
       "    <tr>\n",
       "      <th>q</th>\n",
       "      <th></th>\n",
       "      <th></th>\n",
       "    </tr>\n",
       "  </thead>\n",
       "  <tbody>\n",
       "    <tr>\n",
       "      <th>(O, D)</th>\n",
       "      <td>1.0</td>\n",
       "      <td>10</td>\n",
       "    </tr>\n",
       "  </tbody>\n",
       "</table>\n",
       "</div>"
      ],
      "text/plain": [
       "        e_q  f_q\n",
       "q               \n",
       "(O, D)  1.0   10"
      ]
     },
     "execution_count": 8,
     "metadata": {},
     "output_type": "execute_result"
    }
   ],
   "source": [
    "df_eq_fq"
   ]
  },
  {
   "cell_type": "markdown",
   "id": "b09d756d",
   "metadata": {
    "pycharm": {
     "name": "#%% md\n"
    }
   },
   "source": [
    "## Step 3: PULP optimisation\n",
    "Examples used: Python dictaat H3 and http://benalexkeen.com/linear-programming-with-python-and-pulp-part-5/\n",
    "\n",
    "(later on maybe try more efficient solver)"
   ]
  },
  {
   "cell_type": "code",
   "execution_count": 9,
   "id": "f86d5e48",
   "metadata": {
    "collapsed": false,
    "jupyter": {
     "outputs_hidden": false
    },
    "pycharm": {
     "name": "#%%\n"
    }
   },
   "outputs": [],
   "source": [
    "#import pulp module\n",
    "from pulp import *"
   ]
  },
  {
   "cell_type": "markdown",
   "id": "f288315e",
   "metadata": {
    "pycharm": {
     "name": "#%% md\n"
    }
   },
   "source": [
    "### Input parameters"
   ]
  },
  {
   "cell_type": "code",
   "execution_count": 10,
   "id": "f6d937f4",
   "metadata": {
    "collapsed": false,
    "jupyter": {
     "outputs_hidden": false
    },
    "pycharm": {
     "name": "#%%\n"
    }
   },
   "outputs": [],
   "source": [
    "c=10000 #capacity: now set to large\n",
    "p=2 #amount of stations to place\n",
    "#also add range\n",
    "#bovenaan"
   ]
  },
  {
   "cell_type": "markdown",
   "id": "d9c5fdba",
   "metadata": {
    "pycharm": {
     "name": "#%% md\n"
    }
   },
   "source": [
    "### Define decision variables"
   ]
  },
  {
   "cell_type": "code",
   "execution_count": 11,
   "id": "c9c7a2ff",
   "metadata": {
    "collapsed": false,
    "jupyter": {
     "outputs_hidden": false
    },
    "pycharm": {
     "name": "#%%\n"
    }
   },
   "outputs": [],
   "source": [
    "# define y_qh for each q and each h, and restrict between 0 and 1\n",
    "# constraint 1.5 already incorporated\n",
    "flow_allocation = pulp.LpVariable.dicts(\"Flow_captured\",\n",
    "                                     ((q, h) for q, h in df_g.index),\n",
    "                                     lowBound=0,\n",
    "                                     upBound=1,\n",
    "                                     cat='Continuous')"
   ]
  },
  {
   "cell_type": "code",
   "execution_count": 12,
   "id": "6af47151",
   "metadata": {
    "collapsed": false,
    "jupyter": {
     "outputs_hidden": false
    },
    "pycharm": {
     "name": "#%%\n"
    }
   },
   "outputs": [
    {
     "data": {
      "text/plain": [
       "{(('O', 'D'), ('B',)): Flow_captured_(('O',_'D'),_('B',)),\n",
       " (('O', 'D'), ('A', 'D')): Flow_captured_(('O',_'D'),_('A',_'D')),\n",
       " (('O', 'D'), ('D', 'O')): Flow_captured_(('O',_'D'),_('D',_'O'))}"
      ]
     },
     "execution_count": 12,
     "metadata": {},
     "output_type": "execute_result"
    }
   ],
   "source": [
    "flow_allocation"
   ]
  },
  {
   "cell_type": "code",
   "execution_count": 13,
   "id": "fd2ba3b8",
   "metadata": {
    "collapsed": false,
    "jupyter": {
     "outputs_hidden": false
    },
    "pycharm": {
     "name": "#%%\n"
    }
   },
   "outputs": [],
   "source": [
    "# amount of facilities to place at each site is also decision var\n",
    "facilities_to_build = pulp.LpVariable.dicts(\"Facilities\",\n",
    "                                     (facility for facility in df_g.columns),\n",
    "                                     lowBound=0,\n",
    "                                     cat='Integer')"
   ]
  },
  {
   "cell_type": "code",
   "execution_count": 14,
   "id": "27f56058",
   "metadata": {
    "collapsed": false,
    "jupyter": {
     "outputs_hidden": false
    },
    "pycharm": {
     "name": "#%%\n"
    }
   },
   "outputs": [
    {
     "data": {
      "text/plain": [
       "{'O': Facilities_O, 'A': Facilities_A, 'B': Facilities_B, 'D': Facilities_D}"
      ]
     },
     "execution_count": 14,
     "metadata": {},
     "output_type": "execute_result"
    }
   ],
   "source": [
    "facilities_to_build"
   ]
  },
  {
   "cell_type": "markdown",
   "id": "602cb7ea",
   "metadata": {
    "pycharm": {
     "name": "#%% md\n"
    }
   },
   "source": [
    "### Define problem and objective function"
   ]
  },
  {
   "cell_type": "code",
   "execution_count": 15,
   "id": "39bd853a",
   "metadata": {
    "collapsed": false,
    "jupyter": {
     "outputs_hidden": false
    },
    "pycharm": {
     "name": "#%%\n"
    }
   },
   "outputs": [],
   "source": [
    "# Define problem\n",
    "model = LpProblem('CFRLM', LpMaximize)"
   ]
  },
  {
   "cell_type": "markdown",
   "id": "d4c11bfc",
   "metadata": {
    "pycharm": {
     "name": "#%% md\n"
    }
   },
   "source": [
    "From this point, formula is above implementation"
   ]
  },
  {
   "cell_type": "markdown",
   "id": "161f5d91",
   "metadata": {
    "pycharm": {
     "name": "#%% md\n"
    }
   },
   "source": [
    "$ Max\\;Z = \\sum_{q \\,\\in\\,Q}\\,\\sum_{h\\in H|b_{qh}=1}\\,f_q\\,y_{qh} $"
   ]
  },
  {
   "cell_type": "code",
   "execution_count": 16,
   "id": "25017286",
   "metadata": {
    "collapsed": false,
    "jupyter": {
     "outputs_hidden": false
    },
    "pycharm": {
     "name": "#%%\n"
    }
   },
   "outputs": [],
   "source": [
    "#objective function\n",
    "model += pulp.lpSum([flow_allocation[q ,h] * df_b[h][q] * df_eq_fq['f_q'][q] for q, h in df_g.index])\n",
    "#seems to work!"
   ]
  },
  {
   "cell_type": "markdown",
   "id": "457d67dd",
   "metadata": {
    "pycharm": {
     "name": "#%% md\n"
    }
   },
   "source": [
    "### Define constraints"
   ]
  },
  {
   "cell_type": "markdown",
   "id": "50a4118c",
   "metadata": {
    "pycharm": {
     "name": "#%% md\n"
    }
   },
   "source": [
    "$ \\sum_{q \\,\\in\\,Q}\\,\\sum_{h\\in H|b_{qh}=1}\\,e_q\\,g_{qhk}\\,f_q\\,y_{qh} \\leq c\\,x_k \\:\\:\\: \\forall k \\in K $"
   ]
  },
  {
   "cell_type": "code",
   "execution_count": 17,
   "id": "553f8ebe",
   "metadata": {
    "collapsed": false,
    "jupyter": {
     "outputs_hidden": false
    },
    "pycharm": {
     "name": "#%%\n"
    }
   },
   "outputs": [],
   "source": [
    "# first constraint (1.2 in paper)\n",
    "daily_cap = c\n",
    "for key, facility in facilities_to_build.items():\n",
    "        model += pulp.lpSum(df_g[key].loc[df_g.index == (q, h)] * df_eq_fq['f_q'][q] * flow_allocation[q, h] * (1/len(h)) for q, h in df_g.index) <= pulp.lpSum(daily_cap * facility)"
   ]
  },
  {
   "cell_type": "markdown",
   "id": "6039b020",
   "metadata": {
    "pycharm": {
     "name": "#%% md\n"
    }
   },
   "source": [
    "$ \\sum_{k \\in K} x_k = p $"
   ]
  },
  {
   "cell_type": "code",
   "execution_count": 18,
   "id": "8b1b0c67",
   "metadata": {
    "collapsed": false,
    "jupyter": {
     "outputs_hidden": false
    },
    "pycharm": {
     "name": "#%%\n"
    }
   },
   "outputs": [],
   "source": [
    "#second constraint (1.3 in paper)\n",
    "model += pulp.lpSum(facilities_to_build[i] for i in facilities_to_build.keys()) <= p\n",
    "#works"
   ]
  },
  {
   "cell_type": "markdown",
   "id": "a5a6b4ce",
   "metadata": {
    "pycharm": {
     "name": "#%% md\n"
    }
   },
   "source": [
    "$ \\sum_{h \\in H|b_{qh} = 1} y_{qh} \\leq 1 \\:\\:\\: \\forall q \\in Q $"
   ]
  },
  {
   "cell_type": "code",
   "execution_count": 19,
   "id": "4361defc",
   "metadata": {
    "collapsed": false,
    "jupyter": {
     "outputs_hidden": false
    },
    "pycharm": {
     "name": "#%%\n"
    }
   },
   "outputs": [],
   "source": [
    "#third constraint (1.4 in paper)\n",
    "for q in df_b.index:\n",
    "        model += pulp.lpSum([flow_allocation[q, h] * df_b[h][q]] for h in df_g.reset_index().\n",
    "                            loc[df_g.reset_index().q == q].h) <= 1\n",
    "#now works, error solved!"
   ]
  },
  {
   "cell_type": "markdown",
   "id": "105b673b",
   "metadata": {
    "pycharm": {
     "name": "#%% md\n"
    }
   },
   "source": [
    "## Check if formulation is OK"
   ]
  },
  {
   "cell_type": "code",
   "execution_count": 20,
   "id": "27eaf2b1",
   "metadata": {
    "collapsed": false,
    "jupyter": {
     "outputs_hidden": false
    },
    "pycharm": {
     "name": "#%%\n"
    }
   },
   "outputs": [
    {
     "name": "stdout",
     "output_type": "stream",
     "text": [
      "CFRLM:\n",
      "MAXIMIZE\n",
      "10*Flow_captured_(('O',_'D'),_('A',_'D')) + 10*Flow_captured_(('O',_'D'),_('B',)) + 10*Flow_captured_(('O',_'D'),_('D',_'O')) + 0\n",
      "SUBJECT TO\n",
      "_C1: - 10000 Facilities_O + 5 Flow_captured_(('O',_'D'),_('D',_'O')) <= 0\n",
      "\n",
      "_C2: - 10000 Facilities_A + 10 Flow_captured_(('O',_'D'),_('A',_'D')) <= 0\n",
      "\n",
      "_C3: - 10000 Facilities_B + 20 Flow_captured_(('O',_'D'),_('B',)) <= 0\n",
      "\n",
      "_C4: - 10000 Facilities_D + 5 Flow_captured_(('O',_'D'),_('A',_'D'))\n",
      " + 5 Flow_captured_(('O',_'D'),_('D',_'O')) <= 0\n",
      "\n",
      "_C5: Facilities_A + Facilities_B + Facilities_D + Facilities_O <= 2\n",
      "\n",
      "_C6: Flow_captured_(('O',_'D'),_('A',_'D'))\n",
      " + Flow_captured_(('O',_'D'),_('B',)) + Flow_captured_(('O',_'D'),_('D',_'O'))\n",
      " <= 1\n",
      "\n",
      "VARIABLES\n",
      "0 <= Facilities_A Integer\n",
      "0 <= Facilities_B Integer\n",
      "0 <= Facilities_D Integer\n",
      "0 <= Facilities_O Integer\n",
      "Flow_captured_(('O',_'D'),_('A',_'D')) <= 1 Continuous\n",
      "Flow_captured_(('O',_'D'),_('B',)) <= 1 Continuous\n",
      "Flow_captured_(('O',_'D'),_('D',_'O')) <= 1 Continuous\n",
      "\n"
     ]
    }
   ],
   "source": [
    "print(model)"
   ]
  },
  {
   "cell_type": "markdown",
   "id": "9fc0d377",
   "metadata": {
    "pycharm": {
     "name": "#%% md\n"
    }
   },
   "source": [
    "## Now solve problem\n",
    "\n",
    "All other constraints are already incorporated as low/upbounds when defining decision variables above"
   ]
  },
  {
   "cell_type": "code",
   "execution_count": 22,
   "id": "a1921500",
   "metadata": {
    "collapsed": false,
    "jupyter": {
     "outputs_hidden": false
    },
    "pycharm": {
     "name": "#%%\n"
    }
   },
   "outputs": [
    {
     "name": "stdout",
     "output_type": "stream",
     "text": [
      "Status: Optimal\n"
     ]
    }
   ],
   "source": [
    "# Solve LP problem\n",
    "model.solve()\n",
    "\n",
    "# Controleer of het optimum is gevonden\n",
    "print(\"Status:\", LpStatus[model.status])"
   ]
  },
  {
   "cell_type": "code",
   "execution_count": 23,
   "id": "6a97ee4f",
   "metadata": {
    "collapsed": false,
    "jupyter": {
     "outputs_hidden": false
    },
    "pycharm": {
     "name": "#%%\n"
    }
   },
   "outputs": [
    {
     "name": "stdout",
     "output_type": "stream",
     "text": [
      "Variable Facilities_A is equal to 0.0\n",
      "Variable Facilities_B is equal to 0.0\n",
      "Variable Facilities_D is equal to 1.0\n",
      "Variable Facilities_O is equal to 1.0\n",
      "Variable Flow_captured_(('O',_'D'),_('A',_'D')) is equal to 0.0\n",
      "Variable Flow_captured_(('O',_'D'),_('B',)) is equal to 0.0\n",
      "Variable Flow_captured_(('O',_'D'),_('D',_'O')) is equal to 1.0\n",
      "Total supported flow is equal to 10.0\n"
     ]
    }
   ],
   "source": [
    "# Values of decision variables at optimum\n",
    "for var in model.variables():\n",
    "    print('Variable', var,'is equal to', value(var))\n",
    "    \n",
    "# Value of objective at optimum\n",
    "print('Total supported flow is equal to', value(model.objective))"
   ]
  },
  {
   "cell_type": "code",
   "execution_count": 24,
   "id": "4600d5fc",
   "metadata": {
    "collapsed": false,
    "jupyter": {
     "outputs_hidden": false
    },
    "pycharm": {
     "name": "#%%\n"
    }
   },
   "outputs": [],
   "source": [
    "#in function form now.\n",
    "def second_stage_FRLM(p, c, df_g, df_b, df_eq_fq):\n",
    "    \"\"\" This program optimally sites n charging stations with a max capacity c,\n",
    "    based on three DataFrames that are generated by the first_stage_FRLM function.\n",
    "        Parameters\n",
    "        ----------\n",
    "        p : int\n",
    "            #charging stations modules to locate on any node of G.\n",
    "\n",
    "        c : float\n",
    "            max (average) flow a charging station can cope with.\n",
    "\n",
    "        ## the following three inputs are data frames that can be generated using the first_stage_FRLM function\n",
    "        df_g : pd.DataFrame()\n",
    "            DataFrame with a row for each route q and a column for each existing charging station combination h.\n",
    "            b_qh = 1 combination h can support trips on path h, 0 otherwise.\n",
    "\n",
    "        df_b : pd.DataFrame()\n",
    "            DataFrame with a row for each charging station combination h, and a column for each unique facility k.\n",
    "            a_qh = 1 if combination k is in combination h, 0 otherwise.\n",
    "\n",
    "        df_eq_fq : pd.DataFrame()\n",
    "            Dataframe with a row for each route q, that contains two columns corresponding f_q and e_q values.\n",
    "        \"\"\"\n",
    "\n",
    "    # define y_qh for each q and each h, and restrict between 0 and 1\n",
    "# constraint 1.5 already incorporated\n",
    "    flow_allocation = pulp.LpVariable.dicts(\"Flow_captured\",\n",
    "                                         ((q, h) for q, h in df_g.index),\n",
    "                                         lowBound=0,\n",
    "                                         upBound=1,\n",
    "                                         cat='Continuous')\n",
    "\n",
    "    # amount of facilities to place at each site is also decision var\n",
    "    facilities_to_build = pulp.LpVariable.dicts(\"Facilities\",\n",
    "                                     (facility for facility in df_g.columns),\n",
    "                                     lowBound=0,\n",
    "                                     cat='Integer')\n",
    "    # Define problem\n",
    "    model = LpProblem('CFRLM', LpMaximize)\n",
    "\n",
    "    #objective function\n",
    "    model += pulp.lpSum([flow_allocation[q,h] * df_b[h][q] * df_eq_fq['f_q'][q] for q,h in df_g.index])\n",
    "\n",
    "    ################################################constraints##################################################\n",
    "    # first constraint\n",
    "    # for each facility\n",
    "    for key, facility in facilities_to_build.items():\n",
    "        model+= pulp.lpSum(df_eq_fq['e_q'][q] * df_g[key].loc[df_g.index == (q,h)] * df_eq_fq['f_q'][q] * flow_allocation[q,h] for q,h in df_g.index) <= pulp.lpSum(c* facility)\n",
    "\n",
    "    #second constraint\n",
    "    model += pulp.lpSum(facilities_to_build[i] for i in range(len(facilities_to_build.keys()))) <= p\n",
    "\n",
    "    #third constraint\n",
    "    for q in df_b.index:\n",
    "        model += pulp.lpSum([flow_allocation[q,h] * df_b[h][q]] for h in df_g.loc[q].index) <= 1\n",
    "\n",
    "    # print(model)\n",
    "    #solve\n",
    "    model.solve()\n",
    "\n",
    "    status=LpStatus[model.status]\n",
    "    print(status)\n",
    "    # Values of decision variables at optimum\n",
    "\n",
    "\n",
    "    for var in model.variables():\n",
    "        print('Variable', var, 'is equal to', value(var))\n",
    "\n",
    "    # Value of objective at optimum\n",
    "    print('Total supported flow is equal to', value(model.objective))\n",
    "\n",
    "    #create useful output\n",
    "    dict_fac ={}\n",
    "    for var in model.variables():\n",
    "        dict_fac[var] = value(var)\n",
    "\n",
    "    return dict_fac\n"
   ]
  },
  {
   "cell_type": "markdown",
   "id": "390cf4b0",
   "metadata": {
    "pycharm": {
     "name": "#%% md\n"
    }
   },
   "source": [
    "## Try functions"
   ]
  },
  {
   "cell_type": "code",
   "execution_count": 25,
   "id": "f6608089",
   "metadata": {
    "collapsed": false,
    "jupyter": {
     "outputs_hidden": false
    },
    "pycharm": {
     "name": "#%%\n"
    }
   },
   "outputs": [
    {
     "ename": "NodeNotFound",
     "evalue": "Node 0 not found in graph",
     "output_type": "error",
     "traceback": [
      "\u001b[1;31m---------------------------------------------------------------------------\u001b[0m",
      "\u001b[1;31mNodeNotFound\u001b[0m                              Traceback (most recent call last)",
      "Input \u001b[1;32mIn [25]\u001b[0m, in \u001b[0;36m<cell line: 1>\u001b[1;34m()\u001b[0m\n\u001b[1;32m----> 1\u001b[0m df_b, df_g, df_eq_fq \u001b[38;5;241m=\u001b[39m \u001b[43mfirst_stage_FRLM\u001b[49m\u001b[43m(\u001b[49m\u001b[43mG\u001b[49m\u001b[43m,\u001b[49m\u001b[43m \u001b[49m\u001b[38;5;241;43m1000\u001b[39;49m\u001b[43m,\u001b[49m\u001b[43m \u001b[49m\u001b[43m[\u001b[49m\u001b[43m(\u001b[49m\u001b[38;5;241;43m0\u001b[39;49m\u001b[43m,\u001b[49m\u001b[38;5;241;43m3\u001b[39;49m\u001b[43m,\u001b[49m\u001b[38;5;241;43m10\u001b[39;49m\u001b[43m)\u001b[49m\u001b[43m,\u001b[49m\u001b[43m(\u001b[49m\u001b[38;5;241;43m0\u001b[39;49m\u001b[43m,\u001b[49m\u001b[38;5;241;43m2\u001b[39;49m\u001b[43m,\u001b[49m\u001b[38;5;241;43m5\u001b[39;49m\u001b[43m)\u001b[49m\u001b[43m]\u001b[49m\u001b[43m)\u001b[49m\n",
      "Input \u001b[1;32mIn [4]\u001b[0m, in \u001b[0;36mfirst_stage_FRLM\u001b[1;34m(G, r, OD)\u001b[0m\n\u001b[0;32m     31\u001b[0m \u001b[38;5;66;03m#generate shortest paths for al origin destinations\u001b[39;00m\n\u001b[0;32m     32\u001b[0m \u001b[38;5;28;01mfor\u001b[39;00m origin, destination, flow \u001b[38;5;129;01min\u001b[39;00m OD:\n\u001b[1;32m---> 33\u001b[0m     paths[(origin,destination)] \u001b[38;5;241m=\u001b[39m \u001b[43mnx\u001b[49m\u001b[38;5;241;43m.\u001b[39;49m\u001b[43mdijkstra_path\u001b[49m\u001b[43m(\u001b[49m\u001b[43mG\u001b[49m\u001b[43m,\u001b[49m\u001b[43morigin\u001b[49m\u001b[43m,\u001b[49m\u001b[43mdestination\u001b[49m\u001b[43m)\u001b[49m\n\u001b[0;32m     34\u001b[0m     path_lengths[(origin,destination)] \u001b[38;5;241m=\u001b[39m nx\u001b[38;5;241m.\u001b[39mdijkstra_path_length(G,origin,destination,weight\u001b[38;5;241m=\u001b[39m\u001b[38;5;124m'\u001b[39m\u001b[38;5;124mweight\u001b[39m\u001b[38;5;124m'\u001b[39m)\n\u001b[0;32m     36\u001b[0m     \u001b[38;5;66;03m#fill dict for eq_fq dataframe\u001b[39;00m\n",
      "File \u001b[1;32m~\\miniconda3\\envs\\ox\\lib\\site-packages\\networkx\\algorithms\\shortest_paths\\weighted.py:158\u001b[0m, in \u001b[0;36mdijkstra_path\u001b[1;34m(G, source, target, weight)\u001b[0m\n\u001b[0;32m     81\u001b[0m \u001b[38;5;28;01mdef\u001b[39;00m \u001b[38;5;21mdijkstra_path\u001b[39m(G, source, target, weight\u001b[38;5;241m=\u001b[39m\u001b[38;5;124m\"\u001b[39m\u001b[38;5;124mweight\u001b[39m\u001b[38;5;124m\"\u001b[39m):\n\u001b[0;32m     82\u001b[0m     \u001b[38;5;124;03m\"\"\"Returns the shortest weighted path from source to target in G.\u001b[39;00m\n\u001b[0;32m     83\u001b[0m \n\u001b[0;32m     84\u001b[0m \u001b[38;5;124;03m    Uses Dijkstra's Method to compute the shortest weighted path\u001b[39;00m\n\u001b[1;32m   (...)\u001b[0m\n\u001b[0;32m    156\u001b[0m \u001b[38;5;124;03m    single_source_dijkstra\u001b[39;00m\n\u001b[0;32m    157\u001b[0m \u001b[38;5;124;03m    \"\"\"\u001b[39;00m\n\u001b[1;32m--> 158\u001b[0m     (length, path) \u001b[38;5;241m=\u001b[39m \u001b[43msingle_source_dijkstra\u001b[49m\u001b[43m(\u001b[49m\u001b[43mG\u001b[49m\u001b[43m,\u001b[49m\u001b[43m \u001b[49m\u001b[43msource\u001b[49m\u001b[43m,\u001b[49m\u001b[43m \u001b[49m\u001b[43mtarget\u001b[49m\u001b[38;5;241;43m=\u001b[39;49m\u001b[43mtarget\u001b[49m\u001b[43m,\u001b[49m\u001b[43m \u001b[49m\u001b[43mweight\u001b[49m\u001b[38;5;241;43m=\u001b[39;49m\u001b[43mweight\u001b[49m\u001b[43m)\u001b[49m\n\u001b[0;32m    159\u001b[0m     \u001b[38;5;28;01mreturn\u001b[39;00m path\n",
      "File \u001b[1;32m~\\miniconda3\\envs\\ox\\lib\\site-packages\\networkx\\algorithms\\shortest_paths\\weighted.py:472\u001b[0m, in \u001b[0;36msingle_source_dijkstra\u001b[1;34m(G, source, target, cutoff, weight)\u001b[0m\n\u001b[0;32m    376\u001b[0m \u001b[38;5;28;01mdef\u001b[39;00m \u001b[38;5;21msingle_source_dijkstra\u001b[39m(G, source, target\u001b[38;5;241m=\u001b[39m\u001b[38;5;28;01mNone\u001b[39;00m, cutoff\u001b[38;5;241m=\u001b[39m\u001b[38;5;28;01mNone\u001b[39;00m, weight\u001b[38;5;241m=\u001b[39m\u001b[38;5;124m\"\u001b[39m\u001b[38;5;124mweight\u001b[39m\u001b[38;5;124m\"\u001b[39m):\n\u001b[0;32m    377\u001b[0m     \u001b[38;5;124;03m\"\"\"Find shortest weighted paths and lengths from a source node.\u001b[39;00m\n\u001b[0;32m    378\u001b[0m \n\u001b[0;32m    379\u001b[0m \u001b[38;5;124;03m    Compute the shortest path length between source and all other\u001b[39;00m\n\u001b[1;32m   (...)\u001b[0m\n\u001b[0;32m    470\u001b[0m \u001b[38;5;124;03m    single_source_bellman_ford\u001b[39;00m\n\u001b[0;32m    471\u001b[0m \u001b[38;5;124;03m    \"\"\"\u001b[39;00m\n\u001b[1;32m--> 472\u001b[0m     \u001b[38;5;28;01mreturn\u001b[39;00m \u001b[43mmulti_source_dijkstra\u001b[49m\u001b[43m(\u001b[49m\n\u001b[0;32m    473\u001b[0m \u001b[43m        \u001b[49m\u001b[43mG\u001b[49m\u001b[43m,\u001b[49m\u001b[43m \u001b[49m\u001b[43m{\u001b[49m\u001b[43msource\u001b[49m\u001b[43m}\u001b[49m\u001b[43m,\u001b[49m\u001b[43m \u001b[49m\u001b[43mcutoff\u001b[49m\u001b[38;5;241;43m=\u001b[39;49m\u001b[43mcutoff\u001b[49m\u001b[43m,\u001b[49m\u001b[43m \u001b[49m\u001b[43mtarget\u001b[49m\u001b[38;5;241;43m=\u001b[39;49m\u001b[43mtarget\u001b[49m\u001b[43m,\u001b[49m\u001b[43m \u001b[49m\u001b[43mweight\u001b[49m\u001b[38;5;241;43m=\u001b[39;49m\u001b[43mweight\u001b[49m\n\u001b[0;32m    474\u001b[0m \u001b[43m    \u001b[49m\u001b[43m)\u001b[49m\n",
      "File \u001b[1;32m~\\miniconda3\\envs\\ox\\lib\\site-packages\\networkx\\algorithms\\shortest_paths\\weighted.py:734\u001b[0m, in \u001b[0;36mmulti_source_dijkstra\u001b[1;34m(G, sources, target, cutoff, weight)\u001b[0m\n\u001b[0;32m    732\u001b[0m \u001b[38;5;28;01mfor\u001b[39;00m s \u001b[38;5;129;01min\u001b[39;00m sources:\n\u001b[0;32m    733\u001b[0m     \u001b[38;5;28;01mif\u001b[39;00m s \u001b[38;5;129;01mnot\u001b[39;00m \u001b[38;5;129;01min\u001b[39;00m G:\n\u001b[1;32m--> 734\u001b[0m         \u001b[38;5;28;01mraise\u001b[39;00m nx\u001b[38;5;241m.\u001b[39mNodeNotFound(\u001b[38;5;124mf\u001b[39m\u001b[38;5;124m\"\u001b[39m\u001b[38;5;124mNode \u001b[39m\u001b[38;5;132;01m{\u001b[39;00ms\u001b[38;5;132;01m}\u001b[39;00m\u001b[38;5;124m not found in graph\u001b[39m\u001b[38;5;124m\"\u001b[39m)\n\u001b[0;32m    735\u001b[0m \u001b[38;5;28;01mif\u001b[39;00m target \u001b[38;5;129;01min\u001b[39;00m sources:\n\u001b[0;32m    736\u001b[0m     \u001b[38;5;28;01mreturn\u001b[39;00m (\u001b[38;5;241m0\u001b[39m, [target])\n",
      "\u001b[1;31mNodeNotFound\u001b[0m: Node 0 not found in graph"
     ]
    }
   ],
   "source": [
    "df_b, df_g, df_eq_fq = first_stage_FRLM(G, 1000, [(0,3,10),(0,2,5)])"
   ]
  },
  {
   "cell_type": "code",
   "execution_count": null,
   "id": "8d09a108",
   "metadata": {
    "collapsed": false,
    "jupyter": {
     "outputs_hidden": false
    },
    "pycharm": {
     "name": "#%%\n"
    }
   },
   "outputs": [],
   "source": [
    "df_g"
   ]
  },
  {
   "cell_type": "code",
   "execution_count": null,
   "id": "3246d16e",
   "metadata": {
    "collapsed": false,
    "jupyter": {
     "outputs_hidden": false
    },
    "pycharm": {
     "name": "#%%\n"
    }
   },
   "outputs": [],
   "source": [
    "locations = second_stage_FRLM(2, 20, df_g, df_b, df_eq_fq)"
   ]
  },
  {
   "cell_type": "code",
   "execution_count": null,
   "id": "4b91636a",
   "metadata": {
    "collapsed": false,
    "jupyter": {
     "outputs_hidden": false
    },
    "pycharm": {
     "name": "#%%\n"
    }
   },
   "outputs": [],
   "source": [
    "locations"
   ]
  },
  {
   "cell_type": "code",
   "execution_count": null,
   "id": "e9761eb1",
   "metadata": {
    "collapsed": false,
    "jupyter": {
     "outputs_hidden": false
    },
    "pycharm": {
     "name": "#%%\n"
    }
   },
   "outputs": [],
   "source": [
    "df_b, df_g, df_eq_fq = first_stage_FRLM(G, 500, [(0,3, 10),(0,2, 5)])"
   ]
  },
  {
   "cell_type": "code",
   "execution_count": null,
   "id": "eb55ff74",
   "metadata": {
    "collapsed": false,
    "jupyter": {
     "outputs_hidden": false
    },
    "pycharm": {
     "name": "#%%\n"
    }
   },
   "outputs": [],
   "source": [
    "locations = second_stage_FRLM(10, 20, df_g, df_b, df_eq_fq)"
   ]
  },
  {
   "cell_type": "markdown",
   "id": "68efe760",
   "metadata": {
    "pycharm": {
     "name": "#%% md\n"
    }
   },
   "source": [
    "# Old from here: some tries other optimisation package"
   ]
  },
  {
   "cell_type": "code",
   "execution_count": null,
   "id": "913fdeca",
   "metadata": {
    "collapsed": false,
    "jupyter": {
     "outputs_hidden": false
    },
    "pycharm": {
     "name": "#%%\n"
    }
   },
   "outputs": [],
   "source": [
    "break"
   ]
  },
  {
   "cell_type": "code",
   "execution_count": null,
   "id": "a5059651",
   "metadata": {
    "collapsed": false,
    "jupyter": {
     "outputs_hidden": false
    },
    "pycharm": {
     "name": "#%%\n"
    }
   },
   "outputs": [],
   "source": [
    "df_b, df_g, df_eq_fq = first_stage_FRLM(G, 500, [(\"8860852\", \"B43966_B\", 10),(\"8860852\", \"B27067_B\", 5)])"
   ]
  },
  {
   "cell_type": "code",
   "execution_count": null,
   "id": "1f8e20ec",
   "metadata": {
    "collapsed": false,
    "jupyter": {
     "outputs_hidden": false
    },
    "pycharm": {
     "name": "#%%\n"
    }
   },
   "outputs": [],
   "source": [
    "locations = second_stage_FRLM(10, 20, df_g, df_b, df_eq_fq)"
   ]
  },
  {
   "cell_type": "code",
   "execution_count": null,
   "id": "45aa50ab",
   "metadata": {
    "collapsed": false,
    "jupyter": {
     "outputs_hidden": false
    },
    "pycharm": {
     "name": "#%%\n"
    }
   },
   "outputs": [],
   "source": [
    "# Old from here: some tries other optimisation package:"
   ]
  },
  {
   "cell_type": "code",
   "execution_count": null,
   "id": "4a071ce2",
   "metadata": {
    "collapsed": false,
    "jupyter": {
     "outputs_hidden": false
    },
    "pycharm": {
     "name": "#%%\n"
    }
   },
   "outputs": [],
   "source": [
    "## 1\n",
    "from ortools.linear_solver import pywraplp\n",
    "\n",
    "def second_stage_FRLM_opt(G, n, c, df_qh, df_hk, df_eq_fq):\n",
    "    \"\"\" This program optimally sites n charging stations for vehicles with a range r, based on two DataFrames that are generated by the first_stage_FRLM function.\n",
    "        Parameters\n",
    "        ----------\n",
    "        G : NetworkX graph\n",
    "            must include all origins, desinations and any nodes where a refueling station may be placed.\n",
    "        n : int\n",
    "            #stations to locate on any node of G.\n",
    "        c : float\n",
    "            max average flow a charging station can cope with.\n",
    "        df_qh : pd.DataFrame()\n",
    "            DataFrame with a row for each route (q) and a column for each existing charging station combination (h). b_qh = 1 combination h can support trips on path h, 0 otherwise.\n",
    "            df_qh is generated by the first_stage_FRLM function.\n",
    "        df_kh : pd.DataFrame()\n",
    "            DataFrame with a row for each charging station combination (h), and a column for each unique facility (k). a_qh = 1 if combination k is in combination h, 0 otherwise.   \n",
    "            df_kh is generated by the first_stage_FRLM function.\n",
    "        OD: list \n",
    "        list of travel data within network G, travel data from A-B and from B-A should be summed up and entered as either one of them.\n",
    "        example input:\n",
    "        [(node_1, node_2, flow_12),(node_1, node_3, flow_13),(node_2, node_3, flow_23)]\n",
    "        \n",
    "        \"\"\"\n",
    "    ## 2 Create a solver using the GLOP backend\n",
    "    solver = pywraplp.Solver('Maximize captured flow', pywraplp.Solver.GLOP_LINEAR_PROGRAMMING)\n",
    "    \n",
    "    ## 3 define the decision variables\n",
    "    \n",
    "    #create decision variables, decision: realize charging station combination or not\n",
    "    x = {}\n",
    "    #loop over all combinations\n",
    "    for j in range(len(df1.columns[1:])):\n",
    "        #create decision variable for each combination, build (1) or not (0).\n",
    "        x[j] = solver.IntVar(0, 1, 'x[%i]' % j)\n",
    "    print('Number of variables =', solver.NumVariables())\n",
    "    \n",
    "    ## 4 define constraints\n",
    "    #total amount of charging stations may not exceed n\n",
    "    x = \n",
    "    solver.Add(\n",
    "    print('Number of constraints =', solver.NumConstraints())\n",
    "\n",
    "    \n",
    "    \n",
    "\n"
   ]
  },
  {
   "cell_type": "code",
   "execution_count": null,
   "id": "c52cc552",
   "metadata": {
    "collapsed": false,
    "jupyter": {
     "outputs_hidden": false
    },
    "pycharm": {
     "name": "#%%\n"
    }
   },
   "outputs": [],
   "source": [
    "second_stage_FRLM(G, 1, 10, df1, df2)"
   ]
  },
  {
   "cell_type": "code",
   "execution_count": null,
   "id": "8781486b",
   "metadata": {
    "collapsed": false,
    "jupyter": {
     "outputs_hidden": false
    },
    "pycharm": {
     "name": "#%%\n"
    }
   },
   "outputs": [],
   "source": [
    "## Also test with larger graph\n",
    "example taken:\n",
    "https://networkx.org/documentation/stable/auto_examples/drawing/plot_tsp.html#sphx-glr-auto-examples-drawing-plot-tsp-py"
   ]
  },
  {
   "cell_type": "code",
   "execution_count": null,
   "id": "4177385a",
   "metadata": {
    "collapsed": false,
    "jupyter": {
     "outputs_hidden": false
    },
    "pycharm": {
     "name": "#%%\n"
    }
   },
   "outputs": [],
   "source": [
    "# #test with larger network?\n",
    "# import networkx.algorithms.approximation as nx_app\n",
    "# import math\n",
    "\n",
    "# G2=nx.random_geometric_graph(20, radius=0.4, seed=3)\n",
    "# pos = nx.get_node_attributes(G2, \"pos\")\n",
    "\n",
    "# # Depot should be at (0,0)\n",
    "# pos[0] = (0.5, 0.5)\n",
    "\n",
    "# H = G2.copy()\n",
    "\n",
    "\n",
    "# # Calculating the distances between the nodes as edge's weight.\n",
    "# for i in range(len(pos)):\n",
    "#     for j in range(i + 1, len(pos)):\n",
    "#         dist = math.hypot(pos[i][0] - pos[j][0], pos[i][1] - pos[j][1])\n",
    "#         dist = dist\n",
    "#         G2.add_edge(i, j, weight=dist)\n",
    "#         # print(dist)\n",
    "\n",
    "# cycle = nx_app.christofides(G2, weight=\"weight\")\n",
    "# edge_list = list(nx.utils.pairwise(cycle))\n",
    "\n",
    "# # Draw closest edges on each node only\n",
    "# nx.draw_networkx_edges(H, pos, edge_color=\"blue\", width=0.5)\n",
    "\n",
    "# # Draw the route\n",
    "# nx.draw_networkx(\n",
    "#     G2,\n",
    "#     pos,\n",
    "#     with_labels=True,\n",
    "#     edgelist=edge_list,\n",
    "#     edge_color=\"red\",\n",
    "#     node_size=200,\n",
    "#     width=3,\n",
    "# )\n",
    "\n",
    "# print(\"The route of the traveller is:\", cycle)\n",
    "# plt.show()"
   ]
  },
  {
   "cell_type": "code",
   "execution_count": null,
   "id": "8c32b792",
   "metadata": {
    "collapsed": false,
    "jupyter": {
     "outputs_hidden": false
    },
    "pycharm": {
     "name": "#%%\n"
    }
   },
   "outputs": [],
   "source": [
    "# %time dict_df1, dict_df2 = first_stage_FRLM(G2, 1, [(19,5,10),(4,8,5)])\n",
    "#oops complete graph chosen, bad example.."
   ]
  },
  {
   "cell_type": "code",
   "execution_count": null,
   "id": "b190b088-d0cf-420a-a1ce-9db17bd0bb61",
   "metadata": {
    "pycharm": {
     "name": "#%%\n"
    }
   },
   "outputs": [],
   "source": [
    "# Define problem\n",
    "model = LpProblem('CFRLM', LpMaximize)"
   ]
  },
  {
   "cell_type": "code",
   "execution_count": null,
   "id": "73d536bc-9dbd-4c50-98db-f52b61d01347",
   "metadata": {
    "pycharm": {
     "name": "#%%\n"
    }
   },
   "outputs": [],
   "source": [
    "#objective function\n",
    "model += pulp.lpSum(\n",
    "    [flow_allocation[q,h] * df_b[h][q] * df_eq_fq['f_q'][q] for q,h in df_g.index]\n",
    ")"
   ]
  },
  {
   "cell_type": "markdown",
   "id": "0e8b73c0-9a4b-4654-9942-76ad78de6ca7",
   "metadata": {
    "pycharm": {
     "name": "#%% md\n"
    }
   },
   "source": [
    "### Define constraints"
   ]
  },
  {
   "cell_type": "code",
   "execution_count": null,
   "id": "36b53d08-300d-4d31-a25b-6ead1b685c03",
   "metadata": {
    "pycharm": {
     "name": "#%%\n"
    }
   },
   "outputs": [],
   "source": [
    "# first constraint (1.2 in paper)\n",
    "\n",
    "# for all q\n",
    "for q in df_b.index:\n",
    "    # for all h\n",
    "    for h in df_b.columns:\n",
    "        # that can serve q\n",
    "        if df_b[h][q] == 1:\n",
    "            for k in h:\n",
    "                model += pulp.lpSum(df_eq_fq['e_q'][q] * df_g.loc[df_g.index == (q,h)] * df_eq_fq['f_q'][q] * flow_allocation[q,h]) <= c*pulp.lpSum(facilities_to_build)"
   ]
  },
  {
   "cell_type": "code",
   "execution_count": null,
   "id": "f1c1097d-2dc3-4156-a0f9-efdd11b09136",
   "metadata": {
    "pycharm": {
     "name": "#%%\n"
    }
   },
   "outputs": [],
   "source": [
    "#second constraint (1.3 in paper)\n",
    "model += pulp.lpSum(facilities_to_build) <= p"
   ]
  },
  {
   "cell_type": "code",
   "execution_count": null,
   "id": "d29b64e6-8da9-4d8c-8470-818519094a25",
   "metadata": {
    "pycharm": {
     "name": "#%%\n"
    }
   },
   "outputs": [],
   "source": [
    "#third constraint (1.4 in paper)\n",
    "model += pulp.lpSum([flow_allocation[q,h] * df_b[h][q]]) <= 1"
   ]
  },
  {
   "cell_type": "code",
   "execution_count": null,
   "id": "551f9d03-1161-4e61-9ae9-a7cae65d9e8f",
   "metadata": {
    "pycharm": {
     "name": "#%%\n"
    }
   },
   "outputs": [],
   "source": [
    "# Solve LP problem\n",
    "model.solve()\n",
    "\n",
    "# Controleer of het optimum is gevonden\n",
    "print(\"Status:\", LpStatus[model.status])"
   ]
  },
  {
   "cell_type": "code",
   "execution_count": null,
   "id": "a568c698-76b2-44a4-87a8-4ac7c2ac21c7",
   "metadata": {
    "pycharm": {
     "name": "#%%\n"
    }
   },
   "outputs": [],
   "source": [
    "# De waarden van de beslissingsvariabelen in het optimum\n",
    "for var in model.variables():\n",
    "    print('De stroom', var,'bedraagt', value(var))\n",
    "    \n",
    "# De waarde van de doelfunctie in het optimum\n",
    "print('De totale maximale stroom bedraagt', value(model.objective))"
   ]
  },
  {
   "cell_type": "markdown",
   "id": "d77cd098-d63f-4735-851e-7f4dec806712",
   "metadata": {
    "pycharm": {
     "name": "#%% md\n"
    }
   },
   "source": [
    "## Step 3: Optimize\n",
    "\n",
    "Basic steps:\n",
    "1. Import the linear solver wrapper,\n",
    "2. declare the LP solver,\n",
    "3. define the variables,\n",
    "4. define the constraints,\n",
    "5. define the objective,\n",
    "6. call the LP solver; and\n",
    "7. display the solution\n",
    "\n",
    "Based on:\n",
    "- https://towardsdatascience.com/introduction-to-linear-programming-in-python-9261e7eb44b\n",
    "- https://developers.google.com/optimization/mip/mip_var_array\n",
    "- https://developers.google.com/optimization/lp/lp_example"
   ]
  },
  {
   "cell_type": "code",
   "execution_count": null,
   "id": "f6ef5c1d",
   "metadata": {
    "collapsed": false,
    "jupyter": {
     "outputs_hidden": false
    },
    "pycharm": {
     "name": "#%%\n"
    }
   },
   "outputs": [],
   "source": [
    "import pulp\n"
   ]
  },
  {
   "cell_type": "code",
   "execution_count": null,
   "id": "7c8199c9-248c-4ad3-adcc-b29fd527da48",
   "metadata": {
    "pycharm": {
     "name": "#%%\n"
    }
   },
   "outputs": [],
   "source": [
    "#manual try\n",
    "def second_stage_FRLM(G, n, c, df_qh, df_hk, OD):\n",
    "    \"\"\" This program optimally sites n charging stations for vehicles with a range r, based on two DataFrames that are generated by the first_stage_FRLM function.\n",
    "        Parameters\n",
    "        ----------\n",
    "        G : NetworkX graph\n",
    "            must include all origins, desinations and any nodes where a refueling station may be placed.\n",
    "        n : int\n",
    "            #stations to locate on any node of G.\n",
    "        c : float\n",
    "            max average flow a charging station can cope with.\n",
    "        df_qh : pd.DataFrame()\n",
    "            DataFrame with a row for each route (q) and a column for each existing charging station combination (h). b_qh = 1 combination h can support trips on path h, 0 otherwise.\n",
    "            df_qh is generated by the first_stage_FRLM function.\n",
    "        df_kh : pd.DataFrame()\n",
    "            DataFrame with a row for each charging station combination (h), and a column for each unique facility (k). a_qh = 1 if combination k is in combination h, 0 otherwise.   \n",
    "            df_kh is generated by the first_stage_FRLM function.\n",
    "        OD: list \n",
    "        list of travel data within network G, travel data from A-B and from B-A should be summed up and entered as either one of them.\n",
    "        example input:\n",
    "        [(node_1, node_2, flow_12),(node_1, node_3, flow_13),(node_2, node_3, flow_23)]\n",
    "        \n",
    "        \"\"\"\n",
    "    #step 1: create empty list with placed fuel stations\n",
    "    stations = []\n",
    "    \n",
    "    #step 2:"
   ]
  },
  {
   "cell_type": "code",
   "execution_count": null,
   "id": "196977df-d347-4f8a-8ad3-b24a06a2db77",
   "metadata": {
    "pycharm": {
     "name": "#%%\n"
    }
   },
   "outputs": [],
   "source": [
    "## 1\n",
    "from ortools.linear_solver import pywraplp\n",
    "\n",
    "def second_stage_FRLM_opt(G, n, c, df_qh, df_hk):\n",
    "    \"\"\" This program optimally sites n charging stations for vehicles with a range r, based on two DataFrames that are generated by the first_stage_FRLM function.\n",
    "        Parameters\n",
    "        ----------\n",
    "        G : NetworkX graph\n",
    "            must include all origins, desinations and any nodes where a refueling station may be placed.\n",
    "        n : int\n",
    "            #stations to locate on any node of G.\n",
    "        c : float\n",
    "            max average flow a charging station can cope with.\n",
    "        df_qh : pd.DataFrame()\n",
    "            DataFrame with a row for each route (q) and a column for each existing charging station combination (h). b_qh = 1 combination h can support trips on path h, 0 otherwise.\n",
    "            df_qh is generated by the first_stage_FRLM function.\n",
    "        df_kh : pd.DataFrame()\n",
    "            DataFrame with a row for each charging station combination (h), and a column for each unique facility (k). a_qh = 1 if combination k is in combination h, 0 otherwise.   \n",
    "            df_kh is generated by the first_stage_FRLM function.\n",
    "        OD: list \n",
    "        list of travel data within network G, travel data from A-B and from B-A should be summed up and entered as either one of them.\n",
    "        example input:\n",
    "        [(node_1, node_2, flow_12),(node_1, node_3, flow_13),(node_2, node_3, flow_23)]\n",
    "        \n",
    "        \"\"\"\n",
    "    ## 2 Create a solver using the GLOP backend\n",
    "    solver = pywraplp.Solver('Maximize captured flow', pywraplp.Solver.GLOP_LINEAR_PROGRAMMING)\n",
    "    \n",
    "    ## 3 define the decision variables\n",
    "    \n",
    "    #create decision variables, decision: realize charging station combination or not\n",
    "    x = {}\n",
    "    #loop over all combinations\n",
    "    for j in range(len(df1.columns[1:])):\n",
    "        #create decision variable for each combination, build (1) or not (0).\n",
    "        x[j] = solver.IntVar(0, 1, 'x[%i]' % j)\n",
    "    print('Number of variables =', solver.NumVariables())\n",
    "    \n",
    "    ## 4 define constraints\n",
    "    #total amount of charging stations may not exceed n\n",
    "    x = \n",
    "    solver.Add(\n",
    "    print('Number of constraints =', solver.NumConstraints())\n",
    "\n",
    "    \n",
    "    \n",
    "\n"
   ]
  },
  {
   "cell_type": "code",
   "execution_count": null,
   "id": "855869e6-fe7f-4af3-8b13-e2ceb2651df6",
   "metadata": {
    "pycharm": {
     "name": "#%%\n"
    }
   },
   "outputs": [],
   "source": [
    "second_stage_FRLM(G, 1, 10, df1, df2)"
   ]
  },
  {
   "cell_type": "code",
   "execution_count": null,
   "id": "46d985f3",
   "metadata": {
    "collapsed": false,
    "jupyter": {
     "outputs_hidden": false
    },
    "pycharm": {
     "name": "#%%\n"
    }
   },
   "outputs": [],
   "source": [
    "## Also test with larger graph\n",
    "example taken:\n",
    "https://networkx.org/documentation/stable/auto_examples/drawing/plot_tsp.html#sphx-glr-auto-examples-drawing-plot-tsp-py"
   ]
  },
  {
   "cell_type": "code",
   "execution_count": null,
   "id": "7cf19a17-1c58-47cb-a72d-3601af454abc",
   "metadata": {
    "pycharm": {
     "name": "#%%\n"
    }
   },
   "outputs": [],
   "source": [
    "#test with larger network?\n",
    "import networkx.algorithms.approximation as nx_app\n",
    "import math\n",
    "import networkx as nx\n",
    "import matplotlib.pyplot as plt\n",
    "\n",
    "G2=nx.random_geometric_graph(20, radius=0.4, seed=3)\n",
    "pos = nx.get_node_attributes(G2, \"pos\")\n",
    "\n",
    "# Depot should be at (0,0)\n",
    "pos[0] = (0.5, 0.5)\n",
    "\n",
    "H = G2.copy()\n",
    "\n",
    "\n",
    "# Calculating the distances between the nodes as edge's weight.\n",
    "for i in range(len(pos)):\n",
    "    for j in range(i + 1, len(pos)):\n",
    "        dist = math.hypot(pos[i][0] - pos[j][0], pos[i][1] - pos[j][1])\n",
    "        dist = dist\n",
    "        G2.add_edge(i, j, weight=dist)\n",
    "        # print(dist)\n",
    "\n",
    "cycle = nx_app.christofides(G2, weight=\"weight\")\n",
    "edge_list = list(nx.utils.pairwise(cycle))\n",
    "\n",
    "# Draw closest edges on each node only\n",
    "nx.draw_networkx_edges(H, pos, edge_color=\"blue\", width=0.5)\n",
    "\n",
    "# Draw the route\n",
    "nx.draw_networkx(\n",
    "    G2,\n",
    "    pos,\n",
    "    with_labels=True,\n",
    "    edgelist=edge_list,\n",
    "    edge_color=\"red\",\n",
    "    node_size=200,\n",
    "    width=3,\n",
    ")\n",
    "\n",
    "print(\"The route of the traveller is:\", cycle)\n",
    "plt.show()"
   ]
  },
  {
   "cell_type": "code",
   "execution_count": null,
   "id": "4cbdb63b-7de2-4f47-b98b-c65f62a4653b",
   "metadata": {
    "pycharm": {
     "name": "#%%\n"
    }
   },
   "outputs": [],
   "source": [
    "# %time dict_df1, dict_df2 = first_stage_FRLM(G2, 1, [(19,5,10),(4,8,5)])\n",
    "#oops complete graph chosen, bad example.."
   ]
  }
 ],
 "metadata": {
  "kernelspec": {
   "display_name": "Python 3 (ipykernel)",
   "language": "python",
   "name": "python3"
  },
  "language_info": {
   "codemirror_mode": {
    "name": "ipython",
    "version": 3
   },
   "file_extension": ".py",
   "mimetype": "text/x-python",
   "name": "python",
   "nbconvert_exporter": "python",
   "pygments_lexer": "ipython3",
   "version": "3.10.6"
  }
 },
 "nbformat": 4,
 "nbformat_minor": 5
}
