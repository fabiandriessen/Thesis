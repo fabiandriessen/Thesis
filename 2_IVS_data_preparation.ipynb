{
 "cells": [
  {
   "cell_type": "code",
   "execution_count": 1,
   "outputs": [],
   "source": [
    "import pickle\n",
    "import pandas as pd\n",
    "import numpy as np"
   ],
   "metadata": {
    "collapsed": false,
    "pycharm": {
     "name": "#%%\n"
    }
   }
  },
  {
   "cell_type": "code",
   "execution_count": 47,
   "outputs": [],
   "source": [
    "#import dataframe and drop nans\n",
    "df_2021 = pd.read_csv('data/2021/2021_combined.csv', dtype={'Data':np.datetime64})"
   ],
   "metadata": {
    "collapsed": false,
    "pycharm": {
     "name": "#%%\n"
    }
   }
  },
  {
   "cell_type": "code",
   "execution_count": 3,
   "outputs": [
    {
     "data": {
      "text/plain": "       Unnamed: 0  Jaarmaand      Jaar     Maand    Weeknr  \\\ncount    385572.0   385572.0  385572.0  385572.0  385572.0   \nmean     208710.0     2107.0    2021.0       7.0      27.0   \nstd      120329.0        3.0       0.0       3.0      15.0   \nmin           7.0     2101.0    2021.0       1.0       1.0   \n25%      108799.0     2104.0    2021.0       4.0      14.0   \n50%      212580.0     2107.0    2021.0       7.0      26.0   \n75%      312478.0     2110.0    2021.0      10.0      40.0   \nmax      414145.0     2112.0    2021.0      12.0      53.0   \n\n       v15_1_Scheepstype_RWS  v18_Laadvermogen  v28_Beladingscode  \\\ncount               385572.0          385572.0           385572.0   \nmean                     3.0            2446.0                5.0   \nstd                      5.0            2521.0                3.0   \nmin                      0.0               0.0                1.0   \n25%                      1.0            1100.0                1.0   \n50%                      1.0            1820.0                7.0   \n75%                      2.0            3160.0                7.0   \nmax                     36.0          100000.0                7.0   \n\n       v38_Vervoerd_gewicht  v30_4_Containers_TEU_S   nstr_nw  \ncount              278134.0                385572.0  274888.0  \nmean              1243360.0                    15.0       6.0  \nstd               1583801.0                    51.0       3.0  \nmin                     0.0                     0.0       0.0  \n25%                242000.0                     0.0       3.0  \n50%                996000.0                     0.0       6.0  \n75%               1700000.0                     0.0       8.0  \nmax              99999000.0                  1700.0       9.0  ",
      "text/html": "<div>\n<style scoped>\n    .dataframe tbody tr th:only-of-type {\n        vertical-align: middle;\n    }\n\n    .dataframe tbody tr th {\n        vertical-align: top;\n    }\n\n    .dataframe thead th {\n        text-align: right;\n    }\n</style>\n<table border=\"1\" class=\"dataframe\">\n  <thead>\n    <tr style=\"text-align: right;\">\n      <th></th>\n      <th>Unnamed: 0</th>\n      <th>Jaarmaand</th>\n      <th>Jaar</th>\n      <th>Maand</th>\n      <th>Weeknr</th>\n      <th>v15_1_Scheepstype_RWS</th>\n      <th>v18_Laadvermogen</th>\n      <th>v28_Beladingscode</th>\n      <th>v38_Vervoerd_gewicht</th>\n      <th>v30_4_Containers_TEU_S</th>\n      <th>nstr_nw</th>\n    </tr>\n  </thead>\n  <tbody>\n    <tr>\n      <th>count</th>\n      <td>385572.0</td>\n      <td>385572.0</td>\n      <td>385572.0</td>\n      <td>385572.0</td>\n      <td>385572.0</td>\n      <td>385572.0</td>\n      <td>385572.0</td>\n      <td>385572.0</td>\n      <td>278134.0</td>\n      <td>385572.0</td>\n      <td>274888.0</td>\n    </tr>\n    <tr>\n      <th>mean</th>\n      <td>208710.0</td>\n      <td>2107.0</td>\n      <td>2021.0</td>\n      <td>7.0</td>\n      <td>27.0</td>\n      <td>3.0</td>\n      <td>2446.0</td>\n      <td>5.0</td>\n      <td>1243360.0</td>\n      <td>15.0</td>\n      <td>6.0</td>\n    </tr>\n    <tr>\n      <th>std</th>\n      <td>120329.0</td>\n      <td>3.0</td>\n      <td>0.0</td>\n      <td>3.0</td>\n      <td>15.0</td>\n      <td>5.0</td>\n      <td>2521.0</td>\n      <td>3.0</td>\n      <td>1583801.0</td>\n      <td>51.0</td>\n      <td>3.0</td>\n    </tr>\n    <tr>\n      <th>min</th>\n      <td>7.0</td>\n      <td>2101.0</td>\n      <td>2021.0</td>\n      <td>1.0</td>\n      <td>1.0</td>\n      <td>0.0</td>\n      <td>0.0</td>\n      <td>1.0</td>\n      <td>0.0</td>\n      <td>0.0</td>\n      <td>0.0</td>\n    </tr>\n    <tr>\n      <th>25%</th>\n      <td>108799.0</td>\n      <td>2104.0</td>\n      <td>2021.0</td>\n      <td>4.0</td>\n      <td>14.0</td>\n      <td>1.0</td>\n      <td>1100.0</td>\n      <td>1.0</td>\n      <td>242000.0</td>\n      <td>0.0</td>\n      <td>3.0</td>\n    </tr>\n    <tr>\n      <th>50%</th>\n      <td>212580.0</td>\n      <td>2107.0</td>\n      <td>2021.0</td>\n      <td>7.0</td>\n      <td>26.0</td>\n      <td>1.0</td>\n      <td>1820.0</td>\n      <td>7.0</td>\n      <td>996000.0</td>\n      <td>0.0</td>\n      <td>6.0</td>\n    </tr>\n    <tr>\n      <th>75%</th>\n      <td>312478.0</td>\n      <td>2110.0</td>\n      <td>2021.0</td>\n      <td>10.0</td>\n      <td>40.0</td>\n      <td>2.0</td>\n      <td>3160.0</td>\n      <td>7.0</td>\n      <td>1700000.0</td>\n      <td>0.0</td>\n      <td>8.0</td>\n    </tr>\n    <tr>\n      <th>max</th>\n      <td>414145.0</td>\n      <td>2112.0</td>\n      <td>2021.0</td>\n      <td>12.0</td>\n      <td>53.0</td>\n      <td>36.0</td>\n      <td>100000.0</td>\n      <td>7.0</td>\n      <td>99999000.0</td>\n      <td>1700.0</td>\n      <td>9.0</td>\n    </tr>\n  </tbody>\n</table>\n</div>"
     },
     "execution_count": 3,
     "metadata": {},
     "output_type": "execute_result"
    }
   ],
   "source": [
    "df_2021.describe().round()"
   ],
   "metadata": {
    "collapsed": false,
    "pycharm": {
     "name": "#%%\n"
    }
   }
  },
  {
   "cell_type": "code",
   "execution_count": 4,
   "outputs": [
    {
     "name": "stdout",
     "output_type": "stream",
     "text": [
      "1995 entries were because the SK_CODE entry was missing 0.5174130901621488 %\n"
     ]
    }
   ],
   "source": [
    "#drop nans\n",
    "df_2021_old = df_2021.copy()\n",
    "df_2021 = df_2021.loc[df_2021.SK_CODE.isnull() != True]\n",
    "x = len(df_2021_old)-len(df_2021)\n",
    "print(x, \"entries were because the SK_CODE entry was missing\", (x/len(df_2021_old))*100, \"%\")"
   ],
   "metadata": {
    "collapsed": false,
    "pycharm": {
     "name": "#%%\n"
    }
   }
  },
  {
   "cell_type": "code",
   "execution_count": 5,
   "outputs": [
    {
     "name": "stdout",
     "output_type": "stream",
     "text": [
      "383577 trips are remaining\n"
     ]
    }
   ],
   "source": [
    "print(len(df_2021), \"trips are remaining\")"
   ],
   "metadata": {
    "collapsed": false,
    "pycharm": {
     "name": "#%%\n"
    }
   }
  },
  {
   "cell_type": "code",
   "execution_count": 6,
   "outputs": [
    {
     "data": {
      "text/plain": "       Unnamed: 0  Jaarmaand      Jaar     Maand    Weeknr  \\\ncount    383577.0   383577.0  383577.0  383577.0  383577.0   \nmean     208786.0     2107.0    2021.0       7.0      27.0   \nstd      120331.0        3.0       0.0       3.0      15.0   \nmin           7.0     2101.0    2021.0       1.0       1.0   \n25%      108901.0     2104.0    2021.0       4.0      14.0   \n50%      212640.0     2107.0    2021.0       7.0      26.0   \n75%      312582.0     2110.0    2021.0      10.0      40.0   \nmax      414145.0     2112.0    2021.0      12.0      53.0   \n\n       v15_1_Scheepstype_RWS  v18_Laadvermogen  v28_Beladingscode  \\\ncount               383577.0          383577.0           383577.0   \nmean                     3.0            2442.0                5.0   \nstd                      5.0            2473.0                3.0   \nmin                      1.0               0.0                1.0   \n25%                      1.0            1100.0                1.0   \n50%                      1.0            1820.0                7.0   \n75%                      2.0            3160.0                7.0   \nmax                     36.0          100000.0                7.0   \n\n       v38_Vervoerd_gewicht  v30_4_Containers_TEU_S   nstr_nw  \ncount              277585.0                383577.0  274351.0  \nmean              1242672.0                    15.0       6.0  \nstd               1571415.0                    51.0       3.0  \nmin                     0.0                     0.0       0.0  \n25%                243000.0                     0.0       3.0  \n50%                996000.0                     0.0       6.0  \n75%               1700000.0                     0.0       8.0  \nmax              95000000.0                  1700.0       9.0  ",
      "text/html": "<div>\n<style scoped>\n    .dataframe tbody tr th:only-of-type {\n        vertical-align: middle;\n    }\n\n    .dataframe tbody tr th {\n        vertical-align: top;\n    }\n\n    .dataframe thead th {\n        text-align: right;\n    }\n</style>\n<table border=\"1\" class=\"dataframe\">\n  <thead>\n    <tr style=\"text-align: right;\">\n      <th></th>\n      <th>Unnamed: 0</th>\n      <th>Jaarmaand</th>\n      <th>Jaar</th>\n      <th>Maand</th>\n      <th>Weeknr</th>\n      <th>v15_1_Scheepstype_RWS</th>\n      <th>v18_Laadvermogen</th>\n      <th>v28_Beladingscode</th>\n      <th>v38_Vervoerd_gewicht</th>\n      <th>v30_4_Containers_TEU_S</th>\n      <th>nstr_nw</th>\n    </tr>\n  </thead>\n  <tbody>\n    <tr>\n      <th>count</th>\n      <td>383577.0</td>\n      <td>383577.0</td>\n      <td>383577.0</td>\n      <td>383577.0</td>\n      <td>383577.0</td>\n      <td>383577.0</td>\n      <td>383577.0</td>\n      <td>383577.0</td>\n      <td>277585.0</td>\n      <td>383577.0</td>\n      <td>274351.0</td>\n    </tr>\n    <tr>\n      <th>mean</th>\n      <td>208786.0</td>\n      <td>2107.0</td>\n      <td>2021.0</td>\n      <td>7.0</td>\n      <td>27.0</td>\n      <td>3.0</td>\n      <td>2442.0</td>\n      <td>5.0</td>\n      <td>1242672.0</td>\n      <td>15.0</td>\n      <td>6.0</td>\n    </tr>\n    <tr>\n      <th>std</th>\n      <td>120331.0</td>\n      <td>3.0</td>\n      <td>0.0</td>\n      <td>3.0</td>\n      <td>15.0</td>\n      <td>5.0</td>\n      <td>2473.0</td>\n      <td>3.0</td>\n      <td>1571415.0</td>\n      <td>51.0</td>\n      <td>3.0</td>\n    </tr>\n    <tr>\n      <th>min</th>\n      <td>7.0</td>\n      <td>2101.0</td>\n      <td>2021.0</td>\n      <td>1.0</td>\n      <td>1.0</td>\n      <td>1.0</td>\n      <td>0.0</td>\n      <td>1.0</td>\n      <td>0.0</td>\n      <td>0.0</td>\n      <td>0.0</td>\n    </tr>\n    <tr>\n      <th>25%</th>\n      <td>108901.0</td>\n      <td>2104.0</td>\n      <td>2021.0</td>\n      <td>4.0</td>\n      <td>14.0</td>\n      <td>1.0</td>\n      <td>1100.0</td>\n      <td>1.0</td>\n      <td>243000.0</td>\n      <td>0.0</td>\n      <td>3.0</td>\n    </tr>\n    <tr>\n      <th>50%</th>\n      <td>212640.0</td>\n      <td>2107.0</td>\n      <td>2021.0</td>\n      <td>7.0</td>\n      <td>26.0</td>\n      <td>1.0</td>\n      <td>1820.0</td>\n      <td>7.0</td>\n      <td>996000.0</td>\n      <td>0.0</td>\n      <td>6.0</td>\n    </tr>\n    <tr>\n      <th>75%</th>\n      <td>312582.0</td>\n      <td>2110.0</td>\n      <td>2021.0</td>\n      <td>10.0</td>\n      <td>40.0</td>\n      <td>2.0</td>\n      <td>3160.0</td>\n      <td>7.0</td>\n      <td>1700000.0</td>\n      <td>0.0</td>\n      <td>8.0</td>\n    </tr>\n    <tr>\n      <th>max</th>\n      <td>414145.0</td>\n      <td>2112.0</td>\n      <td>2021.0</td>\n      <td>12.0</td>\n      <td>53.0</td>\n      <td>36.0</td>\n      <td>100000.0</td>\n      <td>7.0</td>\n      <td>95000000.0</td>\n      <td>1700.0</td>\n      <td>9.0</td>\n    </tr>\n  </tbody>\n</table>\n</div>"
     },
     "execution_count": 6,
     "metadata": {},
     "output_type": "execute_result"
    }
   ],
   "source": [
    "df_2021.describe().round()"
   ],
   "metadata": {
    "collapsed": false,
    "pycharm": {
     "name": "#%%\n"
    }
   }
  },
  {
   "cell_type": "code",
   "execution_count": 7,
   "outputs": [
    {
     "name": "stdout",
     "output_type": "stream",
     "text": [
      "2357 entries were because the SK_CODE was M0 0.6144789703240809 %\n"
     ]
    }
   ],
   "source": [
    "#drop all vessels of type M0 because they are small and engine power varies to much\n",
    "df_2021_old = df_2021.copy()\n",
    "df_2021 = df_2021.loc[df_2021.SK_CODE != 'M0']\n",
    "x = len(df_2021_old)-len(df_2021)\n",
    "print(x, \"entries were because the SK_CODE was M0\", (x/len(df_2021_old)*100), \"%\")"
   ],
   "metadata": {
    "collapsed": false,
    "pycharm": {
     "name": "#%%\n"
    }
   }
  },
  {
   "cell_type": "code",
   "execution_count": 8,
   "outputs": [
    {
     "name": "stdout",
     "output_type": "stream",
     "text": [
      "381220 entries remain\n"
     ]
    }
   ],
   "source": [
    "print(len(df_2021), \"entries remain\")"
   ],
   "metadata": {
    "collapsed": false,
    "pycharm": {
     "name": "#%%\n"
    }
   }
  },
  {
   "cell_type": "markdown",
   "source": [
    "### Only five SK_CODE entries were missing, these entries were therefore dropped.\n",
    "\n",
    "All other relevant data (date, origin and destination) were complete. No further action needed."
   ],
   "metadata": {
    "collapsed": false,
    "pycharm": {
     "name": "#%% md\n"
    }
   }
  },
  {
   "cell_type": "code",
   "execution_count": 9,
   "outputs": [],
   "source": [
    "# group trips by origin, destination and category\n",
    "df_t = df_2021.groupby(by=['UNLO_herkomst', 'UNLO_bestemming', 'SK_CODE']).count().reset_index().sort_values(\n",
    "    by='Jaarmaand', ascending=False).iloc[:, :4].reset_index(drop=True)"
   ],
   "metadata": {
    "collapsed": false,
    "pycharm": {
     "name": "#%%\n"
    }
   }
  },
  {
   "cell_type": "code",
   "execution_count": 10,
   "outputs": [],
   "source": [
    "# give columns english names\n",
    "df_t.rename(\n",
    "    columns={'UNLO_herkomst': 'origin', 'UNLO_bestemming': 'destination', 'SK_CODE': 'type', 'Unnamed: 0': 'trips'},\n",
    "    inplace=True)"
   ],
   "metadata": {
    "collapsed": false,
    "pycharm": {
     "name": "#%%\n"
    }
   }
  },
  {
   "cell_type": "code",
   "execution_count": 11,
   "outputs": [
    {
     "name": "stdout",
     "output_type": "stream",
     "text": [
      "200844 non-inland trips were removed from the data set 0.5236080369782339 %\n"
     ]
    }
   ],
   "source": [
    "# subset inland trips\n",
    "df_t_old = df_t.copy()\n",
    "df_t = df_t.loc[(df_t.origin.str.contains('NL')) & (df_t.destination.str.contains('NL'))]\n",
    "df_t.reset_index(inplace=True, drop=True)\n",
    "\n",
    "x = df_t_old.trips.sum()-df_t.trips.sum()\n",
    "print(x, \"non-inland trips were removed from the data set\", x/len(df_2021_old), \"%\")"
   ],
   "metadata": {
    "collapsed": false,
    "pycharm": {
     "name": "#%%\n"
    }
   }
  },
  {
   "cell_type": "code",
   "execution_count": 12,
   "outputs": [
    {
     "data": {
      "text/plain": "{('NLAMS', 'NLRTM', 'M8'): 3510,\n ('NLAMS', 'NLRTM', 'M12'): 2076,\n ('NLRTM', 'NLMOE', 'M8'): 1584,\n ('NLRTM', 'NLRTM', 'M8'): 715,\n ('NLAMS', 'NLRTM', 'M9'): 1316,\n ('NLRTM', 'NLWLK', 'M3'): 973,\n ('NLOOS', 'NLTLB', 'M8'): 688,\n ('NLRTM', 'NLAMS', 'M6'): 881,\n ('NLAER', 'NLAMS', 'BI'): 824,\n ('NLRTM', 'NLOOS', 'M8'): 727,\n ('NLTLB', 'NLRTM', 'M8'): 623,\n ('NLHAR', 'NLWTE', 'M12'): 690,\n ('NLHGL', 'NLRTM', 'M8'): 652,\n ('NLRTM', 'NLVLI', 'M8'): 658,\n ('NLRTM', 'NLRTM', 'M12'): 363,\n ('NLMOE', 'NLOOS', 'M8'): 615,\n ('NLVEG', 'NLRTM', 'M6'): 575,\n ('NLAMS', 'NLRTM', 'M11'): 666,\n ('NLMOE', 'NLAPN', 'M8'): 604,\n ('NLVEG', 'NLRTM', 'M7'): 581,\n ('NLAMS', 'NLMOE', 'M8'): 588,\n ('NLRTM', 'NLMEP', 'M8'): 568,\n ('NLAMS', 'NLLMR', 'BIIL-1'): 553,\n ('NLNIJ', 'NLWAS', 'M8'): 508,\n ('NLWSP', 'NLAER', 'M6'): 510,\n ('NLDOR', 'NLRTM', 'M8'): 459,\n ('NLAMS', 'NLHAS', 'M8'): 436,\n ('NLRTM', 'NLDZL', 'M8'): 415,\n ('NLRTM', 'NLTIE', 'M8'): 450,\n ('NLRTM', 'NLTLB', 'M3'): 439,\n ('NLNIJ', 'NLABL', 'M8'): 413,\n ('NLAMS', 'NLWMO', 'M2'): 451,\n ('NLTNZ', 'NLRTM', 'M8'): 438,\n ('NLRTM', 'NLVLI', 'M9'): 414,\n ('NLAMS', 'NLRTM', 'M10'): 427,\n ('NLRTM', 'NLKAM', 'M8'): 430,\n ('NLRTM', 'NLRTM', 'M6'): 212,\n ('NLAMS', 'NLKGZ', 'M2'): 416,\n ('NLWBR', 'NLRTM', 'M8'): 404,\n ('NLTNZ', 'NLVLI', 'M8'): 390,\n ('NLUTC', 'NLRTM', 'M8'): 386,\n ('NLBZM', 'NLRTM', 'M8'): 373,\n ('NLAER', 'NLAMS', 'M3'): 362,\n ('NLAER', 'NLRTM', 'M6'): 372,\n ('NLALK', 'NLIJM', 'M3'): 373,\n ('NLNKK', 'NLAMS', 'M2'): 330,\n ('NLRTM', 'NLARN', 'M8'): 300,\n ('NLRTM', 'NLOSS', 'M6'): 348,\n ('NLLEY', 'NLAMS', 'M2'): 357,\n ('NLBZM', 'NLRTM', 'M6'): 352,\n ('NLBZM', 'NLHTB', 'M8'): 359,\n ('NLRTM', 'NLNIJ', 'M8'): 358,\n ('NLZWO', 'NLAMS', 'M8'): 343,\n ('NLAMS', 'NLAMS', 'M8'): 175,\n ('NLUTC', 'NLTIE', 'M8'): 324,\n ('NLRTM', 'NLZWO', 'M8'): 321,\n ('NLMOE', 'NLIJM', 'M6'): 320,\n ('NLAER', 'NLRTM', 'M8'): 321,\n ('NLRTM', 'NLSTI', 'M8'): 326,\n ('NLMOE', 'NLRTM', 'C3b'): 324,\n ('NLNRW', 'NLBON', 'M2'): 332,\n ('NLFAR', 'NLRTM', 'M8'): 309,\n ('NLVEG', 'NLHEJ', 'M3'): 314,\n ('NLRTM', 'NLRTM', 'M10'): 164,\n ('NLGOR', 'NLRTM', 'M6'): 317,\n ('NLLEY', 'NLAMS', 'M4'): 307,\n ('NLAER', 'NLLEY', 'M4'): 291,\n ('NLAMS', 'NLDEV', 'M3'): 235,\n ('NLIJM', 'NLMOE', 'M8'): 253,\n ('NLAPN', 'NLRTM', 'M8'): 293,\n ('NLTNZ', 'NLAMS', 'M8'): 264,\n ('NLLWR', 'NLRTM', 'M8'): 293,\n ('NLRTM', 'NLVLI', 'M6'): 282,\n ('NLHAR', 'NLAMS', 'M10'): 288,\n ('NLIJM', 'NLMST', 'M8'): 170,\n ('NLAMS', 'NLAER', 'M6'): 244,\n ('NLHRD', 'NLAMS', 'M6'): 266,\n ('NLRTM', 'NLMOE', 'M6'): 255,\n ('NLVLI', 'NLAMS', 'M12'): 247,\n ('NLCUY', 'NLRTM', 'M8'): 247,\n ('NLHBG', 'NLELL', 'M2'): 270,\n ('NLFOX', 'NLRTM', 'M8'): 225,\n ('NLUTC', 'NLRTM', 'BII-1'): 272,\n ('NLRTM', 'NLHGL', 'M6'): 228,\n ('NLBON', 'NLTLB', 'M2'): 271,\n ('NLRTM', 'NLDOE', 'M8'): 263,\n ('NLTNZ', 'NLTNZ', 'M8'): 133,\n ('NLTLB', 'NLMOE', 'M3'): 247,\n ('NLAPN', 'NLRTM', 'M6'): 236,\n ('NLNIJ', 'NLDRU', 'M8'): 261,\n ('NLRTM', 'NLVSN', 'M8'): 206,\n ('NLBON', 'NLHTB', 'M2'): 236,\n ('NLAMS', 'NLHLM', 'M2'): 217,\n ('NLAMS', 'NLAMS', 'M2'): 129,\n ('NLWIW', 'NLHRN', 'M5'): 236,\n ('NLBON', 'NLEIN', 'M2'): 225,\n ('NLRTM', 'NLTLB', 'M2'): 242,\n ('NLHRV', 'NLAMS', 'M8'): 194,\n ('NLRTM', 'NLSLU', 'M8'): 205,\n ('NLAMS', 'NLLMR', 'M10'): 248,\n ('NLAER', 'NLAMS', 'M2'): 230,\n ('NLRTM', 'NLGOR', 'M11'): 205,\n ('NLAER', 'NLNIE', 'M6'): 224,\n ('NLRTM', 'NLGTB', 'M8'): 221,\n ('NLRTM', 'NLGRQ', 'M8'): 184,\n ('NLOSS', 'NLHRW', 'M2'): 234,\n ('NLTLB', 'NLMOE', 'M8'): 172,\n ('NLRTM', 'NLABL', 'M8'): 223,\n ('NLRTM', 'NLKAM', 'M9'): 224,\n ('NLOSS', 'NLRTM', 'M8'): 211,\n ('NLOMD', 'NLRTM', 'M8'): 219,\n ('NLAER', 'NLNIE', 'M8'): 223,\n ('NLRTM', 'NLZWI', 'M8'): 177,\n ('NLKAM', 'NLAMS', 'M6'): 185,\n ('NLAMS', 'NLUTC', 'M8'): 186,\n ('NLZWO', 'NLAMS', 'M2'): 172,\n ('NLRTM', 'NLBON', 'M12'): 212,\n ('NLHEJ', 'NLKOR', 'M3'): 162,\n ('NLBON', 'NLVEN', 'M8'): 215,\n ('NLRTM', 'NLVLI', 'M11'): 200,\n ('NLKGZ', 'NLZAA', 'BIIa-1'): 211,\n ('NLRTM', 'NLAMS', 'C3l'): 152,\n ('NLAER', 'NLSWI', 'M3'): 191,\n ('NLRTM', 'NLAPN', 'M4'): 155,\n ('NLNIJ', 'NLABL', 'M9'): 195,\n ('NLAMS', 'NLHGL', 'M7'): 204,\n ('NLRTM', 'NLLID', 'M3'): 189,\n ('NLNIJ', 'NLWAS', 'M9'): 203,\n ('NLFAR', 'NLBOT', 'M8'): 154,\n ('NLAMS', 'NLVAN', 'M2'): 203,\n ('NLAMS', 'NLAER', 'M4'): 197,\n ('NLDOR', 'NLLSH', 'M2'): 147,\n ('NLHAR', 'NLHKK', 'M4'): 171,\n ('NLEES', 'NLAMS', 'M4'): 202,\n ('NLMOE', 'NLTNZ', 'M8'): 144,\n ('NLAMS', 'NLDRA', 'BII-1'): 157,\n ('NLALM', 'NLHGL', 'M8'): 114,\n ('NLRTM', 'NLVEN', 'M9'): 125,\n ('NLRTM', 'NLDON', 'M3'): 196,\n ('NLBON', 'NLSTI', 'BIIa-1'): 132,\n ('NLAMS', 'NLHEJ', 'M2'): 185,\n ('NLRTM', 'NLGOR', 'M12'): 188,\n ('NLMAA', 'NLNRW', 'M2'): 181,\n ('NLRTM', 'NLKAZ', 'M3'): 150,\n ('NLDRO', 'NLKAM', 'M4'): 190,\n ('NLHEJ', 'NLDVT', 'M2'): 192,\n ('NLAMS', 'NLTIE', 'M4'): 167,\n ('NLRTM', 'NLVEN', 'C3l'): 151,\n ('NLAMS', 'NLDEV', 'M4'): 161,\n ('NLVLI', 'NLRTM', 'M12'): 190,\n ('NLHGL', 'NLAMS', 'M6'): 178,\n ('NLABL', 'NLRTM', 'M9'): 183,\n ('NLEEM', 'NLRTM', 'M8'): 130,\n ('NLBON', 'NLRTM', 'M6'): 114,\n ('NLRTM', 'NLRTM', 'M9'): 92,\n ('NLDOR', 'NLRTM', 'M6'): 175,\n ('NLTNZ', 'NLBRS', 'M8'): 159,\n ('NLBON', 'NLWSM', 'BII-1'): 164,\n ('NLHLM', 'NLRTM', 'M2'): 172,\n ('NLDOR', 'NLAMS', 'M8'): 173,\n ('NLOMD', 'NLWAS', 'M8'): 171,\n ('NLHTB', 'NLRTM', 'M8'): 144,\n ('NLRTM', 'NLAPN', 'M3'): 168,\n ('NLHEJ', 'NLAAL', 'M3'): 166,\n ('NLSWI', 'NLWSP', 'M6'): 164,\n ('NLRTM', 'NLIJM', 'M8'): 164,\n ('NLAMS', 'NLWIW', 'M8'): 169,\n ('NLAMS', 'NLVLI', 'M8'): 173,\n ('NLKAM', 'NLAMS', 'M5'): 168,\n ('NLLEY', 'NLAMS', 'M6'): 148,\n ('NLEEM', 'NLFAR', 'M8'): 172,\n ('NLRTM', 'NLBNB', 'M8'): 117,\n ('NLIJM', 'NLRTM', 'M2'): 116,\n ('NLWSP', 'NLAER', 'M8'): 172,\n ('NLKGZ', 'NLAMS', 'M3'): 172,\n ('NLHRW', 'NLTEA', 'M3'): 162,\n ('NLMOE', 'NLBRD', 'M6'): 150,\n ('NLLEY', 'NLSWI', 'M3'): 171,\n ('NLPER', 'NLFOX', 'M8'): 138,\n ('NLTNZ', 'NLTNZ', 'BII-1'): 85,\n ('NLTLB', 'NLZBG', 'M3'): 167,\n ('NLBNB', 'NLHGL', 'M8'): 115,\n ('NLZWO', 'NLAMS', 'M6'): 158,\n ('NLAMS', 'NLGRQ', 'M8'): 156,\n ('NLKAM', 'NLAMS', 'M8'): 160,\n ('NLAMS', 'NLDEV', 'M6'): 155,\n ('NLVSN', 'NLRTM', 'M9'): 126,\n ('NLDFT', 'NLBON', 'M3'): 164,\n ('NLPER', 'NLVEG', 'M6'): 123,\n ('NLVEN', 'NLBON', 'M9'): 91,\n ('NLOSS', 'NLCUY', 'M8'): 142,\n ('NLNIJ', 'NLDRU', 'M6'): 156,\n ('NLMEP', 'NLZWS', 'BII-1'): 134,\n ('NLBON', 'NLMST', 'M2'): 146,\n ('NLNIJ', 'NLAMS', 'M8'): 145,\n ('NLRTM', 'NLMOE', 'M9'): 144,\n ('NLLEY', 'NLLWR', 'M4'): 144,\n ('NLKWR', 'NLRTM', 'M3'): 113,\n ('NLDRO', 'NLKAM', 'M6'): 147,\n ('NLRLA', 'NLRTM', 'M8'): 82,\n ('NLZMM', 'NLRTM', 'M4'): 101,\n ('NLBON', 'NLRTM', 'M9'): 103,\n ('NLAMS', 'NLMOE', 'M6'): 142,\n ('NLDZL', 'NLFAR', 'M8'): 140,\n ('NLAMS', 'NLVLI', 'M11'): 152,\n ('NLKAM', 'NLRTM', 'M10'): 150,\n ('NLVLI', 'NLRTM', 'M10'): 140,\n ('NLGNM', 'NLAMS', 'M6'): 134,\n ('NLBON', 'NLNIJ', 'M5'): 151,\n ('NLRTM', 'NLWRV', 'M6'): 140,\n ('NLAMS', 'NLDST', 'BIIa-1'): 146,\n ('NLMOE', 'NLTNZ', 'BII-1'): 134,\n ('NLAMS', 'NLAER', 'M8'): 132,\n ('NLHAR', 'NLDRA', 'M2'): 134,\n ('NLSWI', 'NLNKK', 'M3'): 134,\n ('NLHAR', 'NLLWR', 'M2'): 128,\n ('NLHRW', 'NLVEG', 'M2'): 144,\n ('NLAMS', 'NLRTM', 'BII-2b'): 132,\n ('NLBON', 'NLVEG', 'M3'): 147,\n ('NLBRS', 'NLTNZ', 'M6'): 144,\n ('NLHEJ', 'NLEML', 'M2'): 133,\n ('NLMAA', 'NLCUY', 'BI'): 134,\n ('NLRTM', 'NLGTB', 'M6'): 120,\n ('NLAER', 'NLRTM', 'M10'): 137,\n ('NLBOT', 'NLAMS', 'M8'): 144,\n ('NLPER', 'NLAMS', 'M8'): 127,\n ('NLHEJ', 'NLHIL', 'M3'): 116,\n ('NLLEY', 'NLAMS', 'M8'): 131,\n ('NLVEG', 'NLAMS', 'M2'): 125,\n ('NLWSM', 'NLLIN', 'BI'): 130,\n ('NLRTM', 'NLQDG', 'M3'): 137,\n ('NLEEM', 'NLALM', 'M8'): 72,\n ('NLRTM', 'NLZMM', 'M2'): 126,\n ('NLDTK', 'NLSCH', 'M4'): 130,\n ('NLTNZ', 'NLMST', 'M8'): 137,\n ('NLAMS', 'NLARK', 'M4'): 124,\n ('NLBON', 'NLKSL', 'BII-1'): 131,\n ('NLAMS', 'NLVEG', 'BI'): 122,\n ('NLHTB', 'NLABL', 'M8'): 114,\n ('NLTNZ', 'NLVLI', 'M6'): 129,\n ('NLAMS', 'NLEIN', 'M3'): 133,\n ('NLOOS', 'NLPER', 'M8'): 71,\n ('NLGRQ', 'NLHAR', 'M4'): 99,\n ('NLAMS', 'NLAMS', 'M12'): 68,\n ('NLDST', 'NLHTB', 'M3'): 128,\n ('NLAER', 'NLSWI', 'M4'): 118,\n ('NLSTI', 'NLAMS', 'M8'): 113,\n ('NLVLA', 'NLSLU', 'M10'): 79,\n ('NLAMS', 'NLOMD', 'M8'): 123,\n ('NLAPN', 'NLKWZ', 'M6'): 99,\n ('NLAMS', 'NLDEV', 'M2'): 133,\n ('NLHAR', 'NLKAM', 'M6'): 92,\n ('NLLOM', 'NLHAG', 'M3'): 104,\n ('NLHAN', 'NLBRS', 'M8'): 109,\n ('NLTNZ', 'NLTNZ', 'M6'): 66,\n ('NLHEJ', 'NLDUS', 'M3'): 100,\n ('NLHAR', 'NLDRA', 'M4'): 116,\n ('NLRTM', 'NLOSS', 'M7'): 115,\n ('NLRTM', 'NLRTM', 'M11'): 65,\n ('NLBON', 'NLAER', 'M2'): 101,\n ('NLRTM', 'NLAMS', 'M5'): 86,\n ('NLIJM', 'NLHAR', 'M8'): 115,\n ('NLHEJ', 'NLAME', 'M3'): 114,\n ('NLRTM', 'NLGRO', 'M8'): 90,\n ('NLAMS', 'NLIJM', 'M6'): 113,\n ('NLDST', 'NLOSS', 'M2'): 121,\n ('NLMEP', 'NLAMS', 'M8'): 95,\n ('NLDHR', 'NLRTM', 'M8'): 102,\n ('NLHGL', 'NLAMS', 'M8'): 102,\n ('NLAMS', 'NLRAS', 'M4'): 106,\n ('NLZWO', 'NLAMS', 'M3'): 92,\n ('NLVEG', 'NLRTM', 'BI'): 110,\n ('NLAMS', 'NLZWI', 'M6'): 123,\n ('NLLEY', 'NLWSP', 'M6'): 120,\n ('NLSNK', 'NLLEY', 'M5'): 114,\n ('NLRTM', 'NLOSS', 'M2'): 110,\n ('NLARK', 'NLHRW', 'M3'): 114,\n ('NLBON', 'NLHAG', 'M3'): 76,\n ('NLSTI', 'NLTNZ', 'M8'): 109,\n ('NLBON', 'NLVEG', 'M2'): 95,\n ('NLWGW', 'NLRTM', 'M8'): 108,\n ('NLLEY', 'NLAER', 'M3'): 103,\n ('NLVLI', 'NLSTD', 'M8'): 77,\n ('NLDOR', 'NLAMS', 'M9'): 80,\n ('NLVLI', 'NLVLI', 'M6'): 59,\n ('NLAMS', 'NLZAA', 'M2'): 115,\n ('NLHAN', 'NLBRS', 'M6'): 91,\n ('NLMOE', 'NLSLU', 'M8'): 73,\n ('NLKAM', 'NLIJM', 'M2'): 78,\n ('NLAMS', 'NLLEY', 'M3'): 108,\n ('NLZWO', 'NLAMS', 'M4'): 84,\n ('NLAMS', 'NLAMS', 'M6'): 58,\n ('NLEEM', 'NLALM', 'M6'): 63,\n ('NLRTM', 'NLARN', 'M12'): 98,\n ('NLRTM', 'NLNKK', 'M2'): 80,\n ('NLDFT', 'NLALM', 'M3'): 58,\n ('NLDIN', 'NLASP', 'M3'): 59,\n ('NLRTM', 'NLAMS', 'BIIa-1'): 102,\n ('NLAMS', 'NLOSS', 'M2'): 92,\n ('NLAMS', 'NLHAR', 'M8'): 101,\n ('NLAER', 'NLLEY', 'M6'): 81,\n ('NLOSS', 'NLMOE', 'M6'): 69,\n ('NLAMS', 'NLUTC', 'M6'): 97,\n ('NLHRW', 'NLAER', 'M3'): 71,\n ('NLAMS', 'NLDEV', 'M5'): 108,\n ('NLHAR', 'NLKAM', 'M4'): 87,\n ('NLRTM', 'NLGOU', 'M2'): 92,\n ('NLHAR', 'NLAMS', 'M6'): 93,\n ('NLSLU', 'NLOSS', 'M8'): 57,\n ('NLMAA', 'NLOSS', 'M5'): 95,\n ('NLRTM', 'NLMOE', 'M5'): 104,\n ('NLHRV', 'NLAMS', 'M6'): 87,\n ('NLSMO', 'NLZOT', 'M3'): 97,\n ('NLMAA', 'NLHEJ', 'M3'): 95,\n ('NLSTD', 'NLSTD', 'M4'): 54,\n ('NLRTM', 'NLALM', 'M8'): 89,\n ('NLLWR', 'NLWIW', 'M5'): 91,\n ('NLGTB', 'NLAMS', 'M8'): 101,\n ('NLRTM', 'NLKAM', 'M6'): 89,\n ('NLLWR', 'NLPER', 'M8'): 95,\n ('NLRTM', 'NLAMS', 'BII-1'): 97,\n ('NLAMS', 'NLVLA', 'M6'): 91,\n ('NLEEM', 'NLALM', 'M5'): 63,\n ('NLPER', 'NLAMS', 'M6'): 105,\n ('NLMOE', 'NLVLI', 'M8'): 102,\n ('NLRTM', 'NLLID', 'M2'): 94,\n ('NLMAA', 'NLHTB', 'M2'): 103,\n ('NLHGL', 'NLDFT', 'M3'): 88,\n ('NLSCH', 'NLWIW', 'M5'): 99,\n ('NLDRA', 'NLAMS', 'BII-2L'): 58,\n ('NLAMS', 'NLVLA', 'M8'): 90,\n ('NLROO', 'NLSLU', 'M6'): 72,\n ('NLHGL', 'NLWIS', 'M4'): 51,\n ('NLDHR', 'NLSCH', 'M4'): 82,\n ('NLDST', 'NLAMS', 'M8'): 92,\n ('NLRTM', 'NLAMS', 'M7'): 100,\n ('NLDOR', 'NLVLI', 'M8'): 91,\n ('NLVLI', 'NLTNZ', 'M10'): 97,\n ('NLUTC', 'NLRTM', 'M6'): 77,\n ('NLAMS', 'NLENS', 'M8'): 64,\n ('NLDFT', 'NLALM', 'M4'): 50,\n ('NLAMS', 'NLHTB', 'M6'): 86,\n ('NLENK', 'NLAMS', 'M8'): 86,\n ('NLNIJ', 'NLPER', 'M8'): 90,\n ('NLPER', 'NLMEP', 'M8'): 95,\n ('NLAMS', 'NLZAA', 'M3'): 97,\n ('NLBON', 'NLAME', 'M4'): 71,\n ('NLLEY', 'NLLEY', 'M4'): 49,\n ('NLLSH', 'NLBON', 'M2'): 90,\n ('NLLIN', 'NLWSM', 'B04'): 92,\n ('NLAER', 'NLSPL', 'M3'): 90,\n ('NLBON', 'NLBRD', 'M4'): 90,\n ('NLRTM', 'NLZAA', 'M11'): 96,\n ('NLAMS', 'NLALM', 'M6'): 94,\n ('NLTNZ', 'NLRTM', 'M6'): 89,\n ('NLWED', 'NLRTM', 'M8'): 73,\n ('NLEUR', 'NLWRV', 'M6'): 89,\n ('NLEEM', 'NLUTC', 'M8'): 57,\n ('NLHTR', 'NLNWG', 'M4'): 80,\n ('NLGNM', 'NLAMS', 'M3'): 86,\n ('NLRTM', 'NLTNZ', 'M12'): 66,\n ('NLWAS', 'NLOMD', 'M9'): 94,\n ('NLDOR', 'NLRTM', 'M12'): 86,\n ('NLMOE', 'NLETT', 'M6'): 94,\n ('NLRTM', 'NLUTC', 'M10'): 86,\n ('NLAMS', 'NLZWO', 'BII-1'): 81,\n ('NLZAD', 'NLZAA', 'M4'): 93,\n ('NLVLL', 'NLHAR', 'M4'): 80,\n ('NLRTM', 'NLDOI', 'M2'): 82,\n ('NLKSL', 'NLOIH', 'M3'): 92,\n ('NLNER', 'NLVEN', 'M8'): 93,\n ('NLBRS', 'NLSLU', 'M8'): 93,\n ('NLHAR', 'NLHAR', 'M6'): 47,\n ('NLLEY', 'NLHEG', 'M4'): 79,\n ('NLLWR', 'NLAMS', 'M6'): 56,\n ('NLAER', 'NLAER', 'M6'): 46,\n ('NLENS', 'NLRTM', 'M8'): 58,\n ('NLHAR', 'NLOME', 'M4'): 82,\n ('NLMSB', 'NLBON', 'M2'): 56,\n ('NLMOE', 'NLLMR', 'M5'): 91,\n ('NLBON', 'NLRTM', 'M5'): 53,\n ('NLRTM', 'NLDOR', 'M9'): 82,\n ('NLGOE', 'NLBRS', 'M5'): 64,\n ('NLAMS', 'NLWSP', 'M3'): 69,\n ('NLMAA', 'NLTLB', 'M2'): 58,\n ('NLHEJ', 'NLOOS', 'M6'): 79,\n ('NLWGW', 'NLAMS', 'M8'): 83,\n ('NLWRV', 'NLZAA', 'M4'): 87,\n ('NLMEP', 'NLRTM', 'M6'): 84,\n ('NLNIJ', 'NLRTM', 'C3l'): 86,\n ('NLAER', 'NLSWI', 'M2'): 59,\n ('NLAMS', 'NLLOB', 'M9'): 59,\n ('NLRTM', 'NLBON', 'M8'): 66,\n ('NLAMS', 'NLAMS', 'M9'): 44,\n ('NLRTM', 'NLNIJ', 'M11'): 75,\n ('NLAMS', 'NLDHR', 'M8'): 73,\n ('NLRTM', 'NLAPN', 'M2'): 84,\n ('NLLEY', 'NLSWI', 'M2'): 79,\n ('NLKAM', 'NLDRO', 'M5'): 83,\n ('NLAMS', 'NLLEY', 'B04'): 72,\n ('NLEEM', 'NLLMR', 'BIIa-1'): 78,\n ('NLAMS', 'NLRAS', 'M2'): 74,\n ('NLNKK', 'NLAMS', 'M5'): 73,\n ('NLAMS', 'NLWGW', 'M2'): 75,\n ('NLOSS', 'NLAMS', 'M4'): 86,\n ('NLRTM', 'NLVLA', 'M8'): 74,\n ('NLHEJ', 'NLKRD', 'M3'): 75,\n ('NLVEG', 'NLRTM', 'M2'): 76,\n ('NLAMS', 'NLEIN', 'M2'): 69,\n ('NLRTM', 'NLAMS', 'M3'): 71,\n ('NLFAR', 'NLEEM', 'BIIa-1'): 78,\n ('NLSLU', 'NLRTM', 'M10'): 46,\n ('NLAER', 'NLRTM', 'BII-1'): 82,\n ('NLRTM', 'NLRTM', 'C3b'): 42,\n ('NLBON', 'NLARK', 'M2'): 61,\n ('NLDZL', 'NLBOT', 'M8'): 73,\n ('NLRTM', 'NLNIJ', 'M6'): 66,\n ('NLHAR', 'NLOME', 'M6'): 77,\n ('NLLMR', 'NLDRA', 'BII-1'): 68,\n ('NLAMS', 'NLOSS', 'BII-1'): 58,\n ('NLMOE', 'NLRNK', 'M6'): 81,\n ('NLAMS', 'NLAPN', 'M6'): 54,\n ('NLOME', 'NLIJM', 'M2'): 42,\n ('NLAMS', 'NLEEM', 'M8'): 62,\n ('NLDOR', 'NLAMS', 'M6'): 70,\n ('NLZWO', 'NLAMS', 'M5'): 62,\n ('NLZWI', 'NLZWO', 'M2'): 42,\n ('NLNKK', 'NLHRD', 'M4'): 73,\n ('NLIJM', 'NLMST', 'M6'): 50,\n ('NLBGU', 'NLIJM', 'M2'): 49,\n ('NLWSC', 'NLAMS', 'M4'): 80,\n ('NLBRS', 'NLZUL', 'M6'): 73,\n ('NLALM', 'NLAMS', 'M7'): 80,\n ('NLAMS', 'NLHBG', 'M2'): 60,\n ('NLBRD', 'NLRTM', 'M6'): 63,\n ('NLSWI', 'NLAMS', 'M6'): 63,\n ('NLMID', 'NLBRS', 'M6'): 49,\n ('NLEUR', 'NLWLK', 'M3'): 64,\n ('NLHAR', 'NLHAR', 'M3'): 40,\n ('NLSTD', 'NLBRS', 'M8'): 41,\n ('NLAMS', 'NLHLM', 'M3'): 52,\n ('NLAMS', 'NLWGW', 'M3'): 77,\n ('NLLSH', 'NLOMD', 'M2'): 80,\n ('NLSWI', 'NLLEY', 'M4'): 76,\n ('NLSJK', 'NLRTM', 'M8'): 72,\n ('NLRTM', 'NLOME', 'M2'): 44,\n ('NLLOM', 'NLLIT', 'M8'): 73,\n ('NLRTM', 'NLMOE', 'M12'): 70,\n ('NLBON', 'NLWLK', 'M4'): 75,\n ('NLHAR', 'NLHAR', 'M4'): 40,\n ('NLBON', 'NLRTM', 'M4'): 63,\n ('NLHEJ', 'NLDUS', 'M5'): 69,\n ('NLHAR', 'NLHAR', 'M12'): 40,\n ('NLRTM', 'NLWMO', 'M6'): 69,\n ('NLRTM', 'NLKAM', 'M2'): 43,\n ('NLAMS', 'NLTIE', 'M2'): 53,\n ('NLOSS', 'NLAMS', 'M6'): 76,\n ('NLIJM', 'NLSCH', 'M3'): 54,\n ('NLAMS', 'NLVEG', 'M4'): 75,\n ('NLAMS', 'NLBON', 'BII-2L'): 45,\n ('NLOBO', 'NLMST', 'M6'): 73,\n ('NLAMS', 'NLZAA', 'M6'): 72,\n ('NLHGL', 'NLDFT', 'M4'): 76,\n ('NLMLR', 'NLRTM', 'M6'): 68,\n ('NLOSS', 'NLVEG', 'M6'): 60,\n ('NLSTD', 'NLSTD', 'M6'): 39,\n ('NLDOI', 'NLAMS', 'M2'): 57,\n ('NLAMS', 'NLNKK', 'B03'): 69,\n ('NLIJM', 'NLMST', 'M7'): 43,\n ('NLGNM', 'NLAMS', 'M4'): 64,\n ('NLIJM', 'NLTLB', 'M1'): 71,\n ('NLKSL', 'NLLIN', 'B04'): 72,\n ('NLSWI', 'NLNKK', 'M4'): 60,\n ('NLAKR', 'NLHAR', 'M4'): 75,\n ('NLPHL', 'NLBON', 'M2'): 40,\n ('NLRTM', 'NLMST', 'M6'): 60,\n ('NLHTB', 'NLBON', 'M3'): 65,\n ('NLMEP', 'NLAMS', 'M4'): 57,\n ('NLDRO', 'NLELB', 'M3'): 77,\n ('NLAMS', 'NLRHD', 'M6'): 46,\n ('NLCUY', 'NLRTM', 'M6'): 67,\n ('NLBON', 'NLHAG', 'M2'): 61,\n ('NLMST', 'NLSDB', 'M5'): 74,\n ('NLAMS', 'NLRTM', 'BIIL-1'): 69,\n ('NLMOE', 'NLAPN', 'M6'): 59,\n ('NLPNN', 'NLRTM', 'M6'): 60,\n ('NLEUR', 'NLHAR', 'M8'): 70,\n ('NLTIE', 'NLWSP', 'M2'): 73,\n ('NLWGW', 'NLRTM', 'M3'): 76,\n ('NLLEY', 'NLRTM', 'M6'): 63,\n ('NLMAA', 'NLOOS', 'M6'): 72,\n ('NLDST', 'NLARK', 'M3'): 69,\n ('NLAMS', 'NLFAR', 'M6'): 73,\n ('NLHRW', 'NLTLB', 'M2'): 71,\n ('NLALK', 'NLIJM', 'M2'): 66,\n ('NLMIH', 'NLBRS', 'M6'): 53,\n ('NLDZL', 'NLRTM', 'M6'): 69,\n ('NLVEN', 'NLVLI', 'M6'): 37,\n ('NLAER', 'NLSPL', 'M4'): 66,\n ('NLTNZ', 'NLTNZ', 'M10'): 37,\n ('NLOSS', 'NLRTM', 'M4'): 60,\n ('NLMEP', 'NLWTZ', 'M8'): 63,\n ('NLFAR', 'NLFAR', 'M8'): 37,\n ('NLVLI', 'NLVLI', 'M8'): 37,\n ('NLFOX', 'NLVDM', 'M6'): 61,\n ('NLELB', 'NLKAM', 'M3'): 63,\n ('NLEEM', 'NLALM', 'M7'): 41,\n ('NLGNM', 'NLAMS', 'M2'): 72,\n ('NLDRA', 'NLIJM', 'M2'): 71,\n ('NLRTM', 'NLDRU', 'M8'): 42,\n ('NLTNZ', 'NLHAN', 'M8'): 50,\n ('NLHLM', 'NLRTM', 'M3'): 54,\n ('NLDEV', 'NLRTM', 'M6'): 68,\n ('NLRTM', 'NLAMS', 'M4'): 65,\n ('NLAMS', 'NLVLI', 'M9'): 70,\n ('NLMEP', 'NLMEP', 'BII-1'): 36,\n ('NLVEG', 'NLEPL', 'BI'): 70,\n ('NLTIE', 'NLRTM', 'M6'): 65,\n ('NLRTM', 'NLDEV', 'M3'): 61,\n ('NLVLI', 'NLHAN', 'M9'): 56,\n ('NLVLI', 'NLVLI', 'M9'): 36,\n ('NLALK', 'NLAMS', 'M4'): 62,\n ('NLTIE', 'NLAMS', 'M6'): 70,\n ('NLBON', 'NLBZM', 'M6'): 43,\n ('NLPER', 'NLPER', 'M6'): 36,\n ('NLCOE', 'NLDST', 'M1'): 71,\n ('NLTNZ', 'NLBRS', 'M3'): 51,\n ('NLHAR', 'NLHAR', 'M2'): 36,\n ('NLIJM', 'NLRTM', 'M9'): 52,\n ('NLHFN', 'NLHRW', 'M8'): 46,\n ('NLHTB', 'NLRTM', 'M6'): 62,\n ('NLDST', 'NLAPN', 'M4'): 54,\n ('NLRTM', 'NLAMS', 'M2'): 63,\n ('NLALM', 'NLHGL', 'M5'): 35,\n ('NLGRA', 'NLRTM', 'M8'): 41,\n ('NLAMS', 'NLWGW', 'M6'): 67,\n ('NLLWR', 'NLHAR', 'M4'): 58,\n ('NLDOR', 'NLAMS', 'M10'): 63,\n ('NLSJK', 'NLBIW', 'M8'): 58,\n ('NLSWI', 'NLBAA', 'M3'): 61,\n ('NLMEP', 'NLAMS', 'M6'): 48,\n ('NLWGW', 'NLRTM', 'M2'): 69,\n ('NLBRD', 'NLRTM', 'M4'): 69,\n ('NLGRQ', 'NLDFT', 'M2'): 56,\n ('NLVLL', 'NLZOT', 'M3'): 51,\n ('NLTIE', 'NLDIM', 'M3'): 50,\n ('NLARN', 'NLHEJ', 'M8'): 36,\n ('NLUTC', 'NLLEY', 'M8'): 66,\n ('NLRTM', 'NLNIJ', 'M9'): 64,\n ('NLAME', 'NLIJM', 'M2'): 64,\n ('NLAMS', 'NLZAA', 'B04'): 61,\n ('NLVLI', 'NLRTM', 'M5'): 54,\n ('NLMSB', 'NLAMS', 'M3'): 65,\n ('NLBRD', 'NLBRS', 'M6'): 49,\n ('NLWGW', 'NLAMS', 'M4'): 60,\n ('NLVLL', 'NLHAR', 'M3'): 62,\n ('NLLOM', 'NLHAG', 'M4'): 44,\n ('NLWGW', 'NLRTM', 'M6'): 58,\n ('NLOSS', 'NLRTM', 'M5'): 49,\n ('NLLEY', 'NLLEY', 'M2'): 34,\n ('NLBON', 'NLOSS', 'M2'): 43,\n ('NLZWS', 'NLAMS', 'BII-2L'): 37,\n ('NLVLI', 'NLVLA', 'M8'): 60,\n ('NLCUY', 'NLRTM', 'M7'): 54,\n ('NLBON', 'NLENS', 'M7'): 33,\n ('NLAMS', 'NLDIN', 'M3'): 36,\n ('NLWLK', 'NLAMS', 'M5'): 62,\n ('NLLEY', 'NLGRQ', 'M5'): 54,\n ('NLHEJ', 'NLOOS', 'M5'): 45,\n ('NLLWR', 'NLRTM', 'M6'): 52,\n ('NLBZM', 'NLBRS', 'M6'): 52,\n ('NLRTM', 'NLMSB', 'M6'): 49,\n ('NLMOE', 'NLBON', 'M8'): 35,\n ('NLTNZ', 'NLBRS', 'M5'): 47,\n ('NLDST', 'NLAER', 'M3'): 49,\n ('NLRTM', 'NLGNM', 'M3'): 52,\n ('NLHTR', 'NLNWG', 'M5'): 59,\n ('NLDOE', 'NLNIJ', 'M8'): 56,\n ('NLVEN', 'NLNER', 'M6'): 64,\n ('NLELB', 'NLHRD', 'M3'): 32,\n ('NLEEM', 'NLDZL', 'M2'): 62,\n ('NLOSS', 'NLIJM', 'M2'): 33,\n ('NLAMS', 'NLHEJ', 'M4'): 57,\n ('NLWIW', 'NLFRK', 'M5'): 59,\n ('NLEES', 'NLZWO', 'M4'): 54,\n ('NLURK', 'NLZEW', 'M2'): 51,\n ('NLTNZ', 'NLTNZ', 'BI'): 32,\n ('NLLOM', 'NLKRD', 'M3'): 62,\n ('NLNIJ', 'NLRTM', 'BIIa-1'): 49,\n ('NLALM', 'NLRTM', 'M7'): 56,\n ('NLZMM', 'NLRTM', 'M3'): 50,\n ('NLALK', 'NLAMS', 'M3'): 49,\n ('NLDST', 'NLAMS', 'M6'): 64,\n ('NLRTM', 'NLRTM', 'M3'): 32,\n ('NLRTM', 'NLAMS', 'BII-2L'): 39,\n ('NLBUD', 'NLAMS', 'M2'): 54,\n ('NLMOE', 'NLRTM', 'M3'): 49,\n ('NLHGL', 'NLWIS', 'M3'): 32,\n ('NLAMS', 'NLDZL', 'M8'): 50,\n ('NLRTM', 'NLIJM', 'M6'): 54,\n ('NLSWI', 'NLLEY', 'M6'): 56,\n ('NLDFT', 'NLDST', 'M3'): 32,\n ('NLBEM', 'NLTIE', 'M4'): 56,\n ('NLEES', 'NLMEP', 'M4'): 51,\n ('NLEEM', 'NLMOE', 'M6'): 32,\n ('NLDOR', 'NLVLI', 'M9'): 57,\n ('NLSLU', 'NLVEG', 'M3'): 42,\n ('NLRTM', 'NLDEV', 'M5'): 61,\n ('NLAMS', 'NLVLI', 'M6'): 63,\n ('NLPER', 'NLMOE', 'M6'): 61,\n ('NLPER', 'NLWLK', 'M3'): 45,\n ('NLLCH', 'NLAMS', 'M6'): 52,\n ('NLVEN', 'NLRTM', 'C3b'): 31,\n ('NLDIN', 'NLDFT', 'M2'): 55,\n ('NLRTM', 'NLZWI', 'M6'): 51,\n ('NLARK', 'NLBON', 'M3'): 54,\n ('NLGRQ', 'NLEEM', 'M5'): 36,\n ('NLQDG', 'NLRTM', 'M2'): 61,\n ('NLIJM', 'NLSCH', 'M4'): 46,\n ('NLMSB', 'NLBON', 'BII-1'): 35,\n ('NLAMS', 'NLLCH', 'M2'): 59,\n ('NLBON', 'NLRTM', 'M3'): 45,\n ('NLSLU', 'NLVLA', 'M8'): 43,\n ('NLHRW', 'NLARK', 'M2'): 53,\n ('NLHAR', 'NLSLU', 'M5'): 33,\n ('NLLAN', 'NLDZL', 'M2'): 53,\n ('NLALM', 'NLHGL', 'M6'): 31,\n ('NLSWI', 'NLHRD', 'M3'): 50,\n ('NLLOB', 'NLZLB', 'M9'): 49,\n ('NLLMR', 'NLFAR', 'BIIa-1'): 56,\n ('NLBON', 'NLZOU', 'M4'): 57,\n ('NLAMS', 'NLOME', 'M8'): 56,\n ('NLWIW', 'NLSCH', 'M4'): 61,\n ('NLMOE', 'NLDOR', 'M8'): 55,\n ('NLALM', 'NLHGL', 'M7'): 31,\n ('NLKAM', 'NLKAM', 'M4'): 31,\n ('NLWSP', 'NLLEY', 'M8'): 43,\n ('NLOSS', 'NLRTM', 'BII-2L'): 40,\n ('NLBON', 'NLOOS', 'M7'): 35,\n ('NLOSS', 'NLRTM', 'BII-1'): 49,\n ('NLAMS', 'NLMEP', 'B03'): 58,\n ('NLVEG', 'NLRTM', 'M5'): 37,\n ('NLLOM', 'NLRTM', 'M4'): 45,\n ('NLVEN', 'NLRTM', 'M8'): 55,\n ('NLDIN', 'NLWED', 'M2'): 54,\n ('NLBON', 'NLZOU', 'M5'): 52,\n ('NLSWI', 'NLUIT', 'M2'): 44,\n ('NLFAR', 'NLWTZ', 'M8'): 37,\n ('NLVLI', 'NLABL', 'M11'): 34,\n ('NLNER', 'NLVEN', 'BII-1'): 57,\n ('NLBEM', 'NLAAL', 'M3'): 54,\n ('NLAMS', 'NLDEL', 'M6'): 52,\n ('NLTLB', 'NLPHL', 'M2'): 31,\n ('NLZWS', 'NLAMS', 'M3'): 36,\n ('NLRTM', 'NLGOR', 'M8'): 55,\n ('NLAMS', 'NLOSS', 'M3'): 56,\n ('NLUTC', 'NLTIE', 'M6'): 44,\n ('NLLOM', 'NLARK', 'M3'): 43,\n ('NLHTR', 'NLNWG', 'M6'): 45,\n ('NLRTM', 'NLDEV', 'M4'): 47,\n ('NLLEY', 'NLAMS', 'BII-2b'): 56,\n ('NLAMS', 'NLNWG', 'M8'): 44,\n ('NLAMS', 'NLMAA', 'M2'): 45,\n ('NLOOS', 'NLDST', 'M6'): 57,\n ('NLAPN', 'NLHEJ', 'M3'): 54,\n ('NLBON', 'NLDEV', 'M6'): 36,\n ('NLRTM', 'NLARN', 'M9'): 46,\n ('NLAMS', 'NLNIJ', 'M6'): 47,\n ('NLVEG', 'NLAMS', 'M6'): 33,\n ('NLDRA', 'NLHAR', 'M6'): 57,\n ('NLHGL', 'NLAMS', 'M5'): 54,\n ('NLSWI', 'NLAMS', 'M8'): 56,\n ('NLRTM', 'NLVLA', 'M6'): 45,\n ('NLDST', 'NLAER', 'M2'): 44,\n ('NLVLL', 'NLKWZ', 'M6'): 30,\n ('NLABL', 'NLRTM', 'C3b'): 57,\n ('NLTIE', 'NLDIM', 'M2'): 36,\n ('NLIJM', 'NLOBO', 'M2'): 38,\n ('NLALM', 'NLAMS', 'M8'): 51,\n ('NLDZL', 'NLDZL', 'M8'): 29,\n ('NLIJM', 'NLMST', 'M5'): 41,\n ('NLROO', 'NLBRS', 'M6'): 38,\n ('NLENS', 'NLHGL', 'M7'): 29,\n ('NLKAM', 'NLRID', 'M8'): 31,\n ('NLVLI', 'NLDOR', 'M6'): 45,\n ('NLZAA', 'NLRTM', 'M8'): 49,\n ('NLHRW', 'NLAER', 'M2'): 33,\n ('NLHAN', 'NLDOR', 'M9'): 41,\n ('NLSNK', 'NLAMS', 'M2'): 42,\n ('NLGOU', 'NLIJM', 'M2'): 47,\n ('NLVDM', 'NLHAR', 'M6'): 55,\n ('NLDOR', 'NLLSH', 'M3'): 36,\n ('NLRTM', 'NLMOE', 'M10'): 56,\n ('NLOSS', 'NLRTM', 'M3'): 46,\n ('NLDST', 'NLAMS', 'M4'): 47,\n ('NLBON', 'NLOSS', 'M6'): 43,\n ('NLAMS', 'NLMEP', 'BII-1'): 56,\n ('NLOSS', 'NLCUY', 'M7'): 42,\n ('NLAER', 'NLLEY', 'M2'): 51,\n ('NLAMS', 'NLDEL', 'M5'): 43,\n ('NLAME', 'NLAMS', 'M3'): 33,\n ('NLVLI', 'NLSTI', 'M8'): 51,\n ('NLSTI', 'NLWIW', 'M1'): 33,\n ('NLRTM', 'NLAAM', 'M3'): 55,\n ('NLWAS', 'NLABL', 'M8'): 38,\n ('NLRTM', 'NLWGW', 'M4'): 43,\n ('NLLCH', 'NLAMS', 'M4'): 48,\n ('NLAMS', 'NLSNK', 'B03'): 47,\n ('NLLCH', 'NLAMS', 'M5'): 40,\n ('NLWED', 'NLRTM', 'M6'): 39,\n ('NLFAR', 'NLEEM', 'BI'): 56,\n ('NLAMS', 'NLMAA', 'M4'): 38,\n ('NLBON', 'NLAME', 'M3'): 29,\n ('NLRTM', 'NLGOU', 'M3'): 56,\n ('NLPER', 'NLDOE', 'M8'): 50,\n ('NLMST', 'NLVLI', 'M4'): 52,\n ('NLLMR', 'NLAMS', 'M8'): 50,\n ('NLTIE', 'NLRTM', 'M4'): 42,\n ('NLVLI', 'NLBZM', 'M6'): 46,\n ('NLDST', 'NLHTB', 'M4'): 51,\n ('NLSWI', 'NLNKK', 'M6'): 55,\n ('NLRTM', 'NLEIN', 'M2'): 48,\n ('NLBON', 'NLHAG', 'M4'): 35,\n ('NLGOR', 'NLAMS', 'M2'): 29,\n ('NLRTM', 'NLHGL', 'M3'): 42,\n ('NLSWI', 'NLBAA', 'M4'): 51,\n ('NLLEY', 'NLLEY', 'M6'): 28,\n ('NLVLI', 'NLVEL', 'M8'): 29,\n ('NLHRW', 'NLAMS', 'M8'): 38,\n ('NLSLU', 'NLVLI', 'M8'): 52,\n ('NLAMS', 'NLMAA', 'M3'): 46,\n ('NLBON', 'NLOSS', 'M3'): 39,\n ('NLWSP', 'NLURK', 'M6'): 43,\n ('NLBZM', 'NLRTM', 'C3l'): 27,\n ('NLLOM', 'NLHEJ', 'BI'): 42,\n ('NLOOS', 'NLBON', 'M5'): 39,\n ('NLDZL', 'NLAMS', 'M6'): 42,\n ('NLHTB', 'NLLOM', 'M3'): 30,\n ('NLGOR', 'NLRTM', 'M2'): 28,\n ('NLBGU', 'NLDST', 'M8'): 47,\n ('NLTNZ', 'NLMOE', 'M6'): 53,\n ('NLAMS', 'NLDRA', 'M6'): 45,\n ('NLIJM', 'NLBRD', 'M3'): 35,\n ('NLBZM', 'NLBRS', 'M10'): 52,\n ('NLMAA', 'NLCUY', 'BII-1'): 51,\n ('NLMEP', 'NLAMS', 'M3'): 41,\n ('NLDOR', 'NLAMS', 'BIIa-1'): 32,\n ('NLZWO', 'NLZWS', 'BII-1'): 52,\n ('NLHAR', 'NLHRN', 'M6'): 52,\n ('NLPER', 'NLHGL', 'M8'): 41,\n ('NLRTM', 'NLMAA', 'M5'): 40,\n ('NLGNM', 'NLAMS', 'M5'): 41,\n ('NLDOI', 'NLAMS', 'M3'): 45,\n ('NLAER', 'NLAAM', 'M3'): 49,\n ('NLBOT', 'NLMOE', 'M8'): 44,\n ('NLIJM', 'NLMST', 'M3'): 33,\n ('NLIJM', 'NLMOE', 'M9'): 30,\n ('NLVEG', 'NLAMS', 'M3'): 34,\n ('NLDOR', 'NLVLA', 'M8'): 46,\n ('NLDHR', 'NLDHR', 'M4'): 26,\n ('NLDST', 'NLQCU', 'M4'): 49,\n ('NLDST', 'NLGRO', 'M6'): 52,\n ('NLWRV', 'NLZAA', 'M6'): 34,\n ('NLETT', 'NLRTM', 'M6'): 49,\n ('NLTIE', 'NLUTC', 'M5'): 45,\n ('NLRTM', 'NLWIS', 'M8'): 43,\n ('NLHRD', 'NLAMS', 'M5'): 32,\n ('NLPER', 'NLAMS', 'M9'): 32,\n ('NLVEG', 'NLRTM', 'M4'): 38,\n ('NLRTM', 'NLBRS', 'M6'): 29,\n ('NLZAA', 'NLRTM', 'M6'): 48,\n ('NLPER', 'NLVEG', 'M7'): 26,\n ('NLKGZ', 'NLAMS', 'M8'): 26,\n ('NLBAA', 'NLSWI', 'M6'): 45,\n ('NLLEY', 'NLLWR', 'M6'): 49,\n ('NLRTM', 'NLNGV', 'M10'): 47,\n ('NLBON', 'NLAMS', 'M8'): 32,\n ('NLLEY', 'NLNKK', 'M4'): 43,\n ('NLSCI', 'NLHLM', 'M2'): 36,\n ('NLTNZ', 'NLBRS', 'M4'): 37,\n ('NLHTR', 'NLHTB', 'M3'): 31,\n ('NLTIE', 'NLPER', 'M8'): 42,\n ('NLGRQ', 'NLEEM', 'M8'): 25,\n ('NLSLU', 'NLBRS', 'M6'): 36,\n ('NLVEN', 'NLVLI', 'M7'): 25,\n ('NLZOE', 'NLWSP', 'M3'): 43,\n ('NLURK', 'NLAER', 'M2'): 43,\n ('NLRTM', 'NLAAM', 'M4'): 48,\n ('NLFRK', 'NLHAR', 'M4'): 49,\n ('NLBON', 'NLAKR', 'M6'): 25,\n ('NLKWZ', 'NLKWZ', 'BI'): 25,\n ('NLRTM', 'NLMAA', 'M6'): 49,\n ('NLMAA', 'NLLSH', 'M3'): 30,\n ('NLOCC', 'NLRTM', 'M8'): 27,\n ('NLLCH', 'NLRTM', 'M5'): 35,\n ('NLLEY', 'NLRTM', 'M9'): 38,\n ('NLSNK', 'NLRTM', 'M8'): 36,\n ('NLRTM', 'NLMAA', 'M4'): 46,\n ('NLDST', 'NLNWG', 'M6'): 43,\n ('NLIJM', 'NLAER', 'M4'): 49,\n ('NLIJM', 'NLTIE', 'M2'): 45,\n ('NLDIN', 'NLMST', 'M6'): 48,\n ('NLOBO', 'NLMST', 'M5'): 47,\n ('NLIJM', 'NLZWI', 'M6'): 42,\n ('NLIJM', 'NLMST', 'M4'): 34,\n ('NLSTD', 'NLRTM', 'M4'): 35,\n ('NLTNZ', 'NLVLI', 'M2'): 47,\n ('NLIJM', 'NLWGW', 'M2'): 42,\n ('NLGOE', 'NLBRS', 'M3'): 40,\n ('NLOMD', 'NLSTI', 'M8'): 46,\n ('NLDST', 'NLVEG', 'M2'): 49,\n ('NLTIE', 'NLVLI', 'M8'): 43,\n ('NLZAA', 'NLAMS', 'BI'): 49,\n ('NLBON', 'NLWSM', 'BI'): 44,\n ('NLAMS', 'NLTIE', 'M8'): 42,\n ('NLZWS', 'NLMEP', 'BI'): 45,\n ('NLLOM', 'NLHTB', 'M2'): 40,\n ('NLZLB', 'NLDOR', 'M9'): 46,\n ('NLRTM', 'NLVEN', 'M2'): 34,\n ('NLLSH', 'NLAMS', 'M2'): 24,\n ('NLSLU', 'NLBOT', 'M8'): 26,\n ('NLBEM', 'NLWSP', 'M3'): 43,\n ('NLVEG', 'NLAMS', 'M5'): 27,\n ('NLLSH', 'NLBON', 'M3'): 27,\n ('NLSTI', 'NLHEG', 'M4'): 27,\n ('NLHRD', 'NLLOB', 'M3'): 26,\n ('NLMOE', 'NLRTM', 'M11'): 41,\n ('NLLCH', 'NLAMS', 'M3'): 40,\n ('NLDON', 'NLMOE', 'M3'): 34,\n ('NLRTM', 'NLHGL', 'M4'): 37,\n ('NLPER', 'NLMOE', 'M5'): 34,\n ('NLKGZ', 'NLZAA', 'M4'): 47,\n ('NLMSB', 'NLRTM', 'M8'): 29,\n ('NLSTI', 'NLRTM', 'M6'): 40,\n ('NLOSS', 'NLAMS', 'M5'): 38,\n ('NLNKK', 'NLAMS', 'M4'): 38,\n ('NLAMS', 'NLEUR', 'M8'): 37,\n ('NLOOS', 'NLHEJ', 'M7'): 24,\n ('NLAPN', 'NLWIW', 'M6'): 34,\n ('NLRTM', 'NLLAV', 'M8'): 40,\n ('NLAMS', 'NLZWI', 'M8'): 46,\n ('NLRTM', 'NLTNZ', 'M9'): 41,\n ('NLRTM', 'NLLAV', 'M10'): 46,\n ('NLRTM', 'NLDOR', 'M10'): 46,\n ('NLAER', 'NLENK', 'M3'): 39,\n ('NLRAS', 'NLHRW', 'M3'): 36,\n ('NLEEM', 'NLZOU', 'M4'): 25,\n ('NLAMS', 'NLDEL', 'M3'): 33,\n ('NLEES', 'NLRTM', 'M4'): 35,\n ('NLVEN', 'NLNIJ', 'M8'): 48,\n ('NLMOE', 'NLHRD', 'M6'): 25,\n ('NLBON', 'NLGOE', 'M5'): 24,\n ('NLDST', 'NLVAN', 'M4'): 38,\n ('NLLEY', 'NLLEY', 'M3'): 24,\n ('NLUTC', 'NLLEY', 'M6'): 40,\n ('NLFAR', 'NLEEM', 'M5'): 36,\n ('NLWRT', 'NLAMS', 'M2'): 24,\n ('NLAMS', 'NLZWO', 'BI'): 31,\n ('NLBIW', 'NLLOB', 'M8'): 43,\n ('NLLEY', 'NLLWR', 'M5'): 41,\n ('NLHRD', 'NLRTM', 'M4'): 42,\n ('NLMEP', 'NLLEY', 'M5'): 29,\n ('NLSCH', 'NLLEY', 'M3'): 40,\n ('NLXXX', 'NLXXX', 'M8'): 23,\n ('NLVEG', 'NLHEJ', 'M5'): 45,\n ('NLHEJ', 'NLAMS', 'M6'): 38,\n ('NLRTM', 'NLMID', 'M8'): 33,\n ('NLTNZ', 'NLVLI', 'M9'): 41,\n ('NLVLI', 'NLLEY', 'M6'): 24,\n ('NLUTC', 'NLDIN', 'M3'): 23,\n ('NLRTM', 'NLQDG', 'M4'): 41,\n ('NLRNK', 'NLMOE', 'M8'): 46,\n ('NLZWS', 'NLAMS', 'BII-1'): 34,\n ('NLHTB', 'NLMAA', 'M3'): 44,\n ('NLZWS', 'NLAMS', 'M6'): 27,\n ('NLZWS', 'NLAMS', 'M5'): 30,\n ('NLOOS', 'NLBON', 'M6'): 37,\n ('NLGNM', 'NLAMS', 'M8'): 26,\n ('NLBON', 'NLWLK', 'M3'): 46,\n ('NLHGL', 'NLAMS', 'M3'): 40,\n ('NLGNM', 'NLRTM', 'M8'): 31,\n ('NLDZL', 'NLLMR', 'BIIa-1'): 42,\n ('NLHAR', 'NLRTM', 'M6'): 31,\n ('NLAMS', 'NLNIJ', 'M3'): 28,\n ('NLRTM', 'NLRTM', 'M4'): 23,\n ('NLMST', 'NLAMS', 'M8'): 37,\n ('NLMST', 'NLBON', 'M6'): 24,\n ('NLDHR', 'NLKAM', 'M4'): 42,\n ('NLRTM', 'NLKAM', 'M5'): 43,\n ('NLMEP', 'NLAMS', 'M5'): 30,\n ('NLHRD', 'NLAMS', 'M3'): 29,\n ('NLLEY', 'NLRTM', 'M8'): 39,\n ('NLWIW', 'NLSCH', 'M6'): 44,\n ('NLRTM', 'NLRTM', 'M2'): 23,\n ('NLAMS', 'NLDEV', 'M8'): 33,\n ('NLRTM', 'NLWMO', 'M4'): 38,\n ('NLVEG', 'NLRTM', 'M3'): 33,\n ('NLHEJ', 'NLAMS', 'M8'): 40,\n ('NLAMS', 'NLDEL', 'M2'): 35,\n ('NLTNZ', 'NLBOT', 'M8'): 35,\n ('NLNWG', 'NLDST', 'M5'): 45,\n ('NLAMS', 'NLZWI', 'M3'): 38,\n ('NLVEN', 'NLBON', 'M6'): 24,\n ('NLGTB', 'NLOMD', 'M8'): 24,\n ('NLBON', 'NLZWO', 'M4'): 24,\n ('NLGOU', 'NLMOE', 'M6'): 30,\n ('NLLCH', 'NLRTM', 'M6'): 27,\n ('NLHRV', 'NLAMS', 'M5'): 27,\n ('NLHEJ', 'NLETT', 'M3'): 38,\n ('NLHRW', 'NLVEG', 'M3'): 34,\n ('NLZWO', 'NLAMS', 'BII-2L'): 27,\n ('NLBEM', 'NLTIE', 'M5'): 26,\n ('NLURK', 'NLAMS', 'M8'): 40,\n ('NLAKL', 'NLSJK', 'M6'): 43,\n ('NLAMS', 'NLHEJ', 'M3'): 38,\n ('NLZWO', 'NLSWI', 'M6'): 29,\n ('NLURK', 'NLAER', 'M3'): 33,\n ('NLDOR', 'NLAMS', 'BII-2b'): 34,\n ('NLGTB', 'NLAMS', 'M6'): 38,\n ('NLHTR', 'NLDOR', 'M4'): 23,\n ('NLKAI', 'NLUIT', 'M2'): 43,\n ('NLSWI', 'NLELB', 'M6'): 40,\n ('NLIJM', 'NLSTD', 'M2'): 23,\n ('NLZWS', 'NLAMS', 'M2'): 24,\n ('NLOSS', 'NLRTM', 'BIIa-1'): 39,\n ('NLNKK', 'NLAMS', 'M3'): 31,\n ('NLKWZ', 'NLAMS', 'BII-2b'): 34,\n ('NLDST', 'NLVEG', 'M3'): 40,\n ('NLNIJ', 'NLOMD', 'BIIa-1'): 30,\n ('NLBON', 'NLOSS', 'M5'): 40,\n ('NLLEY', 'NLHAR', 'M6'): 32,\n ('NLAMS', 'NLBRD', 'M3'): 31,\n ('NLAMS', 'NLTIE', 'M5'): 38,\n ('NLRTM', 'NLBGU', 'M2'): 23,\n ('NLVLI', 'NLHTB', 'M5'): 23,\n ('NLAMS', 'NLDOR', 'M12'): 30,\n ('NLWLK', 'NLLOM', 'M4'): 33,\n ('NLAMS', 'NLDFT', 'M3'): 32,\n ('NLBRD', 'NLBEM', 'M3'): 36,\n ('NLALM', 'NLAMS', 'M2'): 38,\n ('NLNKK', 'NLAMS', 'BII-1'): 36,\n ('NLTNZ', 'NLVLI', 'BIIL-1'): 38,\n ('NLAMS', 'NLTIE', 'M3'): 29,\n ('NLALM', 'NLAMS', 'M5'): 35,\n ('NLRTM', 'NLZWO', 'M2'): 27,\n ('NLAMS', 'NLOSS', 'M8'): 42,\n ('NLWSP', 'NLAER', 'M3'): 41,\n ('NLVLI', 'NLTLB', 'M2'): 29,\n ('NLIJM', 'NLMOE', 'M7'): 41,\n ('NLTEA', 'NLDST', 'M3'): 39,\n ('NLMST', 'NLRTM', 'M8'): 34,\n ('NLNIJ', 'NLMSB', 'BIIa-1'): 28,\n ('NLSJK', 'NLAER', 'M8'): 26,\n ('NLUTC', 'NLRTM', 'M2'): 30,\n ('NLTIE', 'NLAMS', 'C3l'): 22,\n ('NLDST', 'NLAMS', 'M5'): 39,\n ('NLSNK', 'NLLEY', 'M4'): 34,\n ('NLMAA', 'NLCUY', 'M3'): 40,\n ('NLHGL', 'NLUTC', 'M6'): 22,\n ('NLWIW', 'NLNKK', 'M2'): 35,\n ('NLDHR', 'NLKAM', 'M6'): 32,\n ('NLPER', 'NLAPN', 'M8'): 26,\n ('NLMAA', 'NLAMS', 'M5'): 41,\n ('NLWAS', 'NLRTM', 'BII-1'): 32,\n ('NLSTI', 'NLOMD', 'M6'): 39,\n ('NLENS', 'NLMOE', 'M8'): 41,\n ('NLBEM', 'NLOOS', 'M5'): 41,\n ('NLVLI', 'NLBRS', 'M6'): 23,\n ('NLRTM', 'NLOMD', 'BII-2L'): 34,\n ('NLMOE', 'NLLEY', 'M8'): 21,\n ('NLVLI', 'NLMST', 'BIIL-1'): 35,\n ('NLRTM', 'NLGNM', 'M2'): 37,\n ('NLSCI', 'NLDOI', 'M2'): 27,\n ('NLVLI', 'NLMSL', 'M5'): 28,\n ('NLZWS', 'NLAMS', 'BIIL-1'): 22,\n ('NLHGL', 'NLAMS', 'M2'): 37,\n ('NLUTC', 'NLDEV', 'M3'): 29,\n ('NLIJM', 'NLZWI', 'M8'): 39,\n ('NLAMS', 'NLAMS', 'M3'): 21,\n ('NLRTM', 'NLDEL', 'M5'): 34,\n ('NLLWR', 'NLHAR', 'M6'): 27,\n ('NLRTM', 'NLVLI', 'M3'): 36,\n ('NLHTR', 'NLDEV', 'M4'): 28,\n ('NLMLR', 'NLRTM', 'M8'): 39,\n ('NLALM', 'NLDOR', 'M7'): 37,\n ('NLLAV', 'NLSNK', 'M8'): 28,\n ('NLBOT', 'NLGOU', 'M3'): 29,\n ('NLRTM', 'NLNGV', 'M8'): 37,\n ('NLGNM', 'NLRTM', 'M6'): 31,\n ('NLGOU', 'NLRTM', 'M4'): 35,\n ('NLHAR', 'NLVDM', 'M4'): 38,\n ('NLBON', 'NLWLK', 'M5'): 31,\n ('NLHEJ', 'NLOME', 'M8'): 22,\n ('NLBZM', 'NLVLI', 'C3l'): 20,\n ('NLZOT', 'NLZOT', 'M3'): 20,\n ('NLMEP', 'NLAMS', 'BII-2L'): 32,\n ('NLAMS', 'NLWBR', 'M8'): 26,\n ('NLVLL', 'NLKWZ', 'M4'): 20,\n ('NLBON', 'NLAER', 'M3'): 23,\n ('NLLOM', 'NLHEJ', 'M3'): 37,\n ...}"
     },
     "execution_count": 12,
     "metadata": {},
     "output_type": "execute_result"
    }
   ],
   "source": [
    "#create dict to fill with total number of trips on path for each ship type\n",
    "df_t_dict = {}\n",
    "# now fill this dict\n",
    "# loop over data frame\n",
    "for i in range(len(df_t)):\n",
    "    #define temp variables for ease\n",
    "    origin = df_t['origin'][i]\n",
    "    destination = df_t['destination'][i]\n",
    "    ship_type = df_t['type'][i]\n",
    "    trip_count = df_t['trips'][i]\n",
    "    #only make new column if trip and its inverse are not in dict yet. Otherwise append.\n",
    "    if (origin, destination, ship_type) in df_t_dict.keys():\n",
    "        df_t_dict[(origin, destination, ship_type)] += trip_count\n",
    "    elif (destination, origin, ship_type) in df_t_dict.keys():\n",
    "        df_t_dict[(destination, origin, ship_type)] += trip_count\n",
    "    else:\n",
    "        df_t_dict[(origin, destination, ship_type)] = trip_count\n",
    "df_t_dict"
   ],
   "metadata": {
    "collapsed": false,
    "pycharm": {
     "name": "#%%\n"
    }
   }
  },
  {
   "cell_type": "markdown",
   "source": [
    "## Compute vessel sum per route\n",
    "Idea: make similar dict as above first, but then with total amount of trips per route. Later on: add column for each ship.\n",
    "This will result in a column for each ship type and an entry with the amount of ships of that type that have travelled."
   ],
   "metadata": {
    "collapsed": false,
    "pycharm": {
     "name": "#%% md\n"
    }
   }
  },
  {
   "cell_type": "code",
   "execution_count": 13,
   "outputs": [],
   "source": [
    "# now only sort by origin and destination\n",
    "all_trips_ranked = df_2021.groupby(by=['UNLO_herkomst', 'UNLO_bestemming']).count().reset_index().sort_values(\n",
    "    by='Jaarmaand', ascending=False).iloc[:, :3].reset_index(drop=True)\n",
    "\n",
    "#again, rename columns\n",
    "all_trips_ranked.rename(\n",
    "    columns={'UNLO_herkomst': 'origin', 'UNLO_bestemming': 'destination', 'SK_CODE': 'type', 'Unnamed: 0': 'trips'},\n",
    "    inplace=True)\n",
    "\n",
    "#remove non nl\n",
    "all_trips_ranked = all_trips_ranked.loc[(all_trips_ranked.origin.str.contains('NL')) & (all_trips_ranked.destination.str.contains('NL'))]\n",
    "\n",
    "#reset index to be able to loop over all values later on\n",
    "all_trips_ranked.reset_index(inplace=True, drop=True)"
   ],
   "metadata": {
    "collapsed": false,
    "pycharm": {
     "name": "#%%\n"
    }
   }
  },
  {
   "cell_type": "code",
   "execution_count": 14,
   "outputs": [],
   "source": [
    "# make dict to store trips\n",
    "trip_dict_main = {}\n",
    "\n",
    "# now fill this dict, same procedure as above\n",
    "for i in range(len(all_trips_ranked)):\n",
    "    origin = all_trips_ranked['origin'][i]\n",
    "    destination = all_trips_ranked['destination'][i]\n",
    "    trip_count = all_trips_ranked['trips'][i]\n",
    "\n",
    "    if (origin, destination) in trip_dict_main.keys():\n",
    "        trip_dict_main[(origin, destination)] += trip_count\n",
    "    elif (destination, origin) in trip_dict_main.keys():\n",
    "        trip_dict_main[(destination, origin)] += trip_count\n",
    "    else:\n",
    "        trip_dict_main[(origin, destination)] = trip_count\n",
    "\n",
    "# now sort values\n",
    "trip_dict_main = dict(sorted(trip_dict_main.items(), key=lambda item: item[1], reverse=True))"
   ],
   "metadata": {
    "collapsed": false,
    "pycharm": {
     "name": "#%%\n"
    }
   }
  },
  {
   "cell_type": "code",
   "execution_count": 15,
   "outputs": [
    {
     "data": {
      "text/plain": "{('NLRTM', 'NLAMS'): 9932,\n ('NLRTM', 'NLMOE'): 2685,\n ('NLRTM', 'NLVLI'): 2151,\n ('NLAMS', 'NLAER'): 2114,\n ('NLRTM', 'NLRTM'): 1794,\n ('NLVEG', 'NLRTM'): 1467,\n ('NLTLB', 'NLRTM'): 1317,\n ('NLLEY', 'NLAMS'): 1290,\n ('NLOSS', 'NLRTM'): 1145,\n ('NLZWO', 'NLAMS'): 1118,\n ('NLRTM', 'NLKAM'): 1036,\n ('NLUTC', 'NLRTM'): 1034,\n ('NLHGL', 'NLRTM'): 1034,\n ('NLLMR', 'NLAMS'): 1004,\n ('NLRTM', 'NLWLK'): 987,\n ('NLAMS', 'NLMOE'): 971,\n ('NLRTM', 'NLAPN'): 945,\n ('NLAER', 'NLRTM'): 944,\n ('NLDOR', 'NLRTM'): 907,\n ('NLTNZ', 'NLVLI'): 861,\n ('NLAMS', 'NLDEV'): 847,\n ('NLGOR', 'NLRTM'): 839,\n ('NLRTM', 'NLNIJ'): 817,\n ('NLBZM', 'NLRTM'): 814,\n ('NLWSP', 'NLAER'): 792,\n ('NLRTM', 'NLOOS'): 785,\n ('NLRTM', 'NLTNZ'): 779,\n ('NLVLI', 'NLAMS'): 769,\n ('NLRTM', 'NLMEP'): 767,\n ('NLOOS', 'NLTLB'): 736,\n ('NLNIJ', 'NLWAS'): 725,\n ('NLKAM', 'NLAMS'): 721,\n ('NLIJM', 'NLMOE'): 718,\n ('NLHAR', 'NLWTE'): 714,\n ('NLKGZ', 'NLAMS'): 682,\n ('NLBON', 'NLRTM'): 680,\n ('NLMOE', 'NLAPN'): 667,\n ('NLDOR', 'NLAMS'): 662,\n ('NLTIE', 'NLRTM'): 652,\n ('NLHGL', 'NLAMS'): 649,\n ('NLNIJ', 'NLABL'): 648,\n ('NLMOE', 'NLOOS'): 634,\n ('NLNKK', 'NLAMS'): 596,\n ('NLAMS', 'NLAMS'): 594,\n ('NLAER', 'NLLEY'): 581,\n ('NLMEP', 'NLAMS'): 540,\n ('NLRTM', 'NLDZL'): 523,\n ('NLHAR', 'NLAMS'): 523,\n ('NLAMS', 'NLWMO'): 523,\n ('NLALK', 'NLIJM'): 521,\n ('NLAMS', 'NLOSS'): 517,\n ('NLIJM', 'NLRTM'): 515,\n ('NLABL', 'NLRTM'): 503,\n ('NLHAS', 'NLAMS'): 503,\n ('NLRTM', 'NLVEN'): 497,\n ('NLRTM', 'NLZWO'): 488,\n ('NLTNZ', 'NLBRS'): 484,\n ('NLRTM', 'NLARN'): 483,\n ('NLUTC', 'NLTIE'): 468,\n ('NLAER', 'NLNIE'): 468,\n ('NLFAR', 'NLEEM'): 463,\n ('NLTNZ', 'NLTNZ'): 457,\n ('NLDRO', 'NLKAM'): 452,\n ('NLAMS', 'NLTIE'): 450,\n ('NLGNM', 'NLAMS'): 443,\n ('NLWBR', 'NLRTM'): 437,\n ('NLNIJ', 'NLDRU'): 433,\n ('NLTLB', 'NLMOE'): 431,\n ('NLVEG', 'NLAMS'): 431,\n ('NLAMS', 'NLWGW'): 430,\n ('NLDST', 'NLAMS'): 419,\n ('NLAMS', 'NLZAA'): 414,\n ('NLAER', 'NLSWI'): 408,\n ('NLWGW', 'NLRTM'): 406,\n ('NLSTI', 'NLRTM'): 397,\n ('NLCUY', 'NLRTM'): 396,\n ('NLSWI', 'NLLEY'): 395,\n ('NLVEG', 'NLHEJ'): 392,\n ('NLHEJ', 'NLAMS'): 392,\n ('NLRTM', 'NLGTB'): 389,\n ('NLMOE', 'NLTNZ'): 385,\n ('NLTNZ', 'NLAMS'): 377,\n ('NLHRD', 'NLAMS'): 376,\n ('NLIJM', 'NLMST'): 375,\n ('NLAMS', 'NLUTC'): 370,\n ('NLHTB', 'NLBZM'): 370,\n ('NLVEN', 'NLBON'): 368,\n ('NLALM', 'NLAMS'): 362,\n ('NLDRA', 'NLAMS'): 361,\n ('NLNRW', 'NLBON'): 357,\n ('NLOMD', 'NLRTM'): 354,\n ('NLLWR', 'NLRTM'): 352,\n ('NLNIJ', 'NLAMS'): 352,\n ('NLFAR', 'NLRTM'): 342,\n ('NLRTM', 'NLVSN'): 342,\n ('NLPER', 'NLAMS'): 328,\n ('NLHRV', 'NLAMS'): 326,\n ('NLHAR', 'NLDRA'): 325,\n ('NLHTB', 'NLBON'): 324,\n ('NLKGZ', 'NLZAA'): 316,\n ('NLRTM', 'NLLID'): 311,\n ('NLRTM', 'NLSLU'): 310,\n ('NLAMS', 'NLZWI'): 309,\n ('NLBON', 'NLTLB'): 301,\n ('NLOSS', 'NLHRW'): 297,\n ('NLRTM', 'NLDEV'): 296,\n ('NLLCH', 'NLAMS'): 292,\n ('NLMOE', 'NLVLI'): 291,\n ('NLAMS', 'NLHLM'): 286,\n ('NLMEP', 'NLZWS'): 283,\n ('NLZWS', 'NLAMS'): 282,\n ('NLZMM', 'NLRTM'): 278,\n ('NLRTM', 'NLDOE'): 278,\n ('NLHBG', 'NLELL'): 272,\n ('NLVAN', 'NLAMS'): 270,\n ('NLSWI', 'NLNKK'): 269,\n ('NLBON', 'NLVEG'): 268,\n ('NLRTM', 'NLZWI'): 267,\n ('NLOMD', 'NLWAS'): 266,\n ('NLFOX', 'NLRTM'): 261,\n ('NLAMS', 'NLRAS'): 261,\n ('NLAMS', 'NLVLA'): 260,\n ('NLMST', 'NLBON'): 259,\n ('NLMAA', 'NLCUY'): 257,\n ('NLEEM', 'NLALM'): 254,\n ('NLLEY', 'NLLWR'): 254,\n ('NLDOR', 'NLVLI'): 253,\n ('NLZAA', 'NLRTM'): 252,\n ('NLLWR', 'NLHAR'): 249,\n ('NLWSM', 'NLLIN'): 248,\n ('NLRTM', 'NLALM'): 248,\n ('NLAMS', 'NLBOT'): 246,\n ('NLWIW', 'NLHRN'): 241,\n ('NLWSM', 'NLBON'): 241,\n ('NLRTM', 'NLQDG'): 239,\n ('NLALM', 'NLHGL'): 236,\n ('NLAMS', 'NLEIN'): 234,\n ('NLBON', 'NLEIN'): 233,\n ('NLHLM', 'NLRTM'): 232,\n ('NLAMS', 'NLMAA'): 228,\n ('NLHAN', 'NLBRS'): 224,\n ('NLHAR', 'NLHAR'): 222,\n ('NLRTM', 'NLGOU'): 222,\n ('NLHAR', 'NLKAM'): 220,\n ('NLDZL', 'NLFAR'): 220,\n ('NLSCH', 'NLWIW'): 220,\n ('NLSWI', 'NLAMS'): 215,\n ('NLNER', 'NLVEN'): 214,\n ('NLHTB', 'NLRTM'): 213,\n ('NLBON', 'NLSTI'): 212,\n ('NLGRQ', 'NLAMS'): 210,\n ('NLSNK', 'NLAMS'): 209,\n ('NLAMS', 'NLDEL'): 208,\n ('NLOSS', 'NLCUY'): 207,\n ('NLALK', 'NLAMS'): 207,\n ('NLAMS', 'NLEES'): 207,\n ('NLSWI', 'NLWSP'): 205,\n ('NLRTM', 'NLDON'): 205,\n ('NLWIW', 'NLAMS'): 205,\n ('NLRTM', 'NLGRQ'): 204,\n ('NLRTM', 'NLGNM'): 204,\n ('NLHRW', 'NLARK'): 203,\n ('NLVLI', 'NLVLI'): 202,\n ('NLHAR', 'NLOME'): 201,\n ('NLHEJ', 'NLOOS'): 200,\n ('NLDOR', 'NLLSH'): 199,\n ('NLBON', 'NLOSS'): 198,\n ('NLHAR', 'NLHKK'): 198,\n ('NLDST', 'NLHTB'): 197,\n ('NLVLL', 'NLHAR'): 196,\n ('NLHTR', 'NLNWG'): 195,\n ('NLMSB', 'NLRTM'): 195,\n ('NLRTM', 'NLMAA'): 195,\n ('NLWSP', 'NLLEY'): 194,\n ('NLHRW', 'NLVEG'): 194,\n ('NLHEJ', 'NLDVT'): 194,\n ('NLMAA', 'NLHTB'): 192,\n ('NLNIJ', 'NLBON'): 192,\n ('NLOMD', 'NLAMS'): 192,\n ('NLEEM', 'NLRTM'): 190,\n ('NLMAA', 'NLNRW'): 188,\n ('NLBON', 'NLDFT'): 188,\n ('NLLEY', 'NLLEY'): 187,\n ('NLAMS', 'NLMSB'): 187,\n ('NLGTB', 'NLAMS'): 185,\n ('NLBON', 'NLWLK'): 184,\n ('NLHGL', 'NLDFT'): 182,\n ('NLSNK', 'NLLEY'): 182,\n ('NLMSB', 'NLBON'): 181,\n ('NLBON', 'NLKSL'): 180,\n ('NLHEJ', 'NLAAL'): 179,\n ('NLAMS', 'NLIJM'): 179,\n ('NLAMS', 'NLWAS'): 179,\n ('NLHEJ', 'NLKOR'): 178,\n ('NLRTM', 'NLMST'): 176,\n ('NLLEY', 'NLRTM'): 174,\n ('NLHEJ', 'NLDUS'): 174,\n ('NLRTM', 'NLVLA'): 173,\n ('NLHRW', 'NLTEA'): 173,\n ('NLBON', 'NLHAG'): 172,\n ('NLSLU', 'NLBRS'): 172,\n ('NLAMS', 'NLBON'): 172,\n ('NLUTC', 'NLLEY'): 170,\n ('NLENS', 'NLRTM'): 170,\n ('NLRTM', 'NLWRV'): 169,\n ('NLWAS', 'NLRTM'): 167,\n ('NLTLB', 'NLZBG'): 167,\n ('NLRTM', 'NLHEJ'): 164,\n ('NLRTM', 'NLKAZ'): 163,\n ('NLAER', 'NLSPL'): 162,\n ('NLARK', 'NLAMS'): 162,\n ('NLDST', 'NLOSS'): 160,\n ('NLSWI', 'NLBAA'): 159,\n ('NLMAA', 'NLHEJ'): 159,\n ('NLPER', 'NLFOX'): 158,\n ('NLAMS', 'NLNWG'): 158,\n ('NLFAR', 'NLBOT'): 157,\n ('NLDTK', 'NLSCH'): 157,\n ('NLMAA', 'NLOSS'): 157,\n ('NLSTI', 'NLAMS'): 155,\n ('NLSJK', 'NLRTM'): 155,\n ('NLIJM', 'NLHAR'): 155,\n ('NLVEN', 'NLAMS'): 155,\n ('NLDHR', 'NLSCH'): 153,\n ('NLBON', 'NLBRD'): 153,\n ('NLWED', 'NLRTM'): 152,\n ('NLLOM', 'NLHAG'): 151,\n ('NLRTM', 'NLNKK'): 151,\n ('NLMOE', 'NLBRD'): 151,\n ('NLBRD', 'NLRTM'): 150,\n ('NLPER', 'NLVEG'): 149,\n ('NLDZL', 'NLEEM'): 149,\n ('NLTNZ', 'NLMST'): 149,\n ('NLNWG', 'NLRTM'): 148,\n ('NLGRQ', 'NLHAR'): 145,\n ('NLAMS', 'NLENS'): 144,\n ('NLFOX', 'NLVDM'): 144,\n ('NLFAR', 'NLAMS'): 142,\n ('NLRLA', 'NLRTM'): 141,\n ('NLIJM', 'NLSCH'): 140,\n ('NLBZM', 'NLVLI'): 139,\n ('NLAMS', 'NLHTB'): 139,\n ('NLLCH', 'NLRTM'): 137,\n ('NLAER', 'NLIJM'): 137,\n ('NLOOS', 'NLBON'): 137,\n ('NLZWO', 'NLZWS'): 136,\n ('NLWSC', 'NLAMS'): 136,\n ('NLHEJ', 'NLEML'): 136,\n ('NLLWR', 'NLAMS'): 135,\n ('NLVLI', 'NLHAN'): 135,\n ('NLSTD', 'NLSTD'): 134,\n ('NLVLA', 'NLSLU'): 134,\n ('NLDZL', 'NLAMS'): 133,\n ('NLOBO', 'NLMST'): 133,\n ('NLSLU', 'NLVLI'): 132,\n ('NLFRK', 'NLHAR'): 131,\n ('NLARK', 'NLDST'): 131,\n ('NLBON', 'NLAER'): 129,\n ('NLOOS', 'NLAMS'): 129,\n ('NLENK', 'NLAMS'): 129,\n ('NLHEJ', 'NLKRD'): 129,\n ('NLWKD', 'NLAMS'): 128,\n ('NLHEJ', 'NLAME'): 128,\n ('NLDST', 'NLNWG'): 128,\n ('NLLMR', 'NLMOE'): 128,\n ('NLKWR', 'NLRTM'): 127,\n ('NLMOE', 'NLRNK'): 127,\n ('NLKAM', 'NLIJM'): 125,\n ('NLGOE', 'NLBRS'): 125,\n ('NLBON', 'NLARK'): 125,\n ('NLSDB', 'NLMST'): 125,\n ('NLAMS', 'NLEEM'): 124,\n ('NLOSS', 'NLVEG'): 123,\n ('NLHEJ', 'NLHIL'): 123,\n ('NLWRV', 'NLZAA'): 123,\n ('NLVDM', 'NLHAR'): 123,\n ('NLRTM', 'NLDOI'): 123,\n ('NLLSH', 'NLBON'): 122,\n ('NLSTI', 'NLTNZ'): 122,\n ('NLAMS', 'NLDHR'): 122,\n ('NLRTM', 'NLWMO'): 121,\n ('NLELB', 'NLSWI'): 121,\n ('NLVEG', 'NLEPL'): 120,\n ('NLTNZ', 'NLHAN'): 119,\n ('NLBEM', 'NLTIE'): 118,\n ('NLRTM', 'NLBNB'): 117,\n ('NLAMS', 'NLEUR'): 117,\n ('NLLEY', 'NLGRQ'): 117,\n ('NLVLI', 'NLMST'): 117,\n ('NLLWR', 'NLWIW'): 117,\n ('NLRAS', 'NLRTM'): 116,\n ('NLBZM', 'NLBRS'): 116,\n ('NLBON', 'NLZOU'): 116,\n ('NLRTM', 'NLAAM'): 116,\n ('NLBNB', 'NLHGL'): 115,\n ('NLPER', 'NLMOE'): 115,\n ('NLHTB', 'NLABL'): 114,\n ('NLDHR', 'NLRTM'): 113,\n ('NLURK', 'NLAER'): 112,\n ('NLDOI', 'NLAMS'): 112,\n ('NLAMS', 'NLURK'): 112,\n ('NLEES', 'NLZWO'): 110,\n ('NLRTM', 'NLDEL'): 110,\n ('NLHRD', 'NLNKK'): 110,\n ('NLIJM', 'NLZWI'): 109,\n ('NLEEM', 'NLLMR'): 109,\n ('NLOME', 'NLAMS'): 109,\n ('NLRTM', 'NLHRD'): 109,\n ('NLDFT', 'NLALM'): 108,\n ('NLOSS', 'NLMOE'): 107,\n ('NLMOE', 'NLSLU'): 107,\n ('NLMLR', 'NLRTM'): 107,\n ('NLNIJ', 'NLPER'): 107,\n ('NLDST', 'NLAER'): 106,\n ('NLMOE', 'NLBON'): 106,\n ('NLLOM', 'NLRTM'): 106,\n ('NLHRW', 'NLAER'): 105,\n ('NLLEY', 'NLNKK'): 105,\n ('NLMST', 'NLAMS'): 105,\n ('NLSMO', 'NLZOT'): 104,\n ('NLZAA', 'NLZAD'): 104,\n ('NLAMS', 'NLWSP'): 103,\n ('NLDST', 'NLVAN'): 103,\n ('NLAMS', 'NLLOB'): 103,\n ('NLPER', 'NLMEP'): 103,\n ('NLTNZ', 'NLDOR'): 103,\n ('NLQCU', 'NLDST'): 103,\n ('NLKSL', 'NLLIN'): 103,\n ('NLBON', 'NLAME'): 102,\n ('NLVEG', 'NLDST'): 102,\n ('NLAKR', 'NLHAR'): 101,\n ('NLNIJ', 'NLVEN'): 101,\n ('NLDIN', 'NLRTM'): 100,\n ('NLOMD', 'NLSTI'): 100,\n ('NLAPN', 'NLKWZ'): 99,\n ('NLLOM', 'NLHEJ'): 99,\n ('NLDOR', 'NLVLA'): 99,\n ('NLAER', 'NLAER'): 98,\n ('NLVLI', 'NLMSL'): 98,\n ('NLRAS', 'NLHRW'): 98,\n ('NLIJM', 'NLTLB'): 98,\n ('NLRTM', 'NLGRO'): 96,\n ('NLAMS', 'NLVDM'): 96,\n ('NLLWR', 'NLPER'): 96,\n ('NLRTM', 'NLNGV'): 95,\n ('NLHEJ', 'NLAPN'): 95,\n ('NLWSM', 'NLVEN'): 95,\n ('NLTIE', 'NLDST'): 94,\n ('NLDIN', 'NLWED'): 94,\n ('NLMOE', 'NLETT'): 94,\n ('NLVLI', 'NLVLA'): 93,\n ('NLKWZ', 'NLKWZ'): 92,\n ('NLMSB', 'NLSTI'): 92,\n ('NLTIE', 'NLDIM'): 92,\n ('NLHTB', 'NLLOM'): 92,\n ('NLPER', 'NLVLI'): 92,\n ('NLBRD', 'NLBRS'): 92,\n ('NLLEY', 'NLHEG'): 92,\n ('NLEUR', 'NLWRV'): 92,\n ('NLKSL', 'NLOIH'): 92,\n ('NLMST', 'NLMSB'): 91,\n ('NLRTM', 'NLLAV'): 90,\n ('NLELB', 'NLKAM'): 90,\n ('NLHRW', 'NLTLB'): 90,\n ('NLSTD', 'NLRTM'): 89,\n ('NLSNK', 'NLRTM'): 88,\n ('NLFAR', 'NLFAR'): 87,\n ('NLHRW', 'NLAMS'): 87,\n ('NLNIJ', 'NLOMD'): 87,\n ('NLWIW', 'NLFRK'): 87,\n ('NLWSP', 'NLTIE'): 87,\n ('NLXXX', 'NLXXX'): 86,\n ('NLROO', 'NLSLU'): 86,\n ('NLIJM', 'NLHRN'): 86,\n ('NLEES', 'NLMEP'): 86,\n ('NLBRS', 'NLZUL'): 86,\n ('NLELB', 'NLDRO'): 86,\n ('NLVLI', 'NLHTB'): 85,\n ('NLSLU', 'NLOSS'): 85,\n ('NLPNN', 'NLRTM'): 85,\n ('NLLOM', 'NLAMS'): 85,\n ('NLSCI', 'NLAMS'): 85,\n ('NLMAA', 'NLOOS'): 85,\n ('NLBEM', 'NLOOS'): 85,\n ('NLHGL', 'NLWIS'): 83,\n ('NLGRQ', 'NLEEM'): 83,\n ('NLAMS', 'NLAPN'): 83,\n ('NLLSH', 'NLOMD'): 83,\n ('NLLEY', 'NLKWZ'): 82,\n ('NLAER', 'NLAAM'): 82,\n ('NLDRA', 'NLIJM'): 82,\n ('NLTIE', 'NLVLI'): 81,\n ('NLGRQ', 'NLDFT'): 81,\n ('NLLEY', 'NLVLL'): 81,\n ('NLLOM', 'NLLIT'): 81,\n ('NLSWI', 'NLHRD'): 81,\n ('NLLOM', 'NLVAN'): 80,\n ('NLLOM', 'NLKRD'): 80,\n ('NLSCH', 'NLLEY'): 80,\n ('NLMOE', 'NLDOR'): 80,\n ('NLMEP', 'NLMEP'): 79,\n ('NLVLI', 'NLSTD'): 79,\n ('NLDEV', 'NLALM'): 79,\n ('NLBNU', 'NLVEN'): 79,\n ('NLVEN', 'NLOMD'): 79,\n ('NLMEP', 'NLLEY'): 78,\n ('NLLMR', 'NLDRA'): 78,\n ('NLRTM', 'NLEIN'): 78,\n ('NLNKK', 'NLKAM'): 78,\n ('NLEEM', 'NLMOE'): 77,\n ('NLRTM', 'NLDRU'): 77,\n ('NLEEM', 'NLUTC'): 77,\n ('NLZWO', 'NLKAM'): 77,\n ('NLBON', 'NLDOR'): 77,\n ('NLVLI', 'NLABL'): 77,\n ('NLBON', 'NLARN'): 77,\n ('NLHAR', 'NLHRN'): 77,\n ('NLOOS', 'NLPER'): 76,\n ('NLARN', 'NLAMS'): 76,\n ('NLEUR', 'NLHAR'): 76,\n ('NLDZL', 'NLDZL'): 75,\n ('NLNIJ', 'NLNIJ'): 75,\n ('NLHAR', 'NLRTM'): 75,\n ('NLLEY', 'NLHAR'): 75,\n ('NLDHR', 'NLKAM'): 75,\n ('NLMEP', 'NLZWO'): 75,\n ('NLDEL', 'NLALM'): 75,\n ('NLAMS', 'NLHBG'): 74,\n ('NLDZL', 'NLBOT'): 74,\n ('NLWLK', 'NLDST'): 74,\n ('NLDIN', 'NLMST'): 74,\n ('NLKAM', 'NLKAM'): 73,\n ('NLBON', 'NLBZM'): 73,\n ('NLMAA', 'NLTLB'): 73,\n ('NLBON', 'NLDEV'): 73,\n ('NLELB', 'NLNKK'): 73,\n ('NLDIN', 'NLDFT'): 73,\n ('NLLMR', 'NLFAR'): 73,\n ('NLHRW', 'NLHEJ'): 72,\n ('NLSVG', 'NLVLI'): 72,\n ('NLIJM', 'NLTIE'): 72,\n ('NLBUD', 'NLAMS'): 72,\n ('NLZWI', 'NLZWO'): 71,\n ('NLBGU', 'NLIJM'): 71,\n ('NLAMS', 'NLDIN'): 71,\n ('NLAME', 'NLAMS'): 71,\n ('NLWLK', 'NLLOM'): 71,\n ('NLOOS', 'NLDST'): 71,\n ('NLLMR', 'NLDZL'): 71,\n ('NLCOE', 'NLDST'): 71,\n ('NLGOR', 'NLAMS'): 70,\n ('NLBRD', 'NLBEM'): 70,\n ('NLXXX', 'NLVLI'): 70,\n ('NLBEM', 'NLWSP'): 70,\n ('NLPER', 'NLAPN'): 70,\n ('NLAME', 'NLIJM'): 70,\n ('NLDHR', 'NLDHR'): 69,\n ('NLLOM', 'NLARK'): 69,\n ('NLUTC', 'NLDST'): 69,\n ('NLPER', 'NLTLB'): 69,\n ('NLUTC', 'NLDEV'): 68,\n ('NLMAA', 'NLUTC'): 68,\n ('NLDHR', 'NLWIW'): 68,\n ('NLSLU', 'NLVEG'): 67,\n ('NLMIH', 'NLBRS'): 67,\n ('NLDST', 'NLAPN'): 67,\n ('NLCUY', 'NLLOM'): 67,\n ('NLVEN', 'NLVLI'): 66,\n ('NLAMS', 'NLRHD'): 66,\n ('NLGRA', 'NLRTM'): 66,\n ('NLSLD', 'NLAMS'): 66,\n ('NLRTM', 'NLWIS'): 66,\n ('NLRTM', 'NLBRS'): 65,\n ('NLLOB', 'NLRTM'): 65,\n ('NLWLK', 'NLAMS'): 65,\n ('NLRTM', 'NLPER'): 65,\n ('NLAMS', 'NLAKL'): 65,\n ('NLVLL', 'NLKWZ'): 64,\n ('NLOSS', 'NLHEJ'): 64,\n ('NLEUR', 'NLWLK'): 64,\n ('NLKWZ', 'NLAMS'): 64,\n ('NLMEP', 'NLWTZ'): 64,\n ('NLARK', 'NLMAA'): 64,\n ('NLMID', 'NLBRS'): 63,\n ('NLTIE', 'NLDOR'): 63,\n ('NLDIN', 'NLASP'): 62,\n ('NLHEJ', 'NLETT'): 62,\n ('NLIJM', 'NLBRD'): 61,\n ('NLSJK', 'NLBIW'): 61,\n ('NLVLL', 'NLLWR'): 61,\n ('NLRTM', 'NLHRW'): 61,\n ('NLMOE', 'NLHRD'): 60,\n ('NLVEN', 'NLHAE'): 60,\n ('NLDRA', 'NLRTM'): 60,\n ('NLBOT', 'NLMOE'): 60,\n ('NLGRQ', 'NLOHI'): 60,\n ('NLLEY', 'NLLMR'): 60,\n ('NLIJM', 'NLWGW'): 60,\n ('NLGRO', 'NLDST'): 60,\n ('NLVLL', 'NLZOT'): 59,\n ('NLNIJ', 'NLMSB'): 59,\n ('NLEEM', 'NLZOU'): 58,\n ('NLZWO', 'NLIJM'): 58,\n ('NLWSP', 'NLURK'): 58,\n ('NLLAN', 'NLDZL'): 58,\n ('NLURK', 'NLLEY'): 58,\n ('NLVLI', 'NLSTI'): 58,\n ('NLRTM', 'NLOME'): 57,\n ('NLEES', 'NLRTM'): 57,\n ('NLAMS', 'NLWBR'): 57,\n ('NLBON', 'NLTIE'): 57,\n ('NLURK', 'NLZEW'): 57,\n ('NLDOE', 'NLNIJ'): 57,\n ('NLKAM', 'NLRID'): 56,\n ('NLOCC', 'NLRTM'): 56,\n ('NLMSB', 'NLMOE'): 56,\n ('NLAMS', 'NLBRD'): 56,\n ('NLENS', 'NLMOE'): 56,\n ('NLOVM', 'NLDRO'): 56,\n ('NLTIE', 'NLPER'): 56,\n ('NLENS', 'NLHGL'): 55,\n ('NLHRW', 'NLLOM'): 55,\n ('NLHRD', 'NLKAM'): 55,\n ('NLBEM', 'NLAAL'): 55,\n ('NLRTM', 'NLEUR'): 55,\n ('NLAMS', 'NLFRK'): 55,\n ('NLWLK', 'NLMAA'): 55,\n ('NLOME', 'NLIJM'): 54,\n ('NLDOR', 'NLIJM'): 54,\n ('NLUTC', 'NLOSS'): 54,\n ('NLWRT', 'NLRTM'): 54,\n ('NLENK', 'NLLEY'): 54,\n ('NLIJM', 'NLROZ'): 54,\n ('NLGOU', 'NLIJM'): 54,\n ('NLRTM', 'NLBOT'): 54,\n ('NLMOE', 'NLVLA'): 54,\n ('NLPHL', 'NLBON'): 53,\n ('NLGOU', 'NLVLI'): 53,\n ('NLMEP', 'NLIJM'): 53,\n ('NLROO', 'NLBRS'): 53,\n ('NLSCI', 'NLHLM'): 53,\n ('NLPER', 'NLGOR'): 53,\n ('NLAER', 'NLENK'): 53,\n ('NLETT', 'NLRTM'): 53,\n ('NLURK', 'NLGRQ'): 53,\n ('NLWGW', 'NLTIE'): 53,\n ('NLOSS', 'NLLOM'): 52,\n ('NLHAN', 'NLRTM'): 52,\n ('NLRTM', 'NLMID'): 52,\n ('NLOOS', 'NLIJM'): 52,\n ('NLHAN', 'NLDOR'): 52,\n ('NLTIE', 'NLOSS'): 52,\n ('NLIJM', 'NLAKL'): 52,\n ('NLZWI', 'NLMST'): 51,\n ('NLZOU', 'NLRTM'): 51,\n ('NLAMS', 'NLWPI'): 51,\n ('NLLRD', 'NLHRW'): 51,\n ('NLPER', 'NLDOE'): 51,\n ('NLOOS', 'NLTIE'): 51,\n ('NLVLI', 'NLBRS'): 50,\n ('NLBON', 'NLZWO'): 50,\n ('NLZWS', 'NLRTM'): 50,\n ('NLMEP', 'NLKAM'): 50,\n ('NLLOB', 'NLZLB'): 50,\n ('NLVLI', 'NLBRD'): 50,\n ('NLBRD', 'NLHRW'): 50,\n ('NLVLI', 'NLBOT'): 50,\n ('NLHRW', 'NLSJK'): 50,\n ('NLBRD', 'NLOOS'): 49,\n ('NLMID', 'NLVLI'): 49,\n ('NLBAA', 'NLHRD'): 49,\n ('NLHAS', 'NLZWS'): 49,\n ('NLGOU', 'NLMAA'): 48,\n ('NLHAR', 'NLDZL'): 48,\n ('NLWAS', 'NLABL'): 48,\n ('NLPER', 'NLWLK'): 48,\n ('NLALM', 'NLDOR'): 48,\n ('NLBON', 'NLZWI'): 48,\n ('NLAMS', 'NLHRN'): 48,\n ('NLBGU', 'NLDST'): 48,\n ('NLHEJ', 'NLNRW'): 48,\n ('NLDFT', 'NLAMS'): 48,\n ('NLZWS', 'NLZWS'): 47,\n ('NLBON', 'NLGOE'): 47,\n ('NLHAR', 'NLSLU'): 47,\n ('NLMSB', 'NLLIN'): 47,\n ('NLPAP', 'NLAMS'): 47,\n ('NLHFN', 'NLHRW'): 47,\n ('NLLEY', 'NLEEM'): 47,\n ('NLSCH', 'NLAMS'): 47,\n ('NLGOU', 'NLAMS'): 47,\n ('NLNIJ', 'NLHTB'): 47,\n ('NLSVG', 'NLRTM'): 47,\n ('NLZLB', 'NLDOR'): 47,\n ('NLBAA', 'NLKAM'): 47,\n ('NLWKD', 'NLRTM'): 47,\n ('NLUTC', 'NLDOR'): 47,\n ('NLWEU', 'NLMSB'): 47,\n ('NLHGL', 'NLUTC'): 46,\n ('NLLEY', 'NLHRN'): 46,\n ('NLAER', 'NLSCH'): 46,\n ('NLLSH', 'NLAMS'): 45,\n ('NLSCI', 'NLVEN'): 45,\n ('NLHTR', 'NLHTB'): 45,\n ('NLGRA', 'NLAMS'): 45,\n ('NLURK', 'NLUTC'): 45,\n ('NLTNZ', 'NLBOT'): 45,\n ('NLDRO', 'NLNKK'): 45,\n ('NLOMD', 'NLWEU'): 45,\n ('NLHAG', 'NLMAA'): 45,\n ('NLTNZ', 'NLSLU'): 45,\n ('NLOSS', 'NLIJM'): 44,\n ('NLGOU', 'NLMOE'): 44,\n ('NLSWI', 'NLUIT'): 44,\n ('NLAER', 'NLHAA'): 44,\n ('NLOOS', 'NLVLI'): 44,\n ('NLDHR', 'NLDTK'): 44,\n ('NLAMS', 'NLNGV'): 44,\n ('NLHEJ', 'NLMEP'): 44,\n ('NLBGB', 'NLAMS'): 44,\n ('NLAKL', 'NLSJK'): 44,\n ('NLGOU', 'NLDST'): 43,\n ('NLPLP', 'NLHAN'): 43,\n ('NLWIW', 'NLNKK'): 43,\n ('NLZOE', 'NLWSP'): 43,\n ('NLHAN', 'NLMOE'): 43,\n ('NLLIN', 'NLVEN'): 43,\n ('NLSWM', 'NLVEN'): 43,\n ('NLOMD', 'NLWSM'): 43,\n ('NLBIW', 'NLLOB'): 43,\n ('NLTNZ', 'NLYSK'): 43,\n ('NLKAI', 'NLUIT'): 43,\n ('NLAMS', 'NLLAV'): 43,\n ('NLSTD', 'NLBRS'): 42,\n ('NLVLI', 'NLEVG'): 42,\n ('NLVEG', 'NLMAA'): 42,\n ('NLBOT', 'NLGOU'): 42,\n ('NLZOU', 'NLDST'): 42,\n ('NLDEV', 'NLELL'): 42,\n ('NLBRD', 'NLMAA'): 42,\n ('NLHEJ', 'NLLSH'): 42,\n ('NLPAP', 'NLRTM'): 42,\n ('NLOBO', 'NLRTM'): 42,\n ('NLSTW', 'NLHAS'): 42,\n ('NLHGL', 'NLGOO'): 42,\n ('NLLEY', 'NLBAA'): 42,\n ('NLVLI', 'NLVEL'): 41,\n ('NLHEJ', 'NLOME'): 41,\n ('NLSTI', 'NLWIW'): 41,\n ('NLRTM', 'NLDST'): 41,\n ('NLKAM', 'NLDOR'): 41,\n ('NLSJK', 'NLAMS'): 41,\n ('NLMAA', 'NLKSL'): 41,\n ('NLVLI', 'NLTLB'): 41,\n ('NLHTR', 'NLDEV'): 41,\n ('NLLOM', 'NLTIE'): 41,\n ('NLPER', 'NLHGL'): 41,\n ('NLZWI', 'NLVLI'): 41,\n ('NLDOR', 'NLBOT'): 41,\n ('NLPER', 'NLVSN'): 41,\n ('NLHEJ', 'NLDFT'): 41,\n ('NLWDE', 'NLGOE'): 41,\n ('NLMOE', 'NLLEY'): 40,\n ('NLGOE', 'NLVLI'): 40,\n ('NLLCH', 'NLDEL'): 40,\n ('NLMAA', 'NLZOU'): 40,\n ('NLDST', 'NLLEY'): 40,\n ('NLVEG', 'NLLOM'): 40,\n ('NLKAM', 'NLBOT'): 40,\n ('NLVKR', 'NLRTM'): 40,\n ('NLOMD', 'NLDOR'): 40,\n ('NLWTE', 'NLVLL'): 40,\n ('NLUTC', 'NLZWO'): 40,\n ('NLZWI', 'NLLSH'): 40,\n ('NLHGL', 'NLRID'): 40,\n ('NLBON', 'NLAKR'): 39,\n ('NLPER', 'NLPER'): 39,\n ('NLZAA', 'NLZAA'): 39,\n ('NLDFT', 'NLDST'): 39,\n ('NLARN', 'NLHEJ'): 39,\n ('NLLOM', 'NLSTI'): 39,\n ('NLBZM', 'NLAMS'): 39,\n ('NLHAG', 'NLDST'): 39,\n ('NLIJM', 'NLOBO'): 39,\n ('NLOSS', 'NLSTI'): 39,\n ('NLUTC', 'NLBON'): 39,\n ('NLWED', 'NLDFT'): 39,\n ('NLENK', 'NLWSP'): 39,\n ('NLAMS', 'NLBGU'): 39,\n ('NLLEY', 'NLMAA'): 39,\n ('NLMOE', 'NLOMD'): 39,\n ('NLTEA', 'NLDST'): 39,\n ('NLQCU', 'NLAMS'): 39,\n ('NLGET', 'NLTIE'): 39,\n ('NLDOR', 'NLNIJ'): 39,\n ('NLLSH', 'NLGOR'): 38,\n ('NLLSH', 'NLRTM'): 38,\n ('NLFAR', 'NLWTZ'): 38,\n ('NLURK', 'NLKWZ'): 38,\n ('NLUTC', 'NLNWG'): 38,\n ('NLBZM', 'NLNIJ'): 38,\n ('NLGRQ', 'NLLMR'): 38,\n ('NLSTI', 'NLANL'): 38,\n ('NLMOE', 'NLSTI'): 38,\n ('NLSWI', 'NLRTM'): 38,\n ('NLPLP', 'NLMOE'): 38,\n ('NLHAR', 'NLDHR'): 38,\n ('NLBON', 'NLETT'): 38,\n ('NLLOM', 'NLLRD'): 38,\n ('NLHDL', 'NLLOM'): 38,\n ('NLBAA', 'NLELB'): 38,\n ('NLKLM', 'NLAMS'): 38,\n ('NLVLI', 'NLWED'): 38,\n ('NLANL', 'NLAMS'): 38,\n ('NLBON', 'NLENS'): 37,\n ('NLHGL', 'NLBZM'): 37,\n ('NLWKD', 'NLVLI'): 37,\n ('NLDIN', 'NLLWR'): 37,\n ('NLZWO', 'NLSWI'): 37,\n ('NLSJK', 'NLUTC'): 37,\n ('NLDEV', 'NLSJK'): 37,\n ('NLVAN', 'NLBON'): 37,\n ('NLDSG', 'NLWSP'): 37,\n ('NLSTI', 'NLDOR'): 37,\n ('NLDOR', 'NLHRW'): 37,\n ('NLRAA', 'NLAMS'): 37,\n ('NLELB', 'NLLEY'): 37,\n ('NLDST', 'NLTLB'): 37,\n ('NLGRQ', 'NLGRQ'): 36,\n ('NLWRT', 'NLAMS'): 36,\n ('NLELB', 'NLHRD'): 36,\n ('NLRTM', 'NLBGU'): 36,\n ('NLIJM', 'NLMSL'): 36,\n ('NLDON', 'NLMOE'): 36,\n ('NLMST', 'NLNER'): 36,\n ('NLVLL', 'NLFRK'): 36,\n ('NLLEY', 'NLIJM'): 36,\n ('NLOBO', 'NLBRS'): 36,\n ('NLVEG', 'NLMOE'): 36,\n ('NLGOU', 'NLAPN'): 36,\n ('NLHST', 'NLBON'): 36,\n ('NLCUY', 'NLAMS'): 36,\n ('NLAMS', 'NLWRG'): 36,\n ('NLSWI', 'NLZEW'): 36,\n ('NLAMS', 'NLROZ'): 36,\n ('NLGRO', 'NLKAM'): 35,\n ('NLSTI', 'NLHEG'): 35,\n ('NLSTI', 'NLUTC'): 35,\n ('NLUTC', 'NLDIN'): 35,\n ('NLVEN', 'NLGOU'): 35,\n ('NLAMS', 'NLSTW'): 35,\n ('NLOSS', 'NLNIJ'): 35,\n ('NLAPN', 'NLWIW'): 35,\n ('NLBON', 'NLGRO'): 35,\n ('NLWKD', 'NLGOR'): 35,\n ('NLWKD', 'NLLOM'): 35,\n ('NLROO', 'NLRTM'): 35,\n ('NLTLB', 'NLLTO'): 35,\n ('NLDFT', 'NLHRW'): 35,\n ('NLLOM', 'NLWBD'): 35,\n ('NLBLO', 'NLVEN'): 35,\n ('NLAER', 'NLLOM'): 35,\n ('NLHRW', 'NLUTC'): 35,\n ('NLMAA', 'NLZWI'): 34,\n ('NLKAI', 'NLAMS'): 34,\n ('NLHEJ', 'NLRSH'): 34,\n ('NLDRU', 'NLAMS'): 34,\n ('NLGNM', 'NLMEP'): 34,\n ('NLMOE', 'NLKMS'): 34,\n ('NLGOR', 'NLOBO'): 34,\n ('NLNWG', 'NLGOR'): 34,\n ('NLKAM', 'NLLEY'): 34,\n ('NLNIJ', 'NLARN'): 34,\n ('NLIJM', 'NLEIN'): 34,\n ('NLIJM', 'NLSTD'): 33,\n ('NLOSS', 'NLDOR'): 33,\n ('NLOCC', 'NLAMS'): 33,\n ('NLSWI', 'NLUTC'): 33,\n ('NLVLI', 'NLLEY'): 33,\n ('NLWMO', 'NLZAA'): 33,\n ('NLTIE', 'NLBRD'): 33,\n ('NLHAR', 'NLEEM'): 33,\n ('NLVAN', 'NLHTR'): 33,\n ('NLHTB', 'NLHEJ'): 33,\n ('NLMSB', 'NLOMD'): 33,\n ('NLSLU', 'NLDOR'): 33,\n ('NLKRU', 'NLHAN'): 33,\n ('NLZWS', 'NLLEY'): 33,\n ('NLBEM', 'NLUTC'): 33,\n ('NLDFT', 'NLLOM'): 33,\n ('NLHEE', 'NLVEN'): 33,\n ('NLMOE', 'NLOGP'): 33,\n ('NLGTB', 'NLVLI'): 33,\n ('NLSPG', 'NLMST'): 33,\n ('NLHLM', 'NLGOR'): 32,\n ('NLLWR', 'NLEEM'): 32,\n ('NLVEN', 'NLSTI'): 32,\n ('NLAMS', 'NLDSG'): 32,\n ('NLTLB', 'NLGOR'): 32,\n ('NLDIN', 'NLMOE'): 32,\n ('NLGOR', 'NLDOR'): 32,\n ('NLANL', 'NLRTM'): 32,\n ('NLLEY', 'NLOME'): 32,\n ('NLHTR', 'NLRTM'): 32,\n ('NLBOR', 'NLRTM'): 32,\n ('NLZWO', 'NLDOR'): 32,\n ('NLURK', 'NLNKK'): 32,\n ('NLVLI', 'NLEUR'): 32,\n ('NLDIN', 'NLLRD'): 32,\n ('NLRTM', 'NLWDP'): 32,\n ('NLAMS', 'NLWSM'): 32,\n ('NLLMR', 'NLSNK'): 32,\n ('NLDOR', 'NLDIN'): 32,\n ('NLWIW', 'NLSOP'): 32,\n ('NLZWB', 'NLHEJ'): 32,\n ('NLMOE', 'NLNIJ'): 32,\n ('NLWRV', 'NLAMS'): 32,\n ('NLHRW', 'NLWKD'): 32,\n ('NLHEJ', 'NLZAA'): 32,\n ('NLLCH', 'NLHGL'): 31,\n ('NLTLB', 'NLPHL'): 31,\n ('NLHAR', 'NLBZM'): 31,\n ('NLOSS', 'NLWKD'): 31,\n ('NLMAA', 'NLLSH'): 31,\n ('NLXXX', 'NLDEV'): 31,\n ('NLPER', 'NLBZM'): 31,\n ('NLSCI', 'NLDOI'): 31,\n ('NLUTC', 'NLGRQ'): 31,\n ('NLBON', 'NLQCU'): 31,\n ('NLURK', 'NLLWR'): 31,\n ('NLMST', 'NLLOM'): 31,\n ('NLLEY', 'NLSPL'): 31,\n ('NLEVG', 'NLTNZ'): 31,\n ('NLLEY', 'NLDRO'): 31,\n ('NLQCU', 'NLOCC'): 31,\n ('NLTNZ', 'NLIJM'): 31,\n ('NLMAA', 'NLZWB'): 31,\n ('NLALM', 'NLELL'): 31,\n ('NLTIE', 'NLOOY'): 31,\n ('NLBRD', 'NLCUY'): 31,\n ('NLVEG', 'NLDOR'): 30,\n ('NLSLU', 'NLBOT'): 30,\n ('NLMAA', 'NLSTI'): 30,\n ('NLLOM', 'NLZOU'): 30,\n ('NLLAV', 'NLSNK'): 30,\n ('NLWDE', 'NLBRD'): 30,\n ('NLZWS', 'NLKAM'): 30,\n ('NLTIE', 'NLHIL'): 30,\n ('NLVLI', 'NLDFT'): 30,\n ('NLAMS', 'NLHTR'): 30,\n ('NLZOT', 'NLLAN'): 30,\n ('NLVEN', 'NLAER'): 30,\n ('NLOUG', 'NLBRS'): 30,\n ('NLLMR', 'NLRTM'): 30,\n ('NLDEV', 'NLEFE'): 30,\n ('NLAME', 'NLKAM'): 30,\n ('NLLEY', 'NLZEW'): 30,\n ('NLGOO', 'NLIJM'): 29,\n ('NLZOU', 'NLAMS'): 29,\n ('NLTIE', 'NLMAA'): 29,\n ('NLBRD', 'NLHEJ'): 29,\n ('NLHRD', 'NLLOB'): 29,\n ('NLRLA', 'NLAMS'): 29,\n ('NLDST', 'NLHST'): 29,\n ('NLWBD', 'NLRTM'): 29,\n ('NLSVG', 'NLNIJ'): 29,\n ('NLBON', 'NLLEY'): 29,\n ('NLAER', 'NLHRN'): 29,\n ('NLWGW', 'NLUTC'): 29,\n ('NLDIN', 'NLVLI'): 29,\n ('NLLMR', 'NLWSP'): 29,\n ('NLNIJ', 'NLBOT'): 29,\n ('NLTLB', 'NLRAS'): 29,\n ('NLHTB', 'NLGOR'): 29,\n ('NLGOR', 'NLABL'): 29,\n ('NLMOE', 'NLZWO'): 29,\n ('NLHAR', 'NLLMR'): 29,\n ('NLSTI', 'NLCUY'): 29,\n ('NLAMS', 'NLSTH'): 29,\n ('NLMAA', 'NLVAN'): 29,\n ('NLELL', 'NLWGW'): 29,\n ('NLSTI', 'NLLCH'): 29,\n ('NLMAA', 'NLAER'): 29,\n ('NLAER', 'NLUTC'): 29,\n ('NLAMS', 'NLKTV'): 29,\n ('NLHRD', 'NLAER'): 29,\n ('NLLAN', 'NLLAN'): 28,\n ('NLWED', 'NLLWR'): 28,\n ('NLGTB', 'NLOMD'): 28,\n ('NLGNM', 'NLVDM'): 28,\n ('NLGNM', 'NLZWS'): 28,\n ('NLBEM', 'NLHAA'): 28,\n ('NLWDE', 'NLHAN'): 28,\n ('NLBON', 'NLOBO'): 28,\n ('NLLOM', 'NLTLB'): 28,\n ('NLVDM', 'NLDZL'): 28,\n ('NLWMO', 'NLVLA'): 28,\n ('NLTIE', 'NLZWI'): 28,\n ('NLIJM', 'NLBZM'): 28,\n ('NLVEN', 'NLDOR'): 28,\n ('NLHRW', 'NLDST'): 28,\n ('NLNIJ', 'NLALM'): 28,\n ('NLCUY', 'NLVEG'): 28,\n ('NLLZA', 'NLAMS'): 28,\n ('NLDOR', 'NLHEJ'): 28,\n ('NLDST', 'NLSJK'): 28,\n ('NLUTC', 'NLOMD'): 28,\n ('NLBOT', 'NLIJM'): 28,\n ('NLEVG', 'NLRTM'): 28,\n ('NLWAS', 'NLVEG'): 28,\n ('NLHRN', 'NLENK'): 28,\n ('NLHTR', 'NLHKF'): 28,\n ('NLOSS', 'NLRAS'): 28,\n ('NLVEN', 'NLSMB'): 28,\n ('NLHKK', 'NLOHI'): 28,\n ('NLLIN', 'NLKAM'): 27,\n ('NLHTR', 'NLDOR'): 27,\n ('NLRLA', 'NLMOE'): 27,\n ('NLHLM', 'NLEPL'): 27,\n ('NLVEG', 'NLGOR'): 27,\n ('NLWKD', 'NLHEJ'): 27,\n ('NLLEY', 'NLDZL'): 27,\n ('NLNWG', 'NLBON'): 27,\n ('NLMAA', 'NLETT'): 27,\n ('NLLEY', 'NLFRK'): 27,\n ('NLDOR', 'NLRAS'): 27,\n ('NLBRS', 'NLHDL'): 27,\n ('NLIJM', 'NLVSN'): 27,\n ('NLLEY', 'NLHRD'): 27,\n ('NLZWI', 'NLGOR'): 27,\n ('NLIJM', 'NLLWR'): 27,\n ('NLWIW', 'NLHAR'): 27,\n ('NLSCI', 'NLVLI'): 27,\n ('NLBRD', 'NLLOM'): 27,\n ('NLROZ', 'NLSTI'): 27,\n ('NLBON', 'NLZWB'): 27,\n ('NLOOS', 'NLGET'): 27,\n ('NLZWI', 'NLVLA'): 27,\n ('NLKRU', 'NLGOE'): 27,\n ('NLROZ', 'NLOSS'): 27,\n ('NLGOU', 'NLSTD'): 27,\n ('NLLOB', 'NLHRN'): 27,\n ('NLRTM', 'NLHGS'): 27,\n ('NLRTM', 'NLLAW'): 27,\n ('NLRTM', 'NLBEV'): 27,\n ('NLHAN', 'NLHAN'): 26,\n ('NLLRD', 'NLAMS'): 26,\n ('NLMAA', 'NLWSM'): 26,\n ('NLVLA', 'NLDZL'): 26,\n ('NLLOM', 'NLKAZ'): 26,\n ('NLSJK', 'NLAER'): 26,\n ('NLNGV', 'NLSNK'): 26,\n ('NLBON', 'NLGOR'): 26,\n ('NLHRD', 'NLWBR'): 26,\n ('NLHGL', 'NLDOR'): 26,\n ('NLDOR', 'NLMST'): 26,\n ('NLDEV', 'NLZWO'): 26,\n ('NLWKD', 'NLIJM'): 26,\n ('NLOCC', 'NLUTC'): 26,\n ('NLOSS', 'NLZWI'): 26,\n ('NLBON', 'NLPER'): 26,\n ('NLDOR', 'NLGTB'): 26,\n ('NLMOE', 'NLAME'): 26,\n ('NLOSS', 'NLHLM'): 26,\n ('NLKRU', 'NLTNZ'): 26,\n ('NLKAM', 'NLVLA'): 26,\n ('NLHAS', 'NLRTM'): 26,\n ('NLHRW', 'NLLTO'): 26,\n ('NLAMS', 'NLDRO'): 26,\n ('NLTNZ', 'NLVEG'): 26,\n ('NLTIE', 'NLHRW'): 26,\n ('NLLEY', 'NLDHR'): 26,\n ('NLENS', 'NLELL'): 26,\n ('NLLIN', 'NLAMS'): 26,\n ('NLOIH', 'NLZCH'): 26,\n ('NLQCU', 'NLLOM'): 26,\n ('NLVEG', 'NLMSB'): 25,\n ('NLSJK', 'NLZWO'): 25,\n ('NLOMD', 'NLVLI'): 25,\n ('NLHRV', 'NLRTM'): 25,\n ('NLVLI', 'NLEEM'): 25,\n ('NLHAS', 'NLEES'): 25,\n ('NLBRS', 'NLWLK'): 25,\n ('NLKAM', 'NLEEM'): 25,\n ('NLELL', 'NLWSP'): 25,\n ('NLMOE', 'NLSVG'): 25,\n ('NLLRD', 'NLDST'): 25,\n ('NLUTC', 'NLPER'): 25,\n ('NLKAM', 'NLMAA'): 25,\n ('NLOSS', 'NLSCI'): 25,\n ('NLPLP', 'NLBRS'): 25,\n ('NLKWZ', 'NLHAR'): 25,\n ('NLSCI', 'NLVEG'): 25,\n ('NLVLA', 'NLNIJ'): 25,\n ('NLSWI', 'NLLWR'): 25,\n ('NLELL', 'NLOOS'): 25,\n ('NLOSS', 'NLLTO'): 25,\n ('NLURK', 'NLSNK'): 25,\n ('NLLEY', 'NLDRA'): 25,\n ('NLKAM', 'NLZAA'): 25,\n ...}"
     },
     "execution_count": 15,
     "metadata": {},
     "output_type": "execute_result"
    }
   ],
   "source": [
    "trip_dict_main"
   ],
   "metadata": {
    "collapsed": false,
    "pycharm": {
     "name": "#%%\n"
    }
   }
  },
  {
   "cell_type": "code",
   "execution_count": 16,
   "outputs": [],
   "source": [
    "# make dataframe dict with a key for each column\n",
    "trip_dict_df_main = {'origin': [], 'destination': [], 'trip_count': []}\n",
    "for i in df_2021.SK_CODE.unique():\n",
    "    trip_dict_df_main[i] = []\n",
    "\n",
    "# now fill this dict\n",
    "for key, value in trip_dict_main.items():\n",
    "    # append values from dict a\n",
    "    trip_dict_df_main['origin'].append(key[0])\n",
    "    trip_dict_df_main['destination'].append(key[1])\n",
    "    trip_dict_df_main['trip_count'].append(value)\n",
    "    #now append values from other dict, for each ship type\n",
    "    for ship_type in df_2021.SK_CODE.unique():\n",
    "        #if ships have travelled from A to B, append this value\n",
    "        if (key[0], key[1], ship_type) in df_t_dict.keys():\n",
    "            trip_dict_df_main[ship_type].append(df_t_dict[(key[0], key[1], ship_type)])\n",
    "        elif (key[1], key[0], ship_type) in df_t_dict.keys():\n",
    "            trip_dict_df_main[ship_type].append(df_t_dict[(key[1], key[0], ship_type)])\n",
    "        else:\n",
    "            # no? Then no ships of this type have travelled this path, append 0\n",
    "            trip_dict_df_main[ship_type].append(0)"
   ],
   "metadata": {
    "collapsed": false,
    "pycharm": {
     "name": "#%%\n"
    }
   }
  },
  {
   "cell_type": "code",
   "execution_count": 17,
   "outputs": [],
   "source": [
    "df_main = pd.DataFrame.from_dict(trip_dict_df_main)"
   ],
   "metadata": {
    "collapsed": false,
    "pycharm": {
     "name": "#%%\n"
    }
   }
  },
  {
   "cell_type": "code",
   "execution_count": 18,
   "outputs": [
    {
     "data": {
      "text/plain": "      origin destination  trip_count   M12    M8  BII-6b  M10  BIIa-1    M9  \\\n0      NLRTM       NLAMS        9932  2076  3510       0  427     102  1316   \n1      NLRTM       NLMOE        2685    70  1584       0   56       2   144   \n2      NLRTM       NLVLI        2151   190   658       0  140      10   414   \n3      NLAMS       NLAER        2114     6   132       0    7       2     0   \n4      NLRTM       NLRTM        1794   363   715       0  164      15    92   \n...      ...         ...         ...   ...   ...     ...  ...     ...   ...   \n10456  NLHRN       NLTNZ           1     0     0       0    0       0     0   \n10457  NLHRV       NLALK           1     0     0       0    0       0     0   \n10458  NLHRV       NLELL           1     0     0       0    0       0     0   \n10459  NLHRV       NLHKE           1     0     0       0    0       0     0   \n10460  NLHRV       NLHRD           1     0     0       0    0       0     0   \n\n       BII-6l  ...  B03  C4  B04  C2l  BII-2L  B02  C1b  C2b  B01  C1l  \n0           0  ...   19   5    5    7      39    4    0    0    0    0  \n1           0  ...    0   2    0    0       1    0    0    0    0    0  \n2           0  ...    0   0    1    2       0    0    0    1    0    0  \n3           0  ...    3   0   37    1       0    3    0    1    1    0  \n4           1  ...    0   4    0    0       2    0    0    0    0    0  \n...       ...  ...  ...  ..  ...  ...     ...  ...  ...  ...  ...  ...  \n10456       0  ...    0   0    0    0       0    0    0    0    0    0  \n10457       0  ...    0   0    0    0       0    0    0    0    1    0  \n10458       0  ...    0   0    0    0       0    0    0    0    0    0  \n10459       0  ...    0   0    0    0       0    1    0    0    0    0  \n10460       0  ...    0   0    0    0       0    0    0    0    0    0  \n\n[10461 rows x 35 columns]",
      "text/html": "<div>\n<style scoped>\n    .dataframe tbody tr th:only-of-type {\n        vertical-align: middle;\n    }\n\n    .dataframe tbody tr th {\n        vertical-align: top;\n    }\n\n    .dataframe thead th {\n        text-align: right;\n    }\n</style>\n<table border=\"1\" class=\"dataframe\">\n  <thead>\n    <tr style=\"text-align: right;\">\n      <th></th>\n      <th>origin</th>\n      <th>destination</th>\n      <th>trip_count</th>\n      <th>M12</th>\n      <th>M8</th>\n      <th>BII-6b</th>\n      <th>M10</th>\n      <th>BIIa-1</th>\n      <th>M9</th>\n      <th>BII-6l</th>\n      <th>...</th>\n      <th>B03</th>\n      <th>C4</th>\n      <th>B04</th>\n      <th>C2l</th>\n      <th>BII-2L</th>\n      <th>B02</th>\n      <th>C1b</th>\n      <th>C2b</th>\n      <th>B01</th>\n      <th>C1l</th>\n    </tr>\n  </thead>\n  <tbody>\n    <tr>\n      <th>0</th>\n      <td>NLRTM</td>\n      <td>NLAMS</td>\n      <td>9932</td>\n      <td>2076</td>\n      <td>3510</td>\n      <td>0</td>\n      <td>427</td>\n      <td>102</td>\n      <td>1316</td>\n      <td>0</td>\n      <td>...</td>\n      <td>19</td>\n      <td>5</td>\n      <td>5</td>\n      <td>7</td>\n      <td>39</td>\n      <td>4</td>\n      <td>0</td>\n      <td>0</td>\n      <td>0</td>\n      <td>0</td>\n    </tr>\n    <tr>\n      <th>1</th>\n      <td>NLRTM</td>\n      <td>NLMOE</td>\n      <td>2685</td>\n      <td>70</td>\n      <td>1584</td>\n      <td>0</td>\n      <td>56</td>\n      <td>2</td>\n      <td>144</td>\n      <td>0</td>\n      <td>...</td>\n      <td>0</td>\n      <td>2</td>\n      <td>0</td>\n      <td>0</td>\n      <td>1</td>\n      <td>0</td>\n      <td>0</td>\n      <td>0</td>\n      <td>0</td>\n      <td>0</td>\n    </tr>\n    <tr>\n      <th>2</th>\n      <td>NLRTM</td>\n      <td>NLVLI</td>\n      <td>2151</td>\n      <td>190</td>\n      <td>658</td>\n      <td>0</td>\n      <td>140</td>\n      <td>10</td>\n      <td>414</td>\n      <td>0</td>\n      <td>...</td>\n      <td>0</td>\n      <td>0</td>\n      <td>1</td>\n      <td>2</td>\n      <td>0</td>\n      <td>0</td>\n      <td>0</td>\n      <td>1</td>\n      <td>0</td>\n      <td>0</td>\n    </tr>\n    <tr>\n      <th>3</th>\n      <td>NLAMS</td>\n      <td>NLAER</td>\n      <td>2114</td>\n      <td>6</td>\n      <td>132</td>\n      <td>0</td>\n      <td>7</td>\n      <td>2</td>\n      <td>0</td>\n      <td>0</td>\n      <td>...</td>\n      <td>3</td>\n      <td>0</td>\n      <td>37</td>\n      <td>1</td>\n      <td>0</td>\n      <td>3</td>\n      <td>0</td>\n      <td>1</td>\n      <td>1</td>\n      <td>0</td>\n    </tr>\n    <tr>\n      <th>4</th>\n      <td>NLRTM</td>\n      <td>NLRTM</td>\n      <td>1794</td>\n      <td>363</td>\n      <td>715</td>\n      <td>0</td>\n      <td>164</td>\n      <td>15</td>\n      <td>92</td>\n      <td>1</td>\n      <td>...</td>\n      <td>0</td>\n      <td>4</td>\n      <td>0</td>\n      <td>0</td>\n      <td>2</td>\n      <td>0</td>\n      <td>0</td>\n      <td>0</td>\n      <td>0</td>\n      <td>0</td>\n    </tr>\n    <tr>\n      <th>...</th>\n      <td>...</td>\n      <td>...</td>\n      <td>...</td>\n      <td>...</td>\n      <td>...</td>\n      <td>...</td>\n      <td>...</td>\n      <td>...</td>\n      <td>...</td>\n      <td>...</td>\n      <td>...</td>\n      <td>...</td>\n      <td>...</td>\n      <td>...</td>\n      <td>...</td>\n      <td>...</td>\n      <td>...</td>\n      <td>...</td>\n      <td>...</td>\n      <td>...</td>\n      <td>...</td>\n    </tr>\n    <tr>\n      <th>10456</th>\n      <td>NLHRN</td>\n      <td>NLTNZ</td>\n      <td>1</td>\n      <td>0</td>\n      <td>0</td>\n      <td>0</td>\n      <td>0</td>\n      <td>0</td>\n      <td>0</td>\n      <td>0</td>\n      <td>...</td>\n      <td>0</td>\n      <td>0</td>\n      <td>0</td>\n      <td>0</td>\n      <td>0</td>\n      <td>0</td>\n      <td>0</td>\n      <td>0</td>\n      <td>0</td>\n      <td>0</td>\n    </tr>\n    <tr>\n      <th>10457</th>\n      <td>NLHRV</td>\n      <td>NLALK</td>\n      <td>1</td>\n      <td>0</td>\n      <td>0</td>\n      <td>0</td>\n      <td>0</td>\n      <td>0</td>\n      <td>0</td>\n      <td>0</td>\n      <td>...</td>\n      <td>0</td>\n      <td>0</td>\n      <td>0</td>\n      <td>0</td>\n      <td>0</td>\n      <td>0</td>\n      <td>0</td>\n      <td>0</td>\n      <td>1</td>\n      <td>0</td>\n    </tr>\n    <tr>\n      <th>10458</th>\n      <td>NLHRV</td>\n      <td>NLELL</td>\n      <td>1</td>\n      <td>0</td>\n      <td>0</td>\n      <td>0</td>\n      <td>0</td>\n      <td>0</td>\n      <td>0</td>\n      <td>0</td>\n      <td>...</td>\n      <td>0</td>\n      <td>0</td>\n      <td>0</td>\n      <td>0</td>\n      <td>0</td>\n      <td>0</td>\n      <td>0</td>\n      <td>0</td>\n      <td>0</td>\n      <td>0</td>\n    </tr>\n    <tr>\n      <th>10459</th>\n      <td>NLHRV</td>\n      <td>NLHKE</td>\n      <td>1</td>\n      <td>0</td>\n      <td>0</td>\n      <td>0</td>\n      <td>0</td>\n      <td>0</td>\n      <td>0</td>\n      <td>0</td>\n      <td>...</td>\n      <td>0</td>\n      <td>0</td>\n      <td>0</td>\n      <td>0</td>\n      <td>0</td>\n      <td>1</td>\n      <td>0</td>\n      <td>0</td>\n      <td>0</td>\n      <td>0</td>\n    </tr>\n    <tr>\n      <th>10460</th>\n      <td>NLHRV</td>\n      <td>NLHRD</td>\n      <td>1</td>\n      <td>0</td>\n      <td>0</td>\n      <td>0</td>\n      <td>0</td>\n      <td>0</td>\n      <td>0</td>\n      <td>0</td>\n      <td>...</td>\n      <td>0</td>\n      <td>0</td>\n      <td>0</td>\n      <td>0</td>\n      <td>0</td>\n      <td>0</td>\n      <td>0</td>\n      <td>0</td>\n      <td>0</td>\n      <td>0</td>\n    </tr>\n  </tbody>\n</table>\n<p>10461 rows × 35 columns</p>\n</div>"
     },
     "execution_count": 18,
     "metadata": {},
     "output_type": "execute_result"
    }
   ],
   "source": [
    "df_main"
   ],
   "metadata": {
    "collapsed": false,
    "pycharm": {
     "name": "#%%\n"
    }
   }
  },
  {
   "cell_type": "code",
   "execution_count": 19,
   "outputs": [
    {
     "name": "stdout",
     "output_type": "stream",
     "text": [
      "10461 O-D pairs were initially found for a total of 180376 trips in 2021\n"
     ]
    }
   ],
   "source": [
    "print(len(df_main), \"O-D pairs were initially found for a total of\", sum(df_main.trip_count), \"trips in 2021\")"
   ],
   "metadata": {
    "collapsed": false,
    "pycharm": {
     "name": "#%%\n"
    }
   }
  },
  {
   "cell_type": "code",
   "execution_count": 20,
   "outputs": [
    {
     "name": "stdout",
     "output_type": "stream",
     "text": [
      "132 O-D pairs were removed because they were loops with same origin and dest\n"
     ]
    }
   ],
   "source": [
    "#remove entries with same origin and destination\n",
    "df_main_old = df_main.copy()\n",
    "df_main = df_main.loc[df_main.origin!=df_main.destination]\n",
    "print(len(df_main_old)-len(df_main), \"O-D pairs were removed because they were loops with same origin and dest\")"
   ],
   "metadata": {
    "collapsed": false,
    "pycharm": {
     "name": "#%%\n"
    }
   }
  },
  {
   "cell_type": "code",
   "execution_count": 21,
   "outputs": [
    {
     "name": "stdout",
     "output_type": "stream",
     "text": [
      "175351 trips are still left in the data set\n"
     ]
    }
   ],
   "source": [
    "print(sum(df_main.trip_count), \"trips are still left in the data set\")"
   ],
   "metadata": {
    "collapsed": false,
    "pycharm": {
     "name": "#%%\n"
    }
   }
  },
  {
   "cell_type": "code",
   "execution_count": 22,
   "outputs": [
    {
     "name": "stdout",
     "output_type": "stream",
     "text": [
      "5025 were thus self loops\n"
     ]
    }
   ],
   "source": [
    "print(180376-175351, \"were thus self loops\")"
   ],
   "metadata": {
    "collapsed": false,
    "pycharm": {
     "name": "#%%\n"
    }
   }
  },
  {
   "cell_type": "code",
   "execution_count": 23,
   "outputs": [
    {
     "data": {
      "text/plain": "      origin destination  trip_count   M12    M8  BII-6b  M10  BIIa-1    M9  \\\n0      NLRTM       NLAMS        9932  2076  3510       0  427     102  1316   \n1      NLRTM       NLMOE        2685    70  1584       0   56       2   144   \n2      NLRTM       NLVLI        2151   190   658       0  140      10   414   \n3      NLAMS       NLAER        2114     6   132       0    7       2     0   \n5      NLVEG       NLRTM        1467     0     1       0    0       0     0   \n...      ...         ...         ...   ...   ...     ...  ...     ...   ...   \n10456  NLHRN       NLTNZ           1     0     0       0    0       0     0   \n10457  NLHRV       NLALK           1     0     0       0    0       0     0   \n10458  NLHRV       NLELL           1     0     0       0    0       0     0   \n10459  NLHRV       NLHKE           1     0     0       0    0       0     0   \n10460  NLHRV       NLHRD           1     0     0       0    0       0     0   \n\n       BII-6l  ...  B03  C4  B04  C2l  BII-2L  B02  C1b  C2b  B01  C1l  \n0           0  ...   19   5    5    7      39    4    0    0    0    0  \n1           0  ...    0   2    0    0       1    0    0    0    0    0  \n2           0  ...    0   0    1    2       0    0    0    1    0    0  \n3           0  ...    3   0   37    1       0    3    0    1    1    0  \n5           0  ...   11   0    0    0       0    0    0    0    0    0  \n...       ...  ...  ...  ..  ...  ...     ...  ...  ...  ...  ...  ...  \n10456       0  ...    0   0    0    0       0    0    0    0    0    0  \n10457       0  ...    0   0    0    0       0    0    0    0    1    0  \n10458       0  ...    0   0    0    0       0    0    0    0    0    0  \n10459       0  ...    0   0    0    0       0    1    0    0    0    0  \n10460       0  ...    0   0    0    0       0    0    0    0    0    0  \n\n[10329 rows x 35 columns]",
      "text/html": "<div>\n<style scoped>\n    .dataframe tbody tr th:only-of-type {\n        vertical-align: middle;\n    }\n\n    .dataframe tbody tr th {\n        vertical-align: top;\n    }\n\n    .dataframe thead th {\n        text-align: right;\n    }\n</style>\n<table border=\"1\" class=\"dataframe\">\n  <thead>\n    <tr style=\"text-align: right;\">\n      <th></th>\n      <th>origin</th>\n      <th>destination</th>\n      <th>trip_count</th>\n      <th>M12</th>\n      <th>M8</th>\n      <th>BII-6b</th>\n      <th>M10</th>\n      <th>BIIa-1</th>\n      <th>M9</th>\n      <th>BII-6l</th>\n      <th>...</th>\n      <th>B03</th>\n      <th>C4</th>\n      <th>B04</th>\n      <th>C2l</th>\n      <th>BII-2L</th>\n      <th>B02</th>\n      <th>C1b</th>\n      <th>C2b</th>\n      <th>B01</th>\n      <th>C1l</th>\n    </tr>\n  </thead>\n  <tbody>\n    <tr>\n      <th>0</th>\n      <td>NLRTM</td>\n      <td>NLAMS</td>\n      <td>9932</td>\n      <td>2076</td>\n      <td>3510</td>\n      <td>0</td>\n      <td>427</td>\n      <td>102</td>\n      <td>1316</td>\n      <td>0</td>\n      <td>...</td>\n      <td>19</td>\n      <td>5</td>\n      <td>5</td>\n      <td>7</td>\n      <td>39</td>\n      <td>4</td>\n      <td>0</td>\n      <td>0</td>\n      <td>0</td>\n      <td>0</td>\n    </tr>\n    <tr>\n      <th>1</th>\n      <td>NLRTM</td>\n      <td>NLMOE</td>\n      <td>2685</td>\n      <td>70</td>\n      <td>1584</td>\n      <td>0</td>\n      <td>56</td>\n      <td>2</td>\n      <td>144</td>\n      <td>0</td>\n      <td>...</td>\n      <td>0</td>\n      <td>2</td>\n      <td>0</td>\n      <td>0</td>\n      <td>1</td>\n      <td>0</td>\n      <td>0</td>\n      <td>0</td>\n      <td>0</td>\n      <td>0</td>\n    </tr>\n    <tr>\n      <th>2</th>\n      <td>NLRTM</td>\n      <td>NLVLI</td>\n      <td>2151</td>\n      <td>190</td>\n      <td>658</td>\n      <td>0</td>\n      <td>140</td>\n      <td>10</td>\n      <td>414</td>\n      <td>0</td>\n      <td>...</td>\n      <td>0</td>\n      <td>0</td>\n      <td>1</td>\n      <td>2</td>\n      <td>0</td>\n      <td>0</td>\n      <td>0</td>\n      <td>1</td>\n      <td>0</td>\n      <td>0</td>\n    </tr>\n    <tr>\n      <th>3</th>\n      <td>NLAMS</td>\n      <td>NLAER</td>\n      <td>2114</td>\n      <td>6</td>\n      <td>132</td>\n      <td>0</td>\n      <td>7</td>\n      <td>2</td>\n      <td>0</td>\n      <td>0</td>\n      <td>...</td>\n      <td>3</td>\n      <td>0</td>\n      <td>37</td>\n      <td>1</td>\n      <td>0</td>\n      <td>3</td>\n      <td>0</td>\n      <td>1</td>\n      <td>1</td>\n      <td>0</td>\n    </tr>\n    <tr>\n      <th>5</th>\n      <td>NLVEG</td>\n      <td>NLRTM</td>\n      <td>1467</td>\n      <td>0</td>\n      <td>1</td>\n      <td>0</td>\n      <td>0</td>\n      <td>0</td>\n      <td>0</td>\n      <td>0</td>\n      <td>...</td>\n      <td>11</td>\n      <td>0</td>\n      <td>0</td>\n      <td>0</td>\n      <td>0</td>\n      <td>0</td>\n      <td>0</td>\n      <td>0</td>\n      <td>0</td>\n      <td>0</td>\n    </tr>\n    <tr>\n      <th>...</th>\n      <td>...</td>\n      <td>...</td>\n      <td>...</td>\n      <td>...</td>\n      <td>...</td>\n      <td>...</td>\n      <td>...</td>\n      <td>...</td>\n      <td>...</td>\n      <td>...</td>\n      <td>...</td>\n      <td>...</td>\n      <td>...</td>\n      <td>...</td>\n      <td>...</td>\n      <td>...</td>\n      <td>...</td>\n      <td>...</td>\n      <td>...</td>\n      <td>...</td>\n      <td>...</td>\n    </tr>\n    <tr>\n      <th>10456</th>\n      <td>NLHRN</td>\n      <td>NLTNZ</td>\n      <td>1</td>\n      <td>0</td>\n      <td>0</td>\n      <td>0</td>\n      <td>0</td>\n      <td>0</td>\n      <td>0</td>\n      <td>0</td>\n      <td>...</td>\n      <td>0</td>\n      <td>0</td>\n      <td>0</td>\n      <td>0</td>\n      <td>0</td>\n      <td>0</td>\n      <td>0</td>\n      <td>0</td>\n      <td>0</td>\n      <td>0</td>\n    </tr>\n    <tr>\n      <th>10457</th>\n      <td>NLHRV</td>\n      <td>NLALK</td>\n      <td>1</td>\n      <td>0</td>\n      <td>0</td>\n      <td>0</td>\n      <td>0</td>\n      <td>0</td>\n      <td>0</td>\n      <td>0</td>\n      <td>...</td>\n      <td>0</td>\n      <td>0</td>\n      <td>0</td>\n      <td>0</td>\n      <td>0</td>\n      <td>0</td>\n      <td>0</td>\n      <td>0</td>\n      <td>1</td>\n      <td>0</td>\n    </tr>\n    <tr>\n      <th>10458</th>\n      <td>NLHRV</td>\n      <td>NLELL</td>\n      <td>1</td>\n      <td>0</td>\n      <td>0</td>\n      <td>0</td>\n      <td>0</td>\n      <td>0</td>\n      <td>0</td>\n      <td>0</td>\n      <td>...</td>\n      <td>0</td>\n      <td>0</td>\n      <td>0</td>\n      <td>0</td>\n      <td>0</td>\n      <td>0</td>\n      <td>0</td>\n      <td>0</td>\n      <td>0</td>\n      <td>0</td>\n    </tr>\n    <tr>\n      <th>10459</th>\n      <td>NLHRV</td>\n      <td>NLHKE</td>\n      <td>1</td>\n      <td>0</td>\n      <td>0</td>\n      <td>0</td>\n      <td>0</td>\n      <td>0</td>\n      <td>0</td>\n      <td>0</td>\n      <td>...</td>\n      <td>0</td>\n      <td>0</td>\n      <td>0</td>\n      <td>0</td>\n      <td>0</td>\n      <td>1</td>\n      <td>0</td>\n      <td>0</td>\n      <td>0</td>\n      <td>0</td>\n    </tr>\n    <tr>\n      <th>10460</th>\n      <td>NLHRV</td>\n      <td>NLHRD</td>\n      <td>1</td>\n      <td>0</td>\n      <td>0</td>\n      <td>0</td>\n      <td>0</td>\n      <td>0</td>\n      <td>0</td>\n      <td>0</td>\n      <td>...</td>\n      <td>0</td>\n      <td>0</td>\n      <td>0</td>\n      <td>0</td>\n      <td>0</td>\n      <td>0</td>\n      <td>0</td>\n      <td>0</td>\n      <td>0</td>\n      <td>0</td>\n    </tr>\n  </tbody>\n</table>\n<p>10329 rows × 35 columns</p>\n</div>"
     },
     "execution_count": 23,
     "metadata": {},
     "output_type": "execute_result"
    }
   ],
   "source": [
    "df_main"
   ],
   "metadata": {
    "collapsed": false,
    "pycharm": {
     "name": "#%%\n"
    }
   }
  },
  {
   "cell_type": "code",
   "execution_count": 24,
   "outputs": [],
   "source": [
    "#save dataframe\n",
    "pickle.dump( df_main, open( \"data/df_trips_per_path.p\", \"wb\" ) )\n",
    "# df_main = pickle.load( open( \"data/df_trips_per_path.p\", \"rb\" ) )"
   ],
   "metadata": {
    "collapsed": false,
    "pycharm": {
     "name": "#%%\n"
    }
   }
  },
  {
   "cell_type": "code",
   "execution_count": 25,
   "outputs": [
    {
     "data": {
      "text/plain": "      origin destination  trip_count   M12    M8  BII-6b  M10  BIIa-1    M9  \\\n0      NLRTM       NLAMS        9932  2076  3510       0  427     102  1316   \n1      NLRTM       NLMOE        2685    70  1584       0   56       2   144   \n2      NLRTM       NLVLI        2151   190   658       0  140      10   414   \n3      NLAMS       NLAER        2114     6   132       0    7       2     0   \n5      NLVEG       NLRTM        1467     0     1       0    0       0     0   \n...      ...         ...         ...   ...   ...     ...  ...     ...   ...   \n10456  NLHRN       NLTNZ           1     0     0       0    0       0     0   \n10457  NLHRV       NLALK           1     0     0       0    0       0     0   \n10458  NLHRV       NLELL           1     0     0       0    0       0     0   \n10459  NLHRV       NLHKE           1     0     0       0    0       0     0   \n10460  NLHRV       NLHRD           1     0     0       0    0       0     0   \n\n       BII-6l  ...  B03  C4  B04  C2l  BII-2L  B02  C1b  C2b  B01  C1l  \n0           0  ...   19   5    5    7      39    4    0    0    0    0  \n1           0  ...    0   2    0    0       1    0    0    0    0    0  \n2           0  ...    0   0    1    2       0    0    0    1    0    0  \n3           0  ...    3   0   37    1       0    3    0    1    1    0  \n5           0  ...   11   0    0    0       0    0    0    0    0    0  \n...       ...  ...  ...  ..  ...  ...     ...  ...  ...  ...  ...  ...  \n10456       0  ...    0   0    0    0       0    0    0    0    0    0  \n10457       0  ...    0   0    0    0       0    0    0    0    1    0  \n10458       0  ...    0   0    0    0       0    0    0    0    0    0  \n10459       0  ...    0   0    0    0       0    1    0    0    0    0  \n10460       0  ...    0   0    0    0       0    0    0    0    0    0  \n\n[10329 rows x 35 columns]",
      "text/html": "<div>\n<style scoped>\n    .dataframe tbody tr th:only-of-type {\n        vertical-align: middle;\n    }\n\n    .dataframe tbody tr th {\n        vertical-align: top;\n    }\n\n    .dataframe thead th {\n        text-align: right;\n    }\n</style>\n<table border=\"1\" class=\"dataframe\">\n  <thead>\n    <tr style=\"text-align: right;\">\n      <th></th>\n      <th>origin</th>\n      <th>destination</th>\n      <th>trip_count</th>\n      <th>M12</th>\n      <th>M8</th>\n      <th>BII-6b</th>\n      <th>M10</th>\n      <th>BIIa-1</th>\n      <th>M9</th>\n      <th>BII-6l</th>\n      <th>...</th>\n      <th>B03</th>\n      <th>C4</th>\n      <th>B04</th>\n      <th>C2l</th>\n      <th>BII-2L</th>\n      <th>B02</th>\n      <th>C1b</th>\n      <th>C2b</th>\n      <th>B01</th>\n      <th>C1l</th>\n    </tr>\n  </thead>\n  <tbody>\n    <tr>\n      <th>0</th>\n      <td>NLRTM</td>\n      <td>NLAMS</td>\n      <td>9932</td>\n      <td>2076</td>\n      <td>3510</td>\n      <td>0</td>\n      <td>427</td>\n      <td>102</td>\n      <td>1316</td>\n      <td>0</td>\n      <td>...</td>\n      <td>19</td>\n      <td>5</td>\n      <td>5</td>\n      <td>7</td>\n      <td>39</td>\n      <td>4</td>\n      <td>0</td>\n      <td>0</td>\n      <td>0</td>\n      <td>0</td>\n    </tr>\n    <tr>\n      <th>1</th>\n      <td>NLRTM</td>\n      <td>NLMOE</td>\n      <td>2685</td>\n      <td>70</td>\n      <td>1584</td>\n      <td>0</td>\n      <td>56</td>\n      <td>2</td>\n      <td>144</td>\n      <td>0</td>\n      <td>...</td>\n      <td>0</td>\n      <td>2</td>\n      <td>0</td>\n      <td>0</td>\n      <td>1</td>\n      <td>0</td>\n      <td>0</td>\n      <td>0</td>\n      <td>0</td>\n      <td>0</td>\n    </tr>\n    <tr>\n      <th>2</th>\n      <td>NLRTM</td>\n      <td>NLVLI</td>\n      <td>2151</td>\n      <td>190</td>\n      <td>658</td>\n      <td>0</td>\n      <td>140</td>\n      <td>10</td>\n      <td>414</td>\n      <td>0</td>\n      <td>...</td>\n      <td>0</td>\n      <td>0</td>\n      <td>1</td>\n      <td>2</td>\n      <td>0</td>\n      <td>0</td>\n      <td>0</td>\n      <td>1</td>\n      <td>0</td>\n      <td>0</td>\n    </tr>\n    <tr>\n      <th>3</th>\n      <td>NLAMS</td>\n      <td>NLAER</td>\n      <td>2114</td>\n      <td>6</td>\n      <td>132</td>\n      <td>0</td>\n      <td>7</td>\n      <td>2</td>\n      <td>0</td>\n      <td>0</td>\n      <td>...</td>\n      <td>3</td>\n      <td>0</td>\n      <td>37</td>\n      <td>1</td>\n      <td>0</td>\n      <td>3</td>\n      <td>0</td>\n      <td>1</td>\n      <td>1</td>\n      <td>0</td>\n    </tr>\n    <tr>\n      <th>5</th>\n      <td>NLVEG</td>\n      <td>NLRTM</td>\n      <td>1467</td>\n      <td>0</td>\n      <td>1</td>\n      <td>0</td>\n      <td>0</td>\n      <td>0</td>\n      <td>0</td>\n      <td>0</td>\n      <td>...</td>\n      <td>11</td>\n      <td>0</td>\n      <td>0</td>\n      <td>0</td>\n      <td>0</td>\n      <td>0</td>\n      <td>0</td>\n      <td>0</td>\n      <td>0</td>\n      <td>0</td>\n    </tr>\n    <tr>\n      <th>...</th>\n      <td>...</td>\n      <td>...</td>\n      <td>...</td>\n      <td>...</td>\n      <td>...</td>\n      <td>...</td>\n      <td>...</td>\n      <td>...</td>\n      <td>...</td>\n      <td>...</td>\n      <td>...</td>\n      <td>...</td>\n      <td>...</td>\n      <td>...</td>\n      <td>...</td>\n      <td>...</td>\n      <td>...</td>\n      <td>...</td>\n      <td>...</td>\n      <td>...</td>\n      <td>...</td>\n    </tr>\n    <tr>\n      <th>10456</th>\n      <td>NLHRN</td>\n      <td>NLTNZ</td>\n      <td>1</td>\n      <td>0</td>\n      <td>0</td>\n      <td>0</td>\n      <td>0</td>\n      <td>0</td>\n      <td>0</td>\n      <td>0</td>\n      <td>...</td>\n      <td>0</td>\n      <td>0</td>\n      <td>0</td>\n      <td>0</td>\n      <td>0</td>\n      <td>0</td>\n      <td>0</td>\n      <td>0</td>\n      <td>0</td>\n      <td>0</td>\n    </tr>\n    <tr>\n      <th>10457</th>\n      <td>NLHRV</td>\n      <td>NLALK</td>\n      <td>1</td>\n      <td>0</td>\n      <td>0</td>\n      <td>0</td>\n      <td>0</td>\n      <td>0</td>\n      <td>0</td>\n      <td>0</td>\n      <td>...</td>\n      <td>0</td>\n      <td>0</td>\n      <td>0</td>\n      <td>0</td>\n      <td>0</td>\n      <td>0</td>\n      <td>0</td>\n      <td>0</td>\n      <td>1</td>\n      <td>0</td>\n    </tr>\n    <tr>\n      <th>10458</th>\n      <td>NLHRV</td>\n      <td>NLELL</td>\n      <td>1</td>\n      <td>0</td>\n      <td>0</td>\n      <td>0</td>\n      <td>0</td>\n      <td>0</td>\n      <td>0</td>\n      <td>0</td>\n      <td>...</td>\n      <td>0</td>\n      <td>0</td>\n      <td>0</td>\n      <td>0</td>\n      <td>0</td>\n      <td>0</td>\n      <td>0</td>\n      <td>0</td>\n      <td>0</td>\n      <td>0</td>\n    </tr>\n    <tr>\n      <th>10459</th>\n      <td>NLHRV</td>\n      <td>NLHKE</td>\n      <td>1</td>\n      <td>0</td>\n      <td>0</td>\n      <td>0</td>\n      <td>0</td>\n      <td>0</td>\n      <td>0</td>\n      <td>0</td>\n      <td>...</td>\n      <td>0</td>\n      <td>0</td>\n      <td>0</td>\n      <td>0</td>\n      <td>0</td>\n      <td>1</td>\n      <td>0</td>\n      <td>0</td>\n      <td>0</td>\n      <td>0</td>\n    </tr>\n    <tr>\n      <th>10460</th>\n      <td>NLHRV</td>\n      <td>NLHRD</td>\n      <td>1</td>\n      <td>0</td>\n      <td>0</td>\n      <td>0</td>\n      <td>0</td>\n      <td>0</td>\n      <td>0</td>\n      <td>0</td>\n      <td>...</td>\n      <td>0</td>\n      <td>0</td>\n      <td>0</td>\n      <td>0</td>\n      <td>0</td>\n      <td>0</td>\n      <td>0</td>\n      <td>0</td>\n      <td>0</td>\n      <td>0</td>\n    </tr>\n  </tbody>\n</table>\n<p>10329 rows × 35 columns</p>\n</div>"
     },
     "execution_count": 25,
     "metadata": {},
     "output_type": "execute_result"
    }
   ],
   "source": [
    "df_main"
   ],
   "metadata": {
    "collapsed": false,
    "pycharm": {
     "name": "#%%\n"
    }
   }
  },
  {
   "cell_type": "code",
   "execution_count": 26,
   "outputs": [
    {
     "name": "stdout",
     "output_type": "stream",
     "text": [
      "10329 OD-pairs are left for a total of 175351 trips in 2021\n"
     ]
    }
   ],
   "source": [
    "print(len(df_main), \"OD-pairs are left for a total of\", sum(df_main.trip_count), \"trips in 2021\")"
   ],
   "metadata": {
    "collapsed": false,
    "pycharm": {
     "name": "#%%\n"
    }
   }
  },
  {
   "cell_type": "markdown",
   "source": [
    "## Compute vessel sum per route and per hour (for ABM)\n",
    "Only for top 100 origin destination pairs"
   ],
   "metadata": {
    "collapsed": false,
    "pycharm": {
     "name": "#%% md\n"
    }
   }
  },
  {
   "cell_type": "code",
   "execution_count": 27,
   "outputs": [],
   "source": [
    "#generate hour\n",
    "df_2021['hour'] = df_2021.Date.apply(lambda x: int(x.split()[1][:2]))"
   ],
   "metadata": {
    "collapsed": false,
    "pycharm": {
     "name": "#%%\n"
    }
   }
  },
  {
   "cell_type": "code",
   "execution_count": 28,
   "outputs": [],
   "source": [
    "# now only sort by origin and destination\n",
    "all_trips_ranked = df_2021.groupby(by=['UNLO_herkomst', 'UNLO_bestemming', 'hour', 'SK_CODE']).count().reset_index().sort_values(\n",
    "    by='Jaarmaand', ascending=False).iloc[:, :5].reset_index(drop=True)\n",
    "\n",
    "#again, rename columns\n",
    "all_trips_ranked.rename(\n",
    "    columns={'UNLO_herkomst': 'origin', 'UNLO_bestemming': 'destination', 'SK_CODE': 'type', 'Unnamed: 0': 'trips'},\n",
    "    inplace=True)\n",
    "\n",
    "#remove non nl\n",
    "all_trips_ranked = all_trips_ranked.loc[\n",
    "    (all_trips_ranked.origin.str.contains('NL')) & (all_trips_ranked.destination.str.contains('NL'))]\n",
    "\n",
    "#reset index to be able to loop over all values later on\n",
    "all_trips_ranked.reset_index(inplace=True, drop=True)"
   ],
   "metadata": {
    "collapsed": false,
    "pycharm": {
     "name": "#%%\n"
    }
   }
  },
  {
   "cell_type": "code",
   "execution_count": 29,
   "outputs": [
    {
     "data": {
      "text/plain": "      origin destination  hour type  trips\n0      NLHAR       NLWTE     8  M12    100\n1      NLAPN       NLMOE     8   M8    100\n2      NLRTM       NLAMS     9   M8     98\n3      NLAMS       NLRTM    14   M8     98\n4      NLAMS       NLRTM    11   M8     95\n...      ...         ...   ...  ...    ...\n89453  NLAMS       NLTNZ     0   M6      1\n89454  NLAMS       NLTNZ     2  M12      1\n89455  NLAMS       NLTNZ     3   M9      1\n89456  NLAMS       NLTNZ     4   M6      1\n89457  NLAMS       NLTNZ     6   M9      1\n\n[89458 rows x 5 columns]",
      "text/html": "<div>\n<style scoped>\n    .dataframe tbody tr th:only-of-type {\n        vertical-align: middle;\n    }\n\n    .dataframe tbody tr th {\n        vertical-align: top;\n    }\n\n    .dataframe thead th {\n        text-align: right;\n    }\n</style>\n<table border=\"1\" class=\"dataframe\">\n  <thead>\n    <tr style=\"text-align: right;\">\n      <th></th>\n      <th>origin</th>\n      <th>destination</th>\n      <th>hour</th>\n      <th>type</th>\n      <th>trips</th>\n    </tr>\n  </thead>\n  <tbody>\n    <tr>\n      <th>0</th>\n      <td>NLHAR</td>\n      <td>NLWTE</td>\n      <td>8</td>\n      <td>M12</td>\n      <td>100</td>\n    </tr>\n    <tr>\n      <th>1</th>\n      <td>NLAPN</td>\n      <td>NLMOE</td>\n      <td>8</td>\n      <td>M8</td>\n      <td>100</td>\n    </tr>\n    <tr>\n      <th>2</th>\n      <td>NLRTM</td>\n      <td>NLAMS</td>\n      <td>9</td>\n      <td>M8</td>\n      <td>98</td>\n    </tr>\n    <tr>\n      <th>3</th>\n      <td>NLAMS</td>\n      <td>NLRTM</td>\n      <td>14</td>\n      <td>M8</td>\n      <td>98</td>\n    </tr>\n    <tr>\n      <th>4</th>\n      <td>NLAMS</td>\n      <td>NLRTM</td>\n      <td>11</td>\n      <td>M8</td>\n      <td>95</td>\n    </tr>\n    <tr>\n      <th>...</th>\n      <td>...</td>\n      <td>...</td>\n      <td>...</td>\n      <td>...</td>\n      <td>...</td>\n    </tr>\n    <tr>\n      <th>89453</th>\n      <td>NLAMS</td>\n      <td>NLTNZ</td>\n      <td>0</td>\n      <td>M6</td>\n      <td>1</td>\n    </tr>\n    <tr>\n      <th>89454</th>\n      <td>NLAMS</td>\n      <td>NLTNZ</td>\n      <td>2</td>\n      <td>M12</td>\n      <td>1</td>\n    </tr>\n    <tr>\n      <th>89455</th>\n      <td>NLAMS</td>\n      <td>NLTNZ</td>\n      <td>3</td>\n      <td>M9</td>\n      <td>1</td>\n    </tr>\n    <tr>\n      <th>89456</th>\n      <td>NLAMS</td>\n      <td>NLTNZ</td>\n      <td>4</td>\n      <td>M6</td>\n      <td>1</td>\n    </tr>\n    <tr>\n      <th>89457</th>\n      <td>NLAMS</td>\n      <td>NLTNZ</td>\n      <td>6</td>\n      <td>M9</td>\n      <td>1</td>\n    </tr>\n  </tbody>\n</table>\n<p>89458 rows × 5 columns</p>\n</div>"
     },
     "execution_count": 29,
     "metadata": {},
     "output_type": "execute_result"
    }
   ],
   "source": [
    "all_trips_ranked"
   ],
   "metadata": {
    "collapsed": false,
    "pycharm": {
     "name": "#%%\n"
    }
   }
  },
  {
   "cell_type": "code",
   "execution_count": 30,
   "outputs": [],
   "source": [
    "# make dict to store trips\n",
    "trip_dict_main = {}\n",
    "\n",
    "# now fill this dict, same procedure as above\n",
    "for i in range(len(all_trips_ranked)):\n",
    "    origin = all_trips_ranked['origin'][i]\n",
    "    destination = all_trips_ranked['destination'][i]\n",
    "    trip_count = all_trips_ranked['trips'][i]\n",
    "    hour = all_trips_ranked['hour'][i]\n",
    "    ship_type = all_trips_ranked['type'][i]\n",
    "\n",
    "    if (origin, destination, ship_type, hour) in trip_dict_main.keys():\n",
    "        trip_dict_main[(origin, destination, ship_type, hour)] += trip_count\n",
    "    elif (destination, origin, ship_type, hour) in trip_dict_main.keys():\n",
    "        trip_dict_main[(destination, origin, ship_type, hour)] += trip_count\n",
    "    else:\n",
    "        trip_dict_main[(origin, destination, ship_type, hour)] = trip_count\n",
    "# now sort values\n",
    "trip_dict_main = dict(sorted(trip_dict_main.items(), key=lambda item: item[1], reverse=True))\n",
    "\n"
   ],
   "metadata": {
    "collapsed": false,
    "pycharm": {
     "name": "#%%\n"
    }
   }
  },
  {
   "cell_type": "code",
   "execution_count": 31,
   "outputs": [
    {
     "data": {
      "text/plain": "{('NLAMS', 'NLRTM', 'M8', 12): 186,\n ('NLRTM', 'NLAMS', 'M8', 9): 181,\n ('NLAMS', 'NLRTM', 'M8', 19): 180,\n ('NLAMS', 'NLRTM', 'M8', 18): 175,\n ('NLAMS', 'NLRTM', 'M8', 17): 171,\n ('NLAMS', 'NLRTM', 'M8', 11): 170,\n ('NLAMS', 'NLRTM', 'M8', 16): 169,\n ('NLAMS', 'NLRTM', 'M8', 14): 165,\n ('NLRTM', 'NLAMS', 'M8', 15): 157,\n ('NLRTM', 'NLAMS', 'M8', 10): 153,\n ('NLAMS', 'NLRTM', 'M8', 22): 148,\n ('NLRTM', 'NLAMS', 'M8', 20): 147,\n ('NLRTM', 'NLAMS', 'M8', 8): 146,\n ('NLRTM', 'NLAMS', 'M8', 4): 144,\n ('NLRTM', 'NLAMS', 'M8', 6): 141,\n ('NLRTM', 'NLAMS', 'M8', 7): 136,\n ('NLRTM', 'NLAMS', 'M8', 21): 130,\n ('NLAMS', 'NLRTM', 'M8', 5): 129,\n ('NLAMS', 'NLRTM', 'M12', 18): 124,\n ('NLAMS', 'NLRTM', 'M8', 2): 122,\n ('NLAMS', 'NLRTM', 'M12', 19): 121,\n ('NLWTE', 'NLHAR', 'M12', 12): 119,\n ('NLAMS', 'NLRTM', 'M12', 14): 117,\n ('NLRTM', 'NLAMS', 'M8', 3): 117,\n ('NLAMS', 'NLRTM', 'M8', 13): 114,\n ('NLHAR', 'NLWTE', 'M12', 8): 111,\n ('NLAMS', 'NLRTM', 'M8', 1): 110,\n ('NLAMS', 'NLRTM', 'M8', 23): 110,\n ('NLAMS', 'NLRTM', 'M8', 0): 109,\n ('NLAMS', 'NLRTM', 'M12', 16): 108,\n ('NLAMS', 'NLRTM', 'M12', 15): 106,\n ('NLAPN', 'NLMOE', 'M8', 8): 104,\n ('NLAMS', 'NLRTM', 'M12', 11): 101,\n ('NLRTM', 'NLAMS', 'M12', 22): 98,\n ('NLRTM', 'NLAMS', 'M12', 21): 97,\n ('NLAMS', 'NLRTM', 'M12', 13): 96,\n ('NLRTM', 'NLAMS', 'M12', 23): 94,\n ('NLAMS', 'NLRTM', 'M12', 17): 91,\n ('NLRTM', 'NLAMS', 'M12', 0): 91,\n ('NLRTM', 'NLAMS', 'M12', 12): 91,\n ('NLAMS', 'NLRTM', 'M12', 9): 89,\n ('NLWTE', 'NLHAR', 'M12', 15): 88,\n ('NLHAR', 'NLWTE', 'M12', 13): 88,\n ('NLAMS', 'NLRTM', 'M12', 20): 88,\n ('NLRTM', 'NLMOE', 'M8', 16): 86,\n ('NLRTM', 'NLMOE', 'M8', 14): 86,\n ('NLRTM', 'NLMOE', 'M8', 15): 81,\n ('NLRTM', 'NLMOE', 'M8', 11): 81,\n ('NLAMS', 'NLHAS', 'M8', 4): 78,\n ('NLRTM', 'NLAMS', 'M12', 1): 78,\n ('NLRTM', 'NLMOE', 'M8', 18): 78,\n ('NLRTM', 'NLMOE', 'M8', 20): 77,\n ('NLRTM', 'NLMOE', 'M8', 21): 75,\n ('NLAMS', 'NLRTM', 'M12', 10): 75,\n ('NLRTM', 'NLMOE', 'M8', 12): 74,\n ('NLMOE', 'NLAPN', 'M8', 17): 72,\n ('NLAMS', 'NLRTM', 'M9', 4): 72,\n ('NLRTM', 'NLAMS', 'M6', 16): 72,\n ('NLAER', 'NLWSP', 'M6', 7): 72,\n ('NLRTM', 'NLMOE', 'M8', 19): 71,\n ('NLAMS', 'NLRTM', 'M9', 20): 71,\n ('NLAER', 'NLAMS', 'BI', 13): 70,\n ('NLAER', 'NLAMS', 'BI', 16): 70,\n ('NLAMS', 'NLRTM', 'M12', 8): 70,\n ('NLRTM', 'NLAMS', 'M12', 7): 70,\n ('NLTLB', 'NLZBG', 'M3', 7): 69,\n ('NLOOS', 'NLTLB', 'M8', 6): 69,\n ('NLRTM', 'NLMOE', 'M8', 9): 69,\n ('NLRTM', 'NLAMS', 'M9', 14): 68,\n ('NLRTM', 'NLWLK', 'M3', 16): 68,\n ('NLRTM', 'NLMOE', 'M8', 13): 67,\n ('NLRTM', 'NLMOE', 'M8', 17): 67,\n ('NLDRU', 'NLNIJ', 'M8', 10): 66,\n ('NLWLK', 'NLRTM', 'M3', 8): 65,\n ('NLRTM', 'NLMOE', 'M8', 8): 65,\n ('NLAMS', 'NLRTM', 'M9', 21): 65,\n ('NLMOE', 'NLRTM', 'M8', 22): 65,\n ('NLAMS', 'NLAER', 'BI', 17): 65,\n ('NLAER', 'NLAMS', 'BI', 15): 64,\n ('NLAPN', 'NLMOE', 'M8', 9): 63,\n ('NLAMS', 'NLRTM', 'M12', 5): 63,\n ('NLAMS', 'NLRTM', 'M9', 5): 62,\n ('NLMOE', 'NLRTM', 'M8', 10): 62,\n ('NLWTE', 'NLHAR', 'M12', 11): 61,\n ('NLMOE', 'NLRTM', 'M8', 7): 61,\n ('NLRTM', 'NLMEP', 'M8', 16): 60,\n ('NLAMS', 'NLAER', 'BI', 6): 60,\n ('NLOOS', 'NLRTM', 'M8', 20): 60,\n ('NLRTM', 'NLAMS', 'M6', 15): 60,\n ('NLRTM', 'NLAMS', 'M6', 17): 60,\n ('NLWTE', 'NLHAR', 'M12', 16): 59,\n ('NLWLK', 'NLRTM', 'M3', 18): 59,\n ('NLRTM', 'NLMOE', 'M8', 1): 59,\n ('NLAER', 'NLAMS', 'BI', 18): 59,\n ('NLRTM', 'NLAMS', 'M9', 6): 59,\n ('NLWLK', 'NLRTM', 'M3', 7): 58,\n ('NLAER', 'NLAMS', 'BI', 12): 58,\n ('NLRTM', 'NLMOE', 'M8', 2): 58,\n ('NLAMS', 'NLRTM', 'M9', 7): 58,\n ('NLRTM', 'NLAMS', 'M9', 16): 58,\n ('NLAER', 'NLLEY', 'M4', 7): 57,\n ('NLAMS', 'NLWMO', 'M2', 13): 57,\n ('NLRTM', 'NLMOE', 'M8', 6): 57,\n ('NLWMO', 'NLAMS', 'M2', 9): 57,\n ('NLAMS', 'NLRTM', 'M6', 12): 57,\n ('NLTLB', 'NLOOS', 'M8', 16): 56,\n ('NLAMS', 'NLKGZ', 'M2', 10): 56,\n ('NLRTM', 'NLAMS', 'M9', 10): 56,\n ('NLRTM', 'NLMOE', 'M8', 5): 56,\n ('NLAMS', 'NLRTM', 'M9', 18): 56,\n ('NLAMS', 'NLRTM', 'M6', 18): 56,\n ('NLAMS', 'NLRTM', 'M9', 17): 55,\n ('NLRTM', 'NLAMS', 'M12', 4): 55,\n ('NLAMS', 'NLRTM', 'M9', 1): 55,\n ('NLRTM', 'NLAMS', 'M9', 11): 55,\n ('NLUTC', 'NLRTM', 'BII-1', 18): 54,\n ('NLMOE', 'NLAPN', 'M8', 19): 54,\n ('NLAER', 'NLAMS', 'BI', 14): 54,\n ('NLAMS', 'NLRTM', 'M6', 14): 54,\n ('NLWLK', 'NLRTM', 'M3', 15): 54,\n ('NLWLK', 'NLRTM', 'M3', 14): 54,\n ('NLAMS', 'NLRTM', 'M6', 11): 54,\n ('NLAMS', 'NLRTM', 'M9', 13): 54,\n ('NLVEG', 'NLRTM', 'M7', 11): 53,\n ('NLRTM', 'NLAMS', 'M9', 8): 53,\n ('NLRTM', 'NLAMS', 'M9', 19): 53,\n ('NLAMS', 'NLLEY', 'M4', 10): 52,\n ('NLHGL', 'NLRTM', 'M8', 12): 52,\n ('NLRTM', 'NLAMS', 'M12', 2): 52,\n ('NLAMS', 'NLRTM', 'M9', 3): 52,\n ('NLRTM', 'NLAMS', 'M12', 3): 52,\n ('NLRTM', 'NLOOS', 'M8', 18): 52,\n ('NLHAR', 'NLWTE', 'M12', 7): 51,\n ('NLWLK', 'NLRTM', 'M3', 17): 51,\n ('NLOOS', 'NLTLB', 'M8', 7): 50,\n ('NLRTM', 'NLMOE', 'M8', 3): 50,\n ('NLOOS', 'NLRTM', 'M8', 19): 50,\n ('NLRTM', 'NLAMS', 'M11', 5): 50,\n ('NLNIJ', 'NLDRU', 'M8', 16): 49,\n ('NLWMO', 'NLAMS', 'M2', 8): 49,\n ('NLRTM', 'NLMEP', 'M8', 17): 49,\n ('NLHGL', 'NLRTM', 'M8', 17): 49,\n ('NLRTM', 'NLAMS', 'M12', 6): 49,\n ('NLVEG', 'NLRTM', 'M7', 12): 49,\n ('NLKGZ', 'NLAMS', 'M2', 9): 49,\n ('NLMOE', 'NLOOS', 'M8', 10): 48,\n ('NLTLB', 'NLRTM', 'M8', 18): 48,\n ('NLWLK', 'NLRTM', 'M3', 9): 48,\n ('NLRTM', 'NLHGL', 'M8', 8): 48,\n ('NLAMS', 'NLRTM', 'M6', 8): 48,\n ('NLRTM', 'NLMOE', 'M8', 0): 48,\n ('NLMEP', 'NLRTM', 'M8', 8): 47,\n ('NLAMS', 'NLLMR', 'BIIL-1', 10): 47,\n ('NLAMS', 'NLAER', 'BI', 7): 47,\n ('NLTLB', 'NLRTM', 'M8', 21): 47,\n ('NLHGL', 'NLRTM', 'M8', 11): 47,\n ('NLRTM', 'NLMOE', 'M8', 4): 47,\n ('NLAMS', 'NLRTM', 'M6', 9): 47,\n ('NLAMS', 'NLRTM', 'M9', 12): 47,\n ('NLAMS', 'NLRTM', 'M9', 23): 47,\n ('NLLEY', 'NLAMS', 'M4', 20): 46,\n ('NLTLB', 'NLRTM', 'M8', 17): 46,\n ('NLAMS', 'NLRTM', 'M9', 2): 46,\n ('NLRTM', 'NLVLI', 'M8', 14): 46,\n ('NLAMS', 'NLWMO', 'M2', 10): 46,\n ('NLAMS', 'NLRTM', 'M9', 15): 46,\n ('NLAMS', 'NLRTM', 'M6', 13): 46,\n ('NLMOE', 'NLAPN', 'M8', 18): 45,\n ('NLWSP', 'NLAER', 'M6', 15): 45,\n ('NLHGL', 'NLRTM', 'M8', 18): 45,\n ('NLRTM', 'NLAMS', 'M9', 0): 45,\n ('NLAMS', 'NLLMR', 'BIIL-1', 14): 45,\n ('NLRTM', 'NLRTM', 'M8', 18): 44,\n ('NLRTM', 'NLMOE', 'M8', 23): 44,\n ('NLOOS', 'NLMOE', 'M8', 17): 44,\n ('NLHGL', 'NLRTM', 'M8', 13): 44,\n ('NLAMS', 'NLRTM', 'M6', 10): 44,\n ('NLRTM', 'NLAMS', 'M6', 7): 44,\n ('NLRTM', 'NLAMS', 'M11', 4): 44,\n ('NLAMS', 'NLRTM', 'M11', 3): 44,\n ('NLRTM', 'NLUTC', 'BII-1', 11): 43,\n ('NLHRW', 'NLOSS', 'M2', 8): 43,\n ('NLTLB', 'NLMOE', 'M3', 8): 43,\n ('NLIJM', 'NLALK', 'M3', 5): 43,\n ('NLRTM', 'NLDZL', 'M8', 16): 43,\n ('NLVEG', 'NLRTM', 'M6', 10): 43,\n ('NLAMS', 'NLAER', 'BI', 10): 43,\n ('NLNKK', 'NLAMS', 'M2', 11): 43,\n ('NLAER', 'NLWSP', 'M6', 14): 43,\n ('NLRTM', 'NLOOS', 'M8', 21): 43,\n ('NLAMS', 'NLKGZ', 'M2', 12): 42,\n ('NLTLB', 'NLRTM', 'M8', 16): 42,\n ('NLNRW', 'NLBON', 'M2', 11): 42,\n ('NLAMS', 'NLAER', 'BI', 8): 42,\n ('NLRTM', 'NLWLK', 'M3', 13): 42,\n ('NLHAS', 'NLAMS', 'M8', 23): 42,\n ('NLRTM', 'NLAMS', 'M9', 22): 42,\n ('NLRTM', 'NLRTM', 'M8', 11): 41,\n ('NLRTM', 'NLRTM', 'M8', 15): 41,\n ('NLUTC', 'NLRTM', 'BII-1', 17): 41,\n ('NLAER', 'NLWSP', 'M6', 6): 41,\n ('NLMEP', 'NLRTM', 'M8', 10): 41,\n ('NLAMS', 'NLAER', 'BI', 5): 41,\n ('NLHAR', 'NLAMS', 'M10', 1): 41,\n ('NLHAS', 'NLAMS', 'M8', 0): 41,\n ('NLWLK', 'NLRTM', 'M3', 21): 41,\n ('NLRTM', 'NLOOS', 'M8', 17): 41,\n ('NLVEG', 'NLRTM', 'M7', 13): 41,\n ('NLAMS', 'NLRTM', 'M9', 9): 41,\n ('NLRTM', 'NLHGL', 'M8', 10): 41,\n ('NLRTM', 'NLRTM', 'M8', 10): 40,\n ('NLRTM', 'NLRTM', 'M8', 13): 40,\n ('NLRTM', 'NLUTC', 'BII-1', 10): 40,\n ('NLVEG', 'NLRTM', 'M7', 15): 40,\n ('NLAMS', 'NLWMO', 'M2', 14): 40,\n ('NLOOS', 'NLTLB', 'M8', 19): 40,\n ('NLTLB', 'NLOOS', 'M8', 17): 40,\n ('NLRTM', 'NLWLK', 'M3', 6): 40,\n ('NLAMS', 'NLLEY', 'M2', 11): 40,\n ('NLWMO', 'NLAMS', 'M2', 11): 40,\n ('NLRTM', 'NLMEP', 'M8', 7): 40,\n ('NLRTM', 'NLRTM', 'M8', 6): 39,\n ('NLRTM', 'NLWLK', 'M3', 0): 39,\n ('NLOOS', 'NLMOE', 'M8', 18): 39,\n ('NLVEG', 'NLRTM', 'M6', 11): 39,\n ('NLMEP', 'NLRTM', 'M8', 9): 39,\n ('NLAER', 'NLWSP', 'M6', 11): 39,\n ('NLVEG', 'NLRTM', 'M7', 16): 39,\n ('NLHGL', 'NLRTM', 'M8', 14): 39,\n ('NLMOE', 'NLAMS', 'M8', 16): 39,\n ('NLAMS', 'NLWMO', 'M2', 12): 39,\n ('NLWLK', 'NLRTM', 'M3', 20): 39,\n ('NLRTM', 'NLOOS', 'M8', 22): 39,\n ('NLWSP', 'NLAER', 'M6', 8): 39,\n ('NLAMS', 'NLLMR', 'BIIL-1', 13): 39,\n ('NLLMR', 'NLAMS', 'BIIL-1', 12): 39,\n ('NLTLB', 'NLMOE', 'M3', 7): 38,\n ('NLLEY', 'NLAER', 'M4', 15): 38,\n ('NLHRD', 'NLAMS', 'M6', 15): 38,\n ('NLAMS', 'NLHAS', 'M8', 5): 38,\n ('NLALK', 'NLIJM', 'M3', 12): 38,\n ('NLOOS', 'NLMOE', 'M8', 15): 38,\n ('NLAMS', 'NLKGZ', 'M2', 14): 38,\n ('NLTLB', 'NLRTM', 'M8', 19): 38,\n ('NLAMS', 'NLMOE', 'M8', 19): 38,\n ('NLRTM', 'NLVLI', 'M8', 13): 38,\n ('NLRTM', 'NLMEP', 'M8', 15): 38,\n ('NLRTM', 'NLAMS', 'M6', 19): 38,\n ('NLTLB', 'NLOOS', 'M8', 15): 38,\n ('NLRTM', 'NLOOS', 'M8', 16): 38,\n ('NLRTM', 'NLRTM', 'M8', 9): 37,\n ('NLHAR', 'NLWTE', 'M12', 9): 37,\n ('NLOOS', 'NLTLB', 'M8', 5): 37,\n ('NLMEP', 'NLRTM', 'M8', 11): 37,\n ('NLAMS', 'NLLMR', 'BIIL-1', 9): 37,\n ('NLWSP', 'NLAER', 'M6', 13): 37,\n ('NLWLK', 'NLRTM', 'M3', 19): 37,\n ('NLRTM', 'NLDZL', 'M8', 15): 37,\n ('NLVEG', 'NLRTM', 'M7', 14): 37,\n ('NLRTM', 'NLVLI', 'M8', 19): 37,\n ('NLWLK', 'NLRTM', 'M3', 10): 37,\n ('NLBZM', 'NLRTM', 'M6', 13): 37,\n ('NLRTM', 'NLHGL', 'M8', 9): 37,\n ('NLWIW', 'NLHRN', 'M5', 13): 37,\n ('NLVEG', 'NLRTM', 'M6', 18): 37,\n ('NLVEG', 'NLRTM', 'M7', 17): 37,\n ('NLRTM', 'NLAMS', 'M6', 6): 37,\n ('NLRTM', 'NLWRV', 'M6', 4): 36,\n ('NLAMS', 'NLEES', 'M4', 15): 36,\n ('NLMOE', 'NLTLB', 'M3', 16): 36,\n ('NLLEY', 'NLAER', 'M4', 14): 36,\n ('NLHTB', 'NLBZM', 'M8', 10): 36,\n ('NLTLB', 'NLRTM', 'M8', 20): 36,\n ('NLMOE', 'NLOOS', 'M8', 9): 36,\n ('NLRTM', 'NLOOS', 'M8', 15): 36,\n ('NLAER', 'NLAMS', 'BI', 11): 36,\n ('NLLMR', 'NLAMS', 'BIIL-1', 6): 36,\n ('NLHGL', 'NLRTM', 'M8', 16): 36,\n ('NLAER', 'NLAMS', 'M3', 15): 36,\n ('NLVLI', 'NLRTM', 'M8', 15): 36,\n ('NLKAM', 'NLRTM', 'M8', 8): 36,\n ('NLTLB', 'NLOOS', 'M8', 18): 36,\n ('NLRTM', 'NLRTM', 'M8', 8): 35,\n ('NLTLB', 'NLRTM', 'M8', 15): 35,\n ('NLHAR', 'NLAMS', 'M10', 23): 35,\n ('NLRTM', 'NLAMS', 'M11', 0): 35,\n ('NLRTM', 'NLVEG', 'M7', 19): 35,\n ('NLVEG', 'NLRTM', 'M6', 15): 35,\n ('NLRTM', 'NLVLI', 'M8', 20): 35,\n ('NLWLK', 'NLRTM', 'M3', 22): 35,\n ('NLTLB', 'NLRTM', 'M3', 14): 35,\n ('NLAMS', 'NLRTM', 'M6', 21): 35,\n ('NLRTM', 'NLTLB', 'M3', 7): 35,\n ('NLNKK', 'NLAMS', 'M2', 12): 35,\n ('NLRTM', 'NLOOS', 'M8', 10): 35,\n ('NLVLI', 'NLRTM', 'M9', 14): 35,\n ('NLHRD', 'NLAMS', 'M6', 16): 34,\n ('NLIJM', 'NLALK', 'M3', 4): 34,\n ('NLMOE', 'NLAPN', 'M8', 20): 34,\n ('NLVLI', 'NLTNZ', 'M8', 8): 34,\n ('NLKGZ', 'NLAMS', 'M2', 7): 34,\n ('NLMOE', 'NLOOS', 'M8', 8): 34,\n ('NLAMS', 'NLAER', 'BI', 9): 34,\n ('NLTLB', 'NLRTM', 'M8', 23): 34,\n ('NLVAN', 'NLAMS', 'M2', 10): 34,\n ('NLRTM', 'NLVLI', 'M8', 18): 34,\n ('NLAMS', 'NLNKK', 'M2', 10): 34,\n ('NLZWO', 'NLAMS', 'M8', 11): 34,\n ('NLKGZ', 'NLAMS', 'M2', 8): 34,\n ('NLRTM', 'NLVLI', 'M8', 10): 34,\n ('NLTLB', 'NLRTM', 'M8', 22): 34,\n ('NLRTM', 'NLAER', 'M8', 12): 34,\n ('NLVEG', 'NLRTM', 'M6', 12): 34,\n ('NLRTM', 'NLVLI', 'M8', 17): 34,\n ('NLWAS', 'NLNIJ', 'M8', 20): 34,\n ('NLAMS', 'NLKGZ', 'M2', 13): 34,\n ('NLVLI', 'NLRTM', 'M8', 12): 34,\n ('NLRTM', 'NLRTM', 'M8', 16): 33,\n ('NLHAR', 'NLWTE', 'M12', 14): 33,\n ('NLHRW', 'NLTEA', 'M3', 16): 33,\n ('NLEES', 'NLAMS', 'M4', 10): 33,\n ('NLTIE', 'NLAMS', 'M4', 11): 33,\n ('NLAPN', 'NLMOE', 'M8', 7): 33,\n ('NLELL', 'NLHBG', 'M2', 15): 33,\n ('NLAMS', 'NLDEV', 'M3', 15): 33,\n ('NLHTB', 'NLBZM', 'M8', 9): 33,\n ('NLNKK', 'NLAMS', 'M2', 14): 33,\n ('NLRTM', 'NLDZL', 'M8', 13): 33,\n ('NLAER', 'NLWSP', 'M6', 10): 33,\n ('NLHAR', 'NLAMS', 'M10', 2): 33,\n ('NLRTM', 'NLFAR', 'M8', 16): 33,\n ('NLVEG', 'NLRTM', 'M6', 20): 33,\n ('NLWBR', 'NLRTM', 'M8', 15): 33,\n ('NLVEG', 'NLRTM', 'M7', 10): 33,\n ('NLAMS', 'NLMOE', 'M8', 20): 33,\n ('NLRTM', 'NLAMS', 'M11', 14): 33,\n ('NLRTM', 'NLFAR', 'M8', 14): 33,\n ('NLRTM', 'NLRTM', 'M8', 12): 32,\n ('NLRTM', 'NLWLK', 'M3', 2): 32,\n ('NLRTM', 'NLMEP', 'M8', 6): 32,\n ('NLFAR', 'NLBOT', 'M8', 15): 32,\n ('NLWSP', 'NLAER', 'M6', 17): 32,\n ('NLNKK', 'NLAMS', 'M2', 13): 32,\n ('NLRTM', 'NLVEG', 'M6', 7): 32,\n ('NLNRW', 'NLBON', 'M2', 10): 32,\n ('NLRTM', 'NLFAR', 'M8', 15): 32,\n ('NLAMS', 'NLLMR', 'BIIL-1', 11): 32,\n ('NLAMS', 'NLMOE', 'M8', 14): 32,\n ('NLTLB', 'NLOOS', 'M8', 13): 32,\n ('NLTNZ', 'NLVLI', 'M8', 17): 32,\n ('NLRTM', 'NLLWR', 'M8', 9): 32,\n ('NLIJM', 'NLMOE', 'M6', 17): 32,\n ('NLMOE', 'NLAMS', 'M8', 7): 32,\n ('NLAMS', 'NLLEY', 'M2', 10): 32,\n ('NLHAS', 'NLAMS', 'M8', 1): 32,\n ('NLAMS', 'NLHAS', 'M8', 22): 32,\n ('NLKGZ', 'NLAMS', 'M2', 11): 32,\n ('NLAMS', 'NLLEY', 'M2', 9): 32,\n ('NLWSP', 'NLAER', 'M8', 9): 32,\n ('NLVLI', 'NLRTM', 'M9', 9): 32,\n ('NLDOR', 'NLRTM', 'M8', 17): 32,\n ('NLAMS', 'NLRTM', 'M11', 7): 32,\n ('NLLMR', 'NLAMS', 'BIIL-1', 4): 32,\n ('NLRTM', 'NLDOR', 'M8', 9): 32,\n ('NLLEY', 'NLAER', 'M4', 16): 31,\n ('NLAER', 'NLLEY', 'M4', 6): 31,\n ('NLMOE', 'NLRTM', 'C3b', 0): 31,\n ('NLNIJ', 'NLABL', 'M8', 8): 31,\n ('NLAER', 'NLRTM', 'M10', 8): 31,\n ('NLHGL', 'NLRTM', 'M8', 19): 31,\n ('NLOOS', 'NLMOE', 'M8', 7): 31,\n ('NLMOE', 'NLAMS', 'M8', 18): 31,\n ('NLRTM', 'NLAER', 'M8', 16): 31,\n ('NLRTM', 'NLOSS', 'M6', 17): 31,\n ('NLVEG', 'NLRTM', 'M6', 16): 31,\n ('NLHGL', 'NLRTM', 'M8', 15): 31,\n ('NLRTM', 'NLVEG', 'M6', 19): 31,\n ('NLAMS', 'NLHRD', 'M6', 4): 30,\n ('NLTLB', 'NLMOE', 'M3', 9): 30,\n ('NLHRW', 'NLOSS', 'M2', 9): 30,\n ('NLTLB', 'NLRTM', 'M8', 0): 30,\n ('NLWSP', 'NLAER', 'M6', 16): 30,\n ('NLOOS', 'NLMOE', 'M8', 19): 30,\n ('NLLMR', 'NLAMS', 'BIIL-1', 5): 30,\n ('NLRTM', 'NLVEG', 'M7', 7): 30,\n ('NLFOX', 'NLRTM', 'M8', 16): 30,\n ('NLRTM', 'NLAMS', 'M6', 20): 30,\n ('NLAMS', 'NLMOE', 'M8', 15): 30,\n ('NLDOR', 'NLRTM', 'M8', 14): 30,\n ('NLRTM', 'NLHGL', 'M8', 7): 30,\n ('NLWAS', 'NLNIJ', 'M8', 14): 30,\n ('NLWSP', 'NLAER', 'M6', 12): 30,\n ('NLAER', 'NLRTM', 'M6', 18): 30,\n ('NLWAS', 'NLNIJ', 'M8', 10): 30,\n ('NLAMS', 'NLLEY', 'M2', 15): 30,\n ('NLWAS', 'NLNIJ', 'M8', 21): 30,\n ('NLAMS', 'NLRTM', 'M11', 2): 30,\n ('NLRTM', 'NLVLI', 'M8', 9): 30,\n ('NLRTM', 'NLLWR', 'M8', 8): 30,\n ('NLALK', 'NLIJM', 'M3', 11): 29,\n ('NLWMO', 'NLAMS', 'M2', 7): 29,\n ('NLLWR', 'NLRTM', 'M8', 12): 29,\n ('NLLWR', 'NLRTM', 'M8', 10): 29,\n ('NLAMS', 'NLWMO', 'M2', 15): 29,\n ('NLRTM', 'NLBZM', 'M8', 15): 29,\n ('NLVLI', 'NLRTM', 'M9', 12): 29,\n ('NLRTM', 'NLAMS', 'M11', 8): 29,\n ('NLDOR', 'NLRTM', 'M8', 16): 29,\n ('NLMOE', 'NLIJM', 'M6', 14): 29,\n ('NLRTM', 'NLVLI', 'M8', 7): 29,\n ('NLAMS', 'NLAER', 'BI', 19): 29,\n ('NLRTM', 'NLAMS', 'M10', 15): 29,\n ('NLRTM', 'NLRTM', 'M8', 14): 28,\n ('NLRTM', 'NLRTM', 'M8', 7): 28,\n ('NLRTM', 'NLRTM', 'M8', 22): 28,\n ('NLOSS', 'NLHRW', 'M2', 15): 28,\n ('NLSWI', 'NLLEY', 'M3', 14): 28,\n ('NLAER', 'NLWSP', 'M6', 9): 28,\n ('NLHAR', 'NLAMS', 'M10', 0): 28,\n ('NLLMR', 'NLAMS', 'BIIL-1', 7): 28,\n ('NLAER', 'NLRTM', 'M6', 6): 28,\n ('NLBZM', 'NLRTM', 'M8', 18): 28,\n ('NLOOS', 'NLTLB', 'M8', 21): 28,\n ('NLAPN', 'NLMOE', 'M8', 10): 28,\n ('NLDRO', 'NLKAM', 'M4', 6): 28,\n ('NLBON', 'NLTLB', 'M2', 13): 28,\n ('NLAMS', 'NLAER', 'M3', 12): 28,\n ('NLDOR', 'NLRTM', 'M8', 11): 28,\n ('NLMOE', 'NLOOS', 'M8', 11): 28,\n ('NLNIJ', 'NLABL', 'M8', 9): 28,\n ('NLVEG', 'NLRTM', 'M6', 13): 28,\n ('NLAER', 'NLRTM', 'M8', 18): 28,\n ('NLTNZ', 'NLVLI', 'M8', 11): 28,\n ('NLTLB', 'NLOOS', 'M8', 14): 28,\n ('NLABL', 'NLNIJ', 'M8', 10): 28,\n ('NLRTM', 'NLBZM', 'M8', 16): 28,\n ('NLMOE', 'NLAMS', 'M8', 17): 28,\n ('NLWAS', 'NLNIJ', 'M8', 19): 28,\n ('NLRTM', 'NLTNZ', 'M8', 20): 28,\n ('NLNIJ', 'NLDRU', 'M8', 15): 27,\n ('NLTEA', 'NLHRW', 'M3', 21): 27,\n ('NLRTM', 'NLRTM', 'M8', 20): 27,\n ('NLAER', 'NLLEY', 'M4', 8): 27,\n ('NLDRU', 'NLNIJ', 'M8', 11): 27,\n ('NLELL', 'NLHBG', 'M2', 14): 27,\n ('NLRTM', 'NLAER', 'M6', 15): 27,\n ('NLRTM', 'NLWLK', 'M3', 1): 27,\n ('NLRTM', 'NLWLK', 'M3', 3): 27,\n ('NLFAR', 'NLBOT', 'M8', 14): 27,\n ('NLAER', 'NLRTM', 'M6', 8): 27,\n ('NLWIW', 'NLHRN', 'M5', 15): 27,\n ('NLMOE', 'NLAPN', 'M8', 13): 27,\n ('NLOOS', 'NLTLB', 'M8', 8): 27,\n ('NLIJM', 'NLMOE', 'M6', 16): 27,\n ('NLBZM', 'NLRTM', 'M6', 17): 27,\n ('NLWAS', 'NLNIJ', 'M8', 18): 27,\n ('NLHEJ', 'NLVEG', 'M3', 16): 27,\n ('NLLMR', 'NLAMS', 'BIIL-1', 19): 27,\n ('NLRTM', 'NLAER', 'M6', 17): 27,\n ('NLVEG', 'NLRTM', 'M6', 8): 27,\n ('NLAMS', 'NLLMR', 'BIIL-1', 15): 27,\n ('NLRTM', 'NLDZL', 'M8', 17): 27,\n ('NLLWR', 'NLRTM', 'M8', 11): 27,\n ('NLTLB', 'NLRTM', 'M3', 12): 27,\n ('NLZWO', 'NLAMS', 'M8', 12): 27,\n ('NLVLI', 'NLRTM', 'M8', 16): 27,\n ('NLRTM', 'NLAMS', 'M11', 19): 27,\n ('NLRTM', 'NLDZL', 'M8', 14): 27,\n ('NLZWO', 'NLRTM', 'M8', 17): 27,\n ('NLRTM', 'NLVLI', 'M6', 9): 27,\n ('NLVLI', 'NLTNZ', 'M8', 10): 27,\n ('NLRTM', 'NLVEG', 'M7', 18): 27,\n ('NLRTM', 'NLVEG', 'M6', 17): 27,\n ('NLRTM', 'NLGOR', 'M6', 13): 27,\n ('NLZWO', 'NLAMS', 'M8', 13): 27,\n ('NLLEY', 'NLAMS', 'M2', 13): 27,\n ('NLOOS', 'NLRTM', 'M8', 23): 27,\n ('NLAMS', 'NLRTM', 'M11', 11): 27,\n ('NLHTB', 'NLBZM', 'M8', 11): 27,\n ('NLAMS', 'NLRTM', 'M11', 10): 27,\n ('NLRTM', 'NLOSS', 'M6', 18): 27,\n ('NLRTM', 'NLVSN', 'M8', 4): 27,\n ('NLAMS', 'NLAER', 'M3', 14): 27,\n ('NLOOS', 'NLRTM', 'M8', 2): 27,\n ('NLWAS', 'NLNIJ', 'M8', 16): 27,\n ('NLRTM', 'NLWLK', 'M3', 4): 26,\n ('NLNER', 'NLVEN', 'M6', 8): 26,\n ('NLRTM', 'NLRTM', 'M8', 23): 26,\n ('NLNIJ', 'NLDRU', 'M6', 16): 26,\n ('NLAMS', 'NLLEY', 'M4', 11): 26,\n ('NLRTM', 'NLNIJ', 'M8', 19): 26,\n ('NLBZM', 'NLRTM', 'M6', 15): 26,\n ('NLNIJ', 'NLWAS', 'M8', 8): 26,\n ('NLMOE', 'NLRTM', 'C3b', 23): 26,\n ('NLAMS', 'NLRTM', 'M11', 9): 26,\n ('NLVEG', 'NLHEJ', 'M3', 7): 26,\n ('NLBZM', 'NLRTM', 'M8', 19): 26,\n ('NLWAS', 'NLNIJ', 'M8', 17): 26,\n ('NLVEG', 'NLHEJ', 'M3', 17): 26,\n ('NLRTM', 'NLOOS', 'M8', 12): 26,\n ('NLAMS', 'NLRTM', 'M11', 16): 26,\n ('NLAMS', 'NLAER', 'M2', 12): 26,\n ('NLMOE', 'NLOOS', 'M8', 13): 26,\n ('NLKAM', 'NLRTM', 'M8', 14): 26,\n ('NLOOS', 'NLTLB', 'M8', 11): 26,\n ('NLAMS', 'NLRTM', 'M11', 17): 26,\n ('NLHTB', 'NLBON', 'M2', 8): 26,\n ('NLRTM', 'NLOSS', 'M6', 14): 26,\n ('NLAER', 'NLAMS', 'M3', 11): 26,\n ('NLAMS', 'NLMOE', 'M8', 23): 26,\n ('NLBON', 'NLNRW', 'M2', 17): 26,\n ('NLOOS', 'NLTLB', 'M8', 12): 26,\n ('NLHTB', 'NLBON', 'M2', 7): 26,\n ('NLAMS', 'NLAER', 'M3', 7): 26,\n ('NLVEG', 'NLHEJ', 'M3', 18): 26,\n ('NLHAS', 'NLAMS', 'M8', 21): 26,\n ('NLTLB', 'NLRTM', 'M8', 1): 26,\n ('NLRTM', 'NLTIE', 'M8', 21): 26,\n ('NLGOR', 'NLRTM', 'M6', 14): 26,\n ('NLBZM', 'NLRTM', 'M8', 20): 26,\n ('NLRTM', 'NLTIE', 'M8', 20): 26,\n ('NLFAR', 'NLRTM', 'M8', 17): 26,\n ('NLAMS', 'NLNKK', 'M2', 9): 26,\n ('NLRTM', 'NLRTM', 'M8', 5): 25,\n ('NLHGL', 'NLWIS', 'M4', 4): 25,\n ('NLRTM', 'NLRTM', 'M8', 17): 25,\n ('NLBON', 'NLMST', 'M2', 6): 25,\n ('NLLEY', 'NLAMS', 'M4', 19): 25,\n ('NLLEY', 'NLSWI', 'M3', 10): 25,\n ('NLDRU', 'NLNIJ', 'M6', 10): 25,\n ('NLAER', 'NLWSP', 'M8', 8): 25,\n ('NLALK', 'NLIJM', 'M3', 14): 25,\n ('NLOOS', 'NLMOE', 'M8', 16): 25,\n ('NLMOE', 'NLOOS', 'M8', 22): 25,\n ('NLWIW', 'NLHRN', 'M5', 14): 25,\n ('NLHBG', 'NLELL', 'M2', 7): 25,\n ('NLVEN', 'NLNER', 'M8', 8): 25,\n ('NLTLB', 'NLRTM', 'M8', 13): 25,\n ('NLVEG', 'NLRTM', 'M6', 9): 25,\n ('NLRTM', 'NLTLB', 'M3', 6): 25,\n ('NLKGZ', 'NLAMS', 'M3', 8): 25,\n ('NLTLB', 'NLRTM', 'M3', 13): 25,\n ('NLRTM', 'NLOOS', 'M8', 3): 25,\n ('NLBZM', 'NLRTM', 'M6', 14): 25,\n ('NLAMS', 'NLRTM', 'M11', 13): 25,\n ('NLWBR', 'NLRTM', 'M8', 18): 25,\n ('NLRTM', 'NLAER', 'M8', 13): 25,\n ('NLAMS', 'NLRTM', 'M11', 15): 25,\n ('NLNRW', 'NLBON', 'M2', 12): 25,\n ('NLGOR', 'NLRTM', 'M6', 7): 25,\n ('NLTNZ', 'NLVLI', 'M8', 18): 25,\n ('NLHAS', 'NLAMS', 'M8', 3): 25,\n ('NLAMS', 'NLMOE', 'M8', 21): 25,\n ('NLAMS', 'NLAER', 'M3', 9): 25,\n ('NLRTM', 'NLTNZ', 'M8', 5): 25,\n ('NLWBR', 'NLRTM', 'M8', 19): 25,\n ('NLRTM', 'NLUTC', 'M8', 7): 25,\n ('NLAER', 'NLNIE', 'M8', 18): 25,\n ('NLVEG', 'NLRTM', 'M7', 9): 25,\n ('NLRTM', 'NLAPN', 'M8', 15): 25,\n ('NLMOE', 'NLRTM', 'C3b', 21): 25,\n ('NLRTM', 'NLAMS', 'M11', 20): 25,\n ('NLVLI', 'NLRTM', 'M8', 22): 25,\n ('NLRTM', 'NLMEP', 'M8', 18): 25,\n ('NLAMS', 'NLRTM', 'M10', 11): 25,\n ('NLWAS', 'NLNIJ', 'M8', 15): 25,\n ('NLAMS', 'NLMOE', 'M8', 10): 25,\n ('NLIJM', 'NLMOE', 'M6', 18): 25,\n ('NLHEJ', 'NLVEG', 'M3', 19): 25,\n ('NLTLB', 'NLRTM', 'M3', 19): 25,\n ('NLOSS', 'NLRTM', 'M6', 12): 25,\n ('NLRTM', 'NLDOR', 'M8', 12): 25,\n ('NLHEJ', 'NLDVT', 'M2', 12): 24,\n ('NLAMS', 'NLEES', 'M4', 16): 24,\n ('NLRTM', 'NLRTM', 'M8', 19): 24,\n ('NLRTM', 'NLRTM', 'M8', 4): 24,\n ('NLRTM', 'NLRTM', 'M12', 7): 24,\n ('NLHRW', 'NLTEA', 'M3', 17): 24,\n ('NLRTM', 'NLUTC', 'BII-1', 12): 24,\n ('NLRTM', 'NLMEP', 'M8', 5): 24,\n ('NLRTM', 'NLWLK', 'M3', 5): 24,\n ('NLVEG', 'NLHEJ', 'M3', 8): 24,\n ('NLMOE', 'NLOOS', 'M8', 0): 24,\n ('NLRTM', 'NLTNZ', 'M8', 12): 24,\n ('NLIJM', 'NLALK', 'M3', 8): 24,\n ('NLOOS', 'NLTLB', 'M8', 9): 24,\n ('NLAER', 'NLAMS', 'M2', 14): 24,\n ('NLRTM', 'NLOOS', 'M8', 13): 24,\n ('NLTLB', 'NLRTM', 'M3', 11): 24,\n ('NLAMS', 'NLRTM', 'M6', 22): 24,\n ('NLRTM', 'NLVLI', 'M8', 21): 24,\n ('NLRTM', 'NLVSN', 'M8', 5): 24,\n ('NLRTM', 'NLWBR', 'M8', 14): 24,\n ('NLHKK', 'NLHAR', 'M4', 12): 24,\n ('NLBON', 'NLHTB', 'M2', 12): 24,\n ('NLVEG', 'NLRTM', 'M6', 14): 24,\n ('NLRTM', 'NLNIJ', 'M8', 7): 24,\n ('NLAMS', 'NLMOE', 'M8', 22): 24,\n ('NLMEP', 'NLRTM', 'M8', 12): 24,\n ('NLKAM', 'NLRTM', 'M8', 3): 24,\n ('NLTIE', 'NLRTM', 'M8', 16): 24,\n ('NLAER', 'NLAMS', 'M2', 13): 24,\n ('NLHAR', 'NLWTE', 'M12', 10): 24,\n ('NLBZM', 'NLRTM', 'M6', 12): 24,\n ('NLMOE', 'NLOOS', 'M8', 12): 24,\n ('NLRTM', 'NLWLK', 'M3', 11): 24,\n ('NLHGL', 'NLRTM', 'M8', 20): 24,\n ('NLRTM', 'NLKAM', 'M8', 13): 24,\n ('NLTNZ', 'NLRTM', 'M8', 11): 24,\n ('NLAMS', 'NLLMR', 'BIIL-1', 20): 24,\n ('NLRTM', 'NLOOS', 'M8', 1): 24,\n ('NLWBR', 'NLRTM', 'M8', 20): 24,\n ('NLWLK', 'NLRTM', 'M3', 12): 24,\n ('NLAER', 'NLRTM', 'M6', 19): 24,\n ('NLRTM', 'NLVLI', 'M8', 11): 24,\n ('NLRTM', 'NLGOR', 'M6', 16): 24,\n ('NLMOE', 'NLAMS', 'M8', 3): 24,\n ('NLTIE', 'NLUTC', 'M8', 16): 24,\n ('NLRTM', 'NLTNZ', 'M8', 15): 24,\n ('NLALK', 'NLIJM', 'M3', 15): 24,\n ('NLVEG', 'NLRTM', 'M7', 8): 24,\n ('NLRTM', 'NLRTM', 'M8', 21): 23,\n ('NLRTM', 'NLRTM', 'M12', 13): 23,\n ('NLVEG', 'NLHRW', 'M2', 8): 23,\n ('NLZBG', 'NLTLB', 'M3', 14): 23,\n ('NLPER', 'NLAMS', 'M6', 15): 23,\n ('NLEES', 'NLAMS', 'M4', 9): 23,\n ('NLHEJ', 'NLDVT', 'M2', 11): 23,\n ('NLALK', 'NLIJM', 'M3', 10): 23,\n ('NLRTM', 'NLOOS', 'M8', 14): 23,\n ('NLMOE', 'NLOOS', 'M8', 23): 23,\n ('NLAMS', 'NLAER', 'M2', 10): 23,\n ('NLDRO', 'NLKAM', 'M4', 14): 23,\n ('NLRTM', 'NLHGL', 'M6', 7): 23,\n ('NLAMS', 'NLAER', 'M3', 13): 23,\n ('NLKGZ', 'NLAMS', 'M2', 6): 23,\n ('NLNRW', 'NLBON', 'M2', 15): 23,\n ('NLNIJ', 'NLABL', 'M8', 21): 23,\n ('NLBON', 'NLNRW', 'M2', 16): 23,\n ('NLNIJ', 'NLWAS', 'M8', 7): 23,\n ('NLKAM', 'NLAMS', 'M6', 14): 23,\n ('NLRTM', 'NLTNZ', 'M8', 13): 23,\n ('NLAMS', 'NLRTM', 'M10', 19): 23,\n ('NLHAS', 'NLAMS', 'M8', 2): 23,\n ('NLMOE', 'NLIJM', 'M6', 9): 23,\n ('NLRTM', 'NLTLB', 'M3', 5): 23,\n ('NLAPN', 'NLRTM', 'M8', 13): 23,\n ('NLDOR', 'NLRTM', 'M8', 18): 23,\n ('NLTLB', 'NLBON', 'M2', 9): 23,\n ('NLTNZ', 'NLVLI', 'M8', 12): 23,\n ('NLTIE', 'NLRTM', 'M8', 13): 23,\n ('NLIJM', 'NLMOE', 'M6', 13): 23,\n ('NLRTM', 'NLOSS', 'M6', 10): 23,\n ('NLRTM', 'NLGOR', 'M6', 11): 23,\n ('NLOSS', 'NLRTM', 'M6', 20): 23,\n ('NLAMS', 'NLAER', 'M3', 6): 23,\n ('NLIJM', 'NLMOE', 'M6', 15): 23,\n ('NLAMS', 'NLRTM', 'M10', 16): 23,\n ('NLLEY', 'NLAMS', 'M2', 14): 23,\n ('NLZWO', 'NLAMS', 'M8', 20): 23,\n ('NLTIE', 'NLRTM', 'M8', 22): 23,\n ('NLRTM', 'NLKAM', 'M8', 17): 23,\n ('NLOOS', 'NLMOE', 'M8', 14): 23,\n ('NLLMR', 'NLAMS', 'BIIL-1', 3): 23,\n ('NLNIJ', 'NLRTM', 'M8', 17): 23,\n ('NLRTM', 'NLTLB', 'M3', 9): 23,\n ('NLRTM', 'NLWBR', 'M8', 21): 23,\n ('NLELL', 'NLHBG', 'M2', 5): 23,\n ('NLTLB', 'NLRTM', 'M3', 17): 23,\n ('NLRTM', 'NLRTM', 'M12', 12): 22,\n ('NLEUR', 'NLWRV', 'M6', 5): 22,\n ('NLHRN', 'NLWIW', 'M5', 9): 22,\n ('NLEES', 'NLAMS', 'M4', 11): 22,\n ('NLLEY', 'NLAMS', 'M4', 21): 22,\n ('NLAER', 'NLAMS', 'M3', 16): 22,\n ('NLFOX', 'NLRTM', 'M8', 17): 22,\n ('NLIJM', 'NLALK', 'M3', 6): 22,\n ('NLAMS', 'NLHAR', 'M10', 6): 22,\n ('NLRTM', 'NLSLU', 'M8', 1): 22,\n ('NLHFN', 'NLHRW', 'M8', 15): 22,\n ('NLDVT', 'NLHEJ', 'M2', 15): 22,\n ('NLALK', 'NLIJM', 'M3', 13): 22,\n ('NLMST', 'NLBON', 'M2', 13): 22,\n ('NLLEY', 'NLAMS', 'M2', 7): 22,\n ('NLRTM', 'NLZWO', 'M8', 9): 22,\n ('NLAMS', 'NLKGZ', 'M2', 15): 22,\n ('NLAER', 'NLAMS', 'M3', 17): 22,\n ('NLRTM', 'NLAER', 'M8', 15): 22,\n ('NLNKK', 'NLAMS', 'M2', 15): 22,\n ('NLAMS', 'NLRTM', 'M10', 13): 22,\n ('NLRTM', 'NLTNZ', 'M8', 16): 22,\n ('NLMOE', 'NLAMS', 'M8', 8): 22,\n ('NLAER', 'NLSWI', 'M3', 8): 22,\n ('NLHGL', 'NLAMS', 'M7', 16): 22,\n ('NLTLB', 'NLMOE', 'M8', 17): 22,\n ('NLIJM', 'NLMOE', 'M8', 8): 22,\n ('NLAMS', 'NLVAN', 'M2', 11): 22,\n ('NLWSP', 'NLSWI', 'M6', 9): 22,\n ('NLAMS', 'NLRTM', 'M10', 18): 22,\n ('NLAMS', 'NLAER', 'M3', 8): 22,\n ('NLOOS', 'NLRTM', 'M8', 9): 22,\n ('NLMOE', 'NLRTM', 'M6', 12): 22,\n ('NLNIJ', 'NLWAS', 'M8', 9): 22,\n ('NLBON', 'NLTLB', 'M2', 14): 22,\n ('NLHAR', 'NLAMS', 'M10', 3): 22,\n ('NLWAS', 'NLNIJ', 'M8', 12): 22,\n ('NLRTM', 'NLVLI', 'M8', 3): 22,\n ('NLRTM', 'NLDZL', 'M8', 12): 22,\n ('NLKAM', 'NLRTM', 'M8', 16): 22,\n ('NLRTM', 'NLTIE', 'M8', 15): 22,\n ('NLRTM', 'NLTIE', 'M8', 18): 22,\n ('NLMOE', 'NLOOS', 'M8', 20): 22,\n ('NLMEP', 'NLRTM', 'M8', 13): 22,\n ('NLRTM', 'NLVEG', 'M6', 6): 22,\n ('NLAMS', 'NLAER', 'M3', 10): 22,\n ('NLTNZ', 'NLRTM', 'M8', 21): 22,\n ('NLWAS', 'NLNIJ', 'M8', 23): 22,\n ('NLRTM', 'NLBZM', 'M8', 7): 22,\n ('NLUTC', 'NLTIE', 'M8', 12): 22,\n ('NLLEY', 'NLAMS', 'M2', 12): 22,\n ('NLAMS', 'NLRTM', 'M11', 23): 22,\n ('NLRTM', 'NLBZM', 'M8', 17): 22,\n ('NLWBR', 'NLRTM', 'M8', 17): 22,\n ('NLRTM', 'NLTIE', 'M8', 7): 22,\n ('NLTIE', 'NLUTC', 'M8', 20): 22,\n ('NLVLI', 'NLRTM', 'M9', 0): 22,\n ('NLVLI', 'NLRTM', 'M8', 6): 22,\n ('NLRTM', 'NLWLK', 'M3', 23): 22,\n ('NLZWO', 'NLRTM', 'M8', 10): 22,\n ('NLDOR', 'NLRTM', 'M8', 7): 22,\n ('NLRTM', 'NLNIJ', 'M8', 12): 22,\n ('NLRTM', 'NLOSS', 'M6', 9): 22,\n ('NLBON', 'NLNRW', 'M2', 9): 22,\n ('NLBON', 'NLTLB', 'M2', 8): 22,\n ('NLRTM', 'NLAMS', 'M10', 20): 22,\n ('NLOOS', 'NLRTM', 'M8', 11): 22,\n ('NLRTM', 'NLTLB', 'M8', 14): 22,\n ('NLRTM', 'NLAMS', 'M11', 6): 22,\n ('NLDOR', 'NLRTM', 'M8', 15): 22,\n ('NLUTC', 'NLRTM', 'M8', 12): 22,\n ('NLOSS', 'NLHRW', 'M2', 16): 21,\n ('NLRTM', 'NLRTM', 'M8', 3): 21,\n ('NLAER', 'NLRTM', 'M8', 17): 21,\n ('NLLOM', 'NLHAG', 'M3', 7): 21,\n ('NLRTM', 'NLSLU', 'M8', 0): 21,\n ('NLMOE', 'NLSLU', 'M8', 20): 21,\n ('NLHBG', 'NLELL', 'M2', 6): 21,\n ('NLZWI', 'NLAMS', 'M6', 16): 21,\n ('NLHEJ', 'NLAMS', 'M2', 15): 21,\n ('NLNRW', 'NLBON', 'M2', 14): 21,\n ('NLZWO', 'NLAMS', 'M8', 19): 21,\n ('NLAMS', 'NLAER', 'BI', 4): 21,\n ('NLRTM', 'NLFAR', 'M8', 13): 21,\n ('NLAMS', 'NLDST', 'BIIa-1', 15): 21,\n ('NLFAR', 'NLBOT', 'M8', 16): 21,\n ('NLUTC', 'NLRTM', 'M8', 16): 21,\n ('NLAPN', 'NLRTM', 'M6', 17): 21,\n ('NLAMS', 'NLAER', 'M6', 8): 21,\n ('NLRTM', 'NLBZM', 'M6', 10): 21,\n ('NLRTM', 'NLARN', 'M8', 8): 21,\n ('NLGOR', 'NLRTM', 'M6', 6): 21,\n ('NLCUY', 'NLRTM', 'M8', 13): 21,\n ('NLKAM', 'NLAMS', 'M5', 18): 21,\n ('NLTNZ', 'NLVLI', 'M8', 14): 21,\n ('NLTNZ', 'NLVLI', 'M8', 13): 21,\n ('NLRTM', 'NLVLI', 'M8', 8): 21,\n ('NLAPN', 'NLRTM', 'M6', 15): 21,\n ('NLAMS', 'NLMOE', 'M8', 2): 21,\n ('NLRTM', 'NLWBR', 'M8', 9): 21,\n ('NLAMS', 'NLDEV', 'M4', 14): 21,\n ('NLMST', 'NLBON', 'M2', 12): 21,\n ('NLRTM', 'NLFAR', 'M8', 11): 21,\n ('NLGOR', 'NLRTM', 'M6', 10): 21,\n ('NLZAA', 'NLKGZ', 'BIIa-1', 14): 21,\n ('NLMOE', 'NLIJM', 'M6', 10): 21,\n ('NLTIE', 'NLRTM', 'M8', 14): 21,\n ('NLRTM', 'NLARN', 'M8', 12): 21,\n ('NLTIE', 'NLUTC', 'M8', 17): 21,\n ('NLSWI', 'NLAER', 'M3', 7): 21,\n ('NLRTM', 'NLAPN', 'M8', 9): 21,\n ('NLCUY', 'NLRTM', 'M8', 15): 21,\n ('NLNRW', 'NLBON', 'M2', 18): 21,\n ('NLVLI', 'NLRTM', 'M8', 5): 21,\n ('NLRTM', 'NLTLB', 'M3', 15): 21,\n ('NLTLB', 'NLBON', 'M2', 11): 21,\n ('NLRTM', 'NLTIE', 'M8', 8): 21,\n ('NLRTM', 'NLAPN', 'M8', 14): 21,\n ('NLELL', 'NLHBG', 'M2', 16): 21,\n ('NLRTM', 'NLDZL', 'M8', 18): 21,\n ('NLZWO', 'NLAMS', 'M8', 16): 21,\n ('NLRTM', 'NLDZL', 'M8', 19): 21,\n ('NLMOE', 'NLOOS', 'M8', 21): 21,\n ('NLRTM', 'NLVLI', 'M9', 8): 21,\n ('NLMOE', 'NLAMS', 'M8', 12): 21,\n ('NLOSS', 'NLRTM', 'M6', 13): 21,\n ('NLRTM', 'NLDOR', 'M8', 23): 21,\n ('NLRTM', 'NLUTC', 'M8', 1): 21,\n ('NLRTM', 'NLRTM', 'M12', 10): 20,\n ('NLVEN', 'NLNER', 'BII-1', 5): 20,\n ('NLRTM', 'NLRTM', 'M12', 14): 20,\n ('NLHGL', 'NLWIS', 'M3', 4): 20,\n ('NLRTM', 'NLRTM', 'M8', 1): 20,\n ('NLAAL', 'NLHEJ', 'M3', 14): 20,\n ('NLRTM', 'NLRTM', 'M12', 23): 20,\n ('NLAMS', 'NLHRD', 'M6', 5): 20,\n ('NLHEJ', 'NLAAL', 'M3', 20): 20,\n ('NLOSS', 'NLDST', 'M2', 11): 20,\n ('NLHEJ', 'NLKOR', 'M3', 19): 20,\n ('NLAMS', 'NLLMR', 'M10', 9): 20,\n ('NLWIW', 'NLHRN', 'M5', 16): 20,\n ('NLZMM', 'NLRTM', 'M4', 11): 20,\n ('NLAMS', 'NLZWO', 'M8', 4): 20,\n ('NLAER', 'NLAMS', 'BI', 20): 20,\n ('NLVEG', 'NLAMS', 'M2', 10): 20,\n ('NLWAS', 'NLNIJ', 'M8', 13): 20,\n ('NLZWO', 'NLRTM', 'M8', 18): 20,\n ('NLRTM', 'NLTLB', 'M3', 21): 20,\n ('NLKAM', 'NLRTM', 'M9', 7): 20,\n ('NLRTM', 'NLMOE', 'C3b', 17): 20,\n ('NLAMS', 'NLHEJ', 'M2', 18): 20,\n ('NLRTM', 'NLZWO', 'M8', 5): 20,\n ('NLOOS', 'NLTLB', 'M8', 10): 20,\n ('NLAMS', 'NLLEY', 'M4', 17): 20,\n ('NLSWI', 'NLWSP', 'M6', 17): 20,\n ('NLZWO', 'NLAMS', 'M2', 13): 20,\n ('NLRTM', 'NLNIJ', 'M8', 13): 20,\n ('NLRTM', 'NLVLI', 'M8', 0): 20,\n ('NLRTM', 'NLSTI', 'M8', 16): 20,\n ('NLTNZ', 'NLRTM', 'M8', 10): 20,\n ('NLRTM', 'NLTLB', 'M2', 18): 20,\n ('NLHRW', 'NLOSS', 'M2', 11): 20,\n ('NLTLB', 'NLBON', 'M2', 10): 20,\n ('NLRTM', 'NLAMS', 'M11', 1): 20,\n ('NLOOS', 'NLTLB', 'M8', 20): 20,\n ('NLRTM', 'NLZWO', 'M8', 11): 20,\n ('NLRTM', 'NLAMS', 'M10', 12): 20,\n ('NLLSH', 'NLOMD', 'M2', 15): 20,\n ('NLRTM', 'NLHGL', 'M6', 10): 20,\n ('NLABL', 'NLNIJ', 'M8', 17): 20,\n ('NLRTM', 'NLDOE', 'M8', 9): 20,\n ('NLNIJ', 'NLABL', 'M8', 22): 20,\n ('NLAMS', 'NLHLM', 'M2', 9): 20,\n ('NLOMD', 'NLWAS', 'M8', 18): 20,\n ('NLVLI', 'NLRTM', 'M9', 13): 20,\n ('NLRTM', 'NLGOR', 'M6', 15): 20,\n ('NLMOE', 'NLRTM', 'C3b', 22): 20,\n ('NLRTM', 'NLARN', 'M8', 14): 20,\n ('NLRTM', 'NLOOS', 'M8', 4): 20,\n ('NLKAM', 'NLRTM', 'M8', 6): 20,\n ('NLAER', 'NLRTM', 'M6', 16): 20,\n ('NLRTM', 'NLAMS', 'M10', 17): 20,\n ('NLRTM', 'NLUTC', 'M8', 17): 20,\n ('NLAER', 'NLNIE', 'M6', 19): 20,\n ('NLKGZ', 'NLAMS', 'M3', 11): 20,\n ('NLGOR', 'NLRTM', 'M12', 18): 20,\n ('NLKGZ', 'NLZAA', 'BIIa-1', 11): 20,\n ('NLNIJ', 'NLRTM', 'M8', 18): 20,\n ('NLAMS', 'NLAER', 'M2', 11): 20,\n ('NLRTM', 'NLSTI', 'M8', 15): 20,\n ('NLRTM', 'NLAPN', 'M6', 13): 20,\n ('NLRTM', 'NLAMS', 'M10', 21): 20,\n ('NLRTM', 'NLTIE', 'M8', 12): 20,\n ('NLDOR', 'NLRTM', 'M8', 13): 20,\n ('NLRTM', 'NLOOS', 'M8', 0): 20,\n ('NLRTM', 'NLKAM', 'M8', 4): 20,\n ('NLHTB', 'NLBON', 'M2', 10): 20,\n ('NLDFT', 'NLBON', 'M3', 10): 20,\n ('NLUTC', 'NLTIE', 'M8', 15): 20,\n ('NLBON', 'NLEIN', 'M2', 12): 20,\n ('NLVLI', 'NLTNZ', 'M8', 16): 20,\n ('NLAER', 'NLWSP', 'M8', 10): 20,\n ('NLUTC', 'NLTIE', 'M8', 19): 20,\n ('NLUTC', 'NLRTM', 'M8', 20): 20,\n ('NLHAR', 'NLAMS', 'M10', 4): 20,\n ('NLNKK', 'NLAMS', 'M2', 8): 20,\n ('NLRTM', 'NLTNZ', 'M8', 3): 20,\n ('NLRTM', 'NLVLI', 'M9', 7): 20,\n ('NLMOE', 'NLTLB', 'M8', 13): 20,\n ('NLRTM', 'NLRTM', 'M12', 1): 19,\n ('NLDVT', 'NLHEJ', 'M2', 18): 19,\n ('NLRTM', 'NLRTM', 'M6', 14): 19,\n ('NLHRN', 'NLWIW', 'M5', 8): 19,\n ('NLHTB', 'NLBZM', 'M8', 3): 19,\n ('NLAER', 'NLNIE', 'M6', 8): 19,\n ('NLAER', 'NLNIE', 'M6', 9): 19,\n ('NLAER', 'NLRTM', 'M6', 9): 19,\n ('NLZOT', 'NLSMO', 'M3', 6): 19,\n ('NLRTM', 'NLDZL', 'M8', 11): 19,\n ('NLUTC', 'NLRTM', 'BII-1', 19): 19,\n ('NLAMS', 'NLDEV', 'M3', 7): 19,\n ('NLAER', 'NLAMS', 'M2', 15): 19,\n ('NLMST', 'NLBON', 'M2', 11): 19,\n ('NLABL', 'NLNIJ', 'M8', 18): 19,\n ('NLAMS', 'NLTIE', 'M4', 7): 19,\n ('NLDOR', 'NLRTM', 'M8', 20): 19,\n ('NLAMS', 'NLAER', 'M2', 9): 19,\n ('NLHTB', 'NLBZM', 'M8', 4): 19,\n ('NLAMS', 'NLAER', 'M6', 15): 19,\n ('NLAMS', 'NLAER', 'M6', 9): 19,\n ('NLDRA', 'NLHAR', 'M2', 11): 19,\n ('NLIJM', 'NLMOE', 'M8', 16): 19,\n ('NLNIJ', 'NLABL', 'M8', 5): 19,\n ('NLRTM', 'NLAPN', 'M4', 18): 19,\n ('NLAMS', 'NLDEV', 'M3', 16): 19,\n ('NLRTM', 'NLAPN', 'M8', 11): 19,\n ('NLRTM', 'NLVEG', 'M7', 20): 19,\n ('NLZWO', 'NLRTM', 'M8', 19): 19,\n ('NLOSS', 'NLHRW', 'M2', 14): 19,\n ('NLBON', 'NLSTI', 'BIIa-1', 13): 19,\n ('NLHGL', 'NLAMS', 'M7', 18): 19,\n ('NLMOE', 'NLAPN', 'M8', 11): 19,\n ('NLTNZ', 'NLRTM', 'M8', 17): 19,\n ('NLTLB', 'NLRTM', 'M3', 16): 19,\n ('NLLMR', 'NLAMS', 'M10', 5): 19,\n ('NLHGL', 'NLAMS', 'M7', 15): 19,\n ('NLAMS', 'NLZAA', 'M3', 10): 19,\n ('NLBON', 'NLEIN', 'M2', 19): 19,\n ('NLAER', 'NLNIE', 'M8', 19): 19,\n ('NLRTM', 'NLWBR', 'M8', 13): 19,\n ('NLAER', 'NLRTM', 'M6', 20): 19,\n ('NLAER', 'NLRTM', 'M10', 9): 19,\n ('NLUTC', 'NLTIE', 'M8', 14): 19,\n ('NLRTM', 'NLVLI', 'M8', 2): 19,\n ('NLRTM', 'NLVLI', 'M9', 2): 19,\n ('NLRTM', 'NLVSN', 'M8', 2): 19,\n ('NLHLM', 'NLRTM', 'M2', 11): 19,\n ('NLAMS', 'NLRTM', 'M11', 12): 19,\n ('NLAMS', 'NLVLI', 'M12', 16): 19,\n ('NLRTM', 'NLVLI', 'M9', 21): 19,\n ('NLRTM', 'NLTIE', 'M8', 19): 19,\n ('NLRTM', 'NLTLB', 'M8', 2): 19,\n ('NLKGZ', 'NLZAA', 'BIIa-1', 9): 19,\n ('NLKGZ', 'NLZAA', 'BIIa-1', 8): 19,\n ('NLMAA', 'NLNRW', 'M2', 17): 19,\n ('NLABL', 'NLNIJ', 'M8', 14): 19,\n ('NLDRU', 'NLNIJ', 'M6', 11): 19,\n ('NLRTM', 'NLLID', 'M3', 15): 19,\n ('NLRTM', 'NLOOS', 'M8', 6): 19,\n ('NLRTM', 'NLOOS', 'M8', 5): 19,\n ('NLKAM', 'NLRTM', 'M9', 5): 19,\n ('NLDZL', 'NLFAR', 'M8', 13): 19,\n ('NLAPN', 'NLRTM', 'M6', 19): 19,\n ('NLVEG', 'NLRTM', 'M6', 22): 19,\n ('NLMOE', 'NLIJM', 'M8', 18): 19,\n ('NLAPN', 'NLRTM', 'M6', 7): 19,\n ('NLAER', 'NLRTM', 'M8', 19): 19,\n ('NLHGL', 'NLRTM', 'M8', 6): 19,\n ('NLAMS', 'NLHAS', 'M8', 19): 19,\n ('NLWSP', 'NLAER', 'M8', 12): 19,\n ('NLABL', 'NLNIJ', 'M8', 19): 19,\n ('NLAER', 'NLNIE', 'M6', 20): 19,\n ('NLNIJ', 'NLRTM', 'M8', 14): 19,\n ('NLTLB', 'NLBON', 'M2', 12): 19,\n ('NLRTM', 'NLSTI', 'M8', 7): 19,\n ('NLRTM', 'NLTIE', 'M8', 10): 19,\n ('NLRTM', 'NLDZL', 'M8', 10): 19,\n ('NLRTM', 'NLTLB', 'M2', 13): 19,\n ('NLOOS', 'NLMOE', 'M8', 6): 19,\n ('NLRTM', 'NLTLB', 'M2', 17): 19,\n ('NLLID', 'NLRTM', 'M3', 11): 19,\n ('NLRTM', 'NLAPN', 'M8', 19): 19,\n ('NLVEG', 'NLRTM', 'M7', 6): 19,\n ('NLBZM', 'NLHTB', 'M8', 12): 19,\n ('NLLMR', 'NLAMS', 'M10', 12): 19,\n ('NLAMS', 'NLRTM', 'M10', 6): 19,\n ('NLAMS', 'NLMOE', 'M8', 4): 19,\n ('NLMST', 'NLTNZ', 'M8', 13): 19,\n ('NLBZM', 'NLRTM', 'M6', 16): 19,\n ('NLRTM', 'NLAMS', 'M10', 14): 19,\n ('NLHTB', 'NLBON', 'M2', 9): 19,\n ('NLRTM', 'NLBON', 'M12', 18): 19,\n ('NLRTM', 'NLVLI', 'M6', 14): 19,\n ('NLDRO', 'NLKAM', 'M4', 13): 19,\n ('NLRTM', 'NLDOE', 'M8', 7): 19,\n ('NLUTC', 'NLRTM', 'M8', 22): 19,\n ('NLAMS', 'NLRTM', 'M10', 10): 19,\n ('NLWBR', 'NLRTM', 'M8', 11): 19,\n ('NLTNZ', 'NLRTM', 'M8', 9): 19,\n ('NLRTM', 'NLMOE', 'M6', 7): 19,\n ('NLAMS', 'NLTNZ', 'M8', 13): 19,\n ('NLRTM', 'NLTLB', 'M8', 8): 19,\n ('NLAMS', 'NLMOE', 'M8', 11): 19,\n ('NLTLB', 'NLRTM', 'M2', 9): 19,\n ('NLWSM', 'NLBON', 'BII-1', 8): 19,\n ('NLAMS', 'NLTNZ', 'M8', 19): 19,\n ('NLBON', 'NLVEG', 'M3', 8): 19,\n ('NLRTM', 'NLAPN', 'M3', 16): 19,\n ('NLAMS', 'NLVLI', 'M12', 14): 19,\n ('NLZAA', 'NLAMS', 'M2', 10): 19,\n ('NLDOE', 'NLRTM', 'M8', 15): 19,\n ('NLOSS', 'NLRTM', 'M8', 13): 19,\n ('NLNIJ', 'NLABL', 'M8', 7): 19,\n ('NLRTM', 'NLAER', 'M10', 7): 19,\n ('NLNIJ', 'NLABL', 'M8', 20): 19,\n ('NLRTM', 'NLRTM', 'M8', 2): 18,\n ('NLRTM', 'NLRTM', 'M12', 11): 18,\n ('NLOOS', 'NLTLB', 'M8', 4): 18,\n ('NLSMO', 'NLZOT', 'M3', 13): 18,\n ('NLDRU', 'NLNIJ', 'M6', 9): 18,\n ('NLVEN', 'NLBON', 'M8', 9): 18,\n ...}"
     },
     "execution_count": 31,
     "metadata": {},
     "output_type": "execute_result"
    }
   ],
   "source": [
    "trip_dict_main"
   ],
   "metadata": {
    "collapsed": false,
    "pycharm": {
     "name": "#%%\n"
    }
   }
  },
  {
   "cell_type": "code",
   "execution_count": 32,
   "outputs": [],
   "source": [
    "# now only keep entries of trip_dict_main that are part of top 100 OD pairs\n",
    "top100 = df_main.head(100)\n",
    "top100.reset_index(drop=True, inplace=True)\n",
    "ordes = []\n",
    "for i in range(len(top100)):\n",
    "    ordes.append((top100['origin'][i], top100['destination'][i]))\n",
    "\n",
    "trip_dict_subset = {i:trip_dict_main[i] for i in trip_dict_main.keys() if (i[0],i[1]) in ordes}"
   ],
   "metadata": {
    "collapsed": false,
    "pycharm": {
     "name": "#%%\n"
    }
   }
  },
  {
   "cell_type": "code",
   "execution_count": 33,
   "outputs": [
    {
     "name": "stdout",
     "output_type": "stream",
     "text": [
      "remaining: 73742 dropped 101609\n"
     ]
    }
   ],
   "source": [
    "print(\"remaining:\", top100.trip_count.sum(), \"dropped\", df_main.trip_count.sum()-top100.trip_count.sum())"
   ],
   "metadata": {
    "collapsed": false,
    "pycharm": {
     "name": "#%%\n"
    }
   }
  },
  {
   "cell_type": "code",
   "execution_count": 34,
   "outputs": [
    {
     "data": {
      "text/plain": "6824"
     },
     "execution_count": 34,
     "metadata": {},
     "output_type": "execute_result"
    }
   ],
   "source": [
    "len(trip_dict_subset.keys())"
   ],
   "metadata": {
    "collapsed": false,
    "pycharm": {
     "name": "#%%\n"
    }
   }
  },
  {
   "cell_type": "code",
   "execution_count": 35,
   "outputs": [
    {
     "data": {
      "text/plain": "9932"
     },
     "execution_count": 35,
     "metadata": {},
     "output_type": "execute_result"
    }
   ],
   "source": [
    "df_main.loc[(df_main.origin == 'NLRTM')&(df_main.destination == 'NLAMS')].trip_count.item()"
   ],
   "metadata": {
    "collapsed": false,
    "pycharm": {
     "name": "#%%\n"
    }
   }
  },
  {
   "cell_type": "code",
   "execution_count": 36,
   "outputs": [
    {
     "data": {
      "text/plain": "     origin destination  hour  M12   M8  BII-6b  M10  BIIa-1  M9  BII-6l  ...  \\\n0     NLRTM       NLAMS     0   91  109       0   18       2  45       0  ...   \n1     NLRTM       NLAMS     1   78  110       0   17       3  55       0  ...   \n2     NLRTM       NLAMS     2   52  122       0   10       3  46       0  ...   \n3     NLRTM       NLAMS     3   52  117       0    9       4  52       0  ...   \n4     NLRTM       NLAMS     4   55  144       0   14       1  72       0  ...   \n...     ...         ...   ...  ...  ...     ...  ...     ...  ..     ...  ...   \n2395  NLAMS       NLZWI    19    0    3       0    0       0   0       0  ...   \n2396  NLAMS       NLZWI    20    0    0       0    0       0   0       0  ...   \n2397  NLAMS       NLZWI    21    0    1       0    0       1   0       0  ...   \n2398  NLAMS       NLZWI    22    0    1       0    0       0   0       0  ...   \n2399  NLAMS       NLZWI    23    0    3       0    0       0   1       0  ...   \n\n      B03  C4  B04  C2l  BII-2L  B02  C1b  C2b  B01  C1l  \n0       0   0    0    0       1    0    0    0    0    0  \n1       0   0    0    0       0    0    0    0    0    0  \n2       0   1    0    0       0    0    0    0    0    0  \n3       0   1    0    0       0    0    0    0    0    0  \n4       0   0    2    0       0    0    0    0    0    0  \n...   ...  ..  ...  ...     ...  ...  ...  ...  ...  ...  \n2395    0   0    0    0       0    0    0    0    0    0  \n2396    0   0    0    0       0    0    0    0    0    0  \n2397    0   0    0    0       0    0    0    0    0    0  \n2398    0   0    0    0       0    0    0    0    0    0  \n2399    0   0    0    0       0    0    0    0    0    0  \n\n[2400 rows x 35 columns]",
      "text/html": "<div>\n<style scoped>\n    .dataframe tbody tr th:only-of-type {\n        vertical-align: middle;\n    }\n\n    .dataframe tbody tr th {\n        vertical-align: top;\n    }\n\n    .dataframe thead th {\n        text-align: right;\n    }\n</style>\n<table border=\"1\" class=\"dataframe\">\n  <thead>\n    <tr style=\"text-align: right;\">\n      <th></th>\n      <th>origin</th>\n      <th>destination</th>\n      <th>hour</th>\n      <th>M12</th>\n      <th>M8</th>\n      <th>BII-6b</th>\n      <th>M10</th>\n      <th>BIIa-1</th>\n      <th>M9</th>\n      <th>BII-6l</th>\n      <th>...</th>\n      <th>B03</th>\n      <th>C4</th>\n      <th>B04</th>\n      <th>C2l</th>\n      <th>BII-2L</th>\n      <th>B02</th>\n      <th>C1b</th>\n      <th>C2b</th>\n      <th>B01</th>\n      <th>C1l</th>\n    </tr>\n  </thead>\n  <tbody>\n    <tr>\n      <th>0</th>\n      <td>NLRTM</td>\n      <td>NLAMS</td>\n      <td>0</td>\n      <td>91</td>\n      <td>109</td>\n      <td>0</td>\n      <td>18</td>\n      <td>2</td>\n      <td>45</td>\n      <td>0</td>\n      <td>...</td>\n      <td>0</td>\n      <td>0</td>\n      <td>0</td>\n      <td>0</td>\n      <td>1</td>\n      <td>0</td>\n      <td>0</td>\n      <td>0</td>\n      <td>0</td>\n      <td>0</td>\n    </tr>\n    <tr>\n      <th>1</th>\n      <td>NLRTM</td>\n      <td>NLAMS</td>\n      <td>1</td>\n      <td>78</td>\n      <td>110</td>\n      <td>0</td>\n      <td>17</td>\n      <td>3</td>\n      <td>55</td>\n      <td>0</td>\n      <td>...</td>\n      <td>0</td>\n      <td>0</td>\n      <td>0</td>\n      <td>0</td>\n      <td>0</td>\n      <td>0</td>\n      <td>0</td>\n      <td>0</td>\n      <td>0</td>\n      <td>0</td>\n    </tr>\n    <tr>\n      <th>2</th>\n      <td>NLRTM</td>\n      <td>NLAMS</td>\n      <td>2</td>\n      <td>52</td>\n      <td>122</td>\n      <td>0</td>\n      <td>10</td>\n      <td>3</td>\n      <td>46</td>\n      <td>0</td>\n      <td>...</td>\n      <td>0</td>\n      <td>1</td>\n      <td>0</td>\n      <td>0</td>\n      <td>0</td>\n      <td>0</td>\n      <td>0</td>\n      <td>0</td>\n      <td>0</td>\n      <td>0</td>\n    </tr>\n    <tr>\n      <th>3</th>\n      <td>NLRTM</td>\n      <td>NLAMS</td>\n      <td>3</td>\n      <td>52</td>\n      <td>117</td>\n      <td>0</td>\n      <td>9</td>\n      <td>4</td>\n      <td>52</td>\n      <td>0</td>\n      <td>...</td>\n      <td>0</td>\n      <td>1</td>\n      <td>0</td>\n      <td>0</td>\n      <td>0</td>\n      <td>0</td>\n      <td>0</td>\n      <td>0</td>\n      <td>0</td>\n      <td>0</td>\n    </tr>\n    <tr>\n      <th>4</th>\n      <td>NLRTM</td>\n      <td>NLAMS</td>\n      <td>4</td>\n      <td>55</td>\n      <td>144</td>\n      <td>0</td>\n      <td>14</td>\n      <td>1</td>\n      <td>72</td>\n      <td>0</td>\n      <td>...</td>\n      <td>0</td>\n      <td>0</td>\n      <td>2</td>\n      <td>0</td>\n      <td>0</td>\n      <td>0</td>\n      <td>0</td>\n      <td>0</td>\n      <td>0</td>\n      <td>0</td>\n    </tr>\n    <tr>\n      <th>...</th>\n      <td>...</td>\n      <td>...</td>\n      <td>...</td>\n      <td>...</td>\n      <td>...</td>\n      <td>...</td>\n      <td>...</td>\n      <td>...</td>\n      <td>...</td>\n      <td>...</td>\n      <td>...</td>\n      <td>...</td>\n      <td>...</td>\n      <td>...</td>\n      <td>...</td>\n      <td>...</td>\n      <td>...</td>\n      <td>...</td>\n      <td>...</td>\n      <td>...</td>\n      <td>...</td>\n    </tr>\n    <tr>\n      <th>2395</th>\n      <td>NLAMS</td>\n      <td>NLZWI</td>\n      <td>19</td>\n      <td>0</td>\n      <td>3</td>\n      <td>0</td>\n      <td>0</td>\n      <td>0</td>\n      <td>0</td>\n      <td>0</td>\n      <td>...</td>\n      <td>0</td>\n      <td>0</td>\n      <td>0</td>\n      <td>0</td>\n      <td>0</td>\n      <td>0</td>\n      <td>0</td>\n      <td>0</td>\n      <td>0</td>\n      <td>0</td>\n    </tr>\n    <tr>\n      <th>2396</th>\n      <td>NLAMS</td>\n      <td>NLZWI</td>\n      <td>20</td>\n      <td>0</td>\n      <td>0</td>\n      <td>0</td>\n      <td>0</td>\n      <td>0</td>\n      <td>0</td>\n      <td>0</td>\n      <td>...</td>\n      <td>0</td>\n      <td>0</td>\n      <td>0</td>\n      <td>0</td>\n      <td>0</td>\n      <td>0</td>\n      <td>0</td>\n      <td>0</td>\n      <td>0</td>\n      <td>0</td>\n    </tr>\n    <tr>\n      <th>2397</th>\n      <td>NLAMS</td>\n      <td>NLZWI</td>\n      <td>21</td>\n      <td>0</td>\n      <td>1</td>\n      <td>0</td>\n      <td>0</td>\n      <td>1</td>\n      <td>0</td>\n      <td>0</td>\n      <td>...</td>\n      <td>0</td>\n      <td>0</td>\n      <td>0</td>\n      <td>0</td>\n      <td>0</td>\n      <td>0</td>\n      <td>0</td>\n      <td>0</td>\n      <td>0</td>\n      <td>0</td>\n    </tr>\n    <tr>\n      <th>2398</th>\n      <td>NLAMS</td>\n      <td>NLZWI</td>\n      <td>22</td>\n      <td>0</td>\n      <td>1</td>\n      <td>0</td>\n      <td>0</td>\n      <td>0</td>\n      <td>0</td>\n      <td>0</td>\n      <td>...</td>\n      <td>0</td>\n      <td>0</td>\n      <td>0</td>\n      <td>0</td>\n      <td>0</td>\n      <td>0</td>\n      <td>0</td>\n      <td>0</td>\n      <td>0</td>\n      <td>0</td>\n    </tr>\n    <tr>\n      <th>2399</th>\n      <td>NLAMS</td>\n      <td>NLZWI</td>\n      <td>23</td>\n      <td>0</td>\n      <td>3</td>\n      <td>0</td>\n      <td>0</td>\n      <td>0</td>\n      <td>1</td>\n      <td>0</td>\n      <td>...</td>\n      <td>0</td>\n      <td>0</td>\n      <td>0</td>\n      <td>0</td>\n      <td>0</td>\n      <td>0</td>\n      <td>0</td>\n      <td>0</td>\n      <td>0</td>\n      <td>0</td>\n    </tr>\n  </tbody>\n</table>\n<p>2400 rows × 35 columns</p>\n</div>"
     },
     "execution_count": 36,
     "metadata": {},
     "output_type": "execute_result"
    }
   ],
   "source": [
    "# make dataframe dict wih a key for each column\n",
    "trip_dict_df_main = {'origin': [], 'destination': [], 'hour':[]}\n",
    "for i in df_2021.SK_CODE.unique():\n",
    "    trip_dict_df_main[i] = []\n",
    "\n",
    "# now fill this dict\n",
    "for key in ordes:\n",
    "    # append values from dict a\n",
    "    for hour in list(np.arange(0,24,1)):\n",
    "        trip_dict_df_main['origin'].append(key[0])\n",
    "        trip_dict_df_main['destination'].append(key[1])\n",
    "        trip_dict_df_main['hour'].append(hour)\n",
    "        #now append values from other dict, for each ship types\n",
    "        for ship_type in df_2021.SK_CODE.unique():\n",
    "            #if ships have travelled from A to B, append this value\n",
    "            if (key[0], key[1], ship_type, hour) in trip_dict_main.keys():\n",
    "                trip_dict_df_main[ship_type].append(trip_dict_main[(key[0], key[1], ship_type, hour)])\n",
    "            elif (key[1], key[0], ship_type, hour) in trip_dict_main.keys():\n",
    "                trip_dict_df_main[ship_type].append(trip_dict_main[(key[1], key[0], ship_type, hour)])\n",
    "            else:\n",
    "                # no? Then no ships of this type have travelled this path, append 0\n",
    "                trip_dict_df_main[ship_type].append(0)\n",
    "df_main_hourly = pd.DataFrame.from_dict(trip_dict_df_main)\n",
    "df_main_hourly"
   ],
   "metadata": {
    "collapsed": false,
    "pycharm": {
     "name": "#%%\n"
    }
   }
  },
  {
   "cell_type": "code",
   "execution_count": 37,
   "outputs": [],
   "source": [
    "df_main_hourly.insert(2, 'trip_count', df_main_hourly.iloc[:, 3:].sum(axis=1))"
   ],
   "metadata": {
    "collapsed": false,
    "pycharm": {
     "name": "#%%\n"
    }
   }
  },
  {
   "cell_type": "code",
   "execution_count": 38,
   "outputs": [
    {
     "data": {
      "text/plain": "     origin destination  trip_count  hour  M12   M8  BII-6b  M10  BIIa-1  M9  \\\n0     NLRTM       NLAMS         323     0   91  109       0   18       2  45   \n1     NLRTM       NLAMS         302     1   78  110       0   17       3  55   \n2     NLRTM       NLAMS         275     2   52  122       0   10       3  46   \n3     NLRTM       NLAMS         303     3   52  117       0    9       4  52   \n4     NLRTM       NLAMS         367     4   55  144       0   14       1  72   \n...     ...         ...         ...   ...  ...  ...     ...  ...     ...  ..   \n2395  NLAMS       NLZWI          17    19    0    3       0    0       0   0   \n2396  NLAMS       NLZWI          12    20    0    0       0    0       0   0   \n2397  NLAMS       NLZWI          13    21    0    1       0    0       1   0   \n2398  NLAMS       NLZWI           7    22    0    1       0    0       0   0   \n2399  NLAMS       NLZWI           4    23    0    3       0    0       0   1   \n\n      ...  B03  C4  B04  C2l  BII-2L  B02  C1b  C2b  B01  C1l  \n0     ...    0   0    0    0       1    0    0    0    0    0  \n1     ...    0   0    0    0       0    0    0    0    0    0  \n2     ...    0   1    0    0       0    0    0    0    0    0  \n3     ...    0   1    0    0       0    0    0    0    0    0  \n4     ...    0   0    2    0       0    0    0    0    0    0  \n...   ...  ...  ..  ...  ...     ...  ...  ...  ...  ...  ...  \n2395  ...    0   0    0    0       0    0    0    0    0    0  \n2396  ...    0   0    0    0       0    0    0    0    0    0  \n2397  ...    0   0    0    0       0    0    0    0    0    0  \n2398  ...    0   0    0    0       0    0    0    0    0    0  \n2399  ...    0   0    0    0       0    0    0    0    0    0  \n\n[2400 rows x 36 columns]",
      "text/html": "<div>\n<style scoped>\n    .dataframe tbody tr th:only-of-type {\n        vertical-align: middle;\n    }\n\n    .dataframe tbody tr th {\n        vertical-align: top;\n    }\n\n    .dataframe thead th {\n        text-align: right;\n    }\n</style>\n<table border=\"1\" class=\"dataframe\">\n  <thead>\n    <tr style=\"text-align: right;\">\n      <th></th>\n      <th>origin</th>\n      <th>destination</th>\n      <th>trip_count</th>\n      <th>hour</th>\n      <th>M12</th>\n      <th>M8</th>\n      <th>BII-6b</th>\n      <th>M10</th>\n      <th>BIIa-1</th>\n      <th>M9</th>\n      <th>...</th>\n      <th>B03</th>\n      <th>C4</th>\n      <th>B04</th>\n      <th>C2l</th>\n      <th>BII-2L</th>\n      <th>B02</th>\n      <th>C1b</th>\n      <th>C2b</th>\n      <th>B01</th>\n      <th>C1l</th>\n    </tr>\n  </thead>\n  <tbody>\n    <tr>\n      <th>0</th>\n      <td>NLRTM</td>\n      <td>NLAMS</td>\n      <td>323</td>\n      <td>0</td>\n      <td>91</td>\n      <td>109</td>\n      <td>0</td>\n      <td>18</td>\n      <td>2</td>\n      <td>45</td>\n      <td>...</td>\n      <td>0</td>\n      <td>0</td>\n      <td>0</td>\n      <td>0</td>\n      <td>1</td>\n      <td>0</td>\n      <td>0</td>\n      <td>0</td>\n      <td>0</td>\n      <td>0</td>\n    </tr>\n    <tr>\n      <th>1</th>\n      <td>NLRTM</td>\n      <td>NLAMS</td>\n      <td>302</td>\n      <td>1</td>\n      <td>78</td>\n      <td>110</td>\n      <td>0</td>\n      <td>17</td>\n      <td>3</td>\n      <td>55</td>\n      <td>...</td>\n      <td>0</td>\n      <td>0</td>\n      <td>0</td>\n      <td>0</td>\n      <td>0</td>\n      <td>0</td>\n      <td>0</td>\n      <td>0</td>\n      <td>0</td>\n      <td>0</td>\n    </tr>\n    <tr>\n      <th>2</th>\n      <td>NLRTM</td>\n      <td>NLAMS</td>\n      <td>275</td>\n      <td>2</td>\n      <td>52</td>\n      <td>122</td>\n      <td>0</td>\n      <td>10</td>\n      <td>3</td>\n      <td>46</td>\n      <td>...</td>\n      <td>0</td>\n      <td>1</td>\n      <td>0</td>\n      <td>0</td>\n      <td>0</td>\n      <td>0</td>\n      <td>0</td>\n      <td>0</td>\n      <td>0</td>\n      <td>0</td>\n    </tr>\n    <tr>\n      <th>3</th>\n      <td>NLRTM</td>\n      <td>NLAMS</td>\n      <td>303</td>\n      <td>3</td>\n      <td>52</td>\n      <td>117</td>\n      <td>0</td>\n      <td>9</td>\n      <td>4</td>\n      <td>52</td>\n      <td>...</td>\n      <td>0</td>\n      <td>1</td>\n      <td>0</td>\n      <td>0</td>\n      <td>0</td>\n      <td>0</td>\n      <td>0</td>\n      <td>0</td>\n      <td>0</td>\n      <td>0</td>\n    </tr>\n    <tr>\n      <th>4</th>\n      <td>NLRTM</td>\n      <td>NLAMS</td>\n      <td>367</td>\n      <td>4</td>\n      <td>55</td>\n      <td>144</td>\n      <td>0</td>\n      <td>14</td>\n      <td>1</td>\n      <td>72</td>\n      <td>...</td>\n      <td>0</td>\n      <td>0</td>\n      <td>2</td>\n      <td>0</td>\n      <td>0</td>\n      <td>0</td>\n      <td>0</td>\n      <td>0</td>\n      <td>0</td>\n      <td>0</td>\n    </tr>\n    <tr>\n      <th>...</th>\n      <td>...</td>\n      <td>...</td>\n      <td>...</td>\n      <td>...</td>\n      <td>...</td>\n      <td>...</td>\n      <td>...</td>\n      <td>...</td>\n      <td>...</td>\n      <td>...</td>\n      <td>...</td>\n      <td>...</td>\n      <td>...</td>\n      <td>...</td>\n      <td>...</td>\n      <td>...</td>\n      <td>...</td>\n      <td>...</td>\n      <td>...</td>\n      <td>...</td>\n      <td>...</td>\n    </tr>\n    <tr>\n      <th>2395</th>\n      <td>NLAMS</td>\n      <td>NLZWI</td>\n      <td>17</td>\n      <td>19</td>\n      <td>0</td>\n      <td>3</td>\n      <td>0</td>\n      <td>0</td>\n      <td>0</td>\n      <td>0</td>\n      <td>...</td>\n      <td>0</td>\n      <td>0</td>\n      <td>0</td>\n      <td>0</td>\n      <td>0</td>\n      <td>0</td>\n      <td>0</td>\n      <td>0</td>\n      <td>0</td>\n      <td>0</td>\n    </tr>\n    <tr>\n      <th>2396</th>\n      <td>NLAMS</td>\n      <td>NLZWI</td>\n      <td>12</td>\n      <td>20</td>\n      <td>0</td>\n      <td>0</td>\n      <td>0</td>\n      <td>0</td>\n      <td>0</td>\n      <td>0</td>\n      <td>...</td>\n      <td>0</td>\n      <td>0</td>\n      <td>0</td>\n      <td>0</td>\n      <td>0</td>\n      <td>0</td>\n      <td>0</td>\n      <td>0</td>\n      <td>0</td>\n      <td>0</td>\n    </tr>\n    <tr>\n      <th>2397</th>\n      <td>NLAMS</td>\n      <td>NLZWI</td>\n      <td>13</td>\n      <td>21</td>\n      <td>0</td>\n      <td>1</td>\n      <td>0</td>\n      <td>0</td>\n      <td>1</td>\n      <td>0</td>\n      <td>...</td>\n      <td>0</td>\n      <td>0</td>\n      <td>0</td>\n      <td>0</td>\n      <td>0</td>\n      <td>0</td>\n      <td>0</td>\n      <td>0</td>\n      <td>0</td>\n      <td>0</td>\n    </tr>\n    <tr>\n      <th>2398</th>\n      <td>NLAMS</td>\n      <td>NLZWI</td>\n      <td>7</td>\n      <td>22</td>\n      <td>0</td>\n      <td>1</td>\n      <td>0</td>\n      <td>0</td>\n      <td>0</td>\n      <td>0</td>\n      <td>...</td>\n      <td>0</td>\n      <td>0</td>\n      <td>0</td>\n      <td>0</td>\n      <td>0</td>\n      <td>0</td>\n      <td>0</td>\n      <td>0</td>\n      <td>0</td>\n      <td>0</td>\n    </tr>\n    <tr>\n      <th>2399</th>\n      <td>NLAMS</td>\n      <td>NLZWI</td>\n      <td>4</td>\n      <td>23</td>\n      <td>0</td>\n      <td>3</td>\n      <td>0</td>\n      <td>0</td>\n      <td>0</td>\n      <td>1</td>\n      <td>...</td>\n      <td>0</td>\n      <td>0</td>\n      <td>0</td>\n      <td>0</td>\n      <td>0</td>\n      <td>0</td>\n      <td>0</td>\n      <td>0</td>\n      <td>0</td>\n      <td>0</td>\n    </tr>\n  </tbody>\n</table>\n<p>2400 rows × 36 columns</p>\n</div>"
     },
     "execution_count": 38,
     "metadata": {},
     "output_type": "execute_result"
    }
   ],
   "source": [
    "df_main_hourly"
   ],
   "metadata": {
    "collapsed": false,
    "pycharm": {
     "name": "#%%\n"
    }
   }
  },
  {
   "cell_type": "code",
   "execution_count": 39,
   "outputs": [],
   "source": [
    "pickle.dump( df_main_hourly, open( \"ABM/own_work/data/df_trips_per_path_hourly.p\", \"wb\" ) )"
   ],
   "metadata": {
    "collapsed": false,
    "pycharm": {
     "name": "#%%\n"
    }
   }
  },
  {
   "cell_type": "markdown",
   "source": [
    "## Now translate into fuel consumption value for each path\n",
    "Idea: take 1 vessel as a basis, and assume that fuel consumption is linearly correlated with average engine power, to be able to use index\n",
    "Capacity is likely x vessels per day of a certain type for a charging unit, depending on the charging time.\n",
    "Hence, computing the average amount of that type of vehicles that comes by everyday makes sense."
   ],
   "metadata": {
    "collapsed": false,
    "pycharm": {
     "name": "#%% md\n"
    }
   }
  },
  {
   "cell_type": "markdown",
   "source": [
    "### First determine factors"
   ],
   "metadata": {
    "collapsed": false,
    "pycharm": {
     "name": "#%% md\n"
    }
   }
  },
  {
   "cell_type": "code",
   "execution_count": 48,
   "outputs": [],
   "source": [
    "ship_data = pd.read_csv('data/Vessel-database-2.csv')\n",
    "ship_data.avv_class = ship_data.avv_class.str.replace(\"_\",\"-\")\n",
    "ship_data.avv_class = ship_data.avv_class.str.replace(\"BII-2l\",\"BII-2L\")\n",
    "ship_data.fillna(0, inplace=True)\n",
    "# only keep relevant columns\n",
    "ship_data = ship_data.loc[:, [\"P_installed\", \"speed_loaded\", \"speed_unloaded\", \"avv_class\", \"cemt_class\"]]\n",
    "ship_data = ship_data.rename(columns={'P_installed':'P_average'})\n",
    "ship_data.rename(columns={'avv_class':'RWS-class'}, inplace=True)"
   ],
   "metadata": {
    "collapsed": false,
    "pycharm": {
     "name": "#%%\n"
    }
   }
  },
  {
   "cell_type": "code",
   "execution_count": 49,
   "outputs": [
    {
     "data": {
      "text/plain": "    P_average  speed_loaded  speed_unloaded RWS-class cemt_class\n0       175.0        3.0830          4.4700        M1          I\n1       250.0        3.3610          4.6380        M2         II\n2       435.0        3.8610          4.6380        M3        III\n3       435.0        4.0000          4.8890        M4        III\n4       435.0        3.9160          5.0270        M5        III\n5       690.0        3.9160          5.1940        M6         IV\n6       690.0        3.7780          5.3610        M7         IV\n7      1356.0        3.7777          5.3333        M8         Va\n8      1744.0        3.8050          5.4160        M9         Va\n9      1649.0        3.5830          5.3880       M10        VIa\n10     2021.0        4.0270          5.2770       M11        VIa\n11     2233.0        3.8880          5.1380       M12        VIa\n12      100.0        3.8890          4.1670       B01          0\n13      120.0        3.3330          4.3050       B02          0\n14      150.0        3.6670          4.2780       B03          0\n15      380.0        3.7780          4.3610       B04          0\n16      738.0        3.6660          4.4440        BI         IV\n17     1238.0        3.5550          4.7780     BII-1         Va\n18     1238.0        3.6380          4.9720    BII-2L         Vb\n19     1238.0        3.0550          4.7220    BII-2b        VIa\n20     1238.0        2.8330          4.6110     BII-4        VIb\n21     1238.0        2.6670          4.4720    BII-6l        VIc\n22     1238.0        2.6670          4.4720    BII-6b       VIIa\n23      175.0        3.2780          4.3890       C1l          I\n24      175.0        3.0000          4.2220       C1b          I\n25      690.0        3.5830          4.7220       C2l        IVb\n26     1425.0        3.2500          5.0560       C3l         Vb\n27      690.0        2.5830          4.1670       C2b        VIa\n28     1425.0        2.3330          4.2780       C3b        VIa\n29     1425.0        3.0000          4.4720        C4        VIb",
      "text/html": "<div>\n<style scoped>\n    .dataframe tbody tr th:only-of-type {\n        vertical-align: middle;\n    }\n\n    .dataframe tbody tr th {\n        vertical-align: top;\n    }\n\n    .dataframe thead th {\n        text-align: right;\n    }\n</style>\n<table border=\"1\" class=\"dataframe\">\n  <thead>\n    <tr style=\"text-align: right;\">\n      <th></th>\n      <th>P_average</th>\n      <th>speed_loaded</th>\n      <th>speed_unloaded</th>\n      <th>RWS-class</th>\n      <th>cemt_class</th>\n    </tr>\n  </thead>\n  <tbody>\n    <tr>\n      <th>0</th>\n      <td>175.0</td>\n      <td>3.0830</td>\n      <td>4.4700</td>\n      <td>M1</td>\n      <td>I</td>\n    </tr>\n    <tr>\n      <th>1</th>\n      <td>250.0</td>\n      <td>3.3610</td>\n      <td>4.6380</td>\n      <td>M2</td>\n      <td>II</td>\n    </tr>\n    <tr>\n      <th>2</th>\n      <td>435.0</td>\n      <td>3.8610</td>\n      <td>4.6380</td>\n      <td>M3</td>\n      <td>III</td>\n    </tr>\n    <tr>\n      <th>3</th>\n      <td>435.0</td>\n      <td>4.0000</td>\n      <td>4.8890</td>\n      <td>M4</td>\n      <td>III</td>\n    </tr>\n    <tr>\n      <th>4</th>\n      <td>435.0</td>\n      <td>3.9160</td>\n      <td>5.0270</td>\n      <td>M5</td>\n      <td>III</td>\n    </tr>\n    <tr>\n      <th>5</th>\n      <td>690.0</td>\n      <td>3.9160</td>\n      <td>5.1940</td>\n      <td>M6</td>\n      <td>IV</td>\n    </tr>\n    <tr>\n      <th>6</th>\n      <td>690.0</td>\n      <td>3.7780</td>\n      <td>5.3610</td>\n      <td>M7</td>\n      <td>IV</td>\n    </tr>\n    <tr>\n      <th>7</th>\n      <td>1356.0</td>\n      <td>3.7777</td>\n      <td>5.3333</td>\n      <td>M8</td>\n      <td>Va</td>\n    </tr>\n    <tr>\n      <th>8</th>\n      <td>1744.0</td>\n      <td>3.8050</td>\n      <td>5.4160</td>\n      <td>M9</td>\n      <td>Va</td>\n    </tr>\n    <tr>\n      <th>9</th>\n      <td>1649.0</td>\n      <td>3.5830</td>\n      <td>5.3880</td>\n      <td>M10</td>\n      <td>VIa</td>\n    </tr>\n    <tr>\n      <th>10</th>\n      <td>2021.0</td>\n      <td>4.0270</td>\n      <td>5.2770</td>\n      <td>M11</td>\n      <td>VIa</td>\n    </tr>\n    <tr>\n      <th>11</th>\n      <td>2233.0</td>\n      <td>3.8880</td>\n      <td>5.1380</td>\n      <td>M12</td>\n      <td>VIa</td>\n    </tr>\n    <tr>\n      <th>12</th>\n      <td>100.0</td>\n      <td>3.8890</td>\n      <td>4.1670</td>\n      <td>B01</td>\n      <td>0</td>\n    </tr>\n    <tr>\n      <th>13</th>\n      <td>120.0</td>\n      <td>3.3330</td>\n      <td>4.3050</td>\n      <td>B02</td>\n      <td>0</td>\n    </tr>\n    <tr>\n      <th>14</th>\n      <td>150.0</td>\n      <td>3.6670</td>\n      <td>4.2780</td>\n      <td>B03</td>\n      <td>0</td>\n    </tr>\n    <tr>\n      <th>15</th>\n      <td>380.0</td>\n      <td>3.7780</td>\n      <td>4.3610</td>\n      <td>B04</td>\n      <td>0</td>\n    </tr>\n    <tr>\n      <th>16</th>\n      <td>738.0</td>\n      <td>3.6660</td>\n      <td>4.4440</td>\n      <td>BI</td>\n      <td>IV</td>\n    </tr>\n    <tr>\n      <th>17</th>\n      <td>1238.0</td>\n      <td>3.5550</td>\n      <td>4.7780</td>\n      <td>BII-1</td>\n      <td>Va</td>\n    </tr>\n    <tr>\n      <th>18</th>\n      <td>1238.0</td>\n      <td>3.6380</td>\n      <td>4.9720</td>\n      <td>BII-2L</td>\n      <td>Vb</td>\n    </tr>\n    <tr>\n      <th>19</th>\n      <td>1238.0</td>\n      <td>3.0550</td>\n      <td>4.7220</td>\n      <td>BII-2b</td>\n      <td>VIa</td>\n    </tr>\n    <tr>\n      <th>20</th>\n      <td>1238.0</td>\n      <td>2.8330</td>\n      <td>4.6110</td>\n      <td>BII-4</td>\n      <td>VIb</td>\n    </tr>\n    <tr>\n      <th>21</th>\n      <td>1238.0</td>\n      <td>2.6670</td>\n      <td>4.4720</td>\n      <td>BII-6l</td>\n      <td>VIc</td>\n    </tr>\n    <tr>\n      <th>22</th>\n      <td>1238.0</td>\n      <td>2.6670</td>\n      <td>4.4720</td>\n      <td>BII-6b</td>\n      <td>VIIa</td>\n    </tr>\n    <tr>\n      <th>23</th>\n      <td>175.0</td>\n      <td>3.2780</td>\n      <td>4.3890</td>\n      <td>C1l</td>\n      <td>I</td>\n    </tr>\n    <tr>\n      <th>24</th>\n      <td>175.0</td>\n      <td>3.0000</td>\n      <td>4.2220</td>\n      <td>C1b</td>\n      <td>I</td>\n    </tr>\n    <tr>\n      <th>25</th>\n      <td>690.0</td>\n      <td>3.5830</td>\n      <td>4.7220</td>\n      <td>C2l</td>\n      <td>IVb</td>\n    </tr>\n    <tr>\n      <th>26</th>\n      <td>1425.0</td>\n      <td>3.2500</td>\n      <td>5.0560</td>\n      <td>C3l</td>\n      <td>Vb</td>\n    </tr>\n    <tr>\n      <th>27</th>\n      <td>690.0</td>\n      <td>2.5830</td>\n      <td>4.1670</td>\n      <td>C2b</td>\n      <td>VIa</td>\n    </tr>\n    <tr>\n      <th>28</th>\n      <td>1425.0</td>\n      <td>2.3330</td>\n      <td>4.2780</td>\n      <td>C3b</td>\n      <td>VIa</td>\n    </tr>\n    <tr>\n      <th>29</th>\n      <td>1425.0</td>\n      <td>3.0000</td>\n      <td>4.4720</td>\n      <td>C4</td>\n      <td>VIb</td>\n    </tr>\n  </tbody>\n</table>\n</div>"
     },
     "execution_count": 49,
     "metadata": {},
     "output_type": "execute_result"
    }
   ],
   "source": [
    "ship_data"
   ],
   "metadata": {
    "collapsed": false,
    "pycharm": {
     "name": "#%%\n"
    }
   }
  },
  {
   "cell_type": "markdown",
   "source": [
    "### Do we have a factor for each column?"
   ],
   "metadata": {
    "collapsed": false,
    "pycharm": {
     "name": "#%% md\n"
    }
   }
  },
  {
   "cell_type": "code",
   "execution_count": 50,
   "outputs": [],
   "source": [
    "# import final flow df\n",
    "top100 = pickle.load(open(\"data/revised_cleaning_results/ivs_exploded_100.p\", 'rb'))"
   ],
   "metadata": {
    "collapsed": false,
    "pycharm": {
     "name": "#%%\n"
    }
   }
  },
  {
   "cell_type": "code",
   "execution_count": 51,
   "outputs": [],
   "source": [
    "test = top100.iloc[:, 4:-1]"
   ],
   "metadata": {
    "collapsed": false,
    "pycharm": {
     "name": "#%%\n"
    }
   }
  },
  {
   "cell_type": "code",
   "execution_count": 52,
   "outputs": [
    {
     "data": {
      "text/plain": "{'BIIL-1', 'BIIa-1', 'M0'}"
     },
     "execution_count": 52,
     "metadata": {},
     "output_type": "execute_result"
    }
   ],
   "source": [
    "# Check for which columns we do not have a factor\n",
    "set(top100.columns[4:-1]) - set(ship_data['RWS-class'])"
   ],
   "metadata": {
    "collapsed": false,
    "pycharm": {
     "name": "#%%\n"
    }
   }
  },
  {
   "cell_type": "code",
   "execution_count": 53,
   "outputs": [
    {
     "data": {
      "text/plain": "set()"
     },
     "execution_count": 53,
     "metadata": {},
     "output_type": "execute_result"
    }
   ],
   "source": [
    "# no columns in df without factor!\n",
    "set(ship_data['RWS-class']) - set(top100.columns[4:-1])"
   ],
   "metadata": {
    "collapsed": false,
    "pycharm": {
     "name": "#%%\n"
    }
   }
  },
  {
   "cell_type": "markdown",
   "source": [
    "- Missing values for BIIL-1 and BIIa-1 can be taken from the other data set.\n",
    "- Speed is assumed to be equal to other Va class barge ship which is present in vessel dataset 1\n",
    "- M0 will be neglected, as these are the smallest ships, which have quite a largely varying transport and engine capacity."
   ],
   "metadata": {
    "collapsed": false,
    "pycharm": {
     "name": "#%% md\n"
    }
   }
  },
  {
   "cell_type": "code",
   "execution_count": 55,
   "outputs": [],
   "source": [
    "ship_data_2 = pd.read_excel('data/DTV_shiptypes_database.xlsx')"
   ],
   "metadata": {
    "collapsed": false,
    "pycharm": {
     "name": "#%%\n"
    }
   }
  },
  {
   "cell_type": "code",
   "execution_count": 56,
   "outputs": [],
   "source": [
    "ship_data_2 = ship_data_2.loc[ship_data_2['RWS-class'].isin(['BIIL-1', 'BIIa-1'])]\n",
    "ship_data_2 = ship_data_2.loc[:, ['RWS-class', 'CEMT-class', 'Engine power averge [kW]']]\n",
    "ship_data_2['speed_loaded'] = ship_data.loc[ship_data['RWS-class'] == 'BII-1'].speed_loaded.values[0]\n",
    "ship_data_2['speed_unloaded'] = ship_data.loc[ship_data['RWS-class'] == 'BII-1'].speed_unloaded.values[0]\n",
    "ship_data_2 = ship_data_2.rename(columns={'CEMT-class':'cemt_class', 'Engine power averge [kW]':'P_average'})"
   ],
   "metadata": {
    "collapsed": false,
    "pycharm": {
     "name": "#%%\n"
    }
   }
  },
  {
   "cell_type": "code",
   "execution_count": 57,
   "outputs": [
    {
     "data": {
      "text/plain": "   RWS-class cemt_class  P_average  speed_loaded  speed_unloaded\n26    BIIa-1         Va     1425.0         3.555           4.778\n27    BIIL-1         Va     1425.0         3.555           4.778",
      "text/html": "<div>\n<style scoped>\n    .dataframe tbody tr th:only-of-type {\n        vertical-align: middle;\n    }\n\n    .dataframe tbody tr th {\n        vertical-align: top;\n    }\n\n    .dataframe thead th {\n        text-align: right;\n    }\n</style>\n<table border=\"1\" class=\"dataframe\">\n  <thead>\n    <tr style=\"text-align: right;\">\n      <th></th>\n      <th>RWS-class</th>\n      <th>cemt_class</th>\n      <th>P_average</th>\n      <th>speed_loaded</th>\n      <th>speed_unloaded</th>\n    </tr>\n  </thead>\n  <tbody>\n    <tr>\n      <th>26</th>\n      <td>BIIa-1</td>\n      <td>Va</td>\n      <td>1425.0</td>\n      <td>3.555</td>\n      <td>4.778</td>\n    </tr>\n    <tr>\n      <th>27</th>\n      <td>BIIL-1</td>\n      <td>Va</td>\n      <td>1425.0</td>\n      <td>3.555</td>\n      <td>4.778</td>\n    </tr>\n  </tbody>\n</table>\n</div>"
     },
     "execution_count": 57,
     "metadata": {},
     "output_type": "execute_result"
    }
   ],
   "source": [
    "ship_data_2"
   ],
   "metadata": {
    "collapsed": false,
    "pycharm": {
     "name": "#%%\n"
    }
   }
  },
  {
   "cell_type": "code",
   "execution_count": 58,
   "outputs": [],
   "source": [
    "ship_data = pd.concat([ship_data, ship_data_2], ignore_index=True)"
   ],
   "metadata": {
    "collapsed": false,
    "pycharm": {
     "name": "#%%\n"
    }
   }
  },
  {
   "cell_type": "code",
   "execution_count": 66,
   "outputs": [],
   "source": [
    "ship_data['battery_size'] = ship_data.apply(lambda x: (60000/(x.speed_loaded*3.6*1000))*x.P_average, axis=1)"
   ],
   "metadata": {
    "collapsed": false,
    "pycharm": {
     "name": "#%%\n"
    }
   }
  },
  {
   "cell_type": "code",
   "execution_count": 67,
   "outputs": [],
   "source": [
    "ship_data['Factor'] = ship_data.battery_size.apply(lambda n: (n/ship_data.P_average[0]))"
   ],
   "metadata": {
    "collapsed": false,
    "pycharm": {
     "name": "#%%\n"
    }
   }
  },
  {
   "cell_type": "code",
   "execution_count": 70,
   "outputs": [],
   "source": [
    "ship_data_factors = dict(zip(ship_data['RWS-class'],ship_data['battery_size']))"
   ],
   "metadata": {
    "collapsed": false,
    "pycharm": {
     "name": "#%%\n"
    }
   }
  },
  {
   "cell_type": "code",
   "execution_count": 72,
   "outputs": [],
   "source": [
    "ship_data_factors['M0'] = 0"
   ],
   "metadata": {
    "collapsed": false,
    "pycharm": {
     "name": "#%%\n"
    }
   }
  },
  {
   "cell_type": "code",
   "execution_count": 73,
   "outputs": [],
   "source": [
    "pickle.dump(ship_data_factors, open('data/flow_comp_factors_unscaled.p', 'wb'))\n",
    "pickle.dump(ship_data, open('data/full_ship_data.p', 'wb'))\n",
    "ship_data.to_excel(\"data/ship_types.xlsx\")"
   ],
   "metadata": {
    "collapsed": false,
    "pycharm": {
     "name": "#%%\n"
    }
   }
  },
  {
   "cell_type": "markdown",
   "source": [
    "### Now use factors for flow computation per route"
   ],
   "metadata": {
    "collapsed": false,
    "pycharm": {
     "name": "#%% md\n"
    }
   }
  },
  {
   "cell_type": "code",
   "execution_count": 74,
   "outputs": [],
   "source": [
    "from flow_computation import flow_computation"
   ],
   "metadata": {
    "collapsed": false,
    "pycharm": {
     "name": "#%%\n"
    }
   }
  },
  {
   "cell_type": "code",
   "execution_count": 75,
   "outputs": [],
   "source": [
    "flows = flow_computation(top100)"
   ],
   "metadata": {
    "collapsed": false,
    "pycharm": {
     "name": "#%%\n"
    }
   }
  },
  {
   "cell_type": "code",
   "execution_count": 76,
   "outputs": [
    {
     "data": {
      "text/plain": "{('NLABL', 'NLRTM', 0): 56.29195738171413,\n ('NLAER', 'NLLEY', 0): 18.64663879143117,\n ('NLAER', 'NLNIE', 0): 32.70412910827895,\n ('NLAER', 'NLRTM', 0): 72.11443082292415,\n ('NLAER', 'NLSWI', 0): 12.01451448521234,\n ('NLALK', 'NLIJM', 0): 15.80845333786233,\n ('NLALM', 'NLAMS', 0): 16.708562131082612,\n ('NLAMS', 'NLAER', 0): 94.49126335167097,\n ('NLAMS', 'NLDEV', 0): 28.057627922201387,\n ('NLAMS', 'NLHEJ', 0): 13.299903912364744,\n ('NLAMS', 'NLMOE', 0): 0.11583048188257906,\n ('NLAMS', 'NLMOE', 1): 1.874308737066138,\n ('NLAMS', 'NLMOE', 2): 8.1303236795302,\n ('NLAMS', 'NLMOE', 3): 59.23330450535341,\n ('NLAMS', 'NLMOE', 4): 7.405522911232725,\n ('NLAMS', 'NLOSS', 0): 23.292907276321873,\n ('NLAMS', 'NLTIE', 0): 19.854896401728404,\n ('NLAMS', 'NLUTC', 0): 0.0,\n ('NLAMS', 'NLUTC', 1): 28.978237131297526,\n ('NLAMS', 'NLWGW', 0): 19.03978516148663,\n ('NLAMS', 'NLWMO', 0): 10.980106481381483,\n ('NLAMS', 'NLZAA', 0): 13.204962301148953,\n ('NLAMS', 'NLZWI', 0): 0.4269844051709364,\n ('NLAMS', 'NLZWI', 1): 2.4379011055684647,\n ('NLAMS', 'NLZWI', 2): 6.136376072080334,\n ('NLAMS', 'NLZWI', 3): 5.145477899520846,\n ('NLAMS', 'NLZWI', 4): 1.733131125122989,\n ('NLBON', 'NLRTM', 0): 0.15526705642579505,\n ('NLBON', 'NLRTM', 1): 61.26134325733298,\n ('NLBZM', 'NLRTM', 0): 54.03899532287814,\n ('NLBZM', 'NLRTM', 1): 3.3844902689045315,\n ('NLCUY', 'NLRTM', 0): 30.19502429474609,\n ('NLCUY', 'NLRTM', 1): 0.08879239828052586,\n ('NLDOR', 'NLAMS', 0): 0.29586069472214616,\n ('NLDOR', 'NLAMS', 1): 2.222100308961142,\n ('NLDOR', 'NLAMS', 2): 4.253436264301029,\n ('NLDOR', 'NLAMS', 3): 26.951804199112164,\n ('NLDOR', 'NLAMS', 4): 20.638864270113167,\n ('NLDOR', 'NLRTM', 0): 61.68208164665423,\n ('NLDOR', 'NLRTM', 1): 22.23175741009723,\n ('NLDRA', 'NLAMS', 0): 24.25442742374264,\n ('NLDRO', 'NLKAM', 0): 15.481586073839013,\n ('NLDST', 'NLAMS', 0): 15.092330733518274,\n ('NLFAR', 'NLEEM', 0): 26.31272285818487,\n ('NLFAR', 'NLRTM', 0): 0.0,\n ('NLFAR', 'NLRTM', 1): 0.20249926622098394,\n ('NLFAR', 'NLRTM', 2): 31.166011183578323,\n ('NLGNM', 'NLAMS', 0): 16.507007944492845,\n ('NLGOR', 'NLRTM', 0): 77.02871288925206,\n ('NLHAR', 'NLAMS', 0): 0.7014721899321313,\n ('NLHAR', 'NLAMS', 1): 49.36022041350343,\n ('NLHAR', 'NLDRA', 0): 9.226261128073162,\n ('NLHAR', 'NLWTE', 0): 104.10244250824906,\n ('NLHAS', 'NLAMS', 0): 45.15550868953857,\n ('NLHGL', 'NLAMS', 0): 31.88017228063787,\n ('NLHGL', 'NLRTM', 0): 76.13778743562912,\n ('NLHRD', 'NLAMS', 0): 15.29466453480149,\n ('NLHRV', 'NLAMS', 0): 23.629855175370018,\n ('NLHTB', 'NLBON', 0): 4.580378164560954,\n ('NLHTB', 'NLBON', 1): 2.7707626873100217,\n ('NLHTB', 'NLBZM', 0): 33.92577678852735,\n ('NLIJM', 'NLMOE', 0): 0.17467543847901945,\n ('NLIJM', 'NLMOE', 1): 1.523455329750543,\n ('NLIJM', 'NLMOE', 2): 16.770977943042965,\n ('NLIJM', 'NLMOE', 3): 27.283578828939348,\n ('NLIJM', 'NLMOE', 4): 1.1909245275128173,\n ('NLIJM', 'NLMOE', 5): 0.0,\n ('NLIJM', 'NLMST', 0): 0.0,\n ('NLIJM', 'NLMST', 1): 23.75666972148077,\n ('NLIJM', 'NLRTM', 0): 2.3402379045313833,\n ('NLIJM', 'NLRTM', 1): 1.189856183366239,\n ('NLIJM', 'NLRTM', 2): 24.61573166989826,\n ('NLIJM', 'NLRTM', 3): 7.872527678941456,\n ('NLIJM', 'NLRTM', 4): 0.11402285384558883,\n ('NLKAM', 'NLAMS', 0): 40.82967247666301,\n ('NLKGZ', 'NLAMS', 0): 17.762284694457296,\n ('NLKGZ', 'NLZAA', 0): 2.1432586534584583,\n ('NLLEY', 'NLAMS', 0): 53.73265331451314,\n ('NLLMR', 'NLAMS', 0): 41.81544068941996,\n ('NLLWR', 'NLRTM', 0): 0.0,\n ('NLLWR', 'NLRTM', 1): 30.03431283980049,\n ('NLMEP', 'NLAMS', 0): 4.4915908184789295,\n ('NLMEP', 'NLAMS', 1): 23.07564181437871,\n ('NLMOE', 'NLAPN', 0): 0.0,\n ('NLMOE', 'NLAPN', 1): 59.42234463839491,\n ('NLMOE', 'NLOOS', 0): 59.18999470163118,\n ('NLMOE', 'NLTNZ', 0): 32.30194923957884,\n ('NLNIJ', 'NLABL', 0): 67.1383432211326,\n ('NLNIJ', 'NLAMS', 0): 22.249575789586903,\n ('NLNIJ', 'NLDRU', 0): 32.095257687897565,\n ('NLNIJ', 'NLWAS', 0): 72.34823199752678,\n ('NLNKK', 'NLAMS', 0): 15.206400508390024,\n ('NLNRW', 'NLBON', 0): 7.177493527635974,\n ('NLOMD', 'NLRTM', 0): 0.014810931059559196,\n ('NLOMD', 'NLRTM', 1): 27.614514986128814,\n ('NLOOS', 'NLTLB', 0): 65.84010033159483,\n ('NLOSS', 'NLRTM', 0): 60.3342860920302,\n ('NLPER', 'NLAMS', 0): 0.0,\n ('NLPER', 'NLAMS', 1): 0.0,\n ('NLPER', 'NLAMS', 2): 0.11593762555745007,\n ('NLPER', 'NLAMS', 3): 27.447337207283176,\n ('NLRTM', 'NLAMS', 0): 7.860250077926662,\n ('NLRTM', 'NLAMS', 1): 541.6677238381009,\n ('NLRTM', 'NLAMS', 2): 487.3470751907379,\n ('NLRTM', 'NLAPN', 0): 49.47289197298664,\n ('NLRTM', 'NLARN', 0): 51.67962752625679,\n ('NLRTM', 'NLDZL', 0): 0.01940838205322438,\n ('NLRTM', 'NLDZL', 1): 0.31824110252615717,\n ('NLRTM', 'NLDZL', 2): 43.81237882769175,\n ('NLRTM', 'NLGTB', 0): 0.0,\n ('NLRTM', 'NLGTB', 1): 31.407186746059725,\n ('NLRTM', 'NLKAM', 0): 0.8345604282886484,\n ('NLRTM', 'NLKAM', 1): 1.7915977528875784,\n ('NLRTM', 'NLKAM', 2): 91.61534736773064,\n ('NLRTM', 'NLLID', 0): 8.174996208816866,\n ('NLRTM', 'NLMEP', 0): 0.09704191026612191,\n ('NLRTM', 'NLMEP', 1): 1.5235417630884516,\n ('NLRTM', 'NLMEP', 2): 60.27142961007993,\n ('NLRTM', 'NLMOE', 0): 182.87848668331736,\n ('NLRTM', 'NLMOE', 1): 76.49392921174577,\n ('NLRTM', 'NLNIJ', 0): 72.62279850692559,\n ('NLRTM', 'NLOOS', 0): 0.0,\n ('NLRTM', 'NLOOS', 1): 71.91169959641574,\n ('NLRTM', 'NLSLU', 0): 21.715477265017707,\n ('NLRTM', 'NLSLU', 1): 6.47210591514317,\n ('NLRTM', 'NLTNZ', 0): 70.34783968766133,\n ('NLRTM', 'NLVEN', 0): 46.90944921164065,\n ('NLRTM', 'NLVLI', 0): 209.59560795036018,\n ('NLRTM', 'NLVSN', 0): 0.01940838205322438,\n ('NLRTM', 'NLVSN', 1): 0.0,\n ('NLRTM', 'NLVSN', 2): 35.53802723977807,\n ('NLRTM', 'NLWLK', 0): 0.0,\n ('NLRTM', 'NLWLK', 1): 28.988975145848638,\n ('NLRTM', 'NLZWO', 0): 0.5536481775561767,\n ('NLRTM', 'NLZWO', 1): 2.125994079203945,\n ('NLRTM', 'NLZWO', 2): 34.063024674905684,\n ('NLSTI', 'NLRTM', 0): 0.034219313112783575,\n ('NLSTI', 'NLRTM', 1): 34.770314504052934,\n ('NLSWI', 'NLLEY', 0): 12.367708845965643,\n ('NLTIE', 'NLRTM', 0): 53.529054457630615,\n ('NLTLB', 'NLMOE', 0): 23.807910847127722,\n ('NLTLB', 'NLRTM', 0): 0.014810931059559196,\n ('NLTLB', 'NLRTM', 1): 76.58298900510103,\n ('NLTNZ', 'NLAMS', 0): 0.044432793178677585,\n ('NLTNZ', 'NLAMS', 1): 0.4921688456396783,\n ('NLTNZ', 'NLAMS', 2): 1.300576461757189,\n ('NLTNZ', 'NLAMS', 3): 33.26771885013446,\n ('NLTNZ', 'NLBRS', 0): 28.97991044232482,\n ('NLTNZ', 'NLVLI', 0): 69.65977200055913,\n ('NLUTC', 'NLRTM', 0): 86.29136735716855,\n ('NLUTC', 'NLTIE', 0): 35.932612587034896,\n ('NLVEG', 'NLAMS', 0): 14.940896432753467,\n ('NLVEG', 'NLHEJ', 0): 11.388058918086394,\n ('NLVEG', 'NLRTM', 0): 65.04000389117675,\n ('NLVEN', 'NLBON', 0): 34.22210515413563,\n ('NLVLI', 'NLAMS', 0): 3.2667439063655874,\n ('NLVLI', 'NLAMS', 1): 86.39060733920132,\n ('NLWBR', 'NLRTM', 0): 0.0,\n ('NLWBR', 'NLRTM', 1): 0.0,\n ('NLWBR', 'NLRTM', 2): 39.429577637935616,\n ('NLWGW', 'NLRTM', 0): 19.91581326060727,\n ('NLWSP', 'NLAER', 0): 43.0348913374675,\n ('NLZWO', 'NLAMS', 0): 62.58445906536771}"
     },
     "execution_count": 76,
     "metadata": {},
     "output_type": "execute_result"
    }
   ],
   "source": [
    "flows"
   ],
   "metadata": {
    "collapsed": false,
    "pycharm": {
     "name": "#%%\n"
    }
   }
  },
  {
   "cell_type": "code",
   "execution_count": 77,
   "outputs": [],
   "source": [
    "#sort flows from large to small\n",
    "flows = dict(sorted(flows.items(), key=lambda item: item[1], reverse=True))"
   ],
   "metadata": {
    "collapsed": false,
    "pycharm": {
     "name": "#%%\n"
    }
   }
  },
  {
   "cell_type": "code",
   "execution_count": 78,
   "outputs": [
    {
     "data": {
      "text/plain": "{('NLRTM', 'NLAMS', 1): 541.6677238381009,\n ('NLRTM', 'NLAMS', 2): 487.3470751907379,\n ('NLRTM', 'NLVLI', 0): 209.59560795036018,\n ('NLRTM', 'NLMOE', 0): 182.87848668331736,\n ('NLHAR', 'NLWTE', 0): 104.10244250824906,\n ('NLAMS', 'NLAER', 0): 94.49126335167097,\n ('NLRTM', 'NLKAM', 2): 91.61534736773064,\n ('NLVLI', 'NLAMS', 1): 86.39060733920132,\n ('NLUTC', 'NLRTM', 0): 86.29136735716855,\n ('NLGOR', 'NLRTM', 0): 77.02871288925206,\n ('NLTLB', 'NLRTM', 1): 76.58298900510103,\n ('NLRTM', 'NLMOE', 1): 76.49392921174577,\n ('NLHGL', 'NLRTM', 0): 76.13778743562912,\n ('NLRTM', 'NLNIJ', 0): 72.62279850692559,\n ('NLNIJ', 'NLWAS', 0): 72.34823199752678,\n ('NLAER', 'NLRTM', 0): 72.11443082292415,\n ('NLRTM', 'NLOOS', 1): 71.91169959641574,\n ('NLRTM', 'NLTNZ', 0): 70.34783968766133,\n ('NLTNZ', 'NLVLI', 0): 69.65977200055913,\n ('NLNIJ', 'NLABL', 0): 67.1383432211326,\n ('NLOOS', 'NLTLB', 0): 65.84010033159483,\n ('NLVEG', 'NLRTM', 0): 65.04000389117675,\n ('NLZWO', 'NLAMS', 0): 62.58445906536771,\n ('NLDOR', 'NLRTM', 0): 61.68208164665423,\n ('NLBON', 'NLRTM', 1): 61.26134325733298,\n ('NLOSS', 'NLRTM', 0): 60.3342860920302,\n ('NLRTM', 'NLMEP', 2): 60.27142961007993,\n ('NLMOE', 'NLAPN', 1): 59.42234463839491,\n ('NLAMS', 'NLMOE', 3): 59.23330450535341,\n ('NLMOE', 'NLOOS', 0): 59.18999470163118,\n ('NLABL', 'NLRTM', 0): 56.29195738171413,\n ('NLBZM', 'NLRTM', 0): 54.03899532287814,\n ('NLLEY', 'NLAMS', 0): 53.73265331451314,\n ('NLTIE', 'NLRTM', 0): 53.529054457630615,\n ('NLRTM', 'NLARN', 0): 51.67962752625679,\n ('NLRTM', 'NLAPN', 0): 49.47289197298664,\n ('NLHAR', 'NLAMS', 1): 49.36022041350343,\n ('NLRTM', 'NLVEN', 0): 46.90944921164065,\n ('NLHAS', 'NLAMS', 0): 45.15550868953857,\n ('NLRTM', 'NLDZL', 2): 43.81237882769175,\n ('NLWSP', 'NLAER', 0): 43.0348913374675,\n ('NLLMR', 'NLAMS', 0): 41.81544068941996,\n ('NLKAM', 'NLAMS', 0): 40.82967247666301,\n ('NLWBR', 'NLRTM', 2): 39.429577637935616,\n ('NLUTC', 'NLTIE', 0): 35.932612587034896,\n ('NLRTM', 'NLVSN', 2): 35.53802723977807,\n ('NLSTI', 'NLRTM', 1): 34.770314504052934,\n ('NLVEN', 'NLBON', 0): 34.22210515413563,\n ('NLRTM', 'NLZWO', 2): 34.063024674905684,\n ('NLHTB', 'NLBZM', 0): 33.92577678852735,\n ('NLTNZ', 'NLAMS', 3): 33.26771885013446,\n ('NLAER', 'NLNIE', 0): 32.70412910827895,\n ('NLMOE', 'NLTNZ', 0): 32.30194923957884,\n ('NLNIJ', 'NLDRU', 0): 32.095257687897565,\n ('NLHGL', 'NLAMS', 0): 31.88017228063787,\n ('NLRTM', 'NLGTB', 1): 31.407186746059725,\n ('NLFAR', 'NLRTM', 2): 31.166011183578323,\n ('NLCUY', 'NLRTM', 0): 30.19502429474609,\n ('NLLWR', 'NLRTM', 1): 30.03431283980049,\n ('NLRTM', 'NLWLK', 1): 28.988975145848638,\n ('NLTNZ', 'NLBRS', 0): 28.97991044232482,\n ('NLAMS', 'NLUTC', 1): 28.978237131297526,\n ('NLAMS', 'NLDEV', 0): 28.057627922201387,\n ('NLOMD', 'NLRTM', 1): 27.614514986128814,\n ('NLPER', 'NLAMS', 3): 27.447337207283176,\n ('NLIJM', 'NLMOE', 3): 27.283578828939348,\n ('NLDOR', 'NLAMS', 3): 26.951804199112164,\n ('NLFAR', 'NLEEM', 0): 26.31272285818487,\n ('NLIJM', 'NLRTM', 2): 24.61573166989826,\n ('NLDRA', 'NLAMS', 0): 24.25442742374264,\n ('NLTLB', 'NLMOE', 0): 23.807910847127722,\n ('NLIJM', 'NLMST', 1): 23.75666972148077,\n ('NLHRV', 'NLAMS', 0): 23.629855175370018,\n ('NLAMS', 'NLOSS', 0): 23.292907276321873,\n ('NLMEP', 'NLAMS', 1): 23.07564181437871,\n ('NLNIJ', 'NLAMS', 0): 22.249575789586903,\n ('NLDOR', 'NLRTM', 1): 22.23175741009723,\n ('NLRTM', 'NLSLU', 0): 21.715477265017707,\n ('NLDOR', 'NLAMS', 4): 20.638864270113167,\n ('NLWGW', 'NLRTM', 0): 19.91581326060727,\n ('NLAMS', 'NLTIE', 0): 19.854896401728404,\n ('NLAMS', 'NLWGW', 0): 19.03978516148663,\n ('NLAER', 'NLLEY', 0): 18.64663879143117,\n ('NLKGZ', 'NLAMS', 0): 17.762284694457296,\n ('NLIJM', 'NLMOE', 2): 16.770977943042965,\n ('NLALM', 'NLAMS', 0): 16.708562131082612,\n ('NLGNM', 'NLAMS', 0): 16.507007944492845,\n ('NLALK', 'NLIJM', 0): 15.80845333786233,\n ('NLDRO', 'NLKAM', 0): 15.481586073839013,\n ('NLHRD', 'NLAMS', 0): 15.29466453480149,\n ('NLNKK', 'NLAMS', 0): 15.206400508390024,\n ('NLDST', 'NLAMS', 0): 15.092330733518274,\n ('NLVEG', 'NLAMS', 0): 14.940896432753467,\n ('NLAMS', 'NLHEJ', 0): 13.299903912364744,\n ('NLAMS', 'NLZAA', 0): 13.204962301148953,\n ('NLSWI', 'NLLEY', 0): 12.367708845965643,\n ('NLAER', 'NLSWI', 0): 12.01451448521234,\n ('NLVEG', 'NLHEJ', 0): 11.388058918086394,\n ('NLAMS', 'NLWMO', 0): 10.980106481381483,\n ('NLHAR', 'NLDRA', 0): 9.226261128073162,\n ('NLRTM', 'NLLID', 0): 8.174996208816866,\n ('NLAMS', 'NLMOE', 2): 8.1303236795302,\n ('NLIJM', 'NLRTM', 3): 7.872527678941456,\n ('NLRTM', 'NLAMS', 0): 7.860250077926662,\n ('NLAMS', 'NLMOE', 4): 7.405522911232725,\n ('NLNRW', 'NLBON', 0): 7.177493527635974,\n ('NLRTM', 'NLSLU', 1): 6.47210591514317,\n ('NLAMS', 'NLZWI', 2): 6.136376072080334,\n ('NLAMS', 'NLZWI', 3): 5.145477899520846,\n ('NLHTB', 'NLBON', 0): 4.580378164560954,\n ('NLMEP', 'NLAMS', 0): 4.4915908184789295,\n ('NLDOR', 'NLAMS', 2): 4.253436264301029,\n ('NLBZM', 'NLRTM', 1): 3.3844902689045315,\n ('NLVLI', 'NLAMS', 0): 3.2667439063655874,\n ('NLHTB', 'NLBON', 1): 2.7707626873100217,\n ('NLAMS', 'NLZWI', 1): 2.4379011055684647,\n ('NLIJM', 'NLRTM', 0): 2.3402379045313833,\n ('NLDOR', 'NLAMS', 1): 2.222100308961142,\n ('NLKGZ', 'NLZAA', 0): 2.1432586534584583,\n ('NLRTM', 'NLZWO', 1): 2.125994079203945,\n ('NLAMS', 'NLMOE', 1): 1.874308737066138,\n ('NLRTM', 'NLKAM', 1): 1.7915977528875784,\n ('NLAMS', 'NLZWI', 4): 1.733131125122989,\n ('NLRTM', 'NLMEP', 1): 1.5235417630884516,\n ('NLIJM', 'NLMOE', 1): 1.523455329750543,\n ('NLTNZ', 'NLAMS', 2): 1.300576461757189,\n ('NLIJM', 'NLMOE', 4): 1.1909245275128173,\n ('NLIJM', 'NLRTM', 1): 1.189856183366239,\n ('NLRTM', 'NLKAM', 0): 0.8345604282886484,\n ('NLHAR', 'NLAMS', 0): 0.7014721899321313,\n ('NLRTM', 'NLZWO', 0): 0.5536481775561767,\n ('NLTNZ', 'NLAMS', 1): 0.4921688456396783,\n ('NLAMS', 'NLZWI', 0): 0.4269844051709364,\n ('NLRTM', 'NLDZL', 1): 0.31824110252615717,\n ('NLDOR', 'NLAMS', 0): 0.29586069472214616,\n ('NLFAR', 'NLRTM', 1): 0.20249926622098394,\n ('NLIJM', 'NLMOE', 0): 0.17467543847901945,\n ('NLBON', 'NLRTM', 0): 0.15526705642579505,\n ('NLPER', 'NLAMS', 2): 0.11593762555745007,\n ('NLAMS', 'NLMOE', 0): 0.11583048188257906,\n ('NLIJM', 'NLRTM', 4): 0.11402285384558883,\n ('NLRTM', 'NLMEP', 0): 0.09704191026612191,\n ('NLCUY', 'NLRTM', 1): 0.08879239828052586,\n ('NLTNZ', 'NLAMS', 0): 0.044432793178677585,\n ('NLSTI', 'NLRTM', 0): 0.034219313112783575,\n ('NLRTM', 'NLDZL', 0): 0.01940838205322438,\n ('NLRTM', 'NLVSN', 0): 0.01940838205322438,\n ('NLOMD', 'NLRTM', 0): 0.014810931059559196,\n ('NLTLB', 'NLRTM', 0): 0.014810931059559196,\n ('NLAMS', 'NLUTC', 0): 0.0,\n ('NLFAR', 'NLRTM', 0): 0.0,\n ('NLIJM', 'NLMOE', 5): 0.0,\n ('NLIJM', 'NLMST', 0): 0.0,\n ('NLLWR', 'NLRTM', 0): 0.0,\n ('NLMOE', 'NLAPN', 0): 0.0,\n ('NLPER', 'NLAMS', 0): 0.0,\n ('NLPER', 'NLAMS', 1): 0.0,\n ('NLRTM', 'NLGTB', 0): 0.0,\n ('NLRTM', 'NLOOS', 0): 0.0,\n ('NLRTM', 'NLVSN', 1): 0.0,\n ('NLRTM', 'NLWLK', 0): 0.0,\n ('NLWBR', 'NLRTM', 0): 0.0,\n ('NLWBR', 'NLRTM', 1): 0.0}"
     },
     "execution_count": 78,
     "metadata": {},
     "output_type": "execute_result"
    }
   ],
   "source": [
    "flows"
   ],
   "metadata": {
    "collapsed": false,
    "pycharm": {
     "name": "#%%\n"
    }
   }
  },
  {
   "cell_type": "markdown",
   "source": [
    "## Get and clean harbour data NL, Ger and Bel"
   ],
   "metadata": {
    "collapsed": false,
    "pycharm": {
     "name": "#%% md\n"
    }
   }
  },
  {
   "cell_type": "code",
   "execution_count": null,
   "outputs": [],
   "source": [
    "# now get coordinates harbours, in three files, check encoding frist below\n",
    "pd.read_csv('data/harbour_codes_coords/2021-2 UNLOCODE CodeListPart1.csv', encoding=\"ISO-8859-1\", header=None, sep=\",\",\n",
    "            index_col=None)"
   ],
   "metadata": {
    "collapsed": false,
    "pycharm": {
     "name": "#%%\n"
    }
   }
  },
  {
   "cell_type": "code",
   "execution_count": null,
   "outputs": [],
   "source": [
    "# now identify all files to combine\n",
    "from os import walk\n",
    "\n",
    "f = []\n",
    "for (dirpath, dirnames, filenames) in walk('data/harbour_codes_coords'):\n",
    "    f.extend(filenames)\n",
    "    break"
   ],
   "metadata": {
    "collapsed": false,
    "pycharm": {
     "name": "#%%\n"
    }
   }
  },
  {
   "cell_type": "code",
   "execution_count": null,
   "outputs": [],
   "source": [
    "\n",
    "#empty list to store data\n",
    "li = []\n",
    "\n",
    "#read everything in as object for now\n",
    "for filename in f:\n",
    "    df = pd.read_csv(\"data/harbour_codes_coords/\" + str(filename), sep=',', index_col=None, header=None,\n",
    "                     encoding=\"ISO-8859-1\")\n",
    "    print(filename, 'handled')\n",
    "    li.append(df)"
   ],
   "metadata": {
    "collapsed": false,
    "pycharm": {
     "name": "#%%\n"
    }
   }
  },
  {
   "cell_type": "code",
   "execution_count": null,
   "outputs": [],
   "source": [
    "#create df\n",
    "df_harbour_codes = pd.concat(li, axis=0, ignore_index=True)\n",
    "df_benelux=df_harbour_codes.copy()\n",
    "#subset Dutch harbours\n",
    "# df_benelux = df_harbour_codes.loc[(df_harbour_codes[1] == 'NL')]\n",
    "\n",
    "# uncomment below to loc benelux, for now only use NL because of scope\n",
    "# df_benelux = df_harbour_codes.loc[\n",
    "#     (df_harbour_codes[1] == 'NL') | (df_harbour_codes[1] == 'DE') | (df_harbour_codes[1] == 'BE') | (\n",
    "#                 df_harbour_codes[1] == 'LU')]"
   ],
   "metadata": {
    "collapsed": false,
    "pycharm": {
     "name": "#%%\n"
    }
   }
  },
  {
   "cell_type": "code",
   "execution_count": null,
   "outputs": [],
   "source": [
    "#fillna\n",
    "df_benelux.fillna(np.nan, inplace=True)"
   ],
   "metadata": {
    "collapsed": false,
    "pycharm": {
     "name": "#%%\n"
    }
   }
  },
  {
   "cell_type": "code",
   "execution_count": null,
   "outputs": [],
   "source": [
    "# give appropriate column names\n",
    "df_benelux.rename(columns={0: 'mutation', 1: 'country', 2: 'city_abbr', 3: 'city_full', 4: 'city_full_2', 5: 'subdivision', 6: 'function', 7:'status', 8:'date', 9:'iata_code', 10: 'coords', 11: 'comments'}, inplace=True)"
   ],
   "metadata": {
    "collapsed": false,
    "pycharm": {
     "name": "#%%\n"
    }
   }
  },
  {
   "cell_type": "code",
   "execution_count": null,
   "outputs": [],
   "source": [
    "df_benelux"
   ],
   "metadata": {
    "collapsed": false,
    "pycharm": {
     "name": "#%%\n"
    }
   }
  },
  {
   "cell_type": "code",
   "execution_count": null,
   "outputs": [],
   "source": [
    "# subset relevant columns\n",
    "# df_benelux = df_benelux.loc[:,['country','city_abbr','function', 'coords']]"
   ],
   "metadata": {
    "collapsed": false,
    "pycharm": {
     "name": "#%%\n"
    }
   }
  },
  {
   "cell_type": "code",
   "execution_count": null,
   "outputs": [],
   "source": [
    "#reset index\n",
    "df_benelux.reset_index(inplace=True,drop=True)"
   ],
   "metadata": {
    "collapsed": false,
    "pycharm": {
     "name": "#%%\n"
    }
   }
  },
  {
   "cell_type": "code",
   "execution_count": null,
   "outputs": [],
   "source": [
    "# drop rows with nan values for necessary columns\n",
    "# df_benelux.dropna(subset=['country', 'city_abbr', 'coords'], inplace = True)"
   ],
   "metadata": {
    "collapsed": false,
    "pycharm": {
     "name": "#%%\n"
    }
   }
  },
  {
   "cell_type": "code",
   "execution_count": null,
   "outputs": [],
   "source": [
    "# # convert columns to be normal strings\n",
    "# for i in df_benelux.columns:\n",
    "#     df_benelux[i] = df_benelux[i].astype('|S80')\n",
    "#     df_benelux[i] = df_benelux[i].apply(lambda x: x.decode('utf-8'))"
   ],
   "metadata": {
    "collapsed": false,
    "pycharm": {
     "name": "#%%\n"
    }
   }
  },
  {
   "cell_type": "code",
   "execution_count": null,
   "outputs": [],
   "source": [
    "df_benelux.replace('nan', np.nan)"
   ],
   "metadata": {
    "collapsed": false,
    "pycharm": {
     "name": "#%%\n"
    }
   }
  },
  {
   "cell_type": "code",
   "execution_count": null,
   "outputs": [],
   "source": [
    "df_benelux['harbour_code'] = df_benelux.country+df_benelux.city_abbr"
   ],
   "metadata": {
    "collapsed": false,
    "pycharm": {
     "name": "#%%\n"
    }
   }
  },
  {
   "cell_type": "code",
   "execution_count": null,
   "outputs": [],
   "source": [
    "df_benelux = df_benelux.loc[:,['country','city_abbr','city_full','function','coords','harbour_code']]"
   ],
   "metadata": {
    "collapsed": false,
    "pycharm": {
     "name": "#%%\n"
    }
   }
  },
  {
   "cell_type": "code",
   "execution_count": null,
   "outputs": [],
   "source": [
    "# save cleaned data\n",
    "df_benelux.to_csv('data/cleaned_harbours.csv')"
   ],
   "metadata": {
    "collapsed": false,
    "pycharm": {
     "name": "#%%\n"
    }
   }
  }
 ],
 "metadata": {
  "kernelspec": {
   "display_name": "Python 3",
   "language": "python",
   "name": "python3"
  },
  "language_info": {
   "codemirror_mode": {
    "name": "ipython",
    "version": 2
   },
   "file_extension": ".py",
   "mimetype": "text/x-python",
   "name": "python",
   "nbconvert_exporter": "python",
   "pygments_lexer": "ipython2",
   "version": "2.7.6"
  }
 },
 "nbformat": 4,
 "nbformat_minor": 0
}