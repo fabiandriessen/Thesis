{
 "cells": [
  {
   "cell_type": "code",
   "execution_count": 2,
   "outputs": [],
   "source": [
    "import pickle\n",
    "import pandas as pd\n",
    "import numpy as np\n",
    "from API import K\n",
    "import requests\n",
    "import json\n",
    "import googlemaps"
   ],
   "metadata": {
    "collapsed": false,
    "pycharm": {
     "name": "#%%\n"
    }
   }
  },
  {
   "cell_type": "code",
   "execution_count": 3,
   "outputs": [],
   "source": [
    "#import dataframe and drop nans\n",
    "df_2021 = pd.read_csv('data/2021/2021_combined.csv', dtype={'Data':np.datetime64})\n",
    "#drop nans\n",
    "df_2021 = df_2021.loc[df_2021.SK_CODE.isnull() != True]"
   ],
   "metadata": {
    "collapsed": false,
    "pycharm": {
     "name": "#%%\n"
    }
   }
  },
  {
   "cell_type": "code",
   "execution_count": 4,
   "outputs": [],
   "source": [
    "# group trips by origin, destination and category\n",
    "df_t = df_2021.groupby(by=['UNLO_herkomst', 'UNLO_bestemming', 'SK_CODE']).count().reset_index().sort_values(\n",
    "    by='Jaarmaand', ascending=False).iloc[:, :4].reset_index(drop=True)"
   ],
   "metadata": {
    "collapsed": false,
    "pycharm": {
     "name": "#%%\n"
    }
   }
  },
  {
   "cell_type": "code",
   "execution_count": 5,
   "outputs": [],
   "source": [
    "# give columns english names\n",
    "df_t.rename(\n",
    "    columns={'UNLO_herkomst': 'origin', 'UNLO_bestemming': 'destination', 'SK_CODE': 'type', 'Unnamed: 0': 'trips'},\n",
    "    inplace=True)"
   ],
   "metadata": {
    "collapsed": false,
    "pycharm": {
     "name": "#%%\n"
    }
   }
  },
  {
   "cell_type": "code",
   "execution_count": 6,
   "outputs": [],
   "source": [
    "# subset inland trips\n",
    "df_t = df_t.loc[(df_t.origin.str.contains('NL')) & (df_t.destination.str.contains('NL'))]\n",
    "df_t.reset_index(inplace=True, drop=True)"
   ],
   "metadata": {
    "collapsed": false,
    "pycharm": {
     "name": "#%%\n"
    }
   }
  },
  {
   "cell_type": "code",
   "execution_count": 7,
   "outputs": [
    {
     "data": {
      "text/plain": "{('NLAMS', 'NLRTM', 'M8'): 3510,\n ('NLAMS', 'NLRTM', 'M12'): 2076,\n ('NLRTM', 'NLMOE', 'M8'): 1584,\n ('NLRTM', 'NLRTM', 'M8'): 715,\n ('NLAMS', 'NLRTM', 'M9'): 1316,\n ('NLRTM', 'NLWLK', 'M3'): 973,\n ('NLOOS', 'NLTLB', 'M8'): 688,\n ('NLRTM', 'NLAMS', 'M6'): 881,\n ('NLAER', 'NLAMS', 'BI'): 824,\n ('NLDHR', 'NLDHR', 'M0'): 411,\n ('NLTLB', 'NLRTM', 'M8'): 623,\n ('NLRTM', 'NLOOS', 'M8'): 727,\n ('NLHAR', 'NLWTE', 'M12'): 690,\n ('NLHGL', 'NLRTM', 'M8'): 652,\n ('NLRTM', 'NLVLI', 'M8'): 658,\n ('NLRTM', 'NLRTM', 'M12'): 363,\n ('NLMOE', 'NLOOS', 'M8'): 615,\n ('NLVEG', 'NLRTM', 'M6'): 575,\n ('NLAMS', 'NLRTM', 'M11'): 666,\n ('NLMOE', 'NLAPN', 'M8'): 604,\n ('NLVEG', 'NLRTM', 'M7'): 581,\n ('NLAMS', 'NLMOE', 'M8'): 588,\n ('NLRTM', 'NLMEP', 'M8'): 568,\n ('NLSTD', 'NLSTD', 'M0'): 282,\n ('NLAMS', 'NLLMR', 'BIIL-1'): 553,\n ('NLNIJ', 'NLWAS', 'M8'): 508,\n ('NLWSP', 'NLAER', 'M6'): 510,\n ('NLDOR', 'NLRTM', 'M8'): 459,\n ('NLAMS', 'NLHAS', 'M8'): 436,\n ('NLRTM', 'NLDZL', 'M8'): 415,\n ('NLRTM', 'NLTIE', 'M8'): 450,\n ('NLRTM', 'NLTLB', 'M3'): 439,\n ('NLNIJ', 'NLABL', 'M8'): 413,\n ('NLAMS', 'NLWMO', 'M2'): 451,\n ('NLTNZ', 'NLRTM', 'M8'): 438,\n ('NLRTM', 'NLVLI', 'M9'): 414,\n ('NLAMS', 'NLRTM', 'M10'): 427,\n ('NLRTM', 'NLKAM', 'M8'): 430,\n ('NLRTM', 'NLRTM', 'M6'): 212,\n ('NLAMS', 'NLKGZ', 'M2'): 416,\n ('NLWBR', 'NLRTM', 'M8'): 404,\n ('NLTNZ', 'NLVLI', 'M8'): 390,\n ('NLUTC', 'NLRTM', 'M8'): 386,\n ('NLBZM', 'NLRTM', 'M8'): 373,\n ('NLAER', 'NLAMS', 'M3'): 362,\n ('NLAER', 'NLRTM', 'M6'): 372,\n ('NLALK', 'NLIJM', 'M3'): 373,\n ('NLNKK', 'NLAMS', 'M2'): 330,\n ('NLRTM', 'NLOSS', 'M6'): 348,\n ('NLRTM', 'NLARN', 'M8'): 300,\n ('NLLEY', 'NLAMS', 'M2'): 357,\n ('NLBZM', 'NLRTM', 'M6'): 352,\n ('NLBZM', 'NLHTB', 'M8'): 359,\n ('NLRTM', 'NLNIJ', 'M8'): 358,\n ('NLZWO', 'NLAMS', 'M8'): 343,\n ('NLAMS', 'NLAMS', 'M8'): 175,\n ('NLUTC', 'NLTIE', 'M8'): 324,\n ('NLRTM', 'NLZWO', 'M8'): 321,\n ('NLMOE', 'NLIJM', 'M6'): 320,\n ('NLAER', 'NLRTM', 'M8'): 321,\n ('NLRTM', 'NLSTI', 'M8'): 326,\n ('NLMOE', 'NLRTM', 'C3b'): 324,\n ('NLFAR', 'NLRTM', 'M8'): 309,\n ('NLBON', 'NLNRW', 'M2'): 332,\n ('NLVEG', 'NLHEJ', 'M3'): 314,\n ('NLRTM', 'NLRTM', 'M10'): 164,\n ('NLGOR', 'NLRTM', 'M6'): 317,\n ('NLVLI', 'NLVLI', 'M0'): 159,\n ('NLLEY', 'NLAMS', 'M4'): 307,\n ('NLAER', 'NLLEY', 'M4'): 291,\n ('NLAMS', 'NLDEV', 'M3'): 235,\n ('NLAPN', 'NLRTM', 'M8'): 293,\n ('NLIJM', 'NLMOE', 'M8'): 253,\n ('NLTNZ', 'NLAMS', 'M8'): 264,\n ('NLLWR', 'NLRTM', 'M8'): 293,\n ('NLRTM', 'NLVLI', 'M6'): 282,\n ('NLIJM', 'NLMST', 'M8'): 170,\n ('NLHAR', 'NLAMS', 'M10'): 288,\n ('NLAMS', 'NLAER', 'M6'): 244,\n ('NLHRD', 'NLAMS', 'M6'): 266,\n ('NLRTM', 'NLMOE', 'M6'): 255,\n ('NLVLI', 'NLAMS', 'M12'): 247,\n ('NLCUY', 'NLRTM', 'M8'): 247,\n ('NLHBG', 'NLELL', 'M2'): 270,\n ('NLUTC', 'NLRTM', 'BII-1'): 272,\n ('NLRTM', 'NLHGL', 'M6'): 228,\n ('NLFOX', 'NLRTM', 'M8'): 225,\n ('NLBON', 'NLTLB', 'M2'): 271,\n ('NLRTM', 'NLDOE', 'M8'): 263,\n ('NLTNZ', 'NLTNZ', 'M8'): 133,\n ('NLTLB', 'NLMOE', 'M3'): 247,\n ('NLAPN', 'NLRTM', 'M6'): 236,\n ('NLNIJ', 'NLDRU', 'M8'): 261,\n ('NLRTM', 'NLVSN', 'M8'): 206,\n ('NLBON', 'NLHTB', 'M2'): 236,\n ('NLAMS', 'NLHLM', 'M2'): 217,\n ('NLAMS', 'NLAMS', 'M2'): 129,\n ('NLWIW', 'NLHRN', 'M5'): 236,\n ('NLBON', 'NLEIN', 'M2'): 225,\n ('NLRTM', 'NLTLB', 'M2'): 242,\n ('NLHRV', 'NLAMS', 'M8'): 194,\n ('NLRTM', 'NLSLU', 'M8'): 205,\n ('NLAMS', 'NLLMR', 'M10'): 248,\n ('NLAER', 'NLNIE', 'M6'): 224,\n ('NLAER', 'NLAMS', 'M2'): 230,\n ('NLRTM', 'NLGOR', 'M11'): 205,\n ('NLRTM', 'NLGTB', 'M8'): 221,\n ('NLOSS', 'NLHRW', 'M2'): 234,\n ('NLRTM', 'NLGRQ', 'M8'): 184,\n ('NLTLB', 'NLMOE', 'M8'): 172,\n ('NLRTM', 'NLABL', 'M8'): 223,\n ('NLRTM', 'NLKAM', 'M9'): 224,\n ('NLOSS', 'NLRTM', 'M8'): 211,\n ('NLOMD', 'NLRTM', 'M8'): 219,\n ('NLAER', 'NLNIE', 'M8'): 223,\n ('NLRTM', 'NLZWI', 'M8'): 177,\n ('NLKAM', 'NLAMS', 'M6'): 185,\n ('NLZWO', 'NLAMS', 'M2'): 172,\n ('NLAMS', 'NLUTC', 'M8'): 186,\n ('NLRTM', 'NLBON', 'M12'): 212,\n ('NLBON', 'NLVEN', 'M8'): 215,\n ('NLHEJ', 'NLKOR', 'M3'): 162,\n ('NLRTM', 'NLVLI', 'M11'): 200,\n ('NLKGZ', 'NLZAA', 'BIIa-1'): 211,\n ('NLRTM', 'NLAPN', 'M4'): 155,\n ('NLRTM', 'NLAMS', 'C3l'): 152,\n ('NLAER', 'NLSWI', 'M3'): 191,\n ('NLNIJ', 'NLABL', 'M9'): 195,\n ('NLRTM', 'NLLID', 'M3'): 189,\n ('NLAMS', 'NLHGL', 'M7'): 204,\n ('NLFAR', 'NLBOT', 'M8'): 154,\n ('NLNIJ', 'NLWAS', 'M9'): 203,\n ('NLAMS', 'NLVAN', 'M2'): 203,\n ('NLDOR', 'NLLSH', 'M2'): 147,\n ('NLAMS', 'NLAER', 'M4'): 197,\n ('NLHAR', 'NLHKK', 'M4'): 171,\n ('NLEES', 'NLAMS', 'M4'): 202,\n ('NLMOE', 'NLTNZ', 'M8'): 144,\n ('NLAMS', 'NLDRA', 'BII-1'): 157,\n ('NLALM', 'NLHGL', 'M8'): 114,\n ('NLRTM', 'NLDON', 'M3'): 196,\n ('NLRTM', 'NLVEN', 'M9'): 125,\n ('NLBON', 'NLSTI', 'BIIa-1'): 132,\n ('NLAMS', 'NLHEJ', 'M2'): 185,\n ('NLMAA', 'NLNRW', 'M2'): 181,\n ('NLRTM', 'NLGOR', 'M12'): 188,\n ('NLRTM', 'NLKAZ', 'M3'): 150,\n ('NLDRO', 'NLKAM', 'M4'): 190,\n ('NLHEJ', 'NLDVT', 'M2'): 192,\n ('NLAMS', 'NLTIE', 'M4'): 167,\n ('NLAMS', 'NLDEV', 'M4'): 161,\n ('NLRTM', 'NLVEN', 'C3l'): 151,\n ('NLRTM', 'NLVLI', 'M12'): 190,\n ('NLHGL', 'NLAMS', 'M6'): 178,\n ('NLABL', 'NLRTM', 'M9'): 183,\n ('NLEEM', 'NLRTM', 'M8'): 130,\n ('NLBON', 'NLRTM', 'M6'): 114,\n ('NLRTM', 'NLRTM', 'M9'): 92,\n ('NLTNZ', 'NLBRS', 'M8'): 159,\n ('NLHLM', 'NLRTM', 'M2'): 172,\n ('NLBON', 'NLWSM', 'BII-1'): 164,\n ('NLDOR', 'NLRTM', 'M6'): 175,\n ('NLOMD', 'NLWAS', 'M8'): 171,\n ('NLDOR', 'NLAMS', 'M8'): 173,\n ('NLTNZ', 'NLTNZ', 'M0'): 90,\n ('NLHTB', 'NLRTM', 'M8'): 144,\n ('NLSWI', 'NLWSP', 'M6'): 164,\n ('NLRTM', 'NLAPN', 'M3'): 168,\n ('NLHEJ', 'NLAAL', 'M3'): 166,\n ('NLRTM', 'NLIJM', 'M8'): 164,\n ('NLAMS', 'NLWIW', 'M8'): 169,\n ('NLRTM', 'NLBNB', 'M8'): 117,\n ('NLLEY', 'NLAMS', 'M6'): 148,\n ('NLAMS', 'NLVLI', 'M8'): 173,\n ('NLKAM', 'NLAMS', 'M5'): 168,\n ('NLIJM', 'NLRTM', 'M2'): 116,\n ('NLEEM', 'NLFAR', 'M8'): 172,\n ('NLKGZ', 'NLAMS', 'M3'): 172,\n ('NLWSP', 'NLAER', 'M8'): 172,\n ('NLLEY', 'NLSWI', 'M3'): 171,\n ('NLHRW', 'NLTEA', 'M3'): 162,\n ('NLMOE', 'NLBRD', 'M6'): 150,\n ('NLPER', 'NLFOX', 'M8'): 138,\n ('NLTLB', 'NLZBG', 'M3'): 167,\n ('NLTNZ', 'NLTNZ', 'BII-1'): 85,\n ('NLBNB', 'NLHGL', 'M8'): 115,\n ('NLAMS', 'NLGRQ', 'M8'): 156,\n ('NLKAM', 'NLAMS', 'M8'): 160,\n ('NLZWO', 'NLAMS', 'M6'): 158,\n ('NLAMS', 'NLDEV', 'M6'): 155,\n ('NLVSN', 'NLRTM', 'M9'): 126,\n ('NLDFT', 'NLBON', 'M3'): 164,\n ('NLPER', 'NLVEG', 'M6'): 123,\n ('NLVEN', 'NLBON', 'M9'): 91,\n ('NLOSS', 'NLCUY', 'M8'): 142,\n ('NLNIJ', 'NLDRU', 'M6'): 156,\n ('NLMEP', 'NLZWS', 'BII-1'): 134,\n ('NLNIJ', 'NLAMS', 'M8'): 145,\n ('NLBON', 'NLMST', 'M2'): 146,\n ('NLKWR', 'NLRTM', 'M3'): 113,\n ('NLRTM', 'NLMOE', 'M9'): 144,\n ('NLLEY', 'NLLWR', 'M4'): 144,\n ('NLDRO', 'NLKAM', 'M6'): 147,\n ('NLBON', 'NLRTM', 'M9'): 103,\n ('NLRLA', 'NLRTM', 'M8'): 82,\n ('NLAMS', 'NLVLI', 'M11'): 152,\n ('NLZMM', 'NLRTM', 'M4'): 101,\n ('NLAMS', 'NLMOE', 'M6'): 142,\n ('NLDZL', 'NLFAR', 'M8'): 140,\n ('NLKAM', 'NLRTM', 'M10'): 150,\n ('NLGNM', 'NLAMS', 'M6'): 134,\n ('NLBON', 'NLNIJ', 'M5'): 151,\n ('NLVLI', 'NLRTM', 'M10'): 140,\n ('NLMOE', 'NLTNZ', 'BII-1'): 134,\n ('NLAMS', 'NLAER', 'M8'): 132,\n ('NLRTM', 'NLWRV', 'M6'): 140,\n ('NLAMS', 'NLDST', 'BIIa-1'): 146,\n ('NLSWI', 'NLNKK', 'M3'): 134,\n ('NLHRW', 'NLVEG', 'M2'): 144,\n ('NLAMS', 'NLRTM', 'BII-2b'): 132,\n ('NLHAR', 'NLDRA', 'M2'): 134,\n ('NLHAR', 'NLLWR', 'M2'): 128,\n ('NLBON', 'NLVEG', 'M3'): 147,\n ('NLHEJ', 'NLEML', 'M2'): 133,\n ('NLRTM', 'NLGTB', 'M6'): 120,\n ('NLBRS', 'NLTNZ', 'M6'): 144,\n ('NLMAA', 'NLCUY', 'BI'): 134,\n ('NLBOT', 'NLAMS', 'M8'): 144,\n ('NLAER', 'NLRTM', 'M10'): 137,\n ('NLVEG', 'NLAMS', 'M2'): 125,\n ('NLPER', 'NLAMS', 'M8'): 127,\n ('NLLEY', 'NLAMS', 'M8'): 131,\n ('NLWSM', 'NLLIN', 'BI'): 130,\n ('NLHEJ', 'NLHIL', 'M3'): 116,\n ('NLRTM', 'NLQDG', 'M3'): 137,\n ('NLEEM', 'NLALM', 'M8'): 72,\n ('NLAMS', 'NLARK', 'M4'): 124,\n ('NLRTM', 'NLZMM', 'M2'): 126,\n ('NLHTB', 'NLABL', 'M8'): 114,\n ('NLAMS', 'NLVEG', 'BI'): 122,\n ('NLDTK', 'NLSCH', 'M4'): 130,\n ('NLTNZ', 'NLMST', 'M8'): 137,\n ('NLBON', 'NLKSL', 'BII-1'): 131,\n ('NLSTI', 'NLAMS', 'M8'): 113,\n ('NLDST', 'NLHTB', 'M3'): 128,\n ('NLOOS', 'NLPER', 'M8'): 71,\n ('NLAER', 'NLSWI', 'M4'): 118,\n ('NLAMS', 'NLEIN', 'M3'): 133,\n ('NLGRQ', 'NLHAR', 'M4'): 99,\n ('NLTNZ', 'NLVLI', 'M6'): 129,\n ('NLAMS', 'NLAMS', 'M12'): 68,\n ('NLAPN', 'NLKWZ', 'M6'): 99,\n ('NLAMS', 'NLDEV', 'M2'): 133,\n ('NLVLA', 'NLSLU', 'M10'): 79,\n ('NLHAR', 'NLKAM', 'M6'): 92,\n ('NLAMS', 'NLOMD', 'M8'): 123,\n ('NLTNZ', 'NLTNZ', 'M6'): 66,\n ('NLHEJ', 'NLDUS', 'M3'): 100,\n ('NLHAR', 'NLDRA', 'M4'): 116,\n ('NLLOM', 'NLHAG', 'M3'): 104,\n ('NLHAN', 'NLBRS', 'M8'): 109,\n ('NLRTM', 'NLOSS', 'M7'): 115,\n ('NLRTM', 'NLRTM', 'M11'): 65,\n ('NLBON', 'NLAER', 'M2'): 101,\n ('NLRTM', 'NLAMS', 'M5'): 86,\n ('NLIJM', 'NLHAR', 'M8'): 115,\n ('NLDHR', 'NLRTM', 'M8'): 102,\n ('NLMEP', 'NLAMS', 'M8'): 95,\n ('NLHEJ', 'NLAME', 'M3'): 114,\n ('NLDST', 'NLOSS', 'M2'): 121,\n ('NLRTM', 'NLGRO', 'M8'): 90,\n ('NLAMS', 'NLIJM', 'M6'): 113,\n ('NLHGL', 'NLAMS', 'M8'): 102,\n ('NLAMS', 'NLRAS', 'M4'): 106,\n ('NLVEG', 'NLRTM', 'BI'): 110,\n ('NLAMS', 'NLZWI', 'M6'): 123,\n ('NLLEY', 'NLWSP', 'M6'): 120,\n ('NLZWO', 'NLAMS', 'M3'): 92,\n ('NLSNK', 'NLLEY', 'M5'): 114,\n ('NLARK', 'NLHRW', 'M3'): 114,\n ('NLWGW', 'NLRTM', 'M8'): 108,\n ('NLBON', 'NLHAG', 'M3'): 76,\n ('NLSTI', 'NLTNZ', 'M8'): 109,\n ('NLBON', 'NLVEG', 'M2'): 95,\n ('NLRTM', 'NLOSS', 'M2'): 110,\n ('NLDOR', 'NLAMS', 'M9'): 80,\n ('NLLEY', 'NLAER', 'M3'): 103,\n ('NLVLI', 'NLSTD', 'M8'): 77,\n ('NLAMS', 'NLLEY', 'M3'): 108,\n ('NLAMS', 'NLZAA', 'M2'): 115,\n ('NLHAN', 'NLBRS', 'M6'): 91,\n ('NLMOE', 'NLSLU', 'M8'): 73,\n ('NLVLI', 'NLVLI', 'M6'): 59,\n ('NLKAM', 'NLIJM', 'M2'): 78,\n ('NLAMS', 'NLAMS', 'M6'): 58,\n ('NLEEM', 'NLALM', 'M6'): 63,\n ('NLRTM', 'NLARN', 'M12'): 98,\n ('NLRTM', 'NLNKK', 'M2'): 80,\n ('NLZWO', 'NLAMS', 'M4'): 84,\n ('NLDIN', 'NLASP', 'M3'): 59,\n ('NLDFT', 'NLALM', 'M3'): 58,\n ('NLRTM', 'NLAMS', 'BIIa-1'): 102,\n ('NLAMS', 'NLOSS', 'M2'): 92,\n ('NLAMS', 'NLHAR', 'M8'): 101,\n ('NLAER', 'NLLEY', 'M6'): 81,\n ('NLHAR', 'NLKAM', 'M4'): 87,\n ('NLAMS', 'NLDEV', 'M5'): 108,\n ('NLHRW', 'NLAER', 'M3'): 71,\n ('NLOSS', 'NLMOE', 'M6'): 69,\n ('NLRTM', 'NLGOU', 'M2'): 92,\n ('NLHAR', 'NLAMS', 'M6'): 93,\n ('NLAMS', 'NLUTC', 'M6'): 97,\n ('NLSMO', 'NLZOT', 'M3'): 97,\n ('NLLWR', 'NLWIW', 'M5'): 91,\n ('NLGTB', 'NLAMS', 'M8'): 101,\n ('NLMAA', 'NLOSS', 'M5'): 95,\n ('NLSLU', 'NLOSS', 'M8'): 57,\n ('NLRTM', 'NLKAM', 'M6'): 89,\n ('NLRTM', 'NLMOE', 'M5'): 104,\n ('NLMAA', 'NLHEJ', 'M3'): 95,\n ('NLHRV', 'NLAMS', 'M6'): 87,\n ('NLRTM', 'NLALM', 'M8'): 89,\n ('NLSTD', 'NLSTD', 'M4'): 54,\n ('NLLWR', 'NLPER', 'M8'): 95,\n ('NLPER', 'NLAMS', 'M6'): 105,\n ('NLRTM', 'NLLID', 'M2'): 94,\n ('NLAMS', 'NLVLA', 'M6'): 91,\n ('NLMOE', 'NLVLI', 'M8'): 102,\n ('NLRTM', 'NLAMS', 'BII-1'): 97,\n ('NLEEM', 'NLALM', 'M5'): 63,\n ('NLMAA', 'NLHTB', 'M2'): 103,\n ('NLSCH', 'NLWIW', 'M5'): 99,\n ('NLAMS', 'NLVLA', 'M8'): 90,\n ('NLDRA', 'NLAMS', 'BII-2L'): 58,\n ('NLHGL', 'NLDFT', 'M3'): 88,\n ('NLROO', 'NLSLU', 'M6'): 72,\n ('NLVLI', 'NLTNZ', 'M10'): 97,\n ('NLRTM', 'NLAMS', 'M7'): 100,\n ('NLHGL', 'NLWIS', 'M4'): 51,\n ('NLDOR', 'NLVLI', 'M8'): 91,\n ('NLDHR', 'NLSCH', 'M4'): 82,\n ('NLDST', 'NLAMS', 'M8'): 92,\n ('NLUTC', 'NLRTM', 'M6'): 77,\n ('NLDFT', 'NLALM', 'M4'): 50,\n ('NLPER', 'NLMEP', 'M8'): 95,\n ('NLAMS', 'NLENS', 'M8'): 64,\n ('NLAMS', 'NLZAA', 'M3'): 97,\n ('NLENK', 'NLAMS', 'M8'): 86,\n ('NLBON', 'NLAME', 'M4'): 71,\n ('NLAMS', 'NLHTB', 'M6'): 86,\n ('NLNIJ', 'NLPER', 'M8'): 90,\n ('NLRTM', 'NLZAA', 'M11'): 96,\n ('NLLEY', 'NLLEY', 'M4'): 49,\n ('NLAER', 'NLSPL', 'M3'): 90,\n ('NLLSH', 'NLBON', 'M2'): 90,\n ('NLBON', 'NLBRD', 'M4'): 90,\n ('NLTNZ', 'NLRTM', 'M6'): 89,\n ('NLLIN', 'NLWSM', 'B04'): 92,\n ('NLAMS', 'NLALM', 'M6'): 94,\n ('NLWED', 'NLRTM', 'M8'): 73,\n ('NLDOR', 'NLRTM', 'M12'): 86,\n ('NLWAS', 'NLOMD', 'M9'): 94,\n ('NLEUR', 'NLWRV', 'M6'): 89,\n ('NLRTM', 'NLTNZ', 'M12'): 66,\n ('NLEEM', 'NLUTC', 'M8'): 57,\n ('NLGNM', 'NLAMS', 'M3'): 86,\n ('NLMOE', 'NLETT', 'M6'): 94,\n ('NLHTR', 'NLNWG', 'M4'): 80,\n ('NLRTM', 'NLUTC', 'M10'): 86,\n ('NLVLL', 'NLHAR', 'M4'): 80,\n ('NLLEY', 'NLHEG', 'M4'): 79,\n ('NLAMS', 'NLZWO', 'BII-1'): 81,\n ('NLBRS', 'NLSLU', 'M8'): 93,\n ('NLHAR', 'NLHAR', 'M6'): 47,\n ('NLLWR', 'NLAMS', 'M6'): 56,\n ('NLNER', 'NLVEN', 'M8'): 93,\n ('NLZAD', 'NLZAA', 'M4'): 93,\n ('NLRTM', 'NLDOI', 'M2'): 82,\n ('NLKSL', 'NLOIH', 'M3'): 92,\n ('NLAER', 'NLAER', 'M6'): 46,\n ('NLMSB', 'NLBON', 'M2'): 56,\n ('NLENS', 'NLRTM', 'M8'): 58,\n ('NLHAR', 'NLOME', 'M4'): 82,\n ('NLMOE', 'NLLMR', 'M5'): 91,\n ('NLRTM', 'NLDOR', 'M9'): 82,\n ('NLGOE', 'NLBRS', 'M5'): 64,\n ('NLBON', 'NLRTM', 'M5'): 53,\n ('NLMAA', 'NLTLB', 'M2'): 58,\n ('NLAMS', 'NLWSP', 'M3'): 69,\n ('NLWRV', 'NLZAA', 'M4'): 87,\n ('NLAER', 'NLSWI', 'M2'): 59,\n ('NLRTM', 'NLBON', 'M8'): 66,\n ('NLAMS', 'NLAMS', 'M9'): 44,\n ('NLMEP', 'NLRTM', 'M6'): 84,\n ('NLAMS', 'NLLOB', 'M9'): 59,\n ('NLHEJ', 'NLOOS', 'M6'): 79,\n ('NLWGW', 'NLAMS', 'M8'): 83,\n ('NLNIJ', 'NLRTM', 'C3l'): 86,\n ('NLAMS', 'NLLEY', 'B04'): 72,\n ('NLAMS', 'NLWGW', 'M2'): 75,\n ('NLAMS', 'NLOSS', 'M4'): 86,\n ('NLKAM', 'NLDRO', 'M5'): 83,\n ('NLLEY', 'NLSWI', 'M2'): 79,\n ('NLEEM', 'NLLMR', 'BIIa-1'): 78,\n ('NLVEG', 'NLRTM', 'M2'): 76,\n ('NLAMS', 'NLEIN', 'M2'): 69,\n ('NLNKK', 'NLAMS', 'M5'): 73,\n ('NLHEJ', 'NLKRD', 'M3'): 75,\n ('NLRTM', 'NLVLA', 'M8'): 74,\n ('NLAMS', 'NLRAS', 'M2'): 74,\n ('NLAMS', 'NLDHR', 'M8'): 73,\n ('NLRTM', 'NLAPN', 'M2'): 84,\n ('NLRTM', 'NLNIJ', 'M11'): 75,\n ('NLRTM', 'NLAMS', 'M3'): 71,\n ('NLAER', 'NLRTM', 'BII-1'): 82,\n ('NLSLU', 'NLRTM', 'M10'): 46,\n ('NLHAR', 'NLOME', 'M6'): 77,\n ('NLDZL', 'NLBOT', 'M8'): 73,\n ('NLFAR', 'NLEEM', 'BIIa-1'): 78,\n ('NLRTM', 'NLNIJ', 'M6'): 66,\n ('NLAMS', 'NLAPN', 'M6'): 54,\n ('NLBON', 'NLARK', 'M2'): 61,\n ('NLLMR', 'NLDRA', 'BII-1'): 68,\n ('NLRTM', 'NLRTM', 'C3b'): 42,\n ('NLOME', 'NLIJM', 'M2'): 42,\n ('NLAMS', 'NLOSS', 'BII-1'): 58,\n ('NLMOE', 'NLRNK', 'M6'): 81,\n ('NLALM', 'NLAMS', 'M7'): 80,\n ('NLAMS', 'NLHBG', 'M2'): 60,\n ('NLAMS', 'NLEEM', 'M8'): 62,\n ('NLIJM', 'NLMST', 'M6'): 50,\n ('NLZWO', 'NLAMS', 'M5'): 62,\n ('NLSWI', 'NLAMS', 'M6'): 63,\n ('NLMID', 'NLBRS', 'M6'): 49,\n ('NLWSC', 'NLAMS', 'M4'): 80,\n ('NLDOR', 'NLAMS', 'M6'): 70,\n ('NLNKK', 'NLHRD', 'M4'): 73,\n ('NLBGU', 'NLIJM', 'M2'): 49,\n ('NLBRD', 'NLRTM', 'M6'): 63,\n ('NLEUR', 'NLWLK', 'M3'): 64,\n ('NLZWI', 'NLZWO', 'M2'): 42,\n ('NLBRS', 'NLZUL', 'M6'): 73,\n ('NLOMD', 'NLLSH', 'M2'): 80,\n ('NLRTM', 'NLKAM', 'M2'): 43,\n ('NLAMS', 'NLWGW', 'M3'): 77,\n ('NLBON', 'NLWLK', 'M4'): 75,\n ('NLLOM', 'NLLIT', 'M8'): 73,\n ('NLRTM', 'NLOME', 'M2'): 44,\n ('NLIJM', 'NLSCH', 'M3'): 54,\n ('NLAMS', 'NLHLM', 'M3'): 52,\n ('NLBON', 'NLRTM', 'M4'): 63,\n ('NLHAR', 'NLHAR', 'M12'): 40,\n ('NLRTM', 'NLWMO', 'M6'): 69,\n ('NLHAR', 'NLHAR', 'M3'): 40,\n ('NLSTD', 'NLBRS', 'M8'): 41,\n ('NLHAR', 'NLHAR', 'M4'): 40,\n ('NLAMS', 'NLTIE', 'M2'): 53,\n ('NLRTM', 'NLMOE', 'M12'): 70,\n ('NLOSS', 'NLAMS', 'M6'): 76,\n ('NLSJK', 'NLRTM', 'M8'): 72,\n ('NLHEJ', 'NLDUS', 'M5'): 69,\n ('NLSWI', 'NLLEY', 'M4'): 76,\n ('NLSTD', 'NLSTD', 'M6'): 39,\n ('NLSWI', 'NLNKK', 'M4'): 60,\n ('NLGNM', 'NLAMS', 'M4'): 64,\n ('NLAMS', 'NLRHD', 'M6'): 46,\n ('NLAMS', 'NLZAA', 'M6'): 72,\n ('NLAMS', 'NLVEG', 'M4'): 75,\n ('NLRTM', 'NLMST', 'M6'): 60,\n ('NLCUY', 'NLRTM', 'M6'): 67,\n ('NLIJM', 'NLMST', 'M7'): 43,\n ('NLDOI', 'NLAMS', 'M2'): 57,\n ('NLOSS', 'NLVEG', 'M6'): 60,\n ('NLIJM', 'NLTLB', 'M1'): 71,\n ('NLDRO', 'NLELB', 'M3'): 77,\n ('NLAMS', 'NLBON', 'BII-2L'): 45,\n ('NLAKR', 'NLHAR', 'M4'): 75,\n ('NLMEP', 'NLAMS', 'M4'): 57,\n ('NLOBO', 'NLMST', 'M6'): 73,\n ('NLMLR', 'NLRTM', 'M6'): 68,\n ('NLAMS', 'NLNKK', 'B03'): 69,\n ('NLHTB', 'NLBON', 'M3'): 65,\n ('NLHGL', 'NLDFT', 'M4'): 76,\n ('NLKSL', 'NLLIN', 'B04'): 72,\n ('NLPHL', 'NLBON', 'M2'): 40,\n ('NLMAA', 'NLOOS', 'M6'): 72,\n ('NLAMS', 'NLRTM', 'BIIL-1'): 69,\n ('NLEUR', 'NLHAR', 'M8'): 70,\n ('NLMST', 'NLSDB', 'M5'): 74,\n ('NLTIE', 'NLWSP', 'M2'): 73,\n ('NLLEY', 'NLRTM', 'M6'): 63,\n ('NLBON', 'NLHAG', 'M2'): 61,\n ('NLWGW', 'NLRTM', 'M3'): 76,\n ('NLMOE', 'NLAPN', 'M6'): 59,\n ('NLPNN', 'NLRTM', 'M6'): 60,\n ('NLVLI', 'NLVLI', 'M8'): 37,\n ('NLVEN', 'NLVLI', 'M6'): 37,\n ('NLMEP', 'NLWTZ', 'M8'): 63,\n ('NLTNZ', 'NLTNZ', 'M10'): 37,\n ('NLOSS', 'NLRTM', 'M4'): 60,\n ('NLHRW', 'NLTLB', 'M2'): 71,\n ('NLALK', 'NLIJM', 'M2'): 66,\n ('NLFAR', 'NLFAR', 'M8'): 37,\n ('NLAER', 'NLSPL', 'M4'): 66,\n ('NLDST', 'NLARK', 'M3'): 69,\n ('NLAMS', 'NLFAR', 'M6'): 73,\n ('NLMIH', 'NLBRS', 'M6'): 53,\n ('NLDZL', 'NLRTM', 'M6'): 69,\n ('NLCOE', 'NLDST', 'M1'): 71,\n ('NLPER', 'NLPER', 'M6'): 36,\n ('NLVLI', 'NLHAN', 'M9'): 56,\n ('NLVLI', 'NLVLI', 'M9'): 36,\n ('NLVEG', 'NLEPL', 'BI'): 70,\n ('NLRTM', 'NLDEV', 'M3'): 61,\n ('NLEEM', 'NLALM', 'M7'): 41,\n ('NLHTB', 'NLRTM', 'M6'): 62,\n ('NLHFN', 'NLHRW', 'M8'): 46,\n ('NLRTM', 'NLAMS', 'M4'): 65,\n ('NLRTM', 'NLDRU', 'M8'): 42,\n ('NLTIE', 'NLAMS', 'M6'): 70,\n ('NLTIE', 'NLRTM', 'M6'): 65,\n ('NLIJM', 'NLRTM', 'M9'): 52,\n ('NLAMS', 'NLVLI', 'M9'): 70,\n ('NLDEV', 'NLRTM', 'M6'): 68,\n ('NLTNZ', 'NLHAN', 'M8'): 50,\n ('NLHLM', 'NLRTM', 'M3'): 54,\n ('NLDRA', 'NLIJM', 'M2'): 71,\n ('NLBON', 'NLBZM', 'M6'): 43,\n ('NLAMS', 'NLGNM', 'M2'): 72,\n ('NLHAR', 'NLHAR', 'M2'): 36,\n ('NLDST', 'NLAPN', 'M4'): 54,\n ('NLFOX', 'NLVDM', 'M6'): 61,\n ('NLTNZ', 'NLBRS', 'M3'): 51,\n ('NLELB', 'NLKAM', 'M3'): 63,\n ('NLALK', 'NLAMS', 'M4'): 62,\n ('NLMEP', 'NLMEP', 'BII-1'): 36,\n ('NLBRD', 'NLRTM', 'M4'): 69,\n ('NLALM', 'NLHGL', 'M5'): 35,\n ('NLRTM', 'NLNIJ', 'M9'): 64,\n ('NLRTM', 'NLAMS', 'M2'): 63,\n ('NLGRQ', 'NLDFT', 'M2'): 56,\n ('NLLWR', 'NLHAR', 'M4'): 58,\n ('NLMEP', 'NLAMS', 'M6'): 48,\n ('NLWGW', 'NLRTM', 'M2'): 69,\n ('NLSJK', 'NLBIW', 'M8'): 58,\n ('NLUTC', 'NLLEY', 'M8'): 66,\n ('NLDOR', 'NLAMS', 'M10'): 63,\n ('NLTIE', 'NLDIM', 'M3'): 50,\n ('NLGRA', 'NLRTM', 'M8'): 41,\n ('NLVLL', 'NLZOT', 'M3'): 51,\n ('NLAMS', 'NLWGW', 'M6'): 67,\n ('NLSWI', 'NLBAA', 'M3'): 61,\n ('NLARN', 'NLHEJ', 'M8'): 36,\n ('NLBON', 'NLOSS', 'M2'): 43,\n ('NLWGW', 'NLAMS', 'M4'): 60,\n ('NLMSB', 'NLAMS', 'M3'): 65,\n ('NLLOM', 'NLHAG', 'M4'): 44,\n ('NLTNZ', 'NLVLI', 'M0'): 65,\n ('NLLEY', 'NLLEY', 'M2'): 34,\n ('NLVLL', 'NLHAR', 'M3'): 62,\n ('NLAME', 'NLIJM', 'M2'): 64,\n ('NLAMS', 'NLZAA', 'B04'): 61,\n ('NLOSS', 'NLRTM', 'M5'): 49,\n ('NLBRD', 'NLBRS', 'M6'): 49,\n ('NLWGW', 'NLRTM', 'M6'): 58,\n ('NLVLI', 'NLRTM', 'M5'): 54,\n ('NLCUY', 'NLRTM', 'M7'): 54,\n ('NLLWR', 'NLRTM', 'M6'): 52,\n ('NLRTM', 'NLGNM', 'M3'): 52,\n ('NLRTM', 'NLMSB', 'M6'): 49,\n ('NLWLK', 'NLAMS', 'M5'): 62,\n ('NLMOE', 'NLBON', 'M8'): 35,\n ('NLBZM', 'NLBRS', 'M6'): 52,\n ('NLDST', 'NLAER', 'M3'): 49,\n ('NLZWS', 'NLAMS', 'BII-2L'): 37,\n ('NLAMS', 'NLDIN', 'M3'): 36,\n ('NLHEJ', 'NLOOS', 'M5'): 45,\n ('NLTNZ', 'NLBRS', 'M5'): 47,\n ('NLBON', 'NLENS', 'M7'): 33,\n ('NLLEY', 'NLGRQ', 'M5'): 54,\n ('NLHTR', 'NLNWG', 'M5'): 59,\n ('NLVLI', 'NLVLA', 'M8'): 60,\n ('NLDOR', 'NLVLI', 'M9'): 57,\n ('NLEEM', 'NLMOE', 'M6'): 32,\n ('NLRTM', 'NLDEV', 'M5'): 61,\n ('NLAMS', 'NLDST', 'M6'): 64,\n ('NLTNZ', 'NLTNZ', 'BI'): 32,\n ('NLNIJ', 'NLRTM', 'BIIa-1'): 49,\n ('NLURK', 'NLZEW', 'M2'): 51,\n ('NLLCH', 'NLAMS', 'M6'): 52,\n ('NLLOM', 'NLKRD', 'M3'): 62,\n ('NLVEN', 'NLNER', 'M6'): 64,\n ('NLEEM', 'NLDZL', 'M2'): 62,\n ('NLMOE', 'NLRTM', 'M3'): 49,\n ('NLWIW', 'NLFRK', 'M5'): 59,\n ('NLRTM', 'NLRTM', 'M3'): 32,\n ('NLRTM', 'NLIJM', 'M6'): 54,\n ('NLEES', 'NLMEP', 'M4'): 51,\n ('NLOSS', 'NLIJM', 'M2'): 33,\n ('NLAMS', 'NLHEJ', 'M4'): 57,\n ('NLELB', 'NLHRD', 'M3'): 32,\n ('NLSLU', 'NLVEG', 'M3'): 42,\n ('NLPER', 'NLWLK', 'M3'): 45,\n ('NLSWI', 'NLLEY', 'M6'): 56,\n ('NLHGL', 'NLWIS', 'M3'): 32,\n ('NLZMM', 'NLRTM', 'M3'): 50,\n ('NLEES', 'NLZWO', 'M4'): 54,\n ('NLRTM', 'NLAMS', 'BII-2L'): 39,\n ('NLDOE', 'NLNIJ', 'M8'): 56,\n ('NLDFT', 'NLDST', 'M3'): 32,\n ('NLALM', 'NLRTM', 'M7'): 56,\n ('NLALK', 'NLAMS', 'M3'): 49,\n ('NLPER', 'NLMOE', 'M6'): 61,\n ('NLAMS', 'NLDZL', 'M8'): 50,\n ('NLBUD', 'NLAMS', 'M2'): 54,\n ('NLBEM', 'NLTIE', 'M4'): 56,\n ('NLAMS', 'NLVLI', 'M6'): 63,\n ('NLMSB', 'NLBON', 'BII-1'): 35,\n ('NLSWI', 'NLHRD', 'M3'): 50,\n ('NLAMS', 'NLMEP', 'B03'): 58,\n ('NLOSS', 'NLRTM', 'BII-1'): 49,\n ('NLLAN', 'NLDZL', 'M2'): 53,\n ('NLOSS', 'NLRTM', 'BII-2L'): 40,\n ('NLWSP', 'NLLEY', 'M8'): 43,\n ('NLARK', 'NLBON', 'M3'): 54,\n ('NLIJM', 'NLSCH', 'M4'): 46,\n ('NLAMS', 'NLOME', 'M8'): 56,\n ('NLAMS', 'NLLCH', 'M2'): 59,\n ('NLMOE', 'NLDOR', 'M8'): 55,\n ('NLHAR', 'NLSLU', 'M5'): 33,\n ('NLBON', 'NLZOU', 'M4'): 57,\n ('NLKAM', 'NLKAM', 'M4'): 31,\n ('NLRTM', 'NLZWI', 'M6'): 51,\n ('NLHAR', 'NLHAR', 'M0'): 31,\n ('NLBON', 'NLOOS', 'M7'): 35,\n ('NLALM', 'NLHGL', 'M6'): 31,\n ('NLLOB', 'NLZLB', 'M9'): 49,\n ('NLGRQ', 'NLEEM', 'M5'): 36,\n ('NLWIW', 'NLSCH', 'M4'): 61,\n ('NLLMR', 'NLFAR', 'BIIa-1'): 56,\n ('NLSLU', 'NLVLA', 'M8'): 43,\n ('NLVEN', 'NLRTM', 'C3b'): 31,\n ('NLQDG', 'NLRTM', 'M2'): 61,\n ('NLDIN', 'NLDFT', 'M2'): 55,\n ('NLBON', 'NLRTM', 'M3'): 45,\n ('NLHRW', 'NLARK', 'M2'): 53,\n ('NLALM', 'NLHGL', 'M7'): 31,\n ('NLBEM', 'NLAAL', 'M3'): 54,\n ('NLLOM', 'NLARK', 'M3'): 43,\n ('NLVEG', 'NLRTM', 'M5'): 37,\n ('NLAPN', 'NLHEJ', 'M3'): 54,\n ('NLBON', 'NLZOU', 'M5'): 52,\n ('NLRTM', 'NLDEV', 'M4'): 47,\n ('NLAMS', 'NLOSS', 'M3'): 56,\n ('NLUTC', 'NLTIE', 'M6'): 44,\n ('NLTLB', 'NLPHL', 'M2'): 31,\n ('NLLEY', 'NLAMS', 'BII-2b'): 56,\n ('NLRTM', 'NLARN', 'M9'): 46,\n ('NLOOS', 'NLDST', 'M6'): 57,\n ('NLDIN', 'NLMOE', 'M0'): 59,\n ('NLZWS', 'NLAMS', 'M3'): 36,\n ('NLAMS', 'NLDEL', 'M6'): 52,\n ('NLRTM', 'NLGOR', 'M8'): 55,\n ('NLNER', 'NLVEN', 'BII-1'): 57,\n ('NLSWI', 'NLUIT', 'M2'): 44,\n ('NLBON', 'NLDEV', 'M6'): 36,\n ('NLHTR', 'NLNWG', 'M6'): 45,\n ('NLFAR', 'NLWTZ', 'M8'): 37,\n ('NLDIN', 'NLWED', 'M2'): 54,\n ('NLAMS', 'NLNIJ', 'M6'): 47,\n ('NLLOM', 'NLRTM', 'M4'): 45,\n ('NLAMS', 'NLNWG', 'M8'): 44,\n ('NLAMS', 'NLMAA', 'M2'): 45,\n ('NLVEG', 'NLAMS', 'M6'): 33,\n ('NLVEN', 'NLRTM', 'M8'): 55,\n ('NLVLI', 'NLABL', 'M11'): 34,\n ('NLRTM', 'NLVLA', 'M6'): 45,\n ('NLTIE', 'NLDIM', 'M2'): 36,\n ('NLDZL', 'NLDZL', 'M8'): 29,\n ('NLVLL', 'NLKWZ', 'M6'): 30,\n ('NLDST', 'NLAMS', 'M4'): 47,\n ('NLAMS', 'NLMEP', 'BII-1'): 56,\n ('NLDST', 'NLAER', 'M2'): 44,\n ('NLSNK', 'NLAMS', 'M2'): 42,\n ('NLALM', 'NLAMS', 'M8'): 51,\n ('NLBON', 'NLOSS', 'M6'): 43,\n ('NLDOR', 'NLLSH', 'M3'): 36,\n ('NLENS', 'NLHGL', 'M7'): 29,\n ('NLRTM', 'NLMOE', 'M10'): 56,\n ('NLIJM', 'NLOBO', 'M2'): 38,\n ('NLVDM', 'NLHAR', 'M6'): 55,\n ('NLHGL', 'NLAMS', 'M5'): 54,\n ('NLHAN', 'NLDOR', 'M9'): 41,\n ('NLZAA', 'NLRTM', 'M8'): 49,\n ('NLIJM', 'NLMST', 'M5'): 41,\n ('NLSWI', 'NLAMS', 'M8'): 56,\n ('NLOSS', 'NLRTM', 'M3'): 46,\n ('NLKAM', 'NLRID', 'M8'): 31,\n ('NLDRA', 'NLHAR', 'M6'): 57,\n ('NLGOU', 'NLIJM', 'M2'): 47,\n ('NLVLI', 'NLDOR', 'M6'): 45,\n ('NLROO', 'NLBRS', 'M6'): 38,\n ('NLMSB', 'NLMAA', 'M0'): 54,\n ('NLHRW', 'NLAER', 'M2'): 33,\n ('NLABL', 'NLRTM', 'C3b'): 57,\n ('NLLCH', 'NLAMS', 'M4'): 48,\n ('NLSWI', 'NLBAA', 'M4'): 51,\n ('NLLCH', 'NLAMS', 'M5'): 40,\n ('NLRTM', 'NLAAM', 'M3'): 55,\n ('NLAME', 'NLAMS', 'M3'): 33,\n ('NLFAR', 'NLEEM', 'BI'): 56,\n ('NLMST', 'NLVLI', 'M4'): 52,\n ('NLRTM', 'NLEIN', 'M2'): 48,\n ('NLVLI', 'NLSTI', 'M8'): 51,\n ('NLVLI', 'NLBZM', 'M6'): 46,\n ('NLOSS', 'NLCUY', 'M7'): 42,\n ('NLTIE', 'NLRTM', 'M4'): 42,\n ('NLSTI', 'NLWIW', 'M1'): 33,\n ('NLBON', 'NLAME', 'M3'): 29,\n ('NLSWI', 'NLNKK', 'M6'): 55,\n ('NLAMS', 'NLMAA', 'M4'): 38,\n ('NLAMS', 'NLSNK', 'B03'): 47,\n ('NLBON', 'NLHAG', 'M4'): 35,\n ('NLGOR', 'NLAMS', 'M2'): 29,\n ('NLAER', 'NLLEY', 'M2'): 51,\n ('NLWED', 'NLRTM', 'M6'): 39,\n ('NLDST', 'NLHTB', 'M4'): 51,\n ('NLPER', 'NLDOE', 'M8'): 50,\n ('NLWAS', 'NLABL', 'M8'): 38,\n ('NLRTM', 'NLHGL', 'M3'): 42,\n ('NLAMS', 'NLDEL', 'M5'): 43,\n ('NLRTM', 'NLGOU', 'M3'): 56,\n ('NLRTM', 'NLWGW', 'M4'): 43,\n ('NLLEY', 'NLLEY', 'M6'): 28,\n ('NLLMR', 'NLAMS', 'M8'): 50,\n ('NLZWO', 'NLZWS', 'BII-1'): 52,\n ('NLHAR', 'NLHRN', 'M6'): 52,\n ('NLSLU', 'NLVLI', 'M8'): 52,\n ('NLGOR', 'NLRTM', 'M2'): 28,\n ('NLHRW', 'NLAMS', 'M8'): 38,\n ('NLMEP', 'NLAMS', 'M3'): 41,\n ('NLVLI', 'NLVEL', 'M8'): 29,\n ('NLBGU', 'NLDST', 'M8'): 47,\n ('NLBZM', 'NLRTM', 'C3l'): 27,\n ('NLAMS', 'NLMAA', 'M3'): 46,\n ('NLTNZ', 'NLMOE', 'M6'): 53,\n ('NLOOS', 'NLBON', 'M5'): 39,\n ('NLWSP', 'NLURK', 'M6'): 43,\n ('NLAMS', 'NLDRA', 'M6'): 45,\n ('NLLOM', 'NLHEJ', 'BI'): 42,\n ('NLDZL', 'NLAMS', 'M6'): 42,\n ('NLMAA', 'NLCUY', 'BII-1'): 51,\n ('NLBZM', 'NLBRS', 'M10'): 52,\n ('NLDOR', 'NLAMS', 'BIIa-1'): 32,\n ('NLHTB', 'NLLOM', 'M3'): 30,\n ('NLPER', 'NLHGL', 'M8'): 41,\n ('NLIJM', 'NLBRD', 'M3'): 35,\n ('NLBON', 'NLOSS', 'M3'): 39,\n ('NLDZL', 'NLFAR', 'M0'): 45,\n ('NLDOI', 'NLAMS', 'M3'): 45,\n ('NLRTM', 'NLWIS', 'M8'): 43,\n ('NLSCI', 'NLHLM', 'M2'): 36,\n ('NLPER', 'NLAMS', 'M9'): 32,\n ('NLBAA', 'NLSWI', 'M6'): 45,\n ('NLKGZ', 'NLAMS', 'M8'): 26,\n ('NLDOR', 'NLVLA', 'M8'): 46,\n ('NLGRO', 'NLDST', 'M6'): 52,\n ('NLWRV', 'NLZAA', 'M6'): 34,\n ('NLVEG', 'NLRTM', 'M4'): 38,\n ('NLIJM', 'NLMST', 'M3'): 33,\n ('NLBOT', 'NLMOE', 'M8'): 44,\n ('NLGNM', 'NLAMS', 'M5'): 41,\n ('NLIJM', 'NLMOE', 'M9'): 30,\n ('NLPER', 'NLVEG', 'M7'): 26,\n ('NLAER', 'NLAAM', 'M3'): 49,\n ('NLRTM', 'NLNGV', 'M10'): 47,\n ('NLZAA', 'NLRTM', 'M6'): 48,\n ('NLDST', 'NLQCU', 'M4'): 49,\n ('NLDHR', 'NLDHR', 'M4'): 26,\n ('NLHRD', 'NLAMS', 'M5'): 32,\n ('NLVEG', 'NLAMS', 'M3'): 34,\n ('NLLEY', 'NLLWR', 'M6'): 49,\n ('NLHTR', 'NLHTB', 'M3'): 31,\n ('NLETT', 'NLRTM', 'M6'): 49,\n ('NLBON', 'NLAMS', 'M8'): 32,\n ('NLRTM', 'NLBRS', 'M6'): 29,\n ('NLTIE', 'NLPER', 'M8'): 42,\n ('NLRTM', 'NLMAA', 'M5'): 40,\n ('NLLEY', 'NLNKK', 'M4'): 43,\n ('NLTNZ', 'NLBRS', 'M4'): 37,\n ('NLTIE', 'NLUTC', 'M5'): 45,\n ('NLLCH', 'NLRTM', 'M5'): 35,\n ('NLTIE', 'NLVLI', 'M8'): 43,\n ('NLOCC', 'NLRTM', 'M8'): 27,\n ('NLTNZ', 'NLVLI', 'M2'): 47,\n ('NLIJM', 'NLTIE', 'M2'): 45,\n ('NLDST', 'NLNWG', 'M6'): 43,\n ('NLMAA', 'NLLSH', 'M3'): 30,\n ('NLIJM', 'NLAER', 'M4'): 49,\n ('NLGOE', 'NLBRS', 'M3'): 40,\n ('NLOMD', 'NLSTI', 'M8'): 46,\n ('NLSLU', 'NLBRS', 'M6'): 36,\n ('NLGRQ', 'NLEEM', 'M8'): 25,\n ('NLKWZ', 'NLKWZ', 'BI'): 25,\n ('NLDST', 'NLVEG', 'M2'): 49,\n ('NLIJM', 'NLWGW', 'M2'): 42,\n ('NLLEY', 'NLRTM', 'M9'): 38,\n ('NLIJM', 'NLMST', 'M4'): 34,\n ('NLRTM', 'NLMAA', 'M4'): 46,\n ('NLIJM', 'NLZWI', 'M6'): 42,\n ('NLZOE', 'NLWSP', 'M3'): 43,\n ('NLURK', 'NLAER', 'M2'): 43,\n ('NLRTM', 'NLAAM', 'M4'): 48,\n ('NLSTD', 'NLRTM', 'M4'): 35,\n ('NLVEN', 'NLVLI', 'M7'): 25,\n ('NLFRK', 'NLHAR', 'M4'): 49,\n ('NLOBO', 'NLMST', 'M5'): 47,\n ('NLRTM', 'NLMAA', 'M6'): 49,\n ('NLDIN', 'NLMST', 'M6'): 48,\n ('NLBON', 'NLAKR', 'M6'): 25,\n ('NLZAA', 'NLAMS', 'BI'): 49,\n ('NLSNK', 'NLRTM', 'M8'): 36,\n ('NLDON', 'NLMOE', 'M3'): 34,\n ('NLMOE', 'NLHRD', 'M6'): 25,\n ('NLAER', 'NLENK', 'M3'): 39,\n ('NLAMS', 'NLTIE', 'M8'): 42,\n ('NLZWS', 'NLMEP', 'BI'): 45,\n ('NLFAR', 'NLEEM', 'M5'): 36,\n ('NLLEY', 'NLLEY', 'M3'): 24,\n ('NLBON', 'NLWSM', 'BI'): 44,\n ('NLKGZ', 'NLZAA', 'M4'): 47,\n ('NLBEM', 'NLWSP', 'M3'): 43,\n ('NLPER', 'NLMOE', 'M5'): 34,\n ('NLDST', 'NLVAN', 'M4'): 38,\n ('NLSLU', 'NLBOT', 'M8'): 26,\n ('NLSTI', 'NLHEG', 'M4'): 27,\n ('NLOOS', 'NLHEJ', 'M7'): 24,\n ('NLHRD', 'NLLOB', 'M3'): 26,\n ('NLAMS', 'NLDEL', 'M3'): 33,\n ('NLEES', 'NLRTM', 'M4'): 35,\n ('NLRAS', 'NLHRW', 'M3'): 36,\n ('NLMOE', 'NLRTM', 'M11'): 41,\n ('NLLSH', 'NLBON', 'M3'): 27,\n ('NLSTI', 'NLRTM', 'M6'): 40,\n ('NLWRT', 'NLAMS', 'M2'): 24,\n ('NLLCH', 'NLAMS', 'M3'): 40,\n ('NLVEG', 'NLAMS', 'M5'): 27,\n ('NLBON', 'NLGOE', 'M5'): 24,\n ('NLLSH', 'NLAMS', 'M2'): 24,\n ('NLAMS', 'NLZWI', 'M8'): 46,\n ('NLNIJ', 'NLVEN', 'M8'): 48,\n ('NLAPN', 'NLWIW', 'M6'): 34,\n ('NLMSB', 'NLRTM', 'M8'): 29,\n ('NLRTM', 'NLTNZ', 'M9'): 41,\n ('NLNKK', 'NLAMS', 'M4'): 38,\n ('NLZLB', 'NLDOR', 'M9'): 46,\n ('NLUTC', 'NLLEY', 'M6'): 40,\n ('NLRTM', 'NLHGL', 'M4'): 37,\n ('NLRTM', 'NLLAV', 'M8'): 40,\n ('NLEEM', 'NLZOU', 'M4'): 25,\n ('NLRTM', 'NLDOR', 'M10'): 46,\n ('NLAMS', 'NLEUR', 'M8'): 37,\n ('NLRTM', 'NLVEN', 'M2'): 34,\n ('NLRTM', 'NLLAV', 'M10'): 46,\n ('NLLOM', 'NLHTB', 'M2'): 40,\n ('NLOSS', 'NLAMS', 'M5'): 38,\n ('NLAMS', 'NLNIJ', 'M3'): 28,\n ('NLMEP', 'NLAMS', 'M5'): 30,\n ('NLRTM', 'NLQDG', 'M4'): 41,\n ('NLBIW', 'NLLOB', 'M8'): 43,\n ('NLTNZ', 'NLBOT', 'M8'): 35,\n ('NLRNK', 'NLMOE', 'M8'): 46,\n ('NLXXX', 'NLXXX', 'M8'): 23,\n ('NLWLK', 'NLBON', 'M3'): 46,\n ('NLRTM', 'NLMID', 'M8'): 33,\n ('NLRTM', 'NLKAM', 'M5'): 43,\n ('NLGNM', 'NLAMS', 'M8'): 26,\n ('NLRTM', 'NLWMO', 'M4'): 38,\n ('NLAMS', 'NLZWO', 'BI'): 31,\n ('NLDZL', 'NLLMR', 'BIIa-1'): 42,\n ('NLGNM', 'NLRTM', 'M8'): 31,\n ('NLVEN', 'NLBON', 'M6'): 24,\n ('NLRTM', 'NLRTM', 'M4'): 23,\n ('NLOOS', 'NLBON', 'M6'): 37,\n ('NLDHR', 'NLKAM', 'M4'): 42,\n ('NLRTM', 'NLRTM', 'M2'): 23,\n ('NLZWS', 'NLAMS', 'BII-1'): 34,\n ('NLHTB', 'NLMAA', 'M3'): 44,\n ('NLTNZ', 'NLVLI', 'M9'): 41,\n ('NLZWS', 'NLAMS', 'M5'): 30,\n ('NLZWS', 'NLAMS', 'M6'): 27,\n ('NLSCH', 'NLLEY', 'M3'): 40,\n ('NLAMS', 'NLZWI', 'M3'): 38,\n ('NLHGL', 'NLAMS', 'M3'): 40,\n ('NLMEP', 'NLLEY', 'M5'): 29,\n ('NLHAR', 'NLRTM', 'M6'): 31,\n ('NLHEJ', 'NLAMS', 'M6'): 38,\n ('NLVEG', 'NLHEJ', 'M5'): 45,\n ('NLWIW', 'NLSCH', 'M6'): 44,\n ('NLLEY', 'NLRTM', 'M8'): 39,\n ('NLAMS', 'NLDEL', 'M2'): 35,\n ('NLUTC', 'NLDIN', 'M3'): 23,\n ('NLHRD', 'NLRTM', 'M4'): 42,\n ('NLLEY', 'NLLWR', 'M5'): 41,\n ('NLAMS', 'NLDEV', 'M8'): 33,\n ('NLVEG', 'NLRTM', 'M3'): 33,\n ('NLNWG', 'NLDST', 'M5'): 45,\n ('NLHEJ', 'NLAMS', 'M8'): 40,\n ('NLMST', 'NLBON', 'M6'): 24,\n ('NLMST', 'NLAMS', 'M8'): 37,\n ('NLVLI', 'NLLEY', 'M6'): 24,\n ('NLHRD', 'NLAMS', 'M3'): 29,\n ('NLAMS', 'NLDFT', 'M3'): 32,\n ('NLNKK', 'NLAMS', 'BII-1'): 36,\n ('NLNIJ', 'NLOMD', 'BIIa-1'): 30,\n ('NLHTR', 'NLDOR', 'M4'): 23,\n ('NLLCH', 'NLRTM', 'M6'): 27,\n ('NLOSS', 'NLRTM', 'BIIa-1'): 39,\n ('NLZWS', 'NLAMS', 'M2'): 24,\n ('NLDOR', 'NLAMS', 'BII-2b'): 34,\n ('NLTNZ', 'NLVLI', 'BIIL-1'): 38,\n ('NLAMS', 'NLDOR', 'M12'): 30,\n ('NLNKK', 'NLAMS', 'M3'): 31,\n ('NLHRV', 'NLAMS', 'M5'): 27,\n ('NLIJM', 'NLSTD', 'M2'): 23,\n ('NLRTM', 'NLZWO', 'M2'): 27,\n ('NLHRW', 'NLVEG', 'M3'): 34,\n ('NLGOU', 'NLMOE', 'M6'): 30,\n ('NLBEM', 'NLTIE', 'M5'): 26,\n ('NLVLI', 'NLHTB', 'M5'): 23,\n ('NLRTM', 'NLBGU', 'M2'): 23,\n ('NLGTB', 'NLOMD', 'M8'): 24,\n ('NLDZL', 'NLDZL', 'M0'): 22,\n ('NLGTB', 'NLAMS', 'M6'): 38,\n ('NLAKL', 'NLSJK', 'M6'): 43,\n ('NLAMS', 'NLOSS', 'M8'): 42,\n ('NLALM', 'NLAMS', 'M5'): 35,\n ('NLAMS', 'NLBRD', 'M3'): 31,\n ('NLALM', 'NLAMS', 'M2'): 38,\n ('NLZWO', 'NLAMS', 'BII-2L'): 27,\n ('NLWLK', 'NLLOM', 'M4'): 33,\n ('NLBON', 'NLOSS', 'M5'): 40,\n ('NLAMS', 'NLTIE', 'M5'): 38,\n ('NLBON', 'NLZWO', 'M4'): 24,\n ('NLKAI', 'NLUIT', 'M2'): 43,\n ('NLHEJ', 'NLETT', 'M3'): 38,\n ('NLDST', 'NLVEG', 'M3'): 40,\n ('NLSWI', 'NLELB', 'M6'): 40,\n ('NLAMS', 'NLTIE', 'M3'): 29,\n ('NLAMS', 'NLHEJ', 'M3'): 38,\n ('NLURK', 'NLAMS', 'M8'): 40,\n ('NLBRD', 'NLBEM', 'M3'): 36,\n ('NLZWO', 'NLSWI', 'M6'): 29,\n ('NLURK', 'NLAER', 'M3'): 33,\n ('NLLEY', 'NLHAR', 'M6'): 32,\n ('NLKWZ', 'NLAMS', 'BII-2b'): 34,\n ('NLUTC', 'NLDEV', 'M3'): 29,\n ('NLHTR', 'NLDEV', 'M4'): 28,\n ('NLWSP', 'NLAER', 'M3'): 41,\n ('NLSTI', 'NLOMD', 'M6'): 39,\n ('NLMAA', 'NLCUY', 'M3'): 40,\n ('NLWAS', 'NLRTM', 'BII-1'): 32,\n ('NLSNK', 'NLLEY', 'M4'): 34,\n ('NLIJM', 'NLMOE', 'M7'): 41,\n ('NLMAA', 'NLAMS', 'M5'): 41,\n ('NLDHR', 'NLKAM', 'M6'): 32,\n ('NLMST', 'NLRTM', 'M8'): 34,\n ('NLHGL', 'NLUTC', 'M6'): 22,\n ('NLPER', 'NLAPN', 'M8'): 26,\n ('NLTEA', 'NLDST', 'M3'): 39,\n ('NLRTM', 'NLGNM', 'M2'): 37,\n ('NLSCI', 'NLDOI', 'M2'): 27,\n ('NLWIW', 'NLNKK', 'M2'): 35,\n ('NLVLI', 'NLBRS', 'M6'): 23,\n ('NLALM', 'NLDOR', 'M7'): 37,\n ('NLRTM', 'NLOMD', 'BII-2L'): 34,\n ('NLBOT', 'NLGOU', 'M3'): 29,\n ('NLRTM', 'NLVLI', 'M3'): 36,\n ('NLRTM', 'NLDEL', 'M5'): 34,\n ('NLVLI', 'NLTLB', 'M2'): 29,\n ('NLBEM', 'NLOOS', 'M5'): 41,\n ('NLUTC', 'NLRTM', 'M2'): 30,\n ('NLVLI', 'NLMST', 'BIIL-1'): 35,\n ('NLENS', 'NLMOE', 'M8'): 41,\n ('NLRTM', 'NLNGV', 'M8'): 37,\n ('NLMOE', 'NLLEY', 'M8'): 21,\n ('NLNIJ', 'NLMSB', 'BIIa-1'): 28,\n ('NLZWS', 'NLAMS', 'BIIL-1'): 22,\n ('NLDST', 'NLAMS', 'M5'): 39,\n ('NLSJK', 'NLAER', 'M8'): 26,\n ('NLLAV', 'NLSNK', 'M8'): 28,\n ('NLHGL', 'NLAMS', 'M2'): 37,\n ('NLAMS', 'NLAMS', 'M3'): 21,\n ('NLVLI', 'NLMSL', 'M5'): 28,\n ('NLMLR', 'NLRTM', 'M8'): 39,\n ('NLIJM', 'NLZWI', 'M8'): 39,\n ('NLTIE', 'NLAMS', 'C3l'): 22,\n ('NLLWR', 'NLHAR', 'M6'): 27,\n ('NLKAM', 'NLAMS', 'M10'): 39,\n ('NLPER', 'NLAMS', 'M11'): 32,\n ...}"
     },
     "execution_count": 7,
     "metadata": {},
     "output_type": "execute_result"
    }
   ],
   "source": [
    "#create dict to fill with total number of trips on path for each ship type\n",
    "df_t_dict = {}\n",
    "# now fill this dict\n",
    "# loop over data frame\n",
    "for i in range(len(df_t)):\n",
    "    #define temp variables for ease\n",
    "    origin = df_t['origin'][i]\n",
    "    destination = df_t['destination'][i]\n",
    "    ship_type = df_t['type'][i]\n",
    "    trip_count = df_t['trips'][i]\n",
    "    #only make new column if trip and its inverse are not in dict yet. Otherwise append.\n",
    "    if (origin, destination, ship_type) in df_t_dict.keys():\n",
    "        df_t_dict[(origin, destination, ship_type)] += trip_count\n",
    "    elif (destination, origin, ship_type) in df_t_dict.keys():\n",
    "        df_t_dict[(destination, origin, ship_type)] += trip_count\n",
    "    else:\n",
    "        df_t_dict[(origin, destination, ship_type)] = trip_count\n",
    "df_t_dict"
   ],
   "metadata": {
    "collapsed": false,
    "pycharm": {
     "name": "#%%\n"
    }
   }
  },
  {
   "cell_type": "markdown",
   "source": [
    "## Compute vessel sum per route\n",
    "Idea: make similar dict as above first, but then with total amount of trips per route. Later on: add column for each ship.\n",
    "This will result in a column for each ship type and an entry with the amount of ships of that type that have travelled."
   ],
   "metadata": {
    "collapsed": false,
    "pycharm": {
     "name": "#%% md\n"
    }
   }
  },
  {
   "cell_type": "code",
   "execution_count": 7,
   "outputs": [],
   "source": [
    "# now only sort by origin and destination\n",
    "all_trips_ranked = df_2021.groupby(by=['UNLO_herkomst', 'UNLO_bestemming']).count().reset_index().sort_values(\n",
    "    by='Jaarmaand', ascending=False).iloc[:, :3].reset_index(drop=True)\n",
    "\n",
    "#again, rename columns\n",
    "all_trips_ranked.rename(\n",
    "    columns={'UNLO_herkomst': 'origin', 'UNLO_bestemming': 'destination', 'SK_CODE': 'type', 'Unnamed: 0': 'trips'},\n",
    "    inplace=True)\n",
    "\n",
    "#remove non nl\n",
    "all_trips_ranked = all_trips_ranked.loc[(all_trips_ranked.origin.str.contains('NL')) & (all_trips_ranked.destination.str.contains('NL'))]\n",
    "\n",
    "#reset index to be able to loop over all values later on\n",
    "all_trips_ranked.reset_index(inplace=True, drop=True)"
   ],
   "metadata": {
    "collapsed": false,
    "pycharm": {
     "name": "#%%\n"
    }
   }
  },
  {
   "cell_type": "code",
   "execution_count": 8,
   "outputs": [],
   "source": [
    "# make dict to store trips\n",
    "trip_dict_main = {}\n",
    "\n",
    "# now fill this dict, same procedure as above\n",
    "for i in range(len(all_trips_ranked)):\n",
    "    origin = all_trips_ranked['origin'][i]\n",
    "    destination = all_trips_ranked['destination'][i]\n",
    "    trip_count = all_trips_ranked['trips'][i]\n",
    "\n",
    "    if (origin, destination) in trip_dict_main.keys():\n",
    "        trip_dict_main[(origin, destination)] += trip_count\n",
    "    elif (destination, origin) in trip_dict_main.keys():\n",
    "        trip_dict_main[(destination, origin)] += trip_count\n",
    "    else:\n",
    "        trip_dict_main[(origin, destination)] = trip_count\n",
    "\n",
    "# now sort values\n",
    "trip_dict_main = dict(sorted(trip_dict_main.items(), key=lambda item: item[1], reverse=True))"
   ],
   "metadata": {
    "collapsed": false,
    "pycharm": {
     "name": "#%%\n"
    }
   }
  },
  {
   "cell_type": "code",
   "execution_count": 9,
   "outputs": [
    {
     "data": {
      "text/plain": "{('NLRTM', 'NLAMS'): 9943,\n ('NLRTM', 'NLMOE'): 2686,\n ('NLRTM', 'NLVLI'): 2153,\n ('NLAMS', 'NLAER'): 2119,\n ('NLRTM', 'NLRTM'): 1794,\n ('NLVEG', 'NLRTM'): 1484,\n ('NLTLB', 'NLRTM'): 1318,\n ('NLLEY', 'NLAMS'): 1292,\n ('NLOSS', 'NLRTM'): 1145,\n ('NLZWO', 'NLAMS'): 1118,\n ('NLUTC', 'NLRTM'): 1042,\n ('NLRTM', 'NLKAM'): 1036,\n ('NLHGL', 'NLRTM'): 1035,\n ('NLLMR', 'NLAMS'): 1005,\n ('NLRTM', 'NLWLK'): 987,\n ('NLAMS', 'NLMOE'): 971,\n ('NLAER', 'NLRTM'): 945,\n ('NLRTM', 'NLAPN'): 945,\n ('NLTNZ', 'NLVLI'): 926,\n ('NLDOR', 'NLRTM'): 911,\n ('NLAMS', 'NLDEV'): 847,\n ('NLGOR', 'NLRTM'): 843,\n ('NLRTM', 'NLNIJ'): 817,\n ('NLBZM', 'NLRTM'): 814,\n ('NLWSP', 'NLAER'): 794,\n ('NLRTM', 'NLOOS'): 785,\n ('NLRTM', 'NLTNZ'): 779,\n ('NLVLI', 'NLAMS'): 769,\n ('NLRTM', 'NLMEP'): 768,\n ('NLOOS', 'NLTLB'): 737,\n ('NLNIJ', 'NLWAS'): 725,\n ('NLKAM', 'NLAMS'): 721,\n ('NLIJM', 'NLMOE'): 718,\n ('NLHAR', 'NLWTE'): 714,\n ('NLKGZ', 'NLAMS'): 696,\n ('NLBON', 'NLRTM'): 680,\n ('NLMOE', 'NLAPN'): 667,\n ('NLDOR', 'NLAMS'): 662,\n ('NLTIE', 'NLRTM'): 654,\n ('NLHGL', 'NLAMS'): 649,\n ('NLNIJ', 'NLABL'): 648,\n ('NLMOE', 'NLOOS'): 634,\n ('NLAMS', 'NLAMS'): 605,\n ('NLNKK', 'NLAMS'): 597,\n ('NLAER', 'NLLEY'): 586,\n ('NLTNZ', 'NLTNZ'): 547,\n ('NLMEP', 'NLAMS'): 544,\n ('NLIJM', 'NLRTM'): 525,\n ('NLRTM', 'NLDZL'): 523,\n ('NLHAR', 'NLAMS'): 523,\n ('NLAMS', 'NLWMO'): 523,\n ('NLALK', 'NLIJM'): 521,\n ('NLAMS', 'NLOSS'): 517,\n ('NLABL', 'NLRTM'): 503,\n ('NLHAS', 'NLAMS'): 503,\n ('NLRTM', 'NLVEN'): 497,\n ('NLRTM', 'NLZWO'): 488,\n ('NLTNZ', 'NLBRS'): 485,\n ('NLFAR', 'NLEEM'): 485,\n ('NLRTM', 'NLARN'): 483,\n ('NLDHR', 'NLDHR'): 480,\n ('NLAER', 'NLNIE'): 469,\n ('NLUTC', 'NLTIE'): 468,\n ('NLDRO', 'NLKAM'): 453,\n ('NLAMS', 'NLTIE'): 451,\n ('NLVEG', 'NLAMS'): 450,\n ('NLGNM', 'NLAMS'): 443,\n ('NLWBR', 'NLRTM'): 437,\n ('NLNIJ', 'NLDRU'): 433,\n ('NLTLB', 'NLMOE'): 431,\n ('NLAMS', 'NLWGW'): 430,\n ('NLAMS', 'NLZAA'): 423,\n ('NLDST', 'NLAMS'): 419,\n ('NLSTD', 'NLSTD'): 416,\n ('NLAER', 'NLSWI'): 409,\n ('NLWGW', 'NLRTM'): 406,\n ('NLSTI', 'NLRTM'): 397,\n ('NLCUY', 'NLRTM'): 396,\n ('NLSWI', 'NLLEY'): 395,\n ('NLVEG', 'NLHEJ'): 392,\n ('NLAMS', 'NLHEJ'): 392,\n ('NLRTM', 'NLGTB'): 389,\n ('NLMOE', 'NLTNZ'): 385,\n ('NLTNZ', 'NLAMS'): 378,\n ('NLHRD', 'NLAMS'): 376,\n ('NLIJM', 'NLMST'): 375,\n ('NLAMS', 'NLUTC'): 371,\n ('NLHTB', 'NLBZM'): 370,\n ('NLVEN', 'NLBON'): 368,\n ('NLALM', 'NLAMS'): 362,\n ('NLVLI', 'NLVLI'): 361,\n ('NLDRA', 'NLAMS'): 361,\n ('NLNRW', 'NLBON'): 357,\n ('NLOMD', 'NLRTM'): 354,\n ('NLLWR', 'NLRTM'): 352,\n ('NLNIJ', 'NLAMS'): 352,\n ('NLFAR', 'NLRTM'): 342,\n ('NLRTM', 'NLVSN'): 342,\n ('NLPER', 'NLAMS'): 328,\n ('NLHRV', 'NLAMS'): 326,\n ('NLHAR', 'NLDRA'): 325,\n ('NLHTB', 'NLBON'): 324,\n ('NLKGZ', 'NLZAA'): 319,\n ('NLRTM', 'NLLID'): 311,\n ('NLRTM', 'NLSLU'): 310,\n ('NLAMS', 'NLZWI'): 309,\n ('NLBON', 'NLTLB'): 301,\n ('NLOSS', 'NLHRW'): 298,\n ('NLRTM', 'NLDEV'): 296,\n ('NLLCH', 'NLAMS'): 292,\n ('NLMOE', 'NLVLI'): 291,\n ('NLAMS', 'NLHLM'): 286,\n ('NLMEP', 'NLZWS'): 285,\n ('NLZWS', 'NLAMS'): 282,\n ('NLZMM', 'NLRTM'): 278,\n ('NLRTM', 'NLDOE'): 278,\n ('NLHBG', 'NLELL'): 272,\n ('NLAMS', 'NLRAS'): 271,\n ('NLVAN', 'NLAMS'): 271,\n ('NLSWI', 'NLNKK'): 270,\n ('NLRTM', 'NLZWI'): 269,\n ('NLBON', 'NLVEG'): 268,\n ('NLOMD', 'NLWAS'): 266,\n ('NLDZL', 'NLFAR'): 265,\n ('NLMST', 'NLBON'): 264,\n ('NLFOX', 'NLRTM'): 261,\n ('NLAMS', 'NLVLA'): 260,\n ('NLMAA', 'NLCUY'): 257,\n ('NLLEY', 'NLLWR'): 255,\n ('NLEEM', 'NLALM'): 254,\n ('NLDOR', 'NLVLI'): 254,\n ('NLHAR', 'NLHAR'): 253,\n ('NLZAA', 'NLRTM'): 252,\n ('NLLWR', 'NLHAR'): 249,\n ('NLWSM', 'NLLIN'): 249,\n ('NLRTM', 'NLALM'): 248,\n ('NLAMS', 'NLBOT'): 246,\n ('NLWIW', 'NLHRN'): 241,\n ('NLWSM', 'NLBON'): 241,\n ('NLRTM', 'NLQDG'): 239,\n ('NLALM', 'NLHGL'): 238,\n ('NLAMS', 'NLEIN'): 234,\n ('NLHLM', 'NLRTM'): 233,\n ('NLBON', 'NLEIN'): 233,\n ('NLAMS', 'NLMAA'): 228,\n ('NLHAN', 'NLBRS'): 224,\n ('NLRTM', 'NLGOU'): 223,\n ('NLHAR', 'NLKAM'): 220,\n ('NLSCH', 'NLWIW'): 220,\n ('NLSWI', 'NLAMS'): 216,\n ('NLNER', 'NLVEN'): 214,\n ('NLHTB', 'NLRTM'): 213,\n ('NLBON', 'NLSTI'): 212,\n ('NLAMS', 'NLGRQ'): 210,\n ('NLSNK', 'NLAMS'): 209,\n ('NLAMS', 'NLDEL'): 208,\n ('NLOSS', 'NLCUY'): 207,\n ('NLALK', 'NLAMS'): 207,\n ('NLAMS', 'NLEES'): 207,\n ('NLSWI', 'NLWSP'): 205,\n ('NLRTM', 'NLDON'): 205,\n ('NLWIW', 'NLAMS'): 205,\n ('NLRTM', 'NLGRQ'): 204,\n ('NLRTM', 'NLGNM'): 204,\n ('NLHRW', 'NLARK'): 203,\n ('NLHAR', 'NLOME'): 201,\n ('NLDOR', 'NLLSH'): 200,\n ('NLHEJ', 'NLOOS'): 200,\n ('NLBON', 'NLOSS'): 198,\n ('NLVLL', 'NLHAR'): 198,\n ('NLHAR', 'NLHKK'): 198,\n ('NLMSB', 'NLBON'): 197,\n ('NLDST', 'NLHTB'): 197,\n ('NLHTR', 'NLNWG'): 195,\n ('NLMSB', 'NLRTM'): 195,\n ('NLRTM', 'NLMAA'): 195,\n ('NLWSP', 'NLLEY'): 194,\n ('NLHRW', 'NLVEG'): 194,\n ('NLHEJ', 'NLDVT'): 194,\n ('NLNIJ', 'NLBON'): 192,\n ('NLMAA', 'NLHTB'): 192,\n ('NLOMD', 'NLAMS'): 192,\n ('NLEEM', 'NLRTM'): 190,\n ('NLMAA', 'NLNRW'): 188,\n ('NLBON', 'NLDFT'): 188,\n ('NLLEY', 'NLLEY'): 187,\n ('NLAMS', 'NLMSB'): 187,\n ('NLGTB', 'NLAMS'): 185,\n ('NLBON', 'NLWLK'): 184,\n ('NLHGL', 'NLDFT'): 182,\n ('NLSNK', 'NLLEY'): 182,\n ('NLBON', 'NLKSL'): 180,\n ('NLHEJ', 'NLAAL'): 179,\n ('NLAMS', 'NLIJM'): 179,\n ('NLAMS', 'NLWAS'): 179,\n ('NLHEJ', 'NLKOR'): 178,\n ('NLRTM', 'NLMST'): 176,\n ('NLLEY', 'NLRTM'): 174,\n ('NLHEJ', 'NLDUS'): 174,\n ('NLRTM', 'NLVLA'): 173,\n ('NLHRW', 'NLTEA'): 173,\n ('NLBON', 'NLHAG'): 172,\n ('NLSLU', 'NLBRS'): 172,\n ('NLAMS', 'NLBON'): 172,\n ('NLUTC', 'NLLEY'): 170,\n ('NLRTM', 'NLENS'): 170,\n ('NLRTM', 'NLWRV'): 169,\n ('NLWAS', 'NLRTM'): 167,\n ('NLTLB', 'NLZBG'): 167,\n ('NLRTM', 'NLHEJ'): 164,\n ('NLRTM', 'NLKAZ'): 163,\n ('NLDZL', 'NLEEM'): 162,\n ('NLAER', 'NLSPL'): 162,\n ('NLMAA', 'NLHEJ'): 162,\n ('NLARK', 'NLAMS'): 162,\n ('NLAMS', 'NLNWG'): 162,\n ('NLDST', 'NLOSS'): 160,\n ('NLSWI', 'NLBAA'): 159,\n ('NLPER', 'NLFOX'): 158,\n ('NLFAR', 'NLBOT'): 157,\n ('NLDTK', 'NLSCH'): 157,\n ('NLMAA', 'NLOSS'): 157,\n ('NLSTI', 'NLAMS'): 155,\n ('NLSJK', 'NLRTM'): 155,\n ('NLIJM', 'NLHAR'): 155,\n ('NLVEN', 'NLAMS'): 155,\n ('NLBRD', 'NLRTM'): 153,\n ('NLDHR', 'NLSCH'): 153,\n ('NLBON', 'NLBRD'): 153,\n ('NLWED', 'NLRTM'): 152,\n ('NLLOM', 'NLHAG'): 151,\n ('NLRTM', 'NLNKK'): 151,\n ('NLMOE', 'NLBRD'): 151,\n ('NLPER', 'NLVEG'): 149,\n ('NLNWG', 'NLRTM'): 149,\n ('NLTNZ', 'NLMST'): 149,\n ('NLGRQ', 'NLHAR'): 146,\n ('NLAMS', 'NLENS'): 144,\n ('NLFOX', 'NLVDM'): 144,\n ('NLRLA', 'NLRTM'): 142,\n ('NLFAR', 'NLAMS'): 142,\n ('NLIJM', 'NLSCH'): 140,\n ('NLBZM', 'NLVLI'): 139,\n ('NLVLI', 'NLHAN'): 139,\n ('NLZWO', 'NLZWS'): 139,\n ('NLAMS', 'NLHTB'): 139,\n ('NLLCH', 'NLRTM'): 138,\n ('NLAER', 'NLIJM'): 137,\n ('NLOOS', 'NLBON'): 137,\n ('NLWSC', 'NLAMS'): 136,\n ('NLHEJ', 'NLEML'): 136,\n ('NLLWR', 'NLAMS'): 135,\n ('NLWKD', 'NLAMS'): 134,\n ('NLVLA', 'NLSLU'): 134,\n ('NLSLU', 'NLVLI'): 133,\n ('NLFRK', 'NLHAR'): 133,\n ('NLDZL', 'NLAMS'): 133,\n ('NLOBO', 'NLMST'): 133,\n ('NLARK', 'NLDST'): 132,\n ('NLENK', 'NLAMS'): 130,\n ('NLBON', 'NLAER'): 129,\n ('NLOOS', 'NLAMS'): 129,\n ('NLHEJ', 'NLKRD'): 129,\n ('NLHEJ', 'NLAME'): 128,\n ('NLDST', 'NLNWG'): 128,\n ('NLLMR', 'NLMOE'): 128,\n ('NLKWR', 'NLRTM'): 127,\n ('NLMOE', 'NLRNK'): 127,\n ('NLKAM', 'NLIJM'): 125,\n ('NLGOE', 'NLBRS'): 125,\n ('NLBON', 'NLARK'): 125,\n ('NLSDB', 'NLMST'): 125,\n ('NLAMS', 'NLEEM'): 124,\n ('NLOSS', 'NLVEG'): 123,\n ('NLHEJ', 'NLHIL'): 123,\n ('NLWRV', 'NLZAA'): 123,\n ('NLVDM', 'NLHAR'): 123,\n ('NLRTM', 'NLDOI'): 123,\n ('NLLSH', 'NLBON'): 122,\n ('NLSTI', 'NLTNZ'): 122,\n ('NLAMS', 'NLDHR'): 122,\n ('NLRAS', 'NLRTM'): 121,\n ('NLRTM', 'NLWMO'): 121,\n ('NLELB', 'NLSWI'): 121,\n ('NLVEG', 'NLEPL'): 120,\n ('NLTNZ', 'NLHAN'): 119,\n ('NLBEM', 'NLTIE'): 118,\n ('NLLEY', 'NLGRQ'): 118,\n ('NLRTM', 'NLBNB'): 117,\n ('NLAMS', 'NLEUR'): 117,\n ('NLVLI', 'NLMST'): 117,\n ('NLLWR', 'NLWIW'): 117,\n ('NLRTM', 'NLAAM'): 117,\n ('NLBZM', 'NLBRS'): 116,\n ('NLBON', 'NLZOU'): 116,\n ('NLBNB', 'NLHGL'): 115,\n ('NLPER', 'NLMOE'): 115,\n ('NLHTB', 'NLABL'): 114,\n ('NLAMS', 'NLURK'): 114,\n ('NLDHR', 'NLRTM'): 113,\n ('NLURK', 'NLAER'): 112,\n ('NLDOI', 'NLAMS'): 112,\n ('NLHRD', 'NLNKK'): 111,\n ('NLEES', 'NLZWO'): 110,\n ('NLRTM', 'NLDEL'): 110,\n ('NLIJM', 'NLZWI'): 109,\n ('NLEEM', 'NLLMR'): 109,\n ('NLOME', 'NLAMS'): 109,\n ('NLRTM', 'NLHRD'): 109,\n ('NLDFT', 'NLALM'): 108,\n ('NLOSS', 'NLMOE'): 107,\n ('NLMOE', 'NLSLU'): 107,\n ('NLMLR', 'NLRTM'): 107,\n ('NLNIJ', 'NLPER'): 107,\n ('NLDST', 'NLAER'): 106,\n ('NLMOE', 'NLBON'): 106,\n ('NLLOM', 'NLRTM'): 106,\n ('NLZAA', 'NLZAD'): 106,\n ('NLHRW', 'NLAER'): 105,\n ('NLLEY', 'NLNKK'): 105,\n ('NLMST', 'NLAMS'): 105,\n ('NLDIN', 'NLRTM'): 104,\n ('NLLOM', 'NLHEJ'): 104,\n ('NLSMO', 'NLZOT'): 104,\n ('NLFAR', 'NLFAR'): 103,\n ('NLAMS', 'NLWSP'): 103,\n ('NLDST', 'NLVAN'): 103,\n ('NLAMS', 'NLLOB'): 103,\n ('NLPER', 'NLMEP'): 103,\n ('NLTNZ', 'NLDOR'): 103,\n ('NLKSL', 'NLLIN'): 103,\n ('NLQCU', 'NLDST'): 103,\n ('NLBON', 'NLAME'): 102,\n ('NLVEG', 'NLDST'): 102,\n ('NLAKR', 'NLHAR'): 101,\n ('NLNIJ', 'NLVEN'): 101,\n ('NLOMD', 'NLSTI'): 100,\n ('NLAPN', 'NLKWZ'): 99,\n ('NLRAS', 'NLHRW'): 99,\n ('NLDOR', 'NLVLA'): 99,\n ('NLAER', 'NLAER'): 98,\n ('NLVLI', 'NLMSL'): 98,\n ('NLIJM', 'NLTLB'): 98,\n ('NLDZL', 'NLDZL'): 97,\n ('NLRTM', 'NLGRO'): 96,\n ('NLAMS', 'NLVDM'): 96,\n ('NLLWR', 'NLPER'): 96,\n ('NLRTM', 'NLNGV'): 95,\n ('NLHEJ', 'NLAPN'): 95,\n ('NLWSM', 'NLVEN'): 95,\n ('NLMST', 'NLMSB'): 94,\n ('NLTIE', 'NLDST'): 94,\n ('NLDIN', 'NLWED'): 94,\n ('NLMOE', 'NLETT'): 94,\n ('NLVLI', 'NLVLA'): 93,\n ('NLKWZ', 'NLKWZ'): 92,\n ('NLMSB', 'NLSTI'): 92,\n ('NLTIE', 'NLDIM'): 92,\n ('NLHTB', 'NLLOM'): 92,\n ('NLPER', 'NLVLI'): 92,\n ('NLBRD', 'NLBRS'): 92,\n ('NLLEY', 'NLHEG'): 92,\n ('NLEUR', 'NLWRV'): 92,\n ('NLKSL', 'NLOIH'): 92,\n ('NLDIN', 'NLMOE'): 91,\n ('NLRTM', 'NLLAV'): 90,\n ('NLELB', 'NLKAM'): 90,\n ('NLSNK', 'NLRTM'): 90,\n ('NLHRW', 'NLTLB'): 90,\n ('NLSTD', 'NLRTM'): 89,\n ('NLMEP', 'NLMEP'): 88,\n ('NLXXX', 'NLXXX'): 87,\n ('NLROO', 'NLSLU'): 87,\n ('NLHRW', 'NLAMS'): 87,\n ('NLNIJ', 'NLOMD'): 87,\n ('NLWIW', 'NLFRK'): 87,\n ('NLWSP', 'NLTIE'): 87,\n ('NLEES', 'NLMEP'): 86,\n ('NLIJM', 'NLHRN'): 86,\n ('NLBRS', 'NLZUL'): 86,\n ('NLELB', 'NLDRO'): 86,\n ('NLVLI', 'NLHTB'): 85,\n ('NLSLU', 'NLOSS'): 85,\n ('NLPNN', 'NLRTM'): 85,\n ('NLLOM', 'NLAMS'): 85,\n ('NLSCI', 'NLAMS'): 85,\n ('NLMAA', 'NLOOS'): 85,\n ('NLBEM', 'NLOOS'): 85,\n ('NLHGL', 'NLWIS'): 83,\n ('NLGRQ', 'NLEEM'): 83,\n ('NLAMS', 'NLAPN'): 83,\n ('NLLSH', 'NLOMD'): 83,\n ('NLLEY', 'NLKWZ'): 82,\n ('NLLEY', 'NLVLL'): 82,\n ('NLAER', 'NLAAM'): 82,\n ('NLDRA', 'NLIJM'): 82,\n ('NLALM', 'NLDEL'): 82,\n ('NLGRQ', 'NLDFT'): 81,\n ('NLTIE', 'NLVLI'): 81,\n ('NLSWI', 'NLHRD'): 81,\n ('NLLOM', 'NLLIT'): 81,\n ('NLLOM', 'NLVAN'): 80,\n ('NLLOM', 'NLKRD'): 80,\n ('NLSCH', 'NLLEY'): 80,\n ('NLMOE', 'NLDOR'): 80,\n ('NLVLI', 'NLSTD'): 79,\n ('NLDEV', 'NLALM'): 79,\n ('NLBNU', 'NLVEN'): 79,\n ('NLVEN', 'NLOMD'): 79,\n ('NLMEP', 'NLLEY'): 78,\n ('NLLMR', 'NLDRA'): 78,\n ('NLRTM', 'NLEIN'): 78,\n ('NLMEP', 'NLZWO'): 78,\n ('NLNKK', 'NLKAM'): 78,\n ('NLNIJ', 'NLNIJ'): 77,\n ('NLEEM', 'NLMOE'): 77,\n ('NLRTM', 'NLDRU'): 77,\n ('NLEEM', 'NLUTC'): 77,\n ('NLZWO', 'NLKAM'): 77,\n ('NLBON', 'NLDOR'): 77,\n ('NLVLI', 'NLABL'): 77,\n ('NLLEY', 'NLHAR'): 77,\n ('NLBON', 'NLARN'): 77,\n ('NLHAR', 'NLHRN'): 77,\n ('NLOOS', 'NLPER'): 76,\n ('NLARN', 'NLAMS'): 76,\n ('NLEUR', 'NLHAR'): 76,\n ('NLMSB', 'NLLIN'): 75,\n ('NLHAR', 'NLRTM'): 75,\n ('NLDHR', 'NLKAM'): 75,\n ('NLAMS', 'NLHBG'): 74,\n ('NLDZL', 'NLBOT'): 74,\n ('NLWLK', 'NLDST'): 74,\n ('NLELB', 'NLNKK'): 74,\n ('NLDIN', 'NLMST'): 74,\n ('NLKAM', 'NLKAM'): 73,\n ('NLBON', 'NLBZM'): 73,\n ('NLMAA', 'NLTLB'): 73,\n ('NLBON', 'NLDEV'): 73,\n ('NLBRD', 'NLOOS'): 73,\n ('NLDIN', 'NLDFT'): 73,\n ('NLLMR', 'NLFAR'): 73,\n ('NLGOR', 'NLAMS'): 72,\n ('NLHRW', 'NLHEJ'): 72,\n ('NLSVG', 'NLVLI'): 72,\n ('NLIJM', 'NLTIE'): 72,\n ('NLBUD', 'NLAMS'): 72,\n ('NLZWI', 'NLZWO'): 71,\n ('NLBGU', 'NLIJM'): 71,\n ('NLAMS', 'NLDIN'): 71,\n ('NLAME', 'NLAMS'): 71,\n ('NLWLK', 'NLLOM'): 71,\n ('NLOOS', 'NLDST'): 71,\n ('NLLMR', 'NLDZL'): 71,\n ('NLCOE', 'NLDST'): 71,\n ('NLBRD', 'NLBEM'): 70,\n ('NLXXX', 'NLVLI'): 70,\n ('NLBEM', 'NLWSP'): 70,\n ('NLAME', 'NLIJM'): 70,\n ('NLPER', 'NLAPN'): 70,\n ('NLLOM', 'NLARK'): 69,\n ('NLUTC', 'NLDST'): 69,\n ('NLPER', 'NLTLB'): 69,\n ('NLDHR', 'NLWIW'): 69,\n ('NLUTC', 'NLDEV'): 68,\n ('NLMAA', 'NLUTC'): 68,\n ('NLSLU', 'NLVEG'): 67,\n ('NLMIH', 'NLBRS'): 67,\n ('NLSLD', 'NLAMS'): 67,\n ('NLDST', 'NLAPN'): 67,\n ('NLCUY', 'NLLOM'): 67,\n ('NLVEN', 'NLVLI'): 66,\n ('NLAMS', 'NLRHD'): 66,\n ('NLGRA', 'NLRTM'): 66,\n ('NLRTM', 'NLWIS'): 66,\n ('NLMSB', 'NLMAA'): 66,\n ('NLRTM', 'NLBRS'): 65,\n ('NLLOB', 'NLRTM'): 65,\n ('NLKWZ', 'NLAMS'): 65,\n ('NLRTM', 'NLPER'): 65,\n ('NLWLK', 'NLAMS'): 65,\n ('NLAMS', 'NLAKL'): 65,\n ('NLVLL', 'NLKWZ'): 64,\n ('NLOSS', 'NLHEJ'): 64,\n ('NLEUR', 'NLWLK'): 64,\n ('NLMEP', 'NLWTZ'): 64,\n ('NLARK', 'NLMAA'): 64,\n ('NLMID', 'NLBRS'): 63,\n ('NLTIE', 'NLDOR'): 63,\n ('NLDIN', 'NLASP'): 62,\n ('NLHEJ', 'NLETT'): 62,\n ('NLVLI', 'NLBRS'): 61,\n ('NLIJM', 'NLBRD'): 61,\n ('NLSJK', 'NLBIW'): 61,\n ('NLURK', 'NLLEY'): 61,\n ('NLLEY', 'NLLMR'): 61,\n ('NLVLL', 'NLLWR'): 61,\n ('NLRTM', 'NLHRW'): 61,\n ('NLMOE', 'NLHRD'): 60,\n ('NLLAN', 'NLDZL'): 60,\n ('NLVEN', 'NLHAE'): 60,\n ('NLDRA', 'NLRTM'): 60,\n ('NLBOT', 'NLMOE'): 60,\n ('NLGRQ', 'NLOHI'): 60,\n ('NLGRO', 'NLDST'): 60,\n ('NLIJM', 'NLWGW'): 60,\n ('NLNIJ', 'NLMSB'): 59,\n ('NLVLL', 'NLZOT'): 59,\n ('NLEEM', 'NLZOU'): 58,\n ('NLZWO', 'NLIJM'): 58,\n ('NLWSP', 'NLURK'): 58,\n ('NLVLI', 'NLSTI'): 58,\n ('NLRTM', 'NLOME'): 57,\n ('NLEES', 'NLRTM'): 57,\n ('NLUTC', 'NLNWG'): 57,\n ('NLAMS', 'NLWBR'): 57,\n ('NLBON', 'NLTIE'): 57,\n ('NLURK', 'NLZEW'): 57,\n ('NLDOE', 'NLNIJ'): 57,\n ('NLKAM', 'NLRID'): 56,\n ('NLENS', 'NLHGL'): 56,\n ('NLOCC', 'NLRTM'): 56,\n ('NLMSB', 'NLMOE'): 56,\n ('NLAMS', 'NLBRD'): 56,\n ('NLENS', 'NLMOE'): 56,\n ('NLOVM', 'NLDRO'): 56,\n ('NLTIE', 'NLPER'): 56,\n ('NLHRW', 'NLLOM'): 55,\n ('NLHRD', 'NLKAM'): 55,\n ('NLAER', 'NLENK'): 55,\n ('NLBEM', 'NLAAL'): 55,\n ('NLRTM', 'NLEUR'): 55,\n ('NLAMS', 'NLFRK'): 55,\n ('NLWLK', 'NLMAA'): 55,\n ('NLOME', 'NLIJM'): 54,\n ('NLDOR', 'NLIJM'): 54,\n ('NLUTC', 'NLOSS'): 54,\n ('NLWRT', 'NLRTM'): 54,\n ('NLENK', 'NLLEY'): 54,\n ('NLIJM', 'NLROZ'): 54,\n ('NLGOU', 'NLIJM'): 54,\n ('NLRTM', 'NLBOT'): 54,\n ('NLVLA', 'NLMOE'): 54,\n ('NLZAA', 'NLZAA'): 53,\n ('NLPHL', 'NLBON'): 53,\n ('NLGOU', 'NLVLI'): 53,\n ('NLMEP', 'NLIJM'): 53,\n ('NLROO', 'NLBRS'): 53,\n ('NLHAN', 'NLRTM'): 53,\n ('NLSCI', 'NLHLM'): 53,\n ('NLPER', 'NLGOR'): 53,\n ('NLETT', 'NLRTM'): 53,\n ('NLURK', 'NLGRQ'): 53,\n ('NLWGW', 'NLTIE'): 53,\n ('NLOSS', 'NLLOM'): 52,\n ('NLAMS', 'NLWPI'): 52,\n ('NLRTM', 'NLMID'): 52,\n ('NLOOS', 'NLIJM'): 52,\n ('NLHAN', 'NLDOR'): 52,\n ('NLTIE', 'NLOSS'): 52,\n ('NLIJM', 'NLAKL'): 52,\n ('NLZWI', 'NLMST'): 51,\n ('NLZOU', 'NLRTM'): 51,\n ('NLLRD', 'NLHRW'): 51,\n ('NLMID', 'NLVLI'): 51,\n ('NLPER', 'NLDOE'): 51,\n ('NLOOS', 'NLTIE'): 51,\n ('NLBON', 'NLZWO'): 50,\n ('NLZWS', 'NLRTM'): 50,\n ('NLMEP', 'NLKAM'): 50,\n ('NLLOB', 'NLZLB'): 50,\n ('NLVLI', 'NLBRD'): 50,\n ('NLBRD', 'NLHRW'): 50,\n ('NLVLI', 'NLBOT'): 50,\n ('NLSJK', 'NLHRW'): 50,\n ('NLBAA', 'NLHRD'): 49,\n ('NLHAS', 'NLZWS'): 49,\n ('NLGOU', 'NLMAA'): 48,\n ('NLHAR', 'NLDZL'): 48,\n ('NLWAS', 'NLABL'): 48,\n ('NLLEY', 'NLEEM'): 48,\n ('NLALM', 'NLDOR'): 48,\n ('NLPER', 'NLWLK'): 48,\n ('NLBON', 'NLZWI'): 48,\n ('NLAMS', 'NLHRN'): 48,\n ('NLBGU', 'NLDST'): 48,\n ('NLHEJ', 'NLNRW'): 48,\n ('NLSVG', 'NLRTM'): 48,\n ('NLBAA', 'NLKAM'): 48,\n ('NLDFT', 'NLAMS'): 48,\n ('NLZWS', 'NLZWS'): 47,\n ('NLBON', 'NLGOE'): 47,\n ('NLHAR', 'NLSLU'): 47,\n ('NLPAP', 'NLAMS'): 47,\n ('NLHFN', 'NLHRW'): 47,\n ('NLSCH', 'NLAMS'): 47,\n ('NLGOU', 'NLAMS'): 47,\n ('NLNIJ', 'NLHTB'): 47,\n ('NLWKD', 'NLRTM'): 47,\n ('NLUTC', 'NLDOR'): 47,\n ('NLZLB', 'NLDOR'): 47,\n ('NLWEU', 'NLMSB'): 47,\n ('NLHGL', 'NLUTC'): 46,\n ('NLLEY', 'NLHRN'): 46,\n ('NLAER', 'NLSCH'): 46,\n ('NLTNZ', 'NLSLU'): 46,\n ('NLLSH', 'NLAMS'): 45,\n ('NLSCI', 'NLVEN'): 45,\n ('NLHTR', 'NLHTB'): 45,\n ('NLGRA', 'NLAMS'): 45,\n ('NLURK', 'NLUTC'): 45,\n ('NLTNZ', 'NLBOT'): 45,\n ('NLDRO', 'NLNKK'): 45,\n ('NLOMD', 'NLWEU'): 45,\n ('NLHAG', 'NLMAA'): 45,\n ('NLOMD', 'NLWSM'): 45,\n ('NLOSS', 'NLIJM'): 44,\n ('NLGOU', 'NLMOE'): 44,\n ('NLAER', 'NLHAA'): 44,\n ('NLSWI', 'NLUIT'): 44,\n ('NLOOS', 'NLVLI'): 44,\n ('NLDHR', 'NLDTK'): 44,\n ('NLBGB', 'NLAMS'): 44,\n ('NLAMS', 'NLNGV'): 44,\n ('NLHEJ', 'NLMEP'): 44,\n ('NLAKL', 'NLSJK'): 44,\n ('NLPLP', 'NLHAN'): 43,\n ('NLGOU', 'NLDST'): 43,\n ('NLHAN', 'NLMOE'): 43,\n ('NLWIW', 'NLNKK'): 43,\n ('NLZOE', 'NLWSP'): 43,\n ('NLLIN', 'NLVEN'): 43,\n ('NLSWM', 'NLVEN'): 43,\n ('NLHGL', 'NLGOO'): 43,\n ('NLBIW', 'NLLOB'): 43,\n ('NLTNZ', 'NLYSK'): 43,\n ('NLKAI', 'NLUIT'): 43,\n ('NLAMS', 'NLLAV'): 43,\n ('NLSTD', 'NLBRS'): 42,\n ('NLVLI', 'NLEVG'): 42,\n ('NLVEG', 'NLMAA'): 42,\n ('NLDEV', 'NLELL'): 42,\n ('NLZOU', 'NLDST'): 42,\n ('NLBOT', 'NLGOU'): 42,\n ('NLBRD', 'NLMAA'): 42,\n ('NLHEJ', 'NLLSH'): 42,\n ('NLOBO', 'NLRTM'): 42,\n ('NLPAP', 'NLRTM'): 42,\n ('NLSTW', 'NLHAS'): 42,\n ('NLLEY', 'NLBAA'): 42,\n ('NLLSH', 'NLGOR'): 41,\n ('NLVLI', 'NLVEL'): 41,\n ('NLHEJ', 'NLOME'): 41,\n ('NLSTI', 'NLWIW'): 41,\n ('NLRTM', 'NLDST'): 41,\n ('NLKAM', 'NLDOR'): 41,\n ('NLMAA', 'NLKSL'): 41,\n ('NLSJK', 'NLAMS'): 41,\n ('NLVLI', 'NLTLB'): 41,\n ('NLHTR', 'NLDEV'): 41,\n ('NLLOM', 'NLTIE'): 41,\n ('NLPER', 'NLHGL'): 41,\n ('NLMSB', 'NLOMD'): 41,\n ('NLWKD', 'NLGOR'): 41,\n ('NLVKR', 'NLRTM'): 41,\n ('NLDOR', 'NLBOT'): 41,\n ('NLPER', 'NLVSN'): 41,\n ('NLZWI', 'NLVLI'): 41,\n ('NLHEJ', 'NLDFT'): 41,\n ('NLZWI', 'NLLSH'): 41,\n ('NLWDE', 'NLGOE'): 41,\n ('NLMOE', 'NLLEY'): 40,\n ('NLGOE', 'NLVLI'): 40,\n ('NLLCH', 'NLDEL'): 40,\n ('NLMAA', 'NLZOU'): 40,\n ('NLVEG', 'NLLOM'): 40,\n ('NLDST', 'NLLEY'): 40,\n ('NLKAM', 'NLBOT'): 40,\n ('NLOMD', 'NLDOR'): 40,\n ('NLUTC', 'NLZWO'): 40,\n ('NLWTE', 'NLVLL'): 40,\n ('NLHGL', 'NLRID'): 40,\n ('NLBON', 'NLAKR'): 39,\n ('NLPER', 'NLPER'): 39,\n ('NLDFT', 'NLDST'): 39,\n ('NLARN', 'NLHEJ'): 39,\n ('NLBZM', 'NLAMS'): 39,\n ('NLLOM', 'NLSTI'): 39,\n ('NLHAG', 'NLDST'): 39,\n ('NLIJM', 'NLOBO'): 39,\n ('NLOSS', 'NLSTI'): 39,\n ('NLUTC', 'NLBON'): 39,\n ('NLWED', 'NLDFT'): 39,\n ('NLENK', 'NLWSP'): 39,\n ('NLAMS', 'NLBGU'): 39,\n ('NLLEY', 'NLMAA'): 39,\n ('NLQCU', 'NLAMS'): 39,\n ('NLTEA', 'NLDST'): 39,\n ('NLMOE', 'NLOMD'): 39,\n ('NLGET', 'NLTIE'): 39,\n ('NLDOR', 'NLNIJ'): 39,\n ('NLWKD', 'NLVLI'): 38,\n ('NLLSH', 'NLRTM'): 38,\n ('NLURK', 'NLKWZ'): 38,\n ('NLFAR', 'NLWTZ'): 38,\n ('NLBZM', 'NLNIJ'): 38,\n ('NLGRQ', 'NLLMR'): 38,\n ('NLSTI', 'NLANL'): 38,\n ('NLHAR', 'NLDHR'): 38,\n ('NLMOE', 'NLSTI'): 38,\n ('NLPLP', 'NLMOE'): 38,\n ('NLSWI', 'NLRTM'): 38,\n ('NLROO', 'NLRTM'): 38,\n ('NLBON', 'NLETT'): 38,\n ('NLLOM', 'NLLRD'): 38,\n ('NLHDL', 'NLLOM'): 38,\n ('NLVLI', 'NLWED'): 38,\n ('NLBAA', 'NLELB'): 38,\n ('NLKLM', 'NLAMS'): 38,\n ('NLANL', 'NLAMS'): 38,\n ('NLGRQ', 'NLGRQ'): 37,\n ('NLBON', 'NLENS'): 37,\n ('NLHGL', 'NLBZM'): 37,\n ('NLDIN', 'NLLWR'): 37,\n ('NLZWO', 'NLSWI'): 37,\n ('NLSJK', 'NLUTC'): 37,\n ('NLVAN', 'NLBON'): 37,\n ('NLDEV', 'NLSJK'): 37,\n ('NLDSG', 'NLWSP'): 37,\n ('NLDOR', 'NLHRW'): 37,\n ('NLSTI', 'NLDOR'): 37,\n ('NLRAA', 'NLAMS'): 37,\n ('NLELB', 'NLLEY'): 37,\n ('NLDST', 'NLTLB'): 37,\n ('NLWRT', 'NLAMS'): 36,\n ('NLELB', 'NLHRD'): 36,\n ('NLRTM', 'NLBGU'): 36,\n ('NLIJM', 'NLMSL'): 36,\n ('NLDON', 'NLMOE'): 36,\n ('NLMST', 'NLNER'): 36,\n ('NLVLL', 'NLFRK'): 36,\n ('NLLEY', 'NLIJM'): 36,\n ('NLVEG', 'NLMOE'): 36,\n ('NLOBO', 'NLBRS'): 36,\n ('NLHST', 'NLBON'): 36,\n ('NLGOU', 'NLAPN'): 36,\n ('NLAMS', 'NLWRG'): 36,\n ('NLCUY', 'NLAMS'): 36,\n ('NLSWI', 'NLZEW'): 36,\n ('NLAMS', 'NLROZ'): 36,\n ('NLGRO', 'NLKAM'): 35,\n ('NLSTI', 'NLHEG'): 35,\n ('NLSTI', 'NLUTC'): 35,\n ('NLUTC', 'NLDIN'): 35,\n ('NLVEN', 'NLGOU'): 35,\n ('NLAMS', 'NLSTW'): 35,\n ('NLOSS', 'NLNIJ'): 35,\n ('NLAPN', 'NLWIW'): 35,\n ('NLBON', 'NLGRO'): 35,\n ('NLWKD', 'NLLOM'): 35,\n ('NLTLB', 'NLLTO'): 35,\n ('NLDFT', 'NLHRW'): 35,\n ('NLBLO', 'NLVEN'): 35,\n ('NLLOM', 'NLWBD'): 35,\n ('NLHRW', 'NLUTC'): 35,\n ('NLWRV', 'NLAMS'): 35,\n ('NLAER', 'NLLOM'): 35,\n ('NLHLM', 'NLGOR'): 34,\n ('NLMAA', 'NLZWI'): 34,\n ('NLKAI', 'NLAMS'): 34,\n ('NLDRU', 'NLAMS'): 34,\n ('NLGOR', 'NLDOR'): 34,\n ('NLHEJ', 'NLRSH'): 34,\n ('NLGNM', 'NLMEP'): 34,\n ('NLMOE', 'NLKMS'): 34,\n ('NLGOR', 'NLOBO'): 34,\n ('NLEVG', 'NLTNZ'): 34,\n ('NLNWG', 'NLGOR'): 34,\n ('NLIJM', 'NLEIN'): 34,\n ('NLKRU', 'NLHAN'): 34,\n ('NLZWS', 'NLLEY'): 34,\n ('NLNIJ', 'NLARN'): 34,\n ('NLKAM', 'NLLEY'): 34,\n ('NLSNK', 'NLLMR'): 34,\n ('NLIJM', 'NLSTD'): 33,\n ('NLOSS', 'NLDOR'): 33,\n ('NLOCC', 'NLAMS'): 33,\n ('NLSWI', 'NLUTC'): 33,\n ('NLWMO', 'NLZAA'): 33,\n ('NLVLI', 'NLLEY'): 33,\n ('NLHAR', 'NLEEM'): 33,\n ('NLTIE', 'NLBRD'): 33,\n ('NLVAN', 'NLHTR'): 33,\n ('NLHTB', 'NLHEJ'): 33,\n ('NLSLU', 'NLDOR'): 33,\n ('NLVLI', 'NLEUR'): 33,\n ('NLBEM', 'NLUTC'): 33,\n ('NLDFT', 'NLLOM'): 33,\n ('NLMOE', 'NLOGP'): 33,\n ('NLHEE', 'NLVEN'): 33,\n ('NLSPG', 'NLMST'): 33,\n ('NLGTB', 'NLVLI'): 33,\n ('NLLWR', 'NLEEM'): 32,\n ('NLVEN', 'NLSTI'): 32,\n ('NLAMS', 'NLDSG'): 32,\n ('NLTLB', 'NLGOR'): 32,\n ('NLANL', 'NLRTM'): 32,\n ('NLLEY', 'NLOME'): 32,\n ('NLBOR', 'NLRTM'): 32,\n ('NLHTR', 'NLRTM'): 32,\n ('NLZWO', 'NLDOR'): 32,\n ('NLLEY', 'NLDRO'): 32,\n ('NLURK', 'NLNKK'): 32,\n ('NLDIN', 'NLLRD'): 32,\n ('NLAMS', 'NLWSM'): 32,\n ('NLRTM', 'NLWDP'): 32,\n ('NLZWB', 'NLHEJ'): 32,\n ('NLMOE', 'NLNIJ'): 32,\n ('NLDOR', 'NLDIN'): 32,\n ('NLWIW', 'NLSOP'): 32,\n ('NLHRW', 'NLWKD'): 32,\n ('NLZAA', 'NLHEJ'): 32,\n ('NLLAN', 'NLLAN'): 31,\n ('NLLCH', 'NLHGL'): 31,\n ('NLTLB', 'NLPHL'): 31,\n ('NLHAR', 'NLBZM'): 31,\n ('NLOSS', 'NLWKD'): 31,\n ('NLXXX', 'NLDEV'): 31,\n ('NLMAA', 'NLLSH'): 31,\n ('NLPER', 'NLBZM'): 31,\n ('NLSCI', 'NLDOI'): 31,\n ('NLUTC', 'NLGRQ'): 31,\n ('NLBON', 'NLQCU'): 31,\n ('NLURK', 'NLLWR'): 31,\n ('NLMST', 'NLLOM'): 31,\n ('NLLEY', 'NLSPL'): 31,\n ('NLQCU', 'NLOCC'): 31,\n ('NLTNZ', 'NLIJM'): 31,\n ('NLALM', 'NLELL'): 31,\n ('NLMAA', 'NLZWB'): 31,\n ('NLTIE', 'NLOOY'): 31,\n ('NLBRD', 'NLCUY'): 31,\n ('NLVEG', 'NLDOR'): 30,\n ('NLSLU', 'NLBOT'): 30,\n ('NLRLA', 'NLAMS'): 30,\n ('NLMAA', 'NLSTI'): 30,\n ('NLLOM', 'NLZOU'): 30,\n ('NLLAV', 'NLSNK'): 30,\n ('NLZWS', 'NLKAM'): 30,\n ('NLWDE', 'NLBRD'): 30,\n ('NLVEN', 'NLAER'): 30,\n ('NLVLI', 'NLDFT'): 30,\n ('NLZOT', 'NLLAN'): 30,\n ('NLAMS', 'NLHTR'): 30,\n ('NLTIE', 'NLHIL'): 30,\n ('NLOUG', 'NLBRS'): 30,\n ('NLLMR', 'NLRTM'): 30,\n ('NLAME', 'NLKAM'): 30,\n ('NLDEV', 'NLEFE'): 30,\n ('NLZEW', 'NLLEY'): 30,\n ('NLGOO', 'NLIJM'): 29,\n ('NLZOU', 'NLAMS'): 29,\n ('NLTIE', 'NLMAA'): 29,\n ('NLVEG', 'NLGOR'): 29,\n ('NLHRD', 'NLLOB'): 29,\n ('NLBRD', 'NLHEJ'): 29,\n ('NLDST', 'NLHST'): 29,\n ('NLWBD', 'NLRTM'): 29,\n ('NLSVG', 'NLNIJ'): 29,\n ('NLBON', 'NLLEY'): 29,\n ('NLGNM', 'NLZWS'): 29,\n ('NLAER', 'NLHRN'): 29,\n ('NLWGW', 'NLUTC'): 29,\n ('NLLMR', 'NLWSP'): 29,\n ('NLDIN', 'NLVLI'): 29,\n ('NLNIJ', 'NLBOT'): 29,\n ('NLHTB', 'NLGOR'): 29,\n ('NLTLB', 'NLRAS'): 29,\n ('NLGOR', 'NLABL'): 29,\n ('NLMOE', 'NLZWO'): 29,\n ('NLAMS', 'NLSTH'): 29,\n ('NLSTI', 'NLCUY'): 29,\n ('NLHAR', 'NLLMR'): 29,\n ('NLMAA', 'NLVAN'): 29,\n ('NLELL', 'NLWGW'): 29,\n ('NLSTI', 'NLLCH'): 29,\n ('NLKWZ', 'NLHAR'): 29,\n ('NLMAA', 'NLAER'): 29,\n ('NLAMS', 'NLKTV'): 29,\n ('NLHRD', 'NLAER'): 29,\n ('NLAER', 'NLUTC'): 29,\n ('NLOMD', 'NLOMD'): 28,\n ('NLWED', 'NLLWR'): 28,\n ('NLGTB', 'NLOMD'): 28,\n ('NLGNM', 'NLVDM'): 28,\n ('NLBEM', 'NLHAA'): 28,\n ('NLWDE', 'NLHAN'): 28,\n ('NLLOM', 'NLTLB'): 28,\n ('NLBON', 'NLOBO'): 28,\n ('NLVDM', 'NLDZL'): 28,\n ('NLTIE', 'NLZWI'): 28,\n ('NLWMO', 'NLVLA'): 28,\n ('NLIJM', 'NLBZM'): 28,\n ('NLHRW', 'NLDST'): 28,\n ('NLVEN', 'NLDOR'): 28,\n ('NLLZA', 'NLAMS'): 28,\n ('NLCUY', 'NLVEG'): 28,\n ('NLNIJ', 'NLALM'): 28,\n ('NLUTC', 'NLOMD'): 28,\n ('NLDOR', 'NLHEJ'): 28,\n ('NLDST', 'NLSJK'): 28,\n ('NLWAS', 'NLVEG'): 28,\n ('NLHRN', 'NLENK'): 28,\n ('NLBOT', 'NLIJM'): 28,\n ('NLHTR', 'NLHKF'): 28,\n ('NLEVG', 'NLRTM'): 28,\n ('NLVEN', 'NLSMB'): 28,\n ('NLRTM', 'NLHGS'): 28,\n ('NLRAS', 'NLOSS'): 28,\n ('NLHKK', 'NLOHI'): 28,\n ('NLLIN', 'NLKAM'): 27,\n ('NLENK', 'NLENK'): 27,\n ('NLRLA', 'NLMOE'): 27,\n ('NLHTR', 'NLDOR'): 27,\n ('NLHLM', 'NLEPL'): 27,\n ('NLWKD', 'NLHEJ'): 27,\n ('NLLEY', 'NLDZL'): 27,\n ('NLNWG', 'NLBON'): 27,\n ('NLDOR', 'NLRAS'): 27,\n ('NLLEY', 'NLFRK'): 27,\n ('NLWKD', 'NLIJM'): 27,\n ('NLMAA', 'NLETT'): 27,\n ('NLDEV', 'NLZWO'): 27,\n ('NLLEY', 'NLHRD'): 27,\n ('NLBRS', 'NLHDL'): 27,\n ('NLZWI', 'NLGOR'): 27,\n ('NLKRU', 'NLTNZ'): 27,\n ('NLHRW', 'NLLTO'): 27,\n ('NLIJM', 'NLVSN'): 27,\n ('NLBRD', 'NLLOM'): 27,\n ('NLSCI', 'NLVLI'): 27,\n ('NLWIW', 'NLHAR'): 27,\n ('NLIJM', 'NLLWR'): 27,\n ('NLBON', 'NLZWB'): 27,\n ('NLOOS', 'NLGET'): 27,\n ('NLROZ', 'NLSTI'): 27,\n ('NLZWI', 'NLVLA'): 27,\n ('NLRTM', 'NLLAW'): 27,\n ('NLLOB', 'NLHRN'): 27,\n ('NLKRU', 'NLGOE'): 27,\n ('NLROZ', 'NLOSS'): 27,\n ('NLRTM', 'NLBEV'): 27,\n ('NLGOU', 'NLSTD'): 27,\n ('NLHAN', 'NLHAN'): 26,\n ('NLLRD', 'NLAMS'): 26,\n ('NLMAA', 'NLWSM'): 26,\n ('NLLOM', 'NLKAZ'): 26,\n ('NLVLA', 'NLDZL'): 26,\n ('NLNGV', 'NLSNK'): 26,\n ('NLBON', 'NLGOR'): 26,\n ('NLSJK', 'NLAER'): 26,\n ('NLHGL', 'NLDOR'): 26,\n ('NLDOR', 'NLMST'): 26,\n ('NLHRD', 'NLWBR'): 26,\n ('NLOSS', 'NLZWI'): 26,\n ('NLOCC', 'NLUTC'): 26,\n ('NLBON', 'NLPER'): 26,\n ('NLDOR', 'NLGTB'): 26,\n ('NLMOE', 'NLAME'): 26,\n ('NLOSS', 'NLHLM'): 26,\n ('NLKAM', 'NLVLA'): 26,\n ('NLHAS', 'NLRTM'): 26,\n ('NLTNZ', 'NLVEG'): 26,\n ('NLAMS', 'NLDRO'): 26,\n ('NLTIE', 'NLHRW'): 26,\n ('NLLEY', 'NLDHR'): 26,\n ('NLLIN', 'NLAMS'): 26,\n ('NLENS', 'NLELL'): 26,\n ('NLVEN', 'NLMSB'): 26,\n ('NLZCH', 'NLOIH'): 26,\n ('NLLOM', 'NLQCU'): 26,\n ('NLVEG', 'NLMSB'): 25,\n ('NLSJK', 'NLZWO'): 25,\n ('NLOMD', 'NLVLI'): 25,\n ('NLVLI', 'NLEEM'): 25,\n ('NLHRV', 'NLRTM'): 25,\n ('NLBZM', 'NLTNZ'): 25,\n ('NLHAS', 'NLEES'): 25,\n ('NLBRS', 'NLWLK'): 25,\n ('NLKAM', 'NLEEM'): 25,\n ('NLMOE', 'NLSVG'): 25,\n ('NLELL', 'NLWSP'): 25,\n ('NLLRD', 'NLDST'): 25,\n ('NLUTC', 'NLPER'): 25,\n ('NLKAM', 'NLMAA'): 25,\n ('NLPLP', 'NLBRS'): 25,\n ('NLOSS', 'NLSCI'): 25,\n ('NLSCI', 'NLVEG'): 25,\n ('NLKAM', 'NLZAA'): 25,\n ('NLELL', 'NLOOS'): 25,\n ...}"
     },
     "execution_count": 9,
     "metadata": {},
     "output_type": "execute_result"
    }
   ],
   "source": [
    "trip_dict_main"
   ],
   "metadata": {
    "collapsed": false,
    "pycharm": {
     "name": "#%%\n"
    }
   }
  },
  {
   "cell_type": "code",
   "execution_count": 10,
   "outputs": [],
   "source": [
    "# make dataframe dict with a key for each column\n",
    "trip_dict_df_main = {'origin': [], 'destination': [], 'trip_count': []}\n",
    "for i in df_2021.SK_CODE.unique():\n",
    "    trip_dict_df_main[i] = []\n",
    "\n",
    "# now fill this dict\n",
    "for key, value in trip_dict_main.items():\n",
    "    # append values from dict a\n",
    "    trip_dict_df_main['origin'].append(key[0])\n",
    "    trip_dict_df_main['destination'].append(key[1])\n",
    "    trip_dict_df_main['trip_count'].append(value)\n",
    "    #now append values from other dict, for each ship type\n",
    "    for ship_type in df_2021.SK_CODE.unique():\n",
    "        #if ships have travelled from A to B, append this value\n",
    "        if (key[0], key[1], ship_type) in df_t_dict.keys():\n",
    "            trip_dict_df_main[ship_type].append(df_t_dict[(key[0], key[1], ship_type)])\n",
    "        elif (key[1], key[0], ship_type) in df_t_dict.keys():\n",
    "            trip_dict_df_main[ship_type].append(df_t_dict[(key[1], key[0], ship_type)])\n",
    "        else:\n",
    "            # no? Then no ships of this type have travelled this path, append 0\n",
    "            trip_dict_df_main[ship_type].append(0)"
   ],
   "metadata": {
    "collapsed": false,
    "pycharm": {
     "name": "#%%\n"
    }
   }
  },
  {
   "cell_type": "code",
   "execution_count": 11,
   "outputs": [],
   "source": [
    "df_main = pd.DataFrame.from_dict(trip_dict_df_main)"
   ],
   "metadata": {
    "collapsed": false,
    "pycharm": {
     "name": "#%%\n"
    }
   }
  },
  {
   "cell_type": "code",
   "execution_count": 12,
   "outputs": [
    {
     "data": {
      "text/plain": "      origin destination  trip_count   M12    M8  BII-6b  M10  BIIa-1    M9  \\\n0      NLRTM       NLAMS        9943  2076  3510       0  427     102  1316   \n1      NLRTM       NLMOE        2686    70  1584       0   56       2   144   \n2      NLRTM       NLVLI        2153   190   658       0  140      10   414   \n3      NLAMS       NLAER        2119     6   132       0    7       2     0   \n4      NLRTM       NLRTM        1794   363   715       0  164      15    92   \n...      ...         ...         ...   ...   ...     ...  ...     ...   ...   \n10588  NLBZM       NLVSN           1     0     0       0    0       0     0   \n10589  NLBZM       NLVER           1     0     0       0    0       0     0   \n10590  NLBZM       NLSMB           1     0     0       0    0       0     0   \n10591  NLBZM       NLSHH           1     0     0       0    0       0     0   \n10592  NLEFE       NLDZL           1     0     0       0    0       0     0   \n\n       BII-6l  ...  C4  B04  M0  C2l  BII-2L  B02  C1b  C2b  B01  C1l  \n0           0  ...   5    5  11    7      39    4    0    0    0    0  \n1           0  ...   2    0   1    0       1    0    0    0    0    0  \n2           0  ...   0    1   2    2       0    0    0    1    0    0  \n3           0  ...   0   37   5    1       0    3    0    1    1    0  \n4           1  ...   4    0   0    0       2    0    0    0    0    0  \n...       ...  ...  ..  ...  ..  ...     ...  ...  ...  ...  ...  ...  \n10588       0  ...   0    0   0    0       0    0    0    0    0    0  \n10589       0  ...   0    0   0    0       0    0    0    0    0    0  \n10590       0  ...   0    0   0    0       0    0    0    0    0    0  \n10591       0  ...   0    0   0    0       0    0    0    0    0    0  \n10592       0  ...   0    0   0    0       0    0    0    0    0    0  \n\n[10593 rows x 36 columns]",
      "text/html": "<div>\n<style scoped>\n    .dataframe tbody tr th:only-of-type {\n        vertical-align: middle;\n    }\n\n    .dataframe tbody tr th {\n        vertical-align: top;\n    }\n\n    .dataframe thead th {\n        text-align: right;\n    }\n</style>\n<table border=\"1\" class=\"dataframe\">\n  <thead>\n    <tr style=\"text-align: right;\">\n      <th></th>\n      <th>origin</th>\n      <th>destination</th>\n      <th>trip_count</th>\n      <th>M12</th>\n      <th>M8</th>\n      <th>BII-6b</th>\n      <th>M10</th>\n      <th>BIIa-1</th>\n      <th>M9</th>\n      <th>BII-6l</th>\n      <th>...</th>\n      <th>C4</th>\n      <th>B04</th>\n      <th>M0</th>\n      <th>C2l</th>\n      <th>BII-2L</th>\n      <th>B02</th>\n      <th>C1b</th>\n      <th>C2b</th>\n      <th>B01</th>\n      <th>C1l</th>\n    </tr>\n  </thead>\n  <tbody>\n    <tr>\n      <th>0</th>\n      <td>NLRTM</td>\n      <td>NLAMS</td>\n      <td>9943</td>\n      <td>2076</td>\n      <td>3510</td>\n      <td>0</td>\n      <td>427</td>\n      <td>102</td>\n      <td>1316</td>\n      <td>0</td>\n      <td>...</td>\n      <td>5</td>\n      <td>5</td>\n      <td>11</td>\n      <td>7</td>\n      <td>39</td>\n      <td>4</td>\n      <td>0</td>\n      <td>0</td>\n      <td>0</td>\n      <td>0</td>\n    </tr>\n    <tr>\n      <th>1</th>\n      <td>NLRTM</td>\n      <td>NLMOE</td>\n      <td>2686</td>\n      <td>70</td>\n      <td>1584</td>\n      <td>0</td>\n      <td>56</td>\n      <td>2</td>\n      <td>144</td>\n      <td>0</td>\n      <td>...</td>\n      <td>2</td>\n      <td>0</td>\n      <td>1</td>\n      <td>0</td>\n      <td>1</td>\n      <td>0</td>\n      <td>0</td>\n      <td>0</td>\n      <td>0</td>\n      <td>0</td>\n    </tr>\n    <tr>\n      <th>2</th>\n      <td>NLRTM</td>\n      <td>NLVLI</td>\n      <td>2153</td>\n      <td>190</td>\n      <td>658</td>\n      <td>0</td>\n      <td>140</td>\n      <td>10</td>\n      <td>414</td>\n      <td>0</td>\n      <td>...</td>\n      <td>0</td>\n      <td>1</td>\n      <td>2</td>\n      <td>2</td>\n      <td>0</td>\n      <td>0</td>\n      <td>0</td>\n      <td>1</td>\n      <td>0</td>\n      <td>0</td>\n    </tr>\n    <tr>\n      <th>3</th>\n      <td>NLAMS</td>\n      <td>NLAER</td>\n      <td>2119</td>\n      <td>6</td>\n      <td>132</td>\n      <td>0</td>\n      <td>7</td>\n      <td>2</td>\n      <td>0</td>\n      <td>0</td>\n      <td>...</td>\n      <td>0</td>\n      <td>37</td>\n      <td>5</td>\n      <td>1</td>\n      <td>0</td>\n      <td>3</td>\n      <td>0</td>\n      <td>1</td>\n      <td>1</td>\n      <td>0</td>\n    </tr>\n    <tr>\n      <th>4</th>\n      <td>NLRTM</td>\n      <td>NLRTM</td>\n      <td>1794</td>\n      <td>363</td>\n      <td>715</td>\n      <td>0</td>\n      <td>164</td>\n      <td>15</td>\n      <td>92</td>\n      <td>1</td>\n      <td>...</td>\n      <td>4</td>\n      <td>0</td>\n      <td>0</td>\n      <td>0</td>\n      <td>2</td>\n      <td>0</td>\n      <td>0</td>\n      <td>0</td>\n      <td>0</td>\n      <td>0</td>\n    </tr>\n    <tr>\n      <th>...</th>\n      <td>...</td>\n      <td>...</td>\n      <td>...</td>\n      <td>...</td>\n      <td>...</td>\n      <td>...</td>\n      <td>...</td>\n      <td>...</td>\n      <td>...</td>\n      <td>...</td>\n      <td>...</td>\n      <td>...</td>\n      <td>...</td>\n      <td>...</td>\n      <td>...</td>\n      <td>...</td>\n      <td>...</td>\n      <td>...</td>\n      <td>...</td>\n      <td>...</td>\n      <td>...</td>\n    </tr>\n    <tr>\n      <th>10588</th>\n      <td>NLBZM</td>\n      <td>NLVSN</td>\n      <td>1</td>\n      <td>0</td>\n      <td>0</td>\n      <td>0</td>\n      <td>0</td>\n      <td>0</td>\n      <td>0</td>\n      <td>0</td>\n      <td>...</td>\n      <td>0</td>\n      <td>0</td>\n      <td>0</td>\n      <td>0</td>\n      <td>0</td>\n      <td>0</td>\n      <td>0</td>\n      <td>0</td>\n      <td>0</td>\n      <td>0</td>\n    </tr>\n    <tr>\n      <th>10589</th>\n      <td>NLBZM</td>\n      <td>NLVER</td>\n      <td>1</td>\n      <td>0</td>\n      <td>0</td>\n      <td>0</td>\n      <td>0</td>\n      <td>0</td>\n      <td>0</td>\n      <td>0</td>\n      <td>...</td>\n      <td>0</td>\n      <td>0</td>\n      <td>0</td>\n      <td>0</td>\n      <td>0</td>\n      <td>0</td>\n      <td>0</td>\n      <td>0</td>\n      <td>0</td>\n      <td>0</td>\n    </tr>\n    <tr>\n      <th>10590</th>\n      <td>NLBZM</td>\n      <td>NLSMB</td>\n      <td>1</td>\n      <td>0</td>\n      <td>0</td>\n      <td>0</td>\n      <td>0</td>\n      <td>0</td>\n      <td>0</td>\n      <td>0</td>\n      <td>...</td>\n      <td>0</td>\n      <td>0</td>\n      <td>0</td>\n      <td>0</td>\n      <td>0</td>\n      <td>0</td>\n      <td>0</td>\n      <td>0</td>\n      <td>0</td>\n      <td>0</td>\n    </tr>\n    <tr>\n      <th>10591</th>\n      <td>NLBZM</td>\n      <td>NLSHH</td>\n      <td>1</td>\n      <td>0</td>\n      <td>0</td>\n      <td>0</td>\n      <td>0</td>\n      <td>0</td>\n      <td>0</td>\n      <td>0</td>\n      <td>...</td>\n      <td>0</td>\n      <td>0</td>\n      <td>0</td>\n      <td>0</td>\n      <td>0</td>\n      <td>0</td>\n      <td>0</td>\n      <td>0</td>\n      <td>0</td>\n      <td>0</td>\n    </tr>\n    <tr>\n      <th>10592</th>\n      <td>NLEFE</td>\n      <td>NLDZL</td>\n      <td>1</td>\n      <td>0</td>\n      <td>0</td>\n      <td>0</td>\n      <td>0</td>\n      <td>0</td>\n      <td>0</td>\n      <td>0</td>\n      <td>...</td>\n      <td>0</td>\n      <td>0</td>\n      <td>0</td>\n      <td>0</td>\n      <td>0</td>\n      <td>0</td>\n      <td>0</td>\n      <td>0</td>\n      <td>0</td>\n      <td>0</td>\n    </tr>\n  </tbody>\n</table>\n<p>10593 rows × 36 columns</p>\n</div>"
     },
     "execution_count": 12,
     "metadata": {},
     "output_type": "execute_result"
    }
   ],
   "source": [
    "df_main"
   ],
   "metadata": {
    "collapsed": false,
    "pycharm": {
     "name": "#%%\n"
    }
   }
  },
  {
   "cell_type": "code",
   "execution_count": 13,
   "outputs": [],
   "source": [
    "#remove entries with same origin and destination\n",
    "df_main = df_main.loc[df_main.origin!=df_main.destination]"
   ],
   "metadata": {
    "collapsed": false,
    "pycharm": {
     "name": "#%%\n"
    }
   }
  },
  {
   "cell_type": "code",
   "execution_count": 14,
   "outputs": [
    {
     "data": {
      "text/plain": "      origin destination  trip_count   M12    M8  BII-6b  M10  BIIa-1    M9  \\\n0      NLRTM       NLAMS        9943  2076  3510       0  427     102  1316   \n1      NLRTM       NLMOE        2686    70  1584       0   56       2   144   \n2      NLRTM       NLVLI        2153   190   658       0  140      10   414   \n3      NLAMS       NLAER        2119     6   132       0    7       2     0   \n5      NLVEG       NLRTM        1484     0     1       0    0       0     0   \n...      ...         ...         ...   ...   ...     ...  ...     ...   ...   \n10588  NLBZM       NLVSN           1     0     0       0    0       0     0   \n10589  NLBZM       NLVER           1     0     0       0    0       0     0   \n10590  NLBZM       NLSMB           1     0     0       0    0       0     0   \n10591  NLBZM       NLSHH           1     0     0       0    0       0     0   \n10592  NLEFE       NLDZL           1     0     0       0    0       0     0   \n\n       BII-6l  ...  C4  B04  M0  C2l  BII-2L  B02  C1b  C2b  B01  C1l  \n0           0  ...   5    5  11    7      39    4    0    0    0    0  \n1           0  ...   2    0   1    0       1    0    0    0    0    0  \n2           0  ...   0    1   2    2       0    0    0    1    0    0  \n3           0  ...   0   37   5    1       0    3    0    1    1    0  \n5           0  ...   0    0  17    0       0    0    0    0    0    0  \n...       ...  ...  ..  ...  ..  ...     ...  ...  ...  ...  ...  ...  \n10588       0  ...   0    0   0    0       0    0    0    0    0    0  \n10589       0  ...   0    0   0    0       0    0    0    0    0    0  \n10590       0  ...   0    0   0    0       0    0    0    0    0    0  \n10591       0  ...   0    0   0    0       0    0    0    0    0    0  \n10592       0  ...   0    0   0    0       0    0    0    0    0    0  \n\n[10456 rows x 36 columns]",
      "text/html": "<div>\n<style scoped>\n    .dataframe tbody tr th:only-of-type {\n        vertical-align: middle;\n    }\n\n    .dataframe tbody tr th {\n        vertical-align: top;\n    }\n\n    .dataframe thead th {\n        text-align: right;\n    }\n</style>\n<table border=\"1\" class=\"dataframe\">\n  <thead>\n    <tr style=\"text-align: right;\">\n      <th></th>\n      <th>origin</th>\n      <th>destination</th>\n      <th>trip_count</th>\n      <th>M12</th>\n      <th>M8</th>\n      <th>BII-6b</th>\n      <th>M10</th>\n      <th>BIIa-1</th>\n      <th>M9</th>\n      <th>BII-6l</th>\n      <th>...</th>\n      <th>C4</th>\n      <th>B04</th>\n      <th>M0</th>\n      <th>C2l</th>\n      <th>BII-2L</th>\n      <th>B02</th>\n      <th>C1b</th>\n      <th>C2b</th>\n      <th>B01</th>\n      <th>C1l</th>\n    </tr>\n  </thead>\n  <tbody>\n    <tr>\n      <th>0</th>\n      <td>NLRTM</td>\n      <td>NLAMS</td>\n      <td>9943</td>\n      <td>2076</td>\n      <td>3510</td>\n      <td>0</td>\n      <td>427</td>\n      <td>102</td>\n      <td>1316</td>\n      <td>0</td>\n      <td>...</td>\n      <td>5</td>\n      <td>5</td>\n      <td>11</td>\n      <td>7</td>\n      <td>39</td>\n      <td>4</td>\n      <td>0</td>\n      <td>0</td>\n      <td>0</td>\n      <td>0</td>\n    </tr>\n    <tr>\n      <th>1</th>\n      <td>NLRTM</td>\n      <td>NLMOE</td>\n      <td>2686</td>\n      <td>70</td>\n      <td>1584</td>\n      <td>0</td>\n      <td>56</td>\n      <td>2</td>\n      <td>144</td>\n      <td>0</td>\n      <td>...</td>\n      <td>2</td>\n      <td>0</td>\n      <td>1</td>\n      <td>0</td>\n      <td>1</td>\n      <td>0</td>\n      <td>0</td>\n      <td>0</td>\n      <td>0</td>\n      <td>0</td>\n    </tr>\n    <tr>\n      <th>2</th>\n      <td>NLRTM</td>\n      <td>NLVLI</td>\n      <td>2153</td>\n      <td>190</td>\n      <td>658</td>\n      <td>0</td>\n      <td>140</td>\n      <td>10</td>\n      <td>414</td>\n      <td>0</td>\n      <td>...</td>\n      <td>0</td>\n      <td>1</td>\n      <td>2</td>\n      <td>2</td>\n      <td>0</td>\n      <td>0</td>\n      <td>0</td>\n      <td>1</td>\n      <td>0</td>\n      <td>0</td>\n    </tr>\n    <tr>\n      <th>3</th>\n      <td>NLAMS</td>\n      <td>NLAER</td>\n      <td>2119</td>\n      <td>6</td>\n      <td>132</td>\n      <td>0</td>\n      <td>7</td>\n      <td>2</td>\n      <td>0</td>\n      <td>0</td>\n      <td>...</td>\n      <td>0</td>\n      <td>37</td>\n      <td>5</td>\n      <td>1</td>\n      <td>0</td>\n      <td>3</td>\n      <td>0</td>\n      <td>1</td>\n      <td>1</td>\n      <td>0</td>\n    </tr>\n    <tr>\n      <th>5</th>\n      <td>NLVEG</td>\n      <td>NLRTM</td>\n      <td>1484</td>\n      <td>0</td>\n      <td>1</td>\n      <td>0</td>\n      <td>0</td>\n      <td>0</td>\n      <td>0</td>\n      <td>0</td>\n      <td>...</td>\n      <td>0</td>\n      <td>0</td>\n      <td>17</td>\n      <td>0</td>\n      <td>0</td>\n      <td>0</td>\n      <td>0</td>\n      <td>0</td>\n      <td>0</td>\n      <td>0</td>\n    </tr>\n    <tr>\n      <th>...</th>\n      <td>...</td>\n      <td>...</td>\n      <td>...</td>\n      <td>...</td>\n      <td>...</td>\n      <td>...</td>\n      <td>...</td>\n      <td>...</td>\n      <td>...</td>\n      <td>...</td>\n      <td>...</td>\n      <td>...</td>\n      <td>...</td>\n      <td>...</td>\n      <td>...</td>\n      <td>...</td>\n      <td>...</td>\n      <td>...</td>\n      <td>...</td>\n      <td>...</td>\n      <td>...</td>\n    </tr>\n    <tr>\n      <th>10588</th>\n      <td>NLBZM</td>\n      <td>NLVSN</td>\n      <td>1</td>\n      <td>0</td>\n      <td>0</td>\n      <td>0</td>\n      <td>0</td>\n      <td>0</td>\n      <td>0</td>\n      <td>0</td>\n      <td>...</td>\n      <td>0</td>\n      <td>0</td>\n      <td>0</td>\n      <td>0</td>\n      <td>0</td>\n      <td>0</td>\n      <td>0</td>\n      <td>0</td>\n      <td>0</td>\n      <td>0</td>\n    </tr>\n    <tr>\n      <th>10589</th>\n      <td>NLBZM</td>\n      <td>NLVER</td>\n      <td>1</td>\n      <td>0</td>\n      <td>0</td>\n      <td>0</td>\n      <td>0</td>\n      <td>0</td>\n      <td>0</td>\n      <td>0</td>\n      <td>...</td>\n      <td>0</td>\n      <td>0</td>\n      <td>0</td>\n      <td>0</td>\n      <td>0</td>\n      <td>0</td>\n      <td>0</td>\n      <td>0</td>\n      <td>0</td>\n      <td>0</td>\n    </tr>\n    <tr>\n      <th>10590</th>\n      <td>NLBZM</td>\n      <td>NLSMB</td>\n      <td>1</td>\n      <td>0</td>\n      <td>0</td>\n      <td>0</td>\n      <td>0</td>\n      <td>0</td>\n      <td>0</td>\n      <td>0</td>\n      <td>...</td>\n      <td>0</td>\n      <td>0</td>\n      <td>0</td>\n      <td>0</td>\n      <td>0</td>\n      <td>0</td>\n      <td>0</td>\n      <td>0</td>\n      <td>0</td>\n      <td>0</td>\n    </tr>\n    <tr>\n      <th>10591</th>\n      <td>NLBZM</td>\n      <td>NLSHH</td>\n      <td>1</td>\n      <td>0</td>\n      <td>0</td>\n      <td>0</td>\n      <td>0</td>\n      <td>0</td>\n      <td>0</td>\n      <td>0</td>\n      <td>...</td>\n      <td>0</td>\n      <td>0</td>\n      <td>0</td>\n      <td>0</td>\n      <td>0</td>\n      <td>0</td>\n      <td>0</td>\n      <td>0</td>\n      <td>0</td>\n      <td>0</td>\n    </tr>\n    <tr>\n      <th>10592</th>\n      <td>NLEFE</td>\n      <td>NLDZL</td>\n      <td>1</td>\n      <td>0</td>\n      <td>0</td>\n      <td>0</td>\n      <td>0</td>\n      <td>0</td>\n      <td>0</td>\n      <td>0</td>\n      <td>...</td>\n      <td>0</td>\n      <td>0</td>\n      <td>0</td>\n      <td>0</td>\n      <td>0</td>\n      <td>0</td>\n      <td>0</td>\n      <td>0</td>\n      <td>0</td>\n      <td>0</td>\n    </tr>\n  </tbody>\n</table>\n<p>10456 rows × 36 columns</p>\n</div>"
     },
     "execution_count": 14,
     "metadata": {},
     "output_type": "execute_result"
    }
   ],
   "source": [
    "df_main"
   ],
   "metadata": {
    "collapsed": false,
    "pycharm": {
     "name": "#%%\n"
    }
   }
  },
  {
   "cell_type": "code",
   "execution_count": 8,
   "outputs": [],
   "source": [
    "#save dataframe\n",
    "# pickle.dump( df_main, open( \"data/df_trips_per_path.p\", \"wb\" ) )\n",
    "df_main = pickle.load( open( \"data/df_trips_per_path.p\", \"rb\" ) )"
   ],
   "metadata": {
    "collapsed": false,
    "pycharm": {
     "name": "#%%\n"
    }
   }
  },
  {
   "cell_type": "markdown",
   "source": [
    "## Compute vessel sum per route and per hour (for ABM)\n",
    "only for top 100 origin destination pairs"
   ],
   "metadata": {
    "collapsed": false,
    "pycharm": {
     "name": "#%% md\n"
    }
   }
  },
  {
   "cell_type": "code",
   "execution_count": 9,
   "outputs": [],
   "source": [
    "#generate hour\n",
    "df_2021['hour'] = df_2021.Date.apply(lambda x: int(x.split()[1][:2]))"
   ],
   "metadata": {
    "collapsed": false,
    "pycharm": {
     "name": "#%%\n"
    }
   }
  },
  {
   "cell_type": "code",
   "execution_count": 10,
   "outputs": [],
   "source": [
    "# now only sort by origin and destination\n",
    "all_trips_ranked = df_2021.groupby(by=['UNLO_herkomst', 'UNLO_bestemming', 'hour', 'SK_CODE']).count().reset_index().sort_values(\n",
    "    by='Jaarmaand', ascending=False).iloc[:, :5].reset_index(drop=True)\n",
    "\n",
    "#again, rename columns\n",
    "all_trips_ranked.rename(\n",
    "    columns={'UNLO_herkomst': 'origin', 'UNLO_bestemming': 'destination', 'SK_CODE': 'type', 'Unnamed: 0': 'trips'},\n",
    "    inplace=True)\n",
    "\n",
    "#remove non nl\n",
    "all_trips_ranked = all_trips_ranked.loc[\n",
    "    (all_trips_ranked.origin.str.contains('NL')) & (all_trips_ranked.destination.str.contains('NL'))]\n",
    "\n",
    "#reset index to be able to loop over all values later on\n",
    "all_trips_ranked.reset_index(inplace=True, drop=True)"
   ],
   "metadata": {
    "collapsed": false,
    "pycharm": {
     "name": "#%%\n"
    }
   }
  },
  {
   "cell_type": "code",
   "execution_count": 11,
   "outputs": [
    {
     "data": {
      "text/plain": "      origin destination  hour type  trips\n0      NLAPN       NLMOE     8   M8    100\n1      NLHAR       NLWTE     8  M12    100\n2      NLAMS       NLRTM    14   M8     98\n3      NLRTM       NLAMS     9   M8     98\n4      NLAMS       NLRTM    11   M8     95\n...      ...         ...   ...  ...    ...\n90533  NLAMS       NLVLA    10   M5      1\n90534  NLAMS       NLVLA    10   M9      1\n90535  NLAMS       NLVLA    11   M4      1\n90536  NLAMS       NLVLA    12  M12      1\n90537  NLAMS       NLVLA    12   M4      1\n\n[90538 rows x 5 columns]",
      "text/html": "<div>\n<style scoped>\n    .dataframe tbody tr th:only-of-type {\n        vertical-align: middle;\n    }\n\n    .dataframe tbody tr th {\n        vertical-align: top;\n    }\n\n    .dataframe thead th {\n        text-align: right;\n    }\n</style>\n<table border=\"1\" class=\"dataframe\">\n  <thead>\n    <tr style=\"text-align: right;\">\n      <th></th>\n      <th>origin</th>\n      <th>destination</th>\n      <th>hour</th>\n      <th>type</th>\n      <th>trips</th>\n    </tr>\n  </thead>\n  <tbody>\n    <tr>\n      <th>0</th>\n      <td>NLAPN</td>\n      <td>NLMOE</td>\n      <td>8</td>\n      <td>M8</td>\n      <td>100</td>\n    </tr>\n    <tr>\n      <th>1</th>\n      <td>NLHAR</td>\n      <td>NLWTE</td>\n      <td>8</td>\n      <td>M12</td>\n      <td>100</td>\n    </tr>\n    <tr>\n      <th>2</th>\n      <td>NLAMS</td>\n      <td>NLRTM</td>\n      <td>14</td>\n      <td>M8</td>\n      <td>98</td>\n    </tr>\n    <tr>\n      <th>3</th>\n      <td>NLRTM</td>\n      <td>NLAMS</td>\n      <td>9</td>\n      <td>M8</td>\n      <td>98</td>\n    </tr>\n    <tr>\n      <th>4</th>\n      <td>NLAMS</td>\n      <td>NLRTM</td>\n      <td>11</td>\n      <td>M8</td>\n      <td>95</td>\n    </tr>\n    <tr>\n      <th>...</th>\n      <td>...</td>\n      <td>...</td>\n      <td>...</td>\n      <td>...</td>\n      <td>...</td>\n    </tr>\n    <tr>\n      <th>90533</th>\n      <td>NLAMS</td>\n      <td>NLVLA</td>\n      <td>10</td>\n      <td>M5</td>\n      <td>1</td>\n    </tr>\n    <tr>\n      <th>90534</th>\n      <td>NLAMS</td>\n      <td>NLVLA</td>\n      <td>10</td>\n      <td>M9</td>\n      <td>1</td>\n    </tr>\n    <tr>\n      <th>90535</th>\n      <td>NLAMS</td>\n      <td>NLVLA</td>\n      <td>11</td>\n      <td>M4</td>\n      <td>1</td>\n    </tr>\n    <tr>\n      <th>90536</th>\n      <td>NLAMS</td>\n      <td>NLVLA</td>\n      <td>12</td>\n      <td>M12</td>\n      <td>1</td>\n    </tr>\n    <tr>\n      <th>90537</th>\n      <td>NLAMS</td>\n      <td>NLVLA</td>\n      <td>12</td>\n      <td>M4</td>\n      <td>1</td>\n    </tr>\n  </tbody>\n</table>\n<p>90538 rows × 5 columns</p>\n</div>"
     },
     "execution_count": 11,
     "metadata": {},
     "output_type": "execute_result"
    }
   ],
   "source": [
    "all_trips_ranked"
   ],
   "metadata": {
    "collapsed": false,
    "pycharm": {
     "name": "#%%\n"
    }
   }
  },
  {
   "cell_type": "code",
   "execution_count": 12,
   "outputs": [],
   "source": [
    "# make dict to store trips\n",
    "trip_dict_main = {}\n",
    "\n",
    "# now fill this dict, same procedure as above\n",
    "for i in range(len(all_trips_ranked)):\n",
    "    origin = all_trips_ranked['origin'][i]\n",
    "    destination = all_trips_ranked['destination'][i]\n",
    "    trip_count = all_trips_ranked['trips'][i]\n",
    "    hour = all_trips_ranked['hour'][i]\n",
    "    ship_type = all_trips_ranked['type'][i]\n",
    "\n",
    "    if (origin, destination, ship_type, hour) in trip_dict_main.keys():\n",
    "        trip_dict_main[(origin, destination, ship_type, hour)] += trip_count\n",
    "    elif (destination, origin, ship_type, hour) in trip_dict_main.keys():\n",
    "        trip_dict_main[(destination, origin, ship_type, hour)] += trip_count\n",
    "    else:\n",
    "        trip_dict_main[(origin, destination, ship_type, hour)] = trip_count\n",
    "# now sort values\n",
    "trip_dict_main = dict(sorted(trip_dict_main.items(), key=lambda item: item[1], reverse=True))\n",
    "\n"
   ],
   "metadata": {
    "collapsed": false,
    "pycharm": {
     "name": "#%%\n"
    }
   }
  },
  {
   "cell_type": "code",
   "execution_count": 13,
   "outputs": [
    {
     "data": {
      "text/plain": "{('NLRTM', 'NLAMS', 'M8', 12): 186,\n ('NLRTM', 'NLAMS', 'M8', 9): 181,\n ('NLRTM', 'NLAMS', 'M8', 19): 180,\n ('NLAMS', 'NLRTM', 'M8', 18): 175,\n ('NLAMS', 'NLRTM', 'M8', 17): 171,\n ('NLAMS', 'NLRTM', 'M8', 11): 170,\n ('NLAMS', 'NLRTM', 'M8', 16): 169,\n ('NLAMS', 'NLRTM', 'M8', 14): 165,\n ('NLRTM', 'NLAMS', 'M8', 15): 157,\n ('NLRTM', 'NLAMS', 'M8', 10): 153,\n ('NLAMS', 'NLRTM', 'M8', 22): 148,\n ('NLRTM', 'NLAMS', 'M8', 20): 147,\n ('NLRTM', 'NLAMS', 'M8', 8): 146,\n ('NLRTM', 'NLAMS', 'M8', 4): 144,\n ('NLRTM', 'NLAMS', 'M8', 6): 141,\n ('NLRTM', 'NLAMS', 'M8', 7): 136,\n ('NLRTM', 'NLAMS', 'M8', 21): 130,\n ('NLAMS', 'NLRTM', 'M8', 5): 129,\n ('NLAMS', 'NLRTM', 'M12', 18): 124,\n ('NLAMS', 'NLRTM', 'M8', 2): 122,\n ('NLAMS', 'NLRTM', 'M12', 19): 121,\n ('NLWTE', 'NLHAR', 'M12', 12): 119,\n ('NLAMS', 'NLRTM', 'M12', 14): 117,\n ('NLRTM', 'NLAMS', 'M8', 3): 117,\n ('NLAMS', 'NLRTM', 'M8', 13): 114,\n ('NLHAR', 'NLWTE', 'M12', 8): 111,\n ('NLAMS', 'NLRTM', 'M8', 1): 110,\n ('NLAMS', 'NLRTM', 'M8', 23): 110,\n ('NLAMS', 'NLRTM', 'M8', 0): 109,\n ('NLAMS', 'NLRTM', 'M12', 16): 108,\n ('NLAMS', 'NLRTM', 'M12', 15): 106,\n ('NLAPN', 'NLMOE', 'M8', 8): 104,\n ('NLAMS', 'NLRTM', 'M12', 11): 101,\n ('NLRTM', 'NLAMS', 'M12', 22): 98,\n ('NLRTM', 'NLAMS', 'M12', 21): 97,\n ('NLAMS', 'NLRTM', 'M12', 13): 96,\n ('NLRTM', 'NLAMS', 'M12', 23): 94,\n ('NLAMS', 'NLRTM', 'M12', 17): 91,\n ('NLRTM', 'NLAMS', 'M12', 0): 91,\n ('NLRTM', 'NLAMS', 'M12', 12): 91,\n ('NLAMS', 'NLRTM', 'M12', 9): 89,\n ('NLHAR', 'NLWTE', 'M12', 13): 88,\n ('NLWTE', 'NLHAR', 'M12', 15): 88,\n ('NLAMS', 'NLRTM', 'M12', 20): 88,\n ('NLRTM', 'NLMOE', 'M8', 16): 86,\n ('NLRTM', 'NLMOE', 'M8', 14): 86,\n ('NLRTM', 'NLMOE', 'M8', 15): 81,\n ('NLRTM', 'NLMOE', 'M8', 11): 81,\n ('NLAMS', 'NLHAS', 'M8', 4): 78,\n ('NLRTM', 'NLAMS', 'M12', 1): 78,\n ('NLRTM', 'NLMOE', 'M8', 18): 78,\n ('NLRTM', 'NLMOE', 'M8', 20): 77,\n ('NLRTM', 'NLMOE', 'M8', 21): 75,\n ('NLAMS', 'NLRTM', 'M12', 10): 75,\n ('NLRTM', 'NLMOE', 'M8', 12): 74,\n ('NLMOE', 'NLAPN', 'M8', 17): 72,\n ('NLAMS', 'NLRTM', 'M9', 4): 72,\n ('NLRTM', 'NLAMS', 'M6', 16): 72,\n ('NLAER', 'NLWSP', 'M6', 7): 72,\n ('NLRTM', 'NLMOE', 'M8', 19): 71,\n ('NLAMS', 'NLRTM', 'M9', 20): 71,\n ('NLAER', 'NLAMS', 'BI', 13): 70,\n ('NLAER', 'NLAMS', 'BI', 16): 70,\n ('NLAMS', 'NLRTM', 'M12', 8): 70,\n ('NLRTM', 'NLAMS', 'M12', 7): 70,\n ('NLTLB', 'NLZBG', 'M3', 7): 69,\n ('NLOOS', 'NLTLB', 'M8', 6): 69,\n ('NLRTM', 'NLMOE', 'M8', 9): 69,\n ('NLRTM', 'NLAMS', 'M9', 14): 68,\n ('NLRTM', 'NLWLK', 'M3', 16): 68,\n ('NLRTM', 'NLMOE', 'M8', 17): 67,\n ('NLRTM', 'NLMOE', 'M8', 13): 67,\n ('NLDRU', 'NLNIJ', 'M8', 10): 66,\n ('NLWLK', 'NLRTM', 'M3', 8): 65,\n ('NLRTM', 'NLMOE', 'M8', 8): 65,\n ('NLAMS', 'NLRTM', 'M9', 21): 65,\n ('NLMOE', 'NLRTM', 'M8', 22): 65,\n ('NLAMS', 'NLAER', 'BI', 17): 65,\n ('NLAER', 'NLAMS', 'BI', 15): 64,\n ('NLAPN', 'NLMOE', 'M8', 9): 63,\n ('NLAMS', 'NLRTM', 'M12', 5): 63,\n ('NLAMS', 'NLRTM', 'M9', 5): 62,\n ('NLRTM', 'NLMOE', 'M8', 10): 62,\n ('NLWTE', 'NLHAR', 'M12', 11): 61,\n ('NLMOE', 'NLRTM', 'M8', 7): 61,\n ('NLAMS', 'NLAER', 'BI', 6): 60,\n ('NLRTM', 'NLMEP', 'M8', 16): 60,\n ('NLRTM', 'NLAMS', 'M6', 15): 60,\n ('NLOOS', 'NLRTM', 'M8', 20): 60,\n ('NLRTM', 'NLAMS', 'M6', 17): 60,\n ('NLWTE', 'NLHAR', 'M12', 16): 59,\n ('NLWLK', 'NLRTM', 'M3', 18): 59,\n ('NLRTM', 'NLMOE', 'M8', 1): 59,\n ('NLAER', 'NLAMS', 'BI', 18): 59,\n ('NLRTM', 'NLAMS', 'M9', 6): 59,\n ('NLAER', 'NLAMS', 'BI', 12): 58,\n ('NLWLK', 'NLRTM', 'M3', 7): 58,\n ('NLAMS', 'NLRTM', 'M9', 7): 58,\n ('NLRTM', 'NLMOE', 'M8', 2): 58,\n ('NLRTM', 'NLAMS', 'M9', 16): 58,\n ('NLAER', 'NLLEY', 'M4', 7): 57,\n ('NLAMS', 'NLWMO', 'M2', 13): 57,\n ('NLRTM', 'NLMOE', 'M8', 6): 57,\n ('NLWMO', 'NLAMS', 'M2', 9): 57,\n ('NLAMS', 'NLRTM', 'M6', 12): 57,\n ('NLTLB', 'NLOOS', 'M8', 16): 56,\n ('NLAMS', 'NLKGZ', 'M2', 10): 56,\n ('NLRTM', 'NLAMS', 'M9', 10): 56,\n ('NLRTM', 'NLMOE', 'M8', 5): 56,\n ('NLAMS', 'NLRTM', 'M9', 18): 56,\n ('NLAMS', 'NLRTM', 'M6', 18): 56,\n ('NLDHR', 'NLDHR', 'M0', 10): 55,\n ('NLAMS', 'NLRTM', 'M9', 17): 55,\n ('NLRTM', 'NLAMS', 'M12', 4): 55,\n ('NLAMS', 'NLRTM', 'M9', 1): 55,\n ('NLRTM', 'NLAMS', 'M9', 11): 55,\n ('NLDHR', 'NLDHR', 'M0', 8): 54,\n ('NLUTC', 'NLRTM', 'BII-1', 18): 54,\n ('NLMOE', 'NLAPN', 'M8', 19): 54,\n ('NLAER', 'NLAMS', 'BI', 14): 54,\n ('NLAMS', 'NLRTM', 'M6', 14): 54,\n ('NLWLK', 'NLRTM', 'M3', 15): 54,\n ('NLWLK', 'NLRTM', 'M3', 14): 54,\n ('NLAMS', 'NLRTM', 'M6', 11): 54,\n ('NLAMS', 'NLRTM', 'M9', 13): 54,\n ('NLDHR', 'NLDHR', 'M0', 9): 53,\n ('NLDHR', 'NLDHR', 'M0', 11): 53,\n ('NLVEG', 'NLRTM', 'M7', 11): 53,\n ('NLRTM', 'NLAMS', 'M9', 8): 53,\n ('NLRTM', 'NLAMS', 'M9', 19): 53,\n ('NLAMS', 'NLLEY', 'M4', 10): 52,\n ('NLRTM', 'NLAMS', 'M12', 2): 52,\n ('NLHGL', 'NLRTM', 'M8', 12): 52,\n ('NLAMS', 'NLRTM', 'M9', 3): 52,\n ('NLRTM', 'NLAMS', 'M12', 3): 52,\n ('NLRTM', 'NLOOS', 'M8', 18): 52,\n ('NLDHR', 'NLDHR', 'M0', 12): 51,\n ('NLHAR', 'NLWTE', 'M12', 7): 51,\n ('NLWLK', 'NLRTM', 'M3', 17): 51,\n ('NLOOS', 'NLTLB', 'M8', 7): 50,\n ('NLRTM', 'NLMOE', 'M8', 3): 50,\n ('NLOOS', 'NLRTM', 'M8', 19): 50,\n ('NLRTM', 'NLAMS', 'M11', 5): 50,\n ('NLNIJ', 'NLDRU', 'M8', 16): 49,\n ('NLWMO', 'NLAMS', 'M2', 8): 49,\n ('NLRTM', 'NLMEP', 'M8', 17): 49,\n ('NLHGL', 'NLRTM', 'M8', 17): 49,\n ('NLRTM', 'NLAMS', 'M12', 6): 49,\n ('NLVEG', 'NLRTM', 'M7', 12): 49,\n ('NLKGZ', 'NLAMS', 'M2', 9): 49,\n ('NLMOE', 'NLOOS', 'M8', 10): 48,\n ('NLTLB', 'NLRTM', 'M8', 18): 48,\n ('NLWLK', 'NLRTM', 'M3', 9): 48,\n ('NLRTM', 'NLHGL', 'M8', 8): 48,\n ('NLMOE', 'NLRTM', 'M8', 0): 48,\n ('NLAMS', 'NLRTM', 'M6', 8): 48,\n ('NLMEP', 'NLRTM', 'M8', 8): 47,\n ('NLAMS', 'NLLMR', 'BIIL-1', 10): 47,\n ('NLAMS', 'NLAER', 'BI', 7): 47,\n ('NLHGL', 'NLRTM', 'M8', 11): 47,\n ('NLTLB', 'NLRTM', 'M8', 21): 47,\n ('NLRTM', 'NLMOE', 'M8', 4): 47,\n ('NLAMS', 'NLRTM', 'M6', 9): 47,\n ('NLAMS', 'NLRTM', 'M9', 12): 47,\n ('NLAMS', 'NLRTM', 'M9', 23): 47,\n ('NLLEY', 'NLAMS', 'M4', 20): 46,\n ('NLTLB', 'NLRTM', 'M8', 17): 46,\n ('NLAMS', 'NLRTM', 'M9', 2): 46,\n ('NLRTM', 'NLVLI', 'M8', 14): 46,\n ('NLAMS', 'NLWMO', 'M2', 10): 46,\n ('NLAMS', 'NLRTM', 'M9', 15): 46,\n ('NLRTM', 'NLAMS', 'M6', 13): 46,\n ('NLMOE', 'NLAPN', 'M8', 18): 45,\n ('NLWSP', 'NLAER', 'M6', 15): 45,\n ('NLHGL', 'NLRTM', 'M8', 18): 45,\n ('NLRTM', 'NLAMS', 'M9', 0): 45,\n ('NLAMS', 'NLLMR', 'BIIL-1', 14): 45,\n ('NLRTM', 'NLRTM', 'M8', 18): 44,\n ('NLRTM', 'NLMOE', 'M8', 23): 44,\n ('NLOOS', 'NLMOE', 'M8', 17): 44,\n ('NLHGL', 'NLRTM', 'M8', 13): 44,\n ('NLAMS', 'NLRTM', 'M6', 10): 44,\n ('NLRTM', 'NLAMS', 'M6', 7): 44,\n ('NLAMS', 'NLRTM', 'M11', 3): 44,\n ('NLRTM', 'NLAMS', 'M11', 4): 44,\n ('NLDHR', 'NLDHR', 'M0', 7): 43,\n ('NLRTM', 'NLUTC', 'BII-1', 11): 43,\n ('NLHRW', 'NLOSS', 'M2', 8): 43,\n ('NLTLB', 'NLMOE', 'M3', 8): 43,\n ('NLIJM', 'NLALK', 'M3', 5): 43,\n ('NLRTM', 'NLDZL', 'M8', 16): 43,\n ('NLVEG', 'NLRTM', 'M6', 10): 43,\n ('NLNKK', 'NLAMS', 'M2', 11): 43,\n ('NLAMS', 'NLAER', 'BI', 10): 43,\n ('NLRTM', 'NLOOS', 'M8', 21): 43,\n ('NLAER', 'NLWSP', 'M6', 14): 43,\n ('NLAMS', 'NLKGZ', 'M2', 12): 42,\n ('NLTLB', 'NLRTM', 'M8', 16): 42,\n ('NLAMS', 'NLAER', 'BI', 8): 42,\n ('NLNRW', 'NLBON', 'M2', 11): 42,\n ('NLRTM', 'NLWLK', 'M3', 13): 42,\n ('NLHAS', 'NLAMS', 'M8', 23): 42,\n ('NLAMS', 'NLRTM', 'M9', 22): 42,\n ('NLRTM', 'NLRTM', 'M8', 15): 41,\n ('NLUTC', 'NLRTM', 'BII-1', 17): 41,\n ('NLRTM', 'NLRTM', 'M8', 11): 41,\n ('NLAER', 'NLWSP', 'M6', 6): 41,\n ('NLAMS', 'NLAER', 'BI', 5): 41,\n ('NLMEP', 'NLRTM', 'M8', 10): 41,\n ('NLHAR', 'NLAMS', 'M10', 1): 41,\n ('NLHAS', 'NLAMS', 'M8', 0): 41,\n ('NLWLK', 'NLRTM', 'M3', 21): 41,\n ('NLRTM', 'NLOOS', 'M8', 17): 41,\n ('NLVEG', 'NLRTM', 'M7', 13): 41,\n ('NLAMS', 'NLRTM', 'M9', 9): 41,\n ('NLRTM', 'NLHGL', 'M8', 10): 41,\n ('NLRTM', 'NLRTM', 'M8', 13): 40,\n ('NLRTM', 'NLRTM', 'M8', 10): 40,\n ('NLRTM', 'NLUTC', 'BII-1', 10): 40,\n ('NLVEG', 'NLRTM', 'M7', 15): 40,\n ('NLAMS', 'NLWMO', 'M2', 14): 40,\n ('NLOOS', 'NLTLB', 'M8', 19): 40,\n ('NLTLB', 'NLOOS', 'M8', 17): 40,\n ('NLRTM', 'NLWLK', 'M3', 6): 40,\n ('NLAMS', 'NLLEY', 'M2', 11): 40,\n ('NLWMO', 'NLAMS', 'M2', 11): 40,\n ('NLRTM', 'NLMEP', 'M8', 7): 40,\n ('NLRTM', 'NLRTM', 'M8', 6): 39,\n ('NLRTM', 'NLWLK', 'M3', 0): 39,\n ('NLOOS', 'NLMOE', 'M8', 18): 39,\n ('NLVEG', 'NLRTM', 'M6', 11): 39,\n ('NLVEG', 'NLRTM', 'M7', 16): 39,\n ('NLMEP', 'NLRTM', 'M8', 9): 39,\n ('NLAER', 'NLWSP', 'M6', 11): 39,\n ('NLHGL', 'NLRTM', 'M8', 14): 39,\n ('NLAMS', 'NLWMO', 'M2', 12): 39,\n ('NLMOE', 'NLAMS', 'M8', 16): 39,\n ('NLRTM', 'NLOOS', 'M8', 22): 39,\n ('NLWLK', 'NLRTM', 'M3', 20): 39,\n ('NLWSP', 'NLAER', 'M6', 8): 39,\n ('NLLMR', 'NLAMS', 'BIIL-1', 12): 39,\n ('NLAMS', 'NLLMR', 'BIIL-1', 13): 39,\n ('NLTLB', 'NLMOE', 'M3', 7): 38,\n ('NLLEY', 'NLAER', 'M4', 15): 38,\n ('NLHRD', 'NLAMS', 'M6', 15): 38,\n ('NLAMS', 'NLHAS', 'M8', 5): 38,\n ('NLALK', 'NLIJM', 'M3', 12): 38,\n ('NLOOS', 'NLMOE', 'M8', 15): 38,\n ('NLAMS', 'NLKGZ', 'M2', 14): 38,\n ('NLTLB', 'NLRTM', 'M8', 19): 38,\n ('NLRTM', 'NLMEP', 'M8', 15): 38,\n ('NLRTM', 'NLAMS', 'M6', 19): 38,\n ('NLRTM', 'NLVLI', 'M8', 13): 38,\n ('NLAMS', 'NLMOE', 'M8', 19): 38,\n ('NLTLB', 'NLOOS', 'M8', 15): 38,\n ('NLRTM', 'NLOOS', 'M8', 16): 38,\n ('NLRTM', 'NLRTM', 'M8', 9): 37,\n ('NLHAR', 'NLWTE', 'M12', 9): 37,\n ('NLOOS', 'NLTLB', 'M8', 5): 37,\n ('NLMEP', 'NLRTM', 'M8', 11): 37,\n ('NLAMS', 'NLLMR', 'BIIL-1', 9): 37,\n ('NLWSP', 'NLAER', 'M6', 13): 37,\n ('NLWLK', 'NLRTM', 'M3', 19): 37,\n ('NLRTM', 'NLDZL', 'M8', 15): 37,\n ('NLVEG', 'NLRTM', 'M7', 14): 37,\n ('NLRTM', 'NLVLI', 'M8', 19): 37,\n ('NLWLK', 'NLRTM', 'M3', 10): 37,\n ('NLBZM', 'NLRTM', 'M6', 13): 37,\n ('NLRTM', 'NLHGL', 'M8', 9): 37,\n ('NLWIW', 'NLHRN', 'M5', 13): 37,\n ('NLVEG', 'NLRTM', 'M6', 18): 37,\n ('NLVEG', 'NLRTM', 'M7', 17): 37,\n ('NLRTM', 'NLAMS', 'M6', 6): 37,\n ('NLRTM', 'NLWRV', 'M6', 4): 36,\n ('NLAMS', 'NLEES', 'M4', 15): 36,\n ('NLMOE', 'NLTLB', 'M3', 16): 36,\n ('NLLEY', 'NLAER', 'M4', 14): 36,\n ('NLHTB', 'NLBZM', 'M8', 10): 36,\n ('NLTLB', 'NLRTM', 'M8', 20): 36,\n ('NLMOE', 'NLOOS', 'M8', 9): 36,\n ('NLRTM', 'NLOOS', 'M8', 15): 36,\n ('NLAER', 'NLAMS', 'BI', 11): 36,\n ('NLLMR', 'NLAMS', 'BIIL-1', 6): 36,\n ('NLHGL', 'NLRTM', 'M8', 16): 36,\n ('NLAER', 'NLAMS', 'M3', 15): 36,\n ('NLKAM', 'NLRTM', 'M8', 8): 36,\n ('NLVLI', 'NLRTM', 'M8', 15): 36,\n ('NLOOS', 'NLTLB', 'M8', 18): 36,\n ('NLRTM', 'NLRTM', 'M8', 8): 35,\n ('NLTLB', 'NLRTM', 'M8', 15): 35,\n ('NLHAR', 'NLAMS', 'M10', 23): 35,\n ('NLRTM', 'NLAMS', 'M11', 0): 35,\n ('NLRTM', 'NLVEG', 'M7', 19): 35,\n ('NLVEG', 'NLRTM', 'M6', 15): 35,\n ('NLRTM', 'NLVLI', 'M8', 20): 35,\n ('NLTLB', 'NLRTM', 'M3', 14): 35,\n ('NLWLK', 'NLRTM', 'M3', 22): 35,\n ('NLAMS', 'NLRTM', 'M6', 21): 35,\n ('NLNKK', 'NLAMS', 'M2', 12): 35,\n ('NLRTM', 'NLTLB', 'M3', 7): 35,\n ('NLVLI', 'NLRTM', 'M9', 14): 35,\n ('NLRTM', 'NLOOS', 'M8', 10): 35,\n ('NLSTD', 'NLSTD', 'M0', 11): 34,\n ('NLHRD', 'NLAMS', 'M6', 16): 34,\n ('NLIJM', 'NLALK', 'M3', 4): 34,\n ('NLMOE', 'NLAPN', 'M8', 20): 34,\n ('NLVLI', 'NLTNZ', 'M8', 8): 34,\n ('NLKGZ', 'NLAMS', 'M2', 7): 34,\n ('NLMOE', 'NLOOS', 'M8', 8): 34,\n ('NLAMS', 'NLAER', 'BI', 9): 34,\n ('NLTLB', 'NLRTM', 'M8', 23): 34,\n ('NLVAN', 'NLAMS', 'M2', 10): 34,\n ('NLZWO', 'NLAMS', 'M8', 11): 34,\n ('NLAMS', 'NLNKK', 'M2', 10): 34,\n ('NLRTM', 'NLVLI', 'M8', 18): 34,\n ('NLKGZ', 'NLAMS', 'M2', 8): 34,\n ('NLRTM', 'NLAER', 'M8', 12): 34,\n ('NLRTM', 'NLVLI', 'M8', 10): 34,\n ('NLTLB', 'NLRTM', 'M8', 22): 34,\n ('NLVEG', 'NLRTM', 'M6', 12): 34,\n ('NLRTM', 'NLVLI', 'M8', 17): 34,\n ('NLWAS', 'NLNIJ', 'M8', 20): 34,\n ('NLAMS', 'NLKGZ', 'M2', 13): 34,\n ('NLVLI', 'NLRTM', 'M8', 12): 34,\n ('NLRTM', 'NLRTM', 'M8', 16): 33,\n ('NLSTD', 'NLSTD', 'M0', 7): 33,\n ('NLHRW', 'NLTEA', 'M3', 16): 33,\n ('NLHAR', 'NLWTE', 'M12', 14): 33,\n ('NLEES', 'NLAMS', 'M4', 10): 33,\n ('NLTIE', 'NLAMS', 'M4', 11): 33,\n ('NLAPN', 'NLMOE', 'M8', 7): 33,\n ('NLAMS', 'NLDEV', 'M3', 15): 33,\n ('NLELL', 'NLHBG', 'M2', 15): 33,\n ('NLNKK', 'NLAMS', 'M2', 14): 33,\n ('NLHTB', 'NLBZM', 'M8', 9): 33,\n ('NLRTM', 'NLDZL', 'M8', 13): 33,\n ('NLAER', 'NLWSP', 'M6', 10): 33,\n ('NLHAR', 'NLAMS', 'M10', 2): 33,\n ('NLVEG', 'NLRTM', 'M6', 20): 33,\n ('NLWBR', 'NLRTM', 'M8', 15): 33,\n ('NLVEG', 'NLRTM', 'M7', 10): 33,\n ('NLRTM', 'NLFAR', 'M8', 16): 33,\n ('NLAMS', 'NLMOE', 'M8', 20): 33,\n ('NLRTM', 'NLFAR', 'M8', 14): 33,\n ('NLRTM', 'NLAMS', 'M11', 14): 33,\n ('NLRTM', 'NLRTM', 'M8', 12): 32,\n ('NLSTD', 'NLSTD', 'M0', 12): 32,\n ('NLRTM', 'NLWLK', 'M3', 2): 32,\n ('NLRTM', 'NLMEP', 'M8', 6): 32,\n ('NLFAR', 'NLBOT', 'M8', 15): 32,\n ('NLWSP', 'NLAER', 'M6', 17): 32,\n ('NLNKK', 'NLAMS', 'M2', 13): 32,\n ('NLRTM', 'NLVEG', 'M6', 7): 32,\n ('NLNRW', 'NLBON', 'M2', 10): 32,\n ('NLRTM', 'NLFAR', 'M8', 15): 32,\n ('NLAMS', 'NLLMR', 'BIIL-1', 11): 32,\n ('NLAMS', 'NLMOE', 'M8', 14): 32,\n ('NLTLB', 'NLOOS', 'M8', 13): 32,\n ('NLTNZ', 'NLVLI', 'M8', 17): 32,\n ('NLHAS', 'NLAMS', 'M8', 1): 32,\n ('NLIJM', 'NLMOE', 'M6', 17): 32,\n ('NLRTM', 'NLLWR', 'M8', 9): 32,\n ('NLMOE', 'NLAMS', 'M8', 7): 32,\n ('NLAMS', 'NLLEY', 'M2', 10): 32,\n ('NLAMS', 'NLHAS', 'M8', 22): 32,\n ('NLKGZ', 'NLAMS', 'M2', 11): 32,\n ('NLWSP', 'NLAER', 'M8', 9): 32,\n ('NLAMS', 'NLLEY', 'M2', 9): 32,\n ('NLVLI', 'NLRTM', 'M9', 9): 32,\n ('NLAMS', 'NLRTM', 'M11', 7): 32,\n ('NLLMR', 'NLAMS', 'BIIL-1', 4): 32,\n ('NLDOR', 'NLRTM', 'M8', 17): 32,\n ('NLRTM', 'NLDOR', 'M8', 9): 32,\n ('NLLEY', 'NLAER', 'M4', 16): 31,\n ('NLAER', 'NLLEY', 'M4', 6): 31,\n ('NLMOE', 'NLRTM', 'C3b', 0): 31,\n ('NLNIJ', 'NLABL', 'M8', 8): 31,\n ('NLAER', 'NLRTM', 'M10', 8): 31,\n ('NLHGL', 'NLRTM', 'M8', 19): 31,\n ('NLOOS', 'NLMOE', 'M8', 7): 31,\n ('NLRTM', 'NLAER', 'M8', 16): 31,\n ('NLRTM', 'NLOSS', 'M6', 17): 31,\n ('NLMOE', 'NLAMS', 'M8', 18): 31,\n ('NLVEG', 'NLRTM', 'M6', 16): 31,\n ('NLRTM', 'NLVEG', 'M6', 19): 31,\n ('NLHGL', 'NLRTM', 'M8', 15): 31,\n ('NLAMS', 'NLHRD', 'M6', 4): 30,\n ('NLTLB', 'NLMOE', 'M3', 9): 30,\n ('NLHRW', 'NLOSS', 'M2', 9): 30,\n ('NLTLB', 'NLRTM', 'M8', 0): 30,\n ('NLWSP', 'NLAER', 'M6', 16): 30,\n ('NLOOS', 'NLMOE', 'M8', 19): 30,\n ('NLLMR', 'NLAMS', 'BIIL-1', 5): 30,\n ('NLFOX', 'NLRTM', 'M8', 16): 30,\n ('NLRTM', 'NLVEG', 'M7', 7): 30,\n ('NLRTM', 'NLAMS', 'M6', 20): 30,\n ('NLAMS', 'NLMOE', 'M8', 15): 30,\n ('NLDOR', 'NLRTM', 'M8', 14): 30,\n ('NLWAS', 'NLNIJ', 'M8', 14): 30,\n ('NLRTM', 'NLHGL', 'M8', 7): 30,\n ('NLWAS', 'NLNIJ', 'M8', 10): 30,\n ('NLWSP', 'NLAER', 'M6', 12): 30,\n ('NLAMS', 'NLLEY', 'M2', 15): 30,\n ('NLAER', 'NLRTM', 'M6', 18): 30,\n ('NLAMS', 'NLRTM', 'M11', 2): 30,\n ('NLRTM', 'NLVLI', 'M8', 9): 30,\n ('NLWAS', 'NLNIJ', 'M8', 21): 30,\n ('NLLWR', 'NLRTM', 'M8', 8): 30,\n ('NLDHR', 'NLDHR', 'M0', 6): 29,\n ('NLDHR', 'NLDHR', 'M0', 13): 29,\n ('NLALK', 'NLIJM', 'M3', 11): 29,\n ('NLWMO', 'NLAMS', 'M2', 7): 29,\n ('NLLWR', 'NLRTM', 'M8', 12): 29,\n ('NLLWR', 'NLRTM', 'M8', 10): 29,\n ('NLAMS', 'NLWMO', 'M2', 15): 29,\n ('NLRTM', 'NLBZM', 'M8', 15): 29,\n ('NLVLI', 'NLRTM', 'M9', 12): 29,\n ('NLDOR', 'NLRTM', 'M8', 16): 29,\n ('NLMOE', 'NLIJM', 'M6', 14): 29,\n ('NLRTM', 'NLVLI', 'M8', 7): 29,\n ('NLRTM', 'NLAMS', 'M11', 8): 29,\n ('NLAMS', 'NLAER', 'BI', 19): 29,\n ('NLRTM', 'NLAMS', 'M10', 15): 29,\n ('NLRTM', 'NLRTM', 'M8', 14): 28,\n ('NLSTD', 'NLSTD', 'M0', 5): 28,\n ('NLRTM', 'NLRTM', 'M8', 22): 28,\n ('NLRTM', 'NLRTM', 'M8', 7): 28,\n ('NLSWI', 'NLLEY', 'M3', 14): 28,\n ('NLOSS', 'NLHRW', 'M2', 15): 28,\n ('NLAER', 'NLWSP', 'M6', 9): 28,\n ('NLHAR', 'NLAMS', 'M10', 0): 28,\n ('NLLMR', 'NLAMS', 'BIIL-1', 7): 28,\n ('NLDRO', 'NLKAM', 'M4', 6): 28,\n ('NLAER', 'NLRTM', 'M6', 6): 28,\n ('NLAPN', 'NLMOE', 'M8', 10): 28,\n ('NLBZM', 'NLRTM', 'M8', 18): 28,\n ('NLOOS', 'NLTLB', 'M8', 21): 28,\n ('NLDOR', 'NLRTM', 'M8', 11): 28,\n ('NLBON', 'NLTLB', 'M2', 13): 28,\n ('NLAMS', 'NLAER', 'M3', 12): 28,\n ('NLNIJ', 'NLABL', 'M8', 9): 28,\n ('NLMOE', 'NLOOS', 'M8', 11): 28,\n ('NLTLB', 'NLOOS', 'M8', 14): 28,\n ('NLAER', 'NLRTM', 'M8', 18): 28,\n ('NLVEG', 'NLRTM', 'M6', 13): 28,\n ('NLTNZ', 'NLVLI', 'M8', 11): 28,\n ('NLABL', 'NLNIJ', 'M8', 10): 28,\n ('NLRTM', 'NLBZM', 'M8', 16): 28,\n ('NLWAS', 'NLNIJ', 'M8', 19): 28,\n ('NLMOE', 'NLAMS', 'M8', 17): 28,\n ('NLRTM', 'NLTNZ', 'M8', 20): 28,\n ('NLNIJ', 'NLDRU', 'M8', 15): 27,\n ('NLSTD', 'NLSTD', 'M0', 6): 27,\n ('NLTEA', 'NLHRW', 'M3', 21): 27,\n ('NLRTM', 'NLRTM', 'M8', 20): 27,\n ('NLAER', 'NLLEY', 'M4', 8): 27,\n ('NLRTM', 'NLWLK', 'M3', 1): 27,\n ('NLRTM', 'NLAER', 'M6', 15): 27,\n ('NLELL', 'NLHBG', 'M2', 14): 27,\n ('NLDRU', 'NLNIJ', 'M8', 11): 27,\n ('NLRTM', 'NLWLK', 'M3', 3): 27,\n ('NLFAR', 'NLBOT', 'M8', 14): 27,\n ('NLAER', 'NLRTM', 'M6', 8): 27,\n ('NLWIW', 'NLHRN', 'M5', 15): 27,\n ('NLOOS', 'NLTLB', 'M8', 8): 27,\n ('NLMOE', 'NLAPN', 'M8', 13): 27,\n ('NLIJM', 'NLMOE', 'M6', 16): 27,\n ('NLWAS', 'NLNIJ', 'M8', 18): 27,\n ('NLBZM', 'NLRTM', 'M6', 17): 27,\n ('NLHEJ', 'NLVEG', 'M3', 16): 27,\n ('NLLMR', 'NLAMS', 'BIIL-1', 19): 27,\n ('NLRTM', 'NLAER', 'M6', 17): 27,\n ('NLVEG', 'NLRTM', 'M6', 8): 27,\n ('NLRTM', 'NLDZL', 'M8', 17): 27,\n ('NLAMS', 'NLLMR', 'BIIL-1', 15): 27,\n ('NLLWR', 'NLRTM', 'M8', 11): 27,\n ('NLTLB', 'NLRTM', 'M3', 12): 27,\n ('NLZWO', 'NLAMS', 'M8', 12): 27,\n ('NLZWO', 'NLRTM', 'M8', 17): 27,\n ('NLRTM', 'NLVLI', 'M6', 9): 27,\n ('NLRTM', 'NLDZL', 'M8', 14): 27,\n ('NLRTM', 'NLAMS', 'M11', 19): 27,\n ('NLVLI', 'NLRTM', 'M8', 16): 27,\n ('NLVLI', 'NLTNZ', 'M8', 10): 27,\n ('NLZWO', 'NLAMS', 'M8', 13): 27,\n ('NLRTM', 'NLGOR', 'M6', 13): 27,\n ('NLLEY', 'NLAMS', 'M2', 13): 27,\n ('NLOOS', 'NLRTM', 'M8', 23): 27,\n ('NLRTM', 'NLOSS', 'M6', 18): 27,\n ('NLRTM', 'NLVEG', 'M6', 17): 27,\n ('NLRTM', 'NLVEG', 'M7', 18): 27,\n ('NLAMS', 'NLRTM', 'M11', 11): 27,\n ('NLAMS', 'NLRTM', 'M11', 10): 27,\n ('NLHTB', 'NLBZM', 'M8', 11): 27,\n ('NLRTM', 'NLVSN', 'M8', 4): 27,\n ('NLOOS', 'NLRTM', 'M8', 2): 27,\n ('NLWAS', 'NLNIJ', 'M8', 16): 27,\n ('NLAMS', 'NLAER', 'M3', 14): 27,\n ('NLSTD', 'NLSTD', 'M0', 10): 26,\n ('NLRTM', 'NLWLK', 'M3', 4): 26,\n ('NLNER', 'NLVEN', 'M6', 8): 26,\n ('NLRTM', 'NLRTM', 'M8', 23): 26,\n ('NLNIJ', 'NLDRU', 'M6', 16): 26,\n ('NLAMS', 'NLLEY', 'M4', 11): 26,\n ('NLAMS', 'NLRTM', 'M11', 9): 26,\n ('NLBZM', 'NLRTM', 'M6', 15): 26,\n ('NLNIJ', 'NLWAS', 'M8', 8): 26,\n ('NLRTM', 'NLNIJ', 'M8', 19): 26,\n ('NLMOE', 'NLRTM', 'C3b', 23): 26,\n ('NLVEG', 'NLHEJ', 'M3', 7): 26,\n ('NLWAS', 'NLNIJ', 'M8', 17): 26,\n ('NLBZM', 'NLRTM', 'M8', 19): 26,\n ('NLAMS', 'NLAER', 'M2', 12): 26,\n ('NLMOE', 'NLOOS', 'M8', 13): 26,\n ('NLAMS', 'NLRTM', 'M11', 16): 26,\n ('NLOOS', 'NLTLB', 'M8', 11): 26,\n ('NLVEG', 'NLHEJ', 'M3', 17): 26,\n ('NLRTM', 'NLOOS', 'M8', 12): 26,\n ('NLKAM', 'NLRTM', 'M8', 14): 26,\n ('NLAMS', 'NLMOE', 'M8', 23): 26,\n ('NLAMS', 'NLRTM', 'M11', 17): 26,\n ('NLRTM', 'NLOSS', 'M6', 14): 26,\n ('NLHTB', 'NLBON', 'M2', 8): 26,\n ('NLAER', 'NLAMS', 'M3', 11): 26,\n ('NLBZM', 'NLRTM', 'M8', 20): 26,\n ('NLHAS', 'NLAMS', 'M8', 21): 26,\n ('NLOOS', 'NLTLB', 'M8', 12): 26,\n ('NLAMS', 'NLAER', 'M3', 7): 26,\n ('NLHTB', 'NLBON', 'M2', 7): 26,\n ('NLBON', 'NLNRW', 'M2', 17): 26,\n ('NLTLB', 'NLRTM', 'M8', 1): 26,\n ('NLVEG', 'NLHEJ', 'M3', 18): 26,\n ('NLRTM', 'NLTIE', 'M8', 21): 26,\n ('NLGOR', 'NLRTM', 'M6', 14): 26,\n ('NLTIE', 'NLRTM', 'M8', 20): 26,\n ('NLRTM', 'NLFAR', 'M8', 17): 26,\n ('NLNKK', 'NLAMS', 'M2', 9): 26,\n ('NLHGL', 'NLWIS', 'M4', 4): 25,\n ('NLRTM', 'NLRTM', 'M8', 5): 25,\n ('NLRTM', 'NLRTM', 'M8', 17): 25,\n ('NLBON', 'NLMST', 'M2', 6): 25,\n ('NLLEY', 'NLSWI', 'M3', 10): 25,\n ('NLDRU', 'NLNIJ', 'M6', 10): 25,\n ('NLLEY', 'NLAMS', 'M4', 19): 25,\n ('NLALK', 'NLIJM', 'M3', 14): 25,\n ('NLAER', 'NLWSP', 'M8', 8): 25,\n ('NLHBG', 'NLELL', 'M2', 7): 25,\n ('NLOOS', 'NLMOE', 'M8', 16): 25,\n ('NLMOE', 'NLOOS', 'M8', 22): 25,\n ('NLWIW', 'NLHRN', 'M5', 14): 25,\n ('NLVEN', 'NLNER', 'M8', 8): 25,\n ('NLVEG', 'NLRTM', 'M6', 9): 25,\n ('NLTLB', 'NLRTM', 'M8', 13): 25,\n ('NLRTM', 'NLTLB', 'M3', 6): 25,\n ('NLKGZ', 'NLAMS', 'M3', 8): 25,\n ('NLBZM', 'NLRTM', 'M6', 14): 25,\n ('NLAMS', 'NLRTM', 'M11', 13): 25,\n ('NLWBR', 'NLRTM', 'M8', 18): 25,\n ('NLTLB', 'NLRTM', 'M3', 13): 25,\n ('NLRTM', 'NLOOS', 'M8', 3): 25,\n ('NLNRW', 'NLBON', 'M2', 12): 25,\n ('NLRTM', 'NLAER', 'M8', 13): 25,\n ('NLAMS', 'NLRTM', 'M11', 15): 25,\n ('NLTNZ', 'NLVLI', 'M8', 18): 25,\n ('NLAMS', 'NLMOE', 'M8', 21): 25,\n ('NLGOR', 'NLRTM', 'M6', 7): 25,\n ('NLHAS', 'NLAMS', 'M8', 3): 25,\n ('NLAMS', 'NLAER', 'M3', 9): 25,\n ('NLVEG', 'NLRTM', 'M7', 9): 25,\n ('NLWBR', 'NLRTM', 'M8', 19): 25,\n ('NLRTM', 'NLAPN', 'M8', 15): 25,\n ('NLAER', 'NLNIE', 'M8', 18): 25,\n ('NLRTM', 'NLUTC', 'M8', 7): 25,\n ('NLRTM', 'NLTNZ', 'M8', 5): 25,\n ('NLVLI', 'NLRTM', 'M8', 22): 25,\n ('NLRTM', 'NLAMS', 'M11', 20): 25,\n ('NLAMS', 'NLRTM', 'M10', 11): 25,\n ('NLMOE', 'NLRTM', 'C3b', 21): 25,\n ('NLAMS', 'NLMOE', 'M8', 10): 25,\n ('NLRTM', 'NLMEP', 'M8', 18): 25,\n ('NLWAS', 'NLNIJ', 'M8', 15): 25,\n ('NLTLB', 'NLRTM', 'M3', 19): 25,\n ('NLRTM', 'NLDOR', 'M8', 12): 25,\n ('NLIJM', 'NLMOE', 'M6', 18): 25,\n ('NLHEJ', 'NLVEG', 'M3', 19): 25,\n ('NLOSS', 'NLRTM', 'M6', 12): 25,\n ('NLRTM', 'NLRTM', 'M12', 7): 24,\n ('NLRTM', 'NLRTM', 'M8', 19): 24,\n ('NLHEJ', 'NLDVT', 'M2', 12): 24,\n ('NLHRW', 'NLTEA', 'M3', 17): 24,\n ('NLAMS', 'NLEES', 'M4', 16): 24,\n ('NLRTM', 'NLRTM', 'M8', 4): 24,\n ('NLRTM', 'NLUTC', 'BII-1', 12): 24,\n ('NLRTM', 'NLMEP', 'M8', 5): 24,\n ('NLRTM', 'NLWLK', 'M3', 5): 24,\n ('NLVEG', 'NLHEJ', 'M3', 8): 24,\n ('NLMOE', 'NLOOS', 'M8', 0): 24,\n ('NLAER', 'NLAMS', 'M2', 14): 24,\n ('NLIJM', 'NLALK', 'M3', 8): 24,\n ('NLRTM', 'NLTNZ', 'M8', 12): 24,\n ('NLOOS', 'NLTLB', 'M8', 9): 24,\n ('NLRTM', 'NLOOS', 'M8', 13): 24,\n ('NLRTM', 'NLWBR', 'M8', 14): 24,\n ('NLTLB', 'NLRTM', 'M3', 11): 24,\n ('NLRTM', 'NLVLI', 'M8', 21): 24,\n ('NLRTM', 'NLVSN', 'M8', 5): 24,\n ('NLAMS', 'NLRTM', 'M6', 22): 24,\n ('NLMEP', 'NLRTM', 'M8', 12): 24,\n ('NLBON', 'NLHTB', 'M2', 12): 24,\n ('NLVEG', 'NLRTM', 'M6', 14): 24,\n ('NLAMS', 'NLMOE', 'M8', 22): 24,\n ('NLKAM', 'NLRTM', 'M8', 3): 24,\n ('NLHKK', 'NLHAR', 'M4', 12): 24,\n ('NLRTM', 'NLNIJ', 'M8', 7): 24,\n ('NLTIE', 'NLRTM', 'M8', 16): 24,\n ('NLHAR', 'NLWTE', 'M12', 10): 24,\n ('NLAER', 'NLAMS', 'M2', 13): 24,\n ('NLBZM', 'NLRTM', 'M6', 12): 24,\n ('NLMOE', 'NLOOS', 'M8', 12): 24,\n ('NLAMS', 'NLLMR', 'BIIL-1', 20): 24,\n ('NLRTM', 'NLKAM', 'M8', 13): 24,\n ('NLRTM', 'NLWLK', 'M3', 11): 24,\n ('NLRTM', 'NLOOS', 'M8', 1): 24,\n ('NLTNZ', 'NLRTM', 'M8', 11): 24,\n ('NLHGL', 'NLRTM', 'M8', 20): 24,\n ('NLTIE', 'NLUTC', 'M8', 16): 24,\n ('NLWBR', 'NLRTM', 'M8', 20): 24,\n ('NLRTM', 'NLTNZ', 'M8', 15): 24,\n ('NLRTM', 'NLGOR', 'M6', 16): 24,\n ('NLMOE', 'NLAMS', 'M8', 3): 24,\n ('NLRTM', 'NLVLI', 'M8', 11): 24,\n ('NLWLK', 'NLRTM', 'M3', 12): 24,\n ('NLAER', 'NLRTM', 'M6', 19): 24,\n ('NLALK', 'NLIJM', 'M3', 15): 24,\n ('NLRTM', 'NLVEG', 'M7', 8): 24,\n ('NLRTM', 'NLRTM', 'M12', 13): 23,\n ('NLRTM', 'NLRTM', 'M8', 21): 23,\n ('NLPER', 'NLAMS', 'M6', 15): 23,\n ('NLZBG', 'NLTLB', 'M3', 14): 23,\n ('NLVEG', 'NLHRW', 'M2', 8): 23,\n ('NLEES', 'NLAMS', 'M4', 9): 23,\n ('NLHEJ', 'NLDVT', 'M2', 11): 23,\n ('NLALK', 'NLIJM', 'M3', 10): 23,\n ('NLMOE', 'NLOOS', 'M8', 23): 23,\n ('NLRTM', 'NLOOS', 'M8', 14): 23,\n ('NLDRO', 'NLKAM', 'M4', 14): 23,\n ('NLAMS', 'NLAER', 'M2', 10): 23,\n ('NLRTM', 'NLHGL', 'M6', 7): 23,\n ('NLAMS', 'NLAER', 'M3', 13): 23,\n ('NLKGZ', 'NLAMS', 'M2', 6): 23,\n ('NLNRW', 'NLBON', 'M2', 15): 23,\n ('NLNIJ', 'NLABL', 'M8', 21): 23,\n ('NLBON', 'NLNRW', 'M2', 16): 23,\n ('NLNIJ', 'NLWAS', 'M8', 7): 23,\n ('NLMOE', 'NLIJM', 'M6', 9): 23,\n ('NLRTM', 'NLTLB', 'M3', 5): 23,\n ('NLHAS', 'NLAMS', 'M8', 2): 23,\n ('NLKAM', 'NLAMS', 'M6', 14): 23,\n ('NLAMS', 'NLRTM', 'M10', 19): 23,\n ('NLRTM', 'NLTNZ', 'M8', 13): 23,\n ('NLTNZ', 'NLVLI', 'M8', 12): 23,\n ('NLRTM', 'NLOSS', 'M6', 10): 23,\n ('NLTIE', 'NLRTM', 'M8', 13): 23,\n ('NLTLB', 'NLBON', 'M2', 9): 23,\n ('NLDOR', 'NLRTM', 'M8', 18): 23,\n ('NLAPN', 'NLRTM', 'M8', 13): 23,\n ('NLRTM', 'NLGOR', 'M6', 11): 23,\n ('NLIJM', 'NLMOE', 'M6', 13): 23,\n ('NLOOS', 'NLMOE', 'M8', 14): 23,\n ('NLTIE', 'NLRTM', 'M8', 22): 23,\n ('NLAMS', 'NLRTM', 'M10', 16): 23,\n ('NLIJM', 'NLMOE', 'M6', 15): 23,\n ('NLRTM', 'NLKAM', 'M8', 17): 23,\n ('NLZWO', 'NLAMS', 'M8', 20): 23,\n ('NLLEY', 'NLAMS', 'M2', 14): 23,\n ('NLOSS', 'NLRTM', 'M6', 20): 23,\n ('NLAMS', 'NLAER', 'M3', 6): 23,\n ('NLNIJ', 'NLRTM', 'M8', 17): 23,\n ('NLRTM', 'NLTLB', 'M3', 9): 23,\n ('NLRTM', 'NLWBR', 'M8', 21): 23,\n ('NLLMR', 'NLAMS', 'BIIL-1', 3): 23,\n ('NLTLB', 'NLRTM', 'M3', 17): 23,\n ('NLELL', 'NLHBG', 'M2', 5): 23,\n ('NLEUR', 'NLWRV', 'M6', 5): 22,\n ('NLRTM', 'NLRTM', 'M12', 12): 22,\n ('NLLEY', 'NLAMS', 'M4', 21): 22,\n ('NLEES', 'NLAMS', 'M4', 11): 22,\n ('NLHRN', 'NLWIW', 'M5', 9): 22,\n ('NLAER', 'NLAMS', 'M3', 16): 22,\n ('NLFOX', 'NLRTM', 'M8', 17): 22,\n ('NLIJM', 'NLALK', 'M3', 6): 22,\n ('NLRTM', 'NLSLU', 'M8', 1): 22,\n ('NLHFN', 'NLHRW', 'M8', 15): 22,\n ('NLAMS', 'NLHAR', 'M10', 6): 22,\n ('NLMST', 'NLBON', 'M2', 13): 22,\n ('NLDVT', 'NLHEJ', 'M2', 15): 22,\n ('NLALK', 'NLIJM', 'M3', 13): 22,\n ('NLLEY', 'NLAMS', 'M2', 7): 22,\n ('NLRTM', 'NLZWO', 'M8', 9): 22,\n ('NLAMS', 'NLKGZ', 'M2', 15): 22,\n ('NLNKK', 'NLAMS', 'M2', 15): 22,\n ('NLAMS', 'NLRTM', 'M10', 13): 22,\n ('NLRTM', 'NLAER', 'M8', 15): 22,\n ('NLAER', 'NLAMS', 'M3', 17): 22,\n ('NLRTM', 'NLTNZ', 'M8', 16): 22,\n ('NLIJM', 'NLMOE', 'M8', 8): 22,\n ('NLHGL', 'NLAMS', 'M7', 16): 22,\n ('NLMOE', 'NLAMS', 'M8', 8): 22,\n ('NLAMS', 'NLVAN', 'M2', 11): 22,\n ('NLAER', 'NLSWI', 'M3', 8): 22,\n ('NLTLB', 'NLMOE', 'M8', 17): 22,\n ('NLHAR', 'NLAMS', 'M10', 3): 22,\n ('NLMOE', 'NLRTM', 'M6', 12): 22,\n ('NLAMS', 'NLRTM', 'M10', 18): 22,\n ('NLRTM', 'NLVLI', 'M8', 3): 22,\n ('NLOOS', 'NLRTM', 'M8', 9): 22,\n ('NLAMS', 'NLAER', 'M3', 8): 22,\n ('NLNIJ', 'NLWAS', 'M8', 9): 22,\n ('NLBON', 'NLTLB', 'M2', 14): 22,\n ('NLWSP', 'NLSWI', 'M6', 9): 22,\n ('NLWAS', 'NLNIJ', 'M8', 12): 22,\n ('NLRTM', 'NLDZL', 'M8', 12): 22,\n ('NLRTM', 'NLTIE', 'M8', 15): 22,\n ('NLRTM', 'NLTIE', 'M8', 18): 22,\n ('NLRTM', 'NLBZM', 'M8', 7): 22,\n ('NLWAS', 'NLNIJ', 'M8', 23): 22,\n ('NLMOE', 'NLOOS', 'M8', 20): 22,\n ('NLMEP', 'NLRTM', 'M8', 13): 22,\n ('NLLEY', 'NLAMS', 'M2', 12): 22,\n ('NLAMS', 'NLAER', 'M3', 10): 22,\n ('NLUTC', 'NLTIE', 'M8', 12): 22,\n ('NLTNZ', 'NLRTM', 'M8', 21): 22,\n ('NLKAM', 'NLRTM', 'M8', 16): 22,\n ('NLRTM', 'NLVEG', 'M6', 6): 22,\n ('NLRTM', 'NLNIJ', 'M8', 12): 22,\n ('NLBON', 'NLNRW', 'M2', 9): 22,\n ('NLTIE', 'NLUTC', 'M8', 20): 22,\n ('NLRTM', 'NLOSS', 'M6', 9): 22,\n ('NLRTM', 'NLWLK', 'M3', 23): 22,\n ('NLRTM', 'NLBZM', 'M8', 17): 22,\n ('NLAMS', 'NLRTM', 'M11', 23): 22,\n ('NLRTM', 'NLTIE', 'M8', 7): 22,\n ('NLVLI', 'NLRTM', 'M8', 6): 22,\n ('NLDOR', 'NLRTM', 'M8', 7): 22,\n ('NLVLI', 'NLRTM', 'M9', 0): 22,\n ('NLZWO', 'NLRTM', 'M8', 10): 22,\n ('NLWBR', 'NLRTM', 'M8', 17): 22,\n ('NLRTM', 'NLAMS', 'M10', 20): 22,\n ('NLRTM', 'NLTLB', 'M8', 14): 22,\n ('NLOOS', 'NLRTM', 'M8', 11): 22,\n ('NLBON', 'NLTLB', 'M2', 8): 22,\n ('NLAMS', 'NLRTM', 'M11', 6): 22,\n ('NLRTM', 'NLUTC', 'M8', 12): 22,\n ('NLDOR', 'NLRTM', 'M8', 15): 22,\n ('NLOSS', 'NLHRW', 'M2', 16): 21,\n ('NLRTM', 'NLRTM', 'M8', 3): 21,\n ('NLAER', 'NLRTM', 'M8', 17): 21,\n ('NLLOM', 'NLHAG', 'M3', 7): 21,\n ('NLMOE', 'NLSLU', 'M8', 20): 21,\n ('NLRTM', 'NLSLU', 'M8', 0): 21,\n ('NLHBG', 'NLELL', 'M2', 6): 21,\n ('NLZWI', 'NLAMS', 'M6', 16): 21,\n ('NLHEJ', 'NLAMS', 'M2', 15): 21,\n ('NLNRW', 'NLBON', 'M2', 14): 21,\n ('NLZWO', 'NLAMS', 'M8', 19): 21,\n ('NLAMS', 'NLAER', 'BI', 4): 21,\n ('NLRTM', 'NLFAR', 'M8', 13): 21,\n ('NLAMS', 'NLDST', 'BIIa-1', 15): 21,\n ('NLFAR', 'NLBOT', 'M8', 16): 21,\n ('NLCUY', 'NLRTM', 'M8', 13): 21,\n ('NLTNZ', 'NLVLI', 'M8', 13): 21,\n ('NLTNZ', 'NLVLI', 'M8', 14): 21,\n ('NLRTM', 'NLBZM', 'M6', 10): 21,\n ('NLRTM', 'NLARN', 'M8', 8): 21,\n ('NLKAM', 'NLAMS', 'M5', 18): 21,\n ('NLRTM', 'NLVLI', 'M8', 8): 21,\n ('NLAPN', 'NLRTM', 'M6', 17): 21,\n ('NLAMS', 'NLAER', 'M6', 8): 21,\n ('NLGOR', 'NLRTM', 'M6', 6): 21,\n ('NLUTC', 'NLRTM', 'M8', 16): 21,\n ('NLMST', 'NLBON', 'M2', 12): 21,\n ('NLRTM', 'NLFAR', 'M8', 11): 21,\n ('NLAPN', 'NLRTM', 'M6', 15): 21,\n ('NLRTM', 'NLWBR', 'M8', 9): 21,\n ('NLGOR', 'NLRTM', 'M6', 10): 21,\n ('NLAMS', 'NLDEV', 'M4', 14): 21,\n ('NLAMS', 'NLMOE', 'M8', 2): 21,\n ('NLTIE', 'NLUTC', 'M8', 17): 21,\n ('NLTIE', 'NLRTM', 'M8', 14): 21,\n ('NLSWI', 'NLAER', 'M3', 7): 21,\n ('NLRTM', 'NLARN', 'M8', 12): 21,\n ('NLRTM', 'NLAPN', 'M8', 9): 21,\n ('NLZAA', 'NLKGZ', 'BIIa-1', 14): 21,\n ('NLCUY', 'NLRTM', 'M8', 15): 21,\n ('NLMOE', 'NLIJM', 'M6', 10): 21,\n ('NLRTM', 'NLAPN', 'M8', 14): 21,\n ('NLRTM', 'NLUTC', 'M8', 1): 21,\n ('NLRTM', 'NLTLB', 'M3', 15): 21,\n ('NLVLI', 'NLRTM', 'M8', 5): 21,\n ('NLRTM', 'NLVLI', 'M9', 8): 21,\n ('NLOSS', 'NLRTM', 'M6', 13): 21,\n ('NLZWO', 'NLAMS', 'M8', 16): 21,\n ('NLTLB', 'NLBON', 'M2', 11): 21,\n ('NLMOE', 'NLOOS', 'M8', 21): 21,\n ('NLMOE', 'NLAMS', 'M8', 12): 21,\n ('NLELL', 'NLHBG', 'M2', 16): 21,\n ('NLRTM', 'NLDZL', 'M8', 19): 21,\n ('NLRTM', 'NLTIE', 'M8', 8): 21,\n ('NLNRW', 'NLBON', 'M2', 18): 21,\n ('NLRTM', 'NLDZL', 'M8', 18): 21,\n ('NLRTM', 'NLDOR', 'M8', 23): 21,\n ('NLAAL', 'NLHEJ', 'M3', 14): 20,\n ('NLSTD', 'NLSTD', 'M0', 9): 20,\n ('NLVEN', 'NLNER', 'BII-1', 5): 20,\n ('NLHGL', 'NLWIS', 'M3', 4): 20,\n ('NLRTM', 'NLRTM', 'M12', 23): 20,\n ('NLVLI', 'NLVLI', 'M0', 9): 20,\n ('NLRTM', 'NLRTM', 'M8', 1): 20,\n ('NLRTM', 'NLRTM', 'M12', 10): 20,\n ('NLRTM', 'NLRTM', 'M12', 14): 20,\n ('NLHEJ', 'NLAAL', 'M3', 20): 20,\n ('NLOSS', 'NLDST', 'M2', 11): 20,\n ('NLHEJ', 'NLKOR', 'M3', 19): 20,\n ('NLAMS', 'NLHRD', 'M6', 5): 20,\n ('NLAMS', 'NLLMR', 'M10', 9): 20,\n ('NLZMM', 'NLRTM', 'M4', 11): 20,\n ('NLAMS', 'NLZWO', 'M8', 4): 20,\n ('NLWIW', 'NLHRN', 'M5', 16): 20,\n ('NLAER', 'NLAMS', 'BI', 20): 20,\n ('NLVEG', 'NLAMS', 'M2', 10): 20,\n ('NLZWO', 'NLRTM', 'M8', 18): 20,\n ('NLKAM', 'NLRTM', 'M9', 7): 20,\n ('NLRTM', 'NLTLB', 'M3', 21): 20,\n ('NLWAS', 'NLNIJ', 'M8', 13): 20,\n ('NLAMS', 'NLHEJ', 'M2', 18): 20,\n ('NLRTM', 'NLMOE', 'C3b', 17): 20,\n ('NLRTM', 'NLZWO', 'M8', 5): 20,\n ('NLZWO', 'NLAMS', 'M2', 13): 20,\n ('NLAMS', 'NLLEY', 'M4', 17): 20,\n ('NLOOS', 'NLTLB', 'M8', 10): 20,\n ('NLRTM', 'NLVLI', 'M8', 0): 20,\n ('NLRTM', 'NLNIJ', 'M8', 13): 20,\n ('NLSWI', 'NLWSP', 'M6', 17): 20,\n ('NLTLB', 'NLBON', 'M2', 10): 20,\n ('NLHRW', 'NLOSS', 'M2', 11): 20,\n ('NLTNZ', 'NLRTM', 'M8', 10): 20,\n ('NLRTM', 'NLSTI', 'M8', 16): 20,\n ('NLOOS', 'NLTLB', 'M8', 20): 20,\n ('NLRTM', 'NLHGL', 'M6', 10): 20,\n ('NLRTM', 'NLDOE', 'M8', 9): 20,\n ('NLRTM', 'NLTLB', 'M2', 18): 20,\n ('NLRTM', 'NLZWO', 'M8', 11): 20,\n ('NLRTM', 'NLAMS', 'M10', 12): 20,\n ('NLABL', 'NLNIJ', 'M8', 17): 20,\n ('NLLSH', 'NLOMD', 'M2', 15): 20,\n ('NLRTM', 'NLAMS', 'M11', 1): 20,\n ('NLRTM', 'NLOOS', 'M8', 4): 20,\n ('NLAER', 'NLRTM', 'M6', 16): 20,\n ('NLAER', 'NLNIE', 'M6', 19): 20,\n ('NLRTM', 'NLUTC', 'M8', 17): 20,\n ('NLRTM', 'NLAMS', 'M10', 17): 20,\n ('NLRTM', 'NLARN', 'M8', 14): 20,\n ('NLRTM', 'NLGOR', 'M6', 15): 20,\n ('NLOMD', 'NLWAS', 'M8', 18): 20,\n ('NLAMS', 'NLHLM', 'M2', 9): 20,\n ('NLNIJ', 'NLABL', 'M8', 22): 20,\n ('NLKAM', 'NLRTM', 'M8', 6): 20,\n ('NLVLI', 'NLRTM', 'M9', 13): 20,\n ('NLMOE', 'NLRTM', 'C3b', 22): 20,\n ('NLRTM', 'NLAPN', 'M6', 13): 20,\n ('NLRTM', 'NLAMS', 'M10', 21): 20,\n ('NLRTM', 'NLOOS', 'M8', 0): 20,\n ('NLGOR', 'NLRTM', 'M12', 18): 20,\n ('NLKGZ', 'NLZAA', 'BIIa-1', 11): 20,\n ('NLKGZ', 'NLAMS', 'M3', 11): 20,\n ('NLDOR', 'NLRTM', 'M8', 13): 20,\n ('NLHTB', 'NLBON', 'M2', 10): 20,\n ('NLUTC', 'NLTIE', 'M8', 15): 20,\n ('NLDFT', 'NLBON', 'M3', 10): 20,\n ('NLRTM', 'NLSTI', 'M8', 15): 20,\n ('NLRTM', 'NLKAM', 'M8', 4): 20,\n ('NLAMS', 'NLAER', 'M2', 11): 20,\n ('NLNIJ', 'NLRTM', 'M8', 18): 20,\n ('NLRTM', 'NLTIE', 'M8', 12): 20,\n ('NLTNZ', 'NLRTM', 'M8', 3): 20,\n ('NLAMS', 'NLHAR', 'M10', 4): 20,\n ('NLEIN', 'NLBON', 'M2', 12): 20,\n ('NLAER', 'NLWSP', 'M8', 10): 20,\n ('NLMOE', 'NLTLB', 'M8', 13): 20,\n ('NLUTC', 'NLRTM', 'M8', 20): 20,\n ('NLTNZ', 'NLVLI', 'M8', 16): 20,\n ('NLAMS', 'NLNKK', 'M2', 8): 20,\n ('NLTIE', 'NLUTC', 'M8', 19): 20,\n ('NLRTM', 'NLVLI', 'M9', 7): 20,\n ('NLDVT', 'NLHEJ', 'M2', 18): 19,\n ('NLRTM', 'NLRTM', 'M6', 14): 19,\n ('NLHRN', 'NLWIW', 'M5', 8): 19,\n ('NLRTM', 'NLRTM', 'M12', 1): 19,\n ('NLVLI', 'NLVLI', 'M0', 12): 19,\n ('NLAER', 'NLNIE', 'M6', 8): 19,\n ('NLHTB', 'NLBZM', 'M8', 3): 19,\n ('NLZOT', 'NLSMO', 'M3', 6): 19,\n ('NLRTM', 'NLDZL', 'M8', 11): 19,\n ('NLAMS', 'NLDEV', 'M3', 7): 19,\n ('NLAER', 'NLNIE', 'M6', 9): 19,\n ('NLAER', 'NLRTM', 'M6', 9): 19,\n ('NLUTC', 'NLRTM', 'BII-1', 19): 19,\n ('NLAMS', 'NLAER', 'M2', 9): 19,\n ('NLMST', 'NLBON', 'M2', 11): 19,\n ('NLAMS', 'NLAER', 'M6', 15): 19,\n ('NLDOR', 'NLRTM', 'M8', 20): 19,\n ('NLAMS', 'NLTIE', 'M4', 7): 19,\n ('NLAER', 'NLAMS', 'M2', 15): 19,\n ('NLHTB', 'NLBZM', 'M8', 4): 19,\n ('NLABL', 'NLNIJ', 'M8', 18): 19,\n ('NLIJM', 'NLMOE', 'M8', 16): 19,\n ('NLAMS', 'NLAER', 'M6', 9): 19,\n ('NLRTM', 'NLAPN', 'M4', 18): 19,\n ('NLDRA', 'NLHAR', 'M2', 11): 19,\n ('NLNIJ', 'NLABL', 'M8', 5): 19,\n ('NLRTM', 'NLVEG', 'M7', 20): 19,\n ('NLRTM', 'NLAPN', 'M8', 11): 19,\n ('NLOSS', 'NLHRW', 'M2', 14): 19,\n ('NLBON', 'NLSTI', 'BIIa-1', 13): 19,\n ('NLZWO', 'NLRTM', 'M8', 19): 19,\n ('NLAMS', 'NLDEV', 'M3', 16): 19,\n ('NLTLB', 'NLRTM', 'M3', 16): 19,\n ('NLBON', 'NLEIN', 'M2', 19): 19,\n ('NLHGL', 'NLAMS', 'M7', 18): 19,\n ('NLHGL', 'NLAMS', 'M7', 15): 19,\n ('NLAMS', 'NLZAA', 'M3', 10): 19,\n ('NLHLM', 'NLRTM', 'M2', 11): 19,\n ('NLUTC', 'NLTIE', 'M8', 14): 19,\n ('NLRTM', 'NLWBR', 'M8', 13): 19,\n ('NLRTM', 'NLVSN', 'M8', 2): 19,\n ('NLLMR', 'NLAMS', 'M10', 5): 19,\n ('NLMOE', 'NLAPN', 'M8', 11): 19,\n ('NLRTM', 'NLVLI', 'M8', 2): 19,\n ('NLRTM', 'NLVLI', 'M9', 2): 19,\n ('NLAER', 'NLRTM', 'M10', 9): 19,\n ('NLTNZ', 'NLRTM', 'M8', 17): 19,\n ('NLAER', 'NLNIE', 'M8', 19): 19,\n ('NLAER', 'NLRTM', 'M6', 20): 19,\n ('NLRTM', 'NLOOS', 'M8', 5): 19,\n ('NLAER', 'NLRTM', 'M8', 19): 19,\n ('NLRTM', 'NLLID', 'M3', 15): 19,\n ('NLABL', 'NLNIJ', 'M8', 14): 19,\n ('NLAMS', 'NLRTM', 'M11', 12): 19,\n ('NLAPN', 'NLRTM', 'M6', 19): 19,\n ('NLAPN', 'NLRTM', 'M6', 7): 19,\n ('NLRTM', 'NLVLI', 'M9', 21): 19,\n ('NLRTM', 'NLTLB', 'M8', 2): 19,\n ('NLRTM', 'NLTIE', 'M8', 19): 19,\n ('NLAMS', 'NLVLI', 'M12', 16): 19,\n ('NLRTM', 'NLOOS', 'M8', 6): 19,\n ('NLVEG', 'NLRTM', 'M6', 22): 19,\n ('NLMAA', 'NLNRW', 'M2', 17): 19,\n ('NLDRU', 'NLNIJ', 'M6', 11): 19,\n ('NLKAM', 'NLRTM', 'M9', 5): 19,\n ('NLKGZ', 'NLZAA', 'BIIa-1', 8): 19,\n ('NLKGZ', 'NLZAA', 'BIIa-1', 9): 19,\n ('NLDZL', 'NLFAR', 'M8', 13): 19,\n ('NLMOE', 'NLIJM', 'M8', 18): 19,\n ('NLUTC', 'NLRTM', 'M8', 22): 19,\n ('NLRTM', 'NLAPN', 'M8', 19): 19,\n ('NLRTM', 'NLTLB', 'M2', 13): 19,\n ('NLNIJ', 'NLRTM', 'M8', 14): 19,\n ('NLAER', 'NLNIE', 'M6', 20): 19,\n ('NLLID', 'NLRTM', 'M3', 11): 19,\n ('NLRTM', 'NLBON', 'M12', 18): 19,\n ('NLRTM', 'NLTLB', 'M2', 17): 19,\n ('NLAMS', 'NLRTM', 'M10', 10): 19,\n ('NLMST', 'NLTNZ', 'M8', 13): 19,\n ('NLOOS', 'NLMOE', 'M8', 6): 19,\n ('NLAMS', 'NLRTM', 'M10', 6): 19,\n ('NLVEG', 'NLRTM', 'M7', 6): 19,\n ('NLRTM', 'NLAMS', 'M10', 14): 19,\n ('NLBZM', 'NLRTM', 'M6', 16): 19,\n ('NLHTB', 'NLBON', 'M2', 9): 19,\n ('NLABL', 'NLNIJ', 'M8', 19): 19,\n ('NLDRO', 'NLKAM', 'M4', 13): 19,\n ('NLLMR', 'NLAMS', 'M10', 12): 19,\n ('NLRTM', 'NLSTI', 'M8', 7): 19,\n ('NLAMS', 'NLHAS', 'M8', 19): 19,\n ('NLTLB', 'NLBON', 'M2', 12): 19,\n ('NLWSP', 'NLAER', 'M8', 12): 19,\n ('NLBZM', 'NLHTB', 'M8', 12): 19,\n ('NLRTM', 'NLVLI', 'M6', 14): 19,\n ('NLAMS', 'NLMOE', 'M8', 4): 19,\n ('NLHGL', 'NLRTM', 'M8', 6): 19,\n ('NLRTM', 'NLTIE', 'M8', 10): 19,\n ('NLRTM', 'NLDOE', 'M8', 7): 19,\n ('NLRTM', 'NLDZL', 'M8', 10): 19,\n ('NLTNZ', 'NLRTM', 'M8', 9): 19,\n ('NLOSS', 'NLRTM', 'M8', 13): 19,\n ('NLAMS', 'NLMOE', 'M8', 11): 19,\n ('NLNIJ', 'NLABL', 'M8', 7): 19,\n ('NLNIJ', 'NLABL', 'M8', 20): 19,\n ('NLRTM', 'NLAPN', 'M3', 16): 19,\n ('NLRTM', 'NLTLB', 'M8', 8): 19,\n ...}"
     },
     "execution_count": 13,
     "metadata": {},
     "output_type": "execute_result"
    }
   ],
   "source": [
    "trip_dict_main"
   ],
   "metadata": {
    "collapsed": false,
    "pycharm": {
     "name": "#%%\n"
    }
   }
  },
  {
   "cell_type": "code",
   "execution_count": 14,
   "outputs": [],
   "source": [
    "# now only keep entries of trip_dict_main that are part of top 100 OD pairs\n",
    "top100 = df_main.head(100)\n",
    "top100.reset_index(drop=True, inplace=True)\n",
    "ordes = []\n",
    "for i in range(len(top100)):\n",
    "    ordes.append((top100['origin'][i], top100['destination'][i]))\n",
    "\n",
    "trip_dict_subset = {i:trip_dict_main[i] for i in trip_dict_main.keys() if (i[0],i[1]) in ordes}"
   ],
   "metadata": {
    "collapsed": false,
    "pycharm": {
     "name": "#%%\n"
    }
   }
  },
  {
   "cell_type": "code",
   "execution_count": 15,
   "outputs": [
    {
     "data": {
      "text/plain": "6923"
     },
     "execution_count": 15,
     "metadata": {},
     "output_type": "execute_result"
    }
   ],
   "source": [
    "len(trip_dict_subset.keys())"
   ],
   "metadata": {
    "collapsed": false,
    "pycharm": {
     "name": "#%%\n"
    }
   }
  },
  {
   "cell_type": "code",
   "execution_count": 16,
   "outputs": [
    {
     "data": {
      "text/plain": "9943"
     },
     "execution_count": 16,
     "metadata": {},
     "output_type": "execute_result"
    }
   ],
   "source": [
    "df_main.loc[(df_main.origin == 'NLRTM')&(df_main.destination == 'NLAMS')].trip_count.item()"
   ],
   "metadata": {
    "collapsed": false,
    "pycharm": {
     "name": "#%%\n"
    }
   }
  },
  {
   "cell_type": "code",
   "execution_count": 17,
   "outputs": [
    {
     "data": {
      "text/plain": "     origin destination  hour  M12   M8  BII-6b  M10  BIIa-1  M9  BII-6l  ...  \\\n0     NLRTM       NLAMS     0   91  109       0   18       2  45       0  ...   \n1     NLRTM       NLAMS     1   78  110       0   17       3  55       0  ...   \n2     NLRTM       NLAMS     2   52  122       0   10       3  46       0  ...   \n3     NLRTM       NLAMS     3   52  117       0    9       4  52       0  ...   \n4     NLRTM       NLAMS     4   55  144       0   14       1  72       0  ...   \n...     ...         ...   ...  ...  ...     ...  ...     ...  ..     ...  ...   \n2395  NLAMS       NLZWI    19    0    3       0    0       0   0       0  ...   \n2396  NLAMS       NLZWI    20    0    0       0    0       0   0       0  ...   \n2397  NLAMS       NLZWI    21    0    1       0    0       1   0       0  ...   \n2398  NLAMS       NLZWI    22    0    1       0    0       0   0       0  ...   \n2399  NLAMS       NLZWI    23    0    3       0    0       0   1       0  ...   \n\n      C4  B04  M0  C2l  BII-2L  B02  C1b  C2b  B01  C1l  \n0      0    0   0    0       1    0    0    0    0    0  \n1      0    0   0    0       0    0    0    0    0    0  \n2      1    0   0    0       0    0    0    0    0    0  \n3      1    0   0    0       0    0    0    0    0    0  \n4      0    2   0    0       0    0    0    0    0    0  \n...   ..  ...  ..  ...     ...  ...  ...  ...  ...  ...  \n2395   0    0   0    0       0    0    0    0    0    0  \n2396   0    0   0    0       0    0    0    0    0    0  \n2397   0    0   0    0       0    0    0    0    0    0  \n2398   0    0   0    0       0    0    0    0    0    0  \n2399   0    0   0    0       0    0    0    0    0    0  \n\n[2400 rows x 36 columns]",
      "text/html": "<div>\n<style scoped>\n    .dataframe tbody tr th:only-of-type {\n        vertical-align: middle;\n    }\n\n    .dataframe tbody tr th {\n        vertical-align: top;\n    }\n\n    .dataframe thead th {\n        text-align: right;\n    }\n</style>\n<table border=\"1\" class=\"dataframe\">\n  <thead>\n    <tr style=\"text-align: right;\">\n      <th></th>\n      <th>origin</th>\n      <th>destination</th>\n      <th>hour</th>\n      <th>M12</th>\n      <th>M8</th>\n      <th>BII-6b</th>\n      <th>M10</th>\n      <th>BIIa-1</th>\n      <th>M9</th>\n      <th>BII-6l</th>\n      <th>...</th>\n      <th>C4</th>\n      <th>B04</th>\n      <th>M0</th>\n      <th>C2l</th>\n      <th>BII-2L</th>\n      <th>B02</th>\n      <th>C1b</th>\n      <th>C2b</th>\n      <th>B01</th>\n      <th>C1l</th>\n    </tr>\n  </thead>\n  <tbody>\n    <tr>\n      <th>0</th>\n      <td>NLRTM</td>\n      <td>NLAMS</td>\n      <td>0</td>\n      <td>91</td>\n      <td>109</td>\n      <td>0</td>\n      <td>18</td>\n      <td>2</td>\n      <td>45</td>\n      <td>0</td>\n      <td>...</td>\n      <td>0</td>\n      <td>0</td>\n      <td>0</td>\n      <td>0</td>\n      <td>1</td>\n      <td>0</td>\n      <td>0</td>\n      <td>0</td>\n      <td>0</td>\n      <td>0</td>\n    </tr>\n    <tr>\n      <th>1</th>\n      <td>NLRTM</td>\n      <td>NLAMS</td>\n      <td>1</td>\n      <td>78</td>\n      <td>110</td>\n      <td>0</td>\n      <td>17</td>\n      <td>3</td>\n      <td>55</td>\n      <td>0</td>\n      <td>...</td>\n      <td>0</td>\n      <td>0</td>\n      <td>0</td>\n      <td>0</td>\n      <td>0</td>\n      <td>0</td>\n      <td>0</td>\n      <td>0</td>\n      <td>0</td>\n      <td>0</td>\n    </tr>\n    <tr>\n      <th>2</th>\n      <td>NLRTM</td>\n      <td>NLAMS</td>\n      <td>2</td>\n      <td>52</td>\n      <td>122</td>\n      <td>0</td>\n      <td>10</td>\n      <td>3</td>\n      <td>46</td>\n      <td>0</td>\n      <td>...</td>\n      <td>1</td>\n      <td>0</td>\n      <td>0</td>\n      <td>0</td>\n      <td>0</td>\n      <td>0</td>\n      <td>0</td>\n      <td>0</td>\n      <td>0</td>\n      <td>0</td>\n    </tr>\n    <tr>\n      <th>3</th>\n      <td>NLRTM</td>\n      <td>NLAMS</td>\n      <td>3</td>\n      <td>52</td>\n      <td>117</td>\n      <td>0</td>\n      <td>9</td>\n      <td>4</td>\n      <td>52</td>\n      <td>0</td>\n      <td>...</td>\n      <td>1</td>\n      <td>0</td>\n      <td>0</td>\n      <td>0</td>\n      <td>0</td>\n      <td>0</td>\n      <td>0</td>\n      <td>0</td>\n      <td>0</td>\n      <td>0</td>\n    </tr>\n    <tr>\n      <th>4</th>\n      <td>NLRTM</td>\n      <td>NLAMS</td>\n      <td>4</td>\n      <td>55</td>\n      <td>144</td>\n      <td>0</td>\n      <td>14</td>\n      <td>1</td>\n      <td>72</td>\n      <td>0</td>\n      <td>...</td>\n      <td>0</td>\n      <td>2</td>\n      <td>0</td>\n      <td>0</td>\n      <td>0</td>\n      <td>0</td>\n      <td>0</td>\n      <td>0</td>\n      <td>0</td>\n      <td>0</td>\n    </tr>\n    <tr>\n      <th>...</th>\n      <td>...</td>\n      <td>...</td>\n      <td>...</td>\n      <td>...</td>\n      <td>...</td>\n      <td>...</td>\n      <td>...</td>\n      <td>...</td>\n      <td>...</td>\n      <td>...</td>\n      <td>...</td>\n      <td>...</td>\n      <td>...</td>\n      <td>...</td>\n      <td>...</td>\n      <td>...</td>\n      <td>...</td>\n      <td>...</td>\n      <td>...</td>\n      <td>...</td>\n      <td>...</td>\n    </tr>\n    <tr>\n      <th>2395</th>\n      <td>NLAMS</td>\n      <td>NLZWI</td>\n      <td>19</td>\n      <td>0</td>\n      <td>3</td>\n      <td>0</td>\n      <td>0</td>\n      <td>0</td>\n      <td>0</td>\n      <td>0</td>\n      <td>...</td>\n      <td>0</td>\n      <td>0</td>\n      <td>0</td>\n      <td>0</td>\n      <td>0</td>\n      <td>0</td>\n      <td>0</td>\n      <td>0</td>\n      <td>0</td>\n      <td>0</td>\n    </tr>\n    <tr>\n      <th>2396</th>\n      <td>NLAMS</td>\n      <td>NLZWI</td>\n      <td>20</td>\n      <td>0</td>\n      <td>0</td>\n      <td>0</td>\n      <td>0</td>\n      <td>0</td>\n      <td>0</td>\n      <td>0</td>\n      <td>...</td>\n      <td>0</td>\n      <td>0</td>\n      <td>0</td>\n      <td>0</td>\n      <td>0</td>\n      <td>0</td>\n      <td>0</td>\n      <td>0</td>\n      <td>0</td>\n      <td>0</td>\n    </tr>\n    <tr>\n      <th>2397</th>\n      <td>NLAMS</td>\n      <td>NLZWI</td>\n      <td>21</td>\n      <td>0</td>\n      <td>1</td>\n      <td>0</td>\n      <td>0</td>\n      <td>1</td>\n      <td>0</td>\n      <td>0</td>\n      <td>...</td>\n      <td>0</td>\n      <td>0</td>\n      <td>0</td>\n      <td>0</td>\n      <td>0</td>\n      <td>0</td>\n      <td>0</td>\n      <td>0</td>\n      <td>0</td>\n      <td>0</td>\n    </tr>\n    <tr>\n      <th>2398</th>\n      <td>NLAMS</td>\n      <td>NLZWI</td>\n      <td>22</td>\n      <td>0</td>\n      <td>1</td>\n      <td>0</td>\n      <td>0</td>\n      <td>0</td>\n      <td>0</td>\n      <td>0</td>\n      <td>...</td>\n      <td>0</td>\n      <td>0</td>\n      <td>0</td>\n      <td>0</td>\n      <td>0</td>\n      <td>0</td>\n      <td>0</td>\n      <td>0</td>\n      <td>0</td>\n      <td>0</td>\n    </tr>\n    <tr>\n      <th>2399</th>\n      <td>NLAMS</td>\n      <td>NLZWI</td>\n      <td>23</td>\n      <td>0</td>\n      <td>3</td>\n      <td>0</td>\n      <td>0</td>\n      <td>0</td>\n      <td>1</td>\n      <td>0</td>\n      <td>...</td>\n      <td>0</td>\n      <td>0</td>\n      <td>0</td>\n      <td>0</td>\n      <td>0</td>\n      <td>0</td>\n      <td>0</td>\n      <td>0</td>\n      <td>0</td>\n      <td>0</td>\n    </tr>\n  </tbody>\n</table>\n<p>2400 rows × 36 columns</p>\n</div>"
     },
     "execution_count": 17,
     "metadata": {},
     "output_type": "execute_result"
    }
   ],
   "source": [
    "# make dataframe dict wih a key for each column\n",
    "trip_dict_df_main = {'origin': [], 'destination': [], 'hour':[]}\n",
    "for i in df_2021.SK_CODE.unique():\n",
    "    trip_dict_df_main[i] = []\n",
    "\n",
    "# now fill this dict\n",
    "for key in ordes:\n",
    "    # append values from dict a\n",
    "    for hour in list(np.arange(0,24,1)):\n",
    "        trip_dict_df_main['origin'].append(key[0])\n",
    "        trip_dict_df_main['destination'].append(key[1])\n",
    "        trip_dict_df_main['hour'].append(hour)\n",
    "        #now append values from other dict, for each ship types\n",
    "        for ship_type in df_2021.SK_CODE.unique():\n",
    "            #if ships have travelled from A to B, append this value\n",
    "            if (key[0], key[1], ship_type, hour) in trip_dict_main.keys():\n",
    "                trip_dict_df_main[ship_type].append(trip_dict_main[(key[0], key[1], ship_type, hour)])\n",
    "            elif (key[1], key[0], ship_type, hour) in trip_dict_main.keys():\n",
    "                trip_dict_df_main[ship_type].append(trip_dict_main[(key[1], key[0], ship_type, hour)])\n",
    "            else:\n",
    "                # no? Then no ships of this type have travelled this path, append 0\n",
    "                trip_dict_df_main[ship_type].append(0)\n",
    "df_main_hourly = pd.DataFrame.from_dict(trip_dict_df_main)\n",
    "df_main_hourly"
   ],
   "metadata": {
    "collapsed": false,
    "pycharm": {
     "name": "#%%\n"
    }
   }
  },
  {
   "cell_type": "code",
   "execution_count": 18,
   "outputs": [],
   "source": [
    "df_main_hourly.insert(2, 'trip_count', df_main_hourly.iloc[:, 3:].sum(axis=1))"
   ],
   "metadata": {
    "collapsed": false,
    "pycharm": {
     "name": "#%%\n"
    }
   }
  },
  {
   "cell_type": "code",
   "execution_count": 21,
   "outputs": [
    {
     "data": {
      "text/plain": "     origin destination  trip_count  hour  M12   M8  BII-6b  M10  BIIa-1  M9  \\\n0     NLRTM       NLAMS         323     0   91  109       0   18       2  45   \n1     NLRTM       NLAMS         302     1   78  110       0   17       3  55   \n2     NLRTM       NLAMS         275     2   52  122       0   10       3  46   \n3     NLRTM       NLAMS         303     3   52  117       0    9       4  52   \n4     NLRTM       NLAMS         367     4   55  144       0   14       1  72   \n...     ...         ...         ...   ...  ...  ...     ...  ...     ...  ..   \n2395  NLAMS       NLZWI          17    19    0    3       0    0       0   0   \n2396  NLAMS       NLZWI          12    20    0    0       0    0       0   0   \n2397  NLAMS       NLZWI          13    21    0    1       0    0       1   0   \n2398  NLAMS       NLZWI           7    22    0    1       0    0       0   0   \n2399  NLAMS       NLZWI           4    23    0    3       0    0       0   1   \n\n      ...  C4  B04  M0  C2l  BII-2L  B02  C1b  C2b  B01  C1l  \n0     ...   0    0   0    0       1    0    0    0    0    0  \n1     ...   0    0   0    0       0    0    0    0    0    0  \n2     ...   1    0   0    0       0    0    0    0    0    0  \n3     ...   1    0   0    0       0    0    0    0    0    0  \n4     ...   0    2   0    0       0    0    0    0    0    0  \n...   ...  ..  ...  ..  ...     ...  ...  ...  ...  ...  ...  \n2395  ...   0    0   0    0       0    0    0    0    0    0  \n2396  ...   0    0   0    0       0    0    0    0    0    0  \n2397  ...   0    0   0    0       0    0    0    0    0    0  \n2398  ...   0    0   0    0       0    0    0    0    0    0  \n2399  ...   0    0   0    0       0    0    0    0    0    0  \n\n[2400 rows x 37 columns]",
      "text/html": "<div>\n<style scoped>\n    .dataframe tbody tr th:only-of-type {\n        vertical-align: middle;\n    }\n\n    .dataframe tbody tr th {\n        vertical-align: top;\n    }\n\n    .dataframe thead th {\n        text-align: right;\n    }\n</style>\n<table border=\"1\" class=\"dataframe\">\n  <thead>\n    <tr style=\"text-align: right;\">\n      <th></th>\n      <th>origin</th>\n      <th>destination</th>\n      <th>trip_count</th>\n      <th>hour</th>\n      <th>M12</th>\n      <th>M8</th>\n      <th>BII-6b</th>\n      <th>M10</th>\n      <th>BIIa-1</th>\n      <th>M9</th>\n      <th>...</th>\n      <th>C4</th>\n      <th>B04</th>\n      <th>M0</th>\n      <th>C2l</th>\n      <th>BII-2L</th>\n      <th>B02</th>\n      <th>C1b</th>\n      <th>C2b</th>\n      <th>B01</th>\n      <th>C1l</th>\n    </tr>\n  </thead>\n  <tbody>\n    <tr>\n      <th>0</th>\n      <td>NLRTM</td>\n      <td>NLAMS</td>\n      <td>323</td>\n      <td>0</td>\n      <td>91</td>\n      <td>109</td>\n      <td>0</td>\n      <td>18</td>\n      <td>2</td>\n      <td>45</td>\n      <td>...</td>\n      <td>0</td>\n      <td>0</td>\n      <td>0</td>\n      <td>0</td>\n      <td>1</td>\n      <td>0</td>\n      <td>0</td>\n      <td>0</td>\n      <td>0</td>\n      <td>0</td>\n    </tr>\n    <tr>\n      <th>1</th>\n      <td>NLRTM</td>\n      <td>NLAMS</td>\n      <td>302</td>\n      <td>1</td>\n      <td>78</td>\n      <td>110</td>\n      <td>0</td>\n      <td>17</td>\n      <td>3</td>\n      <td>55</td>\n      <td>...</td>\n      <td>0</td>\n      <td>0</td>\n      <td>0</td>\n      <td>0</td>\n      <td>0</td>\n      <td>0</td>\n      <td>0</td>\n      <td>0</td>\n      <td>0</td>\n      <td>0</td>\n    </tr>\n    <tr>\n      <th>2</th>\n      <td>NLRTM</td>\n      <td>NLAMS</td>\n      <td>275</td>\n      <td>2</td>\n      <td>52</td>\n      <td>122</td>\n      <td>0</td>\n      <td>10</td>\n      <td>3</td>\n      <td>46</td>\n      <td>...</td>\n      <td>1</td>\n      <td>0</td>\n      <td>0</td>\n      <td>0</td>\n      <td>0</td>\n      <td>0</td>\n      <td>0</td>\n      <td>0</td>\n      <td>0</td>\n      <td>0</td>\n    </tr>\n    <tr>\n      <th>3</th>\n      <td>NLRTM</td>\n      <td>NLAMS</td>\n      <td>303</td>\n      <td>3</td>\n      <td>52</td>\n      <td>117</td>\n      <td>0</td>\n      <td>9</td>\n      <td>4</td>\n      <td>52</td>\n      <td>...</td>\n      <td>1</td>\n      <td>0</td>\n      <td>0</td>\n      <td>0</td>\n      <td>0</td>\n      <td>0</td>\n      <td>0</td>\n      <td>0</td>\n      <td>0</td>\n      <td>0</td>\n    </tr>\n    <tr>\n      <th>4</th>\n      <td>NLRTM</td>\n      <td>NLAMS</td>\n      <td>367</td>\n      <td>4</td>\n      <td>55</td>\n      <td>144</td>\n      <td>0</td>\n      <td>14</td>\n      <td>1</td>\n      <td>72</td>\n      <td>...</td>\n      <td>0</td>\n      <td>2</td>\n      <td>0</td>\n      <td>0</td>\n      <td>0</td>\n      <td>0</td>\n      <td>0</td>\n      <td>0</td>\n      <td>0</td>\n      <td>0</td>\n    </tr>\n    <tr>\n      <th>...</th>\n      <td>...</td>\n      <td>...</td>\n      <td>...</td>\n      <td>...</td>\n      <td>...</td>\n      <td>...</td>\n      <td>...</td>\n      <td>...</td>\n      <td>...</td>\n      <td>...</td>\n      <td>...</td>\n      <td>...</td>\n      <td>...</td>\n      <td>...</td>\n      <td>...</td>\n      <td>...</td>\n      <td>...</td>\n      <td>...</td>\n      <td>...</td>\n      <td>...</td>\n      <td>...</td>\n    </tr>\n    <tr>\n      <th>2395</th>\n      <td>NLAMS</td>\n      <td>NLZWI</td>\n      <td>17</td>\n      <td>19</td>\n      <td>0</td>\n      <td>3</td>\n      <td>0</td>\n      <td>0</td>\n      <td>0</td>\n      <td>0</td>\n      <td>...</td>\n      <td>0</td>\n      <td>0</td>\n      <td>0</td>\n      <td>0</td>\n      <td>0</td>\n      <td>0</td>\n      <td>0</td>\n      <td>0</td>\n      <td>0</td>\n      <td>0</td>\n    </tr>\n    <tr>\n      <th>2396</th>\n      <td>NLAMS</td>\n      <td>NLZWI</td>\n      <td>12</td>\n      <td>20</td>\n      <td>0</td>\n      <td>0</td>\n      <td>0</td>\n      <td>0</td>\n      <td>0</td>\n      <td>0</td>\n      <td>...</td>\n      <td>0</td>\n      <td>0</td>\n      <td>0</td>\n      <td>0</td>\n      <td>0</td>\n      <td>0</td>\n      <td>0</td>\n      <td>0</td>\n      <td>0</td>\n      <td>0</td>\n    </tr>\n    <tr>\n      <th>2397</th>\n      <td>NLAMS</td>\n      <td>NLZWI</td>\n      <td>13</td>\n      <td>21</td>\n      <td>0</td>\n      <td>1</td>\n      <td>0</td>\n      <td>0</td>\n      <td>1</td>\n      <td>0</td>\n      <td>...</td>\n      <td>0</td>\n      <td>0</td>\n      <td>0</td>\n      <td>0</td>\n      <td>0</td>\n      <td>0</td>\n      <td>0</td>\n      <td>0</td>\n      <td>0</td>\n      <td>0</td>\n    </tr>\n    <tr>\n      <th>2398</th>\n      <td>NLAMS</td>\n      <td>NLZWI</td>\n      <td>7</td>\n      <td>22</td>\n      <td>0</td>\n      <td>1</td>\n      <td>0</td>\n      <td>0</td>\n      <td>0</td>\n      <td>0</td>\n      <td>...</td>\n      <td>0</td>\n      <td>0</td>\n      <td>0</td>\n      <td>0</td>\n      <td>0</td>\n      <td>0</td>\n      <td>0</td>\n      <td>0</td>\n      <td>0</td>\n      <td>0</td>\n    </tr>\n    <tr>\n      <th>2399</th>\n      <td>NLAMS</td>\n      <td>NLZWI</td>\n      <td>4</td>\n      <td>23</td>\n      <td>0</td>\n      <td>3</td>\n      <td>0</td>\n      <td>0</td>\n      <td>0</td>\n      <td>1</td>\n      <td>...</td>\n      <td>0</td>\n      <td>0</td>\n      <td>0</td>\n      <td>0</td>\n      <td>0</td>\n      <td>0</td>\n      <td>0</td>\n      <td>0</td>\n      <td>0</td>\n      <td>0</td>\n    </tr>\n  </tbody>\n</table>\n<p>2400 rows × 37 columns</p>\n</div>"
     },
     "execution_count": 21,
     "metadata": {},
     "output_type": "execute_result"
    }
   ],
   "source": [
    "df_main_hourly"
   ],
   "metadata": {
    "collapsed": false,
    "pycharm": {
     "name": "#%%\n"
    }
   }
  },
  {
   "cell_type": "code",
   "execution_count": 23,
   "outputs": [],
   "source": [
    "pickle.dump( df_main_hourly, open( \"ABM/own_work/data/df_trips_per_path_hourly.p\", \"wb\" ) )"
   ],
   "metadata": {
    "collapsed": false,
    "pycharm": {
     "name": "#%%\n"
    }
   }
  },
  {
   "cell_type": "markdown",
   "source": [
    "## Generate random data"
   ],
   "metadata": {
    "collapsed": false,
    "pycharm": {
     "name": "#%% md\n"
    }
   }
  },
  {
   "cell_type": "code",
   "execution_count": 26,
   "outputs": [],
   "source": [
    "df_chance = df_main.copy()"
   ],
   "metadata": {
    "collapsed": false,
    "pycharm": {
     "name": "#%%\n"
    }
   }
  },
  {
   "cell_type": "code",
   "execution_count": 27,
   "outputs": [
    {
     "data": {
      "text/plain": "      origin destination  trip_count   M12    M8  BII-6b  M10  BIIa-1    M9  \\\n0      NLRTM       NLAMS        9943  2076  3510       0  427     102  1316   \n1      NLRTM       NLMOE        2686    70  1584       0   56       2   144   \n2      NLRTM       NLVLI        2153   190   658       0  140      10   414   \n3      NLAMS       NLAER        2119     6   132       0    7       2     0   \n5      NLVEG       NLRTM        1484     0     1       0    0       0     0   \n...      ...         ...         ...   ...   ...     ...  ...     ...   ...   \n10588  NLBZM       NLVSN           1     0     0       0    0       0     0   \n10589  NLBZM       NLVER           1     0     0       0    0       0     0   \n10590  NLBZM       NLSMB           1     0     0       0    0       0     0   \n10591  NLBZM       NLSHH           1     0     0       0    0       0     0   \n10592  NLEFE       NLDZL           1     0     0       0    0       0     0   \n\n       BII-6l  ...  C4  B04  M0  C2l  BII-2L  B02  C1b  C2b  B01  C1l  \n0           0  ...   5    5  11    7      39    4    0    0    0    0  \n1           0  ...   2    0   1    0       1    0    0    0    0    0  \n2           0  ...   0    1   2    2       0    0    0    1    0    0  \n3           0  ...   0   37   5    1       0    3    0    1    1    0  \n5           0  ...   0    0  17    0       0    0    0    0    0    0  \n...       ...  ...  ..  ...  ..  ...     ...  ...  ...  ...  ...  ...  \n10588       0  ...   0    0   0    0       0    0    0    0    0    0  \n10589       0  ...   0    0   0    0       0    0    0    0    0    0  \n10590       0  ...   0    0   0    0       0    0    0    0    0    0  \n10591       0  ...   0    0   0    0       0    0    0    0    0    0  \n10592       0  ...   0    0   0    0       0    0    0    0    0    0  \n\n[10456 rows x 36 columns]",
      "text/html": "<div>\n<style scoped>\n    .dataframe tbody tr th:only-of-type {\n        vertical-align: middle;\n    }\n\n    .dataframe tbody tr th {\n        vertical-align: top;\n    }\n\n    .dataframe thead th {\n        text-align: right;\n    }\n</style>\n<table border=\"1\" class=\"dataframe\">\n  <thead>\n    <tr style=\"text-align: right;\">\n      <th></th>\n      <th>origin</th>\n      <th>destination</th>\n      <th>trip_count</th>\n      <th>M12</th>\n      <th>M8</th>\n      <th>BII-6b</th>\n      <th>M10</th>\n      <th>BIIa-1</th>\n      <th>M9</th>\n      <th>BII-6l</th>\n      <th>...</th>\n      <th>C4</th>\n      <th>B04</th>\n      <th>M0</th>\n      <th>C2l</th>\n      <th>BII-2L</th>\n      <th>B02</th>\n      <th>C1b</th>\n      <th>C2b</th>\n      <th>B01</th>\n      <th>C1l</th>\n    </tr>\n  </thead>\n  <tbody>\n    <tr>\n      <th>0</th>\n      <td>NLRTM</td>\n      <td>NLAMS</td>\n      <td>9943</td>\n      <td>2076</td>\n      <td>3510</td>\n      <td>0</td>\n      <td>427</td>\n      <td>102</td>\n      <td>1316</td>\n      <td>0</td>\n      <td>...</td>\n      <td>5</td>\n      <td>5</td>\n      <td>11</td>\n      <td>7</td>\n      <td>39</td>\n      <td>4</td>\n      <td>0</td>\n      <td>0</td>\n      <td>0</td>\n      <td>0</td>\n    </tr>\n    <tr>\n      <th>1</th>\n      <td>NLRTM</td>\n      <td>NLMOE</td>\n      <td>2686</td>\n      <td>70</td>\n      <td>1584</td>\n      <td>0</td>\n      <td>56</td>\n      <td>2</td>\n      <td>144</td>\n      <td>0</td>\n      <td>...</td>\n      <td>2</td>\n      <td>0</td>\n      <td>1</td>\n      <td>0</td>\n      <td>1</td>\n      <td>0</td>\n      <td>0</td>\n      <td>0</td>\n      <td>0</td>\n      <td>0</td>\n    </tr>\n    <tr>\n      <th>2</th>\n      <td>NLRTM</td>\n      <td>NLVLI</td>\n      <td>2153</td>\n      <td>190</td>\n      <td>658</td>\n      <td>0</td>\n      <td>140</td>\n      <td>10</td>\n      <td>414</td>\n      <td>0</td>\n      <td>...</td>\n      <td>0</td>\n      <td>1</td>\n      <td>2</td>\n      <td>2</td>\n      <td>0</td>\n      <td>0</td>\n      <td>0</td>\n      <td>1</td>\n      <td>0</td>\n      <td>0</td>\n    </tr>\n    <tr>\n      <th>3</th>\n      <td>NLAMS</td>\n      <td>NLAER</td>\n      <td>2119</td>\n      <td>6</td>\n      <td>132</td>\n      <td>0</td>\n      <td>7</td>\n      <td>2</td>\n      <td>0</td>\n      <td>0</td>\n      <td>...</td>\n      <td>0</td>\n      <td>37</td>\n      <td>5</td>\n      <td>1</td>\n      <td>0</td>\n      <td>3</td>\n      <td>0</td>\n      <td>1</td>\n      <td>1</td>\n      <td>0</td>\n    </tr>\n    <tr>\n      <th>5</th>\n      <td>NLVEG</td>\n      <td>NLRTM</td>\n      <td>1484</td>\n      <td>0</td>\n      <td>1</td>\n      <td>0</td>\n      <td>0</td>\n      <td>0</td>\n      <td>0</td>\n      <td>0</td>\n      <td>...</td>\n      <td>0</td>\n      <td>0</td>\n      <td>17</td>\n      <td>0</td>\n      <td>0</td>\n      <td>0</td>\n      <td>0</td>\n      <td>0</td>\n      <td>0</td>\n      <td>0</td>\n    </tr>\n    <tr>\n      <th>...</th>\n      <td>...</td>\n      <td>...</td>\n      <td>...</td>\n      <td>...</td>\n      <td>...</td>\n      <td>...</td>\n      <td>...</td>\n      <td>...</td>\n      <td>...</td>\n      <td>...</td>\n      <td>...</td>\n      <td>...</td>\n      <td>...</td>\n      <td>...</td>\n      <td>...</td>\n      <td>...</td>\n      <td>...</td>\n      <td>...</td>\n      <td>...</td>\n      <td>...</td>\n      <td>...</td>\n    </tr>\n    <tr>\n      <th>10588</th>\n      <td>NLBZM</td>\n      <td>NLVSN</td>\n      <td>1</td>\n      <td>0</td>\n      <td>0</td>\n      <td>0</td>\n      <td>0</td>\n      <td>0</td>\n      <td>0</td>\n      <td>0</td>\n      <td>...</td>\n      <td>0</td>\n      <td>0</td>\n      <td>0</td>\n      <td>0</td>\n      <td>0</td>\n      <td>0</td>\n      <td>0</td>\n      <td>0</td>\n      <td>0</td>\n      <td>0</td>\n    </tr>\n    <tr>\n      <th>10589</th>\n      <td>NLBZM</td>\n      <td>NLVER</td>\n      <td>1</td>\n      <td>0</td>\n      <td>0</td>\n      <td>0</td>\n      <td>0</td>\n      <td>0</td>\n      <td>0</td>\n      <td>0</td>\n      <td>...</td>\n      <td>0</td>\n      <td>0</td>\n      <td>0</td>\n      <td>0</td>\n      <td>0</td>\n      <td>0</td>\n      <td>0</td>\n      <td>0</td>\n      <td>0</td>\n      <td>0</td>\n    </tr>\n    <tr>\n      <th>10590</th>\n      <td>NLBZM</td>\n      <td>NLSMB</td>\n      <td>1</td>\n      <td>0</td>\n      <td>0</td>\n      <td>0</td>\n      <td>0</td>\n      <td>0</td>\n      <td>0</td>\n      <td>0</td>\n      <td>...</td>\n      <td>0</td>\n      <td>0</td>\n      <td>0</td>\n      <td>0</td>\n      <td>0</td>\n      <td>0</td>\n      <td>0</td>\n      <td>0</td>\n      <td>0</td>\n      <td>0</td>\n    </tr>\n    <tr>\n      <th>10591</th>\n      <td>NLBZM</td>\n      <td>NLSHH</td>\n      <td>1</td>\n      <td>0</td>\n      <td>0</td>\n      <td>0</td>\n      <td>0</td>\n      <td>0</td>\n      <td>0</td>\n      <td>0</td>\n      <td>...</td>\n      <td>0</td>\n      <td>0</td>\n      <td>0</td>\n      <td>0</td>\n      <td>0</td>\n      <td>0</td>\n      <td>0</td>\n      <td>0</td>\n      <td>0</td>\n      <td>0</td>\n    </tr>\n    <tr>\n      <th>10592</th>\n      <td>NLEFE</td>\n      <td>NLDZL</td>\n      <td>1</td>\n      <td>0</td>\n      <td>0</td>\n      <td>0</td>\n      <td>0</td>\n      <td>0</td>\n      <td>0</td>\n      <td>0</td>\n      <td>...</td>\n      <td>0</td>\n      <td>0</td>\n      <td>0</td>\n      <td>0</td>\n      <td>0</td>\n      <td>0</td>\n      <td>0</td>\n      <td>0</td>\n      <td>0</td>\n      <td>0</td>\n    </tr>\n  </tbody>\n</table>\n<p>10456 rows × 36 columns</p>\n</div>"
     },
     "execution_count": 27,
     "metadata": {},
     "output_type": "execute_result"
    }
   ],
   "source": [
    "df_chance"
   ],
   "metadata": {
    "collapsed": false,
    "pycharm": {
     "name": "#%%\n"
    }
   }
  },
  {
   "cell_type": "code",
   "execution_count": 28,
   "outputs": [],
   "source": [
    "type_list = list(df_main.columns[3:])"
   ],
   "metadata": {
    "collapsed": false,
    "pycharm": {
     "name": "#%%\n"
    }
   }
  },
  {
   "cell_type": "code",
   "execution_count": 29,
   "outputs": [],
   "source": [
    "for i in type_list:\n",
    "    df_chance[i] = df_chance[i]/df_chance.trip_count"
   ],
   "metadata": {
    "collapsed": false,
    "pycharm": {
     "name": "#%%\n"
    }
   }
  },
  {
   "cell_type": "code",
   "execution_count": 31,
   "outputs": [],
   "source": [
    "# pickle.dump( df_chance, open( \"data/probability_df.p\", \"wb\" ) )\n",
    "# df_chance = pickle.load(  open( \"data/probability_df.p\", \"rb\" ) )"
   ],
   "metadata": {
    "collapsed": false,
    "pycharm": {
     "name": "#%%\n"
    }
   }
  },
  {
   "cell_type": "code",
   "execution_count": 32,
   "outputs": [
    {
     "data": {
      "text/plain": "      origin destination  trip_count       M12        M8  BII-6b       M10  \\\n0      NLRTM       NLAMS        9943  0.208790  0.353012     0.0  0.042945   \n1      NLRTM       NLMOE        2686  0.026061  0.589724     0.0  0.020849   \n2      NLRTM       NLVLI        2153  0.088249  0.305620     0.0  0.065026   \n3      NLAMS       NLAER        2119  0.002832  0.062294     0.0  0.003303   \n5      NLVEG       NLRTM        1484  0.000000  0.000674     0.0  0.000000   \n...      ...         ...         ...       ...       ...     ...       ...   \n10588  NLBZM       NLVSN           1  0.000000  0.000000     0.0  0.000000   \n10589  NLBZM       NLVER           1  0.000000  0.000000     0.0  0.000000   \n10590  NLBZM       NLSMB           1  0.000000  0.000000     0.0  0.000000   \n10591  NLBZM       NLSHH           1  0.000000  0.000000     0.0  0.000000   \n10592  NLEFE       NLDZL           1  0.000000  0.000000     0.0  0.000000   \n\n         BIIa-1        M9  BII-6l  ...        C4       B04        M0  \\\n0      0.010258  0.132354     0.0  ...  0.000503  0.000503  0.001106   \n1      0.000745  0.053611     0.0  ...  0.000745  0.000000  0.000372   \n2      0.004645  0.192290     0.0  ...  0.000000  0.000464  0.000929   \n3      0.000944  0.000000     0.0  ...  0.000000  0.017461  0.002360   \n5      0.000000  0.000000     0.0  ...  0.000000  0.000000  0.011456   \n...         ...       ...     ...  ...       ...       ...       ...   \n10588  0.000000  0.000000     0.0  ...  0.000000  0.000000  0.000000   \n10589  0.000000  0.000000     0.0  ...  0.000000  0.000000  0.000000   \n10590  0.000000  0.000000     0.0  ...  0.000000  0.000000  0.000000   \n10591  0.000000  0.000000     0.0  ...  0.000000  0.000000  0.000000   \n10592  0.000000  0.000000     0.0  ...  0.000000  0.000000  0.000000   \n\n            C2l    BII-2L       B02  C1b       C2b       B01  C1l  \n0      0.000704  0.003922  0.000402  0.0  0.000000  0.000000  0.0  \n1      0.000000  0.000372  0.000000  0.0  0.000000  0.000000  0.0  \n2      0.000929  0.000000  0.000000  0.0  0.000464  0.000000  0.0  \n3      0.000472  0.000000  0.001416  0.0  0.000472  0.000472  0.0  \n5      0.000000  0.000000  0.000000  0.0  0.000000  0.000000  0.0  \n...         ...       ...       ...  ...       ...       ...  ...  \n10588  0.000000  0.000000  0.000000  0.0  0.000000  0.000000  0.0  \n10589  0.000000  0.000000  0.000000  0.0  0.000000  0.000000  0.0  \n10590  0.000000  0.000000  0.000000  0.0  0.000000  0.000000  0.0  \n10591  0.000000  0.000000  0.000000  0.0  0.000000  0.000000  0.0  \n10592  0.000000  0.000000  0.000000  0.0  0.000000  0.000000  0.0  \n\n[10456 rows x 36 columns]",
      "text/html": "<div>\n<style scoped>\n    .dataframe tbody tr th:only-of-type {\n        vertical-align: middle;\n    }\n\n    .dataframe tbody tr th {\n        vertical-align: top;\n    }\n\n    .dataframe thead th {\n        text-align: right;\n    }\n</style>\n<table border=\"1\" class=\"dataframe\">\n  <thead>\n    <tr style=\"text-align: right;\">\n      <th></th>\n      <th>origin</th>\n      <th>destination</th>\n      <th>trip_count</th>\n      <th>M12</th>\n      <th>M8</th>\n      <th>BII-6b</th>\n      <th>M10</th>\n      <th>BIIa-1</th>\n      <th>M9</th>\n      <th>BII-6l</th>\n      <th>...</th>\n      <th>C4</th>\n      <th>B04</th>\n      <th>M0</th>\n      <th>C2l</th>\n      <th>BII-2L</th>\n      <th>B02</th>\n      <th>C1b</th>\n      <th>C2b</th>\n      <th>B01</th>\n      <th>C1l</th>\n    </tr>\n  </thead>\n  <tbody>\n    <tr>\n      <th>0</th>\n      <td>NLRTM</td>\n      <td>NLAMS</td>\n      <td>9943</td>\n      <td>0.208790</td>\n      <td>0.353012</td>\n      <td>0.0</td>\n      <td>0.042945</td>\n      <td>0.010258</td>\n      <td>0.132354</td>\n      <td>0.0</td>\n      <td>...</td>\n      <td>0.000503</td>\n      <td>0.000503</td>\n      <td>0.001106</td>\n      <td>0.000704</td>\n      <td>0.003922</td>\n      <td>0.000402</td>\n      <td>0.0</td>\n      <td>0.000000</td>\n      <td>0.000000</td>\n      <td>0.0</td>\n    </tr>\n    <tr>\n      <th>1</th>\n      <td>NLRTM</td>\n      <td>NLMOE</td>\n      <td>2686</td>\n      <td>0.026061</td>\n      <td>0.589724</td>\n      <td>0.0</td>\n      <td>0.020849</td>\n      <td>0.000745</td>\n      <td>0.053611</td>\n      <td>0.0</td>\n      <td>...</td>\n      <td>0.000745</td>\n      <td>0.000000</td>\n      <td>0.000372</td>\n      <td>0.000000</td>\n      <td>0.000372</td>\n      <td>0.000000</td>\n      <td>0.0</td>\n      <td>0.000000</td>\n      <td>0.000000</td>\n      <td>0.0</td>\n    </tr>\n    <tr>\n      <th>2</th>\n      <td>NLRTM</td>\n      <td>NLVLI</td>\n      <td>2153</td>\n      <td>0.088249</td>\n      <td>0.305620</td>\n      <td>0.0</td>\n      <td>0.065026</td>\n      <td>0.004645</td>\n      <td>0.192290</td>\n      <td>0.0</td>\n      <td>...</td>\n      <td>0.000000</td>\n      <td>0.000464</td>\n      <td>0.000929</td>\n      <td>0.000929</td>\n      <td>0.000000</td>\n      <td>0.000000</td>\n      <td>0.0</td>\n      <td>0.000464</td>\n      <td>0.000000</td>\n      <td>0.0</td>\n    </tr>\n    <tr>\n      <th>3</th>\n      <td>NLAMS</td>\n      <td>NLAER</td>\n      <td>2119</td>\n      <td>0.002832</td>\n      <td>0.062294</td>\n      <td>0.0</td>\n      <td>0.003303</td>\n      <td>0.000944</td>\n      <td>0.000000</td>\n      <td>0.0</td>\n      <td>...</td>\n      <td>0.000000</td>\n      <td>0.017461</td>\n      <td>0.002360</td>\n      <td>0.000472</td>\n      <td>0.000000</td>\n      <td>0.001416</td>\n      <td>0.0</td>\n      <td>0.000472</td>\n      <td>0.000472</td>\n      <td>0.0</td>\n    </tr>\n    <tr>\n      <th>5</th>\n      <td>NLVEG</td>\n      <td>NLRTM</td>\n      <td>1484</td>\n      <td>0.000000</td>\n      <td>0.000674</td>\n      <td>0.0</td>\n      <td>0.000000</td>\n      <td>0.000000</td>\n      <td>0.000000</td>\n      <td>0.0</td>\n      <td>...</td>\n      <td>0.000000</td>\n      <td>0.000000</td>\n      <td>0.011456</td>\n      <td>0.000000</td>\n      <td>0.000000</td>\n      <td>0.000000</td>\n      <td>0.0</td>\n      <td>0.000000</td>\n      <td>0.000000</td>\n      <td>0.0</td>\n    </tr>\n    <tr>\n      <th>...</th>\n      <td>...</td>\n      <td>...</td>\n      <td>...</td>\n      <td>...</td>\n      <td>...</td>\n      <td>...</td>\n      <td>...</td>\n      <td>...</td>\n      <td>...</td>\n      <td>...</td>\n      <td>...</td>\n      <td>...</td>\n      <td>...</td>\n      <td>...</td>\n      <td>...</td>\n      <td>...</td>\n      <td>...</td>\n      <td>...</td>\n      <td>...</td>\n      <td>...</td>\n      <td>...</td>\n    </tr>\n    <tr>\n      <th>10588</th>\n      <td>NLBZM</td>\n      <td>NLVSN</td>\n      <td>1</td>\n      <td>0.000000</td>\n      <td>0.000000</td>\n      <td>0.0</td>\n      <td>0.000000</td>\n      <td>0.000000</td>\n      <td>0.000000</td>\n      <td>0.0</td>\n      <td>...</td>\n      <td>0.000000</td>\n      <td>0.000000</td>\n      <td>0.000000</td>\n      <td>0.000000</td>\n      <td>0.000000</td>\n      <td>0.000000</td>\n      <td>0.0</td>\n      <td>0.000000</td>\n      <td>0.000000</td>\n      <td>0.0</td>\n    </tr>\n    <tr>\n      <th>10589</th>\n      <td>NLBZM</td>\n      <td>NLVER</td>\n      <td>1</td>\n      <td>0.000000</td>\n      <td>0.000000</td>\n      <td>0.0</td>\n      <td>0.000000</td>\n      <td>0.000000</td>\n      <td>0.000000</td>\n      <td>0.0</td>\n      <td>...</td>\n      <td>0.000000</td>\n      <td>0.000000</td>\n      <td>0.000000</td>\n      <td>0.000000</td>\n      <td>0.000000</td>\n      <td>0.000000</td>\n      <td>0.0</td>\n      <td>0.000000</td>\n      <td>0.000000</td>\n      <td>0.0</td>\n    </tr>\n    <tr>\n      <th>10590</th>\n      <td>NLBZM</td>\n      <td>NLSMB</td>\n      <td>1</td>\n      <td>0.000000</td>\n      <td>0.000000</td>\n      <td>0.0</td>\n      <td>0.000000</td>\n      <td>0.000000</td>\n      <td>0.000000</td>\n      <td>0.0</td>\n      <td>...</td>\n      <td>0.000000</td>\n      <td>0.000000</td>\n      <td>0.000000</td>\n      <td>0.000000</td>\n      <td>0.000000</td>\n      <td>0.000000</td>\n      <td>0.0</td>\n      <td>0.000000</td>\n      <td>0.000000</td>\n      <td>0.0</td>\n    </tr>\n    <tr>\n      <th>10591</th>\n      <td>NLBZM</td>\n      <td>NLSHH</td>\n      <td>1</td>\n      <td>0.000000</td>\n      <td>0.000000</td>\n      <td>0.0</td>\n      <td>0.000000</td>\n      <td>0.000000</td>\n      <td>0.000000</td>\n      <td>0.0</td>\n      <td>...</td>\n      <td>0.000000</td>\n      <td>0.000000</td>\n      <td>0.000000</td>\n      <td>0.000000</td>\n      <td>0.000000</td>\n      <td>0.000000</td>\n      <td>0.0</td>\n      <td>0.000000</td>\n      <td>0.000000</td>\n      <td>0.0</td>\n    </tr>\n    <tr>\n      <th>10592</th>\n      <td>NLEFE</td>\n      <td>NLDZL</td>\n      <td>1</td>\n      <td>0.000000</td>\n      <td>0.000000</td>\n      <td>0.0</td>\n      <td>0.000000</td>\n      <td>0.000000</td>\n      <td>0.000000</td>\n      <td>0.0</td>\n      <td>...</td>\n      <td>0.000000</td>\n      <td>0.000000</td>\n      <td>0.000000</td>\n      <td>0.000000</td>\n      <td>0.000000</td>\n      <td>0.000000</td>\n      <td>0.0</td>\n      <td>0.000000</td>\n      <td>0.000000</td>\n      <td>0.0</td>\n    </tr>\n  </tbody>\n</table>\n<p>10456 rows × 36 columns</p>\n</div>"
     },
     "execution_count": 32,
     "metadata": {},
     "output_type": "execute_result"
    }
   ],
   "source": [
    "df_chance"
   ],
   "metadata": {
    "collapsed": false,
    "pycharm": {
     "name": "#%%\n"
    }
   }
  },
  {
   "cell_type": "code",
   "execution_count": 33,
   "outputs": [],
   "source": [
    "test_100 = df_chance.head(100)"
   ],
   "metadata": {
    "collapsed": false,
    "pycharm": {
     "name": "#%%\n"
    }
   }
  },
  {
   "cell_type": "code",
   "execution_count": 34,
   "outputs": [
    {
     "data": {
      "text/plain": "    origin destination  trip_count       M12        M8  BII-6b       M10  \\\n0    NLRTM       NLAMS        9943  0.208790  0.353012     0.0  0.042945   \n1    NLRTM       NLMOE        2686  0.026061  0.589724     0.0  0.020849   \n2    NLRTM       NLVLI        2153  0.088249  0.305620     0.0  0.065026   \n3    NLAMS       NLAER        2119  0.002832  0.062294     0.0  0.003303   \n5    NLVEG       NLRTM        1484  0.000000  0.000674     0.0  0.000000   \n..     ...         ...         ...       ...       ...     ...       ...   \n101  NLHTB       NLBON         324  0.000000  0.003086     0.0  0.000000   \n102  NLKGZ       NLZAA         319  0.000000  0.000000     0.0  0.000000   \n103  NLRTM       NLLID         311  0.000000  0.000000     0.0  0.000000   \n104  NLRTM       NLSLU         310  0.009677  0.661290     0.0  0.148387   \n105  NLAMS       NLZWI         309  0.000000  0.148867     0.0  0.009709   \n\n       BIIa-1        M9  BII-6l  ...        C4       B04        M0       C2l  \\\n0    0.010258  0.132354     0.0  ...  0.000503  0.000503  0.001106  0.000704   \n1    0.000745  0.053611     0.0  ...  0.000745  0.000000  0.000372  0.000000   \n2    0.004645  0.192290     0.0  ...  0.000000  0.000464  0.000929  0.000929   \n3    0.000944  0.000000     0.0  ...  0.000000  0.017461  0.002360  0.000472   \n5    0.000000  0.000000     0.0  ...  0.000000  0.000000  0.011456  0.000000   \n..        ...       ...     ...  ...       ...       ...       ...       ...   \n101  0.000000  0.000000     0.0  ...  0.000000  0.000000  0.000000  0.000000   \n102  0.661442  0.000000     0.0  ...  0.000000  0.015674  0.009404  0.000000   \n103  0.000000  0.000000     0.0  ...  0.000000  0.000000  0.000000  0.000000   \n104  0.000000  0.019355     0.0  ...  0.000000  0.000000  0.000000  0.003226   \n105  0.003236  0.022654     0.0  ...  0.000000  0.003236  0.000000  0.000000   \n\n       BII-2L       B02  C1b       C2b       B01  C1l  \n0    0.003922  0.000402  0.0  0.000000  0.000000  0.0  \n1    0.000372  0.000000  0.0  0.000000  0.000000  0.0  \n2    0.000000  0.000000  0.0  0.000464  0.000000  0.0  \n3    0.000000  0.001416  0.0  0.000472  0.000472  0.0  \n5    0.000000  0.000000  0.0  0.000000  0.000000  0.0  \n..        ...       ...  ...       ...       ...  ...  \n101  0.000000  0.000000  0.0  0.000000  0.000000  0.0  \n102  0.000000  0.000000  0.0  0.000000  0.000000  0.0  \n103  0.000000  0.000000  0.0  0.000000  0.000000  0.0  \n104  0.000000  0.000000  0.0  0.000000  0.000000  0.0  \n105  0.000000  0.000000  0.0  0.000000  0.000000  0.0  \n\n[100 rows x 36 columns]",
      "text/html": "<div>\n<style scoped>\n    .dataframe tbody tr th:only-of-type {\n        vertical-align: middle;\n    }\n\n    .dataframe tbody tr th {\n        vertical-align: top;\n    }\n\n    .dataframe thead th {\n        text-align: right;\n    }\n</style>\n<table border=\"1\" class=\"dataframe\">\n  <thead>\n    <tr style=\"text-align: right;\">\n      <th></th>\n      <th>origin</th>\n      <th>destination</th>\n      <th>trip_count</th>\n      <th>M12</th>\n      <th>M8</th>\n      <th>BII-6b</th>\n      <th>M10</th>\n      <th>BIIa-1</th>\n      <th>M9</th>\n      <th>BII-6l</th>\n      <th>...</th>\n      <th>C4</th>\n      <th>B04</th>\n      <th>M0</th>\n      <th>C2l</th>\n      <th>BII-2L</th>\n      <th>B02</th>\n      <th>C1b</th>\n      <th>C2b</th>\n      <th>B01</th>\n      <th>C1l</th>\n    </tr>\n  </thead>\n  <tbody>\n    <tr>\n      <th>0</th>\n      <td>NLRTM</td>\n      <td>NLAMS</td>\n      <td>9943</td>\n      <td>0.208790</td>\n      <td>0.353012</td>\n      <td>0.0</td>\n      <td>0.042945</td>\n      <td>0.010258</td>\n      <td>0.132354</td>\n      <td>0.0</td>\n      <td>...</td>\n      <td>0.000503</td>\n      <td>0.000503</td>\n      <td>0.001106</td>\n      <td>0.000704</td>\n      <td>0.003922</td>\n      <td>0.000402</td>\n      <td>0.0</td>\n      <td>0.000000</td>\n      <td>0.000000</td>\n      <td>0.0</td>\n    </tr>\n    <tr>\n      <th>1</th>\n      <td>NLRTM</td>\n      <td>NLMOE</td>\n      <td>2686</td>\n      <td>0.026061</td>\n      <td>0.589724</td>\n      <td>0.0</td>\n      <td>0.020849</td>\n      <td>0.000745</td>\n      <td>0.053611</td>\n      <td>0.0</td>\n      <td>...</td>\n      <td>0.000745</td>\n      <td>0.000000</td>\n      <td>0.000372</td>\n      <td>0.000000</td>\n      <td>0.000372</td>\n      <td>0.000000</td>\n      <td>0.0</td>\n      <td>0.000000</td>\n      <td>0.000000</td>\n      <td>0.0</td>\n    </tr>\n    <tr>\n      <th>2</th>\n      <td>NLRTM</td>\n      <td>NLVLI</td>\n      <td>2153</td>\n      <td>0.088249</td>\n      <td>0.305620</td>\n      <td>0.0</td>\n      <td>0.065026</td>\n      <td>0.004645</td>\n      <td>0.192290</td>\n      <td>0.0</td>\n      <td>...</td>\n      <td>0.000000</td>\n      <td>0.000464</td>\n      <td>0.000929</td>\n      <td>0.000929</td>\n      <td>0.000000</td>\n      <td>0.000000</td>\n      <td>0.0</td>\n      <td>0.000464</td>\n      <td>0.000000</td>\n      <td>0.0</td>\n    </tr>\n    <tr>\n      <th>3</th>\n      <td>NLAMS</td>\n      <td>NLAER</td>\n      <td>2119</td>\n      <td>0.002832</td>\n      <td>0.062294</td>\n      <td>0.0</td>\n      <td>0.003303</td>\n      <td>0.000944</td>\n      <td>0.000000</td>\n      <td>0.0</td>\n      <td>...</td>\n      <td>0.000000</td>\n      <td>0.017461</td>\n      <td>0.002360</td>\n      <td>0.000472</td>\n      <td>0.000000</td>\n      <td>0.001416</td>\n      <td>0.0</td>\n      <td>0.000472</td>\n      <td>0.000472</td>\n      <td>0.0</td>\n    </tr>\n    <tr>\n      <th>5</th>\n      <td>NLVEG</td>\n      <td>NLRTM</td>\n      <td>1484</td>\n      <td>0.000000</td>\n      <td>0.000674</td>\n      <td>0.0</td>\n      <td>0.000000</td>\n      <td>0.000000</td>\n      <td>0.000000</td>\n      <td>0.0</td>\n      <td>...</td>\n      <td>0.000000</td>\n      <td>0.000000</td>\n      <td>0.011456</td>\n      <td>0.000000</td>\n      <td>0.000000</td>\n      <td>0.000000</td>\n      <td>0.0</td>\n      <td>0.000000</td>\n      <td>0.000000</td>\n      <td>0.0</td>\n    </tr>\n    <tr>\n      <th>...</th>\n      <td>...</td>\n      <td>...</td>\n      <td>...</td>\n      <td>...</td>\n      <td>...</td>\n      <td>...</td>\n      <td>...</td>\n      <td>...</td>\n      <td>...</td>\n      <td>...</td>\n      <td>...</td>\n      <td>...</td>\n      <td>...</td>\n      <td>...</td>\n      <td>...</td>\n      <td>...</td>\n      <td>...</td>\n      <td>...</td>\n      <td>...</td>\n      <td>...</td>\n      <td>...</td>\n    </tr>\n    <tr>\n      <th>101</th>\n      <td>NLHTB</td>\n      <td>NLBON</td>\n      <td>324</td>\n      <td>0.000000</td>\n      <td>0.003086</td>\n      <td>0.0</td>\n      <td>0.000000</td>\n      <td>0.000000</td>\n      <td>0.000000</td>\n      <td>0.0</td>\n      <td>...</td>\n      <td>0.000000</td>\n      <td>0.000000</td>\n      <td>0.000000</td>\n      <td>0.000000</td>\n      <td>0.000000</td>\n      <td>0.000000</td>\n      <td>0.0</td>\n      <td>0.000000</td>\n      <td>0.000000</td>\n      <td>0.0</td>\n    </tr>\n    <tr>\n      <th>102</th>\n      <td>NLKGZ</td>\n      <td>NLZAA</td>\n      <td>319</td>\n      <td>0.000000</td>\n      <td>0.000000</td>\n      <td>0.0</td>\n      <td>0.000000</td>\n      <td>0.661442</td>\n      <td>0.000000</td>\n      <td>0.0</td>\n      <td>...</td>\n      <td>0.000000</td>\n      <td>0.015674</td>\n      <td>0.009404</td>\n      <td>0.000000</td>\n      <td>0.000000</td>\n      <td>0.000000</td>\n      <td>0.0</td>\n      <td>0.000000</td>\n      <td>0.000000</td>\n      <td>0.0</td>\n    </tr>\n    <tr>\n      <th>103</th>\n      <td>NLRTM</td>\n      <td>NLLID</td>\n      <td>311</td>\n      <td>0.000000</td>\n      <td>0.000000</td>\n      <td>0.0</td>\n      <td>0.000000</td>\n      <td>0.000000</td>\n      <td>0.000000</td>\n      <td>0.0</td>\n      <td>...</td>\n      <td>0.000000</td>\n      <td>0.000000</td>\n      <td>0.000000</td>\n      <td>0.000000</td>\n      <td>0.000000</td>\n      <td>0.000000</td>\n      <td>0.0</td>\n      <td>0.000000</td>\n      <td>0.000000</td>\n      <td>0.0</td>\n    </tr>\n    <tr>\n      <th>104</th>\n      <td>NLRTM</td>\n      <td>NLSLU</td>\n      <td>310</td>\n      <td>0.009677</td>\n      <td>0.661290</td>\n      <td>0.0</td>\n      <td>0.148387</td>\n      <td>0.000000</td>\n      <td>0.019355</td>\n      <td>0.0</td>\n      <td>...</td>\n      <td>0.000000</td>\n      <td>0.000000</td>\n      <td>0.000000</td>\n      <td>0.003226</td>\n      <td>0.000000</td>\n      <td>0.000000</td>\n      <td>0.0</td>\n      <td>0.000000</td>\n      <td>0.000000</td>\n      <td>0.0</td>\n    </tr>\n    <tr>\n      <th>105</th>\n      <td>NLAMS</td>\n      <td>NLZWI</td>\n      <td>309</td>\n      <td>0.000000</td>\n      <td>0.148867</td>\n      <td>0.0</td>\n      <td>0.009709</td>\n      <td>0.003236</td>\n      <td>0.022654</td>\n      <td>0.0</td>\n      <td>...</td>\n      <td>0.000000</td>\n      <td>0.003236</td>\n      <td>0.000000</td>\n      <td>0.000000</td>\n      <td>0.000000</td>\n      <td>0.000000</td>\n      <td>0.0</td>\n      <td>0.000000</td>\n      <td>0.000000</td>\n      <td>0.0</td>\n    </tr>\n  </tbody>\n</table>\n<p>100 rows × 36 columns</p>\n</div>"
     },
     "execution_count": 34,
     "metadata": {},
     "output_type": "execute_result"
    }
   ],
   "source": [
    "test_100"
   ],
   "metadata": {
    "collapsed": false,
    "pycharm": {
     "name": "#%%\n"
    }
   }
  },
  {
   "cell_type": "code",
   "execution_count": 35,
   "outputs": [],
   "source": [
    "def random_vessel_generator(df_prob):\n",
    "    # create dict to store random prob based values later on\n",
    "    main_dict = {i:[] for i in df_prob.columns}\n",
    "\n",
    "    # loop over all rows of the probability dataframe\n",
    "    for i in range(len(df_prob)):\n",
    "        # copy origin, destination and count from original df\n",
    "        for x in df_prob.columns[:3]:\n",
    "            main_dict[x].append(df_prob.iloc[i,:][x])\n",
    "\n",
    "        # find probability, items to pick, and the number of vessels to generate in total\n",
    "        prob = list(df_prob.iloc[i, 3:].values)\n",
    "        to_pick = list(df_prob.columns)\n",
    "        to_pick = to_pick[3:]\n",
    "        count = df_prob['trip_count'][i]\n",
    "\n",
    "        # generate random vessels\n",
    "        rand_vessels = np.random.choice(a=to_pick, size=count, replace=True, p=prob)\n",
    "        unique, counts = np.unique(rand_vessels, return_counts=True)\n",
    "        temp_dict = dict(zip(unique,counts))\n",
    "\n",
    "        # append amount of random generated vessels right dict list\n",
    "        for key in list(main_dict.keys())[3:]:\n",
    "            if key in temp_dict.keys():\n",
    "                main_dict[key].append(temp_dict[key])\n",
    "            else:\n",
    "                main_dict[key].append(0)\n",
    "\n",
    "        # now make dict\n",
    "        df_return = pd.DataFrame.from_dict(main_dict)\n",
    "\n",
    "    return df_return"
   ],
   "metadata": {
    "collapsed": false,
    "pycharm": {
     "name": "#%%\n"
    }
   }
  },
  {
   "cell_type": "code",
   "execution_count": 36,
   "outputs": [
    {
     "ename": "KeyError",
     "evalue": "4",
     "output_type": "error",
     "traceback": [
      "\u001B[1;31m---------------------------------------------------------------------------\u001B[0m",
      "\u001B[1;31mKeyError\u001B[0m                                  Traceback (most recent call last)",
      "File \u001B[1;32m~\\Anaconda3\\envs\\ox\\lib\\site-packages\\pandas\\core\\indexes\\base.py:3621\u001B[0m, in \u001B[0;36mIndex.get_loc\u001B[1;34m(self, key, method, tolerance)\u001B[0m\n\u001B[0;32m   3620\u001B[0m \u001B[38;5;28;01mtry\u001B[39;00m:\n\u001B[1;32m-> 3621\u001B[0m     \u001B[38;5;28;01mreturn\u001B[39;00m \u001B[38;5;28;43mself\u001B[39;49m\u001B[38;5;241;43m.\u001B[39;49m\u001B[43m_engine\u001B[49m\u001B[38;5;241;43m.\u001B[39;49m\u001B[43mget_loc\u001B[49m\u001B[43m(\u001B[49m\u001B[43mcasted_key\u001B[49m\u001B[43m)\u001B[49m\n\u001B[0;32m   3622\u001B[0m \u001B[38;5;28;01mexcept\u001B[39;00m \u001B[38;5;167;01mKeyError\u001B[39;00m \u001B[38;5;28;01mas\u001B[39;00m err:\n",
      "File \u001B[1;32m~\\Anaconda3\\envs\\ox\\lib\\site-packages\\pandas\\_libs\\index.pyx:136\u001B[0m, in \u001B[0;36mpandas._libs.index.IndexEngine.get_loc\u001B[1;34m()\u001B[0m\n",
      "File \u001B[1;32m~\\Anaconda3\\envs\\ox\\lib\\site-packages\\pandas\\_libs\\index.pyx:163\u001B[0m, in \u001B[0;36mpandas._libs.index.IndexEngine.get_loc\u001B[1;34m()\u001B[0m\n",
      "File \u001B[1;32mpandas\\_libs\\hashtable_class_helper.pxi:2131\u001B[0m, in \u001B[0;36mpandas._libs.hashtable.Int64HashTable.get_item\u001B[1;34m()\u001B[0m\n",
      "File \u001B[1;32mpandas\\_libs\\hashtable_class_helper.pxi:2140\u001B[0m, in \u001B[0;36mpandas._libs.hashtable.Int64HashTable.get_item\u001B[1;34m()\u001B[0m\n",
      "\u001B[1;31mKeyError\u001B[0m: 4",
      "\nThe above exception was the direct cause of the following exception:\n",
      "\u001B[1;31mKeyError\u001B[0m                                  Traceback (most recent call last)",
      "File \u001B[1;32m<timed exec>:1\u001B[0m, in \u001B[0;36m<module>\u001B[1;34m\u001B[0m\n",
      "Input \u001B[1;32mIn [35]\u001B[0m, in \u001B[0;36mrandom_vessel_generator\u001B[1;34m(df_prob)\u001B[0m\n\u001B[0;32m     13\u001B[0m to_pick \u001B[38;5;241m=\u001B[39m \u001B[38;5;28mlist\u001B[39m(df_prob\u001B[38;5;241m.\u001B[39mcolumns)\n\u001B[0;32m     14\u001B[0m to_pick \u001B[38;5;241m=\u001B[39m to_pick[\u001B[38;5;241m3\u001B[39m:]\n\u001B[1;32m---> 15\u001B[0m count \u001B[38;5;241m=\u001B[39m \u001B[43mdf_prob\u001B[49m\u001B[43m[\u001B[49m\u001B[38;5;124;43m'\u001B[39;49m\u001B[38;5;124;43mtrip_count\u001B[39;49m\u001B[38;5;124;43m'\u001B[39;49m\u001B[43m]\u001B[49m\u001B[43m[\u001B[49m\u001B[43mi\u001B[49m\u001B[43m]\u001B[49m\n\u001B[0;32m     17\u001B[0m \u001B[38;5;66;03m# generate random vessels\u001B[39;00m\n\u001B[0;32m     18\u001B[0m rand_vessels \u001B[38;5;241m=\u001B[39m np\u001B[38;5;241m.\u001B[39mrandom\u001B[38;5;241m.\u001B[39mchoice(a\u001B[38;5;241m=\u001B[39mto_pick, size\u001B[38;5;241m=\u001B[39mcount, replace\u001B[38;5;241m=\u001B[39m\u001B[38;5;28;01mTrue\u001B[39;00m, p\u001B[38;5;241m=\u001B[39mprob)\n",
      "File \u001B[1;32m~\\Anaconda3\\envs\\ox\\lib\\site-packages\\pandas\\core\\series.py:958\u001B[0m, in \u001B[0;36mSeries.__getitem__\u001B[1;34m(self, key)\u001B[0m\n\u001B[0;32m    955\u001B[0m     \u001B[38;5;28;01mreturn\u001B[39;00m \u001B[38;5;28mself\u001B[39m\u001B[38;5;241m.\u001B[39m_values[key]\n\u001B[0;32m    957\u001B[0m \u001B[38;5;28;01melif\u001B[39;00m key_is_scalar:\n\u001B[1;32m--> 958\u001B[0m     \u001B[38;5;28;01mreturn\u001B[39;00m \u001B[38;5;28;43mself\u001B[39;49m\u001B[38;5;241;43m.\u001B[39;49m\u001B[43m_get_value\u001B[49m\u001B[43m(\u001B[49m\u001B[43mkey\u001B[49m\u001B[43m)\u001B[49m\n\u001B[0;32m    960\u001B[0m \u001B[38;5;28;01mif\u001B[39;00m is_hashable(key):\n\u001B[0;32m    961\u001B[0m     \u001B[38;5;66;03m# Otherwise index.get_value will raise InvalidIndexError\u001B[39;00m\n\u001B[0;32m    962\u001B[0m     \u001B[38;5;28;01mtry\u001B[39;00m:\n\u001B[0;32m    963\u001B[0m         \u001B[38;5;66;03m# For labels that don't resolve as scalars like tuples and frozensets\u001B[39;00m\n",
      "File \u001B[1;32m~\\Anaconda3\\envs\\ox\\lib\\site-packages\\pandas\\core\\series.py:1069\u001B[0m, in \u001B[0;36mSeries._get_value\u001B[1;34m(self, label, takeable)\u001B[0m\n\u001B[0;32m   1066\u001B[0m     \u001B[38;5;28;01mreturn\u001B[39;00m \u001B[38;5;28mself\u001B[39m\u001B[38;5;241m.\u001B[39m_values[label]\n\u001B[0;32m   1068\u001B[0m \u001B[38;5;66;03m# Similar to Index.get_value, but we do not fall back to positional\u001B[39;00m\n\u001B[1;32m-> 1069\u001B[0m loc \u001B[38;5;241m=\u001B[39m \u001B[38;5;28;43mself\u001B[39;49m\u001B[38;5;241;43m.\u001B[39;49m\u001B[43mindex\u001B[49m\u001B[38;5;241;43m.\u001B[39;49m\u001B[43mget_loc\u001B[49m\u001B[43m(\u001B[49m\u001B[43mlabel\u001B[49m\u001B[43m)\u001B[49m\n\u001B[0;32m   1070\u001B[0m \u001B[38;5;28;01mreturn\u001B[39;00m \u001B[38;5;28mself\u001B[39m\u001B[38;5;241m.\u001B[39mindex\u001B[38;5;241m.\u001B[39m_get_values_for_loc(\u001B[38;5;28mself\u001B[39m, loc, label)\n",
      "File \u001B[1;32m~\\Anaconda3\\envs\\ox\\lib\\site-packages\\pandas\\core\\indexes\\base.py:3623\u001B[0m, in \u001B[0;36mIndex.get_loc\u001B[1;34m(self, key, method, tolerance)\u001B[0m\n\u001B[0;32m   3621\u001B[0m     \u001B[38;5;28;01mreturn\u001B[39;00m \u001B[38;5;28mself\u001B[39m\u001B[38;5;241m.\u001B[39m_engine\u001B[38;5;241m.\u001B[39mget_loc(casted_key)\n\u001B[0;32m   3622\u001B[0m \u001B[38;5;28;01mexcept\u001B[39;00m \u001B[38;5;167;01mKeyError\u001B[39;00m \u001B[38;5;28;01mas\u001B[39;00m err:\n\u001B[1;32m-> 3623\u001B[0m     \u001B[38;5;28;01mraise\u001B[39;00m \u001B[38;5;167;01mKeyError\u001B[39;00m(key) \u001B[38;5;28;01mfrom\u001B[39;00m \u001B[38;5;21;01merr\u001B[39;00m\n\u001B[0;32m   3624\u001B[0m \u001B[38;5;28;01mexcept\u001B[39;00m \u001B[38;5;167;01mTypeError\u001B[39;00m:\n\u001B[0;32m   3625\u001B[0m     \u001B[38;5;66;03m# If we have a listlike key, _check_indexing_error will raise\u001B[39;00m\n\u001B[0;32m   3626\u001B[0m     \u001B[38;5;66;03m#  InvalidIndexError. Otherwise we fall through and re-raise\u001B[39;00m\n\u001B[0;32m   3627\u001B[0m     \u001B[38;5;66;03m#  the TypeError.\u001B[39;00m\n\u001B[0;32m   3628\u001B[0m     \u001B[38;5;28mself\u001B[39m\u001B[38;5;241m.\u001B[39m_check_indexing_error(key)\n",
      "\u001B[1;31mKeyError\u001B[0m: 4"
     ]
    }
   ],
   "source": [
    "import time\n",
    "%time vs = random_vessel_generator(test_100)"
   ],
   "metadata": {
    "collapsed": false,
    "pycharm": {
     "name": "#%%\n"
    }
   }
  },
  {
   "cell_type": "markdown",
   "source": [
    "## Now translate random vessels fuel consumption value for each path\n",
    "Idea: take 1 vessel as a basis, and assume that fuel consumption is linearly correlated with average engine power, to be able to use index\n",
    "Capacity is likely x vessels per day of a certain type for a charging unit, depending on the charging time.\n",
    "Hence, computing the average amount of that type of vehicles that comes by everyday makes sense."
   ],
   "metadata": {
    "collapsed": false,
    "pycharm": {
     "name": "#%% md\n"
    }
   }
  },
  {
   "cell_type": "code",
   "execution_count": 37,
   "outputs": [
    {
     "ename": "KeyError",
     "evalue": "4",
     "output_type": "error",
     "traceback": [
      "\u001B[1;31m---------------------------------------------------------------------------\u001B[0m",
      "\u001B[1;31mKeyError\u001B[0m                                  Traceback (most recent call last)",
      "File \u001B[1;32m~\\Anaconda3\\envs\\ox\\lib\\site-packages\\pandas\\core\\indexes\\base.py:3621\u001B[0m, in \u001B[0;36mIndex.get_loc\u001B[1;34m(self, key, method, tolerance)\u001B[0m\n\u001B[0;32m   3620\u001B[0m \u001B[38;5;28;01mtry\u001B[39;00m:\n\u001B[1;32m-> 3621\u001B[0m     \u001B[38;5;28;01mreturn\u001B[39;00m \u001B[38;5;28;43mself\u001B[39;49m\u001B[38;5;241;43m.\u001B[39;49m\u001B[43m_engine\u001B[49m\u001B[38;5;241;43m.\u001B[39;49m\u001B[43mget_loc\u001B[49m\u001B[43m(\u001B[49m\u001B[43mcasted_key\u001B[49m\u001B[43m)\u001B[49m\n\u001B[0;32m   3622\u001B[0m \u001B[38;5;28;01mexcept\u001B[39;00m \u001B[38;5;167;01mKeyError\u001B[39;00m \u001B[38;5;28;01mas\u001B[39;00m err:\n",
      "File \u001B[1;32m~\\Anaconda3\\envs\\ox\\lib\\site-packages\\pandas\\_libs\\index.pyx:136\u001B[0m, in \u001B[0;36mpandas._libs.index.IndexEngine.get_loc\u001B[1;34m()\u001B[0m\n",
      "File \u001B[1;32m~\\Anaconda3\\envs\\ox\\lib\\site-packages\\pandas\\_libs\\index.pyx:163\u001B[0m, in \u001B[0;36mpandas._libs.index.IndexEngine.get_loc\u001B[1;34m()\u001B[0m\n",
      "File \u001B[1;32mpandas\\_libs\\hashtable_class_helper.pxi:2131\u001B[0m, in \u001B[0;36mpandas._libs.hashtable.Int64HashTable.get_item\u001B[1;34m()\u001B[0m\n",
      "File \u001B[1;32mpandas\\_libs\\hashtable_class_helper.pxi:2140\u001B[0m, in \u001B[0;36mpandas._libs.hashtable.Int64HashTable.get_item\u001B[1;34m()\u001B[0m\n",
      "\u001B[1;31mKeyError\u001B[0m: 4",
      "\nThe above exception was the direct cause of the following exception:\n",
      "\u001B[1;31mKeyError\u001B[0m                                  Traceback (most recent call last)",
      "Input \u001B[1;32mIn [37]\u001B[0m, in \u001B[0;36m<cell line: 2>\u001B[1;34m()\u001B[0m\n\u001B[0;32m      1\u001B[0m \u001B[38;5;66;03m# generate a random set to calculate path values with\u001B[39;00m\n\u001B[1;32m----> 2\u001B[0m df_gen_vessels \u001B[38;5;241m=\u001B[39m \u001B[43mrandom_vessel_generator\u001B[49m\u001B[43m(\u001B[49m\u001B[43mtest_100\u001B[49m\u001B[43m)\u001B[49m\n",
      "Input \u001B[1;32mIn [35]\u001B[0m, in \u001B[0;36mrandom_vessel_generator\u001B[1;34m(df_prob)\u001B[0m\n\u001B[0;32m     13\u001B[0m to_pick \u001B[38;5;241m=\u001B[39m \u001B[38;5;28mlist\u001B[39m(df_prob\u001B[38;5;241m.\u001B[39mcolumns)\n\u001B[0;32m     14\u001B[0m to_pick \u001B[38;5;241m=\u001B[39m to_pick[\u001B[38;5;241m3\u001B[39m:]\n\u001B[1;32m---> 15\u001B[0m count \u001B[38;5;241m=\u001B[39m \u001B[43mdf_prob\u001B[49m\u001B[43m[\u001B[49m\u001B[38;5;124;43m'\u001B[39;49m\u001B[38;5;124;43mtrip_count\u001B[39;49m\u001B[38;5;124;43m'\u001B[39;49m\u001B[43m]\u001B[49m\u001B[43m[\u001B[49m\u001B[43mi\u001B[49m\u001B[43m]\u001B[49m\n\u001B[0;32m     17\u001B[0m \u001B[38;5;66;03m# generate random vessels\u001B[39;00m\n\u001B[0;32m     18\u001B[0m rand_vessels \u001B[38;5;241m=\u001B[39m np\u001B[38;5;241m.\u001B[39mrandom\u001B[38;5;241m.\u001B[39mchoice(a\u001B[38;5;241m=\u001B[39mto_pick, size\u001B[38;5;241m=\u001B[39mcount, replace\u001B[38;5;241m=\u001B[39m\u001B[38;5;28;01mTrue\u001B[39;00m, p\u001B[38;5;241m=\u001B[39mprob)\n",
      "File \u001B[1;32m~\\Anaconda3\\envs\\ox\\lib\\site-packages\\pandas\\core\\series.py:958\u001B[0m, in \u001B[0;36mSeries.__getitem__\u001B[1;34m(self, key)\u001B[0m\n\u001B[0;32m    955\u001B[0m     \u001B[38;5;28;01mreturn\u001B[39;00m \u001B[38;5;28mself\u001B[39m\u001B[38;5;241m.\u001B[39m_values[key]\n\u001B[0;32m    957\u001B[0m \u001B[38;5;28;01melif\u001B[39;00m key_is_scalar:\n\u001B[1;32m--> 958\u001B[0m     \u001B[38;5;28;01mreturn\u001B[39;00m \u001B[38;5;28;43mself\u001B[39;49m\u001B[38;5;241;43m.\u001B[39;49m\u001B[43m_get_value\u001B[49m\u001B[43m(\u001B[49m\u001B[43mkey\u001B[49m\u001B[43m)\u001B[49m\n\u001B[0;32m    960\u001B[0m \u001B[38;5;28;01mif\u001B[39;00m is_hashable(key):\n\u001B[0;32m    961\u001B[0m     \u001B[38;5;66;03m# Otherwise index.get_value will raise InvalidIndexError\u001B[39;00m\n\u001B[0;32m    962\u001B[0m     \u001B[38;5;28;01mtry\u001B[39;00m:\n\u001B[0;32m    963\u001B[0m         \u001B[38;5;66;03m# For labels that don't resolve as scalars like tuples and frozensets\u001B[39;00m\n",
      "File \u001B[1;32m~\\Anaconda3\\envs\\ox\\lib\\site-packages\\pandas\\core\\series.py:1069\u001B[0m, in \u001B[0;36mSeries._get_value\u001B[1;34m(self, label, takeable)\u001B[0m\n\u001B[0;32m   1066\u001B[0m     \u001B[38;5;28;01mreturn\u001B[39;00m \u001B[38;5;28mself\u001B[39m\u001B[38;5;241m.\u001B[39m_values[label]\n\u001B[0;32m   1068\u001B[0m \u001B[38;5;66;03m# Similar to Index.get_value, but we do not fall back to positional\u001B[39;00m\n\u001B[1;32m-> 1069\u001B[0m loc \u001B[38;5;241m=\u001B[39m \u001B[38;5;28;43mself\u001B[39;49m\u001B[38;5;241;43m.\u001B[39;49m\u001B[43mindex\u001B[49m\u001B[38;5;241;43m.\u001B[39;49m\u001B[43mget_loc\u001B[49m\u001B[43m(\u001B[49m\u001B[43mlabel\u001B[49m\u001B[43m)\u001B[49m\n\u001B[0;32m   1070\u001B[0m \u001B[38;5;28;01mreturn\u001B[39;00m \u001B[38;5;28mself\u001B[39m\u001B[38;5;241m.\u001B[39mindex\u001B[38;5;241m.\u001B[39m_get_values_for_loc(\u001B[38;5;28mself\u001B[39m, loc, label)\n",
      "File \u001B[1;32m~\\Anaconda3\\envs\\ox\\lib\\site-packages\\pandas\\core\\indexes\\base.py:3623\u001B[0m, in \u001B[0;36mIndex.get_loc\u001B[1;34m(self, key, method, tolerance)\u001B[0m\n\u001B[0;32m   3621\u001B[0m     \u001B[38;5;28;01mreturn\u001B[39;00m \u001B[38;5;28mself\u001B[39m\u001B[38;5;241m.\u001B[39m_engine\u001B[38;5;241m.\u001B[39mget_loc(casted_key)\n\u001B[0;32m   3622\u001B[0m \u001B[38;5;28;01mexcept\u001B[39;00m \u001B[38;5;167;01mKeyError\u001B[39;00m \u001B[38;5;28;01mas\u001B[39;00m err:\n\u001B[1;32m-> 3623\u001B[0m     \u001B[38;5;28;01mraise\u001B[39;00m \u001B[38;5;167;01mKeyError\u001B[39;00m(key) \u001B[38;5;28;01mfrom\u001B[39;00m \u001B[38;5;21;01merr\u001B[39;00m\n\u001B[0;32m   3624\u001B[0m \u001B[38;5;28;01mexcept\u001B[39;00m \u001B[38;5;167;01mTypeError\u001B[39;00m:\n\u001B[0;32m   3625\u001B[0m     \u001B[38;5;66;03m# If we have a listlike key, _check_indexing_error will raise\u001B[39;00m\n\u001B[0;32m   3626\u001B[0m     \u001B[38;5;66;03m#  InvalidIndexError. Otherwise we fall through and re-raise\u001B[39;00m\n\u001B[0;32m   3627\u001B[0m     \u001B[38;5;66;03m#  the TypeError.\u001B[39;00m\n\u001B[0;32m   3628\u001B[0m     \u001B[38;5;28mself\u001B[39m\u001B[38;5;241m.\u001B[39m_check_indexing_error(key)\n",
      "\u001B[1;31mKeyError\u001B[0m: 4"
     ]
    }
   ],
   "source": [
    "# generate a random set to calculate path values with\n",
    "df_gen_vessels = random_vessel_generator(test_100)"
   ],
   "metadata": {
    "collapsed": false,
    "pycharm": {
     "name": "#%%\n"
    }
   }
  },
  {
   "cell_type": "code",
   "execution_count": null,
   "outputs": [],
   "source": [
    "ship_data = pd.read_excel('data/ship_types.xlsx')\n",
    "ship_data.fillna(0, inplace=True)"
   ],
   "metadata": {
    "collapsed": false,
    "pycharm": {
     "name": "#%%\n"
    }
   }
  },
  {
   "cell_type": "code",
   "execution_count": null,
   "outputs": [],
   "source": [
    "ship_data.loc[:,['RWS-class', 'Factor']]"
   ],
   "metadata": {
    "collapsed": false,
    "pycharm": {
     "name": "#%%\n"
    }
   }
  },
  {
   "cell_type": "code",
   "execution_count": null,
   "outputs": [],
   "source": [
    "df_gen_vessels"
   ],
   "metadata": {
    "collapsed": false,
    "pycharm": {
     "name": "#%%\n"
    }
   }
  },
  {
   "cell_type": "code",
   "execution_count": null,
   "outputs": [],
   "source": [
    "ship_data = dict(zip(ship_data['RWS-class'],ship_data['Factor']))"
   ],
   "metadata": {
    "collapsed": false,
    "pycharm": {
     "name": "#%%\n"
    }
   }
  },
  {
   "cell_type": "code",
   "execution_count": null,
   "outputs": [],
   "source": [
    "def flow_computation(df):\n",
    "    # create dict to store path based values\n",
    "    flows = {}\n",
    "    # loop over data frame\n",
    "    for i in range(len(df)-1):\n",
    "        # subset all data ship type data\n",
    "        a = df.iloc[:,3:]\n",
    "        # flow is initially 0\n",
    "        flow = 0\n",
    "        #add number of ships times specific ship type weighing factor\n",
    "        for row in a.columns:\n",
    "            flow += ship_data[row] * a[row][i]\n",
    "        # store flow, divide by 365 to get daily flow\n",
    "        flows[(df.origin[i],df.destination[i])]= (flow/365)\n",
    "    return flows"
   ],
   "metadata": {
    "collapsed": false,
    "pycharm": {
     "name": "#%%\n"
    }
   }
  },
  {
   "cell_type": "code",
   "execution_count": null,
   "outputs": [],
   "source": [
    "flows = flow_computation(df_gen_vessels)"
   ],
   "metadata": {
    "collapsed": false,
    "pycharm": {
     "name": "#%%\n"
    }
   }
  },
  {
   "cell_type": "code",
   "execution_count": null,
   "outputs": [],
   "source": [
    "flows"
   ],
   "metadata": {
    "collapsed": false,
    "pycharm": {
     "name": "#%%\n"
    }
   }
  },
  {
   "cell_type": "code",
   "execution_count": null,
   "outputs": [],
   "source": [
    "#sort flows from large to small\n",
    "flows = dict(sorted(flows.items(), key=lambda item: item[1], reverse=True))"
   ],
   "metadata": {
    "collapsed": false,
    "pycharm": {
     "name": "#%%\n"
    }
   }
  },
  {
   "cell_type": "code",
   "execution_count": null,
   "outputs": [],
   "source": [
    "flows"
   ],
   "metadata": {
    "collapsed": false,
    "pycharm": {
     "name": "#%%\n"
    }
   }
  },
  {
   "cell_type": "markdown",
   "source": [
    "## Get and clean harbour data NL, Ger and Bel"
   ],
   "metadata": {
    "collapsed": false,
    "pycharm": {
     "name": "#%% md\n"
    }
   }
  },
  {
   "cell_type": "code",
   "execution_count": 38,
   "outputs": [
    {
     "data": {
      "text/plain": "        0   1    2                   3                   4    5         6   \\\n0      NaN  AD  NaN            .ANDORRA                 NaN  NaN       NaN   \n1      NaN  AD  ALV    Andorra la Vella    Andorra la Vella  NaN  --34-6--   \n2      NaN  AD  CAN             Canillo             Canillo  NaN  --3-----   \n3      NaN  AD  ENC              Encamp              Encamp  NaN  --3-----   \n4      NaN  AD  ESC  Escaldes-Engordany  Escaldes-Engordany  NaN  --3-----   \n...    ...  ..  ...                 ...                 ...  ...       ...   \n54611  NaN  FR  ZTG             Zetting             Zetting   57  --3-----   \n54612  NaN  FR  ZL2               Zilia               Zilia   2B  -----6--   \n54613  NaN  FR  ZWL          Zinswiller          Zinswiller   67  --3-----   \n54614  NaN  FR  PCZ              Zoteux              Zoteux   62  -----6--   \n54615  NaN  FR  559           Zuytpeene           Zuytpeene   59  --3-----   \n\n        7       8    9             10   11  \n0      NaN     NaN  NaN           NaN  NaN  \n1       AI   601.0  NaN  4230N 00131E  NaN  \n2       RL   307.0  NaN  4234N 00135E  NaN  \n3       RL   307.0  NaN  4232N 00134E  NaN  \n4       RL   307.0  NaN  4231N 00133E  NaN  \n...    ...     ...  ...           ...  ...  \n54611   RL  1901.0  NaN  4905N 00708E  NaN  \n54612   RL  1901.0  NaN  4231N 00854E  NaN  \n54613   RL  1901.0  NaN  4855N 00735E  NaN  \n54614   RL  1001.0  NaN  5037N 00153E  NaN  \n54615   RL  1607.0  NaN  5048N 00226E  NaN  \n\n[54616 rows x 12 columns]",
      "text/html": "<div>\n<style scoped>\n    .dataframe tbody tr th:only-of-type {\n        vertical-align: middle;\n    }\n\n    .dataframe tbody tr th {\n        vertical-align: top;\n    }\n\n    .dataframe thead th {\n        text-align: right;\n    }\n</style>\n<table border=\"1\" class=\"dataframe\">\n  <thead>\n    <tr style=\"text-align: right;\">\n      <th></th>\n      <th>0</th>\n      <th>1</th>\n      <th>2</th>\n      <th>3</th>\n      <th>4</th>\n      <th>5</th>\n      <th>6</th>\n      <th>7</th>\n      <th>8</th>\n      <th>9</th>\n      <th>10</th>\n      <th>11</th>\n    </tr>\n  </thead>\n  <tbody>\n    <tr>\n      <th>0</th>\n      <td>NaN</td>\n      <td>AD</td>\n      <td>NaN</td>\n      <td>.ANDORRA</td>\n      <td>NaN</td>\n      <td>NaN</td>\n      <td>NaN</td>\n      <td>NaN</td>\n      <td>NaN</td>\n      <td>NaN</td>\n      <td>NaN</td>\n      <td>NaN</td>\n    </tr>\n    <tr>\n      <th>1</th>\n      <td>NaN</td>\n      <td>AD</td>\n      <td>ALV</td>\n      <td>Andorra la Vella</td>\n      <td>Andorra la Vella</td>\n      <td>NaN</td>\n      <td>--34-6--</td>\n      <td>AI</td>\n      <td>601.0</td>\n      <td>NaN</td>\n      <td>4230N 00131E</td>\n      <td>NaN</td>\n    </tr>\n    <tr>\n      <th>2</th>\n      <td>NaN</td>\n      <td>AD</td>\n      <td>CAN</td>\n      <td>Canillo</td>\n      <td>Canillo</td>\n      <td>NaN</td>\n      <td>--3-----</td>\n      <td>RL</td>\n      <td>307.0</td>\n      <td>NaN</td>\n      <td>4234N 00135E</td>\n      <td>NaN</td>\n    </tr>\n    <tr>\n      <th>3</th>\n      <td>NaN</td>\n      <td>AD</td>\n      <td>ENC</td>\n      <td>Encamp</td>\n      <td>Encamp</td>\n      <td>NaN</td>\n      <td>--3-----</td>\n      <td>RL</td>\n      <td>307.0</td>\n      <td>NaN</td>\n      <td>4232N 00134E</td>\n      <td>NaN</td>\n    </tr>\n    <tr>\n      <th>4</th>\n      <td>NaN</td>\n      <td>AD</td>\n      <td>ESC</td>\n      <td>Escaldes-Engordany</td>\n      <td>Escaldes-Engordany</td>\n      <td>NaN</td>\n      <td>--3-----</td>\n      <td>RL</td>\n      <td>307.0</td>\n      <td>NaN</td>\n      <td>4231N 00133E</td>\n      <td>NaN</td>\n    </tr>\n    <tr>\n      <th>...</th>\n      <td>...</td>\n      <td>...</td>\n      <td>...</td>\n      <td>...</td>\n      <td>...</td>\n      <td>...</td>\n      <td>...</td>\n      <td>...</td>\n      <td>...</td>\n      <td>...</td>\n      <td>...</td>\n      <td>...</td>\n    </tr>\n    <tr>\n      <th>54611</th>\n      <td>NaN</td>\n      <td>FR</td>\n      <td>ZTG</td>\n      <td>Zetting</td>\n      <td>Zetting</td>\n      <td>57</td>\n      <td>--3-----</td>\n      <td>RL</td>\n      <td>1901.0</td>\n      <td>NaN</td>\n      <td>4905N 00708E</td>\n      <td>NaN</td>\n    </tr>\n    <tr>\n      <th>54612</th>\n      <td>NaN</td>\n      <td>FR</td>\n      <td>ZL2</td>\n      <td>Zilia</td>\n      <td>Zilia</td>\n      <td>2B</td>\n      <td>-----6--</td>\n      <td>RL</td>\n      <td>1901.0</td>\n      <td>NaN</td>\n      <td>4231N 00854E</td>\n      <td>NaN</td>\n    </tr>\n    <tr>\n      <th>54613</th>\n      <td>NaN</td>\n      <td>FR</td>\n      <td>ZWL</td>\n      <td>Zinswiller</td>\n      <td>Zinswiller</td>\n      <td>67</td>\n      <td>--3-----</td>\n      <td>RL</td>\n      <td>1901.0</td>\n      <td>NaN</td>\n      <td>4855N 00735E</td>\n      <td>NaN</td>\n    </tr>\n    <tr>\n      <th>54614</th>\n      <td>NaN</td>\n      <td>FR</td>\n      <td>PCZ</td>\n      <td>Zoteux</td>\n      <td>Zoteux</td>\n      <td>62</td>\n      <td>-----6--</td>\n      <td>RL</td>\n      <td>1001.0</td>\n      <td>NaN</td>\n      <td>5037N 00153E</td>\n      <td>NaN</td>\n    </tr>\n    <tr>\n      <th>54615</th>\n      <td>NaN</td>\n      <td>FR</td>\n      <td>559</td>\n      <td>Zuytpeene</td>\n      <td>Zuytpeene</td>\n      <td>59</td>\n      <td>--3-----</td>\n      <td>RL</td>\n      <td>1607.0</td>\n      <td>NaN</td>\n      <td>5048N 00226E</td>\n      <td>NaN</td>\n    </tr>\n  </tbody>\n</table>\n<p>54616 rows × 12 columns</p>\n</div>"
     },
     "execution_count": 38,
     "metadata": {},
     "output_type": "execute_result"
    }
   ],
   "source": [
    "# now get coordinates harbours, in three files, check encoding frist below\n",
    "pd.read_csv('data/harbour_codes_coords/2021-2 UNLOCODE CodeListPart1.csv', encoding=\"ISO-8859-1\", header=None, sep=\",\",\n",
    "            index_col=None)"
   ],
   "metadata": {
    "collapsed": false,
    "pycharm": {
     "name": "#%%\n"
    }
   }
  },
  {
   "cell_type": "code",
   "execution_count": 39,
   "outputs": [],
   "source": [
    "# now identify all files to combine\n",
    "from os import walk\n",
    "\n",
    "f = []\n",
    "for (dirpath, dirnames, filenames) in walk('data/harbour_codes_coords'):\n",
    "    f.extend(filenames)\n",
    "    break"
   ],
   "metadata": {
    "collapsed": false,
    "pycharm": {
     "name": "#%%\n"
    }
   }
  },
  {
   "cell_type": "code",
   "execution_count": 40,
   "outputs": [
    {
     "name": "stdout",
     "output_type": "stream",
     "text": [
      "2021-2 UNLOCODE CodeListPart1.csv handled\n",
      "2021-2 UNLOCODE CodeListPart2.csv handled\n",
      "2021-2 UNLOCODE CodeListPart3.csv handled\n"
     ]
    }
   ],
   "source": [
    "\n",
    "#empty list to store data\n",
    "li = []\n",
    "\n",
    "#read everything in as object for now\n",
    "for filename in f:\n",
    "    df = pd.read_csv(\"data/harbour_codes_coords/\" + str(filename), sep=',', index_col=None, header=None,\n",
    "                     encoding=\"ISO-8859-1\")\n",
    "    print(filename, 'handled')\n",
    "    li.append(df)"
   ],
   "metadata": {
    "collapsed": false,
    "pycharm": {
     "name": "#%%\n"
    }
   }
  },
  {
   "cell_type": "code",
   "execution_count": 41,
   "outputs": [],
   "source": [
    "#create df\n",
    "df_harbour_codes = pd.concat(li, axis=0, ignore_index=True)\n",
    "df_benelux=df_harbour_codes.copy()\n",
    "#subset Dutch harbours\n",
    "# df_benelux = df_harbour_codes.loc[(df_harbour_codes[1] == 'NL')]\n",
    "\n",
    "# uncomment below to loc benelux, for now only use NL because of scope\n",
    "# df_benelux = df_harbour_codes.loc[\n",
    "#     (df_harbour_codes[1] == 'NL') | (df_harbour_codes[1] == 'DE') | (df_harbour_codes[1] == 'BE') | (\n",
    "#                 df_harbour_codes[1] == 'LU')]"
   ],
   "metadata": {
    "collapsed": false,
    "pycharm": {
     "name": "#%%\n"
    }
   }
  },
  {
   "cell_type": "code",
   "execution_count": 42,
   "outputs": [],
   "source": [
    "#fillna\n",
    "df_benelux.fillna(np.nan, inplace=True)"
   ],
   "metadata": {
    "collapsed": false,
    "pycharm": {
     "name": "#%%\n"
    }
   }
  },
  {
   "cell_type": "code",
   "execution_count": 43,
   "outputs": [],
   "source": [
    "# give appropriate column names\n",
    "df_benelux.rename(columns={0: 'mutation', 1: 'country', 2: 'city_abbr', 3: 'city_full', 4: 'city_full_2', 5: 'subdivision', 6: 'function', 7:'status', 8:'date', 9:'iata_code', 10: 'coords', 11: 'comments'}, inplace=True)"
   ],
   "metadata": {
    "collapsed": false,
    "pycharm": {
     "name": "#%%\n"
    }
   }
  },
  {
   "cell_type": "code",
   "execution_count": 44,
   "outputs": [
    {
     "data": {
      "text/plain": "       mutation country city_abbr           city_full         city_full_2  \\\n0           NaN      AD       NaN            .ANDORRA                 NaN   \n1           NaN      AD       ALV    Andorra la Vella    Andorra la Vella   \n2           NaN      AD       CAN             Canillo             Canillo   \n3           NaN      AD       ENC              Encamp              Encamp   \n4           NaN      AD       ESC  Escaldes-Engordany  Escaldes-Engordany   \n...         ...     ...       ...                 ...                 ...   \n115984      NaN      ZW       STH          Southerton          Southerton   \n115985      NaN      ZW       THJ   Thompson Junction   Thompson Junction   \n115986      NaN      ZW       VFA      Victoria Falls      Victoria Falls   \n115987      NaN      ZW       ZMZ            Zimbabwe            Zimbabwe   \n115988      NaN      ZW       ZVS          Zvishavane          Zvishavane   \n\n       subdivision  function status    date iata_code        coords comments  \n0              NaN       NaN    NaN     NaN       NaN           NaN      NaN  \n1              NaN  --34-6--     AI   601.0       NaN  4230N 00131E      NaN  \n2              NaN  --3-----     RL   307.0       NaN  4234N 00135E      NaN  \n3              NaN  --3-----     RL   307.0       NaN  4232N 00134E      NaN  \n4              NaN  --3-----     RL   307.0       NaN  4231N 00133E      NaN  \n...            ...       ...    ...     ...       ...           ...      ...  \n115984         NaN  --3-----     RL   201.0       NaN  1751S 03101E      NaN  \n115985         NaN  -23-----     RL   701.0       NaN  1800S 02626E      NaN  \n115986         NaN  ---4----     AI  9501.0       NaN           NaN      NaN  \n115987          MV  1-3-----     RL  1401.0       NaN  2016S 03055E      NaN  \n115988          MI  --3-----     RL  1207.0       NaN  2020S 03002E      NaN  \n\n[115989 rows x 12 columns]",
      "text/html": "<div>\n<style scoped>\n    .dataframe tbody tr th:only-of-type {\n        vertical-align: middle;\n    }\n\n    .dataframe tbody tr th {\n        vertical-align: top;\n    }\n\n    .dataframe thead th {\n        text-align: right;\n    }\n</style>\n<table border=\"1\" class=\"dataframe\">\n  <thead>\n    <tr style=\"text-align: right;\">\n      <th></th>\n      <th>mutation</th>\n      <th>country</th>\n      <th>city_abbr</th>\n      <th>city_full</th>\n      <th>city_full_2</th>\n      <th>subdivision</th>\n      <th>function</th>\n      <th>status</th>\n      <th>date</th>\n      <th>iata_code</th>\n      <th>coords</th>\n      <th>comments</th>\n    </tr>\n  </thead>\n  <tbody>\n    <tr>\n      <th>0</th>\n      <td>NaN</td>\n      <td>AD</td>\n      <td>NaN</td>\n      <td>.ANDORRA</td>\n      <td>NaN</td>\n      <td>NaN</td>\n      <td>NaN</td>\n      <td>NaN</td>\n      <td>NaN</td>\n      <td>NaN</td>\n      <td>NaN</td>\n      <td>NaN</td>\n    </tr>\n    <tr>\n      <th>1</th>\n      <td>NaN</td>\n      <td>AD</td>\n      <td>ALV</td>\n      <td>Andorra la Vella</td>\n      <td>Andorra la Vella</td>\n      <td>NaN</td>\n      <td>--34-6--</td>\n      <td>AI</td>\n      <td>601.0</td>\n      <td>NaN</td>\n      <td>4230N 00131E</td>\n      <td>NaN</td>\n    </tr>\n    <tr>\n      <th>2</th>\n      <td>NaN</td>\n      <td>AD</td>\n      <td>CAN</td>\n      <td>Canillo</td>\n      <td>Canillo</td>\n      <td>NaN</td>\n      <td>--3-----</td>\n      <td>RL</td>\n      <td>307.0</td>\n      <td>NaN</td>\n      <td>4234N 00135E</td>\n      <td>NaN</td>\n    </tr>\n    <tr>\n      <th>3</th>\n      <td>NaN</td>\n      <td>AD</td>\n      <td>ENC</td>\n      <td>Encamp</td>\n      <td>Encamp</td>\n      <td>NaN</td>\n      <td>--3-----</td>\n      <td>RL</td>\n      <td>307.0</td>\n      <td>NaN</td>\n      <td>4232N 00134E</td>\n      <td>NaN</td>\n    </tr>\n    <tr>\n      <th>4</th>\n      <td>NaN</td>\n      <td>AD</td>\n      <td>ESC</td>\n      <td>Escaldes-Engordany</td>\n      <td>Escaldes-Engordany</td>\n      <td>NaN</td>\n      <td>--3-----</td>\n      <td>RL</td>\n      <td>307.0</td>\n      <td>NaN</td>\n      <td>4231N 00133E</td>\n      <td>NaN</td>\n    </tr>\n    <tr>\n      <th>...</th>\n      <td>...</td>\n      <td>...</td>\n      <td>...</td>\n      <td>...</td>\n      <td>...</td>\n      <td>...</td>\n      <td>...</td>\n      <td>...</td>\n      <td>...</td>\n      <td>...</td>\n      <td>...</td>\n      <td>...</td>\n    </tr>\n    <tr>\n      <th>115984</th>\n      <td>NaN</td>\n      <td>ZW</td>\n      <td>STH</td>\n      <td>Southerton</td>\n      <td>Southerton</td>\n      <td>NaN</td>\n      <td>--3-----</td>\n      <td>RL</td>\n      <td>201.0</td>\n      <td>NaN</td>\n      <td>1751S 03101E</td>\n      <td>NaN</td>\n    </tr>\n    <tr>\n      <th>115985</th>\n      <td>NaN</td>\n      <td>ZW</td>\n      <td>THJ</td>\n      <td>Thompson Junction</td>\n      <td>Thompson Junction</td>\n      <td>NaN</td>\n      <td>-23-----</td>\n      <td>RL</td>\n      <td>701.0</td>\n      <td>NaN</td>\n      <td>1800S 02626E</td>\n      <td>NaN</td>\n    </tr>\n    <tr>\n      <th>115986</th>\n      <td>NaN</td>\n      <td>ZW</td>\n      <td>VFA</td>\n      <td>Victoria Falls</td>\n      <td>Victoria Falls</td>\n      <td>NaN</td>\n      <td>---4----</td>\n      <td>AI</td>\n      <td>9501.0</td>\n      <td>NaN</td>\n      <td>NaN</td>\n      <td>NaN</td>\n    </tr>\n    <tr>\n      <th>115987</th>\n      <td>NaN</td>\n      <td>ZW</td>\n      <td>ZMZ</td>\n      <td>Zimbabwe</td>\n      <td>Zimbabwe</td>\n      <td>MV</td>\n      <td>1-3-----</td>\n      <td>RL</td>\n      <td>1401.0</td>\n      <td>NaN</td>\n      <td>2016S 03055E</td>\n      <td>NaN</td>\n    </tr>\n    <tr>\n      <th>115988</th>\n      <td>NaN</td>\n      <td>ZW</td>\n      <td>ZVS</td>\n      <td>Zvishavane</td>\n      <td>Zvishavane</td>\n      <td>MI</td>\n      <td>--3-----</td>\n      <td>RL</td>\n      <td>1207.0</td>\n      <td>NaN</td>\n      <td>2020S 03002E</td>\n      <td>NaN</td>\n    </tr>\n  </tbody>\n</table>\n<p>115989 rows × 12 columns</p>\n</div>"
     },
     "execution_count": 44,
     "metadata": {},
     "output_type": "execute_result"
    }
   ],
   "source": [
    "df_benelux"
   ],
   "metadata": {
    "collapsed": false,
    "pycharm": {
     "name": "#%%\n"
    }
   }
  },
  {
   "cell_type": "code",
   "execution_count": 45,
   "outputs": [],
   "source": [
    "# subset relevant columns\n",
    "# df_benelux = df_benelux.loc[:,['country','city_abbr','function', 'coords']]"
   ],
   "metadata": {
    "collapsed": false,
    "pycharm": {
     "name": "#%%\n"
    }
   }
  },
  {
   "cell_type": "code",
   "execution_count": 46,
   "outputs": [],
   "source": [
    "#reset index\n",
    "df_benelux.reset_index(inplace=True,drop=True)"
   ],
   "metadata": {
    "collapsed": false,
    "pycharm": {
     "name": "#%%\n"
    }
   }
  },
  {
   "cell_type": "code",
   "execution_count": 47,
   "outputs": [],
   "source": [
    "# drop rows with nan values for necessary columns\n",
    "# df_benelux.dropna(subset=['country', 'city_abbr', 'coords'], inplace = True)"
   ],
   "metadata": {
    "collapsed": false,
    "pycharm": {
     "name": "#%%\n"
    }
   }
  },
  {
   "cell_type": "code",
   "execution_count": 48,
   "outputs": [],
   "source": [
    "# # convert columns to be normal strings\n",
    "# for i in df_benelux.columns:\n",
    "#     df_benelux[i] = df_benelux[i].astype('|S80')\n",
    "#     df_benelux[i] = df_benelux[i].apply(lambda x: x.decode('utf-8'))"
   ],
   "metadata": {
    "collapsed": false,
    "pycharm": {
     "name": "#%%\n"
    }
   }
  },
  {
   "cell_type": "code",
   "execution_count": 49,
   "outputs": [
    {
     "data": {
      "text/plain": "       mutation country city_abbr           city_full         city_full_2  \\\n0           NaN      AD       NaN            .ANDORRA                 NaN   \n1           NaN      AD       ALV    Andorra la Vella    Andorra la Vella   \n2           NaN      AD       CAN             Canillo             Canillo   \n3           NaN      AD       ENC              Encamp              Encamp   \n4           NaN      AD       ESC  Escaldes-Engordany  Escaldes-Engordany   \n...         ...     ...       ...                 ...                 ...   \n115984      NaN      ZW       STH          Southerton          Southerton   \n115985      NaN      ZW       THJ   Thompson Junction   Thompson Junction   \n115986      NaN      ZW       VFA      Victoria Falls      Victoria Falls   \n115987      NaN      ZW       ZMZ            Zimbabwe            Zimbabwe   \n115988      NaN      ZW       ZVS          Zvishavane          Zvishavane   \n\n       subdivision  function status    date iata_code        coords comments  \n0              NaN       NaN    NaN     NaN       NaN           NaN      NaN  \n1              NaN  --34-6--     AI   601.0       NaN  4230N 00131E      NaN  \n2              NaN  --3-----     RL   307.0       NaN  4234N 00135E      NaN  \n3              NaN  --3-----     RL   307.0       NaN  4232N 00134E      NaN  \n4              NaN  --3-----     RL   307.0       NaN  4231N 00133E      NaN  \n...            ...       ...    ...     ...       ...           ...      ...  \n115984         NaN  --3-----     RL   201.0       NaN  1751S 03101E      NaN  \n115985         NaN  -23-----     RL   701.0       NaN  1800S 02626E      NaN  \n115986         NaN  ---4----     AI  9501.0       NaN           NaN      NaN  \n115987          MV  1-3-----     RL  1401.0       NaN  2016S 03055E      NaN  \n115988          MI  --3-----     RL  1207.0       NaN  2020S 03002E      NaN  \n\n[115989 rows x 12 columns]",
      "text/html": "<div>\n<style scoped>\n    .dataframe tbody tr th:only-of-type {\n        vertical-align: middle;\n    }\n\n    .dataframe tbody tr th {\n        vertical-align: top;\n    }\n\n    .dataframe thead th {\n        text-align: right;\n    }\n</style>\n<table border=\"1\" class=\"dataframe\">\n  <thead>\n    <tr style=\"text-align: right;\">\n      <th></th>\n      <th>mutation</th>\n      <th>country</th>\n      <th>city_abbr</th>\n      <th>city_full</th>\n      <th>city_full_2</th>\n      <th>subdivision</th>\n      <th>function</th>\n      <th>status</th>\n      <th>date</th>\n      <th>iata_code</th>\n      <th>coords</th>\n      <th>comments</th>\n    </tr>\n  </thead>\n  <tbody>\n    <tr>\n      <th>0</th>\n      <td>NaN</td>\n      <td>AD</td>\n      <td>NaN</td>\n      <td>.ANDORRA</td>\n      <td>NaN</td>\n      <td>NaN</td>\n      <td>NaN</td>\n      <td>NaN</td>\n      <td>NaN</td>\n      <td>NaN</td>\n      <td>NaN</td>\n      <td>NaN</td>\n    </tr>\n    <tr>\n      <th>1</th>\n      <td>NaN</td>\n      <td>AD</td>\n      <td>ALV</td>\n      <td>Andorra la Vella</td>\n      <td>Andorra la Vella</td>\n      <td>NaN</td>\n      <td>--34-6--</td>\n      <td>AI</td>\n      <td>601.0</td>\n      <td>NaN</td>\n      <td>4230N 00131E</td>\n      <td>NaN</td>\n    </tr>\n    <tr>\n      <th>2</th>\n      <td>NaN</td>\n      <td>AD</td>\n      <td>CAN</td>\n      <td>Canillo</td>\n      <td>Canillo</td>\n      <td>NaN</td>\n      <td>--3-----</td>\n      <td>RL</td>\n      <td>307.0</td>\n      <td>NaN</td>\n      <td>4234N 00135E</td>\n      <td>NaN</td>\n    </tr>\n    <tr>\n      <th>3</th>\n      <td>NaN</td>\n      <td>AD</td>\n      <td>ENC</td>\n      <td>Encamp</td>\n      <td>Encamp</td>\n      <td>NaN</td>\n      <td>--3-----</td>\n      <td>RL</td>\n      <td>307.0</td>\n      <td>NaN</td>\n      <td>4232N 00134E</td>\n      <td>NaN</td>\n    </tr>\n    <tr>\n      <th>4</th>\n      <td>NaN</td>\n      <td>AD</td>\n      <td>ESC</td>\n      <td>Escaldes-Engordany</td>\n      <td>Escaldes-Engordany</td>\n      <td>NaN</td>\n      <td>--3-----</td>\n      <td>RL</td>\n      <td>307.0</td>\n      <td>NaN</td>\n      <td>4231N 00133E</td>\n      <td>NaN</td>\n    </tr>\n    <tr>\n      <th>...</th>\n      <td>...</td>\n      <td>...</td>\n      <td>...</td>\n      <td>...</td>\n      <td>...</td>\n      <td>...</td>\n      <td>...</td>\n      <td>...</td>\n      <td>...</td>\n      <td>...</td>\n      <td>...</td>\n      <td>...</td>\n    </tr>\n    <tr>\n      <th>115984</th>\n      <td>NaN</td>\n      <td>ZW</td>\n      <td>STH</td>\n      <td>Southerton</td>\n      <td>Southerton</td>\n      <td>NaN</td>\n      <td>--3-----</td>\n      <td>RL</td>\n      <td>201.0</td>\n      <td>NaN</td>\n      <td>1751S 03101E</td>\n      <td>NaN</td>\n    </tr>\n    <tr>\n      <th>115985</th>\n      <td>NaN</td>\n      <td>ZW</td>\n      <td>THJ</td>\n      <td>Thompson Junction</td>\n      <td>Thompson Junction</td>\n      <td>NaN</td>\n      <td>-23-----</td>\n      <td>RL</td>\n      <td>701.0</td>\n      <td>NaN</td>\n      <td>1800S 02626E</td>\n      <td>NaN</td>\n    </tr>\n    <tr>\n      <th>115986</th>\n      <td>NaN</td>\n      <td>ZW</td>\n      <td>VFA</td>\n      <td>Victoria Falls</td>\n      <td>Victoria Falls</td>\n      <td>NaN</td>\n      <td>---4----</td>\n      <td>AI</td>\n      <td>9501.0</td>\n      <td>NaN</td>\n      <td>NaN</td>\n      <td>NaN</td>\n    </tr>\n    <tr>\n      <th>115987</th>\n      <td>NaN</td>\n      <td>ZW</td>\n      <td>ZMZ</td>\n      <td>Zimbabwe</td>\n      <td>Zimbabwe</td>\n      <td>MV</td>\n      <td>1-3-----</td>\n      <td>RL</td>\n      <td>1401.0</td>\n      <td>NaN</td>\n      <td>2016S 03055E</td>\n      <td>NaN</td>\n    </tr>\n    <tr>\n      <th>115988</th>\n      <td>NaN</td>\n      <td>ZW</td>\n      <td>ZVS</td>\n      <td>Zvishavane</td>\n      <td>Zvishavane</td>\n      <td>MI</td>\n      <td>--3-----</td>\n      <td>RL</td>\n      <td>1207.0</td>\n      <td>NaN</td>\n      <td>2020S 03002E</td>\n      <td>NaN</td>\n    </tr>\n  </tbody>\n</table>\n<p>115989 rows × 12 columns</p>\n</div>"
     },
     "execution_count": 49,
     "metadata": {},
     "output_type": "execute_result"
    }
   ],
   "source": [
    "df_benelux.replace('nan', np.nan)"
   ],
   "metadata": {
    "collapsed": false,
    "pycharm": {
     "name": "#%%\n"
    }
   }
  },
  {
   "cell_type": "code",
   "execution_count": 50,
   "outputs": [],
   "source": [
    "df_benelux['harbour_code'] = df_benelux.country+df_benelux.city_abbr"
   ],
   "metadata": {
    "collapsed": false,
    "pycharm": {
     "name": "#%%\n"
    }
   }
  },
  {
   "cell_type": "code",
   "execution_count": 51,
   "outputs": [],
   "source": [
    "df_benelux = df_benelux.loc[:,['country','city_abbr','city_full','function','coords','harbour_code']]"
   ],
   "metadata": {
    "collapsed": false,
    "pycharm": {
     "name": "#%%\n"
    }
   }
  },
  {
   "cell_type": "code",
   "execution_count": 52,
   "outputs": [],
   "source": [
    "# save cleaned data\n",
    "df_benelux.to_csv('data/cleaned_harbours.csv')"
   ],
   "metadata": {
    "collapsed": false,
    "pycharm": {
     "name": "#%%\n"
    }
   }
  }
 ],
 "metadata": {
  "kernelspec": {
   "display_name": "Python 3",
   "language": "python",
   "name": "python3"
  },
  "language_info": {
   "codemirror_mode": {
    "name": "ipython",
    "version": 2
   },
   "file_extension": ".py",
   "mimetype": "text/x-python",
   "name": "python",
   "nbconvert_exporter": "python",
   "pygments_lexer": "ipython2",
   "version": "2.7.6"
  }
 },
 "nbformat": 4,
 "nbformat_minor": 0
}