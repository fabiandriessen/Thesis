{
 "cells": [
  {
   "cell_type": "code",
   "execution_count": 1,
   "metadata": {
    "collapsed": true
   },
   "outputs": [],
   "source": [
    "import pandas as pd\n",
    "from fullfrlm import flow_refueling_location_model\n",
    "import numpy as np\n",
    "import time"
   ]
  },
  {
   "cell_type": "code",
   "execution_count": 2,
   "outputs": [],
   "source": [
    "total_flow, fraction_captured_total, serviceable_fraction, served_fraction, optimal_facilities, non_zero_flows, add_nodes_used = flow_refueling_location_model(70000, 10, 1, additional_nodes=0, n=25)"
   ],
   "metadata": {
    "collapsed": false
   }
  },
  {
   "cell_type": "code",
   "execution_count": null,
   "outputs": [
    {
     "name": "stdout",
     "output_type": "stream",
     "text": [
      "70000 0 10\n",
      "There were 25 nodes added, the longest remaining link is now: 35117.6542642193\n",
      "70000 0 20\n",
      "There were 25 nodes added, the longest remaining link is now: 35117.6542642193\n",
      "70000 0 30\n",
      "There were 25 nodes added, the longest remaining link is now: 35117.6542642193\n",
      "70000 0 40\n",
      "There were 25 nodes added, the longest remaining link is now: 35117.6542642193\n",
      "70000 0 50\n",
      "There were 25 nodes added, the longest remaining link is now: 35117.6542642193\n",
      "70000 0 60\n",
      "There were 25 nodes added, the longest remaining link is now: 35117.6542642193\n",
      "70000 0 70\n",
      "There were 25 nodes added, the longest remaining link is now: 35117.6542642193\n",
      "70000 1 10\n",
      "There were 25 nodes added, the longest remaining link is now: 35117.6542642193\n",
      "70000 1 20\n",
      "There were 25 nodes added, the longest remaining link is now: 35117.6542642193\n",
      "70000 1 30\n",
      "There were 25 nodes added, the longest remaining link is now: 35117.6542642193\n",
      "70000 1 40\n",
      "There were 25 nodes added, the longest remaining link is now: 35117.6542642193\n",
      "70000 1 50\n",
      "There were 25 nodes added, the longest remaining link is now: 35117.6542642193\n",
      "70000 1 60\n",
      "There were 25 nodes added, the longest remaining link is now: 35117.6542642193\n",
      "70000 2 10\n",
      "There were 25 nodes added, the longest remaining link is now: 35117.6542642193\n",
      "70000 2 20\n",
      "There were 25 nodes added, the longest remaining link is now: 35117.6542642193\n",
      "70000 2 30\n",
      "There were 25 nodes added, the longest remaining link is now: 35117.6542642193\n",
      "70000 2 40\n",
      "There were 25 nodes added, the longest remaining link is now: 35117.6542642193\n",
      "70000 2 50\n",
      "There were 25 nodes added, the longest remaining link is now: 35117.6542642193\n",
      "110000 0 10\n",
      "There were 25 nodes added, the longest remaining link is now: 35117.6542642193\n",
      "110000 0 20\n",
      "There were 25 nodes added, the longest remaining link is now: 35117.6542642193\n",
      "110000 0 30\n",
      "There were 25 nodes added, the longest remaining link is now: 35117.6542642193\n",
      "110000 0 40\n",
      "There were 25 nodes added, the longest remaining link is now: 35117.6542642193\n",
      "110000 0 50\n",
      "There were 25 nodes added, the longest remaining link is now: 35117.6542642193\n",
      "110000 0 60\n",
      "There were 25 nodes added, the longest remaining link is now: 35117.6542642193\n",
      "110000 0 70\n",
      "There were 25 nodes added, the longest remaining link is now: 35117.6542642193\n",
      "110000 1 10\n",
      "There were 25 nodes added, the longest remaining link is now: 35117.6542642193\n",
      "110000 1 20\n",
      "There were 25 nodes added, the longest remaining link is now: 35117.6542642193\n",
      "110000 1 30\n",
      "There were 25 nodes added, the longest remaining link is now: 35117.6542642193\n",
      "110000 1 40\n",
      "There were 25 nodes added, the longest remaining link is now: 35117.6542642193\n",
      "110000 1 50\n",
      "There were 25 nodes added, the longest remaining link is now: 35117.6542642193\n",
      "110000 2 10\n",
      "There were 25 nodes added, the longest remaining link is now: 35117.6542642193\n",
      "110000 2 20\n",
      "There were 25 nodes added, the longest remaining link is now: 35117.6542642193\n",
      "110000 2 30\n",
      "There were 25 nodes added, the longest remaining link is now: 35117.6542642193\n"
     ]
    }
   ],
   "source": [
    "%%time\n",
    "total_dict = {'r':[], 'max_stations':[], 'c':[], 'm':[], 'fraction_captured_total':[], 'serviceable_fraction':[], 'served_fraction':[], 'optimal_facilities':[], 'non_zero_flows':[], 'add_nodes_used':[]}\n",
    "for r in [70000, 110000, 150000]:\n",
    "    for scenario_var in [0, 1, 2]:\n",
    "        for max_stations in np.arange(10, 101, 10):\n",
    "            print(r, scenario_var, max_stations)\n",
    "            c=0\n",
    "            m=0\n",
    "            if scenario_var == 0:\n",
    "                c = 2000\n",
    "                m = 5\n",
    "            elif scenario_var == 1:\n",
    "                c = 3333\n",
    "                m = 3\n",
    "            elif scenario_var == 2:\n",
    "                c = 10000\n",
    "                m = 1\n",
    "            total_flow, fraction_captured_total, serviceable_fraction, served_fraction, optimal_facilities, non_zero_flows, add_nodes_used = flow_refueling_location_model(r, max_stations, scenario_var, additional_nodes=3, n=25)\n",
    "\n",
    "            total_dict['r'].append(r)\n",
    "            total_dict['max_stations'].append(max_stations)\n",
    "            total_dict['c'].append(c)\n",
    "            total_dict['m'].append(m)\n",
    "            total_dict['fraction_captured_total'].append(fraction_captured_total)\n",
    "            total_dict['serviceable_fraction'].append(serviceable_fraction)\n",
    "            total_dict['served_fraction'].append(served_fraction)\n",
    "            total_dict['optimal_facilities'].append(optimal_facilities)\n",
    "            total_dict['non_zero_flows'].append(non_zero_flows)\n",
    "            total_dict['add_nodes_used'].append(add_nodes_used)\n",
    "\n",
    "            if served_fraction > 0.95:\n",
    "                break"
   ],
   "metadata": {
    "collapsed": false,
    "pycharm": {
     "is_executing": true
    }
   }
  },
  {
   "cell_type": "code",
   "execution_count": null,
   "outputs": [],
   "source": [],
   "metadata": {
    "collapsed": false
   }
  }
 ],
 "metadata": {
  "kernelspec": {
   "display_name": "Python 3",
   "language": "python",
   "name": "python3"
  },
  "language_info": {
   "codemirror_mode": {
    "name": "ipython",
    "version": 2
   },
   "file_extension": ".py",
   "mimetype": "text/x-python",
   "name": "python",
   "nbconvert_exporter": "python",
   "pygments_lexer": "ipython2",
   "version": "2.7.6"
  }
 },
 "nbformat": 4,
 "nbformat_minor": 0
}
