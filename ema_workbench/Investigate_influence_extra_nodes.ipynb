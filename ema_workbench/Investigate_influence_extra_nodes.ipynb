{
 "cells": [
  {
   "cell_type": "code",
   "execution_count": 1,
   "id": "74712f27-f9b4-46c0-a98a-9d09872aca65",
   "metadata": {},
   "outputs": [],
   "source": [
    "from flow_computation import flow_computation\n",
    "from random_vessel_generator import random_vessel_generator\n",
    "from first_stage_frlm import first_stage_frlm\n",
    "from generate_network_nodes import generate_network\n",
    "import pickle\n",
    "import numpy as np\n",
    "import seaborn as sns\n",
    "import matplotlib.pyplot as plt\n",
    "import pandas as pd\n",
    "from ema_workbench import MultiprocessingEvaluator, SequentialEvaluator, ema_logging, perform_experiments, ArrayOutcome, Samplers\n",
    "from ema_workbench import IntegerParameter, RealParameter, Model, ScalarOutcome, CategoricalParameter, Constant, SequentialEvaluator\n",
    "import time"
   ]
  },
  {
   "cell_type": "code",
   "execution_count": 3,
   "id": "848acf2b-a486-4b7d-8a7c-fec8f052d8e2",
   "metadata": {},
   "outputs": [],
   "source": [
    "def AddNodeEffect(r, p, c, x_m, additional_nodes=0, n=0, vis=False, o=24,\n",
    "                                  random_data=False, load=1, seed=None):\n",
    "    \"\"\"abc\n",
    "    Parameters\n",
    "    ----------\n",
    "    load:float\n",
    "        Percentage of vessels on the network compared to the 2021 total.\n",
    "\n",
    "    r:int\n",
    "        Range of a vessel.\n",
    "\n",
    "    additional_nodes: int\n",
    "        Number of additional nodes that should be inserted into the original network.\n",
    "    \"\"\"\n",
    "    G = pickle.load(open('data/network_cleaned_final.p', 'rb'))\n",
    "    df_h = pickle.load(open(\"data/revised_cleaning_results/harbour_data_100.p\", \"rb\"))\n",
    "    df_ivs = pickle.load(open(\"data/revised_cleaning_results/ivs_exploded_100.p\", \"rb\"))\n",
    "    path_lengths = pickle.load(open(\"data/revised_cleaning_results/path_lengths_ship_specific_routes.p\", \"rb\"))\n",
    "    paths = pickle.load(open('data/final_paths.p', \"rb\"))\n",
    "\n",
    "    # generate random data\n",
    "    if random_data:\n",
    "        df_random = random_vessel_generator(df_ivs, seed, load)\n",
    "        flows = flow_computation(df_random, r, path_lengths)\n",
    "    else:\n",
    "        df_random = df_ivs\n",
    "        flows = flow_computation(df_random, r, path_lengths)\n",
    "\n",
    "    inserted = []\n",
    "\n",
    "    if additional_nodes == 3:\n",
    "        G, paths, inserted = generate_network(G, paths, n)\n",
    "        inserted += additional_intersections(G, n)\n",
    "    elif additional_nodes == 2:\n",
    "        G, paths, inserted = generate_network(G, paths, n)\n",
    "    elif additional_nodes == 1:\n",
    "        inserted += additional_intersections(G, n)\n",
    "\n",
    "    # execute first stage, with or without additional nodes\n",
    "    df_b, df_g, df_eq_fq, feasible_combinations = first_stage_frlm(r, G, OD=flows, paths=paths,\n",
    "                                                                   path_lengths=path_lengths, df_h=df_h,\n",
    "                                                                   additional_nodes=inserted)\n",
    "\n",
    "#     # execute second stage\n",
    "#     optimal_facilities, optimal_flows, non_zero_flows, supported_flow, routes_supported = second_stage_frlm(\n",
    "#         p, x_m, c, o, df_g, df_b, df_eq_fq)\n",
    "\n",
    "    # collect data\n",
    "    total_flow = sum(flows.values())\n",
    "\n",
    "    max_supported = {i: flows[i] for i in flows if len(feasible_combinations[i]) > 0}\n",
    "    max_supported = sum(max_supported.values())\n",
    "\n",
    "#     fraction_captured_total = (supported_flow / total_flow)\n",
    "\n",
    "    serviceable_fraction = (max_supported / total_flow)\n",
    "\n",
    "#     served_fraction = (supported_flow / max_supported)\n",
    "\n",
    "#     used_facilities = [i for i, j in optimal_facilities.items() if j > 0]\n",
    "#     add_nodes_used = float(len(list(set(used_facilities) - set(df_h.harbour_node.to_list()))))\n",
    "\n",
    "#     if vis:\n",
    "#         visualize_placement(G, flows, optimal_facilities, non_zero_flows, df_h, paths, unused=True)\n",
    "\n",
    "    return serviceable_fraction, total_flow"
   ]
  },
  {
   "cell_type": "code",
   "execution_count": 4,
   "id": "479062ac-8bb2-4ce0-b44e-dc209519b682",
   "metadata": {
    "scrolled": true
   },
   "outputs": [
    {
     "name": "stdout",
     "output_type": "stream",
     "text": [
      "CPU times: total: 1.05 s\n",
      "Wall time: 1.72 s\n"
     ]
    }
   ],
   "source": [
    "%%time\n",
    "serviceable_fraction = AddNodeEffect(50000, 10, 2000, 5, n=40)"
   ]
  },
  {
   "cell_type": "code",
   "execution_count": 5,
   "id": "2384a1c6",
   "metadata": {},
   "outputs": [
    {
     "data": {
      "text/plain": [
       "(0.08112930846266861, 2941841.1904762224)"
      ]
     },
     "execution_count": 5,
     "metadata": {},
     "output_type": "execute_result"
    }
   ],
   "source": [
    "serviceable_fraction"
   ]
  },
  {
   "cell_type": "code",
   "execution_count": 6,
   "id": "1896ab67",
   "metadata": {},
   "outputs": [],
   "source": [
    "#define model\n",
    "model = Model(\"AddNodeEffect\", function=AddNodeEffect)"
   ]
  },
  {
   "cell_type": "code",
   "execution_count": 7,
   "id": "376df19c",
   "metadata": {},
   "outputs": [],
   "source": [
    "#define parameters\n",
    "model.constants = [\n",
    "    Constant('p', 40),\n",
    "    Constant('c', 2500),\n",
    "    Constant('x_m', 5),\n",
    "    Constant(\"random_data\", False),\n",
    "    Constant(\"additional_nodes\", 2)\n",
    "]\n",
    "\n",
    "#define parameters\n",
    "model.uncertainties = [\n",
    "    CategoricalParameter(\"r\", [50000, 60000, 70000, 80000, 90000, 100000, 110000, 120000, 130000, 140000, 150000]),\n",
    "]\n",
    "\n",
    "# set levers\n",
    "model.levers = [\n",
    "    CategoricalParameter('n', [0, 10, 20, 30, 40, 50, 60, 70, 80, 90, 100]),\n",
    "]\n",
    "\n",
    "# specify outcomes\n",
    "model.outcomes = [\n",
    "    ScalarOutcome(\"serviceable_fraction\"),\n",
    "    ScalarOutcome('total_flow')\n",
    "]"
   ]
  },
  {
   "cell_type": "code",
   "execution_count": 10,
   "id": "8df8ba99",
   "metadata": {},
   "outputs": [
    {
     "name": "stderr",
     "output_type": "stream",
     "text": [
      "[MainProcess/INFO] performing 11 scenarios * 11 policies * 1 model(s) = 121 experiments\n",
      "  0%|                                                  | 0/121 [00:00<?, ?it/s][MainProcess/INFO] performing experiments sequentially\n"
     ]
    },
    {
     "name": "stdout",
     "output_type": "stream",
     "text": [
      "There were 0 nodes added, the longest remaining link is now: 75895.64343792459\n"
     ]
    },
    {
     "name": "stderr",
     "output_type": "stream",
     "text": [
      "\r",
      "  1%|▎                                         | 1/121 [00:01<02:28,  1.23s/it]"
     ]
    },
    {
     "name": "stdout",
     "output_type": "stream",
     "text": [
      "There were 0 nodes added, the longest remaining link is now: 75895.64343792459\n"
     ]
    },
    {
     "name": "stderr",
     "output_type": "stream",
     "text": [
      "\r",
      "  2%|▋                                         | 2/121 [00:02<02:31,  1.27s/it]"
     ]
    },
    {
     "name": "stdout",
     "output_type": "stream",
     "text": [
      "There were 0 nodes added, the longest remaining link is now: 75895.64343792459\n"
     ]
    },
    {
     "name": "stderr",
     "output_type": "stream",
     "text": [
      "\r",
      "  2%|█                                         | 3/121 [00:04<02:43,  1.39s/it]"
     ]
    },
    {
     "name": "stdout",
     "output_type": "stream",
     "text": [
      "There were 0 nodes added, the longest remaining link is now: 75895.64343792459\n"
     ]
    },
    {
     "name": "stderr",
     "output_type": "stream",
     "text": [
      "\r",
      "  3%|█▍                                        | 4/121 [00:05<02:56,  1.51s/it]"
     ]
    },
    {
     "name": "stdout",
     "output_type": "stream",
     "text": [
      "There were 0 nodes added, the longest remaining link is now: 75895.64343792459\n"
     ]
    },
    {
     "name": "stderr",
     "output_type": "stream",
     "text": [
      "\r",
      "  4%|█▋                                        | 5/121 [00:07<03:09,  1.64s/it]"
     ]
    },
    {
     "name": "stdout",
     "output_type": "stream",
     "text": [
      "There were 0 nodes added, the longest remaining link is now: 75895.64343792459\n"
     ]
    },
    {
     "name": "stderr",
     "output_type": "stream",
     "text": [
      "\r",
      "  5%|██                                        | 6/121 [00:09<03:19,  1.73s/it]"
     ]
    },
    {
     "name": "stdout",
     "output_type": "stream",
     "text": [
      "There were 0 nodes added, the longest remaining link is now: 75895.64343792459\n"
     ]
    },
    {
     "name": "stderr",
     "output_type": "stream",
     "text": [
      "\r",
      "  6%|██▍                                       | 7/121 [00:11<03:37,  1.91s/it]"
     ]
    },
    {
     "name": "stdout",
     "output_type": "stream",
     "text": [
      "There were 0 nodes added, the longest remaining link is now: 75895.64343792459\n"
     ]
    },
    {
     "name": "stderr",
     "output_type": "stream",
     "text": [
      "\r",
      "  7%|██▊                                       | 8/121 [00:14<03:57,  2.10s/it]"
     ]
    },
    {
     "name": "stdout",
     "output_type": "stream",
     "text": [
      "There were 0 nodes added, the longest remaining link is now: 75895.64343792459\n"
     ]
    },
    {
     "name": "stderr",
     "output_type": "stream",
     "text": [
      "\r",
      "  7%|███                                       | 9/121 [00:17<04:23,  2.35s/it]"
     ]
    },
    {
     "name": "stdout",
     "output_type": "stream",
     "text": [
      "There were 0 nodes added, the longest remaining link is now: 75895.64343792459\n"
     ]
    },
    {
     "name": "stderr",
     "output_type": "stream",
     "text": [
      "\r",
      "  8%|███▍                                     | 10/121 [00:20<04:44,  2.56s/it]"
     ]
    },
    {
     "name": "stdout",
     "output_type": "stream",
     "text": [
      "There were 0 nodes added, the longest remaining link is now: 75895.64343792459\n"
     ]
    },
    {
     "name": "stderr",
     "output_type": "stream",
     "text": [
      "\r",
      "  9%|███▋                                     | 11/121 [00:23<05:07,  2.80s/it]"
     ]
    },
    {
     "name": "stdout",
     "output_type": "stream",
     "text": [
      "There were 10 nodes added, the longest remaining link is now: 44873.36495810296\n"
     ]
    },
    {
     "name": "stderr",
     "output_type": "stream",
     "text": [
      "\r",
      " 10%|████                                     | 12/121 [00:25<04:46,  2.63s/it]"
     ]
    },
    {
     "name": "stdout",
     "output_type": "stream",
     "text": [
      "There were 10 nodes added, the longest remaining link is now: 44873.36495810296\n"
     ]
    },
    {
     "name": "stderr",
     "output_type": "stream",
     "text": [
      "\r",
      " 11%|████▍                                    | 13/121 [00:28<04:38,  2.58s/it]"
     ]
    },
    {
     "name": "stdout",
     "output_type": "stream",
     "text": [
      "There were 10 nodes added, the longest remaining link is now: 44873.36495810296\n"
     ]
    },
    {
     "name": "stderr",
     "output_type": "stream",
     "text": [
      "\r",
      " 12%|████▋                                    | 14/121 [00:31<04:41,  2.63s/it]"
     ]
    },
    {
     "name": "stdout",
     "output_type": "stream",
     "text": [
      "There were 10 nodes added, the longest remaining link is now: 44873.36495810296\n"
     ]
    },
    {
     "name": "stderr",
     "output_type": "stream",
     "text": [
      "\r",
      " 12%|█████                                    | 15/121 [00:34<05:03,  2.86s/it]"
     ]
    },
    {
     "name": "stdout",
     "output_type": "stream",
     "text": [
      "There were 10 nodes added, the longest remaining link is now: 44873.36495810296\n"
     ]
    },
    {
     "name": "stderr",
     "output_type": "stream",
     "text": [
      "\r",
      " 13%|█████▍                                   | 16/121 [00:38<05:28,  3.13s/it]"
     ]
    },
    {
     "name": "stdout",
     "output_type": "stream",
     "text": [
      "There were 10 nodes added, the longest remaining link is now: 44873.36495810296\n"
     ]
    },
    {
     "name": "stderr",
     "output_type": "stream",
     "text": [
      "\r",
      " 14%|█████▊                                   | 17/121 [00:42<05:52,  3.39s/it]"
     ]
    },
    {
     "name": "stdout",
     "output_type": "stream",
     "text": [
      "There were 10 nodes added, the longest remaining link is now: 44873.36495810296\n"
     ]
    },
    {
     "name": "stderr",
     "output_type": "stream",
     "text": [
      "\r",
      " 15%|██████                                   | 18/121 [00:46<06:19,  3.68s/it]"
     ]
    },
    {
     "name": "stdout",
     "output_type": "stream",
     "text": [
      "There were 10 nodes added, the longest remaining link is now: 44873.36495810296\n"
     ]
    },
    {
     "name": "stderr",
     "output_type": "stream",
     "text": [
      "\r",
      " 16%|██████▍                                  | 19/121 [00:52<07:16,  4.27s/it]"
     ]
    },
    {
     "name": "stdout",
     "output_type": "stream",
     "text": [
      "There were 10 nodes added, the longest remaining link is now: 44873.36495810296\n"
     ]
    },
    {
     "name": "stderr",
     "output_type": "stream",
     "text": [
      "\r",
      " 17%|██████▊                                  | 20/121 [00:58<07:59,  4.75s/it]"
     ]
    },
    {
     "name": "stdout",
     "output_type": "stream",
     "text": [
      "There were 10 nodes added, the longest remaining link is now: 44873.36495810296\n"
     ]
    },
    {
     "name": "stderr",
     "output_type": "stream",
     "text": [
      "\r",
      " 17%|███████                                  | 21/121 [01:03<08:28,  5.09s/it]"
     ]
    },
    {
     "name": "stdout",
     "output_type": "stream",
     "text": [
      "There were 10 nodes added, the longest remaining link is now: 44873.36495810296\n"
     ]
    },
    {
     "name": "stderr",
     "output_type": "stream",
     "text": [
      "\r",
      " 18%|███████▍                                 | 22/121 [01:10<09:02,  5.48s/it]"
     ]
    },
    {
     "name": "stdout",
     "output_type": "stream",
     "text": [
      "There were 20 nodes added, the longest remaining link is now: 37699.72213501075\n"
     ]
    },
    {
     "name": "stderr",
     "output_type": "stream",
     "text": [
      "\r",
      " 19%|███████▊                                 | 23/121 [01:13<07:55,  4.85s/it]"
     ]
    },
    {
     "name": "stdout",
     "output_type": "stream",
     "text": [
      "There were 20 nodes added, the longest remaining link is now: 37699.72213501075\n"
     ]
    },
    {
     "name": "stderr",
     "output_type": "stream",
     "text": [
      "\r",
      " 20%|████████▏                                | 24/121 [01:17<07:16,  4.50s/it]"
     ]
    },
    {
     "name": "stdout",
     "output_type": "stream",
     "text": [
      "There were 20 nodes added, the longest remaining link is now: 37699.72213501075\n"
     ]
    },
    {
     "name": "stderr",
     "output_type": "stream",
     "text": [
      "\r",
      " 21%|████████▍                                | 25/121 [01:21<07:02,  4.40s/it]"
     ]
    },
    {
     "name": "stdout",
     "output_type": "stream",
     "text": [
      "There were 20 nodes added, the longest remaining link is now: 37699.72213501075\n"
     ]
    },
    {
     "name": "stderr",
     "output_type": "stream",
     "text": [
      "\r",
      " 21%|████████▊                                | 26/121 [01:26<07:08,  4.51s/it]"
     ]
    },
    {
     "name": "stdout",
     "output_type": "stream",
     "text": [
      "There were 20 nodes added, the longest remaining link is now: 37699.72213501075\n"
     ]
    },
    {
     "name": "stderr",
     "output_type": "stream",
     "text": [
      "\r",
      " 22%|█████████▏                               | 27/121 [01:31<07:28,  4.77s/it]"
     ]
    },
    {
     "name": "stdout",
     "output_type": "stream",
     "text": [
      "There were 20 nodes added, the longest remaining link is now: 37699.72213501075\n"
     ]
    },
    {
     "name": "stderr",
     "output_type": "stream",
     "text": [
      "\r",
      " 23%|█████████▍                               | 28/121 [01:37<07:53,  5.09s/it]"
     ]
    },
    {
     "name": "stdout",
     "output_type": "stream",
     "text": [
      "There were 20 nodes added, the longest remaining link is now: 37699.72213501075\n"
     ]
    },
    {
     "name": "stderr",
     "output_type": "stream",
     "text": [
      "\r",
      " 24%|█████████▊                               | 29/121 [01:43<08:20,  5.44s/it]"
     ]
    },
    {
     "name": "stdout",
     "output_type": "stream",
     "text": [
      "There were 20 nodes added, the longest remaining link is now: 37699.72213501075\n"
     ]
    },
    {
     "name": "stderr",
     "output_type": "stream",
     "text": [
      "\r",
      " 25%|██████████▏                              | 30/121 [01:51<09:26,  6.22s/it]"
     ]
    },
    {
     "name": "stdout",
     "output_type": "stream",
     "text": [
      "There were 20 nodes added, the longest remaining link is now: 37699.72213501075\n"
     ]
    },
    {
     "name": "stderr",
     "output_type": "stream",
     "text": [
      "\r",
      " 26%|██████████▌                              | 31/121 [02:00<10:29,  7.00s/it]"
     ]
    },
    {
     "name": "stdout",
     "output_type": "stream",
     "text": [
      "There were 20 nodes added, the longest remaining link is now: 37699.72213501075\n"
     ]
    },
    {
     "name": "stderr",
     "output_type": "stream",
     "text": [
      "\r",
      " 26%|██████████▊                              | 32/121 [02:09<11:19,  7.63s/it]"
     ]
    },
    {
     "name": "stdout",
     "output_type": "stream",
     "text": [
      "There were 20 nodes added, the longest remaining link is now: 37699.72213501075\n"
     ]
    },
    {
     "name": "stderr",
     "output_type": "stream",
     "text": [
      "\r",
      " 27%|███████████▏                             | 33/121 [02:19<12:09,  8.29s/it]"
     ]
    },
    {
     "name": "stdout",
     "output_type": "stream",
     "text": [
      "There were 30 nodes added, the longest remaining link is now: 31379.45313872912\n"
     ]
    },
    {
     "name": "stderr",
     "output_type": "stream",
     "text": [
      "\r",
      " 28%|███████████▌                             | 34/121 [02:26<11:21,  7.83s/it]"
     ]
    },
    {
     "name": "stdout",
     "output_type": "stream",
     "text": [
      "There were 30 nodes added, the longest remaining link is now: 31379.45313872912\n"
     ]
    },
    {
     "name": "stderr",
     "output_type": "stream",
     "text": [
      "\r",
      " 29%|███████████▊                             | 35/121 [02:33<10:52,  7.59s/it]"
     ]
    },
    {
     "name": "stdout",
     "output_type": "stream",
     "text": [
      "There were 30 nodes added, the longest remaining link is now: 31379.45313872912\n"
     ]
    },
    {
     "name": "stderr",
     "output_type": "stream",
     "text": [
      "\r",
      " 30%|████████████▏                            | 36/121 [02:41<10:55,  7.71s/it]"
     ]
    },
    {
     "name": "stdout",
     "output_type": "stream",
     "text": [
      "There were 30 nodes added, the longest remaining link is now: 31379.45313872912\n"
     ]
    },
    {
     "name": "stderr",
     "output_type": "stream",
     "text": [
      "\r",
      " 31%|████████████▌                            | 37/121 [02:51<11:37,  8.30s/it]"
     ]
    },
    {
     "name": "stdout",
     "output_type": "stream",
     "text": [
      "There were 30 nodes added, the longest remaining link is now: 31379.45313872912\n"
     ]
    },
    {
     "name": "stderr",
     "output_type": "stream",
     "text": [
      "\r",
      " 31%|████████████▉                            | 38/121 [03:01<12:24,  8.97s/it]"
     ]
    },
    {
     "name": "stdout",
     "output_type": "stream",
     "text": [
      "There were 30 nodes added, the longest remaining link is now: 31379.45313872912\n"
     ]
    },
    {
     "name": "stderr",
     "output_type": "stream",
     "text": [
      "\r",
      " 32%|█████████████▏                           | 39/121 [03:13<13:16,  9.72s/it]"
     ]
    },
    {
     "name": "stdout",
     "output_type": "stream",
     "text": [
      "There were 30 nodes added, the longest remaining link is now: 31379.45313872912\n"
     ]
    },
    {
     "name": "stderr",
     "output_type": "stream",
     "text": [
      "\r",
      " 33%|█████████████▌                           | 40/121 [03:25<14:19, 10.61s/it]"
     ]
    },
    {
     "name": "stdout",
     "output_type": "stream",
     "text": [
      "There were 30 nodes added, the longest remaining link is now: 31379.45313872912\n"
     ]
    },
    {
     "name": "stderr",
     "output_type": "stream",
     "text": [
      "\r",
      " 34%|█████████████▉                           | 41/121 [03:39<15:34, 11.68s/it]"
     ]
    },
    {
     "name": "stdout",
     "output_type": "stream",
     "text": [
      "There were 30 nodes added, the longest remaining link is now: 31379.45313872912\n"
     ]
    },
    {
     "name": "stderr",
     "output_type": "stream",
     "text": [
      "\r",
      " 35%|██████████████▏                          | 42/121 [03:55<16:43, 12.70s/it]"
     ]
    },
    {
     "name": "stdout",
     "output_type": "stream",
     "text": [
      "There were 30 nodes added, the longest remaining link is now: 31379.45313872912\n"
     ]
    },
    {
     "name": "stderr",
     "output_type": "stream",
     "text": [
      "\r",
      " 36%|██████████████▌                          | 43/121 [04:10<17:43, 13.63s/it]"
     ]
    },
    {
     "name": "stdout",
     "output_type": "stream",
     "text": [
      "There were 30 nodes added, the longest remaining link is now: 31379.45313872912\n"
     ]
    },
    {
     "name": "stderr",
     "output_type": "stream",
     "text": [
      "\r",
      " 36%|██████████████▉                          | 44/121 [04:27<18:45, 14.61s/it]"
     ]
    },
    {
     "name": "stdout",
     "output_type": "stream",
     "text": [
      "There were 40 nodes added, the longest remaining link is now: 26901.63642071443\n"
     ]
    },
    {
     "name": "stderr",
     "output_type": "stream",
     "text": [
      "\r",
      " 37%|███████████████▏                         | 45/121 [04:38<17:00, 13.43s/it]"
     ]
    },
    {
     "name": "stdout",
     "output_type": "stream",
     "text": [
      "There were 40 nodes added, the longest remaining link is now: 26901.63642071443\n"
     ]
    },
    {
     "name": "stderr",
     "output_type": "stream",
     "text": [
      "\r",
      " 38%|███████████████▌                         | 46/121 [04:50<16:22, 13.10s/it]"
     ]
    },
    {
     "name": "stdout",
     "output_type": "stream",
     "text": [
      "There were 40 nodes added, the longest remaining link is now: 26901.63642071443\n"
     ]
    },
    {
     "name": "stderr",
     "output_type": "stream",
     "text": [
      "\r",
      " 39%|███████████████▉                         | 47/121 [05:04<16:29, 13.37s/it]"
     ]
    },
    {
     "name": "stdout",
     "output_type": "stream",
     "text": [
      "There were 40 nodes added, the longest remaining link is now: 26901.63642071443\n"
     ]
    },
    {
     "name": "stderr",
     "output_type": "stream",
     "text": [
      "\r",
      " 40%|████████████████▎                        | 48/121 [05:21<17:40, 14.53s/it]"
     ]
    },
    {
     "name": "stdout",
     "output_type": "stream",
     "text": [
      "There were 40 nodes added, the longest remaining link is now: 26901.63642071443\n"
     ]
    },
    {
     "name": "stderr",
     "output_type": "stream",
     "text": [
      "\r",
      " 40%|████████████████▌                        | 49/121 [05:40<18:53, 15.74s/it]"
     ]
    },
    {
     "name": "stdout",
     "output_type": "stream",
     "text": [
      "There were 40 nodes added, the longest remaining link is now: 26901.63642071443\n"
     ]
    },
    {
     "name": "stderr",
     "output_type": "stream",
     "text": [
      "\r",
      " 41%|████████████████▉                        | 50/121 [06:02<20:46, 17.56s/it]"
     ]
    },
    {
     "name": "stdout",
     "output_type": "stream",
     "text": [
      "There were 40 nodes added, the longest remaining link is now: 26901.63642071443\n"
     ]
    },
    {
     "name": "stderr",
     "output_type": "stream",
     "text": [
      "\r",
      " 42%|█████████████████▎                       | 51/121 [06:25<22:36, 19.38s/it]"
     ]
    },
    {
     "name": "stdout",
     "output_type": "stream",
     "text": [
      "There were 40 nodes added, the longest remaining link is now: 26901.63642071443\n"
     ]
    },
    {
     "name": "stderr",
     "output_type": "stream",
     "text": [
      "\r",
      " 43%|█████████████████▌                       | 52/121 [06:51<24:24, 21.22s/it]"
     ]
    },
    {
     "name": "stdout",
     "output_type": "stream",
     "text": [
      "There were 40 nodes added, the longest remaining link is now: 26901.63642071443\n"
     ]
    },
    {
     "name": "stderr",
     "output_type": "stream",
     "text": [
      "\r",
      " 44%|█████████████████▉                       | 53/121 [07:18<26:05, 23.03s/it]"
     ]
    },
    {
     "name": "stdout",
     "output_type": "stream",
     "text": [
      "There were 40 nodes added, the longest remaining link is now: 26901.63642071443\n"
     ]
    },
    {
     "name": "stderr",
     "output_type": "stream",
     "text": [
      "\r",
      " 45%|██████████████████▎                      | 54/121 [07:48<27:55, 25.01s/it]"
     ]
    },
    {
     "name": "stdout",
     "output_type": "stream",
     "text": [
      "There were 40 nodes added, the longest remaining link is now: 26901.63642071443\n"
     ]
    },
    {
     "name": "stderr",
     "output_type": "stream",
     "text": [
      "\r",
      " 45%|██████████████████▋                      | 55/121 [08:16<28:23, 25.81s/it]"
     ]
    },
    {
     "name": "stdout",
     "output_type": "stream",
     "text": [
      "There were 50 nodes added, the longest remaining link is now: 25289.716355056917\n"
     ]
    },
    {
     "name": "stderr",
     "output_type": "stream",
     "text": [
      "\r",
      " 46%|██████████████████▉                      | 56/121 [08:41<27:55, 25.78s/it]"
     ]
    },
    {
     "name": "stdout",
     "output_type": "stream",
     "text": [
      "There were 50 nodes added, the longest remaining link is now: 25289.716355056917\n"
     ]
    },
    {
     "name": "stderr",
     "output_type": "stream",
     "text": [
      "\r",
      " 47%|███████████████████▎                     | 57/121 [09:13<29:30, 27.66s/it]"
     ]
    },
    {
     "name": "stdout",
     "output_type": "stream",
     "text": [
      "There were 50 nodes added, the longest remaining link is now: 25289.716355056917\n"
     ]
    },
    {
     "name": "stderr",
     "output_type": "stream",
     "text": [
      "\r",
      " 48%|███████████████████▋                     | 58/121 [09:59<34:45, 33.11s/it]"
     ]
    },
    {
     "name": "stdout",
     "output_type": "stream",
     "text": [
      "There were 50 nodes added, the longest remaining link is now: 25289.716355056917\n"
     ]
    },
    {
     "name": "stderr",
     "output_type": "stream",
     "text": [
      "\r",
      " 49%|███████████████████▉                     | 59/121 [10:53<40:34, 39.26s/it]"
     ]
    },
    {
     "name": "stdout",
     "output_type": "stream",
     "text": [
      "There were 50 nodes added, the longest remaining link is now: 25289.716355056917\n"
     ]
    },
    {
     "name": "stderr",
     "output_type": "stream",
     "text": [
      "\r",
      " 50%|████████████████████▎                    | 60/121 [11:55<46:47, 46.02s/it]"
     ]
    },
    {
     "name": "stdout",
     "output_type": "stream",
     "text": [
      "There were 50 nodes added, the longest remaining link is now: 25289.716355056917\n"
     ]
    },
    {
     "name": "stderr",
     "output_type": "stream",
     "text": [
      "\r",
      " 50%|████████████████████▋                    | 61/121 [12:58<51:15, 51.26s/it]"
     ]
    },
    {
     "name": "stdout",
     "output_type": "stream",
     "text": [
      "There were 50 nodes added, the longest remaining link is now: 25289.716355056917\n"
     ]
    },
    {
     "name": "stderr",
     "output_type": "stream",
     "text": [
      "\r",
      " 51%|█████████████████████                    | 62/121 [14:05<55:11, 56.13s/it]"
     ]
    },
    {
     "name": "stdout",
     "output_type": "stream",
     "text": [
      "There were 50 nodes added, the longest remaining link is now: 25289.716355056917\n"
     ]
    },
    {
     "name": "stderr",
     "output_type": "stream",
     "text": [
      "\r",
      " 52%|█████████████████████▎                   | 63/121 [15:12<57:11, 59.16s/it]"
     ]
    },
    {
     "name": "stdout",
     "output_type": "stream",
     "text": [
      "There were 50 nodes added, the longest remaining link is now: 25289.716355056917\n"
     ]
    },
    {
     "name": "stderr",
     "output_type": "stream",
     "text": [
      "\r",
      " 53%|█████████████████████▋                   | 64/121 [16:23<59:38, 62.79s/it]"
     ]
    },
    {
     "name": "stdout",
     "output_type": "stream",
     "text": [
      "There were 50 nodes added, the longest remaining link is now: 25289.716355056917\n"
     ]
    },
    {
     "name": "stderr",
     "output_type": "stream",
     "text": [
      "\r",
      " 54%|████████████████████▉                  | 65/121 [17:38<1:02:07, 66.56s/it]"
     ]
    },
    {
     "name": "stdout",
     "output_type": "stream",
     "text": [
      "There were 50 nodes added, the longest remaining link is now: 25289.716355056917\n"
     ]
    },
    {
     "name": "stderr",
     "output_type": "stream",
     "text": [
      "\r",
      " 55%|█████████████████████▎                 | 66/121 [19:01<1:05:26, 71.39s/it]"
     ]
    },
    {
     "name": "stdout",
     "output_type": "stream",
     "text": [
      "There were 60 nodes added, the longest remaining link is now: 23039.698710314668\n"
     ]
    },
    {
     "name": "stderr",
     "output_type": "stream",
     "text": [
      "\r",
      " 55%|██████████████████████▋                  | 67/121 [19:34<53:54, 59.90s/it]"
     ]
    },
    {
     "name": "stdout",
     "output_type": "stream",
     "text": [
      "There were 60 nodes added, the longest remaining link is now: 23039.698710314668\n"
     ]
    },
    {
     "name": "stderr",
     "output_type": "stream",
     "text": [
      "\r",
      " 56%|███████████████████████                  | 68/121 [20:16<48:05, 54.45s/it]"
     ]
    },
    {
     "name": "stdout",
     "output_type": "stream",
     "text": [
      "There were 60 nodes added, the longest remaining link is now: 23039.698710314668\n"
     ]
    },
    {
     "name": "stderr",
     "output_type": "stream",
     "text": [
      "\r",
      " 57%|███████████████████████▍                 | 69/121 [21:08<46:30, 53.66s/it]"
     ]
    },
    {
     "name": "stdout",
     "output_type": "stream",
     "text": [
      "There were 60 nodes added, the longest remaining link is now: 23039.698710314668\n"
     ]
    },
    {
     "name": "stderr",
     "output_type": "stream",
     "text": [
      "\r",
      " 58%|███████████████████████▋                 | 70/121 [22:08<47:23, 55.75s/it]"
     ]
    },
    {
     "name": "stdout",
     "output_type": "stream",
     "text": [
      "There were 60 nodes added, the longest remaining link is now: 23039.698710314668\n"
     ]
    },
    {
     "name": "stderr",
     "output_type": "stream",
     "text": [
      "\r",
      " 59%|████████████████████████                 | 71/121 [23:18<49:53, 59.86s/it]"
     ]
    },
    {
     "name": "stdout",
     "output_type": "stream",
     "text": [
      "There were 60 nodes added, the longest remaining link is now: 23039.698710314668\n"
     ]
    },
    {
     "name": "stderr",
     "output_type": "stream",
     "text": [
      "\r",
      " 60%|████████████████████████▍                | 72/121 [24:35<53:09, 65.09s/it]"
     ]
    },
    {
     "name": "stdout",
     "output_type": "stream",
     "text": [
      "There were 60 nodes added, the longest remaining link is now: 23039.698710314668\n"
     ]
    },
    {
     "name": "stderr",
     "output_type": "stream",
     "text": [
      "\r",
      " 60%|████████████████████████▋                | 73/121 [26:00<56:57, 71.20s/it]"
     ]
    },
    {
     "name": "stdout",
     "output_type": "stream",
     "text": [
      "There were 60 nodes added, the longest remaining link is now: 23039.698710314668\n"
     ]
    },
    {
     "name": "stderr",
     "output_type": "stream",
     "text": [
      "\r",
      " 61%|███████████████████████▊               | 74/121 [27:33<1:00:43, 77.52s/it]"
     ]
    },
    {
     "name": "stdout",
     "output_type": "stream",
     "text": [
      "There were 60 nodes added, the longest remaining link is now: 23039.698710314668\n"
     ]
    },
    {
     "name": "stderr",
     "output_type": "stream",
     "text": [
      "\r",
      " 62%|████████████████████████▏              | 75/121 [29:09<1:03:44, 83.14s/it]"
     ]
    },
    {
     "name": "stdout",
     "output_type": "stream",
     "text": [
      "There were 60 nodes added, the longest remaining link is now: 23039.698710314668\n"
     ]
    },
    {
     "name": "stderr",
     "output_type": "stream",
     "text": [
      "\r",
      " 63%|████████████████████████▍              | 76/121 [30:50<1:06:20, 88.46s/it]"
     ]
    },
    {
     "name": "stdout",
     "output_type": "stream",
     "text": [
      "There were 60 nodes added, the longest remaining link is now: 23039.698710314668\n"
     ]
    },
    {
     "name": "stderr",
     "output_type": "stream",
     "text": [
      "\r",
      " 64%|████████████████████████▊              | 77/121 [32:34<1:08:19, 93.17s/it]"
     ]
    },
    {
     "name": "stdout",
     "output_type": "stream",
     "text": [
      "There were 70 nodes added, the longest remaining link is now: 21847.570674122773\n"
     ]
    },
    {
     "name": "stderr",
     "output_type": "stream",
     "text": [
      "\r",
      " 64%|██████████████████████████▍              | 78/121 [33:12<54:51, 76.55s/it]"
     ]
    },
    {
     "name": "stdout",
     "output_type": "stream",
     "text": [
      "There were 70 nodes added, the longest remaining link is now: 21847.570674122773\n"
     ]
    },
    {
     "name": "stderr",
     "output_type": "stream",
     "text": [
      "\r",
      " 65%|██████████████████████████▊              | 79/121 [34:01<47:55, 68.46s/it]"
     ]
    },
    {
     "name": "stdout",
     "output_type": "stream",
     "text": [
      "There were 70 nodes added, the longest remaining link is now: 21847.570674122773\n"
     ]
    },
    {
     "name": "stderr",
     "output_type": "stream",
     "text": [
      "\r",
      " 66%|███████████████████████████              | 80/121 [35:02<45:10, 66.11s/it]"
     ]
    },
    {
     "name": "stdout",
     "output_type": "stream",
     "text": [
      "There were 70 nodes added, the longest remaining link is now: 21847.570674122773\n"
     ]
    },
    {
     "name": "stderr",
     "output_type": "stream",
     "text": [
      "\r",
      " 67%|███████████████████████████▍             | 81/121 [36:12<44:51, 67.28s/it]"
     ]
    },
    {
     "name": "stdout",
     "output_type": "stream",
     "text": [
      "There were 70 nodes added, the longest remaining link is now: 21847.570674122773\n"
     ]
    },
    {
     "name": "stderr",
     "output_type": "stream",
     "text": [
      "\r",
      " 68%|███████████████████████████▊             | 82/121 [37:38<47:27, 73.01s/it]"
     ]
    },
    {
     "name": "stdout",
     "output_type": "stream",
     "text": [
      "There were 70 nodes added, the longest remaining link is now: 21847.570674122773\n"
     ]
    },
    {
     "name": "stderr",
     "output_type": "stream",
     "text": [
      "\r",
      " 69%|████████████████████████████             | 83/121 [39:15<50:40, 80.02s/it]"
     ]
    },
    {
     "name": "stdout",
     "output_type": "stream",
     "text": [
      "There were 70 nodes added, the longest remaining link is now: 21847.570674122773\n"
     ]
    },
    {
     "name": "stderr",
     "output_type": "stream",
     "text": [
      "\r",
      " 69%|████████████████████████████▍            | 84/121 [41:00<54:05, 87.71s/it]"
     ]
    },
    {
     "name": "stdout",
     "output_type": "stream",
     "text": [
      "There were 70 nodes added, the longest remaining link is now: 21847.570674122773\n"
     ]
    },
    {
     "name": "stderr",
     "output_type": "stream",
     "text": [
      "\r",
      " 70%|████████████████████████████▊            | 85/121 [42:53<57:06, 95.19s/it]"
     ]
    },
    {
     "name": "stdout",
     "output_type": "stream",
     "text": [
      "There were 70 nodes added, the longest remaining link is now: 21847.570674122773\n"
     ]
    },
    {
     "name": "stderr",
     "output_type": "stream",
     "text": [
      "\r",
      " 71%|████████████████████████████▍           | 86/121 [44:52<59:44, 102.41s/it]"
     ]
    },
    {
     "name": "stdout",
     "output_type": "stream",
     "text": [
      "There were 70 nodes added, the longest remaining link is now: 21847.570674122773\n"
     ]
    },
    {
     "name": "stderr",
     "output_type": "stream",
     "text": [
      "\r",
      " 72%|███████████████████████████▎          | 87/121 [46:57<1:01:47, 109.04s/it]"
     ]
    },
    {
     "name": "stdout",
     "output_type": "stream",
     "text": [
      "There were 70 nodes added, the longest remaining link is now: 21847.570674122773\n"
     ]
    },
    {
     "name": "stderr",
     "output_type": "stream",
     "text": [
      "\r",
      " 73%|███████████████████████████▋          | 88/121 [48:58<1:01:57, 112.64s/it]"
     ]
    },
    {
     "name": "stdout",
     "output_type": "stream",
     "text": [
      "There were 80 nodes added, the longest remaining link is now: 20043.559412023216\n"
     ]
    },
    {
     "name": "stderr",
     "output_type": "stream",
     "text": [
      "\r",
      " 74%|██████████████████████████████▏          | 89/121 [50:07<53:05, 99.56s/it]"
     ]
    },
    {
     "name": "stdout",
     "output_type": "stream",
     "text": [
      "There were 80 nodes added, the longest remaining link is now: 20043.559412023216\n"
     ]
    },
    {
     "name": "stderr",
     "output_type": "stream",
     "text": [
      "\r",
      " 74%|██████████████████████████████▍          | 90/121 [51:35<49:42, 96.22s/it]"
     ]
    },
    {
     "name": "stdout",
     "output_type": "stream",
     "text": [
      "There were 80 nodes added, the longest remaining link is now: 20043.559412023216\n"
     ]
    },
    {
     "name": "stderr",
     "output_type": "stream",
     "text": [
      "\r",
      " 75%|██████████████████████████████▊          | 91/121 [53:21<49:35, 99.17s/it]"
     ]
    },
    {
     "name": "stdout",
     "output_type": "stream",
     "text": [
      "There were 80 nodes added, the longest remaining link is now: 20043.559412023216\n"
     ]
    },
    {
     "name": "stderr",
     "output_type": "stream",
     "text": [
      "\r",
      " 76%|██████████████████████████████▍         | 92/121 [55:23<51:08, 105.79s/it]"
     ]
    },
    {
     "name": "stdout",
     "output_type": "stream",
     "text": [
      "There were 80 nodes added, the longest remaining link is now: 20043.559412023216\n"
     ]
    },
    {
     "name": "stderr",
     "output_type": "stream",
     "text": [
      "\r",
      " 77%|██████████████████████████████▋         | 93/121 [57:57<56:13, 120.50s/it]"
     ]
    },
    {
     "name": "stdout",
     "output_type": "stream",
     "text": [
      "There were 80 nodes added, the longest remaining link is now: 20043.559412023216\n"
     ]
    },
    {
     "name": "stderr",
     "output_type": "stream",
     "text": [
      "\r",
      " 78%|███████████████████████████▉        | 94/121 [1:00:57<1:02:10, 138.16s/it]"
     ]
    },
    {
     "name": "stdout",
     "output_type": "stream",
     "text": [
      "There were 80 nodes added, the longest remaining link is now: 20043.559412023216\n"
     ]
    },
    {
     "name": "stderr",
     "output_type": "stream",
     "text": [
      "\r",
      " 79%|████████████████████████████▎       | 95/121 [1:04:35<1:10:19, 162.30s/it]"
     ]
    },
    {
     "name": "stdout",
     "output_type": "stream",
     "text": [
      "There were 80 nodes added, the longest remaining link is now: 20043.559412023216\n"
     ]
    },
    {
     "name": "stderr",
     "output_type": "stream",
     "text": [
      "\r",
      " 79%|████████████████████████████▌       | 96/121 [1:08:31<1:16:46, 184.25s/it]"
     ]
    },
    {
     "name": "stdout",
     "output_type": "stream",
     "text": [
      "There were 80 nodes added, the longest remaining link is now: 20043.559412023216\n"
     ]
    },
    {
     "name": "stderr",
     "output_type": "stream",
     "text": [
      "\r",
      " 80%|████████████████████████████▊       | 97/121 [1:12:42<1:21:44, 204.34s/it]"
     ]
    },
    {
     "name": "stdout",
     "output_type": "stream",
     "text": [
      "There were 80 nodes added, the longest remaining link is now: 20043.559412023216\n"
     ]
    },
    {
     "name": "stderr",
     "output_type": "stream",
     "text": [
      "\r",
      " 81%|█████████████████████████████▏      | 98/121 [1:17:11<1:25:45, 223.72s/it]"
     ]
    },
    {
     "name": "stdout",
     "output_type": "stream",
     "text": [
      "There were 80 nodes added, the longest remaining link is now: 20043.559412023216\n"
     ]
    },
    {
     "name": "stderr",
     "output_type": "stream",
     "text": [
      "\r",
      " 82%|█████████████████████████████▍      | 99/121 [1:21:57<1:28:50, 242.29s/it]"
     ]
    },
    {
     "name": "stdout",
     "output_type": "stream",
     "text": [
      "There were 90 nodes added, the longest remaining link is now: 18831.21318081247\n"
     ]
    },
    {
     "name": "stderr",
     "output_type": "stream",
     "text": [
      "\r",
      " 83%|████████████████████████████▉      | 100/121 [1:24:19<1:14:20, 212.40s/it]"
     ]
    },
    {
     "name": "stdout",
     "output_type": "stream",
     "text": [
      "There were 90 nodes added, the longest remaining link is now: 18831.21318081247\n"
     ]
    },
    {
     "name": "stderr",
     "output_type": "stream",
     "text": [
      "\r",
      " 83%|█████████████████████████████▏     | 101/121 [1:27:32<1:08:52, 206.62s/it]"
     ]
    },
    {
     "name": "stdout",
     "output_type": "stream",
     "text": [
      "There were 90 nodes added, the longest remaining link is now: 18831.21318081247\n"
     ]
    },
    {
     "name": "stderr",
     "output_type": "stream",
     "text": [
      "\r",
      " 84%|█████████████████████████████▌     | 102/121 [1:31:46<1:09:51, 220.62s/it]"
     ]
    },
    {
     "name": "stdout",
     "output_type": "stream",
     "text": [
      "There were 90 nodes added, the longest remaining link is now: 18831.21318081247\n"
     ]
    },
    {
     "name": "stderr",
     "output_type": "stream",
     "text": [
      "\r",
      " 85%|█████████████████████████████▊     | 103/121 [1:36:38<1:12:39, 242.20s/it]"
     ]
    },
    {
     "name": "stdout",
     "output_type": "stream",
     "text": [
      "There were 90 nodes added, the longest remaining link is now: 18831.21318081247\n"
     ]
    },
    {
     "name": "stderr",
     "output_type": "stream",
     "text": [
      "\r",
      " 86%|██████████████████████████████     | 104/121 [1:42:43<1:19:00, 278.88s/it]"
     ]
    },
    {
     "name": "stdout",
     "output_type": "stream",
     "text": [
      "There were 90 nodes added, the longest remaining link is now: 18831.21318081247\n"
     ]
    },
    {
     "name": "stderr",
     "output_type": "stream",
     "text": [
      "\r",
      " 87%|██████████████████████████████▎    | 105/121 [1:49:37<1:25:12, 319.52s/it]"
     ]
    },
    {
     "name": "stdout",
     "output_type": "stream",
     "text": [
      "There were 90 nodes added, the longest remaining link is now: 18831.21318081247\n"
     ]
    },
    {
     "name": "stderr",
     "output_type": "stream",
     "text": [
      "\r",
      " 88%|██████████████████████████████▋    | 106/121 [1:57:46<1:32:37, 370.47s/it]"
     ]
    },
    {
     "name": "stdout",
     "output_type": "stream",
     "text": [
      "There were 90 nodes added, the longest remaining link is now: 18831.21318081247\n"
     ]
    },
    {
     "name": "stderr",
     "output_type": "stream",
     "text": [
      "\r",
      " 88%|██████████████████████████████▉    | 107/121 [2:06:32<1:37:17, 416.96s/it]"
     ]
    },
    {
     "name": "stdout",
     "output_type": "stream",
     "text": [
      "There were 90 nodes added, the longest remaining link is now: 18831.21318081247\n"
     ]
    },
    {
     "name": "stderr",
     "output_type": "stream",
     "text": [
      "\r",
      " 89%|███████████████████████████████▏   | 108/121 [2:15:52<1:39:36, 459.76s/it]"
     ]
    },
    {
     "name": "stdout",
     "output_type": "stream",
     "text": [
      "There were 90 nodes added, the longest remaining link is now: 18831.21318081247\n"
     ]
    },
    {
     "name": "stderr",
     "output_type": "stream",
     "text": [
      "\r",
      " 90%|███████████████████████████████▌   | 109/121 [2:25:40<1:39:38, 498.23s/it]"
     ]
    },
    {
     "name": "stdout",
     "output_type": "stream",
     "text": [
      "There were 90 nodes added, the longest remaining link is now: 18831.21318081247\n"
     ]
    },
    {
     "name": "stderr",
     "output_type": "stream",
     "text": [
      "\r",
      " 91%|███████████████████████████████▊   | 110/121 [2:36:24<1:39:24, 542.23s/it]"
     ]
    },
    {
     "name": "stdout",
     "output_type": "stream",
     "text": [
      "There were 100 nodes added, the longest remaining link is now: 17397.58257727829\n"
     ]
    },
    {
     "name": "stderr",
     "output_type": "stream",
     "text": [
      "\r",
      " 92%|████████████████████████████████   | 111/121 [2:44:14<1:26:45, 520.57s/it]"
     ]
    },
    {
     "name": "stdout",
     "output_type": "stream",
     "text": [
      "There were 100 nodes added, the longest remaining link is now: 17397.58257727829\n"
     ]
    },
    {
     "name": "stderr",
     "output_type": "stream",
     "text": [
      "\r",
      " 93%|████████████████████████████████▍  | 112/121 [2:54:45<1:23:00, 553.42s/it]"
     ]
    },
    {
     "name": "stdout",
     "output_type": "stream",
     "text": [
      "There were 100 nodes added, the longest remaining link is now: 17397.58257727829\n"
     ]
    },
    {
     "name": "stderr",
     "output_type": "stream",
     "text": [
      "\r",
      " 93%|████████████████████████████████▋  | 113/121 [3:07:48<1:23:00, 622.53s/it]"
     ]
    },
    {
     "name": "stdout",
     "output_type": "stream",
     "text": [
      "There were 100 nodes added, the longest remaining link is now: 17397.58257727829\n"
     ]
    },
    {
     "name": "stderr",
     "output_type": "stream",
     "text": [
      "\r",
      " 94%|████████████████████████████████▉  | 114/121 [3:23:19<1:23:24, 714.90s/it]"
     ]
    },
    {
     "name": "stdout",
     "output_type": "stream",
     "text": [
      "There were 100 nodes added, the longest remaining link is now: 17397.58257727829\n"
     ]
    },
    {
     "name": "stderr",
     "output_type": "stream",
     "text": [
      "\r",
      " 95%|█████████████████████████████████▎ | 115/121 [3:42:57<1:25:23, 853.93s/it]"
     ]
    },
    {
     "name": "stdout",
     "output_type": "stream",
     "text": [
      "There were 100 nodes added, the longest remaining link is now: 17397.58257727829\n"
     ]
    },
    {
     "name": "stderr",
     "output_type": "stream",
     "text": [
      "\r",
      " 96%|████████████████████████████████▌ | 116/121 [4:07:33<1:26:42, 1040.53s/it]"
     ]
    },
    {
     "name": "stdout",
     "output_type": "stream",
     "text": [
      "There were 100 nodes added, the longest remaining link is now: 17397.58257727829\n"
     ]
    },
    {
     "name": "stderr",
     "output_type": "stream",
     "text": [
      "\r",
      " 97%|████████████████████████████████▉ | 117/121 [4:35:36<1:22:13, 1233.40s/it]"
     ]
    },
    {
     "name": "stdout",
     "output_type": "stream",
     "text": [
      "There were 100 nodes added, the longest remaining link is now: 17397.58257727829\n"
     ]
    },
    {
     "name": "stderr",
     "output_type": "stream",
     "text": [
      "\r",
      " 98%|█████████████████████████████████▏| 118/121 [5:05:36<1:10:09, 1403.14s/it]"
     ]
    },
    {
     "name": "stdout",
     "output_type": "stream",
     "text": [
      "There were 100 nodes added, the longest remaining link is now: 17397.58257727829\n"
     ]
    },
    {
     "name": "stderr",
     "output_type": "stream",
     "text": [
      "\r",
      " 98%|███████████████████████████████████▍| 119/121 [5:38:18<52:21, 1570.82s/it]"
     ]
    },
    {
     "name": "stdout",
     "output_type": "stream",
     "text": [
      "There were 100 nodes added, the longest remaining link is now: 17397.58257727829\n"
     ]
    },
    {
     "name": "stderr",
     "output_type": "stream",
     "text": [
      "\r",
      " 99%|███████████████████████████████████▋| 120/121 [6:12:12<28:29, 1709.72s/it]"
     ]
    },
    {
     "name": "stdout",
     "output_type": "stream",
     "text": [
      "There were 100 nodes added, the longest remaining link is now: 17397.58257727829\n"
     ]
    },
    {
     "name": "stderr",
     "output_type": "stream",
     "text": [
      "100%|█████████████████████████████████████| 121/121 [6:48:53<00:00, 202.75s/it]\n",
      "[MainProcess/INFO] experiments finished\n"
     ]
    }
   ],
   "source": [
    "ema_logging.log_to_stderr(ema_logging.INFO)\n",
    "\n",
    "with SequentialEvaluator(model) as evaluator:\n",
    "# with SequentialEvaluator(model) as evaluator:\n",
    "    experiments, outcomes = evaluator.perform_experiments(scenarios=11, policies=11, uncertainty_sampling=Samplers.FF, lever_sampling=Samplers.FF)"
   ]
  },
  {
   "cell_type": "code",
   "execution_count": null,
   "id": "f7b48849-5ffe-4a2e-b668-312654e3ddda",
   "metadata": {
    "scrolled": true
   },
   "outputs": [],
   "source": [
    "# %%time\n",
    "# plot_dict = {'r':[], 'additional_nodes':[], 'add_nodes_in_routes':[], 'servable_fraction':[]}\n",
    "# for r in np.arange(40000, 150000, 10000):\n",
    "#     for add_nodes in np.arange(0, 101, 10):\n",
    "#         additional_nodes, serveable_fraction = AddNodeEffect(r, add_nodes)\n",
    "#         plot_dict['r'].append(r)\n",
    "#         plot_dict['additional_nodes'].append(add_nodes)\n",
    "#         # plot_dict['add_nodes_in_routes'].append(extra_nodes_used)\n",
    "#         plot_dict['servable_fraction'].append(serveable_fraction)\n",
    "#         print(r, add_nodes)\n"
   ]
  },
  {
   "cell_type": "code",
   "execution_count": 3,
   "id": "dc53f8a5",
   "metadata": {},
   "outputs": [],
   "source": [
    "# pickle.dump( experiments, open( \"results/experiments_increasing_range_and_n.p\", \"wb\" ) )\n",
    "# pickle.dump( outcomes, open(\"results/outcomes_increasing_range_and_n.p\", \"wb\") )\n",
    "experiments = pickle.load(open(\"results/experiments_increasing_range_and_n.p\", \"rb\"))\n",
    "outcomes = pickle.load(open(\"results/outcomes_increasing_range_and_n.p\", \"rb\"))"
   ]
  },
  {
   "cell_type": "code",
   "execution_count": 4,
   "outputs": [],
   "source": [
    "df = pd.merge(experiments,pd.DataFrame(outcomes), left_index=True, right_index=True)"
   ],
   "metadata": {
    "collapsed": false
   }
  },
  {
   "cell_type": "code",
   "execution_count": 17,
   "outputs": [
    {
     "data": {
      "text/plain": "array([ 50000,  70000,  90000, 110000, 130000, 150000])"
     },
     "execution_count": 17,
     "metadata": {},
     "output_type": "execute_result"
    }
   ],
   "source": [
    "np.arange(50000, 150001, 20000)"
   ],
   "metadata": {
    "collapsed": false
   }
  },
  {
   "cell_type": "code",
   "execution_count": 23,
   "id": "9c21d10a",
   "metadata": {
    "scrolled": false
   },
   "outputs": [
    {
     "data": {
      "text/plain": "<Figure size 1280x960 with 1 Axes>",
      "image/png": "[encoded data removed]"
     },
     "metadata": {},
     "output_type": "display_data"
    }
   ],
   "source": [
    "plt.subplots(dpi=200)\n",
    "sns.lineplot(x='n', y='serviceable_fraction', hue='r', data=df.loc[df.r.isin(np.arange(50000, 150001, 20000))])\n",
    "plt.xlabel(\"Nodes inserted [#]\")\n",
    "plt.ylabel(\"Serviceable fraction [-]\")\n",
    "# plt.legend(title='Ship range',labels=['50km', '60km', '70km', '80km', '90km', '100km', '110km', '120km', '130km', '140km', '150km'])\n",
    "plt.legend(title='Ship range [km]',labels=['50', '70', '90', '110', '130', '150'])\n",
    "plt.show()"
   ]
  },
  {
   "cell_type": "code",
   "execution_count": null,
   "id": "d33dc5e1-e051-4d01-98fc-b03350f749c5",
   "metadata": {},
   "outputs": [],
   "source": [
    "plot_dict1 = pickle.load(open('data/plot_dict_0_100_till150.p', 'rb'))\n",
    "plot_dict2 = pickle.load(open('data/plot_dict_0_70_175-250.p', 'rb'))"
   ]
  },
  {
   "cell_type": "code",
   "execution_count": null,
   "id": "e0b62466-6a04-47d1-9a85-7131c9e845a3",
   "metadata": {},
   "outputs": [],
   "source": [
    "plot_dict1 = pd.DataFrame.from_dict(plot_dict1)\n",
    "plot_dict2 = pd.DataFrame.from_dict(plot_dict2)"
   ]
  },
  {
   "cell_type": "code",
   "execution_count": null,
   "id": "30822088-5895-452f-8d44-3d9ca2275cee",
   "metadata": {},
   "outputs": [],
   "source": [
    "plot_dict = pd.concat([plot_dict1, plot_dict2])"
   ]
  },
  {
   "cell_type": "code",
   "execution_count": null,
   "id": "320c46f9-3502-4cf9-87eb-f9377e99c6be",
   "metadata": {},
   "outputs": [],
   "source": [
    "plot_dictl"
   ]
  },
  {
   "cell_type": "code",
   "execution_count": null,
   "id": "1960257d-879b-4c4d-8d58-240f378c0177",
   "metadata": {},
   "outputs": [],
   "source": [
    "sns.lineplot(x='additional_nodes', y='servable_fraction', hue='r', data=plot_dict1)\n",
    "plt.show()"
   ]
  },
  {
   "cell_type": "code",
   "execution_count": null,
   "id": "7dd40fcd-ac92-4a99-bcb5-fed7e89b6cb2",
   "metadata": {},
   "outputs": [],
   "source": [
    "sns.lineplot(x='additional_nodes', y='add_nodes_in_routes', hue='r', data=plot_dict1)\n",
    "plt.show()"
   ]
  },
  {
   "cell_type": "code",
   "execution_count": null,
   "id": "366645e1-beaf-4901-86b3-c38dd2c54312",
   "metadata": {},
   "outputs": [],
   "source": [
    "sns.lineplot(x='additional_nodes', y='servable_fraction', hue='r', data=plot_dict1)\n",
    "plt.show()"
   ]
  },
  {
   "cell_type": "code",
   "execution_count": null,
   "id": "e7e076a0-aee8-4e13-968c-bd73f456ab10",
   "metadata": {},
   "outputs": [],
   "source": [
    "sns.lineplot(x='additional_nodes', y='add_nodes_in_routes', hue='r', data=plot_dict1)\n",
    "plt.show()"
   ]
  },
  {
   "cell_type": "markdown",
   "id": "91259fd7",
   "metadata": {},
   "source": [
    "## New"
   ]
  },
  {
   "cell_type": "code",
   "execution_count": 1,
   "id": "33bf9d06",
   "metadata": {},
   "outputs": [],
   "source": [
    "import networkx as nx\n",
    "import pickle\n",
    "import pandas as pd\n",
    "import geopy.distance\n",
    "import matplotlib.pyplot as plt\n",
    "from generate_network import generate_network\n",
    "pd.options.mode.chained_assignment = None  # default='warn'\n",
    "\n",
    "G = pickle.load(open('data/network_cleaned_final.p', 'rb'))\n",
    "df_h = pickle.load(open(\"data/revised_cleaning_results/harbour_data_100.p\", \"rb\"))\n",
    "paths = pickle.load(open('data/final_paths.p', \"rb\"))\n",
    "\n",
    "df_nodes = pd.DataFrame.from_dict(dict(G.nodes(data=True)), orient='index')\n",
    "\n",
    "pos_dict = {}\n",
    "for node in G.nodes:\n",
    "    pos_dict[node] = (G.nodes[node]['X'], G.nodes[node]['Y'])\n",
    "\n",
    "r= 70000"
   ]
  },
  {
   "cell_type": "code",
   "execution_count": 2,
   "id": "b646dc53",
   "metadata": {},
   "outputs": [
    {
     "name": "stdout",
     "output_type": "stream",
     "text": [
      "There were 34 nodes added, the longest remaining link is now: 29452.788060354498\n"
     ]
    }
   ],
   "source": [
    "G, paths, inserted = generate_network(G, paths)"
   ]
  },
  {
   "cell_type": "code",
   "execution_count": 3,
   "id": "7fc24b85",
   "metadata": {},
   "outputs": [
    {
     "name": "stdout",
     "output_type": "stream",
     "text": [
      "5 intersections were added\n"
     ]
    }
   ],
   "source": [
    "from determine_additional_nodes import determine_additional_nodes\n",
    "\n",
    "additional_intersections = determine_additional_nodes(G, df_h, r)\n"
   ]
  },
  {
   "cell_type": "code",
   "execution_count": 4,
   "id": "96ca906c",
   "metadata": {},
   "outputs": [],
   "source": [
    "df_nodes = pd.DataFrame.from_dict(dict(G.nodes(data=True)), orient='index')\n",
    "\n",
    "pos_dict = {}\n",
    "for node in G.nodes:\n",
    "    pos_dict[node] = (G.nodes[node]['X'], G.nodes[node]['Y'])"
   ]
  },
  {
   "cell_type": "code",
   "execution_count": 5,
   "id": "e7304a3c",
   "metadata": {},
   "outputs": [],
   "source": [
    "edge_list1 = []\n",
    "for i in range(len(paths[('NLAMS', 'NLOSS', 0)])-1):\n",
    "    edge_list1.append((paths[('NLAMS', 'NLOSS', 0)][i],paths[('NLAMS', 'NLOSS', 0)][i+1]))"
   ]
  },
  {
   "cell_type": "code",
   "execution_count": 6,
   "id": "80b4d071",
   "metadata": {},
   "outputs": [
    {
     "data": {
      "text/plain": [
       "[('8866429', '8863656'),\n",
       " ('8863656', '8863272'),\n",
       " ('8863272', '8866747'),\n",
       " ('8866747', '8863796'),\n",
       " ('8863796', '8862592'),\n",
       " ('8862592', '8864384'),\n",
       " ('8864384', '8865887'),\n",
       " ('8865887', '8864837'),\n",
       " ('8864837', '8860732'),\n",
       " ('8860732', '8865846'),\n",
       " ('8865846', '8866095'),\n",
       " ('8866095', '8860631'),\n",
       " ('8860631', '8862340'),\n",
       " ('8862340', '8862202'),\n",
       " ('8862202', '8861996'),\n",
       " ('8861996', '8865631'),\n",
       " ('8865631', '8865735'),\n",
       " ('8865735', '8865119'),\n",
       " ('8865119', '8860920'),\n",
       " ('8860920', '8862570')]"
      ]
     },
     "execution_count": 6,
     "metadata": {},
     "output_type": "execute_result"
    }
   ],
   "source": [
    "edge_list1"
   ]
  },
  {
   "cell_type": "code",
   "execution_count": 7,
   "id": "635cefe4",
   "metadata": {},
   "outputs": [
    {
     "data": {
      "image/png": "[encoded data removed]",
      "text/plain": [
       "<Figure size 900x900 with 1 Axes>"
      ]
     },
     "metadata": {},
     "output_type": "display_data"
    }
   ],
   "source": [
    "fig, ax = plt.subplots(figsize=(9,9), dpi=100)\n",
    "nx.draw_networkx_edges(G, pos_dict, width=2, ax=ax)\n",
    "# nx.draw_networkx_edges(G, pos_dict,edge_list1, width=2, edge_color='r', label='route AMS to OSS')\n",
    "# nx.draw_networkx_nodes(G, pos_dict, node_size=30)\n",
    "nx.draw_networkx_nodes(G, pos_dict, inserted, node_size=30, node_color = 'b', label = 'inserted_nodes')\n",
    "nx.draw_networkx_nodes(G, pos_dict, list(df_h.harbour_node), node_size=30, node_color = 'r', label='harbours')\n",
    "nx.draw_networkx_nodes(G, pos_dict, list(additional_intersections), node_size=30, node_color = 'g', label='additional_intersections')\n",
    "# nx.draw_networkx_nodes(G, pos_dict, ['8866763', '8864837', '8862570'], node_size=30, node_color = 'y', label='harbours on route')\n",
    "plt.title(\"Network with additional nodes and intersections considering a range of 70km\", fontsize=16)\n",
    "plt.legend(fontsize=16)\n",
    "plt.show()"
   ]
  },
  {
   "cell_type": "code",
   "execution_count": null,
   "id": "ecd160da",
   "metadata": {},
   "outputs": [],
   "source": []
  }
 ],
 "metadata": {
  "kernelspec": {
   "display_name": "Python 3 (ipykernel)",
   "language": "python",
   "name": "python3"
  },
  "language_info": {
   "codemirror_mode": {
    "name": "ipython",
    "version": 3
   },
   "file_extension": ".py",
   "mimetype": "text/x-python",
   "name": "python",
   "nbconvert_exporter": "python",
   "pygments_lexer": "ipython3",
   "version": "3.10.6"
  }
 },
 "nbformat": 4,
 "nbformat_minor": 5
}
